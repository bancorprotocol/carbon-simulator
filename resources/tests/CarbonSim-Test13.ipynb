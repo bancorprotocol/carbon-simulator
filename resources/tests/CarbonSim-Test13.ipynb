{
 "cells": [
  {
   "cell_type": "code",
   "execution_count": 1,
   "id": "81b04bbc",
   "metadata": {},
   "outputs": [],
   "source": [
    "from carbon import CarbonSimulatorUI\n",
    "from carbon.simulators.carbon_simulator import (\n",
    "    __version__ as uiversion,\n",
    "    __date__ as uidate,\n",
    ")\n",
    "from jupyformat import *"
   ]
  },
  {
   "cell_type": "code",
   "execution_count": 2,
   "id": "8ec7dcd6",
   "metadata": {},
   "outputs": [
    {
     "name": "stdout",
     "output_type": "stream",
     "text": [
      "[carbon_simulator] version 0.9.10.1 12/Nov/2022\n"
     ]
    },
    {
     "data": {
      "text/html": [
       "<div style='color:green; font-size: 120%'><p><strong>This notebook passed verification.</strong></p></div>"
      ],
      "text/plain": [
       "<IPython.core.display.HTML object>"
      ]
     },
     "execution_count": 2,
     "metadata": {},
     "output_type": "execute_result"
    }
   ],
   "source": [
    "print(\"[carbon_simulator] version\", uiversion, uidate)\n",
    "jp()"
   ]
  },
  {
   "cell_type": "markdown",
   "id": "04af7ee4",
   "metadata": {},
   "source": [
    "# Carbon Simulation - Test 13"
   ]
  },
  {
   "cell_type": "markdown",
   "id": "1639f05e",
   "metadata": {},
   "source": [
    "Set up the simulation"
   ]
  },
  {
   "cell_type": "code",
   "execution_count": 3,
   "id": "b987b57a",
   "metadata": {},
   "outputs": [
    {
     "data": {
      "text/plain": [
       "CarbonSimulatorUI(<0 positions, 0 trades>, pair='None')"
      ]
     },
     "execution_count": 3,
     "metadata": {},
     "output_type": "execute_result"
    }
   ],
   "source": [
    "Sim = CarbonSimulatorUI(verbose=False)\n",
    "Sim"
   ]
  },
  {
   "cell_type": "markdown",
   "id": "ec6b3239",
   "metadata": {},
   "source": [
    "Checking that the UI is robust against inverting the range"
   ]
  },
  {
   "cell_type": "code",
   "execution_count": 4,
   "id": "c5a36559",
   "metadata": {},
   "outputs": [
    {
     "name": "stdout",
     "output_type": "stream",
     "text": [
      "[_add_pos] swapped p_lo, p_hi\n"
     ]
    },
    {
     "data": {
      "text/plain": [
       "CarbonSimulatorUI(<2 positions, 0 trades>, pair='None')"
      ]
     },
     "execution_count": 4,
     "metadata": {},
     "output_type": "execute_result"
    }
   ],
   "source": [
    "Sim.add_sgl_pos(\"ETH\", 10, 2000, 3000, pair=\"ETHUSDC\")\n",
    "Sim.add_sgl_pos(\"ETH\", 10, 3000, 2000, pair=\"ETHUSDC\")\n",
    "Sim"
   ]
  },
  {
   "cell_type": "code",
   "execution_count": 5,
   "id": "c9e66678",
   "metadata": {},
   "outputs": [
    {
     "name": "stdout",
     "output_type": "stream",
     "text": [
      "[_add_pos] swapped p_lo, p_hi\n"
     ]
    },
    {
     "data": {
      "text/plain": [
       "CarbonSimulatorUI(<4 positions, 0 trades>, pair='None')"
      ]
     },
     "execution_count": 5,
     "metadata": {},
     "output_type": "execute_result"
    }
   ],
   "source": [
    "Sim.add_sgl_pos(\"USDC\", 10000, 1000, 500, pair=\"ETHUSDC\")\n",
    "Sim.add_sgl_pos(\"USDC\", 10000, 1000, 1500, pair=\"ETHUSDC\")\n",
    "Sim"
   ]
  },
  {
   "cell_type": "code",
   "execution_count": 6,
   "id": "17acbdc3",
   "metadata": {},
   "outputs": [
    {
     "data": {
      "text/html": [
       "<div>\n",
       "<style scoped>\n",
       "    .dataframe tbody tr th:only-of-type {\n",
       "        vertical-align: middle;\n",
       "    }\n",
       "\n",
       "    .dataframe tbody tr th {\n",
       "        vertical-align: top;\n",
       "    }\n",
       "\n",
       "    .dataframe thead th {\n",
       "        text-align: right;\n",
       "    }\n",
       "</style>\n",
       "<table border=\"1\" class=\"dataframe\">\n",
       "  <thead>\n",
       "    <tr style=\"text-align: right;\">\n",
       "      <th></th>\n",
       "      <th>id</th>\n",
       "      <th>pair</th>\n",
       "      <th>tkn_name</th>\n",
       "      <th>y_int</th>\n",
       "      <th>y</th>\n",
       "      <th>y_unit</th>\n",
       "      <th>p_start</th>\n",
       "      <th>p_end</th>\n",
       "      <th>p_unit</th>\n",
       "      <th>linked_to_id</th>\n",
       "    </tr>\n",
       "  </thead>\n",
       "  <tbody>\n",
       "    <tr>\n",
       "      <th>0</th>\n",
       "      <td>0</td>\n",
       "      <td>ETHUSDC</td>\n",
       "      <td>ETH</td>\n",
       "      <td>10.000000</td>\n",
       "      <td>10.000000</td>\n",
       "      <td>ETH</td>\n",
       "      <td>2000.000000</td>\n",
       "      <td>3000.000000</td>\n",
       "      <td>USDC per ETH</td>\n",
       "      <td>0</td>\n",
       "    </tr>\n",
       "    <tr>\n",
       "      <th>1</th>\n",
       "      <td>1</td>\n",
       "      <td>ETHUSDC</td>\n",
       "      <td>ETH</td>\n",
       "      <td>10.000000</td>\n",
       "      <td>10.000000</td>\n",
       "      <td>ETH</td>\n",
       "      <td>2000.000000</td>\n",
       "      <td>3000.000000</td>\n",
       "      <td>USDC per ETH</td>\n",
       "      <td>1</td>\n",
       "    </tr>\n",
       "    <tr>\n",
       "      <th>2</th>\n",
       "      <td>2</td>\n",
       "      <td>ETHUSDC</td>\n",
       "      <td>USDC</td>\n",
       "      <td>10000.000000</td>\n",
       "      <td>10000.000000</td>\n",
       "      <td>USDC</td>\n",
       "      <td>1000.000000</td>\n",
       "      <td>500.000000</td>\n",
       "      <td>USDC per ETH</td>\n",
       "      <td>2</td>\n",
       "    </tr>\n",
       "    <tr>\n",
       "      <th>3</th>\n",
       "      <td>3</td>\n",
       "      <td>ETHUSDC</td>\n",
       "      <td>USDC</td>\n",
       "      <td>10000.000000</td>\n",
       "      <td>10000.000000</td>\n",
       "      <td>USDC</td>\n",
       "      <td>1500.000000</td>\n",
       "      <td>1000.000000</td>\n",
       "      <td>USDC per ETH</td>\n",
       "      <td>3</td>\n",
       "    </tr>\n",
       "  </tbody>\n",
       "</table>\n",
       "</div>"
      ],
      "text/plain": [
       "   id     pair tkn_name         y_int             y y_unit      p_start  \\\n",
       "0   0  ETHUSDC      ETH     10.000000     10.000000    ETH  2000.000000   \n",
       "1   1  ETHUSDC      ETH     10.000000     10.000000    ETH  2000.000000   \n",
       "2   2  ETHUSDC     USDC  10000.000000  10000.000000   USDC  1000.000000   \n",
       "3   3  ETHUSDC     USDC  10000.000000  10000.000000   USDC  1500.000000   \n",
       "\n",
       "         p_end        p_unit  linked_to_id  \n",
       "0  3000.000000  USDC per ETH             0  \n",
       "1  3000.000000  USDC per ETH             1  \n",
       "2   500.000000  USDC per ETH             2  \n",
       "3  1000.000000  USDC per ETH             3  "
      ]
     },
     "execution_count": 6,
     "metadata": {},
     "output_type": "execute_result"
    }
   ],
   "source": [
    "Sim.state(pair=\"ETHUSDC\")[\"orders\"]"
   ]
  },
  {
   "cell_type": "code",
   "execution_count": 7,
   "id": "761009d3",
   "metadata": {},
   "outputs": [
    {
     "name": "stdout",
     "output_type": "stream",
     "text": [
      "[_add_pos] swapped p_lo, p_hi\n",
      "[_add_pos] swapped p_lo, p_hi\n"
     ]
    },
    {
     "data": {
      "text/plain": [
       "CarbonSimulatorUI(<6 positions, 0 trades>, pair='None')"
      ]
     },
     "execution_count": 7,
     "metadata": {},
     "output_type": "execute_result"
    }
   ],
   "source": [
    "Sim.add_linked_pos(\"BAT\", 10, 12., 10, 0, 5, 7.5, pair=\"BATMAN\")\n",
    "Sim"
   ]
  },
  {
   "cell_type": "code",
   "execution_count": 8,
   "id": "2ea3ffec",
   "metadata": {},
   "outputs": [
    {
     "data": {
      "text/plain": [
       "CarbonSimulatorUI(<8 positions, 0 trades>, pair='None')"
      ]
     },
     "execution_count": 8,
     "metadata": {},
     "output_type": "execute_result"
    }
   ],
   "source": [
    "Sim.add_linked_pos(\"BAT\", 10, 10, 12.5, 0, 7.5, 5, pair=\"BATMAN\")\n",
    "Sim"
   ]
  },
  {
   "cell_type": "code",
   "execution_count": 9,
   "id": "602125d5",
   "metadata": {},
   "outputs": [
    {
     "data": {
      "text/html": [
       "<div>\n",
       "<style scoped>\n",
       "    .dataframe tbody tr th:only-of-type {\n",
       "        vertical-align: middle;\n",
       "    }\n",
       "\n",
       "    .dataframe tbody tr th {\n",
       "        vertical-align: top;\n",
       "    }\n",
       "\n",
       "    .dataframe thead th {\n",
       "        text-align: right;\n",
       "    }\n",
       "</style>\n",
       "<table border=\"1\" class=\"dataframe\">\n",
       "  <thead>\n",
       "    <tr style=\"text-align: right;\">\n",
       "      <th></th>\n",
       "      <th>id</th>\n",
       "      <th>pair</th>\n",
       "      <th>tkn_name</th>\n",
       "      <th>y_int</th>\n",
       "      <th>y</th>\n",
       "      <th>y_unit</th>\n",
       "      <th>p_start</th>\n",
       "      <th>p_end</th>\n",
       "      <th>p_unit</th>\n",
       "      <th>linked_to_id</th>\n",
       "    </tr>\n",
       "  </thead>\n",
       "  <tbody>\n",
       "    <tr>\n",
       "      <th>4</th>\n",
       "      <td>4</td>\n",
       "      <td>BATMAN</td>\n",
       "      <td>BAT</td>\n",
       "      <td>10.000000</td>\n",
       "      <td>10.000000</td>\n",
       "      <td>BAT</td>\n",
       "      <td>10.000000</td>\n",
       "      <td>12.000000</td>\n",
       "      <td>MAN per BAT</td>\n",
       "      <td>5</td>\n",
       "    </tr>\n",
       "    <tr>\n",
       "      <th>5</th>\n",
       "      <td>5</td>\n",
       "      <td>BATMAN</td>\n",
       "      <td>MAN</td>\n",
       "      <td>0.000000</td>\n",
       "      <td>0.000000</td>\n",
       "      <td>MAN</td>\n",
       "      <td>7.500000</td>\n",
       "      <td>5.000000</td>\n",
       "      <td>MAN per BAT</td>\n",
       "      <td>4</td>\n",
       "    </tr>\n",
       "    <tr>\n",
       "      <th>6</th>\n",
       "      <td>6</td>\n",
       "      <td>BATMAN</td>\n",
       "      <td>BAT</td>\n",
       "      <td>10.000000</td>\n",
       "      <td>10.000000</td>\n",
       "      <td>BAT</td>\n",
       "      <td>10.000000</td>\n",
       "      <td>12.500000</td>\n",
       "      <td>MAN per BAT</td>\n",
       "      <td>7</td>\n",
       "    </tr>\n",
       "    <tr>\n",
       "      <th>7</th>\n",
       "      <td>7</td>\n",
       "      <td>BATMAN</td>\n",
       "      <td>MAN</td>\n",
       "      <td>0.000000</td>\n",
       "      <td>0.000000</td>\n",
       "      <td>MAN</td>\n",
       "      <td>7.500000</td>\n",
       "      <td>5.000000</td>\n",
       "      <td>MAN per BAT</td>\n",
       "      <td>6</td>\n",
       "    </tr>\n",
       "  </tbody>\n",
       "</table>\n",
       "</div>"
      ],
      "text/plain": [
       "   id    pair tkn_name      y_int          y y_unit    p_start      p_end  \\\n",
       "4   4  BATMAN      BAT  10.000000  10.000000    BAT  10.000000  12.000000   \n",
       "5   5  BATMAN      MAN   0.000000   0.000000    MAN   7.500000   5.000000   \n",
       "6   6  BATMAN      BAT  10.000000  10.000000    BAT  10.000000  12.500000   \n",
       "7   7  BATMAN      MAN   0.000000   0.000000    MAN   7.500000   5.000000   \n",
       "\n",
       "        p_unit  linked_to_id  \n",
       "4  MAN per BAT             5  \n",
       "5  MAN per BAT             4  \n",
       "6  MAN per BAT             7  \n",
       "7  MAN per BAT             6  "
      ]
     },
     "execution_count": 9,
     "metadata": {},
     "output_type": "execute_result"
    }
   ],
   "source": [
    "Sim.state(pair=\"BATMAN\")[\"orders\"]"
   ]
  },
  {
   "cell_type": "code",
   "execution_count": null,
   "id": "4f2bf2ee",
   "metadata": {},
   "outputs": [],
   "source": []
  }
 ],
 "metadata": {
  "jupytext": {
   "formats": "ipynb,py:light"
  },
  "kernelspec": {
   "display_name": "Python 3",
   "language": "python",
   "name": "python3"
  },
  "language_info": {
   "codemirror_mode": {
    "name": "ipython",
    "version": 3
   },
   "file_extension": ".py",
   "mimetype": "text/x-python",
   "name": "python",
   "nbconvert_exporter": "python",
   "pygments_lexer": "ipython3",
   "version": "3.8.8"
  }
 },
 "nbformat": 4,
 "nbformat_minor": 5
}
