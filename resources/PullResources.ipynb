{
 "cells": [
  {
   "cell_type": "markdown",
   "id": "1cc670ef",
   "metadata": {},
   "source": [
    "# Pull Resources"
   ]
  },
  {
   "cell_type": "code",
   "execution_count": 18,
   "id": "f627c2c0",
   "metadata": {},
   "outputs": [],
   "source": [
    "SRC = \"../../CarbonTheory/papers/code/src\"\n",
    "DST = \"whitepaper\""
   ]
  },
  {
   "cell_type": "code",
   "execution_count": 13,
   "id": "23bd4e2a",
   "metadata": {},
   "outputs": [
    {
     "name": "stdout",
     "output_type": "stream",
     "text": [
      "AllFormulas.ipynb                   Taglib-Test.py\r\n",
      "AllFormulas.py                      TestFormulas1.py\r\n",
      "CarbonCalculations.ipynb            TestFormulas2.py\r\n",
      "CarbonCalculations.py               Various Analysis.ipynb\r\n",
      "CarbonCalculationsOLD-WITHRANGES.py __init__.py\r\n",
      "CarbonPapers.ipynb                  \u001b[34m__pycache__\u001b[m\u001b[m\r\n",
      "CarbonPapers.py                     formulalib.py\r\n",
      "FormulaImport.ipynb                 formulas.ipynb\r\n",
      "FormulaImport.py                    formulasobj.py\r\n",
      "FormulaLib-Test.py                  taglib.py\r\n",
      "Taglib Test.ipynb\r\n"
     ]
    }
   ],
   "source": [
    "!ls {SRC}"
   ]
  },
  {
   "cell_type": "code",
   "execution_count": 19,
   "id": "5291de69",
   "metadata": {},
   "outputs": [
    {
     "name": "stdout",
     "output_type": "stream",
     "text": [
      "CarbonCalculations.ipynb \u001b[34m__pycache__\u001b[m\u001b[m              taglib.py\r\n",
      "CarbonCalculations.py    formulalib.py\r\n"
     ]
    }
   ],
   "source": [
    "!ls {DST}"
   ]
  },
  {
   "cell_type": "code",
   "execution_count": 25,
   "id": "0f8b01af",
   "metadata": {},
   "outputs": [
    {
     "name": "stdout",
     "output_type": "stream",
     "text": [
      "cp -v ../../CarbonTheory/papers/code/src/CarbonCalculations.ipynb whitepaper/CarbonCalculations.ipynb\n",
      "cp -v ../../CarbonTheory/papers/code/src/CarbonCalculations.py whitepaper/CarbonCalculations.py\n",
      "cp -v ../../CarbonTheory/papers/code/src/taglib.py whitepaper/taglib.py\n",
      "cp -v ../../CarbonTheory/papers/code/src/formulalib.py whitepaper/formulalib.py\n"
     ]
    }
   ],
   "source": [
    "COMMANDS = \"\"\"\n",
    "#!/bin/bash\n",
    "cd \"$(dirname \"$0\")\"\n",
    "\n",
    "\"\"\"\n",
    "for fn in [\"CarbonCalculations.ipynb\", \"CarbonCalculations.py\", \"taglib.py\", \"formulalib.py\"]:\n",
    "    cmd = f\"cp -v {SRC}/{fn} {DST}/{fn}\"\n",
    "    print (cmd)\n",
    "    COMMANDS += f\"{cmd}\\n\""
   ]
  },
  {
   "cell_type": "code",
   "execution_count": 26,
   "id": "f407cd47",
   "metadata": {},
   "outputs": [
    {
     "name": "stdout",
     "output_type": "stream",
     "text": [
      "\n",
      "#!/bin/bash\n",
      "cd \"$(dirname \"$0\")\"\n",
      "\n",
      "cp -v ../../CarbonTheory/papers/code/src/CarbonCalculations.ipynb whitepaper/CarbonCalculations.ipynb\n",
      "cp -v ../../CarbonTheory/papers/code/src/CarbonCalculations.py whitepaper/CarbonCalculations.py\n",
      "cp -v ../../CarbonTheory/papers/code/src/taglib.py whitepaper/taglib.py\n",
      "cp -v ../../CarbonTheory/papers/code/src/formulalib.py whitepaper/formulalib.py\n",
      "\n"
     ]
    }
   ],
   "source": [
    "print(COMMANDS)"
   ]
  },
  {
   "cell_type": "code",
   "execution_count": null,
   "id": "a3f9878c",
   "metadata": {},
   "outputs": [],
   "source": []
  }
 ],
 "metadata": {
  "jupytext": {
   "formats": "ipynb,auto:light"
  },
  "kernelspec": {
   "display_name": "Python 3",
   "language": "python",
   "name": "python3"
  },
  "language_info": {
   "codemirror_mode": {
    "name": "ipython",
    "version": 3
   },
   "file_extension": ".py",
   "mimetype": "text/x-python",
   "name": "python",
   "nbconvert_exporter": "python",
   "pygments_lexer": "ipython3",
   "version": "3.8.8"
  }
 },
 "nbformat": 4,
 "nbformat_minor": 5
}
