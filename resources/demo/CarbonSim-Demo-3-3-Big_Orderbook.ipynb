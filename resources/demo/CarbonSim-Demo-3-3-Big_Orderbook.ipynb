{
 "cells": [
  {
   "cell_type": "code",
   "execution_count": 1,
   "id": "81b04bbc",
   "metadata": {
    "lines_to_next_cell": 2,
    "scrolled": true
   },
   "outputs": [
    {
     "name": "stdout",
     "output_type": "stream",
     "text": [
      "Carbon Version v2.2-BETA3 (06/Jan/2022)\n",
      "Analytics Version v2.1-beta2 (7/Jan/2022)\n"
     ]
    }
   ],
   "source": [
    "from carbon import P, CarbonOrderUI, CarbonSimulatorUI, analytics as cal, __version__, __date__\n",
    "from carbon.fls import fload, fsave\n",
    "import numpy as np\n",
    "from matplotlib import pyplot as plt\n",
    "import pandas as pd\n",
    "from collections import namedtuple\n",
    "print(f\"Carbon Version v{__version__} ({__date__})\", )\n",
    "print (f\"Analytics Version v{cal.__version__} ({cal.__date__})\")"
   ]
  },
  {
   "cell_type": "markdown",
   "id": "04af7ee4",
   "metadata": {},
   "source": [
    "# Carbon Simulation - Demo 3-3 (Big Orderbook)\n",
    "\n",
    "In this demo we look at an **order book**. It is very similar to 3-2 except that we now import the orderbook from a file, and that it is substantially bigger. We also trimmed down the analysis"
   ]
  },
  {
   "cell_type": "code",
   "execution_count": 2,
   "id": "215818df",
   "metadata": {},
   "outputs": [],
   "source": [
    "DATAPATH = \"data\"\n",
    "\n",
    "DATAFN = \"template.json\"\n",
    "DATAFN = \"orders.json\""
   ]
  },
  {
   "cell_type": "code",
   "execution_count": 3,
   "id": "69768663",
   "metadata": {},
   "outputs": [
    {
     "name": "stdout",
     "output_type": "stream",
     "text": [
      "orders.json   template.json\r\n"
     ]
    }
   ],
   "source": [
    "!ls {DATAPATH}"
   ]
  },
  {
   "cell_type": "code",
   "execution_count": 4,
   "id": "3649a760",
   "metadata": {},
   "outputs": [
    {
     "name": "stdout",
     "output_type": "stream",
     "text": [
      "[fload] Reading orders.json from data\n",
      "Data: 256 orders, 0 prices\n"
     ]
    }
   ],
   "source": [
    "data = fload(DATAFN, DATAPATH, json=True)\n",
    "prices = data.get(\"prices\", [])\n",
    "print(f'Data: {len(data[\"orders\"])} orders, {len(prices)} prices')\n",
    "#data"
   ]
  },
  {
   "cell_type": "code",
   "execution_count": 5,
   "id": "4ee80195",
   "metadata": {},
   "outputs": [
    {
     "data": {
      "text/plain": [
       "{'amt': '254814732', 'pb': '256', 'pa': '257', 'pm': '257'}"
      ]
     },
     "execution_count": 5,
     "metadata": {},
     "output_type": "execute_result"
    }
   ],
   "source": [
    "data[\"orders\"][0]"
   ]
  },
  {
   "cell_type": "code",
   "execution_count": 6,
   "id": "22a38358",
   "metadata": {},
   "outputs": [
    {
     "data": {
      "text/plain": [
       "{'x': 'ETH',\n",
       " 'y': 'USDC',\n",
       " 'request': 'cumulative_liquidity',\n",
       " 'request_unit': 'y',\n",
       " 'price_unit': 'y/x',\n",
       " 'amt_unit': 'y'}"
      ]
     },
     "execution_count": 6,
     "metadata": {},
     "output_type": "execute_result"
    }
   ],
   "source": [
    "meta = data[\"meta\"]\n",
    "assert meta[\"request\"] == 'cumulative_liquidity'\n",
    "assert meta[\"request_unit\"] == 'y'\n",
    "assert meta[\"price_unit\"] == 'y/x'\n",
    "assert meta[\"amt_unit\"] == 'y'\n",
    "meta"
   ]
  },
  {
   "cell_type": "code",
   "execution_count": 7,
   "id": "bf6183e3",
   "metadata": {},
   "outputs": [
    {
     "data": {
      "text/plain": [
       "order_nt(pa=257, pb=256, pm=257, amt=254814732)"
      ]
     },
     "execution_count": 7,
     "metadata": {},
     "output_type": "execute_result"
    }
   ],
   "source": [
    "order_nt = namedtuple(\"order_nt\", \"pa, pb, pm, amt\")\n",
    "orders = [order_nt(**{k:int(v) for k,v in r.items()}) for r in data[\"orders\"]]\n",
    "orders[0]"
   ]
  },
  {
   "cell_type": "code",
   "execution_count": 8,
   "id": "67e85c9c",
   "metadata": {},
   "outputs": [
    {
     "data": {
      "text/plain": [
       "(1, 257)"
      ]
     },
     "execution_count": 8,
     "metadata": {},
     "output_type": "execute_result"
    }
   ],
   "source": [
    "minp = min(min(r.pa, r.pb) for r in orders)\n",
    "maxp = max(max(r.pa, r.pb) for r in orders)\n",
    "minp, maxp"
   ]
  },
  {
   "cell_type": "code",
   "execution_count": 9,
   "id": "88492493",
   "metadata": {},
   "outputs": [],
   "source": [
    "if not prices:\n",
    "    prices = np.linspace(minp,maxp, 100)\n",
    "    prices[:4]\n",
    "else:\n",
    "    prices = [float(p) for p in prices]"
   ]
  },
  {
   "cell_type": "code",
   "execution_count": 10,
   "id": "ea081c99",
   "metadata": {},
   "outputs": [],
   "source": [
    "inverted = [(r.pa, r.pb) for r in orders if r.pa <= r.pb]\n",
    "if inverted:\n",
    "    raise RuntimeError(\"Must have pa >= pb\", inverted)"
   ]
  },
  {
   "cell_type": "code",
   "execution_count": 11,
   "id": "62448b2f",
   "metadata": {},
   "outputs": [],
   "source": [
    "notfull = [(r.pa, r.pm) for r in orders if r.pa != r.pm]\n",
    "if notfull:\n",
    "    raise RuntimeError(\"Must have not have pa != pm\", notfull)"
   ]
  },
  {
   "cell_type": "code",
   "execution_count": 12,
   "id": "5fd80d76",
   "metadata": {},
   "outputs": [
    {
     "data": {
      "image/png": "[encoded data removed]",
      "text/plain": [
       "<Figure size 432x288 with 1 Axes>"
      ]
     },
     "metadata": {
      "needs_background": "light"
     },
     "output_type": "display_data"
    }
   ],
   "source": [
    "plt.plot([r.pa for r in orders], [r.amt for r in orders], marker=\"x\", label=\"pa\")\n",
    "plt.plot([r.pb for r in orders], [r.amt for r in orders], marker=\"o\", label=\"pb\")\n",
    "plt.title(\"Order book\")\n",
    "plt.xlabel(\"price [dy/dx units]\")\n",
    "plt.ylabel(\"liquidity [y units]\")\n",
    "plt.legend()\n",
    "plt.grid()"
   ]
  },
  {
   "cell_type": "code",
   "execution_count": 13,
   "id": "000982fe",
   "metadata": {},
   "outputs": [
    {
     "data": {
      "image/png": "[encoded data removed]",
      "text/plain": [
       "<Figure size 432x288 with 1 Axes>"
      ]
     },
     "metadata": {
      "needs_background": "light"
     },
     "output_type": "display_data"
    }
   ],
   "source": [
    "sizes = np.array([r.amt for r in orders])\n",
    "maxsize = max(sizes)\n",
    "plt.scatter([r.pa for r in orders], [r.pb for r in orders], s=sizes/maxsize*500)\n",
    "plt.title(\"Order book (size = liquidity)\")\n",
    "plt.xlabel(\"pa\")\n",
    "plt.ylabel(\"pb\")\n",
    "plt.grid()"
   ]
  },
  {
   "cell_type": "code",
   "execution_count": 14,
   "id": "878dd116",
   "metadata": {},
   "outputs": [],
   "source": [
    "#[r.amt for r in orders]"
   ]
  },
  {
   "cell_type": "markdown",
   "id": "b737183d",
   "metadata": {},
   "source": [
    "## Setup"
   ]
  },
  {
   "cell_type": "code",
   "execution_count": 15,
   "id": "761009d3",
   "metadata": {},
   "outputs": [],
   "source": [
    "PAIR = P(tknq=meta[\"y\"], tknb=meta[\"x\"])\n",
    "Sim = CarbonSimulatorUI(pair=PAIR, verbose=False, raiseonerror=True)\n",
    "CA = cal.Analytics(Sim, verbose=True)\n",
    "for o in orders:\n",
    "    Sim.add_order(meta[\"y\"], o.amt, o.pa, o.pb)"
   ]
  },
  {
   "cell_type": "code",
   "execution_count": 16,
   "id": "e09bd730",
   "metadata": {},
   "outputs": [
    {
     "data": {
      "text/html": [
       "<div>\n",
       "<style scoped>\n",
       "    .dataframe tbody tr th:only-of-type {\n",
       "        vertical-align: middle;\n",
       "    }\n",
       "\n",
       "    .dataframe tbody tr th {\n",
       "        vertical-align: top;\n",
       "    }\n",
       "\n",
       "    .dataframe thead th {\n",
       "        text-align: right;\n",
       "    }\n",
       "</style>\n",
       "<table border=\"1\" class=\"dataframe\">\n",
       "  <thead>\n",
       "    <tr style=\"text-align: right;\">\n",
       "      <th></th>\n",
       "      <th>id</th>\n",
       "      <th>pair</th>\n",
       "      <th>tkn</th>\n",
       "      <th>y_int</th>\n",
       "      <th>y</th>\n",
       "      <th>y_unit</th>\n",
       "      <th>disabled</th>\n",
       "      <th>p_start</th>\n",
       "      <th>p_end</th>\n",
       "      <th>p_marg</th>\n",
       "      <th>p_unit</th>\n",
       "      <th>lid</th>\n",
       "    </tr>\n",
       "  </thead>\n",
       "  <tbody>\n",
       "    <tr>\n",
       "      <th>0</th>\n",
       "      <td>0</td>\n",
       "      <td>ETHUSDC</td>\n",
       "      <td>USDC</td>\n",
       "      <td>254814732.0</td>\n",
       "      <td>254814732.0</td>\n",
       "      <td>USDC</td>\n",
       "      <td>False</td>\n",
       "      <td>257.0</td>\n",
       "      <td>256.0</td>\n",
       "      <td>257.0</td>\n",
       "      <td>USDC per ETH</td>\n",
       "      <td>1</td>\n",
       "    </tr>\n",
       "    <tr>\n",
       "      <th>2</th>\n",
       "      <td>2</td>\n",
       "      <td>ETHUSDC</td>\n",
       "      <td>USDC</td>\n",
       "      <td>253827078.0</td>\n",
       "      <td>253827078.0</td>\n",
       "      <td>USDC</td>\n",
       "      <td>False</td>\n",
       "      <td>256.0</td>\n",
       "      <td>255.0</td>\n",
       "      <td>256.0</td>\n",
       "      <td>USDC per ETH</td>\n",
       "      <td>3</td>\n",
       "    </tr>\n",
       "    <tr>\n",
       "      <th>4</th>\n",
       "      <td>4</td>\n",
       "      <td>ETHUSDC</td>\n",
       "      <td>USDC</td>\n",
       "      <td>252839424.0</td>\n",
       "      <td>252839424.0</td>\n",
       "      <td>USDC</td>\n",
       "      <td>False</td>\n",
       "      <td>255.0</td>\n",
       "      <td>254.0</td>\n",
       "      <td>255.0</td>\n",
       "      <td>USDC per ETH</td>\n",
       "      <td>5</td>\n",
       "    </tr>\n",
       "    <tr>\n",
       "      <th>6</th>\n",
       "      <td>6</td>\n",
       "      <td>ETHUSDC</td>\n",
       "      <td>USDC</td>\n",
       "      <td>251851770.0</td>\n",
       "      <td>251851770.0</td>\n",
       "      <td>USDC</td>\n",
       "      <td>False</td>\n",
       "      <td>254.0</td>\n",
       "      <td>253.0</td>\n",
       "      <td>254.0</td>\n",
       "      <td>USDC per ETH</td>\n",
       "      <td>7</td>\n",
       "    </tr>\n",
       "    <tr>\n",
       "      <th>8</th>\n",
       "      <td>8</td>\n",
       "      <td>ETHUSDC</td>\n",
       "      <td>USDC</td>\n",
       "      <td>6913578.0</td>\n",
       "      <td>6913578.0</td>\n",
       "      <td>USDC</td>\n",
       "      <td>False</td>\n",
       "      <td>6.0</td>\n",
       "      <td>5.0</td>\n",
       "      <td>6.0</td>\n",
       "      <td>USDC per ETH</td>\n",
       "      <td>9</td>\n",
       "    </tr>\n",
       "    <tr>\n",
       "      <th>...</th>\n",
       "      <td>...</td>\n",
       "      <td>...</td>\n",
       "      <td>...</td>\n",
       "      <td>...</td>\n",
       "      <td>...</td>\n",
       "      <td>...</td>\n",
       "      <td>...</td>\n",
       "      <td>...</td>\n",
       "      <td>...</td>\n",
       "      <td>...</td>\n",
       "      <td>...</td>\n",
       "      <td>...</td>\n",
       "    </tr>\n",
       "    <tr>\n",
       "      <th>502</th>\n",
       "      <td>502</td>\n",
       "      <td>ETHUSDC</td>\n",
       "      <td>USDC</td>\n",
       "      <td>250864116.0</td>\n",
       "      <td>250864116.0</td>\n",
       "      <td>USDC</td>\n",
       "      <td>False</td>\n",
       "      <td>253.0</td>\n",
       "      <td>252.0</td>\n",
       "      <td>253.0</td>\n",
       "      <td>USDC per ETH</td>\n",
       "      <td>503</td>\n",
       "    </tr>\n",
       "    <tr>\n",
       "      <th>504</th>\n",
       "      <td>504</td>\n",
       "      <td>ETHUSDC</td>\n",
       "      <td>USDC</td>\n",
       "      <td>5925924.0</td>\n",
       "      <td>5925924.0</td>\n",
       "      <td>USDC</td>\n",
       "      <td>False</td>\n",
       "      <td>5.0</td>\n",
       "      <td>4.0</td>\n",
       "      <td>5.0</td>\n",
       "      <td>USDC per ETH</td>\n",
       "      <td>505</td>\n",
       "    </tr>\n",
       "    <tr>\n",
       "      <th>506</th>\n",
       "      <td>506</td>\n",
       "      <td>ETHUSDC</td>\n",
       "      <td>USDC</td>\n",
       "      <td>4938270.0</td>\n",
       "      <td>4938270.0</td>\n",
       "      <td>USDC</td>\n",
       "      <td>False</td>\n",
       "      <td>4.0</td>\n",
       "      <td>3.0</td>\n",
       "      <td>4.0</td>\n",
       "      <td>USDC per ETH</td>\n",
       "      <td>507</td>\n",
       "    </tr>\n",
       "    <tr>\n",
       "      <th>508</th>\n",
       "      <td>508</td>\n",
       "      <td>ETHUSDC</td>\n",
       "      <td>USDC</td>\n",
       "      <td>3950616.0</td>\n",
       "      <td>3950616.0</td>\n",
       "      <td>USDC</td>\n",
       "      <td>False</td>\n",
       "      <td>3.0</td>\n",
       "      <td>2.0</td>\n",
       "      <td>3.0</td>\n",
       "      <td>USDC per ETH</td>\n",
       "      <td>509</td>\n",
       "    </tr>\n",
       "    <tr>\n",
       "      <th>510</th>\n",
       "      <td>510</td>\n",
       "      <td>ETHUSDC</td>\n",
       "      <td>USDC</td>\n",
       "      <td>2962962.0</td>\n",
       "      <td>2962962.0</td>\n",
       "      <td>USDC</td>\n",
       "      <td>False</td>\n",
       "      <td>2.0</td>\n",
       "      <td>1.0</td>\n",
       "      <td>2.0</td>\n",
       "      <td>USDC per ETH</td>\n",
       "      <td>511</td>\n",
       "    </tr>\n",
       "  </tbody>\n",
       "</table>\n",
       "<p>256 rows × 12 columns</p>\n",
       "</div>"
      ],
      "text/plain": [
       "      id     pair   tkn        y_int            y y_unit  disabled p_start  \\\n",
       "0      0  ETHUSDC  USDC  254814732.0  254814732.0   USDC     False   257.0   \n",
       "2      2  ETHUSDC  USDC  253827078.0  253827078.0   USDC     False   256.0   \n",
       "4      4  ETHUSDC  USDC  252839424.0  252839424.0   USDC     False   255.0   \n",
       "6      6  ETHUSDC  USDC  251851770.0  251851770.0   USDC     False   254.0   \n",
       "8      8  ETHUSDC  USDC    6913578.0    6913578.0   USDC     False     6.0   \n",
       "..   ...      ...   ...          ...          ...    ...       ...     ...   \n",
       "502  502  ETHUSDC  USDC  250864116.0  250864116.0   USDC     False   253.0   \n",
       "504  504  ETHUSDC  USDC    5925924.0    5925924.0   USDC     False     5.0   \n",
       "506  506  ETHUSDC  USDC    4938270.0    4938270.0   USDC     False     4.0   \n",
       "508  508  ETHUSDC  USDC    3950616.0    3950616.0   USDC     False     3.0   \n",
       "510  510  ETHUSDC  USDC    2962962.0    2962962.0   USDC     False     2.0   \n",
       "\n",
       "     p_end p_marg        p_unit  lid  \n",
       "0    256.0  257.0  USDC per ETH    1  \n",
       "2    255.0  256.0  USDC per ETH    3  \n",
       "4    254.0  255.0  USDC per ETH    5  \n",
       "6    253.0  254.0  USDC per ETH    7  \n",
       "8      5.0    6.0  USDC per ETH    9  \n",
       "..     ...    ...           ...  ...  \n",
       "502  252.0  253.0  USDC per ETH  503  \n",
       "504    4.0    5.0  USDC per ETH  505  \n",
       "506    3.0    4.0  USDC per ETH  507  \n",
       "508    2.0    3.0  USDC per ETH  509  \n",
       "510    1.0    2.0  USDC per ETH  511  \n",
       "\n",
       "[256 rows x 12 columns]"
      ]
     },
     "execution_count": 16,
     "metadata": {},
     "output_type": "execute_result"
    }
   ],
   "source": [
    "Sim.state()[\"orders\"].query(\"disabled==False\")"
   ]
  },
  {
   "cell_type": "code",
   "execution_count": 17,
   "id": "9919a820",
   "metadata": {},
   "outputs": [
    {
     "data": {
      "text/html": [
       "<div>\n",
       "<style scoped>\n",
       "    .dataframe tbody tr th:only-of-type {\n",
       "        vertical-align: middle;\n",
       "    }\n",
       "\n",
       "    .dataframe tbody tr th {\n",
       "        vertical-align: top;\n",
       "    }\n",
       "\n",
       "    .dataframe thead th {\n",
       "        text-align: right;\n",
       "    }\n",
       "</style>\n",
       "<table border=\"1\" class=\"dataframe\">\n",
       "  <thead>\n",
       "    <tr style=\"text-align: right;\">\n",
       "      <th></th>\n",
       "      <th></th>\n",
       "      <th>y</th>\n",
       "    </tr>\n",
       "    <tr>\n",
       "      <th>pair</th>\n",
       "      <th>tkn</th>\n",
       "      <th></th>\n",
       "    </tr>\n",
       "  </thead>\n",
       "  <tbody>\n",
       "    <tr>\n",
       "      <th rowspan=\"2\" valign=\"top\">ETHUSDC</th>\n",
       "      <th>ETH</th>\n",
       "      <td>0.000000e+00</td>\n",
       "    </tr>\n",
       "    <tr>\n",
       "      <th>USDC</th>\n",
       "      <td>3.299554e+10</td>\n",
       "    </tr>\n",
       "  </tbody>\n",
       "</table>\n",
       "</div>"
      ],
      "text/plain": [
       "                         y\n",
       "pair    tkn               \n",
       "ETHUSDC ETH   0.000000e+00\n",
       "        USDC  3.299554e+10"
      ]
     },
     "execution_count": 17,
     "metadata": {},
     "output_type": "execute_result"
    }
   ],
   "source": [
    "Sim.liquidity(Sim.ASDF)"
   ]
  },
  {
   "cell_type": "code",
   "execution_count": 18,
   "id": "df8a57e9",
   "metadata": {},
   "outputs": [
    {
     "name": "stdout",
     "output_type": "stream",
     "text": [
      "['ETH/USDC']\n"
     ]
    }
   ],
   "source": [
    "curves_by_pair_bidask = CarbonOrderUI.curves_by_pair_bidask(Sim.state()[\"orderuis\"])\n",
    "print(list(curves_by_pair_bidask.keys()))"
   ]
  },
  {
   "cell_type": "markdown",
   "id": "842b1899",
   "metadata": {},
   "source": [
    "## Approximate liquidity"
   ]
  },
  {
   "cell_type": "code",
   "execution_count": 19,
   "id": "03d11572",
   "metadata": {},
   "outputs": [
    {
     "name": "stdout",
     "output_type": "stream",
     "text": [
      "[calc_liquidity_approx] pair:ETHUSDC ETH USDC\n",
      "[calc_liquidity_approx] ask:256 bid:256\n",
      "[calc_liquidity_approx] tkn=USDC\n",
      "[calc_liquidity_approx] pair:ETHUSDC ETH USDC\n",
      "[calc_liquidity_approx] ask:256 bid:256\n",
      "[calc_liquidity_approx] tkn=ETH\n"
     ]
    }
   ],
   "source": [
    "liq =  cal.calc_liquidity_approx(Sim.state()[\"orderuis\"], prices, PAIR, reverse=True)\n",
    "liqr = cal.calc_liquidity_approx(Sim.state()[\"orderuis\"], prices, PAIR, reverse=False)"
   ]
  },
  {
   "cell_type": "code",
   "execution_count": 20,
   "id": "73e7efe7",
   "metadata": {},
   "outputs": [
    {
     "data": {
      "image/png": "[encoded data removed]",
      "text/plain": [
       "<Figure size 432x288 with 1 Axes>"
      ]
     },
     "metadata": {
      "needs_background": "light"
     },
     "output_type": "display_data"
    }
   ],
   "source": [
    "cal.plot_approx_orderbook_chart(liq)"
   ]
  },
  {
   "cell_type": "code",
   "execution_count": 21,
   "id": "3a9eeae7",
   "metadata": {},
   "outputs": [
    {
     "data": {
      "image/png": "[encoded data removed]",
      "text/plain": [
       "<Figure size 432x288 with 1 Axes>"
      ]
     },
     "metadata": {
      "needs_background": "light"
     },
     "output_type": "display_data"
    }
   ],
   "source": [
    "cal.plot_approx_orderbook_chart(liqr)"
   ]
  },
  {
   "cell_type": "markdown",
   "id": "70c1786f",
   "metadata": {},
   "source": [
    "## AMM BUYS base token (BID side)"
   ]
  },
  {
   "cell_type": "code",
   "execution_count": 22,
   "id": "7ce8b2b6",
   "metadata": {},
   "outputs": [
    {
     "name": "stdout",
     "output_type": "stream",
     "text": [
      "pair=ETH/USDC [USDC per ETH] tkny=USDC tknx=ETH\n"
     ]
    }
   ],
   "source": [
    "curves = curves_by_pair_bidask[PAIR.slashpair][\"BID\"]\n",
    "c0 = curves[0]\n",
    "print(f\"pair={c0.pair.slashpair} [{c0.pair.price_convention}] tkny={c0.tkny} tknx={c0.tknx}\")\n",
    "dy_p = lambda p: sum(c.dyfromp_f(p) for c in curves)\n",
    "dx_p = lambda p: sum(c.dxfromdy_f(c.dyfromp_f(p)) for c in curves)\n",
    "dy_amounts = [dy_p(p) for p in prices]\n",
    "dx_amounts = [dx_p(p) for p in prices]"
   ]
  },
  {
   "cell_type": "code",
   "execution_count": 23,
   "id": "d1bb50c5",
   "metadata": {},
   "outputs": [
    {
     "data": {
      "image/png": "[encoded data removed]",
      "text/plain": [
       "<Figure size 432x288 with 1 Axes>"
      ]
     },
     "metadata": {
      "needs_background": "light"
     },
     "output_type": "display_data"
    }
   ],
   "source": [
    "plt.plot(prices, dy_amounts, color=\"green\")\n",
    "plt.title(f\"Cumulative BID liquidity (sell {c0.tkny}, buy {c0.tknx})\")\n",
    "plt.xlabel(f\"Price [{c0.pair.price_convention}]\")\n",
    "plt.ylabel(f\"Cumulative Liquidity [{c0.tkny}]\")\n",
    "plt.grid()"
   ]
  },
  {
   "cell_type": "code",
   "execution_count": 24,
   "id": "c5188732",
   "metadata": {},
   "outputs": [
    {
     "data": {
      "text/html": [
       "<div>\n",
       "<style scoped>\n",
       "    .dataframe tbody tr th:only-of-type {\n",
       "        vertical-align: middle;\n",
       "    }\n",
       "\n",
       "    .dataframe tbody tr th {\n",
       "        vertical-align: top;\n",
       "    }\n",
       "\n",
       "    .dataframe thead th {\n",
       "        text-align: right;\n",
       "    }\n",
       "</style>\n",
       "<table border=\"1\" class=\"dataframe\">\n",
       "  <thead>\n",
       "    <tr style=\"text-align: right;\">\n",
       "      <th></th>\n",
       "      <th>Price [USDC per ETH]</th>\n",
       "      <th>Cumulative Liquidity [USDC]</th>\n",
       "    </tr>\n",
       "  </thead>\n",
       "  <tbody>\n",
       "    <tr>\n",
       "      <th>0</th>\n",
       "      <td>1.000000</td>\n",
       "      <td>3.299554e+10</td>\n",
       "    </tr>\n",
       "    <tr>\n",
       "      <th>1</th>\n",
       "      <td>3.585859</td>\n",
       "      <td>3.298565e+10</td>\n",
       "    </tr>\n",
       "    <tr>\n",
       "      <th>2</th>\n",
       "      <td>6.171717</td>\n",
       "      <td>3.296945e+10</td>\n",
       "    </tr>\n",
       "    <tr>\n",
       "      <th>3</th>\n",
       "      <td>8.757576</td>\n",
       "      <td>3.294653e+10</td>\n",
       "    </tr>\n",
       "    <tr>\n",
       "      <th>4</th>\n",
       "      <td>11.343434</td>\n",
       "      <td>3.291700e+10</td>\n",
       "    </tr>\n",
       "    <tr>\n",
       "      <th>...</th>\n",
       "      <td>...</td>\n",
       "      <td>...</td>\n",
       "    </tr>\n",
       "    <tr>\n",
       "      <th>95</th>\n",
       "      <td>246.656566</td>\n",
       "      <td>2.587767e+09</td>\n",
       "    </tr>\n",
       "    <tr>\n",
       "      <th>96</th>\n",
       "      <td>249.242424</td>\n",
       "      <td>1.950721e+09</td>\n",
       "    </tr>\n",
       "    <tr>\n",
       "      <th>97</th>\n",
       "      <td>251.828283</td>\n",
       "      <td>1.307070e+09</td>\n",
       "    </tr>\n",
       "    <tr>\n",
       "      <th>98</th>\n",
       "      <td>254.414141</td>\n",
       "      <td>6.567097e+08</td>\n",
       "    </tr>\n",
       "    <tr>\n",
       "      <th>99</th>\n",
       "      <td>257.000000</td>\n",
       "      <td>0.000000e+00</td>\n",
       "    </tr>\n",
       "  </tbody>\n",
       "</table>\n",
       "<p>100 rows × 2 columns</p>\n",
       "</div>"
      ],
      "text/plain": [
       "    Price [USDC per ETH]  Cumulative Liquidity [USDC]\n",
       "0               1.000000                 3.299554e+10\n",
       "1               3.585859                 3.298565e+10\n",
       "2               6.171717                 3.296945e+10\n",
       "3               8.757576                 3.294653e+10\n",
       "4              11.343434                 3.291700e+10\n",
       "..                   ...                          ...\n",
       "95            246.656566                 2.587767e+09\n",
       "96            249.242424                 1.950721e+09\n",
       "97            251.828283                 1.307070e+09\n",
       "98            254.414141                 6.567097e+08\n",
       "99            257.000000                 0.000000e+00\n",
       "\n",
       "[100 rows x 2 columns]"
      ]
     },
     "execution_count": 24,
     "metadata": {},
     "output_type": "execute_result"
    }
   ],
   "source": [
    "cumul_df = pd.DataFrame([prices, dy_amounts]).T\n",
    "cumul_df.columns = [f\"Price [{c0.pair.price_convention}]\", f\"Cumulative Liquidity [{c0.tkny}]\"]\n",
    "cumul_df"
   ]
  },
  {
   "cell_type": "code",
   "execution_count": 25,
   "id": "320add55",
   "metadata": {},
   "outputs": [
    {
     "name": "stdout",
     "output_type": "stream",
     "text": [
      "This is the BID book.\n",
      "Source token = ETH, target token = USDC.\n",
      "AMM buys ETH for USDC.\n",
      "Base token = ETH, quote token = USDC.\n",
      "Prices are quoted in USDC per ETH.\n",
      "Order book amounts are quoted in USDC.\n"
     ]
    }
   ],
   "source": [
    "OB2 = cal.OrderBook(dx_amounts, dy_amounts, PAIR.tknb, PAIR.tknq, bidask=cal.OrderBook.BID)\n",
    "print(OB2.explain())"
   ]
  },
  {
   "cell_type": "code",
   "execution_count": 26,
   "id": "c0e0bbcb",
   "metadata": {},
   "outputs": [
    {
     "data": {
      "text/plain": [
       "'plotted tokens received against trade size (32,995,544,832)'"
      ]
     },
     "execution_count": 26,
     "metadata": {},
     "output_type": "execute_result"
    },
    {
     "data": {
      "image/png": "[encoded data removed]",
      "text/plain": [
       "<Figure size 432x288 with 1 Axes>"
      ]
     },
     "metadata": {
      "needs_background": "light"
     },
     "output_type": "display_data"
    }
   ],
   "source": [
    "OB2.plot_tokenamount_chart()"
   ]
  },
  {
   "cell_type": "code",
   "execution_count": 27,
   "id": "a04be7e4",
   "metadata": {},
   "outputs": [
    {
     "data": {
      "text/html": [
       "<div>\n",
       "<style scoped>\n",
       "    .dataframe tbody tr th:only-of-type {\n",
       "        vertical-align: middle;\n",
       "    }\n",
       "\n",
       "    .dataframe tbody tr th {\n",
       "        vertical-align: top;\n",
       "    }\n",
       "\n",
       "    .dataframe thead th {\n",
       "        text-align: right;\n",
       "    }\n",
       "</style>\n",
       "<table border=\"1\" class=\"dataframe\">\n",
       "  <thead>\n",
       "    <tr style=\"text-align: right;\">\n",
       "      <th></th>\n",
       "      <th>src_amt [ETH]</th>\n",
       "      <th>trg_amt [USDC]</th>\n",
       "    </tr>\n",
       "  </thead>\n",
       "  <tbody>\n",
       "    <tr>\n",
       "      <th>0</th>\n",
       "      <td>2.612093e+08</td>\n",
       "      <td>3.299554e+10</td>\n",
       "    </tr>\n",
       "    <tr>\n",
       "      <th>1</th>\n",
       "      <td>2.565934e+08</td>\n",
       "      <td>3.298565e+10</td>\n",
       "    </tr>\n",
       "    <tr>\n",
       "      <th>2</th>\n",
       "      <td>2.532582e+08</td>\n",
       "      <td>3.296945e+10</td>\n",
       "    </tr>\n",
       "    <tr>\n",
       "      <th>3</th>\n",
       "      <td>2.501813e+08</td>\n",
       "      <td>3.294653e+10</td>\n",
       "    </tr>\n",
       "    <tr>\n",
       "      <th>4</th>\n",
       "      <td>2.472419e+08</td>\n",
       "      <td>3.291700e+10</td>\n",
       "    </tr>\n",
       "    <tr>\n",
       "      <th>...</th>\n",
       "      <td>...</td>\n",
       "      <td>...</td>\n",
       "    </tr>\n",
       "    <tr>\n",
       "      <th>95</th>\n",
       "      <td>1.027593e+07</td>\n",
       "      <td>2.587767e+09</td>\n",
       "    </tr>\n",
       "    <tr>\n",
       "      <th>96</th>\n",
       "      <td>7.706676e+06</td>\n",
       "      <td>1.950721e+09</td>\n",
       "    </tr>\n",
       "    <tr>\n",
       "      <th>97</th>\n",
       "      <td>5.137574e+06</td>\n",
       "      <td>1.307070e+09</td>\n",
       "    </tr>\n",
       "    <tr>\n",
       "      <th>98</th>\n",
       "      <td>2.568212e+06</td>\n",
       "      <td>6.567097e+08</td>\n",
       "    </tr>\n",
       "    <tr>\n",
       "      <th>99</th>\n",
       "      <td>0.000000e+00</td>\n",
       "      <td>0.000000e+00</td>\n",
       "    </tr>\n",
       "  </tbody>\n",
       "</table>\n",
       "<p>100 rows × 2 columns</p>\n",
       "</div>"
      ],
      "text/plain": [
       "    src_amt [ETH]  trg_amt [USDC]\n",
       "0    2.612093e+08    3.299554e+10\n",
       "1    2.565934e+08    3.298565e+10\n",
       "2    2.532582e+08    3.296945e+10\n",
       "3    2.501813e+08    3.294653e+10\n",
       "4    2.472419e+08    3.291700e+10\n",
       "..            ...             ...\n",
       "95   1.027593e+07    2.587767e+09\n",
       "96   7.706676e+06    1.950721e+09\n",
       "97   5.137574e+06    1.307070e+09\n",
       "98   2.568212e+06    6.567097e+08\n",
       "99   0.000000e+00    0.000000e+00\n",
       "\n",
       "[100 rows x 2 columns]"
      ]
     },
     "execution_count": 27,
     "metadata": {},
     "output_type": "execute_result"
    }
   ],
   "source": [
    "OB2.data_tokenamount_chart(aspandas=True)"
   ]
  },
  {
   "cell_type": "code",
   "execution_count": 28,
   "id": "1f557838",
   "metadata": {},
   "outputs": [
    {
     "data": {
      "text/plain": [
       "'plotted marginal and effective prices against trade size'"
      ]
     },
     "execution_count": 28,
     "metadata": {},
     "output_type": "execute_result"
    },
    {
     "data": {
      "image/png": "[encoded data removed]",
      "text/plain": [
       "<Figure size 432x288 with 1 Axes>"
      ]
     },
     "metadata": {
      "needs_background": "light"
     },
     "output_type": "display_data"
    }
   ],
   "source": [
    "OB2.plot_price_chart()"
   ]
  },
  {
   "cell_type": "code",
   "execution_count": 29,
   "id": "2b49d449",
   "metadata": {},
   "outputs": [
    {
     "data": {
      "text/html": [
       "<div>\n",
       "<style scoped>\n",
       "    .dataframe tbody tr th:only-of-type {\n",
       "        vertical-align: middle;\n",
       "    }\n",
       "\n",
       "    .dataframe tbody tr th {\n",
       "        vertical-align: top;\n",
       "    }\n",
       "\n",
       "    .dataframe thead th {\n",
       "        text-align: right;\n",
       "    }\n",
       "</style>\n",
       "<table border=\"1\" class=\"dataframe\">\n",
       "  <thead>\n",
       "    <tr style=\"text-align: right;\">\n",
       "      <th></th>\n",
       "      <th>size1 [ETH]</th>\n",
       "      <th>price1_eff [USDC per ETH]</th>\n",
       "      <th>size2 [ETH]</th>\n",
       "      <th>price2_marg [USDC per ETH]</th>\n",
       "    </tr>\n",
       "  </thead>\n",
       "  <tbody>\n",
       "    <tr>\n",
       "      <th>0</th>\n",
       "      <td>2.612093e+08</td>\n",
       "      <td>126.318405</td>\n",
       "      <td>2.589014e+08</td>\n",
       "      <td>2.142925</td>\n",
       "    </tr>\n",
       "    <tr>\n",
       "      <th>1</th>\n",
       "      <td>2.565934e+08</td>\n",
       "      <td>128.552230</td>\n",
       "      <td>2.549258e+08</td>\n",
       "      <td>4.857609</td>\n",
       "    </tr>\n",
       "    <tr>\n",
       "      <th>2</th>\n",
       "      <td>2.532582e+08</td>\n",
       "      <td>130.181170</td>\n",
       "      <td>2.517198e+08</td>\n",
       "      <td>7.450158</td>\n",
       "    </tr>\n",
       "    <tr>\n",
       "      <th>3</th>\n",
       "      <td>2.501813e+08</td>\n",
       "      <td>131.690624</td>\n",
       "      <td>2.487116e+08</td>\n",
       "      <td>10.046466</td>\n",
       "    </tr>\n",
       "    <tr>\n",
       "      <th>4</th>\n",
       "      <td>2.472419e+08</td>\n",
       "      <td>133.136827</td>\n",
       "      <td>2.458176e+08</td>\n",
       "      <td>12.630458</td>\n",
       "    </tr>\n",
       "    <tr>\n",
       "      <th>...</th>\n",
       "      <td>...</td>\n",
       "      <td>...</td>\n",
       "      <td>...</td>\n",
       "      <td>...</td>\n",
       "    </tr>\n",
       "    <tr>\n",
       "      <th>95</th>\n",
       "      <td>1.027593e+07</td>\n",
       "      <td>251.827923</td>\n",
       "      <td>8.991305e+06</td>\n",
       "      <td>247.949628</td>\n",
       "    </tr>\n",
       "    <tr>\n",
       "      <th>96</th>\n",
       "      <td>7.706676e+06</td>\n",
       "      <td>253.120872</td>\n",
       "      <td>6.422125e+06</td>\n",
       "      <td>250.535293</td>\n",
       "    </tr>\n",
       "    <tr>\n",
       "      <th>97</th>\n",
       "      <td>5.137574e+06</td>\n",
       "      <td>254.413821</td>\n",
       "      <td>3.852893e+06</td>\n",
       "      <td>253.121300</td>\n",
       "    </tr>\n",
       "    <tr>\n",
       "      <th>98</th>\n",
       "      <td>2.568212e+06</td>\n",
       "      <td>255.706919</td>\n",
       "      <td>1.284106e+06</td>\n",
       "      <td>255.706919</td>\n",
       "    </tr>\n",
       "    <tr>\n",
       "      <th>99</th>\n",
       "      <td>0.000000e+00</td>\n",
       "      <td>NaN</td>\n",
       "      <td>NaN</td>\n",
       "      <td>NaN</td>\n",
       "    </tr>\n",
       "  </tbody>\n",
       "</table>\n",
       "<p>100 rows × 4 columns</p>\n",
       "</div>"
      ],
      "text/plain": [
       "     size1 [ETH]  price1_eff [USDC per ETH]   size2 [ETH]  \\\n",
       "0   2.612093e+08                 126.318405  2.589014e+08   \n",
       "1   2.565934e+08                 128.552230  2.549258e+08   \n",
       "2   2.532582e+08                 130.181170  2.517198e+08   \n",
       "3   2.501813e+08                 131.690624  2.487116e+08   \n",
       "4   2.472419e+08                 133.136827  2.458176e+08   \n",
       "..           ...                        ...           ...   \n",
       "95  1.027593e+07                 251.827923  8.991305e+06   \n",
       "96  7.706676e+06                 253.120872  6.422125e+06   \n",
       "97  5.137574e+06                 254.413821  3.852893e+06   \n",
       "98  2.568212e+06                 255.706919  1.284106e+06   \n",
       "99  0.000000e+00                        NaN           NaN   \n",
       "\n",
       "    price2_marg [USDC per ETH]  \n",
       "0                     2.142925  \n",
       "1                     4.857609  \n",
       "2                     7.450158  \n",
       "3                    10.046466  \n",
       "4                    12.630458  \n",
       "..                         ...  \n",
       "95                  247.949628  \n",
       "96                  250.535293  \n",
       "97                  253.121300  \n",
       "98                  255.706919  \n",
       "99                         NaN  \n",
       "\n",
       "[100 rows x 4 columns]"
      ]
     },
     "execution_count": 29,
     "metadata": {},
     "output_type": "execute_result"
    }
   ],
   "source": [
    "OB2.data_price_chart(aspandas=True)"
   ]
  },
  {
   "cell_type": "code",
   "execution_count": 30,
   "id": "4ac78e1a",
   "metadata": {},
   "outputs": [
    {
     "data": {
      "text/plain": [
       "'plotted order book (-32,662,244,199)'"
      ]
     },
     "execution_count": 30,
     "metadata": {},
     "output_type": "execute_result"
    },
    {
     "data": {
      "image/png": "[encoded data removed]",
      "text/plain": [
       "<Figure size 432x288 with 1 Axes>"
      ]
     },
     "metadata": {
      "needs_background": "light"
     },
     "output_type": "display_data"
    }
   ],
   "source": [
    "OB2.plot_orderbook_chart()"
   ]
  },
  {
   "cell_type": "code",
   "execution_count": 31,
   "id": "0b02ba09",
   "metadata": {},
   "outputs": [
    {
     "data": {
      "text/html": [
       "<div>\n",
       "<style scoped>\n",
       "    .dataframe tbody tr th:only-of-type {\n",
       "        vertical-align: middle;\n",
       "    }\n",
       "\n",
       "    .dataframe tbody tr th {\n",
       "        vertical-align: top;\n",
       "    }\n",
       "\n",
       "    .dataframe thead th {\n",
       "        text-align: right;\n",
       "    }\n",
       "</style>\n",
       "<table border=\"1\" class=\"dataframe\">\n",
       "  <thead>\n",
       "    <tr style=\"text-align: right;\">\n",
       "      <th></th>\n",
       "      <th>Price [USDC per ETH]</th>\n",
       "      <th>Liquidity [USDC]</th>\n",
       "    </tr>\n",
       "  </thead>\n",
       "  <tbody>\n",
       "    <tr>\n",
       "      <th>0</th>\n",
       "      <td>3.500267</td>\n",
       "      <td>4.805813e+06</td>\n",
       "    </tr>\n",
       "    <tr>\n",
       "      <th>1</th>\n",
       "      <td>6.153883</td>\n",
       "      <td>7.545606e+06</td>\n",
       "    </tr>\n",
       "    <tr>\n",
       "      <th>2</th>\n",
       "      <td>8.748312</td>\n",
       "      <td>1.010174e+07</td>\n",
       "    </tr>\n",
       "    <tr>\n",
       "      <th>3</th>\n",
       "      <td>11.338462</td>\n",
       "      <td>1.267602e+07</td>\n",
       "    </tr>\n",
       "    <tr>\n",
       "      <th>4</th>\n",
       "      <td>13.924394</td>\n",
       "      <td>1.523001e+07</td>\n",
       "    </tr>\n",
       "    <tr>\n",
       "      <th>...</th>\n",
       "      <td>...</td>\n",
       "      <td>...</td>\n",
       "    </tr>\n",
       "    <tr>\n",
       "      <th>93</th>\n",
       "      <td>244.070640</td>\n",
       "      <td>2.425423e+08</td>\n",
       "    </tr>\n",
       "    <tr>\n",
       "      <th>94</th>\n",
       "      <td>246.656580</td>\n",
       "      <td>2.450873e+08</td>\n",
       "    </tr>\n",
       "    <tr>\n",
       "      <th>95</th>\n",
       "      <td>249.242461</td>\n",
       "      <td>2.476533e+08</td>\n",
       "    </tr>\n",
       "    <tr>\n",
       "      <th>96</th>\n",
       "      <td>251.828297</td>\n",
       "      <td>2.501948e+08</td>\n",
       "    </tr>\n",
       "    <tr>\n",
       "      <th>97</th>\n",
       "      <td>254.414110</td>\n",
       "      <td>2.527576e+08</td>\n",
       "    </tr>\n",
       "  </tbody>\n",
       "</table>\n",
       "<p>98 rows × 2 columns</p>\n",
       "</div>"
      ],
      "text/plain": [
       "    Price [USDC per ETH]  Liquidity [USDC]\n",
       "0               3.500267      4.805813e+06\n",
       "1               6.153883      7.545606e+06\n",
       "2               8.748312      1.010174e+07\n",
       "3              11.338462      1.267602e+07\n",
       "4              13.924394      1.523001e+07\n",
       "..                   ...               ...\n",
       "93            244.070640      2.425423e+08\n",
       "94            246.656580      2.450873e+08\n",
       "95            249.242461      2.476533e+08\n",
       "96            251.828297      2.501948e+08\n",
       "97            254.414110      2.527576e+08\n",
       "\n",
       "[98 rows x 2 columns]"
      ]
     },
     "execution_count": 31,
     "metadata": {},
     "output_type": "execute_result"
    }
   ],
   "source": [
    "OB2.data_orderbook_chart(aspandas=True)"
   ]
  },
  {
   "cell_type": "markdown",
   "id": "fe348dc6",
   "metadata": {},
   "source": [
    "## Create template file"
   ]
  },
  {
   "cell_type": "code",
   "execution_count": 32,
   "id": "2af3a2fa",
   "metadata": {},
   "outputs": [],
   "source": [
    "orders = [\n",
    "    {\"pa\": 2500-i*100, \"pb\": 2000, \"pm\": 2500-i*100, \"amt\": 100*(5-i)}\n",
    "    for i in range (5)\n",
    "]\n",
    "#orders"
   ]
  },
  {
   "cell_type": "code",
   "execution_count": 33,
   "id": "0cd37616",
   "metadata": {},
   "outputs": [],
   "source": [
    "prices = [int(x) for x in np.linspace(1500, 3000, 500)]\n",
    "#prices"
   ]
  },
  {
   "cell_type": "code",
   "execution_count": 34,
   "id": "998aa823",
   "metadata": {},
   "outputs": [],
   "source": [
    "meta = {\n",
    "    \"x\": \"ETH\",\n",
    "    \"y\": \"USDC\",\n",
    "    \"request\": \"cumulative_liquidity\",\n",
    "    \"request_unit\": \"y\",\n",
    "    \"price_unit\": \"y/x\",\n",
    "    \"amt_unit\": \"y\",\n",
    "}\n",
    "#meta"
   ]
  },
  {
   "cell_type": "code",
   "execution_count": 35,
   "id": "df08888d",
   "metadata": {},
   "outputs": [],
   "source": [
    "data = {\n",
    "    \"orders\": [{k:str(v) for k,v in o.items()} for o in orders],\n",
    "    \"prices\": [str(x) for x in prices],\n",
    "    \"meta\": meta,\n",
    "}\n",
    "#data"
   ]
  },
  {
   "cell_type": "code",
   "execution_count": 36,
   "id": "20f94ada",
   "metadata": {
    "lines_to_next_cell": 2
   },
   "outputs": [],
   "source": [
    "#fsave(data, \"template.json\", DATAPATH, json=True)"
   ]
  }
 ],
 "metadata": {
  "jupytext": {
   "encoding": "# -*- coding: utf-8 -*-",
   "formats": "ipynb,py:light"
  },
  "kernelspec": {
   "display_name": "Python 3",
   "language": "python",
   "name": "python3"
  },
  "language_info": {
   "codemirror_mode": {
    "name": "ipython",
    "version": 3
   },
   "file_extension": ".py",
   "mimetype": "text/x-python",
   "name": "python",
   "nbconvert_exporter": "python",
   "pygments_lexer": "ipython3",
   "version": "3.8.8"
  }
 },
 "nbformat": 4,
 "nbformat_minor": 5
}
