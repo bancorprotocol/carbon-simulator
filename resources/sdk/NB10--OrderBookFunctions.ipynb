{
 "cells": [
  {
   "cell_type": "code",
   "execution_count": 100,
   "id": "a0855cc0-2db7-4341-b0ef-fcb343ca3636",
   "metadata": {},
   "outputs": [
    {
     "name": "stdout",
     "output_type": "stream",
     "text": [
      "CarbonSDK v0.9 (8/Mar/2023)\n",
      "v18.14.2\n"
     ]
    }
   ],
   "source": [
    "from carbon.sdk import CarbonSDK, Tokens as T\n",
    "#from carbon import CarbonOrderUI, CarbonSimulatorUI\n",
    "from carbon.helpers.widgets import CheckboxManager, DropdownManager, PcSliderManager\n",
    "from matplotlib import pyplot as plt\n",
    "import numpy as np\n",
    "print(\"{0.__name__} v{0.__VERSION__} ({0.__DATE__})\".format(CarbonSDK))\n",
    "!node --version"
   ]
  },
  {
   "cell_type": "markdown",
   "id": "3650b16b-d020-4063-84c6-ab9fb7556552",
   "metadata": {},
   "source": [
    "# Order Book [NB10]\n",
    "\n",
    "In order to start the server, please run\n",
    "\n",
    "    source /Volumes/Private/bin/sdkserver\n",
    "    node server/sdkserver.mjs"
   ]
  },
  {
   "cell_type": "code",
   "execution_count": 101,
   "id": "abbeaeed-7c75-4d55-86ba-15f0ab16265e",
   "metadata": {},
   "outputs": [
    {
     "data": {
      "text/plain": [
       "'Carbon SDK v0.9 (7/Mar/2022)'"
      ]
     },
     "execution_count": 101,
     "metadata": {},
     "output_type": "execute_result"
    }
   ],
   "source": [
    "SDK = CarbonSDK(disclaimer=False, verbose=False, Tokens=T)\n",
    "SDK.version().get(\"msg\")"
   ]
  },
  {
   "cell_type": "markdown",
   "id": "4eb20813-8229-4cd5-93de-ec26d3956260",
   "metadata": {},
   "source": [
    "## Order book related functions"
   ]
  },
  {
   "cell_type": "markdown",
   "id": "1fc98c06-f9b5-455f-b6fb-0dda1f113c78",
   "metadata": {},
   "source": [
    "#### `pairs`\n"
   ]
  },
  {
   "cell_type": "code",
   "execution_count": 102,
   "id": "d124ac88-f4c1-48d5-963c-62627dd0e313",
   "metadata": {},
   "outputs": [
    {
     "data": {
      "text/plain": [
       "'USDC/USDT, USDC/ETH, BNT/USDT, BNT/USDC, USDT/ETH, WBTC/USDC, DAI/MATIC, LINK/USDC, DAI/ETH, MKR/USDC, DAI/USDC, UNI/USDC, DAI/BNB'"
      ]
     },
     "execution_count": 102,
     "metadata": {},
     "output_type": "execute_result"
    }
   ],
   "source": [
    "pairs, pairs_s = SDK.pairs(inclstr=True)\n",
    "pairs_s"
   ]
  },
  {
   "cell_type": "code",
   "execution_count": 103,
   "id": "339b5fe1-c9f8-41b1-906f-e78e46a22634",
   "metadata": {
    "lines_to_next_cell": 2
   },
   "outputs": [
    {
     "data": {
      "application/vnd.jupyter.widget-view+json": {
       "model_id": "8fb1ed68838642eb9dc314a47d23ae7a",
       "version_major": 2,
       "version_minor": 0
      },
      "text/plain": [
       "Dropdown(options=(('USDC/USDT', 'USDC/USDT'), ('USDC/ETH', 'USDC/ETH'), ('BNT/USDT', 'BNT/USDT'), ('BNT/USDC',…"
      ]
     },
     "metadata": {},
     "output_type": "display_data"
    }
   ],
   "source": [
    "try:\n",
    "    pairs_sel = [s.strip() for s in pairs_s.split(\",\")]\n",
    "    pairs_w()\n",
    "except:\n",
    "    pairs_w = DropdownManager(pairs_sel)\n",
    "    pairs_w()"
   ]
  },
  {
   "cell_type": "code",
   "execution_count": 104,
   "id": "80a76551-eecb-4aca-b718-5be5c8dac9b3",
   "metadata": {},
   "outputs": [
    {
     "data": {
      "application/vnd.jupyter.widget-view+json": {
       "model_id": "62799ab47bea462b87972e47c70f471b",
       "version_major": 2,
       "version_minor": 0
      },
      "text/plain": [
       "VBox(children=(Checkbox(value=False, description='inverse'),))"
      ]
     },
     "metadata": {},
     "output_type": "display_data"
    }
   ],
   "source": [
    "try:\n",
    "    inverse_w()\n",
    "except:\n",
    "    inverse_w = CheckboxManager([\"inverse\"])\n",
    "    inverse_w()"
   ]
  },
  {
   "cell_type": "code",
   "execution_count": 105,
   "id": "8d569424-6669-4b38-b630-321a1c97dc9a",
   "metadata": {},
   "outputs": [
    {
     "data": {
      "text/plain": [
       "'USDC/USDT'"
      ]
     },
     "execution_count": 105,
     "metadata": {},
     "output_type": "execute_result"
    }
   ],
   "source": [
    "tknb,tknq = pairs_w.value.split(\"/\")\n",
    "if inverse_w.values[0]:\n",
    "    tknb,tknq = tknq, tknb\n",
    "pair = f\"{tknb}/{tknq}\"\n",
    "pair"
   ]
  },
  {
   "cell_type": "markdown",
   "id": "8719e1ee-2a17-46e7-924f-1baf95065ac9",
   "metadata": {},
   "source": [
    "#### `mHasLiquidityByPair` and `mHasLiquidityByPairs`"
   ]
  },
  {
   "cell_type": "code",
   "execution_count": 106,
   "id": "001a7d9d-9684-4235-8c9a-821aa049592d",
   "metadata": {},
   "outputs": [
    {
     "name": "stdout",
     "output_type": "stream",
     "text": [
      "Help on method mHasLiquidityByPair in module carbon.sdk.sdk:\n",
      "\n",
      "mHasLiquidityByPair(pair, AMMsells) method of carbon.sdk.sdk.CarbonSDK instance\n",
      "    whether a specfic pair has any open liquidity positions\n",
      "    \n",
      "    :pair:          pair (as CarbonPair object)\n",
      "    :AMMsells:      the token the AMM sells (as token name)\n",
      "    :returns:       whether the directed pair has liquidity (boolean)\n",
      "\n"
     ]
    }
   ],
   "source": [
    "help(SDK.mHasLiquidityByPair)"
   ]
  },
  {
   "cell_type": "code",
   "execution_count": 107,
   "id": "0174108c-755b-4339-9aee-77ba993a4d39",
   "metadata": {},
   "outputs": [
    {
     "name": "stdout",
     "output_type": "stream",
     "text": [
      "Help on method mHasLiquidityByPairs in module carbon.sdk.sdk:\n",
      "\n",
      "mHasLiquidityByPairs(pairs) method of carbon.sdk.sdk.CarbonSDK instance\n",
      "    whether a list of pairs has any open liquidity positions in any direction\n",
      "    \n",
      "    :pairs:     list of pairs (as CarbonPair objects or slashpair strings),\n",
      "                or a string of slashpairs separeted by commas\n",
      "\n"
     ]
    }
   ],
   "source": [
    "help(SDK.mHasLiquidityByPairs)"
   ]
  },
  {
   "cell_type": "code",
   "execution_count": 108,
   "id": "72758207-4c0d-4b1a-9b42-bbc33735cf35",
   "metadata": {},
   "outputs": [
    {
     "data": {
      "text/plain": [
       "False"
      ]
     },
     "execution_count": 108,
     "metadata": {},
     "output_type": "execute_result"
    }
   ],
   "source": [
    "SDK.mHasLiquidityByPair(pair=pair, AMMsells=tknb)"
   ]
  },
  {
   "cell_type": "code",
   "execution_count": 109,
   "id": "df714449-f7d5-4cdb-b00a-ddbd1b59eed8",
   "metadata": {},
   "outputs": [
    {
     "data": {
      "text/plain": [
       "({'pair': P('USDC/USDT'), 'AMMsells': 'USDT', 'hasLiquidity': False},\n",
       " {'pair': P('USDC/USDT'), 'AMMsells': 'USDC', 'hasLiquidity': False})"
      ]
     },
     "execution_count": 109,
     "metadata": {},
     "output_type": "execute_result"
    }
   ],
   "source": [
    "SDK.mHasLiquidityByPairs(pairs=pair)"
   ]
  },
  {
   "cell_type": "code",
   "execution_count": 110,
   "id": "8d547fd7-965a-4da8-a72c-5dcc7353997d",
   "metadata": {},
   "outputs": [
    {
     "data": {
      "text/plain": [
       "({'pair': P('ETH/USDC'), 'AMMsells': 'USDC', 'hasLiquidity': True},\n",
       " {'pair': P('ETH/USDC'), 'AMMsells': 'ETH', 'hasLiquidity': True},\n",
       " {'pair': P('WBTC/USDC'), 'AMMsells': 'USDC', 'hasLiquidity': True},\n",
       " {'pair': P('WBTC/USDC'), 'AMMsells': 'WBTC', 'hasLiquidity': True},\n",
       " {'pair': P('WBTC/BNT'), 'AMMsells': 'BNT', 'hasLiquidity': False},\n",
       " {'pair': P('WBTC/BNT'), 'AMMsells': 'WBTC', 'hasLiquidity': False})"
      ]
     },
     "execution_count": 110,
     "metadata": {},
     "output_type": "execute_result"
    }
   ],
   "source": [
    "SDK.mHasLiquidityByPairs(pairs=\"ETH/USDC, WBTC/USDC, WBTC/BNT\")"
   ]
  },
  {
   "cell_type": "markdown",
   "id": "d4c5259a-2d8f-461a-842b-18da763dc487",
   "metadata": {},
   "source": [
    "#### `mGetLiquidityByPair`"
   ]
  },
  {
   "cell_type": "code",
   "execution_count": 111,
   "id": "2cc3d4f6-1c59-44c4-bb1e-67de6d066beb",
   "metadata": {},
   "outputs": [
    {
     "name": "stdout",
     "output_type": "stream",
     "text": [
      "Help on method mGetLiquidityByPair in module carbon.sdk.sdk:\n",
      "\n",
      "mGetLiquidityByPair(pair, AMMsells) method of carbon.sdk.sdk.CarbonSDK instance\n",
      "    liquidity values for multiple pairs\n",
      "    \n",
      "    :pair:          pair (as CarbonPair object or slashpair string)\n",
      "    :AMMsells:      the token the AMM sells (as token name)\n",
      "    :returns:       RangeByPair object\n",
      "\n"
     ]
    }
   ],
   "source": [
    "help(SDK.mGetLiquidityByPair)"
   ]
  },
  {
   "cell_type": "code",
   "execution_count": 112,
   "id": "a7c13d12-4f5c-41e1-bafd-ac7cd9bce758",
   "metadata": {},
   "outputs": [
    {
     "data": {
      "text/plain": [
       "(CarbonSDK.PairLiquidity(amount=0.0, unit='USDC', AMMsells='USDC', bidAsk='ask', pair=P('USDC/USDT'), rate=None, inverted=None, islist=None),\n",
       " CarbonSDK.PairLiquidity(amount=0.0, unit='USDT', AMMsells='USDT', bidAsk='bid', pair=P('USDC/USDT'), rate=None, inverted=None, islist=None))"
      ]
     },
     "execution_count": 112,
     "metadata": {},
     "output_type": "execute_result"
    }
   ],
   "source": [
    "(SDK.mGetLiquidityByPair(pair=pair, AMMsells=tknb),\n",
    " SDK.mGetLiquidityByPair(pair=pair, AMMsells=tknq))"
   ]
  },
  {
   "cell_type": "code",
   "execution_count": 113,
   "id": "211ba3ec-e57e-47cf-aa43-6e6850f1b01b",
   "metadata": {},
   "outputs": [
    {
     "data": {
      "text/plain": [
       "CarbonSDK.PairLiquidity(amount=0.0, unit='BNT', AMMsells='BNT', bidAsk='bid', pair=P('WBTC/BNT'), rate=None, inverted=None, islist=None)"
      ]
     },
     "execution_count": 113,
     "metadata": {},
     "output_type": "execute_result"
    }
   ],
   "source": [
    "SDK.mGetLiquidityByPair(pair=\"WBTC/BNT\", AMMsells=\"BNT\")"
   ]
  },
  {
   "cell_type": "markdown",
   "id": "14115116-2899-4a00-be87-95e9f4aeec1e",
   "metadata": {},
   "source": [
    "#### `mGetRangeByPair`\n"
   ]
  },
  {
   "cell_type": "code",
   "execution_count": 114,
   "id": "b03c4f32-50b3-4be6-a8a2-f00f3541f72e",
   "metadata": {},
   "outputs": [
    {
     "name": "stdout",
     "output_type": "stream",
     "text": [
      "Help on method mGetRangeByPair in module carbon.sdk.sdk:\n",
      "\n",
      "mGetRangeByPair(pair, AMMsells) method of carbon.sdk.sdk.CarbonSDK instance\n",
      "    gets the minimum and maximum exchange rate offered on Carbon between those two tokens\n",
      "    \n",
      "    :pair:          pair (as CarbonPair object or slashpair string)\n",
      "    :AMMsells:      the token the AMM sells (as token name)\n",
      "    :returns:       RangeByPair object\n",
      "\n"
     ]
    }
   ],
   "source": [
    "help(SDK.mGetRangeByPair)"
   ]
  },
  {
   "cell_type": "code",
   "execution_count": 115,
   "id": "242367b9-f4fc-488d-b1ca-bca5e090318f",
   "metadata": {},
   "outputs": [
    {
     "data": {
      "text/plain": [
       "(CarbonSDK.RangeByPair(startRate=-0.0, endRate=0.0, AMMsells='USDC', AMMbuys='USDT', bidAsk='ask', pair=P('USDC/USDT'), inverted=False),\n",
       " CarbonSDK.RangeByPair(startRate=-inf, endRate=inf, AMMsells='USDT', AMMbuys='USDC', bidAsk='bid', pair=P('USDC/USDT'), inverted=True))"
      ]
     },
     "execution_count": 115,
     "metadata": {},
     "output_type": "execute_result"
    }
   ],
   "source": [
    "(SDK.mGetRangeByPair(pair=pair, AMMsells=tknb),\n",
    " SDK.mGetRangeByPair(pair=pair, AMMsells=tknq))"
   ]
  },
  {
   "cell_type": "markdown",
   "id": "23ea9811-6404-409c-885b-4a5af72ffe82",
   "metadata": {},
   "source": [
    "#### `mGetRateLiquidityDepthByPair`"
   ]
  },
  {
   "cell_type": "code",
   "execution_count": 116,
   "id": "4cf7aba9-0cba-48c9-b194-f20546a0023e",
   "metadata": {},
   "outputs": [
    {
     "name": "stdout",
     "output_type": "stream",
     "text": [
      "Help on method mGetRateLiquidityDepthByPair in module carbon.sdk.sdk:\n",
      "\n",
      "mGetRateLiquidityDepthByPair(rate, pair, AMMsells) method of carbon.sdk.sdk.CarbonSDK instance\n",
      "    liquidity depth (ie cumulative liquidity) at a given exchange rate\n",
      "    \n",
      "    :rate:          rate at which liquidity is evaluated (in units of the pair)\n",
      "                    if the rate is an Array then the liquidity is evaluated at each rate\n",
      "    :pair:          pair (as CarbonPair object or slashpair string)\n",
      "    :AMMsells:      the token the AMM sells (as token name)\n",
      "    :returns:       RangeByPair object; if rate is an Array so is the amount\n",
      "\n"
     ]
    }
   ],
   "source": [
    "help(SDK.mGetRateLiquidityDepthByPair)"
   ]
  },
  {
   "cell_type": "code",
   "execution_count": 117,
   "id": "ddf30165-00f3-4cf9-8e1c-e265a7596541",
   "metadata": {},
   "outputs": [
    {
     "data": {
      "text/plain": [
       "CarbonSDK.PairLiquidity(amount=0.0, unit='USDC', AMMsells='USDC', bidAsk='ask', pair=P('USDC/USDT'), rate=2400, inverted=True, islist=False)"
      ]
     },
     "execution_count": 117,
     "metadata": {},
     "output_type": "execute_result"
    }
   ],
   "source": [
    "SDK.mGetRateLiquidityDepthByPair(rate=2400, pair=pair, AMMsells=tknb)"
   ]
  },
  {
   "cell_type": "code",
   "execution_count": 118,
   "id": "907b4b80-a7af-456e-8eed-4cf8a1e161ec",
   "metadata": {},
   "outputs": [
    {
     "data": {
      "text/plain": [
       "CarbonSDK.PairLiquidity(amount=[0.0, 0.0, 0.0, 0.0, 0.0, 0.0, 0.0, 0.0, 0.0, 0.0, 0.0, 0.0, 0.0, 0.0, 0.0, 0.0, 0.0, 0.0, 0.0, 0.0, 0.0, 0.0, 0.0, 0.0, 0.0, 0.0, 0.0, 0.0, 0.0, 0.0, 0.0, 0.0, 0.0, 0.0, 0.0, 0.0, 0.0, 0.0, 0.0, 0.0, 0.0, 0.0, 0.0, 0.0, 0.0, 0.0, 0.0, 0.0, 0.0, 0.0], unit='USDT', AMMsells='USDT', bidAsk='bid', pair=P('USDC/USDT'), rate=array([2400.        , 2367.34693878, 2334.69387755, 2302.04081633,\n",
       "       2269.3877551 , 2236.73469388, 2204.08163265, 2171.42857143,\n",
       "       2138.7755102 , 2106.12244898, 2073.46938776, 2040.81632653,\n",
       "       2008.16326531, 1975.51020408, 1942.85714286, 1910.20408163,\n",
       "       1877.55102041, 1844.89795918, 1812.24489796, 1779.59183673,\n",
       "       1746.93877551, 1714.28571429, 1681.63265306, 1648.97959184,\n",
       "       1616.32653061, 1583.67346939, 1551.02040816, 1518.36734694,\n",
       "       1485.71428571, 1453.06122449, 1420.40816327, 1387.75510204,\n",
       "       1355.10204082, 1322.44897959, 1289.79591837, 1257.14285714,\n",
       "       1224.48979592, 1191.83673469, 1159.18367347, 1126.53061224,\n",
       "       1093.87755102, 1061.2244898 , 1028.57142857,  995.91836735,\n",
       "        963.26530612,  930.6122449 ,  897.95918367,  865.30612245,\n",
       "        832.65306122,  800.        ]), inverted=False, islist=True)"
      ]
     },
     "execution_count": 118,
     "metadata": {},
     "output_type": "execute_result"
    },
    {
     "data": {
      "image/png": "[encoded data removed]",
      "text/plain": [
       "<Figure size 432x288 with 1 Axes>"
      ]
     },
     "metadata": {
      "needs_background": "light"
     },
     "output_type": "display_data"
    }
   ],
   "source": [
    "r = SDK.mGetRateLiquidityDepthByPair(rate=np.linspace(2400, 800), pair=pair, AMMsells=tknq)\n",
    "plt.plot(r.rate, r.amount, color=\"red\" if r.bidAsk==\"ask\" else \"lawngreen\")\n",
    "plt.xlabel(f\"{r.pair.slashpair} price ({r.pair.price_convention})\")\n",
    "plt.ylabel(f\"liquidity ({r.unit})\")\n",
    "plt.title(r.bidAsk)\n",
    "plt.grid()\n",
    "r"
   ]
  },
  {
   "cell_type": "code",
   "execution_count": 119,
   "id": "9e44a156-85ef-44e4-937a-afd46fe1c3e8",
   "metadata": {},
   "outputs": [
    {
     "data": {
      "text/plain": [
       "CarbonSDK.PairLiquidity(amount=[0.0, 0.0, 0.0, 0.0, 0.0, 0.0, 0.0, 0.0, 0.0, 0.0, 0.0, 0.0, 0.0, 0.0, 0.0, 0.0, 0.0, 0.0, 0.0, 0.0, 0.0, 0.0, 0.0, 0.0, 0.0, 0.0, 0.0, 0.0, 0.0, 0.0, 0.0, 0.0, 0.0, 0.0, 0.0, 0.0, 0.0, 0.0, 0.0, 0.0, 0.0, 0.0, 0.0, 0.0, 0.0, 0.0, 0.0, 0.0, 0.0, 0.0], unit='USDC', AMMsells='USDC', bidAsk='ask', pair=P('USDC/USDT'), rate=array([2400.        , 2412.24489796, 2424.48979592, 2436.73469388,\n",
       "       2448.97959184, 2461.2244898 , 2473.46938776, 2485.71428571,\n",
       "       2497.95918367, 2510.20408163, 2522.44897959, 2534.69387755,\n",
       "       2546.93877551, 2559.18367347, 2571.42857143, 2583.67346939,\n",
       "       2595.91836735, 2608.16326531, 2620.40816327, 2632.65306122,\n",
       "       2644.89795918, 2657.14285714, 2669.3877551 , 2681.63265306,\n",
       "       2693.87755102, 2706.12244898, 2718.36734694, 2730.6122449 ,\n",
       "       2742.85714286, 2755.10204082, 2767.34693878, 2779.59183673,\n",
       "       2791.83673469, 2804.08163265, 2816.32653061, 2828.57142857,\n",
       "       2840.81632653, 2853.06122449, 2865.30612245, 2877.55102041,\n",
       "       2889.79591837, 2902.04081633, 2914.28571429, 2926.53061224,\n",
       "       2938.7755102 , 2951.02040816, 2963.26530612, 2975.51020408,\n",
       "       2987.75510204, 3000.        ]), inverted=True, islist=True)"
      ]
     },
     "execution_count": 119,
     "metadata": {},
     "output_type": "execute_result"
    },
    {
     "data": {
      "image/png": "[encoded data removed]",
      "text/plain": [
       "<Figure size 432x288 with 1 Axes>"
      ]
     },
     "metadata": {
      "needs_background": "light"
     },
     "output_type": "display_data"
    }
   ],
   "source": [
    "r = SDK.mGetRateLiquidityDepthByPair(rate=np.linspace(2400, 3000), pair=pair, AMMsells=tknb)\n",
    "plt.plot(r.rate, r.amount, color=\"red\" if r.bidAsk==\"ask\" else \"lawngreen\")\n",
    "plt.xlabel(f\"{r.pair.slashpair} price ({r.pair.price_convention})\")\n",
    "plt.ylabel(f\"liquidity ({r.unit})\")\n",
    "plt.title(r.bidAsk)\n",
    "plt.grid()\n",
    "r"
   ]
  }
 ],
 "metadata": {
  "jupytext": {
   "encoding": "# -*- coding: utf-8 -*-",
   "formats": "ipynb,py:light"
  },
  "kernelspec": {
   "display_name": "Python 3",
   "language": "python",
   "name": "python3"
  },
  "language_info": {
   "codemirror_mode": {
    "name": "ipython",
    "version": 3
   },
   "file_extension": ".py",
   "mimetype": "text/x-python",
   "name": "python",
   "nbconvert_exporter": "python",
   "pygments_lexer": "ipython3",
   "version": "3.8.8"
  },
  "toc-autonumbering": false,
  "toc-showcode": false,
  "toc-showmarkdowntxt": false
 },
 "nbformat": 4,
 "nbformat_minor": 5
}
