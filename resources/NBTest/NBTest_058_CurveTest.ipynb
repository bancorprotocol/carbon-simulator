{
 "cells": [
  {
   "cell_type": "code",
   "execution_count": 1,
   "id": "ce011baf",
   "metadata": {},
   "outputs": [
    {
     "name": "stdout",
     "output_type": "stream",
     "text": [
      "[stdimports] imported np, pd, plt, os, sqrt, exp, log\n",
      "SolTestBase v0.2 (11/02/2023)\n",
      "CarbonFloatInt32 v1.0 (10/Feb/2023)\n",
      "Carbon v2.3.2-BETA3 (10/Feb/2022)\n"
     ]
    }
   ],
   "source": [
    "from carbon.helpers.stdimports import *\n",
    "from carbon.helpers.soltest import SolTestBase\n",
    "from carbon.helpers.floatint import *\n",
    "print(\"{0.__name__} v{0.__VERSION__} ({0.__DATE__})\".format(SolTestBase))\n",
    "print(\"{0.__name__} v{0.__VERSION__} ({0.__DATE__})\".format(CarbonFloatInt32))\n",
    "from math import log2, floor, ceil, sqrt\n",
    "print_version(require=\"2.3.2\")"
   ]
  },
  {
   "cell_type": "markdown",
   "id": "edf6bdb6",
   "metadata": {},
   "source": [
    "# Solidity Curve Testing (NBTest058)"
   ]
  },
  {
   "cell_type": "code",
   "execution_count": 2,
   "id": "1a7ffa21",
   "metadata": {},
   "outputs": [],
   "source": [
    "FI32 = CarbonFloatInt32\n",
    "FI40 = CarbonFloatInt40"
   ]
  },
  {
   "cell_type": "markdown",
   "id": "b83ee112",
   "metadata": {},
   "source": [
    "## Demo [NOTEST]"
   ]
  },
  {
   "cell_type": "code",
   "execution_count": 3,
   "id": "226a9e9e",
   "metadata": {},
   "outputs": [],
   "source": [
    "from collections import namedtuple\n",
    "p_nt = namedtuple(\"p\", \"y,z,A,B,S\")\n",
    "def yzABS(pb, w, y, z, decx, decy, sx):\n",
    "    \"\"\"returns (y,z,A,B,s) from prices, curve loading and capacity, decimals and scaling exponent\"\"\"\n",
    "    decf = 10**(decy-decx)\n",
    "    one = 2**sx\n",
    "    pa = w*pb\n",
    "    a = sqrt(pa*decf)-sqrt(pb*decf) # p_ = dy/dx\n",
    "    b = sqrt(pb*decf)               # pw_ = dyw/dxw = dy*decy / dx*decx\n",
    "    return p_nt(int(y*10**decy), int(z*10**decy), int(a*one), int(b*one), one)\n",
    "mulDivF = lambda x, y, z: x * y // z\n",
    "mulDiv = mulDivF\n",
    "mulDivC = lambda x, y, z: (x * y + z - 1) // z"
   ]
  },
  {
   "cell_type": "code",
   "execution_count": 4,
   "id": "2fd365f9",
   "metadata": {},
   "outputs": [],
   "source": [
    "def trade_by_source(params, check_f):\n",
    "    \"\"\"\n",
    "    examined function in standard format\n",
    "    \n",
    "    :params:         parameter tuple; the function then expands it into variables\n",
    "    :check_f:  the check function, checking for over and underflow; must wrap all\n",
    "               integer operations that could over or underflow\n",
    "    \"\"\"\n",
    "\n",
    "    dy,y,z,A,B,s = params\n",
    "    C = check_f\n",
    "    ONE = s\n",
    "    temp1 = C(y * A + z * B, \"temp1\")               # 177 bits at most; cannot overflow\n",
    "    temp2 = C(temp1 * dy / ONE, \"temp2\")            # 224 bits at most; can overflow; some precision loss\n",
    "    temp3 = C(temp2 * A + z * z * ONE, \"temp3\")     # 256 bits at most; can overflow\n",
    "    dx = mulDiv(temp1, temp2, temp3)\n",
    "    return dx"
   ]
  },
  {
   "cell_type": "code",
   "execution_count": 5,
   "id": "7b237613",
   "metadata": {},
   "outputs": [],
   "source": [
    "def trade_by_target(params, check_f):\n",
    "\n",
    "    dx,y,z,A,B,s = params\n",
    "    C = check_f\n",
    "    ONE = s\n",
    "    temp1 = C(z * ONE, \"temp1\")                  \n",
    "    temp2 = C(y * A + z * B, \"temp2\")         \n",
    "    temp3 = C(temp2 - dx * A, \"temp3\")        \n",
    "    scale = C(mulDiv(temp2, temp3, 2**255)+1, \"scale\")\n",
    "    temp1s = C(temp2//scale, \"temp1s\")\n",
    "    temp2s = C(temp2//scale, \"temp2s\")\n",
    "    dy = mulDiv(\n",
    "        C(dx*temp1s, \"dx*temp1s\"), \n",
    "        temp1, \n",
    "        C(temp2s*temp3, \"temp2s*temp3\")\n",
    "    ) \n",
    "    return dy"
   ]
  },
  {
   "cell_type": "code",
   "execution_count": 18,
   "id": "76e535a9",
   "metadata": {},
   "outputs": [],
   "source": [
    "STB = SolTestBase"
   ]
  },
  {
   "cell_type": "code",
   "execution_count": 22,
   "id": "e6fa56f7",
   "metadata": {},
   "outputs": [
    {
     "name": "stdout",
     "output_type": "stream",
     "text": [
      "p(y=100000000000000004764729344, z=100000000000000004764729344, A=16970646435448487936, B=347696105761141555200, S=1099511627776)\n",
      "--- by target:\n",
      "[WARNING:OVERFLOW:TEMP2S*TEMP3] 255 digits: close to max\n",
      "--- by source:\n",
      "[WARNING:OVERFLOW:TEMP3] 255 digits: close to max\n"
     ]
    },
    {
     "data": {
      "text/plain": [
       "2148808848169734883607255898"
      ]
     },
     "execution_count": 22,
     "metadata": {},
     "output_type": "execute_result"
    }
   ],
   "source": [
    "# y = SHIB, x = USDC\n",
    "curve = yzABS(\n",
    "    y    = 1000*1e5,                  # number of tokens on curve (SHIB for $1000)\n",
    "    z    = 1000*1e5,                  # curve capacity (ditto)\n",
    "    pb   = 1e5,                       # curve END price dy/dx (SHIB per USDC)\n",
    "    w    = 1.1,                       # width of the range (1=point)\n",
    "    decx = 6,                         # decimals x (USDC)\n",
    "    decy = 18,                        # decimals y (SHIB)\n",
    "    sx   = 40,                        # scaling exponent\n",
    ")\n",
    "params_bytarg = (1*1e6,) + curve      # dx = token wei received (target, USDC)\n",
    "params_bysrc  = (1*1e5*1e18,) + curve # dy = token wei sent (source, SHIB, worth 1 USDC)\n",
    "print(curve)\n",
    "print(\"--- by target:\")\n",
    "trade_by_target( params_bytarg, STB(context=(\"by_target\", curve)) )\n",
    "print(\"--- by source:\")\n",
    "trade_by_source( params_bysrc, STB(context=(\"by_source\", curve)))"
   ]
  },
  {
   "cell_type": "code",
   "execution_count": 8,
   "id": "1a7cd1e1",
   "metadata": {},
   "outputs": [
    {
     "name": "stdout",
     "output_type": "stream",
     "text": [
      "[WARNING:OVERFLOW:TEMP2S*TEMP3] 255 digits: close to max\n",
      "[WARNING:OVERFLOW:TEMP3] 255 digits: close to max\n"
     ]
    },
    {
     "data": {
      "text/plain": [
       "2148808848169734883607255898"
      ]
     },
     "execution_count": 8,
     "metadata": {},
     "output_type": "execute_result"
    }
   ],
   "source": [
    "trade_by_target(params_bytarg, TB)\n",
    "trade_by_source(params_bysrc, check_f)"
   ]
  },
  {
   "cell_type": "code",
   "execution_count": 9,
   "id": "e7876588",
   "metadata": {},
   "outputs": [],
   "source": [
    "# def trade_by_target(dx,readStorage):\n",
    "\n",
    "#     y,z,A,B,s = readStorage()\n",
    "#     ONE = s\n",
    "#     temp1 = z * ONE                                 # 144 bits at most; cannot overflow\n",
    "#     temp2 = y * A + z * B                           # 177 bits at most; cannot overflow\n",
    "#     temp3 = temp2 - dx * A                          # 177 bits at most\n",
    "#     scale = ???\n",
    "#     dy = mulDiv(dx * (temp1//scale), temp1, (temp2//scale) * temp3)   # each multiplication can overflow\n",
    "#     return dy"
   ]
  },
  {
   "cell_type": "code",
   "execution_count": 10,
   "id": "bcd946f0",
   "metadata": {},
   "outputs": [],
   "source": [
    "# # by target\n",
    "# mulDivF = lambda x, y, z: x * y // z\n",
    "# mulDivC = lambda x, y, z: (x * y + z - 1) // z\n",
    "\n",
    "# temp1 = z * ONE\n",
    "# temp2 = y * A + z * B\n",
    "# temp3 = temp2 - dx * A\n",
    "# scale = mulDivC(temp2, temp3, 2**256-1)\n",
    "# temp4 = mulDivC(temp1, temp1, scale)\n",
    "# temp5 = mulDivF(temp2, temp3, scale)\n",
    "# dy    = mulDivC(dx, temp4, temp5)"
   ]
  },
  {
   "cell_type": "code",
   "execution_count": 11,
   "id": "19213c20",
   "metadata": {},
   "outputs": [],
   "source": [
    "# # by source\n",
    "# mulDivF = lambda x, y, z: x * y // z\n",
    "# mulDivC = lambda x, y, z: (x * y + z - 1) // z\n",
    "\n",
    "# temp1 = z * ONE\n",
    "# temp2 = y * A + z * B\n",
    "# temp3 = temp2 * dy\n",
    "# scale = mulDivC(temp3, A, 2**256-1)\n",
    "# temp4 = mulDivC(temp1, temp1, scale)\n",
    "# temp5 = mulDivC(temp3, A, scale)\n",
    "# dx    = mulDivF(temp2, temp3 // scale, temp4 + temp5)"
   ]
  },
  {
   "cell_type": "markdown",
   "id": "fc72df40",
   "metadata": {},
   "source": [
    "## SolTestBase"
   ]
  },
  {
   "cell_type": "code",
   "execution_count": 12,
   "id": "a4df1fd1",
   "metadata": {},
   "outputs": [],
   "source": [
    "TB0 = SolTestBase()\n",
    "TBrw = SolTestBase(raise_lvl=TB0.LVL_WARN)\n",
    "TBre = SolTestBase(raise_lvl=TB0.LVL_ERR)"
   ]
  },
  {
   "cell_type": "code",
   "execution_count": 13,
   "id": "b1c59eb0",
   "metadata": {
    "lines_to_next_cell": 2
   },
   "outputs": [
    {
     "name": "stdout",
     "output_type": "stream",
     "text": [
      "[ERROR:UNDERFLOW:TESTLABEL] 1 digits: < underflow threshold\n",
      "('[ERROR:UNDERFLOW:TESTLABEL] 1 digits: < underflow threshold', {}, None)\n",
      "[WARNING:UNDERFLOW:TESTLABEL] 11 digits: underflow warning\n",
      "('[WARNING:UNDERFLOW:TESTLABEL] 11 digits: underflow warning', {}, None)\n",
      "[WARNING:OVERFLOW:TESTLABEL] 254 digits: close to max\n",
      "('[WARNING:OVERFLOW:TESTLABEL] 254 digits: close to max', {}, None)\n",
      "[WARNING:OVERFLOW:TESTLABEL] 256 digits: close to max\n",
      "('[WARNING:OVERFLOW:TESTLABEL] 256 digits: close to max', {}, None)\n",
      "[ERROR:OVERFLOW:TESTLABEL] 256 digits: > max\n",
      "('[ERROR:OVERFLOW:TESTLABEL] 256 digits: > max', {}, None)\n"
     ]
    }
   ],
   "source": [
    "try:\n",
    "    TBrw.check_uint256(1, \"testlabel\")\n",
    "    raise RuntimeError(\"should raise\")\n",
    "except TB.UnderflowError as e:\n",
    "    print(e)\n",
    "try:\n",
    "    TBrw.check_uint256(2000, \"testlabel\")\n",
    "    raise RuntimeError(\"should raise\")\n",
    "except TB.UnderflowWarning as e:\n",
    "    print(e)\n",
    "try:\n",
    "    TBrw.check_uint256(2**254, \"testlabel\")\n",
    "    raise RuntimeError(\"should raise\")\n",
    "except TB.OverflowWarning as e:\n",
    "    print(e)\n",
    "try:\n",
    "    TBrw.check_uint256(2**256-1, \"testlabel\")\n",
    "    raise RuntimeError(\"should raise\")\n",
    "except TB.OverflowWarning as e:\n",
    "    print(e)\n",
    "try:\n",
    "    TBrw.check_uint256(2**256, \"testlabel\")\n",
    "    raise RuntimeError(\"should raise\")\n",
    "except TB.OverflowError as e:\n",
    "    print(e)"
   ]
  },
  {
   "cell_type": "code",
   "execution_count": 14,
   "id": "1351ecf9",
   "metadata": {
    "lines_to_next_cell": 2
   },
   "outputs": [
    {
     "name": "stdout",
     "output_type": "stream",
     "text": [
      "[ERROR:UNDERFLOW:TESTLABEL] 1 digits: < underflow threshold\n",
      "('[ERROR:UNDERFLOW:TESTLABEL] 1 digits: < underflow threshold', {}, None)\n",
      "[WARNING:UNDERFLOW:TESTLABEL] 11 digits: underflow warning\n",
      "[WARNING:OVERFLOW:TESTLABEL] 254 digits: close to max\n",
      "[WARNING:OVERFLOW:TESTLABEL] 256 digits: close to max\n",
      "[ERROR:OVERFLOW:TESTLABEL] 256 digits: > max\n",
      "('[ERROR:OVERFLOW:TESTLABEL] 256 digits: > max', {}, None)\n"
     ]
    }
   ],
   "source": [
    "try:\n",
    "    TBre.check_uint256(1, label=\"testlabel\")\n",
    "    raise RuntimeError(\"should raise\")\n",
    "except TBre.UnderflowError as e:\n",
    "    print(e)\n",
    "assert TBre.check_uint256(2000, label=\"testlabel\") == 2000\n",
    "assert TBre.check_uint256(2**254, label=\"testlabel\") == 2**254\n",
    "assert TBre.check_uint256(2**256-1, label=\"testlabel\") == 2**256-1\n",
    "try:\n",
    "    TBre.check_uint256(2**256, label=\"testlabel\")\n",
    "    raise RuntimeError(\"should raise\")\n",
    "except TBre.OverflowError as e:\n",
    "    print(e)"
   ]
  },
  {
   "cell_type": "code",
   "execution_count": 15,
   "id": "140f64f4",
   "metadata": {},
   "outputs": [
    {
     "name": "stdout",
     "output_type": "stream",
     "text": [
      "[ERROR:UNDERFLOW:] 1 digits: < underflow threshold\n",
      "[WARNING:UNDERFLOW:] 11 digits: underflow warning\n",
      "[WARNING:OVERFLOW:] 254 digits: close to max\n",
      "[WARNING:OVERFLOW:] 256 digits: close to max\n",
      "[ERROR:OVERFLOW:] 256 digits: > max\n"
     ]
    }
   ],
   "source": [
    "assert TB.check_uint256(1, log_f=TB.print_f) == 1\n",
    "assert TB.check_uint256(2000, log_f=TB.print_f) == 2000\n",
    "assert TB.check_uint256(2**254, log_f=TB.print_f) == 2**254\n",
    "assert TB.check_uint256(2**256-1, log_f=TB.print_f) == 2**256-1\n",
    "assert TB.check_uint256(2**256, log_f=TB.print_f) == 2**256"
   ]
  },
  {
   "cell_type": "code",
   "execution_count": 16,
   "id": "adbdc447",
   "metadata": {},
   "outputs": [],
   "source": [
    "assert TB._logmsg(level=TB.LVL_WARN, isoverflow=True, label=\"1\", msg=\"\") == '[WARNING:OVERFLOW:1] '\n",
    "assert TB._logmsg(TB.LVL_ERR, False, \"mylabel\", \"mymessage\") == '[ERROR:UNDERFLOW:MYLABEL] mymessage'\n",
    "TB.print_f(False, False, \"mylabel\", \"mymessage\")"
   ]
  },
  {
   "cell_type": "code",
   "execution_count": 17,
   "id": "56aa600f",
   "metadata": {},
   "outputs": [],
   "source": [
    "assert TB.bindig(0) == 0\n",
    "assert TB.bindig(1) == 1\n",
    "assert TB.bindig(2) == 2\n",
    "assert TB.bindig(3) == 2\n",
    "assert TB.bindig(2**10) == 11\n",
    "assert TB.bindig(2**10+1) == 11\n",
    "assert TB.bindig(2**10-1) == 10"
   ]
  },
  {
   "cell_type": "code",
   "execution_count": null,
   "id": "5dc00f43",
   "metadata": {},
   "outputs": [],
   "source": []
  }
 ],
 "metadata": {
  "jupytext": {
   "formats": "ipynb,py:light"
  },
  "kernelspec": {
   "display_name": "Python 3",
   "language": "python",
   "name": "python3"
  },
  "language_info": {
   "codemirror_mode": {
    "name": "ipython",
    "version": 3
   },
   "file_extension": ".py",
   "mimetype": "text/x-python",
   "name": "python",
   "nbconvert_exporter": "python",
   "pygments_lexer": "ipython3",
   "version": "3.8.8"
  }
 },
 "nbformat": 4,
 "nbformat_minor": 5
}
