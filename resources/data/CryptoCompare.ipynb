{
 "cells": [
  {
   "cell_type": "code",
   "execution_count": 1,
   "id": "655e6fab",
   "metadata": {
    "scrolled": true
   },
   "outputs": [
    {
     "name": "stdout",
     "output_type": "stream",
     "text": [
      "CryptoCompare v1.1 (27/Jan/2023)\n"
     ]
    }
   ],
   "source": [
    "from carbon.helpers.cryptocompare import CryptoCompare\n",
    "import pandas as pd\n",
    "from matplotlib import pyplot as plt\n",
    "import os\n",
    "print( \"{0.__name__} v{0.__VERSION__} ({0.__DATE__})\".format(CryptoCompare))"
   ]
  },
  {
   "cell_type": "markdown",
   "id": "1a8bd681",
   "metadata": {},
   "source": [
    "# Crypto Compare\n",
    "\n",
    "https://min-api.cryptocompare.com/documentation"
   ]
  },
  {
   "cell_type": "markdown",
   "id": "d2cb9e84",
   "metadata": {},
   "source": [
    "## SetUp\n",
    "\n",
    "If you have a private API key, run `export CCAPIKEY=<YOURKEY>` before you launch Jupyter on the same shell. In case no key is found the free API is used. You can also provide the API key in the constructor, but this is not recommended for security reasons."
   ]
  },
  {
   "cell_type": "code",
   "execution_count": 2,
   "id": "d37fb19e",
   "metadata": {
    "scrolled": true
   },
   "outputs": [
    {
     "name": "stdout",
     "output_type": "stream",
     "text": [
      "[CryptoCompare] key digest 0000\n"
     ]
    }
   ],
   "source": [
    "try:\n",
    "    CC = CryptoCompare(apikeyname=\"CCAPIKEY\")\n",
    "except:\n",
    "    CC = CryptoCompare(apikey=True)\n",
    "\n",
    "print(\"[CryptoCompare] key digest\", CC.keydigest[:4])"
   ]
  },
  {
   "cell_type": "markdown",
   "id": "d29c4acc",
   "metadata": {},
   "source": [
    "## Chose the data items to be downloaded"
   ]
  },
  {
   "cell_type": "code",
   "execution_count": 3,
   "id": "0484d7e1",
   "metadata": {
    "scrolled": true
   },
   "outputs": [],
   "source": [
    "coins =\"ETH, BTC, BNB, XRP, ADA, DOGE, MATIC, SOL, OKB, DOT, LTC, TRX, AVAX, ATOM\"\n",
    "usdstables = \"USDT, USDC, UST, BUSD\"\n",
    "ccies = \"USD, BTC, ETH\""
   ]
  },
  {
   "cell_type": "markdown",
   "id": "8133ab13",
   "metadata": {},
   "source": [
    "### Code"
   ]
  },
  {
   "cell_type": "code",
   "execution_count": 4,
   "id": "58ac6043",
   "metadata": {
    "scrolled": true
   },
   "outputs": [
    {
     "data": {
      "text/plain": [
       "(pair(tknb='ETH', tknq='USDC'), 'ETH/USDC')"
      ]
     },
     "execution_count": 4,
     "metadata": {},
     "output_type": "execute_result"
    }
   ],
   "source": [
    "CC.pt_from_pair(\"ETH/USDC\"), CC.pair_from_pt(CC.pt_from_pair(\"ETH/USDC\"))"
   ]
  },
  {
   "cell_type": "code",
   "execution_count": 5,
   "id": "372892f4",
   "metadata": {
    "scrolled": true
   },
   "outputs": [
    {
     "data": {
      "text/plain": [
       "(('ETH', 'BTC'), ('ETH', 'BTC'))"
      ]
     },
     "execution_count": 5,
     "metadata": {},
     "output_type": "execute_result"
    }
   ],
   "source": [
    "CC.coinlist(\"ETH, BTC\"), CC.coinlist(CC.coinlist(\"ETH, BTC\"))"
   ]
  },
  {
   "cell_type": "code",
   "execution_count": 6,
   "id": "d9f12368",
   "metadata": {
    "scrolled": true
   },
   "outputs": [
    {
     "data": {
      "text/plain": [
       "(pair(tknb='ETH', tknq='USD'),\n",
       " pair(tknb='BTC', tknq='USD'),\n",
       " pair(tknb='ETH', tknq='BTC'))"
      ]
     },
     "execution_count": 6,
     "metadata": {},
     "output_type": "execute_result"
    }
   ],
   "source": [
    "CC.create_pairs(\"ETH,BTC\", \"USD,BTC\")"
   ]
  },
  {
   "cell_type": "markdown",
   "id": "9bce1d7d",
   "metadata": {},
   "source": [
    "## Coin lists"
   ]
  },
  {
   "cell_type": "markdown",
   "id": "f4036c8e",
   "metadata": {},
   "source": [
    "Here we populate the various coin lists that we will use to download data. They are as follows:\n",
    "\n",
    "- `coins_for_ccy`, `ccies`: creates a table for each of the currencies \n",
    "- `coins_for_cross`: creates a single cross table\n",
    "- `usdstables`: creates a single table against USD\n",
    "\n",
    "We also define the list of items **not** to produce, `excludes`. Finally there is an `includes` list that, if present, specifies the _only_ items to be produced."
   ]
  },
  {
   "cell_type": "code",
   "execution_count": 7,
   "id": "bb5205b1",
   "metadata": {
    "scrolled": true
   },
   "outputs": [],
   "source": [
    "coins_for_ccy =\"ETH, BTC, BNB, XRP, ADA, DOGE, MATIC, SOL, OKB, DOT, LTC, TRX, AVAX, ATOM\"\n",
    "coins_for_cross =\"ETH, BTC, BNB, XRP, ADA, DOGE, MATIC, SOL, OKB, DOT, LTC, TRX, AVAX, ATOM\"\n",
    "usdstables = \"USDT, USDC, UST, BUSD\"\n",
    "ccies = \"USD, BTC, ETH\"\n",
    "\n",
    "#excludes = ['COINS-CROSS', 'STABLES-USD', 'COINS-USD', 'COINS-BTC', 'COINS-ETH']\n",
    "#includes = [\"STABLES-USD\"]"
   ]
  },
  {
   "cell_type": "markdown",
   "id": "fe44fd9b",
   "metadata": {},
   "source": [
    "The table `dltable0` has as keys the filename, and the data is a tuple of pairs. The table `dltable` contains the final downloads, the difference being the `excludes` to avoid redownloading data that is not needed. \n",
    "\n",
    "**YOU MUST RESTART THE KERNEL IF YOU MAKE CHANGES TO INCLUDES OR EXCLUDES**."
   ]
  },
  {
   "cell_type": "code",
   "execution_count": 8,
   "id": "e3146187",
   "metadata": {
    "scrolled": true
   },
   "outputs": [
    {
     "data": {
      "text/plain": [
       "(dict_keys(['COINS-CROSS', 'STABLES-USD', 'COINS-USD', 'COINS-BTC', 'COINS-ETH']),\n",
       " dict_keys(['COINS-CROSS', 'STABLES-USD', 'COINS-USD', 'COINS-BTC', 'COINS-ETH']))"
      ]
     },
     "execution_count": 8,
     "metadata": {},
     "output_type": "execute_result"
    }
   ],
   "source": [
    "dltable0 = {\n",
    "    \"COINS-CROSS\": CC.create_pairs(coins_for_cross),\n",
    "    \"STABLES-USD\": CC.create_pairs(usdstables, \"USD\"),\n",
    "    **{\n",
    "        f\"COINS-{ccy}\": CC.create_pairs(coins_for_ccy, ccy)\n",
    "        for ccy in CC.coinlist(ccies)\n",
    "    }\n",
    "}\n",
    "try:\n",
    "    dltable = {k:v for k, v in dltable0.items() if k in includes}\n",
    "except:\n",
    "    try:\n",
    "        dltable = {k:v for k, v in dltable0.items() if not k in excludes}\n",
    "    except:\n",
    "        dltable = dltable0\n",
    "dltable0.keys(), dltable.keys()"
   ]
  },
  {
   "cell_type": "markdown",
   "id": "a73ab046",
   "metadata": {},
   "source": [
    "## Data download"
   ]
  },
  {
   "cell_type": "markdown",
   "id": "a2736ecb",
   "metadata": {},
   "source": [
    "### Raw tables"
   ]
  },
  {
   "cell_type": "code",
   "execution_count": null,
   "id": "a77ab1fb",
   "metadata": {
    "scrolled": false
   },
   "outputs": [],
   "source": [
    "for item, pairs in dltable.items():\n",
    "    print(\"Downloading raw table\", item, len(pairs))\n",
    "    results = {\n",
    "        (fsym, tsym): CC.query_dailypair(fsym=fsym, tsym=tsym)\n",
    "        for fsym, tsym in pairs\n",
    "    }\n",
    "    df = pd.concat(results, axis=1)\n",
    "    df.to_pickle(CC.datafn(f\"{item}-RAW.pickle\"))"
   ]
  },
  {
   "cell_type": "code",
   "execution_count": null,
   "id": "0d758174",
   "metadata": {
    "scrolled": true
   },
   "outputs": [],
   "source": [
    "!ls cryptocompare"
   ]
  },
  {
   "cell_type": "markdown",
   "id": "fe548588",
   "metadata": {},
   "source": [
    "### Reformatted tables"
   ]
  },
  {
   "cell_type": "code",
   "execution_count": null,
   "id": "8b50e8c7",
   "metadata": {
    "scrolled": true
   },
   "outputs": [],
   "source": [
    "for item in dltable:\n",
    "    print(\"Converting raw table\", item)\n",
    "    df = pd.read_pickle(CC.datafn(f\"{item}-RAW.pickle\"))\n",
    "    df = CC.reformat_raw_df(df)\n",
    "    df.to_pickle(CC.datafn(f\"{item}.pickle\"))"
   ]
  },
  {
   "cell_type": "markdown",
   "id": "23a9418f",
   "metadata": {},
   "source": [
    "## Review tables"
   ]
  },
  {
   "cell_type": "code",
   "execution_count": null,
   "id": "9acd40c5",
   "metadata": {
    "scrolled": true
   },
   "outputs": [],
   "source": [
    "!ls cryptocompare"
   ]
  },
  {
   "cell_type": "code",
   "execution_count": null,
   "id": "d8a03ef4",
   "metadata": {
    "scrolled": true
   },
   "outputs": [],
   "source": [
    "df = pd.read_pickle(\"cryptocompare/COINS-ETH.pickle\")\n",
    "df = pd.read_pickle(\"cryptocompare/COINS-CROSS.pickle\")\n",
    "df"
   ]
  },
  {
   "cell_type": "code",
   "execution_count": null,
   "id": "ff2a8f1a",
   "metadata": {
    "lines_to_next_cell": 2,
    "scrolled": false
   },
   "outputs": [],
   "source": []
  },
  {
   "cell_type": "code",
   "execution_count": null,
   "id": "4ed6a5f6",
   "metadata": {},
   "outputs": [],
   "source": []
  }
 ],
 "metadata": {
  "jupytext": {
   "encoding": "# -*- coding: utf-8 -*-",
   "formats": "ipynb,py:light"
  },
  "kernelspec": {
   "display_name": "Python 3",
   "language": "python",
   "name": "python3"
  },
  "language_info": {
   "codemirror_mode": {
    "name": "ipython",
    "version": 3
   },
   "file_extension": ".py",
   "mimetype": "text/x-python",
   "name": "python",
   "nbconvert_exporter": "python",
   "pygments_lexer": "ipython3",
   "version": "3.8.8"
  }
 },
 "nbformat": 4,
 "nbformat_minor": 5
}
