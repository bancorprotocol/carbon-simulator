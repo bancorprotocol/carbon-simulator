{
 "cells": [
  {
   "cell_type": "code",
   "execution_count": 1,
   "id": "a0855cc0-2db7-4341-b0ef-fcb343ca3636",
   "metadata": {},
   "outputs": [
    {
     "name": "stdout",
     "output_type": "stream",
     "text": [
      "CarbonSDK v0.9 (11/Mar/2023)\n",
      "v18.14.2\n"
     ]
    }
   ],
   "source": [
    "from carbon.sdk import CarbonSDK, Tokens as T\n",
    "from carbon import CarbonOrderUI, CarbonSimulatorUI\n",
    "from carbon.helpers.widgets import CheckboxManager, DropdownManager, PcSliderManager\n",
    "from matplotlib import pyplot as plt\n",
    "import numpy as np\n",
    "print(\"{0.__name__} v{0.__VERSION__} ({0.__DATE__})\".format(CarbonSDK))\n",
    "!node --version"
   ]
  },
  {
   "cell_type": "markdown",
   "id": "3650b16b-d020-4063-84c6-ab9fb7556552",
   "metadata": {},
   "source": [
    "# Maker Functionality [NB20]\n",
    "\n",
    "\n",
    "In order to start the server, please run\n",
    "\n",
    "    source /Volumes/Private/bin/sdkserver\n",
    "    node server/sdkserver.mjs"
   ]
  },
  {
   "cell_type": "code",
   "execution_count": 2,
   "id": "15bfcae7-1124-4a6b-b12f-26d2f9f8173a",
   "metadata": {},
   "outputs": [
    {
     "name": "stdout",
     "output_type": "stream",
     "text": [
      "0x02aA0c42702110747c4cEa3C4Daf4D6cF701a6Ee\n"
     ]
    },
    {
     "data": {
      "text/plain": [
       "'Carbon SDK v0.9 (7/Mar/2022)'"
      ]
     },
     "execution_count": 2,
     "metadata": {},
     "output_type": "execute_result"
    }
   ],
   "source": [
    "SDK = CarbonSDK(disclaimer=False, verbose=False, Tokens=T)\n",
    "pairs, pairs_s = SDK.pairs(inclstr=True)\n",
    "sdkaddr = SDK.addr()\n",
    "print(sdkaddr)\n",
    "SDK.version().get(\"msg\")"
   ]
  },
  {
   "cell_type": "markdown",
   "id": "6ef9dedd-8b0f-48df-9b82-3c9b3da5e2c6",
   "metadata": {},
   "source": [
    "## Pair selection"
   ]
  },
  {
   "cell_type": "code",
   "execution_count": 3,
   "id": "0d6e1623-02d3-40a8-8d1f-92ce2ad70406",
   "metadata": {},
   "outputs": [
    {
     "data": {
      "application/vnd.jupyter.widget-view+json": {
       "model_id": "1dadbea567964ddfbfa4d75dbb5dc0b3",
       "version_major": 2,
       "version_minor": 0
      },
      "text/plain": [
       "Dropdown(index=1, options=(('USDC/USDT', 'USDC/USDT'), ('USDC/ETH', 'USDC/ETH'), ('BNT/USDT', 'BNT/USDT'), ('B…"
      ]
     },
     "metadata": {},
     "output_type": "display_data"
    }
   ],
   "source": [
    "try:\n",
    "    pairs_sel = [s.strip() for s in pairs_s.split(\",\")]\n",
    "    pairs_w()\n",
    "except:\n",
    "    pairs_w = DropdownManager(pairs_sel, defaultval=\"USDC/ETH\")\n",
    "    pairs_w()"
   ]
  },
  {
   "cell_type": "code",
   "execution_count": 4,
   "id": "db1bc0de-4a0f-4d9b-93cf-a484a757e7d2",
   "metadata": {},
   "outputs": [
    {
     "data": {
      "application/vnd.jupyter.widget-view+json": {
       "model_id": "14abfff678b4495a8ad4101a85a4f321",
       "version_major": 2,
       "version_minor": 0
      },
      "text/plain": [
       "VBox(children=(Checkbox(value=True, description='inverse'),))"
      ]
     },
     "metadata": {},
     "output_type": "display_data"
    }
   ],
   "source": [
    "try:\n",
    "    inverse_w()\n",
    "except:\n",
    "    inverse_w = CheckboxManager([\"inverse\"], values=[1])\n",
    "    inverse_w()"
   ]
  },
  {
   "cell_type": "code",
   "execution_count": 5,
   "id": "2f3cfec2-11a0-445f-90a1-9a9674ef79e3",
   "metadata": {},
   "outputs": [
    {
     "data": {
      "text/plain": [
       "'ETH/USDC'"
      ]
     },
     "execution_count": 5,
     "metadata": {},
     "output_type": "execute_result"
    }
   ],
   "source": [
    "tknb,tknq = pairs_w.value.split(\"/\")\n",
    "if inverse_w.values[0]:\n",
    "    tknb,tknq = tknq, tknb\n",
    "pair = f\"{tknb}/{tknq}\"\n",
    "pair"
   ]
  },
  {
   "cell_type": "markdown",
   "id": "e33d2e12-753c-474e-affe-dc34ac03ec97",
   "metadata": {},
   "source": [
    "## Market information"
   ]
  },
  {
   "cell_type": "code",
   "execution_count": 6,
   "id": "6a394fd8-8262-4cef-a8a9-cf421f2e2a48",
   "metadata": {},
   "outputs": [
    {
     "data": {
      "text/plain": [
       "MarketByPair(pair='ETH/USDC', bestBid=1499.999999795006, bestAsk=1630.0000000000148, liqBid=2497052.640732, liqAsk=2154.036407671459, lastBid=799.9999998679182, lastAsk=3000.0000000000327)"
      ]
     },
     "execution_count": 6,
     "metadata": {},
     "output_type": "execute_result"
    }
   ],
   "source": [
    "m = SDK.mGetMarketByPair(pair=pair)\n",
    "m"
   ]
  },
  {
   "cell_type": "code",
   "execution_count": 7,
   "id": "dc47a1be-c1be-4f68-96a9-f0db1e2902ef",
   "metadata": {},
   "outputs": [
    {
     "data": {
      "text/plain": [
       "(800.0, 1500.0, 1565.0, 1630.0, 3000.0)"
      ]
     },
     "execution_count": 7,
     "metadata": {},
     "output_type": "execute_result"
    }
   ],
   "source": [
    "SDK.roundsd(m.lastBid,6), SDK.roundsd(m.bestBid,6), SDK.roundsd(m.mid,6), SDK.roundsd(m.bestAsk,6), SDK.roundsd(m.lastAsk,6)"
   ]
  },
  {
   "cell_type": "code",
   "execution_count": 8,
   "id": "d4256722-3f8d-401d-972e-87cd8d10662c",
   "metadata": {},
   "outputs": [
    {
     "data": {
      "text/plain": [
       "(2497100.0, 'USDC', 2154.0, 'ETH')"
      ]
     },
     "execution_count": 8,
     "metadata": {},
     "output_type": "execute_result"
    }
   ],
   "source": [
    "(SDK.roundsd(m.liqBid,4), m.liqBidUnit, SDK.roundsd(m.liqAsk,4), m.liqAskUnit)"
   ]
  },
  {
   "cell_type": "markdown",
   "id": "c1e8d034-468b-47d7-80bd-d702885a8b60",
   "metadata": {},
   "source": [
    "## Create strategy"
   ]
  },
  {
   "cell_type": "markdown",
   "id": "37cbe9f7-3262-47a6-8be5-7ba5509d5331",
   "metadata": {},
   "source": [
    "#### `mCreateStrategy`"
   ]
  },
  {
   "cell_type": "code",
   "execution_count": 9,
   "id": "8adff07c-fa39-4934-8304-19fb0b334267",
   "metadata": {},
   "outputs": [
    {
     "data": {
      "application/vnd.jupyter.widget-view+json": {
       "model_id": "546df9dd4e8e4381bd5170ed1122c972",
       "version_major": 2,
       "version_minor": 0
      },
      "text/plain": [
       "VBox(children=(FloatSlider(value=0.0, continuous_update=False, description='buyStart', readout_format='.1f'), …"
      ]
     },
     "metadata": {},
     "output_type": "display_data"
    }
   ],
   "source": [
    "try:\n",
    "    strat_w()\n",
    "except:\n",
    "    strat_w = PcSliderManager(choices=[\"buyStart\", \"buyEnd\", \"sellStart\", \"sellEnd\"], values=[0, 1, 0, 1])\n",
    "    strat_w()"
   ]
  },
  {
   "cell_type": "code",
   "execution_count": 10,
   "id": "829b2047-d296-4c64-a7fc-5ef2ea51c411",
   "metadata": {},
   "outputs": [
    {
     "name": "stdout",
     "output_type": "stream",
     "text": [
      "pair = ETH/USDC, TknB=ETH, TknQ=USDC\n",
      "buy  ETH 1500.0 down to 800.0   [5 USDC] \n",
      "sell ETH 1630.0      to 3000.0   [10000 ETH] \n"
     ]
    }
   ],
   "source": [
    "sellAmountTknB =     5\n",
    "buyAmountTknQ  = 10000\n",
    "x = strat_w.values\n",
    "print(f\"pair = {pair}, TknB={tknb}, TknQ={tknq}\")\n",
    "print(f\"buy  {tknb} {SDK.roundsd(m.ibid(x[0]),6)} down to {SDK.roundsd(m.ibid(x[1]),6)}   [{sellAmountTknB} {tknq}] \")\n",
    "print(f\"sell {tknb} {SDK.roundsd(m.iask(x[2]),6)}      to {SDK.roundsd(m.iask(x[3]),6)}   [{buyAmountTknQ} {tknb}] \")"
   ]
  },
  {
   "cell_type": "code",
   "execution_count": 11,
   "id": "3f44e924-cdbe-4053-b864-a64dddffa795",
   "metadata": {},
   "outputs": [
    {
     "data": {
      "text/plain": [
       "{'data': '0xf727473a000000000000000000000000eeeeeeeeeeeeeeeeeeeeeeeeeeeeeeeeeeeeeeee000000000000000000000000a0b86991c6218b36c1d19d4a2e9eb0ce3606eb480000000000000000000000000000000000000000000000004563918244f400000000000000000000000000000000000000000000000000004563918244f40000000000000000000000000000000000000000000000000000000dcb7b9cf94fa0000000000000000000000000000000000000000000000000000f8ea2d65093c400000000000000000000000000000000000000000000000000000002540be40000000000000000000000000000000000000000000000000000000002540be40000000000000000000000000000000000000000000000000000000000af3f591c00000000000000000000000000000000000000000000000000000001da88051e',\n",
       " 'to': '0x2FdE9E0cE83769E88eAA9FB7BE27cb26c385d1b2',\n",
       " 'gasLimit': {'type': 'BigNumber', 'hex': '0x3b9ac9ff'},\n",
       " 'value': {'type': 'BigNumber', 'hex': '0x4563918244f40000'}}"
      ]
     },
     "execution_count": 11,
     "metadata": {},
     "output_type": "execute_result"
    }
   ],
   "source": [
    "x = strat_w.values\n",
    "tx = SDK.mCreateStrategy(\n",
    "    pair, \n",
    "    buyRangeStart  = m.ibid(x[0]), buyRangeEnd  = m.ibid(x[1]), buyAmountTknQ = buyAmountTknQ, \n",
    "    sellRangeStart = m.iask(x[2]), sellRangeEnd = m.iask(x[3]), sellAmountTknB = sellAmountTknB, \n",
    "    overrides = None)\n",
    "tx"
   ]
  },
  {
   "cell_type": "code",
   "execution_count": 12,
   "id": "a7009668-8b6e-4479-94fc-876f494d57fd",
   "metadata": {},
   "outputs": [
    {
     "data": {
      "application/vnd.jupyter.widget-view+json": {
       "model_id": "73755599c220459b9a2f8aea45bfb08d",
       "version_major": 2,
       "version_minor": 0
      },
      "text/plain": [
       "VBox(children=(Checkbox(value=False, description='submit'),))"
      ]
     },
     "metadata": {},
     "output_type": "display_data"
    }
   ],
   "source": [
    "try:\n",
    "    submit_w()\n",
    "except:\n",
    "    submit_w = CheckboxManager([\"submit\"], values=[0])\n",
    "    submit_w()"
   ]
  },
  {
   "cell_type": "code",
   "execution_count": 13,
   "id": "441829ae-3298-4d8d-8e49-20961b64077c",
   "metadata": {},
   "outputs": [
    {
     "data": {
      "text/plain": [
       "'check box above to submit'"
      ]
     },
     "execution_count": 13,
     "metadata": {},
     "output_type": "execute_result"
    }
   ],
   "source": [
    "if submit_w.values[0]: \n",
    "    r = SDK.signsubmittx(tx, sign=True)\n",
    "else:\n",
    "    r = \"check box above to submit\"\n",
    "r"
   ]
  },
  {
   "cell_type": "markdown",
   "id": "a9d145ec-f422-41f8-a8ca-0b4f665fd983",
   "metadata": {},
   "source": [
    "## Review strategies"
   ]
  },
  {
   "cell_type": "code",
   "execution_count": 14,
   "id": "74127cd7-79b3-4d42-8834-cf9d9e139032",
   "metadata": {
    "tags": []
   },
   "outputs": [
    {
     "data": {
      "text/plain": [
       "Strategy(sid=492, baseToken='BNT', quoteToken='DAI', buyPriceLow=0.2, buyPriceHigh=0.2, buyBudget=100.0, sellPriceLow=0.4, sellPriceHigh=0.4, sellBudget=200.0, encoded=EncodedStrategy(sid=492, order0=EncodedOrder(token='BNT', y=200000000000000000000, z=200000000000000000000, A=0, B=504000484397786), order1=EncodedOrder(token='DAI', y=100000000000000000000, z=100000000000000000000, A=0, B=125879436378039)))"
      ]
     },
     "execution_count": 14,
     "metadata": {},
     "output_type": "execute_result"
    }
   ],
   "source": [
    "data = SDK.mGetUserStrategies(user=sdkaddr)\n",
    "data[0]"
   ]
  },
  {
   "cell_type": "code",
   "execution_count": 15,
   "id": "d21b2d53-c248-40a1-ba04-bb141ca73806",
   "metadata": {},
   "outputs": [
    {
     "name": "stdout",
     "output_type": "stream",
     "text": [
      "selling DAI @ (5.000000000000031..5.000000000000031)  [TKNwei] per DAIwei\n",
      "order1: buying  BNT @ (0.19999999999999876..0.19999999999999876) DAIwei per BNTwei\n",
      "order1: buying  BNT @ (0.2..0.2) DAI per BNT\n"
     ]
    },
    {
     "data": {
      "text/plain": [
       "('buying BNT @', 0.19999999999999876, 0.19999999999999876, 'DAI per BNT')"
      ]
     },
     "execution_count": 15,
     "metadata": {},
     "output_type": "execute_result"
    }
   ],
   "source": [
    "d, de=data[0], data[0].encoded\n",
    "print(de.order1.descr)\n",
    "print(de.descr[1])\n",
    "print(d.descr[1])\n",
    "f\"buying {d.baseToken} @\", de.order1.p_start, de.order1.p_end, f\"{d.quoteToken} per {d.baseToken}\""
   ]
  },
  {
   "cell_type": "code",
   "execution_count": 16,
   "id": "71371231-8812-449d-b696-f82084051b7b",
   "metadata": {},
   "outputs": [
    {
     "name": "stdout",
     "output_type": "stream",
     "text": [
      "selling BNT @ (0.4000000000000021..0.4000000000000021)  [TKNwei] per BNTwei\n",
      "order0: selling BNT @ (0.4000000000000021..0.4000000000000021) DAIwei per BNTwei\n",
      "order0: selling BNT @ (0.4..0.4) DAI per BNT\n"
     ]
    },
    {
     "data": {
      "text/plain": [
       "('selling BNT @', 0.4000000000000021, 0.4000000000000021, 'DAI per BNT')"
      ]
     },
     "execution_count": 16,
     "metadata": {},
     "output_type": "execute_result"
    }
   ],
   "source": [
    "d, de=data[0], data[0].encoded\n",
    "print(de.order0.descr)\n",
    "print(de.descr[0])\n",
    "print(d.descr[0])\n",
    "f\"selling {d.baseToken} @\", 1/de.order0.p_start, 1/de.order0.p_end, f\"{d.quoteToken} per {d.baseToken}\""
   ]
  },
  {
   "cell_type": "code",
   "execution_count": 21,
   "id": "09907be8-3e8b-4f40-940f-ddf0201c9fda",
   "metadata": {},
   "outputs": [
    {
     "name": "stdout",
     "output_type": "stream",
     "text": [
      "Number of strategies: 1\n"
     ]
    }
   ],
   "source": [
    "print(f\"Number of strategies: {len(data)}\")"
   ]
  },
  {
   "cell_type": "code",
   "execution_count": 22,
   "id": "a9374d39-9c72-43b8-bdfd-cfe36911f6d3",
   "metadata": {},
   "outputs": [
    {
     "data": {
      "text/html": [
       "<div>\n",
       "<style scoped>\n",
       "    .dataframe tbody tr th:only-of-type {\n",
       "        vertical-align: middle;\n",
       "    }\n",
       "\n",
       "    .dataframe tbody tr th {\n",
       "        vertical-align: top;\n",
       "    }\n",
       "\n",
       "    .dataframe thead th {\n",
       "        text-align: right;\n",
       "    }\n",
       "</style>\n",
       "<table border=\"1\" class=\"dataframe\">\n",
       "  <thead>\n",
       "    <tr style=\"text-align: right;\">\n",
       "      <th></th>\n",
       "      <th>id</th>\n",
       "      <th>pair</th>\n",
       "      <th>tkn</th>\n",
       "      <th>y_int</th>\n",
       "      <th>y</th>\n",
       "      <th>y_unit</th>\n",
       "      <th>disabled</th>\n",
       "      <th>p_start</th>\n",
       "      <th>p_end</th>\n",
       "      <th>p_marg</th>\n",
       "      <th>p_unit</th>\n",
       "      <th>lid</th>\n",
       "      <th>cid</th>\n",
       "    </tr>\n",
       "  </thead>\n",
       "  <tbody>\n",
       "    <tr>\n",
       "      <th>0</th>\n",
       "      <td>0</td>\n",
       "      <td>BNTDAI</td>\n",
       "      <td>BNT</td>\n",
       "      <td>200.0</td>\n",
       "      <td>200.0</td>\n",
       "      <td>BNT</td>\n",
       "      <td>False</td>\n",
       "      <td>0.4</td>\n",
       "      <td>0.4</td>\n",
       "      <td>0.4</td>\n",
       "      <td>DAI per BNT</td>\n",
       "      <td>1</td>\n",
       "      <td>492</td>\n",
       "    </tr>\n",
       "    <tr>\n",
       "      <th>1</th>\n",
       "      <td>1</td>\n",
       "      <td>BNTDAI</td>\n",
       "      <td>DAI</td>\n",
       "      <td>100.0</td>\n",
       "      <td>100.0</td>\n",
       "      <td>DAI</td>\n",
       "      <td>False</td>\n",
       "      <td>0.2</td>\n",
       "      <td>0.2</td>\n",
       "      <td>0.2</td>\n",
       "      <td>DAI per BNT</td>\n",
       "      <td>0</td>\n",
       "      <td>492</td>\n",
       "    </tr>\n",
       "  </tbody>\n",
       "</table>\n",
       "</div>"
      ],
      "text/plain": [
       "   id    pair  tkn  y_int      y y_unit  disabled  p_start  p_end  p_marg  \\\n",
       "0   0  BNTDAI  BNT  200.0  200.0    BNT     False      0.4    0.4     0.4   \n",
       "1   1  BNTDAI  DAI  100.0  100.0    DAI     False      0.2    0.2     0.2   \n",
       "\n",
       "        p_unit  lid  cid  \n",
       "0  DAI per BNT    1  492  \n",
       "1  DAI per BNT    0  492  "
      ]
     },
     "execution_count": 22,
     "metadata": {},
     "output_type": "execute_result"
    }
   ],
   "source": [
    "Sim = CarbonSimulatorUI(verbose=False, raiseonerror=True)\n",
    "for d in data:\n",
    "    Sim.add_fromsdk(d, 6)\n",
    "Sim.state()[\"orders\"]"
   ]
  },
  {
   "cell_type": "markdown",
   "id": "5841c26f-9646-4521-bf8d-d331c85e4c65",
   "metadata": {},
   "source": [
    "## Delete strategies"
   ]
  },
  {
   "cell_type": "code",
   "execution_count": 23,
   "id": "0b4cbfe3-c074-4ec2-a225-bea0813a8ade",
   "metadata": {},
   "outputs": [
    {
     "data": {
      "application/vnd.jupyter.widget-view+json": {
       "model_id": "e8915cd664f0427ab8c23413da990f6b",
       "version_major": 2,
       "version_minor": 0
      },
      "text/plain": [
       "VBox(children=(Checkbox(value=False, description='492'),))"
      ]
     },
     "metadata": {},
     "output_type": "display_data"
    }
   ],
   "source": [
    "stratids = [d[\"id\"] for d in data]\n",
    "try:\n",
    "    delete_w()\n",
    "except:\n",
    "    delete_w = CheckboxManager(stratids)\n",
    "    delete_w()"
   ]
  },
  {
   "cell_type": "code",
   "execution_count": 24,
   "id": "e184cf0d-9b99-4daa-9a7f-770f0e865831",
   "metadata": {},
   "outputs": [
    {
     "data": {
      "application/vnd.jupyter.widget-view+json": {
       "model_id": "1399b5b9f2d84c89b5b6307b8525b882",
       "version_major": 2,
       "version_minor": 0
      },
      "text/plain": [
       "VBox(children=(Checkbox(value=False, description='submit delete'),))"
      ]
     },
     "metadata": {},
     "output_type": "display_data"
    }
   ],
   "source": [
    "try:\n",
    "    submitd_w()\n",
    "except:\n",
    "    submitd_w = CheckboxManager([\"submit delete\"], values=[0])\n",
    "    submitd_w()"
   ]
  },
  {
   "cell_type": "code",
   "execution_count": 25,
   "id": "7aeeecf3-3a15-47e8-8c74-47d804df89ce",
   "metadata": {},
   "outputs": [],
   "source": [
    "for cid, ds in zip(stratids, delete_w.values):\n",
    "    if ds:\n",
    "        data = SDK.deleteStrategy(strategyId=cid)\n",
    "        #print(data)\n",
    "        if submitd_w.values[0]:\n",
    "            result = SDK.signsubmittx(data, sign=True)\n",
    "            print(f\"Deleteting strategy {cid}: \", result)\n",
    "            delete_w = None\n",
    "        else:\n",
    "            print(f\"Would delete strategy {cid} if box was ticked \")"
   ]
  },
  {
   "cell_type": "code",
   "execution_count": null,
   "id": "6cce5546-d1e6-43f9-a4e0-ffcff1658de1",
   "metadata": {
    "lines_to_next_cell": 2
   },
   "outputs": [],
   "source": []
  }
 ],
 "metadata": {
  "jupytext": {
   "encoding": "# -*- coding: utf-8 -*-",
   "formats": "ipynb,py:light"
  },
  "kernelspec": {
   "display_name": "Python 3",
   "language": "python",
   "name": "python3"
  },
  "language_info": {
   "codemirror_mode": {
    "name": "ipython",
    "version": 3
   },
   "file_extension": ".py",
   "mimetype": "text/x-python",
   "name": "python",
   "nbconvert_exporter": "python",
   "pygments_lexer": "ipython3",
   "version": "3.8.8"
  },
  "toc-autonumbering": false,
  "toc-showcode": false,
  "toc-showmarkdowntxt": false
 },
 "nbformat": 4,
 "nbformat_minor": 5
}
