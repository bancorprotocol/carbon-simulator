{
 "cells": [
  {
   "cell_type": "code",
   "execution_count": 167,
   "id": "a0855cc0-2db7-4341-b0ef-fcb343ca3636",
   "metadata": {},
   "outputs": [
    {
     "name": "stdout",
     "output_type": "stream",
     "text": [
      "CarbonSDK v0.9 (8/Mar/2023)\n",
      "v18.14.2\n"
     ]
    }
   ],
   "source": [
    "from carbon.sdk import CarbonSDK, Tokens as T\n",
    "#from carbon import CarbonOrderUI, CarbonSimulatorUI\n",
    "from carbon.helpers.widgets import CheckboxManager, DropdownManager, PcSliderManager\n",
    "from matplotlib import pyplot as plt\n",
    "import numpy as np\n",
    "print(\"{0.__name__} v{0.__VERSION__} ({0.__DATE__})\".format(CarbonSDK))\n",
    "!node --version"
   ]
  },
  {
   "cell_type": "markdown",
   "id": "3650b16b-d020-4063-84c6-ab9fb7556552",
   "metadata": {},
   "source": [
    "# Order Book [NB11]\n",
    "\n",
    "In order to start the server, please run\n",
    "\n",
    "    source /Volumes/Private/bin/sdkserver\n",
    "    node server/sdkserver.mjs"
   ]
  },
  {
   "cell_type": "code",
   "execution_count": 168,
   "id": "abbeaeed-7c75-4d55-86ba-15f0ab16265e",
   "metadata": {},
   "outputs": [
    {
     "data": {
      "text/plain": [
       "'Carbon SDK v0.9 (7/Mar/2022)'"
      ]
     },
     "execution_count": 168,
     "metadata": {},
     "output_type": "execute_result"
    }
   ],
   "source": [
    "SDK = CarbonSDK(disclaimer=False, verbose=False, Tokens=T)\n",
    "pairs, pairs_s = SDK.pairs(inclstr=True)\n",
    "SDK.version().get(\"msg\")"
   ]
  },
  {
   "cell_type": "code",
   "execution_count": 169,
   "id": "339b5fe1-c9f8-41b1-906f-e78e46a22634",
   "metadata": {
    "lines_to_next_cell": 2
   },
   "outputs": [
    {
     "data": {
      "application/vnd.jupyter.widget-view+json": {
       "model_id": "89b6e93283624deab15014a323396004",
       "version_major": 2,
       "version_minor": 0
      },
      "text/plain": [
       "Dropdown(index=1, options=(('USDC/USDT', 'USDC/USDT'), ('USDC/ETH', 'USDC/ETH'), ('BNT/USDT', 'BNT/USDT'), ('B…"
      ]
     },
     "metadata": {},
     "output_type": "display_data"
    }
   ],
   "source": [
    "try:\n",
    "    pairs_sel = [s.strip() for s in pairs_s.split(\",\")]\n",
    "    pairs_w()\n",
    "except:\n",
    "    pairs_w = DropdownManager(pairs_sel)\n",
    "    pairs_w()"
   ]
  },
  {
   "cell_type": "code",
   "execution_count": 170,
   "id": "80a76551-eecb-4aca-b718-5be5c8dac9b3",
   "metadata": {},
   "outputs": [
    {
     "data": {
      "application/vnd.jupyter.widget-view+json": {
       "model_id": "83178ea8fcd84a9895864e08d5200d8e",
       "version_major": 2,
       "version_minor": 0
      },
      "text/plain": [
       "VBox(children=(Checkbox(value=True, description='inverse'),))"
      ]
     },
     "metadata": {},
     "output_type": "display_data"
    }
   ],
   "source": [
    "try:\n",
    "    inverse_w()\n",
    "except:\n",
    "    inverse_w = CheckboxManager([\"inverse\"])\n",
    "    inverse_w()"
   ]
  },
  {
   "cell_type": "code",
   "execution_count": 171,
   "id": "8d569424-6669-4b38-b630-321a1c97dc9a",
   "metadata": {},
   "outputs": [
    {
     "data": {
      "text/plain": [
       "'ETH/USDC'"
      ]
     },
     "execution_count": 171,
     "metadata": {},
     "output_type": "execute_result"
    }
   ],
   "source": [
    "tknb,tknq = pairs_w.value.split(\"/\")\n",
    "if inverse_w.values[0]:\n",
    "    tknb,tknq = tknq, tknb\n",
    "pair = f\"{tknb}/{tknq}\"\n",
    "pair"
   ]
  },
  {
   "cell_type": "code",
   "execution_count": 172,
   "id": "b5381293-36c3-48b7-979d-ace963b92893",
   "metadata": {},
   "outputs": [],
   "source": [
    "liqa = SDK.mGetLiquidityByPair(pair=pair, AMMsells=tknb)\n",
    "liqb = SDK.mGetLiquidityByPair(pair=pair, AMMsells=tknq)\n",
    "assert liqa.amount > 0 and liqb.amount > 0, f\"no liquidity in pair {liqa} {liqb}\""
   ]
  },
  {
   "cell_type": "code",
   "execution_count": 173,
   "id": "4a7e5ebc-6c08-454d-b46b-59e3eee4a58a",
   "metadata": {},
   "outputs": [
    {
     "data": {
      "text/plain": [
       "(CarbonSDK.RangeByPair(startRate=2330.3861458234296, endRate=799.9999998679182, AMMsells='USDC', AMMbuys='ETH', bidAsk='bid', pair=P('ETH/USDC'), inverted=True),\n",
       " CarbonSDK.RangeByPair(startRate=2500.0, endRate=3000.0000000000327, AMMsells='ETH', AMMbuys='USDC', bidAsk='ask', pair=P('ETH/USDC'), inverted=False),\n",
       " 2415.193072911715)"
      ]
     },
     "execution_count": 173,
     "metadata": {},
     "output_type": "execute_result"
    }
   ],
   "source": [
    "range_bid = SDK.mGetRangeByPair(pair=pair, AMMsells=tknq)\n",
    "range_ask = SDK.mGetRangeByPair(pair=pair, AMMsells=tknb)\n",
    "mid = 0.5*(range_bid.startRate+range_ask.startRate)\n",
    "p_bid = np.linspace(mid, range_bid.endRate)\n",
    "p_ask = np.linspace(mid, range_ask.endRate)\n",
    "range_bid, range_ask, mid"
   ]
  },
  {
   "cell_type": "code",
   "execution_count": 174,
   "id": "453e5186-fb06-46f5-af7b-db364a2bab92",
   "metadata": {},
   "outputs": [],
   "source": [
    "db = SDK.mGetRateLiquidityDepthByPair(rate=p_bid, pair=pair, AMMsells=tknq)\n",
    "da = SDK.mGetRateLiquidityDepthByPair(rate=p_ask, pair=pair, AMMsells=tknb)"
   ]
  },
  {
   "cell_type": "code",
   "execution_count": 175,
   "id": "4efc3db1-006f-467c-aecf-01512623f676",
   "metadata": {},
   "outputs": [
    {
     "data": {
      "image/png": "[encoded data removed]",
      "text/plain": [
       "<Figure size 432x288 with 2 Axes>"
      ]
     },
     "metadata": {
      "needs_background": "light"
     },
     "output_type": "display_data"
    }
   ],
   "source": [
    "fig, ax1 = plt.subplots()\n",
    "ax2 = ax1.twinx()\n",
    "ax1.set_xlabel(f\"Exchange rate ({db.pair.price_convention})\")\n",
    "ax1.plot(db.rate, db.amount, color=\"lawngreen\", label=\"bid [LHS]\")\n",
    "ax1.set_ylabel(f\"bid liquidity ({db.unit})\")\n",
    "ax2.plot(da.rate, da.amount, color=\"red\", label=\"ask [RHS]\")\n",
    "ax2.set_ylabel(f\"ask liquidity ({da.unit})\")\n",
    "plt.title(f\"{db.pair.slashpair}\")\n",
    "ax1.grid()"
   ]
  },
  {
   "cell_type": "code",
   "execution_count": null,
   "id": "1016333d-6bd6-428d-9f5b-f8615a91f600",
   "metadata": {},
   "outputs": [],
   "source": []
  }
 ],
 "metadata": {
  "jupytext": {
   "encoding": "# -*- coding: utf-8 -*-",
   "formats": "ipynb,py:light"
  },
  "kernelspec": {
   "display_name": "Python 3",
   "language": "python",
   "name": "python3"
  },
  "language_info": {
   "codemirror_mode": {
    "name": "ipython",
    "version": 3
   },
   "file_extension": ".py",
   "mimetype": "text/x-python",
   "name": "python",
   "nbconvert_exporter": "python",
   "pygments_lexer": "ipython3",
   "version": "3.8.8"
  },
  "toc-autonumbering": false,
  "toc-showcode": false,
  "toc-showmarkdowntxt": false
 },
 "nbformat": 4,
 "nbformat_minor": 5
}
