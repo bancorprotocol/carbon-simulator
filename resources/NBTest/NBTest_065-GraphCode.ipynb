{
 "cells": [
  {
   "cell_type": "code",
   "execution_count": 1,
   "id": "c19d0663-ac37-4095-b6a3-18afcee2493c",
   "metadata": {},
   "outputs": [
    {
     "name": "stdout",
     "output_type": "stream",
     "text": [
      "[stdimports] imported np, pd, plt, os, sqrt, exp, log\n",
      "ArbGraph v1.1.1 (10/Apr/2023)\n",
      "ConstantProductCurve v2.3.1 (9/Apr/2023)\n",
      "Carbon v2.4.2-BETA2 (09/Apr/2023)\n"
     ]
    }
   ],
   "source": [
    "from carbon.helpers.stdimports import *\n",
    "#from carbon import CarbonOrderUI\n",
    "import carbon.tools.arbgraphs as ag\n",
    "from carbon.tools.arbgraphs import np, pd, plt # convenience imports\n",
    "from carbon.tools.cpc import ConstantProductCurve as CPC, CPCContainer\n",
    "import math\n",
    "\n",
    "plt.style.use('seaborn-dark')\n",
    "plt.rcParams['figure.figsize'] = [12,6]\n",
    "#print(\"{0.__name__} v{0.__VERSION__} ({0.__DATE__})\".format(CarbonOrderUI))\n",
    "print(\"{0.__name__} v{0.__VERSION__} ({0.__DATE__})\".format(ag.ArbGraph))\n",
    "print(\"{0.__name__} v{0.__VERSION__} ({0.__DATE__})\".format(CPC))\n",
    "print_version(require=\"2.4.2\")"
   ]
  },
  {
   "cell_type": "markdown",
   "id": "feaede6f-89cb-48d2-b929-cd523e56b1bb",
   "metadata": {},
   "source": [
    "# Graph Code [NBTest065]"
   ]
  },
  {
   "cell_type": "markdown",
   "id": "349311dc-bd0b-4c3a-81b2-c05028a54324",
   "metadata": {},
   "source": [
    "## ArbGraphs test and demo"
   ]
  },
  {
   "cell_type": "code",
   "execution_count": 2,
   "id": "1714d883-35aa-4496-a96d-a2be376b345e",
   "metadata": {},
   "outputs": [
    {
     "data": {
      "text/plain": [
       "(ETH(0), USDC(1), WBTC(2), BNT(3))"
      ]
     },
     "execution_count": 2,
     "metadata": {},
     "output_type": "execute_result"
    }
   ],
   "source": [
    "nodes = lambda: ag.create_node_list(\"ETH, USDC, WBTC, BNT\")\n",
    "assert [str(n) for n in nodes()] == ['ETH(0)', 'USDC(1)', 'WBTC(2)', 'BNT(3)']\n",
    "nodes()"
   ]
  },
  {
   "cell_type": "code",
   "execution_count": 3,
   "id": "2ecaa6d4-4713-4b93-8089-de71581e7179",
   "metadata": {},
   "outputs": [
    {
     "data": {
      "text/plain": [
       "ArbGraph(nodes=(ETH(0), USDC(1), WBTC(2), BNT(3)), edges=[])"
      ]
     },
     "execution_count": 3,
     "metadata": {},
     "output_type": "execute_result"
    }
   ],
   "source": [
    "AG = ag.ArbGraph(nodes=nodes())\n",
    "N = AG.node_by_tkn\n",
    "assert str(N(\"ETH\")) == \"ETH(0)\"\n",
    "assert str(N(\"BNT\")) == \"BNT(3)\"\n",
    "assert str(AG.node_by_ix(1)) == \"USDC(1)\"\n",
    "assert str(AG.node_by_tkn(\"USDC\")) == \"USDC(1)\"\n",
    "AG"
   ]
  },
  {
   "cell_type": "code",
   "execution_count": 4,
   "id": "a31b2a82-3115-4141-921b-4319bf48454e",
   "metadata": {},
   "outputs": [],
   "source": [
    "assert str(N(\"ETH\")) == \"ETH(0)\""
   ]
  },
  {
   "cell_type": "code",
   "execution_count": 5,
   "id": "07703f2a-ac09-4d31-a6b1-db04e9fee9db",
   "metadata": {},
   "outputs": [
    {
     "data": {
      "text/plain": [
       "(Edge(node_in=ETH(0), amount_in=1, node_out=USDC(1), amount_out=2000, ix=None, inverse=False, uid=None),\n",
       " '1 ETH(0) --> 2000 USDC(1)',\n",
       " '1 ETH(0) --(10)-> 2000 USDC(1)')"
      ]
     },
     "execution_count": 5,
     "metadata": {},
     "output_type": "execute_result"
    }
   ],
   "source": [
    "edge = ag.Edge(N(\"ETH\"), 1, N(\"USDC\"), 2000)\n",
    "edge1 = ag.Edge(N(\"ETH\"), 1, N(\"USDC\"), 2000, inverse=True, ix=10)\n",
    "assert (edge.pair(), edge.price(), edge.convention()) == ('ETH/USDC', 2000.0, 'USDC per ETH')\n",
    "assert (edge1.pair(), edge1.price(), edge1.convention()) == ('USDC/ETH', 0.0005, 'ETH per USDC')\n",
    "edge, str(edge), str(edge1)"
   ]
  },
  {
   "cell_type": "code",
   "execution_count": 6,
   "id": "38aa5282-218e-4013-a490-0c3204889da5",
   "metadata": {},
   "outputs": [],
   "source": [
    "assert (edge+0).asdict == edge.asdict\n",
    "assert (edge+0) != edge # == means objects are the same\n",
    "assert not edge+0 is edge\n",
    "assert (2*edge).asdict == (edge*2).asdict\n",
    "assert (edge + 2*edge).asdict == (3*edge).asdict\n",
    "assert sum([edge,edge,edge]).asdict == (3*edge).asdict"
   ]
  },
  {
   "cell_type": "code",
   "execution_count": 7,
   "id": "a1d4b086-a587-4554-a2ee-7506505a2972",
   "metadata": {},
   "outputs": [
    {
     "data": {
      "text/plain": [
       "{'node_in': {'tkn': 'ETH', 'ix': 0},\n",
       " 'amount_in': 1,\n",
       " 'node_out': {'tkn': 'USDC', 'ix': 1},\n",
       " 'amount_out': 2000,\n",
       " 'ix': None,\n",
       " 'inverse': False,\n",
       " 'uid': None}"
      ]
     },
     "execution_count": 7,
     "metadata": {},
     "output_type": "execute_result"
    }
   ],
   "source": [
    "(edge+0).asdict"
   ]
  },
  {
   "cell_type": "markdown",
   "id": "aaf48841-4b1f-4de5-9a96-5d5b652d4bb8",
   "metadata": {},
   "source": [
    "## Paths and cycles"
   ]
  },
  {
   "cell_type": "code",
   "execution_count": 8,
   "id": "4db94a89-fa62-4e3e-b768-c3c2c593dafb",
   "metadata": {},
   "outputs": [],
   "source": [
    "C = ag.Cycle([1,2,3,4,5])\n",
    "assert len(C) == 5\n",
    "assert [x for x in C.items()] == [1, 2, 3, 4, 5, 1]\n",
    "assert [x for x in C.items(start_ix=3)] == [4, 5, 1, 2, 3, 4]\n",
    "assert [x for x in C.items(start_val=3)] == [3, 4, 5, 1, 2, 3]\n",
    "assert [p for p in C.pairs()] == [(1, 2), (2, 3), (3, 4), (4, 5), (5, 1)]"
   ]
  },
  {
   "cell_type": "code",
   "execution_count": 9,
   "id": "024bfd2e-ab00-4bde-92a0-24bbc8e7662d",
   "metadata": {},
   "outputs": [],
   "source": [
    "c1 = ag.Cycle([1,2,3,4,5,6], \"c1\")\n",
    "assert ag.Cycle([8,9]).is_subcycle_of(c1) == False\n",
    "assert ag.Cycle([1,5,6]).is_subcycle_of(c1) == True\n",
    "assert ag.Cycle([1,6,5]).is_subcycle_of(c1) == False\n",
    "assert c1.filter_subcycles([ag.Cycle([8,9]), ag.Cycle([1,5,6]), ag.Cycle([1,6,5])]) == (ag.Cycle([1, 5, 6]),)\n",
    "assert c1.filter_subcycles(ag.Cycle([1,5,6])) == (ag.Cycle([1, 5, 6]),)\n",
    "assert str(c1) == 'cycle [c1]:  1 -> 2 -> 3 -> 4 -> 5 -> 6 ->...'"
   ]
  },
  {
   "cell_type": "code",
   "execution_count": 10,
   "id": "d1dd8b46-d376-46f5-8447-bf9176643c02",
   "metadata": {},
   "outputs": [
    {
     "name": "stdout",
     "output_type": "stream",
     "text": [
      "(ETH(0), USDC(1), WBTC(2), BNT(3))\n",
      "cycle [c2]: ETH->USDC->WBTC->BNT->...\n"
     ]
    }
   ],
   "source": [
    "import types\n",
    "nodes = ag.create_node_list(\"ETH, USDC, WBTC, BNT\")\n",
    "c2 = ag.Cycle(nodes, \"c2\")\n",
    "assert c2.uid == \"c2\"\n",
    "assert str(c2) == 'cycle [c2]: ETH->USDC->WBTC->BNT->...'\n",
    "print(nodes)\n",
    "print(c2)\n",
    "gc2 = (c for c in c2.items())\n",
    "assert isinstance(gc2, types.GeneratorType)\n",
    "tc2 = tuple(gc2)\n",
    "assert str(tc2) == \"(ETH(0), USDC(1), WBTC(2), BNT(3), ETH(0))\"\n",
    "assert tuple(gc2) == tuple() # generator spent\n",
    "pc2 = (p for p in c2.pairs())\n",
    "assert isinstance(pc2, types.GeneratorType)\n",
    "tpc2 = tuple(pc2)\n",
    "assert len(tpc2) == 4\n",
    "assert str(tpc2[0]) == '(ETH(0), USDC(1))'\n",
    "assert str(tpc2[-1]) == '(BNT(3), ETH(0))'\n",
    "assert c2.pairs_s() == ['ETH/USDC', 'USDC/WBTC', 'WBTC/BNT', 'BNT/ETH']"
   ]
  },
  {
   "cell_type": "code",
   "execution_count": 11,
   "id": "344a7f71-b70c-438a-838f-d78b9edd2f60",
   "metadata": {},
   "outputs": [],
   "source": [
    "p1 = ag.Path([1,2,3,4,5,6], \"p1\")\n",
    "assert p1.uid == \"p1\"\n",
    "assert (str(p1)).strip() == 'path [p1]:  1 -> 2 -> 3 -> 4 -> 5 -> 6'\n",
    "gp1 = (p for p in p1.items())\n",
    "assert isinstance(gp1, types.GeneratorType)\n",
    "tp1 = tuple(gp1)\n",
    "assert tp1 == (1, 2, 3, 4, 5, 6)"
   ]
  },
  {
   "cell_type": "code",
   "execution_count": 12,
   "id": "de7d7fd7-dffa-4086-ae83-69a99b0318f4",
   "metadata": {},
   "outputs": [],
   "source": [
    "nodes = ag.create_node_list(\"ETH, USDC, WBTC, BNT\")\n",
    "p2 = ag.Path(nodes, \"p2\")\n",
    "assert p2.uid == \"p2\"\n",
    "assert str(p2) == 'path [p2]: ETH->USDC->WBTC->BNT'\n",
    "gp2 = (c for c in p2.items())\n",
    "assert isinstance(gp2, types.GeneratorType)\n",
    "tp2 = tuple(gp2)\n",
    "assert str(tp2) == \"(ETH(0), USDC(1), WBTC(2), BNT(3))\"\n",
    "assert tuple(gp2) == tuple() # generator spent\n",
    "pp2 = (p for p in p2.pairs())\n",
    "assert isinstance(pp2, types.GeneratorType)\n",
    "tpp2 = tuple(pp2)\n",
    "assert len(tpp2) == 3\n",
    "assert str(tpp2[0]) == '(ETH(0), USDC(1))'\n",
    "assert str(tpp2[-1]) == '(WBTC(2), BNT(3))'\n",
    "assert p2.pairs_s() == ['ETH/USDC', 'USDC/WBTC', 'WBTC/BNT']"
   ]
  },
  {
   "cell_type": "markdown",
   "id": "442d8e05-b775-439c-a1de-fb1c47b01ece",
   "metadata": {},
   "source": [
    "## Arbgraph transport test and demo"
   ]
  },
  {
   "cell_type": "code",
   "execution_count": 13,
   "id": "d4126bfe-324e-42e5-ae91-39df2cfaace1",
   "metadata": {},
   "outputs": [],
   "source": [
    "n = ag.Node(\"ETH\")\n",
    "assert isinstance(n.state, n.State)\n",
    "assert n.state == n.State(amount = 0)"
   ]
  },
  {
   "cell_type": "code",
   "execution_count": 14,
   "id": "68523102-ae66-4158-81cb-1984af6849a2",
   "metadata": {},
   "outputs": [],
   "source": [
    "try:\n",
    "    ag.Edge(\"ETH\", 1, \"USDC\", 2000)\n",
    "    raise\n",
    "except:\n",
    "    pass"
   ]
  },
  {
   "cell_type": "code",
   "execution_count": 15,
   "id": "282648ae-3874-4099-9ddb-83e996ed9955",
   "metadata": {},
   "outputs": [],
   "source": [
    "ETH = ag.Node(\"ETH\")\n",
    "USDC = ag.Node(\"USDC\")\n",
    "assert ETH != n # nodes are only equal if they are the same object!\n",
    "assert ETH.asdict == n.asdict\n",
    "edge = ag.Edge(ETH, 1, USDC, 2000)\n",
    "edge2 = ag.Edge(ETH, 1, USDC, 2000)\n",
    "edge3 = ag.Edge(ETH, 2, USDC, 3500)\n",
    "assert (edge == edge2) == False\n",
    "assert edge != ag.Edge(ETH, 1, USDC, 2000)\n",
    "assert edge.asdict == ag.Edge(ETH, 1, USDC, 2000).asdict\n",
    "assert edge.node_in == ETH\n",
    "assert edge.node_out == USDC\n",
    "assert edge.amount_in == 1\n",
    "assert edge.amount_out == 2000\n",
    "assert edge.state == ag.Edge.State(amount_in_remaining=1)"
   ]
  },
  {
   "cell_type": "code",
   "execution_count": 16,
   "id": "83801a95-9240-4830-8e1a-93e0ad1c6e0b",
   "metadata": {},
   "outputs": [],
   "source": [
    "ETH.reset_state()\n",
    "USDC.reset_state()\n",
    "edge.reset_state()\n",
    "ETH.state.amount_.set(1)\n",
    "assert ETH.state.amount == 1\n",
    "edge.transport(1, record=True)\n",
    "assert ETH.state.amount == 0\n",
    "assert USDC.state.amount == 2000\n",
    "assert edge.state.amount_in_remaining == 0"
   ]
  },
  {
   "cell_type": "code",
   "execution_count": 17,
   "id": "d8f5eda1-53d3-4eb4-a839-74ad801c2f74",
   "metadata": {},
   "outputs": [],
   "source": [
    "ETH.reset_state()\n",
    "USDC.reset_state()\n",
    "edge.reset_state()\n",
    "ETH.state.amount_.set(1)\n",
    "edge.transport(0.25, record=True)\n",
    "assert ETH.state.amount == 0.75\n",
    "assert USDC.state.amount == 500\n",
    "assert edge.state.amount_in_remaining == 0.75\n",
    "edge.transport(0.25, record=True)\n",
    "assert ETH.state.amount == 0.5\n",
    "assert USDC.state.amount == 1000\n",
    "assert edge.state.amount_in_remaining == 0.50"
   ]
  },
  {
   "cell_type": "code",
   "execution_count": 18,
   "id": "28c9c286-f85e-44eb-8f54-f722e1985fba",
   "metadata": {},
   "outputs": [
    {
     "name": "stdout",
     "output_type": "stream",
     "text": [
      "amount 2 exceeds edge capacity 1\n"
     ]
    }
   ],
   "source": [
    "ETH.reset_state()\n",
    "USDC.reset_state()\n",
    "edge.reset_state()\n",
    "ETH.state.amount = 1\n",
    "try:\n",
    "    edge.transport(2, record=True)\n",
    "except Exception as e:\n",
    "    print(e)"
   ]
  },
  {
   "cell_type": "code",
   "execution_count": 19,
   "id": "6fce5fdf-000a-4fb9-af40-d9d634a42459",
   "metadata": {},
   "outputs": [
    {
     "name": "stdout",
     "output_type": "stream",
     "text": [
      "amount 1 exceeds node capacity -0.5\n"
     ]
    }
   ],
   "source": [
    "ETH.reset_state()\n",
    "USDC.reset_state()\n",
    "edge.reset_state()\n",
    "ETH.state.amount = 0.5\n",
    "try:\n",
    "    edge.transport(1, record=True)\n",
    "except Exception as e:\n",
    "    print(e)"
   ]
  },
  {
   "cell_type": "code",
   "execution_count": 20,
   "id": "874e343d-8592-43e8-ad9d-92772959f8ff",
   "metadata": {},
   "outputs": [
    {
     "name": "stdout",
     "output_type": "stream",
     "text": [
      "amount 1 exceeds remaining edge capacity -0.5\n"
     ]
    }
   ],
   "source": [
    "ETH.reset_state()\n",
    "USDC.reset_state()\n",
    "edge.reset_state()\n",
    "ETH.state.amount = 2\n",
    "edge.transport(0.5, record=True)\n",
    "try:\n",
    "    edge.transport(1, record=True)\n",
    "except Exception as e:\n",
    "    print(e)"
   ]
  },
  {
   "cell_type": "code",
   "execution_count": 21,
   "id": "a2c91953-f55a-45b0-9489-52a1e74c0b93",
   "metadata": {},
   "outputs": [],
   "source": [
    "ETH.state.amount = 10\n",
    "edge.state.amount_in_remaining = 10\n",
    "AG = ag.ArbGraph(nodes=[ETH, USDC], edges=[edge, edge2, edge3])\n",
    "assert AG.nodes == [ETH, USDC]\n",
    "assert AG.edges == [edge, edge2, edge3]\n",
    "assert AG.nodes[0].state.amount == 10\n",
    "assert AG.edges[0].state.amount_in_remaining == 10\n",
    "AG.reset_state()\n",
    "assert AG.nodes[0].state.amount == 0\n",
    "assert AG.edges[0].state.amount_in_remaining == 1\n",
    "assert AG.state.nodes[0] == ETH.state\n",
    "assert AG.state.edges[0] == edge.state"
   ]
  },
  {
   "cell_type": "code",
   "execution_count": 22,
   "id": "1fb09ac7-f8cf-49b0-99b4-b37754655778",
   "metadata": {},
   "outputs": [
    {
     "name": "stdout",
     "output_type": "stream",
     "text": [
      "the tkn provided ETH(None) does not match the node found ETH(0)\n"
     ]
    }
   ],
   "source": [
    "assert AG.node_by_tkn(\"ETH\") is ETH\n",
    "assert AG.node_by_tkn(ETH) is ETH\n",
    "try:\n",
    "    AG.node_by_tkn(ag.Node(\"ETH\"))\n",
    "    raise\n",
    "except Exception as e:\n",
    "    print(e)"
   ]
  },
  {
   "cell_type": "code",
   "execution_count": 23,
   "id": "6584af6f-3bcf-4cc0-8279-423087cfaf9e",
   "metadata": {},
   "outputs": [
    {
     "name": "stdout",
     "output_type": "stream",
     "text": [
      "routing_factor: 0.5; amounts_in: [0.5, 0.5, 1.0] 2 4\n",
      "routing_factor: 1.0; amounts_in: [0.5, 0.5, 1.0] 2 2.0\n"
     ]
    },
    {
     "data": {
      "text/plain": [
       "ArbGraph.TransportResult(amount_in=Amount(amount=2, node='ETH'), amount_out=Amount(amount=3750.0, node='USDC'), amounts_in=(0.5, 0.5, 1.0), amounts_out=(1000.0, 1000.0, 1750.0), edges=(Edge(node_in=ETH(0), amount_in=1, node_out=USDC(1), amount_out=2000, ix=0, inverse=False, uid=None), Edge(node_in=ETH(0), amount_in=1, node_out=USDC(1), amount_out=2000, ix=1, inverse=False, uid=None), Edge(node_in=ETH(0), amount_in=2, node_out=USDC(1), amount_out=3500, ix=2, inverse=False, uid=None)))"
      ]
     },
     "execution_count": 23,
     "metadata": {},
     "output_type": "execute_result"
    }
   ],
   "source": [
    "AG.reset_state()\n",
    "ETH.state.amount = 4\n",
    "r = AG.transport(2, \"ETH\", \"USDC\", record=True)\n",
    "assert ETH.state.amount == 2\n",
    "assert r.amount_in.amount == 2\n",
    "assert r.amount_in.tkn == \"ETH\"\n",
    "capacity_in = sum([e_.amount_in for e_ in r.edges])\n",
    "assert capacity_in == 4\n",
    "capacity_out = sum([e_.amount_out for e_ in r.edges])\n",
    "assert capacity_out == 7500\n",
    "assert r.amount_out.amount == r.amount_in.amount * capacity_out / capacity_in\n",
    "assert sum(r.amounts_in) == r.amount_in.amount\n",
    "assert sum(r.amounts_out) == r.amount_out.amount\n",
    "assert AG.has_capacity(\"ETH\", \"USDC\")\n",
    "assert AG.has_capacity()\n",
    "AG.transport(2, \"ETH\", \"USDC\", record=True)\n",
    "assert AG.has_capacity() == False\n",
    "r"
   ]
  },
  {
   "cell_type": "code",
   "execution_count": 24,
   "id": "e8a0f332-74d7-4716-8e87-cae1fc82ea99",
   "metadata": {},
   "outputs": [
    {
     "data": {
      "text/plain": [
       "ArbGraph.EdgeStatistics(len=3, edges=(Edge(node_in=ETH(0), amount_in=1, node_out=USDC(1), amount_out=2000, ix=0, inverse=False, uid=None), Edge(node_in=ETH(0), amount_in=1, node_out=USDC(1), amount_out=2000, ix=1, inverse=False, uid=None), Edge(node_in=ETH(0), amount_in=2, node_out=USDC(1), amount_out=3500, ix=2, inverse=False, uid=None)), amount_in=Amount(amount=4, node='ETH'), amount_in_remaining=Amount(amount=0.0, node='ETH'), amount_out=Amount(amount=7500, node='USDC'), price=1875.0, utilization=1.0, amounts_in=(1, 1, 2), amounts_in_remaining=(0.0, 0.0, 0.0), amounts_out=(2000, 2000, 3500), prices=(2000.0, 2000.0, 1750.0), utilizations=(1.0, 1.0, 1.0))"
      ]
     },
     "execution_count": 24,
     "metadata": {},
     "output_type": "execute_result"
    }
   ],
   "source": [
    "rs = AG.edge_statistics(edges=r.edges)\n",
    "assert rs.len == 3\n",
    "assert rs.edges is r.edges\n",
    "assert rs.amounts_in == (1, 1, 2)\n",
    "assert rs.amounts_in_remaining == (0.0, 0.0, 0.0)\n",
    "assert rs.amounts_out == (2000, 2000, 3500)\n",
    "assert rs.prices == (2000.0, 2000.0, 1750.0)\n",
    "assert rs.utilizations == (1.0, 1.0, 1.0)\n",
    "assert rs.amount_in.amount == 4\n",
    "assert rs.amount_in_remaining.amount == 0.0\n",
    "assert rs.amount_out.amount == 7500\n",
    "assert rs.amount_in.tkn == \"ETH\"\n",
    "assert rs.amount_in_remaining.tkn == \"ETH\"\n",
    "assert rs.amount_out.tkn == \"USDC\"\n",
    "assert rs.utilization == 1.0\n",
    "assert rs.price == 1875.0\n",
    "rs"
   ]
  },
  {
   "cell_type": "code",
   "execution_count": 25,
   "id": "a471a038-7477-4ede-bffe-098fe93ab5d6",
   "metadata": {},
   "outputs": [
    {
     "data": {
      "text/plain": [
       "ArbGraph.NodeStatistics(node=ETH(0), edges_in=(), edges_out=(Edge(node_in=ETH(0), amount_in=1, node_out=USDC(1), amount_out=2000, ix=0, inverse=False, uid=None), Edge(node_in=ETH(0), amount_in=1, node_out=USDC(1), amount_out=2000, ix=1, inverse=False, uid=None), Edge(node_in=ETH(0), amount_in=2, node_out=USDC(1), amount_out=3500, ix=2, inverse=False, uid=None)), nodes_in=set(), nodes_out={'USDC'}, amount_in=Amount(amount=0, node=ETH(0)), amount_out=Amount(amount=4, node=ETH(0)), amount_out_remaining=Amount(amount=0.0, node=ETH(0)))"
      ]
     },
     "execution_count": 25,
     "metadata": {},
     "output_type": "execute_result"
    }
   ],
   "source": [
    "rns = AG.node_statistics(\"ETH\")\n",
    "assert len(rns.edges_out) == 3\n",
    "assert len(rns.edges_in) == 0\n",
    "assert rns.amount_in.amount == 0\n",
    "assert rns.amount_out.amount == 4\n",
    "assert rns.amount_out_remaining.amount == 0\n",
    "assert rns.nodes_in==set()\n",
    "assert rns.nodes_out=={\"USDC\"}\n",
    "rns"
   ]
  },
  {
   "cell_type": "code",
   "execution_count": 26,
   "id": "4fc1604d-1677-4602-9170-9505974eed03",
   "metadata": {},
   "outputs": [
    {
     "data": {
      "text/plain": [
       "ArbGraph.NodeStatistics(node=USDC(1), edges_in=(Edge(node_in=ETH(0), amount_in=1, node_out=USDC(1), amount_out=2000, ix=0, inverse=False, uid=None), Edge(node_in=ETH(0), amount_in=1, node_out=USDC(1), amount_out=2000, ix=1, inverse=False, uid=None), Edge(node_in=ETH(0), amount_in=2, node_out=USDC(1), amount_out=3500, ix=2, inverse=False, uid=None)), edges_out=(), nodes_in={'ETH'}, nodes_out=set(), amount_in=Amount(amount=7500, node=USDC(1)), amount_out=Amount(amount=0, node=USDC(1)), amount_out_remaining=Amount(amount=0, node=USDC(1)))"
      ]
     },
     "execution_count": 26,
     "metadata": {},
     "output_type": "execute_result"
    }
   ],
   "source": [
    "rns2 = AG.node_statistics(\"USDC\")\n",
    "assert len(rns2.edges_out) == 0\n",
    "assert len(rns2.edges_in) == 3\n",
    "assert rns2.amount_in.amount == 7500\n",
    "assert rns2.amount_out.amount == 0\n",
    "assert rns2.amount_out_remaining.amount == 0\n",
    "assert rns2.nodes_in==set([\"ETH\",])\n",
    "assert rns2.nodes_out==set()\n",
    "rns2"
   ]
  },
  {
   "cell_type": "markdown",
   "id": "4869b700-e5c0-4199-87c2-ff4b76c04d85",
   "metadata": {},
   "source": [
    "## Arbgraph transport test and demo 2"
   ]
  },
  {
   "cell_type": "code",
   "execution_count": 27,
   "id": "a3f0b780-aef8-41ad-8e40-87d7ae227e7e",
   "metadata": {},
   "outputs": [],
   "source": [
    "@ag.dataclass\n",
    "class MyState():\n",
    "    myval_: ag.TrackedStateFloat = ag.field(default_factory=ag.TrackedStateFloat, init=False)\n",
    "    myval: ag.InitVar=None\n",
    "        \n",
    "    def __post_init__(self, myval):\n",
    "        self.myval = myval\n",
    "\n",
    "    @property\n",
    "    def myval(self):\n",
    "        return self.myval_.value\n",
    "    \n",
    "    @myval.setter\n",
    "    def myval(self, value):\n",
    "        self.myval_.set(value)"
   ]
  },
  {
   "cell_type": "code",
   "execution_count": 28,
   "id": "6ed91cb7-86de-4a1c-9243-940932d29dd4",
   "metadata": {},
   "outputs": [],
   "source": [
    "mystate = MyState(0)\n",
    "mystate.myval_.set(10)\n",
    "assert mystate.myval == 10\n",
    "mystate.myval += 5\n",
    "assert mystate.myval == 15\n",
    "mystate.myval -= 4\n",
    "assert mystate.myval == 11\n",
    "assert mystate.myval_.history == [0, 0, 10, 15, 11]"
   ]
  },
  {
   "cell_type": "code",
   "execution_count": 29,
   "id": "6e7285db-5f69-4beb-a189-0d86e1b798ea",
   "metadata": {},
   "outputs": [],
   "source": [
    "mystate = MyState(10)\n",
    "assert mystate.myval == 10\n",
    "assert mystate.myval_.history == [0,10]\n",
    "mystate.myval = 20\n",
    "assert mystate.myval == 20\n",
    "assert mystate.myval_.history == [0,10,20]\n",
    "mystate.myval += 5\n",
    "assert mystate.myval == 25\n",
    "mystate.myval -= 4\n",
    "assert mystate.myval == 21\n",
    "assert mystate.myval_.history == [0,10,20,25,21]\n",
    "assert mystate.myval_.reset(42)\n",
    "assert mystate.myval == 42\n",
    "assert mystate.myval_.history == [42]"
   ]
  },
  {
   "cell_type": "code",
   "execution_count": 30,
   "id": "673ed709-aa4f-4711-9221-fd2ce38305f8",
   "metadata": {},
   "outputs": [],
   "source": [
    "n = ag.Node(\"MEH\")\n",
    "n.state.amount = 10\n",
    "n.state.amount += 5\n",
    "n.state.amount -= 4\n",
    "assert n.state.amount == 11\n",
    "assert n.state.amount_.history == [0, 10, 15, 11]\n",
    "n.reset_state()\n",
    "assert n.state.amount_.history == [0]"
   ]
  },
  {
   "cell_type": "code",
   "execution_count": 31,
   "id": "a97dd47b-b81f-40d7-ba4f-6fedfddb3b71",
   "metadata": {},
   "outputs": [],
   "source": [
    "nodes = ag.Node.create_node_list(\"USDC, LINK, ETH, WBTC\")\n",
    "assert len(nodes)==4\n",
    "assert nodes[0].tkn == \"USDC\"\n",
    "AG = ag.ArbGraph(nodes)\n",
    "AG.add_edge(\"USDC\", 10000, \"ETH\", 5)\n",
    "AG.add_edge_obj(AG.edges[-1].R())\n",
    "AG.add_edge(\"USDC\", 10000, \"WBTC\", 1)\n",
    "AG.add_edge_obj(AG.edges[-1].R())\n",
    "AG.add_edge(\"USDC\", 10000, \"LINK\", 1000)\n",
    "AG.add_edge_obj(AG.edges[-1].R())\n",
    "AG.add_edge(\"LINK\", 1000, \"ETH\", 5)\n",
    "AG.add_edge_obj(AG.edges[-1].R())\n",
    "AG.add_edge(\"ETH\", 5, \"WBTC\", 1)\n",
    "AG.add_edge_obj(AG.edges[-1].R())\n",
    "assert len(AG.edges)==10\n",
    "assert len(AG.cycles())==11\n",
    "ns = AG.node_statistics(\"USDC\")\n",
    "assert ns.amount_in.amount == 30000\n",
    "assert ns.amount_out.amount == 30000\n",
    "assert ns.amount_out_remaining == ns.amount_out\n",
    "assert ns.nodes_out==set(['WBTC', 'ETH', 'LINK'])\n",
    "assert ns.nodes_in==set(['WBTC', 'ETH', 'LINK'])\n",
    "#_=AG.plot()"
   ]
  },
  {
   "cell_type": "markdown",
   "id": "f798a897-5a14-4029-8827-db38d4cfcfa9",
   "metadata": {},
   "source": [
    "## Transport 3 and prices"
   ]
  },
  {
   "cell_type": "code",
   "execution_count": 32,
   "id": "505fe3f8-bba4-4435-b370-55f6151783ab",
   "metadata": {},
   "outputs": [],
   "source": [
    "AG = ag.ArbGraph()\n",
    "prices = dict(USDC=1, LINK=5, AAVE=100, WETH=2000, BTC=10000)\n",
    "for t1,p1 in prices.items():\n",
    "    for t2,p2 in prices.items():\n",
    "        if t1<t2:\n",
    "            AG.add_edge_ct(tkn_in=t1, tkn_out=t2, price_outperin=p1/p2, symmetric=True)\n",
    "USDC, WETH, LINK, AAVE, BTC = AG.nodes\n",
    "assert str(USDC) == \"USDC(0)\"\n",
    "assert str(AAVE) == \"AAVE(3)\"\n",
    "assert BTC.tkn == \"BTC\"\n",
    "assert AG.ptransport(ag.Path([USDC, WETH])).multiplier == prices[USDC.tkn]/prices[WETH.tkn]\n",
    "assert AG.ptransport(ag.Path([USDC, WETH, AAVE, LINK, BTC])).multiplier == AG.ptransport(ag.Path([USDC, BTC])).multiplier\n",
    "for n1 in AG.nodes:\n",
    "    for n2 in AG.nodes:\n",
    "        if n1 != n2:\n",
    "            assert AG.ptransport(ag.Path([n1, n2])).multiplier == prices[n1.tkn]/prices[n2.tkn]\n",
    "#AG.plot(rnone=True)"
   ]
  },
  {
   "cell_type": "code",
   "execution_count": 102,
   "id": "150d0c81-6eae-42b1-a4b7-7dc322067cdb",
   "metadata": {},
   "outputs": [],
   "source": [
    "AG = ag.ArbGraph()\n",
    "prices = dict(USDC=1, LINK=5, AAVE=100, WETH=2000, BTC=10000)\n",
    "for t1,p1 in prices.items():\n",
    "    for t2,p2 in prices.items():\n",
    "        if t1==\"USDC\" and t2!=t1:\n",
    "            AG.add_edge_ct(tkn_in=t1, tkn_out=t2, price_outperin=p1/p2, symmetric=True)\n",
    "assert str(AG.nodes) == \"[USDC(0), LINK(1), AAVE(2), WETH(3), BTC(4)]\"\n",
    "USDC, LINK, AAVE, WETH, BTC = AG.nodes\n",
    "assert str(USDC) == \"USDC(0)\"\n",
    "assert BTC.tkn == \"BTC\"\n",
    "assert AG.ptransport(ag.Path([USDC, WETH])).multiplier == prices[USDC.tkn]/prices[WETH.tkn]\n",
    "assert AG.ptransport(AG.shortest_path(USDC, WETH)).multiplier == prices[USDC.tkn]/prices[WETH.tkn]\n",
    "assert AG.ptransport(AG.shortest_path(BTC, WETH)).multiplier == prices[BTC.tkn]/prices[WETH.tkn]\n",
    "assert AG.price(node_tknb=WETH, node_tknq=USDC) == AG.price(WETH, USDC)\n",
    "assert AG.price(WETH, USDC, with_units=True) == (2000.0, 'USDC per WETH [WETH/USDC]')\n",
    "assert AG.price(WETH, WETH, with_units=True) == (1, 'WETH per WETH [WETH/WETH]')\n",
    "assert AG.price(\"WETH\", \"USDC\", True) == AG.price(WETH, USDC, True)\n",
    "assert raises(AG.price, \"ETH\", \"USDC\")\n",
    "for n1 in AG.nodes:\n",
    "    for n2 in AG.nodes:\n",
    "        if n1 != n2:\n",
    "            assert AG.ptransport(AG.shortest_path(n1, n2)).multiplier == prices[n1.tkn]/prices[n2.tkn]\n",
    "            assert AG.price(node_tknb=n1, node_tknq=n2) == prices[n1.tkn]/prices[n2.tkn]\n",
    "#AG.plot(rnone=True)"
   ]
  },
  {
   "cell_type": "code",
   "execution_count": 34,
   "id": "0fb503b8-8129-45bb-8929-17c2bceda227",
   "metadata": {},
   "outputs": [
    {
     "data": {
      "text/html": [
       "<div>\n",
       "<style scoped>\n",
       "    .dataframe tbody tr th:only-of-type {\n",
       "        vertical-align: middle;\n",
       "    }\n",
       "\n",
       "    .dataframe tbody tr th {\n",
       "        vertical-align: top;\n",
       "    }\n",
       "\n",
       "    .dataframe thead th {\n",
       "        text-align: right;\n",
       "    }\n",
       "</style>\n",
       "<table border=\"1\" class=\"dataframe\">\n",
       "  <thead>\n",
       "    <tr style=\"text-align: right;\">\n",
       "      <th></th>\n",
       "      <th>USDC</th>\n",
       "      <th>LINK</th>\n",
       "      <th>AAVE</th>\n",
       "      <th>WETH</th>\n",
       "      <th>BTC</th>\n",
       "    </tr>\n",
       "    <tr>\n",
       "      <th>tknb</th>\n",
       "      <th></th>\n",
       "      <th></th>\n",
       "      <th></th>\n",
       "      <th></th>\n",
       "      <th></th>\n",
       "    </tr>\n",
       "  </thead>\n",
       "  <tbody>\n",
       "    <tr>\n",
       "      <th>USDC</th>\n",
       "      <td>1.0</td>\n",
       "      <td>0.2</td>\n",
       "      <td>0.01</td>\n",
       "      <td>0.0005</td>\n",
       "      <td>0.0001</td>\n",
       "    </tr>\n",
       "    <tr>\n",
       "      <th>LINK</th>\n",
       "      <td>5.0</td>\n",
       "      <td>1.0</td>\n",
       "      <td>0.05</td>\n",
       "      <td>0.0025</td>\n",
       "      <td>0.0005</td>\n",
       "    </tr>\n",
       "    <tr>\n",
       "      <th>AAVE</th>\n",
       "      <td>100.0</td>\n",
       "      <td>20.0</td>\n",
       "      <td>1.00</td>\n",
       "      <td>0.0500</td>\n",
       "      <td>0.0100</td>\n",
       "    </tr>\n",
       "    <tr>\n",
       "      <th>WETH</th>\n",
       "      <td>2000.0</td>\n",
       "      <td>400.0</td>\n",
       "      <td>20.00</td>\n",
       "      <td>1.0000</td>\n",
       "      <td>0.2000</td>\n",
       "    </tr>\n",
       "    <tr>\n",
       "      <th>BTC</th>\n",
       "      <td>10000.0</td>\n",
       "      <td>2000.0</td>\n",
       "      <td>100.00</td>\n",
       "      <td>5.0000</td>\n",
       "      <td>1.0000</td>\n",
       "    </tr>\n",
       "  </tbody>\n",
       "</table>\n",
       "</div>"
      ],
      "text/plain": [
       "         USDC    LINK    AAVE    WETH     BTC\n",
       "tknb                                         \n",
       "USDC      1.0     0.2    0.01  0.0005  0.0001\n",
       "LINK      5.0     1.0    0.05  0.0025  0.0005\n",
       "AAVE    100.0    20.0    1.00  0.0500  0.0100\n",
       "WETH   2000.0   400.0   20.00  1.0000  0.2000\n",
       "BTC   10000.0  2000.0  100.00  5.0000  1.0000"
      ]
     },
     "execution_count": 34,
     "metadata": {},
     "output_type": "execute_result"
    }
   ],
   "source": [
    "AG.pricetable()"
   ]
  },
  {
   "cell_type": "code",
   "execution_count": 35,
   "id": "b999442c-7119-4dc6-8d91-de8acaed33f7",
   "metadata": {},
   "outputs": [],
   "source": [
    "pt = AG.pricetable(asdf=False)\n",
    "assert pt[\"labels\"] == ['USDC', 'LINK', 'AAVE', 'WETH', 'BTC']\n",
    "assert len(pt[\"data\"]) == len(pt[\"labels\"])\n",
    "assert pt[\"data\"][0] == [1, 0.2, 0.01, 0.0005, 0.0001]"
   ]
  },
  {
   "cell_type": "markdown",
   "id": "4f383864-957d-4ae5-92c9-0fae2343b6de",
   "metadata": {
    "tags": []
   },
   "source": [
    "## Arbraph connection only edges test"
   ]
  },
  {
   "cell_type": "code",
   "execution_count": 36,
   "id": "b3353635-f182-4e79-824e-d4c2f2228a03",
   "metadata": {},
   "outputs": [],
   "source": [
    "nodes = lambda: ag.create_node_list(\"ETH, USDC\")\n",
    "ETH, USDC = nodes()"
   ]
  },
  {
   "cell_type": "code",
   "execution_count": 37,
   "id": "4ee65b5f-7045-4a08-8d01-1f33d56a6d99",
   "metadata": {},
   "outputs": [],
   "source": [
    "e = e1 = ag.Edge.connection_edge(node_in=ETH, node_out=USDC, price=3000)\n",
    "e = e2 = ag.Edge.connection_edge(node_in=ETH, node_out=USDC, price=2000)\n",
    "assert e.convention() == 'USDC per ETH'\n",
    "assert e.convention_outperin() == 'USDC per ETH'\n",
    "assert e.price() == 2000\n",
    "assert e.price_outperin == 2000\n",
    "assert e.edgetype == e.EDGE_CONNECTION\n",
    "assert e.is_amounttype == False\n",
    "assert not raises(e.assert_edgetype, e.EDGE_CONNECTION)\n",
    "assert raises(e.assert_edgetype, e.EDGE_AMOUNT)\n",
    "assert e1.label == '3000.0 [None]'\n",
    "assert e2.label == '2000.0 [None]'\n",
    "assert (e1+e2).price() == 2500\n",
    "assert (e1+3*e2).price() == 2250\n",
    "assert raises(lambda: e1*0)\n",
    "assert raises(lambda: e1*(-10))\n",
    "assert raises(lambda: 0*e1)\n",
    "assert raises(lambda: -10*e1)"
   ]
  },
  {
   "cell_type": "code",
   "execution_count": 38,
   "id": "ced876f3-17ce-42fb-b928-be4267d453f5",
   "metadata": {},
   "outputs": [],
   "source": [
    "e = e3 = ag.Edge.connection_edge(node_out=ETH, node_in=USDC, price=2000, inverse=True)\n",
    "assert e.convention() == 'USDC per ETH'\n",
    "assert e.convention_outperin() == 'ETH per USDC'\n",
    "assert e.price() == 2000\n",
    "assert e.price_outperin == 1/2000\n",
    "assert e.edgetype == e.EDGE_CONNECTION\n",
    "assert e.is_amounttype == False\n",
    "assert not raises(e.assert_edgetype, e.EDGE_CONNECTION)\n",
    "assert raises(e.assert_edgetype, e.EDGE_AMOUNT)\n",
    "assert e3.label == '0.0005 [None]'"
   ]
  },
  {
   "cell_type": "code",
   "execution_count": 39,
   "id": "5aa80d7f-c1b8-4025-8b69-8307035d086a",
   "metadata": {},
   "outputs": [],
   "source": [
    "e= e4 = ag.Edge(node_in=ETH, node_out=USDC, amount_in=1, amount_out=2000, inverse=True)\n",
    "assert e.edgetype == e.EDGE_AMOUNT\n",
    "assert e.is_amounttype\n",
    "assert not raises(e.assert_edgetype, e.EDGE_AMOUNT)\n",
    "assert raises(e.assert_edgetype, e.EDGE_CONNECTION)\n",
    "e = e5 = 2*e4\n",
    "assert e.edgetype == e.EDGE_AMOUNT\n",
    "assert e.is_amounttype\n",
    "assert not raises(e.assert_edgetype, e.EDGE_AMOUNT)\n",
    "assert raises(e.assert_edgetype, e.EDGE_CONNECTION)\n",
    "e = e6 = ag.Edge(node_in=ETH, node_out=USDC, amount_in=1, amount_out=3000)\n",
    "assert e.price() == e1.price()\n",
    "assert e.price_outperin == e1.price_outperin\n",
    "assert e4.label == '1 ETH(0) --> 2000 USDC(1)'"
   ]
  },
  {
   "cell_type": "code",
   "execution_count": 40,
   "id": "a4f3d14f-2c36-48c9-b9b3-169a69bc66c9",
   "metadata": {},
   "outputs": [],
   "source": [
    "assert raises (lambda: e1+e3)\n",
    "assert raises (lambda: -2*e1)\n",
    "assert raises (lambda: e3*(-2))\n",
    "try:\n",
    "    e1 += e3\n",
    "    raise\n",
    "except ValueError as e:\n",
    "    pass"
   ]
  },
  {
   "cell_type": "code",
   "execution_count": 41,
   "id": "7b6ad261-5eb6-4560-878f-bfb74cda33a9",
   "metadata": {},
   "outputs": [],
   "source": [
    "assert not raises (lambda: e4+e5)\n",
    "assert not raises (lambda: 2*e4)\n",
    "assert not raises (lambda: e4*2)\n",
    "e4 += e5"
   ]
  },
  {
   "cell_type": "code",
   "execution_count": 42,
   "id": "a85d1b67-ea52-4e09-be6c-e01a5b8b42f2",
   "metadata": {},
   "outputs": [],
   "source": [
    "assert e6.amount_in == 1\n",
    "assert e1.transport() == e6.transport()\n",
    "assert e1.transport(amount_in=1e6) == 1e6*e1.transport()"
   ]
  },
  {
   "cell_type": "code",
   "execution_count": 43,
   "id": "3cdc6998-cdd3-4f40-9723-4cadb0796110",
   "metadata": {},
   "outputs": [],
   "source": [
    "AG = ag.ArbGraph(nodes = [ETH, USDC])\n",
    "assert AG.edgetype is None\n",
    "AG.add_edge_obj(e1)\n",
    "assert AG.edgetype == AG.EDGE_CONNECTION\n",
    "assert AG.edgetype == e1.EDGE_CONNECTION\n",
    "AG.add_edge_obj(e2)\n",
    "assert raises(AG.add_edge_obj, e4)\n",
    "assert AG.edgetype == e1.EDGE_CONNECTION"
   ]
  },
  {
   "cell_type": "code",
   "execution_count": 44,
   "id": "7d8a7329-62a0-4a44-a8e2-ad4dd45c8994",
   "metadata": {},
   "outputs": [],
   "source": [
    "AG = ag.ArbGraph(nodes = [ETH, USDC])\n",
    "assert AG.edgetype is None\n",
    "AG.add_edge_obj(e4)\n",
    "assert AG.edgetype == AG.EDGE_AMOUNT\n",
    "assert AG.edgetype == e1.EDGE_AMOUNT\n",
    "AG.add_edge_obj(e5)\n",
    "assert raises(AG.add_edge_obj, e1)\n",
    "assert AG.edgetype == e1.EDGE_AMOUNT"
   ]
  },
  {
   "cell_type": "code",
   "execution_count": 45,
   "id": "ae4b80ec-153c-457e-bcd1-94cd0658897f",
   "metadata": {},
   "outputs": [],
   "source": [
    "AG = ag.ArbGraph()\n",
    "AG.add_edge_connectiontype(tkn_in=\"ETH\", tkn_out=\"USDC\", price=2000)\n",
    "AG.add_edge_connectiontype(tkn_in=\"ETH\", tkn_out=\"BTC\", price=1/5)\n",
    "AG.add_edge_connectiontype(tkn_in=\"BTC\", tkn_out=\"USDC\", price=10000)\n",
    "assert AG.edgetype == AG.EDGE_CONNECTION\n",
    "assert len(AG) == 6\n",
    "#_=AG.plot()"
   ]
  },
  {
   "cell_type": "code",
   "execution_count": 46,
   "id": "718b0faf-3f94-41b7-8b8b-4878ea413559",
   "metadata": {},
   "outputs": [],
   "source": [
    "AG = ag.ArbGraph()\n",
    "AG.add_edge_connectiontype(tkn_in=\"ETH\", tkn_out=\"USDC\", price=2000, symmetric=False)\n",
    "AG.add_edge_connectiontype(tkn_in=\"ETH\", tkn_out=\"BTC\", price=1/5, symmetric=False)\n",
    "AG.add_edge_connectiontype(tkn_in=\"BTC\", tkn_out=\"USDC\", price=10000, symmetric=False)\n",
    "assert AG.edgetype == AG.EDGE_CONNECTION\n",
    "assert len(AG) == 3\n",
    "#_=AG.plot()"
   ]
  },
  {
   "cell_type": "code",
   "execution_count": 47,
   "id": "54d2538b-4a24-462a-95cc-a9369570c9b4",
   "metadata": {},
   "outputs": [],
   "source": [
    "AG = ag.ArbGraph()\n",
    "assert raises (AG.add_edge_connectiontype, tkn_in=\"ETH\", tkn_out=\"USDC\", price=2000, price_outperin=2000)\n",
    "assert raises (AG.add_edge_connectiontype, tkn_in=\"ETH\", tkn_out=\"USDC\", inverse = True, price_outperin=2000)\n",
    "assert AG.add_edge_connectiontype == AG.add_edge_ct"
   ]
  },
  {
   "cell_type": "code",
   "execution_count": 48,
   "id": "2c853729-60ce-4597-9ab0-5404ffbff61f",
   "metadata": {},
   "outputs": [
    {
     "name": "stdout",
     "output_type": "stream",
     "text": [
      "  (0, 1)\t1\n",
      "  (0, 2)\t1\n",
      "  (1, 0)\t1\n",
      "  (1, 2)\t1\n",
      "  (2, 0)\t1\n",
      "  (2, 1)\t1\n"
     ]
    }
   ],
   "source": [
    "AG = ag.ArbGraph()\n",
    "for i in range(5):\n",
    "    mul = 1+i/50\n",
    "    AG.add_edge_ct(tkn_in=\"ETH\", tkn_out=\"USDC\", price=2000*mul)\n",
    "    AG.add_edge_ct(tkn_in=\"WBTC\", tkn_out=\"USDC\", price=10000*mul)\n",
    "    AG.add_edge_ct(tkn_in=\"ETH\", tkn_out=\"WBTC\", price=0.2/mul)\n",
    "assert AG.len() == (2*3*5, 3)\n",
    "assert len(AG.cycles()) == 5\n",
    "assert np.array_equal(AG.A.toarray(), np.array([[0, 1, 1], [1, 0, 1], [1, 1, 0]]))\n",
    "print(AG.A)\n",
    "AG2 = AG.duplicate()\n",
    "assert AG2.len() == (6,3)\n",
    "edges = AG.filter_edges(\"ETH\", \"USDC\")\n",
    "assert len(edges) == 5\n",
    "edges2 = AG2.filter_edges(\"ETH\", \"USDC\")\n",
    "assert len(edges2) == 1\n",
    "assert [e.p_outperin for e in edges] == [2000.0, 2040.0, 2080.0, 2120.0, 2160.0]\n",
    "assert edges2[0].p_outperin == np.mean([e.p_outperin for e in edges])"
   ]
  },
  {
   "cell_type": "markdown",
   "id": "4db52bf5-bad1-4e91-8ecd-19dfbdc39435",
   "metadata": {},
   "source": [
    "## Interaction with CPC"
   ]
  },
  {
   "cell_type": "code",
   "execution_count": 49,
   "id": "94d3d623-0868-4987-8832-6ff39f2bac27",
   "metadata": {},
   "outputs": [],
   "source": [
    "c1  = CPC.from_univ2(x_tknb=1, y_tknq=2000, pair=\"ETH/USDC\", fee=0, cid=\"1\", descr=\"UniV2\")\n",
    "c2  = CPC.from_univ2(x_tknb=1, y_tknq=10000, pair=\"WBTC/USDC\", fee=0, cid=\"2\", descr=\"UniV2\")\n",
    "c3  = CPC.from_univ2(x_tknb=1, y_tknq=5, pair=\"WBTC/ETH\", fee=0, cid=\"3\", descr=\"UniV2\")\n",
    "assert c1.p == 2000\n",
    "assert c2.p == 10000\n",
    "assert c3.p == 5"
   ]
  },
  {
   "cell_type": "code",
   "execution_count": 50,
   "id": "9c0f82b7-fc39-48be-9465-09198266060a",
   "metadata": {},
   "outputs": [
    {
     "data": {
      "text/plain": [
       "ArbGraph(nodes=[ETH(0), USDC(1), WBTC(2)], edges=[Edge(node_in=ETH(0), amount_in=-1, node_out=USDC(1), amount_out=-2000.0, ix=0, inverse=False, uid='1'), Edge(node_in=USDC(1), amount_in=-1, node_out=ETH(0), amount_out=-0.0005, ix=1, inverse=True, uid='1-r'), Edge(node_in=WBTC(2), amount_in=-1, node_out=USDC(1), amount_out=-10000.0, ix=2, inverse=False, uid='2'), Edge(node_in=USDC(1), amount_in=-1, node_out=WBTC(2), amount_out=-0.0001, ix=3, inverse=True, uid='2-r'), Edge(node_in=WBTC(2), amount_in=-1, node_out=ETH(0), amount_out=-5.0, ix=4, inverse=False, uid='3'), Edge(node_in=ETH(0), amount_in=-1, node_out=WBTC(2), amount_out=-0.2, ix=5, inverse=True, uid='3-r')])"
      ]
     },
     "execution_count": 50,
     "metadata": {},
     "output_type": "execute_result"
    }
   ],
   "source": [
    "AG = ag.ArbGraph()\n",
    "AG.add_edges_cpc(c1)\n",
    "AG.add_edges_cpc(c2)\n",
    "AG.add_edges_cpc(c3)\n",
    "#_=AG.plot()"
   ]
  },
  {
   "cell_type": "code",
   "execution_count": 51,
   "id": "44580cb8-1a34-4fc8-9cfe-e95948771995",
   "metadata": {},
   "outputs": [
    {
     "data": {
      "text/plain": [
       "ArbGraph(nodes=[ETH(0), USDC(1), WBTC(2)], edges=[Edge(node_in=ETH(0), amount_in=-1, node_out=USDC(1), amount_out=-2000.0, ix=0, inverse=False, uid='1'), Edge(node_in=USDC(1), amount_in=-1, node_out=ETH(0), amount_out=-0.0005, ix=1, inverse=True, uid='1-r'), Edge(node_in=WBTC(2), amount_in=-1, node_out=USDC(1), amount_out=-10000.0, ix=2, inverse=False, uid='2'), Edge(node_in=USDC(1), amount_in=-1, node_out=WBTC(2), amount_out=-0.0001, ix=3, inverse=True, uid='2-r'), Edge(node_in=WBTC(2), amount_in=-1, node_out=ETH(0), amount_out=-5.0, ix=4, inverse=False, uid='3'), Edge(node_in=ETH(0), amount_in=-1, node_out=WBTC(2), amount_out=-0.2, ix=5, inverse=True, uid='3-r')])"
      ]
     },
     "execution_count": 51,
     "metadata": {},
     "output_type": "execute_result"
    }
   ],
   "source": [
    "AG = ag.ArbGraph()\n",
    "AG.add_edges_cpc([c1, c2, c3])\n",
    "#_=AG.plot()"
   ]
  },
  {
   "cell_type": "code",
   "execution_count": 52,
   "id": "e8c79e3e-b41e-4920-ada2-3ca5e67126d7",
   "metadata": {},
   "outputs": [
    {
     "data": {
      "text/plain": [
       "ArbGraph(nodes=[ETH(0), USDC(1), WBTC(2)], edges=[Edge(node_in=ETH(0), amount_in=-1, node_out=USDC(1), amount_out=-2000.0, ix=0, inverse=False, uid='1'), Edge(node_in=USDC(1), amount_in=-1, node_out=ETH(0), amount_out=-0.0005, ix=1, inverse=True, uid='1-r'), Edge(node_in=WBTC(2), amount_in=-1, node_out=USDC(1), amount_out=-10000.0, ix=2, inverse=False, uid='2'), Edge(node_in=USDC(1), amount_in=-1, node_out=WBTC(2), amount_out=-0.0001, ix=3, inverse=True, uid='2-r'), Edge(node_in=WBTC(2), amount_in=-1, node_out=ETH(0), amount_out=-5.0, ix=4, inverse=False, uid='3'), Edge(node_in=ETH(0), amount_in=-1, node_out=WBTC(2), amount_out=-0.2, ix=5, inverse=True, uid='3-r')])"
      ]
     },
     "execution_count": 52,
     "metadata": {},
     "output_type": "execute_result"
    }
   ],
   "source": [
    "AG = ag.ArbGraph()\n",
    "AG.add_edges_cpc(c for c in [c1, c2, c3])\n",
    "#_=AG.plot()"
   ]
  },
  {
   "cell_type": "code",
   "execution_count": 53,
   "id": "8529263f-1472-4332-a684-8eef6a562a95",
   "metadata": {},
   "outputs": [
    {
     "data": {
      "text/plain": [
       "ArbGraph(nodes=[ETH(0), USDC(1), WBTC(2)], edges=[Edge(node_in=ETH(0), amount_in=-1, node_out=USDC(1), amount_out=-2000.0, ix=0, inverse=False, uid='1'), Edge(node_in=USDC(1), amount_in=-1, node_out=ETH(0), amount_out=-0.0005, ix=1, inverse=True, uid='1-r'), Edge(node_in=WBTC(2), amount_in=-1, node_out=USDC(1), amount_out=-10000.0, ix=2, inverse=False, uid='2'), Edge(node_in=USDC(1), amount_in=-1, node_out=WBTC(2), amount_out=-0.0001, ix=3, inverse=True, uid='2-r'), Edge(node_in=WBTC(2), amount_in=-1, node_out=ETH(0), amount_out=-5.0, ix=4, inverse=False, uid='3'), Edge(node_in=ETH(0), amount_in=-1, node_out=WBTC(2), amount_out=-0.2, ix=5, inverse=True, uid='3-r')])"
      ]
     },
     "execution_count": 53,
     "metadata": {},
     "output_type": "execute_result"
    }
   ],
   "source": [
    "AG = ag.ArbGraph()\n",
    "CC = CPCContainer([c1,c2,c3])\n",
    "AG.add_edges_cpc(CC)\n",
    "#_=AG.plot()"
   ]
  },
  {
   "cell_type": "code",
   "execution_count": 54,
   "id": "f032a193-a6f9-4f13-b311-86ddbeaa43d3",
   "metadata": {},
   "outputs": [
    {
     "name": "stdout",
     "output_type": "stream",
     "text": [
      "  (0, 1)\t1\n",
      "  (0, 2)\t1\n",
      "  (1, 0)\t1\n",
      "  (1, 2)\t1\n",
      "  (2, 0)\t1\n",
      "  (2, 1)\t1\n"
     ]
    }
   ],
   "source": [
    "print(AG.A)"
   ]
  },
  {
   "cell_type": "code",
   "execution_count": 55,
   "id": "f1e0e122-72dc-417d-8628-6379edb36a40",
   "metadata": {},
   "outputs": [
    {
     "data": {
      "text/plain": [
       "(Cycle(data=[ETH(0), WBTC(2)], uid=0),\n",
       " Cycle(data=[ETH(0), WBTC(2), USDC(1)], uid=1),\n",
       " Cycle(data=[ETH(0), USDC(1), WBTC(2)], uid=2),\n",
       " Cycle(data=[ETH(0), USDC(1)], uid=3),\n",
       " Cycle(data=[USDC(1), WBTC(2)], uid=4))"
      ]
     },
     "execution_count": 55,
     "metadata": {},
     "output_type": "execute_result"
    }
   ],
   "source": [
    "AG.cycles()"
   ]
  },
  {
   "cell_type": "markdown",
   "id": "b18b27a6-3d38-4e03-a8be-30d35424c1b5",
   "metadata": {},
   "source": [
    "## With real data from CPC"
   ]
  },
  {
   "cell_type": "code",
   "execution_count": 56,
   "id": "6e98f201-62f2-4f1c-9f58-f787e1a7267b",
   "metadata": {},
   "outputs": [
    {
     "name": "stdout",
     "output_type": "stream",
     "text": [
      "Num curves: 459\n",
      "Num pairs: 326\n",
      "Num tokens: 141\n",
      "1INCH,1ONE,AAVE,ALCX,ALEPH,ALPHA,AMP,ANKR,ANT,APW,ARCONA,ARMOR,AST,AUC,BAL,BAT,BBADGER,BDIGG,BMI,BNB,BNT,BOBA,BOND,BOR,BORING,BZRX,CEL,CHZ,COMP,COT,CRO,CRV,CTSI,DAI,DAO,DATA,DDX,DEXE,DIP,DRC,DUSK,DXD,DYDX,EDEN,ELF,ENJ,ENS,ERSDL,ETH,EWTB,FARM,FODL,FOX,FRM,FTX TOKEN,FXS,GNO,GRT,GTC,GUSD,HEGIC,HOT,HY,ICHI,IDLE,INDEX,INST,KNC,KTN,LINK,LPL,LQTY,LRC,LYRA,MANA,MASK,MATIC,MFG,MFI,MKR,MLN,MONA,MPH,MTA,NDX,NEXO,NMR,NOIA,OCEAN,OMG,OPIUM,PATH,PERP,PHTR,PLR,POOL,POOLZ,POWR,PSP,QNT,QUICK,RAIL,RARI,REN,RENBTC,RENZEC,REQ,RETH,RLC,RNB,ROOK,RUNE,SATA,SFI,SHEESHA,SHIBGF,SMARTCREDIT,SNX,STAKE,SUSHI,TOMOE,TRAC,TRU,UMA,UNI,UOS,USDC,USDT,VBNT,VISION,VLX,WBTC,WETH,WNXM,WOO,WSTETH,WXT,XSUSHI,YFI,ZCN,ZRX\n"
     ]
    }
   ],
   "source": [
    "try:\n",
    "    df = pd.read_csv(\"NBTEST_063_Curves.csv.gz\")\n",
    "except:\n",
    "    df = pd.read_csv(\"carbon/tests/nbtest_data/NBTEST_063_Curves.csv.gz\")\n",
    "CC0 = CPCContainer.from_df(df)\n",
    "print(\"Num curves:\", len(CC0))\n",
    "print(\"Num pairs:\", len(CC0.pairs()))\n",
    "print(\"Num tokens:\", len(CC0.tokens()))\n",
    "print(CC0.tokens_s())"
   ]
  },
  {
   "cell_type": "code",
   "execution_count": 57,
   "id": "1de1050e-ecbc-4377-a540-c08bd9a48432",
   "metadata": {},
   "outputs": [],
   "source": [
    "AG0 = ag.ArbGraph().add_edges_cpc(CC0)\n",
    "#AG0.plot()\n",
    "assert AG0.len() == (918, 141)"
   ]
  },
  {
   "cell_type": "code",
   "execution_count": 58,
   "id": "4aa3bb42-9842-43c0-9fe2-70dace48bb63",
   "metadata": {},
   "outputs": [],
   "source": [
    "assert str(AG0.A)[:60] =='  (0, 1)\\t1\\n  (1, 0)\\t1\\n  (2, 3)\\t1\\n  (2, 4)\\t1\\n  (2, 5)\\t1\\n  (2,'"
   ]
  },
  {
   "cell_type": "code",
   "execution_count": 59,
   "id": "6903c18c-e046-4031-b3d6-04d0fb7b528e",
   "metadata": {},
   "outputs": [
    {
     "data": {
      "text/plain": [
       "True"
      ]
     },
     "execution_count": 59,
     "metadata": {},
     "output_type": "execute_result"
    }
   ],
   "source": [
    "pairs = CC0.filter_pairs(bothin=\"WETH, USDC, UNI, AAVE, LINK\")\n",
    "CC = CC0.bypairs(pairs, ascc=True)\n",
    "AG = ag.ArbGraph().add_edges_cpc(CC)\n",
    "#AG.plot()\n",
    "AG.len() == (24, 5)"
   ]
  },
  {
   "cell_type": "code",
   "execution_count": 60,
   "id": "f3e69f0b-99f0-4196-89af-bc5bf11f5e41",
   "metadata": {},
   "outputs": [],
   "source": [
    "assert np.all(AG.A.toarray() == np.array(\n",
    "      [[0, 1, 1, 0, 0],\n",
    "       [1, 0, 1, 1, 1],\n",
    "       [1, 1, 0, 1, 1],\n",
    "       [0, 1, 1, 0, 0],\n",
    "       [0, 1, 1, 0, 0]]))"
   ]
  },
  {
   "cell_type": "code",
   "execution_count": 61,
   "id": "61f65aad-7493-4aaf-9819-dd19950e032f",
   "metadata": {},
   "outputs": [],
   "source": [
    "assert raises(AG.edge_statistics,\"WETH\", \"USDC\")"
   ]
  },
  {
   "cell_type": "code",
   "execution_count": 62,
   "id": "8ba71383-94a7-4224-aa74-e9601839a68a",
   "metadata": {},
   "outputs": [
    {
     "data": {
      "text/html": [
       "<div>\n",
       "<style scoped>\n",
       "    .dataframe tbody tr th:only-of-type {\n",
       "        vertical-align: middle;\n",
       "    }\n",
       "\n",
       "    .dataframe tbody tr th {\n",
       "        vertical-align: top;\n",
       "    }\n",
       "\n",
       "    .dataframe thead th {\n",
       "        text-align: right;\n",
       "    }\n",
       "</style>\n",
       "<table border=\"1\" class=\"dataframe\">\n",
       "  <thead>\n",
       "    <tr style=\"text-align: right;\">\n",
       "      <th></th>\n",
       "      <th>pair</th>\n",
       "      <th>tkn_in</th>\n",
       "      <th>tkn_out</th>\n",
       "      <th>n</th>\n",
       "      <th>is_reverse</th>\n",
       "      <th>price_outin</th>\n",
       "      <th>price</th>\n",
       "    </tr>\n",
       "  </thead>\n",
       "  <tbody>\n",
       "    <tr>\n",
       "      <th>0</th>\n",
       "      <td>LINK/WETH</td>\n",
       "      <td>LINK</td>\n",
       "      <td>WETH</td>\n",
       "      <td>1</td>\n",
       "      <td>False</td>\n",
       "      <td>0.004153</td>\n",
       "      <td>0.004153</td>\n",
       "    </tr>\n",
       "    <tr>\n",
       "      <th>1</th>\n",
       "      <td>LINK/WETH</td>\n",
       "      <td>WETH</td>\n",
       "      <td>LINK</td>\n",
       "      <td>1</td>\n",
       "      <td>True</td>\n",
       "      <td>240.765016</td>\n",
       "      <td>0.004153</td>\n",
       "    </tr>\n",
       "    <tr>\n",
       "      <th>2</th>\n",
       "      <td>LINK/USDC</td>\n",
       "      <td>LINK</td>\n",
       "      <td>USDC</td>\n",
       "      <td>1</td>\n",
       "      <td>False</td>\n",
       "      <td>6.100521</td>\n",
       "      <td>6.100521</td>\n",
       "    </tr>\n",
       "    <tr>\n",
       "      <th>3</th>\n",
       "      <td>LINK/USDC</td>\n",
       "      <td>USDC</td>\n",
       "      <td>LINK</td>\n",
       "      <td>1</td>\n",
       "      <td>True</td>\n",
       "      <td>0.163920</td>\n",
       "      <td>6.100521</td>\n",
       "    </tr>\n",
       "    <tr>\n",
       "      <th>4</th>\n",
       "      <td>AAVE/WETH</td>\n",
       "      <td>AAVE</td>\n",
       "      <td>WETH</td>\n",
       "      <td>1</td>\n",
       "      <td>False</td>\n",
       "      <td>0.040805</td>\n",
       "      <td>0.040805</td>\n",
       "    </tr>\n",
       "    <tr>\n",
       "      <th>5</th>\n",
       "      <td>AAVE/WETH</td>\n",
       "      <td>WETH</td>\n",
       "      <td>AAVE</td>\n",
       "      <td>1</td>\n",
       "      <td>True</td>\n",
       "      <td>24.506892</td>\n",
       "      <td>0.040805</td>\n",
       "    </tr>\n",
       "    <tr>\n",
       "      <th>6</th>\n",
       "      <td>UNI/WETH</td>\n",
       "      <td>UNI</td>\n",
       "      <td>WETH</td>\n",
       "      <td>1</td>\n",
       "      <td>False</td>\n",
       "      <td>0.003327</td>\n",
       "      <td>0.003327</td>\n",
       "    </tr>\n",
       "    <tr>\n",
       "      <th>7</th>\n",
       "      <td>UNI/WETH</td>\n",
       "      <td>WETH</td>\n",
       "      <td>UNI</td>\n",
       "      <td>1</td>\n",
       "      <td>True</td>\n",
       "      <td>300.613015</td>\n",
       "      <td>0.003327</td>\n",
       "    </tr>\n",
       "    <tr>\n",
       "      <th>8</th>\n",
       "      <td>WETH/USDC</td>\n",
       "      <td>USDC</td>\n",
       "      <td>WETH</td>\n",
       "      <td>1</td>\n",
       "      <td>True</td>\n",
       "      <td>0.000549</td>\n",
       "      <td>1822.819584</td>\n",
       "    </tr>\n",
       "    <tr>\n",
       "      <th>9</th>\n",
       "      <td>WETH/USDC</td>\n",
       "      <td>WETH</td>\n",
       "      <td>USDC</td>\n",
       "      <td>1</td>\n",
       "      <td>False</td>\n",
       "      <td>1822.819584</td>\n",
       "      <td>1822.819584</td>\n",
       "    </tr>\n",
       "    <tr>\n",
       "      <th>10</th>\n",
       "      <td>LINK/WETH</td>\n",
       "      <td>LINK</td>\n",
       "      <td>WETH</td>\n",
       "      <td>1</td>\n",
       "      <td>False</td>\n",
       "      <td>0.004144</td>\n",
       "      <td>0.004144</td>\n",
       "    </tr>\n",
       "    <tr>\n",
       "      <th>11</th>\n",
       "      <td>LINK/WETH</td>\n",
       "      <td>WETH</td>\n",
       "      <td>LINK</td>\n",
       "      <td>1</td>\n",
       "      <td>True</td>\n",
       "      <td>241.288811</td>\n",
       "      <td>0.004144</td>\n",
       "    </tr>\n",
       "    <tr>\n",
       "      <th>12</th>\n",
       "      <td>LINK/USDC</td>\n",
       "      <td>LINK</td>\n",
       "      <td>USDC</td>\n",
       "      <td>1</td>\n",
       "      <td>False</td>\n",
       "      <td>7.300881</td>\n",
       "      <td>7.300881</td>\n",
       "    </tr>\n",
       "    <tr>\n",
       "      <th>13</th>\n",
       "      <td>LINK/USDC</td>\n",
       "      <td>USDC</td>\n",
       "      <td>LINK</td>\n",
       "      <td>1</td>\n",
       "      <td>True</td>\n",
       "      <td>0.136970</td>\n",
       "      <td>7.300881</td>\n",
       "    </tr>\n",
       "    <tr>\n",
       "      <th>14</th>\n",
       "      <td>AAVE/WETH</td>\n",
       "      <td>AAVE</td>\n",
       "      <td>WETH</td>\n",
       "      <td>1</td>\n",
       "      <td>False</td>\n",
       "      <td>0.040549</td>\n",
       "      <td>0.040549</td>\n",
       "    </tr>\n",
       "    <tr>\n",
       "      <th>15</th>\n",
       "      <td>AAVE/WETH</td>\n",
       "      <td>WETH</td>\n",
       "      <td>AAVE</td>\n",
       "      <td>1</td>\n",
       "      <td>True</td>\n",
       "      <td>24.661293</td>\n",
       "      <td>0.040549</td>\n",
       "    </tr>\n",
       "    <tr>\n",
       "      <th>16</th>\n",
       "      <td>AAVE/USDC</td>\n",
       "      <td>AAVE</td>\n",
       "      <td>USDC</td>\n",
       "      <td>1</td>\n",
       "      <td>False</td>\n",
       "      <td>80.826393</td>\n",
       "      <td>80.826393</td>\n",
       "    </tr>\n",
       "    <tr>\n",
       "      <th>17</th>\n",
       "      <td>AAVE/USDC</td>\n",
       "      <td>USDC</td>\n",
       "      <td>AAVE</td>\n",
       "      <td>1</td>\n",
       "      <td>True</td>\n",
       "      <td>0.012372</td>\n",
       "      <td>80.826393</td>\n",
       "    </tr>\n",
       "    <tr>\n",
       "      <th>18</th>\n",
       "      <td>UNI/WETH</td>\n",
       "      <td>UNI</td>\n",
       "      <td>WETH</td>\n",
       "      <td>1</td>\n",
       "      <td>False</td>\n",
       "      <td>0.003330</td>\n",
       "      <td>0.003330</td>\n",
       "    </tr>\n",
       "    <tr>\n",
       "      <th>19</th>\n",
       "      <td>UNI/WETH</td>\n",
       "      <td>WETH</td>\n",
       "      <td>UNI</td>\n",
       "      <td>1</td>\n",
       "      <td>True</td>\n",
       "      <td>300.255245</td>\n",
       "      <td>0.003330</td>\n",
       "    </tr>\n",
       "    <tr>\n",
       "      <th>20</th>\n",
       "      <td>UNI/USDC</td>\n",
       "      <td>UNI</td>\n",
       "      <td>USDC</td>\n",
       "      <td>1</td>\n",
       "      <td>False</td>\n",
       "      <td>6.098634</td>\n",
       "      <td>6.098634</td>\n",
       "    </tr>\n",
       "    <tr>\n",
       "      <th>21</th>\n",
       "      <td>UNI/USDC</td>\n",
       "      <td>USDC</td>\n",
       "      <td>UNI</td>\n",
       "      <td>1</td>\n",
       "      <td>True</td>\n",
       "      <td>0.163971</td>\n",
       "      <td>6.098634</td>\n",
       "    </tr>\n",
       "    <tr>\n",
       "      <th>22</th>\n",
       "      <td>WETH/USDC</td>\n",
       "      <td>USDC</td>\n",
       "      <td>WETH</td>\n",
       "      <td>1</td>\n",
       "      <td>True</td>\n",
       "      <td>0.000549</td>\n",
       "      <td>1819.922154</td>\n",
       "    </tr>\n",
       "    <tr>\n",
       "      <th>23</th>\n",
       "      <td>WETH/USDC</td>\n",
       "      <td>WETH</td>\n",
       "      <td>USDC</td>\n",
       "      <td>1</td>\n",
       "      <td>False</td>\n",
       "      <td>1819.922154</td>\n",
       "      <td>1819.922154</td>\n",
       "    </tr>\n",
       "  </tbody>\n",
       "</table>\n",
       "</div>"
      ],
      "text/plain": [
       "         pair tkn_in tkn_out  n  is_reverse  price_outin        price\n",
       "0   LINK/WETH   LINK    WETH  1       False     0.004153     0.004153\n",
       "1   LINK/WETH   WETH    LINK  1        True   240.765016     0.004153\n",
       "2   LINK/USDC   LINK    USDC  1       False     6.100521     6.100521\n",
       "3   LINK/USDC   USDC    LINK  1        True     0.163920     6.100521\n",
       "4   AAVE/WETH   AAVE    WETH  1       False     0.040805     0.040805\n",
       "5   AAVE/WETH   WETH    AAVE  1        True    24.506892     0.040805\n",
       "6    UNI/WETH    UNI    WETH  1       False     0.003327     0.003327\n",
       "7    UNI/WETH   WETH     UNI  1        True   300.613015     0.003327\n",
       "8   WETH/USDC   USDC    WETH  1        True     0.000549  1822.819584\n",
       "9   WETH/USDC   WETH    USDC  1       False  1822.819584  1822.819584\n",
       "10  LINK/WETH   LINK    WETH  1       False     0.004144     0.004144\n",
       "11  LINK/WETH   WETH    LINK  1        True   241.288811     0.004144\n",
       "12  LINK/USDC   LINK    USDC  1       False     7.300881     7.300881\n",
       "13  LINK/USDC   USDC    LINK  1        True     0.136970     7.300881\n",
       "14  AAVE/WETH   AAVE    WETH  1       False     0.040549     0.040549\n",
       "15  AAVE/WETH   WETH    AAVE  1        True    24.661293     0.040549\n",
       "16  AAVE/USDC   AAVE    USDC  1       False    80.826393    80.826393\n",
       "17  AAVE/USDC   USDC    AAVE  1        True     0.012372    80.826393\n",
       "18   UNI/WETH    UNI    WETH  1       False     0.003330     0.003330\n",
       "19   UNI/WETH   WETH     UNI  1        True   300.255245     0.003330\n",
       "20   UNI/USDC    UNI    USDC  1       False     6.098634     6.098634\n",
       "21   UNI/USDC   USDC     UNI  1        True     0.163971     6.098634\n",
       "22  WETH/USDC   USDC    WETH  1        True     0.000549  1819.922154\n",
       "23  WETH/USDC   WETH    USDC  1       False  1819.922154  1819.922154"
      ]
     },
     "execution_count": 62,
     "metadata": {},
     "output_type": "execute_result"
    }
   ],
   "source": [
    "AG.edgedf(consolidated=False)"
   ]
  },
  {
   "cell_type": "code",
   "execution_count": 63,
   "id": "adb634cb-a53e-4a8b-8bf3-3e99602d1d6a",
   "metadata": {},
   "outputs": [
    {
     "data": {
      "text/html": [
       "<div>\n",
       "<style scoped>\n",
       "    .dataframe tbody tr th:only-of-type {\n",
       "        vertical-align: middle;\n",
       "    }\n",
       "\n",
       "    .dataframe tbody tr th {\n",
       "        vertical-align: top;\n",
       "    }\n",
       "\n",
       "    .dataframe thead th {\n",
       "        text-align: right;\n",
       "    }\n",
       "</style>\n",
       "<table border=\"1\" class=\"dataframe\">\n",
       "  <thead>\n",
       "    <tr style=\"text-align: right;\">\n",
       "      <th></th>\n",
       "      <th>n</th>\n",
       "      <th>n_rev</th>\n",
       "      <th>price</th>\n",
       "    </tr>\n",
       "    <tr>\n",
       "      <th>pair</th>\n",
       "      <th></th>\n",
       "      <th></th>\n",
       "      <th></th>\n",
       "    </tr>\n",
       "  </thead>\n",
       "  <tbody>\n",
       "    <tr>\n",
       "      <th>AAVE/USDC</th>\n",
       "      <td>1</td>\n",
       "      <td>1</td>\n",
       "      <td>80.826393</td>\n",
       "    </tr>\n",
       "    <tr>\n",
       "      <th>AAVE/WETH</th>\n",
       "      <td>2</td>\n",
       "      <td>2</td>\n",
       "      <td>0.040677</td>\n",
       "    </tr>\n",
       "    <tr>\n",
       "      <th>LINK/USDC</th>\n",
       "      <td>2</td>\n",
       "      <td>2</td>\n",
       "      <td>6.700701</td>\n",
       "    </tr>\n",
       "    <tr>\n",
       "      <th>LINK/WETH</th>\n",
       "      <td>2</td>\n",
       "      <td>2</td>\n",
       "      <td>0.004149</td>\n",
       "    </tr>\n",
       "    <tr>\n",
       "      <th>UNI/USDC</th>\n",
       "      <td>1</td>\n",
       "      <td>1</td>\n",
       "      <td>6.098634</td>\n",
       "    </tr>\n",
       "    <tr>\n",
       "      <th>UNI/WETH</th>\n",
       "      <td>2</td>\n",
       "      <td>2</td>\n",
       "      <td>0.003329</td>\n",
       "    </tr>\n",
       "    <tr>\n",
       "      <th>WETH/USDC</th>\n",
       "      <td>2</td>\n",
       "      <td>2</td>\n",
       "      <td>1821.370869</td>\n",
       "    </tr>\n",
       "  </tbody>\n",
       "</table>\n",
       "</div>"
      ],
      "text/plain": [
       "           n  n_rev        price\n",
       "pair                            \n",
       "AAVE/USDC  1      1    80.826393\n",
       "AAVE/WETH  2      2     0.040677\n",
       "LINK/USDC  2      2     6.700701\n",
       "LINK/WETH  2      2     0.004149\n",
       "UNI/USDC   1      1     6.098634\n",
       "UNI/WETH   2      2     0.003329\n",
       "WETH/USDC  2      2  1821.370869"
      ]
     },
     "execution_count": 63,
     "metadata": {},
     "output_type": "execute_result"
    }
   ],
   "source": [
    "df = AG.edgedf(consolidated=True)\n",
    "df"
   ]
  },
  {
   "cell_type": "code",
   "execution_count": 64,
   "id": "74fa4d4f-e077-4f54-8719-d91ce21bff3f",
   "metadata": {},
   "outputs": [
    {
     "name": "stdout",
     "output_type": "stream",
     "text": [
      "71.22 LINK -0.3 WETH 170\n",
      "-0.28 LINK 1.99 USDC 171\n",
      "3.4 AAVE -0.14 WETH 180\n",
      "-10.82 UNI 0.04 WETH 305\n",
      "755278.31 USDC -393.48 WETH 309\n",
      "-65.01 LINK 0.27 WETH 337\n",
      "-5.93 LINK 46.42 USDC 339\n",
      "-3.38 AAVE 0.13 WETH 349\n",
      "-0.02 AAVE 1.41 USDC 351\n",
      "60.27 UNI -0.2 WETH 599\n",
      "-49.45 UNI 316.84 USDC 601\n",
      "1507698.66 USDC -786.1 WETH 606\n"
     ]
    }
   ],
   "source": [
    "dx,dy = ((71.22, -0.28, 3.4, -10.82, 755278.31, -65.01, -5.93, -3.38, -0.02, 60.27, -49.45, 1507698.66, -2263343.63), \n",
    "         (-0.3, 1.99, -0.14, 0.04, -393.48, 0.27, 46.42, 0.13, 1.41, -0.2, 316.84, -786.1, 833.78))\n",
    "AG2 = ag.ArbGraph()\n",
    "for cpc, dx_, dy_ in zip(CC, dx, dy):\n",
    "    print(dx_, cpc.tknx, dy_, cpc.tkny, cpc.cid)\n",
    "    AG2.add_edge_dxdy(cpc.tknx, dx_, cpc.tkny, dy_, uid=cpc.cid)\n",
    "    #print(\"---\")"
   ]
  },
  {
   "cell_type": "code",
   "execution_count": 65,
   "id": "519e81fb-180b-4003-9104-09df28bda6a4",
   "metadata": {},
   "outputs": [],
   "source": [
    "#_=AG2.plot()\n",
    "assert AG2.len() == (12,5)"
   ]
  },
  {
   "cell_type": "code",
   "execution_count": 66,
   "id": "7657cc5e-b0fc-459c-8a10-bbe1f9960ecb",
   "metadata": {},
   "outputs": [
    {
     "name": "stdout",
     "output_type": "stream",
     "text": [
      "[[0 1 0 0 0]\n",
      " [1 0 0 1 1]\n",
      " [1 1 0 1 1]\n",
      " [0 1 0 0 0]\n",
      " [0 1 0 0 0]]\n"
     ]
    }
   ],
   "source": [
    "assert np.all(AG2.A.toarray() == np.array(\n",
    "      [[0, 1, 0, 0, 0],\n",
    "       [1, 0, 0, 1, 1],\n",
    "       [1, 1, 0, 1, 1],\n",
    "       [0, 1, 0, 0, 0],\n",
    "       [0, 1, 0, 0, 0]]))\n",
    "print(AG2.A.toarray())"
   ]
  },
  {
   "cell_type": "code",
   "execution_count": 67,
   "id": "5fe9565c-71a6-4efd-a690-44341813c423",
   "metadata": {},
   "outputs": [
    {
     "data": {
      "text/plain": [
       "{'len': 2,\n",
       " 'edges': ({'node_in': {'tkn': 'USDC', 'ix': 2},\n",
       "   'amount_in': 755278.31,\n",
       "   'node_out': {'tkn': 'WETH', 'ix': 1},\n",
       "   'amount_out': 393.48,\n",
       "   'ix': 4,\n",
       "   'inverse': False,\n",
       "   'uid': None},\n",
       "  {'node_in': {'tkn': 'USDC', 'ix': 2},\n",
       "   'amount_in': 1507698.66,\n",
       "   'node_out': {'tkn': 'WETH', 'ix': 1},\n",
       "   'amount_out': 786.1,\n",
       "   'ix': 11,\n",
       "   'inverse': False,\n",
       "   'uid': None}),\n",
       " 'amount_in': {'amount': 2262976.9699999997, 'node': {'tkn': 'USDC', 'ix': 2}},\n",
       " 'amount_in_remaining': {'amount': 2262976.9699999997,\n",
       "  'node': {'tkn': 'USDC', 'ix': 2}},\n",
       " 'amount_out': {'amount': 1179.58, 'node': {'tkn': 'WETH', 'ix': 1}},\n",
       " 'price': 0.0005212514381001412,\n",
       " 'utilization': 0.0,\n",
       " 'amounts_in': (755278.31, 1507698.66),\n",
       " 'amounts_in_remaining': (755278.31, 1507698.66),\n",
       " 'amounts_out': (393.48, 786.1),\n",
       " 'prices': (0.0005209735203437789, 0.0005213906603856769),\n",
       " 'utilizations': (0.0, 0.0)}"
      ]
     },
     "execution_count": 67,
     "metadata": {},
     "output_type": "execute_result"
    }
   ],
   "source": [
    "assert AG2.edge_statistics(\"WETH\", \"USDC\", bothways=False) is None\n",
    "assert len(AG2.edge_statistics(\"WETH\", \"USDC\", bothways=True)) == 2\n",
    "assert AG2.edge_statistics(\"WETH\", \"USDC\", bothways=True)[1].asdict[\"amounts_in_remaining\"] == (755278.31, 1507698.66)\n",
    "AG2.edge_statistics(\"WETH\", \"USDC\", bothways=True)[1].asdict"
   ]
  },
  {
   "cell_type": "code",
   "execution_count": 68,
   "id": "80e653d3-8c77-4085-b8f7-c74ec83de173",
   "metadata": {},
   "outputs": [],
   "source": [
    "assert AG2.filter_edges(\"WETH\", \"USDC\") == []\n",
    "assert AG2.filter_edges(\"WETH\", \"USDC\", bothways=True)[0].amount_in == 755278.31\n",
    "assert AG2.filter_edges(\"WETH\", \"USDC\", bothways=True) == AG2.filter_edges(\"USDC\", \"WETH\")\n",
    "assert AG2.filter_edges(pair=\"WETH/USDC\", bothways=False) == []\n",
    "assert AG2.filter_edges(pair=\"WETH/USDC\") == AG2.filter_edges(\"WETH\", \"USDC\", bothways=True)\n",
    "assert AG2.filter_edges == AG2.fe\n",
    "assert AG2.fep(\"WETH/USDC\") == AG2.filter_edges(pair=\"WETH/USDC\")\n",
    "assert AG2.fep(\"WETH/USDC\", bothways=False) == AG2.filter_edges(pair=\"WETH/USDC\", bothways=False)\n",
    "assert tuple(AG2.edgedf(consolidated=True, resetindex=False).iloc[0]) == (1.41, 0.02)\n",
    "assert len(AG2.edgedf(consolidated=False)) == len(AG2)"
   ]
  },
  {
   "cell_type": "code",
   "execution_count": 69,
   "id": "18c718aa-6539-4e32-b2ac-cce270a48356",
   "metadata": {},
   "outputs": [
    {
     "data": {
      "text/html": [
       "<div>\n",
       "<style scoped>\n",
       "    .dataframe tbody tr th:only-of-type {\n",
       "        vertical-align: middle;\n",
       "    }\n",
       "\n",
       "    .dataframe tbody tr th {\n",
       "        vertical-align: top;\n",
       "    }\n",
       "\n",
       "    .dataframe thead th {\n",
       "        text-align: right;\n",
       "    }\n",
       "</style>\n",
       "<table border=\"1\" class=\"dataframe\">\n",
       "  <thead>\n",
       "    <tr style=\"text-align: right;\">\n",
       "      <th></th>\n",
       "      <th>pair</th>\n",
       "      <th>tkn_in</th>\n",
       "      <th>tkn_out</th>\n",
       "      <th>amount_in</th>\n",
       "      <th>amount_out</th>\n",
       "    </tr>\n",
       "  </thead>\n",
       "  <tbody>\n",
       "    <tr>\n",
       "      <th>0</th>\n",
       "      <td>LINK/WETH</td>\n",
       "      <td>LINK</td>\n",
       "      <td>WETH</td>\n",
       "      <td>71.22</td>\n",
       "      <td>0.30</td>\n",
       "    </tr>\n",
       "    <tr>\n",
       "      <th>1</th>\n",
       "      <td>LINK/USDC</td>\n",
       "      <td>USDC</td>\n",
       "      <td>LINK</td>\n",
       "      <td>1.99</td>\n",
       "      <td>0.28</td>\n",
       "    </tr>\n",
       "    <tr>\n",
       "      <th>2</th>\n",
       "      <td>AAVE/WETH</td>\n",
       "      <td>AAVE</td>\n",
       "      <td>WETH</td>\n",
       "      <td>3.40</td>\n",
       "      <td>0.14</td>\n",
       "    </tr>\n",
       "    <tr>\n",
       "      <th>3</th>\n",
       "      <td>UNI/WETH</td>\n",
       "      <td>WETH</td>\n",
       "      <td>UNI</td>\n",
       "      <td>0.04</td>\n",
       "      <td>10.82</td>\n",
       "    </tr>\n",
       "    <tr>\n",
       "      <th>4</th>\n",
       "      <td>WETH/USDC</td>\n",
       "      <td>USDC</td>\n",
       "      <td>WETH</td>\n",
       "      <td>755278.31</td>\n",
       "      <td>393.48</td>\n",
       "    </tr>\n",
       "    <tr>\n",
       "      <th>5</th>\n",
       "      <td>LINK/WETH</td>\n",
       "      <td>WETH</td>\n",
       "      <td>LINK</td>\n",
       "      <td>0.27</td>\n",
       "      <td>65.01</td>\n",
       "    </tr>\n",
       "    <tr>\n",
       "      <th>6</th>\n",
       "      <td>LINK/USDC</td>\n",
       "      <td>USDC</td>\n",
       "      <td>LINK</td>\n",
       "      <td>46.42</td>\n",
       "      <td>5.93</td>\n",
       "    </tr>\n",
       "    <tr>\n",
       "      <th>7</th>\n",
       "      <td>AAVE/WETH</td>\n",
       "      <td>WETH</td>\n",
       "      <td>AAVE</td>\n",
       "      <td>0.13</td>\n",
       "      <td>3.38</td>\n",
       "    </tr>\n",
       "    <tr>\n",
       "      <th>8</th>\n",
       "      <td>AAVE/USDC</td>\n",
       "      <td>USDC</td>\n",
       "      <td>AAVE</td>\n",
       "      <td>1.41</td>\n",
       "      <td>0.02</td>\n",
       "    </tr>\n",
       "    <tr>\n",
       "      <th>9</th>\n",
       "      <td>UNI/WETH</td>\n",
       "      <td>UNI</td>\n",
       "      <td>WETH</td>\n",
       "      <td>60.27</td>\n",
       "      <td>0.20</td>\n",
       "    </tr>\n",
       "    <tr>\n",
       "      <th>10</th>\n",
       "      <td>UNI/USDC</td>\n",
       "      <td>USDC</td>\n",
       "      <td>UNI</td>\n",
       "      <td>316.84</td>\n",
       "      <td>49.45</td>\n",
       "    </tr>\n",
       "    <tr>\n",
       "      <th>11</th>\n",
       "      <td>WETH/USDC</td>\n",
       "      <td>USDC</td>\n",
       "      <td>WETH</td>\n",
       "      <td>1507698.66</td>\n",
       "      <td>786.10</td>\n",
       "    </tr>\n",
       "  </tbody>\n",
       "</table>\n",
       "</div>"
      ],
      "text/plain": [
       "         pair tkn_in tkn_out   amount_in  amount_out\n",
       "0   LINK/WETH   LINK    WETH       71.22        0.30\n",
       "1   LINK/USDC   USDC    LINK        1.99        0.28\n",
       "2   AAVE/WETH   AAVE    WETH        3.40        0.14\n",
       "3    UNI/WETH   WETH     UNI        0.04       10.82\n",
       "4   WETH/USDC   USDC    WETH   755278.31      393.48\n",
       "5   LINK/WETH   WETH    LINK        0.27       65.01\n",
       "6   LINK/USDC   USDC    LINK       46.42        5.93\n",
       "7   AAVE/WETH   WETH    AAVE        0.13        3.38\n",
       "8   AAVE/USDC   USDC    AAVE        1.41        0.02\n",
       "9    UNI/WETH    UNI    WETH       60.27        0.20\n",
       "10   UNI/USDC   USDC     UNI      316.84       49.45\n",
       "11  WETH/USDC   USDC    WETH  1507698.66      786.10"
      ]
     },
     "execution_count": 69,
     "metadata": {},
     "output_type": "execute_result"
    }
   ],
   "source": [
    "assert len(AG2.edgedf(consolidated=False)) == 12\n",
    "AG2.edgedf(consolidated=False)"
   ]
  },
  {
   "cell_type": "code",
   "execution_count": 70,
   "id": "1f40c9ae-767e-4b68-9cf1-c5cd32fc7d35",
   "metadata": {},
   "outputs": [
    {
     "data": {
      "text/html": [
       "<div>\n",
       "<style scoped>\n",
       "    .dataframe tbody tr th:only-of-type {\n",
       "        vertical-align: middle;\n",
       "    }\n",
       "\n",
       "    .dataframe tbody tr th {\n",
       "        vertical-align: top;\n",
       "    }\n",
       "\n",
       "    .dataframe thead th {\n",
       "        text-align: right;\n",
       "    }\n",
       "</style>\n",
       "<table border=\"1\" class=\"dataframe\">\n",
       "  <thead>\n",
       "    <tr style=\"text-align: right;\">\n",
       "      <th></th>\n",
       "      <th></th>\n",
       "      <th></th>\n",
       "      <th>amount_in</th>\n",
       "      <th>amount_out</th>\n",
       "    </tr>\n",
       "    <tr>\n",
       "      <th>pair</th>\n",
       "      <th>tkn_in</th>\n",
       "      <th>tkn_out</th>\n",
       "      <th></th>\n",
       "      <th></th>\n",
       "    </tr>\n",
       "  </thead>\n",
       "  <tbody>\n",
       "    <tr>\n",
       "      <th>AAVE/USDC</th>\n",
       "      <th>USDC</th>\n",
       "      <th>AAVE</th>\n",
       "      <td>1.41</td>\n",
       "      <td>0.02</td>\n",
       "    </tr>\n",
       "    <tr>\n",
       "      <th rowspan=\"2\" valign=\"top\">AAVE/WETH</th>\n",
       "      <th>AAVE</th>\n",
       "      <th>WETH</th>\n",
       "      <td>3.40</td>\n",
       "      <td>0.14</td>\n",
       "    </tr>\n",
       "    <tr>\n",
       "      <th>WETH</th>\n",
       "      <th>AAVE</th>\n",
       "      <td>0.13</td>\n",
       "      <td>3.38</td>\n",
       "    </tr>\n",
       "    <tr>\n",
       "      <th>LINK/USDC</th>\n",
       "      <th>USDC</th>\n",
       "      <th>LINK</th>\n",
       "      <td>48.41</td>\n",
       "      <td>6.21</td>\n",
       "    </tr>\n",
       "    <tr>\n",
       "      <th rowspan=\"2\" valign=\"top\">LINK/WETH</th>\n",
       "      <th>LINK</th>\n",
       "      <th>WETH</th>\n",
       "      <td>71.22</td>\n",
       "      <td>0.30</td>\n",
       "    </tr>\n",
       "    <tr>\n",
       "      <th>WETH</th>\n",
       "      <th>LINK</th>\n",
       "      <td>0.27</td>\n",
       "      <td>65.01</td>\n",
       "    </tr>\n",
       "    <tr>\n",
       "      <th>UNI/USDC</th>\n",
       "      <th>USDC</th>\n",
       "      <th>UNI</th>\n",
       "      <td>316.84</td>\n",
       "      <td>49.45</td>\n",
       "    </tr>\n",
       "    <tr>\n",
       "      <th rowspan=\"2\" valign=\"top\">UNI/WETH</th>\n",
       "      <th>UNI</th>\n",
       "      <th>WETH</th>\n",
       "      <td>60.27</td>\n",
       "      <td>0.20</td>\n",
       "    </tr>\n",
       "    <tr>\n",
       "      <th>WETH</th>\n",
       "      <th>UNI</th>\n",
       "      <td>0.04</td>\n",
       "      <td>10.82</td>\n",
       "    </tr>\n",
       "    <tr>\n",
       "      <th>WETH/USDC</th>\n",
       "      <th>USDC</th>\n",
       "      <th>WETH</th>\n",
       "      <td>2262976.97</td>\n",
       "      <td>1179.58</td>\n",
       "    </tr>\n",
       "  </tbody>\n",
       "</table>\n",
       "</div>"
      ],
      "text/plain": [
       "                           amount_in  amount_out\n",
       "pair      tkn_in tkn_out                        \n",
       "AAVE/USDC USDC   AAVE           1.41        0.02\n",
       "AAVE/WETH AAVE   WETH           3.40        0.14\n",
       "          WETH   AAVE           0.13        3.38\n",
       "LINK/USDC USDC   LINK          48.41        6.21\n",
       "LINK/WETH LINK   WETH          71.22        0.30\n",
       "          WETH   LINK           0.27       65.01\n",
       "UNI/USDC  USDC   UNI          316.84       49.45\n",
       "UNI/WETH  UNI    WETH          60.27        0.20\n",
       "          WETH   UNI            0.04       10.82\n",
       "WETH/USDC USDC   WETH     2262976.97     1179.58"
      ]
     },
     "execution_count": 70,
     "metadata": {},
     "output_type": "execute_result"
    }
   ],
   "source": [
    "assert len(AG2.edgedf(consolidated=True, resetindex=False)) == 10\n",
    "AG2.edgedf(consolidated=True, resetindex=False)"
   ]
  },
  {
   "cell_type": "markdown",
   "id": "b73a9fe5-f486-4cae-b86d-c59a8139451f",
   "metadata": {},
   "source": [
    "## Amount algebra"
   ]
  },
  {
   "cell_type": "code",
   "execution_count": 71,
   "id": "818d1633-8b04-459d-9c1b-9756c9b1b0b3",
   "metadata": {},
   "outputs": [],
   "source": [
    "A = ag.Amount\n",
    "nodes = lambda: ag.create_node_list(\"ETH, USDC\")\n",
    "ETH, USDC = nodes()"
   ]
  },
  {
   "cell_type": "code",
   "execution_count": 72,
   "id": "e1666418-0dd0-4b22-8470-ca881bb2a291",
   "metadata": {},
   "outputs": [],
   "source": [
    "ae1, ae2, au1 = A(1, ETH), A(2, ETH), A(1, USDC)"
   ]
  },
  {
   "cell_type": "code",
   "execution_count": 73,
   "id": "de56707f-35c3-402e-9b29-b651475380d3",
   "metadata": {},
   "outputs": [],
   "source": [
    "assert ae1 + ae2 == 3*ae1\n",
    "assert ae2 - ae1 == ae1\n",
    "assert -ae1 + ae2 == ae1\n",
    "assert 2*ae1 == ae2\n",
    "assert ae1*2 == ae2\n",
    "assert ae1/2 +ae1/2 == ae1\n",
    "assert round(ae1/9,2) == round(1/9,2)*ae1\n",
    "assert round(ae1/9,4) == round(1/9,4)*ae1\n",
    "assert math.floor(ae1/9) == math.floor(1/9)*ae1\n",
    "assert math.ceil(ae1/9) == math.ceil(1/9)*ae1\n",
    "assert (ae1 + 2*ae1)/ae1 == 3"
   ]
  },
  {
   "cell_type": "code",
   "execution_count": 74,
   "id": "274aea35-d311-4995-8878-fc8cf447452d",
   "metadata": {},
   "outputs": [],
   "source": [
    "assert raises (lambda: ae1 + 1)\n",
    "assert raises (lambda: ae1 - 1)\n",
    "assert raises (lambda: 1 + ae1)\n",
    "assert raises (lambda: 1 - ae1)"
   ]
  },
  {
   "cell_type": "code",
   "execution_count": 75,
   "id": "b325f79e-f43a-49d5-b74f-7fbaf4cac6ca",
   "metadata": {},
   "outputs": [],
   "source": [
    "assert 2*ae1 > ae1\n",
    "assert 2*ae1 >= ae1\n",
    "assert .2*ae1 < ae1\n",
    "assert .2*ae1 <= ae1\n",
    "assert ae1 <= ae1\n",
    "assert ae1 >= ae1\n",
    "assert not ae1 < ae1\n",
    "assert not ae1 > ae1"
   ]
  },
  {
   "cell_type": "markdown",
   "id": "6a863003-9227-4fa8-953f-d338a18605c8",
   "metadata": {},
   "source": [
    "## Specific Arb examples"
   ]
  },
  {
   "cell_type": "markdown",
   "id": "0f849ba9-36bf-4f17-9559-7b1a38f48e2d",
   "metadata": {},
   "source": [
    "### USDC/ETH"
   ]
  },
  {
   "cell_type": "code",
   "execution_count": 76,
   "id": "91c93306-b019-468a-ba5a-c345490f362c",
   "metadata": {},
   "outputs": [
    {
     "name": "stdout",
     "output_type": "stream",
     "text": [
      "(Cycle(data=[ETH(0), USDC(1)], uid=0),)\n"
     ]
    }
   ],
   "source": [
    "AG = ag.ArbGraph()\n",
    "AG.add_edge(\"ETH\", 1, \"USDC\", 2000)\n",
    "AG.add_edge(\"USDC\", 1800, \"ETH\", 1, inverse=True)\n",
    "G = AG.as_graph()\n",
    "print(AG.cycles())\n",
    "#_=AG.plot()"
   ]
  },
  {
   "cell_type": "code",
   "execution_count": 77,
   "id": "0b259f89-6537-4b6e-bc37-853f84c6fafd",
   "metadata": {},
   "outputs": [
    {
     "name": "stdout",
     "output_type": "stream",
     "text": [
      "===cycle [0]: ETH->USDC->...===\n",
      "(ETH(0), USDC(1))\n",
      "(USDC(1), ETH(0))\n"
     ]
    }
   ],
   "source": [
    "for C in AG.cycles():\n",
    "    print(f\"==={C}===\")\n",
    "    for c in C.pairs(start_val=AG.n(\"ETH\")): \n",
    "        print(c)"
   ]
  },
  {
   "cell_type": "code",
   "execution_count": 78,
   "id": "0decf9b2-28cb-4327-9821-ff8b6b08db33",
   "metadata": {},
   "outputs": [
    {
     "data": {
      "text/plain": [
       "((USDC(1), ETH(0)),\n",
       " [Edge(node_in=USDC(1), amount_in=1800, node_out=ETH(0), amount_out=1, ix=1, inverse=True, uid=None)])"
      ]
     },
     "execution_count": 78,
     "metadata": {},
     "output_type": "execute_result"
    }
   ],
   "source": [
    "c, AG.filter_edges(*c)"
   ]
  },
  {
   "cell_type": "code",
   "execution_count": 79,
   "id": "ac6983c1-c55c-4666-aed5-0acd26d0819e",
   "metadata": {},
   "outputs": [
    {
     "data": {
      "text/plain": [
       "array([[0, 1],\n",
       "       [1, 0]])"
      ]
     },
     "execution_count": 79,
     "metadata": {},
     "output_type": "execute_result"
    }
   ],
   "source": [
    "AG.A.toarray()"
   ]
  },
  {
   "cell_type": "markdown",
   "id": "926914d2-d515-412c-ab15-be5cc577ce7d",
   "metadata": {},
   "source": [
    "### USDC/LINK to ETH (oneway)"
   ]
  },
  {
   "cell_type": "code",
   "execution_count": 80,
   "id": "f0743e1d-8709-41f9-8ae7-dd13cdfe40a0",
   "metadata": {},
   "outputs": [
    {
     "name": "stdout",
     "output_type": "stream",
     "text": [
      "(Cycle(data=[USDC(0), LINK(2)], uid=0),)\n"
     ]
    }
   ],
   "source": [
    "AG = ag.ArbGraph()\n",
    "AG.add_edge(\"USDC\", 100, \"ETH\", 100/2000)\n",
    "AG.add_edge(\"LINK\", 100, \"USDC\", 1000)\n",
    "AG.add_edge(\"USDC\", 900, \"LINK\", 100, inverse=True)\n",
    "G = AG.as_graph()\n",
    "print(AG.cycles())\n",
    "#_=AG.plot()"
   ]
  },
  {
   "cell_type": "markdown",
   "id": "3e8b2ed6",
   "metadata": {},
   "source": [
    "_=AG.duplicate().plot()"
   ]
  },
  {
   "cell_type": "code",
   "execution_count": 81,
   "id": "69797a28-a7e7-43aa-8442-c164c8bedfed",
   "metadata": {},
   "outputs": [
    {
     "name": "stdout",
     "output_type": "stream",
     "text": [
      "===cycle [0]: USDC->LINK->...===\n",
      "(USDC(0), LINK(2))\n",
      "(LINK(2), USDC(0))\n"
     ]
    }
   ],
   "source": [
    "for C in AG.cycles():\n",
    "    print(f\"==={C}===\")\n",
    "    for c in C.pairs(start_val=AG.n(\"USDC\")): \n",
    "        print(c)"
   ]
  },
  {
   "cell_type": "code",
   "execution_count": 82,
   "id": "5958e342-d8d5-4a19-8692-4cf8f3c90ca1",
   "metadata": {},
   "outputs": [
    {
     "data": {
      "text/plain": [
       "((LINK(2), USDC(0)),\n",
       " [Edge(node_in=LINK(2), amount_in=100, node_out=USDC(0), amount_out=1000, ix=1, inverse=False, uid=None)])"
      ]
     },
     "execution_count": 82,
     "metadata": {},
     "output_type": "execute_result"
    }
   ],
   "source": [
    "c, AG.filter_edges(*c)"
   ]
  },
  {
   "cell_type": "code",
   "execution_count": 83,
   "id": "5aa7ed65-ce02-4680-9508-cc793ec287bf",
   "metadata": {},
   "outputs": [
    {
     "data": {
      "text/plain": [
       "array([[0, 1, 1],\n",
       "       [0, 0, 0],\n",
       "       [1, 0, 0]])"
      ]
     },
     "execution_count": 83,
     "metadata": {},
     "output_type": "execute_result"
    }
   ],
   "source": [
    "AG.A.toarray()"
   ]
  },
  {
   "cell_type": "markdown",
   "id": "d118509e-94d0-4f1a-9b19-772a80b60966",
   "metadata": {},
   "source": [
    "### USDD, LINK, ETH cycle"
   ]
  },
  {
   "cell_type": "code",
   "execution_count": 84,
   "id": "2f5230ec-578a-4c93-bf17-daaa9468d9e2",
   "metadata": {},
   "outputs": [
    {
     "name": "stdout",
     "output_type": "stream",
     "text": [
      "(Cycle(data=[ETH(0), USDC(1), LINK(2)], uid=0),)\n"
     ]
    }
   ],
   "source": [
    "AG = ag.ArbGraph()\n",
    "AG.add_edge(\"ETH\", 1, \"USDC\", 2000)\n",
    "AG.add_edge(\"USDC\", 1500, \"LINK\", 200, inverse=True)\n",
    "AG.add_edge(\"LINK\", 200, \"ETH\", 1, inverse=True)\n",
    "G = AG.as_graph()\n",
    "print(AG.cycles())\n",
    "#_=AG.plot()"
   ]
  },
  {
   "cell_type": "code",
   "execution_count": 85,
   "id": "12706bbd-0e07-4e2f-a54e-51bf60956311",
   "metadata": {},
   "outputs": [
    {
     "name": "stdout",
     "output_type": "stream",
     "text": [
      "===cycle [0]: ETH->USDC->LINK->...===\n",
      "(USDC(1), LINK(2))\n",
      "(LINK(2), ETH(0))\n",
      "(ETH(0), USDC(1))\n"
     ]
    }
   ],
   "source": [
    "for C in AG.cycles():\n",
    "    print(f\"==={C}===\")\n",
    "    for c in C.pairs(start_val=AG.n(\"USDC\")): \n",
    "        print(c)"
   ]
  },
  {
   "cell_type": "code",
   "execution_count": 86,
   "id": "af355336-48d0-481b-bcef-d49692a5e275",
   "metadata": {},
   "outputs": [
    {
     "data": {
      "text/plain": [
       "((ETH(0), USDC(1)),\n",
       " [Edge(node_in=ETH(0), amount_in=1, node_out=USDC(1), amount_out=2000, ix=0, inverse=False, uid=None)])"
      ]
     },
     "execution_count": 86,
     "metadata": {},
     "output_type": "execute_result"
    }
   ],
   "source": [
    "c, AG.filter_edges(*c)"
   ]
  },
  {
   "cell_type": "code",
   "execution_count": 87,
   "id": "0ad02c8f-c4b1-4eb8-a84e-3071e3e40434",
   "metadata": {},
   "outputs": [
    {
     "data": {
      "text/plain": [
       "array([[0, 1, 0],\n",
       "       [0, 0, 1],\n",
       "       [1, 0, 0]])"
      ]
     },
     "execution_count": 87,
     "metadata": {},
     "output_type": "execute_result"
    }
   ],
   "source": [
    "AG.A.toarray()"
   ]
  },
  {
   "cell_type": "markdown",
   "id": "22382914-2714-4c8c-a234-739c0b2c88da",
   "metadata": {},
   "source": [
    "### USDD, LINK, ETH cycle plus ETH/USDC"
   ]
  },
  {
   "cell_type": "code",
   "execution_count": 88,
   "id": "3aa752af-03db-4d32-816e-199fe861e1d2",
   "metadata": {},
   "outputs": [
    {
     "name": "stdout",
     "output_type": "stream",
     "text": [
      "(Cycle(data=[ETH(0), USDC(1)], uid=0), Cycle(data=[ETH(0), USDC(1), LINK(2)], uid=1))\n"
     ]
    }
   ],
   "source": [
    "AG = ag.ArbGraph()\n",
    "AG.add_edge(\"ETH\", 1, \"USDC\", 2000)\n",
    "AG.add_edge(\"ETH\", 1, \"USDC\", 2000)\n",
    "AG.add_edge(\"USDC\", 1500, \"LINK\", 200, inverse=True)\n",
    "AG.add_edge(\"LINK\", 200, \"ETH\", 1, inverse=True)\n",
    "AG.add_edge(\"USDC\", 1800, \"ETH\", 1, inverse=True)\n",
    "G = AG.as_graph()\n",
    "print(AG.cycles())\n",
    "#_=AG.plot()"
   ]
  },
  {
   "cell_type": "code",
   "execution_count": 89,
   "id": "b8008e76-42c0-4bea-ab27-c5f76622837f",
   "metadata": {},
   "outputs": [],
   "source": [
    "#_=AG.duplicate().plot()"
   ]
  },
  {
   "cell_type": "code",
   "execution_count": 90,
   "id": "d788ef90-4537-41f7-beec-a3c8edb63589",
   "metadata": {},
   "outputs": [
    {
     "data": {
      "text/plain": [
       "[Edge(node_in=ETH(0), amount_in=1, node_out=USDC(1), amount_out=2000, ix=0, inverse=False, uid=None),\n",
       " Edge(node_in=ETH(0), amount_in=1, node_out=USDC(1), amount_out=2000, ix=1, inverse=False, uid=None),\n",
       " Edge(node_in=USDC(1), amount_in=1500, node_out=LINK(2), amount_out=200, ix=2, inverse=True, uid=None),\n",
       " Edge(node_in=LINK(2), amount_in=200, node_out=ETH(0), amount_out=1, ix=3, inverse=True, uid=None),\n",
       " Edge(node_in=USDC(1), amount_in=1800, node_out=ETH(0), amount_out=1, ix=4, inverse=True, uid=None)]"
      ]
     },
     "execution_count": 90,
     "metadata": {},
     "output_type": "execute_result"
    }
   ],
   "source": [
    "AG.edges"
   ]
  },
  {
   "cell_type": "code",
   "execution_count": 91,
   "id": "150bc2d2-91cb-40de-bb5c-c99aca5750c0",
   "metadata": {},
   "outputs": [
    {
     "data": {
      "text/plain": [
       "(Edge(node_in=ETH(0), amount_in=2, node_out=USDC(1), amount_out=4000, ix=0, inverse=False, uid=None),\n",
       " Edge(node_in=USDC(1), amount_in=1800, node_out=ETH(0), amount_out=1, ix=1, inverse=True, uid=None),\n",
       " Edge(node_in=USDC(1), amount_in=1500, node_out=LINK(2), amount_out=200, ix=2, inverse=True, uid=None),\n",
       " Edge(node_in=LINK(2), amount_in=200, node_out=ETH(0), amount_out=1, ix=3, inverse=True, uid=None))"
      ]
     },
     "execution_count": 91,
     "metadata": {},
     "output_type": "execute_result"
    }
   ],
   "source": [
    "AG.duplicate().edges"
   ]
  },
  {
   "cell_type": "code",
   "execution_count": 92,
   "id": "b739e7f3-2fb7-4def-901b-37aea603632d",
   "metadata": {},
   "outputs": [
    {
     "data": {
      "text/plain": [
       "array([[0, 1, 0],\n",
       "       [1, 0, 1],\n",
       "       [1, 0, 0]])"
      ]
     },
     "execution_count": 92,
     "metadata": {},
     "output_type": "execute_result"
    }
   ],
   "source": [
    "AG.A.toarray()"
   ]
  },
  {
   "cell_type": "code",
   "execution_count": 93,
   "id": "75a82201-5489-489e-aadd-49d5b2f002a8",
   "metadata": {},
   "outputs": [
    {
     "name": "stdout",
     "output_type": "stream",
     "text": [
      "===cycle [0]: ETH->USDC->...===\n",
      "(ETH(0), USDC(1))\n",
      "(USDC(1), ETH(0))\n",
      "===cycle [1]: ETH->USDC->LINK->...===\n",
      "(ETH(0), USDC(1))\n",
      "(USDC(1), LINK(2))\n",
      "(LINK(2), ETH(0))\n"
     ]
    }
   ],
   "source": [
    "for C in AG.cycles():\n",
    "    print(f\"==={C}===\")\n",
    "    for c in C.pairs(start_val=AG.n(\"ETH\")): \n",
    "        print(c)"
   ]
  },
  {
   "cell_type": "code",
   "execution_count": 94,
   "id": "06b66d5c-a52d-40ee-ad3f-d0facbd60d3d",
   "metadata": {},
   "outputs": [
    {
     "data": {
      "text/plain": [
       "Cycle(data=[ETH(0), USDC(1), LINK(2)], uid=1)"
      ]
     },
     "execution_count": 94,
     "metadata": {},
     "output_type": "execute_result"
    }
   ],
   "source": [
    "cycle = AG.cycles()[1]\n",
    "cycle"
   ]
  },
  {
   "cell_type": "code",
   "execution_count": 95,
   "id": "548a9736-819c-4adc-9d6c-966462b6bcec",
   "metadata": {},
   "outputs": [
    {
     "name": "stdout",
     "output_type": "stream",
     "text": [
      "(ETH(0), USDC(1)): 2 edges, capacity 2 ETH -> 4000 USDC, actual 2 -> 4000.0 [1.0x]\n",
      "(USDC(1), ETH(0)): 1 edges, capacity 1800 USDC -> 1 ETH, actual 1800 -> 1.0 [0.45x]\n",
      "Profit: 0.09999999999999998 ETH [in: 0.9; out: 1.0]\n",
      "RACResult(profit: 0.1 [ETH], in: 0.9, rpcs: 5.0%, ppcs: 0.0, len: 2,  uid: 0)\n",
      "---\n",
      "(ETH(0), USDC(1)): 2 edges, capacity 2 ETH -> 4000 USDC, actual 2 -> 4000.0 [1.0x]\n",
      "(USDC(1), LINK(2)): 1 edges, capacity 1500 USDC -> 200 LINK, actual 1500 -> 200.0 [0.375x]\n",
      "(LINK(2), ETH(0)): 1 edges, capacity 200 LINK -> 1 ETH, actual 200.0 -> 1.0 [0.375x]\n",
      "Profit: 0.25 ETH [in: 0.75; out: 1.0]\n",
      "RACResult(profit: 0.2 [ETH], in: 0.8, rpcs: 8.3%, ppcs: 0.1, len: 3,  uid: 1)\n",
      "---\n"
     ]
    }
   ],
   "source": [
    "for cycle in AG.cycles():\n",
    "    result = AG.run_arbitrage_cycle(cycle=cycle, verbose=True)\n",
    "    print(result)\n",
    "    print(\"---\")"
   ]
  },
  {
   "cell_type": "code",
   "execution_count": 96,
   "id": "6b182784-b8eb-433f-867a-4e38d4bc5839",
   "metadata": {},
   "outputs": [
    {
     "data": {
      "text/plain": [
       "'cannot get price on amount-type graphs'"
      ]
     },
     "execution_count": 96,
     "metadata": {},
     "output_type": "execute_result"
    }
   ],
   "source": [
    "assert raises(AG.price, AG.nodes[0], AG.nodes[1])\n",
    "raises(AG.price, AG.nodes[0], AG.nodes[1])"
   ]
  },
  {
   "cell_type": "code",
   "execution_count": null,
   "id": "bc5a98c8-5750-4a9c-9afd-38a0d36ff213",
   "metadata": {
    "lines_to_next_cell": 2
   },
   "outputs": [],
   "source": []
  }
 ],
 "metadata": {
  "jupytext": {
   "encoding": "# -*- coding: utf-8 -*-",
   "formats": "ipynb,py:light"
  },
  "kernelspec": {
   "display_name": "Python 3",
   "language": "python",
   "name": "python3"
  },
  "language_info": {
   "codemirror_mode": {
    "name": "ipython",
    "version": 3
   },
   "file_extension": ".py",
   "mimetype": "text/x-python",
   "name": "python",
   "nbconvert_exporter": "python",
   "pygments_lexer": "ipython3",
   "version": "3.8.8"
  }
 },
 "nbformat": 4,
 "nbformat_minor": 5
}
