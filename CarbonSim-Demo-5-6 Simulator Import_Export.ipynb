{
 "cells": [
  {
   "cell_type": "code",
   "execution_count": 1,
   "id": "628697ff",
   "metadata": {},
   "outputs": [
    {
     "name": "stdout",
     "output_type": "stream",
     "text": [
      "Carbon Version v2.0-beta3 (12/Dec/2022)\n"
     ]
    }
   ],
   "source": [
    "import pandas as pd\n",
    "from decimal import Decimal\n",
    "import json\n",
    "import numpy as np\n",
    "from carbon import CarbonSimulatorUI, __version__, __date__\n",
    "print(f\"Carbon Version v{__version__} ({__date__})\", )"
   ]
  },
  {
   "attachments": {},
   "cell_type": "markdown",
   "id": "8b9cc759",
   "metadata": {},
   "source": [
    "# Carbon Simulation - Demo-5-6 Simulator Import_Export\n",
    "\n",
    "Here we demonstrate the preferred setup to import and export json test files from the simulator"
   ]
  },
  {
   "cell_type": "code",
   "execution_count": null,
   "id": "989a66bc",
   "metadata": {},
   "outputs": [],
   "source": [
    "def load_json(filename):     \n",
    "    '''\n",
    "    :filename:  the convention is to specify the trade by source or trade by target in the filename i.e. tradeByTargetAmount.json\n",
    "                this is necessary as the `is_by_target` field specifies the trade direction for the actionList\n",
    "    '''   \n",
    "    if ('Target' in filename) or ('target' in filename):\n",
    "        is_by_target = True\n",
    "    else:\n",
    "        is_by_target = False\n",
    "    f = open(filename , \"r\")\n",
    "    bm = f.read()\n",
    "    loaded_json = json.loads(bm)\n",
    "    f.close()\n",
    "    return(loaded_json, is_by_target)\n",
    "\n",
    "def decimalize_dict(dicta):\n",
    "    return({k:Decimal(v) for k,v in dicta.items()})\n",
    "\n",
    "def calc_y_int(liquidity, highestRate, lowestRate, marginalRate):\n",
    "    return(liquidity * (highestRate.sqrt() - lowestRate.sqrt()) / (marginalRate.sqrt() - lowestRate.sqrt()))\n",
    "\n",
    "def parse_order(order0, order_count):\n",
    "    order0 = decimalize_dict(order0)\n",
    "    order0['delta_liquidity'] = order0['newLiquidity'] - order0['liquidity']\n",
    "    order0['order'] = order_count\n",
    "    order0_df = pd.DataFrame.from_dict(order0, 'index', columns=[f'{order_count}'])\n",
    "    return(order0_df)\n",
    "\n",
    "def parse_strategy(strategy, strat_count, order_count):\n",
    "    orders = pd.DataFrame()\n",
    "    for order in strategy:\n",
    "        order_df = parse_order(order, order_count)\n",
    "        orders = pd.concat([orders,order_df.T])\n",
    "        order_count += 1\n",
    "    orders['strategy'] = strat_count\n",
    "    strat_count += 1\n",
    "    return(orders, strat_count, order_count)\n",
    "\n",
    "def format_json_as_df(json, scenario_index = 0):\n",
    "    '''\n",
    "    :json:             the loaded json file\n",
    "    :scenario_index:   each json file has multiple scenarios, make a selection\n",
    "    '''\n",
    "    actionList = json[scenario_index]['actions']\n",
    "    \n",
    "    print(f'The number of scenarios is {len(json)}')\n",
    "    print(f'You selected scenario: {scenario_index}')  \n",
    "    print(f'The number of actions in this scenario are: {len(actionList)}')\n",
    "\n",
    "    if scenario_index >= len(json):\n",
    "        print('Please selected a valid scenario_index')\n",
    "        return()\n",
    "    else:\n",
    "        strats = pd.DataFrame()\n",
    "        strat_count = 0\n",
    "        order_count = 0\n",
    "        for strategy in json[scenario_index]['strategies']:\n",
    "            orders, strat_count, order_count = parse_strategy(strategy, strat_count, order_count)\n",
    "            strats = pd.concat([strats, orders])\n",
    "        return(strats, actionList)\n",
    "\n",
    "def parse_actions(Sim, actionList, strats, is_by_target):\n",
    "    '''\n",
    "    parse_actions processes trades from the actionList\n",
    "\n",
    "    :Sim:           the specific simulator environment to trade against\n",
    "    :actionList:    the list of actions provides from the test json\n",
    "    :strats:        the preprocessed dataframe of strategies from the test json\n",
    "    :is_by_target:  the specification of trading by target or by source\n",
    "    '''\n",
    "\n",
    "    # print(f'is_by_target {is_by_target}')\n",
    "    for action in actionList:\n",
    "        print(action)\n",
    "        targetOrder = strats.query(f\"strategy=={action['strategyId']}\")\n",
    "        targetOrderId = targetOrder['order'].values[0]\n",
    "        targetOrderToken = Sim.state()['orders'].query(f\"id=={targetOrderId}\")['tkn'].values[0]\n",
    "        tokenAmount = Decimal(action['tokenAmount'])\n",
    "        if not is_by_target:\n",
    "            if action['orderIndex'] == 1:\n",
    "                Sim.amm_buys(Sim.carbon_pair.other(targetOrderToken),tokenAmount, execute=True, use_positions=[targetOrderId], use_positions_matchlevel=[targetOrderId])['trades']  # route_trade_by_source\n",
    "            else:    \n",
    "                targetOrderId += 1\n",
    "                Sim.amm_buys(targetOrderToken,tokenAmount, execute=True, use_positions=[targetOrderId], use_positions_matchlevel=[targetOrderId])['trades']  # route_trade_by_source\n",
    "            print(targetOrderToken, targetOrderId, tokenAmount)\n",
    "        else:\n",
    "            if action['orderIndex'] == 1:\n",
    "                Sim.amm_sells(targetOrderToken,tokenAmount, execute=True, use_positions=[targetOrderId], use_positions_matchlevel=[targetOrderId])['trades']  # route_trade_by_target\n",
    "            else:\n",
    "                targetOrderId += 1\n",
    "                Sim.amm_sells(Sim.carbon_pair.other(targetOrderToken),tokenAmount, execute=True, use_positions=[targetOrderId], use_positions_matchlevel=[targetOrderId])['trades']  # route_trade_by_target\n",
    "            print(Sim.carbon_pair.other(targetOrderToken), targetOrderId, tokenAmount)\n",
    "        \n",
    "def compare_results(strats, initial_orders, final_orders):\n",
    "    '''\n",
    "    :strats:            the preprocessed dataframe of strategies from the test json\n",
    "    :initial_orders:    the state of the simulator orders immediately after importing\n",
    "    :final_orders:      the state of the simulator orders immediately after performing trade actions\n",
    "    '''\n",
    "\n",
    "    df = pd.concat([strats[['newLiquidity', 'newMarginalRate']].reset_index(drop=True), final_orders[['tkn', 'y', 'p_marg']].reset_index(drop=True)], axis=1)\n",
    "    df.columns = ['json_liquidity', 'json_price', 'tkn', 'sim_liquidity', 'sim_price']\n",
    "    df = pd.concat([df.reset_index(drop=True), strats[['delta_liquidity']].reset_index(drop=True), (final_orders['y'] - initial_orders['y']).reset_index(drop=True)], axis=1)\n",
    "\n",
    "    df = df[['tkn','json_price', 'sim_price', 'json_liquidity', 'sim_liquidity', 'delta_liquidity', 'y']]\n",
    "    # Remember that the prices for one side of the strategy are flipped when imported to the simulator so they need to be inverted for comparison here\n",
    "    df.loc[:,'sim_price'] = [1/df.sim_price[i] if i%2==1 else df.sim_price[i] for i in df.index]\n",
    "    df.columns = ['tkn','json_price', 'sim_price', 'json_liquidity', 'sim_liquidity', 'delta_json_liquidity', 'delta_sim_liquidity']\n",
    "    return(df)\n",
    "\n",
    "def check_results(results, tolerance, short_long = 'short'):\n",
    "    '''\n",
    "    :results:       a df output from compare_results\n",
    "    :tolerance:     the absolute tolerance acceptable between compared values, default 1 wei\n",
    "    :short_long:    \"short\" returns everything in the table passed\n",
    "                    \"long\" returns itemized list of what passed\n",
    "    '''\n",
    "    test_marg_rates = np.isclose(results.json_price.astype(float), results.sim_price.astype(float), rtol=tolerance)\n",
    "    test_final_liq = np.isclose(results.json_liquidity.astype(float), results.sim_liquidity.astype(float), rtol=tolerance)\n",
    "    test_delta_liq = np.isclose(results.delta_json_liquidity.astype(float), results.delta_sim_liquidity.astype(float), rtol=tolerance)\n",
    "\n",
    "    if short_long == 'short':\n",
    "        print('Short check')\n",
    "        print('Testing marginal rate:', test_marg_rates.all())\n",
    "        assert test_marg_rates.all()\n",
    "        print('Testing final liquidity:', test_final_liq.all())\n",
    "        assert test_final_liq.all()\n",
    "        print('Testing delta liquidity:', test_delta_liq.all())\n",
    "        assert test_delta_liq.all()\n",
    "    \n",
    "    else:\n",
    "        return(pd.DataFrame(zip(test_marg_rates, test_final_liq, test_delta_liq), columns=['newMarginalRate', 'newLiquididy', 'deltaLiquididty'], index=results.index))\n",
    "\n",
    "\n",
    "def test_all_scenarios(filename, tolerance):\n",
    "\n",
    "    '''\n",
    "    :tolerance: the absolute acceptable tolerance\n",
    "    '''\n",
    "\n",
    "    # load the json\n",
    "    bm_json, is_by_target = load_json(filename)\n",
    "\n",
    "    # loop over each scenario\n",
    "    for scenario_index in range(len(bm_json)):\n",
    "        print('\\n')\n",
    "        # read in strategies and actions\n",
    "        strats, actionList = format_json_as_df(bm_json, scenario_index = scenario_index)\n",
    "\n",
    "        # initialize simulator\n",
    "        FastSim = CarbonSimulatorUI(pair=\"ETH/USDC\", verbose=False, matching_method='fast', raiseonerror=True)\n",
    "\n",
    "        # add strategies to simulator\n",
    "        for i in strats.order[::2]:\n",
    "            FastSim.add_strategy(\n",
    "                tkn='USDC',\n",
    "                amt_sell=strats.liquidity[i],\n",
    "                psell_start=strats.highestRate[i],\n",
    "                psell_end=strats.lowestRate[i],\n",
    "                amt_buy=strats.liquidity[i+1],\n",
    "                pbuy_start=1/strats.highestRate[i+1],\n",
    "                pbuy_end=1/strats.lowestRate[i+1],\n",
    "                psell_marginal=strats.marginalRate[i],\n",
    "                pbuy_marginal=1/strats.marginalRate[i+1],\n",
    "            )\n",
    "        # snapshot the orders on the simulator\n",
    "        initial_orders = FastSim.state()['orders']\n",
    "\n",
    "        # process the trades from the action list\n",
    "        parse_actions(FastSim, actionList, strats, is_by_target)\n",
    "\n",
    "        # snapshot the orders on the simulator post-trade\n",
    "        final_orders = FastSim.state()['orders']\n",
    "        \n",
    "        # generate a comparison report\n",
    "        results = compare_results(strats, initial_orders, final_orders)\n",
    "\n",
    "        # check that the difference between simulator and json in within 1 wei\n",
    "        check_results(results, tolerance = tolerance, short_long = 'short')\n",
    "    \n",
    "    print('All tests complete')"
   ]
  },
  {
   "attachments": {},
   "cell_type": "markdown",
   "id": "33f77f2a",
   "metadata": {},
   "source": [
    "# Simply run the whole check on every scenario\n",
    "Using test_all_scenarios or follow the notebook for step-by-step processing"
   ]
  },
  {
   "cell_type": "code",
   "execution_count": null,
   "id": "0b0125f2",
   "metadata": {},
   "outputs": [],
   "source": [
    "filename='20221219_tradeByTargetAmount.json'\n",
    "test_all_scenarios(filename, tolerance= 0.1)"
   ]
  },
  {
   "attachments": {},
   "cell_type": "markdown",
   "id": "cc4b8832",
   "metadata": {},
   "source": [
    "# Import\n",
    "\n",
    "First we load the json test file and return a df of the strategies and a list of actions\n",
    "\n",
    "** If you want to use a specific scenario you need to specify the scenario_index here **"
   ]
  },
  {
   "cell_type": "code",
   "execution_count": null,
   "id": "37e052f1",
   "metadata": {},
   "outputs": [],
   "source": [
    "# Specify the scenario_index for a different scenario\n",
    "bm_json, is_by_target = load_json(filename)\n",
    "strats, actionList = format_json_as_df(bm_json, scenario_index = 0)\n",
    "strats"
   ]
  },
  {
   "attachments": {},
   "cell_type": "markdown",
   "id": "cd7d6e25",
   "metadata": {},
   "source": [
    "# Initialize the Simulator and create the orders\n",
    "Here the orders are entered into the simulator and the prices for one side of the strategy are flipped to coincide with the price convention"
   ]
  },
  {
   "cell_type": "code",
   "execution_count": null,
   "id": "6f6dab0c",
   "metadata": {},
   "outputs": [],
   "source": [
    "pd.set_option('display.float_format', lambda x: '%.5f' % x)\n",
    "\n",
    "FastSim = CarbonSimulatorUI(pair=\"ETH/USDC\", verbose=False, matching_method='fast', raiseonerror=True)\n",
    "\n",
    "for i in strats.order[::2]:\n",
    "    FastSim.add_strategy(\n",
    "        tkn='USDC',\n",
    "        amt_sell=Decimal(str(strats.liquidity[i])),\n",
    "        psell_start=strats.highestRate[i],\n",
    "        psell_end=strats.lowestRate[i],\n",
    "        amt_buy=strats.liquidity[i+1],\n",
    "        pbuy_start=1/strats.highestRate[i+1],\n",
    "        pbuy_end=1/strats.lowestRate[i+1],\n",
    "        psell_marginal=strats.marginalRate[i],\n",
    "        pbuy_marginal=1/strats.marginalRate[i+1],\n",
    "    )\n",
    "initial_orders = FastSim.state()['orders']\n",
    "initial_orders"
   ]
  },
  {
   "attachments": {},
   "cell_type": "markdown",
   "id": "29e1cd53",
   "metadata": {},
   "source": [
    "# Parse the actions to perform the trades"
   ]
  },
  {
   "cell_type": "code",
   "execution_count": null,
   "id": "4eeea5ae",
   "metadata": {},
   "outputs": [],
   "source": [
    "parse_actions(FastSim, actionList, strats, is_by_target)\n",
    "\n",
    "FastSim.state()['trades']"
   ]
  },
  {
   "cell_type": "markdown",
   "id": "9d8b56b3",
   "metadata": {},
   "source": [
    "# Display the status of the orders post-trade"
   ]
  },
  {
   "cell_type": "code",
   "execution_count": null,
   "id": "8be36db2",
   "metadata": {},
   "outputs": [],
   "source": [
    "pd.set_option('display.float_format', lambda x: '%.5f' % x)\n",
    "\n",
    "final_orders = FastSim.state()['orders']\n",
    "final_orders"
   ]
  },
  {
   "attachments": {},
   "cell_type": "markdown",
   "id": "42f21d63",
   "metadata": {},
   "source": [
    "# Compare the results\n",
    "\n",
    "We can generate the comparison df using compare_results then run a check over this to see if it meets a defined tolerance"
   ]
  },
  {
   "cell_type": "code",
   "execution_count": null,
   "id": "dbbfc9d5",
   "metadata": {},
   "outputs": [],
   "source": [
    "pd.set_option('display.float_format', lambda x: '%.5f' % x)\n",
    "\n",
    "results = compare_results(strats, initial_orders, final_orders)\n",
    "results"
   ]
  },
  {
   "cell_type": "code",
   "execution_count": null,
   "id": "190f0de2",
   "metadata": {},
   "outputs": [],
   "source": [
    "check_results(results, tolerance = 1e-1, short_long = 'short')"
   ]
  },
  {
   "cell_type": "code",
   "execution_count": null,
   "id": "2f754666",
   "metadata": {},
   "outputs": [],
   "source": [
    "check_results(results, tolerance = 1e-1, short_long = 'long')"
   ]
  },
  {
   "attachments": {},
   "cell_type": "markdown",
   "id": "3b8ada85",
   "metadata": {},
   "source": [
    "# Export (WIP still a few bugs)"
   ]
  },
  {
   "cell_type": "code",
   "execution_count": null,
   "id": "e6ac72ea",
   "metadata": {},
   "outputs": [],
   "source": [
    "def generate_json_actions(trade_a):\n",
    "\n",
    "    json_actions = {}\n",
    "    sub_actions_list = []\n",
    "\n",
    "    if trade_a['success'] & trade_a['trades'].exec.all():\n",
    "        subdf = trade_a['trades'].query('subid!=\"A\"').copy()\n",
    "        subdf.reset_index(inplace=True, drop=True)\n",
    "        trade_is_by_target = trade_a['is_by_target']\n",
    "        tkn = trade_a['tkn']\n",
    "        if trade_is_by_target & (FastSim.carbon_pair.basetoken==tkn):\n",
    "            orderIndex = 0\n",
    "        elif trade_is_by_target & (FastSim.carbon_pair.basetoken!=tkn):\n",
    "            orderIndex = 1\n",
    "        elif (not trade_is_by_target) & (FastSim.carbon_pair.basetoken==tkn):\n",
    "            orderIndex = 0\n",
    "        elif (not trade_is_by_target) & (FastSim.carbon_pair.basetoken!=tkn):\n",
    "            orderIndex = 1\n",
    "        else:\n",
    "            print('Failed')\n",
    "        print(f'trade_is_by_target: {trade_is_by_target}')\n",
    "\n",
    "        for i in subdf.index:\n",
    "            sub_actions = {}\n",
    "            sub_actions['strategyId'] = subdf.routeix[i]//2\n",
    "            sub_actions['orderIndex'] = orderIndex\n",
    "            if trade_is_by_target:\n",
    "                sub_actions['tokenAmount'] = subdf.amt1[i]\n",
    "            else:\n",
    "                sub_actions['tokenAmount'] = subdf.amt2[i]\n",
    "            sub_actions_list += [sub_actions]\n",
    "            \n",
    "            \n",
    "    json_actions['actions'] = sub_actions_list\n",
    "    return(json_actions, trade_is_by_target)\n",
    "\n",
    "def generate_json_strategies(initial_orders, final_orders):\n",
    "    json_strats = {}\n",
    "    sub_dict_list = []\n",
    "    for i in initial_orders.index[::2]:\n",
    "        sub_dict0 = {}\n",
    "        sub_dict0['liquidity'] = str(initial_orders.y[i+1])\n",
    "        sub_dict0['lowestRate'] = str(initial_orders.p_end[i+1] - 0.000000001)\n",
    "        sub_dict0['highestRate'] = str(initial_orders.p_start[i+1] + 0.000000001)\n",
    "        sub_dict0['marginalRate'] = str(initial_orders.p_marg[i+1])\n",
    "        sub_dict0['newLiquidity'] = str(final_orders.y[i+1])\n",
    "        sub_dict0['newMarginalRate'] = str(final_orders.p_marg[i+1])\n",
    "        \n",
    "        sub_dict1 = {}\n",
    "        sub_dict1['liquidity'] = str(initial_orders.y[i])\n",
    "        sub_dict1['lowestRate'] = str(1/(initial_orders.p_end[i] + 0.000000001))\n",
    "        sub_dict1['highestRate'] = str(1/(initial_orders.p_start[i] - 0.000000001))\n",
    "        sub_dict1['marginalRate'] = str(1/initial_orders.p_marg[i])\n",
    "        sub_dict1['newLiquidity'] = str(final_orders.y[i])\n",
    "        sub_dict1['newMarginalRate'] = str(1/final_orders.p_marg[i])\n",
    "        sub_dict_list += [[sub_dict0,sub_dict1]]\n",
    "    json_strats['strategies'] = sub_dict_list\n",
    "    return(json_strats)\n",
    "\n",
    "\n",
    "def format_simulator_json(json_strats, json_actions):\n",
    "    json_simulator = []\n",
    "    simulator_setup = {**json_strats, **json_actions}\n",
    "    json_simulator += [simulator_setup]\n",
    "    return(json_simulator)"
   ]
  },
  {
   "attachments": {},
   "cell_type": "markdown",
   "id": "6240e28e",
   "metadata": {},
   "source": [
    "# Initialize a simulator and add some strategies"
   ]
  },
  {
   "cell_type": "code",
   "execution_count": null,
   "id": "2c3b5774",
   "metadata": {},
   "outputs": [],
   "source": [
    "# New Sim\n",
    "FastSim = CarbonSimulatorUI(pair=\"ETH/USDC\", verbose=False, matching_method='fast', raiseonerror=True)"
   ]
  },
  {
   "cell_type": "code",
   "execution_count": null,
   "id": "34864848",
   "metadata": {},
   "outputs": [],
   "source": [
    "# Add strategies\n",
    "FastSim.add_strategy(\"ETH\", 10, 2000, 2500, 10000, 1020, 1020)\n",
    "FastSim.add_strategy(\"ETH\", 10, 2010, 2810, 10000, 1210, 1210)\n",
    "FastSim.add_strategy(\"ETH\", 10, 2020, 2220, 10000, 1050, 1050)\n",
    "FastSim.add_strategy(\"ETH\", 10, 2030, 2060, 10000, 1055, 1055)\n",
    "FastSim.add_strategy(\"ETH\", 10, 2040, 2080, 10000, 1240, 1040)\n",
    "\n",
    "# Snapshot the simulator orders\n",
    "initial_orders = FastSim.state()['orders']"
   ]
  },
  {
   "attachments": {},
   "cell_type": "markdown",
   "id": "2d85ada5",
   "metadata": {},
   "source": [
    "# Do a trade and process it into an actionList"
   ]
  },
  {
   "cell_type": "code",
   "execution_count": null,
   "id": "586c793e",
   "metadata": {},
   "outputs": [],
   "source": [
    "# Do a trade\n",
    "# trade_a = FastSim.amm_sells('ETH', 30, execute=True) # route_trade_by_target\n",
    "# trade_a = FastSim.amm_buys('ETH', 10, execute=True) # route_trade_by_source\n",
    "# trade_a = FastSim.amm_sells('USDC', 31000, execute=True) # route_trade_by_target\n",
    "trade_a = FastSim.amm_buys('USDC', 42000, execute=True) # route_trade_by_source\n",
    "\n",
    "# Generate the actions component of the json\n",
    "json_actions, trade_is_by_target  = generate_json_actions(trade_a)"
   ]
  },
  {
   "cell_type": "code",
   "execution_count": null,
   "id": "4f693054",
   "metadata": {},
   "outputs": [],
   "source": [
    "trade_a['trades']"
   ]
  },
  {
   "cell_type": "code",
   "execution_count": null,
   "id": "b4a9a7bc",
   "metadata": {},
   "outputs": [],
   "source": [
    "json_actions"
   ]
  },
  {
   "cell_type": "code",
   "execution_count": null,
   "id": "d2d45278",
   "metadata": {},
   "outputs": [],
   "source": [
    "# Snapshot the orders\n",
    "final_orders = FastSim.state()['orders']"
   ]
  },
  {
   "attachments": {},
   "cell_type": "markdown",
   "id": "faec98a2",
   "metadata": {},
   "source": [
    "# Generate the strategies component of the json"
   ]
  },
  {
   "cell_type": "code",
   "execution_count": null,
   "id": "92fe5c97",
   "metadata": {},
   "outputs": [],
   "source": [
    "# Generate the strategies component of the json\n",
    "json_strats = generate_json_strategies(initial_orders, final_orders)"
   ]
  },
  {
   "cell_type": "markdown",
   "id": "34b1d19f",
   "metadata": {},
   "source": [
    "# Combine and format the jsons"
   ]
  },
  {
   "cell_type": "code",
   "execution_count": null,
   "id": "b0e2d7a5",
   "metadata": {},
   "outputs": [],
   "source": [
    "json_simulator = format_simulator_json(json_strats, json_actions)\n",
    "json_simulator"
   ]
  },
  {
   "cell_type": "markdown",
   "id": "e4e19800",
   "metadata": {},
   "source": [
    "# Optionally Save"
   ]
  },
  {
   "cell_type": "code",
   "execution_count": null,
   "id": "dca09a55",
   "metadata": {},
   "outputs": [],
   "source": [
    "# from datetime import datetime\n",
    "# str_date = datetime.today().strftime(\"%Y%m%d\")\n",
    "# unique_id = datetime.now().strftime(\"%f\")\n",
    "\n",
    "# if trade_is_by_target:\n",
    "#     str_type = \"tradeByTarget\"\n",
    "# else:\n",
    "#     str_type = \"tradeBySource\"\n",
    "    \n",
    "# export_filename = f\"{str_date}_{str_type}_test_{unique_id}.json\"\n",
    "\n",
    "# out_file = open(export_filename, \"w\")\n",
    "# json.dump(json_simulator, out_file, indent=4)\n",
    "# out_file.close()\n",
    "\n",
    "# print(f'Saved as {export_filename}')"
   ]
  }
 ],
 "metadata": {
  "kernelspec": {
   "display_name": "Python 3",
   "language": "python",
   "name": "python3"
  },
  "language_info": {
   "codemirror_mode": {
    "name": "ipython",
    "version": 3
   },
   "file_extension": ".py",
   "mimetype": "text/x-python",
   "name": "python",
   "nbconvert_exporter": "python",
   "pygments_lexer": "ipython3",
   "version": "3.10.8"
  },
  "vscode": {
   "interpreter": {
    "hash": "43f221103f953d3e0d93840edd77be981e5a5e0e42edc048e3de5278c46a3390"
   }
  }
 },
 "nbformat": 4,
 "nbformat_minor": 5
}
