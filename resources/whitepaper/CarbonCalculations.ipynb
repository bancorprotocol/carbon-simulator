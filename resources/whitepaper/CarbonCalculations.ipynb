{
 "cells": [
  {
   "cell_type": "code",
   "execution_count": 1,
   "id": "9194ec0a",
   "metadata": {},
   "outputs": [],
   "source": [
    "from sympy import *\n",
    "__VERSION__ = \"3.1+margp2+TODO\"\n",
    "__DATE__ = \"12/Dec/2022\""
   ]
  },
  {
   "cell_type": "markdown",
   "id": "8961ed3b",
   "metadata": {},
   "source": [
    "# Carbon Calculations\n",
    "\n",
    "Various calculations related to the Carbon whitepaper."
   ]
  },
  {
   "cell_type": "code",
   "execution_count": 137,
   "id": "7a5829b9",
   "metadata": {},
   "outputs": [],
   "source": [
    "def isolate(eqn, var,ix=0):\n",
    "    \"isolates the variable var in the equation eqn and returns result as equation\"\n",
    "    return Eq(var, solve(eqn, var)[ix])\n",
    "def subs(srceq, subeq):\n",
    "    \"substitutes srceq with the relation in subeq (subeq eg `y=x**2`)\"\n",
    "    return srceq.subs(subeq.lhs, subeq.rhs).simplify()"
   ]
  },
  {
   "cell_type": "markdown",
   "id": "a68496a9",
   "metadata": {},
   "source": [
    "## Core Formulas"
   ]
  },
  {
   "cell_type": "code",
   "execution_count": 3,
   "id": "550b1cdb",
   "metadata": {},
   "outputs": [],
   "source": [
    "x,x0,xint,dx,Dx = symbols(\"x x_0 x_{int} dx \\Delta{x}\")\n",
    "y,y0,yint,dy,Dy = symbols(\"y y_0 y_{int} dy \\Delta{y}\")\n",
    "P,Pmarg,Px,Py,Q,Gam,w,B,S = symbols(\"P_0 P_{marg} P_x P_y Q \\Gamma w B S\")\n",
    "Pa = Py\n",
    "Pb = Px\n",
    "xasym, yasym, kappa, k = symbols(\"x_{asym} y_{asym} \\kappa k\")\n",
    "P0=P"
   ]
  },
  {
   "cell_type": "markdown",
   "id": "3cfc53c9",
   "metadata": {},
   "source": [
    "This is the **Pool Invariant Equation** in its canonic **risk asset** form using $P, x_0, \\Gamma$"
   ]
  },
  {
   "cell_type": "code",
   "execution_count": 4,
   "id": "7a02110d",
   "metadata": {},
   "outputs": [
    {
     "data": {
      "text/latex": [
       "$\\displaystyle y = \\frac{P_{0} x_{0} \\left(x \\left(\\Gamma - 1\\right) - x_{0} \\left(\\Gamma - 2\\right)\\right)}{\\Gamma x - x_{0} \\left(\\Gamma - 1\\right)}$"
      ],
      "text/plain": [
       "Eq(y, P_0*x_0*(x*(\\Gamma - 1) - x_0*(\\Gamma - 2))/(\\Gamma*x - x_0*(\\Gamma - 1)))"
      ]
     },
     "execution_count": 4,
     "metadata": {},
     "output_type": "execute_result"
    }
   ],
   "source": [
    "PIE = Eq(\n",
    "    y,\n",
    "    x0*P*(x*(Gam - 1) - x0*(Gam - 2))/(Gam*x - x0*(Gam - 1))\n",
    ")\n",
    "PIE"
   ]
  },
  {
   "cell_type": "code",
   "execution_count": 5,
   "id": "6df88a31",
   "metadata": {},
   "outputs": [
    {
     "data": {
      "text/latex": [
       "$\\displaystyle y = \\frac{y_{0} \\left(P_{0} x \\left(\\Gamma - 1\\right) - y_{0} \\left(\\Gamma - 2\\right)\\right)}{P_{0} \\Gamma x - y_{0} \\left(\\Gamma - 1\\right)}$"
      ],
      "text/plain": [
       "Eq(y, y_0*(P_0*x*(\\Gamma - 1) - y_0*(\\Gamma - 2))/(P_0*\\Gamma*x - y_0*(\\Gamma - 1)))"
      ]
     },
     "execution_count": 5,
     "metadata": {},
     "output_type": "execute_result"
    }
   ],
   "source": [
    "PINE = PIE.subs(x0, y0/P).simplify()\n",
    "PINE"
   ]
  },
  {
   "cell_type": "markdown",
   "id": "8ff0bec5",
   "metadata": {},
   "source": [
    "This is the **Q-form** of the **Pool Invariant Equation**"
   ]
  },
  {
   "cell_type": "code",
   "execution_count": 6,
   "id": "98c6ecd3",
   "metadata": {},
   "outputs": [
    {
     "data": {
      "text/latex": [
       "$\\displaystyle Q = \\frac{x y}{\\left(x - x_{int}\\right) \\left(y - y_{int}\\right)}$"
      ],
      "text/plain": [
       "Eq(Q, x*y/((x - x_{int})*(y - y_{int})))"
      ]
     },
     "execution_count": 6,
     "metadata": {},
     "output_type": "execute_result"
    }
   ],
   "source": [
    "PIQE = Eq(\n",
    "    Q,\n",
    "    x*y / ( (x-xint)*(y-yint) )\n",
    ")\n",
    "PIQE"
   ]
  },
  {
   "cell_type": "code",
   "execution_count": 7,
   "id": "17abab26",
   "metadata": {},
   "outputs": [
    {
     "data": {
      "text/latex": [
       "$\\displaystyle Q \\left(x - x_{int}\\right) \\left(y - y_{int}\\right) = x y$"
      ],
      "text/plain": [
       "Eq(Q*(x - x_{int})*(y - y_{int}), x*y)"
      ]
     },
     "execution_count": 7,
     "metadata": {},
     "output_type": "execute_result"
    }
   ],
   "source": [
    "_m = (x-xint)*(y-yint)\n",
    "PIQ2E = Eq(PIQE.lhs*_m, PIQE.rhs*_m)\n",
    "PIQ2E"
   ]
  },
  {
   "cell_type": "markdown",
   "id": "4598580d",
   "metadata": {},
   "source": [
    "This is the **Definition Equations** for $Q$ in terms of $\\Gamma$ and its inverse"
   ]
  },
  {
   "cell_type": "code",
   "execution_count": 120,
   "id": "57be03a1",
   "metadata": {},
   "outputs": [
    {
     "data": {
      "text/latex": [
       "$\\displaystyle Q = \\left(1 - \\Gamma\\right)^{2}$"
      ],
      "text/plain": [
       "Eq(Q, (1 - \\Gamma)**2)"
      ]
     },
     "execution_count": 120,
     "metadata": {},
     "output_type": "execute_result"
    }
   ],
   "source": [
    "QGDE = Eq(Q,(1-Gam)**2)\n",
    "QDE = QGDE\n",
    "QGDE"
   ]
  },
  {
   "cell_type": "code",
   "execution_count": 9,
   "id": "77a70b47",
   "metadata": {},
   "outputs": [
    {
     "data": {
      "text/latex": [
       "$\\displaystyle \\Gamma = 1 - \\sqrt{Q}$"
      ],
      "text/plain": [
       "Eq(\\Gamma, 1 - sqrt(Q))"
      ]
     },
     "execution_count": 9,
     "metadata": {},
     "output_type": "execute_result"
    }
   ],
   "source": [
    "GQE = isolate(QGDE, Gam)\n",
    "GQE"
   ]
  },
  {
   "cell_type": "markdown",
   "id": "2780310c",
   "metadata": {},
   "source": [
    "Those are useful identities between a certain expression of $\\Gamma$ and certain expressions of $Q$ and vice versa"
   ]
  },
  {
   "cell_type": "code",
   "execution_count": 10,
   "id": "6cc39dc0",
   "metadata": {},
   "outputs": [
    {
     "data": {
      "text/latex": [
       "$\\displaystyle \\frac{2 - \\Gamma}{1 - \\Gamma} = 1 + \\frac{1}{\\sqrt{Q}}$"
      ],
      "text/plain": [
       "Eq((2 - \\Gamma)/(1 - \\Gamma), 1 + 1/sqrt(Q))"
      ]
     },
     "execution_count": 10,
     "metadata": {},
     "output_type": "execute_result"
    }
   ],
   "source": [
    "GFQE = Eq((2-Gam)/(1-Gam),(1+1/sqrt(Q)))\n",
    "GFQE"
   ]
  },
  {
   "cell_type": "code",
   "execution_count": 11,
   "id": "eb30f5bc",
   "metadata": {},
   "outputs": [
    {
     "data": {
      "text/latex": [
       "$\\displaystyle 0$"
      ],
      "text/plain": [
       "0"
      ]
     },
     "execution_count": 11,
     "metadata": {},
     "output_type": "execute_result"
    }
   ],
   "source": [
    "(GFQE.lhs-GFQE.rhs).subs(Gam, GQE.rhs).simplify()"
   ]
  },
  {
   "cell_type": "markdown",
   "id": "4ea0d802",
   "metadata": {},
   "source": [
    "For the below, note that $Q=\\sqrt[4]{w}$, ie the fourth root of the width of the range"
   ]
  },
  {
   "cell_type": "code",
   "execution_count": 12,
   "id": "19c31958",
   "metadata": {},
   "outputs": [
    {
     "data": {
      "text/latex": [
       "$\\displaystyle \\frac{\\Gamma - 1}{\\Gamma} = \\frac{\\sqrt{Q}}{\\sqrt{Q} - 1}$"
      ],
      "text/plain": [
       "Eq((\\Gamma - 1)/\\Gamma, sqrt(Q)/(sqrt(Q) - 1))"
      ]
     },
     "execution_count": 12,
     "metadata": {},
     "output_type": "execute_result"
    }
   ],
   "source": [
    "GFQ2E = Eq((Gam-1)/Gam, ((Gam-1)/Gam).subs(Gam, GQE.rhs).simplify())\n",
    "GFQ2E"
   ]
  },
  {
   "cell_type": "markdown",
   "id": "191fa2b2",
   "metadata": {},
   "source": [
    "## Other Parametrizations"
   ]
  },
  {
   "cell_type": "markdown",
   "id": "6b192941",
   "metadata": {},
   "source": [
    "Those are the **Definition Equations** for $x_{int}, y_{int}, P_x, P_y$"
   ]
  },
  {
   "cell_type": "code",
   "execution_count": 13,
   "id": "6f3d92f6",
   "metadata": {},
   "outputs": [
    {
     "data": {
      "text/latex": [
       "$\\displaystyle x_{int} = \\frac{x_{0} \\left(2 - \\Gamma\\right)}{1 - \\Gamma}$"
      ],
      "text/plain": [
       "Eq(x_{int}, x_0*(2 - \\Gamma)/(1 - \\Gamma))"
      ]
     },
     "execution_count": 13,
     "metadata": {},
     "output_type": "execute_result"
    }
   ],
   "source": [
    "XiDE = Eq(xint, x0*(2-Gam)/(1-Gam))\n",
    "XiDE"
   ]
  },
  {
   "cell_type": "code",
   "execution_count": 14,
   "id": "b77494f1",
   "metadata": {},
   "outputs": [
    {
     "data": {
      "text/latex": [
       "$\\displaystyle x_{int} = x_{0} \\left(1 + \\frac{1}{\\sqrt{Q}}\\right)$"
      ],
      "text/plain": [
       "Eq(x_{int}, x_0*(1 + 1/sqrt(Q)))"
      ]
     },
     "execution_count": 14,
     "metadata": {},
     "output_type": "execute_result"
    }
   ],
   "source": [
    "XiQE = XiDE.subs(GFQE.lhs, GFQE.rhs)\n",
    "XiQE"
   ]
  },
  {
   "cell_type": "code",
   "execution_count": 15,
   "id": "d8a92f9c",
   "metadata": {},
   "outputs": [
    {
     "data": {
      "text/latex": [
       "$\\displaystyle y_{int} = \\frac{y_{0} \\left(2 - \\Gamma\\right)}{1 - \\Gamma}$"
      ],
      "text/plain": [
       "Eq(y_{int}, y_0*(2 - \\Gamma)/(1 - \\Gamma))"
      ]
     },
     "execution_count": 15,
     "metadata": {},
     "output_type": "execute_result"
    }
   ],
   "source": [
    "YiDE = Eq(yint, y0*(2-Gam)/(1-Gam))\n",
    "YiDE"
   ]
  },
  {
   "cell_type": "code",
   "execution_count": 16,
   "id": "ec069386",
   "metadata": {},
   "outputs": [
    {
     "data": {
      "text/latex": [
       "$\\displaystyle y_{int} = y_{0} \\left(1 + \\frac{1}{\\sqrt{Q}}\\right)$"
      ],
      "text/plain": [
       "Eq(y_{int}, y_0*(1 + 1/sqrt(Q)))"
      ]
     },
     "execution_count": 16,
     "metadata": {},
     "output_type": "execute_result"
    }
   ],
   "source": [
    "YiQE = YiDE.subs(GFQE.lhs, GFQE.rhs)\n",
    "YiQE"
   ]
  },
  {
   "cell_type": "code",
   "execution_count": 17,
   "id": "d7e5987b",
   "metadata": {},
   "outputs": [
    {
     "data": {
      "text/latex": [
       "$\\displaystyle P_{x} = P_{0} Q$"
      ],
      "text/plain": [
       "Eq(P_x, P_0*Q)"
      ]
     },
     "execution_count": 17,
     "metadata": {},
     "output_type": "execute_result"
    }
   ],
   "source": [
    "PxDE = Eq(Px, P*Q)\n",
    "PxDE"
   ]
  },
  {
   "cell_type": "code",
   "execution_count": 18,
   "id": "ae4aab5d",
   "metadata": {},
   "outputs": [
    {
     "data": {
      "text/latex": [
       "$\\displaystyle P_{y} = \\frac{P_{0}}{Q}$"
      ],
      "text/plain": [
       "Eq(P_y, P_0/Q)"
      ]
     },
     "execution_count": 18,
     "metadata": {},
     "output_type": "execute_result"
    }
   ],
   "source": [
    "PyDE = Eq(Py, P/Q)\n",
    "PyDE"
   ]
  },
  {
   "cell_type": "markdown",
   "id": "4aa480e9",
   "metadata": {},
   "source": [
    "Here are a few other important relationships. Firstly, $P_0$ is the ratio the reference coordinates"
   ]
  },
  {
   "cell_type": "code",
   "execution_count": 121,
   "id": "d056b308",
   "metadata": {},
   "outputs": [
    {
     "data": {
      "text/latex": [
       "$\\displaystyle P_{0} = \\frac{y_{0}}{x_{0}}$"
      ],
      "text/plain": [
       "Eq(P_0, y_0/x_0)"
      ]
     },
     "execution_count": 121,
     "metadata": {},
     "output_type": "execute_result"
    }
   ],
   "source": [
    "PXYE = Eq(P, y0/x0)\n",
    "P0DE = PXYE\n",
    "PXYE"
   ]
  },
  {
   "cell_type": "markdown",
   "id": "85c2afdb",
   "metadata": {},
   "source": [
    "and more importantly also of the intercepts"
   ]
  },
  {
   "cell_type": "code",
   "execution_count": 20,
   "id": "fa0ed321",
   "metadata": {},
   "outputs": [
    {
     "data": {
      "text/latex": [
       "$\\displaystyle P_{0} = \\frac{y_{int}}{x_{int}}$"
      ],
      "text/plain": [
       "Eq(P_0, y_{int}/x_{int})"
      ]
     },
     "execution_count": 20,
     "metadata": {},
     "output_type": "execute_result"
    }
   ],
   "source": [
    "PXYiE = Eq(P, yint/xint)\n",
    "PXYiE"
   ]
  },
  {
   "cell_type": "markdown",
   "id": "93a122bd",
   "metadata": {},
   "source": [
    "$Q$ is related to the ratio of the intercept prices (smaller value in numerator)"
   ]
  },
  {
   "cell_type": "code",
   "execution_count": 21,
   "id": "41ac249d",
   "metadata": {},
   "outputs": [
    {
     "data": {
      "text/latex": [
       "$\\displaystyle Q = \\sqrt{\\frac{P_{x}}{P_{y}}}$"
      ],
      "text/plain": [
       "Eq(Q, sqrt(P_x/P_y))"
      ]
     },
     "execution_count": 21,
     "metadata": {},
     "output_type": "execute_result"
    }
   ],
   "source": [
    "QPE = Eq(Q, sqrt(Px/Py))\n",
    "QPE"
   ]
  },
  {
   "cell_type": "markdown",
   "id": "089ac963",
   "metadata": {},
   "source": [
    "In fact, if we define $w>1$ as the (percentage) **range width** (bigger value in numerator)"
   ]
  },
  {
   "cell_type": "code",
   "execution_count": 22,
   "id": "4ec76d84",
   "metadata": {},
   "outputs": [
    {
     "data": {
      "text/latex": [
       "$\\displaystyle w = \\frac{P_{y}}{P_{x}}$"
      ],
      "text/plain": [
       "Eq(w, P_y/P_x)"
      ]
     },
     "execution_count": 22,
     "metadata": {},
     "output_type": "execute_result"
    }
   ],
   "source": [
    "WDE = Eq(w, 1/QPE.rhs**2)\n",
    "WDE"
   ]
  },
  {
   "cell_type": "markdown",
   "id": "051ca2d0",
   "metadata": {},
   "source": [
    "then that width is simply the inverse Q squared"
   ]
  },
  {
   "cell_type": "code",
   "execution_count": 23,
   "id": "e08a8a64",
   "metadata": {},
   "outputs": [
    {
     "data": {
      "text/latex": [
       "$\\displaystyle w = \\frac{1}{Q^{2}}$"
      ],
      "text/plain": [
       "Eq(w, Q**(-2))"
      ]
     },
     "execution_count": 23,
     "metadata": {},
     "output_type": "execute_result"
    }
   ],
   "source": [
    "WE = Eq(w, 1/QPE.lhs**2)\n",
    "WE"
   ]
  },
  {
   "cell_type": "code",
   "execution_count": 24,
   "id": "855a5498",
   "metadata": {},
   "outputs": [
    {
     "data": {
      "text/latex": [
       "$\\displaystyle 0$"
      ],
      "text/plain": [
       "0"
      ]
     },
     "execution_count": 24,
     "metadata": {},
     "output_type": "execute_result"
    }
   ],
   "source": [
    "WE.lhs.subs(w, WDE.rhs)-WE.rhs.subs(Q, QPE.rhs)"
   ]
  },
  {
   "cell_type": "markdown",
   "id": "1007d59f",
   "metadata": {},
   "source": [
    "Also the reference price is the geometric average of the intercept prices"
   ]
  },
  {
   "cell_type": "code",
   "execution_count": 25,
   "id": "00f58349",
   "metadata": {},
   "outputs": [
    {
     "data": {
      "text/latex": [
       "$\\displaystyle P_{0} = \\sqrt{P_{x} P_{y}}$"
      ],
      "text/plain": [
       "Eq(P_0, sqrt(P_x*P_y))"
      ]
     },
     "execution_count": 25,
     "metadata": {},
     "output_type": "execute_result"
    }
   ],
   "source": [
    "PPE = Eq(P,sqrt(Px*Py))\n",
    "PPE"
   ]
  },
  {
   "cell_type": "markdown",
   "id": "2b2a8e49",
   "metadata": {},
   "source": [
    "Below formulas are important for actually setting ranges for unidirectional trading where the parameters we have are the amount of risk asset $x_{int}$ as well as the two ends of the range $P_x, P_y$. Our goal is to solve for the parameterset $Q, x_{int}, y_{int}$ that allows us to use the invariant equation `PIQE`. $x_{int}$ is already known, and $Q$ we can get from `QPE`, so what is left is to calculate $y_{int}$.\n",
    "\n",
    "We first recall a number of definitions"
   ]
  },
  {
   "cell_type": "code",
   "execution_count": 26,
   "id": "06698d67",
   "metadata": {},
   "outputs": [
    {
     "data": {
      "text/latex": [
       "$\\displaystyle Q = \\sqrt{\\frac{P_{x}}{P_{y}}}$"
      ],
      "text/plain": [
       "Eq(Q, sqrt(P_x/P_y))"
      ]
     },
     "execution_count": 26,
     "metadata": {},
     "output_type": "execute_result"
    }
   ],
   "source": [
    "QPE"
   ]
  },
  {
   "cell_type": "code",
   "execution_count": 27,
   "id": "f8082d39",
   "metadata": {},
   "outputs": [
    {
     "data": {
      "text/latex": [
       "$\\displaystyle P_{0} = \\sqrt{P_{x} P_{y}}$"
      ],
      "text/plain": [
       "Eq(P_0, sqrt(P_x*P_y))"
      ]
     },
     "execution_count": 27,
     "metadata": {},
     "output_type": "execute_result"
    }
   ],
   "source": [
    "PPE"
   ]
  },
  {
   "cell_type": "code",
   "execution_count": 28,
   "id": "058b2795",
   "metadata": {},
   "outputs": [
    {
     "data": {
      "text/latex": [
       "$\\displaystyle P_{0} = \\frac{y_{int}}{x_{int}}$"
      ],
      "text/plain": [
       "Eq(P_0, y_{int}/x_{int})"
      ]
     },
     "execution_count": 28,
     "metadata": {},
     "output_type": "execute_result"
    }
   ],
   "source": [
    "PXYiE"
   ]
  },
  {
   "cell_type": "markdown",
   "id": "45ab4de3",
   "metadata": {},
   "source": [
    "and now make a number of new ones"
   ]
  },
  {
   "cell_type": "code",
   "execution_count": 29,
   "id": "51e1d0a2",
   "metadata": {},
   "outputs": [
    {
     "data": {
      "text/latex": [
       "$\\displaystyle y_{int} = x_{int} \\sqrt{P_{x} P_{y}}$"
      ],
      "text/plain": [
       "Eq(y_{int}, x_{int}*sqrt(P_x*P_y))"
      ]
     },
     "execution_count": 29,
     "metadata": {},
     "output_type": "execute_result"
    }
   ],
   "source": [
    "YiPE = Eq(yint, solve(PXYiE, yint)[0].subs(P, PPE.rhs))\n",
    "YiPE"
   ]
  },
  {
   "cell_type": "code",
   "execution_count": 30,
   "id": "31303c00",
   "metadata": {},
   "outputs": [
    {
     "data": {
      "text/latex": [
       "$\\displaystyle x_{int} = \\frac{y_{int}}{\\sqrt{P_{x} P_{y}}}$"
      ],
      "text/plain": [
       "Eq(x_{int}, y_{int}/sqrt(P_x*P_y))"
      ]
     },
     "execution_count": 30,
     "metadata": {},
     "output_type": "execute_result"
    }
   ],
   "source": [
    "XiPE = Eq(xint, solve(YiPE, xint)[0])\n",
    "XiPE"
   ]
  },
  {
   "cell_type": "markdown",
   "id": "35d3f858",
   "metadata": {},
   "source": [
    "This is the **Swap Equation** derived from it, describing an actual transaction"
   ]
  },
  {
   "cell_type": "code",
   "execution_count": 31,
   "id": "57b23317",
   "metadata": {},
   "outputs": [
    {
     "data": {
      "text/latex": [
       "$\\displaystyle - \\Delta{y} = \\frac{P_{0} \\Delta{x} x_{0}^{2}}{\\left(\\Gamma \\left(x - x_{0}\\right) + x_{0}\\right) \\left(\\Gamma \\left(\\Delta{x} + x - x_{0}\\right) + x_{0}\\right)}$"
      ],
      "text/plain": [
       "Eq(-\\Delta{y}, P_0*\\Delta{x}*x_0**2/((\\Gamma*(x - x_0) + x_0)*(\\Gamma*(\\Delta{x} + x - x_0) + x_0)))"
      ]
     },
     "execution_count": 31,
     "metadata": {},
     "output_type": "execute_result"
    }
   ],
   "source": [
    "SE = Eq(\n",
    "    - Dy,\n",
    "    P*x0**2*Dx/((Gam*(x - x0) + x0)*(Gam*(x - x0 + Dx) + x0))\n",
    ")\n",
    "SE"
   ]
  },
  {
   "cell_type": "markdown",
   "id": "bc2b1ac0",
   "metadata": {},
   "source": [
    "This is the **Marginal Swap Equation** describing an infinitesimal transaction, rearranged with $dx$ on the LHS "
   ]
  },
  {
   "cell_type": "code",
   "execution_count": 32,
   "id": "1775a887",
   "metadata": {},
   "outputs": [
    {
     "data": {
      "text/latex": [
       "$\\displaystyle - \\frac{dy}{dx} = \\frac{P_{0} x_{0}^{2}}{\\left(\\Gamma \\left(x - x_{0}\\right) + x_{0}\\right)^{2}}$"
      ],
      "text/plain": [
       "Eq(-dy/dx, P_0*x_0**2/(\\Gamma*(x - x_0) + x_0)**2)"
      ]
     },
     "execution_count": 32,
     "metadata": {},
     "output_type": "execute_result"
    }
   ],
   "source": [
    "MSE = Eq(\n",
    "    -dy/dx,\n",
    "    P*x0**2/(Gam*(x - x0) + x0)**2\n",
    ")\n",
    "MSE"
   ]
  },
  {
   "cell_type": "markdown",
   "id": "e4aabc51",
   "metadata": {},
   "source": [
    "This is the **Marginal Price Equation** which is the same as the Marginal Swap Equation, just recognising that $-\\frac{dy}{dx}=P_{marg}%$"
   ]
  },
  {
   "cell_type": "code",
   "execution_count": 33,
   "id": "dc28aa46",
   "metadata": {},
   "outputs": [
    {
     "data": {
      "text/latex": [
       "$\\displaystyle P_{marg} = \\frac{P_{0} x_{0}^{2}}{\\left(\\Gamma \\left(x - x_{0}\\right) + x_{0}\\right)^{2}}$"
      ],
      "text/plain": [
       "Eq(P_{marg}, P_0*x_0**2/(\\Gamma*(x - x_0) + x_0)**2)"
      ]
     },
     "execution_count": 33,
     "metadata": {},
     "output_type": "execute_result"
    }
   ],
   "source": [
    "MPE = Eq(Pmarg, MSE.rhs)\n",
    "MPE"
   ]
  },
  {
   "cell_type": "markdown",
   "id": "ef11a049",
   "metadata": {},
   "source": [
    "This is the **Reverse Marginal Price Equation** with $y,y_0$ instead of $x,x_0$, but with the price parameters unchanged"
   ]
  },
  {
   "cell_type": "code",
   "execution_count": 34,
   "id": "302b3769",
   "metadata": {},
   "outputs": [
    {
     "data": {
      "text/latex": [
       "$\\displaystyle \\frac{1}{P_{marg}} = \\frac{y_{0}^{2}}{P_{0} \\left(\\Gamma \\left(y - y_{0}\\right) + y_{0}\\right)^{2}}$"
      ],
      "text/plain": [
       "Eq(1/P_{marg}, y_0**2/(P_0*(\\Gamma*(y - y_0) + y_0)**2))"
      ]
     },
     "execution_count": 34,
     "metadata": {},
     "output_type": "execute_result"
    }
   ],
   "source": [
    "MPERev0 = MPE.subs(Pmarg, 1/Pmarg).subs(P,1/P).subs(x0,y0).subs(x,y)\n",
    "MPERev0"
   ]
  },
  {
   "cell_type": "markdown",
   "id": "88cd25d9",
   "metadata": {},
   "source": [
    "The is again the **Reverse Marginal Price Equation** but inversed to isolate $P_{marg}$"
   ]
  },
  {
   "cell_type": "code",
   "execution_count": 35,
   "id": "d043c2ab",
   "metadata": {},
   "outputs": [
    {
     "data": {
      "text/latex": [
       "$\\displaystyle P_{marg} = \\frac{P_{0} \\left(\\Gamma \\left(y - y_{0}\\right) + y_{0}\\right)^{2}}{y_{0}^{2}}$"
      ],
      "text/plain": [
       "Eq(P_{marg}, P_0*(\\Gamma*(y - y_0) + y_0)**2/y_0**2)"
      ]
     },
     "execution_count": 35,
     "metadata": {},
     "output_type": "execute_result"
    }
   ],
   "source": [
    "MPERev = Eq(Pmarg, 1/MPERev0.rhs)\n",
    "MPERev"
   ]
  },
  {
   "cell_type": "markdown",
   "id": "bc876d44",
   "metadata": {},
   "source": [
    "Now we reparameterize the MPE as a function of $Q, x_{int}$ and of $Q, y_{int}$"
   ]
  },
  {
   "cell_type": "code",
   "execution_count": 36,
   "id": "f40ea68b",
   "metadata": {},
   "outputs": [
    {
     "data": {
      "text/latex": [
       "$\\displaystyle P_{marg} = \\frac{P_{0} Q x_{int}^{2}}{\\left(- Q x + Q x_{int} + x\\right)^{2}}$"
      ],
      "text/plain": [
       "Eq(P_{marg}, P_0*Q*x_{int}**2/(-Q*x + Q*x_{int} + x)**2)"
      ]
     },
     "execution_count": 36,
     "metadata": {},
     "output_type": "execute_result"
    }
   ],
   "source": [
    "MPQXiE = MPE.subs(GQE.lhs,GQE.rhs).subs(x0, solve(XiQE, x0)[0]).simplify()\n",
    "MPQXiE"
   ]
  },
  {
   "cell_type": "code",
   "execution_count": 37,
   "id": "d29cb4c0",
   "metadata": {},
   "outputs": [
    {
     "data": {
      "text/latex": [
       "$\\displaystyle P_{marg} = \\frac{P_{0} \\left(- Q y + Q y_{int} + y\\right)^{2}}{Q y_{int}^{2}}$"
      ],
      "text/plain": [
       "Eq(P_{marg}, P_0*(-Q*y + Q*y_{int} + y)**2/(Q*y_{int}**2))"
      ]
     },
     "execution_count": 37,
     "metadata": {},
     "output_type": "execute_result"
    }
   ],
   "source": [
    "MPQYiE = MPERev.subs(GQE.lhs,GQE.rhs).subs(y0, solve(YiQE, y0)[0]).simplify()\n",
    "MPQYiE"
   ]
  },
  {
   "cell_type": "markdown",
   "id": "1e60ee5b",
   "metadata": {},
   "source": [
    "### Asymptotic form of the invariant equation and scaling"
   ]
  },
  {
   "cell_type": "markdown",
   "id": "918e8844",
   "metadata": {},
   "source": [
    "The invariant equation is a hyperbola with the asymptotes $x_{asym}, y_{asym}$. Note that in the formulas below for $0<\\Gamma<1$ we find that $1-1/\\Gamma<0$, meaning the asymptotes are negative values"
   ]
  },
  {
   "cell_type": "code",
   "execution_count": 38,
   "id": "b1c9ec12",
   "metadata": {},
   "outputs": [
    {
     "data": {
      "text/latex": [
       "$\\displaystyle \\left(x - x_{asym}\\right) \\left(y - y_{asym}\\right) = \\kappa$"
      ],
      "text/plain": [
       "Eq((x - x_{asym})*(y - y_{asym}), \\kappa)"
      ]
     },
     "execution_count": 38,
     "metadata": {},
     "output_type": "execute_result"
    }
   ],
   "source": [
    "PIA1E = Eq( (x-xasym)*(y-yasym),kappa)\n",
    "PIA1E"
   ]
  },
  {
   "cell_type": "code",
   "execution_count": 39,
   "id": "ad58e39e",
   "metadata": {},
   "outputs": [
    {
     "data": {
      "text/latex": [
       "$\\displaystyle x_{asym} = x_{0} \\left(1 - \\frac{1}{\\Gamma}\\right)$"
      ],
      "text/plain": [
       "Eq(x_{asym}, x_0*(1 - 1/\\Gamma))"
      ]
     },
     "execution_count": 39,
     "metadata": {},
     "output_type": "execute_result"
    }
   ],
   "source": [
    "XADE = Eq(xasym, x0*(1-1/Gam))\n",
    "XADE"
   ]
  },
  {
   "cell_type": "code",
   "execution_count": 40,
   "id": "9fe408e1",
   "metadata": {},
   "outputs": [
    {
     "data": {
      "text/latex": [
       "$\\displaystyle y_{asym} = y_{0} \\left(1 - \\frac{1}{\\Gamma}\\right)$"
      ],
      "text/plain": [
       "Eq(y_{asym}, y_0*(1 - 1/\\Gamma))"
      ]
     },
     "execution_count": 40,
     "metadata": {},
     "output_type": "execute_result"
    }
   ],
   "source": [
    "YADE = Eq(yasym, y0*(1-1/Gam))\n",
    "YADE"
   ]
  },
  {
   "cell_type": "code",
   "execution_count": 41,
   "id": "a6d5c6a5",
   "metadata": {},
   "outputs": [
    {
     "data": {
      "text/latex": [
       "$\\displaystyle y_{asym} = P_{0} x_{0} \\left(1 - \\frac{1}{\\Gamma}\\right)$"
      ],
      "text/plain": [
       "Eq(y_{asym}, P_0*x_0*(1 - 1/\\Gamma))"
      ]
     },
     "execution_count": 41,
     "metadata": {},
     "output_type": "execute_result"
    }
   ],
   "source": [
    "YAXDE = Eq(yasym, (y0*(1-1/Gam)).subs(y0, P0*x0))\n",
    "YAXDE"
   ]
  },
  {
   "cell_type": "markdown",
   "id": "f9e4693e",
   "metadata": {},
   "source": [
    "In the above invariant equation we can substitute the above definitions of the quantities, and we substitute $y$ from the original pool invariant equation. This allows us to compute $\\kappa$"
   ]
  },
  {
   "cell_type": "code",
   "execution_count": 42,
   "id": "4261b2d0",
   "metadata": {},
   "outputs": [
    {
     "data": {
      "text/latex": [
       "$\\displaystyle \\kappa = \\frac{P_{0} x_{0}^{2}}{\\Gamma^{2}}$"
      ],
      "text/plain": [
       "Eq(\\kappa, P_0*x_0**2/\\Gamma**2)"
      ]
     },
     "execution_count": 42,
     "metadata": {},
     "output_type": "execute_result"
    }
   ],
   "source": [
    "KPDE = PIA1E.subs(xasym, XADE.rhs).subs(yasym, YAXDE.rhs).subs(y, PIE.rhs).simplify()\n",
    "KPDE"
   ]
  },
  {
   "cell_type": "markdown",
   "id": "411e67bd",
   "metadata": {},
   "source": [
    "We remind ourselves that $P_0x_0^2=x_0y_0$ which yields the equation below. "
   ]
  },
  {
   "cell_type": "code",
   "execution_count": 43,
   "id": "83afb83b",
   "metadata": {},
   "outputs": [
    {
     "data": {
      "text/latex": [
       "$\\displaystyle \\kappa = \\frac{x_{0} y_{0}}{\\Gamma^{2}}$"
      ],
      "text/plain": [
       "Eq(\\kappa, x_0*y_0/\\Gamma**2)"
      ]
     },
     "execution_count": 43,
     "metadata": {},
     "output_type": "execute_result"
    }
   ],
   "source": [
    "KPYDE = Eq(KPDE.lhs,KPDE.rhs.subs(P0, y0/x0).simplify())\n",
    "KPYDE"
   ]
  },
  {
   "cell_type": "markdown",
   "id": "37677610",
   "metadata": {},
   "source": [
    "This is important, because we remember that the constant-product equation can be written as $xy=k=x_0y_0$. We also remind ourselves that $\\sqrt k$ is financially meaningful, and therefore $1/\\Gamma$ can be interpreted as pool leverage factor."
   ]
  },
  {
   "cell_type": "code",
   "execution_count": 44,
   "id": "a613afd3",
   "metadata": {},
   "outputs": [
    {
     "data": {
      "text/latex": [
       "$\\displaystyle \\kappa = \\frac{k}{\\Gamma^{2}}$"
      ],
      "text/plain": [
       "Eq(\\kappa, k/\\Gamma**2)"
      ]
     },
     "execution_count": 44,
     "metadata": {},
     "output_type": "execute_result"
    }
   ],
   "source": [
    "PLE = Eq(kappa, k/Gam**2)\n",
    "PLE"
   ]
  },
  {
   "cell_type": "markdown",
   "id": "9e2d40e8",
   "metadata": {},
   "source": [
    "The scaling factor $1/\\Gamma$ can be written as function of the pool width $P_y/P_x$ as"
   ]
  },
  {
   "cell_type": "code",
   "execution_count": 45,
   "id": "a1df3633",
   "metadata": {},
   "outputs": [
    {
     "data": {
      "text/latex": [
       "$\\displaystyle \\frac{\\sqrt{\\kappa}}{\\sqrt{k}} = \\frac{1}{1 - \\sqrt[4]{\\frac{P_{x}}{P_{y}}}}$"
      ],
      "text/plain": [
       "Eq(sqrt(\\kappa)/sqrt(k), 1/(1 - (P_x/P_y)**(1/4)))"
      ]
     },
     "execution_count": 45,
     "metadata": {},
     "output_type": "execute_result"
    }
   ],
   "source": [
    "GSE = Eq(sqrt(kappa)/sqrt(k), (1/Gam).subs(Gam, GQE.rhs).subs(Q, QPE.rhs))\n",
    "GSE"
   ]
  },
  {
   "cell_type": "markdown",
   "id": "ca2c9bfd",
   "metadata": {},
   "source": [
    "### Rho and r parametrizations"
   ]
  },
  {
   "cell_type": "code",
   "execution_count": 46,
   "id": "071e947a",
   "metadata": {},
   "outputs": [
    {
     "data": {
      "text/latex": [
       "$\\displaystyle x_{0} = r x$"
      ],
      "text/plain": [
       "Eq(x_0, r*x)"
      ]
     },
     "execution_count": 46,
     "metadata": {},
     "output_type": "execute_result"
    }
   ],
   "source": [
    "r, rho =symbols(\"r \\\\rho\") \n",
    "RXE = Eq(x0, r*x)\n",
    "RXIE = Eq(x, rho*x0)\n",
    "RXE"
   ]
  },
  {
   "cell_type": "code",
   "execution_count": 47,
   "id": "572516be",
   "metadata": {},
   "outputs": [
    {
     "data": {
      "text/latex": [
       "$\\displaystyle x = \\rho x_{0}$"
      ],
      "text/plain": [
       "Eq(x, \\rho*x_0)"
      ]
     },
     "execution_count": 47,
     "metadata": {},
     "output_type": "execute_result"
    }
   ],
   "source": [
    "RXIE"
   ]
  },
  {
   "cell_type": "code",
   "execution_count": 48,
   "id": "d7c9b9ef",
   "metadata": {},
   "outputs": [
    {
     "data": {
      "text/latex": [
       "$\\displaystyle P_{marg} = \\frac{P_{0} r^{2}}{\\left(\\Gamma \\left(r - 1\\right) - r\\right)^{2}}$"
      ],
      "text/plain": [
       "Eq(P_{marg}, P_0*r**2/(\\Gamma*(r - 1) - r)**2)"
      ]
     },
     "execution_count": 48,
     "metadata": {},
     "output_type": "execute_result"
    }
   ],
   "source": [
    "MPRE = MPE.subs(RXE.lhs, RXE.rhs).simplify()\n",
    "MPRE"
   ]
  },
  {
   "cell_type": "code",
   "execution_count": 49,
   "id": "6b191cc2",
   "metadata": {},
   "outputs": [
    {
     "data": {
      "text/latex": [
       "$\\displaystyle P_{marg} = \\frac{P_{0}}{\\left(\\Gamma \\left(\\rho - 1\\right) + 1\\right)^{2}}$"
      ],
      "text/plain": [
       "Eq(P_{marg}, P_0/(\\Gamma*(\\rho - 1) + 1)**2)"
      ]
     },
     "execution_count": 49,
     "metadata": {},
     "output_type": "execute_result"
    }
   ],
   "source": [
    "MPRIE = MPE.subs(RXIE.lhs, RXIE.rhs).simplify()\n",
    "MPRIE"
   ]
  },
  {
   "cell_type": "markdown",
   "id": "7c35ff7a",
   "metadata": {},
   "source": [
    "For completeness, here also the invariant and swap equations using $r,\\rho$"
   ]
  },
  {
   "cell_type": "code",
   "execution_count": 50,
   "id": "06406455",
   "metadata": {},
   "outputs": [
    {
     "data": {
      "text/latex": [
       "$\\displaystyle y = - \\frac{P_{0} r x \\left(- \\Gamma + r \\left(\\Gamma - 2\\right) + 1\\right)}{\\Gamma - r \\left(\\Gamma - 1\\right)}$"
      ],
      "text/plain": [
       "Eq(y, -P_0*r*x*(-\\Gamma + r*(\\Gamma - 2) + 1)/(\\Gamma - r*(\\Gamma - 1)))"
      ]
     },
     "execution_count": 50,
     "metadata": {},
     "output_type": "execute_result"
    }
   ],
   "source": [
    "PIRE = PIE.subs(RXE.lhs, RXE.rhs).simplify()\n",
    "PIRE"
   ]
  },
  {
   "cell_type": "code",
   "execution_count": 51,
   "id": "b13aae10",
   "metadata": {},
   "outputs": [
    {
     "data": {
      "text/latex": [
       "$\\displaystyle y = \\frac{P_{0} x_{0} \\left(- \\Gamma + \\rho \\left(\\Gamma - 1\\right) + 2\\right)}{\\Gamma \\rho - \\Gamma + 1}$"
      ],
      "text/plain": [
       "Eq(y, P_0*x_0*(-\\Gamma + \\rho*(\\Gamma - 1) + 2)/(\\Gamma*\\rho - \\Gamma + 1))"
      ]
     },
     "execution_count": 51,
     "metadata": {},
     "output_type": "execute_result"
    }
   ],
   "source": [
    "PIRIE = PIE.subs(RXIE.lhs, RXIE.rhs).simplify()\n",
    "PIRIE"
   ]
  },
  {
   "cell_type": "code",
   "execution_count": 52,
   "id": "d6e55369",
   "metadata": {},
   "outputs": [
    {
     "data": {
      "text/latex": [
       "$\\displaystyle \\Delta{y} = \\frac{P_{0} \\Delta{x} r^{2} x}{\\left(\\Gamma \\left(r - 1\\right) - r\\right) \\left(\\Gamma \\left(\\Delta{x} - r x + x\\right) + r x\\right)}$"
      ],
      "text/plain": [
       "Eq(\\Delta{y}, P_0*\\Delta{x}*r**2*x/((\\Gamma*(r - 1) - r)*(\\Gamma*(\\Delta{x} - r*x + x) + r*x)))"
      ]
     },
     "execution_count": 52,
     "metadata": {},
     "output_type": "execute_result"
    }
   ],
   "source": [
    "SRE = SE.subs(RXE.lhs, RXE.rhs).simplify()\n",
    "SRE"
   ]
  },
  {
   "cell_type": "code",
   "execution_count": 53,
   "id": "3b019c22",
   "metadata": {},
   "outputs": [
    {
     "data": {
      "text/latex": [
       "$\\displaystyle - \\Delta{y} = \\frac{P_{0} \\Delta{x} x_{0}}{\\left(\\Gamma \\left(\\Delta{x} + x_{0} \\left(\\rho - 1\\right)\\right) + x_{0}\\right) \\left(\\Gamma \\left(\\rho - 1\\right) + 1\\right)}$"
      ],
      "text/plain": [
       "Eq(-\\Delta{y}, P_0*\\Delta{x}*x_0/((\\Gamma*(\\Delta{x} + x_0*(\\rho - 1)) + x_0)*(\\Gamma*(\\rho - 1) + 1)))"
      ]
     },
     "execution_count": 53,
     "metadata": {},
     "output_type": "execute_result"
    }
   ],
   "source": [
    "SRIE = Eq(SE.lhs, P*Dx*x0 / ((Gam*(rho-1)+1)*(Gam*(Dx+x0*(rho-1))+x0)))\n",
    "SRIE"
   ]
  },
  {
   "cell_type": "code",
   "execution_count": 54,
   "id": "2fb962bb",
   "metadata": {},
   "outputs": [
    {
     "data": {
      "text/latex": [
       "$\\displaystyle 0$"
      ],
      "text/plain": [
       "0"
      ]
     },
     "execution_count": 54,
     "metadata": {},
     "output_type": "execute_result"
    }
   ],
   "source": [
    "(SRIE.rhs - SE.rhs.subs(RXIE.lhs, RXIE.rhs)).simplify()"
   ]
  },
  {
   "cell_type": "markdown",
   "id": "150e9323",
   "metadata": {},
   "source": [
    "### B,S parameterization\n",
    "\n",
    "The B,S parameterization is not particular intuitive, but the formulas are well suited for implementation"
   ]
  },
  {
   "cell_type": "code",
   "execution_count": 55,
   "id": "468d5515",
   "metadata": {},
   "outputs": [
    {
     "data": {
      "text/latex": [
       "$\\displaystyle B = \\sqrt{P_{x}}$"
      ],
      "text/plain": [
       "Eq(B, sqrt(P_x))"
      ]
     },
     "execution_count": 55,
     "metadata": {},
     "output_type": "execute_result"
    }
   ],
   "source": [
    "BDE = Eq(B,sqrt(Pb))\n",
    "BDE"
   ]
  },
  {
   "cell_type": "code",
   "execution_count": 56,
   "id": "660c0abb",
   "metadata": {},
   "outputs": [
    {
     "data": {
      "text/latex": [
       "$\\displaystyle S = - \\sqrt{P_{x}} + \\sqrt{P_{y}}$"
      ],
      "text/plain": [
       "Eq(S, -sqrt(P_x) + sqrt(P_y))"
      ]
     },
     "execution_count": 56,
     "metadata": {},
     "output_type": "execute_result"
    }
   ],
   "source": [
    "SDE = Eq(S,sqrt(Pa)-sqrt(Pb))\n",
    "SDE"
   ]
  },
  {
   "cell_type": "code",
   "execution_count": 116,
   "id": "0e163182",
   "metadata": {},
   "outputs": [
    {
     "data": {
      "text/latex": [
       "$\\displaystyle P_{x} = P_{0} Q$"
      ],
      "text/plain": [
       "Eq(P_x, P_0*Q)"
      ]
     },
     "execution_count": 116,
     "metadata": {},
     "output_type": "execute_result"
    }
   ],
   "source": [
    "PxDE"
   ]
  },
  {
   "cell_type": "code",
   "execution_count": 131,
   "id": "6701fcf8",
   "metadata": {},
   "outputs": [
    {
     "data": {
      "text/latex": [
       "$\\displaystyle P_{0} = \\frac{P_{x}}{Q}$"
      ],
      "text/plain": [
       "Eq(P_0, P_x/Q)"
      ]
     },
     "execution_count": 131,
     "metadata": {},
     "output_type": "execute_result"
    }
   ],
   "source": [
    "isolate(PxDE,P0)"
   ]
  },
  {
   "cell_type": "code",
   "execution_count": 122,
   "id": "a3ae385b",
   "metadata": {},
   "outputs": [
    {
     "data": {
      "text/latex": [
       "$\\displaystyle P_{x} = P_{0} Q$"
      ],
      "text/plain": [
       "Eq(P_x, P_0*Q)"
      ]
     },
     "execution_count": 122,
     "metadata": {},
     "output_type": "execute_result"
    }
   ],
   "source": [
    "PxDE"
   ]
  },
  {
   "cell_type": "code",
   "execution_count": 123,
   "id": "de64123f",
   "metadata": {},
   "outputs": [
    {
     "data": {
      "text/latex": [
       "$\\displaystyle P_{0} = \\frac{y_{0}}{x_{0}}$"
      ],
      "text/plain": [
       "Eq(P_0, y_0/x_0)"
      ]
     },
     "execution_count": 123,
     "metadata": {},
     "output_type": "execute_result"
    }
   ],
   "source": [
    "P0DE"
   ]
  },
  {
   "cell_type": "code",
   "execution_count": 124,
   "id": "72f36f75",
   "metadata": {},
   "outputs": [
    {
     "data": {
      "text/latex": [
       "$\\displaystyle Q = \\left(1 - \\Gamma\\right)^{2}$"
      ],
      "text/plain": [
       "Eq(Q, (1 - \\Gamma)**2)"
      ]
     },
     "execution_count": 124,
     "metadata": {},
     "output_type": "execute_result"
    }
   ],
   "source": [
    "QDE"
   ]
  },
  {
   "cell_type": "code",
   "execution_count": 126,
   "id": "068ff848",
   "metadata": {},
   "outputs": [
    {
     "data": {
      "text/latex": [
       "$\\displaystyle \\Gamma = 1 - \\sqrt{Q}$"
      ],
      "text/plain": [
       "Eq(\\Gamma, 1 - sqrt(Q))"
      ]
     },
     "execution_count": 126,
     "metadata": {},
     "output_type": "execute_result"
    }
   ],
   "source": [
    "GQE"
   ]
  },
  {
   "cell_type": "code",
   "execution_count": 141,
   "id": "41354284",
   "metadata": {},
   "outputs": [
    {
     "data": {
      "text/latex": [
       "$\\displaystyle y_{int} = y_{0} \\left(1 + \\frac{1}{\\sqrt{Q}}\\right)$"
      ],
      "text/plain": [
       "Eq(y_{int}, y_0*(1 + 1/sqrt(Q)))"
      ]
     },
     "execution_count": 141,
     "metadata": {},
     "output_type": "execute_result"
    }
   ],
   "source": [
    "YiQE"
   ]
  },
  {
   "cell_type": "code",
   "execution_count": null,
   "id": "885db3e2",
   "metadata": {},
   "outputs": [],
   "source": []
  },
  {
   "cell_type": "code",
   "execution_count": null,
   "id": "6d9429f1",
   "metadata": {},
   "outputs": [],
   "source": []
  },
  {
   "cell_type": "code",
   "execution_count": 145,
   "id": "aacd7914",
   "metadata": {},
   "outputs": [
    {
     "data": {
      "text/latex": [
       "$\\displaystyle y = \\frac{y_{0} \\left(P_{x} \\sqrt{Q} x - Q^{\\frac{3}{2}} y_{0} - Q y_{0}\\right)}{P_{x} \\sqrt{Q} x - P_{x} x - Q^{\\frac{3}{2}} y_{0}}$"
      ],
      "text/plain": [
       "Eq(y, y_0*(P_x*sqrt(Q)*x - Q**(3/2)*y_0 - Q*y_0)/(P_x*sqrt(Q)*x - P_x*x - Q**(3/2)*y_0))"
      ]
     },
     "execution_count": 145,
     "metadata": {},
     "output_type": "execute_result"
    }
   ],
   "source": [
    "PIE0 = subs(PIE, isolate(P0DE, x0))\n",
    "PIE1 = subs(PIE0, GQE)\n",
    "PIE2 = subs(PIE1, isolate(PxDE,P0))\n",
    "#PIE2 = PIE1.subs()\n",
    "PIE2"
   ]
  },
  {
   "cell_type": "code",
   "execution_count": null,
   "id": "41dec3c4",
   "metadata": {},
   "outputs": [],
   "source": [
    "PIE.rsh.subs()"
   ]
  },
  {
   "cell_type": "markdown",
   "id": "4c41667a",
   "metadata": {},
   "source": [
    "Below is the **Swap Equation** (ie $\\Delta y$ as a function of $\\Delta x$) in B,S parameterization."
   ]
  },
  {
   "cell_type": "code",
   "execution_count": 178,
   "id": "39c0813b",
   "metadata": {},
   "outputs": [
    {
     "data": {
      "text/latex": [
       "$\\displaystyle \\Delta{y} = \\frac{\\Delta{x} \\left(B y_{int} + S y\\right)^{2}}{S \\Delta{x} \\left(B y_{int} + S y\\right) + y_{int}^{2}}$"
      ],
      "text/plain": [
       "Eq(\\Delta{y}, \\Delta{x}*(B*y_{int} + S*y)**2/(S*\\Delta{x}*(B*y_{int} + S*y) + y_{int}**2))"
      ]
     },
     "execution_count": 178,
     "metadata": {},
     "output_type": "execute_result"
    }
   ],
   "source": [
    "BSSE = Eq(Dy, Dx*(S*y + B*yint)**2 / (S*Dx * (S*y + B*yint) + yint**2))\n",
    "BSSE"
   ]
  },
  {
   "cell_type": "markdown",
   "id": "267c03c0",
   "metadata": {},
   "source": [
    "Here is the **Reverse Swap Equation** (ie $\\Delta x$ as a function of $\\Delta y$)"
   ]
  },
  {
   "cell_type": "code",
   "execution_count": 176,
   "id": "1be27491",
   "metadata": {},
   "outputs": [
    {
     "data": {
      "text/latex": [
       "$\\displaystyle \\Delta{x} = \\frac{\\Delta{y} y_{int}^{2}}{\\left(B y_{int} + S y\\right) \\left(B y_{int} - S \\Delta{y} + S y\\right)}$"
      ],
      "text/plain": [
       "Eq(\\Delta{x}, \\Delta{y}*y_{int}**2/((B*y_{int} + S*y)*(B*y_{int} - S*\\Delta{y} + S*y)))"
      ]
     },
     "execution_count": 176,
     "metadata": {},
     "output_type": "execute_result"
    }
   ],
   "source": [
    "BSRSE = Eq(Dx, Dy * yint**2 / ((S*y + B*yint) * (S*y + B*yint - S*Dy)))\n",
    "BSRSE"
   ]
  },
  {
   "cell_type": "markdown",
   "id": "da050ed8",
   "metadata": {},
   "source": [
    "The **marginal price equation** (where $P_{marg} = -dy/dx$) then becomes"
   ]
  },
  {
   "cell_type": "code",
   "execution_count": 57,
   "id": "852346d4",
   "metadata": {},
   "outputs": [
    {
     "data": {
      "text/latex": [
       "$\\displaystyle P_{marg} = \\left(B + \\frac{S y}{y_{int}}\\right)^{2}$"
      ],
      "text/plain": [
       "Eq(P_{marg}, (B + S*y/y_{int})**2)"
      ]
     },
     "execution_count": 57,
     "metadata": {},
     "output_type": "execute_result"
    }
   ],
   "source": [
    "MPBSE = Eq(Pmarg, (B+S*y/yint)**2)\n",
    "MPBSE"
   ]
  },
  {
   "cell_type": "markdown",
   "id": "d295a33e",
   "metadata": {},
   "source": [
    "We check that the marginal price equation is consistent with the swap equations"
   ]
  },
  {
   "cell_type": "code",
   "execution_count": 180,
   "id": "08f28510",
   "metadata": {},
   "outputs": [
    {
     "data": {
      "text/latex": [
       "$\\displaystyle 0$"
      ],
      "text/plain": [
       "0"
      ]
     },
     "execution_count": 180,
     "metadata": {},
     "output_type": "execute_result"
    }
   ],
   "source": [
    "((BSSE.rhs / Dx).subs(Dx,0)-MPBSE.rhs).simplify()"
   ]
  },
  {
   "cell_type": "code",
   "execution_count": 184,
   "id": "5c159ba6",
   "metadata": {},
   "outputs": [
    {
     "data": {
      "text/latex": [
       "$\\displaystyle 0$"
      ],
      "text/plain": [
       "0"
      ]
     },
     "execution_count": 184,
     "metadata": {},
     "output_type": "execute_result"
    }
   ],
   "source": [
    "((BSRSE.rhs / Dy).subs(Dy,0) - 1/MPBSE.rhs).simplify()"
   ]
  },
  {
   "cell_type": "code",
   "execution_count": 185,
   "id": "d8d205c4",
   "metadata": {},
   "outputs": [
    {
     "data": {
      "text/latex": [
       "$\\displaystyle y = \\frac{y_{int} \\left(- B + \\sqrt{P_{marg}}\\right)}{S}$"
      ],
      "text/plain": [
       "Eq(y, y_{int}*(-B + sqrt(P_{marg}))/S)"
      ]
     },
     "execution_count": 185,
     "metadata": {},
     "output_type": "execute_result"
    }
   ],
   "source": [
    "YMPE = isolate(MPBSE,y)\n",
    "YMPE"
   ]
  },
  {
   "cell_type": "markdown",
   "id": "3fcf4b27",
   "metadata": {},
   "source": [
    "### Adjusting active ranges\n",
    "\n",
    "As a reminder, and _inactive_ range is a range where the current market price is outside the range, and an _active_ range is one where it is inside. Active ranges split into _active active_ and _inactive active_ ranges. In the former, the market price equals the marginal price of the curve, in the latter the marginal price is somewhat off (in the direction where the marginal price shown in the direction of the AMM is _worse_ than that of the market, so it won't trade.\n",
    "\n",
    "An active active AMM whose curve is to be readjusted to remain active active has only one remaining degree of freedom -- one can choose either width or mid price, but not both. One can of course change the parameters such that it turns inactive active, in which case the parameters space is two dimensional (width and mid-price), but there is a non-trivial boundary condition to be taken into account because one is starting from the boundary. When adjusting an inactive inactive range, the space is locally fully 2-dimensional, but at one point the boundary must be taken into account.\n",
    "\n",
    "In a first step, we express our marginal price as a function of $P_0=\\sqrt{P_xP_y}$ and $w=P_y/P_x$"
   ]
  },
  {
   "cell_type": "code",
   "execution_count": 59,
   "id": "5238c191",
   "metadata": {},
   "outputs": [
    {
     "data": {
      "text/latex": [
       "$\\displaystyle P_{marg} = \\frac{P_{0} \\left(- y \\sqrt{\\frac{1}{w}} + y + y_{int} \\sqrt{\\frac{1}{w}}\\right)^{2}}{y_{int}^{2} \\sqrt{\\frac{1}{w}}}$"
      ],
      "text/plain": [
       "Eq(P_{marg}, P_0*(-y*sqrt(1/w) + y + y_{int}*sqrt(1/w))**2/(y_{int}**2*sqrt(1/w)))"
      ]
     },
     "execution_count": 59,
     "metadata": {},
     "output_type": "execute_result"
    }
   ],
   "source": [
    "MPWYiE = MPQYiE.subs(Q, -solve(WE, Q)[0])\n",
    "MPWYiE"
   ]
  },
  {
   "cell_type": "markdown",
   "id": "57fd75bc",
   "metadata": {},
   "source": [
    "We then express $P_0$ as a function of $w$ (and the other paramters), defining the 1-dimensional curve in $P_0, w$ space that any active active reparamterization must fulfil. "
   ]
  },
  {
   "cell_type": "code",
   "execution_count": 60,
   "id": "a15dd488",
   "metadata": {},
   "outputs": [
    {
     "data": {
      "text/latex": [
       "$\\displaystyle P_{0} = \\frac{P_{marg} y_{int}^{2} \\sqrt{\\frac{1}{w}}}{\\left(- y \\sqrt{\\frac{1}{w}} + y + y_{int} \\sqrt{\\frac{1}{w}}\\right)^{2}}$"
      ],
      "text/plain": [
       "Eq(P_0, P_{marg}*y_{int}**2*sqrt(1/w)/(-y*sqrt(1/w) + y + y_{int}*sqrt(1/w))**2)"
      ]
     },
     "execution_count": 60,
     "metadata": {},
     "output_type": "execute_result"
    }
   ],
   "source": [
    "P0WYiE = Eq(P, solve(MPWYiE, P)[0])\n",
    "P0WYiE"
   ]
  },
  {
   "cell_type": "markdown",
   "id": "1afb7a13",
   "metadata": {},
   "source": [
    "Uncomment the below to obtain the closed form solution for the inverse equation $w=w(P_0)$"
   ]
  },
  {
   "cell_type": "code",
   "execution_count": 61,
   "id": "baf9995e",
   "metadata": {},
   "outputs": [],
   "source": [
    "#WP0YiE = Eq(w, solve(P0WYiE,w)[0].simplify())\n",
    "#WP0YiE"
   ]
  },
  {
   "cell_type": "markdown",
   "id": "2b677bcc",
   "metadata": {},
   "source": [
    "For the inequality, we first note that $P_0\\propto P_{marg}$. We now need to distinguish the following two cases (note that the price is always quoted as numeraire / risk asset) that ensure that the AMM either matches the market price, or it is _out of the money_, ie not willing to trade at prevailing prices.\n",
    "\n",
    "1. **AMM sells risk asset.** If the AMM sells the risk asset it is only willing to sell it at market _or higher_, ie $P_{marg} \\geq P_{market}$\n",
    "\n",
    "1. **AMM buys risk asset.** If the AMM buys the risk asset it is only willing to buy it at market _or lower_, ie $P_{marg} \\leq P_{market}$"
   ]
  },
  {
   "cell_type": "markdown",
   "id": "7fd9c4c5",
   "metadata": {},
   "source": [
    "## Creating the Formulas object for export\n",
    "\n",
    "The `FORMULAS` object contains all key formulas of this worksheet, and it allows to easily import and use them in other workbooks. "
   ]
  },
  {
   "cell_type": "code",
   "execution_count": 62,
   "id": "1c92b20c",
   "metadata": {
    "lines_to_next_cell": 2
   },
   "outputs": [
    {
     "name": "stdout",
     "output_type": "stream",
     "text": [
      "formulalib Version v2.2 (20/Nov/2022)\n",
      "FORMULAS Version v3.1+margp2+TODO (12/Dec/2022)\n"
     ]
    }
   ],
   "source": [
    "try:\n",
    "    from .formulalib import Formulas, __VERSION__ as _fversion, __DATE__ as _fdate\n",
    "except:\n",
    "    from formulalib import Formulas, __VERSION__ as _fversion, __DATE__ as _fdate\n",
    "FORMULAS = Formulas(version=__VERSION__,date=__DATE__)\n",
    "print(f\"formulalib Version v{_fversion} ({_fdate})\")\n",
    "print(f\"FORMULAS Version v{FORMULAS.version} ({FORMULAS.date})\")"
   ]
  },
  {
   "cell_type": "markdown",
   "id": "b0788124",
   "metadata": {},
   "source": [
    "### Core equations"
   ]
  },
  {
   "cell_type": "code",
   "execution_count": 63,
   "id": "94e61f11",
   "metadata": {},
   "outputs": [
    {
     "data": {
      "text/latex": [
       "$\\displaystyle y = \\frac{P_{0} x_{0} \\left(x \\left(\\Gamma - 1\\right) - x_{0} \\left(\\Gamma - 2\\right)\\right)}{\\Gamma x - x_{0} \\left(\\Gamma - 1\\right)}$"
      ],
      "text/plain": [
       "Eq(y, P_0*x_0*(x*(\\Gamma - 1) - x_0*(\\Gamma - 2))/(\\Gamma*x - x_0*(\\Gamma - 1)))"
      ]
     },
     "execution_count": 63,
     "metadata": {},
     "output_type": "execute_result"
    }
   ],
   "source": [
    "FORMULAS.add(\n",
    "    \"PIE\", PIE, \n",
    "    \"Pool Invariant Equation (risk asset)\", \n",
    "    \"expressed as y as a function of x and parameters P, x0, Gamma\", \n",
    ")"
   ]
  },
  {
   "cell_type": "code",
   "execution_count": 64,
   "id": "81cc1006",
   "metadata": {},
   "outputs": [
    {
     "data": {
      "text/latex": [
       "$\\displaystyle y = \\frac{y_{0} \\left(P_{0} x \\left(\\Gamma - 1\\right) - y_{0} \\left(\\Gamma - 2\\right)\\right)}{P_{0} \\Gamma x - y_{0} \\left(\\Gamma - 1\\right)}$"
      ],
      "text/plain": [
       "Eq(y, y_0*(P_0*x*(\\Gamma - 1) - y_0*(\\Gamma - 2))/(P_0*\\Gamma*x - y_0*(\\Gamma - 1)))"
      ]
     },
     "execution_count": 64,
     "metadata": {},
     "output_type": "execute_result"
    }
   ],
   "source": [
    "FORMULAS.add(\n",
    "    \"PINE\", PINE, \n",
    "    \"Pool Invariant Equation (numeraire)\", \n",
    "    \"expressed as y as a function of x and parameters P, y0, Gamma\", \n",
    ")"
   ]
  },
  {
   "cell_type": "code",
   "execution_count": 65,
   "id": "a4a43c35",
   "metadata": {},
   "outputs": [
    {
     "data": {
      "text/latex": [
       "$\\displaystyle Q = \\frac{x y}{\\left(x - x_{int}\\right) \\left(y - y_{int}\\right)}$"
      ],
      "text/plain": [
       "Eq(Q, x*y/((x - x_{int})*(y - y_{int})))"
      ]
     },
     "execution_count": 65,
     "metadata": {},
     "output_type": "execute_result"
    }
   ],
   "source": [
    "FORMULAS.add(\n",
    "    \"PIQE\", PIQE, \n",
    "    \"Pool Invariant Equation (Q form)\", \n",
    "    \"expressed as Q equals function of x,y with the intercepts as parameters\", \n",
    ")"
   ]
  },
  {
   "cell_type": "code",
   "execution_count": 66,
   "id": "6fcead6b",
   "metadata": {},
   "outputs": [
    {
     "data": {
      "text/latex": [
       "$\\displaystyle Q \\left(x - x_{int}\\right) \\left(y - y_{int}\\right) = x y$"
      ],
      "text/plain": [
       "Eq(Q*(x - x_{int})*(y - y_{int}), x*y)"
      ]
     },
     "execution_count": 66,
     "metadata": {},
     "output_type": "execute_result"
    }
   ],
   "source": [
    "FORMULAS.add(\n",
    "    \"PIQ2E\", PIQ2E, \n",
    "    \"Pool Invariant Equation (Q form)\", \n",
    "    \"expressed as Q equals function of x,y with the intercepts as parameters (alternitive form)\", \n",
    ")"
   ]
  },
  {
   "cell_type": "code",
   "execution_count": 67,
   "id": "5ce20e28",
   "metadata": {},
   "outputs": [
    {
     "data": {
      "text/latex": [
       "$\\displaystyle y = - \\frac{P_{0} r x \\left(- \\Gamma + r \\left(\\Gamma - 2\\right) + 1\\right)}{\\Gamma - r \\left(\\Gamma - 1\\right)}$"
      ],
      "text/plain": [
       "Eq(y, -P_0*r*x*(-\\Gamma + r*(\\Gamma - 2) + 1)/(\\Gamma - r*(\\Gamma - 1)))"
      ]
     },
     "execution_count": 67,
     "metadata": {},
     "output_type": "execute_result"
    }
   ],
   "source": [
    "FORMULAS.add(\n",
    "    \"PIRE\", PIRE, \n",
    "    \"Pool Invariant Equation (r form)\", \n",
    "    \"expressed as y as a function of r and parameters P, x0, Gamma\", \n",
    ")"
   ]
  },
  {
   "cell_type": "code",
   "execution_count": 68,
   "id": "3b482bce",
   "metadata": {},
   "outputs": [
    {
     "data": {
      "text/latex": [
       "$\\displaystyle y = \\frac{P_{0} x_{0} \\left(- \\Gamma + \\rho \\left(\\Gamma - 1\\right) + 2\\right)}{\\Gamma \\rho - \\Gamma + 1}$"
      ],
      "text/plain": [
       "Eq(y, P_0*x_0*(-\\Gamma + \\rho*(\\Gamma - 1) + 2)/(\\Gamma*\\rho - \\Gamma + 1))"
      ]
     },
     "execution_count": 68,
     "metadata": {},
     "output_type": "execute_result"
    }
   ],
   "source": [
    "FORMULAS.add(\n",
    "    \"PIRIE\", PIRIE, \n",
    "    \"Pool Invariant Equation (rho)\", \n",
    "    \"expressed as y as a function of rho and parameters P, x0, Gamma\", \n",
    ")"
   ]
  },
  {
   "cell_type": "code",
   "execution_count": 69,
   "id": "0da12a60",
   "metadata": {},
   "outputs": [
    {
     "data": {
      "text/latex": [
       "$\\displaystyle \\left(x - x_{asym}\\right) \\left(y - y_{asym}\\right) = \\kappa$"
      ],
      "text/plain": [
       "Eq((x - x_{asym})*(y - y_{asym}), \\kappa)"
      ]
     },
     "execution_count": 69,
     "metadata": {},
     "output_type": "execute_result"
    }
   ],
   "source": [
    "FORMULAS.add(\n",
    "    \"PIA1E\", PIA1E, \n",
    "    \"Pool Invariant Equation (asymptotic)\", \n",
    "    \"expressed as hyperbola equation with asymptotes and kappa\", \n",
    ")"
   ]
  },
  {
   "cell_type": "code",
   "execution_count": 70,
   "id": "5a0ca7e5",
   "metadata": {},
   "outputs": [
    {
     "data": {
      "text/latex": [
       "$\\displaystyle - \\Delta{y} = \\frac{P_{0} \\Delta{x} x_{0}^{2}}{\\left(\\Gamma \\left(x - x_{0}\\right) + x_{0}\\right) \\left(\\Gamma \\left(\\Delta{x} + x - x_{0}\\right) + x_{0}\\right)}$"
      ],
      "text/plain": [
       "Eq(-\\Delta{y}, P_0*\\Delta{x}*x_0**2/((\\Gamma*(x - x_0) + x_0)*(\\Gamma*(\\Delta{x} + x - x_0) + x_0)))"
      ]
     },
     "execution_count": 70,
     "metadata": {},
     "output_type": "execute_result"
    }
   ],
   "source": [
    "FORMULAS.add(\n",
    "    \"SE\", SE, \n",
    "    \"Swap Equation\", \n",
    "    \"expressed as minus Delta y as a function of Delta x and all other parameters and variables from the PIE\", \n",
    ")"
   ]
  },
  {
   "cell_type": "code",
   "execution_count": 71,
   "id": "090f0d67",
   "metadata": {},
   "outputs": [
    {
     "data": {
      "text/latex": [
       "$\\displaystyle \\Delta{y} = \\frac{P_{0} \\Delta{x} r^{2} x}{\\left(\\Gamma \\left(r - 1\\right) - r\\right) \\left(\\Gamma \\left(\\Delta{x} - r x + x\\right) + r x\\right)}$"
      ],
      "text/plain": [
       "Eq(\\Delta{y}, P_0*\\Delta{x}*r**2*x/((\\Gamma*(r - 1) - r)*(\\Gamma*(\\Delta{x} - r*x + x) + r*x)))"
      ]
     },
     "execution_count": 71,
     "metadata": {},
     "output_type": "execute_result"
    }
   ],
   "source": [
    "FORMULAS.add(\n",
    "    \"SRE\", SRE, \n",
    "    \"Swap Equation (r)\", \n",
    "    \"expressed as minus Delta y as a function of Delta x and all other parameters and variables from the PIRE\", \n",
    ")"
   ]
  },
  {
   "cell_type": "code",
   "execution_count": 72,
   "id": "0be705aa",
   "metadata": {},
   "outputs": [
    {
     "data": {
      "text/latex": [
       "$\\displaystyle - \\Delta{y} = \\frac{P_{0} \\Delta{x} x_{0}}{\\left(\\Gamma \\left(\\Delta{x} + x_{0} \\left(\\rho - 1\\right)\\right) + x_{0}\\right) \\left(\\Gamma \\left(\\rho - 1\\right) + 1\\right)}$"
      ],
      "text/plain": [
       "Eq(-\\Delta{y}, P_0*\\Delta{x}*x_0/((\\Gamma*(\\Delta{x} + x_0*(\\rho - 1)) + x_0)*(\\Gamma*(\\rho - 1) + 1)))"
      ]
     },
     "execution_count": 72,
     "metadata": {},
     "output_type": "execute_result"
    }
   ],
   "source": [
    "FORMULAS.add(\n",
    "    \"SRIE\", SRIE, \n",
    "    \"Swap Equation (rho)\", \n",
    "    \"expressed as minus Delta y as a function of Delta x and all other parameters and variables from the PIRIE\", \n",
    ")"
   ]
  },
  {
   "cell_type": "code",
   "execution_count": 73,
   "id": "6ee683e2",
   "metadata": {},
   "outputs": [
    {
     "data": {
      "text/latex": [
       "$\\displaystyle - \\frac{dy}{dx} = \\frac{P_{0} x_{0}^{2}}{\\left(\\Gamma \\left(x - x_{0}\\right) + x_{0}\\right)^{2}}$"
      ],
      "text/plain": [
       "Eq(-dy/dx, P_0*x_0**2/(\\Gamma*(x - x_0) + x_0)**2)"
      ]
     },
     "execution_count": 73,
     "metadata": {},
     "output_type": "execute_result"
    }
   ],
   "source": [
    "FORMULAS.add(\n",
    "    \"MSE\", MSE, \n",
    "    \"Marginal Swap Equation\", \n",
    "    \"the Swap Equation for Delta x -> dx; dx is brought to the LHS\", \n",
    ")"
   ]
  },
  {
   "cell_type": "code",
   "execution_count": 74,
   "id": "5c3b6eaa",
   "metadata": {},
   "outputs": [
    {
     "data": {
      "text/latex": [
       "$\\displaystyle P_{marg} = \\frac{P_{0} x_{0}^{2}}{\\left(\\Gamma \\left(x - x_{0}\\right) + x_{0}\\right)^{2}}$"
      ],
      "text/plain": [
       "Eq(P_{marg}, P_0*x_0**2/(\\Gamma*(x - x_0) + x_0)**2)"
      ]
     },
     "execution_count": 74,
     "metadata": {},
     "output_type": "execute_result"
    }
   ],
   "source": [
    "FORMULAS.add(\n",
    "    \"MPE\", MPE, \n",
    "    \"Marginal Price Equation\", \n",
    "    \"this is the same as the Marginal Swap Equation, except that the LHS is recognized as the marginal price\", \n",
    ")"
   ]
  },
  {
   "cell_type": "code",
   "execution_count": 75,
   "id": "a108473e",
   "metadata": {},
   "outputs": [
    {
     "data": {
      "text/latex": [
       "$\\displaystyle P_{marg} = \\frac{P_{0} \\left(\\Gamma \\left(y - y_{0}\\right) + y_{0}\\right)^{2}}{y_{0}^{2}}$"
      ],
      "text/plain": [
       "Eq(P_{marg}, P_0*(\\Gamma*(y - y_0) + y_0)**2/y_0**2)"
      ]
     },
     "execution_count": 75,
     "metadata": {},
     "output_type": "execute_result"
    }
   ],
   "source": [
    "FORMULAS.add(\n",
    "    \"MPERev\", MPERev, \n",
    "    \"Reverse Marginal Price Equation\", \n",
    "    \"Marginal price eqaution seen from the other side (ie based on y, y0)\", \n",
    ")"
   ]
  },
  {
   "cell_type": "code",
   "execution_count": 76,
   "id": "acdfd5fd",
   "metadata": {},
   "outputs": [
    {
     "data": {
      "text/latex": [
       "$\\displaystyle P_{marg} = \\frac{P_{0} Q x_{int}^{2}}{\\left(- Q x + Q x_{int} + x\\right)^{2}}$"
      ],
      "text/plain": [
       "Eq(P_{marg}, P_0*Q*x_{int}**2/(-Q*x + Q*x_{int} + x)**2)"
      ]
     },
     "execution_count": 76,
     "metadata": {},
     "output_type": "execute_result"
    }
   ],
   "source": [
    "FORMULAS.add(\n",
    "    \"MPQXiE\", MPQXiE, \n",
    "    \"Marginal Price Equation (Q,xint)\", \n",
    "    \"Reparametrization of the MPE as a function of $Q, x_{int}$\", \n",
    ")"
   ]
  },
  {
   "cell_type": "code",
   "execution_count": 77,
   "id": "76a6dbd3",
   "metadata": {},
   "outputs": [
    {
     "data": {
      "text/latex": [
       "$\\displaystyle P_{marg} = \\frac{P_{0} \\left(- Q y + Q y_{int} + y\\right)^{2}}{Q y_{int}^{2}}$"
      ],
      "text/plain": [
       "Eq(P_{marg}, P_0*(-Q*y + Q*y_{int} + y)**2/(Q*y_{int}**2))"
      ]
     },
     "execution_count": 77,
     "metadata": {},
     "output_type": "execute_result"
    }
   ],
   "source": [
    "FORMULAS.add(\n",
    "    \"MPQYiE\", MPQYiE, \n",
    "    \"Marginal Price Equation (Q,yint)\", \n",
    "    \"Reparametrization of the MPE as a function of $Q, y_{int}$\", \n",
    ")"
   ]
  },
  {
   "cell_type": "code",
   "execution_count": 78,
   "id": "ceb4c868",
   "metadata": {},
   "outputs": [
    {
     "data": {
      "text/latex": [
       "$\\displaystyle P_{marg} = \\frac{P_{0} \\left(- y \\sqrt{\\frac{1}{w}} + y + y_{int} \\sqrt{\\frac{1}{w}}\\right)^{2}}{y_{int}^{2} \\sqrt{\\frac{1}{w}}}$"
      ],
      "text/plain": [
       "Eq(P_{marg}, P_0*(-y*sqrt(1/w) + y + y_{int}*sqrt(1/w))**2/(y_{int}**2*sqrt(1/w)))"
      ]
     },
     "execution_count": 78,
     "metadata": {},
     "output_type": "execute_result"
    }
   ],
   "source": [
    "FORMULAS.add(\n",
    "    \"MPWYiE\", MPWYiE, \n",
    "    \"Marginal Price Equation (w,yint)\", \n",
    "    \"Reparametrization of the MPE as a function of $w, y_{int}$\", \n",
    ")"
   ]
  },
  {
   "cell_type": "code",
   "execution_count": 79,
   "id": "8d6f76d1",
   "metadata": {},
   "outputs": [
    {
     "data": {
      "text/latex": [
       "$\\displaystyle P_{marg} = \\frac{P_{0} \\left(- y \\sqrt{\\frac{1}{w}} + y + y_{int} \\sqrt{\\frac{1}{w}}\\right)^{2}}{y_{int}^{2} \\sqrt{\\frac{1}{w}}}$"
      ],
      "text/plain": [
       "Eq(P_{marg}, P_0*(-y*sqrt(1/w) + y + y_{int}*sqrt(1/w))**2/(y_{int}**2*sqrt(1/w)))"
      ]
     },
     "execution_count": 79,
     "metadata": {},
     "output_type": "execute_result"
    }
   ],
   "source": [
    "FORMULAS.add(\n",
    "    \"MPWYiE\", MPWYiE, \n",
    "    \"Marginal Price Equation (w,yint)\", \n",
    "    \"Reparametrization of the MPE as a function of $w, y_{int}$\", \n",
    ")"
   ]
  },
  {
   "cell_type": "code",
   "execution_count": 80,
   "id": "a348c700",
   "metadata": {},
   "outputs": [
    {
     "data": {
      "text/latex": [
       "$\\displaystyle P_{0} = \\frac{P_{marg} y_{int}^{2} \\sqrt{\\frac{1}{w}}}{\\left(- y \\sqrt{\\frac{1}{w}} + y + y_{int} \\sqrt{\\frac{1}{w}}\\right)^{2}}$"
      ],
      "text/plain": [
       "Eq(P_0, P_{marg}*y_{int}**2*sqrt(1/w)/(-y*sqrt(1/w) + y + y_{int}*sqrt(1/w))**2)"
      ]
     },
     "execution_count": 80,
     "metadata": {},
     "output_type": "execute_result"
    }
   ],
   "source": [
    "FORMULAS.add(\n",
    "    \"P0WYiE\", P0WYiE, \n",
    "    \"Constant Marginal Price Curve Equation\", \n",
    "    \"Establishes relationship $P_0=P_0(w)$ for which the marginal price remains const\", \n",
    ")"
   ]
  },
  {
   "cell_type": "code",
   "execution_count": 81,
   "id": "89c0a2b0",
   "metadata": {},
   "outputs": [
    {
     "data": {
      "text/latex": [
       "$\\displaystyle \\kappa = \\frac{k}{\\Gamma^{2}}$"
      ],
      "text/plain": [
       "Eq(\\kappa, k/\\Gamma**2)"
      ]
     },
     "execution_count": 81,
     "metadata": {},
     "output_type": "execute_result"
    }
   ],
   "source": [
    "FORMULAS.add(\n",
    "    \"PLE\", PLE, \n",
    "    \"Pool leverage equation\", \n",
    "    \"Establishes relationship between kappa, k, Gamma\", \n",
    ")"
   ]
  },
  {
   "cell_type": "code",
   "execution_count": 82,
   "id": "e4303600",
   "metadata": {},
   "outputs": [
    {
     "data": {
      "text/latex": [
       "$\\displaystyle \\kappa = \\frac{x_{0} y_{0}}{\\Gamma^{2}}$"
      ],
      "text/plain": [
       "Eq(\\kappa, x_0*y_0/\\Gamma**2)"
      ]
     },
     "execution_count": 82,
     "metadata": {},
     "output_type": "execute_result"
    }
   ],
   "source": [
    "FORMULAS.add(\n",
    "    \"KPYDE\", KPYDE, \n",
    "    \"Alternative definition equation for kappa\", \n",
    "    \"Defines kappa in terms of x0, y0, Gamma$\", \n",
    ")"
   ]
  },
  {
   "cell_type": "code",
   "execution_count": 83,
   "id": "4334a47f",
   "metadata": {},
   "outputs": [
    {
     "data": {
      "text/latex": [
       "$\\displaystyle \\frac{\\sqrt{\\kappa}}{\\sqrt{k}} = \\frac{1}{1 - \\sqrt[4]{\\frac{P_{x}}{P_{y}}}}$"
      ],
      "text/plain": [
       "Eq(sqrt(\\kappa)/sqrt(k), 1/(1 - (P_x/P_y)**(1/4)))"
      ]
     },
     "execution_count": 83,
     "metadata": {},
     "output_type": "execute_result"
    }
   ],
   "source": [
    "FORMULAS.add(\n",
    "    \"GSE\", GSE, \n",
    "    \"Gamma scaling equation\", \n",
    "    \"Defines the scaling factor 1/Gamma as function of the range size Py/Px\", \n",
    ")"
   ]
  },
  {
   "cell_type": "code",
   "execution_count": 84,
   "id": "dffc6636",
   "metadata": {},
   "outputs": [
    {
     "data": {
      "text/latex": [
       "$\\displaystyle P_{marg} = \\frac{P_{0} r^{2}}{\\left(\\Gamma \\left(r - 1\\right) - r\\right)^{2}}$"
      ],
      "text/plain": [
       "Eq(P_{marg}, P_0*r**2/(\\Gamma*(r - 1) - r)**2)"
      ]
     },
     "execution_count": 84,
     "metadata": {},
     "output_type": "execute_result"
    }
   ],
   "source": [
    "FORMULAS.add(\n",
    "    \"MPRE\", MPRE, \n",
    "    \"Marginal Price Equation (fixed x/x0)\", \n",
    "    \"this is the same as the Marginal Swap Equation, except that the LHS is recognized as the marginal price; x/x0 = r is fixed\", \n",
    ")"
   ]
  },
  {
   "cell_type": "code",
   "execution_count": 85,
   "id": "4e7f3968",
   "metadata": {},
   "outputs": [
    {
     "data": {
      "text/latex": [
       "$\\displaystyle P_{marg} = \\frac{P_{0}}{\\left(\\Gamma \\left(\\rho - 1\\right) + 1\\right)^{2}}$"
      ],
      "text/plain": [
       "Eq(P_{marg}, P_0/(\\Gamma*(\\rho - 1) + 1)**2)"
      ]
     },
     "execution_count": 85,
     "metadata": {},
     "output_type": "execute_result"
    }
   ],
   "source": [
    "FORMULAS.add(\n",
    "    \"MPRIE\", MPRIE, \n",
    "    \"Marginal Price Equation (fixed x0/x)\", \n",
    "    \"this is the same as the Marginal Swap Equation, except that the LHS is recognized as the marginal price; x/x0 = r is fixed\", \n",
    ")"
   ]
  },
  {
   "cell_type": "markdown",
   "id": "a5f122c4",
   "metadata": {},
   "source": [
    "### B, S equations"
   ]
  },
  {
   "cell_type": "code",
   "execution_count": 86,
   "id": "b789a1ca",
   "metadata": {},
   "outputs": [
    {
     "data": {
      "text/latex": [
       "$\\displaystyle B = \\sqrt{P_{x}}$"
      ],
      "text/plain": [
       "Eq(B, sqrt(P_x))"
      ]
     },
     "execution_count": 86,
     "metadata": {},
     "output_type": "execute_result"
    }
   ],
   "source": [
    "FORMULAS.add(\n",
    "    \"BDE\", BDE, \n",
    "    \"B definition equation\", \n",
    "    \"This equation defines the parameter B = sqrt Px\", \n",
    ")"
   ]
  },
  {
   "cell_type": "code",
   "execution_count": 87,
   "id": "600b72ca",
   "metadata": {},
   "outputs": [
    {
     "data": {
      "text/latex": [
       "$\\displaystyle S = - \\sqrt{P_{x}} + \\sqrt{P_{y}}$"
      ],
      "text/plain": [
       "Eq(S, -sqrt(P_x) + sqrt(P_y))"
      ]
     },
     "execution_count": 87,
     "metadata": {},
     "output_type": "execute_result"
    }
   ],
   "source": [
    "FORMULAS.add(\n",
    "    \"SDE\", SDE, \n",
    "    \"S definition equation\", \n",
    "    \"This equation defines the parameter S = sqrt Py - sqrt Px\", \n",
    ")"
   ]
  },
  {
   "cell_type": "code",
   "execution_count": 88,
   "id": "a33e78cf",
   "metadata": {},
   "outputs": [
    {
     "data": {
      "text/latex": [
       "$\\displaystyle P_{marg} = \\left(B + \\frac{S y}{y_{int}}\\right)^{2}$"
      ],
      "text/plain": [
       "Eq(P_{marg}, (B + S*y/y_{int})**2)"
      ]
     },
     "execution_count": 88,
     "metadata": {},
     "output_type": "execute_result"
    }
   ],
   "source": [
    "FORMULAS.add(\n",
    "    \"MPBSE\", MPBSE, \n",
    "    \"Marginal Price Equation in B,S\", \n",
    "    \"The marginal price equation using B,S parameterization\", \n",
    ")"
   ]
  },
  {
   "cell_type": "code",
   "execution_count": 89,
   "id": "715c4ca3",
   "metadata": {},
   "outputs": [
    {
     "data": {
      "text/latex": [
       "$\\displaystyle y = \\frac{y_{int} \\left(- B + \\sqrt{P_{marg}}\\right)}{S}$"
      ],
      "text/plain": [
       "Eq(y, y_{int}*(-B + sqrt(P_{marg}))/S)"
      ]
     },
     "execution_count": 89,
     "metadata": {},
     "output_type": "execute_result"
    }
   ],
   "source": [
    "FORMULAS.add(\n",
    "    \"YMPE\", YMPE, \n",
    "    \"Marginal Price Equation solved for y\", \n",
    "    \"The marginal price equation using B,S parameterization, solved for y\", \n",
    ")"
   ]
  },
  {
   "cell_type": "markdown",
   "id": "9c4f3040",
   "metadata": {},
   "source": [
    "### Definition equations and other relationships"
   ]
  },
  {
   "cell_type": "code",
   "execution_count": 90,
   "id": "029a7516",
   "metadata": {},
   "outputs": [
    {
     "data": {
      "text/latex": [
       "$\\displaystyle Q = \\left(1 - \\Gamma\\right)^{2}$"
      ],
      "text/plain": [
       "Eq(Q, (1 - \\Gamma)**2)"
      ]
     },
     "execution_count": 90,
     "metadata": {},
     "output_type": "execute_result"
    }
   ],
   "source": [
    "FORMULAS.add(\n",
    "    \"QGDE\", QGDE, \n",
    "    \"Q Gamma Definition Equation\", \n",
    "    \"Gamma as a function of Q\", \n",
    ")"
   ]
  },
  {
   "cell_type": "code",
   "execution_count": 91,
   "id": "26ec2afd",
   "metadata": {},
   "outputs": [
    {
     "data": {
      "text/latex": [
       "$\\displaystyle \\Gamma = 1 - \\sqrt{Q}$"
      ],
      "text/plain": [
       "Eq(\\Gamma, 1 - sqrt(Q))"
      ]
     },
     "execution_count": 91,
     "metadata": {},
     "output_type": "execute_result"
    }
   ],
   "source": [
    "FORMULAS.add(\n",
    "    \"GQE\", GQE, \n",
    "    \"Gamma Q Equation\", \n",
    "    \"Gamma as a function of Q\", \n",
    ")"
   ]
  },
  {
   "cell_type": "code",
   "execution_count": 92,
   "id": "18fe74f9",
   "metadata": {},
   "outputs": [
    {
     "data": {
      "text/latex": [
       "$\\displaystyle \\frac{2 - \\Gamma}{1 - \\Gamma} = 1 + \\frac{1}{\\sqrt{Q}}$"
      ],
      "text/plain": [
       "Eq((2 - \\Gamma)/(1 - \\Gamma), 1 + 1/sqrt(Q))"
      ]
     },
     "execution_count": 92,
     "metadata": {},
     "output_type": "execute_result"
    }
   ],
   "source": [
    "FORMULAS.add(\n",
    "    \"GFQE\", GFQE, \n",
    "    \"Gamma Q Formula Equation\", \n",
    "    \"an important relationship between functions of Gamma and Q\", \n",
    ")"
   ]
  },
  {
   "cell_type": "code",
   "execution_count": 93,
   "id": "9a07190c",
   "metadata": {},
   "outputs": [
    {
     "data": {
      "text/latex": [
       "$\\displaystyle x_{int} = \\frac{x_{0} \\left(2 - \\Gamma\\right)}{1 - \\Gamma}$"
      ],
      "text/plain": [
       "Eq(x_{int}, x_0*(2 - \\Gamma)/(1 - \\Gamma))"
      ]
     },
     "execution_count": 93,
     "metadata": {},
     "output_type": "execute_result"
    }
   ],
   "source": [
    "FORMULAS.add(\n",
    "    \"XiDE\", XiDE, \n",
    "    \"Xint Definition Equation\", \n",
    "    \"xint as function of x0 and Gamma\", \n",
    ")"
   ]
  },
  {
   "cell_type": "code",
   "execution_count": 94,
   "id": "fc95c47f",
   "metadata": {},
   "outputs": [
    {
     "data": {
      "text/latex": [
       "$\\displaystyle y_{int} = \\frac{y_{0} \\left(2 - \\Gamma\\right)}{1 - \\Gamma}$"
      ],
      "text/plain": [
       "Eq(y_{int}, y_0*(2 - \\Gamma)/(1 - \\Gamma))"
      ]
     },
     "execution_count": 94,
     "metadata": {},
     "output_type": "execute_result"
    }
   ],
   "source": [
    "FORMULAS.add(\n",
    "    \"YiDE\", YiDE, \n",
    "    \"Yint Definition Equation\", \n",
    "    \"xint as function of y0 and Gamma\", \n",
    ")"
   ]
  },
  {
   "cell_type": "code",
   "execution_count": 95,
   "id": "a9ac5b75",
   "metadata": {},
   "outputs": [
    {
     "data": {
      "text/latex": [
       "$\\displaystyle x_{int} = x_{0} \\left(1 + \\frac{1}{\\sqrt{Q}}\\right)$"
      ],
      "text/plain": [
       "Eq(x_{int}, x_0*(1 + 1/sqrt(Q)))"
      ]
     },
     "execution_count": 95,
     "metadata": {},
     "output_type": "execute_result"
    }
   ],
   "source": [
    "FORMULAS.add(\n",
    "    \"XiQE\", XiQE, \n",
    "    \"Xint Q Equation\", \n",
    "    \"xint as function of x0 and Q\", \n",
    ")"
   ]
  },
  {
   "cell_type": "code",
   "execution_count": 96,
   "id": "996c0fd5",
   "metadata": {},
   "outputs": [
    {
     "data": {
      "text/latex": [
       "$\\displaystyle y_{int} = y_{0} \\left(1 + \\frac{1}{\\sqrt{Q}}\\right)$"
      ],
      "text/plain": [
       "Eq(y_{int}, y_0*(1 + 1/sqrt(Q)))"
      ]
     },
     "execution_count": 96,
     "metadata": {},
     "output_type": "execute_result"
    }
   ],
   "source": [
    "FORMULAS.add(\n",
    "    \"YiQE\", YiQE, \n",
    "    \"Yint Q Equation\", \n",
    "    \"yint as function of y0 and Q\", \n",
    ")"
   ]
  },
  {
   "cell_type": "code",
   "execution_count": 97,
   "id": "a4a6fd5d",
   "metadata": {},
   "outputs": [
    {
     "data": {
      "text/latex": [
       "$\\displaystyle P_{x} = P_{0} Q$"
      ],
      "text/plain": [
       "Eq(P_x, P_0*Q)"
      ]
     },
     "execution_count": 97,
     "metadata": {},
     "output_type": "execute_result"
    }
   ],
   "source": [
    "FORMULAS.add(\n",
    "    \"PxDE\", PxDE, \n",
    "    \"Px Equation\", \n",
    "    \"Px as function of P and Q\", \n",
    ")"
   ]
  },
  {
   "cell_type": "code",
   "execution_count": 98,
   "id": "fe77f77f",
   "metadata": {},
   "outputs": [
    {
     "data": {
      "text/latex": [
       "$\\displaystyle P_{y} = \\frac{P_{0}}{Q}$"
      ],
      "text/plain": [
       "Eq(P_y, P_0/Q)"
      ]
     },
     "execution_count": 98,
     "metadata": {},
     "output_type": "execute_result"
    }
   ],
   "source": [
    "FORMULAS.add(\n",
    "    \"PyDE\", PyDE, \n",
    "    \"Py Equation\", \n",
    "    \"Py as function of P and Q\", \n",
    ")"
   ]
  },
  {
   "cell_type": "code",
   "execution_count": 99,
   "id": "8df02181",
   "metadata": {},
   "outputs": [
    {
     "data": {
      "text/latex": [
       "$\\displaystyle P_{0} = \\frac{y_{0}}{x_{0}}$"
      ],
      "text/plain": [
       "Eq(P_0, y_0/x_0)"
      ]
     },
     "execution_count": 99,
     "metadata": {},
     "output_type": "execute_result"
    }
   ],
   "source": [
    "FORMULAS.add(\n",
    "    \"PXYE\", PXYE, \n",
    "    \"PXY Equation\", \n",
    "    \"P as a function of x0 and y0\", \n",
    ")"
   ]
  },
  {
   "cell_type": "code",
   "execution_count": 100,
   "id": "0169c727",
   "metadata": {},
   "outputs": [
    {
     "data": {
      "text/latex": [
       "$\\displaystyle P_{0} = \\frac{y_{int}}{x_{int}}$"
      ],
      "text/plain": [
       "Eq(P_0, y_{int}/x_{int})"
      ]
     },
     "execution_count": 100,
     "metadata": {},
     "output_type": "execute_result"
    }
   ],
   "source": [
    "FORMULAS.add(\n",
    "    \"PXYiE\", PXYiE, \n",
    "    \"PXYi Equation\", \n",
    "    \"P as a function of xint and yint\", \n",
    ")"
   ]
  },
  {
   "cell_type": "code",
   "execution_count": 101,
   "id": "4e7fce13",
   "metadata": {},
   "outputs": [
    {
     "data": {
      "text/latex": [
       "$\\displaystyle Q = \\sqrt{\\frac{P_{x}}{P_{y}}}$"
      ],
      "text/plain": [
       "Eq(Q, sqrt(P_x/P_y))"
      ]
     },
     "execution_count": 101,
     "metadata": {},
     "output_type": "execute_result"
    }
   ],
   "source": [
    "FORMULAS.add(\n",
    "    \"QPE\", QPE, \n",
    "    \"QP Equation\", \n",
    "    \"Q as a function of Px and Py\", \n",
    ")"
   ]
  },
  {
   "cell_type": "code",
   "execution_count": 102,
   "id": "789af433",
   "metadata": {},
   "outputs": [
    {
     "data": {
      "text/latex": [
       "$\\displaystyle w = \\frac{P_{y}}{P_{x}}$"
      ],
      "text/plain": [
       "Eq(w, P_y/P_x)"
      ]
     },
     "execution_count": 102,
     "metadata": {},
     "output_type": "execute_result"
    }
   ],
   "source": [
    "FORMULAS.add(\n",
    "    \"WDE\", WDE, \n",
    "    \"Range width definition equation\", \n",
    "    \"w as ratio Py/Px \", \n",
    ")"
   ]
  },
  {
   "cell_type": "code",
   "execution_count": 103,
   "id": "56913f1a",
   "metadata": {},
   "outputs": [
    {
     "data": {
      "text/latex": [
       "$\\displaystyle w = \\frac{1}{Q^{2}}$"
      ],
      "text/plain": [
       "Eq(w, Q**(-2))"
      ]
     },
     "execution_count": 103,
     "metadata": {},
     "output_type": "execute_result"
    }
   ],
   "source": [
    "FORMULAS.add(\n",
    "    \"WE\", WE, \n",
    "    \"Range width equation\", \n",
    "    \"Py/Px as a function of Q\", \n",
    ")"
   ]
  },
  {
   "cell_type": "code",
   "execution_count": 104,
   "id": "f76dcc95",
   "metadata": {},
   "outputs": [
    {
     "data": {
      "text/latex": [
       "$\\displaystyle P_{0} = \\sqrt{P_{x} P_{y}}$"
      ],
      "text/plain": [
       "Eq(P_0, sqrt(P_x*P_y))"
      ]
     },
     "execution_count": 104,
     "metadata": {},
     "output_type": "execute_result"
    }
   ],
   "source": [
    "FORMULAS.add(\n",
    "    \"PPE\", PPE, \n",
    "    \"PP Equation\", \n",
    "    \"P as a function of Px and Py\", \n",
    ")"
   ]
  },
  {
   "cell_type": "code",
   "execution_count": 105,
   "id": "b12fae67",
   "metadata": {},
   "outputs": [
    {
     "data": {
      "text/latex": [
       "$\\displaystyle x_{int} = \\frac{y_{int}}{\\sqrt{P_{x} P_{y}}}$"
      ],
      "text/plain": [
       "Eq(x_{int}, y_{int}/sqrt(P_x*P_y))"
      ]
     },
     "execution_count": 105,
     "metadata": {},
     "output_type": "execute_result"
    }
   ],
   "source": [
    "FORMULAS.add(\n",
    "    \"XiPE\", XiPE, \n",
    "    \"Xint from P\", \n",
    "    \"xint as function of Px and Py\", \n",
    ")"
   ]
  },
  {
   "cell_type": "code",
   "execution_count": 106,
   "id": "79da00d5",
   "metadata": {},
   "outputs": [
    {
     "data": {
      "text/latex": [
       "$\\displaystyle x_{int} = \\frac{y_{int}}{\\sqrt{P_{x} P_{y}}}$"
      ],
      "text/plain": [
       "Eq(x_{int}, y_{int}/sqrt(P_x*P_y))"
      ]
     },
     "execution_count": 106,
     "metadata": {},
     "output_type": "execute_result"
    }
   ],
   "source": [
    "FORMULAS.add(\n",
    "    \"YiPE\", XiPE, \n",
    "    \"yint from P\", \n",
    "    \"yint as function of Px and Py\", \n",
    ")"
   ]
  },
  {
   "cell_type": "code",
   "execution_count": 107,
   "id": "33d5a8ec",
   "metadata": {},
   "outputs": [
    {
     "data": {
      "text/latex": [
       "$\\displaystyle x_{asym} = x_{0} \\left(1 - \\frac{1}{\\Gamma}\\right)$"
      ],
      "text/plain": [
       "Eq(x_{asym}, x_0*(1 - 1/\\Gamma))"
      ]
     },
     "execution_count": 107,
     "metadata": {},
     "output_type": "execute_result"
    }
   ],
   "source": [
    "FORMULAS.add(\n",
    "    \"XADE\", XADE, \n",
    "    \"Definition equation for xasym\", \n",
    "    \"Defines $x_{asym}$ in terms of x0, Gamma\", \n",
    ")"
   ]
  },
  {
   "cell_type": "code",
   "execution_count": 108,
   "id": "93276018",
   "metadata": {},
   "outputs": [
    {
     "data": {
      "text/latex": [
       "$\\displaystyle y_{asym} = y_{0} \\left(1 - \\frac{1}{\\Gamma}\\right)$"
      ],
      "text/plain": [
       "Eq(y_{asym}, y_0*(1 - 1/\\Gamma))"
      ]
     },
     "execution_count": 108,
     "metadata": {},
     "output_type": "execute_result"
    }
   ],
   "source": [
    "FORMULAS.add(\n",
    "    \"YADE\", YADE, \n",
    "    \"Definition equation for yasym\", \n",
    "    \"Defines $y_{asym}$ in terms of y0, Gamma\", \n",
    ")"
   ]
  },
  {
   "cell_type": "code",
   "execution_count": 109,
   "id": "e7ece1b1",
   "metadata": {},
   "outputs": [
    {
     "data": {
      "text/latex": [
       "$\\displaystyle y_{asym} = P_{0} x_{0} \\left(1 - \\frac{1}{\\Gamma}\\right)$"
      ],
      "text/plain": [
       "Eq(y_{asym}, P_0*x_0*(1 - 1/\\Gamma))"
      ]
     },
     "execution_count": 109,
     "metadata": {},
     "output_type": "execute_result"
    }
   ],
   "source": [
    "FORMULAS.add(\n",
    "    \"YAXDE\", YAXDE, \n",
    "    \"Alternative definition equation for yasym\", \n",
    "    \"Defines $y_{asym}$ in terms of x0, P0, Gamma\", \n",
    ")"
   ]
  },
  {
   "cell_type": "code",
   "execution_count": 110,
   "id": "a12f217e",
   "metadata": {},
   "outputs": [
    {
     "data": {
      "text/latex": [
       "$\\displaystyle \\kappa = \\frac{P_{0} x_{0}^{2}}{\\Gamma^{2}}$"
      ],
      "text/plain": [
       "Eq(\\kappa, P_0*x_0**2/\\Gamma**2)"
      ]
     },
     "execution_count": 110,
     "metadata": {},
     "output_type": "execute_result"
    }
   ],
   "source": [
    "FORMULAS.add(\n",
    "    \"KPDE\", KPDE, \n",
    "    \"Definition equation for kappa$\", \n",
    "    \"Defines $\\kappa$ in terms of x0, P0, Gamma\", \n",
    ")"
   ]
  },
  {
   "cell_type": "code",
   "execution_count": 111,
   "id": "b2e8a2ae",
   "metadata": {},
   "outputs": [
    {
     "data": {
      "text/latex": [
       "$\\displaystyle x_{0} = r x$"
      ],
      "text/plain": [
       "Eq(x_0, r*x)"
      ]
     },
     "execution_count": 111,
     "metadata": {},
     "output_type": "execute_result"
    }
   ],
   "source": [
    "FORMULAS.add(\n",
    "    \"RXE\", RXE, \n",
    "    \"Ratio equation (x/x0)\", \n",
    "    \"Defines r as the ratio x/x0\", \n",
    ")"
   ]
  },
  {
   "cell_type": "code",
   "execution_count": 112,
   "id": "4cff90b6",
   "metadata": {},
   "outputs": [
    {
     "data": {
      "text/latex": [
       "$\\displaystyle x = \\rho x_{0}$"
      ],
      "text/plain": [
       "Eq(x, \\rho*x_0)"
      ]
     },
     "execution_count": 112,
     "metadata": {},
     "output_type": "execute_result"
    }
   ],
   "source": [
    "FORMULAS.add(\n",
    "    \"RXIE\", RXIE, \n",
    "    \"Inverse ratio equation (x0/x)\", \n",
    "    \"Defines rho as the ratio x0/x\", \n",
    ")"
   ]
  }
 ],
 "metadata": {
  "jupytext": {
   "encoding": "# -*- coding: utf-8 -*-",
   "formats": "ipynb,py:light"
  },
  "kernelspec": {
   "display_name": "Python 3",
   "language": "python",
   "name": "python3"
  },
  "language_info": {
   "codemirror_mode": {
    "name": "ipython",
    "version": 3
   },
   "file_extension": ".py",
   "mimetype": "text/x-python",
   "name": "python",
   "nbconvert_exporter": "python",
   "pygments_lexer": "ipython3",
   "version": "3.8.8"
  }
 },
 "nbformat": 4,
 "nbformat_minor": 5
}
