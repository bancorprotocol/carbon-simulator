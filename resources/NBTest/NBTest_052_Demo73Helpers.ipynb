{
 "cells": [
  {
   "cell_type": "code",
   "execution_count": 62,
   "id": "ce011baf",
   "metadata": {},
   "outputs": [
    {
     "name": "stdout",
     "output_type": "stream",
     "text": [
      "Carbon v2.3 (29/Jan/2022)\n"
     ]
    }
   ],
   "source": [
    "from carbon.helpers.stdimports import *\n",
    "\n",
    "# those are not available at the helpers level\n",
    "from carbon.helpers.version import VersionRequirementNotMetError\n",
    "from carbon.helpers.simulation import run_sim, plot_sim\n",
    "from carbon.helpers.widgets import CheckboxManager, DropdownManager, PcSliderManager\n",
    "\n",
    "# that's part of the test, that all those import from the helpers level\n",
    "from carbon.helpers import fload, fsave\n",
    "from carbon.helpers import Params\n",
    "from carbon.helpers import pdread, pathtime, pathtime_yrs, pathtime_days, pdcols, j\n",
    "from carbon.helpers import strategy\n",
    "from carbon.helpers import require_version\n",
    "from carbon.helpers import print_version\n",
    "\n",
    "plt.style.use('seaborn-dark')\n",
    "plt.rcParams['figure.figsize'] = [12,6]\n",
    "print_version(require=\"2.2.4\")"
   ]
  },
  {
   "cell_type": "markdown",
   "id": "edf6bdb6",
   "metadata": {},
   "source": [
    "# Carbon Helpers (NBTest 052)"
   ]
  },
  {
   "cell_type": "markdown",
   "id": "ac73283b",
   "metadata": {},
   "source": [
    "## params"
   ]
  },
  {
   "cell_type": "code",
   "execution_count": 63,
   "id": "86c2eb50",
   "metadata": {},
   "outputs": [
    {
     "name": "stdout",
     "output_type": "stream",
     "text": [
      "Params.construct({'a': 1, 'b': 2})\n",
      "'z'\n"
     ]
    }
   ],
   "source": [
    "p = Params(a=1, b=2)\n",
    "assert p[\"a\"] == 1\n",
    "assert p.a == 1\n",
    "assert p[\"c\"] is None\n",
    "print(p)\n",
    "assert str(p) == \"Params.construct({'a': 1, 'b': 2})\"\n",
    "assert p.params == {'a': 1, 'b': 2}\n",
    "p[\"c\"] = 5\n",
    "assert p[\"c\"] == 5\n",
    "assert p.c == 5\n",
    "result = p.add(d=10, e=11)\n",
    "assert result is p\n",
    "assert p[\"d\"] == 10\n",
    "assert p.e == 11\n",
    "try:\n",
    "    p.z\n",
    "    raise RuntimeError(\"should raise\")\n",
    "except KeyError as e:\n",
    "    print(e)"
   ]
  },
  {
   "cell_type": "code",
   "execution_count": 64,
   "id": "5394b2ac",
   "metadata": {},
   "outputs": [],
   "source": [
    "p = Params(a=1, b=2)\n",
    "assert p.defaults == {}\n",
    "p.set_default(b=20, c=3)\n",
    "assert str(p) == \"Params.construct({'a': 1, 'b': 2}, defaults={'b': 20, 'c': 3})\"\n",
    "assert p.b == 2\n",
    "assert p.get_default(\"b\") == 20\n",
    "assert p.c == 3\n",
    "\n",
    "p = Params(a=1, b=2)\n",
    "assert p.get_default(\"c\") is None\n",
    "result = p.set_default()\n",
    "assert result is p\n",
    "p.set_default(c=10, d=11)\n",
    "assert p.c == 10\n",
    "assert p.d == 11\n",
    "assert p.defaults == {'c': 10, 'd': 11}\n",
    "assert p[\"e\"] is None\n",
    "try:\n",
    "    p.e\n",
    "    raise RuntimeError(\"should raise\")\n",
    "except KeyError as e:\n",
    "    pass"
   ]
  },
  {
   "cell_type": "code",
   "execution_count": 65,
   "id": "4e36a8e5",
   "metadata": {},
   "outputs": [
    {
     "name": "stdout",
     "output_type": "stream",
     "text": [
      "('Must not provide default in both constructor and dct', Params.construct({'a': 1, 'b': 2}, defaults={'b': 20, 'c': 3}), {'e': 100})\n"
     ]
    }
   ],
   "source": [
    "p = Params.construct({'a': 1, 'b': 2}, defaults={'b': 20, 'c': 3})\n",
    "assert p.a == 1\n",
    "assert p.b == 2\n",
    "assert p.c == 3\n",
    "assert p.get_default(\"b\") == 20\n",
    "pp = Params.construct(p)\n",
    "assert not pp is p\n",
    "assert p.params == pp.params\n",
    "try:\n",
    "    ppp = Params.construct(p, defaults={\"e\":100})\n",
    "except ValueError as e:\n",
    "    print(e)"
   ]
  },
  {
   "cell_type": "code",
   "execution_count": 66,
   "id": "63eb33aa",
   "metadata": {},
   "outputs": [],
   "source": [
    "p  = Params.construct({'a': 1, 'b': 2})\n",
    "defaults = {'b': 20, 'c': 3}\n",
    "pp = Params.construct(p, defaults=defaults)\n",
    "assert not pp is p\n",
    "assert p.params == pp.params\n",
    "assert pp.defaults == defaults\n",
    "assert not pp.defaults is defaults\n",
    "assert not pp._defaults is defaults"
   ]
  },
  {
   "cell_type": "code",
   "execution_count": 67,
   "id": "7f969db3",
   "metadata": {},
   "outputs": [],
   "source": [
    "p = Params.construct()\n",
    "assert p.params == {}\n",
    "p = Params.construct(None)\n",
    "assert p.params == {}"
   ]
  },
  {
   "cell_type": "markdown",
   "id": "a38851dc",
   "metadata": {},
   "source": [
    "## widgets [NOTEST]\n",
    "\n",
    "https://ipywidgets.readthedocs.io/en/7.6.3/examples/Widget%20Styling.html#The-Flexbox-layout"
   ]
  },
  {
   "cell_type": "code",
   "execution_count": 68,
   "id": "5775698e",
   "metadata": {},
   "outputs": [
    {
     "data": {
      "application/vnd.jupyter.widget-view+json": {
       "model_id": "4519f8c0771c486ca3dc8bee3bcb1474",
       "version_major": 2,
       "version_minor": 0
      },
      "text/plain": [
       "HBox(children=(Checkbox(value=False, description='0'), Checkbox(value=False, description='1'), Checkbox(value=…"
      ]
     },
     "metadata": {},
     "output_type": "display_data"
    }
   ],
   "source": [
    "CM1 = CheckboxManager([i for i in range(10)])\n",
    "CM1(vertical=False)"
   ]
  },
  {
   "cell_type": "code",
   "execution_count": 69,
   "id": "37b2b319",
   "metadata": {},
   "outputs": [
    {
     "data": {
      "application/vnd.jupyter.widget-view+json": {
       "model_id": "223d46222cc54c62a9bf0a17a734e947",
       "version_major": 2,
       "version_minor": 0
      },
      "text/plain": [
       "VBox(children=(Checkbox(value=False, description='6789754370'), Checkbox(value=False, description='7468729807'…"
      ]
     },
     "metadata": {},
     "output_type": "display_data"
    }
   ],
   "source": [
    "CM2 = CheckboxManager({i:678975437*(i+10) for i in range(5)}, objects=(\"a\", \"b\", \"c\", \"d\", \"e\"))\n",
    "CM2()"
   ]
  },
  {
   "cell_type": "code",
   "execution_count": 70,
   "id": "ec7b1ccd",
   "metadata": {},
   "outputs": [
    {
     "data": {
      "text/plain": [
       "((), ('a', 'b', 'c', 'd', 'e'))"
      ]
     },
     "execution_count": 70,
     "metadata": {},
     "output_type": "execute_result"
    }
   ],
   "source": [
    "CM2.objects(), CM2.objects(checked=False)"
   ]
  },
  {
   "cell_type": "code",
   "execution_count": 71,
   "id": "11c022bd",
   "metadata": {},
   "outputs": [
    {
     "data": {
      "application/vnd.jupyter.widget-view+json": {
       "model_id": "2f86f8b617a94be8b4512bb2ed58c35e",
       "version_major": 2,
       "version_minor": 0
      },
      "text/plain": [
       "VBox(children=(FloatSlider(value=0.0, continuous_update=False, description='Slider #1', readout_format='.1f'),…"
      ]
     },
     "metadata": {},
     "output_type": "display_data"
    }
   ],
   "source": [
    "SM = PcSliderManager([f\"Slider #{i+1}\" for i in range(5)])\n",
    "SM()"
   ]
  },
  {
   "cell_type": "code",
   "execution_count": 72,
   "id": "ddace68a",
   "metadata": {},
   "outputs": [
    {
     "data": {
      "text/plain": [
       "(0.0, 0.0, 0.0, 0.0, 0.0)"
      ]
     },
     "execution_count": 72,
     "metadata": {},
     "output_type": "execute_result"
    }
   ],
   "source": [
    "SM.values"
   ]
  },
  {
   "cell_type": "code",
   "execution_count": 73,
   "id": "78c29725",
   "metadata": {},
   "outputs": [
    {
     "data": {
      "application/vnd.jupyter.widget-view+json": {
       "model_id": "d57b9bd9ac684e62a13734299460d52d",
       "version_major": 2,
       "version_minor": 0
      },
      "text/plain": [
       "Dropdown(options=(('6789754370', '6789754370'), ('7468729807', '7468729807'), ('8147705244', '8147705244'), ('…"
      ]
     },
     "metadata": {},
     "output_type": "display_data"
    }
   ],
   "source": [
    "DD = DropdownManager([678975437*(i+10) for i in range(5)])\n",
    "DD()"
   ]
  },
  {
   "cell_type": "code",
   "execution_count": 74,
   "id": "485a0635",
   "metadata": {},
   "outputs": [
    {
     "name": "stdout",
     "output_type": "stream",
     "text": [
      "(False, False, False, False, False, False, False, False, False, False) (False, False, False, False, False) 6789754370\n"
     ]
    }
   ],
   "source": [
    "print(CM1.values, CM2.values, DD.value)"
   ]
  },
  {
   "cell_type": "markdown",
   "id": "ed7a7ce4",
   "metadata": {},
   "source": [
    "## widgets"
   ]
  },
  {
   "cell_type": "code",
   "execution_count": 75,
   "id": "11a0421c",
   "metadata": {},
   "outputs": [
    {
     "name": "stdout",
     "output_type": "stream",
     "text": [
      "('len(values) [2] must be len(choices) [3]', [10, 0], [1, 2, 3])\n",
      "('len(disabled) [2] must be len(choices) [3]', [10, 0], [1, 2, 3])\n"
     ]
    }
   ],
   "source": [
    "CM = CheckboxManager([1,2,3], None)\n",
    "assert CM.choice_ids == ('1', '2', '3')\n",
    "assert CM.choice_descr == ('1', '2', '3')\n",
    "assert CM.values == (False, False, False)\n",
    "assert CheckboxManager({1:11, 2:12}).choice_ids == ('1', '2')\n",
    "assert CheckboxManager({1:11, 2:12}).choice_descr == ('11', '12')\n",
    "assert CheckboxManager([1,2,3], False).values == (False, False, False)\n",
    "assert CheckboxManager([1,2,3], True).values == (True, True, True)\n",
    "assert CheckboxManager([1,2,3], [10,0,1]).values == (True, False, True)\n",
    "assert CheckboxManager([1,2,3], disabled=[10,0,1]).disabled == (True, False, True)\n",
    "assert CheckboxManager.from_idvdct({10:10,12:0}).choice_ids == ('10', '12')\n",
    "assert CheckboxManager.from_idvdct({10:10,12:0}).choice_descr == ('10', '12')\n",
    "assert CheckboxManager.from_idvdct({10:10,12:0}).values == (True, False)\n",
    "try:\n",
    "    CheckboxManager([1,2,3], [10,0])\n",
    "    raise\n",
    "except ValueError as e:\n",
    "    print(e)\n",
    "try:\n",
    "    CheckboxManager([1,2,3], disabled=[10,0])\n",
    "    raise\n",
    "except ValueError as e:\n",
    "    print(e)"
   ]
  },
  {
   "cell_type": "code",
   "execution_count": 76,
   "id": "0048c035",
   "metadata": {},
   "outputs": [
    {
     "name": "stdout",
     "output_type": "stream",
     "text": [
      "('len(values) [2] must be len(choices) [3]', [10, 0], [1, 2, 3])\n",
      "('len(disabled) [2] must be len(choices) [3]', [10, 0], [1, 2, 3])\n"
     ]
    }
   ],
   "source": [
    "assert PcSliderManager({1:11, 2:12}).choice_ids == ('1', '2')\n",
    "assert PcSliderManager({1:11, 2:12}).choice_descr == ('11', '12')\n",
    "assert PcSliderManager([1,2,3], None).values == (0.,)*3\n",
    "assert PcSliderManager([1,2,3], 0.3).values == (0.3, 0.3, 0.3)\n",
    "assert PcSliderManager([1,2,3], [2,0.5,-1]).values == (1, 0.5, 0)\n",
    "assert PcSliderManager([1,2,3], disabled=[10,0,1]).disabled == (True, False, True)\n",
    "try:\n",
    "    PcSliderManager([1,2,3], [10,0])\n",
    "    raise\n",
    "except ValueError as e:\n",
    "    print(e)\n",
    "try:\n",
    "    PcSliderManager([1,2,3], disabled=[10,0])\n",
    "    raise\n",
    "except ValueError as e:\n",
    "    print(e)"
   ]
  },
  {
   "cell_type": "code",
   "execution_count": 77,
   "id": "a03fc618",
   "metadata": {},
   "outputs": [],
   "source": [
    "assert DropdownManager([1,2,3]).options == ('1', '2', '3')\n",
    "assert DropdownManager([1,2,3]).labels == ('1', '2', '3')\n",
    "assert DropdownManager([1,2,3], labels=[10,20,30]).options == ('1', '2', '3')\n",
    "assert DropdownManager([1,2,3], labels=[10,20,30]).labels == ('10', '20', '30')\n",
    "assert DropdownManager({1:10, 2:20, 3:30}).options == ('1', '2', '3')\n",
    "assert DropdownManager({1:10, 2:20, 3:30}).labels == ('10', '20', '30')\n",
    "assert DropdownManager({1:10, 2:20, 3:30}).value == \"1\"\n",
    "assert DropdownManager({1:10, 2:20, 3:30}).label == \"10\"\n",
    "assert DropdownManager({1:10, 2:20, 3:30}).result == (\"1\", \"10\")"
   ]
  },
  {
   "cell_type": "markdown",
   "id": "e97b14b6",
   "metadata": {},
   "source": [
    "## helpers stdimport"
   ]
  },
  {
   "cell_type": "markdown",
   "id": "526cbe0f",
   "metadata": {},
   "source": [
    "check that the following objects have been imported"
   ]
  },
  {
   "cell_type": "code",
   "execution_count": 78,
   "id": "4f358572",
   "metadata": {},
   "outputs": [
    {
     "data": {
      "text/plain": [
       "carbon.pair.CarbonPair"
      ]
     },
     "execution_count": 78,
     "metadata": {},
     "output_type": "execute_result"
    }
   ],
   "source": [
    "np\n",
    "plt\n",
    "pd\n",
    "CarbonSimulatorUI\n",
    "CarbonOrderUI\n",
    "P"
   ]
  },
  {
   "cell_type": "code",
   "execution_count": 79,
   "id": "fd7ac22e",
   "metadata": {},
   "outputs": [
    {
     "data": {
      "text/plain": [
       "<function math.log>"
      ]
     },
     "execution_count": 79,
     "metadata": {},
     "output_type": "execute_result"
    }
   ],
   "source": [
    "sqrt\n",
    "exp\n",
    "log"
   ]
  },
  {
   "cell_type": "markdown",
   "id": "a718e9cf",
   "metadata": {},
   "source": [
    "## helpers version"
   ]
  },
  {
   "cell_type": "code",
   "execution_count": 80,
   "id": "dac6ee5d",
   "metadata": {},
   "outputs": [],
   "source": [
    "assert require_version(\"1.0\", \"1.0\", raiseonfail=False) == True\n",
    "assert require_version(\"2.0\", \"1.0\", raiseonfail=False) == False\n",
    "assert require_version(\"1.0\", \"2.0\", raiseonfail=False) == True\n",
    "assert require_version(\"1.0.1\", \"1.0\", raiseonfail=False) == False\n",
    "assert require_version(\"1.0\", \"1.0.1\", raiseonfail=False) == True\n",
    "assert require_version(\"1.0\", \"11.0\", raiseonfail=False) == True\n",
    "assert require_version(\"11.0\", \"1.0\", raiseonfail=False) == False\n",
    "assert require_version(\"1.3beta1\", \"1.3\", raiseonfail=False) == True\n",
    "assert require_version(\"1.3beta1\", \"1.3beta1\", raiseonfail=False) == True\n",
    "assert require_version(\"1.3-1\", \"1.3-2\", raiseonfail=False) == True\n",
    "assert require_version(\"1.3-2\", \"1.3-1\", raiseonfail=False) == True\n",
    "assert require_version(\"1.0\", \"1.0\", raiseonfail=False) == True\n",
    "assert require_version(\"1.0\", \"1.0\", raiseonfail=False) == True"
   ]
  },
  {
   "cell_type": "markdown",
   "id": "f860f9f3",
   "metadata": {},
   "source": [
    "obviously must be tested with version >= 2.0"
   ]
  },
  {
   "cell_type": "code",
   "execution_count": 81,
   "id": "90eb4f02",
   "metadata": {},
   "outputs": [],
   "source": [
    "require_version(\"2.0\")"
   ]
  },
  {
   "cell_type": "code",
   "execution_count": 82,
   "id": "7c3fc54e",
   "metadata": {},
   "outputs": [],
   "source": [
    "require_version(\"1.0\", \"1.0\")"
   ]
  },
  {
   "cell_type": "code",
   "execution_count": 83,
   "id": "85859a6b",
   "metadata": {},
   "outputs": [
    {
     "name": "stdout",
     "output_type": "stream",
     "text": [
      "('Version requirements not met (required = [2, 0], actual = [1, 0])', '2.0', '1.0')\n"
     ]
    }
   ],
   "source": [
    "try:\n",
    "    require_version(\"2.0\", \"1.0\")\n",
    "    run(\"must raise error\")\n",
    "except VersionRequirementNotMetError as e:\n",
    "    print(e)"
   ]
  },
  {
   "cell_type": "markdown",
   "id": "4eef2211",
   "metadata": {},
   "source": [
    "## helpers strategy"
   ]
  },
  {
   "cell_type": "code",
   "execution_count": 84,
   "id": "c9d0a3e6",
   "metadata": {},
   "outputs": [],
   "source": [
    "# from carbon.helpers import strategy as _strategy\n",
    "# help(_strategy)"
   ]
  },
  {
   "cell_type": "code",
   "execution_count": 85,
   "id": "8bde078b",
   "metadata": {},
   "outputs": [],
   "source": [
    "# assert strategy.from_mgw() == strategy(p_buy_a=100.0, p_buy_b=100.0, p_sell_a=100, p_sell_b=100, \n",
    "#                                        amt_rsk=0, amt_csh=0, rsk='RSK', csh='CSH')"
   ]
  },
  {
   "cell_type": "code",
   "execution_count": 86,
   "id": "1c7574c2",
   "metadata": {},
   "outputs": [],
   "source": [
    "assert strategy.from_mgw(m=100) == strategy.from_mgw()\n",
    "assert strategy.from_mgw(g=0) == strategy.from_mgw()\n",
    "assert strategy.from_mgw(w=0) == strategy.from_mgw()"
   ]
  },
  {
   "cell_type": "code",
   "execution_count": 87,
   "id": "f7debb17",
   "metadata": {},
   "outputs": [],
   "source": [
    "assert strategy.from_mgw(g=0.1).p_buy_a == 100/(1.05)\n",
    "assert strategy.from_mgw(g=0.1).p_sell_a == 100*(1.05)\n",
    "assert strategy.from_mgw(g=0.1).p_buy_b/strategy.from_mgw(g=0.1).p_buy_a > 0.999\n",
    "assert strategy.from_mgw(g=0.1).p_buy_b/strategy.from_mgw(g=0.1).p_buy_a < 1.001\n",
    "assert strategy.from_mgw(g=0.1).p_sell_b / strategy.from_mgw(g=0.1).p_sell_a < 1.001\n",
    "assert strategy.from_mgw(g=0.1).p_sell_b / strategy.from_mgw(g=0.1).p_sell_a > 0.999"
   ]
  },
  {
   "cell_type": "code",
   "execution_count": 88,
   "id": "48e433b5",
   "metadata": {},
   "outputs": [],
   "source": [
    "assert strategy.from_mgw(w=0.1).p_buy_a / strategy.from_mgw(w=0.1).p_sell_a > 0.999\n",
    "assert strategy.from_mgw(w=0.1).p_buy_b / (100/1.1) > 0.999\n",
    "assert strategy.from_mgw(w=0.1).p_buy_b / (100/1.1) < 1.001\n",
    "assert strategy.from_mgw(w=0.1).p_sell_b / (100*1.1) > 0.999\n",
    "assert strategy.from_mgw(w=0.1).p_sell_b / (100*1.1) < 1.001"
   ]
  },
  {
   "cell_type": "code",
   "execution_count": 89,
   "id": "952b0271",
   "metadata": {},
   "outputs": [],
   "source": [
    "assert strategy.from_mgw().slashpair == \"RSK/CSH\"\n",
    "assert strategy.from_mgw(rsk=\"ETH\", csh=\"USD\").slashpair == \"ETH/USD\""
   ]
  },
  {
   "cell_type": "code",
   "execution_count": 90,
   "id": "2b43ae4e",
   "metadata": {},
   "outputs": [],
   "source": [
    "assert strategy(90, 80, 110, 120).dct == {\n",
    "    'tkn': 'RSK',\n",
    "    'amt_sell': None,\n",
    "    'psell_start': 90,\n",
    "    'psell_end': 80,\n",
    "    'amt_buy': None,\n",
    "    'pbuy_start': 110,\n",
    "    'pbuy_end': 120,\n",
    "    'pair': 'RSK/CSH',\n",
    "    'psell_marginal': None,\n",
    "    'pbuy_marginal': None,\n",
    "    'y_int_sell': None,\n",
    "    'y_int_buy': None\n",
    "}"
   ]
  },
  {
   "cell_type": "code",
   "execution_count": 91,
   "id": "0033a5ce",
   "metadata": {},
   "outputs": [
    {
     "data": {
      "text/html": [
       "<div>\n",
       "<style scoped>\n",
       "    .dataframe tbody tr th:only-of-type {\n",
       "        vertical-align: middle;\n",
       "    }\n",
       "\n",
       "    .dataframe tbody tr th {\n",
       "        vertical-align: top;\n",
       "    }\n",
       "\n",
       "    .dataframe thead th {\n",
       "        text-align: right;\n",
       "    }\n",
       "</style>\n",
       "<table border=\"1\" class=\"dataframe\">\n",
       "  <thead>\n",
       "    <tr style=\"text-align: right;\">\n",
       "      <th></th>\n",
       "      <th>id</th>\n",
       "      <th>pair</th>\n",
       "      <th>tkn</th>\n",
       "      <th>y_int</th>\n",
       "      <th>y</th>\n",
       "      <th>y_unit</th>\n",
       "      <th>disabled</th>\n",
       "      <th>p_start</th>\n",
       "      <th>p_end</th>\n",
       "      <th>p_marg</th>\n",
       "      <th>p_unit</th>\n",
       "      <th>lid</th>\n",
       "    </tr>\n",
       "  </thead>\n",
       "  <tbody>\n",
       "    <tr>\n",
       "      <th>0</th>\n",
       "      <td>0</td>\n",
       "      <td>RSKCSH</td>\n",
       "      <td>RSK</td>\n",
       "      <td>1.0</td>\n",
       "      <td>1.0</td>\n",
       "      <td>RSK</td>\n",
       "      <td>False</td>\n",
       "      <td>110.0</td>\n",
       "      <td>120.0</td>\n",
       "      <td>110.0</td>\n",
       "      <td>CSH per RSK</td>\n",
       "      <td>1</td>\n",
       "    </tr>\n",
       "    <tr>\n",
       "      <th>1</th>\n",
       "      <td>1</td>\n",
       "      <td>RSKCSH</td>\n",
       "      <td>CSH</td>\n",
       "      <td>100.0</td>\n",
       "      <td>100.0</td>\n",
       "      <td>CSH</td>\n",
       "      <td>False</td>\n",
       "      <td>80.0</td>\n",
       "      <td>70.0</td>\n",
       "      <td>80.0</td>\n",
       "      <td>CSH per RSK</td>\n",
       "      <td>0</td>\n",
       "    </tr>\n",
       "  </tbody>\n",
       "</table>\n",
       "</div>"
      ],
      "text/plain": [
       "   id    pair  tkn  y_int      y y_unit  disabled  p_start  p_end  p_marg  \\\n",
       "0   0  RSKCSH  RSK    1.0    1.0    RSK     False    110.0  120.0   110.0   \n",
       "1   1  RSKCSH  CSH  100.0  100.0    CSH     False     80.0   70.0    80.0   \n",
       "\n",
       "        p_unit  lid  \n",
       "0  CSH per RSK    1  \n",
       "1  CSH per RSK    0  "
      ]
     },
     "execution_count": 91,
     "metadata": {},
     "output_type": "execute_result"
    }
   ],
   "source": [
    "Sim = CarbonSimulatorUI(pair=\"RSK/CSH\", raiseonerror=True)\n",
    "r = Sim.add_strategy(**strategy(p_buy_a=80, p_buy_b=70, p_sell_a=110, p_sell_b=120, amt_rsk=1, amt_csh=100).dct)[\"orders\"]\n",
    "r"
   ]
  },
  {
   "cell_type": "code",
   "execution_count": 92,
   "id": "6f4e7674",
   "metadata": {},
   "outputs": [],
   "source": [
    "assert r.iloc[0][\"p_start\"] == 110\n",
    "assert r.iloc[0][\"p_end\"] == 120\n",
    "assert r.iloc[1][\"p_start\"] == 80\n",
    "assert r.iloc[1][\"p_end\"] == 70\n",
    "assert r.iloc[0][\"y\"] == 1\n",
    "assert r.iloc[1][\"y\"] == 100"
   ]
  },
  {
   "cell_type": "code",
   "execution_count": 93,
   "id": "bff46486",
   "metadata": {},
   "outputs": [
    {
     "data": {
      "text/html": [
       "<div>\n",
       "<style scoped>\n",
       "    .dataframe tbody tr th:only-of-type {\n",
       "        vertical-align: middle;\n",
       "    }\n",
       "\n",
       "    .dataframe tbody tr th {\n",
       "        vertical-align: top;\n",
       "    }\n",
       "\n",
       "    .dataframe thead th {\n",
       "        text-align: right;\n",
       "    }\n",
       "</style>\n",
       "<table border=\"1\" class=\"dataframe\">\n",
       "  <thead>\n",
       "    <tr style=\"text-align: right;\">\n",
       "      <th></th>\n",
       "      <th>id</th>\n",
       "      <th>pair</th>\n",
       "      <th>tkn</th>\n",
       "      <th>y_int</th>\n",
       "      <th>y</th>\n",
       "      <th>y_unit</th>\n",
       "      <th>disabled</th>\n",
       "      <th>p_start</th>\n",
       "      <th>p_end</th>\n",
       "      <th>p_marg</th>\n",
       "      <th>p_unit</th>\n",
       "      <th>lid</th>\n",
       "    </tr>\n",
       "  </thead>\n",
       "  <tbody>\n",
       "    <tr>\n",
       "      <th>0</th>\n",
       "      <td>0</td>\n",
       "      <td>RSKCSH</td>\n",
       "      <td>RSK</td>\n",
       "      <td>1.0</td>\n",
       "      <td>1.0</td>\n",
       "      <td>RSK</td>\n",
       "      <td>False</td>\n",
       "      <td>125.0</td>\n",
       "      <td>187.500000</td>\n",
       "      <td>125.0</td>\n",
       "      <td>CSH per RSK</td>\n",
       "      <td>1</td>\n",
       "    </tr>\n",
       "    <tr>\n",
       "      <th>1</th>\n",
       "      <td>1</td>\n",
       "      <td>RSKCSH</td>\n",
       "      <td>CSH</td>\n",
       "      <td>100.0</td>\n",
       "      <td>100.0</td>\n",
       "      <td>CSH</td>\n",
       "      <td>False</td>\n",
       "      <td>80.0</td>\n",
       "      <td>53.333333</td>\n",
       "      <td>80.0</td>\n",
       "      <td>CSH per RSK</td>\n",
       "      <td>0</td>\n",
       "    </tr>\n",
       "  </tbody>\n",
       "</table>\n",
       "</div>"
      ],
      "text/plain": [
       "   id    pair  tkn  y_int      y y_unit  disabled  p_start       p_end  \\\n",
       "0   0  RSKCSH  RSK    1.0    1.0    RSK     False    125.0  187.500000   \n",
       "1   1  RSKCSH  CSH  100.0  100.0    CSH     False     80.0   53.333333   \n",
       "\n",
       "   p_marg       p_unit  lid  \n",
       "0   125.0  CSH per RSK    1  \n",
       "1    80.0  CSH per RSK    0  "
      ]
     },
     "execution_count": 93,
     "metadata": {},
     "output_type": "execute_result"
    }
   ],
   "source": [
    "Sim = CarbonSimulatorUI(pair=\"RSK/CSH\", raiseonerror=True)\n",
    "r = Sim.add_strategy(**strategy.from_mgw(m=100, g=0.5, w=0.5, amt_rsk=1, amt_csh=100).dct)[\"orders\"]\n",
    "r"
   ]
  },
  {
   "cell_type": "code",
   "execution_count": 94,
   "id": "a66ce384",
   "metadata": {},
   "outputs": [],
   "source": [
    "assert r.iloc[0][\"p_start\"] == 125\n",
    "assert r.iloc[0][\"p_end\"] == 187.5\n",
    "assert r.iloc[1][\"p_start\"] == 80\n",
    "assert r.iloc[0][\"y\"] == 1\n",
    "assert r.iloc[1][\"y\"] == 100"
   ]
  },
  {
   "cell_type": "markdown",
   "id": "9cb8d1fd",
   "metadata": {},
   "source": [
    "## helpers pdread"
   ]
  },
  {
   "cell_type": "code",
   "execution_count": 95,
   "id": "5265901e",
   "metadata": {},
   "outputs": [],
   "source": [
    "# from carbon.helpers import pdread as _pdread\n",
    "# help(_pdread)"
   ]
  },
  {
   "cell_type": "code",
   "execution_count": 96,
   "id": "994841fe",
   "metadata": {},
   "outputs": [],
   "source": [
    "DATAFN = \"resources/data/RAN-050-00.pickle\"\n",
    "#DATAFN = \"../data/RAN-050-00.pickle\""
   ]
  },
  {
   "cell_type": "code",
   "execution_count": 97,
   "id": "f5869ab4",
   "metadata": {},
   "outputs": [
    {
     "ename": "FileNotFoundError",
     "evalue": "[Errno 2] No such file or directory: 'resources/data/RAN-050-00.pickle'",
     "output_type": "error",
     "traceback": [
      "\u001b[0;31m---------------------------------------------------------------------------\u001b[0m",
      "\u001b[0;31mFileNotFoundError\u001b[0m                         Traceback (most recent call last)",
      "\u001b[0;32m<ipython-input-97-58348e9b2060>\u001b[0m in \u001b[0;36m<module>\u001b[0;34m\u001b[0m\n\u001b[0;32m----> 1\u001b[0;31m \u001b[0;32massert\u001b[0m \u001b[0mlen\u001b[0m\u001b[0;34m(\u001b[0m\u001b[0mpdread\u001b[0m\u001b[0;34m(\u001b[0m\u001b[0mDATAFN\u001b[0m\u001b[0;34m)\u001b[0m\u001b[0;34m)\u001b[0m\u001b[0;34m==\u001b[0m\u001b[0;36m101\u001b[0m\u001b[0;34m\u001b[0m\u001b[0;34m\u001b[0m\u001b[0m\n\u001b[0m\u001b[1;32m      2\u001b[0m \u001b[0;32massert\u001b[0m \u001b[0mpdread\u001b[0m\u001b[0;34m(\u001b[0m\u001b[0mDATAFN\u001b[0m\u001b[0;34m)\u001b[0m\u001b[0;34m.\u001b[0m\u001b[0miloc\u001b[0m\u001b[0;34m[\u001b[0m\u001b[0;36m0\u001b[0m\u001b[0;34m]\u001b[0m\u001b[0;34m.\u001b[0m\u001b[0mindex\u001b[0m\u001b[0;34m[\u001b[0m\u001b[0;36m5\u001b[0m\u001b[0;34m]\u001b[0m \u001b[0;34m==\u001b[0m \u001b[0;34m\"p0005\"\u001b[0m\u001b[0;34m\u001b[0m\u001b[0;34m\u001b[0m\u001b[0m\n\u001b[1;32m      3\u001b[0m \u001b[0;32massert\u001b[0m \u001b[0mstr\u001b[0m\u001b[0;34m(\u001b[0m\u001b[0mpdread\u001b[0m\u001b[0;34m(\u001b[0m\u001b[0mDATAFN\u001b[0m\u001b[0;34m)\u001b[0m\u001b[0;34m.\u001b[0m\u001b[0mindex\u001b[0m\u001b[0;34m[\u001b[0m\u001b[0;36m0\u001b[0m\u001b[0;34m]\u001b[0m\u001b[0;34m)\u001b[0m \u001b[0;34m==\u001b[0m \u001b[0;34m'2020-01-01 00:00:00'\u001b[0m\u001b[0;34m\u001b[0m\u001b[0;34m\u001b[0m\u001b[0m\n\u001b[1;32m      4\u001b[0m \u001b[0;32massert\u001b[0m \u001b[0mlen\u001b[0m\u001b[0;34m(\u001b[0m\u001b[0mpdread\u001b[0m\u001b[0;34m(\u001b[0m\u001b[0mDATAFN\u001b[0m\u001b[0;34m)\u001b[0m\u001b[0;34m[\u001b[0m\u001b[0;34m\"p0000\"\u001b[0m\u001b[0;34m]\u001b[0m\u001b[0;34m)\u001b[0m \u001b[0;34m==\u001b[0m \u001b[0mlen\u001b[0m\u001b[0;34m(\u001b[0m\u001b[0mpdread\u001b[0m\u001b[0;34m(\u001b[0m\u001b[0mDATAFN\u001b[0m\u001b[0;34m)\u001b[0m\u001b[0;34m)\u001b[0m\u001b[0;34m\u001b[0m\u001b[0;34m\u001b[0m\u001b[0m\n\u001b[1;32m      5\u001b[0m \u001b[0;32massert\u001b[0m \u001b[0mlist\u001b[0m\u001b[0;34m(\u001b[0m\u001b[0mpdread\u001b[0m\u001b[0;34m(\u001b[0m\u001b[0mDATAFN\u001b[0m\u001b[0;34m)\u001b[0m\u001b[0;34m[\u001b[0m\u001b[0;34m\"p0000\"\u001b[0m\u001b[0;34m]\u001b[0m\u001b[0;34m)\u001b[0m \u001b[0;34m==\u001b[0m \u001b[0mlist\u001b[0m\u001b[0;34m(\u001b[0m\u001b[0mpdread\u001b[0m\u001b[0;34m(\u001b[0m\u001b[0mDATAFN\u001b[0m\u001b[0;34m,\u001b[0m \u001b[0;34m\"p0000\"\u001b[0m\u001b[0;34m)\u001b[0m\u001b[0;34m)\u001b[0m\u001b[0;34m\u001b[0m\u001b[0;34m\u001b[0m\u001b[0m\n",
      "\u001b[0;32m~/REPOES/Bancor/CarbonSimulator/resources/NBTest/carbon/helpers/pdread.py\u001b[0m in \u001b[0;36mpdread\u001b[0;34m(fn, datacol, indexcol, from_ts, from_pc, period_days, period_pc, min_dt, invert, tkns)\u001b[0m\n\u001b[1;32m     52\u001b[0m     \u001b[0;32mif\u001b[0m \u001b[0mindexcol\u001b[0m \u001b[0;32mis\u001b[0m \u001b[0;32mNone\u001b[0m\u001b[0;34m:\u001b[0m \u001b[0mindexcol\u001b[0m \u001b[0;34m=\u001b[0m \u001b[0;34m\"datetime\"\u001b[0m\u001b[0;34m\u001b[0m\u001b[0;34m\u001b[0m\u001b[0m\n\u001b[1;32m     53\u001b[0m \u001b[0;34m\u001b[0m\u001b[0m\n\u001b[0;32m---> 54\u001b[0;31m     \u001b[0mdf\u001b[0m \u001b[0;34m=\u001b[0m \u001b[0m_pd\u001b[0m\u001b[0;34m.\u001b[0m\u001b[0mread_pickle\u001b[0m\u001b[0;34m(\u001b[0m\u001b[0mfn\u001b[0m\u001b[0;34m)\u001b[0m\u001b[0;34m\u001b[0m\u001b[0;34m\u001b[0m\u001b[0m\n\u001b[0m\u001b[1;32m     55\u001b[0m     \u001b[0;32mif\u001b[0m \u001b[0mmin_dt\u001b[0m\u001b[0;34m:\u001b[0m \u001b[0mdf\u001b[0m \u001b[0;34m=\u001b[0m \u001b[0mdf\u001b[0m\u001b[0;34m[\u001b[0m\u001b[0mdf\u001b[0m\u001b[0;34m.\u001b[0m\u001b[0mindex\u001b[0m \u001b[0;34m>=\u001b[0m \u001b[0mmin_dt\u001b[0m\u001b[0;34m]\u001b[0m\u001b[0;34m\u001b[0m\u001b[0;34m\u001b[0m\u001b[0m\n\u001b[1;32m     56\u001b[0m \u001b[0;34m\u001b[0m\u001b[0m\n",
      "\u001b[0;32m~/opt/anaconda3/lib/python3.8/site-packages/pandas/io/pickle.py\u001b[0m in \u001b[0;36mread_pickle\u001b[0;34m(filepath_or_buffer, compression, storage_options)\u001b[0m\n\u001b[1;32m    183\u001b[0m     \"\"\"\n\u001b[1;32m    184\u001b[0m     \u001b[0mexcs_to_catch\u001b[0m \u001b[0;34m=\u001b[0m \u001b[0;34m(\u001b[0m\u001b[0mAttributeError\u001b[0m\u001b[0;34m,\u001b[0m \u001b[0mImportError\u001b[0m\u001b[0;34m,\u001b[0m \u001b[0mModuleNotFoundError\u001b[0m\u001b[0;34m,\u001b[0m \u001b[0mTypeError\u001b[0m\u001b[0;34m)\u001b[0m\u001b[0;34m\u001b[0m\u001b[0;34m\u001b[0m\u001b[0m\n\u001b[0;32m--> 185\u001b[0;31m     with get_handle(\n\u001b[0m\u001b[1;32m    186\u001b[0m         \u001b[0mfilepath_or_buffer\u001b[0m\u001b[0;34m,\u001b[0m\u001b[0;34m\u001b[0m\u001b[0;34m\u001b[0m\u001b[0m\n\u001b[1;32m    187\u001b[0m         \u001b[0;34m\"rb\"\u001b[0m\u001b[0;34m,\u001b[0m\u001b[0;34m\u001b[0m\u001b[0;34m\u001b[0m\u001b[0m\n",
      "\u001b[0;32m~/opt/anaconda3/lib/python3.8/site-packages/pandas/io/common.py\u001b[0m in \u001b[0;36mget_handle\u001b[0;34m(path_or_buf, mode, encoding, compression, memory_map, is_text, errors, storage_options)\u001b[0m\n\u001b[1;32m    649\u001b[0m         \u001b[0;32melse\u001b[0m\u001b[0;34m:\u001b[0m\u001b[0;34m\u001b[0m\u001b[0;34m\u001b[0m\u001b[0m\n\u001b[1;32m    650\u001b[0m             \u001b[0;31m# Binary mode\u001b[0m\u001b[0;34m\u001b[0m\u001b[0;34m\u001b[0m\u001b[0;34m\u001b[0m\u001b[0m\n\u001b[0;32m--> 651\u001b[0;31m             \u001b[0mhandle\u001b[0m \u001b[0;34m=\u001b[0m \u001b[0mopen\u001b[0m\u001b[0;34m(\u001b[0m\u001b[0mhandle\u001b[0m\u001b[0;34m,\u001b[0m \u001b[0mioargs\u001b[0m\u001b[0;34m.\u001b[0m\u001b[0mmode\u001b[0m\u001b[0;34m)\u001b[0m\u001b[0;34m\u001b[0m\u001b[0;34m\u001b[0m\u001b[0m\n\u001b[0m\u001b[1;32m    652\u001b[0m         \u001b[0mhandles\u001b[0m\u001b[0;34m.\u001b[0m\u001b[0mappend\u001b[0m\u001b[0;34m(\u001b[0m\u001b[0mhandle\u001b[0m\u001b[0;34m)\u001b[0m\u001b[0;34m\u001b[0m\u001b[0;34m\u001b[0m\u001b[0m\n\u001b[1;32m    653\u001b[0m \u001b[0;34m\u001b[0m\u001b[0m\n",
      "\u001b[0;31mFileNotFoundError\u001b[0m: [Errno 2] No such file or directory: 'resources/data/RAN-050-00.pickle'"
     ]
    }
   ],
   "source": [
    "assert len(pdread(DATAFN))==101\n",
    "assert pdread(DATAFN).iloc[0].index[5] == \"p0005\"\n",
    "assert str(pdread(DATAFN).index[0]) == '2020-01-01 00:00:00'\n",
    "assert len(pdread(DATAFN)[\"p0000\"]) == len(pdread(DATAFN))\n",
    "assert list(pdread(DATAFN)[\"p0000\"]) == list(pdread(DATAFN, \"p0000\"))"
   ]
  },
  {
   "cell_type": "code",
   "execution_count": null,
   "id": "d3eec4df",
   "metadata": {},
   "outputs": [],
   "source": [
    "# those assertions should be (mostly) independent from the test data used\n",
    "ONEDAY = pd.Timedelta(days=1)\n",
    "FDAY, LDAY = pdread(DATAFN).index[0], pdread(DATAFN).index[-1]\n",
    "NDAY = LDAY - FDAY\n",
    "assert pdread(DATAFN, from_ts=FDAY - 100*ONEDAY).index[-1] == LDAY\n",
    "assert pdread(DATAFN, from_ts=LDAY - 100*ONEDAY).index[-1] == LDAY\n",
    "assert pdread(DATAFN, from_ts=FDAY + 100*ONEDAY).index[-1] == LDAY\n",
    "assert len(pdread(DATAFN, from_ts=LDAY + 1*ONEDAY))==0\n",
    "assert pdread(DATAFN, from_ts=FDAY+20*ONEDAY).index[0] >= FDAY\n",
    "assert pdread(DATAFN, period_days=NDAY/ONEDAY+10).index[-1] == LDAY\n",
    "assert pdread(DATAFN, period_days=NDAY/ONEDAY-10).index[-1] <= LDAY\n",
    "assert len(pdread(DATAFN, period_days=0))==1"
   ]
  },
  {
   "cell_type": "code",
   "execution_count": null,
   "id": "d9e608db",
   "metadata": {},
   "outputs": [],
   "source": [
    "# those assertions depend on the exact test data used\n",
    "assert str(pdread(DATAFN                ).index[-1]) == '2020-12-31 06:00:00'\n",
    "assert str(pdread(DATAFN, period_days=20).index[-1]) == '2020-01-19 06:18:00'\n",
    "assert str(pdread(DATAFN, period_days=50).index[-1]) == '2020-02-17 11:34:48'"
   ]
  },
  {
   "cell_type": "code",
   "execution_count": null,
   "id": "b406a964",
   "metadata": {},
   "outputs": [],
   "source": [
    "# those assertions depend on the exact test data used\n",
    "assert str(pdread(DATAFN, from_ts=\"2000-01-01\").index[0])  == '2020-01-01 00:00:00'\n",
    "assert str(pdread(DATAFN, from_ts=\"2020-01-02\").index[0])  == '2020-01-04 15:39:36'\n",
    "assert str(pdread(DATAFN, from_ts=\"2020-01-02\").index[-1]) == '2020-12-31 06:00:00'\n",
    "assert str(pdread(DATAFN, from_ts=\"2020-05-02\").index[-1]) == '2020-12-31 06:00:00'"
   ]
  },
  {
   "cell_type": "code",
   "execution_count": null,
   "id": "d46da822",
   "metadata": {},
   "outputs": [],
   "source": [
    "# those assertions depend on the exact test data used\n",
    "assert str(pdread(DATAFN, from_ts=\"2000-01-01\", period_days=30).index[0])   == '2020-01-01 00:00:00'\n",
    "assert str(pdread(DATAFN, from_ts=\"2000-01-01\", period_days=30).index[-1])  == '2020-01-30 05:16:48'\n",
    "assert str(pdread(DATAFN, from_ts=\"2020-03-01\", period_days=30).index[0])   == '2020-03-03 02:13:12'\n",
    "assert str(pdread(DATAFN, from_ts=\"2020-03-01\", period_days=30).index[-1])  == '2020-03-28 15:50:24'"
   ]
  },
  {
   "cell_type": "code",
   "execution_count": null,
   "id": "24136e93",
   "metadata": {},
   "outputs": [],
   "source": [
    "assert pathtime(pdread(DATAFN, \"p0000\")) == 1       # DEPRECATED\n",
    "assert pathtime_yrs(pdread(DATAFN, \"p0000\")) == 1\n",
    "assert pathtime_days(pdread(DATAFN, \"p0000\")) == 365.25"
   ]
  },
  {
   "cell_type": "code",
   "execution_count": null,
   "id": "aff79a37",
   "metadata": {},
   "outputs": [],
   "source": [
    "assert len(pdcols(DATAFN)) == 1000\n",
    "assert (pdcols(DATAFN) == pdread(DATAFN).columns).all() == True\n",
    "assert len(pdread(DATAFN, period_days=10)) == 3\n",
    "assert len(pdread(DATAFN, period_pc=0.1)) == 11\n",
    "assert len(pdread(DATAFN, from_ts=\"2020-07-01\")) == 51\n",
    "assert len(pdread(DATAFN, from_pc=0.5)) == 51"
   ]
  },
  {
   "cell_type": "markdown",
   "id": "f7629e25",
   "metadata": {},
   "source": [
    "## demo 7 3 [NOTEST]"
   ]
  },
  {
   "cell_type": "code",
   "execution_count": null,
   "id": "5c1cb984",
   "metadata": {},
   "outputs": [],
   "source": [
    "DATAID = \"RAN-050-00\"\n",
    "\n",
    "DATAPATH = \"resources/data\"\n",
    "#DATAPATH = \"../data\"           # uncomment to run this as Jupyter notebook\n",
    "\n",
    "DATAFN = j(DATAPATH, f\"{DATAID}.pickle\")\n",
    "print(f\"Chose data id {DATAID}\")"
   ]
  },
  {
   "cell_type": "code",
   "execution_count": null,
   "id": "7d7a4e85",
   "metadata": {},
   "outputs": [],
   "source": [
    "strats = (\n",
    "    strategy.from_mgw(m=100, g=0.10, w=0.05, amt_rsk=1, amt_csh=0),\n",
    ")"
   ]
  },
  {
   "cell_type": "code",
   "execution_count": null,
   "id": "dbe5d5c4",
   "metadata": {
    "lines_to_next_cell": 2
   },
   "outputs": [],
   "source": [
    "for colnm in [\"p0000\"]:\n",
    "    for ix, strat in enumerate(strats):\n",
    "    \n",
    "        path = pdread(DATAFN, colnm)\n",
    "        simresults = run_sim(strat, path)\n",
    "        if DATAPATH == \"../data\":\n",
    "            plot_sim(strat, path, simresults, f\"{DATAID} [{colnm}]\", params=None)\n",
    "            plt.show()"
   ]
  },
  {
   "cell_type": "code",
   "execution_count": null,
   "id": "bfcbb493",
   "metadata": {},
   "outputs": [],
   "source": [
    "# assert simresults.rskamt_r[0] == 1\n",
    "# assert round(simresults.rskamt_r[35] - 0.57736478, 5) == 0\n",
    "# assert simresults.cshamt_r[0] == 0\n",
    "# assert round(simresults.cshamt_r[36] - 112.7164584255556, 5) == 0\n",
    "# assert round(simresults.value_r[4] - 98.135103, 5) == 0\n",
    "# assert round(simresults.value_r[-1] - 109.973544, 5) == 0\n",
    "# assert str(simresults.value_r.index[0]) == '2020-01-01 00:00:00'\n",
    "# assert str(simresults.value_r.index[-1]) == '2020-12-31 06:00:00'"
   ]
  },
  {
   "cell_type": "code",
   "execution_count": null,
   "id": "4f91adc6",
   "metadata": {},
   "outputs": [],
   "source": [
    "simresults.rskamt_r[35]"
   ]
  },
  {
   "cell_type": "code",
   "execution_count": null,
   "id": "4f1dfe70",
   "metadata": {},
   "outputs": [],
   "source": []
  }
 ],
 "metadata": {
  "jupytext": {
   "formats": "ipynb,py:light"
  },
  "kernelspec": {
   "display_name": "Python 3",
   "language": "python",
   "name": "python3"
  },
  "language_info": {
   "codemirror_mode": {
    "name": "ipython",
    "version": 3
   },
   "file_extension": ".py",
   "mimetype": "text/x-python",
   "name": "python",
   "nbconvert_exporter": "python",
   "pygments_lexer": "ipython3",
   "version": "3.8.8"
  }
 },
 "nbformat": 4,
 "nbformat_minor": 5
}
