{
 "cells": [
  {
   "cell_type": "code",
   "execution_count": 6,
   "metadata": {
    "collapsed": true
   },
   "outputs": [
    {
     "name": "stdout",
     "output_type": "stream",
     "text": [
      "Carbon Version v2.0-beta3 (12/Dec/2022)\n"
     ]
    }
   ],
   "source": [
    "import pandas as pd\n",
    "from decimal import Decimal\n",
    "\n",
    "from carbon import CarbonSimulatorUI, __version__, __date__\n",
    "print(f\"Carbon Version v{__version__} ({__date__})\", )"
   ]
  },
  {
   "cell_type": "markdown",
   "source": [
    "# Carbon Simulation - Demo 5-6\n",
    "\n",
    "In this demo we test the `ManualRouter` routing method."
   ],
   "metadata": {
    "collapsed": false
   }
  },
  {
   "cell_type": "code",
   "execution_count": 7,
   "outputs": [],
   "source": [
    "ManualSim = CarbonSimulatorUI(pair=\"ETH/USDC\", verbose=False, matching_method='manual', raiseonerror=True)"
   ],
   "metadata": {
    "collapsed": false
   }
  },
  {
   "cell_type": "code",
   "execution_count": 8,
   "outputs": [
    {
     "data": {
      "text/plain": "        id    liquidity  lowest_rate  highest_rate  current_rate  \\\n0      0.0  254814732.0       1255.0        2255.0        1256.0   \n1      1.0  253827078.0       1254.0        2254.0        2254.0   \n2      2.0  252839424.0       1253.0        2253.0        1753.0   \n3      3.0  251851770.0       1252.0        2252.0        1253.0   \n4      4.0    6913578.0       1004.0        2004.0        1504.0   \n..     ...          ...          ...           ...           ...   \n251  251.0  250864116.0       1251.0        2251.0        2251.0   \n252  252.0    5925924.0       1003.0        2003.0        1004.0   \n253  253.0    4938270.0       1002.0        2002.0        2002.0   \n254  254.0    3950616.0       1001.0        2001.0        1501.0   \n255  255.0    2962962.0       1000.0        2000.0        1001.0   \n\n     one_on_lowest_rate  one_on_highest_rate  one_on_current_rate  \\\n0              0.000797             0.000443             0.000796   \n1              0.000797             0.000444             0.000444   \n2              0.000798             0.000444             0.000570   \n3              0.000799             0.000444             0.000798   \n4              0.000996             0.000499             0.000665   \n..                  ...                  ...                  ...   \n251            0.000799             0.000444             0.000444   \n252            0.000997             0.000499             0.000996   \n253            0.000998             0.000500             0.000500   \n254            0.000999             0.000500             0.000666   \n255            0.001000             0.000500             0.000999   \n\n            y_int     fix_trade  y_int_minus_fixtrade  \n0    1.419279e+11  1.416730e+11           254814732.0  \n1    2.538271e+08  0.000000e+00           253827078.0  \n2    3.934554e+08  1.406160e+08           252839424.0  \n3    1.401289e+11  1.398770e+11           251851770.0  \n4    1.037727e+07  3.463689e+06             6913578.0  \n..            ...           ...                   ...  \n251  2.508641e+08  2.980232e-08           250864116.0  \n252  2.970358e+09  2.964432e+09             5925924.0  \n253  4.938270e+06  0.000000e+00             4938270.0  \n254  5.926911e+06  1.976295e+06             3950616.0  \n255  1.482962e+09  1.480000e+09             2962962.0  \n\n[256 rows x 11 columns]",
      "text/html": "<div>\n<style scoped>\n    .dataframe tbody tr th:only-of-type {\n        vertical-align: middle;\n    }\n\n    .dataframe tbody tr th {\n        vertical-align: top;\n    }\n\n    .dataframe thead th {\n        text-align: right;\n    }\n</style>\n<table border=\"1\" class=\"dataframe\">\n  <thead>\n    <tr style=\"text-align: right;\">\n      <th></th>\n      <th>id</th>\n      <th>liquidity</th>\n      <th>lowest_rate</th>\n      <th>highest_rate</th>\n      <th>current_rate</th>\n      <th>one_on_lowest_rate</th>\n      <th>one_on_highest_rate</th>\n      <th>one_on_current_rate</th>\n      <th>y_int</th>\n      <th>fix_trade</th>\n      <th>y_int_minus_fixtrade</th>\n    </tr>\n  </thead>\n  <tbody>\n    <tr>\n      <th>0</th>\n      <td>0.0</td>\n      <td>254814732.0</td>\n      <td>1255.0</td>\n      <td>2255.0</td>\n      <td>1256.0</td>\n      <td>0.000797</td>\n      <td>0.000443</td>\n      <td>0.000796</td>\n      <td>1.419279e+11</td>\n      <td>1.416730e+11</td>\n      <td>254814732.0</td>\n    </tr>\n    <tr>\n      <th>1</th>\n      <td>1.0</td>\n      <td>253827078.0</td>\n      <td>1254.0</td>\n      <td>2254.0</td>\n      <td>2254.0</td>\n      <td>0.000797</td>\n      <td>0.000444</td>\n      <td>0.000444</td>\n      <td>2.538271e+08</td>\n      <td>0.000000e+00</td>\n      <td>253827078.0</td>\n    </tr>\n    <tr>\n      <th>2</th>\n      <td>2.0</td>\n      <td>252839424.0</td>\n      <td>1253.0</td>\n      <td>2253.0</td>\n      <td>1753.0</td>\n      <td>0.000798</td>\n      <td>0.000444</td>\n      <td>0.000570</td>\n      <td>3.934554e+08</td>\n      <td>1.406160e+08</td>\n      <td>252839424.0</td>\n    </tr>\n    <tr>\n      <th>3</th>\n      <td>3.0</td>\n      <td>251851770.0</td>\n      <td>1252.0</td>\n      <td>2252.0</td>\n      <td>1253.0</td>\n      <td>0.000799</td>\n      <td>0.000444</td>\n      <td>0.000798</td>\n      <td>1.401289e+11</td>\n      <td>1.398770e+11</td>\n      <td>251851770.0</td>\n    </tr>\n    <tr>\n      <th>4</th>\n      <td>4.0</td>\n      <td>6913578.0</td>\n      <td>1004.0</td>\n      <td>2004.0</td>\n      <td>1504.0</td>\n      <td>0.000996</td>\n      <td>0.000499</td>\n      <td>0.000665</td>\n      <td>1.037727e+07</td>\n      <td>3.463689e+06</td>\n      <td>6913578.0</td>\n    </tr>\n    <tr>\n      <th>...</th>\n      <td>...</td>\n      <td>...</td>\n      <td>...</td>\n      <td>...</td>\n      <td>...</td>\n      <td>...</td>\n      <td>...</td>\n      <td>...</td>\n      <td>...</td>\n      <td>...</td>\n      <td>...</td>\n    </tr>\n    <tr>\n      <th>251</th>\n      <td>251.0</td>\n      <td>250864116.0</td>\n      <td>1251.0</td>\n      <td>2251.0</td>\n      <td>2251.0</td>\n      <td>0.000799</td>\n      <td>0.000444</td>\n      <td>0.000444</td>\n      <td>2.508641e+08</td>\n      <td>2.980232e-08</td>\n      <td>250864116.0</td>\n    </tr>\n    <tr>\n      <th>252</th>\n      <td>252.0</td>\n      <td>5925924.0</td>\n      <td>1003.0</td>\n      <td>2003.0</td>\n      <td>1004.0</td>\n      <td>0.000997</td>\n      <td>0.000499</td>\n      <td>0.000996</td>\n      <td>2.970358e+09</td>\n      <td>2.964432e+09</td>\n      <td>5925924.0</td>\n    </tr>\n    <tr>\n      <th>253</th>\n      <td>253.0</td>\n      <td>4938270.0</td>\n      <td>1002.0</td>\n      <td>2002.0</td>\n      <td>2002.0</td>\n      <td>0.000998</td>\n      <td>0.000500</td>\n      <td>0.000500</td>\n      <td>4.938270e+06</td>\n      <td>0.000000e+00</td>\n      <td>4938270.0</td>\n    </tr>\n    <tr>\n      <th>254</th>\n      <td>254.0</td>\n      <td>3950616.0</td>\n      <td>1001.0</td>\n      <td>2001.0</td>\n      <td>1501.0</td>\n      <td>0.000999</td>\n      <td>0.000500</td>\n      <td>0.000666</td>\n      <td>5.926911e+06</td>\n      <td>1.976295e+06</td>\n      <td>3950616.0</td>\n    </tr>\n    <tr>\n      <th>255</th>\n      <td>255.0</td>\n      <td>2962962.0</td>\n      <td>1000.0</td>\n      <td>2000.0</td>\n      <td>1001.0</td>\n      <td>0.001000</td>\n      <td>0.000500</td>\n      <td>0.000999</td>\n      <td>1.482962e+09</td>\n      <td>1.480000e+09</td>\n      <td>2962962.0</td>\n    </tr>\n  </tbody>\n</table>\n<p>256 rows × 11 columns</p>\n</div>"
     },
     "execution_count": 8,
     "metadata": {},
     "output_type": "execute_result"
    }
   ],
   "source": [
    "test_orders = pd.read_csv('256 orders with curr rate alternating.csv', dtype=float)\n",
    "test_orders.rename(columns={'lowest-rate':'lowest_rate', 'highest-rate':'highest_rate', 'current-rate':'current_rate'}, inplace=True)\n",
    "test_orders['one_on_lowest_rate'] = 1/test_orders.lowest_rate\n",
    "test_orders['one_on_highest_rate'] = 1/test_orders.highest_rate\n",
    "test_orders['one_on_current_rate'] = 1/test_orders.current_rate\n",
    "test_orders['y_int'] = [test_orders.liquidity[i] * (test_orders.one_on_highest_rate[i] - test_orders.one_on_lowest_rate[i]) / (test_orders.one_on_current_rate[i] - test_orders.one_on_lowest_rate[i]) for i in test_orders.index]\n",
    "test_orders['fix_trade'] = test_orders.y_int - test_orders.liquidity\n",
    "test_orders['y_int_minus_fixtrade'] = test_orders.y_int - test_orders.fix_trade\n",
    "test_orders"
   ],
   "metadata": {
    "collapsed": false
   }
  },
  {
   "cell_type": "code",
   "execution_count": 8,
   "outputs": [],
   "source": [],
   "metadata": {
    "collapsed": false
   }
  },
  {
   "cell_type": "code",
   "execution_count": 9,
   "outputs": [
    {
     "data": {
      "text/plain": "      id     pair   tkn         y_int             y y_unit  disabled  \\\n0      0  ETHUSDC   ETH  1.419279e+14  1.419279e+11    ETH     False   \n1      1  ETHUSDC  USDC  0.000000e+00  0.000000e+00   USDC      True   \n2      2  ETHUSDC   ETH  2.538271e+08  2.538271e+08    ETH     False   \n3      3  ETHUSDC  USDC  0.000000e+00  0.000000e+00   USDC      True   \n4      4  ETHUSDC   ETH  7.869108e+08  3.934554e+08    ETH     False   \n..   ...      ...   ...           ...           ...    ...       ...   \n507  507  ETHUSDC  USDC  0.000000e+00  0.000000e+00   USDC      True   \n508  508  ETHUSDC   ETH  1.185382e+07  5.926911e+06    ETH     False   \n509  509  ETHUSDC  USDC  0.000000e+00  0.000000e+00   USDC      True   \n510  510  ETHUSDC   ETH  1.482962e+12  1.482962e+09    ETH     False   \n511  511  ETHUSDC  USDC  0.000000e+00  0.000000e+00   USDC      True   \n\n      p_start     p_end    p_marg        p_unit  lid  \n0    0.000443  0.000797  0.000796  USDC per ETH    1  \n1        None      None      None  USDC per ETH    0  \n2    0.000444  0.000797  0.000444  USDC per ETH    3  \n3        None      None      None  USDC per ETH    2  \n4    0.000444  0.000798  0.000583  USDC per ETH    5  \n..        ...       ...       ...           ...  ...  \n507      None      None      None  USDC per ETH  506  \n508    0.0005  0.000999  0.000686  USDC per ETH  509  \n509      None      None      None  USDC per ETH  508  \n510    0.0005     0.001  0.000999  USDC per ETH  511  \n511      None      None      None  USDC per ETH  510  \n\n[512 rows x 12 columns]",
      "text/html": "<div>\n<style scoped>\n    .dataframe tbody tr th:only-of-type {\n        vertical-align: middle;\n    }\n\n    .dataframe tbody tr th {\n        vertical-align: top;\n    }\n\n    .dataframe thead th {\n        text-align: right;\n    }\n</style>\n<table border=\"1\" class=\"dataframe\">\n  <thead>\n    <tr style=\"text-align: right;\">\n      <th></th>\n      <th>id</th>\n      <th>pair</th>\n      <th>tkn</th>\n      <th>y_int</th>\n      <th>y</th>\n      <th>y_unit</th>\n      <th>disabled</th>\n      <th>p_start</th>\n      <th>p_end</th>\n      <th>p_marg</th>\n      <th>p_unit</th>\n      <th>lid</th>\n    </tr>\n  </thead>\n  <tbody>\n    <tr>\n      <th>0</th>\n      <td>0</td>\n      <td>ETHUSDC</td>\n      <td>ETH</td>\n      <td>1.419279e+14</td>\n      <td>1.419279e+11</td>\n      <td>ETH</td>\n      <td>False</td>\n      <td>0.000443</td>\n      <td>0.000797</td>\n      <td>0.000796</td>\n      <td>USDC per ETH</td>\n      <td>1</td>\n    </tr>\n    <tr>\n      <th>1</th>\n      <td>1</td>\n      <td>ETHUSDC</td>\n      <td>USDC</td>\n      <td>0.000000e+00</td>\n      <td>0.000000e+00</td>\n      <td>USDC</td>\n      <td>True</td>\n      <td>None</td>\n      <td>None</td>\n      <td>None</td>\n      <td>USDC per ETH</td>\n      <td>0</td>\n    </tr>\n    <tr>\n      <th>2</th>\n      <td>2</td>\n      <td>ETHUSDC</td>\n      <td>ETH</td>\n      <td>2.538271e+08</td>\n      <td>2.538271e+08</td>\n      <td>ETH</td>\n      <td>False</td>\n      <td>0.000444</td>\n      <td>0.000797</td>\n      <td>0.000444</td>\n      <td>USDC per ETH</td>\n      <td>3</td>\n    </tr>\n    <tr>\n      <th>3</th>\n      <td>3</td>\n      <td>ETHUSDC</td>\n      <td>USDC</td>\n      <td>0.000000e+00</td>\n      <td>0.000000e+00</td>\n      <td>USDC</td>\n      <td>True</td>\n      <td>None</td>\n      <td>None</td>\n      <td>None</td>\n      <td>USDC per ETH</td>\n      <td>2</td>\n    </tr>\n    <tr>\n      <th>4</th>\n      <td>4</td>\n      <td>ETHUSDC</td>\n      <td>ETH</td>\n      <td>7.869108e+08</td>\n      <td>3.934554e+08</td>\n      <td>ETH</td>\n      <td>False</td>\n      <td>0.000444</td>\n      <td>0.000798</td>\n      <td>0.000583</td>\n      <td>USDC per ETH</td>\n      <td>5</td>\n    </tr>\n    <tr>\n      <th>...</th>\n      <td>...</td>\n      <td>...</td>\n      <td>...</td>\n      <td>...</td>\n      <td>...</td>\n      <td>...</td>\n      <td>...</td>\n      <td>...</td>\n      <td>...</td>\n      <td>...</td>\n      <td>...</td>\n      <td>...</td>\n    </tr>\n    <tr>\n      <th>507</th>\n      <td>507</td>\n      <td>ETHUSDC</td>\n      <td>USDC</td>\n      <td>0.000000e+00</td>\n      <td>0.000000e+00</td>\n      <td>USDC</td>\n      <td>True</td>\n      <td>None</td>\n      <td>None</td>\n      <td>None</td>\n      <td>USDC per ETH</td>\n      <td>506</td>\n    </tr>\n    <tr>\n      <th>508</th>\n      <td>508</td>\n      <td>ETHUSDC</td>\n      <td>ETH</td>\n      <td>1.185382e+07</td>\n      <td>5.926911e+06</td>\n      <td>ETH</td>\n      <td>False</td>\n      <td>0.0005</td>\n      <td>0.000999</td>\n      <td>0.000686</td>\n      <td>USDC per ETH</td>\n      <td>509</td>\n    </tr>\n    <tr>\n      <th>509</th>\n      <td>509</td>\n      <td>ETHUSDC</td>\n      <td>USDC</td>\n      <td>0.000000e+00</td>\n      <td>0.000000e+00</td>\n      <td>USDC</td>\n      <td>True</td>\n      <td>None</td>\n      <td>None</td>\n      <td>None</td>\n      <td>USDC per ETH</td>\n      <td>508</td>\n    </tr>\n    <tr>\n      <th>510</th>\n      <td>510</td>\n      <td>ETHUSDC</td>\n      <td>ETH</td>\n      <td>1.482962e+12</td>\n      <td>1.482962e+09</td>\n      <td>ETH</td>\n      <td>False</td>\n      <td>0.0005</td>\n      <td>0.001</td>\n      <td>0.000999</td>\n      <td>USDC per ETH</td>\n      <td>511</td>\n    </tr>\n    <tr>\n      <th>511</th>\n      <td>511</td>\n      <td>ETHUSDC</td>\n      <td>USDC</td>\n      <td>0.000000e+00</td>\n      <td>0.000000e+00</td>\n      <td>USDC</td>\n      <td>True</td>\n      <td>None</td>\n      <td>None</td>\n      <td>None</td>\n      <td>USDC per ETH</td>\n      <td>510</td>\n    </tr>\n  </tbody>\n</table>\n<p>512 rows × 12 columns</p>\n</div>"
     },
     "execution_count": 9,
     "metadata": {},
     "output_type": "execute_result"
    }
   ],
   "source": [
    "for i in test_orders.index:\n",
    "    ManualSim.add_strategy(\n",
    "        tkn='ETH',\n",
    "        amt_sell=Decimal(test_orders.y_int[i]),\n",
    "        psell_start=1/Decimal(test_orders.highest_rate[i]),\n",
    "        psell_end=1/Decimal(test_orders.lowest_rate[i]),\n",
    "        pbuy_start=None,\n",
    "        pbuy_end=None,\n",
    "        pair='ETH/USDC',\n",
    "        psell_marginal=1/Decimal(test_orders.current_rate[i]),\n",
    "        pbuy_marginal=None\n",
    "    )\n",
    "\n",
    "results = ManualSim.state()['orders']\n",
    "# results['y_eq'] = results['y_int']==results['y']\n",
    "# results = results[results['y_eq']==False]\n",
    "results"
   ],
   "metadata": {
    "collapsed": false
   }
  },
  {
   "cell_type": "code",
   "execution_count": 10,
   "outputs": [
    {
     "name": "stdout",
     "output_type": "stream",
     "text": [
      "2 50.0\n",
      "4 25.00\n",
      "6 16.6666666666666657414808128123695496469736099243164062500\n",
      "8 12.500\n",
      "total amt 104.166666666666657192763523198664188385009765625\n"
     ]
    },
    {
     "data": {
      "text/plain": "   uid  id subid                                           note   aggr   exec  \\\n0  0.0   0     0                                       route #2  False  False   \n0  0.1   0     1                                       route #4  False  False   \n0  0.2   0     2                                       route #6  False  False   \n0  0.3   0     3                                       route #8  False  False   \n0    0   0     A  AMM sells 104ETH buys 1081052009329874176USDC   True  False   \n\n  limitfail        amt1 tkn1          amt2  tkn2     pair       routeix  \\\n0      None   50.000000  ETH  4.092002e+17  USDC  ETHUSDC             2   \n0      None   25.000000  ETH  2.686538e+17  USDC  ETHUSDC             4   \n0      None   16.666667  ETH  2.453962e+17  USDC  ETHUSDC             6   \n0      None   12.500000  ETH  1.578018e+17  USDC  ETHUSDC             8   \n0      None  104.166667  ETH  1.081052e+18  USDC  ETHUSDC  [2, 4, 6, 8]   \n\n   nroutes                  price        p_unit  \n0        1    10378099289566760.0  USDC per ETH  \n0        1    10378099289566760.0  USDC per ETH  \n0        1    10378099289566760.0  USDC per ETH  \n0        1    10378099289566760.0  USDC per ETH  \n0        4  1.037809928956676e+16  USDC per ETH  ",
      "text/html": "<div>\n<style scoped>\n    .dataframe tbody tr th:only-of-type {\n        vertical-align: middle;\n    }\n\n    .dataframe tbody tr th {\n        vertical-align: top;\n    }\n\n    .dataframe thead th {\n        text-align: right;\n    }\n</style>\n<table border=\"1\" class=\"dataframe\">\n  <thead>\n    <tr style=\"text-align: right;\">\n      <th></th>\n      <th>uid</th>\n      <th>id</th>\n      <th>subid</th>\n      <th>note</th>\n      <th>aggr</th>\n      <th>exec</th>\n      <th>limitfail</th>\n      <th>amt1</th>\n      <th>tkn1</th>\n      <th>amt2</th>\n      <th>tkn2</th>\n      <th>pair</th>\n      <th>routeix</th>\n      <th>nroutes</th>\n      <th>price</th>\n      <th>p_unit</th>\n    </tr>\n  </thead>\n  <tbody>\n    <tr>\n      <th>0</th>\n      <td>0.0</td>\n      <td>0</td>\n      <td>0</td>\n      <td>route #2</td>\n      <td>False</td>\n      <td>False</td>\n      <td>None</td>\n      <td>50.000000</td>\n      <td>ETH</td>\n      <td>4.092002e+17</td>\n      <td>USDC</td>\n      <td>ETHUSDC</td>\n      <td>2</td>\n      <td>1</td>\n      <td>10378099289566760.0</td>\n      <td>USDC per ETH</td>\n    </tr>\n    <tr>\n      <th>0</th>\n      <td>0.1</td>\n      <td>0</td>\n      <td>1</td>\n      <td>route #4</td>\n      <td>False</td>\n      <td>False</td>\n      <td>None</td>\n      <td>25.000000</td>\n      <td>ETH</td>\n      <td>2.686538e+17</td>\n      <td>USDC</td>\n      <td>ETHUSDC</td>\n      <td>4</td>\n      <td>1</td>\n      <td>10378099289566760.0</td>\n      <td>USDC per ETH</td>\n    </tr>\n    <tr>\n      <th>0</th>\n      <td>0.2</td>\n      <td>0</td>\n      <td>2</td>\n      <td>route #6</td>\n      <td>False</td>\n      <td>False</td>\n      <td>None</td>\n      <td>16.666667</td>\n      <td>ETH</td>\n      <td>2.453962e+17</td>\n      <td>USDC</td>\n      <td>ETHUSDC</td>\n      <td>6</td>\n      <td>1</td>\n      <td>10378099289566760.0</td>\n      <td>USDC per ETH</td>\n    </tr>\n    <tr>\n      <th>0</th>\n      <td>0.3</td>\n      <td>0</td>\n      <td>3</td>\n      <td>route #8</td>\n      <td>False</td>\n      <td>False</td>\n      <td>None</td>\n      <td>12.500000</td>\n      <td>ETH</td>\n      <td>1.578018e+17</td>\n      <td>USDC</td>\n      <td>ETHUSDC</td>\n      <td>8</td>\n      <td>1</td>\n      <td>10378099289566760.0</td>\n      <td>USDC per ETH</td>\n    </tr>\n    <tr>\n      <th>0</th>\n      <td>0</td>\n      <td>0</td>\n      <td>A</td>\n      <td>AMM sells 104ETH buys 1081052009329874176USDC</td>\n      <td>True</td>\n      <td>False</td>\n      <td>None</td>\n      <td>104.166667</td>\n      <td>ETH</td>\n      <td>1.081052e+18</td>\n      <td>USDC</td>\n      <td>ETHUSDC</td>\n      <td>[2, 4, 6, 8]</td>\n      <td>4</td>\n      <td>1.037809928956676e+16</td>\n      <td>USDC per ETH</td>\n    </tr>\n  </tbody>\n</table>\n</div>"
     },
     "execution_count": 10,
     "metadata": {},
     "output_type": "execute_result"
    }
   ],
   "source": [
    "ttl_liquidity = results['y'].sum()\n",
    "\n",
    "def harmonic_sum(n):\n",
    "    i = 1\n",
    "    s = 0.0\n",
    "    routes = []\n",
    "    for i in range(1, 10):\n",
    "        if i % 2 == 0:\n",
    "            print(i, Decimal(1/i)*100)\n",
    "            routes.append((i, Decimal(1/i)*100))\n",
    "            s = s + 1/i*100\n",
    "    print('total amt', Decimal(s))\n",
    "    return Decimal(s), routes\n",
    "\n",
    "n = 10\n",
    "amt, routes = harmonic_sum(n)\n",
    "ManualSim.amm_sells('ETH', amt, execute=False, use_routes=routes)['trades']"
   ],
   "metadata": {
    "collapsed": false
   }
  }
 ],
 "metadata": {
  "kernelspec": {
   "display_name": "Python 3",
   "language": "python",
   "name": "python3"
  },
  "language_info": {
   "codemirror_mode": {
    "name": "ipython",
    "version": 2
   },
   "file_extension": ".py",
   "mimetype": "text/x-python",
   "name": "python",
   "nbconvert_exporter": "python",
   "pygments_lexer": "ipython2",
   "version": "2.7.6"
  }
 },
 "nbformat": 4,
 "nbformat_minor": 0
}
