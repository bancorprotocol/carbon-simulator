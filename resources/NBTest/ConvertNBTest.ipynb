{
 "cells": [
  {
   "cell_type": "code",
   "execution_count": 1,
   "id": "439cb109",
   "metadata": {},
   "outputs": [],
   "source": [
    "from fls import *\n",
    "import sys\n",
    "import os\n",
    "import re\n",
    "from collections import namedtuple\n",
    "__VERSION__ = \"1.1\"\n",
    "__DATE__ = \"11/Dec/2022\""
   ]
  },
  {
   "cell_type": "markdown",
   "id": "2b5b07e2",
   "metadata": {},
   "source": [
    "# Convert NBTest\n",
    "\n",
    "Converts files `NBTest_9999_Comment.py -> test_9999_Comment.py` suitable for `pytest`"
   ]
  },
  {
   "cell_type": "code",
   "execution_count": 2,
   "id": "3a724746",
   "metadata": {},
   "outputs": [
    {
     "name": "stdout",
     "output_type": "stream",
     "text": [
      "NBTestConvert v1.1 11/Dec/2022\n"
     ]
    }
   ],
   "source": [
    "print(f\"NBTestConvert v{__VERSION__} {__DATE__}\")"
   ]
  },
  {
   "cell_type": "markdown",
   "id": "22f88afc",
   "metadata": {},
   "source": [
    "## Get script path and set paths"
   ]
  },
  {
   "cell_type": "code",
   "execution_count": 3,
   "id": "96fdbec3",
   "metadata": {},
   "outputs": [
    {
     "data": {
      "text/plain": [
       "['/Users/skl/opt/anaconda3/lib/python3.8/site-packages',\n",
       " 'ipykernel_launcher.py']"
      ]
     },
     "execution_count": 3,
     "metadata": {},
     "output_type": "execute_result"
    }
   ],
   "source": [
    "sys.argv[0].rsplit(\"/\", maxsplit=1)"
   ]
  },
  {
   "cell_type": "code",
   "execution_count": 4,
   "id": "b7ddebc8",
   "metadata": {},
   "outputs": [
    {
     "data": {
      "text/plain": [
       "'ipykernel_launcher.py'"
      ]
     },
     "execution_count": 4,
     "metadata": {},
     "output_type": "execute_result"
    }
   ],
   "source": [
    "sys.argv[0].rsplit(\"/\", maxsplit=1)[-1]"
   ]
  },
  {
   "cell_type": "code",
   "execution_count": 5,
   "id": "7a4dd5d6",
   "metadata": {},
   "outputs": [],
   "source": [
    "if sys.argv[0].rsplit(\"/\", maxsplit=1)[-1]==\"ipykernel_launcher.py\":\n",
    "    JUPYTER = True\n",
    "    SCRIPTPATH = os.getcwd()\n",
    "else:\n",
    "    JUPYTER = False\n",
    "    SCRIPTPATH = os.path.dirname(os.path.realpath(sys.argv[0]))"
   ]
  },
  {
   "cell_type": "code",
   "execution_count": 6,
   "id": "0c8d723b",
   "metadata": {},
   "outputs": [],
   "source": [
    "SRCPATH = os.path.join(SCRIPTPATH, \"\")\n",
    "TRGPATH = os.path.join(SCRIPTPATH, \"../../Carbon/tests/nbtest\")"
   ]
  },
  {
   "cell_type": "code",
   "execution_count": 7,
   "id": "b3fb3cff",
   "metadata": {},
   "outputs": [
    {
     "name": "stdout",
     "output_type": "stream",
     "text": [
      "JUPYTER True\n",
      "SCRIPTPATH /Users/skl/REPOES/Bancor/CarbonSimulator/resources/NBTest\n",
      "SRCPATH /Users/skl/REPOES/Bancor/CarbonSimulator/resources/NBTest/\n",
      "TRGPATH /Users/skl/REPOES/Bancor/CarbonSimulator/resources/NBTest/../../Carbon/tests/nbtest\n",
      "---\n"
     ]
    }
   ],
   "source": [
    "print(\"JUPYTER\", JUPYTER)\n",
    "print(\"SCRIPTPATH\", SCRIPTPATH)\n",
    "print(\"SRCPATH\", SRCPATH)\n",
    "print(\"TRGPATH\", TRGPATH)\n",
    "print(\"---\")"
   ]
  },
  {
   "cell_type": "markdown",
   "id": "119d110f",
   "metadata": {},
   "source": [
    "## Generate the list of files"
   ]
  },
  {
   "cell_type": "code",
   "execution_count": 8,
   "id": "553fbebb",
   "metadata": {},
   "outputs": [],
   "source": [
    "rawlist = os.listdir(SRCPATH)\n",
    "rawlist.sort()\n",
    "#rawlist"
   ]
  },
  {
   "cell_type": "code",
   "execution_count": 9,
   "id": "71dc0630",
   "metadata": {},
   "outputs": [
    {
     "data": {
      "text/plain": [
       "datarecord_nt(tid='0000', comment='Bla', fn='NBTest_0000_Bla.py', outfn='test_0000_Bla.py')"
      ]
     },
     "execution_count": 9,
     "metadata": {},
     "output_type": "execute_result"
    }
   ],
   "source": [
    "dr_nt = namedtuple(\"datarecord_nt\", \"tid, comment, fn, outfn\")\n",
    "def filterfn(fn):\n",
    "    \"\"\"\n",
    "    takes fn and returns either filelist_nt or None \n",
    "    \"\"\"\n",
    "    nxsplit = fn.rsplit(\".\", maxsplit=1)\n",
    "    if len(nxsplit) < 2: return None\n",
    "    if not(nxsplit[1].lower()==\"py\"): return None\n",
    "    fnsplit = nxsplit[0].split(\"_\")\n",
    "    if not len(fnsplit) in [2,3]: return None\n",
    "    if not fnsplit[0] == \"NBTest\": return None\n",
    "    tid = fnsplit[1]\n",
    "    try:\n",
    "        comment = fnsplit[2]\n",
    "    except IndexError:\n",
    "        comment = \"\"\n",
    "    outfn = f\"test_{tid}_{comment}.py\"\n",
    "    return dr_nt(tid=tid, comment=comment, fn=fn, outfn=outfn)\n",
    "\n",
    "assert filterfn(\"README\") is None\n",
    "assert filterfn(\"NBTest_0000_Bla.ipynb\") is None\n",
    "assert filterfn(\"NBTest_0000.py\")\n",
    "assert filterfn(\"Test_0000_Bla.py\") is None\n",
    "assert filterfn(\"NBTest_1.10.4_Bla.py\").tid == \"1.10.4\"\n",
    "assert filterfn(\"NBTest_1.py\").comment == \"\"\n",
    "filterfn(\"NBTest_0000_Bla.py\")"
   ]
  },
  {
   "cell_type": "code",
   "execution_count": 10,
   "id": "e86139a7",
   "metadata": {},
   "outputs": [
    {
     "data": {
      "text/plain": [
       "(datarecord_nt(tid='0000', comment='TestNotebook', fn='NBTest_0000_TestNotebook.py', outfn='test_0000_TestNotebook.py'),\n",
       " datarecord_nt(tid='032', comment='Analytics', fn='NBTest_032_Analytics.py', outfn='test_032_Analytics.py'),\n",
       " datarecord_nt(tid='033', comment='carbonpair', fn='NBTest_033_carbonpair.py', outfn='test_033_carbonpair.py'),\n",
       " datarecord_nt(tid='034', comment='Liquidity', fn='NBTest_034_Liquidity.py', outfn='test_034_Liquidity.py'),\n",
       " datarecord_nt(tid='035', comment='UsePositions', fn='NBTest_035_UsePositions.py', outfn='test_035_UsePositions.py'),\n",
       " datarecord_nt(tid='036', comment='LiquidityApprox', fn='NBTest_036_LiquidityApprox.py', outfn='test_036_LiquidityApprox.py'),\n",
       " datarecord_nt(tid='037', comment='Match', fn='NBTest_037_Match.py', outfn='test_037_Match.py'),\n",
       " datarecord_nt(tid='038', comment='CarbonPair', fn='NBTest_038_CarbonPair.py', outfn='test_038_CarbonPair.py'),\n",
       " datarecord_nt(tid='039', comment='Future', fn='NBTest_039_Future.py', outfn='test_039_Future.py'),\n",
       " datarecord_nt(tid='040', comment='PairInSim', fn='NBTest_040_PairInSim.py', outfn='test_040_PairInSim.py'),\n",
       " datarecord_nt(tid='041', comment='DisabledStrategies', fn='NBTest_041_DisabledStrategies.py', outfn='test_041_DisabledStrategies.py'),\n",
       " datarecord_nt(tid='043', comment='SglOrder', fn='NBTest_043_SglOrder.py', outfn='test_043_SglOrder.py'))"
      ]
     },
     "execution_count": 10,
     "metadata": {},
     "output_type": "execute_result"
    }
   ],
   "source": [
    "fnlst = (filterfn(fn) for fn in rawlist)\n",
    "fnlst = tuple(r for r in fnlst if not r is None)\n",
    "fnlst"
   ]
  },
  {
   "cell_type": "code",
   "execution_count": 11,
   "id": "e370551e",
   "metadata": {},
   "outputs": [
    {
     "data": {
      "text/plain": [
       "'jksjsdfngx'"
      ]
     },
     "execution_count": 11,
     "metadata": {},
     "output_type": "execute_result"
    }
   ],
   "source": [
    "\"jksjsdfngx[NOTEST]\"[:-8]"
   ]
  },
  {
   "cell_type": "markdown",
   "id": "23841ca4",
   "metadata": {},
   "source": [
    "## Process files"
   ]
  },
  {
   "cell_type": "code",
   "execution_count": 12,
   "id": "5541fc2c",
   "metadata": {},
   "outputs": [],
   "source": [
    "def funcn(title):\n",
    "    \"\"\"convert a title into a function name\"\"\"\n",
    "    title = title.strip()\n",
    "    if title[-8:] == \"[NOTEST]\":\n",
    "        prefix = \"notest_\"\n",
    "        title = title[:-8].strip()\n",
    "    else:\n",
    "        prefix = \"test_\"\n",
    "        \n",
    "    funcn = title.lower()\n",
    "    funcn = funcn.replace(\" \", \"_\")\n",
    "    funcn = prefix+funcn\n",
    "    return funcn\n",
    "\n",
    "assert funcn(\"Title\") == \"test_title\"\n",
    "assert funcn(\"Advanced Testing\") == \"test_advanced_testing\"\n",
    "#funcn(\"Asserting that the radius computes correctly\")"
   ]
  },
  {
   "cell_type": "code",
   "execution_count": 13,
   "id": "233d86a2",
   "metadata": {},
   "outputs": [],
   "source": [
    "def process_code(code, dr, srcpath=None, trgpath=None):\n",
    "    \"\"\"\n",
    "    processes notebook code\n",
    "    \n",
    "    :code:    the code to be processed\n",
    "    :dr:  the associated data record (datarecord_nt)\n",
    "    :srcpath:   source path (info only)\n",
    "    :trgpath:   target path (info only)\n",
    "    \"\"\"\n",
    "    lines = code.splitlines()\n",
    "    outlines = [\n",
    "                 \"# \"+\"-\"*60,\n",
    "                f\"# Auto generated test file `{dr.outfn}`\",\n",
    "                 \"# \"+\"-\"*60,\n",
    "                f\"# source file   = {dr.fn}\"\n",
    "    ]\n",
    "    if srcpath and srcpath != \".\":\n",
    "        outlines += [\n",
    "                f\"# source path   = {srcpath}\"\n",
    "        ]\n",
    "    if trgpath and trgpath != \".\":\n",
    "        outlines += [\n",
    "                f\"# target path   = {srcpath}\"\n",
    "        ]\n",
    "    outlines += [\n",
    "        \n",
    "                f\"# test id       = {dr.tid}\",\n",
    "                f\"# test comment  = {dr.comment}\",\n",
    "                 \"# \"+\"-\"*60,\n",
    "                \"\",\"\",\n",
    "    ]\n",
    "    is_precode = True\n",
    "    for l in lines:\n",
    "        if l[:4] == \"# # \":\n",
    "            print(f\"\"\"Processing \"{l[4:]}\" ({r.fn})\"\"\")\n",
    "            outlines += [\"\"]\n",
    "        elif l[:5] == \"# ## \":\n",
    "            title = l[5:].strip()\n",
    "            fcn = funcn(title)\n",
    "            print(f\"  creating function `{fcn}()` from section {title}\")\n",
    "            outlines += [\n",
    "                 \"\",\n",
    "                 \"# \"+\"-\"*60,\n",
    "                f\"# Test      {r.tid}\",\n",
    "                f\"# File      {r.outfn}\",\n",
    "                f\"# Segment   {title}\",\n",
    "                 \"# \"+\"-\"*60,\n",
    "                f\"def {fcn}():\",\n",
    "                 \"# \"+\"-\"*60,\n",
    "            ]\n",
    "            is_precode = False\n",
    "        else:\n",
    "            if is_precode:\n",
    "                if l[:2] != \"# \":\n",
    "                    outlines += [l]\n",
    "            else:\n",
    "                outlines += [\"    \"+l]\n",
    "    outcode = \"\\n\".join(outlines)\n",
    "    return outcode"
   ]
  },
  {
   "cell_type": "code",
   "execution_count": 14,
   "id": "82d9c3d5",
   "metadata": {},
   "outputs": [
    {
     "name": "stdout",
     "output_type": "stream",
     "text": [
      "Processing \"NBTest Test Notebook\" (NBTest_0000_TestNotebook.py)\n",
      "  creating function `test_segment_1()` from section Segment 1\n",
      "  creating function `test_segment_2()` from section Segment 2\n",
      "  creating function `notest_segment_3()` from section Segment 3 [NOTEST]\n",
      "  saving generated test to test_0000_TestNotebook.py\n",
      "Processing \"Carbon Simulation - Test 32\" (NBTest_032_Analytics.py)\n",
      "  creating function `test_basic_arithmetic_functions()` from section Basic arithmetic functions\n",
      "  creating function `test_advanced_functions()` from section Advanced functions\n",
      "  saving generated test to test_032_Analytics.py\n",
      "Processing \"Carbon Simulation - Test 33 - CarbonPair\" (NBTest_033_carbonpair.py)\n",
      "  creating function `test_carbonpair()` from section CarbonPair\n",
      "  saving generated test to test_033_carbonpair.py\n",
      "Processing \"Carbon Simulation - Test 34 - Liquidity\" (NBTest_034_Liquidity.py)\n",
      "  creating function `test_liquidity()` from section Liquidity\n",
      "  saving generated test to test_034_Liquidity.py\n",
      "Processing \"Carbon Simulation - Test 34 - UsePositions\" (NBTest_035_UsePositions.py)\n",
      "  creating function `test_use_position()` from section use_position\n",
      "  saving generated test to test_035_UsePositions.py\n",
      "Processing \"Carbon Simulation - Test 36 - Liquidity Approximation\" (NBTest_036_LiquidityApprox.py)\n",
      "  creating function `test_order_0_eth_range()` from section Order 0 ETH range\n",
      "  creating function `test_order_1_eth_point()` from section Order 1 ETH point\n",
      "  creating function `test_order_2_usdc_range()` from section Order 2 USDC range\n",
      "  creating function `test_order_3_usdc_point()` from section Order 3 USDC point\n",
      "  saving generated test to test_036_LiquidityApprox.py\n",
      "Processing \"Carbon Simulation - Test 37 - Match\" (NBTest_037_Match.py)\n",
      "  saving generated test to test_037_Match.py\n",
      "Processing \"Carbon Simulation - Test 38 - CarbonPair\" (NBTest_038_CarbonPair.py)\n",
      "  creating function `test_carbonpair()` from section CarbonPair\n",
      "  saving generated test to test_038_CarbonPair.py\n",
      "Processing \"Carbon Simulation - Test 39 - Future\" (NBTest_039_Future.py)\n",
      "  creating function `test_future()` from section Future\n",
      "  saving generated test to test_039_Future.py\n",
      "Processing \"Carbon Simulation - Test 40 - PairInSim\" (NBTest_040_PairInSim.py)\n",
      "  creating function `test_pair_without_carbonpair_defaults()` from section Pair without CarbonPair defaults\n",
      "  creating function `test_pair_with_carbonpair_defaults()` from section Pair with CarbonPair defaults\n",
      "  saving generated test to test_040_PairInSim.py\n",
      "Processing \"Carbon Simulation - Test 41 - Disabled Strategies and Orders\" (NBTest_041_DisabledStrategies.py)\n",
      "  creating function `test_disabled_orders()` from section Disabled Orders\n",
      "  creating function `test_disabled_strategies()` from section Disabled Strategies\n",
      "  creating function `test_trading()` from section Trading\n",
      "  saving generated test to test_041_DisabledStrategies.py\n",
      "Processing \"Carbon Simulation - Test 43 - Single Orders\" (NBTest_043_SglOrder.py)\n",
      "  creating function `test_single_orders()` from section Single orders\n",
      "  saving generated test to test_043_SglOrder.py\n"
     ]
    }
   ],
   "source": [
    "for r in fnlst:\n",
    "    code = fload(r.fn, SRCPATH, quiet=True)\n",
    "    testcode = process_code(code, r, SRCPATH, TRGPATH)\n",
    "    fsave(testcode, r.outfn, TRGPATH, quiet=True)\n",
    "    #print(testcode)\n",
    "    print(f\"  saving generated test to {r.outfn}\")"
   ]
  },
  {
   "cell_type": "code",
   "execution_count": null,
   "id": "93971dec",
   "metadata": {},
   "outputs": [],
   "source": []
  }
 ],
 "metadata": {
  "jupytext": {
   "formats": "ipynb,py:light"
  },
  "kernelspec": {
   "display_name": "Python 3",
   "language": "python",
   "name": "python3"
  },
  "language_info": {
   "codemirror_mode": {
    "name": "ipython",
    "version": 3
   },
   "file_extension": ".py",
   "mimetype": "text/x-python",
   "name": "python",
   "nbconvert_exporter": "python",
   "pygments_lexer": "ipython3",
   "version": "3.8.8"
  }
 },
 "nbformat": 4,
 "nbformat_minor": 5
}
