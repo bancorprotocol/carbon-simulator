{
 "cells": [
  {
   "cell_type": "code",
   "execution_count": 1,
   "id": "35aa5384",
   "metadata": {},
   "outputs": [],
   "source": [
    "from sympy import *\n",
    "__VERSION__ = \"2.2\"\n",
    "__DATE__ = \"2/Nov/2022\""
   ]
  },
  {
   "cell_type": "markdown",
   "id": "a3779db4",
   "metadata": {},
   "source": [
    "# Carbon Calculations\n",
    "\n",
    "Various calculations related to the Carbon whitepaper."
   ]
  },
  {
   "cell_type": "code",
   "execution_count": 2,
   "id": "25486040",
   "metadata": {},
   "outputs": [],
   "source": [
    "def isolate(eqn, var,ix=0):\n",
    "    \"isolates the variable var in the equation eqn and returns result as equation\"\n",
    "    return Eq(var, solve(eqn, var)[ix])"
   ]
  },
  {
   "cell_type": "markdown",
   "id": "db7cb519",
   "metadata": {},
   "source": [
    "## Core Formulas"
   ]
  },
  {
   "cell_type": "code",
   "execution_count": 3,
   "id": "d1936cdb",
   "metadata": {},
   "outputs": [],
   "source": [
    "x,x0,xint,dx,Dx = symbols(\"x x_0 x_{int} dx \\Delta{x}\")\n",
    "y,y0,yint,dy,Dy = symbols(\"y y_0 y_{int} dy \\Delta{y}\")\n",
    "P,Pmarg,Px,Py,Q,Gam,w = symbols(\"P_0 P_{marg} P_x P_y Q \\Gamma w\")                                            "
   ]
  },
  {
   "cell_type": "markdown",
   "id": "d2bbde3b",
   "metadata": {},
   "source": [
    "This is the **Pool Invariant Equation** in its canonic **risk asset** form using $P, x_0, \\Gamma$"
   ]
  },
  {
   "cell_type": "code",
   "execution_count": 4,
   "id": "ec423a60",
   "metadata": {
    "scrolled": true
   },
   "outputs": [
    {
     "data": {
      "text/latex": [
       "$\\displaystyle y = \\frac{P_{0} x_{0} \\left(x \\left(\\Gamma - 1\\right) - x_{0} \\left(\\Gamma - 2\\right)\\right)}{\\Gamma x - x_{0} \\left(\\Gamma - 1\\right)}$"
      ],
      "text/plain": [
       "Eq(y, P_0*x_0*(x*(\\Gamma - 1) - x_0*(\\Gamma - 2))/(\\Gamma*x - x_0*(\\Gamma - 1)))"
      ]
     },
     "execution_count": 4,
     "metadata": {},
     "output_type": "execute_result"
    }
   ],
   "source": [
    "PIE = Eq(\n",
    "    y,\n",
    "    x0*P*(x*(Gam - 1) - x0*(Gam - 2))/(Gam*x - x0*(Gam - 1))\n",
    ")\n",
    "PIE"
   ]
  },
  {
   "cell_type": "code",
   "execution_count": 5,
   "id": "4db4d940",
   "metadata": {},
   "outputs": [
    {
     "data": {
      "text/latex": [
       "$\\displaystyle y = \\frac{y_{0} \\left(P_{0} x \\left(\\Gamma - 1\\right) - y_{0} \\left(\\Gamma - 2\\right)\\right)}{P_{0} \\Gamma x - y_{0} \\left(\\Gamma - 1\\right)}$"
      ],
      "text/plain": [
       "Eq(y, y_0*(P_0*x*(\\Gamma - 1) - y_0*(\\Gamma - 2))/(P_0*\\Gamma*x - y_0*(\\Gamma - 1)))"
      ]
     },
     "execution_count": 5,
     "metadata": {},
     "output_type": "execute_result"
    }
   ],
   "source": [
    "PINE = PIE.subs(x0, y0/P).simplify()\n",
    "PINE"
   ]
  },
  {
   "cell_type": "markdown",
   "id": "c8d8e949",
   "metadata": {},
   "source": [
    "This is the **Q-form** of the **Pool Invariant Equation**"
   ]
  },
  {
   "cell_type": "code",
   "execution_count": 6,
   "id": "6fae96ab",
   "metadata": {},
   "outputs": [
    {
     "data": {
      "text/latex": [
       "$\\displaystyle Q = \\frac{x y}{\\left(x - x_{int}\\right) \\left(y - y_{int}\\right)}$"
      ],
      "text/plain": [
       "Eq(Q, x*y/((x - x_{int})*(y - y_{int})))"
      ]
     },
     "execution_count": 6,
     "metadata": {},
     "output_type": "execute_result"
    }
   ],
   "source": [
    "PIQE = Eq(\n",
    "    Q,\n",
    "    x*y / ( (x-xint)*(y-yint) )\n",
    ")\n",
    "PIQE"
   ]
  },
  {
   "cell_type": "code",
   "execution_count": 7,
   "id": "bdcb9df5",
   "metadata": {},
   "outputs": [
    {
     "data": {
      "text/latex": [
       "$\\displaystyle Q \\left(x - x_{int}\\right) \\left(y - y_{int}\\right) = x y$"
      ],
      "text/plain": [
       "Eq(Q*(x - x_{int})*(y - y_{int}), x*y)"
      ]
     },
     "execution_count": 7,
     "metadata": {},
     "output_type": "execute_result"
    }
   ],
   "source": [
    "_m = (x-xint)*(y-yint)\n",
    "PIQ2E = Eq(PIQE.lhs*_m, PIQE.rhs*_m)\n",
    "PIQ2E"
   ]
  },
  {
   "cell_type": "markdown",
   "id": "3a5bf9b7",
   "metadata": {},
   "source": [
    "This is the **Definition Equations** for $Q$ in terms of $\\Gamma$ and its inverse"
   ]
  },
  {
   "cell_type": "code",
   "execution_count": 8,
   "id": "08f48619",
   "metadata": {},
   "outputs": [
    {
     "data": {
      "text/latex": [
       "$\\displaystyle Q = \\left(1 - \\Gamma\\right)^{2}$"
      ],
      "text/plain": [
       "Eq(Q, (1 - \\Gamma)**2)"
      ]
     },
     "execution_count": 8,
     "metadata": {},
     "output_type": "execute_result"
    }
   ],
   "source": [
    "QGDE = Eq(Q,(1-Gam)**2)\n",
    "QGDE"
   ]
  },
  {
   "cell_type": "code",
   "execution_count": 9,
   "id": "b72365dd",
   "metadata": {},
   "outputs": [
    {
     "data": {
      "text/latex": [
       "$\\displaystyle \\Gamma = 1 - \\sqrt{Q}$"
      ],
      "text/plain": [
       "Eq(\\Gamma, 1 - sqrt(Q))"
      ]
     },
     "execution_count": 9,
     "metadata": {},
     "output_type": "execute_result"
    }
   ],
   "source": [
    "GQE = isolate(QGDE, Gam)\n",
    "GQE"
   ]
  },
  {
   "cell_type": "markdown",
   "id": "9cab24f3",
   "metadata": {},
   "source": [
    "This is a useful identity between a certain expression of $\\Gamma$ and a certain expression of $Q$."
   ]
  },
  {
   "cell_type": "code",
   "execution_count": 10,
   "id": "4bc8943a",
   "metadata": {},
   "outputs": [
    {
     "data": {
      "text/latex": [
       "$\\displaystyle \\frac{2 - \\Gamma}{1 - \\Gamma} = 1 + \\frac{1}{\\sqrt{Q}}$"
      ],
      "text/plain": [
       "Eq((2 - \\Gamma)/(1 - \\Gamma), 1 + 1/sqrt(Q))"
      ]
     },
     "execution_count": 10,
     "metadata": {},
     "output_type": "execute_result"
    }
   ],
   "source": [
    "GFQE = Eq((2-Gam)/(1-Gam),(1+1/sqrt(Q)))\n",
    "GFQE"
   ]
  },
  {
   "cell_type": "code",
   "execution_count": 11,
   "id": "f77a940f",
   "metadata": {},
   "outputs": [
    {
     "data": {
      "text/latex": [
       "$\\displaystyle 0$"
      ],
      "text/plain": [
       "0"
      ]
     },
     "execution_count": 11,
     "metadata": {},
     "output_type": "execute_result"
    }
   ],
   "source": [
    "(GFQE.lhs-GFQE.rhs).subs(Gam, 1-sqrt(Q)).simplify()"
   ]
  },
  {
   "cell_type": "markdown",
   "id": "22988e69",
   "metadata": {},
   "source": [
    "## Other Parametrizations"
   ]
  },
  {
   "cell_type": "markdown",
   "id": "927cc4eb",
   "metadata": {},
   "source": [
    "Those are the **Definition Equations** for $x_{int}, y_{int}, P_x, P_y$"
   ]
  },
  {
   "cell_type": "code",
   "execution_count": 12,
   "id": "134ce147",
   "metadata": {},
   "outputs": [
    {
     "data": {
      "text/latex": [
       "$\\displaystyle x_{int} = \\frac{x_{0} \\left(2 - \\Gamma\\right)}{1 - \\Gamma}$"
      ],
      "text/plain": [
       "Eq(x_{int}, x_0*(2 - \\Gamma)/(1 - \\Gamma))"
      ]
     },
     "execution_count": 12,
     "metadata": {},
     "output_type": "execute_result"
    }
   ],
   "source": [
    "XiDE = Eq(xint, x0*(2-Gam)/(1-Gam))\n",
    "XiDE"
   ]
  },
  {
   "cell_type": "code",
   "execution_count": 13,
   "id": "f1eb7631",
   "metadata": {},
   "outputs": [
    {
     "data": {
      "text/latex": [
       "$\\displaystyle x_{int} = x_{0} \\left(1 + \\frac{1}{\\sqrt{Q}}\\right)$"
      ],
      "text/plain": [
       "Eq(x_{int}, x_0*(1 + 1/sqrt(Q)))"
      ]
     },
     "execution_count": 13,
     "metadata": {},
     "output_type": "execute_result"
    }
   ],
   "source": [
    "XiQE = XiDE.subs(GFQE.lhs, GFQE.rhs)\n",
    "XiQE"
   ]
  },
  {
   "cell_type": "code",
   "execution_count": 14,
   "id": "87cb96a2",
   "metadata": {},
   "outputs": [
    {
     "data": {
      "text/latex": [
       "$\\displaystyle y_{int} = \\frac{y_{0} \\left(2 - \\Gamma\\right)}{1 - \\Gamma}$"
      ],
      "text/plain": [
       "Eq(y_{int}, y_0*(2 - \\Gamma)/(1 - \\Gamma))"
      ]
     },
     "execution_count": 14,
     "metadata": {},
     "output_type": "execute_result"
    }
   ],
   "source": [
    "YiDE = Eq(yint, y0*(2-Gam)/(1-Gam))\n",
    "YiDE"
   ]
  },
  {
   "cell_type": "code",
   "execution_count": 15,
   "id": "fe28041f",
   "metadata": {},
   "outputs": [
    {
     "data": {
      "text/latex": [
       "$\\displaystyle y_{int} = y_{0} \\left(1 + \\frac{1}{\\sqrt{Q}}\\right)$"
      ],
      "text/plain": [
       "Eq(y_{int}, y_0*(1 + 1/sqrt(Q)))"
      ]
     },
     "execution_count": 15,
     "metadata": {},
     "output_type": "execute_result"
    }
   ],
   "source": [
    "YiQE = YiDE.subs(GFQE.lhs, GFQE.rhs)\n",
    "YiQE"
   ]
  },
  {
   "cell_type": "code",
   "execution_count": 16,
   "id": "c13315af",
   "metadata": {},
   "outputs": [
    {
     "data": {
      "text/latex": [
       "$\\displaystyle P_{x} = P_{0} Q$"
      ],
      "text/plain": [
       "Eq(P_x, P_0*Q)"
      ]
     },
     "execution_count": 16,
     "metadata": {},
     "output_type": "execute_result"
    }
   ],
   "source": [
    "PxDE = Eq(Px, P*Q)\n",
    "PxDE"
   ]
  },
  {
   "cell_type": "code",
   "execution_count": 17,
   "id": "16fc7dd9",
   "metadata": {},
   "outputs": [
    {
     "data": {
      "text/latex": [
       "$\\displaystyle P_{y} = \\frac{P_{0}}{Q}$"
      ],
      "text/plain": [
       "Eq(P_y, P_0/Q)"
      ]
     },
     "execution_count": 17,
     "metadata": {},
     "output_type": "execute_result"
    }
   ],
   "source": [
    "PyDE = Eq(Py, P/Q)\n",
    "PyDE"
   ]
  },
  {
   "cell_type": "markdown",
   "id": "f8dc042a",
   "metadata": {},
   "source": [
    "Here are a few other important relationships. Firstly, $P_0$ is the ratio the reference coordinates"
   ]
  },
  {
   "cell_type": "code",
   "execution_count": 18,
   "id": "56449bf0",
   "metadata": {},
   "outputs": [
    {
     "data": {
      "text/latex": [
       "$\\displaystyle P_{0} = \\frac{y_{0}}{x_{0}}$"
      ],
      "text/plain": [
       "Eq(P_0, y_0/x_0)"
      ]
     },
     "execution_count": 18,
     "metadata": {},
     "output_type": "execute_result"
    }
   ],
   "source": [
    "PXYE = Eq(P, y0/x0)\n",
    "PXYE"
   ]
  },
  {
   "cell_type": "markdown",
   "id": "55d2d927",
   "metadata": {},
   "source": [
    "and more importantly also of the intercepts"
   ]
  },
  {
   "cell_type": "code",
   "execution_count": 19,
   "id": "3ce06ee7",
   "metadata": {},
   "outputs": [
    {
     "data": {
      "text/latex": [
       "$\\displaystyle P_{0} = \\frac{y_{int}}{x_{int}}$"
      ],
      "text/plain": [
       "Eq(P_0, y_{int}/x_{int})"
      ]
     },
     "execution_count": 19,
     "metadata": {},
     "output_type": "execute_result"
    }
   ],
   "source": [
    "PXYiE = Eq(P, yint/xint)\n",
    "PXYiE"
   ]
  },
  {
   "cell_type": "markdown",
   "id": "68863cb5",
   "metadata": {},
   "source": [
    "$Q$ is related to the ratio of the intercept prices"
   ]
  },
  {
   "cell_type": "code",
   "execution_count": 20,
   "id": "229279d3",
   "metadata": {},
   "outputs": [
    {
     "data": {
      "text/latex": [
       "$\\displaystyle Q = \\sqrt{\\frac{P_{y}}{P_{x}}}$"
      ],
      "text/plain": [
       "Eq(Q, sqrt(P_y/P_x))"
      ]
     },
     "execution_count": 20,
     "metadata": {},
     "output_type": "execute_result"
    }
   ],
   "source": [
    "QPE = Eq(Q, sqrt(Py/Px))\n",
    "QPE"
   ]
  },
  {
   "cell_type": "markdown",
   "id": "ea9366c8",
   "metadata": {},
   "source": [
    "In fact, if we define $w$ as the (percentage) **range width**"
   ]
  },
  {
   "cell_type": "code",
   "execution_count": 21,
   "id": "8d29b9a9",
   "metadata": {},
   "outputs": [
    {
     "data": {
      "text/latex": [
       "$\\displaystyle w = \\frac{P_{y}}{P_{x}}$"
      ],
      "text/plain": [
       "Eq(w, P_y/P_x)"
      ]
     },
     "execution_count": 21,
     "metadata": {},
     "output_type": "execute_result"
    }
   ],
   "source": [
    "WDE = Eq(w, QPE.rhs**2)\n",
    "WDE"
   ]
  },
  {
   "cell_type": "markdown",
   "id": "d5627fe8",
   "metadata": {},
   "source": [
    "then that width is simply Q squared"
   ]
  },
  {
   "cell_type": "code",
   "execution_count": 22,
   "id": "22d84af3",
   "metadata": {},
   "outputs": [
    {
     "data": {
      "text/latex": [
       "$\\displaystyle w = Q^{2}$"
      ],
      "text/plain": [
       "Eq(w, Q**2)"
      ]
     },
     "execution_count": 22,
     "metadata": {},
     "output_type": "execute_result"
    }
   ],
   "source": [
    "WE = Eq(w, QPE.lhs**2)\n",
    "WE"
   ]
  },
  {
   "cell_type": "markdown",
   "id": "63a045e3",
   "metadata": {},
   "source": [
    "Also the reference price is the geometric average of the intercept prices"
   ]
  },
  {
   "cell_type": "code",
   "execution_count": 23,
   "id": "626200d7",
   "metadata": {},
   "outputs": [
    {
     "data": {
      "text/latex": [
       "$\\displaystyle P_{0} = \\sqrt{P_{x} P_{y}}$"
      ],
      "text/plain": [
       "Eq(P_0, sqrt(P_x*P_y))"
      ]
     },
     "execution_count": 23,
     "metadata": {},
     "output_type": "execute_result"
    }
   ],
   "source": [
    "PPE = Eq(P,sqrt(Px*Py))\n",
    "PPE"
   ]
  },
  {
   "cell_type": "markdown",
   "id": "703cea7f",
   "metadata": {},
   "source": [
    "Below formulas are important for actually setting ranges for unidirectional trading where the parameters we have are the amount of risk asset $x_{int}$ as well as the two ends of the range $P_x, P_y$. Our goal is to solve for the parameterset $Q, x_{int}, y_{int}$ that allows us to use the invariant equation `PIQE`. $x_{int}$ is already known, and $Q$ we can get from `QPE`, so what is left is to calculate $y_{int}$.\n",
    "\n",
    "We first recall a number of definitions"
   ]
  },
  {
   "cell_type": "code",
   "execution_count": 24,
   "id": "a0fe79d3",
   "metadata": {},
   "outputs": [
    {
     "data": {
      "text/latex": [
       "$\\displaystyle Q = \\sqrt{\\frac{P_{y}}{P_{x}}}$"
      ],
      "text/plain": [
       "Eq(Q, sqrt(P_y/P_x))"
      ]
     },
     "execution_count": 24,
     "metadata": {},
     "output_type": "execute_result"
    }
   ],
   "source": [
    "QPE"
   ]
  },
  {
   "cell_type": "code",
   "execution_count": 25,
   "id": "9a522faf",
   "metadata": {},
   "outputs": [
    {
     "data": {
      "text/latex": [
       "$\\displaystyle P_{0} = \\sqrt{P_{x} P_{y}}$"
      ],
      "text/plain": [
       "Eq(P_0, sqrt(P_x*P_y))"
      ]
     },
     "execution_count": 25,
     "metadata": {},
     "output_type": "execute_result"
    }
   ],
   "source": [
    "PPE"
   ]
  },
  {
   "cell_type": "code",
   "execution_count": 26,
   "id": "28ad7d2e",
   "metadata": {},
   "outputs": [
    {
     "data": {
      "text/latex": [
       "$\\displaystyle P_{0} = \\frac{y_{int}}{x_{int}}$"
      ],
      "text/plain": [
       "Eq(P_0, y_{int}/x_{int})"
      ]
     },
     "execution_count": 26,
     "metadata": {},
     "output_type": "execute_result"
    }
   ],
   "source": [
    "PXYiE"
   ]
  },
  {
   "cell_type": "markdown",
   "id": "73d00f2b",
   "metadata": {},
   "source": [
    "and now make a number of new ones"
   ]
  },
  {
   "cell_type": "code",
   "execution_count": 27,
   "id": "bb417a8e",
   "metadata": {},
   "outputs": [
    {
     "data": {
      "text/latex": [
       "$\\displaystyle y_{int} = x_{int} \\sqrt{P_{x} P_{y}}$"
      ],
      "text/plain": [
       "Eq(y_{int}, x_{int}*sqrt(P_x*P_y))"
      ]
     },
     "execution_count": 27,
     "metadata": {},
     "output_type": "execute_result"
    }
   ],
   "source": [
    "YiPE = Eq(yint, solve(PXYiE, yint)[0].subs(P, PPE.rhs))\n",
    "YiPE"
   ]
  },
  {
   "cell_type": "code",
   "execution_count": 28,
   "id": "b2507b86",
   "metadata": {},
   "outputs": [
    {
     "data": {
      "text/latex": [
       "$\\displaystyle x_{int} = \\frac{y_{int}}{\\sqrt{P_{x} P_{y}}}$"
      ],
      "text/plain": [
       "Eq(x_{int}, y_{int}/sqrt(P_x*P_y))"
      ]
     },
     "execution_count": 28,
     "metadata": {},
     "output_type": "execute_result"
    }
   ],
   "source": [
    "XiPE = Eq(xint, solve(YiPE, xint)[0])\n",
    "XiPE"
   ]
  },
  {
   "cell_type": "markdown",
   "id": "9b3345a3",
   "metadata": {},
   "source": [
    "This is the **Swap Equation** derived from it, describing an actual transaction"
   ]
  },
  {
   "cell_type": "code",
   "execution_count": 29,
   "id": "57e4a4b2",
   "metadata": {},
   "outputs": [
    {
     "data": {
      "text/latex": [
       "$\\displaystyle - \\Delta{y} = \\frac{P_{0} \\Delta{x} x_{0}^{2}}{\\left(\\Gamma \\left(x - x_{0}\\right) + x_{0}\\right) \\left(\\Gamma \\left(\\Delta{x} + x - x_{0}\\right) + x_{0}\\right)}$"
      ],
      "text/plain": [
       "Eq(-\\Delta{y}, P_0*\\Delta{x}*x_0**2/((\\Gamma*(x - x_0) + x_0)*(\\Gamma*(\\Delta{x} + x - x_0) + x_0)))"
      ]
     },
     "execution_count": 29,
     "metadata": {},
     "output_type": "execute_result"
    }
   ],
   "source": [
    "SE = Eq(\n",
    "    - Dy,\n",
    "    P*x0**2*Dx/((Gam*(x - x0) + x0)*(Gam*(x - x0 + Dx) + x0))\n",
    ")\n",
    "SE"
   ]
  },
  {
   "cell_type": "markdown",
   "id": "6b33db16",
   "metadata": {},
   "source": [
    "This is the **Marginal Swap Equation** describing an infinitesimal transaction, rearranged with $dx$ on the LHS "
   ]
  },
  {
   "cell_type": "code",
   "execution_count": 30,
   "id": "8ef5de33",
   "metadata": {},
   "outputs": [
    {
     "data": {
      "text/latex": [
       "$\\displaystyle - \\frac{dy}{dx} = \\frac{P_{0} x_{0}^{2}}{\\left(\\Gamma \\left(x - x_{0}\\right) + x_{0}\\right)^{2}}$"
      ],
      "text/plain": [
       "Eq(-dy/dx, P_0*x_0**2/(\\Gamma*(x - x_0) + x_0)**2)"
      ]
     },
     "execution_count": 30,
     "metadata": {},
     "output_type": "execute_result"
    }
   ],
   "source": [
    "MSE = Eq(\n",
    "    -dy/dx,\n",
    "    P*x0**2/(Gam*(x - x0) + x0)**2\n",
    ")\n",
    "MSE"
   ]
  },
  {
   "cell_type": "markdown",
   "id": "e393887b",
   "metadata": {},
   "source": [
    "This is the **Marginal Price Equation** which is the same as the Marginal Swap Equation, just recognising that $-\\frac{dy}{dx}=P_{marg}%$"
   ]
  },
  {
   "cell_type": "code",
   "execution_count": 31,
   "id": "4b2f1405",
   "metadata": {},
   "outputs": [
    {
     "data": {
      "text/latex": [
       "$\\displaystyle P_{marg} = \\frac{P_{0} x_{0}^{2}}{\\left(\\Gamma \\left(x - x_{0}\\right) + x_{0}\\right)^{2}}$"
      ],
      "text/plain": [
       "Eq(P_{marg}, P_0*x_0**2/(\\Gamma*(x - x_0) + x_0)**2)"
      ]
     },
     "execution_count": 31,
     "metadata": {},
     "output_type": "execute_result"
    }
   ],
   "source": [
    "MPE = Eq(Pmarg, MSE.rhs)\n",
    "MPE"
   ]
  },
  {
   "cell_type": "markdown",
   "id": "01da1e28",
   "metadata": {},
   "source": [
    "This is the **Reverse Marginal Price Equation** with $y,y_0$ instead of $x,x_0$, but with the price parameters unchanged"
   ]
  },
  {
   "cell_type": "code",
   "execution_count": 32,
   "id": "ee2e0a13",
   "metadata": {},
   "outputs": [
    {
     "data": {
      "text/latex": [
       "$\\displaystyle \\frac{1}{P_{marg}} = \\frac{y_{0}^{2}}{P_{0} \\left(\\Gamma \\left(y - y_{0}\\right) + y_{0}\\right)^{2}}$"
      ],
      "text/plain": [
       "Eq(1/P_{marg}, y_0**2/(P_0*(\\Gamma*(y - y_0) + y_0)**2))"
      ]
     },
     "execution_count": 32,
     "metadata": {},
     "output_type": "execute_result"
    }
   ],
   "source": [
    "MPERev0 = MPE.subs(Pmarg, 1/Pmarg).subs(P,1/P).subs(x0,y0).subs(x,y)\n",
    "MPERev0"
   ]
  },
  {
   "cell_type": "markdown",
   "id": "daf35476",
   "metadata": {},
   "source": [
    "The is again the **Reverse Marginal Price Equation** but inversed to isolate $P_{marg}$"
   ]
  },
  {
   "cell_type": "code",
   "execution_count": 33,
   "id": "83a6902a",
   "metadata": {},
   "outputs": [
    {
     "data": {
      "text/latex": [
       "$\\displaystyle P_{marg} = \\frac{P_{0} \\left(\\Gamma \\left(y - y_{0}\\right) + y_{0}\\right)^{2}}{y_{0}^{2}}$"
      ],
      "text/plain": [
       "Eq(P_{marg}, P_0*(\\Gamma*(y - y_0) + y_0)**2/y_0**2)"
      ]
     },
     "execution_count": 33,
     "metadata": {},
     "output_type": "execute_result"
    }
   ],
   "source": [
    "MPERev = Eq(Pmarg, 1/MPERev0.rhs)\n",
    "MPERev"
   ]
  },
  {
   "cell_type": "markdown",
   "id": "276d999a",
   "metadata": {},
   "source": [
    "Now we reparameterize the MPE as a function of $Q, x_{int}$ and of $Q, y_{int}$"
   ]
  },
  {
   "cell_type": "code",
   "execution_count": 34,
   "id": "f1f9ef22",
   "metadata": {},
   "outputs": [
    {
     "data": {
      "text/latex": [
       "$\\displaystyle P_{marg} = \\frac{P_{0} Q x_{int}^{2}}{\\left(- Q x + Q x_{int} + x\\right)^{2}}$"
      ],
      "text/plain": [
       "Eq(P_{marg}, P_0*Q*x_{int}**2/(-Q*x + Q*x_{int} + x)**2)"
      ]
     },
     "execution_count": 34,
     "metadata": {},
     "output_type": "execute_result"
    }
   ],
   "source": [
    "MPQXiE = MPE.subs(GQE.lhs,GQE.rhs).subs(x0, solve(XiQE, x0)[0]).simplify()\n",
    "MPQXiE"
   ]
  },
  {
   "cell_type": "code",
   "execution_count": 35,
   "id": "ef83be31",
   "metadata": {},
   "outputs": [
    {
     "data": {
      "text/latex": [
       "$\\displaystyle P_{marg} = \\frac{P_{0} \\left(- Q y + Q y_{int} + y\\right)^{2}}{Q y_{int}^{2}}$"
      ],
      "text/plain": [
       "Eq(P_{marg}, P_0*(-Q*y + Q*y_{int} + y)**2/(Q*y_{int}**2))"
      ]
     },
     "execution_count": 35,
     "metadata": {},
     "output_type": "execute_result"
    }
   ],
   "source": [
    "MPQYiE = MPERev.subs(GQE.lhs,GQE.rhs).subs(y0, solve(YiQE, y0)[0]).simplify()\n",
    "MPQYiE"
   ]
  },
  {
   "cell_type": "markdown",
   "id": "c3684722",
   "metadata": {},
   "source": [
    "### Rho and r parametrizations"
   ]
  },
  {
   "cell_type": "code",
   "execution_count": 36,
   "id": "a1e9ef88",
   "metadata": {},
   "outputs": [
    {
     "data": {
      "text/latex": [
       "$\\displaystyle x_{0} = r x$"
      ],
      "text/plain": [
       "Eq(x_0, r*x)"
      ]
     },
     "execution_count": 36,
     "metadata": {},
     "output_type": "execute_result"
    }
   ],
   "source": [
    "r, rho =symbols(\"r \\\\rho\") \n",
    "RXE = Eq(x0, r*x)\n",
    "RXIE = Eq(x, rho*x0)\n",
    "RXE"
   ]
  },
  {
   "cell_type": "code",
   "execution_count": 37,
   "id": "1af66c7b",
   "metadata": {},
   "outputs": [
    {
     "data": {
      "text/latex": [
       "$\\displaystyle x = \\rho x_{0}$"
      ],
      "text/plain": [
       "Eq(x, \\rho*x_0)"
      ]
     },
     "execution_count": 37,
     "metadata": {},
     "output_type": "execute_result"
    }
   ],
   "source": [
    "RXIE"
   ]
  },
  {
   "cell_type": "code",
   "execution_count": 38,
   "id": "00e234d7",
   "metadata": {},
   "outputs": [
    {
     "data": {
      "text/latex": [
       "$\\displaystyle P_{marg} = \\frac{P_{0} r^{2}}{\\left(\\Gamma \\left(r - 1\\right) - r\\right)^{2}}$"
      ],
      "text/plain": [
       "Eq(P_{marg}, P_0*r**2/(\\Gamma*(r - 1) - r)**2)"
      ]
     },
     "execution_count": 38,
     "metadata": {},
     "output_type": "execute_result"
    }
   ],
   "source": [
    "MPRE = MPE.subs(RXE.lhs, RXE.rhs).simplify()\n",
    "MPRE"
   ]
  },
  {
   "cell_type": "code",
   "execution_count": 39,
   "id": "e22115e9",
   "metadata": {},
   "outputs": [
    {
     "data": {
      "text/latex": [
       "$\\displaystyle P_{marg} = \\frac{P_{0}}{\\left(\\Gamma \\left(\\rho - 1\\right) + 1\\right)^{2}}$"
      ],
      "text/plain": [
       "Eq(P_{marg}, P_0/(\\Gamma*(\\rho - 1) + 1)**2)"
      ]
     },
     "execution_count": 39,
     "metadata": {},
     "output_type": "execute_result"
    }
   ],
   "source": [
    "MPRIE = MPE.subs(RXIE.lhs, RXIE.rhs).simplify()\n",
    "MPRIE"
   ]
  },
  {
   "cell_type": "markdown",
   "id": "078912c0",
   "metadata": {},
   "source": [
    "For completeness, here also the invariant and swap equations using $r,\\rho$"
   ]
  },
  {
   "cell_type": "code",
   "execution_count": 40,
   "id": "67ea8a04",
   "metadata": {},
   "outputs": [
    {
     "data": {
      "text/latex": [
       "$\\displaystyle y = - \\frac{P_{0} r x \\left(- \\Gamma + r \\left(\\Gamma - 2\\right) + 1\\right)}{\\Gamma - r \\left(\\Gamma - 1\\right)}$"
      ],
      "text/plain": [
       "Eq(y, -P_0*r*x*(-\\Gamma + r*(\\Gamma - 2) + 1)/(\\Gamma - r*(\\Gamma - 1)))"
      ]
     },
     "execution_count": 40,
     "metadata": {},
     "output_type": "execute_result"
    }
   ],
   "source": [
    "PIRE = PIE.subs(RXE.lhs, RXE.rhs).simplify()\n",
    "PIRE"
   ]
  },
  {
   "cell_type": "code",
   "execution_count": 41,
   "id": "9546666a",
   "metadata": {},
   "outputs": [
    {
     "data": {
      "text/latex": [
       "$\\displaystyle y = \\frac{P_{0} x_{0} \\left(- \\Gamma + \\rho \\left(\\Gamma - 1\\right) + 2\\right)}{\\Gamma \\rho - \\Gamma + 1}$"
      ],
      "text/plain": [
       "Eq(y, P_0*x_0*(-\\Gamma + \\rho*(\\Gamma - 1) + 2)/(\\Gamma*\\rho - \\Gamma + 1))"
      ]
     },
     "execution_count": 41,
     "metadata": {},
     "output_type": "execute_result"
    }
   ],
   "source": [
    "PIRIE = PIE.subs(RXIE.lhs, RXIE.rhs).simplify()\n",
    "PIRIE"
   ]
  },
  {
   "cell_type": "code",
   "execution_count": 42,
   "id": "11e776a6",
   "metadata": {},
   "outputs": [
    {
     "data": {
      "text/latex": [
       "$\\displaystyle \\Delta{y} = \\frac{P_{0} \\Delta{x} r^{2} x}{\\left(\\Gamma \\left(r - 1\\right) - r\\right) \\left(\\Gamma \\left(\\Delta{x} - r x + x\\right) + r x\\right)}$"
      ],
      "text/plain": [
       "Eq(\\Delta{y}, P_0*\\Delta{x}*r**2*x/((\\Gamma*(r - 1) - r)*(\\Gamma*(\\Delta{x} - r*x + x) + r*x)))"
      ]
     },
     "execution_count": 42,
     "metadata": {},
     "output_type": "execute_result"
    }
   ],
   "source": [
    "SRE = SE.subs(RXE.lhs, RXE.rhs).simplify()\n",
    "SRE"
   ]
  },
  {
   "cell_type": "code",
   "execution_count": 43,
   "id": "3ea5803e",
   "metadata": {},
   "outputs": [
    {
     "data": {
      "text/latex": [
       "$\\displaystyle - \\Delta{y} = \\frac{P_{0} \\Delta{x} x_{0}}{\\left(\\Gamma \\left(\\Delta{x} + x_{0} \\left(\\rho - 1\\right)\\right) + x_{0}\\right) \\left(\\Gamma \\left(\\rho - 1\\right) + 1\\right)}$"
      ],
      "text/plain": [
       "Eq(-\\Delta{y}, P_0*\\Delta{x}*x_0/((\\Gamma*(\\Delta{x} + x_0*(\\rho - 1)) + x_0)*(\\Gamma*(\\rho - 1) + 1)))"
      ]
     },
     "execution_count": 43,
     "metadata": {},
     "output_type": "execute_result"
    }
   ],
   "source": [
    "SRIE = Eq(SE.lhs, P*Dx*x0 / ((Gam*(rho-1)+1)*(Gam*(Dx+x0*(rho-1))+x0)))\n",
    "SRIE"
   ]
  },
  {
   "cell_type": "code",
   "execution_count": 44,
   "id": "6cefe833",
   "metadata": {},
   "outputs": [
    {
     "data": {
      "text/latex": [
       "$\\displaystyle 0$"
      ],
      "text/plain": [
       "0"
      ]
     },
     "execution_count": 44,
     "metadata": {},
     "output_type": "execute_result"
    }
   ],
   "source": [
    "(SRIE.rhs - SE.rhs.subs(RXIE.lhs, RXIE.rhs)).simplify()"
   ]
  },
  {
   "cell_type": "markdown",
   "id": "6192e791",
   "metadata": {},
   "source": [
    "### Adjusting active ranges\n",
    "\n",
    "As a reminder, and _inactive_ range is a range where the current market price is outside the range, and an _active_ range is one where it is inside. Active ranges split into _active active_ and _inactive active_ ranges. In the former, the market price equals the marginal price of the curve, in the latter the marginal price is somewhat off (in the direction where the marginal price shown in the direction of the AMM is _worse_ than that of the market, so it won't trade.\n",
    "\n",
    "An active active AMM whose curve is to be readjusted to remain active active has only one remaining degree of freedom -- one can choose either width or mid price, but not both. One can of course change the parameters such that it turns inactive active, in which case the parameters space is two dimensional (width and mid-price), but there is a non-trivial boundary condition to be taken into account because one is starting from the boundary. When adjusting an inactive inactive range, the space is locally fully 2-dimensional, but at one point the boundary must be taken into account.\n",
    "\n",
    "In a first step, we express our marginal price as a function of $P_0=\\sqrt{P_xP_y}$ and $w=P_y/P_x$"
   ]
  },
  {
   "cell_type": "code",
   "execution_count": 45,
   "id": "9d7bc28f",
   "metadata": {},
   "outputs": [
    {
     "data": {
      "text/latex": [
       "$\\displaystyle P_{marg} = \\frac{P_{0} \\left(- \\sqrt{w} y + \\sqrt{w} y_{int} + y\\right)^{2}}{\\sqrt{w} y_{int}^{2}}$"
      ],
      "text/plain": [
       "Eq(P_{marg}, P_0*(-sqrt(w)*y + sqrt(w)*y_{int} + y)**2/(sqrt(w)*y_{int}**2))"
      ]
     },
     "execution_count": 45,
     "metadata": {},
     "output_type": "execute_result"
    }
   ],
   "source": [
    "MPWYiE = MPQYiE.subs(Q, -solve(WE, Q)[0])\n",
    "MPWYiE"
   ]
  },
  {
   "cell_type": "markdown",
   "id": "541525ea",
   "metadata": {},
   "source": [
    "We then express $P_0$ as a function of $w$ (and the other paramters), defining the 1-dimensional curve in $P_0, w$ space that any active active reparamterization must fulfil. "
   ]
  },
  {
   "cell_type": "code",
   "execution_count": 46,
   "id": "e747c2c8",
   "metadata": {},
   "outputs": [
    {
     "data": {
      "text/latex": [
       "$\\displaystyle P_{0} = \\frac{P_{marg} \\sqrt{w} y_{int}^{2}}{\\left(- \\sqrt{w} y + \\sqrt{w} y_{int} + y\\right)^{2}}$"
      ],
      "text/plain": [
       "Eq(P_0, P_{marg}*sqrt(w)*y_{int}**2/(-sqrt(w)*y + sqrt(w)*y_{int} + y)**2)"
      ]
     },
     "execution_count": 46,
     "metadata": {},
     "output_type": "execute_result"
    }
   ],
   "source": [
    "P0WYiE = Eq(P, solve(MPWYiE, P)[0])\n",
    "P0WYiE"
   ]
  },
  {
   "cell_type": "markdown",
   "id": "730a04a1",
   "metadata": {},
   "source": [
    "Uncomment the below to obtain the closed form solution for the inverse equation $w=w(P_0)$"
   ]
  },
  {
   "cell_type": "code",
   "execution_count": 47,
   "id": "c8d9912a",
   "metadata": {},
   "outputs": [],
   "source": [
    "#WP0YiE = Eq(w, solve(P0WYiE,w)[0].simplify())\n",
    "#WP0YiE"
   ]
  },
  {
   "cell_type": "markdown",
   "id": "62795eb1",
   "metadata": {},
   "source": [
    "For the inequality, we first note that $P_0\\propto P_{marg}$. We now need to distinguish the following two cases (note that the price is always quoted as numeraire / risk asset) that ensure that the AMM either matches the market price, or it is _out of the money_, ie not willing to trade at prevailing prices.\n",
    "\n",
    "1. **AMM sells risk asset.** If the AMM sells the risk asset it is only willing to sell it at market _or higher_, ie $P_{marg} \\geq P_{market}$\n",
    "\n",
    "1. **AMM buys risk asset.** If the AMM buys the risk asset it is only willing to buy it at market _or lower_, ie $P_{marg} \\leq P_{market}$"
   ]
  },
  {
   "cell_type": "markdown",
   "id": "73cd38b3",
   "metadata": {},
   "source": [
    "## Creating the Formulas object for export\n",
    "\n",
    "The `FORMULAS` object contains all key formulas of this worksheet, and it allows to easily import and use them in other workbooks. "
   ]
  },
  {
   "cell_type": "code",
   "execution_count": 48,
   "id": "b0a40d7a",
   "metadata": {},
   "outputs": [
    {
     "name": "stdout",
     "output_type": "stream",
     "text": [
      "formulalib Version v2.1.2 (17/Nov/2022)\n"
     ]
    }
   ],
   "source": [
    "try:\n",
    "    from .formulalib import Formulas, __VERSION__ as _fversion, __DATE__ as _fdate\n",
    "except:\n",
    "    from formulalib import Formulas, __VERSION__ as _fversion, __DATE__ as _fdate\n",
    "print(f\"formulalib Version v{_fversion} ({_fdate})\")\n",
    "FORMULAS = Formulas()"
   ]
  },
  {
   "cell_type": "markdown",
   "id": "63a0d95a",
   "metadata": {},
   "source": [
    "### Core equations"
   ]
  },
  {
   "cell_type": "code",
   "execution_count": 49,
   "id": "9c145d50",
   "metadata": {},
   "outputs": [
    {
     "data": {
      "text/latex": [
       "$\\displaystyle y = \\frac{P_{0} x_{0} \\left(x \\left(\\Gamma - 1\\right) - x_{0} \\left(\\Gamma - 2\\right)\\right)}{\\Gamma x - x_{0} \\left(\\Gamma - 1\\right)}$"
      ],
      "text/plain": [
       "Eq(y, P_0*x_0*(x*(\\Gamma - 1) - x_0*(\\Gamma - 2))/(\\Gamma*x - x_0*(\\Gamma - 1)))"
      ]
     },
     "execution_count": 49,
     "metadata": {},
     "output_type": "execute_result"
    }
   ],
   "source": [
    "FORMULAS.add(\n",
    "    \"PIE\", PIE, \n",
    "    \"Pool Invariant Equation (risk asset)\", \n",
    "    \"expressed as y as a function of x and parameters P, x0, Gamma\", \n",
    ")"
   ]
  },
  {
   "cell_type": "code",
   "execution_count": 50,
   "id": "83677fa4",
   "metadata": {},
   "outputs": [
    {
     "data": {
      "text/latex": [
       "$\\displaystyle y = \\frac{y_{0} \\left(P_{0} x \\left(\\Gamma - 1\\right) - y_{0} \\left(\\Gamma - 2\\right)\\right)}{P_{0} \\Gamma x - y_{0} \\left(\\Gamma - 1\\right)}$"
      ],
      "text/plain": [
       "Eq(y, y_0*(P_0*x*(\\Gamma - 1) - y_0*(\\Gamma - 2))/(P_0*\\Gamma*x - y_0*(\\Gamma - 1)))"
      ]
     },
     "execution_count": 50,
     "metadata": {},
     "output_type": "execute_result"
    }
   ],
   "source": [
    "FORMULAS.add(\n",
    "    \"PINE\", PINE, \n",
    "    \"Pool Invariant Equation (numeraire)\", \n",
    "    \"expressed as y as a function of x and parameters P, y0, Gamma\", \n",
    ")"
   ]
  },
  {
   "cell_type": "code",
   "execution_count": 51,
   "id": "87948917",
   "metadata": {},
   "outputs": [
    {
     "data": {
      "text/latex": [
       "$\\displaystyle Q = \\frac{x y}{\\left(x - x_{int}\\right) \\left(y - y_{int}\\right)}$"
      ],
      "text/plain": [
       "Eq(Q, x*y/((x - x_{int})*(y - y_{int})))"
      ]
     },
     "execution_count": 51,
     "metadata": {},
     "output_type": "execute_result"
    }
   ],
   "source": [
    "FORMULAS.add(\n",
    "    \"PIQE\", PIQE, \n",
    "    \"Pool Invariant Equation (Q-form)\", \n",
    "    \"expressed as Q equals function of x,y with the intercepts as parameters\", \n",
    ")"
   ]
  },
  {
   "cell_type": "code",
   "execution_count": 52,
   "id": "33c5216c",
   "metadata": {},
   "outputs": [
    {
     "data": {
      "text/latex": [
       "$\\displaystyle Q \\left(x - x_{int}\\right) \\left(y - y_{int}\\right) = x y$"
      ],
      "text/plain": [
       "Eq(Q*(x - x_{int})*(y - y_{int}), x*y)"
      ]
     },
     "execution_count": 52,
     "metadata": {},
     "output_type": "execute_result"
    }
   ],
   "source": [
    "FORMULAS.add(\n",
    "    \"PIQ2E\", PIQ2E, \n",
    "    \"Pool Invariant Equation (Q-form)\", \n",
    "    \"expressed as Q equals function of x,y with the intercepts as parameters (alternitive form)\", \n",
    ")"
   ]
  },
  {
   "cell_type": "code",
   "execution_count": 53,
   "id": "b50d12de",
   "metadata": {},
   "outputs": [
    {
     "data": {
      "text/latex": [
       "$\\displaystyle y = - \\frac{P_{0} r x \\left(- \\Gamma + r \\left(\\Gamma - 2\\right) + 1\\right)}{\\Gamma - r \\left(\\Gamma - 1\\right)}$"
      ],
      "text/plain": [
       "Eq(y, -P_0*r*x*(-\\Gamma + r*(\\Gamma - 2) + 1)/(\\Gamma - r*(\\Gamma - 1)))"
      ]
     },
     "execution_count": 53,
     "metadata": {},
     "output_type": "execute_result"
    }
   ],
   "source": [
    "FORMULAS.add(\n",
    "    \"PIRE\", PIRE, \n",
    "    \"Pool Invariant Equation (r)\", \n",
    "    \"expressed as y as a function of r and parameters P, x0, Gamma\", \n",
    ")"
   ]
  },
  {
   "cell_type": "code",
   "execution_count": 54,
   "id": "7baa886f",
   "metadata": {},
   "outputs": [
    {
     "data": {
      "text/latex": [
       "$\\displaystyle y = \\frac{P_{0} x_{0} \\left(- \\Gamma + \\rho \\left(\\Gamma - 1\\right) + 2\\right)}{\\Gamma \\rho - \\Gamma + 1}$"
      ],
      "text/plain": [
       "Eq(y, P_0*x_0*(-\\Gamma + \\rho*(\\Gamma - 1) + 2)/(\\Gamma*\\rho - \\Gamma + 1))"
      ]
     },
     "execution_count": 54,
     "metadata": {},
     "output_type": "execute_result"
    }
   ],
   "source": [
    "FORMULAS.add(\n",
    "    \"PIRIE\", PIRIE, \n",
    "    \"Pool Invariant Equation (rho)\", \n",
    "    \"expressed as y as a function of rho and parameters P, x0, Gamma\", \n",
    ")"
   ]
  },
  {
   "cell_type": "code",
   "execution_count": 55,
   "id": "f88cee19",
   "metadata": {},
   "outputs": [
    {
     "data": {
      "text/latex": [
       "$\\displaystyle - \\Delta{y} = \\frac{P_{0} \\Delta{x} x_{0}^{2}}{\\left(\\Gamma \\left(x - x_{0}\\right) + x_{0}\\right) \\left(\\Gamma \\left(\\Delta{x} + x - x_{0}\\right) + x_{0}\\right)}$"
      ],
      "text/plain": [
       "Eq(-\\Delta{y}, P_0*\\Delta{x}*x_0**2/((\\Gamma*(x - x_0) + x_0)*(\\Gamma*(\\Delta{x} + x - x_0) + x_0)))"
      ]
     },
     "execution_count": 55,
     "metadata": {},
     "output_type": "execute_result"
    }
   ],
   "source": [
    "FORMULAS.add(\n",
    "    \"SE\", SE, \n",
    "    \"Swap Equation\", \n",
    "    \"expressed as minus Delta y as a function of Delta x and all other parameters and variables from the PIE\", \n",
    ")"
   ]
  },
  {
   "cell_type": "code",
   "execution_count": 56,
   "id": "bccb78c7",
   "metadata": {},
   "outputs": [
    {
     "data": {
      "text/latex": [
       "$\\displaystyle \\Delta{y} = \\frac{P_{0} \\Delta{x} r^{2} x}{\\left(\\Gamma \\left(r - 1\\right) - r\\right) \\left(\\Gamma \\left(\\Delta{x} - r x + x\\right) + r x\\right)}$"
      ],
      "text/plain": [
       "Eq(\\Delta{y}, P_0*\\Delta{x}*r**2*x/((\\Gamma*(r - 1) - r)*(\\Gamma*(\\Delta{x} - r*x + x) + r*x)))"
      ]
     },
     "execution_count": 56,
     "metadata": {},
     "output_type": "execute_result"
    }
   ],
   "source": [
    "FORMULAS.add(\n",
    "    \"SRE\", SRE, \n",
    "    \"Swap Equation (r)\", \n",
    "    \"expressed as minus Delta y as a function of Delta x and all other parameters and variables from the PIRE\", \n",
    ")"
   ]
  },
  {
   "cell_type": "code",
   "execution_count": 57,
   "id": "72e0c3af",
   "metadata": {},
   "outputs": [
    {
     "data": {
      "text/latex": [
       "$\\displaystyle - \\Delta{y} = \\frac{P_{0} \\Delta{x} x_{0}}{\\left(\\Gamma \\left(\\Delta{x} + x_{0} \\left(\\rho - 1\\right)\\right) + x_{0}\\right) \\left(\\Gamma \\left(\\rho - 1\\right) + 1\\right)}$"
      ],
      "text/plain": [
       "Eq(-\\Delta{y}, P_0*\\Delta{x}*x_0/((\\Gamma*(\\Delta{x} + x_0*(\\rho - 1)) + x_0)*(\\Gamma*(\\rho - 1) + 1)))"
      ]
     },
     "execution_count": 57,
     "metadata": {},
     "output_type": "execute_result"
    }
   ],
   "source": [
    "FORMULAS.add(\n",
    "    \"SRIE\", SRIE, \n",
    "    \"Swap Equation (rho)\", \n",
    "    \"expressed as minus Delta y as a function of Delta x and all other parameters and variables from the PIRIE\", \n",
    ")"
   ]
  },
  {
   "cell_type": "code",
   "execution_count": 58,
   "id": "e214aa77",
   "metadata": {},
   "outputs": [
    {
     "data": {
      "text/latex": [
       "$\\displaystyle - \\frac{dy}{dx} = \\frac{P_{0} x_{0}^{2}}{\\left(\\Gamma \\left(x - x_{0}\\right) + x_{0}\\right)^{2}}$"
      ],
      "text/plain": [
       "Eq(-dy/dx, P_0*x_0**2/(\\Gamma*(x - x_0) + x_0)**2)"
      ]
     },
     "execution_count": 58,
     "metadata": {},
     "output_type": "execute_result"
    }
   ],
   "source": [
    "FORMULAS.add(\n",
    "    \"MSE\", MSE, \n",
    "    \"Marginal Swap Equation\", \n",
    "    \"the Swap Equation for Delta x -> dx; dx is brought to the LHS\", \n",
    ")"
   ]
  },
  {
   "cell_type": "code",
   "execution_count": 59,
   "id": "a165b19e",
   "metadata": {},
   "outputs": [
    {
     "data": {
      "text/latex": [
       "$\\displaystyle P_{marg} = \\frac{P_{0} x_{0}^{2}}{\\left(\\Gamma \\left(x - x_{0}\\right) + x_{0}\\right)^{2}}$"
      ],
      "text/plain": [
       "Eq(P_{marg}, P_0*x_0**2/(\\Gamma*(x - x_0) + x_0)**2)"
      ]
     },
     "execution_count": 59,
     "metadata": {},
     "output_type": "execute_result"
    }
   ],
   "source": [
    "FORMULAS.add(\n",
    "    \"MPE\", MPE, \n",
    "    \"Marginal Price Equation\", \n",
    "    \"this is the same as the Marginal Swap Equation, except that the LHS is recognized as the marginal price\", \n",
    ")"
   ]
  },
  {
   "cell_type": "code",
   "execution_count": 60,
   "id": "422506ee",
   "metadata": {},
   "outputs": [
    {
     "data": {
      "text/latex": [
       "$\\displaystyle P_{marg} = \\frac{P_{0} \\left(\\Gamma \\left(y - y_{0}\\right) + y_{0}\\right)^{2}}{y_{0}^{2}}$"
      ],
      "text/plain": [
       "Eq(P_{marg}, P_0*(\\Gamma*(y - y_0) + y_0)**2/y_0**2)"
      ]
     },
     "execution_count": 60,
     "metadata": {},
     "output_type": "execute_result"
    }
   ],
   "source": [
    "FORMULAS.add(\n",
    "    \"MPERev\", MPERev, \n",
    "    \"Reverse Marginal Price Equation\", \n",
    "    \"Marginal price eqaution seen from the other side (ie based on y, y0)\", \n",
    ")"
   ]
  },
  {
   "cell_type": "code",
   "execution_count": 61,
   "id": "a110efc3",
   "metadata": {},
   "outputs": [
    {
     "data": {
      "text/latex": [
       "$\\displaystyle P_{marg} = \\frac{P_{0} Q x_{int}^{2}}{\\left(- Q x + Q x_{int} + x\\right)^{2}}$"
      ],
      "text/plain": [
       "Eq(P_{marg}, P_0*Q*x_{int}**2/(-Q*x + Q*x_{int} + x)**2)"
      ]
     },
     "execution_count": 61,
     "metadata": {},
     "output_type": "execute_result"
    }
   ],
   "source": [
    "FORMULAS.add(\n",
    "    \"MPQXiE\", MPQXiE, \n",
    "    \"Marginal Price Equation (Q,xint)\", \n",
    "    \"Reparametrization of the MPE as a function of $Q, x_{int}$\", \n",
    ")"
   ]
  },
  {
   "cell_type": "code",
   "execution_count": 62,
   "id": "546bbafc",
   "metadata": {},
   "outputs": [
    {
     "data": {
      "text/latex": [
       "$\\displaystyle P_{marg} = \\frac{P_{0} \\left(- Q y + Q y_{int} + y\\right)^{2}}{Q y_{int}^{2}}$"
      ],
      "text/plain": [
       "Eq(P_{marg}, P_0*(-Q*y + Q*y_{int} + y)**2/(Q*y_{int}**2))"
      ]
     },
     "execution_count": 62,
     "metadata": {},
     "output_type": "execute_result"
    }
   ],
   "source": [
    "FORMULAS.add(\n",
    "    \"MPQYiE\", MPQYiE, \n",
    "    \"Marginal Price Equation (Q,yint)\", \n",
    "    \"Reparametrization of the MPE as a function of $Q, y_{int}$\", \n",
    ")"
   ]
  },
  {
   "cell_type": "code",
   "execution_count": 63,
   "id": "8ecbe5b3",
   "metadata": {},
   "outputs": [
    {
     "data": {
      "text/latex": [
       "$\\displaystyle P_{marg} = \\frac{P_{0} \\left(- \\sqrt{w} y + \\sqrt{w} y_{int} + y\\right)^{2}}{\\sqrt{w} y_{int}^{2}}$"
      ],
      "text/plain": [
       "Eq(P_{marg}, P_0*(-sqrt(w)*y + sqrt(w)*y_{int} + y)**2/(sqrt(w)*y_{int}**2))"
      ]
     },
     "execution_count": 63,
     "metadata": {},
     "output_type": "execute_result"
    }
   ],
   "source": [
    "FORMULAS.add(\n",
    "    \"MPWYiE\", MPWYiE, \n",
    "    \"Marginal Price Equation (w,yint)\", \n",
    "    \"Reparametrization of the MPE as a function of $w, y_{int}$\", \n",
    ")"
   ]
  },
  {
   "cell_type": "code",
   "execution_count": 64,
   "id": "e778e1e4",
   "metadata": {},
   "outputs": [
    {
     "data": {
      "text/latex": [
       "$\\displaystyle P_{marg} = \\frac{P_{0} \\left(- \\sqrt{w} y + \\sqrt{w} y_{int} + y\\right)^{2}}{\\sqrt{w} y_{int}^{2}}$"
      ],
      "text/plain": [
       "Eq(P_{marg}, P_0*(-sqrt(w)*y + sqrt(w)*y_{int} + y)**2/(sqrt(w)*y_{int}**2))"
      ]
     },
     "execution_count": 64,
     "metadata": {},
     "output_type": "execute_result"
    }
   ],
   "source": [
    "FORMULAS.add(\n",
    "    \"MPWYiE\", MPWYiE, \n",
    "    \"Marginal Price Equation (w,yint)\", \n",
    "    \"Reparametrization of the MPE as a function of $w, y_{int}$\", \n",
    ")"
   ]
  },
  {
   "cell_type": "code",
   "execution_count": 65,
   "id": "776d2473",
   "metadata": {},
   "outputs": [
    {
     "data": {
      "text/latex": [
       "$\\displaystyle P_{0} = \\frac{P_{marg} \\sqrt{w} y_{int}^{2}}{\\left(- \\sqrt{w} y + \\sqrt{w} y_{int} + y\\right)^{2}}$"
      ],
      "text/plain": [
       "Eq(P_0, P_{marg}*sqrt(w)*y_{int}**2/(-sqrt(w)*y + sqrt(w)*y_{int} + y)**2)"
      ]
     },
     "execution_count": 65,
     "metadata": {},
     "output_type": "execute_result"
    }
   ],
   "source": [
    "FORMULAS.add(\n",
    "    \"P0WYiE\", P0WYiE, \n",
    "    \"Constant Marginal Price Curve Equation\", \n",
    "    \"Establishes relationship $P_0=P_0(w)$ for which the marginal price remains const\", \n",
    ")"
   ]
  },
  {
   "cell_type": "code",
   "execution_count": 66,
   "id": "58260084",
   "metadata": {},
   "outputs": [
    {
     "data": {
      "text/latex": [
       "$\\displaystyle x_{0} = r x$"
      ],
      "text/plain": [
       "Eq(x_0, r*x)"
      ]
     },
     "execution_count": 66,
     "metadata": {},
     "output_type": "execute_result"
    }
   ],
   "source": [
    "FORMULAS.add(\n",
    "    \"RXE\", RXE, \n",
    "    \"Ratio equation (x/x0)\", \n",
    "    \"Defines r as the ratio x/x0\", \n",
    ")"
   ]
  },
  {
   "cell_type": "code",
   "execution_count": 67,
   "id": "b3347e6c",
   "metadata": {},
   "outputs": [
    {
     "data": {
      "text/latex": [
       "$\\displaystyle x = \\rho x_{0}$"
      ],
      "text/plain": [
       "Eq(x, \\rho*x_0)"
      ]
     },
     "execution_count": 67,
     "metadata": {},
     "output_type": "execute_result"
    }
   ],
   "source": [
    "FORMULAS.add(\n",
    "    \"RXIE\", RXIE, \n",
    "    \"Inverse ratio equation (x0/x)\", \n",
    "    \"Defines rho as the ratio x0/x\", \n",
    ")"
   ]
  },
  {
   "cell_type": "code",
   "execution_count": 68,
   "id": "9b8d7519",
   "metadata": {},
   "outputs": [
    {
     "data": {
      "text/latex": [
       "$\\displaystyle P_{marg} = \\frac{P_{0} r^{2}}{\\left(\\Gamma \\left(r - 1\\right) - r\\right)^{2}}$"
      ],
      "text/plain": [
       "Eq(P_{marg}, P_0*r**2/(\\Gamma*(r - 1) - r)**2)"
      ]
     },
     "execution_count": 68,
     "metadata": {},
     "output_type": "execute_result"
    }
   ],
   "source": [
    "FORMULAS.add(\n",
    "    \"MPRE\", MPRE, \n",
    "    \"Marginal Price Equation (fixed x/x0)\", \n",
    "    \"this is the same as the Marginal Swap Equation, except that the LHS is recognized as the marginal price; x/x0 = r is fixed\", \n",
    ")"
   ]
  },
  {
   "cell_type": "code",
   "execution_count": 69,
   "id": "b68c10ae",
   "metadata": {},
   "outputs": [
    {
     "data": {
      "text/latex": [
       "$\\displaystyle P_{marg} = \\frac{P_{0}}{\\left(\\Gamma \\left(\\rho - 1\\right) + 1\\right)^{2}}$"
      ],
      "text/plain": [
       "Eq(P_{marg}, P_0/(\\Gamma*(\\rho - 1) + 1)**2)"
      ]
     },
     "execution_count": 69,
     "metadata": {},
     "output_type": "execute_result"
    }
   ],
   "source": [
    "FORMULAS.add(\n",
    "    \"MPRIE\", MPRIE, \n",
    "    \"Marginal Price Equation (fixed x0/x)\", \n",
    "    \"this is the same as the Marginal Swap Equation, except that the LHS is recognized as the marginal price; x/x0 = r is fixed\", \n",
    ")"
   ]
  },
  {
   "cell_type": "markdown",
   "id": "2ff6f33b",
   "metadata": {},
   "source": [
    "### Definition equations and other relationships"
   ]
  },
  {
   "cell_type": "code",
   "execution_count": 70,
   "id": "5142c4a2",
   "metadata": {},
   "outputs": [
    {
     "data": {
      "text/latex": [
       "$\\displaystyle Q = \\left(1 - \\Gamma\\right)^{2}$"
      ],
      "text/plain": [
       "Eq(Q, (1 - \\Gamma)**2)"
      ]
     },
     "execution_count": 70,
     "metadata": {},
     "output_type": "execute_result"
    }
   ],
   "source": [
    "FORMULAS.add(\n",
    "    \"QGDE\", QGDE, \n",
    "    \"Q Gamma Definition Equation\", \n",
    "    \"Gamma as a function of Q\", \n",
    ")"
   ]
  },
  {
   "cell_type": "code",
   "execution_count": 71,
   "id": "f07e9826",
   "metadata": {},
   "outputs": [
    {
     "data": {
      "text/latex": [
       "$\\displaystyle \\Gamma = 1 - \\sqrt{Q}$"
      ],
      "text/plain": [
       "Eq(\\Gamma, 1 - sqrt(Q))"
      ]
     },
     "execution_count": 71,
     "metadata": {},
     "output_type": "execute_result"
    }
   ],
   "source": [
    "FORMULAS.add(\n",
    "    \"GQE\", GQE, \n",
    "    \"Gamma Q Equation\", \n",
    "    \"Gamma as a function of Q\", \n",
    ")"
   ]
  },
  {
   "cell_type": "code",
   "execution_count": 72,
   "id": "bb5ee097",
   "metadata": {},
   "outputs": [
    {
     "data": {
      "text/latex": [
       "$\\displaystyle \\frac{2 - \\Gamma}{1 - \\Gamma} = 1 + \\frac{1}{\\sqrt{Q}}$"
      ],
      "text/plain": [
       "Eq((2 - \\Gamma)/(1 - \\Gamma), 1 + 1/sqrt(Q))"
      ]
     },
     "execution_count": 72,
     "metadata": {},
     "output_type": "execute_result"
    }
   ],
   "source": [
    "FORMULAS.add(\n",
    "    \"GFQE\", GFQE, \n",
    "    \"Gamma Q Formula Equation\", \n",
    "    \"an important relationship between functions of Gamma and Q\", \n",
    ")"
   ]
  },
  {
   "cell_type": "code",
   "execution_count": 73,
   "id": "795af717",
   "metadata": {},
   "outputs": [
    {
     "data": {
      "text/latex": [
       "$\\displaystyle x_{int} = \\frac{x_{0} \\left(2 - \\Gamma\\right)}{1 - \\Gamma}$"
      ],
      "text/plain": [
       "Eq(x_{int}, x_0*(2 - \\Gamma)/(1 - \\Gamma))"
      ]
     },
     "execution_count": 73,
     "metadata": {},
     "output_type": "execute_result"
    }
   ],
   "source": [
    "FORMULAS.add(\n",
    "    \"XiDE\", XiDE, \n",
    "    \"Xint Definition Equation\", \n",
    "    \"xint as function of x0 and Gamma\", \n",
    ")"
   ]
  },
  {
   "cell_type": "code",
   "execution_count": 74,
   "id": "bfe1bc30",
   "metadata": {},
   "outputs": [
    {
     "data": {
      "text/latex": [
       "$\\displaystyle y_{int} = \\frac{y_{0} \\left(2 - \\Gamma\\right)}{1 - \\Gamma}$"
      ],
      "text/plain": [
       "Eq(y_{int}, y_0*(2 - \\Gamma)/(1 - \\Gamma))"
      ]
     },
     "execution_count": 74,
     "metadata": {},
     "output_type": "execute_result"
    }
   ],
   "source": [
    "FORMULAS.add(\n",
    "    \"YiDE\", YiDE, \n",
    "    \"Yint Definition Equation\", \n",
    "    \"xint as function of y0 and Gamma\", \n",
    ")"
   ]
  },
  {
   "cell_type": "code",
   "execution_count": 75,
   "id": "df71c05b",
   "metadata": {},
   "outputs": [
    {
     "data": {
      "text/latex": [
       "$\\displaystyle x_{int} = x_{0} \\left(1 + \\frac{1}{\\sqrt{Q}}\\right)$"
      ],
      "text/plain": [
       "Eq(x_{int}, x_0*(1 + 1/sqrt(Q)))"
      ]
     },
     "execution_count": 75,
     "metadata": {},
     "output_type": "execute_result"
    }
   ],
   "source": [
    "FORMULAS.add(\n",
    "    \"XiQE\", XiQE, \n",
    "    \"Xint Q Equation\", \n",
    "    \"xint as function of x0 and Q\", \n",
    ")"
   ]
  },
  {
   "cell_type": "code",
   "execution_count": 76,
   "id": "d876b5ab",
   "metadata": {},
   "outputs": [
    {
     "data": {
      "text/latex": [
       "$\\displaystyle y_{int} = y_{0} \\left(1 + \\frac{1}{\\sqrt{Q}}\\right)$"
      ],
      "text/plain": [
       "Eq(y_{int}, y_0*(1 + 1/sqrt(Q)))"
      ]
     },
     "execution_count": 76,
     "metadata": {},
     "output_type": "execute_result"
    }
   ],
   "source": [
    "FORMULAS.add(\n",
    "    \"YiQE\", YiQE, \n",
    "    \"Yint Q Equation\", \n",
    "    \"yint as function of y0 and Q\", \n",
    ")"
   ]
  },
  {
   "cell_type": "code",
   "execution_count": 77,
   "id": "684e869f",
   "metadata": {},
   "outputs": [
    {
     "data": {
      "text/latex": [
       "$\\displaystyle P_{x} = P_{0} Q$"
      ],
      "text/plain": [
       "Eq(P_x, P_0*Q)"
      ]
     },
     "execution_count": 77,
     "metadata": {},
     "output_type": "execute_result"
    }
   ],
   "source": [
    "FORMULAS.add(\n",
    "    \"PxDE\", PxDE, \n",
    "    \"Px Equation\", \n",
    "    \"Px as function of P and Q\", \n",
    ")"
   ]
  },
  {
   "cell_type": "code",
   "execution_count": 78,
   "id": "3bd3457f",
   "metadata": {},
   "outputs": [
    {
     "data": {
      "text/latex": [
       "$\\displaystyle P_{y} = \\frac{P_{0}}{Q}$"
      ],
      "text/plain": [
       "Eq(P_y, P_0/Q)"
      ]
     },
     "execution_count": 78,
     "metadata": {},
     "output_type": "execute_result"
    }
   ],
   "source": [
    "FORMULAS.add(\n",
    "    \"PyDE\", PyDE, \n",
    "    \"Py Equation\", \n",
    "    \"Py as function of P and Q\", \n",
    ")"
   ]
  },
  {
   "cell_type": "code",
   "execution_count": 79,
   "id": "53494466",
   "metadata": {},
   "outputs": [
    {
     "data": {
      "text/latex": [
       "$\\displaystyle P_{0} = \\frac{y_{0}}{x_{0}}$"
      ],
      "text/plain": [
       "Eq(P_0, y_0/x_0)"
      ]
     },
     "execution_count": 79,
     "metadata": {},
     "output_type": "execute_result"
    }
   ],
   "source": [
    "FORMULAS.add(\n",
    "    \"PXYE\", PXYE, \n",
    "    \"PXY Equation\", \n",
    "    \"P as a function of x0 and y0\", \n",
    ")"
   ]
  },
  {
   "cell_type": "code",
   "execution_count": 80,
   "id": "50387636",
   "metadata": {},
   "outputs": [
    {
     "data": {
      "text/latex": [
       "$\\displaystyle P_{0} = \\frac{y_{int}}{x_{int}}$"
      ],
      "text/plain": [
       "Eq(P_0, y_{int}/x_{int})"
      ]
     },
     "execution_count": 80,
     "metadata": {},
     "output_type": "execute_result"
    }
   ],
   "source": [
    "FORMULAS.add(\n",
    "    \"PXYiE\", PXYiE, \n",
    "    \"PXYi Equation\", \n",
    "    \"P as a function of xint and yint\", \n",
    ")"
   ]
  },
  {
   "cell_type": "code",
   "execution_count": 81,
   "id": "3991187d",
   "metadata": {},
   "outputs": [
    {
     "data": {
      "text/latex": [
       "$\\displaystyle Q = \\sqrt{\\frac{P_{y}}{P_{x}}}$"
      ],
      "text/plain": [
       "Eq(Q, sqrt(P_y/P_x))"
      ]
     },
     "execution_count": 81,
     "metadata": {},
     "output_type": "execute_result"
    }
   ],
   "source": [
    "FORMULAS.add(\n",
    "    \"QPE\", QPE, \n",
    "    \"QP Equation\", \n",
    "    \"Q as a function of Px and Py\", \n",
    ")"
   ]
  },
  {
   "cell_type": "code",
   "execution_count": 82,
   "id": "44277a09",
   "metadata": {},
   "outputs": [
    {
     "data": {
      "text/latex": [
       "$\\displaystyle w = \\frac{P_{y}}{P_{x}}$"
      ],
      "text/plain": [
       "Eq(w, P_y/P_x)"
      ]
     },
     "execution_count": 82,
     "metadata": {},
     "output_type": "execute_result"
    }
   ],
   "source": [
    "FORMULAS.add(\n",
    "    \"WDE\", WDE, \n",
    "    \"Range width definition equation\", \n",
    "    \"w as ratio Py/Px \", \n",
    ")"
   ]
  },
  {
   "cell_type": "code",
   "execution_count": 83,
   "id": "c5d12dcd",
   "metadata": {},
   "outputs": [
    {
     "data": {
      "text/latex": [
       "$\\displaystyle w = Q^{2}$"
      ],
      "text/plain": [
       "Eq(w, Q**2)"
      ]
     },
     "execution_count": 83,
     "metadata": {},
     "output_type": "execute_result"
    }
   ],
   "source": [
    "FORMULAS.add(\n",
    "    \"WE\", WE, \n",
    "    \"Range width equation\", \n",
    "    \"Py/Px as a function of Q\", \n",
    ")"
   ]
  },
  {
   "cell_type": "code",
   "execution_count": 84,
   "id": "d3372f9f",
   "metadata": {},
   "outputs": [
    {
     "data": {
      "text/latex": [
       "$\\displaystyle P_{0} = \\sqrt{P_{x} P_{y}}$"
      ],
      "text/plain": [
       "Eq(P_0, sqrt(P_x*P_y))"
      ]
     },
     "execution_count": 84,
     "metadata": {},
     "output_type": "execute_result"
    }
   ],
   "source": [
    "FORMULAS.add(\n",
    "    \"PPE\", PPE, \n",
    "    \"PP Equation\", \n",
    "    \"P as a function of Px and Py\", \n",
    ")"
   ]
  },
  {
   "cell_type": "code",
   "execution_count": 85,
   "id": "965b68e6",
   "metadata": {},
   "outputs": [
    {
     "data": {
      "text/latex": [
       "$\\displaystyle x_{int} = \\frac{y_{int}}{\\sqrt{P_{x} P_{y}}}$"
      ],
      "text/plain": [
       "Eq(x_{int}, y_{int}/sqrt(P_x*P_y))"
      ]
     },
     "execution_count": 85,
     "metadata": {},
     "output_type": "execute_result"
    }
   ],
   "source": [
    "FORMULAS.add(\n",
    "    \"XiPE\", XiPE, \n",
    "    \"Xint from P\", \n",
    "    \"xint as function of Px and Py\", \n",
    ")"
   ]
  },
  {
   "cell_type": "code",
   "execution_count": 86,
   "id": "09e017a7",
   "metadata": {},
   "outputs": [
    {
     "data": {
      "text/latex": [
       "$\\displaystyle x_{int} = \\frac{y_{int}}{\\sqrt{P_{x} P_{y}}}$"
      ],
      "text/plain": [
       "Eq(x_{int}, y_{int}/sqrt(P_x*P_y))"
      ]
     },
     "execution_count": 86,
     "metadata": {},
     "output_type": "execute_result"
    }
   ],
   "source": [
    "FORMULAS.add(\n",
    "    \"YiPE\", XiPE, \n",
    "    \"yint from P\", \n",
    "    \"yint as function of Px and Py\", \n",
    ")"
   ]
  }
 ],
 "metadata": {
  "jupytext": {
   "encoding": "# -*- coding: utf-8 -*-",
   "formats": "ipynb,auto:light"
  },
  "kernelspec": {
   "display_name": "Python 3",
   "language": "python",
   "name": "python3"
  },
  "language_info": {
   "codemirror_mode": {
    "name": "ipython",
    "version": 3
   },
   "file_extension": ".py",
   "mimetype": "text/x-python",
   "name": "python",
   "nbconvert_exporter": "python",
   "pygments_lexer": "ipython3",
   "version": "3.8.8"
  }
 },
 "nbformat": 4,
 "nbformat_minor": 5
}
