{
 "cells": [
  {
   "cell_type": "code",
   "execution_count": 1,
   "id": "dd87e6e0",
   "metadata": {},
   "outputs": [
    {
     "name": "stdout",
     "output_type": "stream",
     "text": [
      "Carbon v2.0-beta2 (8/Dec/2022)\n",
      "CarbonSimulatorUI v2.2 (8/Dec/2022)\n"
     ]
    }
   ],
   "source": [
    "from carbon import CarbonSimulatorUI, CarbonPair, P, __version__, __date__\n",
    "print(f\"Carbon v{__version__} ({__date__})\")\n",
    "print(\"{0.__name__} v{0.__VERSION__} ({0.__DATE__})\".format(CarbonSimulatorUI))"
   ]
  },
  {
   "cell_type": "markdown",
   "id": "8aa3435a",
   "metadata": {},
   "source": [
    "# Carbon Simulation - Test 38 - CarbonPair"
   ]
  },
  {
   "cell_type": "markdown",
   "id": "34b1196c",
   "metadata": {},
   "source": [
    "NBTEST: NOTEST_DEFAULT = TEST"
   ]
  },
  {
   "cell_type": "markdown",
   "id": "ec6ff430",
   "metadata": {},
   "source": [
    "\n",
    "## CarbonPair\n",
    "\n",
    "Testing the new CarbonPair interface -- **BREAKING CHANGE**"
   ]
  },
  {
   "cell_type": "code",
   "execution_count": 2,
   "id": "c602b088",
   "metadata": {},
   "outputs": [],
   "source": [
    "#help(CarbonPair)"
   ]
  },
  {
   "cell_type": "code",
   "execution_count": 3,
   "id": "6d64e832",
   "metadata": {},
   "outputs": [],
   "source": [
    "assert(P==CarbonPair)\n",
    "assert(str(P(\"ETH/USDC\"))==\"P('ETH/USDC')\")"
   ]
  },
  {
   "cell_type": "code",
   "execution_count": 4,
   "id": "8596c791",
   "metadata": {},
   "outputs": [
    {
     "data": {
      "text/plain": [
       "\"P('ETH/USDC')\""
      ]
     },
     "execution_count": 4,
     "metadata": {},
     "output_type": "execute_result"
    }
   ],
   "source": [
    "str(P(\"ETH/USDC\"))"
   ]
  },
  {
   "cell_type": "code",
   "execution_count": 5,
   "id": "687ee044",
   "metadata": {},
   "outputs": [
    {
     "name": "stdout",
     "output_type": "stream",
     "text": [
      "('If pair is None must provide tknb, tknq', None, None, None)\n"
     ]
    }
   ],
   "source": [
    "try:\n",
    "    p = CarbonPair()\n",
    "except ValueError as e:\n",
    "    print(e)\n",
    "    assert(str(e)==\"('If pair is None must provide tknb, tknq', None, None, None)\")"
   ]
  },
  {
   "cell_type": "code",
   "execution_count": 6,
   "id": "1573e251",
   "metadata": {},
   "outputs": [
    {
     "name": "stdout",
     "output_type": "stream",
     "text": [
      "(\"Parameters are pair, tknb, tknq; did you mean `tknb='ETH', tknq='USDC'` ?\", 'ETH', 'USDC', None)\n"
     ]
    }
   ],
   "source": [
    "try:\n",
    "    p = CarbonPair(\"ETH\", \"USDC\")\n",
    "except ValueError as e:\n",
    "    print(e)\n",
    "    assert(str(e)==\"\"\"(\"Parameters are pair, tknb, tknq; did you mean `tknb='ETH', tknq='USDC'` ?\", 'ETH', 'USDC', None)\"\"\")"
   ]
  },
  {
   "cell_type": "code",
   "execution_count": 7,
   "id": "11d2c36b",
   "metadata": {},
   "outputs": [
    {
     "name": "stdout",
     "output_type": "stream",
     "text": [
      "P('ETH/USDC')\n"
     ]
    }
   ],
   "source": [
    "p = CarbonPair(\"\", \"ETH\", \"USDC\")\n",
    "print(p)\n",
    "assert(str(p) == \"P('ETH/USDC')\")"
   ]
  },
  {
   "cell_type": "code",
   "execution_count": 8,
   "id": "0589adb2",
   "metadata": {},
   "outputs": [
    {
     "name": "stdout",
     "output_type": "stream",
     "text": [
      "P('ETH/USDC')\n"
     ]
    }
   ],
   "source": [
    "p = CarbonPair(tknb=\"ETH\", tknq=\"USDC\")\n",
    "print(p)\n",
    "assert(str(p) == \"P('ETH/USDC')\")"
   ]
  },
  {
   "cell_type": "code",
   "execution_count": 9,
   "id": "add3bfe6",
   "metadata": {},
   "outputs": [
    {
     "name": "stdout",
     "output_type": "stream",
     "text": [
      "P('ETH/USDC')\n"
     ]
    }
   ],
   "source": [
    "p = CarbonPair(tknq=\"USDC\", tknb=\"ETH\")\n",
    "print(p)\n",
    "assert(str(p) == \"P('ETH/USDC')\")"
   ]
  },
  {
   "cell_type": "code",
   "execution_count": 10,
   "id": "e50389db",
   "metadata": {},
   "outputs": [
    {
     "name": "stdout",
     "output_type": "stream",
     "text": [
      "('Illegal slashpair', 'ETHUSDC')\n"
     ]
    }
   ],
   "source": [
    "try:\n",
    "    p = CarbonPair(\"ETHUSDC\")\n",
    "except ValueError as e:\n",
    "    print(e)\n",
    "    assert(str(e)==\"\"\"('Illegal slashpair', 'ETHUSDC')\"\"\")"
   ]
  },
  {
   "cell_type": "code",
   "execution_count": 11,
   "id": "85c4bc92",
   "metadata": {},
   "outputs": [
    {
     "name": "stdout",
     "output_type": "stream",
     "text": [
      "P('ETH/USDC')\n"
     ]
    }
   ],
   "source": [
    "p = CarbonPair(\"ETH/USDC\")\n",
    "print(p)\n",
    "assert(str(p) == \"P('ETH/USDC')\")"
   ]
  },
  {
   "cell_type": "code",
   "execution_count": 12,
   "id": "306daaf9",
   "metadata": {},
   "outputs": [
    {
     "name": "stdout",
     "output_type": "stream",
     "text": [
      "P('ETH/USDC')\n"
     ]
    }
   ],
   "source": [
    "p = CarbonPair.from_isopair_and_tkn(\"ETHUSDC\", \"USDC\")\n",
    "print(p)\n",
    "assert(str(p) == \"P('ETH/USDC')\")"
   ]
  },
  {
   "cell_type": "code",
   "execution_count": 13,
   "id": "0ead33f8",
   "metadata": {},
   "outputs": [
    {
     "name": "stdout",
     "output_type": "stream",
     "text": [
      "P('ETH/USDC')\n"
     ]
    }
   ],
   "source": [
    "p = CarbonPair.from_isopair_and_tkn(\"ETHUSDC\", \"ETH\")\n",
    "print(p)\n",
    "assert(str(p) == \"P('ETH/USDC')\")"
   ]
  },
  {
   "cell_type": "code",
   "execution_count": 14,
   "id": "72f2b4c7",
   "metadata": {},
   "outputs": [
    {
     "name": "stdout",
     "output_type": "stream",
     "text": [
      "('Invalid token specification (tkn not part of isopair)', 'ETHUSDC', 'WBTC')\n"
     ]
    }
   ],
   "source": [
    "try:\n",
    "    p = CarbonPair.from_isopair_and_tkn(\"ETHUSDC\", \"WBTC\")\n",
    "except ValueError as e:\n",
    "    print(e)\n",
    "    assert(str(e) == \"('Invalid token specification (tkn not part of isopair)', 'ETHUSDC', 'WBTC')\")"
   ]
  },
  {
   "cell_type": "code",
   "execution_count": 15,
   "id": "96a12139",
   "metadata": {},
   "outputs": [
    {
     "name": "stdout",
     "output_type": "stream",
     "text": [
      "P('ETH/USDC')\n"
     ]
    }
   ],
   "source": [
    "p = CarbonPair.create(\"ETH/USDC\")\n",
    "print(p)\n",
    "assert(str(p) == \"P('ETH/USDC')\")"
   ]
  },
  {
   "cell_type": "code",
   "execution_count": 16,
   "id": "c7160f88",
   "metadata": {},
   "outputs": [
    {
     "name": "stdout",
     "output_type": "stream",
     "text": [
      "P('ETH/USDC')\n"
     ]
    }
   ],
   "source": [
    "p = CarbonPair.create(\"ETH\", \"USDC\")\n",
    "print(p)\n",
    "assert(str(p) == \"P('ETH/USDC')\")"
   ]
  },
  {
   "cell_type": "code",
   "execution_count": 17,
   "id": "ecaeaa5d",
   "metadata": {},
   "outputs": [
    {
     "name": "stdout",
     "output_type": "stream",
     "text": [
      "P('ETH/USDC')\n"
     ]
    }
   ],
   "source": [
    "pp = CarbonPair.create(p)\n",
    "print(pp)\n",
    "assert(str(pp) == \"P('ETH/USDC')\")\n",
    "assert(pp is p)"
   ]
  },
  {
   "cell_type": "code",
   "execution_count": 18,
   "id": "2ffa5c1e",
   "metadata": {},
   "outputs": [
    {
     "name": "stdout",
     "output_type": "stream",
     "text": [
      "('Second argument must be None if arg1 is pair', P('ETH/USDC'), 'ETH')\n"
     ]
    }
   ],
   "source": [
    "try:\n",
    "    pp = CarbonPair.create(p, \"ETH\")\n",
    "except ValueError as e:\n",
    "    print(e)\n",
    "    assert(str(e) == \"('Second argument must be None if arg1 is pair', P('ETH/USDC'), 'ETH')\")"
   ]
  },
  {
   "cell_type": "code",
   "execution_count": 19,
   "id": "453cea77",
   "metadata": {},
   "outputs": [],
   "source": [
    "assert(p.tknb==\"ETH\")\n",
    "assert(p.tknq==\"USDC\")\n",
    "assert(p.basetoken==\"ETH\")\n",
    "assert(p.quotetoken==\"USDC\")\n",
    "assert(p.slashpair==\"ETH/USDC\")\n",
    "assert(p.pair_slash==\"ETH/USDC\")\n",
    "assert(p.pair_iso==\"ETHUSDC\")\n",
    "assert(p.price_convention==\"USDC per ETH\")\n",
    "assert(str(p.reverse)==\"P('USDC/ETH')\")"
   ]
  },
  {
   "cell_type": "code",
   "execution_count": 20,
   "id": "5459c7ca",
   "metadata": {},
   "outputs": [],
   "source": [
    "assert(p.has_token(\"ETH\"))\n",
    "assert(p.has_token(\"USDC\"))\n",
    "assert(not p.has_token(\"WBTC\"))"
   ]
  },
  {
   "cell_type": "code",
   "execution_count": 21,
   "id": "c83af81c",
   "metadata": {},
   "outputs": [],
   "source": [
    "assert(not p.has_quotetoken(\"ETH\"))\n",
    "assert(p.has_quotetoken(\"USDC\"))\n",
    "assert(not p.has_quotetoken(\"WBTC\"))"
   ]
  },
  {
   "cell_type": "code",
   "execution_count": 22,
   "id": "a1428155",
   "metadata": {},
   "outputs": [],
   "source": [
    "assert(p.has_basetoken(\"ETH\"))\n",
    "assert(not p.has_basetoken(\"USDC\"))\n",
    "assert(not p.has_basetoken(\"WBTC\"))"
   ]
  },
  {
   "cell_type": "code",
   "execution_count": 23,
   "id": "80fbf424",
   "metadata": {},
   "outputs": [],
   "source": [
    "assert(p.other(\"ETH\")==\"USDC\")\n",
    "assert(p.other(\"USDC\")==\"ETH\")\n",
    "assert(p.other(\"WBTC\") is None)"
   ]
  },
  {
   "cell_type": "markdown",
   "id": "355c739d",
   "metadata": {},
   "source": [
    "Convert an ETH amount into a USDC amount with the price in the price convention of the pair"
   ]
  },
  {
   "cell_type": "code",
   "execution_count": 24,
   "id": "a6308405",
   "metadata": {},
   "outputs": [
    {
     "data": {
      "text/plain": [
       "2000"
      ]
     },
     "execution_count": 24,
     "metadata": {},
     "output_type": "execute_result"
    }
   ],
   "source": [
    "p.convert(1, \"ETH\", \"USDC\", 2000)"
   ]
  },
  {
   "cell_type": "markdown",
   "id": "65620b22",
   "metadata": {},
   "source": [
    "ditto ETH -> ETH (trivial)"
   ]
  },
  {
   "cell_type": "code",
   "execution_count": 25,
   "id": "35ce9201",
   "metadata": {},
   "outputs": [
    {
     "data": {
      "text/plain": [
       "1"
      ]
     },
     "execution_count": 25,
     "metadata": {},
     "output_type": "execute_result"
    }
   ],
   "source": [
    "p.convert(1, \"ETH\", \"ETH\", 2000)"
   ]
  },
  {
   "cell_type": "markdown",
   "id": "d6754a02",
   "metadata": {},
   "source": [
    "ditto USDC -> ETH (inverse rate!)"
   ]
  },
  {
   "cell_type": "code",
   "execution_count": 26,
   "id": "39f3512d",
   "metadata": {},
   "outputs": [
    {
     "data": {
      "text/plain": [
       "1.0"
      ]
     },
     "execution_count": 26,
     "metadata": {},
     "output_type": "execute_result"
    }
   ],
   "source": [
    "p.convert(2000, \"USDC\", \"ETH\", 2000)"
   ]
  },
  {
   "cell_type": "code",
   "execution_count": 27,
   "id": "de0cffb2",
   "metadata": {},
   "outputs": [],
   "source": [
    "assert(p.convert(1, \"ETH\", \"USDC\", 2000) == 2000)\n",
    "assert(p.convert(1, \"ETH\", \"ETH\", 2000) == 1)\n",
    "assert(p.convert(2000, \"USDC\", \"ETH\", 2000) == 1)\n",
    "assert(p.convert(1, \"USDC\", \"USDC\", 2000) == 1)"
   ]
  },
  {
   "cell_type": "code",
   "execution_count": 28,
   "id": "4ca7cea0",
   "metadata": {},
   "outputs": [],
   "source": [
    "assert(p.convert_price(2000, \"USDC\")==2000)\n",
    "assert(p.convert_price(1/2000, \"ETH\")==2000)"
   ]
  },
  {
   "cell_type": "code",
   "execution_count": 29,
   "id": "29034be3",
   "metadata": {},
   "outputs": [],
   "source": [
    "#help(p.limit_is_met)"
   ]
  },
  {
   "cell_type": "code",
   "execution_count": 30,
   "id": "6c9d32cb",
   "metadata": {},
   "outputs": [
    {
     "data": {
      "text/plain": [
       "'Order placer buys ETH at 1000 USDC per ETH (limit=2000)'"
      ]
     },
     "execution_count": 30,
     "metadata": {},
     "output_type": "execute_result"
    }
   ],
   "source": [
    "p.limit_is_met(\"ETH\", 2000, p.BUY, 1000, asphrase=True)"
   ]
  },
  {
   "cell_type": "code",
   "execution_count": 31,
   "id": "428d54d7",
   "metadata": {},
   "outputs": [
    {
     "data": {
      "text/plain": [
       "'Order placer does not sell ETH at 1000 USDC per ETH (limit=2000)'"
      ]
     },
     "execution_count": 31,
     "metadata": {},
     "output_type": "execute_result"
    }
   ],
   "source": [
    "p.limit_is_met(\"ETH\", 2000, p.SELL, 1000, asphrase=True)"
   ]
  },
  {
   "cell_type": "code",
   "execution_count": 32,
   "id": "cd1398b1",
   "metadata": {},
   "outputs": [
    {
     "data": {
      "text/plain": [
       "'Order placer does not buy USDC at 1000 USDC per ETH (limit=2000)'"
      ]
     },
     "execution_count": 32,
     "metadata": {},
     "output_type": "execute_result"
    }
   ],
   "source": [
    "p.limit_is_met(\"USDC\", 2000, p.BUY, 1000, asphrase=True)"
   ]
  },
  {
   "cell_type": "code",
   "execution_count": 33,
   "id": "37ba3ebd",
   "metadata": {},
   "outputs": [
    {
     "data": {
      "text/plain": [
       "'Order placer sells USDC at 1000 USDC per ETH (limit=2000)'"
      ]
     },
     "execution_count": 33,
     "metadata": {},
     "output_type": "execute_result"
    }
   ],
   "source": [
    "p.limit_is_met(\"USDC\", 2000, p.SELL, 1000, asphrase=True)"
   ]
  },
  {
   "cell_type": "code",
   "execution_count": 34,
   "id": "82164c52",
   "metadata": {},
   "outputs": [],
   "source": [
    "assert(p.limit_is_met(\"ETH\", 2000, p.BUY, 1000))\n",
    "assert(not p.limit_is_met(\"ETH\", 2000, p.SELL, 1000))\n",
    "assert(not p.limit_is_met(\"USDC\", 2000, p.BUY, 1000))\n",
    "assert(p.limit_is_met(\"USDC\", 2000, p.SELL, 1000))"
   ]
  },
  {
   "cell_type": "code",
   "execution_count": null,
   "id": "57ce8b82",
   "metadata": {
    "lines_to_next_cell": 2
   },
   "outputs": [],
   "source": []
  }
 ],
 "metadata": {
  "jupytext": {
   "formats": "ipynb,py:light"
  },
  "kernelspec": {
   "display_name": "Python 3",
   "language": "python",
   "name": "python3"
  },
  "language_info": {
   "codemirror_mode": {
    "name": "ipython",
    "version": 3
   },
   "file_extension": ".py",
   "mimetype": "text/x-python",
   "name": "python",
   "nbconvert_exporter": "python",
   "pygments_lexer": "ipython3",
   "version": "3.8.8"
  }
 },
 "nbformat": 4,
 "nbformat_minor": 5
}
