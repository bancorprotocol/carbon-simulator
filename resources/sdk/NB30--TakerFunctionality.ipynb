{
 "cells": [
  {
   "cell_type": "code",
   "execution_count": 1,
   "id": "a0855cc0-2db7-4341-b0ef-fcb343ca3636",
   "metadata": {},
   "outputs": [
    {
     "name": "stdout",
     "output_type": "stream",
     "text": [
      "CarbonSDK v0.9 (11/Mar/2023)\n",
      "v18.14.2\n"
     ]
    }
   ],
   "source": [
    "from carbon.sdk import CarbonSDK, Tokens as T\n",
    "#from carbon import CarbonOrderUI, CarbonSimulatorUI\n",
    "from carbon.helpers.widgets import CheckboxManager, DropdownManager, PcSliderManager\n",
    "from matplotlib import pyplot as plt\n",
    "import numpy as np\n",
    "print(\"{0.__name__} v{0.__VERSION__} ({0.__DATE__})\".format(CarbonSDK))\n",
    "!node --version"
   ]
  },
  {
   "cell_type": "markdown",
   "id": "3650b16b-d020-4063-84c6-ab9fb7556552",
   "metadata": {},
   "source": [
    "# Taker Functionality [NB30]\n",
    "\n",
    "_this Notebook gives an overview over the taker functionality; for more streamlined examples see the following notebooks_\n",
    "\n",
    "In order to start the server, please run\n",
    "\n",
    "    source /Volumes/Private/bin/sdkserver\n",
    "    node server/sdkserver.mjs"
   ]
  },
  {
   "cell_type": "code",
   "execution_count": 2,
   "id": "15bfcae7-1124-4a6b-b12f-26d2f9f8173a",
   "metadata": {},
   "outputs": [
    {
     "name": "stdout",
     "output_type": "stream",
     "text": [
      "[req0] method=post, url=http://localhost:3118/api/scall/pairs, params={}\n",
      "[req0] method=get, url=http://localhost:3118/, params={}\n"
     ]
    },
    {
     "data": {
      "text/plain": [
       "'Carbon SDK v0.9 (7/Mar/2022)'"
      ]
     },
     "execution_count": 2,
     "metadata": {},
     "output_type": "execute_result"
    }
   ],
   "source": [
    "SDK = CarbonSDK(disclaimer=False, verbose=True, Tokens=T)\n",
    "pairs, pairs_s = SDK.pairs(inclstr=True)\n",
    "SDK.version().get(\"msg\")"
   ]
  },
  {
   "cell_type": "markdown",
   "id": "66b0fee4-4b8d-483d-92be-5e8fdc626d43",
   "metadata": {},
   "source": [
    "## Pair selection"
   ]
  },
  {
   "cell_type": "code",
   "execution_count": 3,
   "id": "0d6e1623-02d3-40a8-8d1f-92ce2ad70406",
   "metadata": {},
   "outputs": [
    {
     "data": {
      "application/vnd.jupyter.widget-view+json": {
       "model_id": "c24331e0530f4a27bbb84fa5325ebb3d",
       "version_major": 2,
       "version_minor": 0
      },
      "text/plain": [
       "Dropdown(options=(('USDC/ETH', 'USDC/ETH'),), value='USDC/ETH')"
      ]
     },
     "metadata": {},
     "output_type": "display_data"
    }
   ],
   "source": [
    "try:\n",
    "    pairs_sel = [s.strip() for s in pairs_s.split(\",\")]\n",
    "    pairs_w()\n",
    "except:\n",
    "    pairs_w = DropdownManager(pairs_sel, defaultval=\"USDC/ETH\")\n",
    "    pairs_w()"
   ]
  },
  {
   "cell_type": "code",
   "execution_count": 4,
   "id": "362ad3a5-656e-4cdf-bc72-23814c9039fe",
   "metadata": {},
   "outputs": [
    {
     "data": {
      "application/vnd.jupyter.widget-view+json": {
       "model_id": "1501da804c194ff9b143031dac7bbda6",
       "version_major": 2,
       "version_minor": 0
      },
      "text/plain": [
       "VBox(children=(Checkbox(value=True, description='inverse'),))"
      ]
     },
     "metadata": {},
     "output_type": "display_data"
    }
   ],
   "source": [
    "try:\n",
    "    inverse_w()\n",
    "except:\n",
    "    inverse_w = CheckboxManager([\"inverse\"], values=[1])\n",
    "    inverse_w()"
   ]
  },
  {
   "cell_type": "code",
   "execution_count": 5,
   "id": "1f83cf3b-b2fe-4bf4-beac-a1ae56b64640",
   "metadata": {},
   "outputs": [
    {
     "data": {
      "text/plain": [
       "'ETH/USDC'"
      ]
     },
     "execution_count": 5,
     "metadata": {},
     "output_type": "execute_result"
    }
   ],
   "source": [
    "tknb,tknq = pairs_w.value.split(\"/\")\n",
    "if inverse_w.values[0]:\n",
    "    tknb,tknq = tknq, tknb\n",
    "pair = f\"{tknb}/{tknq}\"\n",
    "pair"
   ]
  },
  {
   "cell_type": "markdown",
   "id": "28ccd123-73ba-47cc-af86-455b2b152839",
   "metadata": {},
   "source": [
    "## Market information"
   ]
  },
  {
   "cell_type": "code",
   "execution_count": 6,
   "id": "efc7acba-3a51-4baf-8d34-c95a7fcc9146",
   "metadata": {},
   "outputs": [
    {
     "name": "stdout",
     "output_type": "stream",
     "text": [
      "[req0] method=post, url=http://localhost:3118/api/scall/get_min_rate_by_pair, params={'sourceToken': '0xeeeeeeeeeeeeeeeeeeeeeeeeeeeeeeeeeeeeeeee', 'targetToken': '0xa0b86991c6218b36c1d19d4a2e9eb0ce3606eb48'}\n",
      "[req0] method=post, url=http://localhost:3118/api/scall/get_max_rate_by_pair, params={'sourceToken': '0xeeeeeeeeeeeeeeeeeeeeeeeeeeeeeeeeeeeeeeee', 'targetToken': '0xa0b86991c6218b36c1d19d4a2e9eb0ce3606eb48'}\n",
      "[req0] method=post, url=http://localhost:3118/api/scall/get_min_rate_by_pair, params={'sourceToken': '0xa0b86991c6218b36c1d19d4a2e9eb0ce3606eb48', 'targetToken': '0xeeeeeeeeeeeeeeeeeeeeeeeeeeeeeeeeeeeeeeee'}\n",
      "[req0] method=post, url=http://localhost:3118/api/scall/get_max_rate_by_pair, params={'sourceToken': '0xa0b86991c6218b36c1d19d4a2e9eb0ce3606eb48', 'targetToken': '0xeeeeeeeeeeeeeeeeeeeeeeeeeeeeeeeeeeeeeeee'}\n",
      "[req0] method=post, url=http://localhost:3118/api/scall/get_liquidity_by_pair, params={'sourceToken': '0xeeeeeeeeeeeeeeeeeeeeeeeeeeeeeeeeeeeeeeee', 'targetToken': '0xa0b86991c6218b36c1d19d4a2e9eb0ce3606eb48'}\n",
      "[req0] method=post, url=http://localhost:3118/api/scall/get_liquidity_by_pair, params={'sourceToken': '0xa0b86991c6218b36c1d19d4a2e9eb0ce3606eb48', 'targetToken': '0xeeeeeeeeeeeeeeeeeeeeeeeeeeeeeeeeeeeeeeee'}\n"
     ]
    },
    {
     "data": {
      "text/plain": [
       "MarketByPair(pair='ETH/USDC', bestBid=1599.9999998788553, bestAsk=2500.0, liqBid=2000.0, liqAsk=102.0, lastBid=1499.999999795006, lastAsk=3000.0000000000327)"
      ]
     },
     "execution_count": 6,
     "metadata": {},
     "output_type": "execute_result"
    }
   ],
   "source": [
    "m = SDK.mGetMarketByPair(pair=pair)\n",
    "m"
   ]
  },
  {
   "cell_type": "markdown",
   "id": "14a6c653-dccb-461c-b3bd-8b25902dcd32",
   "metadata": {},
   "source": [
    "## Trading examples"
   ]
  },
  {
   "cell_type": "markdown",
   "id": "483ff7dc",
   "metadata": {},
   "source": [
    "#### `mPrepareTrade`"
   ]
  },
  {
   "cell_type": "code",
   "execution_count": 7,
   "id": "c7e9542a-810b-493f-9a87-dbfb37ee766c",
   "metadata": {
    "lines_to_next_cell": 2
   },
   "outputs": [
    {
     "data": {
      "text/plain": [
       "(2050.0, 1000)"
      ]
     },
     "execution_count": 7,
     "metadata": {},
     "output_type": "execute_result"
    }
   ],
   "source": [
    "approx_price = SDK.roundsd(m.mid,3)\n",
    "amount_tknb = 1000\n",
    "approx_price, amount_tknb"
   ]
  },
  {
   "cell_type": "code",
   "execution_count": 8,
   "id": "8e41be1b-8b46-439c-8a17-40c763ea96a4",
   "metadata": {},
   "outputs": [
    {
     "name": "stdout",
     "output_type": "stream",
     "text": [
      "[req0] method=post, url=http://localhost:3118/api/scall/get_trade_data, params={'sourceToken': '0xeeeeeeeeeeeeeeeeeeeeeeeeeeeeeeeeeeeeeeee', 'targetToken': '0xa0b86991c6218b36c1d19d4a2e9eb0ce3606eb48', 'amount': '0.4878048780487805', 'tradeByTargetAmount': False, 'filter': []}\n"
     ]
    },
    {
     "data": {
      "text/plain": [
       "TradeData(pair='ETH/USDC', tkn='ETH', traderBuySell='SELL', amount=0.4878048780487805, sourceToken=SDKToken(token='ETH', address='0xeeeeeeeeeeeeeeeeeeeeeeeeeeeeeeeeeeeeeeee', decimals=18, name='ETH'), targetToken=SDKToken(token='USDC', address='0xa0b86991c6218b36c1d19d4a2e9eb0ce3606eb48', decimals=6, name='USDC'), tradeByTargetAmount=False, tradeActions=[{'strategyId': 2, 'amount': 322748612218223762}, {'strategyId': 3, 'amount': 165056265830556738}], actionsWei=[{'id': 2, 'input': 322748612218223762, 'output': 500000000}, {'id': 3, 'input': 165056265830556738, 'output': 259733792}], actionsTokenRes=[{'id': 2, 'sourceAmount': 0.32274861221822376, 'targetAmount': 500.0}, {'id': 3, 'sourceAmount': 0.16505626583055674, 'targetAmount': 259.733792}], tradeData={'totalSourceAmount': 0.4878048780487805, 'totalTargetAmount': 758.594191, 'effectiveRate': 1555.11809155})"
      ]
     },
     "execution_count": 8,
     "metadata": {},
     "output_type": "execute_result"
    }
   ],
   "source": [
    "r1 = SDK.mPrepareTrade(pair, SDK.SELL, tknb, amount_tknb/approx_price)\n",
    "r1"
   ]
  },
  {
   "cell_type": "code",
   "execution_count": 9,
   "id": "e3a896c1-2373-492e-b1b2-64f2d44aca0a",
   "metadata": {},
   "outputs": [
    {
     "name": "stdout",
     "output_type": "stream",
     "text": [
      "[req0] method=post, url=http://localhost:3118/api/scall/get_trade_data, params={'sourceToken': '0xa0b86991c6218b36c1d19d4a2e9eb0ce3606eb48', 'targetToken': '0xeeeeeeeeeeeeeeeeeeeeeeeeeeeeeeeeeeeeeeee', 'amount': '0.4878048780487805', 'tradeByTargetAmount': True, 'filter': []}\n"
     ]
    },
    {
     "data": {
      "text/plain": [
       "TradeData(pair='ETH/USDC', tkn='ETH', traderBuySell='BUY', amount=0.4878048780487805, sourceToken=SDKToken(token='USDC', address='0xa0b86991c6218b36c1d19d4a2e9eb0ce3606eb48', decimals=6, name='USDC'), targetToken=SDKToken(token='ETH', address='0xeeeeeeeeeeeeeeeeeeeeeeeeeeeeeeeeeeeeeeee', decimals=18, name='ETH'), tradeByTargetAmount=True, tradeActions=[{'strategyId': 2, 'amount': 487804878048780500}], actionsWei=[{'id': 2, 'input': 487804878048780500, 'output': 1231174920}], actionsTokenRes=[{'id': 2, 'sourceAmount': 1231.17492, 'targetAmount': 0.4878048780487805}], tradeData={'totalSourceAmount': 1233.024457, 'totalTargetAmount': 0.4878048780487805, 'effectiveRate': 0.0003956165470031553})"
      ]
     },
     "execution_count": 9,
     "metadata": {},
     "output_type": "execute_result"
    }
   ],
   "source": [
    "r2 = SDK.mPrepareTrade(pair, SDK.BUY, tknb, amount_tknb/approx_price)\n",
    "r2"
   ]
  },
  {
   "cell_type": "code",
   "execution_count": 10,
   "id": "b3db4d44",
   "metadata": {},
   "outputs": [
    {
     "name": "stdout",
     "output_type": "stream",
     "text": [
      "[req0] method=post, url=http://localhost:3118/api/scall/get_trade_data, params={'sourceToken': '0xa0b86991c6218b36c1d19d4a2e9eb0ce3606eb48', 'targetToken': '0xeeeeeeeeeeeeeeeeeeeeeeeeeeeeeeeeeeeeeeee', 'amount': '1000', 'tradeByTargetAmount': False, 'filter': []}\n"
     ]
    },
    {
     "data": {
      "text/plain": [
       "TradeData(pair='ETH/USDC', tkn='USDC', traderBuySell='SELL', amount=1000, sourceToken=SDKToken(token='USDC', address='0xa0b86991c6218b36c1d19d4a2e9eb0ce3606eb48', decimals=6, name='USDC'), targetToken=SDKToken(token='ETH', address='0xeeeeeeeeeeeeeeeeeeeeeeeeeeeeeeeeeeeeeeee', decimals=18, name='ETH'), tradeByTargetAmount=False, tradeActions=[{'strategyId': 2, 'amount': 1000000000}], actionsWei=[{'id': 2, 'input': 1000000000, 'output': 396916857131052211}], actionsTokenRes=[{'id': 2, 'sourceAmount': 1000.0, 'targetAmount': 0.39691685713105224}], tradeData={'totalSourceAmount': 1000.0, 'totalTargetAmount': 0.39632148184535565, 'effectiveRate': 0.00039632148184535565})"
      ]
     },
     "execution_count": 10,
     "metadata": {},
     "output_type": "execute_result"
    }
   ],
   "source": [
    "r3 = SDK.mPrepareTrade(pair, SDK.SELL, tknq, amount_tknb)\n",
    "r3"
   ]
  },
  {
   "cell_type": "code",
   "execution_count": 11,
   "id": "a771ca2a",
   "metadata": {
    "lines_to_next_cell": 2
   },
   "outputs": [
    {
     "name": "stdout",
     "output_type": "stream",
     "text": [
      "[req0] method=post, url=http://localhost:3118/api/scall/get_trade_data, params={'sourceToken': '0xeeeeeeeeeeeeeeeeeeeeeeeeeeeeeeeeeeeeeeee', 'targetToken': '0xa0b86991c6218b36c1d19d4a2e9eb0ce3606eb48', 'amount': '1000', 'tradeByTargetAmount': True, 'filter': []}\n"
     ]
    },
    {
     "data": {
      "text/plain": [
       "TradeData(pair='ETH/USDC', tkn='USDC', traderBuySell='BUY', amount=1000, sourceToken=SDKToken(token='ETH', address='0xeeeeeeeeeeeeeeeeeeeeeeeeeeeeeeeeeeeeeeee', decimals=18, name='ETH'), targetToken=SDKToken(token='USDC', address='0xa0b86991c6218b36c1d19d4a2e9eb0ce3606eb48', decimals=6, name='USDC'), tradeByTargetAmount=True, tradeActions=[{'strategyId': 2, 'amount': 500000000}, {'strategyId': 3, 'amount': 500000000}], actionsWei=[{'id': 2, 'input': 500000000, 'output': 322748612218223762}, {'id': 3, 'input': 500000000, 'output': 322748612218223762}], actionsTokenRes=[{'id': 2, 'sourceAmount': 0.32274861221822376, 'targetAmount': 500.0}, {'id': 3, 'sourceAmount': 0.32274861221822376, 'targetAmount': 500.0}], tradeData={'totalSourceAmount': 0.6464669248236831, 'totalTargetAmount': 1000.0, 'effectiveRate': 1546.8695483109818})"
      ]
     },
     "execution_count": 11,
     "metadata": {},
     "output_type": "execute_result"
    }
   ],
   "source": [
    "r4 = SDK.mPrepareTrade(pair, SDK.BUY, tknq, amount_tknb)\n",
    "r4"
   ]
  },
  {
   "cell_type": "markdown",
   "id": "f949f1c4-dcec-4b01-b9e4-6957ef50e0e2",
   "metadata": {},
   "source": [
    "#### `mComposeTradeTransaction`"
   ]
  },
  {
   "cell_type": "code",
   "execution_count": 12,
   "id": "e6dc29c5-af22-4a24-83ca-4f703f20091a",
   "metadata": {},
   "outputs": [
    {
     "name": "stdout",
     "output_type": "stream",
     "text": [
      "[req0] method=post, url=http://localhost:3118/api/scall/compose_trade_by_source_transaction, params={'sourceToken': '0xeeeeeeeeeeeeeeeeeeeeeeeeeeeeeeeeeeeeeeee', 'targetToken': '0xa0b86991c6218b36c1d19d4a2e9eb0ce3606eb48', 'tradeActions': [{'strategyId': '2', 'amount': '322748612218223762'}, {'strategyId': '3', 'amount': '165056265830556738'}], 'deadline': '4294967295', 'minReturn': '682.7347719', 'overrides': {'gasLimit': 999999999}}\n"
     ]
    },
    {
     "data": {
      "text/plain": [
       "{'data': '0xf1c5e014000000000000000000000000eeeeeeeeeeeeeeeeeeeeeeeeeeeeeeeeeeeeeeee000000000000000000000000a0b86991c6218b36c1d19d4a2e9eb0ce3606eb4800000000000000000000000000000000000000000000000000000000000000a000000000000000000000000000000000000000000000000000000000ffffffff0000000000000000000000000000000000000000000000000000000028b1b4b300000000000000000000000000000000000000000000000000000000000000020000000000000000000000000000000000000000000000000000000000000002000000000000000000000000000000000000000000000000047aa2271f047c920000000000000000000000000000000000000000000000000000000000000003000000000000000000000000000000000000000000000000024a65cc9cc86442',\n",
       " 'to': '0x955a85437664fE809563dd0fA91B1590b159e1e6',\n",
       " 'gasLimit': {'type': 'BigNumber', 'hex': '0x3b9ac9ff'},\n",
       " 'value': {'type': 'BigNumber', 'hex': '0x06c507f3bbcce0d4'}}"
      ]
     },
     "execution_count": 12,
     "metadata": {},
     "output_type": "execute_result"
    }
   ],
   "source": [
    "tx1 = SDK.mComposeTradeTransaction(**r1.cttkwargs)\n",
    "tx1"
   ]
  },
  {
   "cell_type": "code",
   "execution_count": 13,
   "id": "e1f20a07-e465-4cf4-87f1-002430b666b1",
   "metadata": {},
   "outputs": [
    {
     "name": "stdout",
     "output_type": "stream",
     "text": [
      "[req0] method=post, url=http://localhost:3118/api/scall/compose_trade_by_target_transaction, params={'sourceToken': '0xa0b86991c6218b36c1d19d4a2e9eb0ce3606eb48', 'targetToken': '0xeeeeeeeeeeeeeeeeeeeeeeeeeeeeeeeeeeeeeeee', 'tradeActions': [{'strategyId': '2', 'amount': '487804878048780500'}], 'deadline': '4294967295', 'maxInput': '1356.3269027000001', 'overrides': {'gasLimit': 999999999}}\n"
     ]
    },
    {
     "data": {
      "text/plain": [
       "{'data': '0x102ee9ba000000000000000000000000a0b86991c6218b36c1d19d4a2e9eb0ce3606eb48000000000000000000000000eeeeeeeeeeeeeeeeeeeeeeeeeeeeeeeeeeeeeeee00000000000000000000000000000000000000000000000000000000000000a000000000000000000000000000000000000000000000000000000000ffffffff0000000000000000000000000000000000000000000000000000000050d7e7f60000000000000000000000000000000000000000000000000000000000000001000000000000000000000000000000000000000000000000000000000000000200000000000000000000000000000000000000000000000006c507f3bbcce0d4',\n",
       " 'to': '0x955a85437664fE809563dd0fA91B1590b159e1e6',\n",
       " 'gasLimit': {'type': 'BigNumber', 'hex': '0x3b9ac9ff'}}"
      ]
     },
     "execution_count": 13,
     "metadata": {},
     "output_type": "execute_result"
    }
   ],
   "source": [
    "tx2 = SDK.mComposeTradeTransaction(**r2.cttkwargs)\n",
    "tx2"
   ]
  },
  {
   "cell_type": "code",
   "execution_count": 14,
   "id": "7372ec60-a565-4f9d-b3c3-00ade2452ff9",
   "metadata": {},
   "outputs": [
    {
     "name": "stdout",
     "output_type": "stream",
     "text": [
      "[req0] method=post, url=http://localhost:3118/api/scall/compose_trade_by_source_transaction, params={'sourceToken': '0xa0b86991c6218b36c1d19d4a2e9eb0ce3606eb48', 'targetToken': '0xeeeeeeeeeeeeeeeeeeeeeeeeeeeeeeeeeeeeeeee', 'tradeActions': [{'strategyId': '2', 'amount': '1000000000'}], 'deadline': '4294967295', 'minReturn': '0.3566893336608201', 'overrides': {'gasLimit': 999999999}}\n"
     ]
    },
    {
     "data": {
      "text/plain": [
       "{'data': '0xf1c5e014000000000000000000000000a0b86991c6218b36c1d19d4a2e9eb0ce3606eb48000000000000000000000000eeeeeeeeeeeeeeeeeeeeeeeeeeeeeeeeeeeeeeee00000000000000000000000000000000000000000000000000000000000000a000000000000000000000000000000000000000000000000000000000ffffffff00000000000000000000000000000000000000000000000004f3370f2406228400000000000000000000000000000000000000000000000000000000000000010000000000000000000000000000000000000000000000000000000000000002000000000000000000000000000000000000000000000000000000003b9aca00',\n",
       " 'to': '0x955a85437664fE809563dd0fA91B1590b159e1e6',\n",
       " 'gasLimit': {'type': 'BigNumber', 'hex': '0x3b9ac9ff'}}"
      ]
     },
     "execution_count": 14,
     "metadata": {},
     "output_type": "execute_result"
    }
   ],
   "source": [
    "tx3 = SDK.mComposeTradeTransaction(**r3.cttkwargs)\n",
    "tx3"
   ]
  },
  {
   "cell_type": "code",
   "execution_count": 15,
   "id": "4f508782-04f0-48b2-b226-717346d7e80e",
   "metadata": {},
   "outputs": [
    {
     "name": "stdout",
     "output_type": "stream",
     "text": [
      "[req0] method=post, url=http://localhost:3118/api/scall/compose_trade_by_target_transaction, params={'sourceToken': '0xeeeeeeeeeeeeeeeeeeeeeeeeeeeeeeeeeeeeeeee', 'targetToken': '0xa0b86991c6218b36c1d19d4a2e9eb0ce3606eb48', 'tradeActions': [{'strategyId': '2', 'amount': '500000000'}, {'strategyId': '3', 'amount': '500000000'}], 'deadline': '4294967295', 'maxInput': '0.7111136173060514', 'overrides': {'gasLimit': 999999999}}\n"
     ]
    },
    {
     "data": {
      "text/plain": [
       "{'data': '0x102ee9ba000000000000000000000000eeeeeeeeeeeeeeeeeeeeeeeeeeeeeeeeeeeeeeee000000000000000000000000a0b86991c6218b36c1d19d4a2e9eb0ce3606eb4800000000000000000000000000000000000000000000000000000000000000a000000000000000000000000000000000000000000000000000000000ffffffff00000000000000000000000000000000000000000000000009de62113a78634800000000000000000000000000000000000000000000000000000000000000020000000000000000000000000000000000000000000000000000000000000002000000000000000000000000000000000000000000000000000000001dcd65000000000000000000000000000000000000000000000000000000000000000003000000000000000000000000000000000000000000000000000000001dcd6500',\n",
       " 'to': '0x955a85437664fE809563dd0fA91B1590b159e1e6',\n",
       " 'gasLimit': {'type': 'BigNumber', 'hex': '0x3b9ac9ff'},\n",
       " 'value': {'type': 'BigNumber', 'hex': '0x3b9aca00'}}"
      ]
     },
     "execution_count": 15,
     "metadata": {},
     "output_type": "execute_result"
    }
   ],
   "source": [
    "tx4 = SDK.mComposeTradeTransaction(**r4.cttkwargs)\n",
    "tx4"
   ]
  },
  {
   "cell_type": "markdown",
   "id": "3936fa03-5d05-4e45-9eb4-d63e4b8b4807",
   "metadata": {},
   "source": [
    "#### Submit transactions"
   ]
  },
  {
   "cell_type": "code",
   "execution_count": 16,
   "id": "b77063d0-f2b7-4565-9954-9017faffc6ef",
   "metadata": {},
   "outputs": [
    {
     "name": "stdout",
     "output_type": "stream",
     "text": [
      "[req0] method=post, url=http://localhost:3118/api/signsubmittx, params={'tx': {'data': '0xf1c5e014000000000000000000000000eeeeeeeeeeeeeeeeeeeeeeeeeeeeeeeeeeeeeeee000000000000000000000000a0b86991c6218b36c1d19d4a2e9eb0ce3606eb4800000000000000000000000000000000000000000000000000000000000000a000000000000000000000000000000000000000000000000000000000ffffffff0000000000000000000000000000000000000000000000000000000028b1b4b300000000000000000000000000000000000000000000000000000000000000020000000000000000000000000000000000000000000000000000000000000002000000000000000000000000000000000000000000000000047aa2271f047c920000000000000000000000000000000000000000000000000000000000000003000000000000000000000000000000000000000000000000024a65cc9cc86442', 'to': '0x955a85437664fE809563dd0fA91B1590b159e1e6', 'gasLimit': {'type': 'BigNumber', 'hex': '0x3b9ac9ff'}, 'value': {'type': 'BigNumber', 'hex': '0x06c507f3bbcce0d4'}}, True: True}\n"
     ]
    },
    {
     "data": {
      "text/plain": [
       "{'txReceipt': {'hash': '0xf800513ac49d6d999e101035d65823f3214bac25f11dc1508441c842241b0ce4',\n",
       "  'nonce': None,\n",
       "  'gasLimit': None,\n",
       "  'gasPrice': None,\n",
       "  'data': None,\n",
       "  'value': None,\n",
       "  'chainId': None,\n",
       "  'confirmations': 0,\n",
       "  'from': None}}"
      ]
     },
     "execution_count": 16,
     "metadata": {},
     "output_type": "execute_result"
    }
   ],
   "source": [
    "SDK.signsubmittx(tx1, sign=True)"
   ]
  },
  {
   "cell_type": "code",
   "execution_count": 17,
   "id": "41d477be-586c-44b2-832b-fac52ee05d53",
   "metadata": {},
   "outputs": [
    {
     "name": "stdout",
     "output_type": "stream",
     "text": [
      "[req0] method=post, url=http://localhost:3118/api/signsubmittx, params={'tx': {'data': '0x102ee9ba000000000000000000000000a0b86991c6218b36c1d19d4a2e9eb0ce3606eb48000000000000000000000000eeeeeeeeeeeeeeeeeeeeeeeeeeeeeeeeeeeeeeee00000000000000000000000000000000000000000000000000000000000000a000000000000000000000000000000000000000000000000000000000ffffffff0000000000000000000000000000000000000000000000000000000050d7e7f60000000000000000000000000000000000000000000000000000000000000001000000000000000000000000000000000000000000000000000000000000000200000000000000000000000000000000000000000000000006c507f3bbcce0d4', 'to': '0x955a85437664fE809563dd0fA91B1590b159e1e6', 'gasLimit': {'type': 'BigNumber', 'hex': '0x3b9ac9ff'}}, True: True}\n"
     ]
    },
    {
     "data": {
      "text/plain": [
       "{'txReceipt': {'hash': '0x2ccad8ae88a20170eb7cc8d546fb462203cecc5bdb63e4fe70c64c3cb6e4cc36',\n",
       "  'nonce': None,\n",
       "  'gasLimit': None,\n",
       "  'gasPrice': None,\n",
       "  'data': None,\n",
       "  'value': None,\n",
       "  'chainId': None,\n",
       "  'confirmations': 0,\n",
       "  'from': None}}"
      ]
     },
     "execution_count": 17,
     "metadata": {},
     "output_type": "execute_result"
    }
   ],
   "source": [
    "SDK.signsubmittx(tx2, sign=True)"
   ]
  },
  {
   "cell_type": "code",
   "execution_count": 18,
   "id": "cfb3d008-ea30-4568-8859-370f39c6dcfa",
   "metadata": {},
   "outputs": [
    {
     "name": "stdout",
     "output_type": "stream",
     "text": [
      "[req0] method=post, url=http://localhost:3118/api/signsubmittx, params={'tx': {'data': '0xf1c5e014000000000000000000000000a0b86991c6218b36c1d19d4a2e9eb0ce3606eb48000000000000000000000000eeeeeeeeeeeeeeeeeeeeeeeeeeeeeeeeeeeeeeee00000000000000000000000000000000000000000000000000000000000000a000000000000000000000000000000000000000000000000000000000ffffffff00000000000000000000000000000000000000000000000004f3370f2406228400000000000000000000000000000000000000000000000000000000000000010000000000000000000000000000000000000000000000000000000000000002000000000000000000000000000000000000000000000000000000003b9aca00', 'to': '0x955a85437664fE809563dd0fA91B1590b159e1e6', 'gasLimit': {'type': 'BigNumber', 'hex': '0x3b9ac9ff'}}, True: True}\n"
     ]
    },
    {
     "data": {
      "text/plain": [
       "{'txReceipt': {'hash': '0x5bbb8e17e78bc610c21c38e22d433deef5ac7cab1f0a69ac40951eb456ae31b7',\n",
       "  'nonce': None,\n",
       "  'gasLimit': None,\n",
       "  'gasPrice': None,\n",
       "  'data': None,\n",
       "  'value': None,\n",
       "  'chainId': None,\n",
       "  'confirmations': 0,\n",
       "  'from': None}}"
      ]
     },
     "execution_count": 18,
     "metadata": {},
     "output_type": "execute_result"
    }
   ],
   "source": [
    "SDK.signsubmittx(tx3, sign=True)"
   ]
  },
  {
   "cell_type": "code",
   "execution_count": 19,
   "id": "585db768-8795-4d85-b320-ca4e2eb99467",
   "metadata": {},
   "outputs": [
    {
     "name": "stdout",
     "output_type": "stream",
     "text": [
      "[req0] method=post, url=http://localhost:3118/api/signsubmittx, params={'tx': {'data': '0x102ee9ba000000000000000000000000eeeeeeeeeeeeeeeeeeeeeeeeeeeeeeeeeeeeeeee000000000000000000000000a0b86991c6218b36c1d19d4a2e9eb0ce3606eb4800000000000000000000000000000000000000000000000000000000000000a000000000000000000000000000000000000000000000000000000000ffffffff00000000000000000000000000000000000000000000000009de62113a78634800000000000000000000000000000000000000000000000000000000000000020000000000000000000000000000000000000000000000000000000000000002000000000000000000000000000000000000000000000000000000001dcd65000000000000000000000000000000000000000000000000000000000000000003000000000000000000000000000000000000000000000000000000001dcd6500', 'to': '0x955a85437664fE809563dd0fA91B1590b159e1e6', 'gasLimit': {'type': 'BigNumber', 'hex': '0x3b9ac9ff'}, 'value': {'type': 'BigNumber', 'hex': '0x3b9aca00'}}, True: True}\n"
     ]
    },
    {
     "data": {
      "text/plain": [
       "{'txReceipt': {'hash': '0xa4d30f83b65ee4037106fe40e78d4136a883ba46619444137ad6c7810b341bb2',\n",
       "  'nonce': None,\n",
       "  'gasLimit': None,\n",
       "  'gasPrice': None,\n",
       "  'data': None,\n",
       "  'value': None,\n",
       "  'chainId': None,\n",
       "  'confirmations': 0,\n",
       "  'from': None}}"
      ]
     },
     "execution_count": 19,
     "metadata": {},
     "output_type": "execute_result"
    }
   ],
   "source": [
    "SDK.signsubmittx(tx4, sign=True)"
   ]
  },
  {
   "cell_type": "code",
   "execution_count": null,
   "id": "361b3e0a-c03a-4ffc-84db-9b0757658c7e",
   "metadata": {},
   "outputs": [],
   "source": []
  }
 ],
 "metadata": {
  "jupytext": {
   "encoding": "# -*- coding: utf-8 -*-",
   "formats": "ipynb,py:light"
  },
  "kernelspec": {
   "display_name": "Python 3",
   "language": "python",
   "name": "python3"
  },
  "language_info": {
   "codemirror_mode": {
    "name": "ipython",
    "version": 3
   },
   "file_extension": ".py",
   "mimetype": "text/x-python",
   "name": "python",
   "nbconvert_exporter": "python",
   "pygments_lexer": "ipython3",
   "version": "3.8.8"
  },
  "toc-autonumbering": false,
  "toc-showcode": false,
  "toc-showmarkdowntxt": false
 },
 "nbformat": 4,
 "nbformat_minor": 5
}
