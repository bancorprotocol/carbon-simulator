{
 "cells": [
  {
   "cell_type": "code",
   "execution_count": 2,
   "id": "d529cc48",
   "metadata": {},
   "outputs": [],
   "source": [
    "import requests\n",
    "from carbon.helpers.fls import *\n",
    "import pandas as pd\n",
    "from matplotlib import pyplot as plt\n",
    "import numpy as np\n",
    "from datetime import datetime\n",
    "from random import randint\n",
    "from os.path import join as j"
   ]
  },
  {
   "cell_type": "markdown",
   "id": "1984a2cd",
   "metadata": {},
   "source": [
    "# CoinGecko\n",
    "https://pypi.org/project/requests/\n",
    "\n",
    "https://docs.google.com/spreadsheets/d/1wTTuxXt8n9q7C4NDXqQpI3wpKu1_5bGVmP9Xz0XGSyU/edit#gid=0\n",
    "\n",
    "\n",
    "https://api.coingecko.com/api/v3/coins/list\n",
    "\n",
    "https://www.coingecko.com/en/api/documentation\n"
   ]
  },
  {
   "cell_type": "code",
   "execution_count": 7,
   "id": "c90350e3",
   "metadata": {},
   "outputs": [
    {
     "name": "stdout",
     "output_type": "stream",
     "text": [
      "btc_ccy.pickle\r\n",
      "btc_ccy_20230125.pickle\r\n",
      "coingecko_coins_list.pickle\r\n",
      "coingecko_supported_vs_currencies\r\n",
      "coingecko_supported_vs_currencies.pickle\r\n",
      "coins1_usd.pickle\r\n",
      "coins2_usd.pickle\r\n",
      "coins3_usd.pickle\r\n",
      "coins4_usd.pickle\r\n",
      "supported_vs_currencies.json\r\n"
     ]
    }
   ],
   "source": [
    "CGPATH = \"coingecko\"\n",
    "CGFN = lambda fn: j(CGPATH, fn)\n",
    "!ls {CGFN(\"\")}"
   ]
  },
  {
   "cell_type": "markdown",
   "id": "d2477e3b",
   "metadata": {},
   "source": [
    "#### Download coins list"
   ]
  },
  {
   "cell_type": "code",
   "execution_count": 43,
   "id": "6c394ca8",
   "metadata": {},
   "outputs": [],
   "source": [
    "# r = requests.get('https://api.coingecko.com/api/v3/coins/list')\n",
    "# data = r.json()\n",
    "# df = pd.DataFrame.from_records(data)\n",
    "# df.to_pickle(j(\"coingecko_coins_list.pickle\"))"
   ]
  },
  {
   "cell_type": "code",
   "execution_count": 44,
   "id": "12be3a68",
   "metadata": {},
   "outputs": [],
   "source": [
    "# r = requests.get('https://api.coingecko.com/api/v3/simple/supported_vs_currencies')\n",
    "# data = r.json()\n",
    "# fsave(data, \"supported_vs_currencies.json\", json=True)"
   ]
  },
  {
   "cell_type": "code",
   "execution_count": 45,
   "id": "4edcf90b",
   "metadata": {},
   "outputs": [
    {
     "name": "stdout",
     "output_type": "stream",
     "text": [
      "[fload] Reading supported_vs_currencies.json from .\n"
     ]
    },
    {
     "data": {
      "text/plain": [
       "['btc', 'eth', 'ltc', 'bch', 'bnb']"
      ]
     },
     "execution_count": 45,
     "metadata": {},
     "output_type": "execute_result"
    }
   ],
   "source": [
    "COINGECKO_CURRENCIES = fload(\"supported_vs_currencies.json\", json=True)\n",
    "COINGECKO_CURRENCIES[:5]"
   ]
  },
  {
   "cell_type": "code",
   "execution_count": 46,
   "id": "b97dbc40",
   "metadata": {},
   "outputs": [
    {
     "data": {
      "text/html": [
       "<div>\n",
       "<style scoped>\n",
       "    .dataframe tbody tr th:only-of-type {\n",
       "        vertical-align: middle;\n",
       "    }\n",
       "\n",
       "    .dataframe tbody tr th {\n",
       "        vertical-align: top;\n",
       "    }\n",
       "\n",
       "    .dataframe thead th {\n",
       "        text-align: right;\n",
       "    }\n",
       "</style>\n",
       "<table border=\"1\" class=\"dataframe\">\n",
       "  <thead>\n",
       "    <tr style=\"text-align: right;\">\n",
       "      <th></th>\n",
       "      <th>id</th>\n",
       "      <th>symbol</th>\n",
       "      <th>name</th>\n",
       "    </tr>\n",
       "  </thead>\n",
       "  <tbody>\n",
       "    <tr>\n",
       "      <th>1054</th>\n",
       "      <td>bancor</td>\n",
       "      <td>bnt</td>\n",
       "      <td>Bancor Network</td>\n",
       "    </tr>\n",
       "    <tr>\n",
       "      <th>1324</th>\n",
       "      <td>bitcoin</td>\n",
       "      <td>btc</td>\n",
       "      <td>Bitcoin</td>\n",
       "    </tr>\n",
       "    <tr>\n",
       "      <th>3807</th>\n",
       "      <td>ethereum</td>\n",
       "      <td>eth</td>\n",
       "      <td>Ethereum</td>\n",
       "    </tr>\n",
       "    <tr>\n",
       "      <th>3822</th>\n",
       "      <td>ethereum-wormhole</td>\n",
       "      <td>eth</td>\n",
       "      <td>Ethereum (Wormhole)</td>\n",
       "    </tr>\n",
       "  </tbody>\n",
       "</table>\n",
       "</div>"
      ],
      "text/plain": [
       "                     id symbol                 name\n",
       "1054             bancor    bnt       Bancor Network\n",
       "1324            bitcoin    btc              Bitcoin\n",
       "3807           ethereum    eth             Ethereum\n",
       "3822  ethereum-wormhole    eth  Ethereum (Wormhole)"
      ]
     },
     "execution_count": 46,
     "metadata": {},
     "output_type": "execute_result"
    }
   ],
   "source": [
    "COINGECKO_COINSLIST = pd.read_pickle(\"coingecko_coins_list.pickle\")\n",
    "COINGECKO_COINSLIST\n",
    "COINGECKO_COINSLIST.query(\"symbol in ['bnt', 'btc', 'eth']\")"
   ]
  },
  {
   "cell_type": "code",
   "execution_count": 47,
   "id": "9a1c14d5",
   "metadata": {},
   "outputs": [],
   "source": [
    "# r = requests.get(\"https://api.coingecko.com/api/v3/simple/price\", params={\"ids\":\"bitcoin\", \"vs_currencies\":\"eth\"})\n",
    "# r.json()"
   ]
  },
  {
   "cell_type": "code",
   "execution_count": 48,
   "id": "924a786b",
   "metadata": {},
   "outputs": [],
   "source": [
    "id=\"bancor\"\n",
    "r = requests.get(\n",
    "        f\"https://api.coingecko.com/api/v3/coins/{id}/market_chart\", \n",
    "        params={\"days\":f\"{int(365*5)}\", \"vs_currency\":\"usd\"})\n",
    "data = r.json()\n",
    "prices_t = tuple((pd.Timestamp(datetime.fromtimestamp(ts/1000)), p) for ts, p in data[\"prices\"])\n",
    "prices_df = pd.DataFrame.from_records(prices_t, columns=[\"datetime\", \"price\"])\n",
    "#prices_df.set_index(\"datetime\").plot()"
   ]
  },
  {
   "cell_type": "code",
   "execution_count": 49,
   "id": "570e63f1",
   "metadata": {},
   "outputs": [],
   "source": [
    "def coingecko_id_from_symbol(symbol):\n",
    "    \"\"\"\n",
    "    get coingecko id from symbol\n",
    "    \"\"\"\n",
    "    COINGECKO_COINSLIST = pd.read_pickle(\"coingecko_coins_list.pickle\")\n",
    "    rec = COINGECKO_COINSLIST.query(f\"symbol == '{symbol}'\")\n",
    "    if len(rec) == 0:\n",
    "        return None\n",
    "    return rec[\"id\"].iloc[0]\n",
    "coingecko_id_from_symbol(\"bnt\")   \n",
    "\n",
    "def coingecko_check_ccy(ccy):\n",
    "    \"\"\"\n",
    "    checks for valid coingecko currency\n",
    "    \"\"\"\n",
    "    ccy = ccy.lower()\n",
    "    COINGECKO_CURRENCIES = fload(\"supported_vs_currencies.json\", json=True, quiet=True)\n",
    "    return True if ccy in COINGECKO_CURRENCIES else None"
   ]
  },
  {
   "cell_type": "code",
   "execution_count": 50,
   "id": "a4dc0818",
   "metadata": {},
   "outputs": [],
   "source": [
    "def get_coingecko_data(dataid, ccyid, colheader, years):\n",
    "    \"\"\"\n",
    "    call coingecko api to get data\n",
    "    \n",
    "    :dataid:    the id column from /api/v3/coins/list\n",
    "    :ccyid:     one of /api/v3/simple/supported_vs_currencies\n",
    "    :colheader: the column header of the price columns (eg \"ETH/USD\")\n",
    "    :years:     number of years of data to get\n",
    "    :returns:   pandas data frame\n",
    "    \"\"\"\n",
    "    r = requests.get(\n",
    "        f\"https://api.coingecko.com/api/v3/coins/{dataid}/market_chart\", \n",
    "        params={\"days\":f\"{int(365.25*years)}\", \"vs_currency\":f\"{ccyid}\"})\n",
    "    data = r.json()\n",
    "    prices_t = tuple((pd.Timestamp(datetime.fromtimestamp(ts/1000)), p) for ts, p in data[\"prices\"])\n",
    "    prices_df = pd.DataFrame.from_records(prices_t, columns=[\"datetime\", f\"{colheader}\"])\n",
    "    #prices_df.set_index(\"datetime\").plot()\n",
    "    return prices_df"
   ]
  },
  {
   "cell_type": "code",
   "execution_count": 51,
   "id": "1565e57e",
   "metadata": {},
   "outputs": [],
   "source": [
    "def get_coingecko_data_pair(slashpair, years):\n",
    "    \"\"\"\n",
    "    preprocess pair and call get_coingecko_data to get data\n",
    "    \n",
    "    :pair:    the desired pair, eg \"eth/usd\"\n",
    "    :years:   number of years of data to get\n",
    "    :returns: pandas data frame\n",
    "    \"\"\"\n",
    "    slashpair1 = slashpair.lower()\n",
    "    tknsym, ccysym = slashpair1.split(\"/\")\n",
    "    tknid = coingecko_id_from_symbol(tknsym)\n",
    "    \n",
    "    if tknid is None:\n",
    "        raise ValueError(f\"Unknown token {tknsym}\", slashpair)\n",
    "    \n",
    "    if coingecko_check_ccy(ccysym) is None:\n",
    "        raise ValueError(f\"Unknown currency {ccysym}\", slashpair)\n",
    "        \n",
    "    return get_coingecko_data(tknid, ccysym, slashpair, years).set_index(\"datetime\")"
   ]
  },
  {
   "cell_type": "code",
   "execution_count": 52,
   "id": "5be4fe07",
   "metadata": {},
   "outputs": [],
   "source": [
    "# #pairs = \"ETH/USD, ETH/EUR, ETH/GBP, BTC/JPY, BTC/EUR, BTC/GBP, BTC/ETH, BNB/USD, BNB/ETH, BNT/BTC, XRP/USD, XRP/ETH, XRP/BTC, ADA/USD, ADA/ETH, ADA/BTC, DOGE/USD, DOGE/ETH, DOGE/BTC\".split(\",\")\n",
    "# pairs = \"BTC/USD, BTC/EUR, BTC/GBP, BTC/JPY\".split(\",\")\n",
    "# result_df = pd.DataFrame()\n",
    "# for pair in pairs:\n",
    "#     pair = pair.strip()\n",
    "#     print(pair)\n",
    "#     try:\n",
    "#         df = get_coingecko_data_pair(pair, 5)\n",
    "#         result_df = pd.concat([result_df, df], axis=1)\n",
    "#         print(\"OK   \", pair)\n",
    "#     except:\n",
    "#         print(\"ERROR\", pair)\n",
    "# fn = f\"data_{randint(0,1000):03d}.pickle\"\n",
    "# print(f\"saving as {fn}\")\n",
    "# result_df.to_pickle(fn)\n",
    "# result_df.to_pickle(\"btc_ccy.pickle\")"
   ]
  },
  {
   "cell_type": "code",
   "execution_count": 53,
   "id": "9a375331",
   "metadata": {},
   "outputs": [],
   "source": [
    "def coingecko_download(pairs, fn):\n",
    "    \"\"\"\n",
    "    downloads given pairs from coingecko\n",
    "    \n",
    "    :pairs:         comma-separated list of pairs, eg \"ETH/USD, BTC/ETH\"\n",
    "    :fn:            the filename under which to save the dataframe (no extension)\n",
    "                    note: also saves under a random name\n",
    "    :returns:       tuple (df, random_fn)\n",
    "    \"\"\"\n",
    "\n",
    "    result_df = pd.DataFrame()\n",
    "    pairs = pairs.split(\",\")\n",
    "    for pair in pairs:\n",
    "        pair = pair.strip()\n",
    "        print(pair)\n",
    "        try:\n",
    "            df = get_coingecko_data_pair(pair, 5)\n",
    "            result_df = pd.concat([result_df, df], axis=1)\n",
    "            print(\"OK   \", pair)\n",
    "        except:\n",
    "            print(\"ERROR\", pair)\n",
    "    random_fn = f\"data_{randint(0,1000):03d}\"\n",
    "    print(f\"saving as {random_fn}\")\n",
    "    result_df.to_pickle(f\"{random_fn}.pickle\")\n",
    "    print(f\"saving as {fn}\")\n",
    "    result_df.to_pickle(f\"{fn}.pickle\")\n",
    "    return result_df, random_fn"
   ]
  },
  {
   "cell_type": "code",
   "execution_count": 54,
   "id": "02dd591b",
   "metadata": {},
   "outputs": [
    {
     "data": {
      "text/html": [
       "<div>\n",
       "<style scoped>\n",
       "    .dataframe tbody tr th:only-of-type {\n",
       "        vertical-align: middle;\n",
       "    }\n",
       "\n",
       "    .dataframe tbody tr th {\n",
       "        vertical-align: top;\n",
       "    }\n",
       "\n",
       "    .dataframe thead th {\n",
       "        text-align: right;\n",
       "    }\n",
       "</style>\n",
       "<table border=\"1\" class=\"dataframe\">\n",
       "  <thead>\n",
       "    <tr style=\"text-align: right;\">\n",
       "      <th></th>\n",
       "    </tr>\n",
       "  </thead>\n",
       "  <tbody>\n",
       "  </tbody>\n",
       "</table>\n",
       "</div>"
      ],
      "text/plain": [
       "Empty DataFrame\n",
       "Columns: []\n",
       "Index: []"
      ]
     },
     "execution_count": 54,
     "metadata": {},
     "output_type": "execute_result"
    }
   ],
   "source": [
    "pd.read_pickle(\"data_28.pickle\")"
   ]
  },
  {
   "cell_type": "code",
   "execution_count": 55,
   "id": "87600cd8",
   "metadata": {},
   "outputs": [
    {
     "name": "stdout",
     "output_type": "stream",
     "text": [
      "CoinGecko.ipynb\r\n",
      "CoinGecko.py\r\n",
      "btc_ccy.pickle\r\n",
      "btc_ccy_20230125.pickle\r\n",
      "\u001b[35mcarbon\u001b[m\u001b[m\r\n",
      "coingecko_coins_list.pickle\r\n",
      "coingecko_supported_vs_currencies\r\n",
      "coingecko_supported_vs_currencies.pickle\r\n",
      "coins1_usd.pickle\r\n",
      "coins2_usd.pickle\r\n",
      "coins3_usd.pickle\r\n",
      "coins4_usd.pickle\r\n",
      "data_269.pickle\r\n",
      "data_28.pickle\r\n",
      "data_319.pickle\r\n",
      "data_485.pickle\r\n",
      "data_687.pickle\r\n",
      "data_741.pickle\r\n",
      "data_876.pickle\r\n",
      "data_884.pickle\r\n",
      "supported_vs_currencies.json\r\n"
     ]
    }
   ],
   "source": [
    "!ls"
   ]
  },
  {
   "cell_type": "markdown",
   "id": "850eb1a4",
   "metadata": {
    "lines_to_next_cell": 2
   },
   "source": [
    "pairs = \"ETH/USD, ETH/EUR, ETH/GBP, BTC/JPY, BTC/EUR, BTC/GBP, BTC/ETH, BNB/USD, BNB/ETH, BNT/BTC, XRP/USD, XRP/ETH, XRP/BTC, ADA/USD, ADA/ETH, ADA/BTC, DOGE/USD, DOGE/ETH, DOGE/BTC\".split(\",\")"
   ]
  },
  {
   "cell_type": "code",
   "execution_count": 57,
   "id": "067a7614",
   "metadata": {},
   "outputs": [],
   "source": [
    "# pairs = \"BTC/USD, BTC/EUR, BTC/GBP, BTC/JPY\"\n",
    "# df_btc_ccy, _ = coingecko_download(pairs, \"btc_ccy\")"
   ]
  },
  {
   "cell_type": "code",
   "execution_count": 58,
   "id": "6f9c3d03",
   "metadata": {},
   "outputs": [],
   "source": [
    "# pairs = \"ETH/USD, BNB/USD, XRP/USD, ADA/USD, DOGE/USD\"\n",
    "# df, _ = coingecko_download(pairs, \"coins1_usd\")\n",
    "# df"
   ]
  },
  {
   "cell_type": "code",
   "execution_count": 59,
   "id": "89cf73cb",
   "metadata": {},
   "outputs": [],
   "source": [
    "# pairs = \"OKB/USD, MATIC/USD, SOL/USD, DOT/USD, SHIB/USD\"\n",
    "# df, _ = coingecko_download(pairs, \"coins2_usd\")\n",
    "# df"
   ]
  },
  {
   "cell_type": "code",
   "execution_count": 60,
   "id": "42c21063",
   "metadata": {},
   "outputs": [],
   "source": [
    "# pairs = \"LTC/USD, TRX/USD, AVAX/USD, UNI/USD, ATOM/USD\"\n",
    "# df, _ = coingecko_download(pairs, \"coins3_usd\")\n",
    "# df"
   ]
  },
  {
   "cell_type": "code",
   "execution_count": 61,
   "id": "3f57ba71",
   "metadata": {
    "lines_to_next_cell": 0
   },
   "outputs": [],
   "source": [
    "# pairs = \"LINK/USD, XMR/USD, ETC/USD, BCH/USD, XLM/USD\"\n",
    "# df, _ = coingecko_download(pairs, \"coins4_usd\")\n",
    "# df"
   ]
  },
  {
   "cell_type": "code",
   "execution_count": null,
   "id": "12d3a58d",
   "metadata": {
    "lines_to_next_cell": 2
   },
   "outputs": [],
   "source": []
  }
 ],
 "metadata": {
  "jupytext": {
   "formats": "ipynb,py:light"
  },
  "kernelspec": {
   "display_name": "Python 3",
   "language": "python",
   "name": "python3"
  },
  "language_info": {
   "codemirror_mode": {
    "name": "ipython",
    "version": 3
   },
   "file_extension": ".py",
   "mimetype": "text/x-python",
   "name": "python",
   "nbconvert_exporter": "python",
   "pygments_lexer": "ipython3",
   "version": "3.8.8"
  }
 },
 "nbformat": 4,
 "nbformat_minor": 5
}
