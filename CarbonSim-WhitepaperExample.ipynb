{
 "cells": [
  {
   "cell_type": "markdown",
   "id": "fdd485eb",
   "metadata": {},
   "source": [
    "<p align=\"left\">\n",
    "<img width=\"50%\" src=\"https://drive.google.com/uc?export=view&id=10y3NKbbk7yt7cZDMszMt04g6NquTEa4p\" alt=\"Carbon Logo\" />\n",
    "</p>\n"
   ]
  },
  {
   "cell_type": "markdown",
   "id": "fa78c8d2",
   "metadata": {},
   "source": [
    "# Carbon Simulator - Whitepaper Examples\n",
    "\n",
    "Those example relates to our [Whitepaper][wp].\n",
    "\n",
    "[wp]:https://carbondefi.xyz/whitepaper"
   ]
  },
  {
   "cell_type": "code",
   "execution_count": 1,
   "id": "bf877949",
   "metadata": {},
   "outputs": [
    {
     "name": "stdout",
     "output_type": "stream",
     "text": [
      "Carbon Version v1.5-beta0 (6/Dec/2022)\n"
     ]
    }
   ],
   "source": [
    "from carbon import CarbonSimulatorUI, P, __version__, __date__\n",
    "print(f\"Carbon Version v{__version__} ({__date__})\", )\n",
    "from math import sqrt"
   ]
  },
  {
   "cell_type": "code",
   "execution_count": 2,
   "id": "cd860b8a",
   "metadata": {},
   "outputs": [],
   "source": [
    "Sim = CarbonSimulatorUI(pair=P(tknb=\"RSK\", tknq=\"CSH\"))"
   ]
  },
  {
   "cell_type": "markdown",
   "id": "c204437c",
   "metadata": {},
   "source": [
    "We create the strategy selling RSK between 150-200 and buying it between 100-50, seeding it with 1000 CSH"
   ]
  },
  {
   "cell_type": "code",
   "execution_count": 3,
   "id": "db5491e7",
   "metadata": {},
   "outputs": [
    {
     "name": "stdout",
     "output_type": "stream",
     "text": [
      "173.20508075688772 70.71067811865476\n"
     ]
    }
   ],
   "source": [
    "Sim.add_strategy(\n",
    "        tkn=\"RSK\", \n",
    "        amt_sell=0, psell_start=150, psell_end=200, \n",
    "        amt_buy=1000, pbuy_start=100, pbuy_end=50\n",
    ")[\"orders\"]\n",
    "print(sqrt(150*200), sqrt(50*100))"
   ]
  },
  {
   "cell_type": "markdown",
   "id": "1dbda73c",
   "metadata": {},
   "source": [
    "The market goes down, so the AMM sells its CSH and buys RSK"
   ]
  },
  {
   "cell_type": "code",
   "execution_count": 4,
   "id": "d6cc5aed",
   "metadata": {},
   "outputs": [
    {
     "data": {
      "text/html": [
       "<div>\n",
       "<style scoped>\n",
       "    .dataframe tbody tr th:only-of-type {\n",
       "        vertical-align: middle;\n",
       "    }\n",
       "\n",
       "    .dataframe tbody tr th {\n",
       "        vertical-align: top;\n",
       "    }\n",
       "\n",
       "    .dataframe thead th {\n",
       "        text-align: right;\n",
       "    }\n",
       "</style>\n",
       "<table border=\"1\" class=\"dataframe\">\n",
       "  <thead>\n",
       "    <tr style=\"text-align: right;\">\n",
       "      <th></th>\n",
       "      <th>uid</th>\n",
       "      <th>id</th>\n",
       "      <th>subid</th>\n",
       "      <th>note</th>\n",
       "      <th>aggr</th>\n",
       "      <th>exec</th>\n",
       "      <th>limitfail</th>\n",
       "      <th>amt1</th>\n",
       "      <th>tkn1</th>\n",
       "      <th>amt2</th>\n",
       "      <th>tkn2</th>\n",
       "      <th>pair</th>\n",
       "      <th>routeix</th>\n",
       "      <th>nroutes</th>\n",
       "      <th>price</th>\n",
       "      <th>p_unit</th>\n",
       "    </tr>\n",
       "  </thead>\n",
       "  <tbody>\n",
       "    <tr>\n",
       "      <th>0</th>\n",
       "      <td>0</td>\n",
       "      <td>0</td>\n",
       "      <td>A</td>\n",
       "      <td>AMM sells 1000CSH buys 14RSK</td>\n",
       "      <td>True</td>\n",
       "      <td>True</td>\n",
       "      <td>None</td>\n",
       "      <td>1000.0</td>\n",
       "      <td>CSH</td>\n",
       "      <td>14.142136</td>\n",
       "      <td>RSK</td>\n",
       "      <td>RSKCSH</td>\n",
       "      <td>[1]</td>\n",
       "      <td>1</td>\n",
       "      <td>70.710678</td>\n",
       "      <td>CSH per RSK</td>\n",
       "    </tr>\n",
       "  </tbody>\n",
       "</table>\n",
       "</div>"
      ],
      "text/plain": [
       "  uid  id subid                          note  aggr  exec limitfail    amt1  \\\n",
       "0   0   0     A  AMM sells 1000CSH buys 14RSK  True  True      None  1000.0   \n",
       "\n",
       "  tkn1       amt2 tkn2    pair routeix  nroutes      price       p_unit  \n",
       "0  CSH  14.142136  RSK  RSKCSH     [1]        1  70.710678  CSH per RSK  "
      ]
     },
     "execution_count": 4,
     "metadata": {},
     "output_type": "execute_result"
    }
   ],
   "source": [
    "Sim.amm_sells(\"CSH\", 1000)[\"trades\"].query(\"aggr==True\")"
   ]
  },
  {
   "cell_type": "markdown",
   "id": "cf334c25",
   "metadata": {},
   "source": [
    "The market goes up again, so the AMM sells all its RSK for CSH"
   ]
  },
  {
   "cell_type": "code",
   "execution_count": 5,
   "id": "5f7da177",
   "metadata": {},
   "outputs": [
    {
     "data": {
      "text/html": [
       "<div>\n",
       "<style scoped>\n",
       "    .dataframe tbody tr th:only-of-type {\n",
       "        vertical-align: middle;\n",
       "    }\n",
       "\n",
       "    .dataframe tbody tr th {\n",
       "        vertical-align: top;\n",
       "    }\n",
       "\n",
       "    .dataframe thead th {\n",
       "        text-align: right;\n",
       "    }\n",
       "</style>\n",
       "<table border=\"1\" class=\"dataframe\">\n",
       "  <thead>\n",
       "    <tr style=\"text-align: right;\">\n",
       "      <th></th>\n",
       "      <th>uid</th>\n",
       "      <th>id</th>\n",
       "      <th>subid</th>\n",
       "      <th>note</th>\n",
       "      <th>aggr</th>\n",
       "      <th>exec</th>\n",
       "      <th>limitfail</th>\n",
       "      <th>amt1</th>\n",
       "      <th>tkn1</th>\n",
       "      <th>amt2</th>\n",
       "      <th>tkn2</th>\n",
       "      <th>pair</th>\n",
       "      <th>routeix</th>\n",
       "      <th>nroutes</th>\n",
       "      <th>price</th>\n",
       "      <th>p_unit</th>\n",
       "    </tr>\n",
       "  </thead>\n",
       "  <tbody>\n",
       "    <tr>\n",
       "      <th>0</th>\n",
       "      <td>1</td>\n",
       "      <td>1</td>\n",
       "      <td>A</td>\n",
       "      <td>AMM sells 14RSK buys 2449CSH</td>\n",
       "      <td>True</td>\n",
       "      <td>True</td>\n",
       "      <td>None</td>\n",
       "      <td>14.142136</td>\n",
       "      <td>RSK</td>\n",
       "      <td>2449.489808</td>\n",
       "      <td>CSH</td>\n",
       "      <td>RSKCSH</td>\n",
       "      <td>[0]</td>\n",
       "      <td>1</td>\n",
       "      <td>173.205081</td>\n",
       "      <td>CSH per RSK</td>\n",
       "    </tr>\n",
       "  </tbody>\n",
       "</table>\n",
       "</div>"
      ],
      "text/plain": [
       "  uid  id subid                          note  aggr  exec limitfail  \\\n",
       "0   1   1     A  AMM sells 14RSK buys 2449CSH  True  True      None   \n",
       "\n",
       "        amt1 tkn1         amt2 tkn2    pair routeix  nroutes       price  \\\n",
       "0  14.142136  RSK  2449.489808  CSH  RSKCSH     [0]        1  173.205081   \n",
       "\n",
       "        p_unit  \n",
       "0  CSH per RSK  "
      ]
     },
     "execution_count": 5,
     "metadata": {},
     "output_type": "execute_result"
    }
   ],
   "source": [
    "Sim.amm_sells(\"RSK\", 14.142136)[\"trades\"].query(\"aggr==True\")"
   ]
  },
  {
   "cell_type": "code",
   "execution_count": 6,
   "id": "3a3395e9",
   "metadata": {},
   "outputs": [
    {
     "data": {
      "text/plain": [
       "[{'tkn': 'RSK', 'y': 3.321223258972168e-27}, {'tkn': 'CSH', 'y': 2449.489808}]"
      ]
     },
     "execution_count": 6,
     "metadata": {},
     "output_type": "execute_result"
    }
   ],
   "source": [
    "Sim.state()[\"orders\"][[\"tkn\",\"y\"]].to_dict(orient=\"records\")"
   ]
  },
  {
   "cell_type": "markdown",
   "id": "f03f2d53",
   "metadata": {},
   "source": [
    "The market goes down again, but only to 89.04, enough to buy 5 RSK"
   ]
  },
  {
   "cell_type": "code",
   "execution_count": 7,
   "id": "a3b225d1",
   "metadata": {},
   "outputs": [
    {
     "data": {
      "text/html": [
       "<div>\n",
       "<style scoped>\n",
       "    .dataframe tbody tr th:only-of-type {\n",
       "        vertical-align: middle;\n",
       "    }\n",
       "\n",
       "    .dataframe tbody tr th {\n",
       "        vertical-align: top;\n",
       "    }\n",
       "\n",
       "    .dataframe thead th {\n",
       "        text-align: right;\n",
       "    }\n",
       "</style>\n",
       "<table border=\"1\" class=\"dataframe\">\n",
       "  <thead>\n",
       "    <tr style=\"text-align: right;\">\n",
       "      <th></th>\n",
       "      <th>uid</th>\n",
       "      <th>id</th>\n",
       "      <th>subid</th>\n",
       "      <th>note</th>\n",
       "      <th>aggr</th>\n",
       "      <th>exec</th>\n",
       "      <th>limitfail</th>\n",
       "      <th>amt1</th>\n",
       "      <th>tkn1</th>\n",
       "      <th>amt2</th>\n",
       "      <th>tkn2</th>\n",
       "      <th>pair</th>\n",
       "      <th>routeix</th>\n",
       "      <th>nroutes</th>\n",
       "      <th>price</th>\n",
       "      <th>p_unit</th>\n",
       "    </tr>\n",
       "  </thead>\n",
       "  <tbody>\n",
       "    <tr>\n",
       "      <th>0</th>\n",
       "      <td>2</td>\n",
       "      <td>2</td>\n",
       "      <td>A</td>\n",
       "      <td>AMM sells 472CSH buys 5RSK</td>\n",
       "      <td>True</td>\n",
       "      <td>True</td>\n",
       "      <td>None</td>\n",
       "      <td>471.793105</td>\n",
       "      <td>CSH</td>\n",
       "      <td>5.0</td>\n",
       "      <td>RSK</td>\n",
       "      <td>RSKCSH</td>\n",
       "      <td>[1]</td>\n",
       "      <td>1</td>\n",
       "      <td>94.358621</td>\n",
       "      <td>CSH per RSK</td>\n",
       "    </tr>\n",
       "  </tbody>\n",
       "</table>\n",
       "</div>"
      ],
      "text/plain": [
       "  uid  id subid                        note  aggr  exec limitfail        amt1  \\\n",
       "0   2   2     A  AMM sells 472CSH buys 5RSK  True  True      None  471.793105   \n",
       "\n",
       "  tkn1  amt2 tkn2    pair routeix  nroutes      price       p_unit  \n",
       "0  CSH   5.0  RSK  RSKCSH     [1]        1  94.358621  CSH per RSK  "
      ]
     },
     "execution_count": 7,
     "metadata": {},
     "output_type": "execute_result"
    }
   ],
   "source": [
    "Sim.amm_buys(\"RSK\", 5)[\"trades\"].query(\"aggr==True\")"
   ]
  },
  {
   "cell_type": "markdown",
   "id": "21ad4d01",
   "metadata": {},
   "source": [
    "We see that the buy-RSK curve is now stuck at the aftermentioned 89.04, and the sell-RSK curve is only filled with 5 RSK out of a capacity of 14.1, so it is stuck at 179.79, closer to its upper end at 200"
   ]
  },
  {
   "cell_type": "code",
   "execution_count": 8,
   "id": "ef45c25e",
   "metadata": {},
   "outputs": [
    {
     "data": {
      "text/html": [
       "<div>\n",
       "<style scoped>\n",
       "    .dataframe tbody tr th:only-of-type {\n",
       "        vertical-align: middle;\n",
       "    }\n",
       "\n",
       "    .dataframe tbody tr th {\n",
       "        vertical-align: top;\n",
       "    }\n",
       "\n",
       "    .dataframe thead th {\n",
       "        text-align: right;\n",
       "    }\n",
       "</style>\n",
       "<table border=\"1\" class=\"dataframe\">\n",
       "  <thead>\n",
       "    <tr style=\"text-align: right;\">\n",
       "      <th></th>\n",
       "      <th>id</th>\n",
       "      <th>pair</th>\n",
       "      <th>tkn</th>\n",
       "      <th>y_int</th>\n",
       "      <th>y</th>\n",
       "      <th>y_unit</th>\n",
       "      <th>p_start</th>\n",
       "      <th>p_end</th>\n",
       "      <th>p_marg</th>\n",
       "      <th>p_unit</th>\n",
       "      <th>lid</th>\n",
       "    </tr>\n",
       "  </thead>\n",
       "  <tbody>\n",
       "    <tr>\n",
       "      <th>0</th>\n",
       "      <td>0</td>\n",
       "      <td>RSKCSH</td>\n",
       "      <td>RSK</td>\n",
       "      <td>14.142136</td>\n",
       "      <td>5.000000</td>\n",
       "      <td>RSK</td>\n",
       "      <td>150.0</td>\n",
       "      <td>200.0</td>\n",
       "      <td>179.794460</td>\n",
       "      <td>CSH per RSK</td>\n",
       "      <td>1</td>\n",
       "    </tr>\n",
       "    <tr>\n",
       "      <th>1</th>\n",
       "      <td>1</td>\n",
       "      <td>RSKCSH</td>\n",
       "      <td>CSH</td>\n",
       "      <td>2449.489808</td>\n",
       "      <td>1977.696703</td>\n",
       "      <td>CSH</td>\n",
       "      <td>100.0</td>\n",
       "      <td>50.0</td>\n",
       "      <td>89.035494</td>\n",
       "      <td>CSH per RSK</td>\n",
       "      <td>0</td>\n",
       "    </tr>\n",
       "  </tbody>\n",
       "</table>\n",
       "</div>"
      ],
      "text/plain": [
       "   id    pair  tkn        y_int            y y_unit  p_start  p_end  \\\n",
       "0   0  RSKCSH  RSK    14.142136     5.000000    RSK    150.0  200.0   \n",
       "1   1  RSKCSH  CSH  2449.489808  1977.696703    CSH    100.0   50.0   \n",
       "\n",
       "       p_marg       p_unit  lid  \n",
       "0  179.794460  CSH per RSK    1  \n",
       "1   89.035494  CSH per RSK    0  "
      ]
     },
     "execution_count": 8,
     "metadata": {},
     "output_type": "execute_result"
    }
   ],
   "source": [
    "Sim.state()[\"orders\"]"
   ]
  },
  {
   "cell_type": "markdown",
   "id": "5a668d88",
   "metadata": {},
   "source": [
    "We confirm that 179.79 is the marginal selling price"
   ]
  },
  {
   "cell_type": "code",
   "execution_count": 9,
   "id": "d9687162",
   "metadata": {},
   "outputs": [
    {
     "data": {
      "text/html": [
       "<div>\n",
       "<style scoped>\n",
       "    .dataframe tbody tr th:only-of-type {\n",
       "        vertical-align: middle;\n",
       "    }\n",
       "\n",
       "    .dataframe tbody tr th {\n",
       "        vertical-align: top;\n",
       "    }\n",
       "\n",
       "    .dataframe thead th {\n",
       "        text-align: right;\n",
       "    }\n",
       "</style>\n",
       "<table border=\"1\" class=\"dataframe\">\n",
       "  <thead>\n",
       "    <tr style=\"text-align: right;\">\n",
       "      <th></th>\n",
       "      <th>uid</th>\n",
       "      <th>id</th>\n",
       "      <th>subid</th>\n",
       "      <th>note</th>\n",
       "      <th>aggr</th>\n",
       "      <th>exec</th>\n",
       "      <th>limitfail</th>\n",
       "      <th>amt1</th>\n",
       "      <th>tkn1</th>\n",
       "      <th>amt2</th>\n",
       "      <th>tkn2</th>\n",
       "      <th>pair</th>\n",
       "      <th>routeix</th>\n",
       "      <th>nroutes</th>\n",
       "      <th>price</th>\n",
       "      <th>p_unit</th>\n",
       "    </tr>\n",
       "  </thead>\n",
       "  <tbody>\n",
       "    <tr>\n",
       "      <th>0</th>\n",
       "      <td>3</td>\n",
       "      <td>3</td>\n",
       "      <td>A</td>\n",
       "      <td>AMM sells 0RSK buys 0CSH</td>\n",
       "      <td>True</td>\n",
       "      <td>True</td>\n",
       "      <td>None</td>\n",
       "      <td>0.000001</td>\n",
       "      <td>RSK</td>\n",
       "      <td>0.00018</td>\n",
       "      <td>CSH</td>\n",
       "      <td>RSKCSH</td>\n",
       "      <td>[0]</td>\n",
       "      <td>1</td>\n",
       "      <td>179.794462</td>\n",
       "      <td>CSH per RSK</td>\n",
       "    </tr>\n",
       "  </tbody>\n",
       "</table>\n",
       "</div>"
      ],
      "text/plain": [
       "  uid  id subid                      note  aggr  exec limitfail      amt1  \\\n",
       "0   3   3     A  AMM sells 0RSK buys 0CSH  True  True      None  0.000001   \n",
       "\n",
       "  tkn1     amt2 tkn2    pair routeix  nroutes       price       p_unit  \n",
       "0  RSK  0.00018  CSH  RSKCSH     [0]        1  179.794462  CSH per RSK  "
      ]
     },
     "execution_count": 9,
     "metadata": {},
     "output_type": "execute_result"
    }
   ],
   "source": [
    "Sim.amm_sells(\"RSK\", 0.000001)[\"trades\"].query(\"aggr==True\")"
   ]
  },
  {
   "cell_type": "code",
   "execution_count": null,
   "id": "484ebcd6",
   "metadata": {},
   "outputs": [],
   "source": []
  }
 ],
 "metadata": {
  "jupytext": {
   "cell_metadata_filter": "-all",
   "notebook_metadata_filter": "-all"
  },
  "kernelspec": {
   "display_name": "Python 3",
   "language": "python",
   "name": "python3"
  },
  "language_info": {
   "codemirror_mode": {
    "name": "ipython",
    "version": 3
   },
   "file_extension": ".py",
   "mimetype": "text/x-python",
   "name": "python",
   "nbconvert_exporter": "python",
   "pygments_lexer": "ipython3",
   "version": "3.8.8"
  }
 },
 "nbformat": 4,
 "nbformat_minor": 5
}
