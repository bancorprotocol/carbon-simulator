{
 "cells": [
  {
   "cell_type": "code",
   "execution_count": 1,
   "id": "22b66169",
   "metadata": {},
   "outputs": [],
   "source": [
    "from carbon import CarbonSimulatorUI\n",
    "from carbon.simulators.carbon_simulator import __version__ as uiversion, __date__ as uidate\n",
    "#from carbon.pair import __version__ as pversion, __date__ as pdate"
   ]
  },
  {
   "cell_type": "code",
   "execution_count": 2,
   "id": "c61a0e2b",
   "metadata": {},
   "outputs": [
    {
     "name": "stdout",
     "output_type": "stream",
     "text": [
      "[carbon_simulator] version 1.0.2 7/Dec/2022\n"
     ]
    }
   ],
   "source": [
    "print(\"[carbon_simulator] version\", uiversion, uidate)\n",
    "#print(\"[pair] version\", pversion, pdate)"
   ]
  },
  {
   "cell_type": "markdown",
   "id": "ec6ff430",
   "metadata": {},
   "source": [
    "# Carbon Simulation - Test 39 - Future"
   ]
  },
  {
   "cell_type": "code",
   "execution_count": 3,
   "id": "c602b088",
   "metadata": {},
   "outputs": [],
   "source": [
    "#help(CarbonSimulatorUI)"
   ]
  },
  {
   "cell_type": "code",
   "execution_count": 4,
   "id": "587d0dae",
   "metadata": {},
   "outputs": [],
   "source": [
    "Sim = CarbonSimulatorUI()\n",
    "SimXF = CarbonSimulatorUI(exclude_future=True)\n",
    "SimIF = CarbonSimulatorUI(exclude_future=False)"
   ]
  },
  {
   "cell_type": "code",
   "execution_count": 5,
   "id": "a6ba0ab3",
   "metadata": {},
   "outputs": [],
   "source": [
    "assert(Sim.exclude_future==True)\n",
    "assert(SimXF.exclude_future==True)\n",
    "assert(SimIF.exclude_future==False)"
   ]
  },
  {
   "cell_type": "code",
   "execution_count": 6,
   "id": "f2d20b8c",
   "metadata": {},
   "outputs": [
    {
     "name": "stdout",
     "output_type": "stream",
     "text": [
      "Feature disabled (us `exclude_future = False` to enable)\n"
     ]
    }
   ],
   "source": [
    "try:\n",
    "    Sim._raise_if_future_restricted()\n",
    "except Sim.ExcludedFutureFunctionality as e:\n",
    "    print(e)\n",
    "    assert(str(e)==\"Feature disabled (us `exclude_future = False` to enable)\")"
   ]
  },
  {
   "cell_type": "code",
   "execution_count": 7,
   "id": "54c620e3",
   "metadata": {},
   "outputs": [
    {
     "name": "stdout",
     "output_type": "stream",
     "text": [
      "Feature disabled (us `exclude_future = False` to enable)\n"
     ]
    }
   ],
   "source": [
    "try:\n",
    "    SimXF._raise_if_future_restricted()\n",
    "except Sim.ExcludedFutureFunctionality as e:\n",
    "    print(e)\n",
    "    assert(str(e)==\"Feature disabled (us `exclude_future = False` to enable)\")"
   ]
  },
  {
   "cell_type": "code",
   "execution_count": 8,
   "id": "23760ff6",
   "metadata": {},
   "outputs": [],
   "source": [
    "assert(SimIF._raise_if_future_restricted()==None)"
   ]
  },
  {
   "cell_type": "code",
   "execution_count": null,
   "id": "650c3765",
   "metadata": {},
   "outputs": [],
   "source": []
  }
 ],
 "metadata": {
  "kernelspec": {
   "display_name": "Python 3",
   "language": "python",
   "name": "python3"
  },
  "language_info": {
   "codemirror_mode": {
    "name": "ipython",
    "version": 3
   },
   "file_extension": ".py",
   "mimetype": "text/x-python",
   "name": "python",
   "nbconvert_exporter": "python",
   "pygments_lexer": "ipython3",
   "version": "3.8.8"
  }
 },
 "nbformat": 4,
 "nbformat_minor": 5
}
