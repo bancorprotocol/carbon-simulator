{
 "cells": [
  {
   "cell_type": "code",
   "execution_count": 19,
   "id": "a0855cc0-2db7-4341-b0ef-fcb343ca3636",
   "metadata": {
    "tags": []
   },
   "outputs": [
    {
     "name": "stdout",
     "output_type": "stream",
     "text": [
      "CarbonSDK v0.9 (11/Mar/2023)\n",
      "v18.14.2\n"
     ]
    }
   ],
   "source": [
    "from carbon.sdk import CarbonSDK, Tokens as T\n",
    "#from carbon import CarbonOrderUI, CarbonSimulatorUI\n",
    "from carbon.helpers.widgets import CheckboxManager, DropdownManager, PcSliderManager\n",
    "from matplotlib import pyplot as plt\n",
    "import numpy as np\n",
    "print(\"{0.__name__} v{0.__VERSION__} ({0.__DATE__})\".format(CarbonSDK))\n",
    "!node --version"
   ]
  },
  {
   "cell_type": "markdown",
   "id": "3650b16b-d020-4063-84c6-ab9fb7556552",
   "metadata": {},
   "source": [
    "# Single Trades [NB31]\n",
    "\n",
    "_allows to choose a market, retrieves market information, and then submits a trade_\n",
    "\n",
    "In order to start the server, please run\n",
    "\n",
    "    source /Volumes/Private/bin/sdkserver\n",
    "    node server/sdkserver.mjs"
   ]
  },
  {
   "cell_type": "code",
   "execution_count": 20,
   "id": "15bfcae7-1124-4a6b-b12f-26d2f9f8173a",
   "metadata": {
    "tags": []
   },
   "outputs": [
    {
     "data": {
      "text/plain": [
       "'Carbon SDK v0.9 (7/Mar/2022)'"
      ]
     },
     "execution_count": 20,
     "metadata": {},
     "output_type": "execute_result"
    }
   ],
   "source": [
    "SDK = CarbonSDK(disclaimer=False, verbose=False, Tokens=T)\n",
    "pairs, pairs_s = SDK.pairs(inclstr=True)\n",
    "SDK.version().get(\"msg\")"
   ]
  },
  {
   "cell_type": "markdown",
   "id": "66b0fee4-4b8d-483d-92be-5e8fdc626d43",
   "metadata": {},
   "source": [
    "## Pair selection"
   ]
  },
  {
   "cell_type": "code",
   "execution_count": 21,
   "id": "0d6e1623-02d3-40a8-8d1f-92ce2ad70406",
   "metadata": {
    "jupyter": {
     "source_hidden": true
    }
   },
   "outputs": [
    {
     "data": {
      "application/vnd.jupyter.widget-view+json": {
       "model_id": "53fb56c75a694baa85eb57f6387c06a1",
       "version_major": 2,
       "version_minor": 0
      },
      "text/plain": [
       "Dropdown(options=(('USDC/ETH', 'USDC/ETH'), ('DAI/USDC', 'DAI/USDC')), value='USDC/ETH')"
      ]
     },
     "metadata": {},
     "output_type": "display_data"
    }
   ],
   "source": [
    "try:\n",
    "    pairs_sel = [s.strip() for s in pairs_s.split(\",\")]\n",
    "    pairs_w()\n",
    "except:\n",
    "    pairs_w = DropdownManager(pairs_sel, defaultval=\"USDC/ETH\")\n",
    "    pairs_w()"
   ]
  },
  {
   "cell_type": "code",
   "execution_count": 22,
   "id": "362ad3a5-656e-4cdf-bc72-23814c9039fe",
   "metadata": {
    "jupyter": {
     "source_hidden": true
    }
   },
   "outputs": [
    {
     "data": {
      "application/vnd.jupyter.widget-view+json": {
       "model_id": "aa6a635ee026479d8693f17ad3cf9c69",
       "version_major": 2,
       "version_minor": 0
      },
      "text/plain": [
       "VBox(children=(Checkbox(value=True, description='inverse'),))"
      ]
     },
     "metadata": {},
     "output_type": "display_data"
    }
   ],
   "source": [
    "try:\n",
    "    inverse_w()\n",
    "except:\n",
    "    inverse_w = CheckboxManager([\"inverse\"], values=[1])\n",
    "    inverse_w()"
   ]
  },
  {
   "cell_type": "code",
   "execution_count": 23,
   "id": "1f83cf3b-b2fe-4bf4-beac-a1ae56b64640",
   "metadata": {
    "jupyter": {
     "source_hidden": true
    }
   },
   "outputs": [
    {
     "data": {
      "text/plain": [
       "'ETH/USDC'"
      ]
     },
     "execution_count": 23,
     "metadata": {},
     "output_type": "execute_result"
    }
   ],
   "source": [
    "tknb,tknq = pairs_w.value.split(\"/\")\n",
    "if inverse_w.values[0]:\n",
    "    tknb,tknq = tknq, tknb\n",
    "pair = f\"{tknb}/{tknq}\"\n",
    "pair"
   ]
  },
  {
   "cell_type": "markdown",
   "id": "28ccd123-73ba-47cc-af86-455b2b152839",
   "metadata": {},
   "source": [
    "## Market information"
   ]
  },
  {
   "cell_type": "code",
   "execution_count": 24,
   "id": "efc7acba-3a51-4baf-8d34-c95a7fcc9146",
   "metadata": {
    "tags": []
   },
   "outputs": [
    {
     "data": {
      "text/plain": [
       "MarketByPair(pair='ETH/USDC', bestBid=1989.9999997673926, bestAsk=2005.0000000000175, liqBid=4264.65575, liqAsk=10.74014013035547, lastBid=899.9999997186933, lastAsk=3000.000000000071)"
      ]
     },
     "execution_count": 24,
     "metadata": {},
     "output_type": "execute_result"
    }
   ],
   "source": [
    "m = SDK.mGetMarketByPair(pair=pair)\n",
    "m"
   ]
  },
  {
   "cell_type": "code",
   "execution_count": 25,
   "id": "5ab8c49e-733b-4987-aaad-893123bb0c2e",
   "metadata": {
    "tags": []
   },
   "outputs": [
    {
     "name": "stdout",
     "output_type": "stream",
     "text": [
      "bid/mid/ask = 1990.0/1997.5/2005.0\n",
      "liquidity = 4265.0 USDC bid, 10.74 ETH ask\n"
     ]
    }
   ],
   "source": [
    "print(f\"bid/mid/ask = {SDK.roundsd(m.bestBid,6)}/{SDK.roundsd(m.mid,6)}/{SDK.roundsd(m.bestAsk,6)}\")\n",
    "print(f\"liquidity = {SDK.roundsd(m.liqBid,4)} {m.liqBidUnit} bid, {SDK.roundsd(m.liqAsk,4)} {m.liqAskUnit} ask\")"
   ]
  },
  {
   "cell_type": "markdown",
   "id": "14a6c653-dccb-461c-b3bd-8b25902dcd32",
   "metadata": {},
   "source": [
    "## Trading settings"
   ]
  },
  {
   "cell_type": "code",
   "execution_count": 26,
   "id": "810c953d-af0c-473f-bf86-8c2c04fe2a52",
   "metadata": {
    "tags": []
   },
   "outputs": [
    {
     "data": {
      "text/plain": [
       "P('ETH/USDC')"
      ]
     },
     "execution_count": 26,
     "metadata": {},
     "output_type": "execute_result"
    }
   ],
   "source": [
    "m.cpair"
   ]
  },
  {
   "cell_type": "code",
   "execution_count": 27,
   "id": "dbd35704-761d-4abf-825c-4552599a4512",
   "metadata": {
    "jupyter": {
     "source_hidden": true
    }
   },
   "outputs": [
    {
     "data": {
      "application/vnd.jupyter.widget-view+json": {
       "model_id": "7dc9062986ce4c66a72027e02616e574",
       "version_major": 2,
       "version_minor": 0
      },
      "text/plain": [
       "Dropdown(options=(('Base Token', 'Base Token'), ('Quote Token', 'Quote Token')), value='Base Token')"
      ]
     },
     "metadata": {},
     "output_type": "display_data"
    }
   ],
   "source": [
    "try:\n",
    "    bq_w()\n",
    "except:\n",
    "    bq_w = DropdownManager([\"Base Token\", \"Quote Token\"], defaultval=\"Base Token\")\n",
    "    bq_w()\n",
    "tkn = m.cpair.tknb if bq_w.value == \"Base Token\" else m.cpair.tknq"
   ]
  },
  {
   "cell_type": "code",
   "execution_count": 28,
   "id": "6f041822-7188-4505-bf04-df718a3404d0",
   "metadata": {
    "jupyter": {
     "source_hidden": true
    }
   },
   "outputs": [
    {
     "data": {
      "application/vnd.jupyter.widget-view+json": {
       "model_id": "66a221384b64466eb21c396cf220ea50",
       "version_major": 2,
       "version_minor": 0
      },
      "text/plain": [
       "Dropdown(index=1, options=(('Buy', 'Buy'), ('Sell', 'Sell')), value='Sell')"
      ]
     },
     "metadata": {},
     "output_type": "display_data"
    }
   ],
   "source": [
    "try:\n",
    "    buysell_w()\n",
    "except:\n",
    "    buysell_w = DropdownManager([\"Buy\", \"Sell\"], defaultval=\"Sell\")\n",
    "    buysell_w()\n",
    "buysell = SDK.SELL if buysell_w.value == \"Sell\" else SDK.BUY"
   ]
  },
  {
   "cell_type": "code",
   "execution_count": 29,
   "id": "bd9b7d24-3677-4e5e-9893-c00743ee919b",
   "metadata": {
    "jupyter": {
     "source_hidden": true
    }
   },
   "outputs": [
    {
     "name": "stdout",
     "output_type": "stream",
     "text": [
      "Your choice: Sell ETH against USDC [market = ETH/USDC]\n"
     ]
    }
   ],
   "source": [
    "print(f\"Your choice: {buysell_w.value} {tkn} against {m.cpair.other(tkn)} [market = {m.pair}]\")"
   ]
  },
  {
   "cell_type": "code",
   "execution_count": 30,
   "id": "850d5a09-6631-4f4b-bdad-48fa2eaf9fe7",
   "metadata": {
    "tags": []
   },
   "outputs": [],
   "source": [
    "amount = 0.01"
   ]
  },
  {
   "cell_type": "markdown",
   "id": "a472f617-d015-4013-b2fb-1affdf998cf2",
   "metadata": {},
   "source": [
    "#### `mPrepareTrade`"
   ]
  },
  {
   "cell_type": "code",
   "execution_count": 31,
   "id": "8e41be1b-8b46-439c-8a17-40c763ea96a4",
   "metadata": {
    "tags": []
   },
   "outputs": [
    {
     "data": {
      "text/plain": [
       "TradeData(pair='ETH/USDC', tkn='ETH', traderBuySell='SELL', amount=0.01, sourceToken=SDKToken(token='ETH', address='0xeeeeeeeeeeeeeeeeeeeeeeeeeeeeeeeeeeeeeeee', decimals=18, name='ETH'), targetToken=SDKToken(token='USDC', address='0xa0b86991c6218b36c1d19d4a2e9eb0ce3606eb48', decimals=6, name='USDC'), tradeByTargetAmount=False, tradeActions=[{'strategyId': 10, 'amount': 9999999497389291}], actionsWei=[{'id': 10, 'input': 9999999497389291, 'output': 19836741}], actionsTokenRes=[{'id': 10, 'sourceAmount': 0.00999999949738929, 'targetAmount': 19.836741}], tradeData={'totalSourceAmount': 0.00999999949738929, 'totalTargetAmount': 19.806985, 'effectiveRate': 1980.6985995520326})"
      ]
     },
     "execution_count": 31,
     "metadata": {},
     "output_type": "execute_result"
    }
   ],
   "source": [
    "trade = SDK.mPrepareTrade(pair, buysell, tkn, amount)\n",
    "trade"
   ]
  },
  {
   "cell_type": "code",
   "execution_count": 32,
   "id": "3827b468-31c7-4a06-bb27-8b3184a12349",
   "metadata": {},
   "outputs": [
    {
     "data": {
      "text/plain": [
       "[{'id': 10, 'sourceAmount': 0.00999999949738929, 'targetAmount': 19.836741}]"
      ]
     },
     "execution_count": 32,
     "metadata": {},
     "output_type": "execute_result"
    }
   ],
   "source": [
    "trade.actionsTokenRes"
   ]
  },
  {
   "cell_type": "markdown",
   "id": "2d747287-83bb-4d8b-9d13-201e0a24262c",
   "metadata": {},
   "source": [
    "#### `mComposeTradeTransaction`"
   ]
  },
  {
   "cell_type": "code",
   "execution_count": 33,
   "id": "e6dc29c5-af22-4a24-83ca-4f703f20091a",
   "metadata": {
    "tags": []
   },
   "outputs": [
    {
     "data": {
      "text/plain": [
       "{'data': '0xf1c5e014000000000000000000000000eeeeeeeeeeeeeeeeeeeeeeeeeeeeeeeeeeeeeeee000000000000000000000000a0b86991c6218b36c1d19d4a2e9eb0ce3606eb4800000000000000000000000000000000000000000000000000000000000000a000000000000000000000000000000000000000000000000000000000ffffffff00000000000000000000000000000000000000000000000000000000011001ee0000000000000000000000000000000000000000000000000000000000000001000000000000000000000000000000000000000000000000000000000000000a000000000000000000000000000000000000000000000000002386f251cbc4eb',\n",
       " 'to': '0x955a85437664fE809563dd0fA91B1590b159e1e6',\n",
       " 'gasLimit': {'type': 'BigNumber', 'hex': '0x3b9ac9ff'},\n",
       " 'value': {'type': 'BigNumber', 'hex': '0x2386f251cbc4eb'}}"
      ]
     },
     "execution_count": 33,
     "metadata": {},
     "output_type": "execute_result"
    }
   ],
   "source": [
    "tx = SDK.mComposeTradeTransaction(**trade.cttkwargs)\n",
    "tx"
   ]
  },
  {
   "cell_type": "markdown",
   "id": "dd1ad513-05d3-4323-b0b6-a4747c0148ed",
   "metadata": {},
   "source": [
    "#### `signsubmittx`"
   ]
  },
  {
   "cell_type": "code",
   "execution_count": 34,
   "id": "f717be97-ada5-4d1c-b312-217f6c6af5b6",
   "metadata": {
    "tags": []
   },
   "outputs": [
    {
     "data": {
      "application/vnd.jupyter.widget-view+json": {
       "model_id": "37f726357679498eb8d56b2b8efa3b59",
       "version_major": 2,
       "version_minor": 0
      },
      "text/plain": [
       "VBox(children=(Checkbox(value=True, description='submit'),))"
      ]
     },
     "metadata": {},
     "output_type": "display_data"
    }
   ],
   "source": [
    "try:\n",
    "    submit_w()\n",
    "except:\n",
    "    submit_w = CheckboxManager([\"submit\"], values=[0])\n",
    "    submit_w()"
   ]
  },
  {
   "cell_type": "code",
   "execution_count": 35,
   "id": "b77063d0-f2b7-4565-9954-9017faffc6ef",
   "metadata": {
    "tags": []
   },
   "outputs": [
    {
     "data": {
      "text/plain": [
       "{'txReceipt': {'hash': '0x3cab6d2a63a4d71f07a247756e2b6bf59cb9a10026789208d034d39a3cc7f5c9',\n",
       "  'nonce': None,\n",
       "  'gasLimit': None,\n",
       "  'gasPrice': None,\n",
       "  'data': None,\n",
       "  'value': None,\n",
       "  'chainId': None,\n",
       "  'confirmations': 0,\n",
       "  'from': None}}"
      ]
     },
     "execution_count": 35,
     "metadata": {},
     "output_type": "execute_result"
    }
   ],
   "source": [
    "if submit_w.values[0]: \n",
    "    r = SDK.signsubmittx(tx, sign=True)\n",
    "else:\n",
    "    r = \"check box above to submit\"\n",
    "r"
   ]
  },
  {
   "cell_type": "code",
   "execution_count": null,
   "id": "361b3e0a-c03a-4ffc-84db-9b0757658c7e",
   "metadata": {
    "jupyter": {
     "source_hidden": true
    }
   },
   "outputs": [],
   "source": []
  }
 ],
 "metadata": {
  "jupytext": {
   "encoding": "# -*- coding: utf-8 -*-",
   "formats": "ipynb,py:light"
  },
  "kernelspec": {
   "display_name": "Python 3",
   "language": "python",
   "name": "python3"
  },
  "language_info": {
   "codemirror_mode": {
    "name": "ipython",
    "version": 3
   },
   "file_extension": ".py",
   "mimetype": "text/x-python",
   "name": "python",
   "nbconvert_exporter": "python",
   "pygments_lexer": "ipython3",
   "version": "3.8.8"
  },
  "toc-autonumbering": false,
  "toc-showcode": false,
  "toc-showmarkdowntxt": false
 },
 "nbformat": 4,
 "nbformat_minor": 5
}
