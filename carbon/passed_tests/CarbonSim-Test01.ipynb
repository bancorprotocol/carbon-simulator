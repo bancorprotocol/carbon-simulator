{
 "cells": [
  {
   "cell_type": "code",
   "execution_count": 35,
   "id": "7ee103c4",
   "metadata": {},
   "outputs": [],
   "source": [
    "from carbon import CarbonSimulatorUI\n",
    "from carbon.simulators.carbon_simulator import (\n",
    "    __version__ as uiversion,\n",
    "    __date__ as uidate,\n",
    ")\n",
    "from jupyformat import *"
   ]
  },
  {
   "cell_type": "code",
   "execution_count": 36,
   "id": "235c2cfd",
   "metadata": {},
   "outputs": [
    {
     "name": "stdout",
     "output_type": "stream",
     "text": [
      "[carbon.ui] version 0.9.2 6/Nov/2022\n"
     ]
    },
    {
     "data": {
      "text/html": [
       "<div style='color:green; font-size: 120%'><p><strong>This notebook passed verification.</strong></p></div>"
      ],
      "text/plain": [
       "<IPython.core.display.HTML object>"
      ]
     },
     "execution_count": 36,
     "metadata": {},
     "output_type": "execute_result"
    }
   ],
   "source": [
    "print(\"[carbon.ui] version\", uiversion, uidate)\n",
    "jp()"
   ]
  },
  {
   "cell_type": "markdown",
   "id": "2eff6d96",
   "metadata": {},
   "source": [
    "# Carbon Simulation - Test 1\n",
    "\n",
    "Here we are testing a unidirectional liquidity position concentrated in one point"
   ]
  },
  {
   "cell_type": "code",
   "execution_count": 37,
   "id": "65a473c0",
   "metadata": {},
   "outputs": [
    {
     "name": "stdout",
     "output_type": "stream",
     "text": [
      "[__init__] pair=USDCETH, verbose=True, raiseonerror=False\n"
     ]
    },
    {
     "data": {
      "text/plain": [
       "CarbonSimulatorUI(<0 positions, 0 trades>, pair='USDCETH')"
      ]
     },
     "execution_count": 37,
     "metadata": {},
     "output_type": "execute_result"
    }
   ],
   "source": [
    "Sim = CarbonSimulatorUI(pair=\"USDCETH\", verbose=True)\n",
    "Sim"
   ]
  },
  {
   "cell_type": "markdown",
   "id": "0509de3a",
   "metadata": {},
   "source": [
    "The AMM gets 100 ETH for sale against USDC at a price of 2000"
   ]
  },
  {
   "cell_type": "code",
   "execution_count": 38,
   "id": "78f1b9a7",
   "metadata": {},
   "outputs": [
    {
     "name": "stdout",
     "output_type": "stream",
     "text": [
      "[add_sgl_pos] added\n",
      "tkn=ETH, amt=100, p1=2000, p2=2000, pair=USDCETH\n"
     ]
    },
    {
     "data": {
      "text/plain": [
       "{'success': True,\n",
       " 'orders':       pair tkn_name       y_int           y       p_high        p_low  \\\n",
       " 0  USDCETH      ETH  100.000000  100.000000  2000.000000  2000.000000   \n",
       " \n",
       "    linked_to_id  \n",
       " 0             0  }"
      ]
     },
     "execution_count": 38,
     "metadata": {},
     "output_type": "execute_result"
    }
   ],
   "source": [
    "Sim.add_sgl_pos(\"ETH\", 100, 2000, 2000)"
   ]
  },
  {
   "cell_type": "code",
   "execution_count": 39,
   "id": "df87ba5e",
   "metadata": {},
   "outputs": [
    {
     "name": "stdout",
     "output_type": "stream",
     "text": [
      "[state.orders]\n",
      "+---+---------+----------+------------+------------+-------------+-------------+--------------+\n",
      "|   |  pair   | tkn_name |   y_int    |     y      |   p_high    |    p_low    | linked_to_id |\n",
      "+---+---------+----------+------------+------------+-------------+-------------+--------------+\n",
      "| 0 | USDCETH |   ETH    | 100.000000 | 100.000000 | 2000.000000 | 2000.000000 |      0       |\n",
      "+---+---------+----------+------------+------------+-------------+-------------+--------------+\n",
      "\n",
      "[state.trades]\n",
      "\n"
     ]
    },
    {
     "data": {
      "text/plain": [
       "{'info': {'numpos': 1, 'numtrades': 0}, 'other': 'todo'}"
      ]
     },
     "execution_count": 39,
     "metadata": {},
     "output_type": "execute_result"
    }
   ],
   "source": [
    "Sim.state()"
   ]
  },
  {
   "cell_type": "markdown",
   "id": "ad7f788c",
   "metadata": {},
   "source": [
    "We check that the AMM cannot buy ETH because it has not USDC. "
   ]
  },
  {
   "cell_type": "code",
   "execution_count": 40,
   "id": "2305b4d5",
   "metadata": {},
   "outputs": [
    {
     "data": {
      "text/plain": [
       "{'success': False,\n",
       " 'error': 'token USDC has no valid liquidity positions',\n",
       " 'exception': Exception('token USDC has no valid liquidity positions')}"
      ]
     },
     "execution_count": 40,
     "metadata": {},
     "output_type": "execute_result"
    }
   ],
   "source": [
    "Sim.amm_buys(\"ETH\", 2)"
   ]
  },
  {
   "cell_type": "code",
   "execution_count": 41,
   "id": "a8fdf3db",
   "metadata": {},
   "outputs": [
    {
     "name": "stdout",
     "output_type": "stream",
     "text": [
      "[state.orders]\n",
      "+---+---------+----------+------------+------------+-------------+-------------+--------------+\n",
      "|   |  pair   | tkn_name |   y_int    |     y      |   p_high    |    p_low    | linked_to_id |\n",
      "+---+---------+----------+------------+------------+-------------+-------------+--------------+\n",
      "| 0 | USDCETH |   ETH    | 100.000000 | 100.000000 | 2000.000000 | 2000.000000 |      0       |\n",
      "+---+---------+----------+------------+------------+-------------+-------------+--------------+\n",
      "\n",
      "[state.trades]\n",
      "\n"
     ]
    },
    {
     "data": {
      "text/plain": [
       "{'info': {'numpos': 1, 'numtrades': 0}, 'other': 'todo'}"
      ]
     },
     "execution_count": 41,
     "metadata": {},
     "output_type": "execute_result"
    }
   ],
   "source": [
    "Sim.state()"
   ]
  },
  {
   "cell_type": "markdown",
   "id": "e2e9e212",
   "metadata": {},
   "source": [
    "We verify that the AMM can sell its ETH at the curve price of 1000"
   ]
  },
  {
   "cell_type": "code",
   "execution_count": 42,
   "id": "8e86a1c1",
   "metadata": {},
   "outputs": [
    {
     "name": "stdout",
     "output_type": "stream",
     "text": [
      "trader buys 2.0 ETH for 4000.0 USDC amm sells 2.0 ETH for 4000.0 USDC via order 0\n",
      "2.0 ETH \n",
      " traded for \n",
      "4000.0 USDC \n",
      "\n",
      "num trade routes=1\n"
     ]
    },
    {
     "data": {
      "text/plain": [
       "{'success': True,\n",
       " 'trades':     id                                 summary  amt1    amt2 tkn1  tkn2  \\\n",
       " 0  1.1                                trade #0   2.0  4000.0  ETH  USDC   \n",
       " 0    1  2.0 ETH \\n traded for \\n4000.0 USDC \\n   2.0  4000.0  ETH  USDC   \n",
       " \n",
       "       pair route_indexes  num_trades            price_avg  \n",
       " 0  USDCETH             0           1               2000.0  \n",
       " 0  USDCETH           [0]           1  2000.0 USDC per ETH  ,\n",
       " 'orders': Empty DataFrame\n",
       " Columns: []\n",
       " Index: []}"
      ]
     },
     "execution_count": 42,
     "metadata": {},
     "output_type": "execute_result"
    }
   ],
   "source": [
    "Sim.amm_sells(\"ETH\", 2)"
   ]
  },
  {
   "cell_type": "code",
   "execution_count": 43,
   "id": "492f4285",
   "metadata": {},
   "outputs": [
    {
     "name": "stdout",
     "output_type": "stream",
     "text": [
      "[state.orders]\n",
      "+---+---------+----------+------------+-----------+-------------+-------------+--------------+\n",
      "|   |  pair   | tkn_name |   y_int    |     y     |   p_high    |    p_low    | linked_to_id |\n",
      "+---+---------+----------+------------+-----------+-------------+-------------+--------------+\n",
      "| 0 | USDCETH |   ETH    | 100.000000 | 98.000000 | 2000.000000 | 2000.000000 |      0       |\n",
      "+---+---------+----------+------------+-----------+-------------+-------------+--------------+\n",
      "\n",
      "[state.trades]\n",
      "+---+-----+--------------+------+--------+------+------+---------+---------------+------------+---------------------+\n",
      "|   | id  |   summary    | amt1 |  amt2  | tkn1 | tkn2 |  pair   | route_indexes | num_trades |      price_avg      |\n",
      "+---+-----+--------------+------+--------+------+------+---------+---------------+------------+---------------------+\n",
      "| 0 | 1.1 |   trade #0   | 2.0  | 4000.0 | ETH  | USDC | USDCETH |       0       |     1      |       2000.0        |\n",
      "| 0 |  1  |   2.0 ETH    | 2.0  | 4000.0 | ETH  | USDC | USDCETH |      [0]      |     1      | 2000.0 USDC per ETH |\n",
      "|   |     |  traded for  |      |        |      |      |         |               |            |                     |\n",
      "|   |     | 4000.0 USDC  |      |        |      |      |         |               |            |                     |\n",
      "+---+-----+--------------+------+--------+------+------+---------+---------------+------------+---------------------+\n"
     ]
    },
    {
     "data": {
      "text/plain": [
       "{'info': {'numpos': 1, 'numtrades': 1}, 'other': 'todo'}"
      ]
     },
     "execution_count": 43,
     "metadata": {},
     "output_type": "execute_result"
    }
   ],
   "source": [
    "Sim.state()"
   ]
  },
  {
   "cell_type": "code",
   "execution_count": null,
   "id": "cb7fba54",
   "metadata": {},
   "outputs": [],
   "source": []
  }
 ],
 "metadata": {
  "jupytext": {
   "formats": "ipynb,py:light"
  },
  "kernelspec": {
   "display_name": "Python 3",
   "language": "python",
   "name": "python3"
  },
  "language_info": {
   "codemirror_mode": {
    "name": "ipython",
    "version": 3
   },
   "file_extension": ".py",
   "mimetype": "text/x-python",
   "name": "python",
   "nbconvert_exporter": "python",
   "pygments_lexer": "ipython3",
   "version": "3.8.8"
  }
 },
 "nbformat": 4,
 "nbformat_minor": 5
}
