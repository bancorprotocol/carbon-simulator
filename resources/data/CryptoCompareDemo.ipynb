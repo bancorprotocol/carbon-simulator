{
 "cells": [
  {
   "cell_type": "code",
   "execution_count": 1,
   "id": "655e6fab",
   "metadata": {},
   "outputs": [
    {
     "name": "stdout",
     "output_type": "stream",
     "text": [
      "CryptoCompare v1.0 (27/Jan/2023)\n"
     ]
    }
   ],
   "source": [
    "from carbon.helpers.cryptocompare import CryptoCompare\n",
    "\n",
    "print( \"{0.__name__} v{0.__VERSION__} ({0.__DATE__})\".format(CryptoCompare))"
   ]
  },
  {
   "cell_type": "markdown",
   "id": "1a8bd681",
   "metadata": {},
   "source": [
    "# Crypto Compare\n",
    "\n",
    "https://min-api.cryptocompare.com/documentation"
   ]
  },
  {
   "cell_type": "code",
   "execution_count": 2,
   "id": "d37fb19e",
   "metadata": {},
   "outputs": [
    {
     "name": "stdout",
     "output_type": "stream",
     "text": [
      "[CryptoCompare] key digest 86a6 0000\n"
     ]
    }
   ],
   "source": [
    "CC, CCA = CryptoCompare(), CryptoCompare(apikey=True)\n",
    "print(\"[CryptoCompare] key digest\", CC.keydigest[:4], CCA.keydigest[:4])"
   ]
  },
  {
   "cell_type": "markdown",
   "id": "0843da33",
   "metadata": {},
   "source": [
    "## Rate limit"
   ]
  },
  {
   "cell_type": "code",
   "execution_count": 3,
   "id": "4d89bb6f",
   "metadata": {},
   "outputs": [
    {
     "name": "stdout",
     "output_type": "stream",
     "text": [
      "[query] https://min-api.cryptocompare.com/stats/rate/limit {} [86a6]\n"
     ]
    },
    {
     "data": {
      "text/plain": [
       "{'calls_made': {'second': 1,\n",
       "  'minute': 1,\n",
       "  'hour': 48,\n",
       "  'day': 954,\n",
       "  'month': 15383},\n",
       " 'calls_left': {'second': 499,\n",
       "  'minute': 14999,\n",
       "  'hour': 249952,\n",
       "  'day': 249046,\n",
       "  'month': 1984617}}"
      ]
     },
     "execution_count": 3,
     "metadata": {},
     "output_type": "execute_result"
    }
   ],
   "source": [
    "CC.query_ratelimit()"
   ]
  },
  {
   "cell_type": "code",
   "execution_count": 4,
   "id": "b0915a13",
   "metadata": {},
   "outputs": [
    {
     "name": "stdout",
     "output_type": "stream",
     "text": [
      "[query] https://min-api.cryptocompare.com/stats/rate/limit {} [0000]\n"
     ]
    },
    {
     "data": {
      "text/plain": [
       "{'calls_made': {'second': 1, 'minute': 1, 'hour': 42, 'day': 98, 'month': 106},\n",
       " 'calls_left': {'second': 19,\n",
       "  'minute': 299,\n",
       "  'hour': 2958,\n",
       "  'day': 7402,\n",
       "  'month': 49894}}"
      ]
     },
     "execution_count": 4,
     "metadata": {},
     "output_type": "execute_result"
    }
   ],
   "source": [
    "CCA.query_ratelimit()"
   ]
  },
  {
   "cell_type": "markdown",
   "id": "bd60e4b4",
   "metadata": {},
   "source": [
    "## Exchanges and pairs"
   ]
  },
  {
   "cell_type": "code",
   "execution_count": 5,
   "id": "245d686c",
   "metadata": {},
   "outputs": [
    {
     "data": {
      "text/plain": [
       "dict_keys(['ABCC', 'ACX', 'Abucoins', 'AidosMarket', 'BCEX', 'BTC38', 'BTCAlpha', 'BTCBOX', 'BTCChina', 'BTCE', 'BTCExchange', 'BTCMarkets', 'BTCTurk', 'BTCXIndia', 'BTER', 'BXinth', 'Bgogo', 'Bibox', 'BigONE', 'Binance', 'Binanceje', 'Bit2C', 'BitBank', 'BitBay', 'BitFlip', 'BitGrail', 'BitMarket', 'BitMart', 'BitSquare', 'BitTrex', 'BitZ', 'BitexBook', 'Bitfinex', 'Bitforex', 'Bithumb', 'Bitinfi', 'Bitkub', 'Bitlish', 'Bitmex', 'Bitpoint', 'Bitsane', 'Bitshares', 'Bitso', 'Bitstamp', 'Blackturtle', 'Bleutrade', 'Bluebelt', 'Braziliex', 'Buda', 'CBX', 'CCCAGG', 'CCEDK', 'CCEX', 'CHBTC', 'Catex', 'Cexio', 'ChileBit', 'Codex', 'CoinBene', 'CoinCorner', 'CoinDeal', 'CoinEx', 'CoinFalcon', 'CoinHub', 'CoinJar', 'CoinPulse', 'CoinTiger', 'Coinbase', 'Coincap', 'Coincheck', 'Coinfloor', 'Coinmate', 'Coinnest', 'Coinone', 'Coinroom', 'CoinsBank', 'Coinsbit', 'Coinse', 'Coinsetter', 'Cryptagio', 'CryptoBulls', 'CryptoCarbon', 'CryptoExchangeWS', 'CryptoX', 'Cryptonit', 'Cryptopia', 'Cryptsy', 'DDEX', 'DEx', 'DSX', 'DigiFinex', 'EXRATES', 'EXX', 'EtherDelta', 'Ethermium', 'EthexIndia', 'Ethfinex', 'Everbloom', 'Exenium', 'Exmo', 'ExtStock', 'FCCE', 'FCoin', 'Foxbit', 'Gatecoin', 'Gateio', 'Gemini', 'Globitex', 'Gneiss', 'Gnosis', 'Graviex', 'HADAX', 'Hikenex', 'HitBTC', 'Huobi', 'HuobiPro', 'IDAX', 'IDEX', 'IQFinex', 'Incorex', 'IndependentReserve', 'InstantBitex', 'Ironex', 'Jubi', 'Korbit', 'Kraken', 'Kucoin', 'Kuna', 'LAToken', 'LBank', 'LakeBTC', 'Liqnet', 'Liqui', 'Liquid', 'LiveCoin', 'LocalBitcoins', 'Luno', 'Lykke', 'MercadoBitcoin', 'Minebit', 'MonetaGo', 'MtGox', 'NDAX', 'Nebula', 'Neraex', 'Nexchange', 'Nlexch', 'Novaexchange', 'Nuex', 'OKCoin', 'OKEX', 'OpenLedger', 'Ore', 'P2PB2B', 'Paymium', 'Poloniex', 'Qryptos', 'QuadrigaCX', 'Quoine', 'Remitano', 'RightBTC', 'SafeCoin', 'Simex', 'SingularityX', 'StocksExchange', 'StocksExchangeio', 'Surbitcoin', 'Switcheo', 'TDAX', 'TheRockTrading', 'Threexbit', 'Tidex', 'TokenStore', 'Tokenomy', 'TradeSatoshi', 'TrustDEX', 'TuxExchange', 'Unocoin', 'Upbit', 'VBTC', 'Vaultoro', 'Velox', 'ViaBTC', 'WEX', 'WavesDEX', 'WorldCryptoCap', 'XS2', 'Yacuna', 'Yobit', 'Yunbi', 'ZB', 'ZBG', 'Zaif', 'Zecoex', 'aax', 'aliexchange', 'alphaex', 'altilly', 'ascendex', 'ataix', 'bcbitcoin', 'beldex', 'bequant', 'betconix', 'bhex', 'biki', 'bilaxy', 'binancedex', 'binanceusa', 'bingcoins', 'bitFlyer', 'bitFlyerFX', 'bitasset', 'bitbuy', 'bitci', 'bitcoincom', 'bitfex', 'bitflyereu', 'bitflyerus', 'bithumbglobal', 'bitmax', 'bitpanda', 'bitspark', 'bkex', 'blockchaincom', 'btcXchange', 'btcmex', 'btse', 'bullish', 'bw', 'bybit', 'chainrift', 'chainx', 'chaoex', 'cobinhood', 'coinall', 'coineal', 'coinegg', 'coinfield', 'coinspro', 'coinsuper', 'coinzest', 'compound', 'coss', 'crex24', 'crosstower', 'cryptodotcom', 'cryptofacilities', 'cryptonex', 'currency', 'curve', 'darbfinance', 'dcoin', 'decoin', 'deribit', 'e55com', 'eidoo', 'equos', 'erisx', 'etoro', 'exscudo', 'fatbtc', 'ftx', 'ftxus', 'gopax', 'hbus', 'huobifutures', 'huobijapan', 'huobikorea', 'iCoinbay', 'idevex', 'indodax', 'itBit', 'lmax', 'mexc', 'nominex', 'oex', 'onederx', 'oneinch', 'pancakeswap', 'paribu', 'primexbt', 'probit', 'quickswap', 'raidofinance', 'safetrade', 'seedcx', 'sigenp2p', 'sigenpro', 'sistemkoin', 'slicex', 'smartrade', 'sushiswap', 'tchapp', 'thore', 'timex', 'tokensnet', 'tokok', 'trxmarket', 'uniswap', 'uniswapv2', 'uniswapv3', 'unnamed', 'utorg', 'valr', 'wbb', 'xbtpro', 'xcoex', 'xena', 'xtpub', 'zebitex', 'zloadr'])"
      ]
     },
     "execution_count": 5,
     "metadata": {},
     "output_type": "execute_result"
    }
   ],
   "source": [
    "data = CC.cache_allexchanges()\n",
    "data[\"exchanges\"].keys()"
   ]
  },
  {
   "cell_type": "code",
   "execution_count": 6,
   "id": "b36f68a8",
   "metadata": {},
   "outputs": [
    {
     "data": {
      "text/plain": [
       "'ABCC, BTCBOX, BTCMarkets, BTCTurk, Bibox, BigONE, Binance, Bit2C, BitBank, BitBay, BitMart, BitTrex, Bitfinex, Bithumb, Bitkub, Bitso, Bitstamp, CBX, Cexio, CoinCorner, CoinEx, CoinJar, Coinbase, Coincheck, Coinmate, Coinone, Coinsbit, DigiFinex, Exmo, Gateio, Gemini, HitBTC, HuobiPro, IndependentReserve, Korbit, Kraken, Kucoin, LAToken, Liquid, Luno, Lykke, NDAX, OKCoin, OKEX, P2PB2B, Paymium, TheRockTrading, Upbit, Vaultoro, ZB, ZBG, Zaif, aax, ataix, bequant, binanceusa, bitFlyer, bitbuy, bitflyereu, bitflyerus, bithumbglobal, bitpanda, blockchaincom, btse, bullish, coinfield, crosstower, cryptodotcom, currency, dcoin, decoin, eidoo, erisx, etoro, ftxus, gopax, huobijapan, huobikorea, indodax, itBit, lmax, nominex, probit, valr, zebitex'"
      ]
     },
     "execution_count": 6,
     "metadata": {},
     "output_type": "execute_result"
    }
   ],
   "source": [
    "\", \".join([x for x in data[\"exchanges\"] if data[\"exchanges\"][x].get(\"isTopTier\")])"
   ]
  },
  {
   "cell_type": "code",
   "execution_count": 7,
   "id": "c6da1c10",
   "metadata": {},
   "outputs": [
    {
     "data": {
      "text/plain": [
       "'ABCC, AidosMarket, BCEX, BTCAlpha, BTCBOX, BTCExchange, BTCMarkets, BTCTurk, Bgogo, Bibox, BigONE, Binance, Binanceje, Bit2C, BitBank, BitBay, BitMart, BitSquare, BitTrex, BitZ, BitexBook, Bitfinex, Bitforex, Bithumb, Bitkub, Bitmex, Bitso, Bitstamp, Blackturtle, Bleutrade, Braziliex, Buda, CBX, CCCAGG, Catex, Cexio, CoinBene, CoinCorner, CoinDeal, CoinEx, CoinFalcon, CoinHub, CoinJar, Coinbase, Coincheck, Coinfloor, Coinmate, Coinone, Coinsbit, CryptoCarbon, DDEX, DSX, DigiFinex, EXRATES, EXX, Everbloom, Exenium, Exmo, FCoin, Gateio, Gemini, Globitex, Graviex, HADAX, Hikenex, HitBTC, HuobiPro, IDEX, IQFinex, IndependentReserve, Korbit, Kraken, Kucoin, Kuna, LAToken, LBank, Liqnet, Liquid, LiveCoin, LocalBitcoins, Luno, Lykke, MercadoBitcoin, Minebit, Nebula, Nexchange, Nlexch, Nuex, OKCoin, OKEX, P2PB2B, Paymium, Poloniex, Remitano, RightBTC, SafeCoin, SingularityX, StocksExchange, Switcheo, TheRockTrading, Tidex, TokenStore, Tokenomy, TrustDEX, Upbit, Vaultoro, WavesDEX, Yobit, ZB, ZBG, Zaif, aax, aliexchange, altilly, ascendex, ataix, bcbitcoin, beldex, bequant, betconix, bhex, biki, bilaxy, binancedex, binanceusa, bitFlyer, bitFlyerFX, bitasset, bitbuy, bitci, bitcoincom, bitfex, bitflyereu, bitflyerus, bithumbglobal, bitmax, bitpanda, bkex, blockchaincom, btcmex, btse, bullish, bw, bybit, chainrift, chainx, chaoex, coinall, coineal, coinegg, coinfield, coinspro, coinsuper, compound, crex24, crosstower, cryptodotcom, cryptofacilities, cryptonex, currency, curve, dcoin, decoin, eidoo, equos, erisx, etoro, fatbtc, ftx, ftxus, gopax, huobijapan, huobikorea, idevex, indodax, itBit, lmax, mexc, nominex, oneinch, pancakeswap, paribu, primexbt, probit, quickswap, raidofinance, safetrade, seedcx, sigenp2p, sigenpro, sistemkoin, slicex, smartrade, sushiswap, tchapp, thore, timex, tokensnet, tokok, trxmarket, uniswap, uniswapv2, uniswapv3, unnamed, utorg, valr, wbb, xbtpro, xcoex, xena, xtpub, zebitex'"
      ]
     },
     "execution_count": 7,
     "metadata": {},
     "output_type": "execute_result"
    }
   ],
   "source": [
    "\", \".join([x for x in data[\"exchanges\"] if data[\"exchanges\"][x].get(\"isActive\")])"
   ]
  },
  {
   "cell_type": "code",
   "execution_count": 8,
   "id": "968e359a",
   "metadata": {},
   "outputs": [
    {
     "name": "stdout",
     "output_type": "stream",
     "text": [
      "dict_keys(['pairs', 'isActive', 'isTopTier'])\n"
     ]
    },
    {
     "data": {
      "text/plain": [
       "'ETH, XRP, ORN, C98, SOL, FORTH, RNDR, JUP, 1INCH, BTRST, GLM, ERN, DESO, LIT, DASH, WCFG, NCT, MINA, FLOW, MATIC, BAND, REQ, DOGE, AST, ETHERNITY, POND, ENJ, APT, MANA, MKR, TONE, BADGER, GFI, RAI, JASMY, DYP, ETC, ENS, DIA, CGLD, CRV, MASK, ARPA, LTC, OMG, ALGO, ZEN, UPI, USTC, NKN, MTL, ZEC, BTC, UNI, ATOM, QNT, PERP, SAI, SPELL, IDEX, LRC, BNT, CRO, ALEPH, PRO, TRAC, GALA, SUPER, BOBA, ILV, ATA, ACH, POWR, KNC, DDX, QI, LOOM, PNG, POLS, METIS, GTC, CRPT, MEDIA, STORJ, BCH, CVC, GRAPH, DEXT, INJ, FIDA, AGLD, WLUNC, INDEX, XLM, POLY, SKL, SHPING, AVT, EGLD, MAGIC, MIR, NU, SHIB, SNX, LCX, ICP, EOS, CLV, GRT, STG, XYO, CELO, AXS, SUSHI, CELR, BAT, CTX, FOX, LPT, LINK, RAIREF, BOND, PRQ, CHZ, DOT, AIOZ, RLY, RARI, AUCTION, FIS, SYN, USDT, KAVA, AURORA, QSP, LQTY, ELA, FIL, FORT, USDC, UMA, ADA, NMR, TRIBE, HFT, WAMPL, NEAR, FARM, XTZ, FUNX, DAI, BAL, RLC, XCN, AMP, RAD, COMP, TRU, YFII, IOTX, STX, SYLO, COTI, TIME, ANKR, MLN, REN, MATH, ALCX, GALATA, MPL, DREP, MUSE, KRL, SAND, TRB, GMT, ASM, BLZ, GST, AAVE, USDP, WBTC, RARE, AVAX, BICO, FX, MONAV, T, OXT, GHST, YFI, LDO, VGX, COVAL, MSOL, ROSE, APE, PLU, CBETH, ZRX, SNT, LOKA, PAX, AUDIO, PUNDIX, GNO, SUKU, GAL, HBAR, PLAYD, INV, NEST, UNFI, ABT, BIT, PYR, FET, REP, WAXL, RPL, GUSD, ORCA, METI, CVX, AERGO, OGN, HOPR, 00, MDT, DAR, MUSD, DNT, SWFTC, HIGH, OOKI, MNDE, KSM, MCO2, IMX, API3, OCEAN, CTSI, GODS, ALICE, GYEN, RGT, MXC, RBN, OP, QUICK, PLA, ANT, BUSD, KEEP, AXL'"
      ]
     },
     "execution_count": 8,
     "metadata": {},
     "output_type": "execute_result"
    }
   ],
   "source": [
    "exchange = \"Coinbase\"\n",
    "print(data[\"exchanges\"][exchange].keys())\n",
    "\", \".join(data[\"exchanges\"][exchange][\"pairs\"].keys())"
   ]
  },
  {
   "cell_type": "code",
   "execution_count": 9,
   "id": "2ab2fe29",
   "metadata": {},
   "outputs": [
    {
     "data": {
      "text/plain": [
       "True"
      ]
     },
     "execution_count": 9,
     "metadata": {},
     "output_type": "execute_result"
    }
   ],
   "source": [
    "data[\"exchanges\"][exchange][\"isTopTier\"]"
   ]
  },
  {
   "cell_type": "markdown",
   "id": "0c7ed2d9",
   "metadata": {},
   "source": [
    "## Coinlist"
   ]
  },
  {
   "cell_type": "code",
   "execution_count": 10,
   "id": "d3ba3ca1",
   "metadata": {
    "scrolled": false
   },
   "outputs": [
    {
     "data": {
      "text/plain": [
       "8374"
      ]
     },
     "execution_count": 10,
     "metadata": {},
     "output_type": "execute_result"
    }
   ],
   "source": [
    "data = CC.cache_coinlist()\n",
    "data_keys = list(data.keys())\n",
    "len(data_keys)"
   ]
  },
  {
   "cell_type": "code",
   "execution_count": 11,
   "id": "593ef3e7",
   "metadata": {},
   "outputs": [
    {
     "data": {
      "text/plain": [
       "'GUE, HAL, HBN, HUC, HVC, HYP, ICB, IFC, IXC, JBS, JKC, JUDGE, KDC, KEYC, LK7, LKY, LSD, LTB, LTCD, LTCX'"
      ]
     },
     "execution_count": 11,
     "metadata": {},
     "output_type": "execute_result"
    }
   ],
   "source": [
    "\", \". join(data_keys[100:120])"
   ]
  },
  {
   "cell_type": "code",
   "execution_count": 12,
   "id": "5c4e9fc6",
   "metadata": {},
   "outputs": [
    {
     "data": {
      "text/plain": [
       "dict_keys(['Id', 'Url', 'ImageUrl', 'ContentCreatedOn', 'Name', 'Symbol', 'CoinName', 'FullName', 'Description', 'AssetTokenStatus', 'Algorithm', 'ProofType', 'SortOrder', 'Sponsored', 'Taxonomy', 'Rating', 'IsTrading', 'TotalCoinsMined', 'CirculatingSupply', 'BlockNumber', 'NetHashesPerSecond', 'BlockReward', 'BlockTime', 'AssetLaunchDate', 'AssetWhitepaperUrl', 'AssetWebsiteUrl', 'MaxSupply', 'MktCapPenalty', 'IsUsedInDefi', 'IsUsedInNft', 'PlatformType', 'DecimalPoints', 'AlgorithmType', 'Difficulty'])"
      ]
     },
     "execution_count": 12,
     "metadata": {},
     "output_type": "execute_result"
    }
   ],
   "source": [
    "data[\"BTC\"].keys()"
   ]
  },
  {
   "cell_type": "markdown",
   "id": "9c775149",
   "metadata": {},
   "source": [
    "## ISO currency symbols"
   ]
  },
  {
   "cell_type": "code",
   "execution_count": 13,
   "id": "2b8c3250",
   "metadata": {},
   "outputs": [
    {
     "data": {
      "text/plain": [
       "'AED,AFN,ALL,AMD,ANG,AOA,ARS,AUD,AWG,AZN,BAM,BBD,BDT,BGN,BHD,BIF,BMD,BND,BOB,BOV,BRL,BSD,BTN,BWP,BYN,BZD,CAD,CDF,CHE,CHF,CHW,CLF,CLP,CNY,COP,COU,CRC,CUC,CUP,CVE,CZK,DJF,DKK,DOP,DZD,EGP,ERN,ETB,EUR,FJD,FKP,GBP,GEL,GHS,GIP,GMD,GNF,GTQ,GYD,HKD,HNL,HRK,HTG,HUF,IDR,ILS,INR,IQD,IRR,ISK,JMD,JOD,JPY,KES,KGS,KHR,KMF,KPW,KRW,KWD,KYD,KZT,LAK,LBP,LKR,LRD,LSL,LYD,MAD,MDL,MGA,MKD,MMK,MNT,MOP,MRU,MUR,MVR,MWK,MXN,MXV,MYR,MZN,NAD,NGN,NIO,NOK,NPR,NZD,OMR,PAB,PEN,PGK,PHP,PKR,PLN,PYG,QAR,RON,RSD,RUB,RWF,SAR,SBD,SCR,SDG,SEK,SGD,SHP,SLL,SOS,SRD,SSP,STN,SVC,SYP,SZL,THB,TJS,TMT,TND,TOP,TRY,TTD,TWD,TZS,UAH,UGX,USD,USN,UYI,UYU,UYW,UZS,VES,VND,VUV,WST,XAF,XAG,XAU,XCD,XDR,XOF,XPD,XPF,XPT,XSU,XUA,YER,ZAR,ZMW,ZWL'"
      ]
     },
     "execution_count": 13,
     "metadata": {},
     "output_type": "execute_result"
    }
   ],
   "source": [
    "\",\".join(CCA.ccycodes())"
   ]
  },
  {
   "cell_type": "code",
   "execution_count": 14,
   "id": "b394a579",
   "metadata": {},
   "outputs": [
    {
     "data": {
      "text/html": [
       "<div>\n",
       "<style scoped>\n",
       "    .dataframe tbody tr th:only-of-type {\n",
       "        vertical-align: middle;\n",
       "    }\n",
       "\n",
       "    .dataframe tbody tr th {\n",
       "        vertical-align: top;\n",
       "    }\n",
       "\n",
       "    .dataframe thead th {\n",
       "        text-align: right;\n",
       "    }\n",
       "</style>\n",
       "<table border=\"1\" class=\"dataframe\">\n",
       "  <thead>\n",
       "    <tr style=\"text-align: right;\">\n",
       "      <th></th>\n",
       "      <th>Country</th>\n",
       "      <th>Name</th>\n",
       "      <th>Symbol</th>\n",
       "    </tr>\n",
       "  </thead>\n",
       "  <tbody>\n",
       "    <tr>\n",
       "      <th>0</th>\n",
       "      <td>AFGHANISTAN</td>\n",
       "      <td>Afghani</td>\n",
       "      <td>AFN</td>\n",
       "    </tr>\n",
       "    <tr>\n",
       "      <th>1</th>\n",
       "      <td>ÅLAND ISLANDS</td>\n",
       "      <td>Euro</td>\n",
       "      <td>EUR</td>\n",
       "    </tr>\n",
       "    <tr>\n",
       "      <th>2</th>\n",
       "      <td>ALBANIA</td>\n",
       "      <td>Lek</td>\n",
       "      <td>ALL</td>\n",
       "    </tr>\n",
       "    <tr>\n",
       "      <th>3</th>\n",
       "      <td>ALGERIA</td>\n",
       "      <td>Algerian Dinar</td>\n",
       "      <td>DZD</td>\n",
       "    </tr>\n",
       "    <tr>\n",
       "      <th>4</th>\n",
       "      <td>AMERICAN SAMOA</td>\n",
       "      <td>US Dollar</td>\n",
       "      <td>USD</td>\n",
       "    </tr>\n",
       "  </tbody>\n",
       "</table>\n",
       "</div>"
      ],
      "text/plain": [
       "          Country            Name Symbol\n",
       "0     AFGHANISTAN         Afghani    AFN\n",
       "1   ÅLAND ISLANDS            Euro    EUR\n",
       "2         ALBANIA             Lek    ALL\n",
       "3         ALGERIA  Algerian Dinar    DZD\n",
       "4  AMERICAN SAMOA       US Dollar    USD"
      ]
     },
     "execution_count": 14,
     "metadata": {},
     "output_type": "execute_result"
    }
   ],
   "source": [
    "CCA.ccycodes(symonly=False).head()"
   ]
  },
  {
   "cell_type": "markdown",
   "id": "5bb5368a",
   "metadata": {},
   "source": [
    "## Index list"
   ]
  },
  {
   "cell_type": "code",
   "execution_count": 15,
   "id": "baf9217d",
   "metadata": {},
   "outputs": [
    {
     "data": {
      "text/plain": [
       "dict_keys(['BTCA', 'BVIN', 'BTCB', 'ETHB', 'CCBYDOT', 'CCBYSOL', 'CCBYADA', 'CCBYAVAX', 'CCBYATOM'])"
      ]
     },
     "execution_count": 15,
     "metadata": {},
     "output_type": "execute_result"
    }
   ],
   "source": [
    "data = CC.cache_indexlist()\n",
    "data.keys()"
   ]
  },
  {
   "cell_type": "code",
   "execution_count": 16,
   "id": "43f67836",
   "metadata": {},
   "outputs": [
    {
     "data": {
      "text/plain": [
       "{'name': 'FICAS Ethereum Fund',\n",
       " 'description': '',\n",
       " 'quote_currency': 'CHF',\n",
       " 'index_market_name': 'CCNAV',\n",
       " 'index_market_underlying_name': 'CCMVDA',\n",
       " 'day_close_in_seconds': 61200}"
      ]
     },
     "execution_count": 16,
     "metadata": {},
     "output_type": "execute_result"
    }
   ],
   "source": [
    "data[\"ETHB\"]"
   ]
  },
  {
   "cell_type": "markdown",
   "id": "d29c4acc",
   "metadata": {},
   "source": [
    "## Daily pair"
   ]
  },
  {
   "cell_type": "code",
   "execution_count": 17,
   "id": "05f7e734",
   "metadata": {},
   "outputs": [
    {
     "name": "stdout",
     "output_type": "stream",
     "text": [
      "[query] https://min-api.cryptocompare.com/data/v2/histoday {'fsym': 'BTC', 'tsym': 'KRW'} [0000]\n"
     ]
    },
    {
     "data": {
      "text/html": [
       "<div>\n",
       "<style scoped>\n",
       "    .dataframe tbody tr th:only-of-type {\n",
       "        vertical-align: middle;\n",
       "    }\n",
       "\n",
       "    .dataframe tbody tr th {\n",
       "        vertical-align: top;\n",
       "    }\n",
       "\n",
       "    .dataframe thead th {\n",
       "        text-align: right;\n",
       "    }\n",
       "</style>\n",
       "<table border=\"1\" class=\"dataframe\">\n",
       "  <thead>\n",
       "    <tr style=\"text-align: right;\">\n",
       "      <th></th>\n",
       "      <th>open</th>\n",
       "      <th>close</th>\n",
       "      <th>high</th>\n",
       "      <th>low</th>\n",
       "      <th>volumefrom</th>\n",
       "      <th>volumeto</th>\n",
       "    </tr>\n",
       "    <tr>\n",
       "      <th>datetime</th>\n",
       "      <th></th>\n",
       "      <th></th>\n",
       "      <th></th>\n",
       "      <th></th>\n",
       "      <th></th>\n",
       "      <th></th>\n",
       "    </tr>\n",
       "  </thead>\n",
       "  <tbody>\n",
       "    <tr>\n",
       "      <th>2022-12-28</th>\n",
       "      <td>21326910.70</td>\n",
       "      <td>21055304.51</td>\n",
       "      <td>21379427.39</td>\n",
       "      <td>21003916.82</td>\n",
       "      <td>5366.65</td>\n",
       "      <td>1.136718e+11</td>\n",
       "    </tr>\n",
       "    <tr>\n",
       "      <th>2022-12-29</th>\n",
       "      <td>21055304.51</td>\n",
       "      <td>21201320.72</td>\n",
       "      <td>21287028.40</td>\n",
       "      <td>20911040.58</td>\n",
       "      <td>5009.35</td>\n",
       "      <td>1.056960e+11</td>\n",
       "    </tr>\n",
       "    <tr>\n",
       "      <th>2022-12-30</th>\n",
       "      <td>21201320.72</td>\n",
       "      <td>21089974.82</td>\n",
       "      <td>21215750.62</td>\n",
       "      <td>20744388.34</td>\n",
       "      <td>4857.13</td>\n",
       "      <td>1.018739e+11</td>\n",
       "    </tr>\n",
       "    <tr>\n",
       "      <th>2022-12-31</th>\n",
       "      <td>21089974.82</td>\n",
       "      <td>21074306.74</td>\n",
       "      <td>21222885.32</td>\n",
       "      <td>20980428.72</td>\n",
       "      <td>4062.69</td>\n",
       "      <td>8.565501e+10</td>\n",
       "    </tr>\n",
       "    <tr>\n",
       "      <th>2023-01-01</th>\n",
       "      <td>21074306.74</td>\n",
       "      <td>21124701.05</td>\n",
       "      <td>21167821.94</td>\n",
       "      <td>21012798.08</td>\n",
       "      <td>3309.99</td>\n",
       "      <td>6.983199e+10</td>\n",
       "    </tr>\n",
       "  </tbody>\n",
       "</table>\n",
       "</div>"
      ],
      "text/plain": [
       "                   open        close         high          low  volumefrom  \\\n",
       "datetime                                                                     \n",
       "2022-12-28  21326910.70  21055304.51  21379427.39  21003916.82     5366.65   \n",
       "2022-12-29  21055304.51  21201320.72  21287028.40  20911040.58     5009.35   \n",
       "2022-12-30  21201320.72  21089974.82  21215750.62  20744388.34     4857.13   \n",
       "2022-12-31  21089974.82  21074306.74  21222885.32  20980428.72     4062.69   \n",
       "2023-01-01  21074306.74  21124701.05  21167821.94  21012798.08     3309.99   \n",
       "\n",
       "                volumeto  \n",
       "datetime                  \n",
       "2022-12-28  1.136718e+11  \n",
       "2022-12-29  1.056960e+11  \n",
       "2022-12-30  1.018739e+11  \n",
       "2022-12-31  8.565501e+10  \n",
       "2023-01-01  6.983199e+10  "
      ]
     },
     "execution_count": 17,
     "metadata": {},
     "output_type": "execute_result"
    }
   ],
   "source": [
    "df = CCA.query_dailypair(fsym=\"BTC\", tsym=\"KRW\")\n",
    "df.head()"
   ]
  },
  {
   "cell_type": "code",
   "execution_count": 18,
   "id": "af808780",
   "metadata": {},
   "outputs": [
    {
     "name": "stdout",
     "output_type": "stream",
     "text": [
      "[query] https://min-api.cryptocompare.com/data/v2/histoday {'fsym': 'BTC', 'tsym': 'usd'} [0000]\n"
     ]
    },
    {
     "data": {
      "text/plain": [
       "dict_keys(['Aggregated', 'TimeFrom', 'TimeTo', 'Data'])"
      ]
     },
     "execution_count": 18,
     "metadata": {},
     "output_type": "execute_result"
    }
   ],
   "source": [
    "data = CCA.query_dailypair(fsym=\"BTC\", aspandas=False)\n",
    "data.keys()"
   ]
  },
  {
   "cell_type": "code",
   "execution_count": null,
   "id": "9d74815e",
   "metadata": {},
   "outputs": [],
   "source": []
  },
  {
   "cell_type": "code",
   "execution_count": null,
   "id": "e7e3b375",
   "metadata": {},
   "outputs": [],
   "source": []
  },
  {
   "cell_type": "code",
   "execution_count": null,
   "id": "ccfc725c",
   "metadata": {},
   "outputs": [],
   "source": []
  },
  {
   "cell_type": "code",
   "execution_count": null,
   "id": "62a2feb8",
   "metadata": {},
   "outputs": [],
   "source": []
  }
 ],
 "metadata": {
  "jupytext": {
   "encoding": "# -*- coding: utf-8 -*-",
   "formats": "ipynb,py:light"
  },
  "kernelspec": {
   "display_name": "Python 3",
   "language": "python",
   "name": "python3"
  },
  "language_info": {
   "codemirror_mode": {
    "name": "ipython",
    "version": 3
   },
   "file_extension": ".py",
   "mimetype": "text/x-python",
   "name": "python",
   "nbconvert_exporter": "python",
   "pygments_lexer": "ipython3",
   "version": "3.8.8"
  }
 },
 "nbformat": 4,
 "nbformat_minor": 5
}
