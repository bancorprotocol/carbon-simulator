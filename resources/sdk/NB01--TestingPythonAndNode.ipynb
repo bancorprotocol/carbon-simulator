{
 "cells": [
  {
   "cell_type": "code",
   "execution_count": 22,
   "id": "a0855cc0-2db7-4341-b0ef-fcb343ca3636",
   "metadata": {},
   "outputs": [
    {
     "name": "stdout",
     "output_type": "stream",
     "text": [
      "CarbonSDK v0.1 (3/Mar/2023)\n",
      "v18.14.2\n"
     ]
    }
   ],
   "source": [
    "import requests\n",
    "from carbonsdk import CarbonSDK, Tokens\n",
    "print(\"{0.__name__} v{0.VERSION} ({0.DATE})\".format(CarbonSDK))\n",
    "!node --version"
   ]
  },
  {
   "cell_type": "markdown",
   "id": "3650b16b-d020-4063-84c6-ab9fb7556552",
   "metadata": {},
   "source": [
    "# Testing Python and Node [NB01]\n",
    "\n",
    "- https://nodejs.org/en/download/\n",
    "- https://www.makeuseof.com/nodejs-api-server-without-framework/\n",
    "- https://requests.readthedocs.io/en/latest/"
   ]
  },
  {
   "cell_type": "markdown",
   "id": "f6d27af4-d556-467b-af23-e62dadab9fcc",
   "metadata": {},
   "source": [
    "## Endpoints"
   ]
  },
  {
   "cell_type": "code",
   "execution_count": 23,
   "id": "abbeaeed-7c75-4d55-86ba-15f0ab16265e",
   "metadata": {},
   "outputs": [],
   "source": [
    "SDK = CarbonSDK(disclaimer=False)\n",
    "n = SDK.c2s # camel case to snake case"
   ]
  },
  {
   "cell_type": "markdown",
   "id": "ff76e187-799e-404d-9dc7-24298fba7d9c",
   "metadata": {},
   "source": [
    "### Example code"
   ]
  },
  {
   "cell_type": "markdown",
   "id": "2aefd11f-8b6d-40d0-99ae-dc5dff2f146b",
   "metadata": {},
   "source": [
    "#### Call using `req`\n",
    "the only difference between `req` and `req0` is that the leading `api` must be omitted)"
   ]
  },
  {
   "cell_type": "code",
   "execution_count": 24,
   "id": "f41f44af-72be-4286-bd30-82169ef41073",
   "metadata": {},
   "outputs": [
    {
     "name": "stdout",
     "output_type": "stream",
     "text": [
      "Help on method req in module carbonsdk:\n",
      "\n",
      "req(ep, params=None, method=None) method of carbonsdk.CarbonSDK instance\n",
      "    execute a GET or POST request to the actual API\n",
      "    \n",
      "    :ep:        API endpoint, including the sync/async prefix (eg 'scall/plus')\n",
      "    :params:    params transmitted to the API (POST only)\n",
      "    :method:    self.GET or self.POST\n",
      "\n"
     ]
    }
   ],
   "source": [
    "help(SDK.req)"
   ]
  },
  {
   "cell_type": "code",
   "execution_count": 25,
   "id": "556f8072-4a40-4e57-b69d-026a3ba03d13",
   "metadata": {},
   "outputs": [
    {
     "name": "stdout",
     "output_type": "stream",
     "text": [
      "[req0] method=post, url=http://localhost:3118/api/scall/qplus, params={'a': 3, 'b': 5}\n"
     ]
    },
    {
     "data": {
      "text/plain": [
       "{'success': True, 'data': {'func': 'qplus', 'a': 3, 'b': 5, 'result': 8}}"
      ]
     },
     "execution_count": 25,
     "metadata": {},
     "output_type": "execute_result"
    }
   ],
   "source": [
    "r = SDK.req(\"scall/qplus\", params={\"a\":3, \"b\":5}, method=SDK.POST)\n",
    "r.json()"
   ]
  },
  {
   "cell_type": "markdown",
   "id": "e2c9e4df-9900-4052-be10-c5a1dfabc82e",
   "metadata": {},
   "source": [
    "#### Call using `call`\n",
    "call only works for the `scall` / `ascall` subapis; which one is chosen, and how results are returned, depends on the `sync` parameter; also whether to GET or POST can be implied from the existence of the `params` parameter"
   ]
  },
  {
   "cell_type": "code",
   "execution_count": 26,
   "id": "8cdce957-db89-4eee-93a0-c29086ab0d17",
   "metadata": {},
   "outputs": [
    {
     "name": "stdout",
     "output_type": "stream",
     "text": [
      "Help on method call in module carbonsdk:\n",
      "\n",
      "call(ep, params=None, method=None, sync=None) method of carbonsdk.CarbonSDK instance\n",
      "    execute a GET or POST request to the (sync or async) call API \n",
      "    \n",
      "    :ep:        API endpoint, with the sync/async prefix (eg 'plus')\n",
      "    :params:    params transmitted to the API (POST only)\n",
      "    :method:    self.GET or self.POST\n",
      "    :sync:      whether to call sync or async\n",
      "\n"
     ]
    }
   ],
   "source": [
    "help(SDK.call)"
   ]
  },
  {
   "cell_type": "code",
   "execution_count": 27,
   "id": "3fad2513-7fc5-4310-96a3-47d5273fdaab",
   "metadata": {},
   "outputs": [
    {
     "name": "stdout",
     "output_type": "stream",
     "text": [
      "[req0] method=post, url=http://localhost:3118/api/scall/qplus, params={'a': 3, 'b': 5}\n"
     ]
    },
    {
     "data": {
      "text/plain": [
       "{'success': True, 'data': {'func': 'qplus', 'a': 3, 'b': 5, 'result': 8}}"
      ]
     },
     "execution_count": 27,
     "metadata": {},
     "output_type": "execute_result"
    }
   ],
   "source": [
    "r = SDK.call(\"qplus\", params={\"a\":3, \"b\":5}, sync=True)\n",
    "r.json()"
   ]
  },
  {
   "cell_type": "markdown",
   "id": "0c089e00-22a8-4b8f-ad16-c31c44916de6",
   "metadata": {},
   "source": [
    "### Endpoints that have already been wrapped"
   ]
  },
  {
   "cell_type": "code",
   "execution_count": 28,
   "id": "4826ec32-60ab-47c8-b4d6-4e37476a9b52",
   "metadata": {},
   "outputs": [
    {
     "name": "stdout",
     "output_type": "stream",
     "text": [
      "[req0] method=post, url=http://localhost:3118/api/scall/get_match_actions, params={'amountWei': None, 'tradeByTargetAmount': None, 'orders': None}\n"
     ]
    },
    {
     "data": {
      "text/plain": [
       "{'success': True, 'data': {'result': 'not implemented yet [sync]'}}"
      ]
     },
     "execution_count": 28,
     "metadata": {},
     "output_type": "execute_result"
    }
   ],
   "source": [
    "r = SDK.getMatchActions(amountWei=None, tradeByTargetAmount=None, orders=None, sync=True)\n",
    "r.json()"
   ]
  },
  {
   "cell_type": "code",
   "execution_count": 29,
   "id": "17bb82a9-6ad3-49ec-a5b5-7408e608e5ca",
   "metadata": {},
   "outputs": [
    {
     "name": "stdout",
     "output_type": "stream",
     "text": [
      "[req0] method=post, url=http://localhost:3118/api/scall/start_data_sync, params={}\n"
     ]
    },
    {
     "data": {
      "text/plain": [
       "{'success': True}"
      ]
     },
     "execution_count": 29,
     "metadata": {},
     "output_type": "execute_result"
    }
   ],
   "source": [
    "r = SDK.startDataSync(sync=True)\n",
    "r.json()"
   ]
  },
  {
   "cell_type": "code",
   "execution_count": 30,
   "id": "471f9157-3928-4ac9-a884-2e0091effafb",
   "metadata": {},
   "outputs": [
    {
     "name": "stdout",
     "output_type": "stream",
     "text": [
      "[req0] method=post, url=http://localhost:3118/api/scall/is_initialized, params={}\n"
     ]
    },
    {
     "data": {
      "text/plain": [
       "{'success': True, 'data': True}"
      ]
     },
     "execution_count": 30,
     "metadata": {},
     "output_type": "execute_result"
    }
   ],
   "source": [
    "r = SDK.isInitialized(sync=True)\n",
    "r.json()"
   ]
  },
  {
   "cell_type": "code",
   "execution_count": 31,
   "id": "d124ac88-f4c1-48d5-963c-62627dd0e313",
   "metadata": {},
   "outputs": [
    {
     "name": "stdout",
     "output_type": "stream",
     "text": [
      "[req0] method=post, url=http://localhost:3118/api/scall/pairs, params={}\n"
     ]
    },
    {
     "data": {
      "text/plain": [
       "{'success': True, 'data': {'result': 'not implemented yet [sync]'}}"
      ]
     },
     "execution_count": 31,
     "metadata": {},
     "output_type": "execute_result"
    }
   ],
   "source": [
    "r = SDK.pairs(sync=True)\n",
    "r.json()"
   ]
  },
  {
   "cell_type": "code",
   "execution_count": 32,
   "id": "f4340edc-cf42-4814-96e2-2d5866ad333e",
   "metadata": {},
   "outputs": [
    {
     "name": "stdout",
     "output_type": "stream",
     "text": [
      "[req0] method=post, url=http://localhost:3118/api/scall/has_liquidity_by_pair, params={'sourceToken': None, 'targetToken': None}\n"
     ]
    },
    {
     "data": {
      "text/plain": [
       "{'success': True, 'data': {'result': 'not implemented yet [sync]'}}"
      ]
     },
     "execution_count": 32,
     "metadata": {},
     "output_type": "execute_result"
    }
   ],
   "source": [
    "r = SDK.hasLiquidityByPair(sourceToken=None, targetToken=None, sync=True)\n",
    "r.json()"
   ]
  },
  {
   "cell_type": "code",
   "execution_count": 33,
   "id": "9c1cd234-4717-4460-8e05-f564e2db58e0",
   "metadata": {},
   "outputs": [
    {
     "name": "stdout",
     "output_type": "stream",
     "text": [
      "[req0] method=post, url=http://localhost:3118/api/scall/get_liquidity_by_pair, params={'sourceToken': None, 'targetToken': None}\n"
     ]
    },
    {
     "data": {
      "text/plain": [
       "{'success': True, 'data': {'result': 'not implemented yet [async]'}}"
      ]
     },
     "execution_count": 33,
     "metadata": {},
     "output_type": "execute_result"
    }
   ],
   "source": [
    "r = SDK.getLiquidityByPair(sourceToken=None, targetToken=None, sync=True)\n",
    "r.json()"
   ]
  },
  {
   "cell_type": "code",
   "execution_count": 34,
   "id": "d35f8b5b-a492-4468-8022-2e62735e20a3",
   "metadata": {},
   "outputs": [
    {
     "name": "stdout",
     "output_type": "stream",
     "text": [
      "[req0] method=post, url=http://localhost:3118/api/scall/get_user_strategies, params={'user': None}\n"
     ]
    },
    {
     "data": {
      "text/plain": [
       "{'success': True, 'data': {'result': 'not implemented yet [async]'}}"
      ]
     },
     "execution_count": 34,
     "metadata": {},
     "output_type": "execute_result"
    }
   ],
   "source": [
    "r = SDK.getUserStrategies(user=None, sync=True)\n",
    "r.json()"
   ]
  },
  {
   "cell_type": "code",
   "execution_count": 35,
   "id": "f19da187-f219-49d8-b4c6-3c03e3869ef4",
   "metadata": {},
   "outputs": [
    {
     "name": "stdout",
     "output_type": "stream",
     "text": [
      "[req0] method=post, url=http://localhost:3118/api/scall/get_match_params, params={'sourceToken': None, 'targetToken': None, 'amount': None, 'tradeByTargetAmount': None}\n"
     ]
    },
    {
     "data": {
      "text/plain": [
       "{'success': True, 'data': {'result': 'not implemented yet [async]'}}"
      ]
     },
     "execution_count": 35,
     "metadata": {},
     "output_type": "execute_result"
    }
   ],
   "source": [
    "r = SDK.getMatchParams(sourceToken=None, targetToken=None, amount=None, tradeByTargetAmount=None, sync=True)\n",
    "r.json()"
   ]
  },
  {
   "cell_type": "code",
   "execution_count": 36,
   "id": "fd26bc46-f7cc-4622-89a1-a588ff4966b1",
   "metadata": {},
   "outputs": [
    {
     "name": "stdout",
     "output_type": "stream",
     "text": [
      "[req0] method=post, url=http://localhost:3118/api/scall/get_trade_data, params={'sourceToken': None, 'targetToken': None, 'amount': None, 'tradeByTargetAmount': None, 'filter': None}\n"
     ]
    },
    {
     "data": {
      "text/plain": [
       "{'success': True, 'data': {'result': 'not implemented yet [async]'}}"
      ]
     },
     "execution_count": 36,
     "metadata": {},
     "output_type": "execute_result"
    }
   ],
   "source": [
    "r = SDK.getTradeData(sourceToken=None, targetToken=None, amount=None, tradeByTargetAmount=None, filter=None, sync=True)\n",
    "r.json()"
   ]
  },
  {
   "cell_type": "code",
   "execution_count": 37,
   "id": "494f9787-def7-4acd-af30-7dc51525da59",
   "metadata": {},
   "outputs": [
    {
     "name": "stdout",
     "output_type": "stream",
     "text": [
      "[req0] method=post, url=http://localhost:3118/api/scall/get_trade_data_from_actions, params={'sourceToken': None, 'targetToken': None, 'tradeByTargetAmount': None, 'actionsWei': None}\n"
     ]
    },
    {
     "data": {
      "text/plain": [
       "{'success': True, 'data': {'result': 'not implemented yet [async]'}}"
      ]
     },
     "execution_count": 37,
     "metadata": {},
     "output_type": "execute_result"
    }
   ],
   "source": [
    "r = SDK.getTradeDataFromActions(sourceToken=None, targetToken=None, tradeByTargetAmount=None, actionsWei=None, sync=True)\n",
    "r.json()"
   ]
  },
  {
   "cell_type": "code",
   "execution_count": 38,
   "id": "553f6581-40c0-4629-891c-dfc90276f01b",
   "metadata": {},
   "outputs": [
    {
     "name": "stdout",
     "output_type": "stream",
     "text": [
      "[req0] method=post, url=http://localhost:3118/api/scall/compose_trade_by_target_transaction, params={'sourceToken': None, 'targetToken': None, 'tradeActions': None, 'deadline': None, 'maxInput': None, 'overrides': None}\n"
     ]
    },
    {
     "data": {
      "text/plain": [
       "{'success': True, 'data': {'result': 'not implemented yet [async]'}}"
      ]
     },
     "execution_count": 38,
     "metadata": {},
     "output_type": "execute_result"
    }
   ],
   "source": [
    "r = SDK.composeTradeByTargetTransaction(sourceToken=None, targetToken=None, tradeActions=None, \n",
    "                                        deadline=None, maxInput=None, overrides=None, sync=True)\n",
    "r.json()"
   ]
  },
  {
   "cell_type": "code",
   "execution_count": 39,
   "id": "7d86f2f2-a961-49a0-a2b4-5056e47c1a2e",
   "metadata": {},
   "outputs": [
    {
     "name": "stdout",
     "output_type": "stream",
     "text": [
      "[req0] method=post, url=http://localhost:3118/api/scall/compose_trade_by_source_transaction, params={'sourceToken': None, 'targetToken': None, 'tradeActions': None, 'deadline': None, 'minReturn': None, 'overrides': None}\n"
     ]
    },
    {
     "data": {
      "text/plain": [
       "{'success': True, 'data': {'result': 'not implemented yet [async]'}}"
      ]
     },
     "execution_count": 39,
     "metadata": {},
     "output_type": "execute_result"
    }
   ],
   "source": [
    "r = SDK.composeTradeBySourceTransaction(sourceToken=None, targetToken=None, tradeActions=None, \n",
    "                                        deadline=None, minReturn=None, overrides=None, sync=True)\n",
    "r.json()"
   ]
  },
  {
   "cell_type": "code",
   "execution_count": 40,
   "id": "7cb3deae-7b08-410b-94cf-4110ec6137e3",
   "metadata": {},
   "outputs": [
    {
     "name": "stdout",
     "output_type": "stream",
     "text": [
      "[req0] method=post, url=http://localhost:3118/api/scall/create_buy_sell_strategy, params={'baseToken': None, 'quoteToken': None, 'buyPriceLow': None, 'buyPriceHigh': None, 'buyBudget': None, 'sellPriceLow': None, 'sellPriceHigh': None, 'sellBudget': None, 'overrides': None}\n"
     ]
    },
    {
     "data": {
      "text/plain": [
       "{'success': True, 'data': {'result': 'not implemented yet [async]'}}"
      ]
     },
     "execution_count": 40,
     "metadata": {},
     "output_type": "execute_result"
    }
   ],
   "source": [
    "r = SDK.createBuySellStrategy(baseToken=None, quoteToken=None, buyPriceLow=None, buyPriceHigh=None, buyBudget=None, \n",
    "                              sellPriceLow=None, sellPriceHigh=None, sellBudget=None, overrides=None, sync=True)\n",
    "r.json()"
   ]
  },
  {
   "cell_type": "code",
   "execution_count": 41,
   "id": "c8d8b44e-e3db-46a3-868b-5d59a36310bb",
   "metadata": {},
   "outputs": [
    {
     "name": "stdout",
     "output_type": "stream",
     "text": [
      "[req0] method=post, url=http://localhost:3118/api/scall/update_strategy, params={'strategyId': None, 'encoded': None, 'baseToken': None, 'quoteToken': None, 'update': None, 'buyMarginalPrice': None, 'sellMarginalPrice': None, 'overrides': None}\n"
     ]
    },
    {
     "data": {
      "text/plain": [
       "{'success': True, 'data': {'result': 'not implemented yet [async]'}}"
      ]
     },
     "execution_count": 41,
     "metadata": {},
     "output_type": "execute_result"
    }
   ],
   "source": [
    "r = SDK.updateStrategy(strategyId=None, encoded=None, baseToken=None, quoteToken=None, update=None, \n",
    "                       buyMarginalPrice=None, sellMarginalPrice=None, overrides=None, sync=True)\n",
    "r.json()"
   ]
  },
  {
   "cell_type": "code",
   "execution_count": 42,
   "id": "740bfa39-75a4-478a-b772-b7db325e4951",
   "metadata": {},
   "outputs": [
    {
     "name": "stdout",
     "output_type": "stream",
     "text": [
      "[req0] method=post, url=http://localhost:3118/api/scall/delete_strategy, params={'strategyId': None}\n"
     ]
    },
    {
     "data": {
      "text/plain": [
       "{'success': True, 'data': {'result': 'not implemented yet [async]'}}"
      ]
     },
     "execution_count": 42,
     "metadata": {},
     "output_type": "execute_result"
    }
   ],
   "source": [
    "r = SDK.deleteStrategy(strategyId=None, sync=True)\n",
    "r.json()"
   ]
  },
  {
   "cell_type": "code",
   "execution_count": 43,
   "id": "e80ddf97-71c7-4cde-b2de-0dc65132b943",
   "metadata": {},
   "outputs": [
    {
     "name": "stdout",
     "output_type": "stream",
     "text": [
      "[req0] method=post, url=http://localhost:3118/api/scall/get_rate_liquidity_depth_by_pair, params={'sourceToken': None, 'targetToken': None, 'rate': None}\n"
     ]
    },
    {
     "data": {
      "text/plain": [
       "{'success': True, 'data': {'result': 'not implemented yet [async]'}}"
      ]
     },
     "execution_count": 43,
     "metadata": {},
     "output_type": "execute_result"
    }
   ],
   "source": [
    "r = SDK.getRateLiquidityDepthByPair(sourceToken=None, targetToken=None, rate=None, sync=True)\n",
    "r.json()"
   ]
  },
  {
   "cell_type": "code",
   "execution_count": 44,
   "id": "b03c4f32-50b3-4be6-a8a2-f00f3541f72e",
   "metadata": {},
   "outputs": [
    {
     "name": "stdout",
     "output_type": "stream",
     "text": [
      "[req0] method=post, url=http://localhost:3118/api/scall/get_min_rate_by_pair, params={'sourceToken': None, 'targetToken': None}\n"
     ]
    },
    {
     "data": {
      "text/plain": [
       "{'success': True, 'data': {'result': 'not implemented yet [async]'}}"
      ]
     },
     "execution_count": 44,
     "metadata": {},
     "output_type": "execute_result"
    }
   ],
   "source": [
    "r = SDK.getMinRateByPair(sourceToken=None, targetToken=None, sync=True)\n",
    "r.json()"
   ]
  },
  {
   "cell_type": "code",
   "execution_count": 45,
   "id": "0c3d3f3c-a08f-4e11-a572-de387ccc5401",
   "metadata": {},
   "outputs": [
    {
     "name": "stdout",
     "output_type": "stream",
     "text": [
      "[req0] method=post, url=http://localhost:3118/api/scall/get_max_rate_by_pair, params={'sourceToken': None, 'targetToken': None}\n"
     ]
    },
    {
     "data": {
      "text/plain": [
       "{'success': True, 'data': {'result': 'not implemented yet [async]'}}"
      ]
     },
     "execution_count": 45,
     "metadata": {},
     "output_type": "execute_result"
    }
   ],
   "source": [
    "r = SDK.getMaxRateByPair(sourceToken=None, targetToken=None, sync=True)\n",
    "r.json()"
   ]
  },
  {
   "cell_type": "markdown",
   "id": "bebc1b1e-9aa5-40d3-9004-b8b8b219beb7",
   "metadata": {},
   "source": [
    "### Endpoints not yet wrapped"
   ]
  },
  {
   "cell_type": "code",
   "execution_count": 46,
   "id": "c1db46ed-2b0f-4668-b1e0-4dc2059b451e",
   "metadata": {},
   "outputs": [],
   "source": [
    "#raise"
   ]
  },
  {
   "cell_type": "markdown",
   "id": "14860a15-2ded-40c6-9e5d-a637e746102f",
   "metadata": {},
   "source": [
    "## Testing the SDK Class"
   ]
  },
  {
   "cell_type": "code",
   "execution_count": 47,
   "id": "68871750-04a2-4208-ac77-0b9ad87e54d9",
   "metadata": {},
   "outputs": [],
   "source": [
    "SDK = CarbonSDK(disclaimer=False)"
   ]
  },
  {
   "cell_type": "code",
   "execution_count": 48,
   "id": "f4d29690-f862-4786-8fe0-3a4a341ff7e9",
   "metadata": {},
   "outputs": [
    {
     "name": "stdout",
     "output_type": "stream",
     "text": [
      "[req0] method=get, url=http://localhost:3118/, params={}\n"
     ]
    },
    {
     "data": {
      "text/plain": [
       "{'status': 'success',\n",
       " 'msg': 'Carbon SDK v0.1 (3/Mar/2022)',\n",
       " 'version': '0.1',\n",
       " 'date': '3/Mar/2022'}"
      ]
     },
     "execution_count": 48,
     "metadata": {},
     "output_type": "execute_result"
    }
   ],
   "source": [
    "r = SDK.version()\n",
    "r.json()"
   ]
  },
  {
   "cell_type": "code",
   "execution_count": 49,
   "id": "d6f0b2f4-e6e8-4c25-bbdb-e833c80209ad",
   "metadata": {},
   "outputs": [
    {
     "name": "stdout",
     "output_type": "stream",
     "text": [
      "[req0] method=post, url=http://localhost:3118/api/scall/meh, params={}\n"
     ]
    },
    {
     "data": {
      "text/plain": [
       "{'success': False, 'error': 'unknown function meh'}"
      ]
     },
     "execution_count": 49,
     "metadata": {},
     "output_type": "execute_result"
    }
   ],
   "source": [
    "r = SDK.req(\"scall/meh\", params={})\n",
    "r.json()"
   ]
  },
  {
   "cell_type": "code",
   "execution_count": 50,
   "id": "39df94db-9848-4dcb-9617-e14e0a7dc2e1",
   "metadata": {},
   "outputs": [
    {
     "name": "stdout",
     "output_type": "stream",
     "text": [
      "[req0] method=post, url=http://localhost:3118/api/ascall/mul, params={'a': 3, 'b': 5}\n"
     ]
    },
    {
     "data": {
      "text/plain": [
       "1678110728642"
      ]
     },
     "execution_count": 50,
     "metadata": {},
     "output_type": "execute_result"
    }
   ],
   "source": [
    "rid = SDK.mul(3,5)\n",
    "rid"
   ]
  },
  {
   "cell_type": "code",
   "execution_count": 51,
   "id": "40d9c11c-2f64-4d8d-9b03-b173a9a78cbe",
   "metadata": {},
   "outputs": [
    {
     "name": "stdout",
     "output_type": "stream",
     "text": [
      "[req0] method=post, url=http://localhost:3118/api/ascall/plus, params={'a': 3, 'b': 5}\n"
     ]
    },
    {
     "data": {
      "text/plain": [
       "1678110728650"
      ]
     },
     "execution_count": 51,
     "metadata": {},
     "output_type": "execute_result"
    }
   ],
   "source": [
    "rid = SDK.plus(3,5)\n",
    "rid"
   ]
  },
  {
   "cell_type": "code",
   "execution_count": 52,
   "id": "759884cd-d7b6-4ffb-abc1-5f5ec686d283",
   "metadata": {},
   "outputs": [
    {
     "name": "stdout",
     "output_type": "stream",
     "text": [
      "[req0] method=post, url=http://localhost:3118/api/scall/qmul, params={'a': 3, 'b': 5}\n"
     ]
    },
    {
     "data": {
      "text/plain": [
       "{'success': True, 'data': {'func': 'qmul', 'a': 3, 'b': 5, 'result': 15}}"
      ]
     },
     "execution_count": 52,
     "metadata": {},
     "output_type": "execute_result"
    }
   ],
   "source": [
    "r = SDK.qmul(3,5, sync=True)\n",
    "r.json()"
   ]
  },
  {
   "cell_type": "code",
   "execution_count": 53,
   "id": "ff0831c4-adf0-4451-a7e5-885ab4a5f879",
   "metadata": {},
   "outputs": [
    {
     "name": "stdout",
     "output_type": "stream",
     "text": [
      "[req0] method=post, url=http://localhost:3118/api/ascall/qmul, params={'a': 3, 'b': 5}\n"
     ]
    },
    {
     "data": {
      "text/plain": [
       "1678110728665"
      ]
     },
     "execution_count": 53,
     "metadata": {},
     "output_type": "execute_result"
    }
   ],
   "source": [
    "rid = SDK.qmul(3,5)\n",
    "rid"
   ]
  },
  {
   "cell_type": "code",
   "execution_count": 54,
   "id": "5815c4bb-b210-434a-81a6-6409540ad8d5",
   "metadata": {},
   "outputs": [
    {
     "name": "stdout",
     "output_type": "stream",
     "text": [
      "[req0] method=post, url=http://localhost:3118/api/scall/qplus, params={'a': 3, 'b': 5}\n"
     ]
    },
    {
     "data": {
      "text/plain": [
       "{'success': True, 'data': {'func': 'qplus', 'a': 3, 'b': 5, 'result': 8}}"
      ]
     },
     "execution_count": 54,
     "metadata": {},
     "output_type": "execute_result"
    }
   ],
   "source": [
    "r = SDK.qplus(3,5, sync=True)\n",
    "r.json()"
   ]
  },
  {
   "cell_type": "code",
   "execution_count": 55,
   "id": "1e11d3a5-b50d-4fa2-b220-d7e17e3f73f6",
   "metadata": {},
   "outputs": [
    {
     "name": "stdout",
     "output_type": "stream",
     "text": [
      "[req0] method=post, url=http://localhost:3118/api/ascall/qplus, params={'a': 3, 'b': 5}\n"
     ]
    },
    {
     "data": {
      "text/plain": [
       "1678110728692"
      ]
     },
     "execution_count": 55,
     "metadata": {},
     "output_type": "execute_result"
    }
   ],
   "source": [
    "rid = SDK.qplus(3,5)\n",
    "rid"
   ]
  },
  {
   "cell_type": "code",
   "execution_count": 56,
   "id": "ab44d84c-c792-47dd-90a5-721db8c2f187",
   "metadata": {},
   "outputs": [
    {
     "name": "stdout",
     "output_type": "stream",
     "text": [
      "[req0] method=get, url=http://localhost:3118/api/result/1678110728692, params={}\n"
     ]
    },
    {
     "data": {
      "text/plain": [
       "{'func': 'qplus', 'a': 3, 'b': 5, 'result': 8}"
      ]
     },
     "execution_count": 56,
     "metadata": {},
     "output_type": "execute_result"
    }
   ],
   "source": [
    "result = SDK.result(rid)\n",
    "result"
   ]
  },
  {
   "cell_type": "code",
   "execution_count": 57,
   "id": "46a7c4ec-a460-4ae8-b077-4e4c989f0c50",
   "metadata": {},
   "outputs": [
    {
     "name": "stdout",
     "output_type": "stream",
     "text": [
      "[req0] method=get, url=http://localhost:3118/api/result/1678110728692, params={}\n"
     ]
    },
    {
     "data": {
      "text/plain": [
       "{'func': 'qplus', 'a': 3, 'b': 5, 'result': 8}"
      ]
     },
     "execution_count": 57,
     "metadata": {},
     "output_type": "execute_result"
    }
   ],
   "source": [
    "result = SDK.result(rid)\n",
    "result"
   ]
  },
  {
   "cell_type": "code",
   "execution_count": 58,
   "id": "42950b8c-4881-413f-b427-a5a7ce12c873",
   "metadata": {},
   "outputs": [
    {
     "name": "stdout",
     "output_type": "stream",
     "text": [
      "[req0] method=get, url=http://localhost:3118/api/result/123, params={}\n",
      "('Unknown request id', '123')\n"
     ]
    }
   ],
   "source": [
    "try:\n",
    "    result = SDK.result(\"123\")\n",
    "except SDK.UnknownReqIdError as e:\n",
    "    print(e)"
   ]
  },
  {
   "cell_type": "code",
   "execution_count": 59,
   "id": "0dbf475f-6dd6-4543-9739-0ddb7dc825ff",
   "metadata": {},
   "outputs": [
    {
     "name": "stdout",
     "output_type": "stream",
     "text": [
      "[req0] method=get, url=http://localhost:3118/api/result/1677857523771, params={}\n"
     ]
    },
    {
     "data": {
      "text/plain": [
       "{'success': False,\n",
       " 'error': 'unknown reqid 1677857523771',\n",
       " 'reqid': '1677857523771',\n",
       " 'awaiting': False}"
      ]
     },
     "execution_count": 59,
     "metadata": {},
     "output_type": "execute_result"
    }
   ],
   "source": [
    "r = SDK.req0(\"api/result/1677857523771\")\n",
    "r.json()"
   ]
  },
  {
   "cell_type": "code",
   "execution_count": 60,
   "id": "6b56a42f-b7c5-4ca4-854d-70331926eec8",
   "metadata": {},
   "outputs": [],
   "source": [
    "#raise"
   ]
  },
  {
   "cell_type": "markdown",
   "id": "37c3c882-d06e-4a24-b47b-52c9076dffc2",
   "metadata": {},
   "source": [
    "## Testting the SDKToken Class\n"
   ]
  },
  {
   "cell_type": "code",
   "execution_count": 61,
   "id": "d8f19d4a-c1f3-44e2-b472-690db38c3561",
   "metadata": {},
   "outputs": [
    {
     "data": {
      "text/plain": [
       "SDKToken(token='CREAM', address='0x2ba592f78db6436527729929aaf6c908497cb200', name='CREAM', decimals=None)"
      ]
     },
     "execution_count": 61,
     "metadata": {},
     "output_type": "execute_result"
    }
   ],
   "source": [
    "Tokens[\"CREAM\"]"
   ]
  },
  {
   "cell_type": "code",
   "execution_count": 62,
   "id": "b34e379f-22a6-44ab-9dc0-25d0142de741",
   "metadata": {},
   "outputs": [
    {
     "data": {
      "text/plain": [
       "'YFI (0x0bc529c00c6401aef6d220be8c6ea1667f6ad93e)'"
      ]
     },
     "execution_count": 62,
     "metadata": {},
     "output_type": "execute_result"
    }
   ],
   "source": [
    "str(Tokens.YFI)"
   ]
  },
  {
   "cell_type": "code",
   "execution_count": 63,
   "id": "152ee610-668d-484a-9786-4e87ad65f419",
   "metadata": {},
   "outputs": [
    {
     "data": {
      "text/plain": [
       "SDKToken(token='ETH', address='0xeeeeeeeeeeeeeeeeeeeeeeeeeeeeeeeeeeeeeeee', name='ETH', decimals=None)"
      ]
     },
     "execution_count": 63,
     "metadata": {},
     "output_type": "execute_result"
    }
   ],
   "source": [
    "Tokens.ETH"
   ]
  },
  {
   "cell_type": "code",
   "execution_count": 64,
   "id": "669de9d5-2569-4f91-960e-54977931ec5c",
   "metadata": {},
   "outputs": [],
   "source": [
    "#Tokens._all"
   ]
  },
  {
   "cell_type": "code",
   "execution_count": 65,
   "id": "5bb1abf6-17a9-481f-b1df-5add2b3ec070",
   "metadata": {},
   "outputs": [],
   "source": [
    "#Tokens"
   ]
  },
  {
   "cell_type": "code",
   "execution_count": 66,
   "id": "c45b9a70-725b-46b7-a9fc-157b042129f7",
   "metadata": {
    "lines_to_next_cell": 2
   },
   "outputs": [
    {
     "data": {
      "text/plain": [
       "\"('AAVE', 'ALEPH', 'ANT', 'BAL', 'BAND', 'BAT', 'BNB', 'BNT', 'BUSD', 'BZRX', 'CEL', 'CHERRY', 'COMP', 'CRO', 'CRV', 'DAI', 'DXD', 'ELF', 'ENJ', 'ETH', 'EWTB', 'FTT', 'GNO', 'GUSD', 'JRT', 'KNC', 'LEND', 'LINK', 'LRC', 'MANA', 'MATIC', 'MKR', 'MLN', 'MTA', 'NMR', 'OCEAN', 'OMG', 'PBTC', 'RARI', 'REN', 'RENBTC', 'RENZEC', 'RPL', 'RSR', 'SNX', 'SRM', 'STAKE', 'SBTC', 'SUSD', 'SUSHI', 'SWRV', 'SXP', 'TRB', 'TOMOE', 'UNI', 'USDC', 'USDT', 'WBTC', 'WNXM', 'XDCE', 'YFI', 'UMA', 'QNT', 'ZRX', 'CORE', 'CREAM', 'PICKLE', 'RCN')\""
      ]
     },
     "execution_count": 66,
     "metadata": {},
     "output_type": "execute_result"
    }
   ],
   "source": [
    "str(Tokens)"
   ]
  },
  {
   "cell_type": "markdown",
   "id": "b95b66be-88ed-4cfd-a973-f39691ddb164",
   "metadata": {
    "lines_to_next_cell": 2
   },
   "source": [
    "## Testing the Server"
   ]
  },
  {
   "cell_type": "code",
   "execution_count": 67,
   "id": "abe8e0f3-5599-4b43-a124-7b50052504b5",
   "metadata": {},
   "outputs": [],
   "source": [
    "import requests\n",
    "PORT=\"3118\"\n",
    "TOKEN = \"carbontoken\""
   ]
  },
  {
   "cell_type": "code",
   "execution_count": 68,
   "id": "979e8b4f-a2f4-4314-a583-56190cdf9e3d",
   "metadata": {},
   "outputs": [
    {
     "data": {
      "text/plain": [
       "{'status': 'success',\n",
       " 'msg': 'Carbon SDK v0.1 (3/Mar/2022)',\n",
       " 'version': '0.1',\n",
       " 'date': '3/Mar/2022'}"
      ]
     },
     "execution_count": 68,
     "metadata": {},
     "output_type": "execute_result"
    }
   ],
   "source": [
    "r = requests.get(f\"http://localhost:{PORT}/\")\n",
    "r.json()"
   ]
  },
  {
   "cell_type": "markdown",
   "id": "2d75bb3e-b14b-4c14-baab-e637c2a4c5c8",
   "metadata": {},
   "source": [
    "### Authorization"
   ]
  },
  {
   "cell_type": "code",
   "execution_count": 69,
   "id": "9a009b01-51ec-4b4c-a6f8-ecbb23fdac1c",
   "metadata": {},
   "outputs": [
    {
     "data": {
      "text/plain": [
       "<Response [401]>"
      ]
     },
     "execution_count": 69,
     "metadata": {},
     "output_type": "execute_result"
    }
   ],
   "source": [
    "r = requests.post(f\"http://localhost:{PORT}/api/scall/meh\")\n",
    "r"
   ]
  },
  {
   "cell_type": "code",
   "execution_count": 70,
   "id": "b58169d0-741e-4d24-9ba1-bbb7ae5b9083",
   "metadata": {},
   "outputs": [
    {
     "data": {
      "text/plain": [
       "<Response [401]>"
      ]
     },
     "execution_count": 70,
     "metadata": {},
     "output_type": "execute_result"
    }
   ],
   "source": [
    "r = requests.post(f\"http://localhost:{PORT}/api/ascall/meh\")\n",
    "r"
   ]
  },
  {
   "cell_type": "code",
   "execution_count": 71,
   "id": "29686bf6-5263-498c-b3c1-8717781a497f",
   "metadata": {},
   "outputs": [
    {
     "data": {
      "text/plain": [
       "<Response [404]>"
      ]
     },
     "execution_count": 71,
     "metadata": {},
     "output_type": "execute_result"
    }
   ],
   "source": [
    "r = requests.get(f\"http://localhost:{PORT}/api/scall/result/123\")\n",
    "r"
   ]
  },
  {
   "cell_type": "code",
   "execution_count": 72,
   "id": "cea20c04-cc9e-4d9c-9b83-137985149811",
   "metadata": {},
   "outputs": [
    {
     "data": {
      "text/plain": [
       "<Response [200]>"
      ]
     },
     "execution_count": 72,
     "metadata": {},
     "output_type": "execute_result"
    }
   ],
   "source": [
    "r = requests.post(f\"http://localhost:{PORT}/api/scall/meh\", headers={\"token\": TOKEN})\n",
    "r"
   ]
  },
  {
   "cell_type": "code",
   "execution_count": 73,
   "id": "94eff992-42b1-4b5c-97bc-e259ecdd9757",
   "metadata": {},
   "outputs": [
    {
     "data": {
      "text/plain": [
       "<Response [200]>"
      ]
     },
     "execution_count": 73,
     "metadata": {},
     "output_type": "execute_result"
    }
   ],
   "source": [
    "r = requests.post(f\"http://localhost:{PORT}/api/ascall/meh\", headers={\"token\": TOKEN})\n",
    "r"
   ]
  },
  {
   "cell_type": "code",
   "execution_count": 74,
   "id": "334eb9cc-35f9-4fa5-a172-0c8ed84a7ca5",
   "metadata": {},
   "outputs": [
    {
     "data": {
      "text/plain": [
       "<Response [404]>"
      ]
     },
     "execution_count": 74,
     "metadata": {},
     "output_type": "execute_result"
    }
   ],
   "source": [
    "r = requests.get(f\"http://localhost:{PORT}/api/scall/result/123\", headers={\"token\": TOKEN})\n",
    "r"
   ]
  },
  {
   "cell_type": "markdown",
   "id": "34a33449-8429-43d6-a0ed-838f13e5fb16",
   "metadata": {},
   "source": [
    "### Sync"
   ]
  },
  {
   "cell_type": "code",
   "execution_count": 75,
   "id": "7f9b0e86-72a0-4845-a55f-e47aead937db",
   "metadata": {},
   "outputs": [
    {
     "data": {
      "text/plain": [
       "{'success': False, 'error': 'unknown function meh'}"
      ]
     },
     "execution_count": 75,
     "metadata": {},
     "output_type": "execute_result"
    }
   ],
   "source": [
    "r = requests.post(f\"http://localhost:{PORT}/api/scall/meh\", headers={\"token\": TOKEN}, json={\"a\":1})\n",
    "r.json()"
   ]
  },
  {
   "cell_type": "code",
   "execution_count": 76,
   "id": "9145bc89-b686-4720-8aff-7ce5cd91d6ca",
   "metadata": {},
   "outputs": [
    {
     "data": {
      "text/plain": [
       "{'success': True, 'data': {'func': 'plus', 'a': 1, 'b': 2, 'result': 3}}"
      ]
     },
     "execution_count": 76,
     "metadata": {},
     "output_type": "execute_result"
    }
   ],
   "source": [
    "r = requests.post(f\"http://localhost:{PORT}/api/scall/plus\", headers={\"token\": TOKEN}, json={\"a\":1, \"b\":2})\n",
    "r.json()"
   ]
  },
  {
   "cell_type": "code",
   "execution_count": 77,
   "id": "f6ae95b4-c067-45e3-b455-d87fb87671b8",
   "metadata": {},
   "outputs": [
    {
     "data": {
      "text/plain": [
       "{'success': True, 'data': {'func': 'mul', 'a': 3, 'b': 5, 'result': 15}}"
      ]
     },
     "execution_count": 77,
     "metadata": {},
     "output_type": "execute_result"
    }
   ],
   "source": [
    "r = requests.post(f\"http://localhost:{PORT}/api/scall/mul\", headers={\"token\": TOKEN}, json={\"a\":3, \"b\":5})\n",
    "r.json()"
   ]
  },
  {
   "cell_type": "markdown",
   "id": "cde25e79-61b6-40b0-8538-672064f2d305",
   "metadata": {},
   "source": [
    "### Async"
   ]
  },
  {
   "cell_type": "code",
   "execution_count": 78,
   "id": "e9f582fa-a818-4728-b66b-933aadf28860",
   "metadata": {},
   "outputs": [
    {
     "data": {
      "text/plain": [
       "{'success': False, 'error': 'unknown function meh'}"
      ]
     },
     "execution_count": 78,
     "metadata": {},
     "output_type": "execute_result"
    }
   ],
   "source": [
    "r = requests.post(f\"http://localhost:{PORT}/api/ascall/meh\", headers={\"token\": TOKEN}, json={\"a\":1, \"b\":2})\n",
    "r.json()"
   ]
  },
  {
   "cell_type": "code",
   "execution_count": 79,
   "id": "a1afb6e8-4aba-410a-9cde-5a9c09b74011",
   "metadata": {},
   "outputs": [
    {
     "data": {
      "text/plain": [
       "{'success': True, 'reqid': 1678110734264}"
      ]
     },
     "execution_count": 79,
     "metadata": {},
     "output_type": "execute_result"
    }
   ],
   "source": [
    "r = requests.post(f\"http://localhost:{PORT}/api/ascall/plus\", headers={\"token\": TOKEN}, json={\"a\":1, \"b\":2})\n",
    "r.json()"
   ]
  },
  {
   "cell_type": "code",
   "execution_count": 80,
   "id": "1f394983-2e15-49f2-89f4-a6bb41393728",
   "metadata": {},
   "outputs": [
    {
     "data": {
      "text/plain": [
       "{'success': True, 'reqid': 1678110734278}"
      ]
     },
     "execution_count": 80,
     "metadata": {},
     "output_type": "execute_result"
    }
   ],
   "source": [
    "r = requests.post(f\"http://localhost:{PORT}/api/ascall/mul\", headers={\"token\": TOKEN}, json={\"a\":3, \"b\":4})\n",
    "r.json()"
   ]
  },
  {
   "cell_type": "code",
   "execution_count": 81,
   "id": "55cbcd69-0bb0-4fd4-98c3-1271e76c316c",
   "metadata": {},
   "outputs": [
    {
     "data": {
      "text/plain": [
       "{'success': True, 'reqid': 1678110734292}"
      ]
     },
     "execution_count": 81,
     "metadata": {},
     "output_type": "execute_result"
    }
   ],
   "source": [
    "r = requests.post(f\"http://localhost:{PORT}/api/ascall/plus\", headers={\"token\": TOKEN}, json={\"a\":3, \"b\":4})\n",
    "r.json()"
   ]
  },
  {
   "cell_type": "code",
   "execution_count": 82,
   "id": "489de03f-b535-4fd5-a06a-e7d04c1a45ee",
   "metadata": {
    "lines_to_next_cell": 2
   },
   "outputs": [
    {
     "data": {
      "text/plain": [
       "{'success': False,\n",
       " 'error': 'reqid 1678110734292 not ready',\n",
       " 'reqid': '1678110734292',\n",
       " 'awaiting': True}"
      ]
     },
     "execution_count": 82,
     "metadata": {},
     "output_type": "execute_result"
    }
   ],
   "source": [
    "rr = requests.get(f\"http://localhost:{PORT}/api/result/{r.json()['reqid']}\", headers={\"token\": TOKEN})\n",
    "rr.json()"
   ]
  },
  {
   "cell_type": "markdown",
   "id": "2d5905e5",
   "metadata": {},
   "source": [
    "## Converting token addresses to symbols"
   ]
  },
  {
   "cell_type": "code",
   "execution_count": 83,
   "id": "0d4962d1-0c92-49e9-aac0-ba42b8779118",
   "metadata": {},
   "outputs": [],
   "source": [
    "fa = Tokens.byaddr"
   ]
  },
  {
   "cell_type": "code",
   "execution_count": 84,
   "id": "930cff5d-e0b4-4f7d-83e5-23556e56edce",
   "metadata": {},
   "outputs": [],
   "source": [
    "pairs_raw = [\n",
    "  [\n",
    "    '0xA0b86991c6218b36c1d19D4a2e9Eb0cE3606eB48',\n",
    "    '0xdAC17F958D2ee523a2206206994597C13D831ec7'\n",
    "  ],\n",
    "  [\n",
    "    '0xA0b86991c6218b36c1d19D4a2e9Eb0cE3606eB48',\n",
    "    '0xEeeeeEeeeEeEeeEeEeEeeEEEeeeeEeeeeeeeEEeE'\n",
    "  ],\n",
    "  [\n",
    "    '0x1F573D6Fb3F13d689FF844B4cE37794d79a7FF1C',\n",
    "    '0xdAC17F958D2ee523a2206206994597C13D831ec7'\n",
    "  ],\n",
    "  [\n",
    "    '0x1F573D6Fb3F13d689FF844B4cE37794d79a7FF1C',\n",
    "    '0xA0b86991c6218b36c1d19D4a2e9Eb0cE3606eB48'\n",
    "  ],\n",
    "  [\n",
    "    '0xdAC17F958D2ee523a2206206994597C13D831ec7',\n",
    "    '0xEeeeeEeeeEeEeeEeEeEeeEEEeeeeEeeeeeeeEEeE'\n",
    "  ],\n",
    "  [\n",
    "    '0x2260FAC5E5542a773Aa44fBCfeDf7C193bc2C599',\n",
    "    '0xA0b86991c6218b36c1d19D4a2e9Eb0cE3606eB48'\n",
    "  ],\n",
    "  [\n",
    "    '0x6B175474E89094C44Da98b954EedeAC495271d0F',\n",
    "    '0x7D1AfA7B718fb893dB30A3aBc0Cfc608AaCfeBB0'\n",
    "  ],\n",
    "  [\n",
    "    '0x514910771AF9Ca656af840dff83E8264EcF986CA',\n",
    "    '0xA0b86991c6218b36c1d19D4a2e9Eb0cE3606eB48'\n",
    "  ],\n",
    "  [\n",
    "    '0x6B175474E89094C44Da98b954EedeAC495271d0F',\n",
    "    '0xEeeeeEeeeEeEeeEeEeEeeEEEeeeeEeeeeeeeEEeE'\n",
    "  ]\n",
    "]"
   ]
  },
  {
   "cell_type": "code",
   "execution_count": 85,
   "id": "c3eee1e6-7945-4518-9635-2e21d48f5551",
   "metadata": {},
   "outputs": [
    {
     "data": {
      "text/plain": [
       "[['USDC', 'USDT'],\n",
       " ['USDC', 'ETH'],\n",
       " ['BNT', 'USDT'],\n",
       " ['BNT', 'USDC'],\n",
       " ['USDT', 'ETH'],\n",
       " ['WBTC', 'USDC'],\n",
       " ['DAI', 'MATIC'],\n",
       " ['LINK', 'USDC'],\n",
       " ['DAI', 'ETH']]"
      ]
     },
     "execution_count": 85,
     "metadata": {},
     "output_type": "execute_result"
    }
   ],
   "source": [
    "pairs = [ [fa(pair[0]).T, fa(pair[1]).T] for pair in pairs_raw]\n",
    "pairs"
   ]
  },
  {
   "cell_type": "code",
   "execution_count": 86,
   "id": "b7c11e4f-f8b2-41ca-b8e8-3df7ef9d5983",
   "metadata": {},
   "outputs": [
    {
     "data": {
      "text/plain": [
       "{'BNT', 'DAI', 'ETH', 'LINK', 'MATIC', 'USDC', 'USDT', 'WBTC'}"
      ]
     },
     "execution_count": 86,
     "metadata": {},
     "output_type": "execute_result"
    }
   ],
   "source": [
    "tokens = {fa(tkn).T for pair in pairs_raw for tkn in pair}\n",
    "tokens"
   ]
  },
  {
   "cell_type": "code",
   "execution_count": 87,
   "id": "98680ff4-baea-4bf4-9597-e05eecdff6ba",
   "metadata": {},
   "outputs": [
    {
     "name": "stdout",
     "output_type": "stream",
     "text": [
      "const BNT   = '0x1f573d6fb3f13d689ff844b4ce37794d79a7ff1c'\n",
      "const USDT  = '0xdac17f958d2ee523a2206206994597c13d831ec7'\n",
      "const DAI   = '0x6b175474e89094c44da98b954eedeac495271d0f'\n",
      "const ETH   = '0xeeeeeeeeeeeeeeeeeeeeeeeeeeeeeeeeeeeeeeee'\n",
      "const LINK  = '0x514910771af9ca656af840dff83e8264ecf986ca'\n",
      "const MATIC = '0x7d1afa7b718fb893db30a3abc0cfc608aacfebb0'\n",
      "const USDC  = '0xa0b86991c6218b36c1d19d4a2e9eb0ce3606eb48'\n",
      "const WBTC  = '0x2260fac5e5542a773aa44fbcfedf7c193bc2c599'\n"
     ]
    }
   ],
   "source": [
    "for t in tokens:\n",
    "    print(f\"const {t:5} = '{Tokens[t].a}'\")"
   ]
  },
  {
   "cell_type": "code",
   "execution_count": null,
   "id": "7cca55dd",
   "metadata": {},
   "outputs": [],
   "source": []
  },
  {
   "cell_type": "code",
   "execution_count": 88,
   "id": "f2f763fa-f4e1-4bce-9e1e-1a130b81ab72",
   "metadata": {},
   "outputs": [
    {
     "ename": "RuntimeError",
     "evalue": "No active exception to reraise",
     "output_type": "error",
     "traceback": [
      "\u001b[0;31m---------------------------------------------------------------------------\u001b[0m",
      "\u001b[0;31mRuntimeError\u001b[0m                              Traceback (most recent call last)",
      "\u001b[0;32m<ipython-input-88-9c9a2cba73bf>\u001b[0m in \u001b[0;36m<module>\u001b[0;34m\u001b[0m\n\u001b[0;32m----> 1\u001b[0;31m \u001b[0;32mraise\u001b[0m\u001b[0;34m\u001b[0m\u001b[0;34m\u001b[0m\u001b[0m\n\u001b[0m",
      "\u001b[0;31mRuntimeError\u001b[0m: No active exception to reraise"
     ]
    }
   ],
   "source": [
    "raise"
   ]
  },
  {
   "cell_type": "code",
   "execution_count": null,
   "id": "af3cf716-b4c0-466f-a908-76ae7d8578ce",
   "metadata": {},
   "outputs": [],
   "source": []
  },
  {
   "cell_type": "code",
   "execution_count": null,
   "id": "2e082d96",
   "metadata": {},
   "outputs": [],
   "source": []
  }
 ],
 "metadata": {
  "jupytext": {
   "encoding": "# -*- coding: utf-8 -*-",
   "formats": "ipynb,py:light"
  },
  "kernelspec": {
   "display_name": "Python 3",
   "language": "python",
   "name": "python3"
  },
  "language_info": {
   "codemirror_mode": {
    "name": "ipython",
    "version": 3
   },
   "file_extension": ".py",
   "mimetype": "text/x-python",
   "name": "python",
   "nbconvert_exporter": "python",
   "pygments_lexer": "ipython3",
   "version": "3.8.8"
  }
 },
 "nbformat": 4,
 "nbformat_minor": 5
}
