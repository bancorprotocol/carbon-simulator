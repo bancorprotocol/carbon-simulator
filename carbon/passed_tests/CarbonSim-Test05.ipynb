{
 "cells": [
  {
   "cell_type": "code",
   "execution_count": 12,
   "id": "22b66169",
   "metadata": {},
   "outputs": [],
   "source": [
    "from carbon import CarbonSimulatorUI\n",
    "from carbon.simulators.carbon_simulator import (\n",
    "    __version__ as uiversion,\n",
    "    __date__ as uidate,\n",
    ")\n",
    "from jupyformat import *"
   ]
  },
  {
   "cell_type": "code",
   "execution_count": 19,
   "id": "3503203e",
   "metadata": {},
   "outputs": [
    {
     "name": "stdout",
     "output_type": "stream",
     "text": [
      "[carbon.ui] version 0.9.4 7/Nov/2022\n"
     ]
    },
    {
     "data": {
      "text/html": [
       "<div style='color:green; font-size: 120%'><p><strong>This notebook passed verification.</strong></p></div>"
      ],
      "text/plain": [
       "<IPython.core.display.HTML object>"
      ]
     },
     "execution_count": 19,
     "metadata": {},
     "output_type": "execute_result"
    }
   ],
   "source": [
    "print(\"[carbon.ui] version\", uiversion, uidate)\n",
    "jp()"
   ]
  },
  {
   "cell_type": "markdown",
   "id": "ec6ff430",
   "metadata": {},
   "source": [
    "# Carbon Simulation - Test 5"
   ]
  },
  {
   "cell_type": "code",
   "execution_count": 14,
   "id": "a2278c82",
   "metadata": {},
   "outputs": [
    {
     "name": "stdout",
     "output_type": "stream",
     "text": [
      "[__init__] pair=USDCETH, verbose=True, raiseonerror=False\n"
     ]
    },
    {
     "data": {
      "text/plain": [
       "CarbonSimulatorUI(<0 positions, 0 trades>, pair='USDCETH')"
      ]
     },
     "execution_count": 14,
     "metadata": {},
     "output_type": "execute_result"
    }
   ],
   "source": [
    "Sim = CarbonSimulatorUI(pair=\"USDCETH\", verbose=True)\n",
    "Sim"
   ]
  },
  {
   "cell_type": "code",
   "execution_count": 15,
   "id": "aeacb2d5",
   "metadata": {},
   "outputs": [
    {
     "name": "stdout",
     "output_type": "stream",
     "text": [
      "[add_sgl_pos] added\n",
      "tkn=ETH, amt=100, p1=2700, p2=2800, pair=USDCETH\n"
     ]
    },
    {
     "data": {
      "text/plain": [
       "{'success': True,\n",
       " 'orders':    id     pair tkn_name       y_int           y       p_high        p_low  \\\n",
       " 0   0  USDCETH      ETH  100.000000  100.000000  2800.000000  2700.000000   \n",
       " \n",
       "    linked_to_id  \n",
       " 0             0  }"
      ]
     },
     "execution_count": 15,
     "metadata": {},
     "output_type": "execute_result"
    }
   ],
   "source": [
    "Sim.add_sgl_pos(\"ETH\", 100, 2700, 2800)\n",
    "#Sim.add_sgl_pos(\"USDC\", 1.0, 2700, 2800)"
   ]
  },
  {
   "cell_type": "code",
   "execution_count": 16,
   "id": "023a3850",
   "metadata": {},
   "outputs": [
    {
     "name": "stdout",
     "output_type": "stream",
     "text": [
      "[state.orders]\n",
      "+---+----+---------+----------+------------+------------+-------------+-------------+--------------+\n",
      "|   | id |  pair   | tkn_name |   y_int    |     y      |   p_high    |    p_low    | linked_to_id |\n",
      "+---+----+---------+----------+------------+------------+-------------+-------------+--------------+\n",
      "| 0 | 0  | USDCETH |   ETH    | 100.000000 | 100.000000 | 2800.000000 | 2700.000000 |      0       |\n",
      "+---+----+---------+----------+------------+------------+-------------+-------------+--------------+\n",
      "\n",
      "\n",
      "[state.trades]\n",
      "\n"
     ]
    },
    {
     "data": {
      "text/plain": [
       "{'orders':    id     pair tkn_name       y_int           y       p_high        p_low  \\\n",
       " 0   0  USDCETH      ETH  100.000000  100.000000  2800.000000  2700.000000   \n",
       " \n",
       "    linked_to_id  \n",
       " 0             0  ,\n",
       " 'trades': Empty DataFrame\n",
       " Columns: []\n",
       " Index: []}"
      ]
     },
     "execution_count": 16,
     "metadata": {},
     "output_type": "execute_result"
    }
   ],
   "source": [
    "Sim.state()"
   ]
  },
  {
   "cell_type": "code",
   "execution_count": 17,
   "id": "5bc046f1",
   "metadata": {},
   "outputs": [
    {
     "name": "stdout",
     "output_type": "stream",
     "text": [
      "trader buys 100.0 ETH for 274951.8834204014 USDC amm sells 100.0 ETH for 274951.8834204014 USDC via order 0\n",
      "100.0 ETH \n",
      " traded for \n",
      "274951.8834204014 USDC \n",
      "\n",
      "num trade routes=1\n"
     ]
    },
    {
     "data": {
      "text/plain": [
       "{'success': True,\n",
       " 'trades':     id                                            summary   amt1  \\\n",
       " 0  0.1                                      route thru #0  100.0   \n",
       " 0    0  100.0 ETH \\n traded for \\n274951.8834204014 US...  100.0   \n",
       " \n",
       "            amt2 tkn1  tkn2     pair route_indexes  num_trades  \\\n",
       " 0  274951.88342  ETH  USDC  USDCETH             0           1   \n",
       " 0  274951.88342  ETH  USDC  USDCETH           [0]           1   \n",
       " \n",
       "                   price_avg  \n",
       " 0               2749.545417  \n",
       " 0  2749.545417 USDC per ETH  ,\n",
       " 'orders':    id     pair tkn_name       y_int         y       p_high        p_low  \\\n",
       " 0   0  USDCETH      ETH  100.000000  0.000000  2800.000000  2700.000000   \n",
       " \n",
       "    linked_to_id  \n",
       " 0             0  }"
      ]
     },
     "execution_count": 17,
     "metadata": {},
     "output_type": "execute_result"
    }
   ],
   "source": [
    "r = Sim.amm_sells(\"ETH\", 100)\n",
    "r"
   ]
  },
  {
   "cell_type": "code",
   "execution_count": 18,
   "id": "32f2d1c9",
   "metadata": {},
   "outputs": [
    {
     "name": "stdout",
     "output_type": "stream",
     "text": [
      "[state.orders]\n",
      "+---+----+---------+----------+------------+----------+-------------+-------------+--------------+\n",
      "|   | id |  pair   | tkn_name |   y_int    |    y     |   p_high    |    p_low    | linked_to_id |\n",
      "+---+----+---------+----------+------------+----------+-------------+-------------+--------------+\n",
      "| 0 | 0  | USDCETH |   ETH    | 100.000000 | 0.000000 | 2800.000000 | 2700.000000 |      0       |\n",
      "+---+----+---------+----------+------------+----------+-------------+-------------+--------------+\n",
      "\n",
      "\n",
      "[state.trades]\n",
      "+---+-----+------------------------+-------+-------------------+------+------+---------+---------------+------------+--------------------------+\n",
      "|   | id  |        summary         | amt1  |       amt2        | tkn1 | tkn2 |  pair   | route_indexes | num_trades |        price_avg         |\n",
      "+---+-----+------------------------+-------+-------------------+------+------+---------+---------------+------------+--------------------------+\n",
      "| 0 | 0.1 |     route thru #0      | 100.0 | 274951.8834204014 | ETH  | USDC | USDCETH |       0       |     1      |       2749.545417        |\n",
      "| 0 |  0  |       100.0 ETH        | 100.0 | 274951.8834204014 | ETH  | USDC | USDCETH |      [0]      |     1      | 2749.545417 USDC per ETH |\n",
      "|   |     |       traded for       |       |                   |      |      |         |               |            |                          |\n",
      "|   |     | 274951.8834204014 USDC |       |                   |      |      |         |               |            |                          |\n",
      "+---+-----+------------------------+-------+-------------------+------+------+---------+---------------+------------+--------------------------+\n"
     ]
    },
    {
     "data": {
      "text/plain": [
       "{'orders':    id     pair tkn_name       y_int         y       p_high        p_low  \\\n",
       " 0   0  USDCETH      ETH  100.000000  0.000000  2800.000000  2700.000000   \n",
       " \n",
       "    linked_to_id  \n",
       " 0             0  ,\n",
       " 'trades':     id                                            summary   amt1  \\\n",
       " 0  0.1                                      route thru #0  100.0   \n",
       " 0    0  100.0 ETH \\n traded for \\n274951.8834204014 US...  100.0   \n",
       " \n",
       "            amt2 tkn1  tkn2     pair route_indexes  num_trades  \\\n",
       " 0  274951.88342  ETH  USDC  USDCETH             0           1   \n",
       " 0  274951.88342  ETH  USDC  USDCETH           [0]           1   \n",
       " \n",
       "                   price_avg  \n",
       " 0               2749.545417  \n",
       " 0  2749.545417 USDC per ETH  }"
      ]
     },
     "execution_count": 18,
     "metadata": {},
     "output_type": "execute_result"
    }
   ],
   "source": [
    "Sim.state()"
   ]
  },
  {
   "cell_type": "code",
   "execution_count": null,
   "id": "364486d9",
   "metadata": {},
   "outputs": [],
   "source": []
  }
 ],
 "metadata": {
  "jupytext": {
   "formats": "ipynb,py:light"
  },
  "kernelspec": {
   "display_name": "Python 3",
   "language": "python",
   "name": "python3"
  },
  "language_info": {
   "codemirror_mode": {
    "name": "ipython",
    "version": 3
   },
   "file_extension": ".py",
   "mimetype": "text/x-python",
   "name": "python",
   "nbconvert_exporter": "python",
   "pygments_lexer": "ipython3",
   "version": "3.8.8"
  }
 },
 "nbformat": 4,
 "nbformat_minor": 5
}
