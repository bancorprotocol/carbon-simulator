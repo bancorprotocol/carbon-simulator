{
 "cells": [
  {
   "cell_type": "code",
   "execution_count": 1,
   "id": "ed525c67",
   "metadata": {},
   "outputs": [
    {
     "name": "stdout",
     "output_type": "stream",
     "text": [
      "Carbon v2.3.1-BETA2 (29/Jan/2022)\n",
      "CarbonSimulatorUI v2.5 (25/Jan/2023)\n",
      "CarbonOrderUI v1.6.2 (27/Jan/2023)\n"
     ]
    }
   ],
   "source": [
    "from carbon import CarbonSimulatorUI, CarbonOrderUI, P, __version__, __date__\n",
    "from math import sqrt\n",
    "import numpy as np\n",
    "from matplotlib import pyplot as plt\n",
    "print(f\"Carbon v{__version__} ({__date__})\")\n",
    "print(\"{0.__name__} v{0.__VERSION__} ({0.__DATE__})\".format(CarbonSimulatorUI))\n",
    "print(\"{0.__name__} v{0.__VERSION__} ({0.__DATE__})\".format(CarbonOrderUI))"
   ]
  },
  {
   "cell_type": "code",
   "execution_count": 36,
   "id": "f3b52180",
   "metadata": {},
   "outputs": [
    {
     "name": "stdout",
     "output_type": "stream",
     "text": [
      "y=10 pa=0.0005 pb=0.0004 pmarg=0.0005\n",
      "y=10 pa=2000.0 pb=2500.0 pmarg=2000.0\n",
      "y=10 pa=0.0005 pb=0.0004 pmarg=0.0005\n",
      "y=10 pa=2000.0 pb=2500.0 pmarg=2000.0\n",
      "y=10 pa=0.0005 pb=0.0004 pmarg=0.0005\n",
      "y=10 pa=2000.0 pb=2500.0 pmarg=2000.0\n",
      "y=10 pa=0.0005 pb=0.0004 pmarg=0.0005\n",
      "y=10 pa=2000.0 pb=2500.0 pmarg=2000.0\n",
      "y=10 pa=0.0005 pb=0.0004 pmarg=0.0005\n",
      "y=10 pa=2000.0 pb=2500.0 pmarg=2000.0\n"
     ]
    }
   ],
   "source": [
    "orders = []\n",
    "for i in range(5):\n",
    "    orders += [CarbonOrderUI.from_prices(\"USDC/ETH\", \"ETH\", 0.0005, 0.0004, 10, 10)]\n",
    "    orders += [CarbonOrderUI.from_prices(\"ETH/USDC\", \"ETH\", 2000, 2500, 10, 10)]\n",
    "    # orders += [CarbonOrderUI.from_prices(\"ETH/USDC\", \"USDC\", 1500-10*i, 1000-10*i, 1000, 900)]\n",
    "\n",
    "for i in range(len(orders)):\n",
    "    orders[i].id = i\n",
    "\n",
    "# for i in range(len(orders))[1::2]:\n",
    "#     orders[i-1].set_linked(orders[i])\n",
    "#     orders[i].set_linked(orders[i-1])\n",
    "\n",
    "for o in orders:\n",
    "    print(f\"y={o.y} pa={round(o.py,5)} pb={round(o.px,5)} pmarg={round(o.p_marg,5)}\")"
   ]
  },
  {
   "cell_type": "code",
   "execution_count": 3,
   "id": "f3886674",
   "metadata": {},
   "outputs": [
    {
     "data": {
      "text/plain": [
       "[CarbonOrderUI(pair=USDC/ETH, tkn=ETH, B=0.02, S=0.0023606797749978967, yint=10, y=10, id=0, linked=None),\n",
       " CarbonOrderUI(pair=ETH/USDC, tkn=ETH, B=0.02, S=0.0023606797749978967, yint=10, y=10, id=1, linked=None),\n",
       " CarbonOrderUI(pair=USDC/ETH, tkn=ETH, B=0.02, S=0.0023606797749978967, yint=10, y=10, id=2, linked=None),\n",
       " CarbonOrderUI(pair=ETH/USDC, tkn=ETH, B=0.02, S=0.0023606797749978967, yint=10, y=10, id=3, linked=None),\n",
       " CarbonOrderUI(pair=USDC/ETH, tkn=ETH, B=0.02, S=0.0023606797749978967, yint=10, y=10, id=4, linked=None),\n",
       " CarbonOrderUI(pair=ETH/USDC, tkn=ETH, B=0.02, S=0.0023606797749978967, yint=10, y=10, id=5, linked=None),\n",
       " CarbonOrderUI(pair=USDC/ETH, tkn=ETH, B=0.02, S=0.0023606797749978967, yint=10, y=10, id=6, linked=None),\n",
       " CarbonOrderUI(pair=ETH/USDC, tkn=ETH, B=0.02, S=0.0023606797749978967, yint=10, y=10, id=7, linked=None),\n",
       " CarbonOrderUI(pair=USDC/ETH, tkn=ETH, B=0.02, S=0.0023606797749978967, yint=10, y=10, id=8, linked=None),\n",
       " CarbonOrderUI(pair=ETH/USDC, tkn=ETH, B=0.02, S=0.0023606797749978967, yint=10, y=10, id=9, linked=None)]"
      ]
     },
     "execution_count": 3,
     "metadata": {},
     "output_type": "execute_result"
    }
   ],
   "source": [
    "orders"
   ]
  },
  {
   "cell_type": "code",
   "execution_count": 4,
   "id": "3e18c531",
   "metadata": {},
   "outputs": [],
   "source": [
    "ETH_orders = [o for o in orders if o.tkn == 'ETH']\n",
    "USDC_orders = [o for o in orders if o.tkn == 'USDC']"
   ]
  },
  {
   "cell_type": "code",
   "execution_count": 5,
   "id": "06a9fd2a",
   "metadata": {},
   "outputs": [
    {
     "data": {
      "text/plain": [
       "[CarbonOrderUI(pair=USDC/ETH, tkn=ETH, B=0.02, S=0.0023606797749978967, yint=10, y=10, id=0, linked=None),\n",
       " CarbonOrderUI(pair=ETH/USDC, tkn=ETH, B=0.02, S=0.0023606797749978967, yint=10, y=10, id=1, linked=None),\n",
       " CarbonOrderUI(pair=USDC/ETH, tkn=ETH, B=0.02, S=0.0023606797749978967, yint=10, y=10, id=2, linked=None),\n",
       " CarbonOrderUI(pair=ETH/USDC, tkn=ETH, B=0.02, S=0.0023606797749978967, yint=10, y=10, id=3, linked=None),\n",
       " CarbonOrderUI(pair=USDC/ETH, tkn=ETH, B=0.02, S=0.0023606797749978967, yint=10, y=10, id=4, linked=None),\n",
       " CarbonOrderUI(pair=ETH/USDC, tkn=ETH, B=0.02, S=0.0023606797749978967, yint=10, y=10, id=5, linked=None),\n",
       " CarbonOrderUI(pair=USDC/ETH, tkn=ETH, B=0.02, S=0.0023606797749978967, yint=10, y=10, id=6, linked=None),\n",
       " CarbonOrderUI(pair=ETH/USDC, tkn=ETH, B=0.02, S=0.0023606797749978967, yint=10, y=10, id=7, linked=None),\n",
       " CarbonOrderUI(pair=USDC/ETH, tkn=ETH, B=0.02, S=0.0023606797749978967, yint=10, y=10, id=8, linked=None),\n",
       " CarbonOrderUI(pair=ETH/USDC, tkn=ETH, B=0.02, S=0.0023606797749978967, yint=10, y=10, id=9, linked=None)]"
      ]
     },
     "execution_count": 5,
     "metadata": {},
     "output_type": "execute_result"
    }
   ],
   "source": [
    "ETH_orders"
   ]
  },
  {
   "cell_type": "markdown",
   "id": "e13df660",
   "metadata": {},
   "source": [
    "We are now looking at the dy released if we move to 2100. Spoiler: 0, because all positions are already beyond 2100."
   ]
  },
  {
   "cell_type": "code",
   "execution_count": 6,
   "id": "785a27d9",
   "metadata": {},
   "outputs": [
    {
     "data": {
      "text/plain": [
       "[10, 0, 10, 0, 10, 0, 10, 0, 10, 0]"
      ]
     },
     "execution_count": 6,
     "metadata": {},
     "output_type": "execute_result"
    }
   ],
   "source": [
    "[o.dyfromp_f(0.0003) for o in ETH_orders]"
   ]
  },
  {
   "cell_type": "markdown",
   "id": "799f4448",
   "metadata": {},
   "source": [
    "If we go all the way to 3000 we see that all positions release their 5 ETH."
   ]
  },
  {
   "cell_type": "code",
   "execution_count": 7,
   "id": "789712cf",
   "metadata": {},
   "outputs": [
    {
     "data": {
      "text/plain": [
       "[0, 10, 0, 10, 0, 10, 0, 10, 0, 10]"
      ]
     },
     "execution_count": 7,
     "metadata": {},
     "output_type": "execute_result"
    }
   ],
   "source": [
    "[o.dyfromp_f(3000) for o in ETH_orders]"
   ]
  },
  {
   "cell_type": "markdown",
   "id": "d281b70d",
   "metadata": {},
   "source": [
    "For 2300 we see that the first two positions can still get us to 2300. They release 1.39 and 0.40 ETH respectively on the way to 2300"
   ]
  },
  {
   "cell_type": "code",
   "execution_count": 8,
   "id": "96b73244",
   "metadata": {},
   "outputs": [
    {
     "data": {
      "text/plain": [
       "[0,\n",
       " 6.3932363265651535,\n",
       " 0,\n",
       " 6.3932363265651535,\n",
       " 0,\n",
       " 6.3932363265651535,\n",
       " 0,\n",
       " 6.3932363265651535,\n",
       " 0,\n",
       " 6.3932363265651535]"
      ]
     },
     "execution_count": 8,
     "metadata": {},
     "output_type": "execute_result"
    }
   ],
   "source": [
    "[o.dyfromp_f(2300) for o in ETH_orders]"
   ]
  },
  {
   "cell_type": "markdown",
   "id": "7138b6c6",
   "metadata": {},
   "source": [
    "For 2500, the first 6 positions release ETH"
   ]
  },
  {
   "cell_type": "code",
   "execution_count": 9,
   "id": "c33112d3",
   "metadata": {},
   "outputs": [
    {
     "data": {
      "text/plain": [
       "[0, 10.0, 0, 10.0, 0, 10.0, 0, 10.0, 0, 10.0]"
      ]
     },
     "execution_count": 9,
     "metadata": {},
     "output_type": "execute_result"
    }
   ],
   "source": [
    "[o.dyfromp_f(2500) for o in ETH_orders]"
   ]
  },
  {
   "cell_type": "markdown",
   "id": "7ee29d2a",
   "metadata": {},
   "source": [
    "We define `dy_f` as the aggregate ETH released from all positions here"
   ]
  },
  {
   "cell_type": "code",
   "execution_count": 10,
   "id": "347f53f7",
   "metadata": {},
   "outputs": [],
   "source": [
    "dy_f = lambda p: sum(o.dyfromp_f(p) for o in ETH_orders)"
   ]
  },
  {
   "cell_type": "markdown",
   "id": "45b3cb94",
   "metadata": {},
   "source": [
    "The corresponding USDC inflow can be computed thus"
   ]
  },
  {
   "cell_type": "code",
   "execution_count": 11,
   "id": "81d2ffb9",
   "metadata": {},
   "outputs": [],
   "source": [
    "dx_f = lambda p: sum(o.dxfromdy_f(o.dyfromp_f(p)) for o in ETH_orders)"
   ]
  },
  {
   "cell_type": "markdown",
   "id": "acd45ab5",
   "metadata": {},
   "source": [
    "Going back to the routing problem we want to solve is that we have an aggregate release, say `15`, and we want the price; this we can do with goalseek"
   ]
  },
  {
   "cell_type": "code",
   "execution_count": 12,
   "id": "8c6329e6",
   "metadata": {},
   "outputs": [
    {
     "data": {
      "text/plain": [
       "2132.970690727234"
      ]
     },
     "execution_count": 12,
     "metadata": {},
     "output_type": "execute_result"
    }
   ],
   "source": [
    "p_goal = CarbonOrderUI.goalseek(lambda p: dy_f(p)-15, 2000, 3000)\n",
    "p_goal"
   ]
  },
  {
   "cell_type": "markdown",
   "id": "4b1e4064",
   "metadata": {},
   "source": [
    "The contribution of the positions at this price -- aka the **routing** -- is as follows"
   ]
  },
  {
   "cell_type": "code",
   "execution_count": 13,
   "id": "a1e92d5b",
   "metadata": {},
   "outputs": [
    {
     "data": {
      "text/plain": [
       "[0,\n",
       " 3.0000014036457747,\n",
       " 0,\n",
       " 3.0000014036457747,\n",
       " 0,\n",
       " 3.0000014036457747,\n",
       " 0,\n",
       " 3.0000014036457747,\n",
       " 0,\n",
       " 3.0000014036457747]"
      ]
     },
     "execution_count": 13,
     "metadata": {},
     "output_type": "execute_result"
    }
   ],
   "source": [
    "rl1 = [o.dyfromp_f(p_goal) for o in ETH_orders]\n",
    "rl1"
   ]
  },
  {
   "cell_type": "markdown",
   "id": "1d93d34c",
   "metadata": {},
   "source": [
    "We can check that we routed indeed 15 ETH (the slight discrepancy is probably mostly related to goalseek precision)"
   ]
  },
  {
   "cell_type": "code",
   "execution_count": 14,
   "id": "527e7dfc",
   "metadata": {},
   "outputs": [
    {
     "data": {
      "text/plain": [
       "15.000007018228875"
      ]
     },
     "execution_count": 14,
     "metadata": {},
     "output_type": "execute_result"
    }
   ],
   "source": [
    "sum([o.dyfromp_f(p_goal) for o in ETH_orders])"
   ]
  },
  {
   "cell_type": "code",
   "execution_count": 15,
   "id": "f696005b",
   "metadata": {},
   "outputs": [],
   "source": [
    "# route by target"
   ]
  },
  {
   "cell_type": "code",
   "execution_count": 16,
   "id": "501a6096",
   "metadata": {},
   "outputs": [
    {
     "data": {
      "text/plain": [
       "2146.1797723420896"
      ]
     },
     "execution_count": 16,
     "metadata": {},
     "output_type": "execute_result"
    }
   ],
   "source": [
    "amount = 34005.424509\n",
    "p_goal = CarbonOrderUI.goalseek(lambda p: dx_f(p)-amount, 1, 400000)\n",
    "p_goal"
   ]
  },
  {
   "cell_type": "code",
   "execution_count": 17,
   "id": "0d126deb",
   "metadata": {},
   "outputs": [
    {
     "data": {
      "text/plain": [
       "[0,\n",
       " 3.2826955348229188,\n",
       " 0,\n",
       " 3.2826955348229188,\n",
       " 0,\n",
       " 3.2826955348229188,\n",
       " 0,\n",
       " 3.2826955348229188,\n",
       " 0,\n",
       " 3.2826955348229188]"
      ]
     },
     "execution_count": 17,
     "metadata": {},
     "output_type": "execute_result"
    }
   ],
   "source": [
    "rl1 = [o.dyfromp_f(p_goal) for o in ETH_orders]\n",
    "rl1"
   ]
  },
  {
   "cell_type": "code",
   "execution_count": 18,
   "id": "ca5d8e73",
   "metadata": {},
   "outputs": [
    {
     "data": {
      "text/plain": [
       "16.413477674114596"
      ]
     },
     "execution_count": 18,
     "metadata": {},
     "output_type": "execute_result"
    }
   ],
   "source": [
    "sum(rl1)"
   ]
  },
  {
   "cell_type": "code",
   "execution_count": 19,
   "id": "a14315e9",
   "metadata": {},
   "outputs": [],
   "source": [
    "# ETH_orders[0].selly(rl1[0])"
   ]
  },
  {
   "cell_type": "code",
   "execution_count": 20,
   "id": "a14315e9",
   "metadata": {},
   "outputs": [
    {
     "data": {
      "text/plain": [
       "{'action': 'bytarget[buyx]',\n",
       " 'executed': False,\n",
       " 'y_old': 10,\n",
       " 'y': 10,\n",
       " 'dy': 0,\n",
       " 'yint_old': None,\n",
       " 'y_int': 10,\n",
       " 'expanded': False,\n",
       " 'x': 0.0,\n",
       " 'dx': 0.0,\n",
       " 'tkny': 'ETH',\n",
       " 'tknx': 'USDC',\n",
       " 'tx': 'Buy 0 ETH sell USDC',\n",
       " 'dx/dy': None,\n",
       " 'dy/dx': None,\n",
       " 'pmarg_old': 0.0005,\n",
       " 'pmarg': 0.0005,\n",
       " 'linked': None,\n",
       " 'p': None}"
      ]
     },
     "execution_count": 20,
     "metadata": {},
     "output_type": "execute_result"
    }
   ],
   "source": [
    "ETH_orders[0].buyx(rl1[0])"
   ]
  },
  {
   "cell_type": "code",
   "execution_count": 21,
   "id": "e901bea0",
   "metadata": {},
   "outputs": [],
   "source": [
    "# orders"
   ]
  },
  {
   "cell_type": "code",
   "execution_count": 22,
   "id": "0e9b93ed",
   "metadata": {},
   "outputs": [],
   "source": [
    "# USDC_orders[0].buyx(rl1[0])"
   ]
  },
  {
   "cell_type": "code",
   "execution_count": 23,
   "id": "e901bea0",
   "metadata": {},
   "outputs": [],
   "source": [
    "# orders"
   ]
  },
  {
   "cell_type": "code",
   "execution_count": 26,
   "id": "6e91e4bd",
   "metadata": {},
   "outputs": [
    {
     "data": {
      "text/html": [
       "<div>\n",
       "<style scoped>\n",
       "    .dataframe tbody tr th:only-of-type {\n",
       "        vertical-align: middle;\n",
       "    }\n",
       "\n",
       "    .dataframe tbody tr th {\n",
       "        vertical-align: top;\n",
       "    }\n",
       "\n",
       "    .dataframe thead th {\n",
       "        text-align: right;\n",
       "    }\n",
       "</style>\n",
       "<table border=\"1\" class=\"dataframe\">\n",
       "  <thead>\n",
       "    <tr style=\"text-align: right;\">\n",
       "      <th></th>\n",
       "      <th>id</th>\n",
       "      <th>pair</th>\n",
       "      <th>tkn</th>\n",
       "      <th>y_int</th>\n",
       "      <th>y</th>\n",
       "      <th>y_unit</th>\n",
       "      <th>disabled</th>\n",
       "      <th>p_start</th>\n",
       "      <th>p_end</th>\n",
       "      <th>p_marg</th>\n",
       "      <th>p_unit</th>\n",
       "      <th>lid</th>\n",
       "    </tr>\n",
       "  </thead>\n",
       "  <tbody>\n",
       "    <tr>\n",
       "      <th>0</th>\n",
       "      <td>0</td>\n",
       "      <td>ETHUSDC</td>\n",
       "      <td>ETH</td>\n",
       "      <td>10.0</td>\n",
       "      <td>10.0</td>\n",
       "      <td>ETH</td>\n",
       "      <td>False</td>\n",
       "      <td>2000.0</td>\n",
       "      <td>2500.0</td>\n",
       "      <td>2000.0</td>\n",
       "      <td>USDC per ETH</td>\n",
       "      <td>1</td>\n",
       "    </tr>\n",
       "    <tr>\n",
       "      <th>2</th>\n",
       "      <td>2</td>\n",
       "      <td>ETHUSDC</td>\n",
       "      <td>ETH</td>\n",
       "      <td>10.0</td>\n",
       "      <td>10.0</td>\n",
       "      <td>ETH</td>\n",
       "      <td>False</td>\n",
       "      <td>2000.0</td>\n",
       "      <td>2500.0</td>\n",
       "      <td>2000.0</td>\n",
       "      <td>USDC per ETH</td>\n",
       "      <td>3</td>\n",
       "    </tr>\n",
       "    <tr>\n",
       "      <th>4</th>\n",
       "      <td>4</td>\n",
       "      <td>ETHUSDC</td>\n",
       "      <td>ETH</td>\n",
       "      <td>10.0</td>\n",
       "      <td>10.0</td>\n",
       "      <td>ETH</td>\n",
       "      <td>False</td>\n",
       "      <td>2000.0</td>\n",
       "      <td>2500.0</td>\n",
       "      <td>2000.0</td>\n",
       "      <td>USDC per ETH</td>\n",
       "      <td>5</td>\n",
       "    </tr>\n",
       "    <tr>\n",
       "      <th>6</th>\n",
       "      <td>6</td>\n",
       "      <td>ETHUSDC</td>\n",
       "      <td>ETH</td>\n",
       "      <td>10.0</td>\n",
       "      <td>10.0</td>\n",
       "      <td>ETH</td>\n",
       "      <td>False</td>\n",
       "      <td>2000.0</td>\n",
       "      <td>2500.0</td>\n",
       "      <td>2000.0</td>\n",
       "      <td>USDC per ETH</td>\n",
       "      <td>7</td>\n",
       "    </tr>\n",
       "    <tr>\n",
       "      <th>8</th>\n",
       "      <td>8</td>\n",
       "      <td>ETHUSDC</td>\n",
       "      <td>ETH</td>\n",
       "      <td>10.0</td>\n",
       "      <td>10.0</td>\n",
       "      <td>ETH</td>\n",
       "      <td>False</td>\n",
       "      <td>2000.0</td>\n",
       "      <td>2500.0</td>\n",
       "      <td>2000.0</td>\n",
       "      <td>USDC per ETH</td>\n",
       "      <td>9</td>\n",
       "    </tr>\n",
       "  </tbody>\n",
       "</table>\n",
       "</div>"
      ],
      "text/plain": [
       "   id     pair  tkn  y_int     y y_unit  disabled p_start   p_end  p_marg  \\\n",
       "0   0  ETHUSDC  ETH   10.0  10.0    ETH     False  2000.0  2500.0  2000.0   \n",
       "2   2  ETHUSDC  ETH   10.0  10.0    ETH     False  2000.0  2500.0  2000.0   \n",
       "4   4  ETHUSDC  ETH   10.0  10.0    ETH     False  2000.0  2500.0  2000.0   \n",
       "6   6  ETHUSDC  ETH   10.0  10.0    ETH     False  2000.0  2500.0  2000.0   \n",
       "8   8  ETHUSDC  ETH   10.0  10.0    ETH     False  2000.0  2500.0  2000.0   \n",
       "\n",
       "         p_unit  lid  \n",
       "0  USDC per ETH    1  \n",
       "2  USDC per ETH    3  \n",
       "4  USDC per ETH    5  \n",
       "6  USDC per ETH    7  \n",
       "8  USDC per ETH    9  "
      ]
     },
     "execution_count": 26,
     "metadata": {},
     "output_type": "execute_result"
    }
   ],
   "source": [
    "Sim = CarbonSimulatorUI(pair=\"ETH/USDC\", verbose=False, raiseonerror=True)\n",
    "\n",
    "for i in range(len(orders))[1::2]:\n",
    "    Sim.add_strategy(\n",
    "        tkn='ETH',\n",
    "        amt_sell=orders[i].y,\n",
    "        psell_start=orders[i].p_start,\n",
    "        psell_end=orders[i].p_end,\n",
    "        psell_marginal=orders[i].p_marg,\n",
    "        # amt_buy=orders[i+1].y,\n",
    "        # pbuy_start=orders[i+1].p_start,\n",
    "        # pbuy_end=orders[i+1].p_end,\n",
    "        # pbuy_marginal=orders[i+1].p_marg,\n",
    "        )\n",
    "Sim.state()['orders'].query(\"disabled==False\")"
   ]
  },
  {
   "cell_type": "code",
   "execution_count": 27,
   "id": "6e91e4bd",
   "metadata": {},
   "outputs": [
    {
     "data": {
      "text/html": [
       "<div>\n",
       "<style scoped>\n",
       "    .dataframe tbody tr th:only-of-type {\n",
       "        vertical-align: middle;\n",
       "    }\n",
       "\n",
       "    .dataframe tbody tr th {\n",
       "        vertical-align: top;\n",
       "    }\n",
       "\n",
       "    .dataframe thead th {\n",
       "        text-align: right;\n",
       "    }\n",
       "</style>\n",
       "<table border=\"1\" class=\"dataframe\">\n",
       "  <thead>\n",
       "    <tr style=\"text-align: right;\">\n",
       "      <th></th>\n",
       "      <th>id</th>\n",
       "      <th>pair</th>\n",
       "      <th>tkn</th>\n",
       "      <th>y_int</th>\n",
       "      <th>y</th>\n",
       "      <th>y_unit</th>\n",
       "      <th>disabled</th>\n",
       "      <th>p_start</th>\n",
       "      <th>p_end</th>\n",
       "      <th>p_marg</th>\n",
       "      <th>p_unit</th>\n",
       "      <th>lid</th>\n",
       "    </tr>\n",
       "  </thead>\n",
       "  <tbody>\n",
       "    <tr>\n",
       "      <th>0</th>\n",
       "      <td>0</td>\n",
       "      <td>USDCETH</td>\n",
       "      <td>ETH</td>\n",
       "      <td>10.0</td>\n",
       "      <td>10.0</td>\n",
       "      <td>ETH</td>\n",
       "      <td>False</td>\n",
       "      <td>0.0005</td>\n",
       "      <td>0.0004</td>\n",
       "      <td>0.0005</td>\n",
       "      <td>ETH per USDC</td>\n",
       "      <td>1</td>\n",
       "    </tr>\n",
       "    <tr>\n",
       "      <th>2</th>\n",
       "      <td>2</td>\n",
       "      <td>USDCETH</td>\n",
       "      <td>ETH</td>\n",
       "      <td>10.0</td>\n",
       "      <td>10.0</td>\n",
       "      <td>ETH</td>\n",
       "      <td>False</td>\n",
       "      <td>0.0005</td>\n",
       "      <td>0.0004</td>\n",
       "      <td>0.0005</td>\n",
       "      <td>ETH per USDC</td>\n",
       "      <td>3</td>\n",
       "    </tr>\n",
       "    <tr>\n",
       "      <th>4</th>\n",
       "      <td>4</td>\n",
       "      <td>USDCETH</td>\n",
       "      <td>ETH</td>\n",
       "      <td>10.0</td>\n",
       "      <td>10.0</td>\n",
       "      <td>ETH</td>\n",
       "      <td>False</td>\n",
       "      <td>0.0005</td>\n",
       "      <td>0.0004</td>\n",
       "      <td>0.0005</td>\n",
       "      <td>ETH per USDC</td>\n",
       "      <td>5</td>\n",
       "    </tr>\n",
       "    <tr>\n",
       "      <th>6</th>\n",
       "      <td>6</td>\n",
       "      <td>USDCETH</td>\n",
       "      <td>ETH</td>\n",
       "      <td>10.0</td>\n",
       "      <td>10.0</td>\n",
       "      <td>ETH</td>\n",
       "      <td>False</td>\n",
       "      <td>0.0005</td>\n",
       "      <td>0.0004</td>\n",
       "      <td>0.0005</td>\n",
       "      <td>ETH per USDC</td>\n",
       "      <td>7</td>\n",
       "    </tr>\n",
       "    <tr>\n",
       "      <th>8</th>\n",
       "      <td>8</td>\n",
       "      <td>USDCETH</td>\n",
       "      <td>ETH</td>\n",
       "      <td>10.0</td>\n",
       "      <td>10.0</td>\n",
       "      <td>ETH</td>\n",
       "      <td>False</td>\n",
       "      <td>0.0005</td>\n",
       "      <td>0.0004</td>\n",
       "      <td>0.0005</td>\n",
       "      <td>ETH per USDC</td>\n",
       "      <td>9</td>\n",
       "    </tr>\n",
       "  </tbody>\n",
       "</table>\n",
       "</div>"
      ],
      "text/plain": [
       "   id     pair  tkn  y_int     y y_unit  disabled p_start   p_end  p_marg  \\\n",
       "0   0  USDCETH  ETH   10.0  10.0    ETH     False  0.0005  0.0004  0.0005   \n",
       "2   2  USDCETH  ETH   10.0  10.0    ETH     False  0.0005  0.0004  0.0005   \n",
       "4   4  USDCETH  ETH   10.0  10.0    ETH     False  0.0005  0.0004  0.0005   \n",
       "6   6  USDCETH  ETH   10.0  10.0    ETH     False  0.0005  0.0004  0.0005   \n",
       "8   8  USDCETH  ETH   10.0  10.0    ETH     False  0.0005  0.0004  0.0005   \n",
       "\n",
       "         p_unit  lid  \n",
       "0  ETH per USDC    1  \n",
       "2  ETH per USDC    3  \n",
       "4  ETH per USDC    5  \n",
       "6  ETH per USDC    7  \n",
       "8  ETH per USDC    9  "
      ]
     },
     "execution_count": 27,
     "metadata": {},
     "output_type": "execute_result"
    }
   ],
   "source": [
    "Sim = CarbonSimulatorUI(pair=\"USDC/ETH\", verbose=False, raiseonerror=True)\n",
    "\n",
    "for i in range(len(orders))[::2]:\n",
    "    Sim.add_strategy(\n",
    "        tkn='ETH',\n",
    "        amt_sell=orders[i].y,\n",
    "        psell_start=orders[i].p_start,\n",
    "        psell_end=orders[i].p_end,\n",
    "        psell_marginal=orders[i].p_marg,\n",
    "        # amt_buy=orders[i+1].y,\n",
    "        # pbuy_start=orders[i+1].p_start,\n",
    "        # pbuy_end=orders[i+1].p_end,\n",
    "        # pbuy_marginal=orders[i+1].p_marg,\n",
    "        )\n",
    "Sim.state()['orders'].query(\"disabled==False\")"
   ]
  },
  {
   "cell_type": "code",
   "execution_count": 32,
   "id": "3fde159f",
   "metadata": {},
   "outputs": [
    {
     "data": {
      "text/plain": [
       "Order(B=0.02, S=0.0023606797749978967, y_int=Decimal('10'), p_high=Decimal('0.0005000000000000000104083408558608425664715468883514404296875'), p_low=Decimal('0.0004000000000000000191686944095437183932517655193805694580078125'), p_marginal=Decimal('0.0005000000000000000104083408558608425664715468883514404296875'), disabled=False, _y=Decimal('10'), D=Decimal('10'), _C=Decimal('10'), pair=P('USDC/ETH'), tkn='ETH', pair_name='USDCETH', adj_n_mode=False, auto_convert_variables=True, id=0, linked_to_id=1, _reverseq=False, verbose=False)"
      ]
     },
     "execution_count": 32,
     "metadata": {},
     "output_type": "execute_result"
    }
   ],
   "source": [
    "Sim.orders[0]"
   ]
  },
  {
   "cell_type": "code",
   "execution_count": 33,
   "id": "6bebede3",
   "metadata": {},
   "outputs": [],
   "source": [
    "from decimal import Decimal"
   ]
  },
  {
   "cell_type": "code",
   "execution_count": 35,
   "id": "293397ad",
   "metadata": {},
   "outputs": [
    {
     "data": {
      "text/plain": [
       "Decimal('0.00049999999999999998818945848942387089')"
      ]
     },
     "execution_count": 35,
     "metadata": {},
     "output_type": "execute_result"
    }
   ],
   "source": [
    "(Decimal('0.0023606797749978967') + Decimal('0.02'))**2"
   ]
  },
  {
   "cell_type": "code",
   "execution_count": null,
   "id": "17cbb74e",
   "metadata": {},
   "outputs": [],
   "source": [
    "r = Sim.amm_sells('ETH', 15, execute=False)['trades']\n",
    "r"
   ]
  },
  {
   "cell_type": "code",
   "execution_count": null,
   "id": "17cbb74e",
   "metadata": {},
   "outputs": [],
   "source": [
    "r = Sim.amm_buys('USDC', 35874.576383, execute=False)['trades']\n",
    "r"
   ]
  },
  {
   "cell_type": "markdown",
   "id": "a5017bed",
   "metadata": {},
   "source": [
    "Below `rl2` is the route list obtained through routing, and `rl1` the original one. We see they are extremely close."
   ]
  },
  {
   "cell_type": "code",
   "execution_count": null,
   "id": "7041a1c7",
   "metadata": {
    "lines_to_next_cell": 2
   },
   "outputs": [],
   "source": [
    "rl2 = list(r.query(\"aggr==False\")[\"amt1\"])\n",
    "rl2"
   ]
  },
  {
   "cell_type": "code",
   "execution_count": null,
   "id": "9d4721c4",
   "metadata": {},
   "outputs": [],
   "source": [
    "rl1[:len(rl2)]"
   ]
  },
  {
   "cell_type": "code",
   "execution_count": null,
   "id": "42a6e4fc",
   "metadata": {},
   "outputs": [],
   "source": [
    "[x2-x1 for x1,x2 in zip(rl1, rl2)]"
   ]
  },
  {
   "cell_type": "code",
   "execution_count": null,
   "id": "3dfeb15b",
   "metadata": {},
   "outputs": [],
   "source": [
    "Sim.amm_sells('USDC', 15, execute=False)['trades']"
   ]
  }
 ],
 "metadata": {
  "jupytext": {
   "formats": "ipynb,py:light"
  },
  "kernelspec": {
   "display_name": "Python 3",
   "language": "python",
   "name": "python3"
  },
  "language_info": {
   "codemirror_mode": {
    "name": "ipython",
    "version": 3
   },
   "file_extension": ".py",
   "mimetype": "text/x-python",
   "name": "python",
   "nbconvert_exporter": "python",
   "pygments_lexer": "ipython3",
   "version": "3.10.8"
  },
  "vscode": {
   "interpreter": {
    "hash": "43f221103f953d3e0d93840edd77be981e5a5e0e42edc048e3de5278c46a3390"
   }
  }
 },
 "nbformat": 4,
 "nbformat_minor": 5
}
