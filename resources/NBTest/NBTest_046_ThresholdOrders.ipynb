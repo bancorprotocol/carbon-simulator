{
 "cells": [
  {
   "cell_type": "code",
   "execution_count": null,
   "id": "13b1d759",
   "metadata": {},
   "outputs": [],
   "source": [
    "from carbon import CarbonSimulatorUI, __version__, __date__\n",
    "print(f\"Carbon Version v{__version__} ({__date__})\", )"
   ]
  },
  {
   "cell_type": "markdown",
   "id": "a843d504",
   "metadata": {},
   "source": [
    "# ThresholdOrdersUsePos (NBTest 46)"
   ]
  },
  {
   "cell_type": "markdown",
   "id": "8216c7da",
   "metadata": {},
   "source": [
    "NBTEST: NOTEST_DEFAULT = TEST"
   ]
  },
  {
   "cell_type": "markdown",
   "id": "a8ebed98",
   "metadata": {},
   "source": [
    "## ThresholdOrdersUsePos"
   ]
  },
  {
   "cell_type": "code",
   "execution_count": null,
   "id": "56b96dcb",
   "metadata": {},
   "outputs": [],
   "source": [
    "Sim = CarbonSimulatorUI(pair=\"ETH/USDC\", verbose=False)\n",
    "AlphaSim = CarbonSimulatorUI(pair=\"ETH/USDC\", verbose=False, matching_method=CarbonSimulatorUI.MATCH_ALPHA)"
   ]
  },
  {
   "cell_type": "code",
   "execution_count": null,
   "id": "0fb23b21",
   "metadata": {},
   "outputs": [],
   "source": [
    "strat = ['ETH', 10, 2000, 2500, 1000, 2800, 2700]\n",
    "for _ in range(10):\n",
    "    Sim.add_strategy(*strat)\n",
    "    AlphaSim.add_strategy(*strat)\n",
    "\n",
    "for _ in range(3):\n",
    "    Sim.add_strategy('ETH', 0.1, 1950, 1950, 1, 2750, 2750)\n",
    "    AlphaSim.add_strategy('ETH', 0.1, 1950, 1950, 1, 2750, 2750)\n",
    "\n",
    "#Sim.state()['orders']\n",
    "AlphaSim.state()['orders']"
   ]
  },
  {
   "cell_type": "code",
   "execution_count": null,
   "id": "9042b056",
   "metadata": {},
   "outputs": [],
   "source": [
    "# set test amounts\n",
    "usdc_trade_amount = 1000\n",
    "eth_trade_amount = 0.5"
   ]
  },
  {
   "cell_type": "markdown",
   "id": "8206f0b1",
   "metadata": {},
   "source": [
    "### Route by Source"
   ]
  },
  {
   "cell_type": "markdown",
   "id": "9eb71833",
   "metadata": {},
   "source": [
    "#### AMM buys USDC"
   ]
  },
  {
   "cell_type": "code",
   "execution_count": null,
   "id": "1db4129e",
   "metadata": {},
   "outputs": [],
   "source": [
    "threshold_orders=4\n",
    "use_positions=[0, 22, 24]"
   ]
  },
  {
   "cell_type": "code",
   "execution_count": null,
   "id": "1111cb0a",
   "metadata": {},
   "outputs": [],
   "source": [
    "Sim.amm_buys('USDC',usdc_trade_amount, execute=False)['trades']  # route_trade_by_source"
   ]
  },
  {
   "cell_type": "code",
   "execution_count": null,
   "id": "07bdad2c",
   "metadata": {},
   "outputs": [],
   "source": [
    "r = AlphaSim.amm_buys('USDC',usdc_trade_amount, execute=False, threshold_orders=threshold_orders)['trades']  # route_trade_by_source\n",
    "# threshold orders is only utilized on the alpha router\n",
    "# check that the maximum number of orders used is less than or equal to the number of threshold orders\n",
    "assert(len(r.query('subid!=\"A\"')) <= threshold_orders)\n",
    "r"
   ]
  },
  {
   "cell_type": "code",
   "execution_count": null,
   "id": "1a41e1e0",
   "metadata": {},
   "outputs": [],
   "source": [
    "r = Sim.amm_buys('USDC',usdc_trade_amount, execute=False, use_positions=use_positions)['trades']  # route_trade_by_source\n",
    "# use_positions is used on any router\n",
    "# check that the maximum number of orders used is less than or equal to the number of use_positions\n",
    "assert(len(r.query('subid!=\"A\"')) <= len(use_positions))\n",
    "r"
   ]
  },
  {
   "cell_type": "code",
   "execution_count": null,
   "id": "e0f6d79c",
   "metadata": {},
   "outputs": [],
   "source": [
    "r = AlphaSim.amm_buys('USDC',usdc_trade_amount, execute=False, threshold_orders=threshold_orders, use_positions=use_positions)['trades']  # route_trade_by_source\n",
    "# thus both use_positions and threshold should apply for alpha router\n",
    "assert(len(r.query('subid!=\"A\"')) <= threshold_orders)\n",
    "assert(len(r.query('subid!=\"A\"')) <= len(use_positions))\n",
    "r"
   ]
  },
  {
   "cell_type": "markdown",
   "id": "29050ab5",
   "metadata": {},
   "source": [
    "#### AMM buys ETH"
   ]
  },
  {
   "cell_type": "code",
   "execution_count": null,
   "id": "9b85c7a5",
   "metadata": {},
   "outputs": [],
   "source": [
    "threshold_orders=4\n",
    "use_positions=[1, 13, 19]"
   ]
  },
  {
   "cell_type": "code",
   "execution_count": null,
   "id": "0d0c80b2",
   "metadata": {},
   "outputs": [],
   "source": [
    "Sim.amm_buys('ETH',eth_trade_amount, execute=False)['trades']  # route_trade_by_source"
   ]
  },
  {
   "cell_type": "code",
   "execution_count": null,
   "id": "7d87d953",
   "metadata": {},
   "outputs": [],
   "source": [
    "r = AlphaSim.amm_buys('ETH',eth_trade_amount, execute=False, threshold_orders=threshold_orders)['trades']  # route_trade_by_source\n",
    "# threshold orders is only utilized on the alpha router\n",
    "# check that the maximum number of orders used is less than or equal to the number of threshold orders\n",
    "assert(len(r.query('subid!=\"A\"')) <= threshold_orders)\n",
    "r"
   ]
  },
  {
   "cell_type": "code",
   "execution_count": null,
   "id": "3bbcea5a",
   "metadata": {},
   "outputs": [],
   "source": [
    "r = Sim.amm_buys('ETH',eth_trade_amount, execute=False, use_positions=use_positions)['trades']  # route_trade_by_source\n",
    "# use_positions is used on any router\n",
    "# check that the maximum number of orders used is less than or equal to the number of use_positions\n",
    "assert(len(r.query('subid!=\"A\"')) <= len(use_positions))\n",
    "r"
   ]
  },
  {
   "cell_type": "code",
   "execution_count": null,
   "id": "091f5d90",
   "metadata": {},
   "outputs": [],
   "source": [
    "r = AlphaSim.amm_buys('ETH',eth_trade_amount, execute=False, threshold_orders=threshold_orders, use_positions=use_positions)['trades']  # route_trade_by_source\n",
    "# thus both use_positions and threshold should apply for alpha router\n",
    "assert(len(r.query('subid!=\"A\"')) <= threshold_orders)\n",
    "assert(len(r.query('subid!=\"A\"')) <= len(use_positions))\n",
    "r"
   ]
  },
  {
   "cell_type": "markdown",
   "id": "bad6c38f",
   "metadata": {},
   "source": [
    "### Route by Target"
   ]
  },
  {
   "cell_type": "markdown",
   "id": "47230b2d",
   "metadata": {},
   "source": [
    "#### AMM sells USDC"
   ]
  },
  {
   "cell_type": "markdown",
   "id": "97d147dd",
   "metadata": {},
   "source": [
    "First we test the standard simulator which should route through all 5 positions"
   ]
  },
  {
   "cell_type": "code",
   "execution_count": null,
   "id": "37b3dc31",
   "metadata": {},
   "outputs": [],
   "source": [
    "Sim.amm_sells('USDC',usdc_trade_amount, execute=False)['trades']  # route_trade_by_target"
   ]
  },
  {
   "cell_type": "markdown",
   "id": "07a38a22",
   "metadata": {},
   "source": [
    "Then we can set a threshold on the number of orders using the AlphaSim"
   ]
  },
  {
   "cell_type": "code",
   "execution_count": null,
   "id": "03baef0f",
   "metadata": {},
   "outputs": [],
   "source": [
    "r = AlphaSim.amm_sells('USDC',usdc_trade_amount, execute=False, threshold_orders=threshold_orders)['trades']  # route_trade_by_source\n",
    "# threshold orders is only utilized on the alpha router\n",
    "# check that the maximum number of orders used is less than or equal to the number of threshold orders\n",
    "assert(len(r.query('subid!=\"A\"')) <= threshold_orders)\n",
    "r"
   ]
  },
  {
   "cell_type": "code",
   "execution_count": null,
   "id": "23731ecd",
   "metadata": {},
   "outputs": [],
   "source": [
    "r = Sim.amm_sells('USDC',usdc_trade_amount, execute=False, use_positions=use_positions)['trades']  # route_trade_by_source\n",
    "# use_positions is used on any router\n",
    "# check that the maximum number of orders used is less than or equal to the number of use_positions\n",
    "assert(len(r.query('subid!=\"A\"')) <= len(use_positions))\n",
    "r"
   ]
  },
  {
   "cell_type": "code",
   "execution_count": null,
   "id": "102d3c8b",
   "metadata": {},
   "outputs": [],
   "source": [
    "r = AlphaSim.amm_sells('USDC',usdc_trade_amount, execute=False, threshold_orders=threshold_orders, use_positions=use_positions)['trades']  # route_trade_by_source\n",
    "# thus both use_positions and threshold should apply for alpha router\n",
    "assert(len(r.query('subid!=\"A\"')) <= threshold_orders)\n",
    "assert(len(r.query('subid!=\"A\"')) <= len(use_positions))\n",
    "r"
   ]
  },
  {
   "cell_type": "markdown",
   "id": "5d82de1c",
   "metadata": {},
   "source": [
    "#### AMM sells ETH"
   ]
  },
  {
   "cell_type": "code",
   "execution_count": null,
   "id": "1c7bb0b8",
   "metadata": {},
   "outputs": [],
   "source": [
    "threshold_orders=4\n",
    "use_positions=[0, 22, 24]"
   ]
  },
  {
   "cell_type": "code",
   "execution_count": null,
   "id": "6531190c",
   "metadata": {},
   "outputs": [],
   "source": [
    "Sim.amm_sells('ETH',eth_trade_amount, execute=False)['trades']  # route_trade_by_target"
   ]
  },
  {
   "cell_type": "code",
   "execution_count": null,
   "id": "9d5f4d8b",
   "metadata": {},
   "outputs": [],
   "source": [
    "r = AlphaSim.amm_sells('ETH',eth_trade_amount, execute=False, threshold_orders = threshold_orders)['trades'] # route_trade_by_target\n",
    "# threshold orders is only utilized on the alpha router\n",
    "# check that the maximum number of orders used is less than or equal to the number of threshold orders\n",
    "assert(len(r.query('subid!=\"A\"')) <= threshold_orders)\n",
    "r"
   ]
  },
  {
   "cell_type": "code",
   "execution_count": null,
   "id": "812003d1",
   "metadata": {},
   "outputs": [],
   "source": [
    "r = Sim.amm_sells('ETH',eth_trade_amount, execute=False, use_positions=use_positions)['trades']  # route_trade_by_source\n",
    "# use_positions is used on any router\n",
    "# check that the maximum number of orders used is less than or equal to the number of use_positions\n",
    "assert(len(r.query('subid!=\"A\"')) <= len(use_positions))\n",
    "r"
   ]
  },
  {
   "cell_type": "code",
   "execution_count": null,
   "id": "5bb9d810",
   "metadata": {},
   "outputs": [],
   "source": [
    "r = AlphaSim.amm_sells('ETH',eth_trade_amount, execute=False, threshold_orders=threshold_orders, use_positions=use_positions)['trades']  # route_trade_by_source\n",
    "# thus both use_positions and threshold should apply for alpha router\n",
    "assert(len(r.query('subid!=\"A\"')) <= threshold_orders)\n",
    "assert(len(r.query('subid!=\"A\"')) <= len(use_positions))\n",
    "r"
   ]
  }
 ],
 "metadata": {
  "jupytext": {
   "formats": "auto:light,ipynb",
   "text_representation": {
    "extension": ".py",
    "format_name": "light",
    "format_version": "1.5",
    "jupytext_version": "1.13.1"
   }
  },
  "kernelspec": {
   "display_name": "Python 3",
   "language": "python",
   "name": "python3"
  },
  "language_info": {
   "codemirror_mode": {
    "name": "ipython",
    "version": 3
   },
   "file_extension": ".py",
   "mimetype": "text/x-python",
   "name": "python",
   "nbconvert_exporter": "python",
   "pygments_lexer": "ipython3",
   "version": "3.8.8"
  }
 },
 "nbformat": 4,
 "nbformat_minor": 5
}
