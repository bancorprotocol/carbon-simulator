{
 "cells": [
  {
   "cell_type": "code",
   "execution_count": 1,
   "id": "81b04bbc",
   "metadata": {},
   "outputs": [],
   "source": [
    "from carbon import CarbonSimulatorUI\n",
    "from carbon.simulators.carbon_simulator import (\n",
    "    __version__ as uiversion,\n",
    "    __date__ as uidate,\n",
    ")\n",
    "from jupyformat import *"
   ]
  },
  {
   "cell_type": "code",
   "execution_count": 12,
   "id": "8ec7dcd6",
   "metadata": {},
   "outputs": [
    {
     "name": "stdout",
     "output_type": "stream",
     "text": [
      "[carbon.ui] version 0.9.4 7/Nov/2022\n"
     ]
    },
    {
     "data": {
      "text/html": [
       "<div style='color:green; font-size: 120%'><p><strong>This notebook passed verification.</strong></p></div>"
      ],
      "text/plain": [
       "<IPython.core.display.HTML object>"
      ]
     },
     "execution_count": 12,
     "metadata": {},
     "output_type": "execute_result"
    }
   ],
   "source": [
    "print(\"[carbon.ui] version\", uiversion, uidate)\n",
    "jp()"
   ]
  },
  {
   "cell_type": "markdown",
   "id": "04af7ee4",
   "metadata": {},
   "source": [
    "# Carbon Simulation - Test 2\n",
    "\n",
    "Here we are testing a linked position where (a) both curves are concentrated in one price respectively, and that (b) starts with all assets on one curve"
   ]
  },
  {
   "cell_type": "code",
   "execution_count": 3,
   "id": "b987b57a",
   "metadata": {},
   "outputs": [
    {
     "name": "stdout",
     "output_type": "stream",
     "text": [
      "[__init__] pair=USDCETH, verbose=True, raiseonerror=False\n"
     ]
    },
    {
     "data": {
      "text/plain": [
       "CarbonSimulatorUI(<0 positions, 0 trades>, pair='USDCETH')"
      ]
     },
     "execution_count": 3,
     "metadata": {},
     "output_type": "execute_result"
    }
   ],
   "source": [
    "Sim = CarbonSimulatorUI(pair=\"USDCETH\", verbose=True)\n",
    "Sim"
   ]
  },
  {
   "cell_type": "markdown",
   "id": "b8980469",
   "metadata": {},
   "source": [
    "The AMM sells ETH against USDC at 2000, and buys it at 1000. It starts with 100 ETH and 0 USDC."
   ]
  },
  {
   "cell_type": "code",
   "execution_count": 4,
   "id": "761009d3",
   "metadata": {},
   "outputs": [
    {
     "name": "stdout",
     "output_type": "stream",
     "text": [
      "[add_linked_pos] added\n",
      "tkn=ETH, amt=100, psell1=2000, psell2=2000, amtr=0, pbuy1=1000, pbuy2=1000, pair=USDCETH\n"
     ]
    },
    {
     "data": {
      "text/plain": [
       "{'success': True,\n",
       " 'orders':    id     pair tkn_name       y_int           y       p_high        p_low  \\\n",
       " 0   0  USDCETH      ETH  100.000000  100.000000  2000.000000  2000.000000   \n",
       " 1   1  USDCETH     USDC    0.000000    0.000000  1000.000000  1000.000000   \n",
       " \n",
       "    linked_to_id  \n",
       " 0             1  \n",
       " 1             0  }"
      ]
     },
     "execution_count": 4,
     "metadata": {},
     "output_type": "execute_result"
    }
   ],
   "source": [
    "Sim.add_linked_pos(\"ETH\", 100, 2000, 2000, 0, 1000, 1000)"
   ]
  },
  {
   "cell_type": "code",
   "execution_count": 5,
   "id": "64329ffc",
   "metadata": {},
   "outputs": [
    {
     "name": "stdout",
     "output_type": "stream",
     "text": [
      "[state.orders]\n",
      "+---+----+---------+----------+------------+------------+-------------+-------------+--------------+\n",
      "|   | id |  pair   | tkn_name |   y_int    |     y      |   p_high    |    p_low    | linked_to_id |\n",
      "+---+----+---------+----------+------------+------------+-------------+-------------+--------------+\n",
      "| 0 | 0  | USDCETH |   ETH    | 100.000000 | 100.000000 | 2000.000000 | 2000.000000 |      1       |\n",
      "| 1 | 1  | USDCETH |   USDC   |  0.000000  |  0.000000  | 1000.000000 | 1000.000000 |      0       |\n",
      "+---+----+---------+----------+------------+------------+-------------+-------------+--------------+\n",
      "\n",
      "\n",
      "[state.trades]\n",
      "\n"
     ]
    },
    {
     "data": {
      "text/plain": [
       "{'orders':    id     pair tkn_name       y_int           y       p_high        p_low  \\\n",
       " 0   0  USDCETH      ETH  100.000000  100.000000  2000.000000  2000.000000   \n",
       " 1   1  USDCETH     USDC    0.000000    0.000000  1000.000000  1000.000000   \n",
       " \n",
       "    linked_to_id  \n",
       " 0             1  \n",
       " 1             0  ,\n",
       " 'trades': Empty DataFrame\n",
       " Columns: []\n",
       " Index: []}"
      ]
     },
     "execution_count": 5,
     "metadata": {},
     "output_type": "execute_result"
    }
   ],
   "source": [
    "Sim.state()"
   ]
  },
  {
   "cell_type": "code",
   "execution_count": 6,
   "id": "49336e98",
   "metadata": {},
   "outputs": [
    {
     "name": "stdout",
     "output_type": "stream",
     "text": [
      "[state.orders]\n",
      "+---+----+---------+----------+------------+------------+-------------+-------------+--------------+\n",
      "|   | id |  pair   | tkn_name |   y_int    |     y      |   p_high    |    p_low    | linked_to_id |\n",
      "+---+----+---------+----------+------------+------------+-------------+-------------+--------------+\n",
      "| 0 | 0  | USDCETH |   ETH    | 100.000000 | 100.000000 | 2000.000000 | 2000.000000 |      1       |\n",
      "| 1 | 1  | USDCETH |   USDC   |  0.000000  |  0.000000  | 1000.000000 | 1000.000000 |      0       |\n",
      "+---+----+---------+----------+------------+------------+-------------+-------------+--------------+\n",
      "\n",
      "\n",
      "[state.trades]\n",
      "\n"
     ]
    },
    {
     "data": {
      "text/plain": [
       "{'orders':    id     pair tkn_name       y_int           y       p_high        p_low  \\\n",
       " 0   0  USDCETH      ETH  100.000000  100.000000  2000.000000  2000.000000   \n",
       " 1   1  USDCETH     USDC    0.000000    0.000000  1000.000000  1000.000000   \n",
       " \n",
       "    linked_to_id  \n",
       " 0             1  \n",
       " 1             0  ,\n",
       " 'trades': Empty DataFrame\n",
       " Columns: []\n",
       " Index: []}"
      ]
     },
     "execution_count": 6,
     "metadata": {},
     "output_type": "execute_result"
    }
   ],
   "source": [
    "Sim.state()"
   ]
  },
  {
   "cell_type": "markdown",
   "id": "a3810535",
   "metadata": {},
   "source": [
    "Here the trade is for the AMM to buy ETH. It does not work because it does at this point have no USDC"
   ]
  },
  {
   "cell_type": "code",
   "execution_count": 7,
   "id": "7be77aa1",
   "metadata": {},
   "outputs": [
    {
     "data": {
      "text/plain": [
       "{'success': False,\n",
       " 'error': 'token USDC has no valid liquidity positions',\n",
       " 'exception': Exception('token USDC has no valid liquidity positions')}"
      ]
     },
     "execution_count": 7,
     "metadata": {},
     "output_type": "execute_result"
    }
   ],
   "source": [
    "Sim.amm_buys(\"ETH\", 10)"
   ]
  },
  {
   "cell_type": "markdown",
   "id": "805864ac",
   "metadata": {},
   "source": [
    "Now the AMM is meant to sell ETH. It does so at the price of 2000"
   ]
  },
  {
   "cell_type": "code",
   "execution_count": 8,
   "id": "658a022b",
   "metadata": {},
   "outputs": [
    {
     "name": "stdout",
     "output_type": "stream",
     "text": [
      "trader buys 10.0 ETH for 20000.0 USDC amm sells 10.0 ETH for 20000.0 USDC via order 0\n",
      "10.0 ETH \n",
      " traded for \n",
      "20000.0 USDC \n",
      "\n",
      "num trade routes=1\n"
     ]
    },
    {
     "data": {
      "text/plain": [
       "{'success': True,\n",
       " 'trades':     id                                   summary  amt1     amt2 tkn1  tkn2  \\\n",
       " 0  0.1                             route thru #0  10.0  20000.0  ETH  USDC   \n",
       " 0    0  10.0 ETH \\n traded for \\n20000.0 USDC \\n  10.0  20000.0  ETH  USDC   \n",
       " \n",
       "       pair route_indexes  num_trades            price_avg  \n",
       " 0  USDCETH             0           1               2000.0  \n",
       " 0  USDCETH           [0]           1  2000.0 USDC per ETH  ,\n",
       " 'orders':    id     pair tkn_name       y_int          y       p_high        p_low  \\\n",
       " 0   0  USDCETH      ETH  100.000000  90.000000  2000.000000  2000.000000   \n",
       " \n",
       "    linked_to_id  \n",
       " 0             1  }"
      ]
     },
     "execution_count": 8,
     "metadata": {},
     "output_type": "execute_result"
    }
   ],
   "source": [
    "Sim.amm_sells(\"ETH\", 10)"
   ]
  },
  {
   "cell_type": "code",
   "execution_count": 9,
   "id": "17acbdc3",
   "metadata": {},
   "outputs": [
    {
     "name": "stdout",
     "output_type": "stream",
     "text": [
      "[state.orders]\n",
      "+---+----+---------+----------+--------------+--------------+-------------+-------------+--------------+\n",
      "|   | id |  pair   | tkn_name |    y_int     |      y       |   p_high    |    p_low    | linked_to_id |\n",
      "+---+----+---------+----------+--------------+--------------+-------------+-------------+--------------+\n",
      "| 0 | 0  | USDCETH |   ETH    |  100.000000  |  90.000000   | 2000.000000 | 2000.000000 |      1       |\n",
      "| 1 | 1  | USDCETH |   USDC   | 20000.000000 | 20000.000000 | 1000.000000 | 1000.000000 |      0       |\n",
      "+---+----+---------+----------+--------------+--------------+-------------+-------------+--------------+\n",
      "\n",
      "\n",
      "[state.trades]\n",
      "+---+-----+---------------+------+---------+------+------+---------+---------------+------------+---------------------+\n",
      "|   | id  |    summary    | amt1 |  amt2   | tkn1 | tkn2 |  pair   | route_indexes | num_trades |      price_avg      |\n",
      "+---+-----+---------------+------+---------+------+------+---------+---------------+------------+---------------------+\n",
      "| 0 | 0.1 | route thru #0 | 10.0 | 20000.0 | ETH  | USDC | USDCETH |       0       |     1      |       2000.0        |\n",
      "| 0 |  0  |   10.0 ETH    | 10.0 | 20000.0 | ETH  | USDC | USDCETH |      [0]      |     1      | 2000.0 USDC per ETH |\n",
      "|   |     |  traded for   |      |         |      |      |         |               |            |                     |\n",
      "|   |     | 20000.0 USDC  |      |         |      |      |         |               |            |                     |\n",
      "+---+-----+---------------+------+---------+------+------+---------+---------------+------------+---------------------+\n"
     ]
    },
    {
     "data": {
      "text/plain": [
       "{'orders':    id     pair tkn_name         y_int             y       p_high        p_low  \\\n",
       " 0   0  USDCETH      ETH    100.000000     90.000000  2000.000000  2000.000000   \n",
       " 1   1  USDCETH     USDC  20000.000000  20000.000000  1000.000000  1000.000000   \n",
       " \n",
       "    linked_to_id  \n",
       " 0             1  \n",
       " 1             0  ,\n",
       " 'trades':     id                                   summary  amt1     amt2 tkn1  tkn2  \\\n",
       " 0  0.1                             route thru #0  10.0  20000.0  ETH  USDC   \n",
       " 0    0  10.0 ETH \\n traded for \\n20000.0 USDC \\n  10.0  20000.0  ETH  USDC   \n",
       " \n",
       "       pair route_indexes  num_trades            price_avg  \n",
       " 0  USDCETH             0           1               2000.0  \n",
       " 0  USDCETH           [0]           1  2000.0 USDC per ETH  }"
      ]
     },
     "execution_count": 9,
     "metadata": {},
     "output_type": "execute_result"
    }
   ],
   "source": [
    "Sim.state()"
   ]
  },
  {
   "cell_type": "code",
   "execution_count": 11,
   "id": "f09dd04e",
   "metadata": {},
   "outputs": [
    {
     "name": "stdout",
     "output_type": "stream",
     "text": [
      "trader sells 10.0 ETH for 10000.0 USDC amm buys 10.0 ETH for 10000.0 USDC via order 1\n",
      "10.0 ETH \n",
      " traded for \n",
      "10000.0 USDC \n",
      "\n",
      "num trade routes=1\n"
     ]
    },
    {
     "data": {
      "text/plain": [
       "{'success': True,\n",
       " 'trades':     id                                   summary  amt1     amt2 tkn1  tkn2  \\\n",
       " 0  1.1                             route thru #1  10.0  10000.0  ETH  USDC   \n",
       " 0    1  10.0 ETH \\n traded for \\n10000.0 USDC \\n  10.0  10000.0  ETH  USDC   \n",
       " \n",
       "       pair route_indexes  num_trades            price_avg  \n",
       " 0  USDCETH             1           1               1000.0  \n",
       " 0  USDCETH           [1]           1  1000.0 ETH per USDC  ,\n",
       " 'orders':    id     pair tkn_name         y_int             y       p_high        p_low  \\\n",
       " 1   1  USDCETH     USDC  20000.000000  10000.000000  1000.000000  1000.000000   \n",
       " \n",
       "    linked_to_id  \n",
       " 1             0  }"
      ]
     },
     "execution_count": 11,
     "metadata": {},
     "output_type": "execute_result"
    }
   ],
   "source": [
    "Sim.amm_buys(\"ETH\", 10)"
   ]
  },
  {
   "cell_type": "code",
   "execution_count": null,
   "id": "b745e7bd",
   "metadata": {},
   "outputs": [],
   "source": []
  }
 ],
 "metadata": {
  "jupytext": {
   "formats": "ipynb,py:light"
  },
  "kernelspec": {
   "display_name": "Python 3",
   "language": "python",
   "name": "python3"
  },
  "language_info": {
   "codemirror_mode": {
    "name": "ipython",
    "version": 3
   },
   "file_extension": ".py",
   "mimetype": "text/x-python",
   "name": "python",
   "nbconvert_exporter": "python",
   "pygments_lexer": "ipython3",
   "version": "3.8.8"
  }
 },
 "nbformat": 4,
 "nbformat_minor": 5
}
