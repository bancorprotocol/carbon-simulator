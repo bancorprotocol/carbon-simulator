{
 "cells": [
  {
   "cell_type": "code",
   "execution_count": 1,
   "id": "a0855cc0-2db7-4341-b0ef-fcb343ca3636",
   "metadata": {},
   "outputs": [
    {
     "name": "stdout",
     "output_type": "stream",
     "text": [
      "CarbonSDK v0.9 (8/Mar/2023)\n",
      "v18.14.2\n"
     ]
    }
   ],
   "source": [
    "from carbon.sdk import CarbonSDK, Tokens as T\n",
    "#from carbon import CarbonOrderUI, CarbonSimulatorUI\n",
    "from carbon.helpers.widgets import CheckboxManager, DropdownManager, PcSliderManager\n",
    "from matplotlib import pyplot as plt\n",
    "import numpy as np\n",
    "print(\"{0.__name__} v{0.__VERSION__} ({0.__DATE__})\".format(CarbonSDK))\n",
    "!node --version"
   ]
  },
  {
   "cell_type": "markdown",
   "id": "3650b16b-d020-4063-84c6-ab9fb7556552",
   "metadata": {},
   "source": [
    "# Taker Functionality [NB30]\n",
    "\n",
    "_this Notebook gives an overview over the taker functionality; for more streamlined examples see the following notebooks_\n",
    "\n",
    "In order to start the server, please run\n",
    "\n",
    "    source /Volumes/Private/bin/sdkserver\n",
    "    node server/sdkserver.mjs"
   ]
  },
  {
   "cell_type": "code",
   "execution_count": 2,
   "id": "15bfcae7-1124-4a6b-b12f-26d2f9f8173a",
   "metadata": {},
   "outputs": [
    {
     "name": "stdout",
     "output_type": "stream",
     "text": [
      "[req0] method=post, url=http://localhost:3118/api/scall/pairs, params={}\n",
      "[req0] method=get, url=http://localhost:3118/, params={}\n"
     ]
    },
    {
     "data": {
      "text/plain": [
       "'Carbon SDK v0.9 (7/Mar/2022)'"
      ]
     },
     "execution_count": 2,
     "metadata": {},
     "output_type": "execute_result"
    }
   ],
   "source": [
    "SDK = CarbonSDK(disclaimer=False, verbose=True, Tokens=T)\n",
    "pairs, pairs_s = SDK.pairs(inclstr=True)\n",
    "SDK.version().get(\"msg\")"
   ]
  },
  {
   "cell_type": "markdown",
   "id": "66b0fee4-4b8d-483d-92be-5e8fdc626d43",
   "metadata": {},
   "source": [
    "## Pair selection"
   ]
  },
  {
   "cell_type": "code",
   "execution_count": 3,
   "id": "0d6e1623-02d3-40a8-8d1f-92ce2ad70406",
   "metadata": {},
   "outputs": [
    {
     "data": {
      "application/vnd.jupyter.widget-view+json": {
       "model_id": "3c9182ee26034ccba149f8e238a83c11",
       "version_major": 2,
       "version_minor": 0
      },
      "text/plain": [
       "Dropdown(index=1, options=(('USDC/USDT', 'USDC/USDT'), ('USDC/ETH', 'USDC/ETH'), ('BNT/USDT', 'BNT/USDT'), ('B…"
      ]
     },
     "metadata": {},
     "output_type": "display_data"
    }
   ],
   "source": [
    "try:\n",
    "    pairs_sel = [s.strip() for s in pairs_s.split(\",\")]\n",
    "    pairs_w()\n",
    "except:\n",
    "    pairs_w = DropdownManager(pairs_sel, defaultval=\"USDC/ETH\")\n",
    "    pairs_w()"
   ]
  },
  {
   "cell_type": "code",
   "execution_count": 4,
   "id": "362ad3a5-656e-4cdf-bc72-23814c9039fe",
   "metadata": {},
   "outputs": [
    {
     "data": {
      "application/vnd.jupyter.widget-view+json": {
       "model_id": "e054c9c2eefc46b0a5acfff7b013d939",
       "version_major": 2,
       "version_minor": 0
      },
      "text/plain": [
       "VBox(children=(Checkbox(value=True, description='inverse'),))"
      ]
     },
     "metadata": {},
     "output_type": "display_data"
    }
   ],
   "source": [
    "try:\n",
    "    inverse_w()\n",
    "except:\n",
    "    inverse_w = CheckboxManager([\"inverse\"], values=[1])\n",
    "    inverse_w()"
   ]
  },
  {
   "cell_type": "code",
   "execution_count": 5,
   "id": "1f83cf3b-b2fe-4bf4-beac-a1ae56b64640",
   "metadata": {},
   "outputs": [
    {
     "data": {
      "text/plain": [
       "'ETH/USDC'"
      ]
     },
     "execution_count": 5,
     "metadata": {},
     "output_type": "execute_result"
    }
   ],
   "source": [
    "tknb,tknq = pairs_w.value.split(\"/\")\n",
    "if inverse_w.values[0]:\n",
    "    tknb,tknq = tknq, tknb\n",
    "pair = f\"{tknb}/{tknq}\"\n",
    "pair"
   ]
  },
  {
   "cell_type": "markdown",
   "id": "28ccd123-73ba-47cc-af86-455b2b152839",
   "metadata": {},
   "source": [
    "## Market information"
   ]
  },
  {
   "cell_type": "code",
   "execution_count": 7,
   "id": "efc7acba-3a51-4baf-8d34-c95a7fcc9146",
   "metadata": {},
   "outputs": [
    {
     "name": "stdout",
     "output_type": "stream",
     "text": [
      "[req0] method=post, url=http://localhost:3118/api/scall/get_min_rate_by_pair, params={'sourceToken': '0xeeeeeeeeeeeeeeeeeeeeeeeeeeeeeeeeeeeeeeee', 'targetToken': '0xa0b86991c6218b36c1d19d4a2e9eb0ce3606eb48'}\n",
      "[req0] method=post, url=http://localhost:3118/api/scall/get_max_rate_by_pair, params={'sourceToken': '0xeeeeeeeeeeeeeeeeeeeeeeeeeeeeeeeeeeeeeeee', 'targetToken': '0xa0b86991c6218b36c1d19d4a2e9eb0ce3606eb48'}\n",
      "[req0] method=post, url=http://localhost:3118/api/scall/get_min_rate_by_pair, params={'sourceToken': '0xa0b86991c6218b36c1d19d4a2e9eb0ce3606eb48', 'targetToken': '0xeeeeeeeeeeeeeeeeeeeeeeeeeeeeeeeeeeeeeeee'}\n",
      "[req0] method=post, url=http://localhost:3118/api/scall/get_max_rate_by_pair, params={'sourceToken': '0xa0b86991c6218b36c1d19d4a2e9eb0ce3606eb48', 'targetToken': '0xeeeeeeeeeeeeeeeeeeeeeeeeeeeeeeeeeeeeeeee'}\n",
      "[req0] method=post, url=http://localhost:3118/api/scall/get_liquidity_by_pair, params={'sourceToken': '0xeeeeeeeeeeeeeeeeeeeeeeeeeeeeeeeeeeeeeeee', 'targetToken': '0xa0b86991c6218b36c1d19d4a2e9eb0ce3606eb48'}\n",
      "[req0] method=post, url=http://localhost:3118/api/scall/get_liquidity_by_pair, params={'sourceToken': '0xa0b86991c6218b36c1d19d4a2e9eb0ce3606eb48', 'targetToken': '0xeeeeeeeeeeeeeeeeeeeeeeeeeeeeeeeeeeeeeeee'}\n"
     ]
    },
    {
     "data": {
      "text/plain": [
       "CarbonSDK.MarketByPair(pair='ETH/USDC', bestBid=2330.3861458234296, bestAsk=2500.0, liqBid=5269359.684327, liqAsk=142.67636977847653, lastBid=799.9999998679182, lastAsk=3000.0000000000327)"
      ]
     },
     "execution_count": 7,
     "metadata": {},
     "output_type": "execute_result"
    }
   ],
   "source": [
    "m = SDK.mGetMarketByPair(pair=pair)\n",
    "m"
   ]
  },
  {
   "cell_type": "markdown",
   "id": "14a6c653-dccb-461c-b3bd-8b25902dcd32",
   "metadata": {},
   "source": [
    "## Trading examples"
   ]
  },
  {
   "cell_type": "markdown",
   "id": "483ff7dc",
   "metadata": {},
   "source": [
    "#### `mPrepareTrade`"
   ]
  },
  {
   "cell_type": "code",
   "execution_count": 8,
   "id": "c7e9542a-810b-493f-9a87-dbfb37ee766c",
   "metadata": {
    "lines_to_next_cell": 2
   },
   "outputs": [
    {
     "data": {
      "text/plain": [
       "(2420.0, 1000)"
      ]
     },
     "execution_count": 8,
     "metadata": {},
     "output_type": "execute_result"
    }
   ],
   "source": [
    "approx_price = SDK.roundsd(m.mid,3)\n",
    "amount_tknb = 1000\n",
    "approx_price, amount_tknb"
   ]
  },
  {
   "cell_type": "code",
   "execution_count": 9,
   "id": "8e41be1b-8b46-439c-8a17-40c763ea96a4",
   "metadata": {},
   "outputs": [
    {
     "name": "stdout",
     "output_type": "stream",
     "text": [
      "[req0] method=post, url=http://localhost:3118/api/scall/get_trade_data, params={'sourceToken': '0xeeeeeeeeeeeeeeeeeeeeeeeeeeeeeeeeeeeeeeee', 'targetToken': '0xa0b86991c6218b36c1d19d4a2e9eb0ce3606eb48', 'amount': '0.4132231404958678', 'tradeByTargetAmount': False, 'filter': []}\n"
     ]
    },
    {
     "data": {
      "text/plain": [
       "CarbonSDK.TradeData(pair='ETH/USDC', tkn='ETH', traderBuySell='SELL', amount=0.4132231404958678, sourceToken=SDKToken(token='ETH', address='0xeeeeeeeeeeeeeeeeeeeeeeeeeeeeeeeeeeeeeeee', decimals=18, name='ETH'), targetToken=SDKToken(token='USDC', address='0xa0b86991c6218b36c1d19d4a2e9eb0ce3606eb48', decimals=6, name='USDC'), tradeByTargetAmount=False, tradeActions=[{'strategyId': 27, 'amount': 413223140259990940}], actionsWei=[{'id': 27, 'input': 413223140259990940, 'output': 960219280}], actionsTokenRes=[{'id': 27, 'sourceAmount': 0.41322314025999096, 'targetAmount': 960.21928}], tradeData={'totalSourceAmount': 0.41322314025999096, 'totalTargetAmount': 958.778951, 'effectiveRate': 2320.245062744447})"
      ]
     },
     "execution_count": 9,
     "metadata": {},
     "output_type": "execute_result"
    }
   ],
   "source": [
    "r1 = SDK.mPrepareTrade(pair, SDK.SELL, tknb, amount_tknb/approx_price)\n",
    "r1"
   ]
  },
  {
   "cell_type": "code",
   "execution_count": 10,
   "id": "e3a896c1-2373-492e-b1b2-64f2d44aca0a",
   "metadata": {},
   "outputs": [
    {
     "name": "stdout",
     "output_type": "stream",
     "text": [
      "[req0] method=post, url=http://localhost:3118/api/scall/get_trade_data, params={'sourceToken': '0xa0b86991c6218b36c1d19d4a2e9eb0ce3606eb48', 'targetToken': '0xeeeeeeeeeeeeeeeeeeeeeeeeeeeeeeeeeeeeeeee', 'amount': '0.4132231404958678', 'tradeByTargetAmount': True, 'filter': []}\n"
     ]
    },
    {
     "data": {
      "text/plain": [
       "CarbonSDK.TradeData(pair='ETH/USDC', tkn='ETH', traderBuySell='BUY', amount=0.4132231404958678, sourceToken=SDKToken(token='USDC', address='0xa0b86991c6218b36c1d19d4a2e9eb0ce3606eb48', decimals=6, name='USDC'), targetToken=SDKToken(token='ETH', address='0xeeeeeeeeeeeeeeeeeeeeeeeeeeeeeeeeeeeeeeee', decimals=18, name='ETH'), tradeByTargetAmount=True, tradeActions=[{'strategyId': 26, 'amount': 413223140495867800}], actionsWei=[{'id': 26, 'input': 413223140495867800, 'output': 1033819069}], actionsTokenRes=[{'id': 26, 'sourceAmount': 1033.819069, 'targetAmount': 0.4132231404958678}], tradeData={'totalSourceAmount': 1035.372128, 'totalTargetAmount': 0.4132231404958678, 'effectiveRate': 0.0003991059149854455})"
      ]
     },
     "execution_count": 10,
     "metadata": {},
     "output_type": "execute_result"
    }
   ],
   "source": [
    "r2 = SDK.mPrepareTrade(pair, SDK.BUY, tknb, amount_tknb/approx_price)\n",
    "r2"
   ]
  },
  {
   "cell_type": "code",
   "execution_count": 11,
   "id": "b3db4d44",
   "metadata": {},
   "outputs": [
    {
     "name": "stdout",
     "output_type": "stream",
     "text": [
      "[req0] method=post, url=http://localhost:3118/api/scall/get_trade_data, params={'sourceToken': '0xa0b86991c6218b36c1d19d4a2e9eb0ce3606eb48', 'targetToken': '0xeeeeeeeeeeeeeeeeeeeeeeeeeeeeeeeeeeeeeeee', 'amount': '1000', 'tradeByTargetAmount': False, 'filter': []}\n"
     ]
    },
    {
     "data": {
      "text/plain": [
       "CarbonSDK.TradeData(pair='ETH/USDC', tkn='USDC', traderBuySell='SELL', amount=1000, sourceToken=SDKToken(token='USDC', address='0xa0b86991c6218b36c1d19d4a2e9eb0ce3606eb48', decimals=6, name='USDC'), targetToken=SDKToken(token='ETH', address='0xeeeeeeeeeeeeeeeeeeeeeeeeeeeeeeeeeeeeeeee', decimals=18, name='ETH'), tradeByTargetAmount=False, tradeActions=[{'strategyId': 26, 'amount': 1000000000}], actionsWei=[{'id': 26, 'input': 1000000000, 'output': 399715101557389183}], actionsTokenRes=[{'id': 26, 'sourceAmount': 1000.0, 'targetAmount': 0.3997151015573892}], tradeData={'totalSourceAmount': 1000.0, 'totalTargetAmount': 0.3991155289050531, 'effectiveRate': 0.0003991155289050531})"
      ]
     },
     "execution_count": 11,
     "metadata": {},
     "output_type": "execute_result"
    }
   ],
   "source": [
    "r3 = SDK.mPrepareTrade(pair, SDK.SELL, tknq, amount_tknb)\n",
    "r3"
   ]
  },
  {
   "cell_type": "code",
   "execution_count": 12,
   "id": "a771ca2a",
   "metadata": {
    "lines_to_next_cell": 2
   },
   "outputs": [
    {
     "name": "stdout",
     "output_type": "stream",
     "text": [
      "[req0] method=post, url=http://localhost:3118/api/scall/get_trade_data, params={'sourceToken': '0xeeeeeeeeeeeeeeeeeeeeeeeeeeeeeeeeeeeeeeee', 'targetToken': '0xa0b86991c6218b36c1d19d4a2e9eb0ce3606eb48', 'amount': '1000', 'tradeByTargetAmount': True, 'filter': []}\n"
     ]
    },
    {
     "data": {
      "text/plain": [
       "CarbonSDK.TradeData(pair='ETH/USDC', tkn='USDC', traderBuySell='BUY', amount=1000, sourceToken=SDKToken(token='ETH', address='0xeeeeeeeeeeeeeeeeeeeeeeeeeeeeeeeeeeeeeeee', decimals=18, name='ETH'), targetToken=SDKToken(token='USDC', address='0xa0b86991c6218b36c1d19d4a2e9eb0ce3606eb48', decimals=6, name='USDC'), tradeByTargetAmount=True, tradeActions=[{'strategyId': 27, 'amount': 1000000000}], actionsWei=[{'id': 27, 'input': 1000000000, 'output': 430359468510485359}], actionsTokenRes=[{'id': 27, 'sourceAmount': 0.43035946851048534, 'targetAmount': 1000.0}], tradeData={'totalSourceAmount': 0.4310059774767004, 'totalTargetAmount': 1000.0, 'effectiveRate': 2320.153436976541})"
      ]
     },
     "execution_count": 12,
     "metadata": {},
     "output_type": "execute_result"
    }
   ],
   "source": [
    "r4 = SDK.mPrepareTrade(pair, SDK.BUY, tknq, amount_tknb)\n",
    "r4"
   ]
  },
  {
   "cell_type": "markdown",
   "id": "f949f1c4-dcec-4b01-b9e4-6957ef50e0e2",
   "metadata": {},
   "source": [
    "#### `mComposeTradeTransaction`"
   ]
  },
  {
   "cell_type": "code",
   "execution_count": 13,
   "id": "e6dc29c5-af22-4a24-83ca-4f703f20091a",
   "metadata": {},
   "outputs": [
    {
     "name": "stdout",
     "output_type": "stream",
     "text": [
      "[req0] method=post, url=http://localhost:3118/api/scall/compose_trade_by_source_transaction, params={'sourceToken': '0xeeeeeeeeeeeeeeeeeeeeeeeeeeeeeeeeeeeeeeee', 'targetToken': '0xa0b86991c6218b36c1d19d4a2e9eb0ce3606eb48', 'tradeActions': [{'strategyId': '27', 'amount': '413223140259990940'}], 'deadline': '4294967295', 'minReturn': '862.9010559000001', 'overrides': {'gasLimit': 999999999}}\n"
     ]
    },
    {
     "data": {
      "text/plain": [
       "{'data': '0xf1c5e014000000000000000000000000eeeeeeeeeeeeeeeeeeeeeeeeeeeeeeeeeeeeeeee000000000000000000000000a0b86991c6218b36c1d19d4a2e9eb0ce3606eb4800000000000000000000000000000000000000000000000000000000000000a000000000000000000000000000000000000000000000000000000000ffffffff00000000000000000000000000000000000000000000000000000000336ed33f0000000000000000000000000000000000000000000000000000000000000001000000000000000000000000000000000000000000000000000000000000001b00000000000000000000000000000000000000000000000005bc1041b82b0d9c',\n",
       " 'to': '0x2FdE9E0cE83769E88eAA9FB7BE27cb26c385d1b2',\n",
       " 'gasLimit': {'type': 'BigNumber', 'hex': '0x3b9ac9ff'},\n",
       " 'value': {'type': 'BigNumber', 'hex': '0x05bc1041b82b0d9c'}}"
      ]
     },
     "execution_count": 13,
     "metadata": {},
     "output_type": "execute_result"
    }
   ],
   "source": [
    "tx1 = SDK.mComposeTradeTransaction(**r1.cttkwargs)\n",
    "tx1"
   ]
  },
  {
   "cell_type": "code",
   "execution_count": 14,
   "id": "e1f20a07-e465-4cf4-87f1-002430b666b1",
   "metadata": {},
   "outputs": [
    {
     "name": "stdout",
     "output_type": "stream",
     "text": [
      "[req0] method=post, url=http://localhost:3118/api/scall/compose_trade_by_target_transaction, params={'sourceToken': '0xa0b86991c6218b36c1d19d4a2e9eb0ce3606eb48', 'targetToken': '0xeeeeeeeeeeeeeeeeeeeeeeeeeeeeeeeeeeeeeeee', 'tradeActions': [{'strategyId': '26', 'amount': '413223140495867800'}], 'deadline': '4294967295', 'maxInput': '1138.9093408', 'overrides': {'gasLimit': 999999999}}\n"
     ]
    },
    {
     "data": {
      "text/plain": [
       "{'data': '0x102ee9ba000000000000000000000000a0b86991c6218b36c1d19d4a2e9eb0ce3606eb48000000000000000000000000eeeeeeeeeeeeeeeeeeeeeeeeeeeeeeeeeeeeeeee00000000000000000000000000000000000000000000000000000000000000a000000000000000000000000000000000000000000000000000000000ffffffff0000000000000000000000000000000000000000000000000000000043e2609c0000000000000000000000000000000000000000000000000000000000000001000000000000000000000000000000000000000000000000000000000000001a00000000000000000000000000000000000000000000000005bc1041c63a3f98',\n",
       " 'to': '0x2FdE9E0cE83769E88eAA9FB7BE27cb26c385d1b2',\n",
       " 'gasLimit': {'type': 'BigNumber', 'hex': '0x3b9ac9ff'}}"
      ]
     },
     "execution_count": 14,
     "metadata": {},
     "output_type": "execute_result"
    }
   ],
   "source": [
    "tx2 = SDK.mComposeTradeTransaction(**r2.cttkwargs)\n",
    "tx2"
   ]
  },
  {
   "cell_type": "code",
   "execution_count": 15,
   "id": "7372ec60-a565-4f9d-b3c3-00ade2452ff9",
   "metadata": {},
   "outputs": [
    {
     "name": "stdout",
     "output_type": "stream",
     "text": [
      "[req0] method=post, url=http://localhost:3118/api/scall/compose_trade_by_source_transaction, params={'sourceToken': '0xa0b86991c6218b36c1d19d4a2e9eb0ce3606eb48', 'targetToken': '0xeeeeeeeeeeeeeeeeeeeeeeeeeeeeeeeeeeeeeeee', 'tradeActions': [{'strategyId': '26', 'amount': '1000000000'}], 'deadline': '4294967295', 'minReturn': '0.3592039760145478', 'overrides': {'gasLimit': 999999999}}\n"
     ]
    },
    {
     "data": {
      "text/plain": [
       "{'data': '0xf1c5e014000000000000000000000000a0b86991c6218b36c1d19d4a2e9eb0ce3606eb48000000000000000000000000eeeeeeeeeeeeeeeeeeeeeeeeeeeeeeeeeeeeeeee00000000000000000000000000000000000000000000000000000000000000a000000000000000000000000000000000000000000000000000000000ffffffff00000000000000000000000000000000000000000000000004fc261cf0414b580000000000000000000000000000000000000000000000000000000000000001000000000000000000000000000000000000000000000000000000000000001a000000000000000000000000000000000000000000000000000000003b9aca00',\n",
       " 'to': '0x2FdE9E0cE83769E88eAA9FB7BE27cb26c385d1b2',\n",
       " 'gasLimit': {'type': 'BigNumber', 'hex': '0x3b9ac9ff'}}"
      ]
     },
     "execution_count": 15,
     "metadata": {},
     "output_type": "execute_result"
    }
   ],
   "source": [
    "tx3 = SDK.mComposeTradeTransaction(**r3.cttkwargs)\n",
    "tx3"
   ]
  },
  {
   "cell_type": "code",
   "execution_count": 16,
   "id": "4f508782-04f0-48b2-b226-717346d7e80e",
   "metadata": {},
   "outputs": [
    {
     "name": "stdout",
     "output_type": "stream",
     "text": [
      "[req0] method=post, url=http://localhost:3118/api/scall/compose_trade_by_target_transaction, params={'sourceToken': '0xeeeeeeeeeeeeeeeeeeeeeeeeeeeeeeeeeeeeeeee', 'targetToken': '0xa0b86991c6218b36c1d19d4a2e9eb0ce3606eb48', 'tradeActions': [{'strategyId': '27', 'amount': '1000000000'}], 'deadline': '4294967295', 'maxInput': '0.47410657522437044', 'overrides': {'gasLimit': 999999999}}\n"
     ]
    },
    {
     "data": {
      "text/plain": [
       "{'data': '0x102ee9ba000000000000000000000000eeeeeeeeeeeeeeeeeeeeeeeeeeeeeeeeeeeeeeee000000000000000000000000a0b86991c6218b36c1d19d4a2e9eb0ce3606eb4800000000000000000000000000000000000000000000000000000000000000a000000000000000000000000000000000000000000000000000000000ffffffff00000000000000000000000000000000000000000000000006945d6b11ecf5080000000000000000000000000000000000000000000000000000000000000001000000000000000000000000000000000000000000000000000000000000001b000000000000000000000000000000000000000000000000000000003b9aca00',\n",
       " 'to': '0x2FdE9E0cE83769E88eAA9FB7BE27cb26c385d1b2',\n",
       " 'gasLimit': {'type': 'BigNumber', 'hex': '0x3b9ac9ff'},\n",
       " 'value': {'type': 'BigNumber', 'hex': '0x3b9aca00'}}"
      ]
     },
     "execution_count": 16,
     "metadata": {},
     "output_type": "execute_result"
    }
   ],
   "source": [
    "tx4 = SDK.mComposeTradeTransaction(**r4.cttkwargs)\n",
    "tx4"
   ]
  },
  {
   "cell_type": "markdown",
   "id": "3936fa03-5d05-4e45-9eb4-d63e4b8b4807",
   "metadata": {},
   "source": [
    "#### Submit transactions"
   ]
  },
  {
   "cell_type": "code",
   "execution_count": 17,
   "id": "b77063d0-f2b7-4565-9954-9017faffc6ef",
   "metadata": {},
   "outputs": [
    {
     "name": "stdout",
     "output_type": "stream",
     "text": [
      "[req0] method=post, url=http://localhost:3118/api/signsubmittx, params={'tx': {'data': '0xf1c5e014000000000000000000000000eeeeeeeeeeeeeeeeeeeeeeeeeeeeeeeeeeeeeeee000000000000000000000000a0b86991c6218b36c1d19d4a2e9eb0ce3606eb4800000000000000000000000000000000000000000000000000000000000000a000000000000000000000000000000000000000000000000000000000ffffffff00000000000000000000000000000000000000000000000000000000336ed33f0000000000000000000000000000000000000000000000000000000000000001000000000000000000000000000000000000000000000000000000000000001b00000000000000000000000000000000000000000000000005bc1041b82b0d9c', 'to': '0x2FdE9E0cE83769E88eAA9FB7BE27cb26c385d1b2', 'gasLimit': {'type': 'BigNumber', 'hex': '0x3b9ac9ff'}, 'value': {'type': 'BigNumber', 'hex': '0x05bc1041b82b0d9c'}}, True: True}\n"
     ]
    },
    {
     "data": {
      "text/plain": [
       "{'txReceipt': {'hash': '0xcc7f30f71b5644832af2fbc240d6e47c71f2c6beb86cc6d5c0ec4fee9c74c655',\n",
       "  'nonce': None,\n",
       "  'gasLimit': None,\n",
       "  'gasPrice': None,\n",
       "  'data': None,\n",
       "  'value': None,\n",
       "  'chainId': None,\n",
       "  'confirmations': 0,\n",
       "  'from': None}}"
      ]
     },
     "execution_count": 17,
     "metadata": {},
     "output_type": "execute_result"
    }
   ],
   "source": [
    "SDK.signsubmittx(tx1, sign=True)"
   ]
  },
  {
   "cell_type": "code",
   "execution_count": 18,
   "id": "41d477be-586c-44b2-832b-fac52ee05d53",
   "metadata": {},
   "outputs": [
    {
     "name": "stdout",
     "output_type": "stream",
     "text": [
      "[req0] method=post, url=http://localhost:3118/api/signsubmittx, params={'tx': {'data': '0x102ee9ba000000000000000000000000a0b86991c6218b36c1d19d4a2e9eb0ce3606eb48000000000000000000000000eeeeeeeeeeeeeeeeeeeeeeeeeeeeeeeeeeeeeeee00000000000000000000000000000000000000000000000000000000000000a000000000000000000000000000000000000000000000000000000000ffffffff0000000000000000000000000000000000000000000000000000000043e2609c0000000000000000000000000000000000000000000000000000000000000001000000000000000000000000000000000000000000000000000000000000001a00000000000000000000000000000000000000000000000005bc1041c63a3f98', 'to': '0x2FdE9E0cE83769E88eAA9FB7BE27cb26c385d1b2', 'gasLimit': {'type': 'BigNumber', 'hex': '0x3b9ac9ff'}}, True: True}\n"
     ]
    },
    {
     "data": {
      "text/plain": [
       "{'txReceipt': {'hash': '0x50225d77b7f7b4b90280efdbdf0040a32acf0d60337ce1d43fe039128311746f',\n",
       "  'nonce': None,\n",
       "  'gasLimit': None,\n",
       "  'gasPrice': None,\n",
       "  'data': None,\n",
       "  'value': None,\n",
       "  'chainId': None,\n",
       "  'confirmations': 0,\n",
       "  'from': None}}"
      ]
     },
     "execution_count": 18,
     "metadata": {},
     "output_type": "execute_result"
    }
   ],
   "source": [
    "SDK.signsubmittx(tx2, sign=True)"
   ]
  },
  {
   "cell_type": "code",
   "execution_count": 19,
   "id": "cfb3d008-ea30-4568-8859-370f39c6dcfa",
   "metadata": {},
   "outputs": [
    {
     "name": "stdout",
     "output_type": "stream",
     "text": [
      "[req0] method=post, url=http://localhost:3118/api/signsubmittx, params={'tx': {'data': '0xf1c5e014000000000000000000000000a0b86991c6218b36c1d19d4a2e9eb0ce3606eb48000000000000000000000000eeeeeeeeeeeeeeeeeeeeeeeeeeeeeeeeeeeeeeee00000000000000000000000000000000000000000000000000000000000000a000000000000000000000000000000000000000000000000000000000ffffffff00000000000000000000000000000000000000000000000004fc261cf0414b580000000000000000000000000000000000000000000000000000000000000001000000000000000000000000000000000000000000000000000000000000001a000000000000000000000000000000000000000000000000000000003b9aca00', 'to': '0x2FdE9E0cE83769E88eAA9FB7BE27cb26c385d1b2', 'gasLimit': {'type': 'BigNumber', 'hex': '0x3b9ac9ff'}}, True: True}\n"
     ]
    },
    {
     "data": {
      "text/plain": [
       "{'txReceipt': {'hash': '0x6f948d5a24980c693c16b8df1df4c670252fd7055f8bd2a399462f9b29f0010a',\n",
       "  'nonce': None,\n",
       "  'gasLimit': None,\n",
       "  'gasPrice': None,\n",
       "  'data': None,\n",
       "  'value': None,\n",
       "  'chainId': None,\n",
       "  'confirmations': 0,\n",
       "  'from': None}}"
      ]
     },
     "execution_count": 19,
     "metadata": {},
     "output_type": "execute_result"
    }
   ],
   "source": [
    "SDK.signsubmittx(tx3, sign=True)"
   ]
  },
  {
   "cell_type": "code",
   "execution_count": 21,
   "id": "585db768-8795-4d85-b320-ca4e2eb99467",
   "metadata": {},
   "outputs": [
    {
     "name": "stdout",
     "output_type": "stream",
     "text": [
      "[req0] method=post, url=http://localhost:3118/api/signsubmittx, params={'tx': {'data': '0x102ee9ba000000000000000000000000eeeeeeeeeeeeeeeeeeeeeeeeeeeeeeeeeeeeeeee000000000000000000000000a0b86991c6218b36c1d19d4a2e9eb0ce3606eb4800000000000000000000000000000000000000000000000000000000000000a000000000000000000000000000000000000000000000000000000000ffffffff00000000000000000000000000000000000000000000000006945d6b11ecf5080000000000000000000000000000000000000000000000000000000000000001000000000000000000000000000000000000000000000000000000000000001b000000000000000000000000000000000000000000000000000000003b9aca00', 'to': '0x2FdE9E0cE83769E88eAA9FB7BE27cb26c385d1b2', 'gasLimit': {'type': 'BigNumber', 'hex': '0x3b9ac9ff'}, 'value': {'type': 'BigNumber', 'hex': '0x3b9aca00'}}, True: True}\n"
     ]
    },
    {
     "data": {
      "text/plain": [
       "{'txReceipt': {'hash': '0xbe7e3500a361d878804a13d9bacc8e6540a2123e6b9a153638b13d66368ba621',\n",
       "  'nonce': None,\n",
       "  'gasLimit': None,\n",
       "  'gasPrice': None,\n",
       "  'data': None,\n",
       "  'value': None,\n",
       "  'chainId': None,\n",
       "  'confirmations': 0,\n",
       "  'from': None}}"
      ]
     },
     "execution_count": 21,
     "metadata": {},
     "output_type": "execute_result"
    }
   ],
   "source": [
    "SDK.signsubmittx(tx4, sign=True)"
   ]
  },
  {
   "cell_type": "code",
   "execution_count": null,
   "id": "361b3e0a-c03a-4ffc-84db-9b0757658c7e",
   "metadata": {},
   "outputs": [],
   "source": []
  }
 ],
 "metadata": {
  "jupytext": {
   "encoding": "# -*- coding: utf-8 -*-",
   "formats": "ipynb,py:light"
  },
  "kernelspec": {
   "display_name": "Python 3",
   "language": "python",
   "name": "python3"
  },
  "language_info": {
   "codemirror_mode": {
    "name": "ipython",
    "version": 3
   },
   "file_extension": ".py",
   "mimetype": "text/x-python",
   "name": "python",
   "nbconvert_exporter": "python",
   "pygments_lexer": "ipython3",
   "version": "3.8.8"
  },
  "toc-autonumbering": false,
  "toc-showcode": false,
  "toc-showmarkdowntxt": false
 },
 "nbformat": 4,
 "nbformat_minor": 5
}
