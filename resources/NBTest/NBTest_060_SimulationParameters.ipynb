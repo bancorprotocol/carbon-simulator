{
 "cells": [
  {
   "cell_type": "code",
   "execution_count": 1,
   "id": "ce011baf",
   "metadata": {},
   "outputs": [
    {
     "name": "stdout",
     "output_type": "stream",
     "text": [
      "[stdimports] imported np, pd, plt, os, sqrt, exp, log\n",
      "CarbonSimulatorUI v2.5.1 (12/Feb/2023)\n",
      "Carbon v2.3.3-BETA1 (12/Feb/2022)\n"
     ]
    }
   ],
   "source": [
    "from carbon.helpers.stdimports import *\n",
    "from carbon.routers import ExactBase, ExactRouterX0Y0N, AlphaRouter, FastRouter\n",
    "print(\"{0.__name__} v{0.__VERSION__} ({0.__DATE__})\".format(CarbonSimulatorUI))\n",
    "print_version(require=\"2.3.3\")"
   ]
  },
  {
   "cell_type": "markdown",
   "id": "edf6bdb6",
   "metadata": {},
   "source": [
    "# Simulation Parameters (NBTest 060)"
   ]
  },
  {
   "cell_type": "markdown",
   "id": "18d8f4ad-8202-4cd8-b870-1c1906ea3a81",
   "metadata": {},
   "source": [
    "## New parameter handling\n",
    "\n",
    "In v2.3.3 we introduced a `parameters` dict into `BaseRouter` that is collecting all simulation parameters, instead of adding them individually as function parameters. The parameters removed are the following:\n",
    "\n",
    "- `debug`\n",
    "- `verbose`\n",
    "- `raiseonerror`\n",
    "- `assert_precision`\n",
    "- `use_floor_division`\n",
    "\n",
    "\n",
    "Note that for compatibility reasons all those paramters can still be accessed as properties, as well through the regular `p(\"...\")` pathway."
   ]
  },
  {
   "cell_type": "code",
   "execution_count": 9,
   "id": "ed01a602-d0d0-4a32-974a-1d274ab741d6",
   "metadata": {},
   "outputs": [],
   "source": [
    "ROUTERS = (ExactBase, ExactRouterX0Y0N, AlphaRouter, FastRouter)\n",
    "#ROUTERS = (ExactBase, ExactRouterX0Y0N, AlphaRouter)"
   ]
  },
  {
   "cell_type": "code",
   "execution_count": 10,
   "id": "98768da4-eea1-4fdd-b7b5-b6e79210a238",
   "metadata": {
    "lines_to_next_cell": 0
   },
   "outputs": [
    {
     "name": "stdout",
     "output_type": "stream",
     "text": [
      "<class 'carbon.routers.exact_base_router.ExactBase'>\n",
      "<class 'carbon.routers.exact_router_x0y0n.ExactRouterX0Y0N'>\n",
      "<class 'carbon.routers.alpha_router.AlphaRouter'>\n",
      "<class 'carbon.routers.fast_router.FastRouter'>\n"
     ]
    }
   ],
   "source": [
    "for Router in ROUTERS:\n",
    "    print(Router)\n",
    "    router = Router()\n",
    "    assert router.parameters == {}\n",
    "    assert router.debug == False\n",
    "    assert router.verbose == False\n",
    "    assert router.raiseonerror == False\n",
    "    assert router.assert_precision == 4\n",
    "    assert router.use_floor_division == False\n",
    "\n",
    "    params = {\n",
    "        \"debug\": True,\n",
    "        \"verbose\": True,\n",
    "        \"raiseonerror\": True,\n",
    "        \"assert_precision\": 5,\n",
    "        \"use_floor_division\": True,\n",
    "    }\n",
    "    router = Router(parameters=params)\n",
    "    assert router.parameters == params\n",
    "    assert router.debug == True\n",
    "    assert router.verbose == True\n",
    "    assert router.raiseonerror == True\n",
    "    assert router.assert_precision == 5\n",
    "    assert router.use_floor_division == True"
   ]
  },
  {
   "cell_type": "markdown",
   "id": "e0e7bff9-01b6-4d1d-b486-dc6a270025d4",
   "metadata": {},
   "source": [
    "## CarbonSimulatorUI\n",
    "\n",
    "Make sure the Simulation object is working correctly"
   ]
  },
  {
   "cell_type": "code",
   "execution_count": 4,
   "id": "08e763db-37bd-4698-b0c5-77fb7d274111",
   "metadata": {},
   "outputs": [],
   "source": [
    "Sim = CarbonSimulatorUI()\n",
    "assert Sim.matcher.parameters == {\n",
    "    'debug': False,\n",
    "    'verbose': False,\n",
    "    'raiseonerror': False,\n",
    "    'assert_precision': 4,\n",
    "    'use_floor_division': False\n",
    "}"
   ]
  },
  {
   "cell_type": "code",
   "execution_count": 5,
   "id": "b75efad3-7647-40bb-890d-5c371bc4bcd0",
   "metadata": {},
   "outputs": [],
   "source": [
    "Sim = CarbonSimulatorUI(debug=True)\n",
    "assert Sim.matcher.p(\"debug\") == True"
   ]
  },
  {
   "cell_type": "code",
   "execution_count": 6,
   "id": "d5e035a4-0c87-4a14-9e80-d9a079dddbe7",
   "metadata": {},
   "outputs": [
    {
     "name": "stdout",
     "output_type": "stream",
     "text": [
      "[__init__] pair=None, verbose=True, raiseonerror=False\n"
     ]
    }
   ],
   "source": [
    "Sim = CarbonSimulatorUI(verbose=True)\n",
    "assert Sim.matcher.p(\"verbose\") == True"
   ]
  },
  {
   "cell_type": "code",
   "execution_count": 7,
   "id": "7a14ff7f-234e-413b-b213-da89dc7daf99",
   "metadata": {},
   "outputs": [],
   "source": [
    "Sim = CarbonSimulatorUI(raiseonerror=True)\n",
    "assert Sim.matcher.p(\"raiseonerror\") == True"
   ]
  },
  {
   "cell_type": "code",
   "execution_count": 8,
   "id": "5cd7d8bc-e7c7-4642-8a4c-938edc4b8b41",
   "metadata": {},
   "outputs": [],
   "source": [
    "pass"
   ]
  },
  {
   "cell_type": "code",
   "execution_count": null,
   "id": "78b0ca7d-1729-46c7-b27e-c6ce7091b5c9",
   "metadata": {},
   "outputs": [],
   "source": []
  },
  {
   "cell_type": "code",
   "execution_count": null,
   "id": "588421a4-1e0d-4728-85a6-b4d10ac2dcb1",
   "metadata": {},
   "outputs": [],
   "source": []
  },
  {
   "cell_type": "code",
   "execution_count": null,
   "id": "fdc8b7e4-b2cb-4af9-8f70-e39cef908637",
   "metadata": {},
   "outputs": [],
   "source": []
  }
 ],
 "metadata": {
  "jupytext": {
   "formats": "ipynb,py:light"
  },
  "kernelspec": {
   "display_name": "Python 3",
   "language": "python",
   "name": "python3"
  },
  "language_info": {
   "codemirror_mode": {
    "name": "ipython",
    "version": 3
   },
   "file_extension": ".py",
   "mimetype": "text/x-python",
   "name": "python",
   "nbconvert_exporter": "python",
   "pygments_lexer": "ipython3",
   "version": "3.8.8"
  }
 },
 "nbformat": 4,
 "nbformat_minor": 5
}
