{
 "cells": [
  {
   "cell_type": "code",
   "execution_count": 1,
   "id": "ce011baf",
   "metadata": {},
   "outputs": [
    {
     "name": "stdout",
     "output_type": "stream",
     "text": [
      "[stdimports] imported np, pd, plt, os, sqrt, exp, log\n",
      "SolTestBase v0.2 (11/02/2023)\n",
      "CarbonFloatInt32 v1.0 (10/Feb/2023)\n",
      "CarbonOrderUI v1.7 (11/Feb/2023)\n",
      "CarbonPair v2.2 (11/Feb/2022)\n",
      "Carbon v2.3.2-BETA4 (11/Feb/2022)\n"
     ]
    }
   ],
   "source": [
    "from carbon.helpers.stdimports import *\n",
    "from carbon.helpers.soltest import SolTestBase\n",
    "from carbon.helpers.floatint import *\n",
    "print(\"{0.__name__} v{0.__VERSION__} ({0.__DATE__})\".format(SolTestBase))\n",
    "print(\"{0.__name__} v{0.__VERSION__} ({0.__DATE__})\".format(CarbonFloatInt32))\n",
    "print(\"{0.__name__} v{0.__VERSION__} ({0.__DATE__})\".format(CarbonOrderUI))\n",
    "print(\"{0.__name__} v{0.__VERSION__} ({0.__DATE__})\".format(P))\n",
    "from math import log2, floor, ceil, sqrt\n",
    "print_version(require=\"2.3.2\")"
   ]
  },
  {
   "cell_type": "markdown",
   "id": "edf6bdb6",
   "metadata": {},
   "source": [
    "# Solidity Curve Testing (NBTest058)\n",
    "\n",
    "In the terminology in this sheet we consider by source and by target **from the point of view of the AMM**, therefore _by source_ fixes _dy_ and calculates _dx_ and vice versa.\n",
    "\n",
    "**By source (dx from dy)**\n",
    "\n",
    "$$\n",
    "\\Delta x = \\frac{\\Delta y z^2}{(Ay+Bz)(Ay+Bz-A\\Delta y)} =_{A=0} \\frac{\\Delta y} {B^2}\n",
    "$$\n",
    "\n",
    "\n",
    "\n",
    "**By target (dy from dx)**\n",
    "\n",
    "$$\n",
    "\\Delta y = \\frac{\\Delta x(Ay+Bz)^2}{A\\Delta x(Ay+Bz)+z^2} =_{A=0} \\frac{\\Delta x(Bz)^2}{z^2} = \\Delta x B^2\n",
    "$$\n",
    "\n",
    "[doc][doc]\n",
    "\n",
    "\n",
    "[doc]:https://docs.google.com/document/d/1x4ZbbS3nIRSJ0ojaOrcBhOc-_eOTga6BajDjK45o7u4/edit"
   ]
  },
  {
   "cell_type": "code",
   "execution_count": 2,
   "id": "1a7ffa21",
   "metadata": {},
   "outputs": [],
   "source": [
    "FI32 = CarbonFloatInt32\n",
    "FI40 = CarbonFloatInt40"
   ]
  },
  {
   "cell_type": "markdown",
   "id": "8efad016",
   "metadata": {},
   "source": [
    "## Demo and test of yzABS in CarbonOrderUI and pair decimals"
   ]
  },
  {
   "cell_type": "code",
   "execution_count": 3,
   "id": "d2834e09",
   "metadata": {},
   "outputs": [
    {
     "data": {
      "text/plain": [
       "P('ETH/USDC').sd(18,6)"
      ]
     },
     "execution_count": 3,
     "metadata": {},
     "output_type": "execute_result"
    }
   ],
   "source": [
    "ETHUSDC = P(\"ETH/USDC\").sd(18,6)\n",
    "assert ETHUSDC.decimals == {'ETH': 18, 'USDC': 6, '_TKNB': 18, '_TKNQ': 6, '_DIFFQB': -12}\n",
    "assert ETHUSDC.decdiffqb == -12\n",
    "assert P(ETHUSDC).has_decimals\n",
    "assert ETHUSDC.price_convention == 'USDC per ETH'\n",
    "ETHUSDC"
   ]
  },
  {
   "cell_type": "code",
   "execution_count": 4,
   "id": "2372a9a1",
   "metadata": {},
   "outputs": [
    {
     "name": "stdout",
     "output_type": "stream",
     "text": [
      "[yzABS] pair=P('ETH/USDC').sd(18,6), y=ETH(18), x=USDC(6)\n",
      "[yzABS] scale = 2**10 = 1024\n",
      "[yzABS] y=0.5 -> y_wei=5e+17 [ETH-wei]\n",
      "[yzABS] yint=1 -> z_wei=1000000000000000000 [ETH-wei]\n",
      "[yzABS] pa_raw=0.0006666666666666666 ETH per USDC -> 666666666 ETH-wei per USDC-wei\n",
      "[yzABS] pb_raw=0.0005 ETH per USDC -> 500000000 ETH-wei per USDC-wei\n",
      "[yzABS] a=0.0034592091997182155 -> 3459.2091997182156 * scale = 3542230\n",
      "[yzABS] b=0.022360679774997897 -> 22360.679774997898 * scale = 22897336\n",
      "[yzABS] yzABS = r(y=5e+17, z=1000000000000000000, A=3542230, B=22897336, S=1024)\n"
     ]
    }
   ],
   "source": [
    "oui = CarbonOrderUI.from_prices(ETHUSDC, \"ETH\", 1500, 2000, 1, 0.5)\n",
    "r = oui.yzABS(sx=10, verbose=True)\n",
    "ddf, ddf2 = 10**12, 10**6\n",
    "assert r.y == 0.5 * 10**18\n",
    "assert r.z == 10**18\n",
    "assert r.A == int(oui.S * ddf2 * r.S)\n",
    "assert r.B == int(oui.B * ddf2 * r.S)\n",
    "assert r.S == 2**10\n",
    "assert oui.descr() == 'Sell ETH buy USDC from 1500.0000 to 2000.0000 USDC per ETH'"
   ]
  },
  {
   "cell_type": "code",
   "execution_count": 5,
   "id": "0d331400",
   "metadata": {},
   "outputs": [
    {
     "name": "stdout",
     "output_type": "stream",
     "text": [
      "[yzABS] pair=P('ETH/USDC').sd(18,6), y=USDC(6), x=ETH(18)\n",
      "[yzABS] scale = 2**40 = 1099511627776\n",
      "[yzABS] y=790 -> y_wei=790000000 [USDC-wei]\n",
      "[yzABS] yint=1100 -> z_wei=1100000000 [USDC-wei]\n",
      "[yzABS] pa_raw=1000.0 USDC per ETH -> 0 USDC-wei per ETH-wei\n",
      "[yzABS] pb_raw=500.00000000000006 USDC per ETH -> 0 USDC-wei per ETH-wei\n",
      "[yzABS] a=9.262096826685895 -> 9.262096826685894e-06 * scale = 10183783\n",
      "[yzABS] b=22.360679774997898 -> 2.2360679774997898e-05 * scale = 24585827\n",
      "[yzABS] yzABS = r(y=790000000, z=1100000000, A=10183783, B=24585827, S=1099511627776)\n"
     ]
    }
   ],
   "source": [
    "oui = CarbonOrderUI.from_prices(ETHUSDC, \"USDC\", 1000, 500, 1100, 790)\n",
    "r = oui.yzABS(sx=40, verbose=True)\n",
    "ddf, ddf2 = 10**-12, 10**-6\n",
    "assert r.y == 790 * 10**6\n",
    "assert r.z == 1100 * 10**6\n",
    "assert r.A == int(oui.S * ddf2 * r.S)\n",
    "assert r.B == int(oui.B * ddf2 * r.S)\n",
    "assert r.S == 2**40"
   ]
  },
  {
   "cell_type": "markdown",
   "id": "b83ee112",
   "metadata": {},
   "source": [
    "## Demo [NOTEST]"
   ]
  },
  {
   "cell_type": "markdown",
   "id": "7c7952cb",
   "metadata": {},
   "source": [
    "### Trade functions"
   ]
  },
  {
   "cell_type": "code",
   "execution_count": 6,
   "id": "93e6e570",
   "metadata": {},
   "outputs": [],
   "source": [
    "mulDivF = lambda x, y, z: (x * y) // z\n",
    "mulDiv = mulDivF\n",
    "mulDivC = lambda x, y, z: (x * y + z - 1) // z"
   ]
  },
  {
   "cell_type": "markdown",
   "id": "06174b29",
   "metadata": {},
   "source": [
    "**this is actually by target**"
   ]
  },
  {
   "cell_type": "code",
   "execution_count": 7,
   "id": "2fd365f9",
   "metadata": {},
   "outputs": [],
   "source": [
    "def trade_by_target_act(params, C):\n",
    "\n",
    "    dx = params[0]\n",
    "    y,z,A,B,s = params[1]\n",
    "    print(params)\n",
    "    ONE = s\n",
    "    temp1 = C(y * A + z * B, \"temp1\")               # 177 bits at most; cannot overflow\n",
    "    temp2 = C(temp1 * dx / ONE, \"temp2\")            # 224 bits at most; can overflow; some precision loss\n",
    "    temp3 = C(temp2 * A + z * z * ONE, \"temp3\")     # 256 bits at most; can overflow\n",
    "    dy = mulDiv(temp1, temp2, temp3)\n",
    "    print(dx, temp1, temp2, temp3, dy)\n",
    "    return dy"
   ]
  },
  {
   "cell_type": "code",
   "execution_count": 8,
   "id": "437c2fd2",
   "metadata": {},
   "outputs": [],
   "source": [
    "# # by target_act\n",
    "\n",
    "# temp1 = z * ONE\n",
    "# temp2 = y * A + z * B\n",
    "# temp3 = temp2 * dy\n",
    "# scale = mulDivC(temp3, A, 2**256-1)\n",
    "# temp4 = mulDivC(temp1, temp1, scale)\n",
    "# temp5 = mulDivC(temp3, A, scale)\n",
    "# dx    = mulDivF(temp2, temp3 // scale, temp4 + temp5)"
   ]
  },
  {
   "cell_type": "markdown",
   "id": "8e375bb1",
   "metadata": {},
   "source": [
    "**those are actually by source**\n",
    "\n",
    "this one is SKL version of the fixed code"
   ]
  },
  {
   "cell_type": "code",
   "execution_count": 9,
   "id": "7b237613",
   "metadata": {},
   "outputs": [],
   "source": [
    "def trade_by_source_act(params, C):\n",
    "\n",
    "    dy = params[0]\n",
    "    y,z,A,B,s = params[1]\n",
    "    print(params)\n",
    "    ONE = s\n",
    "    temp1 = C(z * ONE, \"temp1\")                  \n",
    "    temp2 = C(y * A + z * B, \"temp2\")         \n",
    "    temp3 = C(temp2 - dy * A, \"temp3\")        \n",
    "    scale = mulDiv(temp2, temp3, 2**255)+1\n",
    "    temp1s = C(temp1//scale, \"temp1s\")\n",
    "    temp2s = C(temp2//scale, \"temp2s\")\n",
    "    dx = mulDiv(\n",
    "        C(dy*temp1s, \"dx*temp1s\"), \n",
    "        temp1, \n",
    "        C(temp2s*temp3, \"temp2s*temp3\")\n",
    "    )\n",
    "    print(dy, dx*temp1s, temp1, temp2s*temp3, dx)\n",
    "    return dx"
   ]
  },
  {
   "cell_type": "markdown",
   "id": "ce14b900",
   "metadata": {},
   "source": [
    "this is BM version of the fixed code"
   ]
  },
  {
   "cell_type": "code",
   "execution_count": 10,
   "id": "e0cca37a",
   "metadata": {},
   "outputs": [],
   "source": [
    "# # by source_act\n",
    "# mulDivF = lambda x, y, z: x * y // z\n",
    "# mulDivC = lambda x, y, z: (x * y + z - 1) // z\n",
    "\n",
    "# temp1 = z * ONE\n",
    "# temp2 = y * A + z * B\n",
    "# temp3 = temp2 - dx * A\n",
    "# scale = mulDivC(temp2, temp3, 2**256-1)\n",
    "# temp4 = mulDivC(temp1, temp1, scale)\n",
    "# temp5 = mulDivF(temp2, temp3, scale)\n",
    "# dy    = mulDivC(dx, temp4, temp5)"
   ]
  },
  {
   "cell_type": "markdown",
   "id": "9c56bb3e",
   "metadata": {},
   "source": [
    "that's the previous, failing, version of the code"
   ]
  },
  {
   "cell_type": "code",
   "execution_count": 11,
   "id": "69728145",
   "metadata": {},
   "outputs": [],
   "source": [
    "def trade_by_source_old_act(params, C):\n",
    "\n",
    "    dy = params[0]\n",
    "    y,z,A,B,s = params[1]\n",
    "    ONE = s\n",
    "    temp1 = C(z * ONE, \"temp1\")                  \n",
    "    temp2 = C(y * A + z * B, \"temp2\")         \n",
    "    temp3 = C(temp2 - dy * A, \"temp3\")        \n",
    "    dx = mulDiv(\n",
    "        C(dy*temp1, \"dy*temp1\"), \n",
    "        temp1, \n",
    "        C(temp2*temp3, \"temp2*temp3\")\n",
    "    ) \n",
    "    print(dy, dy*temp1, temp1, temp2*temp3, dx)\n",
    "    return dx"
   ]
  },
  {
   "cell_type": "markdown",
   "id": "b21da17c",
   "metadata": {},
   "source": [
    "### Analysis"
   ]
  },
  {
   "cell_type": "code",
   "execution_count": 12,
   "id": "1352fa37",
   "metadata": {},
   "outputs": [],
   "source": [
    "class STB(SolTestBase):\n",
    "    #PRINT_LVL_DEFAULT = SolTestBase.LVL_LOG\n",
    "    PRINT_LVL_DEFAULT = SolTestBase.LVL_WARN\n",
    "VERBOSE = False"
   ]
  },
  {
   "cell_type": "markdown",
   "id": "f017c180",
   "metadata": {},
   "source": [
    "#### TKN/DAI -- same decimality, same reasonable price"
   ]
  },
  {
   "cell_type": "code",
   "execution_count": 13,
   "id": "be8eaec6",
   "metadata": {},
   "outputs": [],
   "source": [
    "TKNDAI = P(\"TKN/DAI\").sd(18,18)\n",
    "price = 5  # DAI per TKN\n",
    "oui = CarbonOrderUI.from_prices(TKNDAI, \"TKN\", price, price, 1000, 1000)\n",
    "c = curve = oui.yzABS(sx=40, verbose=VERBOSE)"
   ]
  },
  {
   "cell_type": "code",
   "execution_count": 14,
   "id": "42a5c5df",
   "metadata": {},
   "outputs": [
    {
     "name": "stdout",
     "output_type": "stream",
     "text": [
      "(1e+18, r(y=1000000000000000000000, z=1000000000000000000000, A=0, B=491716548351, S=1099511627776))\n",
      "1e+18 5497558138896018159282952339456000000000000000000000 1099511627776000000000000000000000 241785163922221334256682292088662337232306176000000000000000000000 5000000000014568431\n"
     ]
    },
    {
     "data": {
      "text/plain": [
       "5.000000000014569"
      ]
     },
     "execution_count": 14,
     "metadata": {},
     "output_type": "execute_result"
    }
   ],
   "source": [
    "params_bysrc  = (1e18, curve) # dy = wei sent (by source, 1 TKN)\n",
    "dx = trade_by_source_act( params_bysrc, STB(context=(\"by_source\", curve)))\n",
    "dx/1e18 # 1 TKN -> 5 DAI ==> 5 DAI per TKN"
   ]
  },
  {
   "cell_type": "code",
   "execution_count": 15,
   "id": "4a615e22",
   "metadata": {},
   "outputs": [
    {
     "name": "stdout",
     "output_type": "stream",
     "text": [
      "(5e+18, r(y=1000000000000000000000, z=1000000000000000000000, A=0, B=491716548351, S=1099511627776))\n",
      "5e+18 491716548351000000000000000000000 2236067977496531949120054474223665545216 1099511627776000000000000000000000000000000000000000000 999999999997086190\n"
     ]
    },
    {
     "data": {
      "text/plain": [
       "0.9999999999970862"
      ]
     },
     "execution_count": 15,
     "metadata": {},
     "output_type": "execute_result"
    }
   ],
   "source": [
    "params_bytarg = (5e18, curve)       # dx = token wei received (target, DAI)\n",
    "dy = trade_by_target_act( params_bytarg, STB(context=(\"by_target\", curve)) )\n",
    "dy/1e18 # 1 TKN ->  5 DAI --> 5 DAI per TKN"
   ]
  },
  {
   "cell_type": "markdown",
   "id": "33180cef",
   "metadata": {},
   "source": [
    "#### ETH/USDC -- y=ETH, x=USDC"
   ]
  },
  {
   "cell_type": "code",
   "execution_count": 16,
   "id": "d042300c",
   "metadata": {},
   "outputs": [],
   "source": [
    "ETHUSDC = P(\"ETH/USDC\").sd(18,6)\n",
    "oui = CarbonOrderUI.from_prices(ETHUSDC, \"ETH\", 2000, 2000, 1, 0.5)\n",
    "curve = oui.yzABS(sx=40, verbose=VERBOSE)"
   ]
  },
  {
   "cell_type": "code",
   "execution_count": 17,
   "id": "e6fa56f7",
   "metadata": {},
   "outputs": [
    {
     "name": "stdout",
     "output_type": "stream",
     "text": [
      "(1e+18, r(y=5e+17, z=1000000000000000000, A=0, B=24585827417585820, S=1099511627776))\n",
      "1e+18 2199023254452488372224000000000000000000 1099511627776000000000000000000 604462909807314618688415159765465413263269547110658276245826332262400 1999999999\n"
     ]
    },
    {
     "data": {
      "text/plain": [
       "1999.999999"
      ]
     },
     "execution_count": 17,
     "metadata": {},
     "output_type": "execute_result"
    }
   ],
   "source": [
    "params_bysrc  = (1*1e18, curve) # dy = token wei sent (by source, 1 ETH)\n",
    "dx = trade_by_source_act( params_bysrc, STB(context=(\"by_source\", curve)))\n",
    "dx/1e6 # 1 ETH -> 2000 USDC"
   ]
  },
  {
   "cell_type": "code",
   "execution_count": 18,
   "id": "f211194d",
   "metadata": {},
   "outputs": [
    {
     "name": "stdout",
     "output_type": "stream",
     "text": [
      "(2000000000.0, r(y=5e+17, z=1000000000000000000, A=0, B=24585827417585820, S=1099511627776))\n",
      "2000000000.0 24585827417585819755229268861255680 44721359549995793980834690629632 1099511627776000000000000000000000000000000000000 1000000000000000027\n"
     ]
    },
    {
     "data": {
      "text/plain": [
       "1.0"
      ]
     },
     "execution_count": 18,
     "metadata": {},
     "output_type": "execute_result"
    }
   ],
   "source": [
    "params_bytarg = (2000*1e6, curve)       # dx = token wei received (target, USDC)\n",
    "dy = trade_by_target_act( params_bytarg, STB(context=(\"by_target\", curve)) )\n",
    "dy/1e18 # 1 ETH -> 2000 USDC"
   ]
  },
  {
   "cell_type": "markdown",
   "id": "3a539a0e",
   "metadata": {},
   "source": [
    "#### ETH/USDC -- y=USDC, x=ETH"
   ]
  },
  {
   "cell_type": "code",
   "execution_count": 19,
   "id": "ebc5d339",
   "metadata": {},
   "outputs": [
    {
     "name": "stdout",
     "output_type": "stream",
     "text": [
      "r(y=750000000, z=750000000, A=0, B=34769610, S=1099511627776)\n"
     ]
    }
   ],
   "source": [
    "oui = CarbonOrderUI.from_prices(ETHUSDC, \"USDC\", 1000, 1000, 750, 750)\n",
    "curve = oui.yzABS(sx=40, verbose=VERBOSE)\n",
    "print(curve)"
   ]
  },
  {
   "cell_type": "code",
   "execution_count": 20,
   "id": "ba6e6487",
   "metadata": {},
   "outputs": [
    {
     "name": "stdout",
     "output_type": "stream",
     "text": [
      "(1000000000.0, r(y=750000000, z=750000000, A=0, B=34769610, S=1099511627776))\n",
      "1000000000.0 824633748159494423332333289472000000000 824633720832000000000 680020750998056250000000000000000 1000000033138948521\n"
     ]
    },
    {
     "data": {
      "text/plain": [
       "1.0000000331389485"
      ]
     },
     "execution_count": 20,
     "metadata": {},
     "output_type": "execute_result"
    }
   ],
   "source": [
    "params_bysrc  = (1000*1e6, curve)       # dy = USDC-wei\n",
    "dx = trade_by_source_act( params_bysrc, STB(context=(\"by_source\", curve)) )\n",
    "dx/1e18 # 1000 USDC -> 1 ETH"
   ]
  },
  {
   "cell_type": "code",
   "execution_count": 21,
   "id": "38c95e41",
   "metadata": {},
   "outputs": [
    {
     "name": "stdout",
     "output_type": "stream",
     "text": [
      "(1e+18, r(y=750000000, z=750000000, A=0, B=34769610, S=1099511627776))\n",
      "1e+18 26077207500000000 23717082058283267653632 618475290624000000000000000000 999999966\n"
     ]
    },
    {
     "data": {
      "text/plain": [
       "999.999966"
      ]
     },
     "execution_count": 21,
     "metadata": {},
     "output_type": "execute_result"
    }
   ],
   "source": [
    "params_bytarg = (1e18, curve)  # dx = ETH-wei\n",
    "dy = trade_by_target_act( params_bytarg, STB(context=(\"by_target\", curve)) )\n",
    "dy/1e6 # 1000 USDC -> 1 ETH"
   ]
  },
  {
   "cell_type": "markdown",
   "id": "1238532a",
   "metadata": {},
   "source": [
    "#### SHIB/USDC -- y=SHIB, x=USDC"
   ]
  },
  {
   "cell_type": "code",
   "execution_count": 22,
   "id": "4483c0fe",
   "metadata": {},
   "outputs": [
    {
     "name": "stdout",
     "output_type": "stream",
     "text": [
      "r(y=2e+23, z=2e+23, A=0, B=347696105761141489664, S=1099511627776)\n"
     ]
    }
   ],
   "source": [
    "SHIBUSDC = P(\"SHIB/USDC\").sd(18,6)\n",
    "price = 1e-5\n",
    "oui = CarbonOrderUI.from_prices(SHIBUSDC, \"SHIB\", price, price, 2e5, 2e5)\n",
    "curve = oui.yzABS(sx=40, verbose=VERBOSE)\n",
    "print(curve)"
   ]
  },
  {
   "cell_type": "code",
   "execution_count": 23,
   "id": "8c462487",
   "metadata": {},
   "outputs": [
    {
     "name": "stdout",
     "output_type": "stream",
     "text": [
      "(1e+23, r(y=2e+23, z=2e+23, A=0, B=347696105761141489664, S=1099511627776))\n",
      "[WARNING:OVERFLOW:TEMP2S*TEMP3] 255 bits: close to max\n",
      "1e+23 2632807291694421164755057000000 219902325555199981553255926290448384 57896044618229089136646689796713055452480359437934408123369084530614903767040 1000000\n"
     ]
    },
    {
     "data": {
      "text/plain": [
       "1.0"
      ]
     },
     "execution_count": 23,
     "metadata": {},
     "output_type": "execute_result"
    }
   ],
   "source": [
    "params_bysrc  = (1*1e5*1e18, curve)      # dy = SHIB-wei (1 USD worth of SHIB)\n",
    "dx = trade_by_source_act( params_bysrc, STB(context=(\"by_source\", curve)) )\n",
    "dx / 1e6 # 1e5 SHIB -> 1 USDC"
   ]
  },
  {
   "cell_type": "code",
   "execution_count": 24,
   "id": "272542a3",
   "metadata": {},
   "outputs": [
    {
     "name": "stdout",
     "output_type": "stream",
     "text": [
      "(1000000.0, r(y=2e+23, z=2e+23, A=0, B=347696105761141489664, S=1099511627776))\n",
      "1000000.0 69539221152228296189580545547731059544686592 63245553203367578540979698731480776704 43980465111039994123099750822391432276334879391719429767168 99999999999999985943809\n"
     ]
    },
    {
     "data": {
      "text/plain": [
       "99999.99999999999"
      ]
     },
     "execution_count": 24,
     "metadata": {},
     "output_type": "execute_result"
    }
   ],
   "source": [
    "params_bytarg = (1*1e6, curve) # dx = USDC-wei\n",
    "dy = trade_by_target_act( params_bytarg, STB(context=(\"by_target\", curve)) )\n",
    "dy/1e18 # 1e5 SHIB -> 1 USDC"
   ]
  },
  {
   "cell_type": "markdown",
   "id": "26cafcc8",
   "metadata": {},
   "source": [
    "#### Nick's example DAI/USDC -- Selling DAI"
   ]
  },
  {
   "cell_type": "code",
   "execution_count": 25,
   "id": "d1c452f8",
   "metadata": {},
   "outputs": [
    {
     "name": "stdout",
     "output_type": "stream",
     "text": [
      "r(y=1e+23, z=1e+23, A=0, B=1099511627776000000, S=1099511627776)\n"
     ]
    }
   ],
   "source": [
    "DAIUSDC = P(\"DAI/USDC\").sd(18,6)\n",
    "price = 1\n",
    "oui = CarbonOrderUI.from_prices(DAIUSDC, \"DAI\", price, price, 1e5, 1e5)\n",
    "curve = oui.yzABS(sx=40, verbose=VERBOSE)\n",
    "print(curve)"
   ]
  },
  {
   "cell_type": "code",
   "execution_count": 26,
   "id": "07ba8785",
   "metadata": {
    "lines_to_next_cell": 2
   },
   "outputs": [
    {
     "name": "stdout",
     "output_type": "stream",
     "text": [
      "(1e+18, r(y=1e+23, z=1e+23, A=0, B=1099511627776000000, S=1099511627776))\n",
      "[WARNING:OVERFLOW:TEMP2S*TEMP3] 255 bits: close to max\n",
      "1e+18 526560283637935027904014110996239763 109951162777599990776627963145224192 57895973354467169559526534691796259748754773305955415093504382476762774241280 999999\n"
     ]
    },
    {
     "data": {
      "text/plain": [
       "0.999999"
      ]
     },
     "execution_count": 26,
     "metadata": {},
     "output_type": "execute_result"
    }
   ],
   "source": [
    "params_bysrc  = (1*1e18, curve)        # dy = DAI-wei\n",
    "dx = trade_by_source_act( params_bysrc, STB(context=(\"by_source\", curve)) )\n",
    "dx/1e6 # 1 DAI -> 1 USDC"
   ]
  },
  {
   "cell_type": "code",
   "execution_count": 27,
   "id": "6f6cdf38",
   "metadata": {
    "lines_to_next_cell": 2
   },
   "outputs": [
    {
     "name": "stdout",
     "output_type": "stream",
     "text": [
      "(1000000.0, r(y=1e+23, z=1e+23, A=0, B=1099511627776000000, S=1099511627776))\n",
      "1000000.0 109951162777599990580649754106133915631616 99999999999999996863366107917975552 10995116277759998530774937705597858069083719847929857441792 1000000000000000016\n"
     ]
    },
    {
     "data": {
      "text/plain": [
       "1.0"
      ]
     },
     "execution_count": 27,
     "metadata": {},
     "output_type": "execute_result"
    }
   ],
   "source": [
    "params_bytarg = (1*1e6, curve)  # dx = USDC-wei\n",
    "dy = trade_by_target_act( params_bytarg, STB(context=(\"by_target\", curve)) )\n",
    "dy / 1e18 # 1 DAI -> 1 USDC"
   ]
  },
  {
   "cell_type": "markdown",
   "id": "c329983e",
   "metadata": {},
   "source": [
    "#### Nick's example DAI/USDC -- Selling USDC"
   ]
  },
  {
   "cell_type": "code",
   "execution_count": 28,
   "id": "a7abd55c",
   "metadata": {},
   "outputs": [],
   "source": [
    "SHIBUSDC = P(\"DAI/USDC\").sd(18,6)\n",
    "price = 1\n",
    "oui = CarbonOrderUI.from_prices(SHIBUSDC, \"USDC\", price, price, 1e5, 1e5)\n",
    "curve = oui.yzABS(sx=40, verbose=VERBOSE)"
   ]
  },
  {
   "cell_type": "code",
   "execution_count": 29,
   "id": "ceb03c44",
   "metadata": {},
   "outputs": [
    {
     "name": "stdout",
     "output_type": "stream",
     "text": [
      "(1000000.0, r(y=100000000000.0, z=100000000000.0, A=0, B=1099511, S=1099511627776))\n",
      "1000000.0 109951288332907530323650989260800000000000 109951162777600000000000 12089244391210000000000000000000000 1000001141918869783\n"
     ]
    },
    {
     "data": {
      "text/plain": [
       "1.0000011419188697"
      ]
     },
     "execution_count": 29,
     "metadata": {},
     "output_type": "execute_result"
    }
   ],
   "source": [
    "params_bysrc  = (1*1e6, curve)       # dy = USDC-wei\n",
    "dx = trade_by_source_act( params_bysrc, STB(context=(\"by_source\", curve)) )\n",
    "dx/1e18"
   ]
  },
  {
   "cell_type": "code",
   "execution_count": 30,
   "id": "21dd1f5f",
   "metadata": {},
   "outputs": [
    {
     "name": "stdout",
     "output_type": "stream",
     "text": [
      "(1e+18, r(y=100000000000.0, z=100000000000.0, A=0, B=1099511, S=1099511627776))\n",
      "1e+18 109951100000000000 99999942904105404465152 10995116277760000000000000000000000 999998\n"
     ]
    },
    {
     "data": {
      "text/plain": [
       "0.999998"
      ]
     },
     "execution_count": 30,
     "metadata": {},
     "output_type": "execute_result"
    }
   ],
   "source": [
    "params_bytarg = (1e18, curve)      # dx = DAI-wei\n",
    "dy = trade_by_target_act( params_bytarg, STB(context=(\"by_target\", curve)) )\n",
    "dy/1e6"
   ]
  },
  {
   "cell_type": "markdown",
   "id": "fc72df40",
   "metadata": {},
   "source": [
    "## SolTestBase tests"
   ]
  },
  {
   "cell_type": "code",
   "execution_count": 31,
   "id": "a4df1fd1",
   "metadata": {},
   "outputs": [],
   "source": [
    "TB0 = SolTestBase()\n",
    "TBrw = SolTestBase(raise_lvl=TB0.LVL_WARN)\n",
    "TBre = SolTestBase(raise_lvl=TB0.LVL_ERR)"
   ]
  },
  {
   "cell_type": "code",
   "execution_count": 32,
   "id": "b1c59eb0",
   "metadata": {
    "lines_to_next_cell": 2
   },
   "outputs": [
    {
     "name": "stdout",
     "output_type": "stream",
     "text": [
      "[ERROR:UNDERFLOW:TESTLABEL] 1 bits: < underflow threshold\n",
      "('[ERROR:UNDERFLOW:TESTLABEL] 1 bits: < underflow threshold', {}, None)\n",
      "[WARNING:UNDERFLOW:TESTLABEL] 11 bits: underflow warning\n",
      "('[WARNING:UNDERFLOW:TESTLABEL] 11 bits: underflow warning', {}, None)\n",
      "[WARNING:OVERFLOW:TESTLABEL] 254 bits: close to max\n",
      "('[WARNING:OVERFLOW:TESTLABEL] 254 bits: close to max', {}, None)\n",
      "[WARNING:OVERFLOW:TESTLABEL] 256 bits: close to max\n",
      "('[WARNING:OVERFLOW:TESTLABEL] 256 bits: close to max', {}, None)\n",
      "[ERROR:OVERFLOW:TESTLABEL] 256 bits: > max\n",
      "('[ERROR:OVERFLOW:TESTLABEL] 256 bits: > max', {}, None)\n"
     ]
    }
   ],
   "source": [
    "try:\n",
    "    TBrw.check_uint256(1, \"testlabel\")\n",
    "    raise RuntimeError(\"should raise\")\n",
    "except TB0.UnderflowError as e:\n",
    "    print(e)\n",
    "try:\n",
    "    TBrw.check_uint256(2000, \"testlabel\")\n",
    "    raise RuntimeError(\"should raise\")\n",
    "except TB0.UnderflowWarning as e:\n",
    "    print(e)\n",
    "try:\n",
    "    TBrw.check_uint256(2**254, \"testlabel\")\n",
    "    raise RuntimeError(\"should raise\")\n",
    "except TB0.OverflowWarning as e:\n",
    "    print(e)\n",
    "try:\n",
    "    TBrw.check_uint256(2**256-1, \"testlabel\")\n",
    "    raise RuntimeError(\"should raise\")\n",
    "except TB0.OverflowWarning as e:\n",
    "    print(e)\n",
    "try:\n",
    "    TBrw.check_uint256(2**256, \"testlabel\")\n",
    "    raise RuntimeError(\"should raise\")\n",
    "except TB0.OverflowError as e:\n",
    "    print(e)"
   ]
  },
  {
   "cell_type": "code",
   "execution_count": 33,
   "id": "1351ecf9",
   "metadata": {
    "lines_to_next_cell": 2
   },
   "outputs": [
    {
     "name": "stdout",
     "output_type": "stream",
     "text": [
      "[ERROR:UNDERFLOW:TESTLABEL] 1 bits: < underflow threshold\n",
      "('[ERROR:UNDERFLOW:TESTLABEL] 1 bits: < underflow threshold', {}, None)\n",
      "[WARNING:UNDERFLOW:TESTLABEL] 11 bits: underflow warning\n",
      "[WARNING:OVERFLOW:TESTLABEL] 254 bits: close to max\n",
      "[WARNING:OVERFLOW:TESTLABEL] 256 bits: close to max\n",
      "[ERROR:OVERFLOW:TESTLABEL] 256 bits: > max\n",
      "('[ERROR:OVERFLOW:TESTLABEL] 256 bits: > max', {}, None)\n"
     ]
    }
   ],
   "source": [
    "try:\n",
    "    TBre.check_uint256(1, label=\"testlabel\")\n",
    "    raise RuntimeError(\"should raise\")\n",
    "except TBre.UnderflowError as e:\n",
    "    print(e)\n",
    "assert TBre.check_uint256(2000, label=\"testlabel\") == 2000\n",
    "assert TBre.check_uint256(2**254, label=\"testlabel\") == 2**254\n",
    "assert TBre.check_uint256(2**256-1, label=\"testlabel\") == 2**256-1\n",
    "try:\n",
    "    TBre.check_uint256(2**256, label=\"testlabel\")\n",
    "    raise RuntimeError(\"should raise\")\n",
    "except TBre.OverflowError as e:\n",
    "    print(e)"
   ]
  },
  {
   "cell_type": "code",
   "execution_count": 34,
   "id": "140f64f4",
   "metadata": {},
   "outputs": [
    {
     "name": "stdout",
     "output_type": "stream",
     "text": [
      "[ERROR:UNDERFLOW:] 1 bits: < underflow threshold\n",
      "[WARNING:UNDERFLOW:] 11 bits: underflow warning\n",
      "[WARNING:OVERFLOW:] 254 bits: close to max\n",
      "[WARNING:OVERFLOW:] 256 bits: close to max\n",
      "[ERROR:OVERFLOW:] 256 bits: > max\n"
     ]
    }
   ],
   "source": [
    "assert TB0.check_uint256(1, log_f=TB0.print_f) == 1\n",
    "assert TB0.check_uint256(2000, log_f=TB0.print_f) == 2000\n",
    "assert TB0.check_uint256(2**254, log_f=TB0.print_f) == 2**254\n",
    "assert TB0.check_uint256(2**256-1, log_f=TB0.print_f) == 2**256-1\n",
    "assert TB0.check_uint256(2**256, log_f=TB0.print_f) == 2**256"
   ]
  },
  {
   "cell_type": "code",
   "execution_count": 35,
   "id": "adbdc447",
   "metadata": {},
   "outputs": [],
   "source": [
    "assert TB0._logmsg(level=TB0.LVL_WARN, isoverflow=True, label=\"1\", msg=\"\") == '[WARNING:OVERFLOW:1] '\n",
    "assert TB0._logmsg(TB0.LVL_ERR, False, \"mylabel\", \"mymessage\") == '[ERROR:UNDERFLOW:MYLABEL] mymessage'\n",
    "TB0.print_f(False, False, \"mylabel\", \"mymessage\")"
   ]
  },
  {
   "cell_type": "code",
   "execution_count": 36,
   "id": "56aa600f",
   "metadata": {},
   "outputs": [],
   "source": [
    "assert TB0.bindig(0) == 0\n",
    "assert TB0.bindig(1) == 1\n",
    "assert TB0.bindig(2) == 2\n",
    "assert TB0.bindig(3) == 2\n",
    "assert TB0.bindig(2**10) == 11\n",
    "assert TB0.bindig(2**10+1) == 11\n",
    "assert TB0.bindig(2**10-1) == 10"
   ]
  },
  {
   "cell_type": "code",
   "execution_count": null,
   "id": "5dc00f43",
   "metadata": {},
   "outputs": [],
   "source": []
  }
 ],
 "metadata": {
  "jupytext": {
   "formats": "ipynb,py:light"
  },
  "kernelspec": {
   "display_name": "Python 3",
   "language": "python",
   "name": "python3"
  },
  "language_info": {
   "codemirror_mode": {
    "name": "ipython",
    "version": 3
   },
   "file_extension": ".py",
   "mimetype": "text/x-python",
   "name": "python",
   "nbconvert_exporter": "python",
   "pygments_lexer": "ipython3",
   "version": "3.8.8"
  }
 },
 "nbformat": 4,
 "nbformat_minor": 5
}
