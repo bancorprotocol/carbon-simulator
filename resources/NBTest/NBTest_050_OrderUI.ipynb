{
 "cells": [
  {
   "cell_type": "code",
   "execution_count": 1,
   "id": "ed525c67",
   "metadata": {},
   "outputs": [
    {
     "name": "stdout",
     "output_type": "stream",
     "text": [
      "Carbon v2.2-BETA7 (19/Jan/2022)\n",
      "CarbonSimulatorUI v2.4 (12/Jan/2023)\n",
      "CarbonOrderUI v1.6 (20/Jan/2023)\n"
     ]
    }
   ],
   "source": [
    "from carbon import CarbonSimulatorUI, CarbonOrderUI, P, __version__, __date__\n",
    "from math import sqrt\n",
    "import numpy as np\n",
    "from matplotlib import pyplot as plt\n",
    "print(f\"Carbon v{__version__} ({__date__})\")\n",
    "print(\"{0.__name__} v{0.__VERSION__} ({0.__DATE__})\".format(CarbonSimulatorUI))\n",
    "print(\"{0.__name__} v{0.__VERSION__} ({0.__DATE__})\".format(CarbonOrderUI))"
   ]
  },
  {
   "cell_type": "markdown",
   "id": "795b0a19",
   "metadata": {},
   "source": [
    "# Carbon Order UI extensions (NBTest 50)"
   ]
  },
  {
   "cell_type": "markdown",
   "id": "f86cee7e",
   "metadata": {},
   "source": [
    "NBTEST: NOTEST_DEFAULT = TEST"
   ]
  },
  {
   "cell_type": "markdown",
   "id": "0e481907",
   "metadata": {},
   "source": [
    "## carbonorderui ids and data"
   ]
  },
  {
   "cell_type": "code",
   "execution_count": 2,
   "id": "59deb89b",
   "metadata": {
    "lines_to_next_cell": 2
   },
   "outputs": [
    {
     "data": {
      "text/plain": [
       "{0: CarbonOrderUI(pair=ETH/USDC, tkn=ETH, B=0.02, S=0.0023606797749978967, yint=1.0, y=1.0, id=0, linked=<1>),\n",
       " 1: CarbonOrderUI(pair=ETH/USDC, tkn=USDC, B=31.622776601683793, S=3.732562457643585, yint=750.0, y=750.0, id=1, linked=<0>)}"
      ]
     },
     "execution_count": 2,
     "metadata": {},
     "output_type": "execute_result"
    }
   ],
   "source": [
    "Sim = CarbonSimulatorUI(pair=\"ETH/USDC\")\n",
    "Sim.add_strategy(\"ETH\", 1, 2000, 2500, 750, 1250, 1000)\n",
    "ouis = Sim.state()[\"orderuis\"]\n",
    "ouis"
   ]
  },
  {
   "cell_type": "code",
   "execution_count": 3,
   "id": "8aa444d2",
   "metadata": {},
   "outputs": [],
   "source": [
    "# check that the id corresponds to the own dict key\n",
    "assert ouis[0].id == 0\n",
    "assert ouis[1].id == 1\n",
    "\n",
    "# check that the lid corresponds to the other dict key\n",
    "assert ouis[0].lid == 1\n",
    "assert ouis[1].lid == 0\n",
    "\n",
    "# check that the linked objects are correct\n",
    "assert ouis[0].linked is ouis[1]\n",
    "assert ouis[1].linked is ouis[0]"
   ]
  },
  {
   "cell_type": "code",
   "execution_count": 4,
   "id": "ab056e78",
   "metadata": {},
   "outputs": [],
   "source": [
    "# check curve data\n",
    "assert ouis[0].pair.slashpair == \"ETH/USDC\"\n",
    "assert ouis[1].pair.slashpair == \"ETH/USDC\"\n",
    "assert ouis[0].tkn == \"ETH\"\n",
    "assert ouis[1].tkn == \"USDC\"\n",
    "\n",
    "# prices\n",
    "assert ouis[0].pa == 2000\n",
    "assert ouis[0].pb == 2500\n",
    "assert ouis[1].pa == 1250\n",
    "assert ouis[1].pb == 1000\n",
    "\n",
    "# raw prices\n",
    "assert ouis[0].pa_raw == 1/2000\n",
    "assert ouis[0].pb_raw == 1/2500\n",
    "assert ouis[1].pa_raw == 1250\n",
    "assert ouis[1].pb_raw == 1000\n",
    "\n",
    "# y, yint, pmarg\n",
    "assert ouis[0].y == 1\n",
    "assert ouis[0].yint == 1\n",
    "assert ouis[0].p_marg == ouis[0].pa\n",
    "assert ouis[1].y == 750\n",
    "assert ouis[1].yint == 750\n",
    "assert ouis[1].p_marg == ouis[1].pa"
   ]
  },
  {
   "cell_type": "markdown",
   "id": "49afe2c9",
   "metadata": {},
   "source": [
    "## carbonorderui addliqy"
   ]
  },
  {
   "cell_type": "code",
   "execution_count": 5,
   "id": "24a24ad8",
   "metadata": {},
   "outputs": [
    {
     "data": {
      "text/plain": [
       "{0: CarbonOrderUI(pair=ETH/USDC, tkn=ETH, B=0.02, S=0.0023606797749978967, yint=1.0, y=1.0, id=0, linked=<1>),\n",
       " 1: CarbonOrderUI(pair=ETH/USDC, tkn=USDC, B=31.622776601683793, S=3.732562457643585, yint=750.0, y=750.0, id=1, linked=<0>)}"
      ]
     },
     "execution_count": 5,
     "metadata": {},
     "output_type": "execute_result"
    }
   ],
   "source": [
    "Sim = CarbonSimulatorUI(pair=\"ETH/USDC\")\n",
    "Sim.add_strategy(\"ETH\", 1, 2000, 2500, 750, 1250, 1000)\n",
    "ouis = Sim.state()[\"orderuis\"]\n",
    "ouis"
   ]
  },
  {
   "cell_type": "code",
   "execution_count": 6,
   "id": "0193b1ee",
   "metadata": {},
   "outputs": [],
   "source": [
    "# y, yint, pmarg\n",
    "assert ouis[0].y == 1\n",
    "assert ouis[0].yint == 1\n",
    "assert ouis[0].p_marg == ouis[0].pa\n",
    "assert ouis[1].y == 750\n",
    "assert ouis[1].yint == 750\n",
    "assert ouis[1].p_marg == ouis[1].pa"
   ]
  },
  {
   "cell_type": "code",
   "execution_count": 7,
   "id": "52692a17",
   "metadata": {},
   "outputs": [
    {
     "name": "stdout",
     "output_type": "stream",
     "text": [
      "('Must expand curve and expandcurve=False', 1.0, 0.5, 1.5, 1.0)\n"
     ]
    }
   ],
   "source": [
    "try:\n",
    "    ouis[0].addliqy(0.5, expandcurve=False)\n",
    "    raise RuntimeError(\"should raise\")\n",
    "except ValueError as e:\n",
    "    print(e)"
   ]
  },
  {
   "cell_type": "code",
   "execution_count": 8,
   "id": "d3a97e11",
   "metadata": {},
   "outputs": [
    {
     "data": {
      "text/plain": [
       "{'y_old': 1.0,\n",
       " 'y': 1.5,\n",
       " 'dy': 0.5,\n",
       " 'yint_old': 1.0,\n",
       " 'yint': 1.5,\n",
       " 'tkny': 'ETH',\n",
       " 'pmarg_old': 2000.0,\n",
       " 'pmarg': 2000.0,\n",
       " 'expanded': True}"
      ]
     },
     "execution_count": 8,
     "metadata": {},
     "output_type": "execute_result"
    }
   ],
   "source": [
    "r = ouis[0].addliqy(0.5)\n",
    "assert r[\"y_old\"] == 1\n",
    "assert r[\"y\"] == 1.5\n",
    "assert r[\"dy\"] == 0.5\n",
    "assert r[\"yint_old\"] == 1\n",
    "assert r[\"yint\"] == 1.5\n",
    "assert r[\"pmarg_old\"] == 2000\n",
    "assert r[\"pmarg\"] == 2000\n",
    "assert r[\"tkny\"] == \"ETH\"\n",
    "assert r[\"expanded\"] == True\n",
    "r"
   ]
  },
  {
   "cell_type": "markdown",
   "id": "bbda0fad",
   "metadata": {},
   "source": [
    "## carbonorderui trading"
   ]
  },
  {
   "cell_type": "code",
   "execution_count": 9,
   "id": "caac1685",
   "metadata": {},
   "outputs": [
    {
     "data": {
      "text/plain": [
       "{0: CarbonOrderUI(pair=ETH/USDC, tkn=ETH, B=0.02, S=0.0023606797749978967, yint=1.0, y=1.0, id=0, linked=<1>),\n",
       " 1: CarbonOrderUI(pair=ETH/USDC, tkn=USDC, B=31.622776601683793, S=3.732562457643585, yint=750.0, y=750.0, id=1, linked=<0>)}"
      ]
     },
     "execution_count": 9,
     "metadata": {},
     "output_type": "execute_result"
    }
   ],
   "source": [
    "Sim = CarbonSimulatorUI(pair=\"ETH/USDC\")\n",
    "Sim.add_strategy(\"ETH\", 1, 2000, 2500, 750, 1250, 1000)\n",
    "ouis = Sim.state()[\"orderuis\"]\n",
    "ouis"
   ]
  },
  {
   "cell_type": "code",
   "execution_count": 10,
   "id": "567df25b",
   "metadata": {},
   "outputs": [],
   "source": [
    "# y, yint, pmarg\n",
    "assert ouis[0].y == 1\n",
    "assert ouis[0].yint == 1\n",
    "assert ouis[0].p_marg == ouis[0].pa\n",
    "assert ouis[1].y == 750\n",
    "assert ouis[1].yint == 750\n",
    "assert ouis[1].p_marg == ouis[1].pa"
   ]
  },
  {
   "cell_type": "code",
   "execution_count": 11,
   "id": "6e110168",
   "metadata": {},
   "outputs": [],
   "source": [
    "# check that the linked objects are correct\n",
    "assert ouis[0].linked is ouis[1]\n",
    "assert ouis[1].linked is ouis[0]"
   ]
  },
  {
   "cell_type": "markdown",
   "id": "c0b4a16f",
   "metadata": {},
   "source": [
    "### trade 1: bysource[selly]"
   ]
  },
  {
   "cell_type": "code",
   "execution_count": 12,
   "id": "b73b9a78",
   "metadata": {},
   "outputs": [],
   "source": [
    "r = ouis[0].selly(0.5)\n",
    "l = r[\"linked\"]\n",
    "assert r[\"action\"] == \"bysource[selly]\"\n",
    "assert r[\"executed\"] == True\n",
    "assert r[\"y_old\"] == 1\n",
    "assert r[\"y\"] == 0.5\n",
    "assert r[\"dy\"] == 0.5\n",
    "assert r[\"expanded\"] == False\n",
    "assert round(r[\"x\"],4) == 1055.7281\n",
    "assert round(r[\"dx\"],4) == 1055.7281\n",
    "assert r[\"x\"] == r[\"dx\"]\n",
    "assert r[\"pmarg_old\"] == 2000\n",
    "assert round(r[\"pmarg\"],4) == 2229.1236\n",
    "assert round(r[\"dx/dy\"],4) == 2111.4562\n",
    "assert l[\"y_old\"] == 750\n",
    "assert l[\"y\"] == l[\"y_old\"] + l[\"dy\"]\n",
    "assert l[\"dy\"] == r[\"dx\"]\n",
    "assert l[\"pmarg_old\"] == 1250\n",
    "assert l[\"pmarg\"] == 1250\n",
    "assert round(l[\"yint_old\"],4) == 750\n",
    "assert round(l[\"yint\"],4) == 1805.7281\n",
    "assert l[\"expanded\"] == True\n",
    "assert l[\"tkny\"] == \"USDC\"\n",
    "l0 = l\n",
    "#r"
   ]
  },
  {
   "cell_type": "markdown",
   "id": "60e70fc2",
   "metadata": {},
   "source": [
    "### trade 2: bysource[selly]"
   ]
  },
  {
   "cell_type": "code",
   "execution_count": 13,
   "id": "4972c9aa",
   "metadata": {},
   "outputs": [],
   "source": [
    "r = ouis[0].selly(0.1)\n",
    "l = r[\"linked\"]\n",
    "assert r[\"action\"] == \"bysource[selly]\"\n",
    "assert r[\"executed\"] == True\n",
    "assert r[\"y_old\"] == 0.5\n",
    "assert r[\"y\"] == 0.4\n",
    "assert r[\"dy\"] == 0.1\n",
    "assert r[\"expanded\"] == False\n",
    "assert round(r[\"x\"],4) == 1281.1529\n",
    "assert round(r[\"dx\"],4) == 225.4249\n",
    "assert round(r[\"pmarg_old\"],4) == 2229.1236\n",
    "assert round(r[\"pmarg\"],4) == 2279.6568\n",
    "assert round(r[\"dx/dy\"],4) == 2254.2486\n",
    "assert l[\"y_old\"] == l0[\"y\"]\n",
    "assert l[\"y\"] == l[\"y_old\"] + l[\"dy\"]\n",
    "assert l[\"dy\"] == r[\"dx\"]\n",
    "assert l[\"pmarg_old\"] == 1250\n",
    "assert l[\"pmarg\"] == 1250\n",
    "assert round(l[\"yint_old\"],4) == 1805.7281\n",
    "assert round(l[\"yint\"],4) == 2031.1529\n",
    "assert l[\"expanded\"] == True\n",
    "assert l[\"tkny\"] == \"USDC\"\n",
    "l0 = l\n",
    "#r"
   ]
  },
  {
   "cell_type": "markdown",
   "id": "838440c7",
   "metadata": {},
   "source": [
    "### trade 3: bytarget[buyx]"
   ]
  },
  {
   "cell_type": "code",
   "execution_count": 14,
   "id": "da1e5888",
   "metadata": {},
   "outputs": [],
   "source": [
    "r = ouis[0].buyx(100)\n",
    "l = r[\"linked\"]\n",
    "assert r[\"action\"] == \"bytarget[buyx]\"\n",
    "assert r[\"executed\"] == True\n",
    "assert r[\"y_old\"] == 0.4\n",
    "assert round(r[\"y\"],4) == 0.3563\n",
    "assert round(r[\"dy\"],4) == 0.0437\n",
    "assert r[\"expanded\"] == False\n",
    "assert round(r[\"x\"],4) == 1381.1529\n",
    "assert round(r[\"dx\"],4) == 100\n",
    "assert round(r[\"pmarg_old\"],4) == 2279.6568\n",
    "assert round(r[\"pmarg\"],4) == 2302.2550\n",
    "assert round(r[\"dx/dy\"],4) == 2290.9280\n",
    "assert l[\"y_old\"] == l0[\"y\"]\n",
    "assert l[\"y\"] == l[\"y_old\"] + l[\"dy\"]\n",
    "assert l[\"dy\"] == r[\"dx\"]\n",
    "assert l[\"pmarg_old\"] == 1250\n",
    "assert l[\"pmarg\"] == 1250\n",
    "assert round(l[\"yint_old\"],4) == 2031.1529\n",
    "assert round(l[\"yint\"],4) == 2131.1529\n",
    "assert l[\"expanded\"] == True\n",
    "assert l[\"tkny\"] == \"USDC\"\n",
    "l0 = l\n",
    "#r"
   ]
  },
  {
   "cell_type": "markdown",
   "id": "e4c4545a",
   "metadata": {},
   "source": [
    "### trade 4: byprice[tradeto]"
   ]
  },
  {
   "cell_type": "code",
   "execution_count": 15,
   "id": "1c24536f",
   "metadata": {},
   "outputs": [],
   "source": [
    "r = ouis[0].tradeto(2330)\n",
    "l = r[\"linked\"]\n",
    "assert r[\"action\"] == \"byprice[tradeto]\"\n",
    "assert r[\"executed\"] == True\n",
    "assert round(r[\"y_old\"],4) == 0.3563\n",
    "assert round(r[\"y\"],4) == 0.3036\n",
    "assert round(r[\"dy\"],4) == 0.0527\n",
    "assert r[\"expanded\"] == False\n",
    "assert round(r[\"x\"],4) == 1503.2594\n",
    "assert round(r[\"dx\"],4) == 122.1064\n",
    "assert round(r[\"pmarg_old\"],4) == 2302.2550\n",
    "assert round(r[\"pmarg\"],4) == 2330.0\n",
    "assert round(r[\"dx/dy\"],4) == 2316.0860\n",
    "assert l[\"y_old\"] == l0[\"y\"]\n",
    "assert l[\"y\"] == l[\"y_old\"] + l[\"dy\"]\n",
    "assert l[\"dy\"] == r[\"dx\"]\n",
    "assert l[\"pmarg_old\"] == 1250\n",
    "assert l[\"pmarg\"] == 1250\n",
    "assert round(l[\"yint_old\"],4) == 2131.1529\n",
    "assert round(l[\"yint\"],4) == 2253.2594\n",
    "assert l[\"expanded\"] == True\n",
    "assert l[\"tkny\"] == \"USDC\"\n",
    "l0 = l\n",
    "#r"
   ]
  },
  {
   "cell_type": "markdown",
   "id": "6de333a3",
   "metadata": {},
   "source": [
    "## tradeto basics"
   ]
  },
  {
   "cell_type": "code",
   "execution_count": 16,
   "id": "abd19dab",
   "metadata": {},
   "outputs": [
    {
     "data": {
      "text/plain": [
       "{0: CarbonOrderUI(pair=ETH/USDC, tkn=ETH, B=0.02, S=0.0023606797749978967, yint=1.0, y=1.0, id=0, linked=<1>),\n",
       " 1: CarbonOrderUI(pair=ETH/USDC, tkn=USDC, B=31.622776601683793, S=3.732562457643585, yint=750.0, y=750.0, id=1, linked=<0>)}"
      ]
     },
     "execution_count": 16,
     "metadata": {},
     "output_type": "execute_result"
    }
   ],
   "source": [
    "Sim = CarbonSimulatorUI(pair=\"ETH/USDC\")\n",
    "Sim.add_strategy(\"ETH\", 1, 2000, 2500, 750, 1250, 1000)\n",
    "ouis = Sim.state()[\"orderuis\"]\n",
    "ouis"
   ]
  },
  {
   "cell_type": "code",
   "execution_count": 17,
   "id": "b67b391b",
   "metadata": {},
   "outputs": [],
   "source": [
    "# y, yint, pmarg\n",
    "assert ouis[0].y == 1\n",
    "assert ouis[0].yint == 1\n",
    "assert ouis[0].p_marg == ouis[0].pa\n",
    "assert ouis[1].y == 750\n",
    "assert ouis[1].yint == 750\n",
    "assert ouis[1].p_marg == ouis[1].pa"
   ]
  },
  {
   "cell_type": "code",
   "execution_count": 18,
   "id": "14583d05",
   "metadata": {},
   "outputs": [],
   "source": [
    "# check that the linked objects are correct\n",
    "assert ouis[0].linked is ouis[1]\n",
    "assert ouis[1].linked is ouis[0]"
   ]
  },
  {
   "cell_type": "code",
   "execution_count": 19,
   "id": "b67652c1",
   "metadata": {},
   "outputs": [
    {
     "name": "stdout",
     "output_type": "stream",
     "text": [
      "('Price out of bounds (beyond start)', 1000, 2000.0)\n",
      "('Price out of bounds (beyond end)', 3000, 2500.0)\n"
     ]
    }
   ],
   "source": [
    "# ensure the correct PriceOutOfBoundsError is raised\n",
    "try:\n",
    "    ouis[0].yfromp_f(1000, raiseonerror=True)\n",
    "    raise RuntimeError(\"should raise\")\n",
    "except ouis[0].PriceOutOfBoundsErrorBeyondStart as e:\n",
    "    print(e)\n",
    "\n",
    "try:\n",
    "    ouis[0].yfromp_f(3000, raiseonerror=True)\n",
    "    raise RuntimeError(\"should raise\")\n",
    "except ouis[0].PriceOutOfBoundsErrorBeyondEnd as e:\n",
    "    print(e)"
   ]
  },
  {
   "cell_type": "code",
   "execution_count": 20,
   "id": "e344a967",
   "metadata": {},
   "outputs": [
    {
     "name": "stdout",
     "output_type": "stream",
     "text": [
      "('Price out of bounds (beyond start)', 1000, 2000.0)\n",
      "('Price out of bounds (beyond end)', 3000, 2500.0)\n"
     ]
    }
   ],
   "source": [
    "# ensure PriceOutOfBoundsError is raised\n",
    "try:\n",
    "    ouis[0].yfromp_f(1000, raiseonerror=True)\n",
    "    raise RuntimeError(\"should raise\")\n",
    "except ouis[0].PriceOutOfBoundsError as e:\n",
    "    print(e)\n",
    "    \n",
    "try:\n",
    "    ouis[0].yfromp_f(3000, raiseonerror=True)\n",
    "    raise RuntimeError(\"should raise\")\n",
    "except ouis[0].PriceOutOfBoundsError as e:\n",
    "    print(e)"
   ]
  },
  {
   "cell_type": "code",
   "execution_count": 21,
   "id": "7a0ace8d",
   "metadata": {},
   "outputs": [
    {
     "name": "stdout",
     "output_type": "stream",
     "text": [
      "('Price out of bounds (beyond start)', 1000, 2000.0)\n",
      "('Price out of bounds (beyond end)', 3000, 2500.0)\n"
     ]
    }
   ],
   "source": [
    "# ensure ValueError is still captured\n",
    "try:\n",
    "    ouis[0].yfromp_f(1000, raiseonerror=True)\n",
    "    raise RuntimeError(\"should raise\")\n",
    "except ValueError as e:\n",
    "    print(e)\n",
    "    \n",
    "try:\n",
    "    ouis[0].yfromp_f(3000, raiseonerror=True)\n",
    "    raise RuntimeError(\"should raise\")\n",
    "except ValueError as e:\n",
    "    print(e)"
   ]
  },
  {
   "cell_type": "code",
   "execution_count": 22,
   "id": "6d447e1a",
   "metadata": {},
   "outputs": [],
   "source": [
    "# ensure that going the wrong way beyond boundaries leads to dy=0, executed=False\n",
    "r = ouis[0].tradeto(1000)\n",
    "assert r[\"action\"] == \"byprice[tradeto]\"\n",
    "assert r[\"dy\"] == 0\n",
    "assert r[\"executed\"] == False\n",
    "#r"
   ]
  },
  {
   "cell_type": "code",
   "execution_count": 23,
   "id": "9e7c73ff",
   "metadata": {},
   "outputs": [],
   "source": [
    "# ensure that going the right way yet beyond boundaries leads to full execution\n",
    "r = ouis[0].tradeto(3000)\n",
    "l = r[\"linked\"]\n",
    "assert r[\"action\"] == \"byprice[tradeto]\"\n",
    "assert r[\"executed\"] == True\n",
    "assert r[\"y_old\"] == 1\n",
    "assert r[\"y\"] == 0\n",
    "assert r[\"dy\"] == 1\n",
    "assert r[\"expanded\"] == False\n",
    "assert round(r[\"x\"],4) == 2236.0680\n",
    "assert round(r[\"dx\"],4) == 2236.0680\n",
    "assert r[\"x\"] == r[\"dx\"]\n",
    "assert r[\"pmarg_old\"] == 2000\n",
    "assert r[\"pmarg\"] == 2500\n",
    "assert round(r[\"dx/dy\"],4) == 2236.0680\n",
    "assert l[\"y_old\"] == 750\n",
    "assert l[\"y\"] == l[\"y_old\"] + l[\"dy\"]\n",
    "assert l[\"dy\"] == r[\"dx\"]\n",
    "assert l[\"pmarg_old\"] == 1250\n",
    "assert l[\"pmarg\"] == 1250\n",
    "assert round(l[\"yint_old\"],4) == 750\n",
    "assert round(l[\"yint\"],4) == 2986.0680\n",
    "assert l[\"expanded\"] == True\n",
    "assert l[\"tkny\"] == \"USDC\"\n",
    "#r"
   ]
  },
  {
   "cell_type": "code",
   "execution_count": 24,
   "id": "c3d91f9f",
   "metadata": {},
   "outputs": [],
   "source": [
    "# ensure you can't trade back\n",
    "r = ouis[0].tradeto(2250)\n",
    "assert r[\"action\"] == \"byprice[tradeto]\"\n",
    "assert r[\"dy\"] == 0\n",
    "assert r[\"executed\"] == False\n",
    "#r"
   ]
  },
  {
   "cell_type": "markdown",
   "id": "315a97ea",
   "metadata": {},
   "source": [
    "## tradeto over linked orders"
   ]
  },
  {
   "cell_type": "code",
   "execution_count": 25,
   "id": "2248a9d0",
   "metadata": {},
   "outputs": [
    {
     "data": {
      "text/plain": [
       "{0: CarbonOrderUI(pair=ETH/USDC, tkn=ETH, B=0.02, S=0.0023606797749978967, yint=1.0, y=1.0, id=0, linked=<1>),\n",
       " 1: CarbonOrderUI(pair=ETH/USDC, tkn=USDC, B=31.622776601683793, S=3.732562457643585, yint=0.0, y=0.0, id=1, linked=<0>)}"
      ]
     },
     "execution_count": 25,
     "metadata": {},
     "output_type": "execute_result"
    }
   ],
   "source": [
    "Sim = CarbonSimulatorUI(pair=\"ETH/USDC\")\n",
    "Sim.add_strategy(\"ETH\", 1, 2000, 2500, 0, 1250, 1000)\n",
    "ouis = Sim.state()[\"orderuis\"]\n",
    "ouis"
   ]
  },
  {
   "cell_type": "code",
   "execution_count": 26,
   "id": "24c40e77",
   "metadata": {},
   "outputs": [],
   "source": [
    "# y, yint, pmarg\n",
    "assert ouis[0].y == 1\n",
    "assert ouis[0].yint == 1\n",
    "assert ouis[0].p_marg == ouis[0].pa\n",
    "assert ouis[1].y == 0\n",
    "assert ouis[1].yint == 0\n",
    "assert ouis[1].p_marg == ouis[1].pa"
   ]
  },
  {
   "cell_type": "code",
   "execution_count": 27,
   "id": "0453d26a",
   "metadata": {},
   "outputs": [],
   "source": [
    "# check that the linked objects are correct\n",
    "assert ouis[0].linked is ouis[1]\n",
    "assert ouis[1].linked is ouis[0]"
   ]
  },
  {
   "cell_type": "code",
   "execution_count": 28,
   "id": "281ed2d2",
   "metadata": {},
   "outputs": [],
   "source": [
    "r0 = ouis[0].tradeto(3000)\n",
    "r1 = ouis[1].tradeto(3000)\n",
    "assert r0[\"dy\"] == 1 \n",
    "assert r1[\"dy\"] == 0 \n",
    "assert r0[\"pmarg\"] == 2500 \n",
    "assert r1[\"pmarg\"] == 1250 \n",
    "#r0"
   ]
  },
  {
   "cell_type": "code",
   "execution_count": 29,
   "id": "51e9de96",
   "metadata": {},
   "outputs": [],
   "source": [
    "r0 = ouis[0].tradeto(500)\n",
    "r1 = ouis[1].tradeto(500)\n",
    "assert round(r0[\"dy\"],4) == 0\n",
    "assert round(r1[\"dy\"],4) == 2236.0680\n",
    "assert r0[\"pmarg\"] == 2500 \n",
    "assert r1[\"pmarg\"] == 1000 \n",
    "#r1"
   ]
  },
  {
   "cell_type": "code",
   "execution_count": 30,
   "id": "e6edaebe",
   "metadata": {},
   "outputs": [],
   "source": [
    "r0 = ouis[0].tradeto(3000)\n",
    "r1 = ouis[1].tradeto(3000)\n",
    "assert round(r0[\"dy\"],4) == 2\n",
    "assert round(r1[\"dy\"],4) == 0\n",
    "assert r0[\"pmarg\"] == 2500 \n",
    "assert r1[\"pmarg\"] == 1250 \n",
    "#r0"
   ]
  },
  {
   "cell_type": "markdown",
   "id": "eaf7bdb6",
   "metadata": {},
   "source": [
    "## more tradeto over linked orders"
   ]
  },
  {
   "cell_type": "code",
   "execution_count": 31,
   "id": "0296e4a3",
   "metadata": {},
   "outputs": [
    {
     "data": {
      "text/plain": [
       "{0: CarbonOrderUI(pair=ETH/USDC, tkn=ETH, B=0.02, S=0.0023606797749978967, yint=1.0, y=1.0, id=0, linked=<1>),\n",
       " 1: CarbonOrderUI(pair=ETH/USDC, tkn=USDC, B=31.622776601683793, S=3.732562457643585, yint=0.0, y=0.0, id=1, linked=<0>)}"
      ]
     },
     "execution_count": 31,
     "metadata": {},
     "output_type": "execute_result"
    }
   ],
   "source": [
    "Sim = CarbonSimulatorUI(pair=\"ETH/USDC\")\n",
    "Sim.add_strategy(\"ETH\", 1, 2000, 2500, 0, 1250, 1000)\n",
    "ouis = Sim.state()[\"orderuis\"]\n",
    "ouis"
   ]
  },
  {
   "cell_type": "code",
   "execution_count": 32,
   "id": "4be8bca9",
   "metadata": {},
   "outputs": [],
   "source": [
    "# y, yint, pmarg\n",
    "assert ouis[0].y == 1\n",
    "assert ouis[0].yint == 1\n",
    "assert ouis[0].p_marg == ouis[0].pa\n",
    "assert ouis[1].y == 0\n",
    "assert ouis[1].yint == 0\n",
    "assert ouis[1].p_marg == ouis[1].pa"
   ]
  },
  {
   "cell_type": "code",
   "execution_count": 33,
   "id": "a8e42b73",
   "metadata": {},
   "outputs": [],
   "source": [
    "# check that the linked objects are correct\n",
    "assert ouis[0].linked is ouis[1]\n",
    "assert ouis[1].linked is ouis[0]"
   ]
  },
  {
   "cell_type": "code",
   "execution_count": 34,
   "id": "a49879e0",
   "metadata": {},
   "outputs": [],
   "source": [
    "assert ouis[0].tkn == \"ETH\"\n",
    "assert ouis[1].tkn == \"USDC\"\n",
    "ethamt_r  = [ouis[0].y]\n",
    "usdcamt_r = [ouis[1].y]\n",
    "for ix in range(5):\n",
    "    \n",
    "    # trade up to 3000\n",
    "    r0 = ouis[0].tradeto(3000)\n",
    "    r1 = ouis[1].tradeto(3000)\n",
    "    ethamt_r  += [ouis[0].y]\n",
    "    usdcamt_r += [ouis[1].y]\n",
    "    \n",
    "    # trade back down to 500\n",
    "    r0 = ouis[0].tradeto(500)\n",
    "    r1 = ouis[1].tradeto(500)\n",
    "    ethamt_r  += [ouis[0].y]\n",
    "    usdcamt_r += [ouis[1].y]"
   ]
  },
  {
   "cell_type": "code",
   "execution_count": 35,
   "id": "b3eeb211",
   "metadata": {},
   "outputs": [
    {
     "data": {
      "image/png": "[encoded data removed]",
      "text/plain": [
       "<Figure size 432x288 with 1 Axes>"
      ]
     },
     "metadata": {
      "needs_background": "light"
     },
     "output_type": "display_data"
    }
   ],
   "source": [
    "#plt.scatter(x=ethamt_r, y=usdcamt_r)\n",
    "plt.plot(ethamt_r, usdcamt_r, \"-o\")\n",
    "plt.xlabel(\"ETH\")\n",
    "plt.ylabel(\"USDC\")\n",
    "plt.grid()"
   ]
  },
  {
   "cell_type": "code",
   "execution_count": 36,
   "id": "c173b5b4",
   "metadata": {},
   "outputs": [],
   "source": [
    "assert [round(x,0) for x in ethamt_r]  == [1, 0, 2, 0, 4, 0, 8, 0, 16, 0, 32]\n",
    "assert [round(x,0) for x in usdcamt_r] == [0, 2236, 0, 4472, 0, 8944, 0, 17889, 0, 35777, 0]"
   ]
  },
  {
   "cell_type": "code",
   "execution_count": null,
   "id": "ba7008a1",
   "metadata": {},
   "outputs": [],
   "source": []
  }
 ],
 "metadata": {
  "jupytext": {
   "formats": "ipynb,py:light"
  },
  "kernelspec": {
   "display_name": "Python 3",
   "language": "python",
   "name": "python3"
  },
  "language_info": {
   "codemirror_mode": {
    "name": "ipython",
    "version": 3
   },
   "file_extension": ".py",
   "mimetype": "text/x-python",
   "name": "python",
   "nbconvert_exporter": "python",
   "pygments_lexer": "ipython3",
   "version": "3.8.8"
  }
 },
 "nbformat": 4,
 "nbformat_minor": 5
}
