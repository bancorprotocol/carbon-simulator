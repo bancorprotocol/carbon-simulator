{
 "cells": [
  {
   "cell_type": "code",
   "execution_count": 1,
   "id": "22b66169",
   "metadata": {},
   "outputs": [],
   "source": [
    "from carbon import CarbonSimulatorUI\n",
    "from carbon.simulators.carbon_simulator import (\n",
    "    __version__ as uiversion,\n",
    "    __date__ as uidate,\n",
    ")\n",
    "from jupyformat import *"
   ]
  },
  {
   "cell_type": "code",
   "execution_count": 2,
   "id": "c61a0e2b",
   "metadata": {},
   "outputs": [
    {
     "name": "stdout",
     "output_type": "stream",
     "text": [
      "[carbon_simulator] version 1.0 beta3 14/Nov/2022\n"
     ]
    },
    {
     "data": {
      "text/html": [
       "<div style='color:green; font-size: 120%'><p><strong>This notebook passed verification.</strong></p></div>"
      ],
      "text/plain": [
       "<IPython.core.display.HTML object>"
      ]
     },
     "execution_count": 2,
     "metadata": {},
     "output_type": "execute_result"
    }
   ],
   "source": [
    "print(\"[carbon_simulator] version\", uiversion, uidate)\n",
    "jp()"
   ]
  },
  {
   "cell_type": "markdown",
   "id": "ec6ff430",
   "metadata": {},
   "source": [
    "# Carbon Simulation - Test 30"
   ]
  },
  {
   "cell_type": "code",
   "execution_count": 3,
   "id": "a2278c82",
   "metadata": {},
   "outputs": [
    {
     "data": {
      "text/plain": [
       "CarbonSimulatorUI(<0 orders, 0 trades>, pair='None')"
      ]
     },
     "execution_count": 3,
     "metadata": {},
     "output_type": "execute_result"
    }
   ],
   "source": [
    "Sim = CarbonSimulatorUI(verbose=False, raiseonerror=True)\n",
    "Sim"
   ]
  },
  {
   "cell_type": "markdown",
   "id": "f5a933dc",
   "metadata": {},
   "source": [
    "## Orders"
   ]
  },
  {
   "cell_type": "code",
   "execution_count": 4,
   "id": "6f1440e3",
   "metadata": {},
   "outputs": [],
   "source": [
    "Sim.add_order(\"ETH\", 10, 2000, 3000, \"ETHUSDC\")\n",
    "Sim.add_order(\"ETH\", 20, 2010, 3010, \"ETHUSDC\")\n",
    "Sim.add_order(\"ETH\", 30, 2020, 3020, \"ETHUSDC\")\n",
    "result = Sim.add_order(\"ETH\", 40, 2030, 2030, \"ETHUSDC\")"
   ]
  },
  {
   "cell_type": "markdown",
   "id": "b3087018",
   "metadata": {},
   "source": [
    "We are checking that we have orderuis now..."
   ]
  },
  {
   "cell_type": "code",
   "execution_count": 5,
   "id": "68ebab31",
   "metadata": {},
   "outputs": [
    {
     "data": {
      "text/plain": [
       "dict_keys(['success', 'orders', 'orderuis'])"
      ]
     },
     "execution_count": 5,
     "metadata": {},
     "output_type": "execute_result"
    }
   ],
   "source": [
    "result.keys()"
   ]
  },
  {
   "cell_type": "markdown",
   "id": "691a40bb",
   "metadata": {},
   "source": [
    "...and how they look"
   ]
  },
  {
   "cell_type": "code",
   "execution_count": 6,
   "id": "f05fb562",
   "metadata": {},
   "outputs": [
    {
     "data": {
      "text/plain": [
       "{3: CarbonOrderUI(pair=CarbonPair(tknb='ETH', tknq='USDC'), tkn='ETH', B=0.022194838080923762, S=0.0, yint=40.0, y=40.0)}"
      ]
     },
     "execution_count": 6,
     "metadata": {},
     "output_type": "execute_result"
    }
   ],
   "source": [
    "result[\"orderuis\"]"
   ]
  },
  {
   "cell_type": "code",
   "execution_count": 7,
   "id": "3b620a6c",
   "metadata": {},
   "outputs": [
    {
     "data": {
      "text/html": [
       "<div>\n",
       "<style scoped>\n",
       "    .dataframe tbody tr th:only-of-type {\n",
       "        vertical-align: middle;\n",
       "    }\n",
       "\n",
       "    .dataframe tbody tr th {\n",
       "        vertical-align: top;\n",
       "    }\n",
       "\n",
       "    .dataframe thead th {\n",
       "        text-align: right;\n",
       "    }\n",
       "</style>\n",
       "<table border=\"1\" class=\"dataframe\">\n",
       "  <thead>\n",
       "    <tr style=\"text-align: right;\">\n",
       "      <th></th>\n",
       "      <th>id</th>\n",
       "      <th>pair</th>\n",
       "      <th>tkn</th>\n",
       "      <th>y_int</th>\n",
       "      <th>y</th>\n",
       "      <th>y_unit</th>\n",
       "      <th>p_start</th>\n",
       "      <th>p_end</th>\n",
       "      <th>p_marg</th>\n",
       "      <th>p_unit</th>\n",
       "      <th>lid</th>\n",
       "    </tr>\n",
       "  </thead>\n",
       "  <tbody>\n",
       "    <tr>\n",
       "      <th>3</th>\n",
       "      <td>3</td>\n",
       "      <td>ETHUSDC</td>\n",
       "      <td>ETH</td>\n",
       "      <td>40.0</td>\n",
       "      <td>40.0</td>\n",
       "      <td>ETH</td>\n",
       "      <td>2030.0</td>\n",
       "      <td>2030.0</td>\n",
       "      <td>2030.0</td>\n",
       "      <td>USDC per ETH</td>\n",
       "      <td>3</td>\n",
       "    </tr>\n",
       "  </tbody>\n",
       "</table>\n",
       "</div>"
      ],
      "text/plain": [
       "   id     pair  tkn  y_int     y y_unit  p_start   p_end  p_marg  \\\n",
       "3   3  ETHUSDC  ETH   40.0  40.0    ETH   2030.0  2030.0  2030.0   \n",
       "\n",
       "         p_unit  lid  \n",
       "3  USDC per ETH    3  "
      ]
     },
     "execution_count": 7,
     "metadata": {},
     "output_type": "execute_result"
    }
   ],
   "source": [
    "result[\"orders\"]"
   ]
  },
  {
   "cell_type": "markdown",
   "id": "b85a51c2",
   "metadata": {},
   "source": [
    "## Strategies"
   ]
  },
  {
   "cell_type": "code",
   "execution_count": 8,
   "id": "3fbe700a",
   "metadata": {},
   "outputs": [],
   "source": [
    "Sim.add_strategy(\"ETH\", 10, 2000, 3000, 5000, 1000, 900, \"ETHUSDC\")\n",
    "Sim.add_strategy(\"ETH\", 20, 2010, 3010, 5100, 1010, 910, \"ETHUSDC\")\n",
    "Sim.add_strategy(\"ETH\", 30, 2020, 3020, 5200, 1020, 920, \"ETHUSDC\")\n",
    "result = Sim.add_strategy(\"ETH\", 40, 2030, 3030, 5300, 1030, 930, \"ETHUSDC\")"
   ]
  },
  {
   "cell_type": "markdown",
   "id": "b71fa519",
   "metadata": {},
   "source": [
    "ditto"
   ]
  },
  {
   "cell_type": "code",
   "execution_count": 9,
   "id": "fc2a4410",
   "metadata": {},
   "outputs": [
    {
     "data": {
      "text/plain": [
       "dict_keys(['success', 'orders', 'orderuis'])"
      ]
     },
     "execution_count": 9,
     "metadata": {},
     "output_type": "execute_result"
    }
   ],
   "source": [
    "result.keys()"
   ]
  },
  {
   "cell_type": "code",
   "execution_count": 10,
   "id": "e794f67d",
   "metadata": {},
   "outputs": [
    {
     "data": {
      "text/plain": [
       "{10: CarbonOrderUI(pair=CarbonPair(tknb='ETH', tknq='USDC'), tkn='ETH', B=0.01816681048781899, S=0.004028027593104774, yint=40.0, y=40.0),\n",
       " 11: CarbonOrderUI(pair=CarbonPair(tknb='ETH', tknq='USDC'), tkn='USDC', B=30.495901363953813, S=1.5977117078086138, yint=5300.0, y=5300.0)}"
      ]
     },
     "execution_count": 10,
     "metadata": {},
     "output_type": "execute_result"
    }
   ],
   "source": [
    "result[\"orderuis\"]"
   ]
  },
  {
   "cell_type": "code",
   "execution_count": 11,
   "id": "ec8e0e9e",
   "metadata": {},
   "outputs": [
    {
     "data": {
      "text/html": [
       "<div>\n",
       "<style scoped>\n",
       "    .dataframe tbody tr th:only-of-type {\n",
       "        vertical-align: middle;\n",
       "    }\n",
       "\n",
       "    .dataframe tbody tr th {\n",
       "        vertical-align: top;\n",
       "    }\n",
       "\n",
       "    .dataframe thead th {\n",
       "        text-align: right;\n",
       "    }\n",
       "</style>\n",
       "<table border=\"1\" class=\"dataframe\">\n",
       "  <thead>\n",
       "    <tr style=\"text-align: right;\">\n",
       "      <th></th>\n",
       "      <th>id</th>\n",
       "      <th>pair</th>\n",
       "      <th>tkn</th>\n",
       "      <th>y_int</th>\n",
       "      <th>y</th>\n",
       "      <th>y_unit</th>\n",
       "      <th>p_start</th>\n",
       "      <th>p_end</th>\n",
       "      <th>p_marg</th>\n",
       "      <th>p_unit</th>\n",
       "      <th>lid</th>\n",
       "    </tr>\n",
       "  </thead>\n",
       "  <tbody>\n",
       "    <tr>\n",
       "      <th>10</th>\n",
       "      <td>10</td>\n",
       "      <td>ETHUSDC</td>\n",
       "      <td>ETH</td>\n",
       "      <td>40.0</td>\n",
       "      <td>40.0</td>\n",
       "      <td>ETH</td>\n",
       "      <td>2030.0</td>\n",
       "      <td>3030.0</td>\n",
       "      <td>2030.0</td>\n",
       "      <td>USDC per ETH</td>\n",
       "      <td>11</td>\n",
       "    </tr>\n",
       "    <tr>\n",
       "      <th>11</th>\n",
       "      <td>11</td>\n",
       "      <td>ETHUSDC</td>\n",
       "      <td>USDC</td>\n",
       "      <td>5300.0</td>\n",
       "      <td>5300.0</td>\n",
       "      <td>USDC</td>\n",
       "      <td>1030.0</td>\n",
       "      <td>930.0</td>\n",
       "      <td>1030.0</td>\n",
       "      <td>USDC per ETH</td>\n",
       "      <td>10</td>\n",
       "    </tr>\n",
       "  </tbody>\n",
       "</table>\n",
       "</div>"
      ],
      "text/plain": [
       "    id     pair   tkn   y_int       y y_unit  p_start   p_end  p_marg  \\\n",
       "10  10  ETHUSDC   ETH    40.0    40.0    ETH   2030.0  3030.0  2030.0   \n",
       "11  11  ETHUSDC  USDC  5300.0  5300.0   USDC   1030.0   930.0  1030.0   \n",
       "\n",
       "          p_unit  lid  \n",
       "10  USDC per ETH   11  \n",
       "11  USDC per ETH   10  "
      ]
     },
     "execution_count": 11,
     "metadata": {},
     "output_type": "execute_result"
    }
   ],
   "source": [
    "result[\"orders\"]"
   ]
  },
  {
   "cell_type": "markdown",
   "id": "1783dd72",
   "metadata": {},
   "source": [
    "## State"
   ]
  },
  {
   "cell_type": "code",
   "execution_count": 12,
   "id": "efeb4a4f",
   "metadata": {},
   "outputs": [
    {
     "data": {
      "text/plain": [
       "dict_keys(['orders', 'orderuis', 'trades'])"
      ]
     },
     "execution_count": 12,
     "metadata": {},
     "output_type": "execute_result"
    }
   ],
   "source": [
    "Sim.state().keys()"
   ]
  },
  {
   "cell_type": "code",
   "execution_count": 13,
   "id": "7feea862",
   "metadata": {},
   "outputs": [
    {
     "data": {
      "text/plain": [
       "dict_keys([0, 1, 2, 3, 4, 5, 6, 7, 8, 9, 10, 11])"
      ]
     },
     "execution_count": 13,
     "metadata": {},
     "output_type": "execute_result"
    }
   ],
   "source": [
    "Sim.state()[\"orderuis\"].keys()"
   ]
  },
  {
   "cell_type": "code",
   "execution_count": 14,
   "id": "062242f1",
   "metadata": {},
   "outputs": [
    {
     "data": {
      "text/plain": [
       "CarbonOrderUI(pair=CarbonPair(tknb='ETH', tknq='USDC'), tkn='ETH', B=0.018257418583505537, S=0.004103261191492361, yint=10.0, y=10.0)"
      ]
     },
     "execution_count": 14,
     "metadata": {},
     "output_type": "execute_result"
    }
   ],
   "source": [
    "Sim.state()[\"orderuis\"][0]"
   ]
  },
  {
   "cell_type": "code",
   "execution_count": 15,
   "id": "7451a0fa",
   "metadata": {},
   "outputs": [
    {
     "data": {
      "text/html": [
       "<div>\n",
       "<style scoped>\n",
       "    .dataframe tbody tr th:only-of-type {\n",
       "        vertical-align: middle;\n",
       "    }\n",
       "\n",
       "    .dataframe tbody tr th {\n",
       "        vertical-align: top;\n",
       "    }\n",
       "\n",
       "    .dataframe thead th {\n",
       "        text-align: right;\n",
       "    }\n",
       "</style>\n",
       "<table border=\"1\" class=\"dataframe\">\n",
       "  <thead>\n",
       "    <tr style=\"text-align: right;\">\n",
       "      <th></th>\n",
       "      <th>id</th>\n",
       "      <th>pair</th>\n",
       "      <th>tkn</th>\n",
       "      <th>y_int</th>\n",
       "      <th>y</th>\n",
       "      <th>y_unit</th>\n",
       "      <th>p_start</th>\n",
       "      <th>p_end</th>\n",
       "      <th>p_marg</th>\n",
       "      <th>p_unit</th>\n",
       "      <th>lid</th>\n",
       "    </tr>\n",
       "  </thead>\n",
       "  <tbody>\n",
       "    <tr>\n",
       "      <th>0</th>\n",
       "      <td>0</td>\n",
       "      <td>ETHUSDC</td>\n",
       "      <td>ETH</td>\n",
       "      <td>10.0</td>\n",
       "      <td>10.0</td>\n",
       "      <td>ETH</td>\n",
       "      <td>2000.0</td>\n",
       "      <td>3000.0</td>\n",
       "      <td>2000.0</td>\n",
       "      <td>USDC per ETH</td>\n",
       "      <td>0</td>\n",
       "    </tr>\n",
       "    <tr>\n",
       "      <th>1</th>\n",
       "      <td>1</td>\n",
       "      <td>ETHUSDC</td>\n",
       "      <td>ETH</td>\n",
       "      <td>20.0</td>\n",
       "      <td>20.0</td>\n",
       "      <td>ETH</td>\n",
       "      <td>2010.0</td>\n",
       "      <td>3010.0</td>\n",
       "      <td>2010.0</td>\n",
       "      <td>USDC per ETH</td>\n",
       "      <td>1</td>\n",
       "    </tr>\n",
       "    <tr>\n",
       "      <th>2</th>\n",
       "      <td>2</td>\n",
       "      <td>ETHUSDC</td>\n",
       "      <td>ETH</td>\n",
       "      <td>30.0</td>\n",
       "      <td>30.0</td>\n",
       "      <td>ETH</td>\n",
       "      <td>2020.0</td>\n",
       "      <td>3020.0</td>\n",
       "      <td>2020.0</td>\n",
       "      <td>USDC per ETH</td>\n",
       "      <td>2</td>\n",
       "    </tr>\n",
       "    <tr>\n",
       "      <th>3</th>\n",
       "      <td>3</td>\n",
       "      <td>ETHUSDC</td>\n",
       "      <td>ETH</td>\n",
       "      <td>40.0</td>\n",
       "      <td>40.0</td>\n",
       "      <td>ETH</td>\n",
       "      <td>2030.0</td>\n",
       "      <td>2030.0</td>\n",
       "      <td>2030.0</td>\n",
       "      <td>USDC per ETH</td>\n",
       "      <td>3</td>\n",
       "    </tr>\n",
       "    <tr>\n",
       "      <th>4</th>\n",
       "      <td>4</td>\n",
       "      <td>ETHUSDC</td>\n",
       "      <td>ETH</td>\n",
       "      <td>10.0</td>\n",
       "      <td>10.0</td>\n",
       "      <td>ETH</td>\n",
       "      <td>2000.0</td>\n",
       "      <td>3000.0</td>\n",
       "      <td>2000.0</td>\n",
       "      <td>USDC per ETH</td>\n",
       "      <td>5</td>\n",
       "    </tr>\n",
       "    <tr>\n",
       "      <th>5</th>\n",
       "      <td>5</td>\n",
       "      <td>ETHUSDC</td>\n",
       "      <td>USDC</td>\n",
       "      <td>5000.0</td>\n",
       "      <td>5000.0</td>\n",
       "      <td>USDC</td>\n",
       "      <td>1000.0</td>\n",
       "      <td>900.0</td>\n",
       "      <td>1000.0</td>\n",
       "      <td>USDC per ETH</td>\n",
       "      <td>4</td>\n",
       "    </tr>\n",
       "    <tr>\n",
       "      <th>6</th>\n",
       "      <td>6</td>\n",
       "      <td>ETHUSDC</td>\n",
       "      <td>ETH</td>\n",
       "      <td>20.0</td>\n",
       "      <td>20.0</td>\n",
       "      <td>ETH</td>\n",
       "      <td>2010.0</td>\n",
       "      <td>3010.0</td>\n",
       "      <td>2010.0</td>\n",
       "      <td>USDC per ETH</td>\n",
       "      <td>7</td>\n",
       "    </tr>\n",
       "    <tr>\n",
       "      <th>7</th>\n",
       "      <td>7</td>\n",
       "      <td>ETHUSDC</td>\n",
       "      <td>USDC</td>\n",
       "      <td>5100.0</td>\n",
       "      <td>5100.0</td>\n",
       "      <td>USDC</td>\n",
       "      <td>1010.0</td>\n",
       "      <td>910.0</td>\n",
       "      <td>1010.0</td>\n",
       "      <td>USDC per ETH</td>\n",
       "      <td>6</td>\n",
       "    </tr>\n",
       "    <tr>\n",
       "      <th>8</th>\n",
       "      <td>8</td>\n",
       "      <td>ETHUSDC</td>\n",
       "      <td>ETH</td>\n",
       "      <td>30.0</td>\n",
       "      <td>30.0</td>\n",
       "      <td>ETH</td>\n",
       "      <td>2020.0</td>\n",
       "      <td>3020.0</td>\n",
       "      <td>2020.0</td>\n",
       "      <td>USDC per ETH</td>\n",
       "      <td>9</td>\n",
       "    </tr>\n",
       "    <tr>\n",
       "      <th>9</th>\n",
       "      <td>9</td>\n",
       "      <td>ETHUSDC</td>\n",
       "      <td>USDC</td>\n",
       "      <td>5200.0</td>\n",
       "      <td>5200.0</td>\n",
       "      <td>USDC</td>\n",
       "      <td>1020.0</td>\n",
       "      <td>920.0</td>\n",
       "      <td>1020.0</td>\n",
       "      <td>USDC per ETH</td>\n",
       "      <td>8</td>\n",
       "    </tr>\n",
       "    <tr>\n",
       "      <th>10</th>\n",
       "      <td>10</td>\n",
       "      <td>ETHUSDC</td>\n",
       "      <td>ETH</td>\n",
       "      <td>40.0</td>\n",
       "      <td>40.0</td>\n",
       "      <td>ETH</td>\n",
       "      <td>2030.0</td>\n",
       "      <td>3030.0</td>\n",
       "      <td>2030.0</td>\n",
       "      <td>USDC per ETH</td>\n",
       "      <td>11</td>\n",
       "    </tr>\n",
       "    <tr>\n",
       "      <th>11</th>\n",
       "      <td>11</td>\n",
       "      <td>ETHUSDC</td>\n",
       "      <td>USDC</td>\n",
       "      <td>5300.0</td>\n",
       "      <td>5300.0</td>\n",
       "      <td>USDC</td>\n",
       "      <td>1030.0</td>\n",
       "      <td>930.0</td>\n",
       "      <td>1030.0</td>\n",
       "      <td>USDC per ETH</td>\n",
       "      <td>10</td>\n",
       "    </tr>\n",
       "  </tbody>\n",
       "</table>\n",
       "</div>"
      ],
      "text/plain": [
       "    id     pair   tkn   y_int       y y_unit  p_start   p_end  p_marg  \\\n",
       "0    0  ETHUSDC   ETH    10.0    10.0    ETH   2000.0  3000.0  2000.0   \n",
       "1    1  ETHUSDC   ETH    20.0    20.0    ETH   2010.0  3010.0  2010.0   \n",
       "2    2  ETHUSDC   ETH    30.0    30.0    ETH   2020.0  3020.0  2020.0   \n",
       "3    3  ETHUSDC   ETH    40.0    40.0    ETH   2030.0  2030.0  2030.0   \n",
       "4    4  ETHUSDC   ETH    10.0    10.0    ETH   2000.0  3000.0  2000.0   \n",
       "5    5  ETHUSDC  USDC  5000.0  5000.0   USDC   1000.0   900.0  1000.0   \n",
       "6    6  ETHUSDC   ETH    20.0    20.0    ETH   2010.0  3010.0  2010.0   \n",
       "7    7  ETHUSDC  USDC  5100.0  5100.0   USDC   1010.0   910.0  1010.0   \n",
       "8    8  ETHUSDC   ETH    30.0    30.0    ETH   2020.0  3020.0  2020.0   \n",
       "9    9  ETHUSDC  USDC  5200.0  5200.0   USDC   1020.0   920.0  1020.0   \n",
       "10  10  ETHUSDC   ETH    40.0    40.0    ETH   2030.0  3030.0  2030.0   \n",
       "11  11  ETHUSDC  USDC  5300.0  5300.0   USDC   1030.0   930.0  1030.0   \n",
       "\n",
       "          p_unit  lid  \n",
       "0   USDC per ETH    0  \n",
       "1   USDC per ETH    1  \n",
       "2   USDC per ETH    2  \n",
       "3   USDC per ETH    3  \n",
       "4   USDC per ETH    5  \n",
       "5   USDC per ETH    4  \n",
       "6   USDC per ETH    7  \n",
       "7   USDC per ETH    6  \n",
       "8   USDC per ETH    9  \n",
       "9   USDC per ETH    8  \n",
       "10  USDC per ETH   11  \n",
       "11  USDC per ETH   10  "
      ]
     },
     "execution_count": 15,
     "metadata": {},
     "output_type": "execute_result"
    }
   ],
   "source": [
    "Sim.state()[\"orders\"]"
   ]
  },
  {
   "cell_type": "code",
   "execution_count": null,
   "id": "525e20e5",
   "metadata": {},
   "outputs": [],
   "source": []
  },
  {
   "cell_type": "code",
   "execution_count": null,
   "id": "3be3b24a",
   "metadata": {},
   "outputs": [],
   "source": []
  }
 ],
 "metadata": {
  "kernelspec": {
   "display_name": "Python 3",
   "language": "python",
   "name": "python3"
  },
  "language_info": {
   "codemirror_mode": {
    "name": "ipython",
    "version": 3
   },
   "file_extension": ".py",
   "mimetype": "text/x-python",
   "name": "python",
   "nbconvert_exporter": "python",
   "pygments_lexer": "ipython3",
   "version": "3.8.8"
  }
 },
 "nbformat": 4,
 "nbformat_minor": 5
}
