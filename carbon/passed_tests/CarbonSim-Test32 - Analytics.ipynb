{
 "cells": [
  {
   "cell_type": "code",
   "execution_count": 1,
   "id": "22b66169",
   "metadata": {},
   "outputs": [],
   "source": [
    "from carbon import CarbonSimulatorUI, analytics as al\n",
    "from carbon.simulators.carbon_simulator import (\n",
    "    __version__ as uiversion,\n",
    "    __date__ as uidate,\n",
    ")\n",
    "from carbon.simulators.sim_analytics import Analytics as A\n",
    "from carbon.simulators.sim_analytics import (\n",
    "    __version__ as alversion,\n",
    "    __date__ as aldate,\n",
    ")\n",
    "from jupyformat import *"
   ]
  },
  {
   "cell_type": "code",
   "execution_count": 16,
   "id": "c61a0e2b",
   "metadata": {},
   "outputs": [
    {
     "name": "stdout",
     "output_type": "stream",
     "text": [
      "[carbon_simulator] version 1.0 beta4 15/Nov/2022\n",
      "[sim_analytics] version 1.0 beta1 15/Nov/2022\n"
     ]
    },
    {
     "data": {
      "text/html": [
       "<div style='color:green; font-size: 120%'><p><strong>This notebook passed verification.</strong></p></div>"
      ],
      "text/plain": [
       "<IPython.core.display.HTML object>"
      ]
     },
     "execution_count": 16,
     "metadata": {},
     "output_type": "execute_result"
    }
   ],
   "source": [
    "print(\"[carbon_simulator] version\", uiversion, uidate)\n",
    "print(\"[sim_analytics] version\", alversion, aldate)\n",
    "jp()"
   ]
  },
  {
   "cell_type": "markdown",
   "id": "ec6ff430",
   "metadata": {},
   "source": [
    "# Carbon Simulation - Test 32"
   ]
  },
  {
   "cell_type": "code",
   "execution_count": 3,
   "id": "44f6ab61",
   "metadata": {},
   "outputs": [
    {
     "name": "stdout",
     "output_type": "stream",
     "text": [
      "Help on method linspace in module carbon.simulators.sim_analytics:\n",
      "\n",
      "linspace(xmax, nint=10, eps=None, eps2=None) method of builtins.type instance\n",
      "    generates a linearly spaced vector of floats (0+eps, x1, x2, ... xmax*(1-eps2))\n",
      "    \n",
      "    :xmax:          maximum x to be generated\n",
      "    :nint:          number of intervals, ie numper of points - 1\n",
      "    \n",
      "    The function generates nint equally space intervals (nint+1 points), starting\n",
      "    from ~0 and ending at ~xmax. The intermediate points are based on the exact\n",
      "    interval (0, xmax). Once the series has been generated to following adjustments\n",
      "    are made for numerical stability reasons\n",
      "    \n",
      "        vec[0]  = eps\n",
      "        vec[-1] = (1-eps2) * maxx\n",
      "\n"
     ]
    }
   ],
   "source": [
    "help(al.linspace)"
   ]
  },
  {
   "cell_type": "code",
   "execution_count": 4,
   "id": "a99aa5fc",
   "metadata": {},
   "outputs": [
    {
     "name": "stdout",
     "output_type": "stream",
     "text": [
      "Help on method linspace in module carbon.simulators.sim_analytics:\n",
      "\n",
      "linspace(xmax, nint=10, eps=None, eps2=None) method of builtins.type instance\n",
      "    generates a linearly spaced vector of floats (0+eps, x1, x2, ... xmax*(1-eps2))\n",
      "    \n",
      "    :xmax:          maximum x to be generated\n",
      "    :nint:          number of intervals, ie numper of points - 1\n",
      "    \n",
      "    The function generates nint equally space intervals (nint+1 points), starting\n",
      "    from ~0 and ending at ~xmax. The intermediate points are based on the exact\n",
      "    interval (0, xmax). Once the series has been generated to following adjustments\n",
      "    are made for numerical stability reasons\n",
      "    \n",
      "        vec[0]  = eps\n",
      "        vec[-1] = (1-eps2) * maxx\n",
      "\n"
     ]
    }
   ],
   "source": [
    "help(A.linspace)"
   ]
  },
  {
   "cell_type": "code",
   "execution_count": 5,
   "id": "a90046e4",
   "metadata": {},
   "outputs": [
    {
     "data": {
      "text/plain": [
       "(array([1.0000e-04, 1.0000e+01, 2.0000e+01, 3.0000e+01, 4.0000e+01,\n",
       "        5.0000e+01, 6.0000e+01, 7.0000e+01, 8.0000e+01, 9.0000e+01,\n",
       "        9.9999e+01]),\n",
       " 11)"
      ]
     },
     "execution_count": 5,
     "metadata": {},
     "output_type": "execute_result"
    }
   ],
   "source": [
    "vec = al.linspace(100)\n",
    "vec, len(vec)"
   ]
  },
  {
   "cell_type": "code",
   "execution_count": 6,
   "id": "92292948",
   "metadata": {},
   "outputs": [
    {
     "name": "stdout",
     "output_type": "stream",
     "text": [
      "Help on function midpoints in module carbon.simulators.sim_analytics:\n",
      "\n",
      "midpoints(r)\n",
      "    calculates the midpoints: (x0, x1, x2, ...) -> (avg(x0,x1), avg(x1,x2), ...)\n",
      "\n"
     ]
    }
   ],
   "source": [
    "help(al.midpoints)"
   ]
  },
  {
   "cell_type": "code",
   "execution_count": 7,
   "id": "e33cf721",
   "metadata": {},
   "outputs": [
    {
     "name": "stdout",
     "output_type": "stream",
     "text": [
      "Help on function midpoints in module carbon.simulators.sim_analytics:\n",
      "\n",
      "midpoints(r)\n",
      "    calculates the midpoints: (x0, x1, x2, ...) -> (avg(x0,x1), avg(x1,x2), ...)\n",
      "\n"
     ]
    }
   ],
   "source": [
    "help(A.midpoints)"
   ]
  },
  {
   "cell_type": "code",
   "execution_count": 8,
   "id": "2e4791b9",
   "metadata": {},
   "outputs": [
    {
     "data": {
      "text/plain": [
       "(array([ 5.00005, 15.     , 25.     , 35.     , 45.     , 55.     ,\n",
       "        65.     , 75.     , 85.     , 94.9995 ]),\n",
       " 10)"
      ]
     },
     "execution_count": 8,
     "metadata": {},
     "output_type": "execute_result"
    }
   ],
   "source": [
    "vec2 = al.midpoints(vec)\n",
    "vec2, len(vec2)"
   ]
  },
  {
   "cell_type": "code",
   "execution_count": 9,
   "id": "ce0a830d",
   "metadata": {},
   "outputs": [
    {
     "name": "stdout",
     "output_type": "stream",
     "text": [
      "Help on function diff in module carbon.simulators.sim_analytics:\n",
      "\n",
      "diff(vec)\n",
      "    calculates the differences: (x0, x1, x2, ...) -> (x1-x0, x2-x1, ...)\n",
      "\n"
     ]
    }
   ],
   "source": [
    "help(al.diff)"
   ]
  },
  {
   "cell_type": "code",
   "execution_count": 10,
   "id": "3ea25721",
   "metadata": {},
   "outputs": [
    {
     "name": "stdout",
     "output_type": "stream",
     "text": [
      "Help on function diff in module carbon.simulators.sim_analytics:\n",
      "\n",
      "diff(vec)\n",
      "    calculates the differences: (x0, x1, x2, ...) -> (x1-x0, x2-x1, ...)\n",
      "\n"
     ]
    }
   ],
   "source": [
    "help(A.diff)"
   ]
  },
  {
   "cell_type": "code",
   "execution_count": 11,
   "id": "03818df2",
   "metadata": {},
   "outputs": [
    {
     "data": {
      "text/plain": [
       "(array([ 9.9999, 10.    , 10.    , 10.    , 10.    , 10.    , 10.    ,\n",
       "        10.    , 10.    ,  9.999 ]),\n",
       " 10)"
      ]
     },
     "execution_count": 11,
     "metadata": {},
     "output_type": "execute_result"
    }
   ],
   "source": [
    "vecd = al.diff(vec)\n",
    "vecd, len(vecd)"
   ]
  },
  {
   "cell_type": "code",
   "execution_count": null,
   "id": "2e8bfced",
   "metadata": {},
   "outputs": [],
   "source": []
  },
  {
   "cell_type": "code",
   "execution_count": null,
   "id": "6dcd0f2b",
   "metadata": {},
   "outputs": [],
   "source": []
  },
  {
   "cell_type": "code",
   "execution_count": 12,
   "id": "a2278c82",
   "metadata": {},
   "outputs": [
    {
     "data": {
      "text/plain": [
       "CarbonSimulatorUI(<0 orders, 0 trades>, pair='ETHUSDC')"
      ]
     },
     "execution_count": 12,
     "metadata": {},
     "output_type": "execute_result"
    }
   ],
   "source": [
    "Sim = CarbonSimulatorUI(pair=\"ETHUSDC\", verbose=False, raiseonerror=True)\n",
    "Sim"
   ]
  },
  {
   "cell_type": "code",
   "execution_count": 13,
   "id": "6f1440e3",
   "metadata": {},
   "outputs": [
    {
     "data": {
      "text/html": [
       "<div>\n",
       "<style scoped>\n",
       "    .dataframe tbody tr th:only-of-type {\n",
       "        vertical-align: middle;\n",
       "    }\n",
       "\n",
       "    .dataframe tbody tr th {\n",
       "        vertical-align: top;\n",
       "    }\n",
       "\n",
       "    .dataframe thead th {\n",
       "        text-align: right;\n",
       "    }\n",
       "</style>\n",
       "<table border=\"1\" class=\"dataframe\">\n",
       "  <thead>\n",
       "    <tr style=\"text-align: right;\">\n",
       "      <th></th>\n",
       "      <th>id</th>\n",
       "      <th>pair</th>\n",
       "      <th>tkn</th>\n",
       "      <th>y_int</th>\n",
       "      <th>y</th>\n",
       "      <th>y_unit</th>\n",
       "      <th>p_start</th>\n",
       "      <th>p_end</th>\n",
       "      <th>p_marg</th>\n",
       "      <th>p_unit</th>\n",
       "      <th>lid</th>\n",
       "    </tr>\n",
       "  </thead>\n",
       "  <tbody>\n",
       "    <tr>\n",
       "      <th>0</th>\n",
       "      <td>0</td>\n",
       "      <td>ETHUSDC</td>\n",
       "      <td>ETH</td>\n",
       "      <td>10.0</td>\n",
       "      <td>10.0</td>\n",
       "      <td>ETH</td>\n",
       "      <td>2000.0</td>\n",
       "      <td>3000.0</td>\n",
       "      <td>2000.0</td>\n",
       "      <td>USDC per ETH</td>\n",
       "      <td>0</td>\n",
       "    </tr>\n",
       "    <tr>\n",
       "      <th>1</th>\n",
       "      <td>1</td>\n",
       "      <td>ETHUSDC</td>\n",
       "      <td>ETH</td>\n",
       "      <td>10.0</td>\n",
       "      <td>10.0</td>\n",
       "      <td>ETH</td>\n",
       "      <td>2000.0</td>\n",
       "      <td>2500.0</td>\n",
       "      <td>2000.0</td>\n",
       "      <td>USDC per ETH</td>\n",
       "      <td>1</td>\n",
       "    </tr>\n",
       "  </tbody>\n",
       "</table>\n",
       "</div>"
      ],
      "text/plain": [
       "   id     pair  tkn  y_int     y y_unit  p_start   p_end  p_marg  \\\n",
       "0   0  ETHUSDC  ETH   10.0  10.0    ETH   2000.0  3000.0  2000.0   \n",
       "1   1  ETHUSDC  ETH   10.0  10.0    ETH   2000.0  2500.0  2000.0   \n",
       "\n",
       "         p_unit  lid  \n",
       "0  USDC per ETH    0  \n",
       "1  USDC per ETH    1  "
      ]
     },
     "execution_count": 13,
     "metadata": {},
     "output_type": "execute_result"
    }
   ],
   "source": [
    "Sim.add_order(\"ETH\", 10, 2000, 3000)[\"orders\"]\n",
    "Sim.add_order(\"ETH\", 10, 2000, 2500)[\"orders\"]\n",
    "Sim.state()[\"orders\"]"
   ]
  },
  {
   "cell_type": "code",
   "execution_count": 14,
   "id": "7fc790a3",
   "metadata": {},
   "outputs": [
    {
     "data": {
      "text/html": [
       "<div>\n",
       "<style scoped>\n",
       "    .dataframe tbody tr th:only-of-type {\n",
       "        vertical-align: middle;\n",
       "    }\n",
       "\n",
       "    .dataframe tbody tr th {\n",
       "        vertical-align: top;\n",
       "    }\n",
       "\n",
       "    .dataframe thead th {\n",
       "        text-align: right;\n",
       "    }\n",
       "</style>\n",
       "<table border=\"1\" class=\"dataframe\">\n",
       "  <thead>\n",
       "    <tr style=\"text-align: right;\">\n",
       "      <th></th>\n",
       "      <th>uid</th>\n",
       "      <th>id</th>\n",
       "      <th>subid</th>\n",
       "      <th>note</th>\n",
       "      <th>aggr</th>\n",
       "      <th>exec</th>\n",
       "      <th>limitfail</th>\n",
       "      <th>amt1</th>\n",
       "      <th>tkn1</th>\n",
       "      <th>amt2</th>\n",
       "      <th>tkn2</th>\n",
       "      <th>pair</th>\n",
       "      <th>routeix</th>\n",
       "      <th>nroutes</th>\n",
       "      <th>price</th>\n",
       "      <th>p_unit</th>\n",
       "    </tr>\n",
       "  </thead>\n",
       "  <tbody>\n",
       "    <tr>\n",
       "      <th>0</th>\n",
       "      <td>0.0</td>\n",
       "      <td>0</td>\n",
       "      <td>0</td>\n",
       "      <td>route #0</td>\n",
       "      <td>False</td>\n",
       "      <td>True</td>\n",
       "      <td>None</td>\n",
       "      <td>0.365208</td>\n",
       "      <td>ETH</td>\n",
       "      <td>735.343053</td>\n",
       "      <td>USDC</td>\n",
       "      <td>ETHUSDC</td>\n",
       "      <td>0</td>\n",
       "      <td>1</td>\n",
       "      <td>2013.493796</td>\n",
       "      <td>USDC per ETH</td>\n",
       "    </tr>\n",
       "    <tr>\n",
       "      <th>0</th>\n",
       "      <td>0.1</td>\n",
       "      <td>0</td>\n",
       "      <td>1</td>\n",
       "      <td>route #1</td>\n",
       "      <td>False</td>\n",
       "      <td>True</td>\n",
       "      <td>None</td>\n",
       "      <td>0.634792</td>\n",
       "      <td>ETH</td>\n",
       "      <td>1278.150744</td>\n",
       "      <td>USDC</td>\n",
       "      <td>ETHUSDC</td>\n",
       "      <td>1</td>\n",
       "      <td>1</td>\n",
       "      <td>2013.493796</td>\n",
       "      <td>USDC per ETH</td>\n",
       "    </tr>\n",
       "    <tr>\n",
       "      <th>0</th>\n",
       "      <td>0</td>\n",
       "      <td>0</td>\n",
       "      <td>A</td>\n",
       "      <td>AMM sells 1ETH buys 2013USDC</td>\n",
       "      <td>True</td>\n",
       "      <td>True</td>\n",
       "      <td>None</td>\n",
       "      <td>1.000000</td>\n",
       "      <td>ETH</td>\n",
       "      <td>2013.493796</td>\n",
       "      <td>USDC</td>\n",
       "      <td>ETHUSDC</td>\n",
       "      <td>[0, 1]</td>\n",
       "      <td>2</td>\n",
       "      <td>2013.493796</td>\n",
       "      <td>USDC per ETH</td>\n",
       "    </tr>\n",
       "  </tbody>\n",
       "</table>\n",
       "</div>"
      ],
      "text/plain": [
       "   uid  id subid                          note   aggr  exec limitfail  \\\n",
       "0  0.0   0     0                      route #0  False  True      None   \n",
       "0  0.1   0     1                      route #1  False  True      None   \n",
       "0    0   0     A  AMM sells 1ETH buys 2013USDC   True  True      None   \n",
       "\n",
       "       amt1 tkn1         amt2  tkn2     pair routeix  nroutes        price  \\\n",
       "0  0.365208  ETH   735.343053  USDC  ETHUSDC       0        1  2013.493796   \n",
       "0  0.634792  ETH  1278.150744  USDC  ETHUSDC       1        1  2013.493796   \n",
       "0  1.000000  ETH  2013.493796  USDC  ETHUSDC  [0, 1]        2  2013.493796   \n",
       "\n",
       "         p_unit  \n",
       "0  USDC per ETH  \n",
       "0  USDC per ETH  \n",
       "0  USDC per ETH  "
      ]
     },
     "execution_count": 14,
     "metadata": {},
     "output_type": "execute_result"
    }
   ],
   "source": [
    "Sim.amm_sells(\"ETH\", 1)[\"trades\"]"
   ]
  },
  {
   "cell_type": "code",
   "execution_count": 15,
   "id": "75ccf428",
   "metadata": {},
   "outputs": [
    {
     "data": {
      "text/html": [
       "<div>\n",
       "<style scoped>\n",
       "    .dataframe tbody tr th:only-of-type {\n",
       "        vertical-align: middle;\n",
       "    }\n",
       "\n",
       "    .dataframe tbody tr th {\n",
       "        vertical-align: top;\n",
       "    }\n",
       "\n",
       "    .dataframe thead th {\n",
       "        text-align: right;\n",
       "    }\n",
       "</style>\n",
       "<table border=\"1\" class=\"dataframe\">\n",
       "  <thead>\n",
       "    <tr style=\"text-align: right;\">\n",
       "      <th></th>\n",
       "      <th>id</th>\n",
       "      <th>pair</th>\n",
       "      <th>tkn</th>\n",
       "      <th>y_int</th>\n",
       "      <th>y</th>\n",
       "      <th>y_unit</th>\n",
       "      <th>p_start</th>\n",
       "      <th>p_end</th>\n",
       "      <th>p_marg</th>\n",
       "      <th>p_unit</th>\n",
       "      <th>lid</th>\n",
       "    </tr>\n",
       "  </thead>\n",
       "  <tbody>\n",
       "    <tr>\n",
       "      <th>0</th>\n",
       "      <td>0</td>\n",
       "      <td>ETHUSDC</td>\n",
       "      <td>ETH</td>\n",
       "      <td>10.0</td>\n",
       "      <td>9.634792</td>\n",
       "      <td>ETH</td>\n",
       "      <td>2000.0</td>\n",
       "      <td>3000.0</td>\n",
       "      <td>2027.078671</td>\n",
       "      <td>USDC per ETH</td>\n",
       "      <td>0</td>\n",
       "    </tr>\n",
       "    <tr>\n",
       "      <th>1</th>\n",
       "      <td>1</td>\n",
       "      <td>ETHUSDC</td>\n",
       "      <td>ETH</td>\n",
       "      <td>10.0</td>\n",
       "      <td>9.365208</td>\n",
       "      <td>ETH</td>\n",
       "      <td>2000.0</td>\n",
       "      <td>2500.0</td>\n",
       "      <td>2027.078613</td>\n",
       "      <td>USDC per ETH</td>\n",
       "      <td>1</td>\n",
       "    </tr>\n",
       "  </tbody>\n",
       "</table>\n",
       "</div>"
      ],
      "text/plain": [
       "   id     pair  tkn  y_int         y y_unit  p_start   p_end       p_marg  \\\n",
       "0   0  ETHUSDC  ETH   10.0  9.634792    ETH   2000.0  3000.0  2027.078671   \n",
       "1   1  ETHUSDC  ETH   10.0  9.365208    ETH   2000.0  2500.0  2027.078613   \n",
       "\n",
       "         p_unit  lid  \n",
       "0  USDC per ETH    0  \n",
       "1  USDC per ETH    1  "
      ]
     },
     "execution_count": 15,
     "metadata": {},
     "output_type": "execute_result"
    }
   ],
   "source": [
    "Sim.state()[\"orders\"]"
   ]
  },
  {
   "cell_type": "code",
   "execution_count": null,
   "id": "cc937656",
   "metadata": {},
   "outputs": [],
   "source": []
  }
 ],
 "metadata": {
  "kernelspec": {
   "display_name": "Python 3",
   "language": "python",
   "name": "python3"
  },
  "language_info": {
   "codemirror_mode": {
    "name": "ipython",
    "version": 3
   },
   "file_extension": ".py",
   "mimetype": "text/x-python",
   "name": "python",
   "nbconvert_exporter": "python",
   "pygments_lexer": "ipython3",
   "version": "3.8.8"
  }
 },
 "nbformat": 4,
 "nbformat_minor": 5
}
