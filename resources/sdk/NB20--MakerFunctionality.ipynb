{
 "cells": [
  {
   "cell_type": "code",
   "execution_count": 1,
   "id": "a0855cc0-2db7-4341-b0ef-fcb343ca3636",
   "metadata": {},
   "outputs": [
    {
     "name": "stdout",
     "output_type": "stream",
     "text": [
      "CarbonSDK v0.9 (11/Mar/2023)\n",
      "v18.14.2\n"
     ]
    }
   ],
   "source": [
    "from carbon.sdk import CarbonSDK, Tokens as T\n",
    "from carbon import CarbonOrderUI, CarbonSimulatorUI\n",
    "from carbon.helpers.widgets import CheckboxManager, DropdownManager, PcSliderManager\n",
    "from matplotlib import pyplot as plt\n",
    "import numpy as np\n",
    "print(\"{0.__name__} v{0.__VERSION__} ({0.__DATE__})\".format(CarbonSDK))\n",
    "!node --version"
   ]
  },
  {
   "cell_type": "markdown",
   "id": "3650b16b-d020-4063-84c6-ab9fb7556552",
   "metadata": {},
   "source": [
    "# Maker Functionality [NB20]\n",
    "\n",
    "\n",
    "In order to start the server, please run\n",
    "\n",
    "    source /Volumes/Private/bin/sdkserver\n",
    "    node server/sdkserver.mjs"
   ]
  },
  {
   "cell_type": "code",
   "execution_count": 2,
   "id": "15bfcae7-1124-4a6b-b12f-26d2f9f8173a",
   "metadata": {},
   "outputs": [
    {
     "name": "stdout",
     "output_type": "stream",
     "text": [
      "0x02aA0c42702110747c4cEa3C4Daf4D6cF701a6Ee\n"
     ]
    },
    {
     "data": {
      "text/plain": [
       "'Carbon SDK v0.9 (7/Mar/2022)'"
      ]
     },
     "execution_count": 2,
     "metadata": {},
     "output_type": "execute_result"
    }
   ],
   "source": [
    "SDK = CarbonSDK(disclaimer=False, verbose=False, Tokens=T)\n",
    "pairs, pairs_s = SDK.pairs(inclstr=True)\n",
    "sdkaddr = SDK.addr()\n",
    "print(sdkaddr)\n",
    "SDK.version().get(\"msg\")"
   ]
  },
  {
   "cell_type": "markdown",
   "id": "6ef9dedd-8b0f-48df-9b82-3c9b3da5e2c6",
   "metadata": {},
   "source": [
    "## Pair selection"
   ]
  },
  {
   "cell_type": "code",
   "execution_count": 3,
   "id": "0d6e1623-02d3-40a8-8d1f-92ce2ad70406",
   "metadata": {},
   "outputs": [
    {
     "data": {
      "application/vnd.jupyter.widget-view+json": {
       "model_id": "6c2805cb3d184170bf9c68d6acb2fa2b",
       "version_major": 2,
       "version_minor": 0
      },
      "text/plain": [
       "Dropdown(options=(('USDC/ETH', 'USDC/ETH'),), value='USDC/ETH')"
      ]
     },
     "metadata": {},
     "output_type": "display_data"
    }
   ],
   "source": [
    "try:\n",
    "    pairs_sel = [s.strip() for s in pairs_s.split(\",\")]\n",
    "    pairs_w()\n",
    "except:\n",
    "    pairs_w = DropdownManager(pairs_sel, defaultval=\"USDC/ETH\")\n",
    "    pairs_w()"
   ]
  },
  {
   "cell_type": "code",
   "execution_count": 4,
   "id": "db1bc0de-4a0f-4d9b-93cf-a484a757e7d2",
   "metadata": {},
   "outputs": [
    {
     "data": {
      "application/vnd.jupyter.widget-view+json": {
       "model_id": "ab948750a11f4f12a1d9360991ba732d",
       "version_major": 2,
       "version_minor": 0
      },
      "text/plain": [
       "VBox(children=(Checkbox(value=True, description='inverse'),))"
      ]
     },
     "metadata": {},
     "output_type": "display_data"
    }
   ],
   "source": [
    "try:\n",
    "    inverse_w()\n",
    "except:\n",
    "    inverse_w = CheckboxManager([\"inverse\"], values=[1])\n",
    "    inverse_w()"
   ]
  },
  {
   "cell_type": "code",
   "execution_count": 5,
   "id": "2f3cfec2-11a0-445f-90a1-9a9674ef79e3",
   "metadata": {},
   "outputs": [
    {
     "data": {
      "text/plain": [
       "'ETH/USDC'"
      ]
     },
     "execution_count": 5,
     "metadata": {},
     "output_type": "execute_result"
    }
   ],
   "source": [
    "tknb,tknq = pairs_w.value.split(\"/\")\n",
    "if inverse_w.values[0]:\n",
    "    tknb,tknq = tknq, tknb\n",
    "pair = f\"{tknb}/{tknq}\"\n",
    "pair"
   ]
  },
  {
   "cell_type": "markdown",
   "id": "e33d2e12-753c-474e-affe-dc34ac03ec97",
   "metadata": {},
   "source": [
    "## Market information"
   ]
  },
  {
   "cell_type": "code",
   "execution_count": 6,
   "id": "6a394fd8-8262-4cef-a8a9-cf421f2e2a48",
   "metadata": {},
   "outputs": [
    {
     "data": {
      "text/plain": [
       "MarketByPair(pair='ETH/USDC', bestBid=1599.9999998788553, bestAsk=2500.0, liqBid=2000.0, liqAsk=2.0, lastBid=1499.999999795006, lastAsk=2600.0000000000114)"
      ]
     },
     "execution_count": 6,
     "metadata": {},
     "output_type": "execute_result"
    }
   ],
   "source": [
    "m = SDK.mGetMarketByPair(pair=pair)\n",
    "m"
   ]
  },
  {
   "cell_type": "code",
   "execution_count": 7,
   "id": "dc47a1be-c1be-4f68-96a9-f0db1e2902ef",
   "metadata": {},
   "outputs": [
    {
     "data": {
      "text/plain": [
       "(1500.0, 1600.0, 2050.0, 2500.0, 2600.0)"
      ]
     },
     "execution_count": 7,
     "metadata": {},
     "output_type": "execute_result"
    }
   ],
   "source": [
    "SDK.roundsd(m.lastBid,6), SDK.roundsd(m.bestBid,6), SDK.roundsd(m.mid,6), SDK.roundsd(m.bestAsk,6), SDK.roundsd(m.lastAsk,6)"
   ]
  },
  {
   "cell_type": "code",
   "execution_count": 8,
   "id": "d4256722-3f8d-401d-972e-87cd8d10662c",
   "metadata": {},
   "outputs": [
    {
     "data": {
      "text/plain": [
       "(2000.0, 'USDC', 2.0, 'ETH')"
      ]
     },
     "execution_count": 8,
     "metadata": {},
     "output_type": "execute_result"
    }
   ],
   "source": [
    "(SDK.roundsd(m.liqBid,4), m.liqBidUnit, SDK.roundsd(m.liqAsk,4), m.liqAskUnit)"
   ]
  },
  {
   "cell_type": "markdown",
   "id": "c1e8d034-468b-47d7-80bd-d702885a8b60",
   "metadata": {},
   "source": [
    "## Create strategy"
   ]
  },
  {
   "cell_type": "markdown",
   "id": "37cbe9f7-3262-47a6-8be5-7ba5509d5331",
   "metadata": {},
   "source": [
    "#### `mCreateStrategy`"
   ]
  },
  {
   "cell_type": "code",
   "execution_count": 9,
   "id": "8adff07c-fa39-4934-8304-19fb0b334267",
   "metadata": {},
   "outputs": [
    {
     "data": {
      "application/vnd.jupyter.widget-view+json": {
       "model_id": "bd44d5702c5b492ab5b802f5cb50c82a",
       "version_major": 2,
       "version_minor": 0
      },
      "text/plain": [
       "VBox(children=(FloatSlider(value=0.0, continuous_update=False, description='buyStart', readout_format='.1f'), …"
      ]
     },
     "metadata": {},
     "output_type": "display_data"
    }
   ],
   "source": [
    "try:\n",
    "    strat_w()\n",
    "except:\n",
    "    strat_w = PcSliderManager(choices=[\"buyStart\", \"buyEnd\", \"sellStart\", \"sellEnd\"], values=[0, 1, 0, 1])\n",
    "    strat_w()"
   ]
  },
  {
   "cell_type": "code",
   "execution_count": 10,
   "id": "829b2047-d296-4c64-a7fc-5ef2ea51c411",
   "metadata": {},
   "outputs": [
    {
     "name": "stdout",
     "output_type": "stream",
     "text": [
      "pair = ETH/USDC, TknB=ETH, TknQ=USDC\n",
      "buy  ETH 1600.0 down to 1500.0   [1 USDC] \n",
      "sell ETH 2500.0      to 2600.0   [100 ETH] \n"
     ]
    }
   ],
   "source": [
    "sellAmountTknB =     1\n",
    "buyAmountTknQ  =   100\n",
    "x = strat_w.values\n",
    "print(f\"pair = {pair}, TknB={tknb}, TknQ={tknq}\")\n",
    "print(f\"buy  {tknb} {SDK.roundsd(m.ibid(x[0]),6)} down to {SDK.roundsd(m.ibid(x[1]),6)}   [{sellAmountTknB} {tknq}] \")\n",
    "print(f\"sell {tknb} {SDK.roundsd(m.iask(x[2]),6)}      to {SDK.roundsd(m.iask(x[3]),6)}   [{buyAmountTknQ} {tknb}] \")"
   ]
  },
  {
   "cell_type": "code",
   "execution_count": 11,
   "id": "3f44e924-cdbe-4053-b864-a64dddffa795",
   "metadata": {},
   "outputs": [
    {
     "data": {
      "text/plain": [
       "{'data': '0xf727473a000000000000000000000000eeeeeeeeeeeeeeeeeeeeeeeeeeeeeeeeeeeeeeee000000000000000000000000a0b86991c6218b36c1d19d4a2e9eb0ce3606eb480000000000000000000000000000000000000000000000000de0b6b3a76400000000000000000000000000000000000000000000000000000de0b6b3a76400000000000000000000000000000000000000000000000000000009c23178611340000000000000000000000000000000000000000000000000000f99373a1e7bb30000000000000000000000000000000000000000000000000000000005f5e1000000000000000000000000000000000000000000000000000000000005f5e10000000000000000000000000000000000000000000000000000000000154f52e10000000000000000000000000000000000000000000000000000000289c75e3a',\n",
       " 'to': '0x135E72f1b65227b1C8e59DC1217096A114086876',\n",
       " 'gasLimit': {'type': 'BigNumber', 'hex': '0x3b9ac9ff'},\n",
       " 'value': {'type': 'BigNumber', 'hex': '0x0de0b6b3a7640000'}}"
      ]
     },
     "execution_count": 11,
     "metadata": {},
     "output_type": "execute_result"
    }
   ],
   "source": [
    "x = strat_w.values\n",
    "tx = SDK.mCreateStrategy(\n",
    "    pair, \n",
    "    buyRangeStart  = m.ibid(x[0]), buyRangeEnd  = m.ibid(x[1]), buyAmountTknQ = buyAmountTknQ, \n",
    "    sellRangeStart = m.iask(x[2]), sellRangeEnd = m.iask(x[3]), sellAmountTknB = sellAmountTknB, \n",
    "    overrides = None)\n",
    "tx"
   ]
  },
  {
   "cell_type": "code",
   "execution_count": 12,
   "id": "a7009668-8b6e-4479-94fc-876f494d57fd",
   "metadata": {},
   "outputs": [
    {
     "data": {
      "application/vnd.jupyter.widget-view+json": {
       "model_id": "f33498d507d34be1953a9db827f732fa",
       "version_major": 2,
       "version_minor": 0
      },
      "text/plain": [
       "VBox(children=(Checkbox(value=False, description='submit'),))"
      ]
     },
     "metadata": {},
     "output_type": "display_data"
    }
   ],
   "source": [
    "try:\n",
    "    submit_w()\n",
    "except:\n",
    "    submit_w = CheckboxManager([\"submit\"], values=[0])\n",
    "    submit_w()"
   ]
  },
  {
   "cell_type": "code",
   "execution_count": 13,
   "id": "441829ae-3298-4d8d-8e49-20961b64077c",
   "metadata": {},
   "outputs": [
    {
     "data": {
      "text/plain": [
       "'check box above to submit'"
      ]
     },
     "execution_count": 13,
     "metadata": {},
     "output_type": "execute_result"
    }
   ],
   "source": [
    "if submit_w.values[0]: \n",
    "    r = SDK.signsubmittx(tx, sign=True)\n",
    "else:\n",
    "    r = \"check box above to submit\"\n",
    "r"
   ]
  },
  {
   "cell_type": "markdown",
   "id": "a9d145ec-f422-41f8-a8ca-0b4f665fd983",
   "metadata": {},
   "source": [
    "## Review strategies"
   ]
  },
  {
   "cell_type": "code",
   "execution_count": 14,
   "id": "773e3c7b-3fcf-4bc9-9efe-ca00f89e3adf",
   "metadata": {},
   "outputs": [
    {
     "data": {
      "text/plain": [
       "[{'id': {'type': 'BigNumber', 'hex': '0x0100000000000000000000000000000001'},\n",
       "  'baseToken': '0xEeeeeEeeeEeEeeEeEeEeeEEEeeeeEeeeeeeeEEeE',\n",
       "  'quoteToken': '0xA0b86991c6218b36c1d19D4a2e9Eb0cE3606eB48',\n",
       "  'buyPriceLow': '1499.999999795006131230270249480266202369446401111707789510774091468192636966705322265625',\n",
       "  'buyPriceHigh': '1599.99999987885530572613908948335161402097039096137365277172648347914218902587890625',\n",
       "  'buyBudget': '2000',\n",
       "  'sellPriceLow': '2500',\n",
       "  'sellPriceHigh': '2600.000000000011469981186957619896170942620083990429606213754278889677960415165669457991666380074129',\n",
       "  'sellBudget': '2',\n",
       "  'encoded': {'id': {'type': 'BigNumber',\n",
       "    'hex': '0x0100000000000000000000000000000001'},\n",
       "   'token0': '0xEeeeeEeeeEeEeeEeEeEeeEEEeeeeEeeeeeeeEEeE',\n",
       "   'token1': '0xA0b86991c6218b36c1d19D4a2e9Eb0cE3606eB48',\n",
       "   'order0': {'y': {'type': 'BigNumber', 'hex': '0x1bc16d674ec80000'},\n",
       "    'z': {'type': 'BigNumber', 'hex': '0x1bc16d674ec80000'},\n",
       "    'A': {'type': 'BigNumber', 'hex': '0x09c23178611340'},\n",
       "    'B': {'type': 'BigNumber', 'hex': '0x0f99373a1e7bb3'}},\n",
       "   'order1': {'y': {'type': 'BigNumber', 'hex': '0x77359400'},\n",
       "    'z': {'type': 'BigNumber', 'hex': '0x77359400'},\n",
       "    'A': {'type': 'BigNumber', 'hex': '0x154f52e1'},\n",
       "    'B': {'type': 'BigNumber', 'hex': '0x0289c75e3b'}}}}]"
      ]
     },
     "execution_count": 14,
     "metadata": {},
     "output_type": "execute_result"
    }
   ],
   "source": [
    "data = SDK.getUserStrategies(user=sdkaddr)\n",
    "data"
   ]
  },
  {
   "cell_type": "code",
   "execution_count": 15,
   "id": "74127cd7-79b3-4d42-8834-cf9d9e139032",
   "metadata": {
    "tags": []
   },
   "outputs": [
    {
     "name": "stdout",
     "output_type": "stream",
     "text": [
      "retrieved strategies 1\n"
     ]
    },
    {
     "data": {
      "text/plain": [
       "Strategy(sid=340282366920938463463374607431768211457, baseToken='0xeeeeeeeeeeeeeeeeeeeeeeeeeeeeeeeeeeeeeeee', baseTokenName='ETH', quoteToken='0xa0b86991c6218b36c1d19d4a2e9eb0ce3606eb48', quoteTokenName='USDC', buyPriceLow=1500.0, buyPriceHigh=1600.0, buyBudget=2000.0, sellPriceLow=2500.0, sellPriceHigh=2600.0, sellBudget=2.0, encoded=EncodedStrategy(sid=340282366920938463463374607431768211457, order0=EncodedOrder(token='0xEeeeeEeeeEeEeeEeEeEeeEEEeeeeEeeeeeeeEEeE', y=2000000000000000000, z=2000000000000000000, A=2746792519209792, B=4390587127987123), order1=EncodedOrder(token='0xA0b86991c6218b36c1d19D4a2e9Eb0cE3606eB48', y=2000000000, z=2000000000, A=357520097, B=10901478971)))"
      ]
     },
     "execution_count": 15,
     "metadata": {},
     "output_type": "execute_result"
    }
   ],
   "source": [
    "data = SDK.mGetUserStrategies(user=sdkaddr)\n",
    "print(\"retrieved strategies\", len(data))\n",
    "s=data[0]\n",
    "s"
   ]
  },
  {
   "cell_type": "code",
   "execution_count": 16,
   "id": "24aad7a8-ec0d-4a3e-b29a-fbb2a71563d8",
   "metadata": {},
   "outputs": [
    {
     "name": "stdout",
     "output_type": "stream",
     "text": [
      "{\n",
      "    \"id\": \"340282366920938463463374607431768211457\",\n",
      "    \"token0\": \"0xEeeeeEeeeEeEeeEeEeEeeEEEeeeeEeeeeeeeEEeE\",\n",
      "    \"token1\": \"0xA0b86991c6218b36c1d19D4a2e9Eb0cE3606eB48\",\n",
      "    \"order0\": {\n",
      "        \"y\": \"2000000000000000000\",\n",
      "        \"z\": \"2000000000000000000\",\n",
      "        \"A\": \"2746792519209792\",\n",
      "        \"B\": \"4390587127987123\"\n",
      "    },\n",
      "    \"order1\": {\n",
      "        \"y\": \"2000000000\",\n",
      "        \"z\": \"2000000000\",\n",
      "        \"A\": \"357520097\",\n",
      "        \"B\": \"10901478971\"\n",
      "    }\n",
      "}\n"
     ]
    },
    {
     "data": {
      "text/plain": [
       "{'id': '340282366920938463463374607431768211457',\n",
       " 'token0': '0xEeeeeEeeeEeEeeEeEeEeeEEEeeeeEeeeeeeeEEeE',\n",
       " 'token1': '0xA0b86991c6218b36c1d19D4a2e9Eb0cE3606eB48',\n",
       " 'order0': {'y': '2000000000000000000',\n",
       "  'z': '2000000000000000000',\n",
       "  'A': '2746792519209792',\n",
       "  'B': '4390587127987123'},\n",
       " 'order1': {'y': '2000000000',\n",
       "  'z': '2000000000',\n",
       "  'A': '357520097',\n",
       "  'B': '10901478971'}}"
      ]
     },
     "execution_count": 16,
     "metadata": {},
     "output_type": "execute_result"
    }
   ],
   "source": [
    "print(s.encoded.raw_json)\n",
    "s.encoded.raw"
   ]
  },
  {
   "cell_type": "code",
   "execution_count": 17,
   "id": "642171d4-a9d9-44cf-8d93-3c935b340534",
   "metadata": {},
   "outputs": [],
   "source": [
    "update = SDK.StrategyUpdate(buyPriceLow=1000, buyPriceHigh=1100, buyBudget=2000, sellPriceLow=3000, sellPriceHigh=3100, sellBudget=2)"
   ]
  },
  {
   "cell_type": "code",
   "execution_count": 18,
   "id": "d0b8d6b9-84ee-42f6-8705-afa2c0343233",
   "metadata": {},
   "outputs": [
    {
     "data": {
      "text/plain": [
       "{'success': False,\n",
       " 'error': \"Cannot read properties of undefined (reading 'y')\"}"
      ]
     },
     "execution_count": 18,
     "metadata": {},
     "output_type": "execute_result"
    }
   ],
   "source": [
    "r = SDK.updateStrategy(s.sid, s.encoded.raw_json, s.baseToken, s.quoteToken, update, sync=True)\n",
    "r.json()"
   ]
  },
  {
   "cell_type": "code",
   "execution_count": 22,
   "id": "66b50052-a1d7-4836-bc16-2e178d8da0d9",
   "metadata": {},
   "outputs": [
    {
     "data": {
      "text/plain": [
       "{'buyPriceLow': '1000'}"
      ]
     },
     "execution_count": 22,
     "metadata": {},
     "output_type": "execute_result"
    }
   ],
   "source": [
    "SDK.StrategyUpdate(buyPriceLow=1000).asdict()"
   ]
  },
  {
   "cell_type": "code",
   "execution_count": null,
   "id": "09a0ee72-6463-4dad-9b23-63faa40be89b",
   "metadata": {},
   "outputs": [],
   "source": []
  },
  {
   "cell_type": "code",
   "execution_count": null,
   "id": "e4834655-10d4-475c-b20d-7f73efde5cbf",
   "metadata": {},
   "outputs": [],
   "source": []
  },
  {
   "cell_type": "code",
   "execution_count": null,
   "id": "b2442529-ca98-4289-b477-34fef785af61",
   "metadata": {},
   "outputs": [],
   "source": []
  },
  {
   "cell_type": "code",
   "execution_count": 20,
   "id": "0ac112b3-3ecd-4b8a-99bf-5443b9302162",
   "metadata": {},
   "outputs": [
    {
     "ename": "RuntimeError",
     "evalue": "No active exception to reraise",
     "output_type": "error",
     "traceback": [
      "\u001b[0;31m---------------------------------------------------------------------------\u001b[0m",
      "\u001b[0;31mRuntimeError\u001b[0m                              Traceback (most recent call last)",
      "\u001b[0;32m<ipython-input-20-9c9a2cba73bf>\u001b[0m in \u001b[0;36m<module>\u001b[0;34m\u001b[0m\n\u001b[0;32m----> 1\u001b[0;31m \u001b[0;32mraise\u001b[0m\u001b[0;34m\u001b[0m\u001b[0;34m\u001b[0m\u001b[0m\n\u001b[0m",
      "\u001b[0;31mRuntimeError\u001b[0m: No active exception to reraise"
     ]
    }
   ],
   "source": [
    "raise"
   ]
  },
  {
   "cell_type": "code",
   "execution_count": null,
   "id": "d21b2d53-c248-40a1-ba04-bb141ca73806",
   "metadata": {},
   "outputs": [],
   "source": [
    "d, de=data[0], data[0].encoded\n",
    "print(de.order1.descr)\n",
    "print(de.descr[1])\n",
    "print(d.descr[1])\n",
    "f\"buying {d.baseToken} @\", de.order1.p_start, de.order1.p_end, f\"{d.quoteToken} per {d.baseToken}\""
   ]
  },
  {
   "cell_type": "code",
   "execution_count": null,
   "id": "71371231-8812-449d-b696-f82084051b7b",
   "metadata": {},
   "outputs": [],
   "source": [
    "d, de=data[0], data[0].encoded\n",
    "print(de.order0.descr)\n",
    "print(de.descr[0])\n",
    "print(d.descr[0])\n",
    "f\"selling {d.baseToken} @\", 1/de.order0.p_start, 1/de.order0.p_end, f\"{d.quoteToken} per {d.baseToken}\""
   ]
  },
  {
   "cell_type": "code",
   "execution_count": null,
   "id": "09907be8-3e8b-4f40-940f-ddf0201c9fda",
   "metadata": {},
   "outputs": [],
   "source": [
    "print(f\"Number of strategies: {len(data)}\")"
   ]
  },
  {
   "cell_type": "code",
   "execution_count": null,
   "id": "a9374d39-9c72-43b8-bdfd-cfe36911f6d3",
   "metadata": {},
   "outputs": [],
   "source": [
    "# Sim = CarbonSimulatorUI(verbose=False, raiseonerror=True)\n",
    "# for d in data:\n",
    "#     Sim.add_fromsdk(d, 6)\n",
    "# Sim.state()[\"orders\"]"
   ]
  },
  {
   "cell_type": "markdown",
   "id": "5841c26f-9646-4521-bf8d-d331c85e4c65",
   "metadata": {},
   "source": [
    "## Delete strategies"
   ]
  },
  {
   "cell_type": "code",
   "execution_count": null,
   "id": "0b4cbfe3-c074-4ec2-a225-bea0813a8ade",
   "metadata": {},
   "outputs": [],
   "source": [
    "stratids = [d[\"id\"] for d in data]\n",
    "try:\n",
    "    delete_w()\n",
    "    assert len(data) == lendata\n",
    "except:\n",
    "    delete_w = CheckboxManager(stratids)\n",
    "    lendata=len(data)\n",
    "    delete_w()"
   ]
  },
  {
   "cell_type": "code",
   "execution_count": null,
   "id": "e184cf0d-9b99-4daa-9a7f-770f0e865831",
   "metadata": {},
   "outputs": [],
   "source": [
    "try:\n",
    "    submitd_w()\n",
    "except:\n",
    "    submitd_w = CheckboxManager([\"submit delete\"], values=[0])\n",
    "    submitd_w()"
   ]
  },
  {
   "cell_type": "code",
   "execution_count": null,
   "id": "7aeeecf3-3a15-47e8-8c74-47d804df89ce",
   "metadata": {},
   "outputs": [],
   "source": [
    "for cid, ds in zip(stratids, delete_w.values):\n",
    "    if ds:\n",
    "        data = SDK.deleteStrategy(strategyId=cid)\n",
    "        #print(data)\n",
    "        if submitd_w.values[0]:\n",
    "            result = SDK.signsubmittx(data, sign=True)\n",
    "            print(f\"Deleteting strategy {cid}: \", result)\n",
    "            delete_w = None\n",
    "        else:\n",
    "            print(f\"Would delete strategy {cid} if box was ticked \")"
   ]
  },
  {
   "cell_type": "code",
   "execution_count": 27,
   "id": "6cce5546-d1e6-43f9-a4e0-ffcff1658de1",
   "metadata": {
    "lines_to_next_cell": 2
   },
   "outputs": [
    {
     "data": {
      "text/plain": [
       "{1: '1', 2: '2', 'encoded': {1: 1, 2: 2}}"
      ]
     },
     "execution_count": 27,
     "metadata": {},
     "output_type": "execute_result"
    }
   ],
   "source": [
    "import json\n",
    "dct = {\n",
    "    1:\"1\",\n",
    "    2:\"2\",\n",
    "    \"encoded\": {1:1, 2:2}\n",
    "}\n",
    "dct"
   ]
  },
  {
   "cell_type": "code",
   "execution_count": null,
   "id": "e335a1a4-e8c2-4629-95f6-6f8419a3ee8f",
   "metadata": {},
   "outputs": [],
   "source": []
  }
 ],
 "metadata": {
  "jupytext": {
   "encoding": "# -*- coding: utf-8 -*-",
   "formats": "ipynb,py:light"
  },
  "kernelspec": {
   "display_name": "Python 3",
   "language": "python",
   "name": "python3"
  },
  "language_info": {
   "codemirror_mode": {
    "name": "ipython",
    "version": 3
   },
   "file_extension": ".py",
   "mimetype": "text/x-python",
   "name": "python",
   "nbconvert_exporter": "python",
   "pygments_lexer": "ipython3",
   "version": "3.8.8"
  },
  "toc-autonumbering": false,
  "toc-showcode": false,
  "toc-showmarkdowntxt": false
 },
 "nbformat": 4,
 "nbformat_minor": 5
}
