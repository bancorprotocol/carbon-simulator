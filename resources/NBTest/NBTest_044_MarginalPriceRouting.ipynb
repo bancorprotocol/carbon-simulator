{
 "cells": [
  {
   "cell_type": "code",
   "execution_count": 41,
   "id": "ed525c67",
   "metadata": {},
   "outputs": [
    {
     "name": "stdout",
     "output_type": "stream",
     "text": [
      "Carbon v2.2-BETA4 (09/Jan/2022)\n",
      "CarbonSimulatorUI v2.3 (9/Jan/2023)\n",
      "CarbonOrderUI v1.5.1 (07/Jan/2023)\n"
     ]
    }
   ],
   "source": [
    "from carbon import CarbonSimulatorUI, CarbonOrderUI, P, __version__, __date__\n",
    "from math import sqrt\n",
    "import numpy as np\n",
    "from matplotlib import pyplot as plt\n",
    "print(f\"Carbon v{__version__} ({__date__})\")\n",
    "print(\"{0.__name__} v{0.__VERSION__} ({0.__DATE__})\".format(CarbonSimulatorUI))\n",
    "print(\"{0.__name__} v{0.__VERSION__} ({0.__DATE__})\".format(CarbonOrderUI))"
   ]
  },
  {
   "cell_type": "markdown",
   "id": "795b0a19",
   "metadata": {},
   "source": [
    "# Marginal Price Routing Example (NBTest 44)"
   ]
  },
  {
   "cell_type": "markdown",
   "id": "f86cee7e",
   "metadata": {},
   "source": [
    "NBTEST: NOTEST_DEFAULT = TEST"
   ]
  },
  {
   "cell_type": "markdown",
   "id": "8b8f176f",
   "metadata": {},
   "source": [
    "The Marginal Price Routing code at the end of this notebook required a number of changes to the Carbon library. In the first few sections below we collect a number of test for those new items."
   ]
  },
  {
   "cell_type": "markdown",
   "id": "0e481907",
   "metadata": {},
   "source": [
    "## CarbonPair related tests"
   ]
  },
  {
   "cell_type": "code",
   "execution_count": 42,
   "id": "59deb89b",
   "metadata": {},
   "outputs": [
    {
     "name": "stdout",
     "output_type": "stream",
     "text": [
      "P('ETH/USDC')\n",
      "P('ETH/USDC')\n"
     ]
    }
   ],
   "source": [
    "pair = P(\"ETH/USDC\")\n",
    "assert isinstance(pair, P)\n",
    "print(str(pair))\n",
    "assert str(pair) == \"P('ETH/USDC')\"\n",
    "pair2 = P.from_slashpair(\"  ETH / USDC\")\n",
    "print(pair2)\n",
    "assert isinstance(pair2, P)\n",
    "assert pair2.slashpair == \"ETH/USDC\"\n",
    "pair3 = P(pair2)\n",
    "assert isinstance(pair3, P)\n",
    "assert pair3==pair2"
   ]
  },
  {
   "cell_type": "markdown",
   "id": "6b8c161d",
   "metadata": {},
   "source": [
    "## CarbonOrderUI general tests"
   ]
  },
  {
   "cell_type": "code",
   "execution_count": 43,
   "id": "b65e8cf7",
   "metadata": {},
   "outputs": [
    {
     "data": {
      "text/plain": [
       "CarbonOrderUI(pair=ETH/USDC, B=0.018257418583505537, S=0.004103261191492361, yint=10, y=10, id=None, linked=None)"
      ]
     },
     "execution_count": 43,
     "metadata": {},
     "output_type": "execute_result"
    }
   ],
   "source": [
    "order = CarbonOrderUI.from_prices(\"ETH/USDC\", \"ETH\", 2000, 3000, 10, 10)\n",
    "assert isinstance(order, CarbonOrderUI)\n",
    "#print(round(order.B,10))\n",
    "assert round(order.B,10) == 0.0182574186\n",
    "#print(round(order.S,10))\n",
    "assert round(order.S,10) == 0.0041032612\n",
    "assert order.yint == 10\n",
    "assert order.y == 10\n",
    "assert order.pa == 2000\n",
    "assert order.pb == 3000\n",
    "assert order.p_marg == 2000\n",
    "assert order.pa == order.py\n",
    "assert order.pb == order.px\n",
    "assert order.total_liquidity == (10, 'ETH')\n",
    "assert round(order.p0, 10) == round(sqrt(2000*3000),10)\n",
    "assert round(order.widthpc, 10) == round((3000-2000)/sqrt(2000*3000),10)\n",
    "assert round(order.widthr, 10) == round(3000/2000,10)\n",
    "order"
   ]
  },
  {
   "cell_type": "code",
   "execution_count": 44,
   "id": "53011f97",
   "metadata": {},
   "outputs": [
    {
     "name": "stdout",
     "output_type": "stream",
     "text": [
      "('y must not be bigger than yint (y={y}, yint={yint})', 5, 10)\n"
     ]
    }
   ],
   "source": [
    "try:\n",
    "    CarbonOrderUI.from_prices(\"ETH/USDC\", \"ETH\", 2000, 3000, 5, 10)\n",
    "    raise RuntimeError(\"Should have raised exception\")\n",
    "except ValueError as e:\n",
    "    print(e)"
   ]
  },
  {
   "cell_type": "code",
   "execution_count": 45,
   "id": "d1842bf3",
   "metadata": {},
   "outputs": [
    {
     "name": "stdout",
     "output_type": "stream",
     "text": [
      "('yint must be non-negative', -10)\n"
     ]
    }
   ],
   "source": [
    "try:\n",
    "    CarbonOrderUI.from_prices(\"ETH/USDC\", \"ETH\", 2000, 3000, -10, -10)\n",
    "    raise RuntimeError(\"Should have raised exception\")\n",
    "except ValueError as e:\n",
    "    print(e)"
   ]
  },
  {
   "cell_type": "code",
   "execution_count": 46,
   "id": "781d3350",
   "metadata": {},
   "outputs": [
    {
     "name": "stdout",
     "output_type": "stream",
     "text": [
      "('y must be non-negative', -10)\n"
     ]
    }
   ],
   "source": [
    "try:\n",
    "    CarbonOrderUI.from_prices(\"ETH/USDC\", \"ETH\", 2000, 3000, 10, -10)\n",
    "    raise RuntimeError(\"Should have raised exception\")\n",
    "except ValueError as e:\n",
    "    print(e)"
   ]
  },
  {
   "cell_type": "code",
   "execution_count": 47,
   "id": "05c6959d",
   "metadata": {},
   "outputs": [
    {
     "name": "stdout",
     "output_type": "stream",
     "text": [
      "[from_prices] exchanging pa, pb\n"
     ]
    },
    {
     "data": {
      "text/plain": [
       "CarbonOrderUI(pair=ETH/USDC, B=0.018257418583505537, S=0.004103261191492361, yint=10, y=10, id=None, linked=None)"
      ]
     },
     "execution_count": 47,
     "metadata": {},
     "output_type": "execute_result"
    }
   ],
   "source": [
    "order = CarbonOrderUI.from_prices(\"ETH/USDC\", \"ETH\", 3000, 2000, 10, 10)\n",
    "assert order.pa == 2000\n",
    "assert order.pb == 3000\n",
    "order"
   ]
  },
  {
   "cell_type": "code",
   "execution_count": 48,
   "id": "2ff74ac6",
   "metadata": {},
   "outputs": [
    {
     "data": {
      "text/plain": [
       "CarbonOrderUI(pair=ETH/USDC, B=27.386127875258307, S=4.236648726425486, yint=10000, y=10000, id=None, linked=None)"
      ]
     },
     "execution_count": 48,
     "metadata": {},
     "output_type": "execute_result"
    }
   ],
   "source": [
    "orderr = CarbonOrderUI.from_prices(\"ETH/USDC\", \"USDC\", 1000, 750, 10000, 10000)\n",
    "assert orderr.pa == 1000\n",
    "assert round(orderr.pb,6) == 750\n",
    "orderr"
   ]
  },
  {
   "cell_type": "code",
   "execution_count": 49,
   "id": "c004a9f7",
   "metadata": {},
   "outputs": [],
   "source": [
    "assert order.p_marg_f(0) == order.p_marg\n",
    "assert round(order.p_marg_f(5), 6) == 2424.492346\n",
    "assert order.p_marg_f(10) == 3000"
   ]
  },
  {
   "cell_type": "code",
   "execution_count": 50,
   "id": "682c5ad3",
   "metadata": {},
   "outputs": [],
   "source": [
    "assert orderr.p_marg_f(0) == orderr.p_marg\n",
    "assert round(orderr.p_marg_f(10000),8) == 750"
   ]
  },
  {
   "cell_type": "code",
   "execution_count": 51,
   "id": "c7359a5c",
   "metadata": {},
   "outputs": [],
   "source": [
    "assert order.p_marg_f(-1, raiseonerror=False) is None\n",
    "assert order.p_marg_f(10.0001, raiseonerror=False) is None\n",
    "assert order.p_marg_f(-1) is None\n",
    "assert order.p_marg_f(10.0001) is None"
   ]
  },
  {
   "cell_type": "code",
   "execution_count": 52,
   "id": "430faa98",
   "metadata": {},
   "outputs": [],
   "source": [
    "assert orderr.p_marg_f(10001, raiseonerror=False) is None\n",
    "assert orderr.p_marg_f(10001) is None"
   ]
  },
  {
   "cell_type": "code",
   "execution_count": 53,
   "id": "b07c7080",
   "metadata": {},
   "outputs": [
    {
     "name": "stdout",
     "output_type": "stream",
     "text": [
      "('Trade size dy must be a non-negative number', -1)\n"
     ]
    }
   ],
   "source": [
    "try:\n",
    "    order.p_marg_f(-1, raiseonerror=True)\n",
    "    raise RuntimeError(\"Should have raised exception\")\n",
    "except ValueError as e:\n",
    "    print(e)\n",
    "    assert str(e) == \"('Trade size dy must be a non-negative number', -1)\""
   ]
  },
  {
   "cell_type": "code",
   "execution_count": 54,
   "id": "c1c2595d",
   "metadata": {},
   "outputs": [
    {
     "name": "stdout",
     "output_type": "stream",
     "text": [
      "('Trade size dy too big, results in y<0', 10.001, -0.0009999999999994458, 10)\n"
     ]
    }
   ],
   "source": [
    "try:\n",
    "    order.p_marg_f(10.001, raiseonerror=True)\n",
    "    raise RuntimeError(\"Should have raised exception\")\n",
    "except ValueError as e:\n",
    "    print(e)"
   ]
  },
  {
   "cell_type": "code",
   "execution_count": 55,
   "id": "0c91b085",
   "metadata": {},
   "outputs": [
    {
     "name": "stdout",
     "output_type": "stream",
     "text": [
      "('Trade size dy too big, results in y<0', 10001, -9991, 10)\n"
     ]
    }
   ],
   "source": [
    "try:\n",
    "    order.p_marg_f(10001, raiseonerror=True)\n",
    "    raise RuntimeError(\"Should have raised exception\")\n",
    "except ValueError as e:\n",
    "    print(e)"
   ]
  },
  {
   "cell_type": "markdown",
   "id": "720f9e78",
   "metadata": {},
   "source": [
    "## CarbonOrderUI tests yfromp"
   ]
  },
  {
   "cell_type": "code",
   "execution_count": 56,
   "id": "33d29dfa",
   "metadata": {},
   "outputs": [],
   "source": [
    "order = CarbonOrderUI.from_prices(\"ETH/USDC\", \"ETH\", 2000, 3000, 10, 10)\n",
    "order1 = CarbonOrderUI.from_prices(\"ETH/USDC\", \"ETH\", 2000, 3000, 10, 5)\n",
    "orderr = CarbonOrderUI.from_prices(\"ETH/USDC\", \"USDC\", 1000, 750, 10000, 10000)"
   ]
  },
  {
   "cell_type": "code",
   "execution_count": 57,
   "id": "fe294874",
   "metadata": {},
   "outputs": [],
   "source": [
    "assert order.yfromp_f(2000) == 10\n",
    "assert order.yfromp_f(3000) == 0\n",
    "assert order.dyfromp_f(2000) == 0\n",
    "assert order.dyfromp_f(3000) == 10"
   ]
  },
  {
   "cell_type": "code",
   "execution_count": 58,
   "id": "72d5b2c0",
   "metadata": {},
   "outputs": [
    {
     "name": "stdout",
     "output_type": "stream",
     "text": [
      "('Price out of bounds (beyond marginal), hence target y > y', 10.0, 5)\n"
     ]
    }
   ],
   "source": [
    "try:\n",
    "    order1.yfromp_f(2000, raiseonerror=True)\n",
    "    raise RuntimeError(\"Should have raised exception\")\n",
    "except ValueError as e:\n",
    "    print(e)"
   ]
  },
  {
   "cell_type": "code",
   "execution_count": 59,
   "id": "a1fd5246",
   "metadata": {},
   "outputs": [],
   "source": [
    "assert orderr.yfromp_f(1000) == 10000\n",
    "assert orderr.yfromp_f(750.00000001) < 1e-6\n",
    "assert orderr.dyfromp_f(1000) == 0\n",
    "assert round(orderr.dyfromp_f(750.0000001),5)==10000"
   ]
  },
  {
   "cell_type": "code",
   "execution_count": 60,
   "id": "e890283a",
   "metadata": {},
   "outputs": [],
   "source": [
    "for dy in np.linspace(0,10):\n",
    "    yy = order.yfromp_f(order.p_marg_f(dy))\n",
    "    assert round(yy - (10-dy),10) == 0\n",
    "    #print (f\"dy={dy}, y={yy}, 10-dy={10-dy}\")"
   ]
  },
  {
   "cell_type": "code",
   "execution_count": 61,
   "id": "a13597d5",
   "metadata": {},
   "outputs": [],
   "source": [
    "for dy in np.linspace(0,10):\n",
    "    dy1 = order.dyfromp_f(order.p_marg_f(dy))\n",
    "    assert round(dy - dy1,10) == 0\n",
    "    #print (f\"dy={dy}, dy1={dy1}\")"
   ]
  },
  {
   "cell_type": "code",
   "execution_count": 62,
   "id": "b0f22fec",
   "metadata": {},
   "outputs": [],
   "source": [
    "for dy in np.linspace(0,10000):\n",
    "    dy1 = orderr.dyfromp_f(orderr.p_marg_f(dy))\n",
    "    assert round(dy - dy1,4) == 0\n",
    "    #print (f\"dy={dy}, dy1={dy1}\")"
   ]
  },
  {
   "cell_type": "markdown",
   "id": "988c762a",
   "metadata": {},
   "source": [
    "## CarbonOrderUI tests dyfromdx_f and dxfromdy_f"
   ]
  },
  {
   "cell_type": "code",
   "execution_count": 63,
   "id": "66b79c63",
   "metadata": {},
   "outputs": [
    {
     "name": "stdout",
     "output_type": "stream",
     "text": [
      "Help on function dyfromdx_f in module carbon.carbon_order_ui:\n",
      "\n",
      "dyfromdx_f(self, dx, checkbounds=True, raiseonerror=False)\n",
      "    calculates the amount dy SOLD by the AMM to RECEIVE an amount dx\n",
      "    \n",
      "    :dx:            the amount of x the AMM RECEIVES (a POSITIVE number*)\n",
      "    :checkbounds:   if True (default), check that dy is in the right range\n",
      "    :raiseonerror:  if True, raises upon error, else return None\n",
      "    :returns:       the amount dy of y the AMM SELLS (a POSITIVE number*)\n",
      "    \n",
      "    *when checkbounds is False then we can have dx<0, corresponding to the \n",
      "    AMM SELLing x. In this case it returns a negative number, corresponding\n",
      "    to the AMM BUYing y.\n",
      "\n"
     ]
    }
   ],
   "source": [
    "help(CarbonOrderUI.dyfromdx_f)"
   ]
  },
  {
   "cell_type": "code",
   "execution_count": 64,
   "id": "68bf02ae",
   "metadata": {},
   "outputs": [
    {
     "data": {
      "text/plain": [
       "(2449.489742783178, 866.0254037844386, 24494.89742683178, 11.547004383792517)"
      ]
     },
     "execution_count": 64,
     "metadata": {},
     "output_type": "execute_result"
    }
   ],
   "source": [
    "# in order, order1 dx is a USDC number and dy is an ETH number\n",
    "order = CarbonOrderUI.from_prices(\"ETH/USDC\", \"ETH\", 2000, 3000, 10, 10)\n",
    "order1 = CarbonOrderUI.from_prices(\"ETH/USDC\", \"ETH\", 2000, 3000, 10, 5)\n",
    "\n",
    "# in orderr dx is an ETH number and dy is a USDC number\n",
    "orderr = CarbonOrderUI.from_prices(\"ETH/USDC\", \"USDC\", 1000, 750, 10000, 10000)\n",
    "dxeps = dyeps = 0.000001\n",
    "p0 = sqrt(2000*3000)\n",
    "p0r = sqrt(1000*750)\n",
    "dxmax = 10*p0-dxeps\n",
    "dxmaxr = 10000/p0r-dxeps\n",
    "p0, p0r, dxmax, dxmaxr"
   ]
  },
  {
   "cell_type": "markdown",
   "id": "b8f9def3",
   "metadata": {},
   "source": [
    "### dyfromdx_f"
   ]
  },
  {
   "cell_type": "code",
   "execution_count": 65,
   "id": "83923a7d",
   "metadata": {},
   "outputs": [
    {
     "data": {
      "text/plain": [
       "(0.0004999999999954123, 2000.0000000183509)"
      ]
     },
     "execution_count": 65,
     "metadata": {},
     "output_type": "execute_result"
    }
   ],
   "source": [
    "dy = order.dyfromdx_f(dxeps)\n",
    "assert round(dxeps/dy,6) == 2000\n",
    "dy/dxeps, dxeps/dy"
   ]
  },
  {
   "cell_type": "code",
   "execution_count": 66,
   "id": "4b088ad8",
   "metadata": {},
   "outputs": [
    {
     "data": {
      "text/plain": [
       "(0.0004082482904669214, 2449.4897427648275, 2449.489742783178)"
      ]
     },
     "execution_count": 66,
     "metadata": {},
     "output_type": "execute_result"
    }
   ],
   "source": [
    "dy = order.dyfromdx_f(dxmax)\n",
    "assert round(dxmax/dy - p0,6) == 0\n",
    "dy/dxmax, dxmax/dy, p0"
   ]
  },
  {
   "cell_type": "code",
   "execution_count": 67,
   "id": "fb6aefa2",
   "metadata": {},
   "outputs": [
    {
     "data": {
      "text/plain": [
       "(0.00041245747856182756, 2424.4923464276562)"
      ]
     },
     "execution_count": 67,
     "metadata": {},
     "output_type": "execute_result"
    }
   ],
   "source": [
    "dy = order1.dyfromdx_f(dxeps)\n",
    "assert dxeps/dy > 2000\n",
    "assert dxeps/dy < 3000\n",
    "dy/dxeps, dxeps/dy"
   ]
  },
  {
   "cell_type": "code",
   "execution_count": 68,
   "id": "939ea9b9",
   "metadata": {},
   "outputs": [
    {
     "data": {
      "text/plain": [
       "(999.9999866025405, 0.0010000000133974596)"
      ]
     },
     "execution_count": 68,
     "metadata": {},
     "output_type": "execute_result"
    }
   ],
   "source": [
    "dy = orderr.dyfromdx_f(dxeps)\n",
    "assert round(dy/dxeps,4) == 1000\n",
    "dy/dxeps, dxeps/dy"
   ]
  },
  {
   "cell_type": "code",
   "execution_count": 69,
   "id": "59ad099d",
   "metadata": {},
   "outputs": [
    {
     "data": {
      "text/plain": [
       "(866.0254138325333, 0.001154700524981792, 866.0254037844386)"
      ]
     },
     "execution_count": 69,
     "metadata": {},
     "output_type": "execute_result"
    }
   ],
   "source": [
    "dy = orderr.dyfromdx_f(dxmaxr)\n",
    "assert round(dy/dxmaxr - p0r,4) == 0\n",
    "dy/dxmaxr, dxmaxr/dy, p0r"
   ]
  },
  {
   "cell_type": "markdown",
   "id": "33f54e4b",
   "metadata": {},
   "source": [
    "### dxfromdy_f"
   ]
  },
  {
   "cell_type": "code",
   "execution_count": 70,
   "id": "64365acc",
   "metadata": {},
   "outputs": [
    {
     "data": {
      "text/plain": [
       "(2000.0000367006846, 0.000499999990824829)"
      ]
     },
     "execution_count": 70,
     "metadata": {},
     "output_type": "execute_result"
    }
   ],
   "source": [
    "dx = order.dxfromdy_f(dyeps)\n",
    "assert round(dx/dyeps,4) == 2000\n",
    "dx/dyeps, dyeps/dx"
   ]
  },
  {
   "cell_type": "code",
   "execution_count": 71,
   "id": "f880aa01",
   "metadata": {},
   "outputs": [
    {
     "data": {
      "text/plain": [
       "(2449.4897427831784, 0.000408248290463863, 2449.489742783178)"
      ]
     },
     "execution_count": 71,
     "metadata": {},
     "output_type": "execute_result"
    }
   ],
   "source": [
    "dx = order.dxfromdy_f(10)\n",
    "assert round(dx/10 - p0,6) == 0\n",
    "dx/10, 10/dx, p0"
   ]
  },
  {
   "cell_type": "code",
   "execution_count": 72,
   "id": "bc8121da",
   "metadata": {},
   "outputs": [
    {
     "data": {
      "text/plain": [
       "(2424.4923953921457, 0.00041245747023193144)"
      ]
     },
     "execution_count": 72,
     "metadata": {},
     "output_type": "execute_result"
    }
   ],
   "source": [
    "dx = order1.dxfromdy_f(dyeps)\n",
    "assert dx/dyeps > 2000\n",
    "assert dx/dyeps < 3000\n",
    "dx/dyeps, dyeps/dx"
   ]
  },
  {
   "cell_type": "code",
   "execution_count": 73,
   "id": "e0070b6f",
   "metadata": {},
   "outputs": [
    {
     "data": {
      "text/plain": [
       "(0.0010000000000133977, 999.9999999866022)"
      ]
     },
     "execution_count": 73,
     "metadata": {},
     "output_type": "execute_result"
    }
   ],
   "source": [
    "dx = orderr.dxfromdy_f(dyeps)\n",
    "assert round(dyeps/dx,4) == 1000\n",
    "dx/dyeps, dyeps/dx"
   ]
  },
  {
   "cell_type": "code",
   "execution_count": 74,
   "id": "c11de91a",
   "metadata": {},
   "outputs": [
    {
     "data": {
      "text/plain": [
       "(0.0011547005383792516, 866.0254037844386, 866.0254037844386)"
      ]
     },
     "execution_count": 74,
     "metadata": {},
     "output_type": "execute_result"
    }
   ],
   "source": [
    "dx = orderr.dxfromdy_f(10000)\n",
    "assert round(10000/dx - p0r,4) == 0\n",
    "dx/10000, 10000/dx, p0r"
   ]
  },
  {
   "cell_type": "markdown",
   "id": "3f09ce53",
   "metadata": {},
   "source": [
    "### xfromy_f"
   ]
  },
  {
   "cell_type": "code",
   "execution_count": 75,
   "id": "ae4d96f0",
   "metadata": {},
   "outputs": [],
   "source": [
    "assert order.xfromy_f(order.yint) == 0\n",
    "assert round(order.xfromy_f(0)- order.p0*order.yint, 10) == 0\n",
    "assert order.x == 0\n",
    "assert order.xfromy_f(order.y) == order.x\n",
    "for i in range(10):\n",
    "    #print (i)\n",
    "    assert round(order.dxfromdy_f(i) - order.xfromy_f(order.y-i), 10) == 0"
   ]
  },
  {
   "cell_type": "code",
   "execution_count": 76,
   "id": "c23cdd05",
   "metadata": {},
   "outputs": [],
   "source": [
    "assert orderr.xfromy_f(orderr.yint) == 0\n",
    "assert round(orderr.xfromy_f(0)- orderr.yint/orderr.p0, 10) == 0\n",
    "assert orderr.xfromy_f(orderr.y) == orderr.x\n",
    "for i in range(10):\n",
    "    #print (i)\n",
    "    assert round(orderr.dxfromdy_f(i*1000) - orderr.xfromy_f(orderr.y-i*1000), 10) == 0"
   ]
  },
  {
   "cell_type": "code",
   "execution_count": 77,
   "id": "9811065a",
   "metadata": {},
   "outputs": [],
   "source": [
    "assert order1.xfromy_f(order1.yint) == 0\n",
    "assert round(order1.xfromy_f(0)- order.p0*order.yint, 10) == 0\n",
    "assert order1.xfromy_f(order1.y) == order1.x\n",
    "for i in range(5):\n",
    "    #print (i)\n",
    "    assert round(order1.xfromy_f(order1.y) + order1.dxfromdy_f(i) - order1.xfromy_f(order1.y-i), 10) == 0"
   ]
  },
  {
   "cell_type": "markdown",
   "id": "7de42861",
   "metadata": {},
   "source": [
    "### yfromx_f"
   ]
  },
  {
   "cell_type": "code",
   "execution_count": 78,
   "id": "f7aab9d3",
   "metadata": {},
   "outputs": [],
   "source": [
    "assert order.yfromx_f(0) == order.yint\n",
    "assert round(order.yfromx_f(order.xint),5) == 0\n",
    "for i in range(10):\n",
    "    #print(i)\n",
    "    assert round(order.yfromx_f(order.xfromy_f(i)) - i, 10)  == 0"
   ]
  },
  {
   "cell_type": "code",
   "execution_count": 79,
   "id": "cce6addc",
   "metadata": {},
   "outputs": [
    {
     "data": {
      "text/plain": [
       "1.4503892858778862e-15"
      ]
     },
     "execution_count": 79,
     "metadata": {},
     "output_type": "execute_result"
    }
   ],
   "source": [
    "order.yfromx_f(order.xint)"
   ]
  },
  {
   "cell_type": "code",
   "execution_count": null,
   "id": "733a2e06",
   "metadata": {},
   "outputs": [],
   "source": []
  },
  {
   "cell_type": "code",
   "execution_count": 80,
   "id": "e6f98225",
   "metadata": {},
   "outputs": [],
   "source": [
    "assert orderr.yfromx_f(0) == orderr.yint\n",
    "assert round(orderr.yfromx_f(orderr.xint-0.00000001),4)==0\n",
    "for i in range(1,10):\n",
    "    #print(i)\n",
    "    assert round(orderr.yfromx_f(orderr.xfromy_f(i*1000)) - i*1000, 10)  == 0"
   ]
  },
  {
   "cell_type": "markdown",
   "id": "af3b44de",
   "metadata": {},
   "source": [
    "### p_eff_f"
   ]
  },
  {
   "cell_type": "code",
   "execution_count": 81,
   "id": "8472e33c",
   "metadata": {},
   "outputs": [],
   "source": [
    "assert order.p_eff_f(0) == 2000\n",
    "assert round(order.p_eff_f(0.000000001)-2000,3) == 0\n",
    "assert round(order.p_eff_f(10) - order.p0, 6) == 0"
   ]
  },
  {
   "cell_type": "code",
   "execution_count": 82,
   "id": "ab7bfff4",
   "metadata": {},
   "outputs": [
    {
     "data": {
      "text/plain": [
       "(2424.4923464074514, 3000.0, 2696.9384566990684)"
      ]
     },
     "execution_count": 82,
     "metadata": {},
     "output_type": "execute_result"
    }
   ],
   "source": [
    "p1 = order1.p_eff_f(0)\n",
    "assert p1 == order1.p_marg_f(0)\n",
    "p2 = order1.p_marg_f(5)\n",
    "assert round(order1.p_eff_f(5) - sqrt(p1*p2),5) == 0\n",
    "p1,p2, sqrt(p1*p2)"
   ]
  },
  {
   "cell_type": "code",
   "execution_count": 83,
   "id": "4014ea67",
   "metadata": {},
   "outputs": [],
   "source": [
    "assert orderr.p_eff_f(0) == 1000\n",
    "assert round(orderr.p_eff_f(0.1)-1000,2) == 0\n",
    "assert round(orderr.p_eff_f(10000) - orderr.p0, 6) == 0"
   ]
  },
  {
   "cell_type": "markdown",
   "id": "df20c1b4",
   "metadata": {},
   "source": [
    "### from_Qxy "
   ]
  },
  {
   "cell_type": "code",
   "execution_count": 84,
   "id": "447dd908",
   "metadata": {},
   "outputs": [
    {
     "name": "stdout",
     "output_type": "stream",
     "text": [
      "Q=0.816496580927726, Gamma=0.09639799639015512\n"
     ]
    }
   ],
   "source": [
    "assert order.Q == sqrt(order.pb_raw/order.pa_raw)\n",
    "assert order.Gamma == 1 - sqrt(order.Q)\n",
    "print(f\"Q={order.Q}, Gamma={order.Gamma}\")"
   ]
  },
  {
   "cell_type": "code",
   "execution_count": 85,
   "id": "1ad7c6be",
   "metadata": {},
   "outputs": [
    {
     "name": "stdout",
     "output_type": "stream",
     "text": [
      "Q=0.816496580927726, Gamma=0.09639799639015512\n"
     ]
    }
   ],
   "source": [
    "assert order1.Q == sqrt(order1.pb_raw/order1.pa_raw)\n",
    "assert order1.Gamma == 1 - sqrt(order1.Q)\n",
    "print(f\"Q={order1.Q}, Gamma={order1.Gamma}\")"
   ]
  },
  {
   "cell_type": "code",
   "execution_count": 86,
   "id": "993be5ef",
   "metadata": {},
   "outputs": [
    {
     "name": "stdout",
     "output_type": "stream",
     "text": [
      "Q=0.8660254037844387, Gamma=0.06939514089790033\n"
     ]
    }
   ],
   "source": [
    "assert orderr.Q == sqrt(orderr.pb_raw/orderr.pa_raw)\n",
    "assert orderr.Gamma == 1 - sqrt(orderr.Q)\n",
    "print(f\"Q={orderr.Q}, Gamma={orderr.Gamma}\")"
   ]
  },
  {
   "cell_type": "code",
   "execution_count": 87,
   "id": "d7ff33df",
   "metadata": {},
   "outputs": [
    {
     "data": {
      "text/plain": [
       "CarbonOrderUI(pair=ETH/USDC, B=0.018257418583505537, S=0.004103261191492361, yint=10, y=10, id=None, linked=None)"
      ]
     },
     "execution_count": 87,
     "metadata": {},
     "output_type": "execute_result"
    }
   ],
   "source": [
    "order_ = CarbonOrderUI.from_Qxy(order.pair, order.tkn, order.Q, order.xint, order.yint, order.y)\n",
    "assert round(order_.B - order.B, 10) == 0\n",
    "assert round(order_.S - order.S, 10) == 0\n",
    "assert round(order_.xint - order.xint, 10) == 0\n",
    "assert round(order_.yint - order.yint, 10) == 0\n",
    "assert round(order_.y - order.y, 10) == 0\n",
    "order_"
   ]
  },
  {
   "cell_type": "code",
   "execution_count": 88,
   "id": "448f407c",
   "metadata": {},
   "outputs": [
    {
     "data": {
      "text/plain": [
       "CarbonOrderUI(pair=ETH/USDC, B=27.386127875258307, S=4.236648726425486, yint=10000, y=10000, id=None, linked=None)"
      ]
     },
     "execution_count": 88,
     "metadata": {},
     "output_type": "execute_result"
    }
   ],
   "source": [
    "orderr_ = CarbonOrderUI.from_Qxy(orderr.pair, orderr.tkn, orderr.Q, orderr.xint, orderr.yint, orderr.y)\n",
    "assert round(orderr_.B - orderr.B, 10) == 0\n",
    "assert round(orderr_.S - orderr.S, 10) == 0\n",
    "assert round(orderr_.xint - orderr.xint, 10) == 0\n",
    "assert round(orderr_.yint - orderr.yint, 10) == 0\n",
    "assert round(orderr_.y - orderr.y, 10) == 0\n",
    "orderr_"
   ]
  },
  {
   "cell_type": "markdown",
   "id": "b8dac792",
   "metadata": {},
   "source": [
    "### buyx"
   ]
  },
  {
   "cell_type": "code",
   "execution_count": 89,
   "id": "3b1246cd",
   "metadata": {},
   "outputs": [
    {
     "data": {
      "text/plain": [
       "{'y_old': 10.0,\n",
       " 'y': 9.50454587628476,\n",
       " 'dy': 0.4954541237152398,\n",
       " 'yint_old': None,\n",
       " 'y_int': 10.0,\n",
       " 'expanded': False,\n",
       " 'x': 999.9999999999992,\n",
       " 'dx': 1000.0,\n",
       " 'tkny': 'ETH',\n",
       " 'tknx': 'USDC',\n",
       " 'tx': 'Sell 0.4954541237152398 ETH buy USDC',\n",
       " 'dx/dy': 2018.3503419072274,\n",
       " 'dy/dx': 0.0004954541237152398,\n",
       " 'pmarg_old': 2000.0,\n",
       " 'pmarg': 2036.869051338511,\n",
       " 'p': 2018.3503419072274}"
      ]
     },
     "execution_count": 89,
     "metadata": {},
     "output_type": "execute_result"
    }
   ],
   "source": [
    "order_ = CarbonOrderUI.from_order(order)\n",
    "r = order_.buyx(1000, raiseonerror=True)\n",
    "r"
   ]
  },
  {
   "cell_type": "code",
   "execution_count": 90,
   "id": "e114beb0",
   "metadata": {},
   "outputs": [],
   "source": [
    "assert round(r[\"x\"],10) == 1000\n",
    "assert round(r[\"p\"] - sqrt(r[\"pmarg_old\"]*r[\"pmarg\"]),10) == 0\n",
    "assert round(r[\"dx/dy\"] * r[\"dy/dx\"],10) == 1\n",
    "assert r[\"tx\"] == 'Sell 0.4954541237152398 ETH buy USDC'\n",
    "assert r[\"expanded\"] == False\n",
    "assert r[\"y_old\"] - r[\"dy\"] == r[\"y\"]\n",
    "assert round(r[\"x\"] - r[\"dx\"],10)==0"
   ]
  },
  {
   "cell_type": "code",
   "execution_count": 91,
   "id": "f6452ebf",
   "metadata": {},
   "outputs": [
    {
     "data": {
      "text/plain": [
       "{'y_old': 9.50454587628476,\n",
       " 'y': 9.018019674715148,\n",
       " 'dy': 0.4865262015696128,\n",
       " 'yint_old': None,\n",
       " 'y_int': 10.0,\n",
       " 'expanded': False,\n",
       " 'x': 1999.999999999998,\n",
       " 'dx': 999.9999999999999,\n",
       " 'tkny': 'ETH',\n",
       " 'tknx': 'USDC',\n",
       " 'tx': 'Sell 0.4865262015696128 ETH buy USDC',\n",
       " 'dx/dy': 2055.387760769794,\n",
       " 'dy/dx': 0.00048652620156961287,\n",
       " 'pmarg_old': 2036.869051338511,\n",
       " 'pmarg': 2074.0748377251334,\n",
       " 'p': 2055.387760769794}"
      ]
     },
     "execution_count": 91,
     "metadata": {},
     "output_type": "execute_result"
    }
   ],
   "source": [
    "r  = order_.buyx(1000, raiseonerror=True)\n",
    "r"
   ]
  },
  {
   "cell_type": "code",
   "execution_count": 92,
   "id": "e475ced6",
   "metadata": {},
   "outputs": [],
   "source": [
    "assert round(r[\"x\"],10) == 2000\n",
    "assert round(r[\"p\"] - sqrt(r[\"pmarg_old\"]*r[\"pmarg\"]),10) == 0\n",
    "assert r[\"dx/dy\"] == 1 / r[\"dy/dx\"]\n",
    "assert r[\"tx\"] == 'Sell 0.4865262015696128 ETH buy USDC'\n",
    "assert r[\"expanded\"] == False\n",
    "assert r[\"y_old\"] - r[\"dy\"] == r[\"y\"]\n",
    "assert round(r[\"x\"] - r[\"dx\"],10)!=0"
   ]
  },
  {
   "cell_type": "code",
   "execution_count": 93,
   "id": "3bef592c",
   "metadata": {},
   "outputs": [
    {
     "data": {
      "text/plain": [
       "{'y_old': 10000.0,\n",
       " 'y': 9013.220340641627,\n",
       " 'dy': 986.7796593583731,\n",
       " 'yint_old': None,\n",
       " 'y_int': 10000.0,\n",
       " 'expanded': False,\n",
       " 'x': 1.0000000000000002,\n",
       " 'dx': 1.0,\n",
       " 'tkny': 'USDC',\n",
       " 'tknx': 'ETH',\n",
       " 'tx': 'Sell 986.7796593583731 USDC buy ETH',\n",
       " 'dx/dy': 0.0010133974596215564,\n",
       " 'dy/dx': 986.7796593583731,\n",
       " 'pmarg_old': 1000.0,\n",
       " 'pmarg': 973.7340961234271,\n",
       " 'p': 986.7796593583731}"
      ]
     },
     "execution_count": 93,
     "metadata": {},
     "output_type": "execute_result"
    }
   ],
   "source": [
    "order_ = CarbonOrderUI.from_order(orderr)\n",
    "r  = order_.buyx(1, raiseonerror=True)\n",
    "r"
   ]
  },
  {
   "cell_type": "code",
   "execution_count": 94,
   "id": "50d21d7f",
   "metadata": {},
   "outputs": [],
   "source": [
    "assert round(r[\"x\"],10) == 1\n",
    "assert round(r[\"p\"] - sqrt(r[\"pmarg_old\"]*r[\"pmarg\"]),10) == 0\n",
    "assert r[\"dx/dy\"] == 1 / r[\"dy/dx\"]\n",
    "assert r[\"tx\"] == 'Sell 986.7796593583731 USDC buy ETH'\n",
    "assert r[\"expanded\"] == False\n",
    "assert r[\"y_old\"] - r[\"dy\"] == r[\"y\"]\n",
    "assert round(r[\"x\"] - r[\"dx\"],10)==0"
   ]
  },
  {
   "cell_type": "code",
   "execution_count": 95,
   "id": "31fbfae1",
   "metadata": {},
   "outputs": [
    {
     "data": {
      "text/plain": [
       "{'y_old': 9013.220340641627,\n",
       " 'y': 9503.327077710745,\n",
       " 'dy': -490.10673706911854,\n",
       " 'yint_old': None,\n",
       " 'y_int': 10000.0,\n",
       " 'expanded': False,\n",
       " 'x': 0.5000000000000008,\n",
       " 'dx': -0.49999999999999994,\n",
       " 'tkny': 'USDC',\n",
       " 'tknx': 'ETH',\n",
       " 'tx': 'Buy 490.10673706911854 USDC sell ETH',\n",
       " 'dx/dy': 0.0010201859353944898,\n",
       " 'dy/dx': 980.2134741382372,\n",
       " 'pmarg_old': 973.7340961234271,\n",
       " 'pmarg': 986.735966941392,\n",
       " 'p': 980.2134741382372}"
      ]
     },
     "execution_count": 95,
     "metadata": {},
     "output_type": "execute_result"
    }
   ],
   "source": [
    "r  = order_.buyx(-0.5, raiseonerror=True)\n",
    "r"
   ]
  },
  {
   "cell_type": "code",
   "execution_count": 96,
   "id": "481b760a",
   "metadata": {},
   "outputs": [],
   "source": [
    "assert round(r[\"x\"],10) == 0.5\n",
    "assert round(r[\"p\"] - sqrt(r[\"pmarg_old\"]*r[\"pmarg\"]),10) == 0\n",
    "assert r[\"dx/dy\"] == 1 / r[\"dy/dx\"]\n",
    "assert r[\"tx\"] == 'Buy 490.10673706911854 USDC sell ETH'\n",
    "assert r[\"expanded\"] == False\n",
    "assert r[\"y_old\"] - r[\"dy\"] == r[\"y\"]\n",
    "assert round(r[\"x\"] - r[\"dx\"],10)!=0"
   ]
  },
  {
   "cell_type": "markdown",
   "id": "d2d3d1fa",
   "metadata": {},
   "source": [
    "### selly"
   ]
  },
  {
   "cell_type": "code",
   "execution_count": 97,
   "id": "b1995d62",
   "metadata": {},
   "outputs": [
    {
     "data": {
      "text/plain": [
       "{'y_old': 10.0,\n",
       " 'y': 9.0,\n",
       " 'dy': 1,\n",
       " 'yint_old': None,\n",
       " 'y_int': 10.0,\n",
       " 'expanded': False,\n",
       " 'x': 2037.3867433374953,\n",
       " 'dx': 2037.3867433374958,\n",
       " 'tkny': 'ETH',\n",
       " 'tknx': 'USDC',\n",
       " 'tx': 'Sell 1 ETH buy USDC',\n",
       " 'dx/dy': 2037.3867433374958,\n",
       " 'dy/dx': 0.0004908248290463863,\n",
       " 'pmarg_old': 2000.0,\n",
       " 'pmarg': 2075.472370963683,\n",
       " 'p': 2037.3867433374958}"
      ]
     },
     "execution_count": 97,
     "metadata": {},
     "output_type": "execute_result"
    }
   ],
   "source": [
    "order_ = CarbonOrderUI.from_order(order)\n",
    "r  = order_.selly(1, raiseonerror=True)\n",
    "r"
   ]
  },
  {
   "cell_type": "code",
   "execution_count": 98,
   "id": "07823a52",
   "metadata": {},
   "outputs": [],
   "source": [
    "assert r[\"y\"] == 9\n",
    "assert round(r[\"p\"] - sqrt(r[\"pmarg_old\"]*r[\"pmarg\"]),10) == 0\n",
    "assert r[\"dx/dy\"] == 1 / r[\"dy/dx\"]\n",
    "assert r[\"tx\"] == 'Sell 1 ETH buy USDC'\n",
    "assert r[\"expanded\"] == False\n",
    "assert r[\"y_old\"] - r[\"dy\"] == r[\"y\"]\n",
    "assert round(r[\"x\"] - r[\"dx\"],10)==0"
   ]
  },
  {
   "cell_type": "code",
   "execution_count": 99,
   "id": "4c966647",
   "metadata": {},
   "outputs": [
    {
     "data": {
      "text/plain": [
       "{'y_old': 9.0,\n",
       " 'y': 8.0,\n",
       " 'dy': 1,\n",
       " 'yint_old': None,\n",
       " 'y_int': 10.0,\n",
       " 'expanded': False,\n",
       " 'x': 4152.395764007314,\n",
       " 'dx': 2115.0090206698183,\n",
       " 'tkny': 'ETH',\n",
       " 'tknx': 'USDC',\n",
       " 'tx': 'Sell 1 ETH buy USDC',\n",
       " 'dx/dy': 2115.0090206698183,\n",
       " 'dy/dx': 0.00047281122218727103,\n",
       " 'pmarg_old': 2075.472370963683,\n",
       " 'pmarg': 2155.2988226182356,\n",
       " 'p': 2115.0090206698183}"
      ]
     },
     "execution_count": 99,
     "metadata": {},
     "output_type": "execute_result"
    }
   ],
   "source": [
    "r  = order_.selly(1, raiseonerror=True)\n",
    "r"
   ]
  },
  {
   "cell_type": "code",
   "execution_count": 100,
   "id": "c3016e95",
   "metadata": {},
   "outputs": [],
   "source": [
    "assert r[\"y\"] == 8\n",
    "assert round(r[\"p\"] - sqrt(r[\"pmarg_old\"]*r[\"pmarg\"]),10) == 0\n",
    "assert r[\"dx/dy\"] == 1 / r[\"dy/dx\"]\n",
    "assert r[\"tx\"] == 'Sell 1 ETH buy USDC'\n",
    "assert r[\"expanded\"] == False\n",
    "assert r[\"y_old\"] - r[\"dy\"] == r[\"y\"]\n",
    "assert round(r[\"x\"] - r[\"dx\"],10)!=0"
   ]
  },
  {
   "cell_type": "code",
   "execution_count": 101,
   "id": "61058c9a",
   "metadata": {},
   "outputs": [],
   "source": [
    "order_ = CarbonOrderUI.from_order(order)\n",
    "r1 = order.selly(1, execute = False)\n",
    "r2 = order.selly(1, execute = False)\n",
    "assert r1 == r2"
   ]
  },
  {
   "cell_type": "code",
   "execution_count": 102,
   "id": "5b846e61",
   "metadata": {},
   "outputs": [
    {
     "data": {
      "text/plain": [
       "{'y_old': 10000.0,\n",
       " 'y': 9000.0,\n",
       " 'dy': 1000,\n",
       " 'yint_old': None,\n",
       " 'y_int': 10000.0,\n",
       " 'expanded': False,\n",
       " 'x': 1.0135793889365186,\n",
       " 'dx': 1.0135793889365188,\n",
       " 'tkny': 'USDC',\n",
       " 'tknx': 'ETH',\n",
       " 'tx': 'Sell 1000 USDC buy ETH',\n",
       " 'dx/dy': 0.0010135793889365188,\n",
       " 'dy/dx': 986.6025403784437,\n",
       " 'pmarg_old': 1000.0,\n",
       " 'pmarg': 973.384572681199,\n",
       " 'p': 986.6025403784437}"
      ]
     },
     "execution_count": 102,
     "metadata": {},
     "output_type": "execute_result"
    }
   ],
   "source": [
    "order_ = CarbonOrderUI.from_order(orderr)\n",
    "r  = order_.selly(1000, raiseonerror=True)\n",
    "r"
   ]
  },
  {
   "cell_type": "code",
   "execution_count": 103,
   "id": "46a8ab71",
   "metadata": {},
   "outputs": [],
   "source": [
    "assert r[\"y\"] == 9000\n",
    "assert round(r[\"p\"] - sqrt(r[\"pmarg_old\"]*r[\"pmarg\"]),10) == 0\n",
    "assert r[\"dx/dy\"] == 1 / r[\"dy/dx\"]\n",
    "assert r[\"tx\"] == 'Sell 1000 USDC buy ETH'\n",
    "assert r[\"expanded\"] == False\n",
    "assert r[\"y_old\"] - r[\"dy\"] == r[\"y\"]\n",
    "assert round(r[\"x\"] - r[\"dx\"],10)==0"
   ]
  },
  {
   "cell_type": "code",
   "execution_count": 104,
   "id": "b68602de",
   "metadata": {},
   "outputs": [
    {
     "data": {
      "text/plain": [
       "{'y_old': 9000.0,\n",
       " 'y': 9500.0,\n",
       " 'dy': -500,\n",
       " 'yint_old': None,\n",
       " 'y_int': 10000.0,\n",
       " 'expanded': False,\n",
       " 'x': 0.5033719527054978,\n",
       " 'dx': -0.5102074362310207,\n",
       " 'tkny': 'USDC',\n",
       " 'tknx': 'ETH',\n",
       " 'tx': 'Buy 500 USDC sell ETH',\n",
       " 'dx/dy': 0.0010204148724620415,\n",
       " 'dy/dx': 979.9935565298213,\n",
       " 'pmarg_old': 973.384572681199,\n",
       " 'pmarg': 986.6474133595217,\n",
       " 'p': 979.9935565298213}"
      ]
     },
     "execution_count": 104,
     "metadata": {},
     "output_type": "execute_result"
    }
   ],
   "source": [
    "r  = order_.selly(-500, raiseonerror=True)\n",
    "r"
   ]
  },
  {
   "cell_type": "code",
   "execution_count": 105,
   "id": "21a5856e",
   "metadata": {},
   "outputs": [],
   "source": [
    "assert r[\"y\"] == 9500\n",
    "assert round(r[\"p\"] - sqrt(r[\"pmarg_old\"]*r[\"pmarg\"]),10) == 0\n",
    "assert r[\"dx/dy\"] == 1 / r[\"dy/dx\"]\n",
    "assert r[\"tx\"] == 'Buy 500 USDC sell ETH'\n",
    "assert r[\"expanded\"] == False\n",
    "assert r[\"y_old\"] - r[\"dy\"] == r[\"y\"]\n",
    "assert round(r[\"x\"] - r[\"dx\"],10)!=0"
   ]
  },
  {
   "cell_type": "markdown",
   "id": "62e7e421",
   "metadata": {},
   "source": [
    "## CarbonOrderUI charts [NOTEST]"
   ]
  },
  {
   "cell_type": "code",
   "execution_count": 106,
   "id": "216bd0a4",
   "metadata": {},
   "outputs": [],
   "source": [
    "order1 = CarbonOrderUI.from_prices(\"ETH/USDC\", \"ETH\", 2000, 3000, 10, 10)\n",
    "order2 = CarbonOrderUI.from_prices(\"ETH/USDC\", \"ETH\", 2000, 3000, 10, 5)\n",
    "orderr = CarbonOrderUI.from_prices(\"ETH/USDC\", \"USDC\", 1000, 750, 25000, 25000)"
   ]
  },
  {
   "cell_type": "code",
   "execution_count": 107,
   "id": "6b888339",
   "metadata": {},
   "outputs": [],
   "source": [
    "ETHr = np.linspace(0,order1.yint)\n",
    "USDCr = np.linspace(0,orderr.yint)"
   ]
  },
  {
   "cell_type": "code",
   "execution_count": 108,
   "id": "c5243db2",
   "metadata": {},
   "outputs": [
    {
     "data": {
      "text/plain": [
       "<matplotlib.legend.Legend at 0x7fc04aabaee0>"
      ]
     },
     "execution_count": 108,
     "metadata": {},
     "output_type": "execute_result"
    },
    {
     "data": {
      "image/png": "[encoded data removed]",
      "text/plain": [
       "<Figure size 432x288 with 1 Axes>"
      ]
     },
     "metadata": {
      "needs_background": "light"
     },
     "output_type": "display_data"
    }
   ],
   "source": [
    "plt.plot([order1.xfromy_f(y) for y in ETHr], ETHr, label=\"order1 (y=10)\")\n",
    "plt.plot([order2.xfromy_f(y) for y in ETHr], ETHr, label=\"order2 (y=5)\")\n",
    "plt.ylabel(\"y [ETH]\")\n",
    "plt.xlabel(\"x [USDC]\")\n",
    "plt.legend()"
   ]
  },
  {
   "cell_type": "code",
   "execution_count": 109,
   "id": "036d1aff",
   "metadata": {},
   "outputs": [
    {
     "data": {
      "text/plain": [
       "<matplotlib.legend.Legend at 0x7fc028126ca0>"
      ]
     },
     "execution_count": 109,
     "metadata": {},
     "output_type": "execute_result"
    },
    {
     "data": {
      "image/png": "[encoded data removed]",
      "text/plain": [
       "<Figure size 432x288 with 1 Axes>"
      ]
     },
     "metadata": {
      "needs_background": "light"
     },
     "output_type": "display_data"
    }
   ],
   "source": [
    "plt.plot([order1.dxfromdy_f(y, raiseonerror=False) for y in ETHr], -ETHr, label=\"order1 (y=10)\")\n",
    "plt.plot([order2.dxfromdy_f(y, raiseonerror=False) for y in ETHr], -ETHr, label=\"order2 (y=5)\")\n",
    "plt.ylabel(\"dy [ETH]\")\n",
    "plt.xlabel(\"dx [USDC]\")\n",
    "plt.legend()"
   ]
  },
  {
   "cell_type": "code",
   "execution_count": 110,
   "id": "e4697712",
   "metadata": {},
   "outputs": [
    {
     "data": {
      "text/plain": [
       "<matplotlib.legend.Legend at 0x7fc0285c2b80>"
      ]
     },
     "execution_count": 110,
     "metadata": {},
     "output_type": "execute_result"
    },
    {
     "data": {
      "image/png": "[encoded data removed]",
      "text/plain": [
       "<Figure size 432x288 with 1 Axes>"
      ]
     },
     "metadata": {
      "needs_background": "light"
     },
     "output_type": "display_data"
    }
   ],
   "source": [
    "plt.plot([order1.dxfromdy_f(y, raiseonerror=False) for y in ETHr], -ETHr, label=\"order1 (y=10)\")\n",
    "plt.plot([order2.dxfromdy_f(y, raiseonerror=False) for y in ETHr], -ETHr, label=\"order2 (y=5)\")\n",
    "plt.ylabel(\"dy [ETH]\")\n",
    "plt.xlabel(\"dx [USDC]\")\n",
    "plt.legend()"
   ]
  },
  {
   "cell_type": "code",
   "execution_count": 111,
   "id": "f72d65ca",
   "metadata": {},
   "outputs": [
    {
     "data": {
      "text/plain": [
       "<matplotlib.legend.Legend at 0x7fc04abb29a0>"
      ]
     },
     "execution_count": 111,
     "metadata": {},
     "output_type": "execute_result"
    },
    {
     "data": {
      "image/png": "[encoded data removed]",
      "text/plain": [
       "<Figure size 432x288 with 1 Axes>"
      ]
     },
     "metadata": {
      "needs_background": "light"
     },
     "output_type": "display_data"
    }
   ],
   "source": [
    "plt.plot(\n",
    "    [order1.dxfromdy_f(dy, raiseonerror=False) for dy in ETHr], \n",
    "    [order1.p_marg_f(dy, raiseonerror=False) for dy in ETHr], \n",
    "    label=\"marg (1; y=10 ETH)\")\n",
    "plt.plot(\n",
    "    [order2.dxfromdy_f(dy, raiseonerror=False) for dy in ETHr], \n",
    "    [order2.p_marg_f(dy, raiseonerror=False) for dy in ETHr], \n",
    "    label=\"marg (2; y=5 ETH)\")\n",
    "plt.plot(\n",
    "    USDCr, \n",
    "    [orderr.p_marg_f(dy, raiseonerror=False) for dy in USDCr], \n",
    "    label=\"marg(r; y=10k USDC)\")\n",
    "plt.plot(\n",
    "    [order1.dxfromdy_f(dy, raiseonerror=False) for dy in ETHr], \n",
    "    [order1.p_eff_f(dy, raiseonerror=False) for dy in ETHr], \n",
    "    label=\"eff (1; y=10 ETH)\")\n",
    "plt.plot(\n",
    "    [order2.dxfromdy_f(dy, raiseonerror=False) for dy in ETHr], \n",
    "    [order2.p_eff_f(dy, raiseonerror=False) for dy in ETHr], \n",
    "    label=\"eff (2; y=5 ETH)\")\n",
    "plt.plot(\n",
    "    USDCr, \n",
    "    [orderr.p_eff_f(dy, raiseonerror=False) for dy in USDCr], \n",
    "    label=\"eff (r; y=10k USDC)\")\n",
    "plt.ylabel(\"Price [USDC per ETH]\")\n",
    "plt.xlabel(\"dx [USDC]\")\n",
    "plt.legend(loc=\"center right\")"
   ]
  },
  {
   "cell_type": "markdown",
   "id": "eb5f2373",
   "metadata": {},
   "source": [
    "## CarbonOrderUI tests goalseek"
   ]
  },
  {
   "cell_type": "code",
   "execution_count": 112,
   "id": "cf82ac6c",
   "metadata": {},
   "outputs": [
    {
     "name": "stdout",
     "output_type": "stream",
     "text": [
      "9.0\n"
     ]
    }
   ],
   "source": [
    "f = lambda x: sqrt(x)-3\n",
    "print (round(CarbonOrderUI.goalseek(f,1,10), 6))\n",
    "assert round(CarbonOrderUI.goalseek(f,1,10), 6) == 9"
   ]
  },
  {
   "cell_type": "code",
   "execution_count": 113,
   "id": "44e52e6a",
   "metadata": {},
   "outputs": [
    {
     "name": "stdout",
     "output_type": "stream",
     "text": [
      "('Bracketing value a must be smaller than b', 10, 1)\n"
     ]
    }
   ],
   "source": [
    "try:\n",
    "    CarbonOrderUI.goalseek(f,10,1)\n",
    "    raise RuntimeError(\"Should raise exception\")\n",
    "except ValueError as e:\n",
    "    print(str(e))"
   ]
  },
  {
   "cell_type": "code",
   "execution_count": 114,
   "id": "f489d106",
   "metadata": {},
   "outputs": [
    {
     "name": "stdout",
     "output_type": "stream",
     "text": [
      "('Sign of f(a) must be opposite of sign of f(b)', 0.16227766016837952, 1.4721359549995796, 10, 20)\n"
     ]
    }
   ],
   "source": [
    "try:\n",
    "    CarbonOrderUI.goalseek(f,10,20)\n",
    "    raise RuntimeError(\"Should raise exception\")\n",
    "except ValueError as e:\n",
    "    print(str(e))"
   ]
  },
  {
   "cell_type": "markdown",
   "id": "11e61267",
   "metadata": {},
   "source": [
    "## Example usage [NOTEST]\n",
    "\n",
    "This section shows how to use yfromp-related functions for routing. This section does not create test code."
   ]
  },
  {
   "cell_type": "markdown",
   "id": "9cd3abd3",
   "metadata": {},
   "source": [
    "First we create a staggered list of 10 orders. Note that all those orders are only half-filled. The corresponding marginal prices are shown in the printout."
   ]
  },
  {
   "cell_type": "code",
   "execution_count": 115,
   "id": "c2bfc1e3",
   "metadata": {},
   "outputs": [
    {
     "name": "stdout",
     "output_type": "stream",
     "text": [
      "y=5 pa=2500.0 pb=2000.0 pmarg=2229.1\n",
      "y=5 pa=2550.0 pb=2050.0 pmarg=2279.6\n",
      "y=5 pa=2600.0 pb=2100.0 pmarg=2330.0\n",
      "y=5 pa=2650.0 pb=2150.0 pmarg=2380.4\n",
      "y=5 pa=2700.0 pb=2200.0 pmarg=2430.8\n",
      "y=5 pa=2750.0 pb=2250.0 pmarg=2481.2\n",
      "y=5 pa=2800.0 pb=2300.0 pmarg=2531.6\n",
      "y=5 pa=2850.0 pb=2350.0 pmarg=2581.9\n",
      "y=5 pa=2900.0 pb=2400.0 pmarg=2632.3\n",
      "y=5 pa=2950.0 pb=2450.0 pmarg=2682.6\n"
     ]
    },
    {
     "data": {
      "text/plain": [
       "(2229.1236000336485, 2682.6140015319056)"
      ]
     },
     "execution_count": 115,
     "metadata": {},
     "output_type": "execute_result"
    }
   ],
   "source": [
    "orders = [\n",
    "    CarbonOrderUI.from_prices(\"ETH/USDC\", \"ETH\", 2000+50*i, 2500+50*i, 10, 5)\n",
    "    for i in range(10)\n",
    "]\n",
    "for o in orders:\n",
    "    print(f\"y={o.y} pa={round(o.px,0)} pb={round(o.py,0)} pmarg={round(o.p_marg,1)}\")\n",
    "margp = [o.p_marg for o in orders]\n",
    "min(margp), max(margp)"
   ]
  },
  {
   "cell_type": "markdown",
   "id": "e13df660",
   "metadata": {},
   "source": [
    "We are now looking at the dy released if we move to 2100. Spoiler: 0, because all positions are already beyond 2100."
   ]
  },
  {
   "cell_type": "code",
   "execution_count": 116,
   "id": "785a27d9",
   "metadata": {},
   "outputs": [
    {
     "data": {
      "text/plain": [
       "[0, 0, 0, 0, 0, 0, 0, 0, 0, 0]"
      ]
     },
     "execution_count": 116,
     "metadata": {},
     "output_type": "execute_result"
    }
   ],
   "source": [
    "[o.dyfromp_f(2100) for o in orders]"
   ]
  },
  {
   "cell_type": "markdown",
   "id": "799f4448",
   "metadata": {},
   "source": [
    "If we go all the way to 3000 we see that all positions release their 5 ETH."
   ]
  },
  {
   "cell_type": "code",
   "execution_count": 117,
   "id": "789712cf",
   "metadata": {},
   "outputs": [
    {
     "data": {
      "text/plain": [
       "[5, 5, 5, 5, 5, 5, 5, 5, 5, 5]"
      ]
     },
     "execution_count": 117,
     "metadata": {},
     "output_type": "execute_result"
    }
   ],
   "source": [
    "[o.dyfromp_f(3000) for o in orders]"
   ]
  },
  {
   "cell_type": "markdown",
   "id": "d281b70d",
   "metadata": {},
   "source": [
    "For 2300 we see that the first two positions can still get us to 2300. They release 1.39 and 0.40 ETH respectively on the way to 2300"
   ]
  },
  {
   "cell_type": "code",
   "execution_count": 118,
   "id": "96b73244",
   "metadata": {},
   "outputs": [
    {
     "data": {
      "text/plain": [
       "[1.393236326565154, 0.40811287710152655, 0, 0, 0, 0, 0, 0, 0, 0]"
      ]
     },
     "execution_count": 118,
     "metadata": {},
     "output_type": "execute_result"
    }
   ],
   "source": [
    "[o.dyfromp_f(2300) for o in orders]"
   ]
  },
  {
   "cell_type": "markdown",
   "id": "7138b6c6",
   "metadata": {},
   "source": [
    "For 2500, the first 6 positions release ETH"
   ]
  },
  {
   "cell_type": "code",
   "execution_count": 119,
   "id": "c33112d3",
   "metadata": {},
   "outputs": [
    {
     "data": {
      "text/plain": [
       "[5.0,\n",
       " 4.137019008909356,\n",
       " 3.2427346404715647,\n",
       " 2.3174854167487067,\n",
       " 1.36159890190436,\n",
       " 0.37539229489591897,\n",
       " 0,\n",
       " 0,\n",
       " 0,\n",
       " 0]"
      ]
     },
     "execution_count": 119,
     "metadata": {},
     "output_type": "execute_result"
    }
   ],
   "source": [
    "[o.dyfromp_f(2500) for o in orders]"
   ]
  },
  {
   "cell_type": "markdown",
   "id": "7ee29d2a",
   "metadata": {},
   "source": [
    "We define `dy_f` as the aggregate ETH released from all positions here"
   ]
  },
  {
   "cell_type": "code",
   "execution_count": 120,
   "id": "347f53f7",
   "metadata": {},
   "outputs": [],
   "source": [
    "dy_f = lambda p: sum(o.dyfromp_f(p) for o in orders)"
   ]
  },
  {
   "cell_type": "markdown",
   "id": "45b3cb94",
   "metadata": {},
   "source": [
    "The corresponding USDC inflow can be computed thus"
   ]
  },
  {
   "cell_type": "code",
   "execution_count": 121,
   "id": "81d2ffb9",
   "metadata": {},
   "outputs": [],
   "source": [
    "dx_f = lambda p: sum(o.dxfromdy_f(o.dyfromp_f(p)) for o in orders)"
   ]
  },
  {
   "cell_type": "markdown",
   "id": "72f374da",
   "metadata": {},
   "source": [
    "We can then plot the ETH release as a function of price"
   ]
  },
  {
   "cell_type": "code",
   "execution_count": 122,
   "id": "d8b5f4cc",
   "metadata": {},
   "outputs": [],
   "source": [
    "pvals = np.linspace(2000, 3000)\n",
    "dyvals = [dy_f(p) for p in pvals]\n",
    "dxvals = [dx_f(p) for p in pvals]"
   ]
  },
  {
   "cell_type": "code",
   "execution_count": 123,
   "id": "bd221b62",
   "metadata": {},
   "outputs": [
    {
     "data": {
      "text/plain": [
       "Text(0, 0.5, 'Aggregate ETH release')"
      ]
     },
     "execution_count": 123,
     "metadata": {},
     "output_type": "execute_result"
    },
    {
     "data": {
      "image/png": "[encoded data removed]",
      "text/plain": [
       "<Figure size 432x288 with 1 Axes>"
      ]
     },
     "metadata": {
      "needs_background": "light"
     },
     "output_type": "display_data"
    }
   ],
   "source": [
    "plt.plot(pvals, dyvals)\n",
    "plt.xlabel(\"Marginal price (USDC per ETH)\")\n",
    "plt.ylabel(\"Aggregate ETH release\")"
   ]
  },
  {
   "cell_type": "code",
   "execution_count": 124,
   "id": "76cc87d0",
   "metadata": {},
   "outputs": [
    {
     "data": {
      "text/plain": [
       "Text(0, 0.5, 'Aggregate USDC inflow')"
      ]
     },
     "execution_count": 124,
     "metadata": {},
     "output_type": "execute_result"
    },
    {
     "data": {
      "image/png": "[encoded data removed]",
      "text/plain": [
       "<Figure size 432x288 with 1 Axes>"
      ]
     },
     "metadata": {
      "needs_background": "light"
     },
     "output_type": "display_data"
    }
   ],
   "source": [
    "plt.plot(pvals, dxvals)\n",
    "plt.xlabel(\"Marginal price (USDC per ETH)\")\n",
    "plt.ylabel(\"Aggregate USDC inflow\")"
   ]
  },
  {
   "cell_type": "code",
   "execution_count": 125,
   "id": "11f100e2",
   "metadata": {},
   "outputs": [
    {
     "data": {
      "text/plain": [
       "Text(0, 0.5, 'Aggregate ETH release')"
      ]
     },
     "execution_count": 125,
     "metadata": {},
     "output_type": "execute_result"
    },
    {
     "data": {
      "image/png": "[encoded data removed]",
      "text/plain": [
       "<Figure size 432x288 with 1 Axes>"
      ]
     },
     "metadata": {
      "needs_background": "light"
     },
     "output_type": "display_data"
    }
   ],
   "source": [
    "plt.plot(dxvals, dyvals)\n",
    "plt.xlabel(\"Aggregate USDC inflow\")\n",
    "plt.ylabel(\"Aggregate ETH release\")"
   ]
  },
  {
   "cell_type": "code",
   "execution_count": 126,
   "id": "b35348d2",
   "metadata": {},
   "outputs": [
    {
     "data": {
      "text/plain": [
       "Text(0, 0.5, 'Effective price (USDC per ETH)')"
      ]
     },
     "execution_count": 126,
     "metadata": {},
     "output_type": "execute_result"
    },
    {
     "data": {
      "image/png": "[encoded data removed]",
      "text/plain": [
       "<Figure size 432x288 with 1 Axes>"
      ]
     },
     "metadata": {
      "needs_background": "light"
     },
     "output_type": "display_data"
    }
   ],
   "source": [
    "plt.plot(pvals, [dx/dy if dy>0 else None for dx,dy in zip(dxvals, dyvals)])\n",
    "plt.xlabel(\"Marginal price (USDC per ETH)\")\n",
    "plt.ylabel(\"Effective price (USDC per ETH)\")"
   ]
  },
  {
   "cell_type": "markdown",
   "id": "1c19d57c",
   "metadata": {},
   "source": [
    "Note for **Asaf**: this almost solves your \"what is the price\" problem if you plot it the other way round. The only issue is that here this is the marginal price after a move, so you'd have to integrate over it. We can also get the dx values the way we got the dy values (via the swap equation) but I do not have this implemented yet."
   ]
  },
  {
   "cell_type": "code",
   "execution_count": 127,
   "id": "ee6490b3",
   "metadata": {},
   "outputs": [
    {
     "data": {
      "text/plain": [
       "Text(0.5, 0, 'Aggregate ETH release')"
      ]
     },
     "execution_count": 127,
     "metadata": {},
     "output_type": "execute_result"
    },
    {
     "data": {
      "image/png": "[encoded data removed]",
      "text/plain": [
       "<Figure size 432x288 with 1 Axes>"
      ]
     },
     "metadata": {
      "needs_background": "light"
     },
     "output_type": "display_data"
    }
   ],
   "source": [
    "plt.plot(dyvals, pvals)\n",
    "plt.ylabel(\"Marginal price (USDC per ETH)\")\n",
    "plt.xlabel(\"Aggregate ETH release\")"
   ]
  },
  {
   "cell_type": "markdown",
   "id": "9de5fed1",
   "metadata": {},
   "source": [
    "Now this does solve your price question"
   ]
  },
  {
   "cell_type": "code",
   "execution_count": 128,
   "id": "bcfd7f41",
   "metadata": {},
   "outputs": [
    {
     "data": {
      "text/plain": [
       "Text(0, 0.5, 'Effective price (USDC per ETH)')"
      ]
     },
     "execution_count": 128,
     "metadata": {},
     "output_type": "execute_result"
    },
    {
     "data": {
      "image/png": "[encoded data removed]",
      "text/plain": [
       "<Figure size 432x288 with 1 Axes>"
      ]
     },
     "metadata": {
      "needs_background": "light"
     },
     "output_type": "display_data"
    }
   ],
   "source": [
    "plt.plot(dyvals, [dx/dy if dy>0 else None for dx,dy in zip(dxvals, dyvals)])\n",
    "plt.xlabel(\"Aggregate ETH release\")\n",
    "plt.ylabel(\"Effective price (USDC per ETH)\")"
   ]
  },
  {
   "cell_type": "markdown",
   "id": "acd45ab5",
   "metadata": {},
   "source": [
    "Going back to the routing problem we want to solve is that we have an aggregate release, say `15`, and we want the price; this we can do with goalseek"
   ]
  },
  {
   "cell_type": "code",
   "execution_count": 129,
   "id": "8c6329e6",
   "metadata": {},
   "outputs": [
    {
     "data": {
      "text/plain": [
       "2487.0588779449463"
      ]
     },
     "execution_count": 129,
     "metadata": {},
     "output_type": "execute_result"
    }
   ],
   "source": [
    "p_goal = CarbonOrderUI.goalseek(lambda p: dy_f(p)-15, 2000, 3000)\n",
    "p_goal"
   ]
  },
  {
   "cell_type": "markdown",
   "id": "4b1e4064",
   "metadata": {},
   "source": [
    "The contribution of the positions at this price -- aka the **routing** -- is as follows"
   ]
  },
  {
   "cell_type": "code",
   "execution_count": 130,
   "id": "a1e92d5b",
   "metadata": {},
   "outputs": [
    {
     "data": {
      "text/plain": [
       "[4.779867109477664,\n",
       " 3.909431354268376,\n",
       " 3.007611565327439,\n",
       " 2.074747101342123,\n",
       " 1.1111663381843746,\n",
       " 0.11718726278194591,\n",
       " 0,\n",
       " 0,\n",
       " 0,\n",
       " 0]"
      ]
     },
     "execution_count": 130,
     "metadata": {},
     "output_type": "execute_result"
    }
   ],
   "source": [
    "rl1 = [o.dyfromp_f(p_goal) for o in orders]\n",
    "rl1"
   ]
  },
  {
   "cell_type": "markdown",
   "id": "1d93d34c",
   "metadata": {},
   "source": [
    "We can check that we routed indeed 15 ETH (the slight discrepancy is probably mostly related to goalseek precision)"
   ]
  },
  {
   "cell_type": "code",
   "execution_count": 131,
   "id": "527e7dfc",
   "metadata": {},
   "outputs": [
    {
     "data": {
      "text/plain": [
       "15.000010731381924"
      ]
     },
     "execution_count": 131,
     "metadata": {},
     "output_type": "execute_result"
    }
   ],
   "source": [
    "sum([o.dyfromp_f(p_goal) for o in orders])"
   ]
  },
  {
   "cell_type": "markdown",
   "id": "d0b7f1eb",
   "metadata": {},
   "source": [
    "And finally we can verify this against the exact algo match"
   ]
  },
  {
   "cell_type": "code",
   "execution_count": 132,
   "id": "ac21d8f9",
   "metadata": {},
   "outputs": [
    {
     "data": {
      "text/plain": [
       "CarbonSimulatorUI(<0 orders, 0 trades>, pair='ETH/USDC', mm='exact', xf=True)"
      ]
     },
     "execution_count": 132,
     "metadata": {},
     "output_type": "execute_result"
    }
   ],
   "source": [
    "Sim = CarbonSimulatorUI(pair=\"ETH/USDC\", verbose=False, raiseonerror=True)\n",
    "Sim"
   ]
  },
  {
   "cell_type": "code",
   "execution_count": 133,
   "id": "6e91e4bd",
   "metadata": {},
   "outputs": [
    {
     "data": {
      "text/html": [
       "<div>\n",
       "<style scoped>\n",
       "    .dataframe tbody tr th:only-of-type {\n",
       "        vertical-align: middle;\n",
       "    }\n",
       "\n",
       "    .dataframe tbody tr th {\n",
       "        vertical-align: top;\n",
       "    }\n",
       "\n",
       "    .dataframe thead th {\n",
       "        text-align: right;\n",
       "    }\n",
       "</style>\n",
       "<table border=\"1\" class=\"dataframe\">\n",
       "  <thead>\n",
       "    <tr style=\"text-align: right;\">\n",
       "      <th></th>\n",
       "      <th>id</th>\n",
       "      <th>pair</th>\n",
       "      <th>tkn</th>\n",
       "      <th>y_int</th>\n",
       "      <th>y</th>\n",
       "      <th>y_unit</th>\n",
       "      <th>disabled</th>\n",
       "      <th>p_start</th>\n",
       "      <th>p_end</th>\n",
       "      <th>p_marg</th>\n",
       "      <th>p_unit</th>\n",
       "      <th>lid</th>\n",
       "    </tr>\n",
       "  </thead>\n",
       "  <tbody>\n",
       "    <tr>\n",
       "      <th>0</th>\n",
       "      <td>0</td>\n",
       "      <td>ETHUSDC</td>\n",
       "      <td>ETH</td>\n",
       "      <td>10.0</td>\n",
       "      <td>5.0</td>\n",
       "      <td>ETH</td>\n",
       "      <td>False</td>\n",
       "      <td>2000.0</td>\n",
       "      <td>2500.0</td>\n",
       "      <td>2229.1236</td>\n",
       "      <td>USDC per ETH</td>\n",
       "      <td>1</td>\n",
       "    </tr>\n",
       "    <tr>\n",
       "      <th>2</th>\n",
       "      <td>2</td>\n",
       "      <td>ETHUSDC</td>\n",
       "      <td>ETH</td>\n",
       "      <td>10.0</td>\n",
       "      <td>5.0</td>\n",
       "      <td>ETH</td>\n",
       "      <td>False</td>\n",
       "      <td>2050.0</td>\n",
       "      <td>2550.0</td>\n",
       "      <td>2279.579255</td>\n",
       "      <td>USDC per ETH</td>\n",
       "      <td>3</td>\n",
       "    </tr>\n",
       "    <tr>\n",
       "      <th>4</th>\n",
       "      <td>4</td>\n",
       "      <td>ETHUSDC</td>\n",
       "      <td>ETH</td>\n",
       "      <td>10.0</td>\n",
       "      <td>5.0</td>\n",
       "      <td>ETH</td>\n",
       "      <td>False</td>\n",
       "      <td>2100.0</td>\n",
       "      <td>2600.0</td>\n",
       "      <td>2330.015407</td>\n",
       "      <td>USDC per ETH</td>\n",
       "      <td>5</td>\n",
       "    </tr>\n",
       "    <tr>\n",
       "      <th>6</th>\n",
       "      <td>6</td>\n",
       "      <td>ETHUSDC</td>\n",
       "      <td>ETH</td>\n",
       "      <td>10.0</td>\n",
       "      <td>5.0</td>\n",
       "      <td>ETH</td>\n",
       "      <td>False</td>\n",
       "      <td>2150.0</td>\n",
       "      <td>2650.0</td>\n",
       "      <td>2380.433284</td>\n",
       "      <td>USDC per ETH</td>\n",
       "      <td>7</td>\n",
       "    </tr>\n",
       "    <tr>\n",
       "      <th>8</th>\n",
       "      <td>8</td>\n",
       "      <td>ETHUSDC</td>\n",
       "      <td>ETH</td>\n",
       "      <td>10.0</td>\n",
       "      <td>5.0</td>\n",
       "      <td>ETH</td>\n",
       "      <td>False</td>\n",
       "      <td>2200.0</td>\n",
       "      <td>2700.0</td>\n",
       "      <td>2430.834014</td>\n",
       "      <td>USDC per ETH</td>\n",
       "      <td>9</td>\n",
       "    </tr>\n",
       "    <tr>\n",
       "      <th>10</th>\n",
       "      <td>10</td>\n",
       "      <td>ETHUSDC</td>\n",
       "      <td>ETH</td>\n",
       "      <td>10.0</td>\n",
       "      <td>5.0</td>\n",
       "      <td>ETH</td>\n",
       "      <td>False</td>\n",
       "      <td>2250.0</td>\n",
       "      <td>2750.0</td>\n",
       "      <td>2481.218632</td>\n",
       "      <td>USDC per ETH</td>\n",
       "      <td>11</td>\n",
       "    </tr>\n",
       "    <tr>\n",
       "      <th>12</th>\n",
       "      <td>12</td>\n",
       "      <td>ETHUSDC</td>\n",
       "      <td>ETH</td>\n",
       "      <td>10.0</td>\n",
       "      <td>5.0</td>\n",
       "      <td>ETH</td>\n",
       "      <td>False</td>\n",
       "      <td>2300.0</td>\n",
       "      <td>2800.0</td>\n",
       "      <td>2531.588093</td>\n",
       "      <td>USDC per ETH</td>\n",
       "      <td>13</td>\n",
       "    </tr>\n",
       "    <tr>\n",
       "      <th>14</th>\n",
       "      <td>14</td>\n",
       "      <td>ETHUSDC</td>\n",
       "      <td>ETH</td>\n",
       "      <td>10.0</td>\n",
       "      <td>5.0</td>\n",
       "      <td>ETH</td>\n",
       "      <td>False</td>\n",
       "      <td>2350.0</td>\n",
       "      <td>2850.0</td>\n",
       "      <td>2581.943276</td>\n",
       "      <td>USDC per ETH</td>\n",
       "      <td>15</td>\n",
       "    </tr>\n",
       "    <tr>\n",
       "      <th>16</th>\n",
       "      <td>16</td>\n",
       "      <td>ETHUSDC</td>\n",
       "      <td>ETH</td>\n",
       "      <td>10.0</td>\n",
       "      <td>5.0</td>\n",
       "      <td>ETH</td>\n",
       "      <td>False</td>\n",
       "      <td>2400.0</td>\n",
       "      <td>2900.0</td>\n",
       "      <td>2632.284995</td>\n",
       "      <td>USDC per ETH</td>\n",
       "      <td>17</td>\n",
       "    </tr>\n",
       "    <tr>\n",
       "      <th>18</th>\n",
       "      <td>18</td>\n",
       "      <td>ETHUSDC</td>\n",
       "      <td>ETH</td>\n",
       "      <td>10.0</td>\n",
       "      <td>5.0</td>\n",
       "      <td>ETH</td>\n",
       "      <td>False</td>\n",
       "      <td>2450.0</td>\n",
       "      <td>2950.0</td>\n",
       "      <td>2682.614002</td>\n",
       "      <td>USDC per ETH</td>\n",
       "      <td>19</td>\n",
       "    </tr>\n",
       "  </tbody>\n",
       "</table>\n",
       "</div>"
      ],
      "text/plain": [
       "    id     pair  tkn  y_int    y y_unit  disabled p_start   p_end  \\\n",
       "0    0  ETHUSDC  ETH   10.0  5.0    ETH     False  2000.0  2500.0   \n",
       "2    2  ETHUSDC  ETH   10.0  5.0    ETH     False  2050.0  2550.0   \n",
       "4    4  ETHUSDC  ETH   10.0  5.0    ETH     False  2100.0  2600.0   \n",
       "6    6  ETHUSDC  ETH   10.0  5.0    ETH     False  2150.0  2650.0   \n",
       "8    8  ETHUSDC  ETH   10.0  5.0    ETH     False  2200.0  2700.0   \n",
       "10  10  ETHUSDC  ETH   10.0  5.0    ETH     False  2250.0  2750.0   \n",
       "12  12  ETHUSDC  ETH   10.0  5.0    ETH     False  2300.0  2800.0   \n",
       "14  14  ETHUSDC  ETH   10.0  5.0    ETH     False  2350.0  2850.0   \n",
       "16  16  ETHUSDC  ETH   10.0  5.0    ETH     False  2400.0  2900.0   \n",
       "18  18  ETHUSDC  ETH   10.0  5.0    ETH     False  2450.0  2950.0   \n",
       "\n",
       "         p_marg        p_unit  lid  \n",
       "0     2229.1236  USDC per ETH    1  \n",
       "2   2279.579255  USDC per ETH    3  \n",
       "4   2330.015407  USDC per ETH    5  \n",
       "6   2380.433284  USDC per ETH    7  \n",
       "8   2430.834014  USDC per ETH    9  \n",
       "10  2481.218632  USDC per ETH   11  \n",
       "12  2531.588093  USDC per ETH   13  \n",
       "14  2581.943276  USDC per ETH   15  \n",
       "16  2632.284995  USDC per ETH   17  \n",
       "18  2682.614002  USDC per ETH   19  "
      ]
     },
     "execution_count": 133,
     "metadata": {},
     "output_type": "execute_result"
    }
   ],
   "source": [
    "for i in range(10):\n",
    "    Sim.add_strategy('ETH', 10, 2000+50*i, 2500+50*i, None, None, None, None)\n",
    "    # sell 5 ETH off each order to get the appropriate p_marg\n",
    "    Sim.amm_sells('ETH', 5, use_positions=[i*2])\n",
    "Sim.state()['orders'].query(\"disabled==False\")"
   ]
  },
  {
   "cell_type": "code",
   "execution_count": 134,
   "id": "78ae32ed",
   "metadata": {},
   "outputs": [
    {
     "data": {
      "text/plain": [
       "{'orders':     id     pair   tkn         y_int             y y_unit  disabled p_start  \\\n",
       " 0    0  ETHUSDC   ETH     10.000000      5.000000    ETH     False  2000.0   \n",
       " 1    1  ETHUSDC  USDC  10557.280900  10557.280900   USDC      True    None   \n",
       " 2    2  ETHUSDC   ETH     10.000000      5.000000    ETH     False  2050.0   \n",
       " 3    3  ETHUSDC  USDC  10808.720406  10808.720406   USDC      True    None   \n",
       " 4    4  ETHUSDC   ETH     10.000000      5.000000    ETH     False  2100.0   \n",
       " 5    5  ETHUSDC  USDC  11060.099857  11060.099857   USDC      True    None   \n",
       " 6    6  ETHUSDC   ETH     10.000000      5.000000    ETH     False  2150.0   \n",
       " 7    7  ETHUSDC  USDC  11311.422944  11311.422944   USDC      True    None   \n",
       " 8    8  ETHUSDC   ETH     10.000000      5.000000    ETH     False  2200.0   \n",
       " 9    9  ETHUSDC  USDC  11562.693059  11562.693059   USDC      True    None   \n",
       " 10  10  ETHUSDC   ETH     10.000000      5.000000    ETH     False  2250.0   \n",
       " 11  11  ETHUSDC  USDC  11813.913326  11813.913326   USDC      True    None   \n",
       " 12  12  ETHUSDC   ETH     10.000000      5.000000    ETH     False  2300.0   \n",
       " 13  13  ETHUSDC  USDC  12065.086628  12065.086628   USDC      True    None   \n",
       " 14  14  ETHUSDC   ETH     10.000000      5.000000    ETH     False  2350.0   \n",
       " 15  15  ETHUSDC  USDC  12316.215631  12316.215631   USDC      True    None   \n",
       " 16  16  ETHUSDC   ETH     10.000000      5.000000    ETH     False  2400.0   \n",
       " 17  17  ETHUSDC  USDC  12567.302801  12567.302801   USDC      True    None   \n",
       " 18  18  ETHUSDC   ETH     10.000000      5.000000    ETH     False  2450.0   \n",
       " 19  19  ETHUSDC  USDC  12818.350424  12818.350424   USDC      True    None   \n",
       " \n",
       "      p_end       p_marg        p_unit  lid  \n",
       " 0   2500.0    2229.1236  USDC per ETH    1  \n",
       " 1     None         None  USDC per ETH    0  \n",
       " 2   2550.0  2279.579255  USDC per ETH    3  \n",
       " 3     None         None  USDC per ETH    2  \n",
       " 4   2600.0  2330.015407  USDC per ETH    5  \n",
       " 5     None         None  USDC per ETH    4  \n",
       " 6   2650.0  2380.433284  USDC per ETH    7  \n",
       " 7     None         None  USDC per ETH    6  \n",
       " 8   2700.0  2430.834014  USDC per ETH    9  \n",
       " 9     None         None  USDC per ETH    8  \n",
       " 10  2750.0  2481.218632  USDC per ETH   11  \n",
       " 11    None         None  USDC per ETH   10  \n",
       " 12  2800.0  2531.588093  USDC per ETH   13  \n",
       " 13    None         None  USDC per ETH   12  \n",
       " 14  2850.0  2581.943276  USDC per ETH   15  \n",
       " 15    None         None  USDC per ETH   14  \n",
       " 16  2900.0  2632.284995  USDC per ETH   17  \n",
       " 17    None         None  USDC per ETH   16  \n",
       " 18  2950.0  2682.614002  USDC per ETH   19  \n",
       " 19    None         None  USDC per ETH   18  ,\n",
       " 'orderuis': {0: CarbonOrderUI(pair=ETH/USDC, B=0.02, S=0.0023606797749978967, yint=10.0, y=5.0, id=0, linked=<1>),\n",
       "  1: CarbonOrderUI(pair=ETH/USDC, B=0.0, S=0.0, yint=10557.280900008413, y=10557.280900008413, id=1, linked=<0>),\n",
       "  2: CarbonOrderUI(pair=ETH/USDC, B=0.019802950859533486, S=0.0022833543554358245, yint=10.0, y=5.0, id=2, linked=<3>),\n",
       "  3: CarbonOrderUI(pair=ETH/USDC, B=0.0, S=0.0, yint=10808.720405575858, y=10808.720405575858, id=3, linked=<2>),\n",
       "  4: CarbonOrderUI(pair=ETH/USDC, B=0.019611613513818404, S=0.002210175509780834, yint=10.0, y=5.0, id=4, linked=<5>),\n",
       "  5: CarbonOrderUI(pair=ETH/USDC, B=0.0, S=0.0, yint=11060.09985739745, y=11060.09985739745, id=5, linked=<4>),\n",
       "  6: CarbonOrderUI(pair=ETH/USDC, B=0.019425717247145282, S=0.002140837393542403, yint=10.0, y=5.0, id=6, linked=<7>),\n",
       "  7: CarbonOrderUI(pair=ETH/USDC, B=0.0, S=0.0, yint=11311.422944391907, y=11311.422944391907, id=7, linked=<6>),\n",
       "  8: CarbonOrderUI(pair=ETH/USDC, B=0.019245008972987525, S=0.0020750626625735194, yint=10.0, y=5.0, id=8, linked=<9>),\n",
       "  9: CarbonOrderUI(pair=ETH/USDC, B=0.0, S=0.0, yint=11562.693058805324, y=11562.693058805324, id=9, linked=<8>),\n",
       "  10: CarbonOrderUI(pair=ETH/USDC, B=0.019069251784911846, S=0.0020125992828773503, yint=10.0, y=5.0, id=10, linked=<11>),\n",
       "  11: CarbonOrderUI(pair=ETH/USDC, B=0.0, S=0.0, yint=11813.913325505255, y=11813.913325505255, id=11, linked=<10>),\n",
       "  12: CarbonOrderUI(pair=ETH/USDC, B=0.01889822365046136, S=0.001953217755246116, yint=10.0, y=5.0, id=12, linked=<13>),\n",
       "  13: CarbonOrderUI(pair=ETH/USDC, B=0.0, S=0.0, yint=12065.086627864412, y=12065.086627864412, id=13, linked=<12>),\n",
       "  14: CarbonOrderUI(pair=ETH/USDC, B=0.018731716231633878, S=0.0018967086935419916, yint=10.0, y=5.0, id=14, linked=<15>),\n",
       "  15: CarbonOrderUI(pair=ETH/USDC, B=0.0, S=0.0, yint=12316.215630689185, y=12316.215630689185, id=15, linked=<14>),\n",
       "  16: CarbonOrderUI(pair=ETH/USDC, B=0.018569533817705184, S=0.0018428807054879683, yint=10.0, y=5.0, id=16, linked=<17>),\n",
       "  17: CarbonOrderUI(pair=ETH/USDC, B=0.0, S=0.0, yint=12567.302800579975, y=12567.302800579975, id=17, linked=<16>),\n",
       "  18: CarbonOrderUI(pair=ETH/USDC, B=0.018411492357966467, S=0.0017915585330777473, yint=10.0, y=5.0, id=18, linked=<19>),\n",
       "  19: CarbonOrderUI(pair=ETH/USDC, B=0.0, S=0.0, yint=12818.35042405337, y=12818.35042405337, id=19, linked=<18>)},\n",
       " 'trades':    uid  id subid                           note   aggr  exec limitfail  amt1  \\\n",
       " 0  0.0   0     0                       route #0  False  True      None   5.0   \n",
       " 0    0   0     A  AMM sells 5ETH buys 10557USDC   True  True      None   5.0   \n",
       " 0  1.0   1     0                       route #2  False  True      None   5.0   \n",
       " 0    1   1     A  AMM sells 5ETH buys 10809USDC   True  True      None   5.0   \n",
       " 0  2.0   2     0                       route #4  False  True      None   5.0   \n",
       " 0    2   2     A  AMM sells 5ETH buys 11060USDC   True  True      None   5.0   \n",
       " 0  3.0   3     0                       route #6  False  True      None   5.0   \n",
       " 0    3   3     A  AMM sells 5ETH buys 11311USDC   True  True      None   5.0   \n",
       " 0  4.0   4     0                       route #8  False  True      None   5.0   \n",
       " 0    4   4     A  AMM sells 5ETH buys 11563USDC   True  True      None   5.0   \n",
       " 0  5.0   5     0                      route #10  False  True      None   5.0   \n",
       " 0    5   5     A  AMM sells 5ETH buys 11814USDC   True  True      None   5.0   \n",
       " 0  6.0   6     0                      route #12  False  True      None   5.0   \n",
       " 0    6   6     A  AMM sells 5ETH buys 12065USDC   True  True      None   5.0   \n",
       " 0  7.0   7     0                      route #14  False  True      None   5.0   \n",
       " 0    7   7     A  AMM sells 5ETH buys 12316USDC   True  True      None   5.0   \n",
       " 0  8.0   8     0                      route #16  False  True      None   5.0   \n",
       " 0    8   8     A  AMM sells 5ETH buys 12567USDC   True  True      None   5.0   \n",
       " 0  9.0   9     0                      route #18  False  True      None   5.0   \n",
       " 0    9   9     A  AMM sells 5ETH buys 12818USDC   True  True      None   5.0   \n",
       " \n",
       "   tkn1          amt2  tkn2     pair routeix  nroutes        price  \\\n",
       " 0  ETH  10557.280900  USDC  ETHUSDC       0        1  2111.456180   \n",
       " 0  ETH  10557.280900  USDC  ETHUSDC     [0]        1  2111.456180   \n",
       " 0  ETH  10808.720406  USDC  ETHUSDC       2        1  2161.744081   \n",
       " 0  ETH  10808.720406  USDC  ETHUSDC     [2]        1  2161.744081   \n",
       " 0  ETH  11060.099857  USDC  ETHUSDC       4        1  2212.019971   \n",
       " 0  ETH  11060.099857  USDC  ETHUSDC     [4]        1  2212.019971   \n",
       " 0  ETH  11311.422944  USDC  ETHUSDC       6        1  2262.284589   \n",
       " 0  ETH  11311.422944  USDC  ETHUSDC     [6]        1  2262.284589   \n",
       " 0  ETH  11562.693059  USDC  ETHUSDC       8        1  2312.538612   \n",
       " 0  ETH  11562.693059  USDC  ETHUSDC     [8]        1  2312.538612   \n",
       " 0  ETH  11813.913326  USDC  ETHUSDC      10        1  2362.782665   \n",
       " 0  ETH  11813.913326  USDC  ETHUSDC    [10]        1  2362.782665   \n",
       " 0  ETH  12065.086628  USDC  ETHUSDC      12        1  2413.017326   \n",
       " 0  ETH  12065.086628  USDC  ETHUSDC    [12]        1  2413.017326   \n",
       " 0  ETH  12316.215631  USDC  ETHUSDC      14        1  2463.243126   \n",
       " 0  ETH  12316.215631  USDC  ETHUSDC    [14]        1  2463.243126   \n",
       " 0  ETH  12567.302801  USDC  ETHUSDC      16        1  2513.460560   \n",
       " 0  ETH  12567.302801  USDC  ETHUSDC    [16]        1  2513.460560   \n",
       " 0  ETH  12818.350424  USDC  ETHUSDC      18        1  2563.670085   \n",
       " 0  ETH  12818.350424  USDC  ETHUSDC    [18]        1  2563.670085   \n",
       " \n",
       "          p_unit  \n",
       " 0  USDC per ETH  \n",
       " 0  USDC per ETH  \n",
       " 0  USDC per ETH  \n",
       " 0  USDC per ETH  \n",
       " 0  USDC per ETH  \n",
       " 0  USDC per ETH  \n",
       " 0  USDC per ETH  \n",
       " 0  USDC per ETH  \n",
       " 0  USDC per ETH  \n",
       " 0  USDC per ETH  \n",
       " 0  USDC per ETH  \n",
       " 0  USDC per ETH  \n",
       " 0  USDC per ETH  \n",
       " 0  USDC per ETH  \n",
       " 0  USDC per ETH  \n",
       " 0  USDC per ETH  \n",
       " 0  USDC per ETH  \n",
       " 0  USDC per ETH  \n",
       " 0  USDC per ETH  \n",
       " 0  USDC per ETH  }"
      ]
     },
     "execution_count": 134,
     "metadata": {},
     "output_type": "execute_result"
    }
   ],
   "source": [
    "Sim.state()"
   ]
  },
  {
   "cell_type": "code",
   "execution_count": 135,
   "id": "17cbb74e",
   "metadata": {},
   "outputs": [
    {
     "data": {
      "text/html": [
       "<div>\n",
       "<style scoped>\n",
       "    .dataframe tbody tr th:only-of-type {\n",
       "        vertical-align: middle;\n",
       "    }\n",
       "\n",
       "    .dataframe tbody tr th {\n",
       "        vertical-align: top;\n",
       "    }\n",
       "\n",
       "    .dataframe thead th {\n",
       "        text-align: right;\n",
       "    }\n",
       "</style>\n",
       "<table border=\"1\" class=\"dataframe\">\n",
       "  <thead>\n",
       "    <tr style=\"text-align: right;\">\n",
       "      <th></th>\n",
       "      <th>uid</th>\n",
       "      <th>id</th>\n",
       "      <th>subid</th>\n",
       "      <th>note</th>\n",
       "      <th>aggr</th>\n",
       "      <th>exec</th>\n",
       "      <th>limitfail</th>\n",
       "      <th>amt1</th>\n",
       "      <th>tkn1</th>\n",
       "      <th>amt2</th>\n",
       "      <th>tkn2</th>\n",
       "      <th>pair</th>\n",
       "      <th>routeix</th>\n",
       "      <th>nroutes</th>\n",
       "      <th>price</th>\n",
       "      <th>p_unit</th>\n",
       "    </tr>\n",
       "  </thead>\n",
       "  <tbody>\n",
       "    <tr>\n",
       "      <th>0</th>\n",
       "      <td>10.0</td>\n",
       "      <td>10</td>\n",
       "      <td>0</td>\n",
       "      <td>route #0</td>\n",
       "      <td>False</td>\n",
       "      <td>True</td>\n",
       "      <td>None</td>\n",
       "      <td>4.779865</td>\n",
       "      <td>ETH</td>\n",
       "      <td>11254.488784</td>\n",
       "      <td>USDC</td>\n",
       "      <td>ETHUSDC</td>\n",
       "      <td>0</td>\n",
       "      <td>1</td>\n",
       "      <td>2391.638426</td>\n",
       "      <td>USDC per ETH</td>\n",
       "    </tr>\n",
       "    <tr>\n",
       "      <th>0</th>\n",
       "      <td>10.1</td>\n",
       "      <td>10</td>\n",
       "      <td>1</td>\n",
       "      <td>route #2</td>\n",
       "      <td>False</td>\n",
       "      <td>True</td>\n",
       "      <td>None</td>\n",
       "      <td>3.909430</td>\n",
       "      <td>ETH</td>\n",
       "      <td>9308.587288</td>\n",
       "      <td>USDC</td>\n",
       "      <td>ETHUSDC</td>\n",
       "      <td>2</td>\n",
       "      <td>1</td>\n",
       "      <td>2391.638426</td>\n",
       "      <td>USDC per ETH</td>\n",
       "    </tr>\n",
       "    <tr>\n",
       "      <th>0</th>\n",
       "      <td>10.2</td>\n",
       "      <td>10</td>\n",
       "      <td>2</td>\n",
       "      <td>route #4</td>\n",
       "      <td>False</td>\n",
       "      <td>True</td>\n",
       "      <td>None</td>\n",
       "      <td>3.007610</td>\n",
       "      <td>ETH</td>\n",
       "      <td>7240.089143</td>\n",
       "      <td>USDC</td>\n",
       "      <td>ETHUSDC</td>\n",
       "      <td>4</td>\n",
       "      <td>1</td>\n",
       "      <td>2391.638426</td>\n",
       "      <td>USDC per ETH</td>\n",
       "    </tr>\n",
       "    <tr>\n",
       "      <th>0</th>\n",
       "      <td>10.3</td>\n",
       "      <td>10</td>\n",
       "      <td>3</td>\n",
       "      <td>route #6</td>\n",
       "      <td>False</td>\n",
       "      <td>True</td>\n",
       "      <td>None</td>\n",
       "      <td>2.074745</td>\n",
       "      <td>ETH</td>\n",
       "      <td>5048.191466</td>\n",
       "      <td>USDC</td>\n",
       "      <td>ETHUSDC</td>\n",
       "      <td>6</td>\n",
       "      <td>1</td>\n",
       "      <td>2391.638426</td>\n",
       "      <td>USDC per ETH</td>\n",
       "    </tr>\n",
       "    <tr>\n",
       "      <th>0</th>\n",
       "      <td>10.4</td>\n",
       "      <td>10</td>\n",
       "      <td>4</td>\n",
       "      <td>route #8</td>\n",
       "      <td>False</td>\n",
       "      <td>True</td>\n",
       "      <td>None</td>\n",
       "      <td>1.111164</td>\n",
       "      <td>ETH</td>\n",
       "      <td>2732.115287</td>\n",
       "      <td>USDC</td>\n",
       "      <td>ETHUSDC</td>\n",
       "      <td>8</td>\n",
       "      <td>1</td>\n",
       "      <td>2391.638426</td>\n",
       "      <td>USDC per ETH</td>\n",
       "    </tr>\n",
       "    <tr>\n",
       "      <th>0</th>\n",
       "      <td>10.5</td>\n",
       "      <td>10</td>\n",
       "      <td>5</td>\n",
       "      <td>route #10</td>\n",
       "      <td>False</td>\n",
       "      <td>True</td>\n",
       "      <td>None</td>\n",
       "      <td>0.117185</td>\n",
       "      <td>ETH</td>\n",
       "      <td>291.104415</td>\n",
       "      <td>USDC</td>\n",
       "      <td>ETHUSDC</td>\n",
       "      <td>10</td>\n",
       "      <td>1</td>\n",
       "      <td>2391.638426</td>\n",
       "      <td>USDC per ETH</td>\n",
       "    </tr>\n",
       "    <tr>\n",
       "      <th>0</th>\n",
       "      <td>10</td>\n",
       "      <td>10</td>\n",
       "      <td>A</td>\n",
       "      <td>AMM sells 15ETH buys 35875USDC</td>\n",
       "      <td>True</td>\n",
       "      <td>True</td>\n",
       "      <td>None</td>\n",
       "      <td>15.000000</td>\n",
       "      <td>ETH</td>\n",
       "      <td>35874.576383</td>\n",
       "      <td>USDC</td>\n",
       "      <td>ETHUSDC</td>\n",
       "      <td>[0, 2, 4, 6, 8, 10]</td>\n",
       "      <td>6</td>\n",
       "      <td>2391.638426</td>\n",
       "      <td>USDC per ETH</td>\n",
       "    </tr>\n",
       "  </tbody>\n",
       "</table>\n",
       "</div>"
      ],
      "text/plain": [
       "    uid  id subid                            note   aggr  exec limitfail  \\\n",
       "0  10.0  10     0                        route #0  False  True      None   \n",
       "0  10.1  10     1                        route #2  False  True      None   \n",
       "0  10.2  10     2                        route #4  False  True      None   \n",
       "0  10.3  10     3                        route #6  False  True      None   \n",
       "0  10.4  10     4                        route #8  False  True      None   \n",
       "0  10.5  10     5                       route #10  False  True      None   \n",
       "0    10  10     A  AMM sells 15ETH buys 35875USDC   True  True      None   \n",
       "\n",
       "        amt1 tkn1          amt2  tkn2     pair              routeix  nroutes  \\\n",
       "0   4.779865  ETH  11254.488784  USDC  ETHUSDC                    0        1   \n",
       "0   3.909430  ETH   9308.587288  USDC  ETHUSDC                    2        1   \n",
       "0   3.007610  ETH   7240.089143  USDC  ETHUSDC                    4        1   \n",
       "0   2.074745  ETH   5048.191466  USDC  ETHUSDC                    6        1   \n",
       "0   1.111164  ETH   2732.115287  USDC  ETHUSDC                    8        1   \n",
       "0   0.117185  ETH    291.104415  USDC  ETHUSDC                   10        1   \n",
       "0  15.000000  ETH  35874.576383  USDC  ETHUSDC  [0, 2, 4, 6, 8, 10]        6   \n",
       "\n",
       "         price        p_unit  \n",
       "0  2391.638426  USDC per ETH  \n",
       "0  2391.638426  USDC per ETH  \n",
       "0  2391.638426  USDC per ETH  \n",
       "0  2391.638426  USDC per ETH  \n",
       "0  2391.638426  USDC per ETH  \n",
       "0  2391.638426  USDC per ETH  \n",
       "0  2391.638426  USDC per ETH  "
      ]
     },
     "execution_count": 135,
     "metadata": {},
     "output_type": "execute_result"
    }
   ],
   "source": [
    "r = Sim.amm_sells('ETH', 15)['trades']\n",
    "r"
   ]
  },
  {
   "cell_type": "markdown",
   "id": "a5017bed",
   "metadata": {},
   "source": [
    "Below `rl2` is the route list obtained through routing, and `rl1` the original one. We see they are extremely close."
   ]
  },
  {
   "cell_type": "code",
   "execution_count": 136,
   "id": "7041a1c7",
   "metadata": {
    "lines_to_next_cell": 2
   },
   "outputs": [
    {
     "data": {
      "text/plain": [
       "[4.779865462359,\n",
       " 3.90942965137,\n",
       " 3.007609806046,\n",
       " 2.074745285081,\n",
       " 1.111164464352,\n",
       " 0.117185330793]"
      ]
     },
     "execution_count": 136,
     "metadata": {},
     "output_type": "execute_result"
    }
   ],
   "source": [
    "rl2 = list(r.query(\"aggr==False\")[\"amt1\"])\n",
    "rl2"
   ]
  },
  {
   "cell_type": "code",
   "execution_count": 137,
   "id": "9d4721c4",
   "metadata": {},
   "outputs": [
    {
     "data": {
      "text/plain": [
       "[4.779867109477664,\n",
       " 3.909431354268376,\n",
       " 3.007611565327439,\n",
       " 2.074747101342123,\n",
       " 1.1111663381843746,\n",
       " 0.11718726278194591]"
      ]
     },
     "execution_count": 137,
     "metadata": {},
     "output_type": "execute_result"
    }
   ],
   "source": [
    "rl1[:len(rl2)]"
   ]
  },
  {
   "cell_type": "code",
   "execution_count": 138,
   "id": "42a6e4fc",
   "metadata": {},
   "outputs": [
    {
     "data": {
      "text/plain": [
       "[-1.6471186636835e-06,\n",
       " -1.7028983760880578e-06,\n",
       " -1.759281438751259e-06,\n",
       " -1.8162611228333958e-06,\n",
       " -1.8738323745992602e-06,\n",
       " -1.9319889459079587e-06]"
      ]
     },
     "execution_count": 138,
     "metadata": {},
     "output_type": "execute_result"
    }
   ],
   "source": [
    "[x2-x1 for x1,x2 in zip(rl1, rl2)]"
   ]
  },
  {
   "cell_type": "code",
   "execution_count": null,
   "id": "3dfeb15b",
   "metadata": {},
   "outputs": [],
   "source": []
  }
 ],
 "metadata": {
  "jupytext": {
   "formats": "ipynb,py:light"
  },
  "kernelspec": {
   "display_name": "Python 3",
   "language": "python",
   "name": "python3"
  },
  "language_info": {
   "codemirror_mode": {
    "name": "ipython",
    "version": 3
   },
   "file_extension": ".py",
   "mimetype": "text/x-python",
   "name": "python",
   "nbconvert_exporter": "python",
   "pygments_lexer": "ipython3",
   "version": "3.8.8"
  }
 },
 "nbformat": 4,
 "nbformat_minor": 5
}
