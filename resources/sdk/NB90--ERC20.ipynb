{
 "cells": [
  {
   "cell_type": "code",
   "execution_count": 1,
   "id": "a0855cc0-2db7-4341-b0ef-fcb343ca3636",
   "metadata": {},
   "outputs": [
    {
     "name": "stdout",
     "output_type": "stream",
     "text": [
      "CarbonSDK v0.9 (11/Mar/2023)\n",
      "v18.14.2\n"
     ]
    }
   ],
   "source": [
    "from carbon.sdk import CarbonSDK, Tokens as T\n",
    "from carbon import CarbonOrderUI, CarbonSimulatorUI, CarbonPair as P\n",
    "print(\"{0.__name__} v{0.__VERSION__} ({0.__DATE__})\".format(CarbonSDK))\n",
    "!node --version"
   ]
  },
  {
   "cell_type": "markdown",
   "id": "3650b16b-d020-4063-84c6-ab9fb7556552",
   "metadata": {},
   "source": [
    "# ERC20 [NB90]\n"
   ]
  },
  {
   "cell_type": "code",
   "execution_count": 2,
   "id": "abbeaeed-7c75-4d55-86ba-15f0ab16265e",
   "metadata": {},
   "outputs": [
    {
     "name": "stdout",
     "output_type": "stream",
     "text": [
      "[req0] method=get, url=http://localhost:3118/api/addr, params={}\n"
     ]
    },
    {
     "data": {
      "text/plain": [
       "{'success': True, 'data': '0x02aA0c42702110747c4cEa3C4Daf4D6cF701a6Ee'}"
      ]
     },
     "execution_count": 2,
     "metadata": {},
     "output_type": "execute_result"
    }
   ],
   "source": [
    "SDK = CarbonSDK(disclaimer=False)\n",
    "SDK.req(\"/addr\").json()"
   ]
  },
  {
   "cell_type": "code",
   "execution_count": 3,
   "id": "3dfcd085-475f-44c9-a09d-5cc18a45c0c5",
   "metadata": {},
   "outputs": [
    {
     "name": "stdout",
     "output_type": "stream",
     "text": [
      "[req0] method=get, url=http://localhost:3118/api/addr, params={}\n"
     ]
    },
    {
     "data": {
      "text/plain": [
       "'0x02aA0c42702110747c4cEa3C4Daf4D6cF701a6Ee'"
      ]
     },
     "execution_count": 3,
     "metadata": {},
     "output_type": "execute_result"
    }
   ],
   "source": [
    "addr = SDK.req(\"/addr\").json()[\"data\"]\n",
    "addr"
   ]
  },
  {
   "cell_type": "markdown",
   "id": "1cda9a17-bc94-4d5c-b82a-eed23742a575",
   "metadata": {},
   "source": [
    "## Wrapped API calls"
   ]
  },
  {
   "cell_type": "code",
   "execution_count": 4,
   "id": "6fd4897a-1a8a-4f59-8719-69c73a5399f1",
   "metadata": {},
   "outputs": [
    {
     "name": "stdout",
     "output_type": "stream",
     "text": [
      "[req0] method=post, url=http://localhost:3118/api/erc20/balance_of, params={'tokens': ['0xa0b86991c6218b36c1d19d4a2e9eb0ce3606eb48', '0xdac17f958d2ee523a2206206994597c13d831ec7', '0x2260fac5e5542a773aa44fbcfedf7c193bc2c599'], 'address': '0x02aA0c42702110747c4cEa3C4Daf4D6cF701a6Ee'}\n"
     ]
    },
    {
     "data": {
      "text/plain": [
       "{'USDC': 2773168.801014, 'USDT': 0.0, 'WBTC': 4099.977}"
      ]
     },
     "execution_count": 4,
     "metadata": {},
     "output_type": "execute_result"
    }
   ],
   "source": [
    "SDK.getERC20Balance([T.USDC, T.USDT, T.WBTC], addr)"
   ]
  },
  {
   "cell_type": "code",
   "execution_count": 5,
   "id": "2cce9ec7-2c63-4004-ac8f-ca95e272b7f4",
   "metadata": {},
   "outputs": [
    {
     "name": "stdout",
     "output_type": "stream",
     "text": [
      "[req0] method=post, url=http://localhost:3118/api/erc20/decimals, params={'tokens': ['0xa0b86991c6218b36c1d19d4a2e9eb0ce3606eb48', '0xdac17f958d2ee523a2206206994597c13d831ec7', '0x2260fac5e5542a773aa44fbcfedf7c193bc2c599']}\n"
     ]
    },
    {
     "data": {
      "text/plain": [
       "{'USDC': 6, 'USDT': 6, 'WBTC': 8}"
      ]
     },
     "execution_count": 5,
     "metadata": {},
     "output_type": "execute_result"
    }
   ],
   "source": [
    "SDK.getERC20Decimals([T.USDC, T.USDT, T.WBTC])"
   ]
  },
  {
   "cell_type": "code",
   "execution_count": 6,
   "id": "c6e0d8fc-4fa0-42cf-a105-77b3f801db9b",
   "metadata": {},
   "outputs": [
    {
     "name": "stdout",
     "output_type": "stream",
     "text": [
      "[req0] method=post, url=http://localhost:3118/api/erc20/symbol, params={'tokens': ['0xa0b86991c6218b36c1d19d4a2e9eb0ce3606eb48', '0xdac17f958d2ee523a2206206994597c13d831ec7', '0x2260fac5e5542a773aa44fbcfedf7c193bc2c599']}\n"
     ]
    },
    {
     "data": {
      "text/plain": [
       "{'USDC': 'USDC', 'USDT': 'USDT', 'WBTC': 'WBTC'}"
      ]
     },
     "execution_count": 6,
     "metadata": {},
     "output_type": "execute_result"
    }
   ],
   "source": [
    "SDK.getERC20Symbol([T.USDC, T.USDT, T.WBTC])"
   ]
  },
  {
   "cell_type": "code",
   "execution_count": 8,
   "id": "6b6ddf58-fb8e-4ed5-89b1-4f16f28a667c",
   "metadata": {},
   "outputs": [
    {
     "name": "stdout",
     "output_type": "stream",
     "text": [
      "[req0] method=post, url=http://localhost:3118/api/erc20/symbol, params={'tokens': ['0xa0b86991c6218b36c1d19d4a2e9eb0ce3606eb48', '0xdac17f958d2ee523a2206206994597c13d831ec7', '0x2260fac5e5542a773aa44fbcfedf7c193bc2c599']}\n"
     ]
    },
    {
     "data": {
      "text/plain": [
       "{'0xa0b86991c6218b36c1d19d4a2e9eb0ce3606eb48': 'USDC',\n",
       " '0xdac17f958d2ee523a2206206994597c13d831ec7': 'USDT',\n",
       " '0x2260fac5e5542a773aa44fbcfedf7c193bc2c599': 'WBTC'}"
      ]
     },
     "execution_count": 8,
     "metadata": {},
     "output_type": "execute_result"
    }
   ],
   "source": [
    "SDK.getERC20Symbol([T.USDC.a, T.USDT.a, T.WBTC.a])"
   ]
  },
  {
   "cell_type": "markdown",
   "id": "f6d27af4-d556-467b-af23-e62dadab9fcc",
   "metadata": {},
   "source": [
    "## Direct API calls"
   ]
  },
  {
   "cell_type": "code",
   "execution_count": null,
   "id": "647af2b5-01c3-4c50-85c0-17594bc93e30",
   "metadata": {},
   "outputs": [],
   "source": [
    "r = SDK.req(\"/erc20/hello\", params={\"tokens\": [T.USDC.a, T.USDT.a, T.BNT.a]})\n",
    "r.json()"
   ]
  },
  {
   "cell_type": "code",
   "execution_count": null,
   "id": "2de579e8-0e65-4a50-a0b0-b38fbe442694",
   "metadata": {},
   "outputs": [],
   "source": [
    "r = SDK.req(\"/erc20/decimals\", params={\"tokens\": [T.USDC.a, T.USDT.a, T.BNT.a]})\n",
    "r.json()"
   ]
  },
  {
   "cell_type": "code",
   "execution_count": null,
   "id": "3851b8f2-8685-45eb-8a58-44d5ef9ab49a",
   "metadata": {},
   "outputs": [],
   "source": [
    "r = SDK.req(\"/erc20/balance_of\", params={\"tokens\": [T.USDC.a, T.USDT.a, T.BNT.a], \"address\": addr})\n",
    "r.json()"
   ]
  },
  {
   "cell_type": "code",
   "execution_count": null,
   "id": "cc3dd76d-c039-4e94-ab4b-fcb7a9de6c93",
   "metadata": {},
   "outputs": [],
   "source": [
    "r = SDK.req(\"/erc20/symbol\", params={\"tokens\": [T.USDC.a, T.USDT.a, T.BNT.a]})\n",
    "r.json()"
   ]
  },
  {
   "cell_type": "code",
   "execution_count": null,
   "id": "3e6d1cda-9151-4583-a60a-83793de2c01e",
   "metadata": {},
   "outputs": [],
   "source": []
  }
 ],
 "metadata": {
  "jupytext": {
   "encoding": "# -*- coding: utf-8 -*-",
   "formats": "ipynb,py:light"
  },
  "kernelspec": {
   "display_name": "Python 3",
   "language": "python",
   "name": "python3"
  },
  "language_info": {
   "codemirror_mode": {
    "name": "ipython",
    "version": 3
   },
   "file_extension": ".py",
   "mimetype": "text/x-python",
   "name": "python",
   "nbconvert_exporter": "python",
   "pygments_lexer": "ipython3",
   "version": "3.8.8"
  }
 },
 "nbformat": 4,
 "nbformat_minor": 5
}
