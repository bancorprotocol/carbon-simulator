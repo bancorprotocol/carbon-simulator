{
 "cells": [
  {
   "cell_type": "code",
   "execution_count": 7,
   "id": "0417c011",
   "metadata": {},
   "outputs": [],
   "source": [
    "from math import sqrt, exp, log\n",
    "from datetime import timedelta as _timedelta, datetime as _datetime\n",
    "import numpy as np\n",
    "import pandas as pd\n",
    "from matplotlib import pyplot as plt\n",
    "plt.style.use('seaborn-dark')\n",
    "plt.rcParams['figure.figsize'] = [8,4]"
   ]
  },
  {
   "cell_type": "markdown",
   "id": "ac15adf5",
   "metadata": {},
   "source": [
    "# Generate Data"
   ]
  },
  {
   "cell_type": "code",
   "execution_count": 8,
   "id": "7437d941",
   "metadata": {},
   "outputs": [
    {
     "data": {
      "text/plain": [
       "'RANPTH-02000-0000'"
      ]
     },
     "execution_count": 8,
     "metadata": {},
     "output_type": "execute_result"
    }
   ],
   "source": [
    "FILENAME = lambda sig, mu: f\"RANPTH-{int(sig*10000):05d}-{int(mu*10000):04d}\"\n",
    "FILENAME(sig=0.2, mu=0)"
   ]
  },
  {
   "cell_type": "code",
   "execution_count": 9,
   "id": "56692d09",
   "metadata": {},
   "outputs": [],
   "source": [
    "FILENAME = None    # comment out to generate paths"
   ]
  },
  {
   "cell_type": "markdown",
   "id": "c514f561",
   "metadata": {},
   "source": [
    "## Code"
   ]
  },
  {
   "cell_type": "markdown",
   "id": "b4744e10",
   "metadata": {},
   "source": [
    "### Data retrieval code"
   ]
  },
  {
   "cell_type": "code",
   "execution_count": 11,
   "id": "67e87c60",
   "metadata": {},
   "outputs": [],
   "source": [
    "def dfread(fn):\n",
    "    \"\"\"reads dataframe from file and asserts format\"\"\"\n",
    "    \n",
    "    if fn[-7:] == \".pickle\":\n",
    "        df = pd.read_pickle(fn)\n",
    "    else:\n",
    "        df = pd.read_csv(fn)\n",
    "    assert df.columns[0] == \"time\"\n",
    "    assert df.columns[1] == \"datetime\"\n",
    "    return df\n",
    "    \n",
    "def pdread(fn, datacol=None, indexcol=None):\n",
    "    \"\"\"\n",
    "    reads a dataframe and returns a single column with index\n",
    "    \n",
    "    :fn:        the (full) filename\n",
    "    :datacol:   name or index of the data col; None returns frame\n",
    "    :indexcol:  name of the index col (default: \"datetime\")\n",
    "    :returns:   pandas series\n",
    "    \"\"\"\n",
    "    if indexcol is None: indexcol = \"datetime\"\n",
    "\n",
    "    df = dfread(fn)\n",
    "    df = df.set_index(indexcol)\n",
    "    if datacol is None:\n",
    "        return df.iloc[:, 1:]\n",
    "    elif isinstance(datacol, str):\n",
    "        return df[datacol]\n",
    "    elif isinstance(datacol, int):\n",
    "        return df.iloc[:, datacol+1]\n",
    "    else:\n",
    "        raise ValueError(\"datacol must be None, str or int\", datacol)\n",
    "\n",
    "def pdcols(fn):\n",
    "    \"\"\"\n",
    "    reads a dataframe and returns a single column with index\n",
    "    \n",
    "    :fn:        the (full) filename\n",
    "    :returns:   the column names (excluding the first two)\n",
    "    \"\"\"\n",
    "    return dfread(fn).columns[2:]\n",
    "\n",
    "def pathtime(path):\n",
    "    \"\"\"returns the time (in years) covered by the series `path`\"\"\"\n",
    "    (path.index[-1]-path.index[0])/pd.Timedelta(days=1)/365.25"
   ]
  },
  {
   "cell_type": "markdown",
   "id": "facc65bf",
   "metadata": {},
   "source": [
    "### Data generation code"
   ]
  },
  {
   "cell_type": "code",
   "execution_count": 10,
   "id": "5495c533",
   "metadata": {},
   "outputs": [
    {
     "data": {
      "image/png": "[encoded data removed]",
      "text/plain": [
       "<Figure size 576x288 with 1 Axes>"
      ]
     },
     "metadata": {},
     "output_type": "display_data"
    }
   ],
   "source": [
    "class PathGenerator():\n",
    "    \"\"\"\n",
    "    generate random lognormal paths\n",
    "    \n",
    "    :mu:       drift parameter; eg 0.05 = 5%\n",
    "    :sig:      volatility parameter; eg 0.2 = 20%\n",
    "    :s0:       spot value at time zero\n",
    "    :time:     time period (in years)\n",
    "    :N:        number of steps (excluding t=0)\n",
    "    \"\"\"\n",
    "    \n",
    "    DEFAULTS = {\n",
    "        \"mu\": 0,\n",
    "        \"sig\": 0.5,\n",
    "        \"s0\": 100,\n",
    "        \"time\": 1,\n",
    "        \"N\": 100,\n",
    "        \"startdt\": (2020, 1, 1),\n",
    "        \"numpaths\": 100,\n",
    "        \"colname\": \"p{i:04d}\",\n",
    "    }\n",
    "    \n",
    "    def __init__(self, mu=None, sig=None, s0=None, time=None, N=None, startdt=None):\n",
    "        \n",
    "        if mu is None: \n",
    "            mu = self.DEFAULTS[\"mu\"]\n",
    "        if sig is None: \n",
    "            sig = self.DEFAULTS[\"sig\"]\n",
    "        if s0 is None: \n",
    "            s0 = self.DEFAULTS[\"s0\"]        \n",
    "        if time is None: \n",
    "            time = self.DEFAULTS[\"time\"] \n",
    "        if N is None: \n",
    "            N = self.DEFAULTS[\"N\"]  \n",
    "        if startdt is None: \n",
    "            startdt = self.DEFAULTS[\"startdt\"]  \n",
    "            \n",
    "        self.mu = mu\n",
    "        self.sig =sig\n",
    "        self.s0 = s0\n",
    "        self.time = time\n",
    "        self.N = N\n",
    "        self.startdt = startdt\n",
    "        \n",
    "        self.dt = time/N\n",
    "        self.dt_td = _timedelta(days=self.dt*365.25)\n",
    "        self.mudt = self.mu*self.dt\n",
    "        self.halfsig2dt = 0.5*self.sig*self.sig*self.dt\n",
    "        self.volsqrtdt = self.sig*sqrt(self.dt)\n",
    "        self.times = np.array([i*self.dt for i in range(self.N+1)])\n",
    "        self.datetimes = self._datetime_r(self.startdt)\n",
    "            \n",
    "\n",
    "    def path(self, plot=False):\n",
    "        \"\"\"\n",
    "        generates a new random path\n",
    "        \n",
    "        :plot:     if True, plot the path\n",
    "        \"\"\"\n",
    "        increments = np.random.default_rng().lognormal(\n",
    "                        mean=        self.mudt - self.halfsig2dt, \n",
    "                        sigma=       self.volsqrtdt, \n",
    "                        size=        self.N)\n",
    "        \n",
    "        path = np.cumprod(np.insert(increments, 0, self.s0))\n",
    "        if plot:\n",
    "            self._plot(path)\n",
    "        return path\n",
    "    \n",
    "    def _plot(self, path=None, datetimes=None):\n",
    "        \"\"\"\n",
    "        plots the path with maplotlib\n",
    "        \"\"\"\n",
    "        if path is None: path = self.path()\n",
    "        if datetimes is None: datetimes = self.datetimes\n",
    "        \n",
    "        plt.title(f\"random path (sig={self.sig*100:.0f}%, mu={self.mu*100:.0f}%, N={self.N})\")\n",
    "        plt.xlabel(\"time\")\n",
    "        plt.ylabel(\"spot\")\n",
    "        plt.plot(datetimes, path)\n",
    "        plt.grid()\n",
    "    \n",
    "    def _datetime_r(self, startdt=None):\n",
    "        \"\"\"\n",
    "        generates a datetime range\n",
    "        \n",
    "        :startdt:    either a datetime object, or tuple (day, month, year)\n",
    "        \"\"\"\n",
    "        if startdt is None: startdt = self.DEFAULTS[\"startdt\"]\n",
    "        if not isinstance(startdt, _datetime):\n",
    "            if not len(startdt) == 3:\n",
    "                raise ValueError(\"startdate must be a tuple of lenght 3\", startdt)\n",
    "            startdt = _datetime(*startdt)\n",
    "        return np.array([startdt+i*self.dt_td for i in range(self.N+1)])\n",
    "    \n",
    "    @staticmethod\n",
    "    def vec2ar(paths):\n",
    "        \"\"\"concatenates list of vectors into a single numpy array\"\"\"\n",
    "        return np.concatenate([p.reshape(-1,1) for p in paths], axis=1)\n",
    "    \n",
    "    def pathdf(self, numpaths=None, colname=None):\n",
    "        \"\"\"\n",
    "        generate a pandas dataframe with newly generated paths\n",
    "        \n",
    "        :numpaths:    number of paths to generate\n",
    "        :colname:     column name (format string; {i} is the path index)\n",
    "        \"\"\"\n",
    "        \n",
    "        if numpaths is None: numpaths = self.DEFAULTS[\"numpaths\"]\n",
    "        if colname is None: colname = self.DEFAULTS[\"colname\"]\n",
    "        \n",
    "        paths = [self.path() for _ in range(numpaths)]\n",
    "        df0 = pd.DataFrame(data=self.vec2ar([self.times, self.datetimes]), columns=[\"time\", \"datetime\"])\n",
    "        df1 = pd.DataFrame(data=self.vec2ar(paths), columns=[colname.format(i=i) for i in range(len(paths))])\n",
    "        df = pd.concat([df0, df1], axis=1)\n",
    "        return df\n",
    "    \n",
    "    def __call__(self):\n",
    "        \"\"\"\n",
    "        alias for path\n",
    "        \"\"\"\n",
    "        return self.path()\n",
    "    \n",
    "path = PathGenerator().path(plot=True)"
   ]
  },
  {
   "cell_type": "markdown",
   "id": "3e985942",
   "metadata": {},
   "source": [
    "## Data generation"
   ]
  },
  {
   "cell_type": "code",
   "execution_count": 12,
   "id": "7925ec52",
   "metadata": {},
   "outputs": [
    {
     "name": "stdout",
     "output_type": "stream",
     "text": [
      "Not generating paths\n"
     ]
    }
   ],
   "source": [
    "if not FILENAME is None:\n",
    "    print(\"Generating paths\")\n",
    "    for sig in (0.05, 0.1, 0.2, 0.5, 0.75, 1):\n",
    "        df = PathGenerator(sig=sig).pathdf(1000)\n",
    "        df.to_csv(FILENAME(sig=sig, mu=0)+\".csv.gz\", index=False, compression=\"gzip\")\n",
    "        #df.to_csv(FILENAME(sig=sig, mu=0)+\".csv\", index=False)\n",
    "        df.to_pickle(FILENAME(sig=sig, mu=0)+\".pickle\")\n",
    "else:\n",
    "    print(\"Not generating paths\")"
   ]
  },
  {
   "cell_type": "code",
   "execution_count": 13,
   "id": "cebab17a",
   "metadata": {},
   "outputs": [
    {
     "name": "stdout",
     "output_type": "stream",
     "text": [
      "RANPTH-00500-0000.pickle RANPTH-02000-0000.pickle RANPTH-07500-0000.pickle\r\n",
      "RANPTH-01000-0000.pickle RANPTH-05000-0000.pickle RANPTH-10000-0000.pickle\r\n"
     ]
    }
   ],
   "source": [
    "!ls *.pickle"
   ]
  },
  {
   "cell_type": "code",
   "execution_count": 14,
   "id": "53ab8a47",
   "metadata": {},
   "outputs": [
    {
     "name": "stdout",
     "output_type": "stream",
     "text": [
      "RANPTH-00500-0000.csv.gz RANPTH-02000-0000.csv.gz RANPTH-07500-0000.csv.gz\r\n",
      "RANPTH-01000-0000.csv.gz RANPTH-05000-0000.csv.gz RANPTH-10000-0000.csv.gz\r\n"
     ]
    }
   ],
   "source": [
    "!ls *.csv.gz"
   ]
  },
  {
   "cell_type": "code",
   "execution_count": 15,
   "id": "31c01af6",
   "metadata": {},
   "outputs": [
    {
     "name": "stdout",
     "output_type": "stream",
     "text": [
      "zsh:1: no matches found: *.csv\r\n"
     ]
    }
   ],
   "source": [
    "!ls *.csv"
   ]
  },
  {
   "cell_type": "markdown",
   "id": "fba03b35",
   "metadata": {},
   "source": [
    "## Data retrieval examples"
   ]
  },
  {
   "cell_type": "code",
   "execution_count": 16,
   "id": "840d5b52",
   "metadata": {},
   "outputs": [],
   "source": [
    "fn = \"RANPTH-05000-0000.pickle\""
   ]
  },
  {
   "cell_type": "code",
   "execution_count": 17,
   "id": "46d87086",
   "metadata": {},
   "outputs": [],
   "source": [
    "#pd.read_csv(fn)"
   ]
  },
  {
   "cell_type": "code",
   "execution_count": 18,
   "id": "284172fb",
   "metadata": {},
   "outputs": [],
   "source": [
    "#pdread(fn)"
   ]
  },
  {
   "cell_type": "code",
   "execution_count": 19,
   "id": "3c4c2638",
   "metadata": {},
   "outputs": [
    {
     "data": {
      "text/plain": [
       "Index(['p0000', 'p0001', 'p0002', 'p0003', 'p0004', 'p0005', 'p0006', 'p0007',\n",
       "       'p0008', 'p0009',\n",
       "       ...\n",
       "       'p0990', 'p0991', 'p0992', 'p0993', 'p0994', 'p0995', 'p0996', 'p0997',\n",
       "       'p0998', 'p0999'],\n",
       "      dtype='object', length=1000)"
      ]
     },
     "execution_count": 19,
     "metadata": {},
     "output_type": "execute_result"
    }
   ],
   "source": [
    "pdcols(fn)"
   ]
  },
  {
   "cell_type": "code",
   "execution_count": 20,
   "id": "b80b0cba",
   "metadata": {},
   "outputs": [
    {
     "data": {
      "text/plain": [
       "datetime\n",
       "2020-01-01 00:00:00    100.000000\n",
       "2020-01-04 15:39:36     99.108220\n",
       "2020-01-08 07:19:12     99.597403\n",
       "2020-01-11 22:58:48     96.585946\n",
       "2020-01-15 14:38:24     98.135103\n",
       "                          ...    \n",
       "2020-12-16 15:21:36     83.516513\n",
       "2020-12-20 07:01:12     92.398691\n",
       "2020-12-23 22:40:48     92.676844\n",
       "2020-12-27 14:20:24     92.100810\n",
       "2020-12-31 06:00:00     86.559263\n",
       "Name: p0000, Length: 101, dtype: float64"
      ]
     },
     "execution_count": 20,
     "metadata": {},
     "output_type": "execute_result"
    }
   ],
   "source": [
    "pdread(fn, \"p0000\")"
   ]
  },
  {
   "cell_type": "code",
   "execution_count": 21,
   "id": "cd53e548",
   "metadata": {},
   "outputs": [
    {
     "data": {
      "text/plain": [
       "datetime\n",
       "2020-01-01 00:00:00    100.000000\n",
       "2020-01-04 15:39:36     99.108220\n",
       "2020-01-08 07:19:12     99.597403\n",
       "2020-01-11 22:58:48     96.585946\n",
       "2020-01-15 14:38:24     98.135103\n",
       "                          ...    \n",
       "2020-12-16 15:21:36     83.516513\n",
       "2020-12-20 07:01:12     92.398691\n",
       "2020-12-23 22:40:48     92.676844\n",
       "2020-12-27 14:20:24     92.100810\n",
       "2020-12-31 06:00:00     86.559263\n",
       "Name: p0000, Length: 101, dtype: float64"
      ]
     },
     "execution_count": 21,
     "metadata": {},
     "output_type": "execute_result"
    }
   ],
   "source": [
    "ser = pdread(fn, 0)\n",
    "ser"
   ]
  },
  {
   "cell_type": "code",
   "execution_count": 25,
   "id": "55ffaf57",
   "metadata": {},
   "outputs": [
    {
     "data": {
      "text/plain": [
       "Timestamp('2020-01-01 00:00:00')"
      ]
     },
     "execution_count": 25,
     "metadata": {},
     "output_type": "execute_result"
    }
   ],
   "source": [
    "ser.index[0]"
   ]
  },
  {
   "cell_type": "code",
   "execution_count": 24,
   "id": "18f5ba3f",
   "metadata": {},
   "outputs": [
    {
     "data": {
      "text/plain": [
       "Timedelta('1 days 00:00:00')"
      ]
     },
     "execution_count": 24,
     "metadata": {},
     "output_type": "execute_result"
    }
   ],
   "source": [
    "pd.Timedelta(days=1)"
   ]
  },
  {
   "cell_type": "code",
   "execution_count": 26,
   "id": "93e393e4",
   "metadata": {},
   "outputs": [
    {
     "data": {
      "text/plain": [
       "Timedelta('365 days 06:00:00')"
      ]
     },
     "execution_count": 26,
     "metadata": {},
     "output_type": "execute_result"
    }
   ],
   "source": [
    "ser.index[-1]-ser.index[0]"
   ]
  },
  {
   "cell_type": "code",
   "execution_count": 27,
   "id": "556ddfc4",
   "metadata": {},
   "outputs": [
    {
     "data": {
      "text/plain": [
       "365.25"
      ]
     },
     "execution_count": 27,
     "metadata": {},
     "output_type": "execute_result"
    }
   ],
   "source": [
    "(ser.index[-1]-ser.index[0])/pd.Timedelta(days=1)"
   ]
  },
  {
   "cell_type": "code",
   "execution_count": null,
   "id": "ff09cb28",
   "metadata": {},
   "outputs": [],
   "source": []
  }
 ],
 "metadata": {
  "jupytext": {
   "formats": "ipynb,py:light"
  },
  "kernelspec": {
   "display_name": "Python 3",
   "language": "python",
   "name": "python3"
  },
  "language_info": {
   "codemirror_mode": {
    "name": "ipython",
    "version": 3
   },
   "file_extension": ".py",
   "mimetype": "text/x-python",
   "name": "python",
   "nbconvert_exporter": "python",
   "pygments_lexer": "ipython3",
   "version": "3.8.8"
  }
 },
 "nbformat": 4,
 "nbformat_minor": 5
}
