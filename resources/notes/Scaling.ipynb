{
 "cells": [
  {
   "cell_type": "code",
   "execution_count": 2,
   "id": "98bd6272-8372-4367-8930-86fc24cc7957",
   "metadata": {},
   "outputs": [],
   "source": [
    "from math import *\n",
    "import numpy as np\n",
    "from matplotlib import pyplot as plt\n",
    "from collections import namedtuple as nt"
   ]
  },
  {
   "cell_type": "markdown",
   "id": "b8893a85-53a2-4d4d-9385-33d39db7ccb9",
   "metadata": {},
   "source": [
    "## Floating point storage\n",
    "\n",
    "When storing A, B the issue is not that much the number of bits we need for any given curve: we have 64 bits which corresponds to 10^10 which is more than enough to cover all possible prices of a given pair. The problem arises when we want to cover _all possible pair_, especially in a crypto world where prices need to be scaled with 10^ddec where ddec is the difference in decimals between the two tokens. Decimal values can go from 0 to 24, with the core range being from 6 to 18, so this factor can be from 10^12 to 10^24 in the worst case.\n",
    "\n",
    "In order to store only the scaling factors we need at least 40 bit (18/6) and at worst 80 bit (24/0) case. On top of this we need at least 16 bit for the actual price (10^5), but better 25 bit (10^7). On the face of it this means that we need at least 56-65 bit [which is why we are borderline right now, with 64 bit], but in order to be safe for all edge cases we need 96-115 bit.\n",
    "\n",
    "However, in reality this is not the case. The reason for this is **that it is not optimal to store the scaling factor as a standard int; instead the exponent should be stored.** As a reminder our scaling factor had to cover 2^0 to 2^80 in the worst case scenario, so 6 bit is a bit tight, but 7 or 8 bit is ample to cover all possible scaling factors and more.\n"
   ]
  },
  {
   "cell_type": "code",
   "execution_count": 15,
   "id": "2f6d559e-8381-4199-af4a-7994fbfd1fd9",
   "metadata": {},
   "outputs": [
    {
     "data": {
      "text/plain": [
       "(18446744073709551616, 19.265919722494797)"
      ]
     },
     "execution_count": 15,
     "metadata": {},
     "output_type": "execute_result"
    }
   ],
   "source": [
    "2**64, log10(2**64)"
   ]
  },
  {
   "cell_type": "code",
   "execution_count": 16,
   "id": "010e10b2-57fd-473f-ada4-3f1e9fc5cf0a",
   "metadata": {},
   "outputs": [
    {
     "data": {
      "text/plain": [
       "(39.86313713864835,\n",
       " 79.7262742772967,\n",
       " 16.609640474436812,\n",
       " 23.253496664211536,\n",
       " 6.321928094887363)"
      ]
     },
     "execution_count": 16,
     "metadata": {},
     "output_type": "execute_result"
    }
   ],
   "source": [
    "log2(10**12), log2(10**24), log2(10**5), log2(10**7), log2(80)"
   ]
  },
  {
   "cell_type": "code",
   "execution_count": 25,
   "id": "36fb58e9-5f87-44ec-8311-a6ae9f740419",
   "metadata": {},
   "outputs": [],
   "source": [
    "def scaling_factor_from_store(a, aexp):\n",
    "    \"\"\"returns scaling factor based on a and exponent aexp\"\"\"\n",
    "    return a << aexp"
   ]
  },
  {
   "cell_type": "code",
   "execution_count": 26,
   "id": "95af685b-9a6a-4d4f-a58f-baf7b75aa36d",
   "metadata": {},
   "outputs": [
    {
     "data": {
      "text/plain": [
       "505675776"
      ]
     },
     "execution_count": 26,
     "metadata": {},
     "output_type": "execute_result"
    }
   ],
   "source": [
    "scaling_factor_from_store(123456, 12)"
   ]
  },
  {
   "cell_type": "markdown",
   "id": "d4e5ca87-4e9e-4f5d-bac6-72f50ae5021f",
   "metadata": {},
   "source": [
    "## Separating scaling factor from price\n",
    "\n",
    "In fact, it is even better to keep the scaling factor and the price value separate, for reasons we are about to explain. Remember that the equation we want to compute trading **by source** is\n",
    "\n",
    "$$\n",
    "\\Delta x =  \\frac{\\Delta y\\,(Ay+Bz)^2}{\\Delta y\\, A(Ay+Bz)+z^2} \n",
    "$$\n",
    "\n",
    "Because we can only use int values we use $A = a/s, B = b/s$ where the scaling factor is currently $s=2^{32}$. This yields\n",
    "\n",
    "$$\n",
    "\\Delta x = \\frac 1 {s^2} \\cdot \\frac{\\Delta y\\, (ay+bz)^2}{\\Delta y\\, a(ay+bz)+z^2 s^2} \n",
    "$$\n",
    "\n",
    "For reference, the equation trading **by target** is\n",
    "\n",
    "$$\n",
    "\\Delta y = \\frac{\\Delta x\\, s^2 z^2}{(ay+bz)(ay+bz+a\\Delta x)} \n",
    "$$\n",
    "\n",
    "The art here is now choosing an $s$ such that those equations neither overflow (at 256 bit) because the numbers are too big, nor lose precision because the numbers are too small. Currently we are choosing a single $s$ that is meant to match all possible situations, which is hard. However, most of the parameters either don't change at all ($A,B$) or very rarely, and only in a predictable and limited manner ($z$, when the curve is expanded) or are at least bounded ($y, \\Delta x, \\Delta y$). Therefore **it should be possible to provide and optimised value of $s$ for a specific curve that performs significantly better than a single value of $s$ that is meant to perform across all curves.**\n",
    "\n",
    "One thing we need to consider is that -- given the scaling factor is the baseline -- we want to be able go both ways, bigger or smaller. As a reminder: the purpose is to represent `sqrt(B)*s` where $s=2^k$ and B can be smaller or bigger than unity. Let's assume we allocate 40 bits to our base number. This gives us a range of 10^10, but we can of course extend it. In order to be symmetric about unity we defined our new parameters as follows\n",
    "\n",
    "$$\n",
    "B = b_0 \\cdot 2^{-k-10}\n",
    "$$\n",
    "\n",
    "which can be reverse to \n",
    "\n",
    "$$\n",
    "b_0 = B \\cdot 2^{k+10}\n",
    "$$\n"
   ]
  },
  {
   "cell_type": "code",
   "execution_count": 120,
   "id": "a9d68d62-3c94-4f43-96c2-97315574f9e3",
   "metadata": {},
   "outputs": [
    {
     "data": {
      "text/plain": [
       "(1099511627776, 12.041199826559248)"
      ]
     },
     "execution_count": 120,
     "metadata": {},
     "output_type": "execute_result"
    }
   ],
   "source": [
    "2**40, log10(2**40)"
   ]
  },
  {
   "cell_type": "code",
   "execution_count": 85,
   "id": "3624b92b-bcb9-4282-8359-3d2f0319ec3b",
   "metadata": {},
   "outputs": [],
   "source": [
    "n_bks = nt(\"r\", \"B, b0, k, s\")\n",
    "def b0(B, k):\n",
    "    \"\"\"calculates b0 as function of B and the scaling exponent k\"\"\"\n",
    "    b0 = int(B * 2**(k+20))\n",
    "    return n_bks(B, b0, k, 1<<k)\n",
    "\n",
    "def B(b0, k):\n",
    "    \"\"\"calculates B as function of b0 and scaling exponent k\"\"\"\n",
    "    B = int(b0) * 2**(-k-20)\n",
    "    return n_bks(B, b0, k, 1<<k)"
   ]
  },
  {
   "cell_type": "code",
   "execution_count": 122,
   "id": "04f06680-2dcd-484a-b404-f89cb55f015f",
   "metadata": {},
   "outputs": [
    {
     "data": {
      "text/plain": [
       "r(B=0.1103515625, b0=113, k=0, s=1)"
      ]
     },
     "execution_count": 122,
     "metadata": {},
     "output_type": "execute_result"
    }
   ],
   "source": [
    "b0_ = b0(1/9, 0)\n",
    "B(b0_.b0, b0_.k)"
   ]
  },
  {
   "cell_type": "code",
   "execution_count": 123,
   "id": "50dec31d-7b6b-4699-94c8-99462336bae4",
   "metadata": {},
   "outputs": [
    {
     "data": {
      "text/plain": [
       "r(B=0.11111068725585938, b0=116508, k=10, s=1024)"
      ]
     },
     "execution_count": 123,
     "metadata": {},
     "output_type": "execute_result"
    }
   ],
   "source": [
    "b0_ = b0(1/9, 10)\n",
    "B(b0_.b0, b0_.k)"
   ]
  },
  {
   "cell_type": "code",
   "execution_count": 124,
   "id": "de9c0432-8861-4cc9-ae08-0c14680ecc4a",
   "metadata": {},
   "outputs": [
    {
     "data": {
      "text/plain": [
       "r(B=0.11111111109494232, b0=3817748707, k=25, s=33554432)"
      ]
     },
     "execution_count": 124,
     "metadata": {},
     "output_type": "execute_result"
    }
   ],
   "source": [
    "b0_ = b0(1/9, 25)\n",
    "B(b0_.b0, b0_.k)"
   ]
  },
  {
   "cell_type": "code",
   "execution_count": 125,
   "id": "aed8f0af-9419-43c0-92e1-b247ade817a4",
   "metadata": {},
   "outputs": [
    {
     "data": {
      "text/plain": [
       "r(B=0.1111111111111111, b0=288460936585268185572228898750464, k=101, s=2535301200456458802993406410752)"
      ]
     },
     "execution_count": 125,
     "metadata": {},
     "output_type": "execute_result"
    }
   ],
   "source": [
    "b0_ = b0(1/9, 101)\n",
    "B(b0_.b0, b0_.k)"
   ]
  },
  {
   "cell_type": "code",
   "execution_count": 118,
   "id": "b810251d-c147-43d8-b02f-613f471cfc5f",
   "metadata": {},
   "outputs": [
    {
     "data": {
      "image/png": "[encoded data removed]",
      "text/plain": [
       "<Figure size 432x288 with 1 Axes>"
      ]
     },
     "metadata": {
      "needs_background": "light"
     },
     "output_type": "display_data"
    }
   ],
   "source": [
    "k_r = tuple(range(10))\n",
    "for x in [0.1, 0.2, 0.21010101, 0.345563, log(2), 2.1]:\n",
    "    plt.plot(k_r, [B(b0(x, k).b0, k).B/x for k in k_r], label=f\"x={x}\")\n",
    "plt.yscale(\"log\")\n",
    "plt.legend()\n",
    "plt.grid()"
   ]
  },
  {
   "cell_type": "code",
   "execution_count": null,
   "id": "6ccc4522-c24d-44cd-8338-4ff434116ba5",
   "metadata": {},
   "outputs": [],
   "source": []
  }
 ],
 "metadata": {
  "kernelspec": {
   "display_name": "Python 3",
   "language": "python",
   "name": "python3"
  },
  "language_info": {
   "codemirror_mode": {
    "name": "ipython",
    "version": 3
   },
   "file_extension": ".py",
   "mimetype": "text/x-python",
   "name": "python",
   "nbconvert_exporter": "python",
   "pygments_lexer": "ipython3",
   "version": "3.8.8"
  }
 },
 "nbformat": 4,
 "nbformat_minor": 5
}
