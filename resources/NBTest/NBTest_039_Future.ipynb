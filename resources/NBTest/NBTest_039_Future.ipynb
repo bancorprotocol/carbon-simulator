{
 "cells": [
  {
   "cell_type": "code",
   "execution_count": 1,
   "id": "22b66169",
   "metadata": {},
   "outputs": [
    {
     "name": "stdout",
     "output_type": "stream",
     "text": [
      "Carbon v2.0-beta2 (8/Dec/2022)\n",
      "CarbonSimulatorUI v2.2 (8/Dec/2022)\n"
     ]
    }
   ],
   "source": [
    "from carbon import CarbonSimulatorUI, P, __version__, __date__\n",
    "print(f\"Carbon v{__version__} ({__date__})\")\n",
    "print(\"{0.__name__} v{0.__VERSION__} ({0.__DATE__})\".format(CarbonSimulatorUI))"
   ]
  },
  {
   "cell_type": "markdown",
   "id": "6d5bf947",
   "metadata": {},
   "source": [
    "# Carbon Simulation - Test 39 - Future"
   ]
  },
  {
   "cell_type": "markdown",
   "id": "e772af88",
   "metadata": {},
   "source": [
    "NBTEST: NOTEST_DEFAULT = TEST"
   ]
  },
  {
   "cell_type": "markdown",
   "id": "ec6ff430",
   "metadata": {},
   "source": [
    "## Future"
   ]
  },
  {
   "cell_type": "code",
   "execution_count": 2,
   "id": "c602b088",
   "metadata": {},
   "outputs": [],
   "source": [
    "#help(CarbonSimulatorUI)"
   ]
  },
  {
   "cell_type": "code",
   "execution_count": 3,
   "id": "587d0dae",
   "metadata": {},
   "outputs": [],
   "source": [
    "Sim = CarbonSimulatorUI()\n",
    "SimXF = CarbonSimulatorUI(exclude_future=True)\n",
    "SimIF = CarbonSimulatorUI(exclude_future=False)"
   ]
  },
  {
   "cell_type": "code",
   "execution_count": 4,
   "id": "a6ba0ab3",
   "metadata": {},
   "outputs": [],
   "source": [
    "assert(Sim.exclude_future==True)\n",
    "assert(SimXF.exclude_future==True)\n",
    "assert(SimIF.exclude_future==False)"
   ]
  },
  {
   "cell_type": "code",
   "execution_count": 5,
   "id": "f2d20b8c",
   "metadata": {},
   "outputs": [
    {
     "name": "stdout",
     "output_type": "stream",
     "text": [
      "Feature disabled (us `exclude_future = False` to enable)\n"
     ]
    }
   ],
   "source": [
    "try:\n",
    "    Sim._raise_if_future_restricted()\n",
    "except Sim.ExcludedFutureFunctionality as e:\n",
    "    print(e)\n",
    "    assert(str(e)==\"Feature disabled (us `exclude_future = False` to enable)\")"
   ]
  },
  {
   "cell_type": "code",
   "execution_count": 6,
   "id": "54c620e3",
   "metadata": {},
   "outputs": [
    {
     "name": "stdout",
     "output_type": "stream",
     "text": [
      "Feature disabled (us `exclude_future = False` to enable)\n"
     ]
    }
   ],
   "source": [
    "try:\n",
    "    SimXF._raise_if_future_restricted()\n",
    "except Sim.ExcludedFutureFunctionality as e:\n",
    "    print(e)\n",
    "    assert(str(e)==\"Feature disabled (us `exclude_future = False` to enable)\")"
   ]
  },
  {
   "cell_type": "code",
   "execution_count": 7,
   "id": "23760ff6",
   "metadata": {},
   "outputs": [],
   "source": [
    "assert(SimIF._raise_if_future_restricted()==None)"
   ]
  },
  {
   "cell_type": "code",
   "execution_count": null,
   "id": "650c3765",
   "metadata": {},
   "outputs": [],
   "source": []
  }
 ],
 "metadata": {
  "jupytext": {
   "formats": "ipynb,py:light"
  },
  "kernelspec": {
   "display_name": "Python 3",
   "language": "python",
   "name": "python3"
  },
  "language_info": {
   "codemirror_mode": {
    "name": "ipython",
    "version": 3
   },
   "file_extension": ".py",
   "mimetype": "text/x-python",
   "name": "python",
   "nbconvert_exporter": "python",
   "pygments_lexer": "ipython3",
   "version": "3.8.8"
  }
 },
 "nbformat": 4,
 "nbformat_minor": 5
}
