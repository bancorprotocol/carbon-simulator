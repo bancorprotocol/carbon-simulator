{
 "cells": [
  {
   "cell_type": "code",
   "execution_count": 1,
   "id": "655e6fab",
   "metadata": {
    "scrolled": true
   },
   "outputs": [
    {
     "name": "stdout",
     "output_type": "stream",
     "text": [
      "CryptoCompare v1.3 (30/Jan/2023)\n"
     ]
    }
   ],
   "source": [
    "from carbon.helpers.cryptocompare import CryptoCompare\n",
    "import pandas as pd\n",
    "from matplotlib import pyplot as plt\n",
    "import os\n",
    "print( \"{0.__name__} v{0.__VERSION__} ({0.__DATE__})\".format(CryptoCompare))"
   ]
  },
  {
   "cell_type": "markdown",
   "id": "1a8bd681",
   "metadata": {},
   "source": [
    "# Crypto Compare\n",
    "\n",
    "https://min-api.cryptocompare.com/documentation"
   ]
  },
  {
   "cell_type": "markdown",
   "id": "d2cb9e84",
   "metadata": {},
   "source": [
    "## SetUp\n",
    "\n",
    "If you have a private API key, run `export CCAPIKEY=<YOURKEY>` before you launch Jupyter on the same shell. In case no key is found the free API is used. You can also provide the API key in the constructor, but this is not recommended for security reasons."
   ]
  },
  {
   "cell_type": "code",
   "execution_count": 2,
   "id": "d37fb19e",
   "metadata": {
    "scrolled": true
   },
   "outputs": [
    {
     "name": "stdout",
     "output_type": "stream",
     "text": [
      "Can't find API key CCAPIKEY in environment variables.\n",
      "Use `export CCAPIKEY=<value>` to set it BEFORE you launch Jupyter\n",
      "[CryptoCompare] key digest 0000\n"
     ]
    }
   ],
   "source": [
    "try:\n",
    "    CC = CryptoCompare(apikeyname=\"CCAPIKEY\")\n",
    "except:\n",
    "    CC = CryptoCompare(apikey=True)\n",
    "\n",
    "print(\"[CryptoCompare] key digest\", CC.keydigest[:4])"
   ]
  },
  {
   "cell_type": "markdown",
   "id": "9bce1d7d",
   "metadata": {},
   "source": [
    "## Coin lists"
   ]
  },
  {
   "cell_type": "markdown",
   "id": "f4036c8e",
   "metadata": {},
   "source": [
    "Here we populate the various coin lists that we will use to download data. They are as follows:\n",
    "\n",
    "- `coins_for_ccy`, `ccies`: creates a table for each of the currencies \n",
    "- `coins_for_cross`: creates a single cross table\n",
    "- `usdstables`: creates a single table against USD\n",
    "\n",
    "We also define the list of items **not** to produce, `excludes`. Finally there is an `includes` list that, if present, specifies the _only_ items to be produced."
   ]
  },
  {
   "cell_type": "code",
   "execution_count": 3,
   "id": "bb5205b1",
   "metadata": {
    "scrolled": true
   },
   "outputs": [],
   "source": [
    "coins_for_ccy =\"ETH, BTC, BNB, XRP, ADA, DOGE, MATIC, SOL, OKB, DOT, LTC, TRX, AVAX, ATOM\"\n",
    "coins_for_cross =\"ETH, BTC, BNB, XRP, ADA, DOGE, MATIC, SOL, OKB, DOT, LTC, TRX, AVAX, ATOM\"\n",
    "usdstables = \"USDT, USDC, UST, BUSD\"\n",
    "ccies = \"USD, BTC, ETH\"\n",
    "\n",
    "#excludes = ['COINS-CROSS', 'STABLES-USD', 'COINS-USD', 'COINS-BTC', 'COINS-ETH']\n",
    "includes = [\"STABLES-USD\"]"
   ]
  },
  {
   "cell_type": "markdown",
   "id": "fe44fd9b",
   "metadata": {},
   "source": [
    "The table `dltable0` has as keys the filename, and the data is a tuple of pairs. The table `dltable` contains the final downloads, the difference being the `excludes` to avoid redownloading data that is not needed. \n",
    "\n",
    "**YOU MUST RESTART THE KERNEL IF YOU MAKE CHANGES TO INCLUDES OR EXCLUDES**."
   ]
  },
  {
   "cell_type": "code",
   "execution_count": 4,
   "id": "e3146187",
   "metadata": {
    "scrolled": true
   },
   "outputs": [
    {
     "name": "stdout",
     "output_type": "stream",
     "text": [
      "restricted execution to the pairs in `includes` ['STABLES-USD']\n"
     ]
    },
    {
     "data": {
      "text/plain": [
       "(dict_keys(['COINS-CROSS', 'STABLES-USD', 'COINS-USD', 'COINS-BTC', 'COINS-ETH']),\n",
       " dict_keys(['STABLES-USD']))"
      ]
     },
     "execution_count": 4,
     "metadata": {},
     "output_type": "execute_result"
    }
   ],
   "source": [
    "dltable0 = {\n",
    "    \"COINS-CROSS\": CC.create_pairs(coins_for_cross),\n",
    "    \"STABLES-USD\": CC.create_pairs(usdstables, \"USD\"),\n",
    "    **{\n",
    "        f\"COINS-{ccy}\": CC.create_pairs(coins_for_ccy, ccy)\n",
    "        for ccy in CC.coinlist(ccies)\n",
    "    }\n",
    "}\n",
    "try:\n",
    "    dltable = {k:v for k, v in dltable0.items() if k in includes}\n",
    "    print(\"restricted execution to the pairs in `includes`\", includes)\n",
    "except:\n",
    "    try:\n",
    "        dltable = {k:v for k, v in dltable0.items() if not k in excludes}\n",
    "        print(\"the items in `excludes` were excluded\", excludes)\n",
    "    except:\n",
    "        dltable = dltable0\n",
    "        print(\"no `includes` or `excludes` info present; all tables are being process\")\n",
    "dltable0.keys(), dltable.keys()"
   ]
  },
  {
   "cell_type": "markdown",
   "id": "a73ab046",
   "metadata": {},
   "source": [
    "## Data download"
   ]
  },
  {
   "cell_type": "markdown",
   "id": "a2736ecb",
   "metadata": {},
   "source": [
    "### Raw tables"
   ]
  },
  {
   "cell_type": "code",
   "execution_count": 5,
   "id": "a77ab1fb",
   "metadata": {},
   "outputs": [
    {
     "name": "stdout",
     "output_type": "stream",
     "text": [
      "Downloading raw table STABLES-USD 4\n",
      "[query] https://min-api.cryptocompare.com/data/v2/histoday {'fsym': 'USDT', 'tsym': 'USD', 'limit': 2000} [0000]\n",
      "[query] https://min-api.cryptocompare.com/data/v2/histoday {'fsym': 'USDC', 'tsym': 'USD', 'limit': 2000} [0000]\n",
      "[query] https://min-api.cryptocompare.com/data/v2/histoday {'fsym': 'UST', 'tsym': 'USD', 'limit': 2000} [0000]\n",
      "[query] https://min-api.cryptocompare.com/data/v2/histoday {'fsym': 'BUSD', 'tsym': 'USD', 'limit': 2000} [0000]\n"
     ]
    }
   ],
   "source": [
    "for item, pairs in dltable.items():\n",
    "    print(\"Downloading raw table\", item, len(pairs))\n",
    "    results = {\n",
    "        (fsym, tsym): CC.query_dailypair(fsym=fsym, tsym=tsym)\n",
    "        for fsym, tsym in pairs\n",
    "    }\n",
    "    df = pd.concat(results, axis=1)\n",
    "    df.to_pickle(CC.datafn(f\"{item}-RAW.pickle\"))"
   ]
  },
  {
   "cell_type": "code",
   "execution_count": 6,
   "id": "0d758174",
   "metadata": {
    "scrolled": true
   },
   "outputs": [
    {
     "name": "stdout",
     "output_type": "stream",
     "text": [
      "COINS-BTC-RAW.pickle      COINS-ETH.pickle          isoccy.csv\n",
      "COINS-BTC.pickle          COINS-USD-RAW.pickle      query_allexchanges.pickle\n",
      "COINS-CROSS-RAW.pickle    COINS-USD.pickle          query_coinlist.pickle\n",
      "COINS-CROSS.pickle        STABLES-USD-RAW.pickle    query_indexlist.pickle\n",
      "COINS-ETH-RAW.pickle      STABLES-USD.pickle\n"
     ]
    }
   ],
   "source": [
    "!ls cryptocompare"
   ]
  },
  {
   "cell_type": "markdown",
   "id": "fe548588",
   "metadata": {},
   "source": [
    "### Reformatted tables"
   ]
  },
  {
   "cell_type": "code",
   "execution_count": 7,
   "id": "8b50e8c7",
   "metadata": {
    "scrolled": true
   },
   "outputs": [
    {
     "name": "stdout",
     "output_type": "stream",
     "text": [
      "Converting raw table STABLES-USD\n"
     ]
    }
   ],
   "source": [
    "for item in dltable:\n",
    "    print(\"Converting raw table\", item)\n",
    "    df = pd.read_pickle(CC.datafn(f\"{item}-RAW.pickle\"))\n",
    "    df = CC.reformat_raw_df(df)\n",
    "    df.to_pickle(CC.datafn(f\"{item}.pickle\"))"
   ]
  },
  {
   "cell_type": "markdown",
   "id": "23a9418f",
   "metadata": {},
   "source": [
    "## Review tables"
   ]
  },
  {
   "cell_type": "code",
   "execution_count": 8,
   "id": "9acd40c5",
   "metadata": {
    "scrolled": true
   },
   "outputs": [
    {
     "name": "stdout",
     "output_type": "stream",
     "text": [
      "COINS-BTC-RAW.pickle      COINS-ETH.pickle          isoccy.csv\n",
      "COINS-BTC.pickle          COINS-USD-RAW.pickle      query_allexchanges.pickle\n",
      "COINS-CROSS-RAW.pickle    COINS-USD.pickle          query_coinlist.pickle\n",
      "COINS-CROSS.pickle        STABLES-USD-RAW.pickle    query_indexlist.pickle\n",
      "COINS-ETH-RAW.pickle      STABLES-USD.pickle\n"
     ]
    }
   ],
   "source": [
    "!ls cryptocompare"
   ]
  },
  {
   "cell_type": "code",
   "execution_count": 9,
   "id": "d8a03ef4",
   "metadata": {
    "scrolled": true
   },
   "outputs": [
    {
     "data": {
      "text/html": [
       "<div>\n",
       "<style scoped>\n",
       "    .dataframe tbody tr th:only-of-type {\n",
       "        vertical-align: middle;\n",
       "    }\n",
       "\n",
       "    .dataframe tbody tr th {\n",
       "        vertical-align: top;\n",
       "    }\n",
       "\n",
       "    .dataframe thead th {\n",
       "        text-align: right;\n",
       "    }\n",
       "</style>\n",
       "<table border=\"1\" class=\"dataframe\">\n",
       "  <thead>\n",
       "    <tr style=\"text-align: right;\">\n",
       "      <th></th>\n",
       "      <th>ETH/OKB</th>\n",
       "      <th>ATOM/DOGE</th>\n",
       "      <th>OKB/BNB</th>\n",
       "      <th>SOL/ADA</th>\n",
       "      <th>DOT/XRP</th>\n",
       "      <th>DOGE/BTC</th>\n",
       "      <th>LTC/XRP</th>\n",
       "      <th>DOGE/DOT</th>\n",
       "      <th>SOL/DOT</th>\n",
       "      <th>ETH/SOL</th>\n",
       "      <th>...</th>\n",
       "      <th>ADA/XRP</th>\n",
       "      <th>SOL/XRP</th>\n",
       "      <th>LTC/ETH</th>\n",
       "      <th>LTC/DOGE</th>\n",
       "      <th>AVAX/BTC</th>\n",
       "      <th>AVAX/DOT</th>\n",
       "      <th>AVAX/ADA</th>\n",
       "      <th>SOL/BTC</th>\n",
       "      <th>BNB/BTC</th>\n",
       "      <th>ATOM/ETH</th>\n",
       "    </tr>\n",
       "    <tr>\n",
       "      <th>datetime</th>\n",
       "      <th></th>\n",
       "      <th></th>\n",
       "      <th></th>\n",
       "      <th></th>\n",
       "      <th></th>\n",
       "      <th></th>\n",
       "      <th></th>\n",
       "      <th></th>\n",
       "      <th></th>\n",
       "      <th></th>\n",
       "      <th></th>\n",
       "      <th></th>\n",
       "      <th></th>\n",
       "      <th></th>\n",
       "      <th></th>\n",
       "      <th></th>\n",
       "      <th></th>\n",
       "      <th></th>\n",
       "      <th></th>\n",
       "      <th></th>\n",
       "      <th></th>\n",
       "    </tr>\n",
       "  </thead>\n",
       "  <tbody>\n",
       "    <tr>\n",
       "      <th>2017-08-09</th>\n",
       "      <td>0.00</td>\n",
       "      <td>0.00</td>\n",
       "      <td>0.0000</td>\n",
       "      <td>0.00</td>\n",
       "      <td>0.00</td>\n",
       "      <td>5.800000e-07</td>\n",
       "      <td>258.48</td>\n",
       "      <td>0.00000</td>\n",
       "      <td>0.000</td>\n",
       "      <td>0.00</td>\n",
       "      <td>...</td>\n",
       "      <td>0.0000</td>\n",
       "      <td>0.00</td>\n",
       "      <td>0.16140</td>\n",
       "      <td>24568.97</td>\n",
       "      <td>0.000000</td>\n",
       "      <td>0.000</td>\n",
       "      <td>0.00</td>\n",
       "      <td>0.000000</td>\n",
       "      <td>0.00000</td>\n",
       "      <td>0.000000</td>\n",
       "    </tr>\n",
       "    <tr>\n",
       "      <th>2017-08-10</th>\n",
       "      <td>0.00</td>\n",
       "      <td>0.00</td>\n",
       "      <td>0.0000</td>\n",
       "      <td>0.00</td>\n",
       "      <td>0.00</td>\n",
       "      <td>5.500000e-07</td>\n",
       "      <td>259.18</td>\n",
       "      <td>0.00000</td>\n",
       "      <td>0.000</td>\n",
       "      <td>0.00</td>\n",
       "      <td>...</td>\n",
       "      <td>0.0000</td>\n",
       "      <td>0.00</td>\n",
       "      <td>0.15750</td>\n",
       "      <td>24909.09</td>\n",
       "      <td>0.000000</td>\n",
       "      <td>0.000</td>\n",
       "      <td>0.00</td>\n",
       "      <td>0.000000</td>\n",
       "      <td>0.00000</td>\n",
       "      <td>0.000000</td>\n",
       "    </tr>\n",
       "    <tr>\n",
       "      <th>2017-08-11</th>\n",
       "      <td>0.00</td>\n",
       "      <td>0.00</td>\n",
       "      <td>0.0000</td>\n",
       "      <td>0.00</td>\n",
       "      <td>0.00</td>\n",
       "      <td>5.100000e-07</td>\n",
       "      <td>264.00</td>\n",
       "      <td>0.00000</td>\n",
       "      <td>0.000</td>\n",
       "      <td>0.00</td>\n",
       "      <td>...</td>\n",
       "      <td>0.0000</td>\n",
       "      <td>0.00</td>\n",
       "      <td>0.15190</td>\n",
       "      <td>25235.29</td>\n",
       "      <td>0.000000</td>\n",
       "      <td>0.000</td>\n",
       "      <td>0.00</td>\n",
       "      <td>0.000000</td>\n",
       "      <td>0.00000</td>\n",
       "      <td>0.000000</td>\n",
       "    </tr>\n",
       "    <tr>\n",
       "      <th>2017-08-12</th>\n",
       "      <td>0.00</td>\n",
       "      <td>0.00</td>\n",
       "      <td>0.0000</td>\n",
       "      <td>0.00</td>\n",
       "      <td>0.00</td>\n",
       "      <td>4.700000e-07</td>\n",
       "      <td>268.49</td>\n",
       "      <td>0.00000</td>\n",
       "      <td>0.000</td>\n",
       "      <td>0.00</td>\n",
       "      <td>...</td>\n",
       "      <td>0.0000</td>\n",
       "      <td>0.00</td>\n",
       "      <td>0.14960</td>\n",
       "      <td>25340.43</td>\n",
       "      <td>0.000000</td>\n",
       "      <td>0.000</td>\n",
       "      <td>0.00</td>\n",
       "      <td>0.000000</td>\n",
       "      <td>0.00000</td>\n",
       "      <td>0.000000</td>\n",
       "    </tr>\n",
       "    <tr>\n",
       "      <th>2017-08-13</th>\n",
       "      <td>0.00</td>\n",
       "      <td>0.00</td>\n",
       "      <td>0.0000</td>\n",
       "      <td>0.00</td>\n",
       "      <td>0.00</td>\n",
       "      <td>4.400000e-07</td>\n",
       "      <td>273.24</td>\n",
       "      <td>0.00000</td>\n",
       "      <td>0.000</td>\n",
       "      <td>0.00</td>\n",
       "      <td>...</td>\n",
       "      <td>0.0000</td>\n",
       "      <td>0.00</td>\n",
       "      <td>0.15260</td>\n",
       "      <td>25318.18</td>\n",
       "      <td>0.000000</td>\n",
       "      <td>0.000</td>\n",
       "      <td>0.00</td>\n",
       "      <td>0.000000</td>\n",
       "      <td>0.00000</td>\n",
       "      <td>0.000000</td>\n",
       "    </tr>\n",
       "    <tr>\n",
       "      <th>...</th>\n",
       "      <td>...</td>\n",
       "      <td>...</td>\n",
       "      <td>...</td>\n",
       "      <td>...</td>\n",
       "      <td>...</td>\n",
       "      <td>...</td>\n",
       "      <td>...</td>\n",
       "      <td>...</td>\n",
       "      <td>...</td>\n",
       "      <td>...</td>\n",
       "      <td>...</td>\n",
       "      <td>...</td>\n",
       "      <td>...</td>\n",
       "      <td>...</td>\n",
       "      <td>...</td>\n",
       "      <td>...</td>\n",
       "      <td>...</td>\n",
       "      <td>...</td>\n",
       "      <td>...</td>\n",
       "      <td>...</td>\n",
       "      <td>...</td>\n",
       "    </tr>\n",
       "    <tr>\n",
       "      <th>2023-01-26</th>\n",
       "      <td>44.63</td>\n",
       "      <td>152.03</td>\n",
       "      <td>0.1178</td>\n",
       "      <td>64.08</td>\n",
       "      <td>15.80</td>\n",
       "      <td>3.750000e-06</td>\n",
       "      <td>213.71</td>\n",
       "      <td>0.01333</td>\n",
       "      <td>3.761</td>\n",
       "      <td>65.80</td>\n",
       "      <td>...</td>\n",
       "      <td>0.9275</td>\n",
       "      <td>59.44</td>\n",
       "      <td>0.05463</td>\n",
       "      <td>1014.40</td>\n",
       "      <td>0.000786</td>\n",
       "      <td>2.795</td>\n",
       "      <td>47.62</td>\n",
       "      <td>0.001058</td>\n",
       "      <td>0.01324</td>\n",
       "      <td>0.008180</td>\n",
       "    </tr>\n",
       "    <tr>\n",
       "      <th>2023-01-27</th>\n",
       "      <td>44.14</td>\n",
       "      <td>155.05</td>\n",
       "      <td>0.1175</td>\n",
       "      <td>62.74</td>\n",
       "      <td>15.93</td>\n",
       "      <td>3.780000e-06</td>\n",
       "      <td>215.20</td>\n",
       "      <td>0.01325</td>\n",
       "      <td>3.713</td>\n",
       "      <td>65.40</td>\n",
       "      <td>...</td>\n",
       "      <td>0.9430</td>\n",
       "      <td>59.16</td>\n",
       "      <td>0.05562</td>\n",
       "      <td>1019.05</td>\n",
       "      <td>0.000919</td>\n",
       "      <td>3.223</td>\n",
       "      <td>54.45</td>\n",
       "      <td>0.001059</td>\n",
       "      <td>0.01335</td>\n",
       "      <td>0.008463</td>\n",
       "    </tr>\n",
       "    <tr>\n",
       "      <th>2023-01-28</th>\n",
       "      <td>39.96</td>\n",
       "      <td>150.29</td>\n",
       "      <td>0.1285</td>\n",
       "      <td>62.87</td>\n",
       "      <td>15.75</td>\n",
       "      <td>3.820000e-06</td>\n",
       "      <td>220.10</td>\n",
       "      <td>0.01370</td>\n",
       "      <td>3.750</td>\n",
       "      <td>65.48</td>\n",
       "      <td>...</td>\n",
       "      <td>0.9368</td>\n",
       "      <td>58.89</td>\n",
       "      <td>0.05702</td>\n",
       "      <td>1020.42</td>\n",
       "      <td>0.000894</td>\n",
       "      <td>3.214</td>\n",
       "      <td>53.88</td>\n",
       "      <td>0.001043</td>\n",
       "      <td>0.01330</td>\n",
       "      <td>0.008404</td>\n",
       "    </tr>\n",
       "    <tr>\n",
       "      <th>2023-01-29</th>\n",
       "      <td>41.40</td>\n",
       "      <td>153.43</td>\n",
       "      <td>0.1254</td>\n",
       "      <td>65.59</td>\n",
       "      <td>15.99</td>\n",
       "      <td>3.790000e-06</td>\n",
       "      <td>229.33</td>\n",
       "      <td>0.01365</td>\n",
       "      <td>3.943</td>\n",
       "      <td>63.11</td>\n",
       "      <td>...</td>\n",
       "      <td>0.9610</td>\n",
       "      <td>63.03</td>\n",
       "      <td>0.05764</td>\n",
       "      <td>1054.09</td>\n",
       "      <td>0.000885</td>\n",
       "      <td>3.177</td>\n",
       "      <td>52.86</td>\n",
       "      <td>0.001098</td>\n",
       "      <td>0.01335</td>\n",
       "      <td>0.008394</td>\n",
       "    </tr>\n",
       "    <tr>\n",
       "      <th>2023-01-30</th>\n",
       "      <td>42.14</td>\n",
       "      <td>154.51</td>\n",
       "      <td>0.1228</td>\n",
       "      <td>63.73</td>\n",
       "      <td>15.70</td>\n",
       "      <td>3.690000e-06</td>\n",
       "      <td>229.52</td>\n",
       "      <td>0.01358</td>\n",
       "      <td>3.827</td>\n",
       "      <td>66.18</td>\n",
       "      <td>...</td>\n",
       "      <td>0.9436</td>\n",
       "      <td>60.14</td>\n",
       "      <td>0.05770</td>\n",
       "      <td>1073.64</td>\n",
       "      <td>0.000858</td>\n",
       "      <td>3.175</td>\n",
       "      <td>52.92</td>\n",
       "      <td>0.001035</td>\n",
       "      <td>0.01322</td>\n",
       "      <td>0.008311</td>\n",
       "    </tr>\n",
       "  </tbody>\n",
       "</table>\n",
       "<p>2001 rows × 182 columns</p>\n",
       "</div>"
      ],
      "text/plain": [
       "            ETH/OKB  ATOM/DOGE  OKB/BNB  SOL/ADA  DOT/XRP      DOGE/BTC  \\\n",
       "datetime                                                                  \n",
       "2017-08-09     0.00       0.00   0.0000     0.00     0.00  5.800000e-07   \n",
       "2017-08-10     0.00       0.00   0.0000     0.00     0.00  5.500000e-07   \n",
       "2017-08-11     0.00       0.00   0.0000     0.00     0.00  5.100000e-07   \n",
       "2017-08-12     0.00       0.00   0.0000     0.00     0.00  4.700000e-07   \n",
       "2017-08-13     0.00       0.00   0.0000     0.00     0.00  4.400000e-07   \n",
       "...             ...        ...      ...      ...      ...           ...   \n",
       "2023-01-26    44.63     152.03   0.1178    64.08    15.80  3.750000e-06   \n",
       "2023-01-27    44.14     155.05   0.1175    62.74    15.93  3.780000e-06   \n",
       "2023-01-28    39.96     150.29   0.1285    62.87    15.75  3.820000e-06   \n",
       "2023-01-29    41.40     153.43   0.1254    65.59    15.99  3.790000e-06   \n",
       "2023-01-30    42.14     154.51   0.1228    63.73    15.70  3.690000e-06   \n",
       "\n",
       "            LTC/XRP  DOGE/DOT  SOL/DOT  ETH/SOL  ...  ADA/XRP  SOL/XRP  \\\n",
       "datetime                                         ...                     \n",
       "2017-08-09   258.48   0.00000    0.000     0.00  ...   0.0000     0.00   \n",
       "2017-08-10   259.18   0.00000    0.000     0.00  ...   0.0000     0.00   \n",
       "2017-08-11   264.00   0.00000    0.000     0.00  ...   0.0000     0.00   \n",
       "2017-08-12   268.49   0.00000    0.000     0.00  ...   0.0000     0.00   \n",
       "2017-08-13   273.24   0.00000    0.000     0.00  ...   0.0000     0.00   \n",
       "...             ...       ...      ...      ...  ...      ...      ...   \n",
       "2023-01-26   213.71   0.01333    3.761    65.80  ...   0.9275    59.44   \n",
       "2023-01-27   215.20   0.01325    3.713    65.40  ...   0.9430    59.16   \n",
       "2023-01-28   220.10   0.01370    3.750    65.48  ...   0.9368    58.89   \n",
       "2023-01-29   229.33   0.01365    3.943    63.11  ...   0.9610    63.03   \n",
       "2023-01-30   229.52   0.01358    3.827    66.18  ...   0.9436    60.14   \n",
       "\n",
       "            LTC/ETH  LTC/DOGE  AVAX/BTC  AVAX/DOT  AVAX/ADA   SOL/BTC  \\\n",
       "datetime                                                                \n",
       "2017-08-09  0.16140  24568.97  0.000000     0.000      0.00  0.000000   \n",
       "2017-08-10  0.15750  24909.09  0.000000     0.000      0.00  0.000000   \n",
       "2017-08-11  0.15190  25235.29  0.000000     0.000      0.00  0.000000   \n",
       "2017-08-12  0.14960  25340.43  0.000000     0.000      0.00  0.000000   \n",
       "2017-08-13  0.15260  25318.18  0.000000     0.000      0.00  0.000000   \n",
       "...             ...       ...       ...       ...       ...       ...   \n",
       "2023-01-26  0.05463   1014.40  0.000786     2.795     47.62  0.001058   \n",
       "2023-01-27  0.05562   1019.05  0.000919     3.223     54.45  0.001059   \n",
       "2023-01-28  0.05702   1020.42  0.000894     3.214     53.88  0.001043   \n",
       "2023-01-29  0.05764   1054.09  0.000885     3.177     52.86  0.001098   \n",
       "2023-01-30  0.05770   1073.64  0.000858     3.175     52.92  0.001035   \n",
       "\n",
       "            BNB/BTC  ATOM/ETH  \n",
       "datetime                       \n",
       "2017-08-09  0.00000  0.000000  \n",
       "2017-08-10  0.00000  0.000000  \n",
       "2017-08-11  0.00000  0.000000  \n",
       "2017-08-12  0.00000  0.000000  \n",
       "2017-08-13  0.00000  0.000000  \n",
       "...             ...       ...  \n",
       "2023-01-26  0.01324  0.008180  \n",
       "2023-01-27  0.01335  0.008463  \n",
       "2023-01-28  0.01330  0.008404  \n",
       "2023-01-29  0.01335  0.008394  \n",
       "2023-01-30  0.01322  0.008311  \n",
       "\n",
       "[2001 rows x 182 columns]"
      ]
     },
     "execution_count": 9,
     "metadata": {},
     "output_type": "execute_result"
    }
   ],
   "source": [
    "df = pd.read_pickle(\"cryptocompare/COINS-ETH.pickle\")\n",
    "df = pd.read_pickle(\"cryptocompare/COINS-CROSS.pickle\")\n",
    "df"
   ]
  },
  {
   "cell_type": "code",
   "execution_count": null,
   "id": "ff2a8f1a",
   "metadata": {},
   "outputs": [],
   "source": []
  },
  {
   "cell_type": "code",
   "execution_count": null,
   "id": "4ed6a5f6",
   "metadata": {
    "lines_to_next_cell": 2
   },
   "outputs": [],
   "source": []
  }
 ],
 "metadata": {
  "jupytext": {
   "encoding": "# -*- coding: utf-8 -*-",
   "formats": "ipynb,py:light"
  },
  "kernelspec": {
   "display_name": "Python 3",
   "language": "python",
   "name": "python3"
  },
  "language_info": {
   "codemirror_mode": {
    "name": "ipython",
    "version": 3
   },
   "file_extension": ".py",
   "mimetype": "text/x-python",
   "name": "python",
   "nbconvert_exporter": "python",
   "pygments_lexer": "ipython3",
   "version": "3.8.8"
  }
 },
 "nbformat": 4,
 "nbformat_minor": 5
}
