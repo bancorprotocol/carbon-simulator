{
 "cells": [
  {
   "cell_type": "code",
   "execution_count": 49,
   "id": "655e6fab",
   "metadata": {
    "scrolled": true
   },
   "outputs": [
    {
     "name": "stdout",
     "output_type": "stream",
     "text": [
      "CryptoCompare v1.4 (01/Feb/2023)\n"
     ]
    }
   ],
   "source": [
    "from carbon.helpers.cryptocompare import CryptoCompare\n",
    "import pandas as pd\n",
    "from matplotlib import pyplot as plt\n",
    "import os\n",
    "print( \"{0.__name__} v{0.__VERSION__} ({0.__DATE__})\".format(CryptoCompare))"
   ]
  },
  {
   "cell_type": "markdown",
   "id": "1a8bd681",
   "metadata": {},
   "source": [
    "# Crypto Compare\n",
    "\n",
    "https://min-api.cryptocompare.com/documentation"
   ]
  },
  {
   "cell_type": "markdown",
   "id": "01e4f34f-ae8b-45b6-8a08-5bebb14611d9",
   "metadata": {},
   "source": [
    "## Selection\n",
    "\n",
    "Please enter the pairs for the `SELECTION` data collection below"
   ]
  },
  {
   "cell_type": "code",
   "execution_count": 50,
   "id": "fc6c0b9e-8184-414f-8611-c455071589fc",
   "metadata": {},
   "outputs": [],
   "source": [
    "selection = \"MIM/LTC, BNT/LINK, NMR/USD\"\n",
    "hourly = \"DAI/USDC, USDT/USDC, DAI/USDT, USDD/USDT, MIM/USDC, wstETH/ETH, cbETH/ETH, STETH/ETH, USDC/USDT, BTC/ETH, BTC/USD, ETH/USD\"\n",
    "hourly_unavailable = \"frxETH/ETH, rETH/ETH, ETH/sETH2\""
   ]
  },
  {
   "cell_type": "code",
   "execution_count": null,
   "id": "57e34189-6e7c-45ce-b8e7-c34cd03c2eaf",
   "metadata": {},
   "outputs": [],
   "source": []
  },
  {
   "cell_type": "code",
   "execution_count": 51,
   "id": "8182d272-bed5-4e36-8507-17537bcf3b08",
   "metadata": {},
   "outputs": [
    {
     "data": {
      "text/html": [
       "<div>\n",
       "<style scoped>\n",
       "    .dataframe tbody tr th:only-of-type {\n",
       "        vertical-align: middle;\n",
       "    }\n",
       "\n",
       "    .dataframe tbody tr th {\n",
       "        vertical-align: top;\n",
       "    }\n",
       "\n",
       "    .dataframe thead th {\n",
       "        text-align: right;\n",
       "    }\n",
       "</style>\n",
       "<table border=\"1\" class=\"dataframe\">\n",
       "  <thead>\n",
       "    <tr style=\"text-align: right;\">\n",
       "      <th></th>\n",
       "      <th>BNT/LINK</th>\n",
       "      <th>MIM/LTC</th>\n",
       "      <th>NMR/USD</th>\n",
       "    </tr>\n",
       "    <tr>\n",
       "      <th>datetime</th>\n",
       "      <th></th>\n",
       "      <th></th>\n",
       "      <th></th>\n",
       "    </tr>\n",
       "  </thead>\n",
       "  <tbody>\n",
       "    <tr>\n",
       "      <th>2017-08-11</th>\n",
       "      <td>0.0</td>\n",
       "      <td>0.0</td>\n",
       "      <td>34.72</td>\n",
       "    </tr>\n",
       "    <tr>\n",
       "      <th>2017-08-12</th>\n",
       "      <td>0.0</td>\n",
       "      <td>0.0</td>\n",
       "      <td>43.90</td>\n",
       "    </tr>\n",
       "    <tr>\n",
       "      <th>2017-08-13</th>\n",
       "      <td>0.0</td>\n",
       "      <td>0.0</td>\n",
       "      <td>36.76</td>\n",
       "    </tr>\n",
       "    <tr>\n",
       "      <th>2017-08-14</th>\n",
       "      <td>0.0</td>\n",
       "      <td>0.0</td>\n",
       "      <td>34.62</td>\n",
       "    </tr>\n",
       "    <tr>\n",
       "      <th>2017-08-15</th>\n",
       "      <td>0.0</td>\n",
       "      <td>0.0</td>\n",
       "      <td>31.30</td>\n",
       "    </tr>\n",
       "  </tbody>\n",
       "</table>\n",
       "</div>"
      ],
      "text/plain": [
       "            BNT/LINK  MIM/LTC  NMR/USD\n",
       "datetime                              \n",
       "2017-08-11       0.0      0.0    34.72\n",
       "2017-08-12       0.0      0.0    43.90\n",
       "2017-08-13       0.0      0.0    36.76\n",
       "2017-08-14       0.0      0.0    34.62\n",
       "2017-08-15       0.0      0.0    31.30"
      ]
     },
     "execution_count": 51,
     "metadata": {},
     "output_type": "execute_result"
    }
   ],
   "source": [
    "pd.read_pickle(\"cryptocompare/SELECTION.pickle\").head()"
   ]
  },
  {
   "cell_type": "code",
   "execution_count": 52,
   "id": "45055466-7b7a-42d4-93c6-2fea7fc6f4fb",
   "metadata": {},
   "outputs": [],
   "source": [
    "# !cp cryptocompare/SELECTION.pickle .\n",
    "# !cp cryptocompare/SELECTION.pickle ../../../JupyLiteCarbonSim/content/data\n",
    "# !cp cryptocompare/SELECTION.pickle ../../../BinderCarbonSimulator/Frozen/data"
   ]
  },
  {
   "cell_type": "markdown",
   "id": "d2cb9e84",
   "metadata": {},
   "source": [
    "## SetUp\n",
    "\n",
    "If you have a private API key, run `export CCAPIKEY=<YOURKEY>` before you launch Jupyter on the same shell. In case no key is found the free API is used. You can also provide the API key in the constructor, but this is not recommended for security reasons."
   ]
  },
  {
   "cell_type": "code",
   "execution_count": 53,
   "id": "d37fb19e",
   "metadata": {
    "scrolled": true
   },
   "outputs": [
    {
     "name": "stdout",
     "output_type": "stream",
     "text": [
      "Can't find API key CCAPIKEY in environment variables.\n",
      "Use `export CCAPIKEY=<value>` to set it BEFORE you launch Jupyter\n",
      "[CryptoCompare] key digest 0000\n"
     ]
    }
   ],
   "source": [
    "try:\n",
    "    CC = CryptoCompare(apikeyname=\"CCAPIKEY\")\n",
    "except:\n",
    "    CC = CryptoCompare(apikey=True)\n",
    "\n",
    "print(\"[CryptoCompare] key digest\", CC.keydigest[:4])"
   ]
  },
  {
   "cell_type": "markdown",
   "id": "9bce1d7d",
   "metadata": {},
   "source": [
    "## Coin lists"
   ]
  },
  {
   "cell_type": "markdown",
   "id": "f4036c8e",
   "metadata": {},
   "source": [
    "Here we populate the various coin lists that we will use to download data. They are as follows:\n",
    "\n",
    "- `coins_for_ccy`, `ccies`: creates a table for each of the currencies \n",
    "- `coins_for_cross`: creates a single cross table\n",
    "- `usdstables`: creates a single table against USD\n",
    "\n",
    "We also define the list of items **not** to produce, `excludes`. Finally there is an `includes` list that, if present, specifies the _only_ items to be produced."
   ]
  },
  {
   "cell_type": "code",
   "execution_count": 54,
   "id": "bb5205b1",
   "metadata": {
    "scrolled": true
   },
   "outputs": [],
   "source": [
    "coins_for_ccy =\"ETH, BTC, BNB, XRP, ADA, DOGE, MATIC, SOL, OKB, DOT, LTC, TRX, AVAX, ATOM\"\n",
    "coins_for_cross =\"ETH, BTC, BNB, XRP, ADA, DOGE, MATIC, SOL, OKB, DOT, LTC, TRX, AVAX, ATOM\"\n",
    "usdstables = \"USDT, USDC, UST, BUSD\"\n",
    "ccies = \"USD, BTC, ETH\"\n",
    "\n",
    "#excludes = ['COINS-CROSS', 'STABLES-USD', 'COINS-USD', 'COINS-BTC', 'COINS-ETH']\n",
    "includes = [\"HOURLY\"]"
   ]
  },
  {
   "cell_type": "markdown",
   "id": "fe44fd9b",
   "metadata": {},
   "source": [
    "The table `dltable0` has as keys the filename, and the data is a tuple of pairs. The table `dltable` contains the final downloads, the difference being the `excludes` to avoid redownloading data that is not needed. \n",
    "\n",
    "**YOU MUST RESTART THE KERNEL IF YOU MAKE CHANGES TO INCLUDES OR EXCLUDES**."
   ]
  },
  {
   "cell_type": "code",
   "execution_count": 55,
   "id": "e3146187",
   "metadata": {
    "scrolled": true
   },
   "outputs": [
    {
     "name": "stdout",
     "output_type": "stream",
     "text": [
      "restricted execution to the pairs in `includes` ['HOURLY']\n"
     ]
    },
    {
     "data": {
      "text/plain": [
       "(dict_keys(['COINS-CROSS', 'STABLES-USD', 'COINS-USD', 'COINS-BTC', 'COINS-ETH', 'SELECTION', 'HOURLY']),\n",
       " dict_keys(['HOURLY']))"
      ]
     },
     "execution_count": 55,
     "metadata": {},
     "output_type": "execute_result"
    }
   ],
   "source": [
    "dltable0 = {\n",
    "    \"COINS-CROSS\": (CC.create_pairs(coins_for_cross), CC.query_dailypair),\n",
    "    \"STABLES-USD\": (CC.create_pairs(usdstables, \"USD\"), CC.query_dailypair),\n",
    "    **{\n",
    "        f\"COINS-{ccy}\": (CC.create_pairs(coins_for_ccy, ccy), CC.query_dailypair)\n",
    "        for ccy in CC.coinlist(ccies)\n",
    "    },\n",
    "    \"SELECTION\": (CC.coinlist(selection, aspt=True), CC.query_dailypair),\n",
    "    \"HOURLY\": (CC.coinlist(hourly, aspt=True), CC.query_hourlypair),\n",
    "}\n",
    "try:\n",
    "    dltable = {k:v for k, v in dltable0.items() if k in includes}\n",
    "    print(\"restricted execution to the pairs in `includes`\", includes)\n",
    "except:\n",
    "    try:\n",
    "        dltable = {k:v for k, v in dltable0.items() if not k in excludes}\n",
    "        print(\"the items in `excludes` were excluded\", excludes)\n",
    "    except:\n",
    "        dltable = dltable0\n",
    "        print(\"no `includes` or `excludes` info present; all tables are being process\")\n",
    "dltable0.keys(), dltable.keys()"
   ]
  },
  {
   "cell_type": "markdown",
   "id": "a73ab046",
   "metadata": {},
   "source": [
    "## Data download"
   ]
  },
  {
   "cell_type": "markdown",
   "id": "a2736ecb",
   "metadata": {},
   "source": [
    "### Raw tables"
   ]
  },
  {
   "cell_type": "code",
   "execution_count": 56,
   "id": "a77ab1fb",
   "metadata": {},
   "outputs": [
    {
     "name": "stdout",
     "output_type": "stream",
     "text": [
      "Downloading raw table HOURLY 12\n",
      "[query] https://min-api.cryptocompare.com/data/v2/histohour {'fsym': 'DAI', 'tsym': 'USDC', 'limit': 2000} [0000]\n",
      "[query] https://min-api.cryptocompare.com/data/v2/histohour {'fsym': 'USDT', 'tsym': 'USDC', 'limit': 2000} [0000]\n",
      "[query] https://min-api.cryptocompare.com/data/v2/histohour {'fsym': 'DAI', 'tsym': 'USDT', 'limit': 2000} [0000]\n",
      "[query] https://min-api.cryptocompare.com/data/v2/histohour {'fsym': 'USDD', 'tsym': 'USDT', 'limit': 2000} [0000]\n",
      "[query] https://min-api.cryptocompare.com/data/v2/histohour {'fsym': 'MIM', 'tsym': 'USDC', 'limit': 2000} [0000]\n",
      "[query] https://min-api.cryptocompare.com/data/v2/histohour {'fsym': 'wstETH', 'tsym': 'ETH', 'limit': 2000} [0000]\n",
      "[query] https://min-api.cryptocompare.com/data/v2/histohour {'fsym': 'cbETH', 'tsym': 'ETH', 'limit': 2000} [0000]\n",
      "[query] https://min-api.cryptocompare.com/data/v2/histohour {'fsym': 'STETH', 'tsym': 'ETH', 'limit': 2000} [0000]\n",
      "[query] https://min-api.cryptocompare.com/data/v2/histohour {'fsym': 'USDC', 'tsym': 'USDT', 'limit': 2000} [0000]\n",
      "[query] https://min-api.cryptocompare.com/data/v2/histohour {'fsym': 'BTC', 'tsym': 'ETH', 'limit': 2000} [0000]\n",
      "[query] https://min-api.cryptocompare.com/data/v2/histohour {'fsym': 'BTC', 'tsym': 'USD', 'limit': 2000} [0000]\n",
      "[query] https://min-api.cryptocompare.com/data/v2/histohour {'fsym': 'ETH', 'tsym': 'USD', 'limit': 2000} [0000]\n"
     ]
    }
   ],
   "source": [
    "for item, val in dltable.items():\n",
    "    pairs, cc_query_f = val\n",
    "    print(\"Downloading raw table\", item, len(pairs))\n",
    "    results = {\n",
    "        #(fsym, tsym): CC.query_dailypair(fsym=fsym, tsym=tsym)\n",
    "        (fsym, tsym): cc_query_f(fsym=fsym, tsym=tsym)\n",
    "        for fsym, tsym in pairs\n",
    "    }\n",
    "    df = pd.concat(results, axis=1)\n",
    "    df.to_pickle(CC.datafn(f\"{item}-RAW.pickle\"))"
   ]
  },
  {
   "cell_type": "code",
   "execution_count": 57,
   "id": "0d758174",
   "metadata": {
    "scrolled": true
   },
   "outputs": [
    {
     "name": "stdout",
     "output_type": "stream",
     "text": [
      "COINS-BTC-RAW.pickle      COINS-USD-RAW.pickle      STABLES-USD-RAW.pickle\n",
      "COINS-BTC.pickle          COINS-USD.pickle          STABLES-USD.pickle\n",
      "COINS-CROSS-RAW.pickle    HOURLY-RAW.pickle         isoccy.csv\n",
      "COINS-CROSS.pickle        HOURLY.pickle             query_allexchanges.pickle\n",
      "COINS-ETH-RAW.pickle      SELECTION-RAW.pickle      query_coinlist.pickle\n",
      "COINS-ETH.pickle          SELECTION.pickle          query_indexlist.pickle\n"
     ]
    }
   ],
   "source": [
    "!ls cryptocompare"
   ]
  },
  {
   "cell_type": "markdown",
   "id": "fe548588",
   "metadata": {},
   "source": [
    "### Reformatted tables"
   ]
  },
  {
   "cell_type": "code",
   "execution_count": 58,
   "id": "8b50e8c7",
   "metadata": {
    "scrolled": true
   },
   "outputs": [
    {
     "name": "stdout",
     "output_type": "stream",
     "text": [
      "Converting raw table HOURLY\n"
     ]
    }
   ],
   "source": [
    "for item in dltable:\n",
    "    print(\"Converting raw table\", item)\n",
    "    df = pd.read_pickle(CC.datafn(f\"{item}-RAW.pickle\"))\n",
    "    df = CC.reformat_raw_df(df)\n",
    "    df.to_pickle(CC.datafn(f\"{item}.pickle\"))"
   ]
  },
  {
   "cell_type": "markdown",
   "id": "23a9418f",
   "metadata": {},
   "source": [
    "## Review tables"
   ]
  },
  {
   "cell_type": "code",
   "execution_count": 59,
   "id": "9acd40c5",
   "metadata": {
    "scrolled": true
   },
   "outputs": [
    {
     "name": "stdout",
     "output_type": "stream",
     "text": [
      "COINS-BTC-RAW.pickle      COINS-USD-RAW.pickle      STABLES-USD-RAW.pickle\n",
      "COINS-BTC.pickle          COINS-USD.pickle          STABLES-USD.pickle\n",
      "COINS-CROSS-RAW.pickle    HOURLY-RAW.pickle         isoccy.csv\n",
      "COINS-CROSS.pickle        HOURLY.pickle             query_allexchanges.pickle\n",
      "COINS-ETH-RAW.pickle      SELECTION-RAW.pickle      query_coinlist.pickle\n",
      "COINS-ETH.pickle          SELECTION.pickle          query_indexlist.pickle\n"
     ]
    }
   ],
   "source": [
    "!ls cryptocompare"
   ]
  },
  {
   "cell_type": "code",
   "execution_count": 60,
   "id": "d8a03ef4",
   "metadata": {
    "scrolled": true
   },
   "outputs": [
    {
     "data": {
      "text/html": [
       "<div>\n",
       "<style scoped>\n",
       "    .dataframe tbody tr th:only-of-type {\n",
       "        vertical-align: middle;\n",
       "    }\n",
       "\n",
       "    .dataframe tbody tr th {\n",
       "        vertical-align: top;\n",
       "    }\n",
       "\n",
       "    .dataframe thead th {\n",
       "        text-align: right;\n",
       "    }\n",
       "</style>\n",
       "<table border=\"1\" class=\"dataframe\">\n",
       "  <thead>\n",
       "    <tr style=\"text-align: right;\">\n",
       "      <th></th>\n",
       "      <th>DAI/USDC</th>\n",
       "      <th>cbETH/ETH</th>\n",
       "      <th>wstETH/ETH</th>\n",
       "      <th>DAI/USDT</th>\n",
       "      <th>BTC/USD</th>\n",
       "      <th>ETH/USD</th>\n",
       "      <th>STETH/ETH</th>\n",
       "      <th>USDD/USDT</th>\n",
       "      <th>USDC/USDT</th>\n",
       "      <th>BTC/ETH</th>\n",
       "      <th>MIM/USDC</th>\n",
       "      <th>USDT/USDC</th>\n",
       "    </tr>\n",
       "    <tr>\n",
       "      <th>datetime</th>\n",
       "      <th></th>\n",
       "      <th></th>\n",
       "      <th></th>\n",
       "      <th></th>\n",
       "      <th></th>\n",
       "      <th></th>\n",
       "      <th></th>\n",
       "      <th></th>\n",
       "      <th></th>\n",
       "      <th></th>\n",
       "      <th></th>\n",
       "      <th></th>\n",
       "    </tr>\n",
       "  </thead>\n",
       "  <tbody>\n",
       "    <tr>\n",
       "      <th>2022-12-16 11:00:00</th>\n",
       "      <td>0.9998</td>\n",
       "      <td>0.000</td>\n",
       "      <td>0.000</td>\n",
       "      <td>0.9998</td>\n",
       "      <td>17030.94</td>\n",
       "      <td>1213.35</td>\n",
       "      <td>0.9912</td>\n",
       "      <td>0.9788</td>\n",
       "      <td>1.0000</td>\n",
       "      <td>14.04</td>\n",
       "      <td>0.9922</td>\n",
       "      <td>1.0000</td>\n",
       "    </tr>\n",
       "    <tr>\n",
       "      <th>2022-12-16 12:00:00</th>\n",
       "      <td>0.9991</td>\n",
       "      <td>0.000</td>\n",
       "      <td>0.000</td>\n",
       "      <td>0.9990</td>\n",
       "      <td>17036.71</td>\n",
       "      <td>1213.67</td>\n",
       "      <td>0.9917</td>\n",
       "      <td>0.9865</td>\n",
       "      <td>1.0000</td>\n",
       "      <td>14.04</td>\n",
       "      <td>0.9918</td>\n",
       "      <td>1.0000</td>\n",
       "    </tr>\n",
       "    <tr>\n",
       "      <th>2022-12-16 13:00:00</th>\n",
       "      <td>0.9997</td>\n",
       "      <td>0.000</td>\n",
       "      <td>0.000</td>\n",
       "      <td>0.9997</td>\n",
       "      <td>16951.81</td>\n",
       "      <td>1208.26</td>\n",
       "      <td>0.9856</td>\n",
       "      <td>0.9787</td>\n",
       "      <td>1.0000</td>\n",
       "      <td>14.03</td>\n",
       "      <td>0.9905</td>\n",
       "      <td>1.0000</td>\n",
       "    </tr>\n",
       "    <tr>\n",
       "      <th>2022-12-16 14:00:00</th>\n",
       "      <td>0.9995</td>\n",
       "      <td>0.000</td>\n",
       "      <td>0.000</td>\n",
       "      <td>0.9990</td>\n",
       "      <td>17035.32</td>\n",
       "      <td>1214.95</td>\n",
       "      <td>0.9884</td>\n",
       "      <td>0.9800</td>\n",
       "      <td>0.9990</td>\n",
       "      <td>14.02</td>\n",
       "      <td>0.9466</td>\n",
       "      <td>1.0010</td>\n",
       "    </tr>\n",
       "    <tr>\n",
       "      <th>2022-12-16 15:00:00</th>\n",
       "      <td>0.9997</td>\n",
       "      <td>0.000</td>\n",
       "      <td>0.000</td>\n",
       "      <td>0.9995</td>\n",
       "      <td>16974.86</td>\n",
       "      <td>1204.05</td>\n",
       "      <td>0.9768</td>\n",
       "      <td>0.9803</td>\n",
       "      <td>1.0000</td>\n",
       "      <td>14.09</td>\n",
       "      <td>1.0020</td>\n",
       "      <td>1.0000</td>\n",
       "    </tr>\n",
       "    <tr>\n",
       "      <th>...</th>\n",
       "      <td>...</td>\n",
       "      <td>...</td>\n",
       "      <td>...</td>\n",
       "      <td>...</td>\n",
       "      <td>...</td>\n",
       "      <td>...</td>\n",
       "      <td>...</td>\n",
       "      <td>...</td>\n",
       "      <td>...</td>\n",
       "      <td>...</td>\n",
       "      <td>...</td>\n",
       "      <td>...</td>\n",
       "    </tr>\n",
       "    <tr>\n",
       "      <th>2023-03-09 15:00:00</th>\n",
       "      <td>0.9978</td>\n",
       "      <td>1.010</td>\n",
       "      <td>1.112</td>\n",
       "      <td>0.9990</td>\n",
       "      <td>21644.17</td>\n",
       "      <td>1533.72</td>\n",
       "      <td>0.9987</td>\n",
       "      <td>0.9997</td>\n",
       "      <td>1.0000</td>\n",
       "      <td>14.11</td>\n",
       "      <td>0.9768</td>\n",
       "      <td>1.0000</td>\n",
       "    </tr>\n",
       "    <tr>\n",
       "      <th>2023-03-09 16:00:00</th>\n",
       "      <td>0.9978</td>\n",
       "      <td>1.007</td>\n",
       "      <td>1.112</td>\n",
       "      <td>0.9990</td>\n",
       "      <td>21476.70</td>\n",
       "      <td>1526.36</td>\n",
       "      <td>0.9992</td>\n",
       "      <td>1.0010</td>\n",
       "      <td>1.0010</td>\n",
       "      <td>14.07</td>\n",
       "      <td>0.9943</td>\n",
       "      <td>0.9991</td>\n",
       "    </tr>\n",
       "    <tr>\n",
       "      <th>2023-03-09 17:00:00</th>\n",
       "      <td>0.9977</td>\n",
       "      <td>1.010</td>\n",
       "      <td>1.113</td>\n",
       "      <td>0.9990</td>\n",
       "      <td>21464.78</td>\n",
       "      <td>1528.90</td>\n",
       "      <td>0.9846</td>\n",
       "      <td>1.0000</td>\n",
       "      <td>0.9997</td>\n",
       "      <td>14.04</td>\n",
       "      <td>0.9846</td>\n",
       "      <td>1.0000</td>\n",
       "    </tr>\n",
       "    <tr>\n",
       "      <th>2023-03-09 18:00:00</th>\n",
       "      <td>0.9992</td>\n",
       "      <td>1.010</td>\n",
       "      <td>1.112</td>\n",
       "      <td>1.0020</td>\n",
       "      <td>21022.14</td>\n",
       "      <td>1506.03</td>\n",
       "      <td>0.9901</td>\n",
       "      <td>0.9991</td>\n",
       "      <td>1.0030</td>\n",
       "      <td>13.96</td>\n",
       "      <td>0.9731</td>\n",
       "      <td>0.9968</td>\n",
       "    </tr>\n",
       "    <tr>\n",
       "      <th>2023-03-09 19:00:00</th>\n",
       "      <td>0.9980</td>\n",
       "      <td>1.010</td>\n",
       "      <td>1.112</td>\n",
       "      <td>0.9980</td>\n",
       "      <td>20867.14</td>\n",
       "      <td>1490.81</td>\n",
       "      <td>1.0090</td>\n",
       "      <td>0.9989</td>\n",
       "      <td>1.0000</td>\n",
       "      <td>14.00</td>\n",
       "      <td>0.9940</td>\n",
       "      <td>1.0000</td>\n",
       "    </tr>\n",
       "  </tbody>\n",
       "</table>\n",
       "<p>2001 rows × 12 columns</p>\n",
       "</div>"
      ],
      "text/plain": [
       "                     DAI/USDC  cbETH/ETH  wstETH/ETH  DAI/USDT   BTC/USD  \\\n",
       "datetime                                                                   \n",
       "2022-12-16 11:00:00    0.9998      0.000       0.000    0.9998  17030.94   \n",
       "2022-12-16 12:00:00    0.9991      0.000       0.000    0.9990  17036.71   \n",
       "2022-12-16 13:00:00    0.9997      0.000       0.000    0.9997  16951.81   \n",
       "2022-12-16 14:00:00    0.9995      0.000       0.000    0.9990  17035.32   \n",
       "2022-12-16 15:00:00    0.9997      0.000       0.000    0.9995  16974.86   \n",
       "...                       ...        ...         ...       ...       ...   \n",
       "2023-03-09 15:00:00    0.9978      1.010       1.112    0.9990  21644.17   \n",
       "2023-03-09 16:00:00    0.9978      1.007       1.112    0.9990  21476.70   \n",
       "2023-03-09 17:00:00    0.9977      1.010       1.113    0.9990  21464.78   \n",
       "2023-03-09 18:00:00    0.9992      1.010       1.112    1.0020  21022.14   \n",
       "2023-03-09 19:00:00    0.9980      1.010       1.112    0.9980  20867.14   \n",
       "\n",
       "                     ETH/USD  STETH/ETH  USDD/USDT  USDC/USDT  BTC/ETH  \\\n",
       "datetime                                                                 \n",
       "2022-12-16 11:00:00  1213.35     0.9912     0.9788     1.0000    14.04   \n",
       "2022-12-16 12:00:00  1213.67     0.9917     0.9865     1.0000    14.04   \n",
       "2022-12-16 13:00:00  1208.26     0.9856     0.9787     1.0000    14.03   \n",
       "2022-12-16 14:00:00  1214.95     0.9884     0.9800     0.9990    14.02   \n",
       "2022-12-16 15:00:00  1204.05     0.9768     0.9803     1.0000    14.09   \n",
       "...                      ...        ...        ...        ...      ...   \n",
       "2023-03-09 15:00:00  1533.72     0.9987     0.9997     1.0000    14.11   \n",
       "2023-03-09 16:00:00  1526.36     0.9992     1.0010     1.0010    14.07   \n",
       "2023-03-09 17:00:00  1528.90     0.9846     1.0000     0.9997    14.04   \n",
       "2023-03-09 18:00:00  1506.03     0.9901     0.9991     1.0030    13.96   \n",
       "2023-03-09 19:00:00  1490.81     1.0090     0.9989     1.0000    14.00   \n",
       "\n",
       "                     MIM/USDC  USDT/USDC  \n",
       "datetime                                  \n",
       "2022-12-16 11:00:00    0.9922     1.0000  \n",
       "2022-12-16 12:00:00    0.9918     1.0000  \n",
       "2022-12-16 13:00:00    0.9905     1.0000  \n",
       "2022-12-16 14:00:00    0.9466     1.0010  \n",
       "2022-12-16 15:00:00    1.0020     1.0000  \n",
       "...                       ...        ...  \n",
       "2023-03-09 15:00:00    0.9768     1.0000  \n",
       "2023-03-09 16:00:00    0.9943     0.9991  \n",
       "2023-03-09 17:00:00    0.9846     1.0000  \n",
       "2023-03-09 18:00:00    0.9731     0.9968  \n",
       "2023-03-09 19:00:00    0.9940     1.0000  \n",
       "\n",
       "[2001 rows x 12 columns]"
      ]
     },
     "execution_count": 60,
     "metadata": {},
     "output_type": "execute_result"
    }
   ],
   "source": [
    "df = pd.read_pickle(\"cryptocompare/HOURLY.pickle\")\n",
    "df"
   ]
  },
  {
   "cell_type": "code",
   "execution_count": null,
   "id": "ff2a8f1a",
   "metadata": {},
   "outputs": [],
   "source": []
  },
  {
   "cell_type": "code",
   "execution_count": null,
   "id": "4ed6a5f6",
   "metadata": {
    "lines_to_next_cell": 2
   },
   "outputs": [],
   "source": []
  }
 ],
 "metadata": {
  "jupytext": {
   "encoding": "# -*- coding: utf-8 -*-",
   "formats": "ipynb,py:light"
  },
  "kernelspec": {
   "display_name": "Python 3",
   "language": "python",
   "name": "python3"
  },
  "language_info": {
   "codemirror_mode": {
    "name": "ipython",
    "version": 3
   },
   "file_extension": ".py",
   "mimetype": "text/x-python",
   "name": "python",
   "nbconvert_exporter": "python",
   "pygments_lexer": "ipython3",
   "version": "3.8.8"
  }
 },
 "nbformat": 4,
 "nbformat_minor": 5
}
