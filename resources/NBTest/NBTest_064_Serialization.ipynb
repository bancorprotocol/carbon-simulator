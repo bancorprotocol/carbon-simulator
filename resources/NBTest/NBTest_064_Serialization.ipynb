{
 "cells": [
  {
   "cell_type": "code",
   "execution_count": 1,
   "id": "c19d0663-ac37-4095-b6a3-18afcee2493c",
   "metadata": {},
   "outputs": [
    {
     "name": "stdout",
     "output_type": "stream",
     "text": [
      "[stdimports] imported np, pd, plt, os, sqrt, exp, log\n",
      "CPCContainer v2.5 (15/Apr/2023)\n",
      "CPCArbOptimizer v3.2 (16/Apr/2023)\n",
      "Carbon v2.4.2-BETA2 (09/Apr/2023)\n"
     ]
    }
   ],
   "source": [
    "from carbon.helpers.stdimports import *\n",
    "from carbon.tools.cpc import ConstantProductCurve as CPC, CPCContainer\n",
    "from carbon.tools.optimizer import CPCArbOptimizer, cp, time\n",
    "\n",
    "import json\n",
    "import time\n",
    "import pandas as pd\n",
    "import numpy as np\n",
    "from math import sqrt\n",
    "from matplotlib import pyplot as plt\n",
    "plt.style.use('seaborn-dark')\n",
    "plt.rcParams['figure.figsize'] = [12,6]\n",
    "\n",
    "print(\"{0.__name__} v{0.__VERSION__} ({0.__DATE__})\".format(CPCContainer))\n",
    "print(\"{0.__name__} v{0.__VERSION__} ({0.__DATE__})\".format(CPCArbOptimizer))\n",
    "print_version(require=\"2.4.2\")"
   ]
  },
  {
   "cell_type": "markdown",
   "id": "feaede6f-89cb-48d2-b929-cd523e56b1bb",
   "metadata": {},
   "source": [
    "# Serialization [NBTest030]"
   ]
  },
  {
   "cell_type": "markdown",
   "id": "b1e8566e-2b6d-4564-8c3d-534d968f3bf1",
   "metadata": {},
   "source": [
    "## Optimizer pickling [NOTEST]"
   ]
  },
  {
   "cell_type": "code",
   "execution_count": 2,
   "id": "8cb4f9bc-2f31-4eae-b77f-533aa188e49b",
   "metadata": {},
   "outputs": [
    {
     "data": {
      "text/html": [
       "<div>\n",
       "<style scoped>\n",
       "    .dataframe tbody tr th:only-of-type {\n",
       "        vertical-align: middle;\n",
       "    }\n",
       "\n",
       "    .dataframe tbody tr th {\n",
       "        vertical-align: top;\n",
       "    }\n",
       "\n",
       "    .dataframe thead th {\n",
       "        text-align: right;\n",
       "    }\n",
       "</style>\n",
       "<table border=\"1\" class=\"dataframe\">\n",
       "  <thead>\n",
       "    <tr style=\"text-align: right;\">\n",
       "      <th></th>\n",
       "      <th>k</th>\n",
       "      <th>x</th>\n",
       "      <th>x_act</th>\n",
       "      <th>y_act</th>\n",
       "      <th>pair</th>\n",
       "      <th>fee</th>\n",
       "      <th>descr</th>\n",
       "      <th>constr</th>\n",
       "      <th>params</th>\n",
       "    </tr>\n",
       "    <tr>\n",
       "      <th>cid</th>\n",
       "      <th></th>\n",
       "      <th></th>\n",
       "      <th></th>\n",
       "      <th></th>\n",
       "      <th></th>\n",
       "      <th></th>\n",
       "      <th></th>\n",
       "      <th></th>\n",
       "      <th></th>\n",
       "    </tr>\n",
       "  </thead>\n",
       "  <tbody>\n",
       "    <tr>\n",
       "      <th>0</th>\n",
       "      <td>2000</td>\n",
       "      <td>1</td>\n",
       "      <td>1</td>\n",
       "      <td>2000.0</td>\n",
       "      <td>ETH/USDC</td>\n",
       "      <td>None</td>\n",
       "      <td>None</td>\n",
       "      <td>xy</td>\n",
       "      <td>{}</td>\n",
       "    </tr>\n",
       "    <tr>\n",
       "      <th>1</th>\n",
       "      <td>2200</td>\n",
       "      <td>1</td>\n",
       "      <td>1</td>\n",
       "      <td>2200.0</td>\n",
       "      <td>ETH/USDC</td>\n",
       "      <td>None</td>\n",
       "      <td>None</td>\n",
       "      <td>xy</td>\n",
       "      <td>{}</td>\n",
       "    </tr>\n",
       "    <tr>\n",
       "      <th>2</th>\n",
       "      <td>2400</td>\n",
       "      <td>1</td>\n",
       "      <td>1</td>\n",
       "      <td>2400.0</td>\n",
       "      <td>ETH/USDC</td>\n",
       "      <td>None</td>\n",
       "      <td>None</td>\n",
       "      <td>xy</td>\n",
       "      <td>{}</td>\n",
       "    </tr>\n",
       "    <tr>\n",
       "      <th>0</th>\n",
       "      <td>2000</td>\n",
       "      <td>1</td>\n",
       "      <td>1</td>\n",
       "      <td>2000.0</td>\n",
       "      <td>ETH/USDC</td>\n",
       "      <td>None</td>\n",
       "      <td>None</td>\n",
       "      <td>xy</td>\n",
       "      <td>{}</td>\n",
       "    </tr>\n",
       "    <tr>\n",
       "      <th>1</th>\n",
       "      <td>2200</td>\n",
       "      <td>1</td>\n",
       "      <td>1</td>\n",
       "      <td>2200.0</td>\n",
       "      <td>ETH/USDC</td>\n",
       "      <td>None</td>\n",
       "      <td>None</td>\n",
       "      <td>xy</td>\n",
       "      <td>{}</td>\n",
       "    </tr>\n",
       "    <tr>\n",
       "      <th>2</th>\n",
       "      <td>2400</td>\n",
       "      <td>1</td>\n",
       "      <td>1</td>\n",
       "      <td>2400.0</td>\n",
       "      <td>ETH/USDC</td>\n",
       "      <td>None</td>\n",
       "      <td>None</td>\n",
       "      <td>xy</td>\n",
       "      <td>{}</td>\n",
       "    </tr>\n",
       "    <tr>\n",
       "      <th>0</th>\n",
       "      <td>2000</td>\n",
       "      <td>1</td>\n",
       "      <td>1</td>\n",
       "      <td>2000.0</td>\n",
       "      <td>ETH/USDC</td>\n",
       "      <td>None</td>\n",
       "      <td>None</td>\n",
       "      <td>xy</td>\n",
       "      <td>{}</td>\n",
       "    </tr>\n",
       "    <tr>\n",
       "      <th>1</th>\n",
       "      <td>2200</td>\n",
       "      <td>1</td>\n",
       "      <td>1</td>\n",
       "      <td>2200.0</td>\n",
       "      <td>ETH/USDC</td>\n",
       "      <td>None</td>\n",
       "      <td>None</td>\n",
       "      <td>xy</td>\n",
       "      <td>{}</td>\n",
       "    </tr>\n",
       "    <tr>\n",
       "      <th>2</th>\n",
       "      <td>2400</td>\n",
       "      <td>1</td>\n",
       "      <td>1</td>\n",
       "      <td>2400.0</td>\n",
       "      <td>ETH/USDC</td>\n",
       "      <td>None</td>\n",
       "      <td>None</td>\n",
       "      <td>xy</td>\n",
       "      <td>{}</td>\n",
       "    </tr>\n",
       "    <tr>\n",
       "      <th>0</th>\n",
       "      <td>2000</td>\n",
       "      <td>1</td>\n",
       "      <td>1</td>\n",
       "      <td>2000.0</td>\n",
       "      <td>ETH/USDC</td>\n",
       "      <td>None</td>\n",
       "      <td>None</td>\n",
       "      <td>xy</td>\n",
       "      <td>{}</td>\n",
       "    </tr>\n",
       "    <tr>\n",
       "      <th>1</th>\n",
       "      <td>2200</td>\n",
       "      <td>1</td>\n",
       "      <td>1</td>\n",
       "      <td>2200.0</td>\n",
       "      <td>ETH/USDC</td>\n",
       "      <td>None</td>\n",
       "      <td>None</td>\n",
       "      <td>xy</td>\n",
       "      <td>{}</td>\n",
       "    </tr>\n",
       "    <tr>\n",
       "      <th>2</th>\n",
       "      <td>2400</td>\n",
       "      <td>1</td>\n",
       "      <td>1</td>\n",
       "      <td>2400.0</td>\n",
       "      <td>ETH/USDC</td>\n",
       "      <td>None</td>\n",
       "      <td>None</td>\n",
       "      <td>xy</td>\n",
       "      <td>{}</td>\n",
       "    </tr>\n",
       "    <tr>\n",
       "      <th>0</th>\n",
       "      <td>2000</td>\n",
       "      <td>1</td>\n",
       "      <td>1</td>\n",
       "      <td>2000.0</td>\n",
       "      <td>ETH/USDC</td>\n",
       "      <td>None</td>\n",
       "      <td>None</td>\n",
       "      <td>xy</td>\n",
       "      <td>{}</td>\n",
       "    </tr>\n",
       "    <tr>\n",
       "      <th>1</th>\n",
       "      <td>2200</td>\n",
       "      <td>1</td>\n",
       "      <td>1</td>\n",
       "      <td>2200.0</td>\n",
       "      <td>ETH/USDC</td>\n",
       "      <td>None</td>\n",
       "      <td>None</td>\n",
       "      <td>xy</td>\n",
       "      <td>{}</td>\n",
       "    </tr>\n",
       "    <tr>\n",
       "      <th>2</th>\n",
       "      <td>2400</td>\n",
       "      <td>1</td>\n",
       "      <td>1</td>\n",
       "      <td>2400.0</td>\n",
       "      <td>ETH/USDC</td>\n",
       "      <td>None</td>\n",
       "      <td>None</td>\n",
       "      <td>xy</td>\n",
       "      <td>{}</td>\n",
       "    </tr>\n",
       "  </tbody>\n",
       "</table>\n",
       "</div>"
      ],
      "text/plain": [
       "        k  x  x_act   y_act      pair   fee descr constr params\n",
       "cid                                                            \n",
       "0    2000  1      1  2000.0  ETH/USDC  None  None     xy     {}\n",
       "1    2200  1      1  2200.0  ETH/USDC  None  None     xy     {}\n",
       "2    2400  1      1  2400.0  ETH/USDC  None  None     xy     {}\n",
       "0    2000  1      1  2000.0  ETH/USDC  None  None     xy     {}\n",
       "1    2200  1      1  2200.0  ETH/USDC  None  None     xy     {}\n",
       "2    2400  1      1  2400.0  ETH/USDC  None  None     xy     {}\n",
       "0    2000  1      1  2000.0  ETH/USDC  None  None     xy     {}\n",
       "1    2200  1      1  2200.0  ETH/USDC  None  None     xy     {}\n",
       "2    2400  1      1  2400.0  ETH/USDC  None  None     xy     {}\n",
       "0    2000  1      1  2000.0  ETH/USDC  None  None     xy     {}\n",
       "1    2200  1      1  2200.0  ETH/USDC  None  None     xy     {}\n",
       "2    2400  1      1  2400.0  ETH/USDC  None  None     xy     {}\n",
       "0    2000  1      1  2000.0  ETH/USDC  None  None     xy     {}\n",
       "1    2200  1      1  2200.0  ETH/USDC  None  None     xy     {}\n",
       "2    2400  1      1  2400.0  ETH/USDC  None  None     xy     {}"
      ]
     },
     "execution_count": 2,
     "metadata": {},
     "output_type": "execute_result"
    }
   ],
   "source": [
    "N=5\n",
    "curves = [\n",
    "    CPC.from_xy(x=1, y=2000, pair=\"ETH/USDC\"),\n",
    "    CPC.from_xy(x=1, y=2200, pair=\"ETH/USDC\"),\n",
    "    CPC.from_xy(x=1, y=2400, pair=\"ETH/USDC\"),\n",
    "]\n",
    "# note: the below is a bit icky as the same curve objects are added multiple times\n",
    "CC = CPCContainer(curves*N)\n",
    "O = CPCArbOptimizer(CC)\n",
    "O.CC.asdf()"
   ]
  },
  {
   "cell_type": "code",
   "execution_count": 7,
   "id": "a5ed0075-5ee5-4592-a192-e06d2b5af454",
   "metadata": {},
   "outputs": [],
   "source": [
    "O.pickle(\"delme\")\n",
    "O.pickle(\"delme\", addts=False)"
   ]
  },
  {
   "cell_type": "code",
   "execution_count": 8,
   "id": "1bf13d91-2bc0-4819-96b9-2712ef89b6f1",
   "metadata": {},
   "outputs": [
    {
     "name": "stdout",
     "output_type": "stream",
     "text": [
      "delme.1681640767.025454.pickle        delme.168164096776.optimizer.pickle\n",
      "delme.168164080590.pickle             delme.optimizer.pickle\n",
      "delme.168164091197.optimizer.pickle   delme.pickle.1681640749.019922.pickle\n",
      "delme.168164094930.optimizer.pickle\n"
     ]
    }
   ],
   "source": [
    "!ls *.pickle"
   ]
  },
  {
   "cell_type": "code",
   "execution_count": 9,
   "id": "ce05c578-5060-498e-b4eb-f55617d10cdd",
   "metadata": {},
   "outputs": [
    {
     "data": {
      "text/plain": [
       "<carbon.tools.optimizer.CPCArbOptimizer at 0x7f9398040f10>"
      ]
     },
     "execution_count": 9,
     "metadata": {},
     "output_type": "execute_result"
    }
   ],
   "source": [
    "O.unpickle(\"delme\")"
   ]
  },
  {
   "cell_type": "markdown",
   "id": "cf1c3ec2-0956-4698-8c0c-5781edfe457f",
   "metadata": {},
   "source": [
    "## Creating curves\n",
    "\n",
    "Note: for those constructor, the parameters `cid` and `descr` as well as `fee` are mandatory. Typically `cid` would be a field uniquely identifying this curve in the database, and `descr` description of the pool. The description should neither include the pair nor the fee level. We recommend using `UniV3`, `UniV3`, `Sushi`, `Carbon` etc. The `fee` is quoted as decimal, ie 0.01 is 1%. If there is no fee, the number `0` must be provided, not `None`."
   ]
  },
  {
   "cell_type": "markdown",
   "id": "8d326169-f9e2-4bba-9572-9b83989812b7",
   "metadata": {},
   "source": [
    "### Uniswap v2\n",
    "\n",
    "In the Uniswap v2 constructor, $x$ is the base token of the pair `TKNB`, and $y$ is the quote token `TKNQ`.\n",
    "\n",
    "By construction, Uniswap v2 curves map directly to CPC curves with the following parameter choices\n",
    "\n",
    "- $x,y,k$ are the same as in the $ky=k$ formula defining the AMM (provide any 2)\n",
    "- $x_a = x$ and $y_a = y$ because there is no leverage on the curves.\n"
   ]
  },
  {
   "cell_type": "code",
   "execution_count": null,
   "id": "41a5cdfe-fb7b-4c8b-a270-1a52f0765e94",
   "metadata": {},
   "outputs": [],
   "source": [
    "c  = CPC.from_univ2(x_tknb=100, y_tknq=100, pair=\"TKNB/TKNQ\", fee=0, cid=\"1\", descr=\"UniV2\")\n",
    "c2 = CPC.from_univ2(x_tknb=100, k=10000, pair=\"TKNB/TKNQ\", fee=0, cid=\"1\", descr=\"UniV2\")\n",
    "c3 = CPC.from_univ2(y_tknq=100, k=10000, pair=\"TKNB/TKNQ\", fee=0, cid=\"1\", descr=\"UniV2\")\n",
    "assert c.k == 10000\n",
    "assert c.x == 100\n",
    "assert c.y == 100\n",
    "assert c.x_act == 100\n",
    "assert c.y_act == 100\n",
    "assert c == c2\n",
    "assert c == c3\n",
    "assert c.fee == 0\n",
    "assert c.cid == \"1\"\n",
    "assert c.descr == \"UniV2\"\n",
    "c"
   ]
  },
  {
   "cell_type": "code",
   "execution_count": null,
   "id": "ea3cdfbc-8edd-41f1-9703-0ae0d72fdb9a",
   "metadata": {},
   "outputs": [],
   "source": [
    "c.asdict()"
   ]
  },
  {
   "cell_type": "code",
   "execution_count": null,
   "id": "595de023-5c66-40fc-928f-eca5fe6a50c9",
   "metadata": {},
   "outputs": [],
   "source": [
    "assert c.asdict() == {\n",
    "    'k': 10000,\n",
    "    'x': 100,\n",
    "    'x_act': 100,\n",
    "    'y_act': 100,\n",
    "    'pair': 'TKNB/TKNQ',\n",
    "    'cid': \"1\",\n",
    "    'fee': 0,\n",
    "    'descr': 'UniV2',\n",
    "    'constr': 'uv2',\n",
    "    'params': {}\n",
    "}"
   ]
  },
  {
   "cell_type": "code",
   "execution_count": null,
   "id": "215b5105-08d9-4077-a51a-7658cafcffa9",
   "metadata": {},
   "outputs": [],
   "source": [
    "assert not raises(CPC.from_univ2, x_tknb=100, y_tknq=100, pair=\"TKNB/TKNQ\", fee=0, cid=1, descr=\"UniV2\")\n",
    "assert raises(CPC.from_univ2, x_tknb=100, y_tknq=100, k=10, pair=\"TKNB/TKNQ\", fee=0, cid=1, descr=\"UniV2\")\n",
    "assert raises(CPC.from_univ2, x_tknb=100, pair=\"TKNB/TKNQ\", fee=0, cid=1, descr=\"UniV2\")\n",
    "assert raises(CPC.from_univ2, y_tknq=100, pair=\"TKNB/TKNQ\", fee=0, cid=1, descr=\"UniV2\")\n",
    "assert raises(CPC.from_univ2, k=10, pair=\"TKNB/TKNQ\", fee=0, cid=1, descr=\"UniV2\")\n",
    "assert raises(CPC.from_univ2, x_tknb=100, y_tknq=100, fee=0, cid=1, descr=\"UniV2\")\n",
    "assert raises(CPC.from_univ2, x_tknb=100, y_tknq=100, pair=\"TKNB/TKNQ\", cid=1, descr=\"UniV2\")\n",
    "assert raises(CPC.from_univ2, x_tknb=100, y_tknq=100, pair=\"TKNB/TKNQ\", fee=0, descr=\"UniV2\")\n",
    "assert raises(CPC.from_univ2, x_tknb=100, y_tknq=100, pair=\"TKNB/TKNQ\", fee=0, cid=1)"
   ]
  },
  {
   "cell_type": "markdown",
   "id": "23a41a55-a500-4d74-9998-f0f20fedeaa0",
   "metadata": {},
   "source": [
    "### Uniswap v3\n",
    "\n",
    "Uniswap V3 uses an implicit virtual token model. The most important relationship here is that $L^2=k$, ie the square of the Uniswap pool constant is the constant product parameter $k$. Alternatively we find that $L=\\bar k$ if we use the alternative pool invariant $\\sqrt{xy}=\\bar k$ for the constant product pool. The conventions are as in the Uniswap v2 case, ie $x$ is the base token `TKNB` and $y$ is the quote token `TKNQ`. The parameters are\n",
    "\n",
    "- $L$ is the so-called _liquidity_ parameter, indicating the size of the pool at this particular tick (see above)\n",
    "- $P_a, P_b$ are the lower and upper end of the _current_ tick range*\n",
    "- $P_{marg}$ is the current (marginal) price of the range; we have $P_a \\leq P_{marg} \\leq P_b$\n",
    "\n",
    "*note that for Uniswap v3 curves we _only_ usually model the current tick range as crossing a tick boundary is relatively expensive and most arb bots do not do that; in principle however nothing prevents us from also adding inactive tick ranges, in which case every tick range corresponds to a single, out of the money curve."
   ]
  },
  {
   "cell_type": "code",
   "execution_count": null,
   "id": "0963034a-b36c-4cfb-84da-ccb3c88c4389",
   "metadata": {},
   "outputs": [],
   "source": [
    "c = CPC.from_univ3(Pmarg=1, uniL=1000, uniPa=0.9, uniPb=1.1, pair=\"TKNB/TKNQ\", fee=0, cid=\"1\", descr=\"UniV3\")\n",
    "assert c.x == 1000\n",
    "assert c.y == 1000\n",
    "assert c.k == 1000*1000\n",
    "assert iseq(c.p_max, 1.1)\n",
    "assert iseq(c.p_min, 0.9)\n",
    "assert c.fee == 0\n",
    "assert c.cid == \"1\"\n",
    "assert c.descr == \"UniV3\""
   ]
  },
  {
   "cell_type": "code",
   "execution_count": null,
   "id": "eb5dd380-dd90-4a3b-b88a-5a697bdbc3a0",
   "metadata": {},
   "outputs": [],
   "source": [
    "assert not raises(CPC.from_univ3, Pmarg=1, uniL=1000, uniPa=0.9, uniPb=1.1, pair=\"TKNB/TKNQ\", fee=0, cid=1, descr=\"UniV3\")\n",
    "assert raises(CPC.from_univ3, Pmarg=2, uniL=1000, uniPa=0.9, uniPb=1.1, pair=\"TKNB/TKNQ\", fee=0, cid=1, descr=\"UniV3\")\n",
    "assert raises(CPC.from_univ3, Pmarg=0.5, uniL=1000, uniPa=0.9, uniPb=1.1, pair=\"TKNB/TKNQ\", fee=0, cid=1, descr=\"UniV3\")\n",
    "assert raises(CPC.from_univ3, Pmarg=1, uniL=1000, uniPa=1.1, uniPb=0.9, pair=\"TKNB/TKNQ\", fee=0, cid=1, descr=\"UniV3\")"
   ]
  },
  {
   "cell_type": "markdown",
   "id": "172acba9-47e6-45db-9cf8-03cb8bfa0b9d",
   "metadata": {},
   "source": [
    "### Carbon\n",
    "\n",
    "First a bried reminder that the Carbon curves here correspond to Carbon Orders, ie half a Carbon strategy. Those order trade unidirectional only, and as we here are only looking at a single trade we do not care about collateral moving from an order to another one. We provide slightly more flexibility here in terms of tokens and quotes: $y$ corresponds to `tkny` which must be part of `pair` but which can be quote or base token.\n",
    "\n",
    "- $y, y_{int}$ are the current amounts of token y and the y-intercept respectively, in units of `tkny`\n",
    "\n",
    "- $P_a, P_b$ are the prices determining the range, either quoted as $dy/dx$ is `isdydx` is True (default), or in the natural direction of the pair*\n",
    "\n",
    "- $A, B$ are alternative price parameters, with $B=\\sqrt{P_b}$ and $A=\\sqrt{P_a}-\\sqrt{P_b}\\geq 0$; those must _always_ be quoted in $dy/dx$*\n",
    "\n",
    "*The ranges must _either_ be specificed with `pa, pb, isdydx` or with `A, B` and in the second case `isdydx` must be True. There is no mix and match between those two parameter sets."
   ]
  },
  {
   "cell_type": "code",
   "execution_count": null,
   "id": "624b80f1-c811-483b-ba24-b76c72fe3e0c",
   "metadata": {},
   "outputs": [],
   "source": [
    "c = CPC.from_carbon(yint=1, y=1, pa=1800, pb=2200, pair=\"ETH/USDC\", tkny=\"ETH\", fee=0, cid=\"1\", descr=\"Carbon\", isdydx=False)\n",
    "assert c.y_act == 1\n",
    "assert c.x_act == 0\n",
    "assert iseq(1/c.p_min, 2200)\n",
    "assert iseq(1/c.p_max, 1800)\n",
    "assert iseq(1/c.p, 1/c.p_max)"
   ]
  },
  {
   "cell_type": "code",
   "execution_count": null,
   "id": "34d52402-18d6-4485-8e5c-6cb4f8af2ab2",
   "metadata": {},
   "outputs": [],
   "source": [
    "c = CPC.from_carbon(yint=1, y=1, A=1/256, B=sqrt(1/2000), pair=\"ETH/USDC\", tkny=\"ETH\", fee=0, cid=\"2\", descr=\"Carbon\", isdydx=True)\n",
    "assert c.y_act == 1\n",
    "assert c.x_act == 0\n",
    "assert iseq(1/c.p_min, 2000)\n",
    "print(\"pa\", 1/c.p_max, 1/(1/256+sqrt(c.p_min))**2)\n",
    "assert iseq(1/c.p_max, 1/(1/256+sqrt(c.p_min))**2)\n",
    "assert iseq(1/c.p, 1/c.p_max)"
   ]
  },
  {
   "cell_type": "code",
   "execution_count": null,
   "id": "85175836-0fa9-4f64-a42f-b5b787e622f0",
   "metadata": {},
   "outputs": [],
   "source": [
    "c = CPC.from_carbon(yint=3000, y=3000, pa=3100, pb=2900, pair=\"ETH/USDC\", tkny=\"USDC\", fee=0, cid=\"2\", descr=\"Carbon\", isdydx=True)\n",
    "assert c.y_act == 3000\n",
    "assert c.x_act == 0\n",
    "assert iseq(c.p_min, 2900)\n",
    "assert iseq(c.p_max, 3100)\n",
    "assert iseq(c.p, c.p_max)"
   ]
  },
  {
   "cell_type": "code",
   "execution_count": null,
   "id": "9753798a-b154-4865-a845-a1f5f1eb8e4b",
   "metadata": {},
   "outputs": [],
   "source": [
    "c = CPC.from_carbon(yint=2000, y=2000, A=10, B=sqrt(3000), pair=\"ETH/USDC\", tkny=\"USDC\", fee=0, cid=\"2\", descr=\"Carbon\", isdydx=True)\n",
    "assert c.y_act == 2000\n",
    "assert c.x_act == 0\n",
    "assert iseq(c.p_min, 3000)\n",
    "print(\"pa\", c.p_max, (10+sqrt(c.p_min))**2)\n",
    "assert iseq(c.p_max, (10+sqrt(c.p_min))**2)\n",
    "assert iseq(1/c.p, 1/c.p_max)"
   ]
  },
  {
   "cell_type": "code",
   "execution_count": null,
   "id": "5f683913-1799-4f3a-9473-a663d803448a",
   "metadata": {},
   "outputs": [],
   "source": [
    "CPC.from_carbon(yint=1, y=1, pa=1800, pb=2200, pair=\"ETH/USDC\", tkny=\"ETH\", fee=0, cid=\"1\", descr=\"Carbon\", isdydx=False)\n",
    "CPC.from_carbon(yint=1, y=1, A=1/10, B=sqrt(1/2000), pair=\"ETH/USDC\", tkny=\"ETH\", fee=0, cid=\"2\", descr=\"Carbon\", isdydx=True)\n",
    "CPC.from_carbon(yint=1, y=1, pa=3100, pb=2900, pair=\"ETH/USDC\", tkny=\"USDC\", fee=0, cid=\"3\", descr=\"Carbon\", isdydx=True)\n",
    "CPC.from_carbon(yint=1, y=1, A=10, B=sqrt(3000), pair=\"ETH/USDC\", tkny=\"USDC\", fee=0, cid=\"4\", descr=\"Carbon\", isdydx=True)"
   ]
  },
  {
   "cell_type": "code",
   "execution_count": null,
   "id": "cffdcaa4-f221-4bd7-bf2d-5418a33e3592",
   "metadata": {},
   "outputs": [],
   "source": [
    "assert not raises(CPC.from_carbon, yint=1, y=1, pa=1800, pb=2200, pair=\"ETH/USDC\", tkny=\"ETH\", fee=0, cid=\"1\", descr=\"Carbon\", isdydx=False)\n",
    "assert raises(CPC.from_carbon, y=1, pa=1800, pb=2200, pair=\"ETH/USDC\", tkny=\"ETH\", fee=0, cid=\"1\", descr=\"Carbon\", isdydx=False)\n",
    "assert raises(CPC.from_carbon, yint=1, pa=1800, pb=2200, pair=\"ETH/USDC\", tkny=\"ETH\", fee=0, cid=\"1\", descr=\"Carbon\", isdydx=False)\n",
    "assert raises(CPC.from_carbon, yint=1, y=1, pb=2200, pair=\"ETH/USDC\", tkny=\"ETH\", fee=0, cid=\"1\", descr=\"Carbon\", isdydx=False)\n",
    "assert raises(CPC.from_carbon, yint=1, y=1, pa=1800, pair=\"ETH/USDC\", tkny=\"ETH\", fee=0, cid=\"1\", descr=\"Carbon\", isdydx=False)\n",
    "assert raises(CPC.from_carbon, yint=1, y=1, pa=1800, pb=2200, tkny=\"ETH\", fee=0, cid=\"1\", descr=\"Carbon\", isdydx=False)\n",
    "assert raises(CPC.from_carbon, yint=1, y=1, pa=1800, pb=2200, pair=\"ETH/USDC\", fee=0, cid=\"1\", descr=\"Carbon\", isdydx=False)\n",
    "#assert raises(CPC.from_carbon, yint=1, y=1, pa=1800, pb=2200, pair=\"ETH/USDC\", tkny=\"ETH\", cid=\"1\", descr=\"Carbon\", isdydx=False)\n",
    "#assert raises(CPC.from_carbon, yint=1, y=1, pa=1800, pb=2200, pair=\"ETH/USDC\", tkny=\"ETH\", fee=0, descr=\"Carbon\", isdydx=False)\n",
    "#assert raises(CPC.from_carbon, yint=1, y=1, pa=1800, pb=2200, pair=\"ETH/USDC\", tkny=\"ETH\", fee=0, cid=\"1\", isdydx=False)\n",
    "assert raises(CPC.from_carbon, yint=1, y=1, pa=1800, pb=2200, pair=\"ETH/USDC\", tkny=\"LINK\", fee=0, cid=\"1\", descr=\"Carbon\", isdydx=False)\n",
    "assert raises(CPC.from_carbon, yint=1, y=1, pa=1800, pb=2200, A=100, pair=\"ETH/USDC\", tkny=\"ETH\", fee=0, cid=\"1\", descr=\"Carbon\", isdydx=False)\n",
    "assert raises(CPC.from_carbon, yint=1, y=1, pa=1800, pb=2200, B=100, pair=\"ETH/USDC\", tkny=\"ETH\", fee=0, cid=\"1\", descr=\"Carbon\", isdydx=False)\n",
    "assert raises(CPC.from_carbon, yint=1, y=1, pa=1800, pb=2200, A=100, B=100, pair=\"ETH/USDC\", tkny=\"ETH\", fee=0, cid=\"1\", descr=\"Carbon\", isdydx=False)\n",
    "assert raises(CPC.from_carbon, yint=1, y=1, pb=1800, pa=2200, pair=\"ETH/USDC\", tkny=\"ETH\", fee=0, cid=\"1\", descr=\"Carbon\", isdydx=False)"
   ]
  },
  {
   "cell_type": "code",
   "execution_count": null,
   "id": "f66fc490-97e0-4c5e-958d-1e9014934d5c",
   "metadata": {},
   "outputs": [],
   "source": [
    "assert not raises(CPC.from_carbon, yint=1, y=1, A=1/10, B=sqrt(1/2000), pair=\"ETH/USDC\", tkny=\"USDC\", fee=0, cid=\"2\", descr=\"Carbon\", isdydx=True)\n",
    "assert raises(CPC.from_carbon, yint=1, y=1, A=1/10, B=sqrt(1/2000), pair=\"ETH/USDC\", tkny=\"USDC\", fee=0, cid=\"2\", descr=\"Carbon\", isdydx=False)\n",
    "assert raises(CPC.from_carbon, yint=1, y=1, pa=1000, A=1/10, B=sqrt(1/2000), pair=\"ETH/USDC\", tkny=\"USDC\", fee=0, cid=\"2\", descr=\"Carbon\", isdydx=True)\n",
    "assert raises(CPC.from_carbon, yint=1, y=1, pb=1000, A=1/10, B=sqrt(1/2000), pair=\"ETH/USDC\", tkny=\"USDC\", fee=0, cid=\"2\", descr=\"Carbon\", isdydx=True)\n",
    "assert raises(CPC.from_carbon, yint=1, y=1, A=-1/10, B=sqrt(1/2000), pair=\"ETH/USDC\", tkny=\"USDC\", fee=0, cid=\"2\", descr=\"Carbon\", isdydx=True)"
   ]
  },
  {
   "cell_type": "code",
   "execution_count": null,
   "id": "465ff937-2382-4215-8e11-ec8096e1ea3d",
   "metadata": {},
   "outputs": [],
   "source": [
    "assert not raises(CPC.from_carbon, yint=1, y=1, pa=3100, pb=2900, pair=\"ETH/USDC\", tkny=\"USDC\", fee=0, cid=\"2\", descr=\"Carbon\", isdydx=True)\n",
    "assert raises(CPC.from_carbon, yint=1, y=1, pb=3100, pa=2900, pair=\"ETH/USDC\", tkny=\"USDC\", fee=0, cid=\"2\", descr=\"Carbon\", isdydx=True)"
   ]
  },
  {
   "cell_type": "markdown",
   "id": "b933b5ac-090d-452b-9b11-6ae1a3595356",
   "metadata": {},
   "source": [
    "## Charts [NOTEST]"
   ]
  },
  {
   "cell_type": "code",
   "execution_count": null,
   "id": "c5c8d6c3-0d15-4c3d-8852-b2870a7b4caa",
   "metadata": {},
   "outputs": [],
   "source": [
    "curves_uni =[\n",
    "    CPC.from_univ2(x_tknb=1, y_tknq=2000, pair=\"ETH/USDC\", fee=0.001, cid=\"U2/1\", descr=\"UniV2\"),\n",
    "    CPC.from_univ2(x_tknb=2, y_tknq=4020, pair=\"ETH/USDC\", fee=0.001, cid=\"U2/2\", descr=\"UniV2\"),\n",
    "    CPC.from_univ3(Pmarg=2000, uniL=100, uniPa=1800, uniPb=2200, pair=\"ETH/USDC\", fee=0, cid=\"U3/1\", descr=\"UniV3\"),\n",
    "    CPC.from_univ3(Pmarg=2010, uniL=75,  uniPa=1800, uniPb=2200, pair=\"ETH/USDC\", fee=0, cid=\"U3/1\", descr=\"UniV3\"),\n",
    "]\n",
    "CC = CPCContainer(curves_uni)"
   ]
  },
  {
   "cell_type": "code",
   "execution_count": null,
   "id": "8296d087-d5a5-4b77-825a-dd53ed60d4bd",
   "metadata": {},
   "outputs": [],
   "source": [
    "curves_carbon = [\n",
    "    CPC.from_carbon(yint=3000, y=3000, pa=3500, pb=2500, pair=\"ETH/USDC\", tkny=\"USDC\", fee=0, cid=\"C1\", descr=\"Carbon\", isdydx=True),\n",
    "    CPC.from_carbon(yint=3000, y=3000, A=20, B=sqrt(2500), pair=\"ETH/USDC\", tkny=\"USDC\", fee=0, cid=\"C2\", descr=\"Carbon\", isdydx=True),\n",
    "    CPC.from_carbon(yint=3000, y=3000, A=40, B=sqrt(2500), pair=\"ETH/USDC\", tkny=\"USDC\", fee=0, cid=\"C3\", descr=\"Carbon\", isdydx=True),\n",
    "    CPC.from_carbon(yint=1, y=1, pa=1800, pb=2200, pair=\"ETH/USDC\", tkny=\"ETH\", fee=0, cid=\"C4\", descr=\"Carbon\", isdydx=False),\n",
    "    CPC.from_carbon(yint=1, y=1, pa=1/1800, pb=1/2000, pair=\"ETH/USDC\", tkny=\"ETH\", fee=0, cid=\"C5\", descr=\"Carbon\", isdydx=True),\n",
    "    CPC.from_carbon(yint=1, y=1, A=1/500, B=sqrt(1/2000), pair=\"ETH/USDC\", tkny=\"ETH\", fee=0, cid=\"C6\", descr=\"Carbon\", isdydx=True),\n",
    "    CPC.from_carbon(yint=1, y=1, A=1/1000, B=sqrt(1/2000), pair=\"ETH/USDC\", tkny=\"ETH\", fee=0, cid=\"C7\", descr=\"Carbon\", isdydx=True),\n",
    "]"
   ]
  },
  {
   "cell_type": "code",
   "execution_count": null,
   "id": "e72d0162-dd59-489c-8efb-dbb8327ff553",
   "metadata": {},
   "outputs": [],
   "source": [
    "curves = curves_uni + curves_carbon\n",
    "CC = CPCContainer(curves)\n",
    "CC.plot(params=CC.Params())"
   ]
  },
  {
   "cell_type": "markdown",
   "id": "48de3a65-a36c-4ea0-aaf3-fc2d3cf415d1",
   "metadata": {},
   "source": [
    "## Serializing curves\n",
    "\n",
    "The `CPCContainer` and `ConstantProductCurve` objects do not strictly have methods that would allow for serialization. However, they allow conversion from an to datatypes that are easily serialized. \n",
    "\n",
    "- on the `ConstantProductCurve` level there is `asdict()` and `from_dicts(.)`\n",
    "- on the `CPCContainer` level there is also `asdf()` and `from_df(.)`, allowing conversion from and to pandas dataframes\n",
    "\n",
    "Recommended serialization is either dict to json via the `json` library, or any of the serialization methods inherent in dataframes, notably also pickling (Excel formates are not recommended as they are slow and heavy).\n",
    "\n",
    "\n"
   ]
  },
  {
   "cell_type": "code",
   "execution_count": null,
   "id": "c2d5dc97-05e8-4eca-abc7-66eee6e7d706",
   "metadata": {},
   "outputs": [],
   "source": [
    "curves = [\n",
    "    CPC.from_univ2(x_tknb=1, y_tknq=2000, pair=\"ETH/USDC\", fee=0.001, cid=\"1\", descr=\"UniV2\", params={\"meh\":1}),\n",
    "    CPC.from_univ2(x_tknb=2, y_tknq=4020, pair=\"ETH/USDC\", fee=0.001, cid=\"2\", descr=\"UniV2\"),\n",
    "    CPC.from_univ2(x_tknb=1, y_tknq=1970, pair=\"ETH/USDC\", fee=0.001, cid=\"3\", descr=\"UniV2\"),\n",
    "]"
   ]
  },
  {
   "cell_type": "code",
   "execution_count": null,
   "id": "9f467a32-370b-4634-bec8-3c28be84a0a0",
   "metadata": {},
   "outputs": [],
   "source": [
    "c0 = curves[0]\n",
    "assert c0.params.__class__.__name__ == \"AttrDict\"\n",
    "assert c0.params == {'meh': 1}"
   ]
  },
  {
   "cell_type": "code",
   "execution_count": null,
   "id": "d7563934-5381-476d-b9cb-99b909691049",
   "metadata": {},
   "outputs": [],
   "source": [
    "CC = CPCContainer(curves)\n",
    "assert raises(CPCContainer, [1,2,3])\n",
    "assert len(CC.curves) == len(curves)\n",
    "assert len(CC.asdicts()) == len(CC.curves)\n",
    "assert CPCContainer.from_dicts(CC.asdicts()) == CC\n",
    "ccjson = json.dumps(CC.asdicts())\n",
    "assert CPCContainer.from_dicts(json.loads(ccjson)) == CC\n",
    "CC"
   ]
  },
  {
   "cell_type": "code",
   "execution_count": null,
   "id": "131928b8-f927-4799-97c6-ec50631c7959",
   "metadata": {},
   "outputs": [],
   "source": [
    "df = CC.asdf()\n",
    "assert len(df) == 3\n",
    "assert tuple(df.reset_index().columns) == ('cid', 'k', 'x', 'x_act', 'y_act', \n",
    "                                           'pair', 'fee', 'descr', 'constr', 'params')\n",
    "assert tuple(df[\"k\"]) == (2000, 8040, 1970)\n",
    "assert CPCContainer.from_df(df) == CC\n",
    "df"
   ]
  },
  {
   "cell_type": "markdown",
   "id": "b36575fb-cd50-4415-a885-7c2b5ac689ba",
   "metadata": {},
   "source": [
    "## Saving curves [NOTEST]\n",
    "\n",
    "Most serialization methods we use go via the a pandas DataFram object. To create a dataframe we use the `asdf()` method, and to instantiate curve container from a dataframe we use `CPCContainer.from_df(df)`."
   ]
  },
  {
   "cell_type": "code",
   "execution_count": null,
   "id": "6cd062ae-c465-4102-a57c-587874023de5",
   "metadata": {},
   "outputs": [],
   "source": [
    "N=5000\n",
    "curves = [\n",
    "    CPC.from_univ2(x_tknb=1, y_tknq=2000, pair=\"ETH/USDC\", fee=0.001, cid=1, descr=\"UniV2\"),\n",
    "    CPC.from_univ2(x_tknb=2, y_tknq=4020, pair=\"ETH/USDC\", fee=0.001, cid=2, descr=\"UniV2\"),\n",
    "    CPC.from_univ2(x_tknb=1, y_tknq=1970, pair=\"ETH/USDC\", fee=0.001, cid=3, descr=\"UniV2\"),\n",
    "]\n",
    "CC = CPCContainer(curves*N)\n",
    "df = CC.asdf()\n",
    "#CC"
   ]
  },
  {
   "cell_type": "markdown",
   "id": "a4908c7d-d363-4fe5-978a-a038ea3416fd",
   "metadata": {},
   "source": [
    "### Formats\n",
    "#### json\n",
    "\n",
    "Using `json.dumps(.)` the list of dicts returned by `asdicts()` can be converted to json, and then saved as a textfile. When loaded back, the text can be expanded into json using `json.loads(.)` and the new object can be instantiated using `CPCContainer.from_dicts(dicts)`."
   ]
  },
  {
   "cell_type": "code",
   "execution_count": null,
   "id": "8c046e70-ef8a-4de8-bd17-726afb617ea1",
   "metadata": {},
   "outputs": [],
   "source": [
    "start_time = time.time()\n",
    "cc_json = json.dumps(CC.asdicts())\n",
    "print(\"len\", len(cc_json))\n",
    "CC2 = CPCContainer.from_dicts(json.loads(cc_json))\n",
    "assert CC == CC2\n",
    "print(f\"elapsed time: {time.time()-start_time:.2f}s\")\n",
    "#CC2"
   ]
  },
  {
   "cell_type": "markdown",
   "id": "dc67cf95-3872-4292-b13b-d742c4d55b66",
   "metadata": {},
   "source": [
    "#### csv\n",
    "\n",
    "`to_csv` converts a dataframe to a csv file; this file can also be zipped; this format is ideal for maximum interoperability as pretty much every software allows dealing with csvs; it is very fast, and the zipped files are much smaller than everything else"
   ]
  },
  {
   "cell_type": "code",
   "execution_count": null,
   "id": "e892dc06-329d-477f-adcb-40a87eb7a009",
   "metadata": {},
   "outputs": [],
   "source": [
    "start_time = time.time()\n",
    "df.to_csv(\".curves.csv\")\n",
    "df_csv = pd.read_csv(\".curves.csv\")\n",
    "assert CPCContainer.from_df(df_csv) == CC\n",
    "print(f\"elapsed time: {time.time()-start_time:.2f}s\")\n",
    "df_csv[:3]"
   ]
  },
  {
   "cell_type": "markdown",
   "id": "41370f26-e16e-4f67-a801-f8d62f9b9e04",
   "metadata": {},
   "source": [
    "#### tsv\n",
    "\n",
    "`to_csv` can be used with `sep=\"\\t\"` to create a tab separated file"
   ]
  },
  {
   "cell_type": "code",
   "execution_count": null,
   "id": "a2976017-2a84-4fba-885d-7680d9f61c3a",
   "metadata": {},
   "outputs": [],
   "source": [
    "start_time = time.time()\n",
    "df.to_csv(\".curves.tsv\", sep=\"\\t\")\n",
    "df_tsv = pd.read_csv(\".curves.tsv\", sep=\"\\t\")\n",
    "assert CPCContainer.from_df(df_tsv) == CC\n",
    "print(f\"elapsed time: {time.time()-start_time:.2f}s\")"
   ]
  },
  {
   "cell_type": "markdown",
   "id": "ef6b415f-9e97-477e-8488-7a1348094730",
   "metadata": {},
   "source": [
    "#### compressed csv\n",
    "\n",
    "`to_csv` can be used with `compression = \"gzip\"` to create a compressed file. This is by far the smallest output available, and takes little more time compared to uncompressed."
   ]
  },
  {
   "cell_type": "code",
   "execution_count": null,
   "id": "ed5aaa2c-2f5a-4863-87cf-a77240826a85",
   "metadata": {
    "lines_to_next_cell": 2
   },
   "outputs": [],
   "source": [
    "start_time = time.time()\n",
    "df.to_csv(\".curves.csv.gz\", compression = \"gzip\")\n",
    "df_csv = pd.read_csv(\".curves.csv.gz\")\n",
    "assert CPCContainer.from_df(df_csv) == CC\n",
    "print(f\"elapsed time: {time.time()-start_time:.2f}s\")"
   ]
  },
  {
   "cell_type": "markdown",
   "id": "c0eca8e2-8017-4989-88c2-beafe97d7c3a",
   "metadata": {},
   "source": [
    "#### Excel\n",
    "\n",
    "`to_excel` converts the dataframe to an xlsx file; older versions of pandas may allow to also save in the old xls format, but this is deprecated; note that Excel files can be rather big, and saving them is very slow, 10-15x(!) longer than csv."
   ]
  },
  {
   "cell_type": "code",
   "execution_count": null,
   "id": "f1507cc7-96ba-4342-bf1e-955b248bd8b4",
   "metadata": {},
   "outputs": [],
   "source": [
    "start_time = time.time()\n",
    "df.to_excel(\".curves.xlsx\")\n",
    "df_xlsx = pd.read_excel(\".curves.xlsx\")\n",
    "assert CPCContainer.from_df(df_xlsx) == CC\n",
    "print(f\"elapsed time: {time.time()-start_time:.2f}s\")\n",
    "df_xlsx[:3]"
   ]
  },
  {
   "cell_type": "markdown",
   "id": "705f0e47-d154-4dba-9d26-c4c809f55788",
   "metadata": {},
   "source": [
    "#### pickle\n",
    "\n",
    "`to_pickle` pickles the dataframe; this format is rather big, but it is the fastest to process, albeit not at a significant margin"
   ]
  },
  {
   "cell_type": "code",
   "execution_count": null,
   "id": "a1c75dfe-ce14-4840-9c62-39a8d5cfc3ad",
   "metadata": {},
   "outputs": [],
   "source": [
    "start_time = time.time()\n",
    "df.to_pickle(\".curves.pkl\")\n",
    "df_pickle = pd.read_pickle(\".curves.pkl\")\n",
    "assert CPCContainer.from_df(df_pickle) == CC\n",
    "print(f\"elapsed time: {time.time()-start_time:.2f}s\")\n",
    "df_pickle[:3]"
   ]
  },
  {
   "cell_type": "markdown",
   "id": "3cfc2ff5-bf9d-4684-9b8c-2aff57937a46",
   "metadata": {},
   "source": [
    "### Benchmarking\n",
    "\n",
    "below a comparison of the different methods in terms of size and speed; the benchmark run used **300,000 curves**\n",
    "\n",
    "    33000000  .curves.json      --  5.2s (without read/write)\n",
    "    11100035  .curves.csv       --  3.4s\n",
    "       37817  .curves.csv.gz    --  3.4s\n",
    "    15602482  .curves.pkl       --  2.6s\n",
    "    11100035  .curves.tsv       --  3.2s\n",
    "     8031279  .curves.xlsx      -- 45.0s (!)\n",
    "     \n",
    "Below are the figures for the current run (timing figures inline above)"
   ]
  },
  {
   "cell_type": "code",
   "execution_count": null,
   "id": "c43b9431-603d-49af-b5fd-1975e9f59e2f",
   "metadata": {},
   "outputs": [],
   "source": [
    "print(f\"{len(df_xlsx)} curves\")\n",
    "print(f\"                         {len(cc_json)}              .curves.json\", )\n",
    "!ls -l .curves*"
   ]
  },
  {
   "cell_type": "code",
   "execution_count": null,
   "id": "3fc27e4d-6d5e-4da5-8ab6-e073b6d5ace3",
   "metadata": {},
   "outputs": [],
   "source": []
  }
 ],
 "metadata": {
  "jupytext": {
   "encoding": "# -*- coding: utf-8 -*-",
   "formats": "ipynb,py:light"
  },
  "kernelspec": {
   "display_name": "Python 3",
   "language": "python",
   "name": "python3"
  },
  "language_info": {
   "codemirror_mode": {
    "name": "ipython",
    "version": 3
   },
   "file_extension": ".py",
   "mimetype": "text/x-python",
   "name": "python",
   "nbconvert_exporter": "python",
   "pygments_lexer": "ipython3",
   "version": "3.8.8"
  }
 },
 "nbformat": 4,
 "nbformat_minor": 5
}
