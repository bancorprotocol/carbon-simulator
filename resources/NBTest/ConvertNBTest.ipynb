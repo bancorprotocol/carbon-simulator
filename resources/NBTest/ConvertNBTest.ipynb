{
 "cells": [
  {
   "cell_type": "code",
   "execution_count": 379,
   "id": "439cb109",
   "metadata": {},
   "outputs": [],
   "source": [
    "from carbon.helpers.fls import *\n",
    "import sys\n",
    "import os\n",
    "import re\n",
    "from collections import namedtuple\n",
    "__VERSION__ = \"1.3\"\n",
    "__DATE__ = \"26/Jan/2023\""
   ]
  },
  {
   "cell_type": "markdown",
   "id": "ddd3ebfe",
   "metadata": {},
   "source": [
    "VERSION HISTORY\n",
    "\n",
    "- v1.2.1: import fls from Carbon\n",
    "- v1.2: [TEST] and [NOTEST]; defaults\n"
   ]
  },
  {
   "cell_type": "markdown",
   "id": "2b5b07e2",
   "metadata": {},
   "source": [
    "# Convert NBTest\n",
    "\n",
    "Converts files `NBTest_9999_Comment.py -> test_9999_Comment.py` suitable for `pytest`"
   ]
  },
  {
   "cell_type": "code",
   "execution_count": 380,
   "id": "3a724746",
   "metadata": {},
   "outputs": [
    {
     "name": "stdout",
     "output_type": "stream",
     "text": [
      "NBTestConvert v1.2.1 21/Jan/2022\n"
     ]
    }
   ],
   "source": [
    "print(f\"NBTestConvert v{__VERSION__} {__DATE__}\")"
   ]
  },
  {
   "cell_type": "code",
   "execution_count": 381,
   "id": "51e64aeb",
   "metadata": {},
   "outputs": [],
   "source": [
    "NOTEST_DEFAULT=\"TEST\""
   ]
  },
  {
   "cell_type": "markdown",
   "id": "22f88afc",
   "metadata": {},
   "source": [
    "## Get script path and set paths"
   ]
  },
  {
   "cell_type": "code",
   "execution_count": 382,
   "id": "96fdbec3",
   "metadata": {},
   "outputs": [
    {
     "data": {
      "text/plain": [
       "['/Users/skl/opt/anaconda3/lib/python3.8/site-packages',\n",
       " 'ipykernel_launcher.py']"
      ]
     },
     "execution_count": 382,
     "metadata": {},
     "output_type": "execute_result"
    }
   ],
   "source": [
    "sys.argv[0].rsplit(\"/\", maxsplit=1)"
   ]
  },
  {
   "cell_type": "code",
   "execution_count": 383,
   "id": "b7ddebc8",
   "metadata": {},
   "outputs": [
    {
     "data": {
      "text/plain": [
       "'ipykernel_launcher.py'"
      ]
     },
     "execution_count": 383,
     "metadata": {},
     "output_type": "execute_result"
    }
   ],
   "source": [
    "sys.argv[0].rsplit(\"/\", maxsplit=1)[-1]"
   ]
  },
  {
   "cell_type": "code",
   "execution_count": 384,
   "id": "7a4dd5d6",
   "metadata": {},
   "outputs": [],
   "source": [
    "if sys.argv[0].rsplit(\"/\", maxsplit=1)[-1]==\"ipykernel_launcher.py\":\n",
    "    JUPYTER = True\n",
    "    SCRIPTPATH = os.getcwd()\n",
    "else:\n",
    "    JUPYTER = False\n",
    "    SCRIPTPATH = os.path.dirname(os.path.realpath(sys.argv[0]))"
   ]
  },
  {
   "cell_type": "code",
   "execution_count": 385,
   "id": "0c8d723b",
   "metadata": {},
   "outputs": [],
   "source": [
    "SRCPATH = os.path.join(SCRIPTPATH, \"\")\n",
    "TRGPATH = os.path.join(SCRIPTPATH, \"../../Carbon/tests/nbtest\")"
   ]
  },
  {
   "cell_type": "code",
   "execution_count": 386,
   "id": "b3fb3cff",
   "metadata": {},
   "outputs": [
    {
     "name": "stdout",
     "output_type": "stream",
     "text": [
      "JUPYTER True\n",
      "SCRIPTPATH /Users/skl/REPOES/Bancor/CarbonSimulator/resources/NBTest\n",
      "SRCPATH /Users/skl/REPOES/Bancor/CarbonSimulator/resources/NBTest/\n",
      "TRGPATH /Users/skl/REPOES/Bancor/CarbonSimulator/resources/NBTest/../../Carbon/tests/nbtest\n",
      "---\n"
     ]
    }
   ],
   "source": [
    "print(\"JUPYTER\", JUPYTER)\n",
    "print(\"SCRIPTPATH\", SCRIPTPATH)\n",
    "print(\"SRCPATH\", SRCPATH)\n",
    "print(\"TRGPATH\", TRGPATH)\n",
    "print(\"---\")"
   ]
  },
  {
   "cell_type": "markdown",
   "id": "119d110f",
   "metadata": {},
   "source": [
    "## Generate the list of files"
   ]
  },
  {
   "cell_type": "code",
   "execution_count": 387,
   "id": "553fbebb",
   "metadata": {},
   "outputs": [
    {
     "data": {
      "text/plain": [
       "['.DS_Store',\n",
       " '.ipynb_checkpoints',\n",
       " 'ConvertNBTest.ipynb',\n",
       " 'ConvertNBTest.py',\n",
       " 'NBTest_0000_TestNotebook.ipynb',\n",
       " 'NBTest_0000_TestNotebook.py',\n",
       " 'NBTest_001_SharedVar.ipynb',\n",
       " 'NBTest_001_SharedVar.py',\n",
       " 'NBTest_032_Analytics.ipynb',\n",
       " 'NBTest_032_Analytics.py',\n",
       " 'NBTest_033_carbonpair.ipynb',\n",
       " 'NBTest_033_carbonpair.py',\n",
       " 'NBTest_034_Liquidity.ipynb',\n",
       " 'NBTest_034_Liquidity.py',\n",
       " 'NBTest_035_UsePositions.ipynb',\n",
       " 'NBTest_035_UsePositions.py',\n",
       " 'NBTest_036_LiquidityApprox.ipynb',\n",
       " 'NBTest_036_LiquidityApprox.py',\n",
       " 'NBTest_037_Match.ipynb',\n",
       " 'NBTest_037_Match.py',\n",
       " 'NBTest_038_CarbonPair.ipynb',\n",
       " 'NBTest_038_CarbonPair.py',\n",
       " 'NBTest_039_Future.ipynb',\n",
       " 'NBTest_039_Future.py',\n",
       " 'NBTest_040_PairInSim.ipynb',\n",
       " 'NBTest_040_PairInSim.py',\n",
       " 'NBTest_041_DisabledStrategies.ipynb',\n",
       " 'NBTest_041_DisabledStrategies.py',\n",
       " 'NBTest_043_SglOrder.ipynb',\n",
       " 'NBTest_043_SglOrder.py',\n",
       " 'NBTest_044_MarginalPriceRouting.ipynb',\n",
       " 'NBTest_044_MarginalPriceRouting.py',\n",
       " 'NBTest_045_OrderBook.ipynb',\n",
       " 'NBTest_045_OrderBook.py',\n",
       " 'NBTest_048_PartialFullfilment.ipynb',\n",
       " 'NBTest_048_PartialFullfilment.py',\n",
       " 'NBTest_050_OrderUI.ipynb',\n",
       " 'NBTest_050_OrderUI.py',\n",
       " 'NBTest_051_Trading.ipynb',\n",
       " 'NBTest_051_Trading.py',\n",
       " 'NBTest_052_Demo73Helpers.ipynb',\n",
       " 'NBTest_052_Demo73Helpers.py',\n",
       " 'NBTest_053_MargPandYInt.ipynb',\n",
       " 'NBTest_053_MargPandYInt.py',\n",
       " 'NBTest_901_ThresholdOrdersSlow.ipynb',\n",
       " 'NBTest_901_ThresholdOrdersSlow.py',\n",
       " 'NBTest_902_FastRouterSlow.ipynb',\n",
       " 'NBTest_902_FastRouterSlow.py',\n",
       " 'NBTest_903_LimitPricesSlow.ipynb',\n",
       " 'NBTest_903_LimitPricesSlow.py',\n",
       " '__pycache__',\n",
       " 'carbon']"
      ]
     },
     "execution_count": 387,
     "metadata": {},
     "output_type": "execute_result"
    }
   ],
   "source": [
    "rawlist = os.listdir(SRCPATH)\n",
    "rawlist.sort()\n",
    "rawlist"
   ]
  },
  {
   "cell_type": "code",
   "execution_count": 388,
   "id": "71dc0630",
   "metadata": {},
   "outputs": [
    {
     "data": {
      "text/plain": [
       "datarecord_nt(tid='0000', comment='Bla', fn='NBTest_0000_Bla.py', outfn='test_0000_Bla.py')"
      ]
     },
     "execution_count": 388,
     "metadata": {},
     "output_type": "execute_result"
    }
   ],
   "source": [
    "dr_nt = namedtuple(\"datarecord_nt\", \"tid, comment, fn, outfn\")\n",
    "def filterfn(fn):\n",
    "    \"\"\"\n",
    "    takes fn and returns either filelist_nt or None \n",
    "    \"\"\"\n",
    "    nxsplit = fn.rsplit(\".\", maxsplit=1)\n",
    "    if len(nxsplit) < 2: return None\n",
    "    if not(nxsplit[1].lower()==\"py\"): return None\n",
    "    fnsplit = nxsplit[0].split(\"_\")\n",
    "    if not len(fnsplit) in [2,3]: return None\n",
    "    if not fnsplit[0] == \"NBTest\": return None\n",
    "    tid = fnsplit[1]\n",
    "    try:\n",
    "        comment = fnsplit[2]\n",
    "    except IndexError:\n",
    "        comment = \"\"\n",
    "    outfn = f\"test_{tid}_{comment}.py\"\n",
    "    return dr_nt(tid=tid, comment=comment, fn=fn, outfn=outfn)\n",
    "\n",
    "assert filterfn(\"README\") is None\n",
    "assert filterfn(\"NBTest_0000_Bla.ipynb\") is None\n",
    "assert filterfn(\"NBTest_0000.py\")\n",
    "assert filterfn(\"Test_0000_Bla.py\") is None\n",
    "assert filterfn(\"NBTest_1.10.4_Bla.py\").tid == \"1.10.4\"\n",
    "assert filterfn(\"NBTest_1.py\").comment == \"\"\n",
    "filterfn(\"NBTest_0000_Bla.py\")"
   ]
  },
  {
   "cell_type": "code",
   "execution_count": 389,
   "id": "e86139a7",
   "metadata": {},
   "outputs": [
    {
     "data": {
      "text/plain": [
       "(datarecord_nt(tid='0000', comment='TestNotebook', fn='NBTest_0000_TestNotebook.py', outfn='test_0000_TestNotebook.py'),\n",
       " datarecord_nt(tid='001', comment='SharedVar', fn='NBTest_001_SharedVar.py', outfn='test_001_SharedVar.py'),\n",
       " datarecord_nt(tid='032', comment='Analytics', fn='NBTest_032_Analytics.py', outfn='test_032_Analytics.py'),\n",
       " datarecord_nt(tid='033', comment='carbonpair', fn='NBTest_033_carbonpair.py', outfn='test_033_carbonpair.py'),\n",
       " datarecord_nt(tid='034', comment='Liquidity', fn='NBTest_034_Liquidity.py', outfn='test_034_Liquidity.py'),\n",
       " datarecord_nt(tid='035', comment='UsePositions', fn='NBTest_035_UsePositions.py', outfn='test_035_UsePositions.py'),\n",
       " datarecord_nt(tid='036', comment='LiquidityApprox', fn='NBTest_036_LiquidityApprox.py', outfn='test_036_LiquidityApprox.py'),\n",
       " datarecord_nt(tid='037', comment='Match', fn='NBTest_037_Match.py', outfn='test_037_Match.py'),\n",
       " datarecord_nt(tid='038', comment='CarbonPair', fn='NBTest_038_CarbonPair.py', outfn='test_038_CarbonPair.py'),\n",
       " datarecord_nt(tid='039', comment='Future', fn='NBTest_039_Future.py', outfn='test_039_Future.py'),\n",
       " datarecord_nt(tid='040', comment='PairInSim', fn='NBTest_040_PairInSim.py', outfn='test_040_PairInSim.py'),\n",
       " datarecord_nt(tid='041', comment='DisabledStrategies', fn='NBTest_041_DisabledStrategies.py', outfn='test_041_DisabledStrategies.py'),\n",
       " datarecord_nt(tid='043', comment='SglOrder', fn='NBTest_043_SglOrder.py', outfn='test_043_SglOrder.py'),\n",
       " datarecord_nt(tid='044', comment='MarginalPriceRouting', fn='NBTest_044_MarginalPriceRouting.py', outfn='test_044_MarginalPriceRouting.py'),\n",
       " datarecord_nt(tid='045', comment='OrderBook', fn='NBTest_045_OrderBook.py', outfn='test_045_OrderBook.py'),\n",
       " datarecord_nt(tid='048', comment='PartialFullfilment', fn='NBTest_048_PartialFullfilment.py', outfn='test_048_PartialFullfilment.py'),\n",
       " datarecord_nt(tid='050', comment='OrderUI', fn='NBTest_050_OrderUI.py', outfn='test_050_OrderUI.py'),\n",
       " datarecord_nt(tid='051', comment='Trading', fn='NBTest_051_Trading.py', outfn='test_051_Trading.py'),\n",
       " datarecord_nt(tid='052', comment='Demo73Helpers', fn='NBTest_052_Demo73Helpers.py', outfn='test_052_Demo73Helpers.py'),\n",
       " datarecord_nt(tid='053', comment='MargPandYInt', fn='NBTest_053_MargPandYInt.py', outfn='test_053_MargPandYInt.py'),\n",
       " datarecord_nt(tid='901', comment='ThresholdOrdersSlow', fn='NBTest_901_ThresholdOrdersSlow.py', outfn='test_901_ThresholdOrdersSlow.py'),\n",
       " datarecord_nt(tid='902', comment='FastRouterSlow', fn='NBTest_902_FastRouterSlow.py', outfn='test_902_FastRouterSlow.py'),\n",
       " datarecord_nt(tid='903', comment='LimitPricesSlow', fn='NBTest_903_LimitPricesSlow.py', outfn='test_903_LimitPricesSlow.py'))"
      ]
     },
     "execution_count": 389,
     "metadata": {},
     "output_type": "execute_result"
    }
   ],
   "source": [
    "fnlst = (filterfn(fn) for fn in rawlist)\n",
    "fnlst = tuple(r for r in fnlst if not r is None)\n",
    "#fnlst = (fnlst[1],)\n",
    "fnlst"
   ]
  },
  {
   "cell_type": "markdown",
   "id": "23841ca4",
   "metadata": {},
   "source": [
    "## Process files"
   ]
  },
  {
   "cell_type": "code",
   "execution_count": 390,
   "id": "5541fc2c",
   "metadata": {},
   "outputs": [],
   "source": [
    "def funcn(title):\n",
    "    \"\"\"\n",
    "    converts a title into a function name\n",
    "    \n",
    "    NOTE\n",
    "    \n",
    "    \"This is a title [TEST]\"     -> test_this_is_a_title\n",
    "    \"This is a title [NOTEST]\"   -> notest_this_is_a_title\n",
    "    \"This is a title\"            -> depends on NOTEST_DEFAULT global\n",
    "    \"\"\"\n",
    "    global NOTEST_DEFAULT\n",
    "    #print(\"[funcn] NOTEST_DEFAULT\", NOTEST_DEFAULT)\n",
    "    \n",
    "    title = title.strip()\n",
    "    if title[-8:] == \"[NOTEST]\":\n",
    "        notest = True\n",
    "        title = title[:-8].strip()\n",
    "    elif title[-6:] == \"[TEST]\":\n",
    "        notest = False\n",
    "        title = title[:-6].strip()\n",
    "    else:\n",
    "        notest = True if NOTEST_DEFAULT == \"NOTEST\" else False \n",
    "        \n",
    "        \n",
    "    prefix = \"notest_\" if notest else \"test_\"\n",
    "\n",
    "        \n",
    "    funcn = title.lower()\n",
    "    funcn = funcn.replace(\" \", \"_\")\n",
    "    funcn = prefix+funcn\n",
    "    return funcn\n",
    "\n",
    "assert funcn(\" Title [TEST]  \") == \"test_title\"\n",
    "assert funcn(\" Title [NOTEST] \") == \"notest_title\"\n",
    "assert funcn(\" Title  \") == \"notest_title\" if NOTEST_DEFAULT==\"NOTEST\" else \"test_title\"\n",
    "assert funcn(\" Advanced Testing [TEST]  \") == \"test_advanced_testing\"\n",
    "assert funcn(\" A notest title [NOTEST] \") == \"notest_a_notest_title\"\n",
    "#funcn(\"Asserting that the radius computes correctly\")"
   ]
  },
  {
   "cell_type": "code",
   "execution_count": 391,
   "id": "49a6c4d7",
   "metadata": {},
   "outputs": [
    {
     "data": {
      "text/plain": [
       "'notest_a_notest_title'"
      ]
     },
     "execution_count": 391,
     "metadata": {},
     "output_type": "execute_result"
    }
   ],
   "source": [
    "funcn(\"A notest title [NOTEST]\")"
   ]
  },
  {
   "cell_type": "code",
   "execution_count": 392,
   "id": "233d86a2",
   "metadata": {},
   "outputs": [],
   "source": [
    "def process_code(code, dr, srcpath=None, trgpath=None):\n",
    "    \"\"\"\n",
    "    processes notebook code\n",
    "    \n",
    "    :code:      the code to be processed\n",
    "    :dr:        the associated data record (datarecord_nt)\n",
    "    :srcpath:   source path (info only)\n",
    "    :trgpath:   target path (info only)\n",
    "    \"\"\"\n",
    "    lines = code.splitlines()\n",
    "    outlines = [\n",
    "                 \"# \"+\"-\"*60,\n",
    "                f\"# Auto generated test file `{dr.outfn}`\",\n",
    "                 \"# \"+\"-\"*60,\n",
    "                f\"# source file   = {dr.fn}\"\n",
    "    ]\n",
    "    if srcpath and srcpath != \".\":\n",
    "        outlines += [\n",
    "                f\"# source path   = {srcpath}\"\n",
    "        ]\n",
    "    if trgpath and trgpath != \".\":\n",
    "        outlines += [\n",
    "                f\"# target path   = {srcpath}\"\n",
    "        ]\n",
    "    outlines += [\n",
    "        \n",
    "                f\"# test id       = {dr.tid}\",\n",
    "                f\"# test comment  = {dr.comment}\",\n",
    "                 \"# \"+\"-\"*60,\n",
    "                \"\",\"\",\n",
    "    ]\n",
    "    is_precode = True\n",
    "    for l in lines:\n",
    "#         print(l)\n",
    "#         try:\n",
    "#             print(l[:5], l[:5].encode(), ord(l[1]), ord(l[4]), l[:5]==\"# ## \")\n",
    "#         except:\n",
    "#             pass\n",
    "        \n",
    "        if l[:4] == \"# # \":\n",
    "            print(f\"\"\"Processing \"{l[4:]}\" ({r.fn})\"\"\")\n",
    "            outlines += [\"\"]\n",
    "            \n",
    "        elif l[:5] == \"# ## \" or l[:5].encode() == b'# ##\\xc2\\xa0':\n",
    "            title = l[5:].strip()\n",
    "            fcn = funcn(title)\n",
    "            print(f\"  creating function `{fcn}()` from section {title}\")\n",
    "            outlines += [\n",
    "                 \"\",\n",
    "                 \"# \"+\"-\"*60,\n",
    "                f\"# Test      {r.tid}\",\n",
    "                f\"# File      {r.outfn}\",\n",
    "                f\"# Segment   {title}\",\n",
    "                 \"# \"+\"-\"*60,\n",
    "                f\"def {fcn}():\",\n",
    "                 \"# \"+\"-\"*60,\n",
    "            ]\n",
    "            is_precode = False\n",
    "            \n",
    "        elif l[:9] == \"# NBTEST:\":\n",
    "            l = l[9:]\n",
    "            try:\n",
    "                opt, val = l.split(\"=\")\n",
    "                opt=opt.strip().upper()\n",
    "                val=val.strip().upper()\n",
    "            except:\n",
    "                print(f\"  error setting option\", l)\n",
    "                raise ValueError(\"Error setting option\", l, dr.fn)\n",
    "            print(f\"  processiong option {opt}={val}\")\n",
    "            if opt == \"NOTEST_DEFAULT\":\n",
    "                global NOTEST_DEFAULT\n",
    "                if val in [\"TEST\", \"NOTEST\"]:\n",
    "                    NOTEST_DEFAULT = val\n",
    "                    #print(\"[process_code] NOTEST_DEFAULT\", NOTEST_DEFAULT)\n",
    "                else:\n",
    "                    raise ValueError(f\"Invalid choice for option NOTEST_DEFAULT: {val}\", l, dr.fn)\n",
    "            else:\n",
    "                raise ValueError(f\"Unknown option {opt}\", l, dr.fn)\n",
    "            \n",
    "            \n",
    "        else:\n",
    "            if is_precode:\n",
    "                if l[:2] != \"# \":\n",
    "                    outlines += [l]\n",
    "            else:\n",
    "                outlines += [\"    \"+l]\n",
    "    outcode = \"\\n\".join(outlines)\n",
    "    return outcode"
   ]
  },
  {
   "cell_type": "code",
   "execution_count": 393,
   "id": "82d9c3d5",
   "metadata": {},
   "outputs": [
    {
     "name": "stdout",
     "output_type": "stream",
     "text": [
      "Processing \"NBTest Test Notebook\" (NBTest_0000_TestNotebook.py)\n",
      "  processiong option NOTEST_DEFAULT=TEST\n",
      "  creating function `test_segment_1()` from section Segment 1\n",
      "  creating function `test_segment_2()` from section Segment 2 [TEST]\n",
      "  creating function `notest_segment_3()` from section Segment 3 [NOTEST]\n",
      "  saving generated test to test_0000_TestNotebook.py\n",
      "Processing \"SharedVar class in helpers (NBTest 54)\" (NBTest_001_SharedVar.py)\n",
      "  creating function `test_shared_var()` from section Shared Var\n",
      "  saving generated test to test_001_SharedVar.py\n",
      "Processing \"Carbon Simulation - Test 32\" (NBTest_032_Analytics.py)\n",
      "  processiong option NOTEST_DEFAULT=TEST\n",
      "  creating function `test_basic_arithmetic_functions()` from section Basic arithmetic functions\n",
      "  creating function `test_advanced_functions()` from section Advanced functions\n",
      "  saving generated test to test_032_Analytics.py\n",
      "Processing \"Carbon Simulation - Test 33 - CarbonPair\" (NBTest_033_carbonpair.py)\n",
      "  processiong option NOTEST_DEFAULT=TEST\n",
      "  creating function `test_carbonpair()` from section CarbonPair\n",
      "  saving generated test to test_033_carbonpair.py\n",
      "Processing \"Carbon Simulation - Test 34 - Liquidity\" (NBTest_034_Liquidity.py)\n",
      "  processiong option NOTEST_DEFAULT=TEST\n",
      "  creating function `test_liquidity()` from section Liquidity\n",
      "  saving generated test to test_034_Liquidity.py\n",
      "Processing \"Carbon Simulation - Test 34 - UsePositions\" (NBTest_035_UsePositions.py)\n",
      "  processiong option NOTEST_DEFAULT=TEST\n",
      "  creating function `test_use_position()` from section use_position\n",
      "  saving generated test to test_035_UsePositions.py\n",
      "Processing \"Carbon Simulation - Test 36 - Liquidity Approximation\" (NBTest_036_LiquidityApprox.py)\n",
      "  processiong option NOTEST_DEFAULT=TEST\n",
      "  creating function `test_order_0_eth_range()` from section Order 0 ETH range\n",
      "  creating function `test_order_1_eth_point()` from section Order 1 ETH point\n",
      "  creating function `test_order_2_usdc_range()` from section Order 2 USDC range\n",
      "  creating function `test_order_3_usdc_point()` from section Order 3 USDC point\n",
      "  saving generated test to test_036_LiquidityApprox.py\n",
      "Processing \"Carbon Simulation - Test 37 - Match\" (NBTest_037_Match.py)\n",
      "  processiong option NOTEST_DEFAULT=TEST\n",
      "  creating function `test_match()` from section Match\n",
      "  saving generated test to test_037_Match.py\n",
      "Processing \"Carbon Simulation - Test 38 - CarbonPair\" (NBTest_038_CarbonPair.py)\n",
      "  processiong option NOTEST_DEFAULT=TEST\n",
      "  creating function `test_carbonpair()` from section CarbonPair\n",
      "  saving generated test to test_038_CarbonPair.py\n",
      "Processing \"Carbon Simulation - Test 39 - Future\" (NBTest_039_Future.py)\n",
      "  processiong option NOTEST_DEFAULT=TEST\n",
      "  creating function `test_future()` from section Future\n",
      "  saving generated test to test_039_Future.py\n",
      "Processing \"Carbon Simulation - Test 40 - PairInSim\" (NBTest_040_PairInSim.py)\n",
      "  processiong option NOTEST_DEFAULT=TEST\n",
      "  creating function `test_pair_without_carbonpair_defaults()` from section Pair without CarbonPair defaults\n",
      "  creating function `test_pair_with_carbonpair_defaults()` from section Pair with CarbonPair defaults\n",
      "  saving generated test to test_040_PairInSim.py\n",
      "Processing \"Carbon Simulation - Test 41 - Disabled Strategies and Orders\" (NBTest_041_DisabledStrategies.py)\n",
      "  processiong option NOTEST_DEFAULT=TEST\n",
      "  creating function `test_disabled_orders()` from section Disabled Orders\n",
      "  creating function `test_disabled_strategies()` from section Disabled Strategies\n",
      "  creating function `test_trading()` from section Trading\n",
      "  saving generated test to test_041_DisabledStrategies.py\n",
      "Processing \"Carbon Simulation - Test 43 - Single Orders\" (NBTest_043_SglOrder.py)\n",
      "  processiong option NOTEST_DEFAULT=TEST\n",
      "  creating function `test_single_orders()` from section Single orders\n",
      "  saving generated test to test_043_SglOrder.py\n",
      "Processing \"Marginal Price Routing Example (NBTest 44)\" (NBTest_044_MarginalPriceRouting.py)\n",
      "  processiong option NOTEST_DEFAULT=TEST\n",
      "  creating function `test_carbonpair_related_tests()` from section CarbonPair related tests\n",
      "  creating function `test_carbonorderui_general_tests()` from section CarbonOrderUI general tests\n",
      "  creating function `test_carbonorderui_tests_yfromp()` from section CarbonOrderUI tests yfromp\n",
      "  creating function `test_carbonorderui_tests_dyfromdx_f_and_dxfromdy_f()` from section CarbonOrderUI tests dyfromdx_f and dxfromdy_f\n",
      "  creating function `notest_carbonorderui_charts()` from section CarbonOrderUI charts [NOTEST]\n",
      "  creating function `test_carbonorderui_tests_goalseek()` from section CarbonOrderUI tests goalseek\n",
      "  creating function `notest_example_usage()` from section Example usage [NOTEST]\n",
      "  saving generated test to test_044_MarginalPriceRouting.py\n",
      "Processing \"Order Book example (NBTest 45)\" (NBTest_045_OrderBook.py)\n",
      "  processiong option NOTEST_DEFAULT=TEST\n",
      "  creating function `test_curves_by_pair_bidask()` from section curves_by_pair_bidask\n",
      "  creating function `test_carbonorderui_id_and_linked()` from section CarbonOrderUI id and linked\n",
      "  creating function `notest_approximate_liquidity()` from section Approximate liquidity [NOTEST]\n",
      "  creating function `notest_ask___amm_sells_base_token()` from section ASK _ AMM SELLS base token [NOTEST]\n",
      "  creating function `notest_bid___amm_buys_base_token()` from section BID _ AMM BUYS base token [NOTEST]\n",
      "  creating function `notest_combined()` from section Combined [NOTEST]\n",
      "  saving generated test to test_045_OrderBook.py\n",
      "Processing \"Carbon Simulation - Demo 6-1\" (NBTest_048_PartialFullfilment.py)\n",
      "  creating function `test_init()` from section Init\n",
      "  saving generated test to test_048_PartialFullfilment.py\n",
      "Processing \"Carbon Order UI extensions (NBTest 50)\" (NBTest_050_OrderUI.py)\n",
      "  processiong option NOTEST_DEFAULT=TEST\n",
      "  creating function `test_carbonorderui_ids_and_data()` from section carbonorderui ids and data\n",
      "  creating function `test_carbonorderui_addliqy()` from section carbonorderui addliqy\n",
      "  creating function `test_carbonorderui_trading()` from section carbonorderui trading\n",
      "  creating function `test_tradeto_basics()` from section tradeto basics\n",
      "  creating function `test_tradeto_over_linked_orders()` from section tradeto over linked orders\n",
      "  creating function `test_more_tradeto_over_linked_orders()` from section more tradeto over linked orders\n",
      "  saving generated test to test_050_OrderUI.py\n",
      "Processing \"Trading with Carbon Order UI extensions (NBTest 51)\" (NBTest_051_Trading.py)\n",
      "  processiong option NOTEST_DEFAULT=TEST\n",
      "  creating function `notest_without_using_tradeto()` from section without using tradeto [NOTEST]\n",
      "  creating function `test_with_using_tradeto()` from section with using tradeto\n",
      "  saving generated test to test_051_Trading.py\n",
      "Processing \"Carbon Helpers (NBTest 052)\" (NBTest_052_Demo73Helpers.py)\n",
      "  creating function `test_params()` from section params\n",
      "  creating function `notest_widgets()` from section widgets [NOTEST]\n",
      "  creating function `test_widgets()` from section widgets\n",
      "  creating function `test_helpers_stdimport()` from section helpers stdimport\n",
      "  creating function `test_helpers_version()` from section helpers version\n",
      "  creating function `test_helpers_strategy()` from section helpers strategy\n",
      "  creating function `test_helpers_pdread()` from section helpers pdread\n",
      "  creating function `notest_demo_7_3()` from section demo 7 3 [NOTEST]\n",
      "  saving generated test to test_052_Demo73Helpers.py\n",
      "Processing \"Marginal Prices and Yint (NBTest 53)\" (NBTest_053_MargPandYInt.py)\n",
      "  processiong option NOTEST_DEFAULT=TEST\n",
      "  creating function `test_tests_fail()` from section tests fail\n",
      "  creating function `test_add_strategy()` from section add_strategy\n",
      "  creating function `test_add_order()` from section add_order\n",
      "  saving generated test to test_053_MargPandYInt.py\n",
      "Processing \"ThresholdOrdersUsePos (NBTest 46)\" (NBTest_901_ThresholdOrdersSlow.py)\n",
      "  processiong option NOTEST_DEFAULT=TEST\n",
      "  creating function `test_thresholdordersusepos()` from section ThresholdOrdersUsePos\n",
      "  saving generated test to test_901_ThresholdOrdersSlow.py\n",
      "Processing \"FastRouter (NBTest 47)\" (NBTest_902_FastRouterSlow.py)\n",
      "  processiong option NOTEST_DEFAULT=TEST\n",
      "  creating function `test_fastroutertests()` from section FastRouterTests\n",
      "  saving generated test to test_902_FastRouterSlow.py\n",
      "Processing \"Carbon Simulation - Test 49 - Limit Prices\" (NBTest_903_LimitPricesSlow.py)\n",
      "  processiong option NOTEST_DEFAULT=TEST\n",
      "  creating function `test_limit_prices()` from section Limit prices\n",
      "  saving generated test to test_903_LimitPricesSlow.py\n"
     ]
    }
   ],
   "source": [
    "for r in fnlst:\n",
    "    code = fload(r.fn, SRCPATH, quiet=True)\n",
    "    testcode = process_code(code, r, SRCPATH, TRGPATH)\n",
    "    fsave(testcode, r.outfn, TRGPATH, quiet=True)\n",
    "    print(f\"  saving generated test to {r.outfn}\")"
   ]
  }
 ],
 "metadata": {
  "jupytext": {
   "formats": "ipynb,py:light"
  },
  "kernelspec": {
   "display_name": "Python 3",
   "language": "python",
   "name": "python3"
  },
  "language_info": {
   "codemirror_mode": {
    "name": "ipython",
    "version": 3
   },
   "file_extension": ".py",
   "mimetype": "text/x-python",
   "name": "python",
   "nbconvert_exporter": "python",
   "pygments_lexer": "ipython3",
   "version": "3.8.8"
  }
 },
 "nbformat": 4,
 "nbformat_minor": 5
}
