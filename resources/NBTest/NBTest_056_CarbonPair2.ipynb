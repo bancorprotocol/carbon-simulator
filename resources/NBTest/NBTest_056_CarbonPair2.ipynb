{
 "cells": [
  {
   "cell_type": "code",
   "execution_count": 1,
   "id": "afd0cfc2",
   "metadata": {},
   "outputs": [
    {
     "name": "stdout",
     "output_type": "stream",
     "text": [
      "CarbonPair 2.1 (04/Feb/2022)\n",
      "Carbon v2.3.2-BETA1 (01/Feb/2022)\n"
     ]
    }
   ],
   "source": [
    "from carbon import CarbonSimulatorUI, CarbonOrderUI, CarbonPair, __version__, __date__\n",
    "from carbon.helpers import SharedVar, print_version\n",
    "from math import floor, ceil, trunc\n",
    "print(\"{0.__name__} {0.__VERSION__} ({0.__DATE__})\".format(CarbonPair))\n",
    "print_version(require=\"2.3.2\")"
   ]
  },
  {
   "cell_type": "markdown",
   "id": "57c17850",
   "metadata": {},
   "source": [
    "# Carbon pair amendments (NBTest 56)"
   ]
  },
  {
   "cell_type": "markdown",
   "id": "ed197d82",
   "metadata": {},
   "source": [
    "## Ensure capitalisation"
   ]
  },
  {
   "cell_type": "code",
   "execution_count": 2,
   "id": "d8a21677",
   "metadata": {},
   "outputs": [],
   "source": [
    "assert CarbonPair(\"usd/eth\").tknb == \"USD\"\n",
    "assert CarbonPair(\"usd/eth\").tknq == \"ETH\"\n",
    "assert CarbonPair(\"usd/eth\").slashpair == \"USD/ETH\"\n",
    "assert CarbonPair(\"bnBNT/eth\").tknb == \"BNBNT\""
   ]
  },
  {
   "cell_type": "code",
   "execution_count": 3,
   "id": "7c620cb2",
   "metadata": {},
   "outputs": [],
   "source": [
    "assert CarbonPair(tknb=\"usd\", tknq=\"eth\").tknb == \"USD\"\n",
    "assert CarbonPair(tknb=\"usd\", tknq=\"eth\").tknq == \"ETH\"\n",
    "assert CarbonPair(tknb=\"usd\", tknq=\"eth\").slashpair == \"USD/ETH\"\n",
    "assert CarbonPair(tknb=\"bnBNT\", tknq=\"eth\").tknb == \"BNBNT\""
   ]
  },
  {
   "cell_type": "markdown",
   "id": "af7d6f77",
   "metadata": {},
   "source": [
    "## Ensure originals are preserved"
   ]
  },
  {
   "cell_type": "code",
   "execution_count": 4,
   "id": "db0cf91f",
   "metadata": {},
   "outputs": [],
   "source": [
    "assert CarbonPair(\"usd/eth\").tknb_o == \"usd\"\n",
    "assert CarbonPair(\"usd/eth\").tknq_o == \"eth\"\n",
    "assert CarbonPair(\"usd/eth\").slashpair_o == \"usd/eth\"\n",
    "assert CarbonPair(\"bnBNT/eth\").tknb_o == \"bnBNT\"\n",
    "assert CarbonPair(\"bnBNT/eth\").slashpair_o == \"bnBNT/eth\""
   ]
  },
  {
   "cell_type": "code",
   "execution_count": 5,
   "id": "e9ee013e",
   "metadata": {},
   "outputs": [],
   "source": [
    "assert CarbonPair(tknb=\"usd\", tknq=\"eth\").tknb_o == \"usd\"\n",
    "assert CarbonPair(tknb=\"usd\", tknq=\"eth\").tknq_o == \"eth\"\n",
    "assert CarbonPair(tknb=\"usd\", tknq=\"eth\").slashpair_o == \"usd/eth\"\n",
    "assert CarbonPair(tknb=\"bnBNT\", tknq=\"eth\").tknb_o == \"bnBNT\"\n",
    "assert CarbonPair(tknb=\"bnBNT\", tknq=\"eth\").slashpair_o == \"bnBNT/eth\""
   ]
  },
  {
   "cell_type": "markdown",
   "id": "8a690259",
   "metadata": {},
   "source": [
    "## Ensure display values are correct"
   ]
  },
  {
   "cell_type": "markdown",
   "id": "474c9de7",
   "metadata": {},
   "source": [
    "### display_orig = Default"
   ]
  },
  {
   "cell_type": "code",
   "execution_count": 6,
   "id": "d37fd3f4",
   "metadata": {},
   "outputs": [],
   "source": [
    "assert CarbonPair(\"usd/eth\").tknb_d == \"USD\"\n",
    "assert CarbonPair(\"usd/eth\").tknq_d == \"ETH\"\n",
    "assert CarbonPair(\"usd/eth\").slashpair_d == \"USD/ETH\"\n",
    "assert CarbonPair(\"bnBNT/eth\").tknb_d == \"BNBNT\""
   ]
  },
  {
   "cell_type": "code",
   "execution_count": 7,
   "id": "e0718f8c",
   "metadata": {
    "lines_to_next_cell": 2
   },
   "outputs": [],
   "source": [
    "assert CarbonPair(tknb=\"usd\", tknq=\"eth\").tknb_d == \"USD\"\n",
    "assert CarbonPair(tknb=\"usd\", tknq=\"eth\").tknq_d == \"ETH\"\n",
    "assert CarbonPair(tknb=\"usd\", tknq=\"eth\").slashpair_d == \"USD/ETH\"\n",
    "assert CarbonPair(tknb=\"bnBNT\", tknq=\"eth\").tknb_d == \"BNBNT\""
   ]
  },
  {
   "cell_type": "markdown",
   "id": "7f4ce67e",
   "metadata": {},
   "source": [
    "### display_orig = False"
   ]
  },
  {
   "cell_type": "code",
   "execution_count": 8,
   "id": "aabaf27b",
   "metadata": {},
   "outputs": [],
   "source": [
    "assert CarbonPair(\"usd/eth\", display_orig=False).tknb_d == \"USD\"\n",
    "assert CarbonPair(\"usd/eth\", display_orig=False).tknq_d == \"ETH\"\n",
    "assert CarbonPair(\"usd/eth\", display_orig=False).slashpair_d == \"USD/ETH\"\n",
    "assert CarbonPair(\"bnBNT/eth\", display_orig=False).tknb_d == \"BNBNT\""
   ]
  },
  {
   "cell_type": "code",
   "execution_count": 9,
   "id": "eabff5bb",
   "metadata": {
    "lines_to_next_cell": 2
   },
   "outputs": [],
   "source": [
    "assert CarbonPair(tknb=\"usd\", tknq=\"eth\", display_orig=False).tknb_d == \"USD\"\n",
    "assert CarbonPair(tknb=\"usd\", tknq=\"eth\", display_orig=False).tknq_d == \"ETH\"\n",
    "assert CarbonPair(tknb=\"usd\", tknq=\"eth\", display_orig=False).slashpair_d == \"USD/ETH\"\n",
    "assert CarbonPair(tknb=\"bnBNT\", tknq=\"eth\", display_orig=False).tknb_d == \"BNBNT\""
   ]
  },
  {
   "cell_type": "markdown",
   "id": "9dfa2dcd",
   "metadata": {},
   "source": [
    "### display_orig = True"
   ]
  },
  {
   "cell_type": "code",
   "execution_count": 10,
   "id": "bb10507c",
   "metadata": {},
   "outputs": [],
   "source": [
    "assert CarbonPair(\"usd/eth\", display_orig=True).tknb_d == \"usd\"\n",
    "assert CarbonPair(\"usd/eth\", display_orig=True).tknq_d == \"eth\"\n",
    "assert CarbonPair(\"usd/eth\", display_orig=True).slashpair_d == \"usd/eth\"\n",
    "assert CarbonPair(\"bnBNT/eth\", display_orig=True).tknb_d == \"bnBNT\"\n",
    "assert CarbonPair(\"bnBNT/eth\", display_orig=True).slashpair_d == \"bnBNT/eth\""
   ]
  },
  {
   "cell_type": "code",
   "execution_count": 11,
   "id": "5be49db8",
   "metadata": {},
   "outputs": [],
   "source": [
    "assert CarbonPair(tknb=\"usd\", tknq=\"eth\", display_orig=True).tknb_d == \"usd\"\n",
    "assert CarbonPair(tknb=\"usd\", tknq=\"eth\", display_orig=True).tknq_d == \"eth\"\n",
    "assert CarbonPair(tknb=\"usd\", tknq=\"eth\", display_orig=True).slashpair_d == \"usd/eth\"\n",
    "assert CarbonPair(tknb=\"bnBNT\", tknq=\"eth\", display_orig=True).tknb_d == \"bnBNT\"\n",
    "assert CarbonPair(tknb=\"bnBNT\", tknq=\"eth\", display_orig=True).slashpair_d == \"bnBNT/eth\""
   ]
  },
  {
   "cell_type": "code",
   "execution_count": null,
   "id": "54207cf1",
   "metadata": {},
   "outputs": [],
   "source": []
  }
 ],
 "metadata": {
  "jupytext": {
   "encoding": "# -*- coding: utf-8 -*-",
   "formats": "ipynb,py:light"
  },
  "kernelspec": {
   "display_name": "Python 3",
   "language": "python",
   "name": "python3"
  },
  "language_info": {
   "codemirror_mode": {
    "name": "ipython",
    "version": 3
   },
   "file_extension": ".py",
   "mimetype": "text/x-python",
   "name": "python",
   "nbconvert_exporter": "python",
   "pygments_lexer": "ipython3",
   "version": "3.8.8"
  }
 },
 "nbformat": 4,
 "nbformat_minor": 5
}
