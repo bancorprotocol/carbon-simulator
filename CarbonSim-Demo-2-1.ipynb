{
 "cells": [
  {
   "cell_type": "code",
   "execution_count": 23,
   "id": "81b04bbc",
   "metadata": {},
   "outputs": [],
   "source": [
    "from carbon import CarbonSimulatorUI"
   ]
  },
  {
   "cell_type": "markdown",
   "id": "04af7ee4",
   "metadata": {},
   "source": [
    "# Carbon Simulation - Demo 2-1\n",
    "\n",
    "In this demo we look at **single-curve bidirectional liquidity (\"strategies\") with a zero width range**"
   ]
  },
  {
   "cell_type": "markdown",
   "id": "fb092b85",
   "metadata": {},
   "source": [
    "Set up the similation, with the pair USDCETH as default"
   ]
  },
  {
   "cell_type": "code",
   "execution_count": 24,
   "id": "b987b57a",
   "metadata": {},
   "outputs": [
    {
     "data": {
      "text/plain": [
       "CarbonSimulatorUI(<0 positions, 0 trades>, pair='ETHUSDC')"
      ]
     },
     "execution_count": 24,
     "metadata": {},
     "output_type": "execute_result"
    }
   ],
   "source": [
    "Sim = CarbonSimulatorUI(pair=\"ETHUSDC\", verbose=False, raiseonerror=False)\n",
    "Sim"
   ]
  },
  {
   "cell_type": "code",
   "execution_count": 25,
   "id": "44bb9281",
   "metadata": {},
   "outputs": [
    {
     "name": "stdout",
     "output_type": "stream",
     "text": [
      "Help on method add_strategy in module carbon.simulators.carbon_simulator:\n",
      "\n",
      "add_strategy(tkn: str, amt_sell: Any, psell_start: Any, psell_end: Any, amt_buy: Any, pbuy_start: Any, pbuy_end: Any, pair: str = None) -> Dict[str, Any] method of carbon.simulators.carbon_simulator.CarbonSimulatorUI instance\n",
      "    adds two linked position (one buy, one sell; aka a \"strategy\")\n",
      "    \n",
      "    :tkn:           the token that is sold in the range psell_start/2, eg \"ETH\"*\n",
      "    :amt_sell:      the amount of `tkn` that is available for sale in range psell_start/psell_end\n",
      "    :psell_start:   start of the sell `tkn` range*, quoted in the price convention of `pair`\n",
      "    :psell_end:     ditto end\n",
      "    :amt_buy:       the amount of the other token that is available for selling against tkn in range pbuy_start/2\n",
      "    :pbuy_start:    start of the of the buy `tkn` range*, quoted in the price convention of `pair`\n",
      "    :pbuy_end:      ditto end\n",
      "    :pair:          the token pair to which the position corresponds, eg \"ETHUSD\"\n",
      "    \n",
      "    *px_start, px_end are interchangeable, the code deals with sorting them, albeit issuing a warning\n",
      "    message if they are in the wrong order; sell and buy is seen from the perspective of the AMM, which\n",
      "    is the same as that of the strategy (liquidity) provider\n",
      "\n"
     ]
    }
   ],
   "source": [
    "help(Sim.add_strategy)"
   ]
  },
  {
   "cell_type": "markdown",
   "id": "cbcd182a",
   "metadata": {},
   "source": [
    "We assert that we can not add an unrelated position to this pair, either using an existing token like LINK, or a token like DNE (does not exist)."
   ]
  },
  {
   "cell_type": "code",
   "execution_count": 26,
   "id": "f312fd57",
   "metadata": {},
   "outputs": [
    {
     "data": {
      "text/plain": [
       "{'success': False,\n",
       " 'error': \"('Invalid token specification (tkn not part of isopair)', 'ETHUSDC', 'LINK')\",\n",
       " 'exception': ValueError('Invalid token specification (tkn not part of isopair)',\n",
       "            'ETHUSDC',\n",
       "            'LINK')}"
      ]
     },
     "execution_count": 26,
     "metadata": {},
     "output_type": "execute_result"
    }
   ],
   "source": [
    "Sim.add_strategy(\"LINK\", 10, 2000, 2000, 0, 1000, 1000)"
   ]
  },
  {
   "cell_type": "code",
   "execution_count": 27,
   "id": "bd728b77",
   "metadata": {},
   "outputs": [
    {
     "data": {
      "text/plain": [
       "{'success': False,\n",
       " 'error': \"('Invalid token specification (tkn not part of isopair)', 'ETHUSDC', 'DNE')\",\n",
       " 'exception': ValueError('Invalid token specification (tkn not part of isopair)',\n",
       "            'ETHUSDC',\n",
       "            'DNE')}"
      ]
     },
     "execution_count": 27,
     "metadata": {},
     "output_type": "execute_result"
    }
   ],
   "source": [
    "Sim.add_strategy(\"DNE\", 10, 2000, 2000, 0, 1000, 1000)"
   ]
  },
  {
   "cell_type": "markdown",
   "id": "b8980469",
   "metadata": {},
   "source": [
    "We set up a single curve where the AMM sells ETH against USDC at 2000, and buys it back at 1000. Note the `linked_to_id` flag that links those two curves; more specifically, it implies that the tokens bought on one curve are available for sale on the other."
   ]
  },
  {
   "cell_type": "code",
   "execution_count": 28,
   "id": "761009d3",
   "metadata": {},
   "outputs": [
    {
     "data": {
      "text/html": [
       "<div>\n",
       "<style scoped>\n",
       "    .dataframe tbody tr th:only-of-type {\n",
       "        vertical-align: middle;\n",
       "    }\n",
       "\n",
       "    .dataframe tbody tr th {\n",
       "        vertical-align: top;\n",
       "    }\n",
       "\n",
       "    .dataframe thead th {\n",
       "        text-align: right;\n",
       "    }\n",
       "</style>\n",
       "<table border=\"1\" class=\"dataframe\">\n",
       "  <thead>\n",
       "    <tr style=\"text-align: right;\">\n",
       "      <th></th>\n",
       "      <th>id</th>\n",
       "      <th>pair</th>\n",
       "      <th>tkn_name</th>\n",
       "      <th>y_int</th>\n",
       "      <th>y</th>\n",
       "      <th>y_unit</th>\n",
       "      <th>p_start</th>\n",
       "      <th>p_end</th>\n",
       "      <th>p_unit</th>\n",
       "      <th>linked_to_id</th>\n",
       "    </tr>\n",
       "  </thead>\n",
       "  <tbody>\n",
       "    <tr>\n",
       "      <th>0</th>\n",
       "      <td>0</td>\n",
       "      <td>ETHUSDC</td>\n",
       "      <td>ETH</td>\n",
       "      <td>100.000000</td>\n",
       "      <td>100.000000</td>\n",
       "      <td>ETH</td>\n",
       "      <td>2000.000000</td>\n",
       "      <td>2000.000000</td>\n",
       "      <td>USDC per ETH</td>\n",
       "      <td>1</td>\n",
       "    </tr>\n",
       "    <tr>\n",
       "      <th>1</th>\n",
       "      <td>1</td>\n",
       "      <td>ETHUSDC</td>\n",
       "      <td>USDC</td>\n",
       "      <td>0.000000</td>\n",
       "      <td>0.000000</td>\n",
       "      <td>USDC</td>\n",
       "      <td>1000.000000</td>\n",
       "      <td>1000.000000</td>\n",
       "      <td>USDC per ETH</td>\n",
       "      <td>0</td>\n",
       "    </tr>\n",
       "  </tbody>\n",
       "</table>\n",
       "</div>"
      ],
      "text/plain": [
       "   id     pair tkn_name       y_int           y y_unit      p_start  \\\n",
       "0   0  ETHUSDC      ETH  100.000000  100.000000    ETH  2000.000000   \n",
       "1   1  ETHUSDC     USDC    0.000000    0.000000   USDC  1000.000000   \n",
       "\n",
       "         p_end        p_unit  linked_to_id  \n",
       "0  2000.000000  USDC per ETH             1  \n",
       "1  1000.000000  USDC per ETH             0  "
      ]
     },
     "execution_count": 28,
     "metadata": {},
     "output_type": "execute_result"
    }
   ],
   "source": [
    "Sim.add_strategy(\"ETH\", 100, 2000, 2000, 0, 1000, 1000)[\"orders\"]"
   ]
  },
  {
   "cell_type": "markdown",
   "id": "7f028c69",
   "metadata": {},
   "source": [
    "We are trying to make the AMM buy ETH. That fails because it does not have any USD."
   ]
  },
  {
   "cell_type": "code",
   "execution_count": 29,
   "id": "7be77aa1",
   "metadata": {},
   "outputs": [
    {
     "data": {
      "text/plain": [
       "{'success': False,\n",
       " 'error': 'token USDC has no non-empty liquidity positions',\n",
       " 'exception': ValueError('token USDC has no non-empty liquidity positions')}"
      ]
     },
     "execution_count": 29,
     "metadata": {},
     "output_type": "execute_result"
    }
   ],
   "source": [
    "Sim.amm_buys(\"ETH\", 10)"
   ]
  },
  {
   "cell_type": "markdown",
   "id": "ea9835b9",
   "metadata": {},
   "source": [
    "Now we are trying to make the AMM sell more ETH than it has. That also fails."
   ]
  },
  {
   "cell_type": "code",
   "execution_count": 30,
   "id": "10db6c80",
   "metadata": {},
   "outputs": [
    {
     "data": {
      "text/plain": [
       "{'success': False,\n",
       " 'error': 'Insufficient liquidity across all user positions to support this trade.',\n",
       " 'exception': AssertionError('Insufficient liquidity across all user positions to support this trade.')}"
      ]
     },
     "execution_count": 30,
     "metadata": {},
     "output_type": "execute_result"
    }
   ],
   "source": [
    "Sim.amm_sells(\"ETH\", 101)"
   ]
  },
  {
   "cell_type": "markdown",
   "id": "72333b2f",
   "metadata": {},
   "source": [
    "## First cycle, part A: sell ETH"
   ]
  },
  {
   "cell_type": "markdown",
   "id": "4eacf32a",
   "metadata": {},
   "source": [
    "Let's look at the order book first: we have 100 ETH for sale at 2000, and we buy ETH at 1000, but currently have no USDC to sell"
   ]
  },
  {
   "cell_type": "code",
   "execution_count": 31,
   "id": "021ce195",
   "metadata": {},
   "outputs": [
    {
     "data": {
      "text/html": [
       "<div>\n",
       "<style scoped>\n",
       "    .dataframe tbody tr th:only-of-type {\n",
       "        vertical-align: middle;\n",
       "    }\n",
       "\n",
       "    .dataframe tbody tr th {\n",
       "        vertical-align: top;\n",
       "    }\n",
       "\n",
       "    .dataframe thead th {\n",
       "        text-align: right;\n",
       "    }\n",
       "</style>\n",
       "<table border=\"1\" class=\"dataframe\">\n",
       "  <thead>\n",
       "    <tr style=\"text-align: right;\">\n",
       "      <th></th>\n",
       "      <th>id</th>\n",
       "      <th>pair</th>\n",
       "      <th>tkn_name</th>\n",
       "      <th>y_int</th>\n",
       "      <th>y</th>\n",
       "      <th>y_unit</th>\n",
       "      <th>p_start</th>\n",
       "      <th>p_end</th>\n",
       "      <th>p_unit</th>\n",
       "      <th>linked_to_id</th>\n",
       "    </tr>\n",
       "  </thead>\n",
       "  <tbody>\n",
       "    <tr>\n",
       "      <th>0</th>\n",
       "      <td>0</td>\n",
       "      <td>ETHUSDC</td>\n",
       "      <td>ETH</td>\n",
       "      <td>100.000000</td>\n",
       "      <td>100.000000</td>\n",
       "      <td>ETH</td>\n",
       "      <td>2000.000000</td>\n",
       "      <td>2000.000000</td>\n",
       "      <td>USDC per ETH</td>\n",
       "      <td>1</td>\n",
       "    </tr>\n",
       "    <tr>\n",
       "      <th>1</th>\n",
       "      <td>1</td>\n",
       "      <td>ETHUSDC</td>\n",
       "      <td>USDC</td>\n",
       "      <td>0.000000</td>\n",
       "      <td>0.000000</td>\n",
       "      <td>USDC</td>\n",
       "      <td>1000.000000</td>\n",
       "      <td>1000.000000</td>\n",
       "      <td>USDC per ETH</td>\n",
       "      <td>0</td>\n",
       "    </tr>\n",
       "  </tbody>\n",
       "</table>\n",
       "</div>"
      ],
      "text/plain": [
       "   id     pair tkn_name       y_int           y y_unit      p_start  \\\n",
       "0   0  ETHUSDC      ETH  100.000000  100.000000    ETH  2000.000000   \n",
       "1   1  ETHUSDC     USDC    0.000000    0.000000   USDC  1000.000000   \n",
       "\n",
       "         p_end        p_unit  linked_to_id  \n",
       "0  2000.000000  USDC per ETH             1  \n",
       "1  1000.000000  USDC per ETH             0  "
      ]
     },
     "execution_count": 31,
     "metadata": {},
     "output_type": "execute_result"
    }
   ],
   "source": [
    "Sim.state()[\"orders\"]"
   ]
  },
  {
   "cell_type": "markdown",
   "id": "941e9bea",
   "metadata": {},
   "source": [
    "So as we've seen above, we can't buy ETH. Not even a tiny little bit."
   ]
  },
  {
   "cell_type": "code",
   "execution_count": 32,
   "id": "64e0a3d1",
   "metadata": {},
   "outputs": [
    {
     "data": {
      "text/plain": [
       "{'success': False,\n",
       " 'error': 'token USDC has no non-empty liquidity positions',\n",
       " 'exception': ValueError('token USDC has no non-empty liquidity positions')}"
      ]
     },
     "execution_count": 32,
     "metadata": {},
     "output_type": "execute_result"
    }
   ],
   "source": [
    "Sim.amm_buys(\"ETH\", 0.00001)"
   ]
  },
  {
   "cell_type": "markdown",
   "id": "805864ac",
   "metadata": {},
   "source": [
    "However, the AMM can sell say 10 ETH, at a price of 2000."
   ]
  },
  {
   "cell_type": "code",
   "execution_count": 33,
   "id": "658a022b",
   "metadata": {},
   "outputs": [
    {
     "data": {
      "text/html": [
       "<div>\n",
       "<style scoped>\n",
       "    .dataframe tbody tr th:only-of-type {\n",
       "        vertical-align: middle;\n",
       "    }\n",
       "\n",
       "    .dataframe tbody tr th {\n",
       "        vertical-align: top;\n",
       "    }\n",
       "\n",
       "    .dataframe thead th {\n",
       "        text-align: right;\n",
       "    }\n",
       "</style>\n",
       "<table border=\"1\" class=\"dataframe\">\n",
       "  <thead>\n",
       "    <tr style=\"text-align: right;\">\n",
       "      <th></th>\n",
       "      <th>uid</th>\n",
       "      <th>id</th>\n",
       "      <th>subid</th>\n",
       "      <th>note</th>\n",
       "      <th>aggr</th>\n",
       "      <th>exec</th>\n",
       "      <th>limitfail</th>\n",
       "      <th>amt1</th>\n",
       "      <th>tkn1</th>\n",
       "      <th>amt2</th>\n",
       "      <th>tkn2</th>\n",
       "      <th>pair</th>\n",
       "      <th>routeix</th>\n",
       "      <th>nroutes</th>\n",
       "      <th>price</th>\n",
       "      <th>p_unit</th>\n",
       "    </tr>\n",
       "  </thead>\n",
       "  <tbody>\n",
       "    <tr>\n",
       "      <th>0</th>\n",
       "      <td>0.0</td>\n",
       "      <td>0</td>\n",
       "      <td>0</td>\n",
       "      <td>route #0</td>\n",
       "      <td>False</td>\n",
       "      <td>True</td>\n",
       "      <td>None</td>\n",
       "      <td>10.0</td>\n",
       "      <td>ETH</td>\n",
       "      <td>20000.0</td>\n",
       "      <td>USDC</td>\n",
       "      <td>ETHUSDC</td>\n",
       "      <td>0</td>\n",
       "      <td>1</td>\n",
       "      <td>2000.0</td>\n",
       "      <td>USDC per ETH</td>\n",
       "    </tr>\n",
       "    <tr>\n",
       "      <th>0</th>\n",
       "      <td>0</td>\n",
       "      <td>0</td>\n",
       "      <td>A</td>\n",
       "      <td>AMM sells 10ETH buys 20000USDC</td>\n",
       "      <td>True</td>\n",
       "      <td>True</td>\n",
       "      <td>None</td>\n",
       "      <td>10.0</td>\n",
       "      <td>ETH</td>\n",
       "      <td>20000.0</td>\n",
       "      <td>USDC</td>\n",
       "      <td>ETHUSDC</td>\n",
       "      <td>[0]</td>\n",
       "      <td>1</td>\n",
       "      <td>2000.0</td>\n",
       "      <td>USDC per ETH</td>\n",
       "    </tr>\n",
       "  </tbody>\n",
       "</table>\n",
       "</div>"
      ],
      "text/plain": [
       "   uid  id subid                            note   aggr  exec limitfail  amt1  \\\n",
       "0  0.0   0     0                        route #0  False  True      None  10.0   \n",
       "0    0   0     A  AMM sells 10ETH buys 20000USDC   True  True      None  10.0   \n",
       "\n",
       "  tkn1     amt2  tkn2     pair routeix  nroutes   price        p_unit  \n",
       "0  ETH  20000.0  USDC  ETHUSDC       0        1  2000.0  USDC per ETH  \n",
       "0  ETH  20000.0  USDC  ETHUSDC     [0]        1  2000.0  USDC per ETH  "
      ]
     },
     "execution_count": 33,
     "metadata": {},
     "output_type": "execute_result"
    }
   ],
   "source": [
    "Sim.amm_sells(\"ETH\", 10)[\"trades\"]"
   ]
  },
  {
   "cell_type": "markdown",
   "id": "0eb6af85",
   "metadata": {},
   "source": [
    "Note that the 10 ETH that were sold against 20000 USDC now show up on the USDC curve where `y=20,000`. Also note that `y_int=20,000`, after we previously had `y_int=0`. This means the curve has been expanded to make space for the USDC received."
   ]
  },
  {
   "cell_type": "code",
   "execution_count": 34,
   "id": "2e895e45",
   "metadata": {},
   "outputs": [
    {
     "data": {
      "text/html": [
       "<div>\n",
       "<style scoped>\n",
       "    .dataframe tbody tr th:only-of-type {\n",
       "        vertical-align: middle;\n",
       "    }\n",
       "\n",
       "    .dataframe tbody tr th {\n",
       "        vertical-align: top;\n",
       "    }\n",
       "\n",
       "    .dataframe thead th {\n",
       "        text-align: right;\n",
       "    }\n",
       "</style>\n",
       "<table border=\"1\" class=\"dataframe\">\n",
       "  <thead>\n",
       "    <tr style=\"text-align: right;\">\n",
       "      <th></th>\n",
       "      <th>id</th>\n",
       "      <th>pair</th>\n",
       "      <th>tkn_name</th>\n",
       "      <th>y_int</th>\n",
       "      <th>y</th>\n",
       "      <th>y_unit</th>\n",
       "      <th>p_start</th>\n",
       "      <th>p_end</th>\n",
       "      <th>p_unit</th>\n",
       "      <th>linked_to_id</th>\n",
       "    </tr>\n",
       "  </thead>\n",
       "  <tbody>\n",
       "    <tr>\n",
       "      <th>0</th>\n",
       "      <td>0</td>\n",
       "      <td>ETHUSDC</td>\n",
       "      <td>ETH</td>\n",
       "      <td>100.000000</td>\n",
       "      <td>90.000000</td>\n",
       "      <td>ETH</td>\n",
       "      <td>2000.000000</td>\n",
       "      <td>2000.000000</td>\n",
       "      <td>USDC per ETH</td>\n",
       "      <td>1</td>\n",
       "    </tr>\n",
       "    <tr>\n",
       "      <th>1</th>\n",
       "      <td>1</td>\n",
       "      <td>ETHUSDC</td>\n",
       "      <td>USDC</td>\n",
       "      <td>20000.000000</td>\n",
       "      <td>20000.000000</td>\n",
       "      <td>USDC</td>\n",
       "      <td>1000.000000</td>\n",
       "      <td>1000.000000</td>\n",
       "      <td>USDC per ETH</td>\n",
       "      <td>0</td>\n",
       "    </tr>\n",
       "  </tbody>\n",
       "</table>\n",
       "</div>"
      ],
      "text/plain": [
       "   id     pair tkn_name         y_int             y y_unit      p_start  \\\n",
       "0   0  ETHUSDC      ETH    100.000000     90.000000    ETH  2000.000000   \n",
       "1   1  ETHUSDC     USDC  20000.000000  20000.000000   USDC  1000.000000   \n",
       "\n",
       "         p_end        p_unit  linked_to_id  \n",
       "0  2000.000000  USDC per ETH             1  \n",
       "1  1000.000000  USDC per ETH             0  "
      ]
     },
     "execution_count": 34,
     "metadata": {},
     "output_type": "execute_result"
    }
   ],
   "source": [
    "Sim.state()[\"orders\"]"
   ]
  },
  {
   "cell_type": "markdown",
   "id": "d1723398",
   "metadata": {},
   "source": [
    "We've sold 10 above, so can we sell 90+epsilon? Obviously not"
   ]
  },
  {
   "cell_type": "code",
   "execution_count": 35,
   "id": "cbb35a7a",
   "metadata": {},
   "outputs": [
    {
     "data": {
      "text/plain": [
       "{'success': False,\n",
       " 'error': 'Insufficient liquidity across all user positions to support this trade.',\n",
       " 'exception': AssertionError('Insufficient liquidity across all user positions to support this trade.')}"
      ]
     },
     "execution_count": 35,
     "metadata": {},
     "output_type": "execute_result"
    }
   ],
   "source": [
    "Sim.amm_sells(\"ETH\", 90.0000001)"
   ]
  },
  {
   "cell_type": "markdown",
   "id": "8c7af790",
   "metadata": {},
   "source": [
    "However, it can sell 90"
   ]
  },
  {
   "cell_type": "code",
   "execution_count": 36,
   "id": "35958837",
   "metadata": {},
   "outputs": [
    {
     "data": {
      "text/html": [
       "<div>\n",
       "<style scoped>\n",
       "    .dataframe tbody tr th:only-of-type {\n",
       "        vertical-align: middle;\n",
       "    }\n",
       "\n",
       "    .dataframe tbody tr th {\n",
       "        vertical-align: top;\n",
       "    }\n",
       "\n",
       "    .dataframe thead th {\n",
       "        text-align: right;\n",
       "    }\n",
       "</style>\n",
       "<table border=\"1\" class=\"dataframe\">\n",
       "  <thead>\n",
       "    <tr style=\"text-align: right;\">\n",
       "      <th></th>\n",
       "      <th>uid</th>\n",
       "      <th>id</th>\n",
       "      <th>subid</th>\n",
       "      <th>note</th>\n",
       "      <th>aggr</th>\n",
       "      <th>exec</th>\n",
       "      <th>limitfail</th>\n",
       "      <th>amt1</th>\n",
       "      <th>tkn1</th>\n",
       "      <th>amt2</th>\n",
       "      <th>tkn2</th>\n",
       "      <th>pair</th>\n",
       "      <th>routeix</th>\n",
       "      <th>nroutes</th>\n",
       "      <th>price</th>\n",
       "      <th>p_unit</th>\n",
       "    </tr>\n",
       "  </thead>\n",
       "  <tbody>\n",
       "    <tr>\n",
       "      <th>0</th>\n",
       "      <td>1.0</td>\n",
       "      <td>1</td>\n",
       "      <td>0</td>\n",
       "      <td>route #0</td>\n",
       "      <td>False</td>\n",
       "      <td>True</td>\n",
       "      <td>None</td>\n",
       "      <td>90.0</td>\n",
       "      <td>ETH</td>\n",
       "      <td>180000.0</td>\n",
       "      <td>USDC</td>\n",
       "      <td>ETHUSDC</td>\n",
       "      <td>0</td>\n",
       "      <td>1</td>\n",
       "      <td>2000.0</td>\n",
       "      <td>USDC per ETH</td>\n",
       "    </tr>\n",
       "    <tr>\n",
       "      <th>0</th>\n",
       "      <td>1</td>\n",
       "      <td>1</td>\n",
       "      <td>A</td>\n",
       "      <td>AMM sells 90ETH buys 180000USDC</td>\n",
       "      <td>True</td>\n",
       "      <td>True</td>\n",
       "      <td>None</td>\n",
       "      <td>90.0</td>\n",
       "      <td>ETH</td>\n",
       "      <td>180000.0</td>\n",
       "      <td>USDC</td>\n",
       "      <td>ETHUSDC</td>\n",
       "      <td>[0]</td>\n",
       "      <td>1</td>\n",
       "      <td>2000.0</td>\n",
       "      <td>USDC per ETH</td>\n",
       "    </tr>\n",
       "  </tbody>\n",
       "</table>\n",
       "</div>"
      ],
      "text/plain": [
       "   uid  id subid                             note   aggr  exec limitfail  \\\n",
       "0  1.0   1     0                         route #0  False  True      None   \n",
       "0    1   1     A  AMM sells 90ETH buys 180000USDC   True  True      None   \n",
       "\n",
       "   amt1 tkn1      amt2  tkn2     pair routeix  nroutes   price        p_unit  \n",
       "0  90.0  ETH  180000.0  USDC  ETHUSDC       0        1  2000.0  USDC per ETH  \n",
       "0  90.0  ETH  180000.0  USDC  ETHUSDC     [0]        1  2000.0  USDC per ETH  "
      ]
     },
     "execution_count": 36,
     "metadata": {},
     "output_type": "execute_result"
    }
   ],
   "source": [
    "Sim.amm_sells(\"ETH\", 90)[\"trades\"]"
   ]
  },
  {
   "cell_type": "markdown",
   "id": "82715cd4",
   "metadata": {},
   "source": [
    "Now the ETH curve is empty (`y=0`), but the USDC curve is loaded with `y=200,000` USDC (100*2000), so we went cycle down."
   ]
  },
  {
   "cell_type": "code",
   "execution_count": 37,
   "id": "68ec0a93",
   "metadata": {},
   "outputs": [
    {
     "data": {
      "text/html": [
       "<div>\n",
       "<style scoped>\n",
       "    .dataframe tbody tr th:only-of-type {\n",
       "        vertical-align: middle;\n",
       "    }\n",
       "\n",
       "    .dataframe tbody tr th {\n",
       "        vertical-align: top;\n",
       "    }\n",
       "\n",
       "    .dataframe thead th {\n",
       "        text-align: right;\n",
       "    }\n",
       "</style>\n",
       "<table border=\"1\" class=\"dataframe\">\n",
       "  <thead>\n",
       "    <tr style=\"text-align: right;\">\n",
       "      <th></th>\n",
       "      <th>id</th>\n",
       "      <th>pair</th>\n",
       "      <th>tkn_name</th>\n",
       "      <th>y_int</th>\n",
       "      <th>y</th>\n",
       "      <th>y_unit</th>\n",
       "      <th>p_start</th>\n",
       "      <th>p_end</th>\n",
       "      <th>p_unit</th>\n",
       "      <th>linked_to_id</th>\n",
       "    </tr>\n",
       "  </thead>\n",
       "  <tbody>\n",
       "    <tr>\n",
       "      <th>0</th>\n",
       "      <td>0</td>\n",
       "      <td>ETHUSDC</td>\n",
       "      <td>ETH</td>\n",
       "      <td>100.000000</td>\n",
       "      <td>0.000000</td>\n",
       "      <td>ETH</td>\n",
       "      <td>2000.000000</td>\n",
       "      <td>2000.000000</td>\n",
       "      <td>USDC per ETH</td>\n",
       "      <td>1</td>\n",
       "    </tr>\n",
       "    <tr>\n",
       "      <th>1</th>\n",
       "      <td>1</td>\n",
       "      <td>ETHUSDC</td>\n",
       "      <td>USDC</td>\n",
       "      <td>200000.000000</td>\n",
       "      <td>200000.000000</td>\n",
       "      <td>USDC</td>\n",
       "      <td>1000.000000</td>\n",
       "      <td>1000.000000</td>\n",
       "      <td>USDC per ETH</td>\n",
       "      <td>0</td>\n",
       "    </tr>\n",
       "  </tbody>\n",
       "</table>\n",
       "</div>"
      ],
      "text/plain": [
       "   id     pair tkn_name          y_int              y y_unit      p_start  \\\n",
       "0   0  ETHUSDC      ETH     100.000000       0.000000    ETH  2000.000000   \n",
       "1   1  ETHUSDC     USDC  200000.000000  200000.000000   USDC  1000.000000   \n",
       "\n",
       "         p_end        p_unit  linked_to_id  \n",
       "0  2000.000000  USDC per ETH             1  \n",
       "1  1000.000000  USDC per ETH             0  "
      ]
     },
     "execution_count": 37,
     "metadata": {},
     "output_type": "execute_result"
    }
   ],
   "source": [
    "Sim.state()[\"orders\"]"
   ]
  },
  {
   "cell_type": "code",
   "execution_count": 38,
   "id": "9c3f5685",
   "metadata": {},
   "outputs": [
    {
     "data": {
      "text/html": [
       "<div>\n",
       "<style scoped>\n",
       "    .dataframe tbody tr th:only-of-type {\n",
       "        vertical-align: middle;\n",
       "    }\n",
       "\n",
       "    .dataframe tbody tr th {\n",
       "        vertical-align: top;\n",
       "    }\n",
       "\n",
       "    .dataframe thead th {\n",
       "        text-align: right;\n",
       "    }\n",
       "</style>\n",
       "<table border=\"1\" class=\"dataframe\">\n",
       "  <thead>\n",
       "    <tr style=\"text-align: right;\">\n",
       "      <th></th>\n",
       "      <th>uid</th>\n",
       "      <th>id</th>\n",
       "      <th>subid</th>\n",
       "      <th>note</th>\n",
       "      <th>aggr</th>\n",
       "      <th>exec</th>\n",
       "      <th>limitfail</th>\n",
       "      <th>amt1</th>\n",
       "      <th>tkn1</th>\n",
       "      <th>amt2</th>\n",
       "      <th>tkn2</th>\n",
       "      <th>pair</th>\n",
       "      <th>routeix</th>\n",
       "      <th>nroutes</th>\n",
       "      <th>price</th>\n",
       "      <th>p_unit</th>\n",
       "    </tr>\n",
       "  </thead>\n",
       "  <tbody>\n",
       "    <tr>\n",
       "      <th>0</th>\n",
       "      <td>0.0</td>\n",
       "      <td>0</td>\n",
       "      <td>0</td>\n",
       "      <td>route #0</td>\n",
       "      <td>False</td>\n",
       "      <td>True</td>\n",
       "      <td>None</td>\n",
       "      <td>10.0</td>\n",
       "      <td>ETH</td>\n",
       "      <td>20000.0</td>\n",
       "      <td>USDC</td>\n",
       "      <td>ETHUSDC</td>\n",
       "      <td>0</td>\n",
       "      <td>1</td>\n",
       "      <td>2000.0</td>\n",
       "      <td>USDC per ETH</td>\n",
       "    </tr>\n",
       "    <tr>\n",
       "      <th>0</th>\n",
       "      <td>0</td>\n",
       "      <td>0</td>\n",
       "      <td>A</td>\n",
       "      <td>AMM sells 10ETH buys 20000USDC</td>\n",
       "      <td>True</td>\n",
       "      <td>True</td>\n",
       "      <td>None</td>\n",
       "      <td>10.0</td>\n",
       "      <td>ETH</td>\n",
       "      <td>20000.0</td>\n",
       "      <td>USDC</td>\n",
       "      <td>ETHUSDC</td>\n",
       "      <td>[0]</td>\n",
       "      <td>1</td>\n",
       "      <td>2000.0</td>\n",
       "      <td>USDC per ETH</td>\n",
       "    </tr>\n",
       "    <tr>\n",
       "      <th>0</th>\n",
       "      <td>1.0</td>\n",
       "      <td>1</td>\n",
       "      <td>0</td>\n",
       "      <td>route #0</td>\n",
       "      <td>False</td>\n",
       "      <td>True</td>\n",
       "      <td>None</td>\n",
       "      <td>90.0</td>\n",
       "      <td>ETH</td>\n",
       "      <td>180000.0</td>\n",
       "      <td>USDC</td>\n",
       "      <td>ETHUSDC</td>\n",
       "      <td>0</td>\n",
       "      <td>1</td>\n",
       "      <td>2000.0</td>\n",
       "      <td>USDC per ETH</td>\n",
       "    </tr>\n",
       "    <tr>\n",
       "      <th>0</th>\n",
       "      <td>1</td>\n",
       "      <td>1</td>\n",
       "      <td>A</td>\n",
       "      <td>AMM sells 90ETH buys 180000USDC</td>\n",
       "      <td>True</td>\n",
       "      <td>True</td>\n",
       "      <td>None</td>\n",
       "      <td>90.0</td>\n",
       "      <td>ETH</td>\n",
       "      <td>180000.0</td>\n",
       "      <td>USDC</td>\n",
       "      <td>ETHUSDC</td>\n",
       "      <td>[0]</td>\n",
       "      <td>1</td>\n",
       "      <td>2000.0</td>\n",
       "      <td>USDC per ETH</td>\n",
       "    </tr>\n",
       "  </tbody>\n",
       "</table>\n",
       "</div>"
      ],
      "text/plain": [
       "   uid  id subid                             note   aggr  exec limitfail  \\\n",
       "0  0.0   0     0                         route #0  False  True      None   \n",
       "0    0   0     A   AMM sells 10ETH buys 20000USDC   True  True      None   \n",
       "0  1.0   1     0                         route #0  False  True      None   \n",
       "0    1   1     A  AMM sells 90ETH buys 180000USDC   True  True      None   \n",
       "\n",
       "   amt1 tkn1      amt2  tkn2     pair routeix  nroutes   price        p_unit  \n",
       "0  10.0  ETH   20000.0  USDC  ETHUSDC       0        1  2000.0  USDC per ETH  \n",
       "0  10.0  ETH   20000.0  USDC  ETHUSDC     [0]        1  2000.0  USDC per ETH  \n",
       "0  90.0  ETH  180000.0  USDC  ETHUSDC       0        1  2000.0  USDC per ETH  \n",
       "0  90.0  ETH  180000.0  USDC  ETHUSDC     [0]        1  2000.0  USDC per ETH  "
      ]
     },
     "execution_count": 38,
     "metadata": {},
     "output_type": "execute_result"
    }
   ],
   "source": [
    "Sim.state()[\"trades\"]"
   ]
  },
  {
   "cell_type": "markdown",
   "id": "9ca77854",
   "metadata": {},
   "source": [
    "Can it now sell epsilon? No, obviously not. And neither can it sell zero"
   ]
  },
  {
   "cell_type": "code",
   "execution_count": 39,
   "id": "24db5010",
   "metadata": {},
   "outputs": [
    {
     "data": {
      "text/plain": [
       "{'success': False,\n",
       " 'error': 'token ETH has no non-empty liquidity positions',\n",
       " 'exception': ValueError('token ETH has no non-empty liquidity positions')}"
      ]
     },
     "execution_count": 39,
     "metadata": {},
     "output_type": "execute_result"
    }
   ],
   "source": [
    "Sim.amm_sells(\"ETH\", 0.0000001)"
   ]
  },
  {
   "cell_type": "code",
   "execution_count": 40,
   "id": "463045c5",
   "metadata": {},
   "outputs": [
    {
     "data": {
      "text/plain": [
       "{'success': False,\n",
       " 'error': 'token ETH has no non-empty liquidity positions',\n",
       " 'exception': ValueError('token ETH has no non-empty liquidity positions')}"
      ]
     },
     "execution_count": 40,
     "metadata": {},
     "output_type": "execute_result"
    }
   ],
   "source": [
    "Sim.amm_sells(\"ETH\", 0)"
   ]
  },
  {
   "cell_type": "markdown",
   "id": "10d537d0",
   "metadata": {},
   "source": [
    "## First cycle, part B: sell USDC"
   ]
  },
  {
   "cell_type": "markdown",
   "id": "d081084b",
   "metadata": {},
   "source": [
    "Reminder, the current state of the system is 0 ETH and 200,000 USDC"
   ]
  },
  {
   "cell_type": "code",
   "execution_count": 41,
   "id": "76b0ecc2",
   "metadata": {},
   "outputs": [
    {
     "data": {
      "text/html": [
       "<div>\n",
       "<style scoped>\n",
       "    .dataframe tbody tr th:only-of-type {\n",
       "        vertical-align: middle;\n",
       "    }\n",
       "\n",
       "    .dataframe tbody tr th {\n",
       "        vertical-align: top;\n",
       "    }\n",
       "\n",
       "    .dataframe thead th {\n",
       "        text-align: right;\n",
       "    }\n",
       "</style>\n",
       "<table border=\"1\" class=\"dataframe\">\n",
       "  <thead>\n",
       "    <tr style=\"text-align: right;\">\n",
       "      <th></th>\n",
       "      <th>id</th>\n",
       "      <th>pair</th>\n",
       "      <th>tkn_name</th>\n",
       "      <th>y_int</th>\n",
       "      <th>y</th>\n",
       "      <th>y_unit</th>\n",
       "      <th>p_start</th>\n",
       "      <th>p_end</th>\n",
       "      <th>p_unit</th>\n",
       "      <th>linked_to_id</th>\n",
       "    </tr>\n",
       "  </thead>\n",
       "  <tbody>\n",
       "    <tr>\n",
       "      <th>0</th>\n",
       "      <td>0</td>\n",
       "      <td>ETHUSDC</td>\n",
       "      <td>ETH</td>\n",
       "      <td>100.000000</td>\n",
       "      <td>0.000000</td>\n",
       "      <td>ETH</td>\n",
       "      <td>2000.000000</td>\n",
       "      <td>2000.000000</td>\n",
       "      <td>USDC per ETH</td>\n",
       "      <td>1</td>\n",
       "    </tr>\n",
       "    <tr>\n",
       "      <th>1</th>\n",
       "      <td>1</td>\n",
       "      <td>ETHUSDC</td>\n",
       "      <td>USDC</td>\n",
       "      <td>200000.000000</td>\n",
       "      <td>200000.000000</td>\n",
       "      <td>USDC</td>\n",
       "      <td>1000.000000</td>\n",
       "      <td>1000.000000</td>\n",
       "      <td>USDC per ETH</td>\n",
       "      <td>0</td>\n",
       "    </tr>\n",
       "  </tbody>\n",
       "</table>\n",
       "</div>"
      ],
      "text/plain": [
       "   id     pair tkn_name          y_int              y y_unit      p_start  \\\n",
       "0   0  ETHUSDC      ETH     100.000000       0.000000    ETH  2000.000000   \n",
       "1   1  ETHUSDC     USDC  200000.000000  200000.000000   USDC  1000.000000   \n",
       "\n",
       "         p_end        p_unit  linked_to_id  \n",
       "0  2000.000000  USDC per ETH             1  \n",
       "1  1000.000000  USDC per ETH             0  "
      ]
     },
     "execution_count": 41,
     "metadata": {},
     "output_type": "execute_result"
    }
   ],
   "source": [
    "Sim.state()[\"orders\"]"
   ]
  },
  {
   "cell_type": "markdown",
   "id": "61ed8dcc",
   "metadata": {},
   "source": [
    "As we have just seen, there is no ETH left to sell"
   ]
  },
  {
   "cell_type": "code",
   "execution_count": 42,
   "id": "b7e1cb4e",
   "metadata": {},
   "outputs": [
    {
     "data": {
      "text/plain": [
       "{'success': False,\n",
       " 'error': 'token ETH has no non-empty liquidity positions',\n",
       " 'exception': ValueError('token ETH has no non-empty liquidity positions')}"
      ]
     },
     "execution_count": 42,
     "metadata": {},
     "output_type": "execute_result"
    }
   ],
   "source": [
    "Sim.amm_sells(\"ETH\", 0.0000001)"
   ]
  },
  {
   "cell_type": "markdown",
   "id": "89f1f2e2",
   "metadata": {},
   "source": [
    "But of course we can sell USDC. Let's sell the whole bunch. Note that we sell it at a price of 1,000 USDC per ETH (because this is where the curve is)"
   ]
  },
  {
   "cell_type": "code",
   "execution_count": 43,
   "id": "445ea719",
   "metadata": {},
   "outputs": [
    {
     "data": {
      "text/html": [
       "<div>\n",
       "<style scoped>\n",
       "    .dataframe tbody tr th:only-of-type {\n",
       "        vertical-align: middle;\n",
       "    }\n",
       "\n",
       "    .dataframe tbody tr th {\n",
       "        vertical-align: top;\n",
       "    }\n",
       "\n",
       "    .dataframe thead th {\n",
       "        text-align: right;\n",
       "    }\n",
       "</style>\n",
       "<table border=\"1\" class=\"dataframe\">\n",
       "  <thead>\n",
       "    <tr style=\"text-align: right;\">\n",
       "      <th></th>\n",
       "      <th>uid</th>\n",
       "      <th>id</th>\n",
       "      <th>subid</th>\n",
       "      <th>note</th>\n",
       "      <th>aggr</th>\n",
       "      <th>exec</th>\n",
       "      <th>limitfail</th>\n",
       "      <th>amt1</th>\n",
       "      <th>tkn1</th>\n",
       "      <th>amt2</th>\n",
       "      <th>tkn2</th>\n",
       "      <th>pair</th>\n",
       "      <th>routeix</th>\n",
       "      <th>nroutes</th>\n",
       "      <th>price</th>\n",
       "      <th>p_unit</th>\n",
       "    </tr>\n",
       "  </thead>\n",
       "  <tbody>\n",
       "    <tr>\n",
       "      <th>0</th>\n",
       "      <td>2.0</td>\n",
       "      <td>2</td>\n",
       "      <td>0</td>\n",
       "      <td>route #1</td>\n",
       "      <td>False</td>\n",
       "      <td>True</td>\n",
       "      <td>None</td>\n",
       "      <td>200000.0</td>\n",
       "      <td>USDC</td>\n",
       "      <td>200.0</td>\n",
       "      <td>ETH</td>\n",
       "      <td>ETHUSDC</td>\n",
       "      <td>1</td>\n",
       "      <td>1</td>\n",
       "      <td>1000.0</td>\n",
       "      <td>USDC per ETH</td>\n",
       "    </tr>\n",
       "    <tr>\n",
       "      <th>0</th>\n",
       "      <td>2</td>\n",
       "      <td>2</td>\n",
       "      <td>A</td>\n",
       "      <td>AMM sells 200000USDC buys 200ETH</td>\n",
       "      <td>True</td>\n",
       "      <td>True</td>\n",
       "      <td>None</td>\n",
       "      <td>200000.0</td>\n",
       "      <td>USDC</td>\n",
       "      <td>200.0</td>\n",
       "      <td>ETH</td>\n",
       "      <td>ETHUSDC</td>\n",
       "      <td>[1]</td>\n",
       "      <td>1</td>\n",
       "      <td>1000.0</td>\n",
       "      <td>USDC per ETH</td>\n",
       "    </tr>\n",
       "  </tbody>\n",
       "</table>\n",
       "</div>"
      ],
      "text/plain": [
       "   uid  id subid                              note   aggr  exec limitfail  \\\n",
       "0  2.0   2     0                          route #1  False  True      None   \n",
       "0    2   2     A  AMM sells 200000USDC buys 200ETH   True  True      None   \n",
       "\n",
       "       amt1  tkn1   amt2 tkn2     pair routeix  nroutes   price        p_unit  \n",
       "0  200000.0  USDC  200.0  ETH  ETHUSDC       1        1  1000.0  USDC per ETH  \n",
       "0  200000.0  USDC  200.0  ETH  ETHUSDC     [1]        1  1000.0  USDC per ETH  "
      ]
     },
     "execution_count": 43,
     "metadata": {},
     "output_type": "execute_result"
    }
   ],
   "source": [
    "Sim.amm_sells(\"USDC\", 200000)[\"trades\"]"
   ]
  },
  {
   "cell_type": "code",
   "execution_count": 44,
   "id": "14936dca",
   "metadata": {},
   "outputs": [
    {
     "data": {
      "text/html": [
       "<div>\n",
       "<style scoped>\n",
       "    .dataframe tbody tr th:only-of-type {\n",
       "        vertical-align: middle;\n",
       "    }\n",
       "\n",
       "    .dataframe tbody tr th {\n",
       "        vertical-align: top;\n",
       "    }\n",
       "\n",
       "    .dataframe thead th {\n",
       "        text-align: right;\n",
       "    }\n",
       "</style>\n",
       "<table border=\"1\" class=\"dataframe\">\n",
       "  <thead>\n",
       "    <tr style=\"text-align: right;\">\n",
       "      <th></th>\n",
       "      <th>id</th>\n",
       "      <th>pair</th>\n",
       "      <th>tkn_name</th>\n",
       "      <th>y_int</th>\n",
       "      <th>y</th>\n",
       "      <th>y_unit</th>\n",
       "      <th>p_start</th>\n",
       "      <th>p_end</th>\n",
       "      <th>p_unit</th>\n",
       "      <th>linked_to_id</th>\n",
       "    </tr>\n",
       "  </thead>\n",
       "  <tbody>\n",
       "    <tr>\n",
       "      <th>0</th>\n",
       "      <td>0</td>\n",
       "      <td>ETHUSDC</td>\n",
       "      <td>ETH</td>\n",
       "      <td>200.000000</td>\n",
       "      <td>200.000000</td>\n",
       "      <td>ETH</td>\n",
       "      <td>2000.000000</td>\n",
       "      <td>2000.000000</td>\n",
       "      <td>USDC per ETH</td>\n",
       "      <td>1</td>\n",
       "    </tr>\n",
       "    <tr>\n",
       "      <th>1</th>\n",
       "      <td>1</td>\n",
       "      <td>ETHUSDC</td>\n",
       "      <td>USDC</td>\n",
       "      <td>200000.000000</td>\n",
       "      <td>0.000000</td>\n",
       "      <td>USDC</td>\n",
       "      <td>1000.000000</td>\n",
       "      <td>1000.000000</td>\n",
       "      <td>USDC per ETH</td>\n",
       "      <td>0</td>\n",
       "    </tr>\n",
       "  </tbody>\n",
       "</table>\n",
       "</div>"
      ],
      "text/plain": [
       "   id     pair tkn_name          y_int           y y_unit      p_start  \\\n",
       "0   0  ETHUSDC      ETH     200.000000  200.000000    ETH  2000.000000   \n",
       "1   1  ETHUSDC     USDC  200000.000000    0.000000   USDC  1000.000000   \n",
       "\n",
       "         p_end        p_unit  linked_to_id  \n",
       "0  2000.000000  USDC per ETH             1  \n",
       "1  1000.000000  USDC per ETH             0  "
      ]
     },
     "execution_count": 44,
     "metadata": {},
     "output_type": "execute_result"
    }
   ],
   "source": [
    "Sim.state()[\"orders\"]"
   ]
  },
  {
   "cell_type": "code",
   "execution_count": null,
   "id": "6a3cc012",
   "metadata": {},
   "outputs": [],
   "source": []
  }
 ],
 "metadata": {
  "jupytext": {
   "formats": "ipynb,py:light"
  },
  "kernelspec": {
   "display_name": "Python 3",
   "language": "python",
   "name": "python3"
  },
  "language_info": {
   "codemirror_mode": {
    "name": "ipython",
    "version": 3
   },
   "file_extension": ".py",
   "mimetype": "text/x-python",
   "name": "python",
   "nbconvert_exporter": "python",
   "pygments_lexer": "ipython3",
   "version": "3.8.8"
  }
 },
 "nbformat": 4,
 "nbformat_minor": 5
}
