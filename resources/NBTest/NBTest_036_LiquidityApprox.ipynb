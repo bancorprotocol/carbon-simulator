{
 "cells": [
  {
   "cell_type": "code",
   "execution_count": 50,
   "id": "22b66169",
   "metadata": {},
   "outputs": [
    {
     "name": "stdout",
     "output_type": "stream",
     "text": [
      "Carbon v2.0-beta2 (8/Dec/2022)\n",
      "CarbonSimulatorUI v2.2 (8/Dec/2022)\n"
     ]
    }
   ],
   "source": [
    "from carbon import CarbonSimulatorUI, P, __version__, __date__\n",
    "from math import sqrt\n",
    "print(f\"Carbon v{__version__} ({__date__})\")\n",
    "print(\"{0.__name__} v{0.__VERSION__} ({0.__DATE__})\".format(CarbonSimulatorUI))"
   ]
  },
  {
   "cell_type": "markdown",
   "id": "ec6ff430",
   "metadata": {},
   "source": [
    "# Carbon Simulation - Test 36 - Liquidity Approximation"
   ]
  },
  {
   "cell_type": "markdown",
   "id": "f5258351",
   "metadata": {},
   "source": [
    "NBTEST: NOTEST_DEFAULT = TEST"
   ]
  },
  {
   "cell_type": "code",
   "execution_count": 51,
   "id": "a2278c82",
   "metadata": {},
   "outputs": [
    {
     "data": {
      "text/plain": [
       "CarbonSimulatorUI(<0 orders, 0 trades>, pair='ETH/USDC', mm='exact', xf=True)"
      ]
     },
     "execution_count": 51,
     "metadata": {},
     "output_type": "execute_result"
    }
   ],
   "source": [
    "Sim = CarbonSimulatorUI(verbose=False, raiseonerror=False, pair=\"ETH/USDC\")\n",
    "Sim"
   ]
  },
  {
   "cell_type": "code",
   "execution_count": 52,
   "id": "6f1440e3",
   "metadata": {},
   "outputs": [
    {
     "data": {
      "text/plain": [
       "CarbonSimulatorUI(<8 orders, 0 trades>, pair='ETH/USDC', mm='exact', xf=True)"
      ]
     },
     "execution_count": 52,
     "metadata": {},
     "output_type": "execute_result"
    }
   ],
   "source": [
    "Sim.add_order(\"ETH\", 10, 2000, 3000)\n",
    "Sim.add_order(\"ETH\", 10, 2500, 2500)\n",
    "Sim.add_order(\"USDC\", 10*1250, 1500, 1000)\n",
    "Sim.add_order(\"USDC\", 10*1250, 1250, 1250)\n",
    "Sim"
   ]
  },
  {
   "cell_type": "code",
   "execution_count": 53,
   "id": "9e07608e",
   "metadata": {},
   "outputs": [
    {
     "data": {
      "text/html": [
       "<div>\n",
       "<style scoped>\n",
       "    .dataframe tbody tr th:only-of-type {\n",
       "        vertical-align: middle;\n",
       "    }\n",
       "\n",
       "    .dataframe tbody tr th {\n",
       "        vertical-align: top;\n",
       "    }\n",
       "\n",
       "    .dataframe thead th {\n",
       "        text-align: right;\n",
       "    }\n",
       "</style>\n",
       "<table border=\"1\" class=\"dataframe\">\n",
       "  <thead>\n",
       "    <tr style=\"text-align: right;\">\n",
       "      <th></th>\n",
       "      <th>id</th>\n",
       "      <th>pair</th>\n",
       "      <th>tkn</th>\n",
       "      <th>y_int</th>\n",
       "      <th>y</th>\n",
       "      <th>y_unit</th>\n",
       "      <th>disabled</th>\n",
       "      <th>p_start</th>\n",
       "      <th>p_end</th>\n",
       "      <th>p_marg</th>\n",
       "      <th>p_unit</th>\n",
       "      <th>lid</th>\n",
       "    </tr>\n",
       "  </thead>\n",
       "  <tbody>\n",
       "    <tr>\n",
       "      <th>0</th>\n",
       "      <td>0</td>\n",
       "      <td>ETHUSDC</td>\n",
       "      <td>ETH</td>\n",
       "      <td>10.0</td>\n",
       "      <td>10.0</td>\n",
       "      <td>ETH</td>\n",
       "      <td>False</td>\n",
       "      <td>2000.0</td>\n",
       "      <td>3000.0</td>\n",
       "      <td>2000.0</td>\n",
       "      <td>USDC per ETH</td>\n",
       "      <td>1</td>\n",
       "    </tr>\n",
       "    <tr>\n",
       "      <th>1</th>\n",
       "      <td>1</td>\n",
       "      <td>ETHUSDC</td>\n",
       "      <td>USDC</td>\n",
       "      <td>0.0</td>\n",
       "      <td>0.0</td>\n",
       "      <td>USDC</td>\n",
       "      <td>True</td>\n",
       "      <td>None</td>\n",
       "      <td>None</td>\n",
       "      <td>None</td>\n",
       "      <td>USDC per ETH</td>\n",
       "      <td>0</td>\n",
       "    </tr>\n",
       "    <tr>\n",
       "      <th>2</th>\n",
       "      <td>2</td>\n",
       "      <td>ETHUSDC</td>\n",
       "      <td>ETH</td>\n",
       "      <td>10.0</td>\n",
       "      <td>10.0</td>\n",
       "      <td>ETH</td>\n",
       "      <td>False</td>\n",
       "      <td>2500.0</td>\n",
       "      <td>2500.0</td>\n",
       "      <td>2500.0</td>\n",
       "      <td>USDC per ETH</td>\n",
       "      <td>3</td>\n",
       "    </tr>\n",
       "    <tr>\n",
       "      <th>3</th>\n",
       "      <td>3</td>\n",
       "      <td>ETHUSDC</td>\n",
       "      <td>USDC</td>\n",
       "      <td>0.0</td>\n",
       "      <td>0.0</td>\n",
       "      <td>USDC</td>\n",
       "      <td>True</td>\n",
       "      <td>None</td>\n",
       "      <td>None</td>\n",
       "      <td>None</td>\n",
       "      <td>USDC per ETH</td>\n",
       "      <td>2</td>\n",
       "    </tr>\n",
       "    <tr>\n",
       "      <th>4</th>\n",
       "      <td>4</td>\n",
       "      <td>ETHUSDC</td>\n",
       "      <td>USDC</td>\n",
       "      <td>12500.0</td>\n",
       "      <td>12500.0</td>\n",
       "      <td>USDC</td>\n",
       "      <td>False</td>\n",
       "      <td>1500.0</td>\n",
       "      <td>1000.0</td>\n",
       "      <td>1500.0</td>\n",
       "      <td>USDC per ETH</td>\n",
       "      <td>5</td>\n",
       "    </tr>\n",
       "    <tr>\n",
       "      <th>5</th>\n",
       "      <td>5</td>\n",
       "      <td>ETHUSDC</td>\n",
       "      <td>ETH</td>\n",
       "      <td>0.0</td>\n",
       "      <td>0.0</td>\n",
       "      <td>ETH</td>\n",
       "      <td>True</td>\n",
       "      <td>None</td>\n",
       "      <td>None</td>\n",
       "      <td>None</td>\n",
       "      <td>USDC per ETH</td>\n",
       "      <td>4</td>\n",
       "    </tr>\n",
       "    <tr>\n",
       "      <th>6</th>\n",
       "      <td>6</td>\n",
       "      <td>ETHUSDC</td>\n",
       "      <td>USDC</td>\n",
       "      <td>12500.0</td>\n",
       "      <td>12500.0</td>\n",
       "      <td>USDC</td>\n",
       "      <td>False</td>\n",
       "      <td>1250.0</td>\n",
       "      <td>1250.0</td>\n",
       "      <td>1250.0</td>\n",
       "      <td>USDC per ETH</td>\n",
       "      <td>7</td>\n",
       "    </tr>\n",
       "    <tr>\n",
       "      <th>7</th>\n",
       "      <td>7</td>\n",
       "      <td>ETHUSDC</td>\n",
       "      <td>ETH</td>\n",
       "      <td>0.0</td>\n",
       "      <td>0.0</td>\n",
       "      <td>ETH</td>\n",
       "      <td>True</td>\n",
       "      <td>None</td>\n",
       "      <td>None</td>\n",
       "      <td>None</td>\n",
       "      <td>USDC per ETH</td>\n",
       "      <td>6</td>\n",
       "    </tr>\n",
       "  </tbody>\n",
       "</table>\n",
       "</div>"
      ],
      "text/plain": [
       "   id     pair   tkn    y_int        y y_unit  disabled p_start   p_end  \\\n",
       "0   0  ETHUSDC   ETH     10.0     10.0    ETH     False  2000.0  3000.0   \n",
       "1   1  ETHUSDC  USDC      0.0      0.0   USDC      True    None    None   \n",
       "2   2  ETHUSDC   ETH     10.0     10.0    ETH     False  2500.0  2500.0   \n",
       "3   3  ETHUSDC  USDC      0.0      0.0   USDC      True    None    None   \n",
       "4   4  ETHUSDC  USDC  12500.0  12500.0   USDC     False  1500.0  1000.0   \n",
       "5   5  ETHUSDC   ETH      0.0      0.0    ETH      True    None    None   \n",
       "6   6  ETHUSDC  USDC  12500.0  12500.0   USDC     False  1250.0  1250.0   \n",
       "7   7  ETHUSDC   ETH      0.0      0.0    ETH      True    None    None   \n",
       "\n",
       "   p_marg        p_unit  lid  \n",
       "0  2000.0  USDC per ETH    1  \n",
       "1    None  USDC per ETH    0  \n",
       "2  2500.0  USDC per ETH    3  \n",
       "3    None  USDC per ETH    2  \n",
       "4  1500.0  USDC per ETH    5  \n",
       "5    None  USDC per ETH    4  \n",
       "6  1250.0  USDC per ETH    7  \n",
       "7    None  USDC per ETH    6  "
      ]
     },
     "execution_count": 53,
     "metadata": {},
     "output_type": "execute_result"
    }
   ],
   "source": [
    "Sim.state()[\"orders\"]"
   ]
  },
  {
   "cell_type": "code",
   "execution_count": 54,
   "id": "cd7c5836",
   "metadata": {},
   "outputs": [
    {
     "data": {
      "text/plain": [
       "dict_keys(['orders', 'orderuis', 'trades'])"
      ]
     },
     "execution_count": 54,
     "metadata": {},
     "output_type": "execute_result"
    }
   ],
   "source": [
    "Sim.state().keys()"
   ]
  },
  {
   "cell_type": "code",
   "execution_count": 55,
   "id": "3d854995",
   "metadata": {},
   "outputs": [
    {
     "data": {
      "text/plain": [
       "{0: CarbonOrderUI(pair=CarbonPair(slashpair='ETH/USDC', tknb='ETH', tknq='USDC'), tkn='ETH', B=0.018257418583505537, S=0.004103261191492361, yint=10.0, y=10.0),\n",
       " 1: CarbonOrderUI(pair=CarbonPair(slashpair='ETH/USDC', tknb='ETH', tknq='USDC'), tkn='USDC', B=0.0, S=0.0, yint=0.0, y=0.0),\n",
       " 2: CarbonOrderUI(pair=CarbonPair(slashpair='ETH/USDC', tknb='ETH', tknq='USDC'), tkn='ETH', B=0.02, S=0.0, yint=10.0, y=10.0),\n",
       " 3: CarbonOrderUI(pair=CarbonPair(slashpair='ETH/USDC', tknb='ETH', tknq='USDC'), tkn='USDC', B=0.0, S=0.0, yint=0.0, y=0.0),\n",
       " 4: CarbonOrderUI(pair=CarbonPair(slashpair='ETH/USDC', tknb='ETH', tknq='USDC'), tkn='USDC', B=31.622776601683793, S=7.107056860390376, yint=12500.0, y=12500.0),\n",
       " 5: CarbonOrderUI(pair=CarbonPair(slashpair='ETH/USDC', tknb='ETH', tknq='USDC'), tkn='ETH', B=0.0, S=0.0, yint=0.0, y=0.0),\n",
       " 6: CarbonOrderUI(pair=CarbonPair(slashpair='ETH/USDC', tknb='ETH', tknq='USDC'), tkn='USDC', B=35.35533905932738, S=0.0, yint=12500.0, y=12500.0),\n",
       " 7: CarbonOrderUI(pair=CarbonPair(slashpair='ETH/USDC', tknb='ETH', tknq='USDC'), tkn='ETH', B=0.0, S=0.0, yint=0.0, y=0.0)}"
      ]
     },
     "execution_count": 55,
     "metadata": {},
     "output_type": "execute_result"
    }
   ],
   "source": [
    "Sim.state()[\"orderuis\"]"
   ]
  },
  {
   "cell_type": "code",
   "execution_count": 56,
   "id": "e5537b96",
   "metadata": {},
   "outputs": [
    {
     "name": "stdout",
     "output_type": "stream",
     "text": [
      "Help on method liquidity_approx in module carbon.carbon_order_ui:\n",
      "\n",
      "liquidity_approx(price1, price2, tkn=None, asperc=False) method of carbon.carbon_order_ui.CarbonOrderUI instance\n",
      "    returns the approximate liquidity between start and end, in tkn\n",
      "    \n",
      "    :price1/2:      the start and end price of the range (in any order; quoted in price convention of pair)\n",
      "    :tkn:           the token in which the liquidity is quoted (if None: base token)\n",
      "    :asperc:        if True, return percentage total liquidity rather than tkn number; default is False\n",
      "    :returns:       the liquidity in [price1, price2], quoted in tkn (or percent)\n",
      "\n"
     ]
    }
   ],
   "source": [
    "help(Sim.state()[\"orderuis\"][0].liquidity_approx)"
   ]
  },
  {
   "cell_type": "markdown",
   "id": "795956d7",
   "metadata": {},
   "source": [
    "## Order 0 ETH range"
   ]
  },
  {
   "cell_type": "code",
   "execution_count": 57,
   "id": "f83b7898",
   "metadata": {},
   "outputs": [
    {
     "data": {
      "text/plain": [
       "(2000.0, 3000.0, (10.0, 'ETH'))"
      ]
     },
     "execution_count": 57,
     "metadata": {},
     "output_type": "execute_result"
    }
   ],
   "source": [
    "oui = Sim.state()[\"orderuis\"][0]\n",
    "assert (oui.pmin, oui.pmax, oui.total_liquidity) == (2000.0, 3000.0, (10.0, 'ETH'))\n",
    "oui.pmin, oui.pmax, oui.total_liquidity"
   ]
  },
  {
   "cell_type": "code",
   "execution_count": 58,
   "id": "39fa9a4a",
   "metadata": {},
   "outputs": [
    {
     "data": {
      "text/plain": [
       "0"
      ]
     },
     "execution_count": 58,
     "metadata": {},
     "output_type": "execute_result"
    }
   ],
   "source": [
    "r = oui.liquidity_approx(500, 600, \"ETH\", asperc=True)\n",
    "assert r == 0\n",
    "r"
   ]
  },
  {
   "cell_type": "code",
   "execution_count": 59,
   "id": "5be0147e",
   "metadata": {},
   "outputs": [
    {
     "data": {
      "text/plain": [
       "0"
      ]
     },
     "execution_count": 59,
     "metadata": {},
     "output_type": "execute_result"
    }
   ],
   "source": [
    "r = oui.liquidity_approx(3000, 3020, \"ETH\", asperc=True)\n",
    "assert r == 0\n",
    "r"
   ]
  },
  {
   "cell_type": "code",
   "execution_count": 60,
   "id": "0176ca84",
   "metadata": {},
   "outputs": [
    {
     "data": {
      "text/plain": [
       "1.0"
      ]
     },
     "execution_count": 60,
     "metadata": {},
     "output_type": "execute_result"
    }
   ],
   "source": [
    "r = oui.liquidity_approx(2000, 3000, \"ETH\", asperc=True)\n",
    "assert r == 1.\n",
    "r"
   ]
  },
  {
   "cell_type": "code",
   "execution_count": 61,
   "id": "94fb265c",
   "metadata": {},
   "outputs": [
    {
     "data": {
      "text/plain": [
       "1.0"
      ]
     },
     "execution_count": 61,
     "metadata": {},
     "output_type": "execute_result"
    }
   ],
   "source": [
    "r = oui.liquidity_approx(3000, 2000, \"ETH\", asperc=True)\n",
    "assert r == 1\n",
    "r"
   ]
  },
  {
   "cell_type": "code",
   "execution_count": 62,
   "id": "8cd81563",
   "metadata": {},
   "outputs": [
    {
     "data": {
      "text/plain": [
       "0.5"
      ]
     },
     "execution_count": 62,
     "metadata": {},
     "output_type": "execute_result"
    }
   ],
   "source": [
    "r = oui.liquidity_approx(2000, 2500, \"ETH\", asperc=True)\n",
    "assert r == 0.5\n",
    "r"
   ]
  },
  {
   "cell_type": "code",
   "execution_count": 63,
   "id": "16732e6f",
   "metadata": {},
   "outputs": [
    {
     "data": {
      "text/plain": [
       "0.5"
      ]
     },
     "execution_count": 63,
     "metadata": {},
     "output_type": "execute_result"
    }
   ],
   "source": [
    "r = oui.liquidity_approx(2500, 3000, \"ETH\", asperc=True)\n",
    "assert r == 0.5\n",
    "r"
   ]
  },
  {
   "cell_type": "code",
   "execution_count": 64,
   "id": "933357b3",
   "metadata": {
    "lines_to_next_cell": 2
   },
   "outputs": [
    {
     "data": {
      "text/plain": [
       "0.5"
      ]
     },
     "execution_count": 64,
     "metadata": {},
     "output_type": "execute_result"
    }
   ],
   "source": [
    "r = oui.liquidity_approx(2250, 2750, \"ETH\", asperc=True)\n",
    "assert r == 0.5\n",
    "r"
   ]
  },
  {
   "cell_type": "code",
   "execution_count": 65,
   "id": "3f51409c",
   "metadata": {},
   "outputs": [
    {
     "data": {
      "text/plain": [
       "10.0"
      ]
     },
     "execution_count": 65,
     "metadata": {},
     "output_type": "execute_result"
    }
   ],
   "source": [
    "r = oui.liquidity_approx(2000, 3000, \"ETH\", asperc=False)\n",
    "assert r == 10.\n",
    "r"
   ]
  },
  {
   "cell_type": "code",
   "execution_count": 66,
   "id": "06ad0a5e",
   "metadata": {},
   "outputs": [
    {
     "data": {
      "text/plain": [
       "5.0"
      ]
     },
     "execution_count": 66,
     "metadata": {},
     "output_type": "execute_result"
    }
   ],
   "source": [
    "r = oui.liquidity_approx(2000, 2500, \"ETH\", asperc=False)\n",
    "assert r == 5.\n",
    "r"
   ]
  },
  {
   "cell_type": "code",
   "execution_count": 67,
   "id": "4cfb7d74",
   "metadata": {},
   "outputs": [
    {
     "data": {
      "text/plain": [
       "5.0"
      ]
     },
     "execution_count": 67,
     "metadata": {},
     "output_type": "execute_result"
    }
   ],
   "source": [
    "r = oui.liquidity_approx(2000, 2500, asperc=False)\n",
    "assert r == 5.\n",
    "r"
   ]
  },
  {
   "cell_type": "code",
   "execution_count": 68,
   "id": "5436de33",
   "metadata": {},
   "outputs": [
    {
     "data": {
      "text/plain": [
       "(24494.89742783178, 2449.489742783178)"
      ]
     },
     "execution_count": 68,
     "metadata": {},
     "output_type": "execute_result"
    }
   ],
   "source": [
    "r = oui.liquidity_approx(2000, 3000, \"USDC\", asperc=False)\n",
    "assert int(r) == int(10*sqrt(2000*3000))\n",
    "r, sqrt(2000*3000)"
   ]
  },
  {
   "cell_type": "code",
   "execution_count": 69,
   "id": "b70c7019",
   "metadata": {},
   "outputs": [
    {
     "data": {
      "text/plain": [
       "(12437.34296383275, 1243.734296383275)"
      ]
     },
     "execution_count": 69,
     "metadata": {},
     "output_type": "execute_result"
    }
   ],
   "source": [
    "r = oui.liquidity_approx(2250, 2750, \"USDC\", asperc=False)\n",
    "assert int(r) == int(10*sqrt(2250*2750)*0.5)\n",
    "r, sqrt(2250*2750)*0.5"
   ]
  },
  {
   "cell_type": "markdown",
   "id": "95595365",
   "metadata": {},
   "source": [
    "## Order 1 ETH point"
   ]
  },
  {
   "cell_type": "code",
   "execution_count": 70,
   "id": "ae0cbca0",
   "metadata": {},
   "outputs": [
    {
     "data": {
      "text/plain": [
       "(2500.0, 2500.0, (10.0, 'ETH'))"
      ]
     },
     "execution_count": 70,
     "metadata": {},
     "output_type": "execute_result"
    }
   ],
   "source": [
    "oui = Sim.state()[\"orderuis\"][2]\n",
    "oui.pmin, oui.pmax, oui.total_liquidity"
   ]
  },
  {
   "cell_type": "code",
   "execution_count": 71,
   "id": "c8ba4c56",
   "metadata": {},
   "outputs": [
    {
     "data": {
      "text/plain": [
       "0"
      ]
     },
     "execution_count": 71,
     "metadata": {},
     "output_type": "execute_result"
    }
   ],
   "source": [
    "r = oui.liquidity_approx(2000, 2499, \"ETH\", asperc=True)\n",
    "assert r == 0\n",
    "r"
   ]
  },
  {
   "cell_type": "code",
   "execution_count": 72,
   "id": "4bbaea77",
   "metadata": {},
   "outputs": [
    {
     "data": {
      "text/plain": [
       "0"
      ]
     },
     "execution_count": 72,
     "metadata": {},
     "output_type": "execute_result"
    }
   ],
   "source": [
    "r = oui.liquidity_approx(2501, 3020, \"ETH\", asperc=True)\n",
    "assert r == 0\n",
    "r"
   ]
  },
  {
   "cell_type": "code",
   "execution_count": 73,
   "id": "2bc081d3",
   "metadata": {},
   "outputs": [
    {
     "data": {
      "text/plain": [
       "1.0"
      ]
     },
     "execution_count": 73,
     "metadata": {},
     "output_type": "execute_result"
    }
   ],
   "source": [
    "r = oui.liquidity_approx(2499, 2501, \"ETH\", asperc=True)\n",
    "assert r == 1\n",
    "r"
   ]
  },
  {
   "cell_type": "code",
   "execution_count": 74,
   "id": "3201ae4f",
   "metadata": {},
   "outputs": [
    {
     "data": {
      "text/plain": [
       "1.0"
      ]
     },
     "execution_count": 74,
     "metadata": {},
     "output_type": "execute_result"
    }
   ],
   "source": [
    "r = oui.liquidity_approx(2500, 2501, \"ETH\", asperc=True)\n",
    "assert r == 1\n",
    "r"
   ]
  },
  {
   "cell_type": "code",
   "execution_count": 75,
   "id": "b982a6d9",
   "metadata": {},
   "outputs": [
    {
     "data": {
      "text/plain": [
       "0"
      ]
     },
     "execution_count": 75,
     "metadata": {},
     "output_type": "execute_result"
    }
   ],
   "source": [
    "r = oui.liquidity_approx(2499, 2500, \"ETH\", asperc=True)\n",
    "assert r == 0\n",
    "r"
   ]
  },
  {
   "cell_type": "code",
   "execution_count": 76,
   "id": "c43e6eec",
   "metadata": {
    "lines_to_next_cell": 2
   },
   "outputs": [
    {
     "data": {
      "text/plain": [
       "1.0"
      ]
     },
     "execution_count": 76,
     "metadata": {},
     "output_type": "execute_result"
    }
   ],
   "source": [
    "r = oui.liquidity_approx(2500, 2500, \"ETH\", asperc=True)\n",
    "assert r == 1\n",
    "r"
   ]
  },
  {
   "cell_type": "code",
   "execution_count": 77,
   "id": "953622d7",
   "metadata": {},
   "outputs": [
    {
     "data": {
      "text/plain": [
       "10.0"
      ]
     },
     "execution_count": 77,
     "metadata": {},
     "output_type": "execute_result"
    }
   ],
   "source": [
    "r = oui.liquidity_approx(2499, 2501, \"ETH\", asperc=False)\n",
    "assert r == 10\n",
    "r"
   ]
  },
  {
   "cell_type": "code",
   "execution_count": 78,
   "id": "c164dbdf",
   "metadata": {},
   "outputs": [
    {
     "data": {
      "text/plain": [
       "25000.0"
      ]
     },
     "execution_count": 78,
     "metadata": {},
     "output_type": "execute_result"
    }
   ],
   "source": [
    "r = oui.liquidity_approx(2499, 2501, \"USDC\", asperc=False)\n",
    "assert r == 25000\n",
    "r"
   ]
  },
  {
   "cell_type": "code",
   "execution_count": 79,
   "id": "422af717",
   "metadata": {},
   "outputs": [
    {
     "data": {
      "text/plain": [
       "25000.0"
      ]
     },
     "execution_count": 79,
     "metadata": {},
     "output_type": "execute_result"
    }
   ],
   "source": [
    "r = oui.liquidity_approx(2500, 2501, \"USDC\", asperc=False)\n",
    "assert r == 25000\n",
    "r"
   ]
  },
  {
   "cell_type": "code",
   "execution_count": 80,
   "id": "279eb57b",
   "metadata": {},
   "outputs": [
    {
     "data": {
      "text/plain": [
       "25000.0"
      ]
     },
     "execution_count": 80,
     "metadata": {},
     "output_type": "execute_result"
    }
   ],
   "source": [
    "r = oui.liquidity_approx(2500, 2500, \"USDC\", asperc=False)\n",
    "assert r == 25000\n",
    "r"
   ]
  },
  {
   "cell_type": "code",
   "execution_count": 81,
   "id": "dc67aca8",
   "metadata": {},
   "outputs": [
    {
     "data": {
      "text/plain": [
       "25000.0"
      ]
     },
     "execution_count": 81,
     "metadata": {},
     "output_type": "execute_result"
    }
   ],
   "source": [
    "r = oui.liquidity_approx(2000, 3000, \"USDC\", asperc=False)\n",
    "assert r == 25000\n",
    "r"
   ]
  },
  {
   "cell_type": "markdown",
   "id": "5a224ad8",
   "metadata": {},
   "source": [
    "## Order 2 USDC range"
   ]
  },
  {
   "cell_type": "code",
   "execution_count": 82,
   "id": "838f0025",
   "metadata": {},
   "outputs": [
    {
     "data": {
      "text/plain": [
       "(1000.0, 1500.0, (12500.0, 'USDC'))"
      ]
     },
     "execution_count": 82,
     "metadata": {},
     "output_type": "execute_result"
    }
   ],
   "source": [
    "oui = Sim.state()[\"orderuis\"][4]\n",
    "oui.pmin, oui.pmax, oui.total_liquidity"
   ]
  },
  {
   "cell_type": "code",
   "execution_count": 83,
   "id": "c6a5389a",
   "metadata": {},
   "outputs": [
    {
     "data": {
      "text/plain": [
       "0"
      ]
     },
     "execution_count": 83,
     "metadata": {},
     "output_type": "execute_result"
    }
   ],
   "source": [
    "r = oui.liquidity_approx(500, 600, \"USDC\", asperc=False)\n",
    "assert r == 0\n",
    "r"
   ]
  },
  {
   "cell_type": "code",
   "execution_count": 84,
   "id": "cd50b06f",
   "metadata": {},
   "outputs": [
    {
     "data": {
      "text/plain": [
       "0"
      ]
     },
     "execution_count": 84,
     "metadata": {},
     "output_type": "execute_result"
    }
   ],
   "source": [
    "r = oui.liquidity_approx(1600, 2000, \"USDC\", asperc=False)\n",
    "assert r == 0\n",
    "r"
   ]
  },
  {
   "cell_type": "code",
   "execution_count": 85,
   "id": "091cd929",
   "metadata": {},
   "outputs": [
    {
     "data": {
      "text/plain": [
       "12500.0"
      ]
     },
     "execution_count": 85,
     "metadata": {},
     "output_type": "execute_result"
    }
   ],
   "source": [
    "r = oui.liquidity_approx(1000, 1500, \"USDC\", asperc=False)\n",
    "assert r == 12500\n",
    "r"
   ]
  },
  {
   "cell_type": "code",
   "execution_count": 86,
   "id": "362bae79",
   "metadata": {},
   "outputs": [
    {
     "data": {
      "text/plain": [
       "2500.0"
      ]
     },
     "execution_count": 86,
     "metadata": {},
     "output_type": "execute_result"
    }
   ],
   "source": [
    "r = oui.liquidity_approx(1000, 1100, \"USDC\", asperc=False)\n",
    "assert r == 2500\n",
    "r"
   ]
  },
  {
   "cell_type": "code",
   "execution_count": 87,
   "id": "5ce0f592",
   "metadata": {},
   "outputs": [
    {
     "data": {
      "text/plain": [
       "2500.0"
      ]
     },
     "execution_count": 87,
     "metadata": {},
     "output_type": "execute_result"
    }
   ],
   "source": [
    "r = oui.liquidity_approx(1400, 1500, \"USDC\", asperc=False)\n",
    "assert r == 2500\n",
    "r"
   ]
  },
  {
   "cell_type": "code",
   "execution_count": 88,
   "id": "1005154b",
   "metadata": {},
   "outputs": [
    {
     "data": {
      "text/plain": [
       "(2.3836564731139807, 2.3836564731139807)"
      ]
     },
     "execution_count": 88,
     "metadata": {},
     "output_type": "execute_result"
    }
   ],
   "source": [
    "r = oui.liquidity_approx(1000, 1100, \"ETH\", asperc=False)\n",
    "assert r == 2500/sqrt(1000*1100)\n",
    "r, 2500/sqrt(1000*1100)"
   ]
  },
  {
   "cell_type": "code",
   "execution_count": 89,
   "id": "552c71a4",
   "metadata": {},
   "outputs": [
    {
     "data": {
      "text/plain": [
       "(1.7251638983558857, 1.7251638983558855)"
      ]
     },
     "execution_count": 89,
     "metadata": {},
     "output_type": "execute_result"
    }
   ],
   "source": [
    "r = oui.liquidity_approx(1400, 1500, \"ETH\", asperc=False)\n",
    "assert int(r) == int(2500/sqrt(1400*1500))\n",
    "r, 2500/sqrt(1400*1500)"
   ]
  },
  {
   "cell_type": "markdown",
   "id": "d40a1f4c",
   "metadata": {},
   "source": [
    "## Order 3 USDC point"
   ]
  },
  {
   "cell_type": "code",
   "execution_count": 90,
   "id": "dc2daf41",
   "metadata": {},
   "outputs": [
    {
     "data": {
      "text/plain": [
       "(1250.0, 1250.0, (12500.0, 'USDC'))"
      ]
     },
     "execution_count": 90,
     "metadata": {},
     "output_type": "execute_result"
    }
   ],
   "source": [
    "oui = Sim.state()[\"orderuis\"][6]\n",
    "oui.pmin, oui.pmax, oui.total_liquidity"
   ]
  },
  {
   "cell_type": "code",
   "execution_count": 91,
   "id": "1553011d",
   "metadata": {},
   "outputs": [
    {
     "data": {
      "text/plain": [
       "12500.0"
      ]
     },
     "execution_count": 91,
     "metadata": {},
     "output_type": "execute_result"
    }
   ],
   "source": [
    "r = oui.liquidity_approx(1249, 1251, \"USDC\", asperc=False)\n",
    "assert r == 12500\n",
    "r"
   ]
  },
  {
   "cell_type": "code",
   "execution_count": 92,
   "id": "c46558c4",
   "metadata": {},
   "outputs": [
    {
     "data": {
      "text/plain": [
       "12500.0"
      ]
     },
     "execution_count": 92,
     "metadata": {},
     "output_type": "execute_result"
    }
   ],
   "source": [
    "r = oui.liquidity_approx(1000, 2000, \"USDC\", asperc=False)\n",
    "assert r == 12500\n",
    "r"
   ]
  },
  {
   "cell_type": "code",
   "execution_count": 93,
   "id": "53d10b47",
   "metadata": {},
   "outputs": [
    {
     "data": {
      "text/plain": [
       "0"
      ]
     },
     "execution_count": 93,
     "metadata": {},
     "output_type": "execute_result"
    }
   ],
   "source": [
    "r = oui.liquidity_approx(1249, 1250, \"USDC\", asperc=False)\n",
    "assert r == 0\n",
    "r"
   ]
  },
  {
   "cell_type": "code",
   "execution_count": 94,
   "id": "fd5f6329",
   "metadata": {},
   "outputs": [
    {
     "data": {
      "text/plain": [
       "12500.0"
      ]
     },
     "execution_count": 94,
     "metadata": {},
     "output_type": "execute_result"
    }
   ],
   "source": [
    "r = oui.liquidity_approx(1250, 1251, \"USDC\", asperc=False)\n",
    "assert r == 12500\n",
    "r"
   ]
  },
  {
   "cell_type": "code",
   "execution_count": 95,
   "id": "2578b7fa",
   "metadata": {},
   "outputs": [
    {
     "data": {
      "text/plain": [
       "10.0"
      ]
     },
     "execution_count": 95,
     "metadata": {},
     "output_type": "execute_result"
    }
   ],
   "source": [
    "r = oui.liquidity_approx(1249, 1251, \"ETH\", asperc=False)\n",
    "assert r == 10\n",
    "r"
   ]
  },
  {
   "cell_type": "code",
   "execution_count": 96,
   "id": "798fea27",
   "metadata": {},
   "outputs": [
    {
     "data": {
      "text/plain": [
       "10.0"
      ]
     },
     "execution_count": 96,
     "metadata": {},
     "output_type": "execute_result"
    }
   ],
   "source": [
    "r = oui.liquidity_approx(1000, 2000, \"ETH\", asperc=False)\n",
    "assert r == 10\n",
    "r"
   ]
  },
  {
   "cell_type": "code",
   "execution_count": 97,
   "id": "9bff2d13",
   "metadata": {},
   "outputs": [
    {
     "data": {
      "text/plain": [
       "0"
      ]
     },
     "execution_count": 97,
     "metadata": {},
     "output_type": "execute_result"
    }
   ],
   "source": [
    "r = oui.liquidity_approx(1249, 1250, \"ETH\", asperc=False)\n",
    "assert r == 0\n",
    "r"
   ]
  },
  {
   "cell_type": "code",
   "execution_count": 98,
   "id": "290ed7c1",
   "metadata": {},
   "outputs": [
    {
     "data": {
      "text/plain": [
       "10.0"
      ]
     },
     "execution_count": 98,
     "metadata": {},
     "output_type": "execute_result"
    }
   ],
   "source": [
    "r = oui.liquidity_approx(1250, 1251, \"ETH\", asperc=False)\n",
    "assert r == 10\n",
    "r"
   ]
  },
  {
   "cell_type": "code",
   "execution_count": null,
   "id": "e095cdab",
   "metadata": {},
   "outputs": [],
   "source": []
  }
 ],
 "metadata": {
  "jupytext": {
   "formats": "ipynb,py:light"
  },
  "kernelspec": {
   "display_name": "Python 3",
   "language": "python",
   "name": "python3"
  },
  "language_info": {
   "codemirror_mode": {
    "name": "ipython",
    "version": 3
   },
   "file_extension": ".py",
   "mimetype": "text/x-python",
   "name": "python",
   "nbconvert_exporter": "python",
   "pygments_lexer": "ipython3",
   "version": "3.8.8"
  }
 },
 "nbformat": 4,
 "nbformat_minor": 5
}
