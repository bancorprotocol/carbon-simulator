{
 "cells": [
  {
   "cell_type": "code",
   "execution_count": 1,
   "id": "3e1dc0ae",
   "metadata": {},
   "outputs": [
    {
     "name": "stdout",
     "output_type": "stream",
     "text": [
      "[stdimports] imported np, pd, plt, os, sqrt, exp, log\n",
      "SolTestBase v1.0 (11/Feb/2023)\n",
      "CarbonFloatInt32 v1.0 (10/Feb/2023)\n",
      "CarbonOrderUI v1.9.1 (16/Mar/2023)\n",
      "CarbonPair v2.2 (11/Feb/2022)\n",
      "Carbon v2.4.1-BETA1 (17/Mar/2023)\n"
     ]
    }
   ],
   "source": [
    "from carbon.helpers.stdimports import *\n",
    "from carbon.helpers.soltest import SolTestBase\n",
    "from carbon.helpers.floatint import *\n",
    "print(\"{0.__name__} v{0.__VERSION__} ({0.__DATE__})\".format(SolTestBase))\n",
    "print(\"{0.__name__} v{0.__VERSION__} ({0.__DATE__})\".format(CarbonFloatInt32))\n",
    "print(\"{0.__name__} v{0.__VERSION__} ({0.__DATE__})\".format(CarbonOrderUI))\n",
    "print(\"{0.__name__} v{0.__VERSION__} ({0.__DATE__})\".format(P))\n",
    "from math import log2, floor, ceil, sqrt\n",
    "print_version(require=\"2.3.3\")"
   ]
  },
  {
   "cell_type": "markdown",
   "id": "298bc7a9",
   "metadata": {},
   "source": [
    "# Solidity Curve Testing (NBTest058)\n",
    "\n",
    "we consider by source and by target **from the point of view of the TRADER**, therefore _by source_ fixes _dx_ and calculates _dy_ and vice versa.\n",
    "\n",
    "**dx from dy (\"by target\")**\n",
    "\n",
    "$$\n",
    "\\Delta x \\,(\\Delta y) = \\frac{\\Delta y z^2}{(Ay+Bz)(Ay+Bz-A\\Delta y)} =_{A=0} \\frac{\\Delta y} {B^2}\n",
    "$$\n",
    "\n",
    "\n",
    "\n",
    "**dy from dx (\"by source\")**\n",
    "\n",
    "$$\n",
    "\\Delta y \\,(\\Delta x) = \\frac{\\Delta x(Ay+Bz)^2}{A\\Delta x(Ay+Bz)+z^2} =_{A=0} \\frac{\\Delta x(Bz)^2}{z^2} = \\Delta x B^2\n",
    "$$\n",
    "\n",
    "[doc][doc]\n",
    "\n",
    "\n",
    "[doc]:https://docs.google.com/document/d/1x4ZbbS3nIRSJ0ojaOrcBhOc-_eOTga6BajDjK45o7u4/edit"
   ]
  },
  {
   "cell_type": "code",
   "execution_count": 2,
   "id": "e9faa0c6",
   "metadata": {},
   "outputs": [],
   "source": [
    "FI32 = CarbonFloatInt32\n",
    "FI40 = CarbonFloatInt40"
   ]
  },
  {
   "cell_type": "markdown",
   "id": "86af2dbe",
   "metadata": {},
   "source": [
    "## Demo and test of yzABS in CarbonOrderUI and pair decimals"
   ]
  },
  {
   "cell_type": "code",
   "execution_count": 3,
   "id": "be619dd8",
   "metadata": {},
   "outputs": [
    {
     "data": {
      "text/plain": [
       "P('ETH/USDC').sd(18,6)"
      ]
     },
     "execution_count": 3,
     "metadata": {},
     "output_type": "execute_result"
    }
   ],
   "source": [
    "ETHUSDC = P(\"ETH/USDC\").sd(18,6)\n",
    "assert ETHUSDC.decimals == {'ETH': 18, 'USDC': 6, '_TKNB': 18, '_TKNQ': 6, '_DIFFQB': -12}\n",
    "assert ETHUSDC.decdiffqb == -12\n",
    "assert P(ETHUSDC).has_decimals\n",
    "assert ETHUSDC.price_convention == 'USDC per ETH'\n",
    "ETHUSDC"
   ]
  },
  {
   "cell_type": "code",
   "execution_count": 4,
   "id": "c7f1abd9",
   "metadata": {},
   "outputs": [
    {
     "name": "stdout",
     "output_type": "stream",
     "text": [
      "[yzABS] pair=P('ETH/USDC').sd(18,6), y=ETH(18), x=USDC(6)\n",
      "[yzABS] scale = 2**10 = 1024\n",
      "[yzABS] y=0.5 -> y_wei=5e+17 [ETH-wei]\n",
      "[yzABS] yint=1 -> z_wei=1000000000000000000 [ETH-wei]\n",
      "[yzABS] pa_raw=0.0006666666666666666 ETH per USDC -> 666666666 ETH-wei per USDC-wei\n",
      "[yzABS] pb_raw=0.0005 ETH per USDC -> 500000000 ETH-wei per USDC-wei\n",
      "[yzABS] a=0.0034592091997182155 -> 3459.2091997182156 * scale = 3542230\n",
      "[yzABS] b=0.022360679774997897 -> 22360.679774997898 * scale = 22897336\n",
      "[yzABS] yzABS = yzABSdata(y=5e+17, z=1000000000000000000, A=3542230, B=22897336, S=1024)\n"
     ]
    }
   ],
   "source": [
    "oui = CarbonOrderUI.from_prices(ETHUSDC, \"ETH\", 1500, 2000, 1, 0.5)\n",
    "r = oui.yzABS(sx=10, verbose=True)\n",
    "ddf, ddf2 = 10**12, 10**6\n",
    "assert r.y == 0.5 * 10**18\n",
    "assert r.z == 10**18\n",
    "assert r.A == int(oui.S * ddf2 * r.S)\n",
    "assert r.B == int(oui.B * ddf2 * r.S)\n",
    "assert r.S == 2**10\n",
    "assert oui.descr() == 'Sell ETH buy USDC from 1500.0000 to 2000.0000 USDC per ETH'"
   ]
  },
  {
   "cell_type": "code",
   "execution_count": 5,
   "id": "be7cecb1",
   "metadata": {},
   "outputs": [
    {
     "name": "stdout",
     "output_type": "stream",
     "text": [
      "[yzABS] pair=P('ETH/USDC').sd(18,6), y=USDC(6), x=ETH(18)\n",
      "[yzABS] scale = 2**40 = 1099511627776\n",
      "[yzABS] y=790 -> y_wei=790000000 [USDC-wei]\n",
      "[yzABS] yint=1100 -> z_wei=1100000000 [USDC-wei]\n",
      "[yzABS] pa_raw=1000.0 USDC per ETH -> 0 USDC-wei per ETH-wei\n",
      "[yzABS] pb_raw=500.00000000000006 USDC per ETH -> 0 USDC-wei per ETH-wei\n",
      "[yzABS] a=9.262096826685895 -> 9.262096826685894e-06 * scale = 10183783\n",
      "[yzABS] b=22.360679774997898 -> 2.2360679774997898e-05 * scale = 24585827\n",
      "[yzABS] yzABS = yzABSdata(y=790000000, z=1100000000, A=10183783, B=24585827, S=1099511627776)\n"
     ]
    }
   ],
   "source": [
    "oui = CarbonOrderUI.from_prices(ETHUSDC, \"USDC\", 1000, 500, 1100, 790)\n",
    "r = oui.yzABS(sx=40, verbose=True)\n",
    "ddf, ddf2 = 10**-12, 10**-6\n",
    "assert r.y == 790 * 10**6\n",
    "assert r.z == 1100 * 10**6\n",
    "assert r.A == int(oui.S * ddf2 * r.S)\n",
    "assert r.B == int(oui.B * ddf2 * r.S)\n",
    "assert r.S == 2**40"
   ]
  },
  {
   "cell_type": "markdown",
   "id": "54505811",
   "metadata": {},
   "source": [
    "## Sundry tests of other carbonui stuff"
   ]
  },
  {
   "cell_type": "code",
   "execution_count": 6,
   "id": "06ccf350",
   "metadata": {},
   "outputs": [
    {
     "name": "stdout",
     "output_type": "stream",
     "text": [
      "('Curve ID has already been set', 1, 1)\n"
     ]
    }
   ],
   "source": [
    "oui = CarbonOrderUI.from_prices(P(\"ETH/USDC\").sd(18,6), \"USDC\", 1000, 500, 1100, 790)\n",
    "r = oui.set_id(1)\n",
    "assert oui.tkn == \"USDC\"\n",
    "assert oui.tkny == oui.tkn\n",
    "assert oui.tknx == \"ETH\"\n",
    "assert oui.pair.slashpair == \"ETH/USDC\"\n",
    "assert abs(oui.S/9.262096826685895-1) < 1e-10\n",
    "assert abs(oui.B/22.360679774997898-1) < 1e-10\n",
    "assert oui.S is oui.A\n",
    "assert abs(oui.pa/1000-1) < 1e-10\n",
    "assert abs(oui.pa_raw/1000-1) < 1e-10\n",
    "assert oui.p_start == oui.pa\n",
    "assert oui.py == oui.pa\n",
    "assert abs(oui.pb/500-1) < 1e-10\n",
    "assert abs(oui.pb_raw/500-1) < 1e-10\n",
    "assert oui.p_end == oui.pb\n",
    "assert oui.py == oui.py\n",
    "assert abs(oui.yint/1100-1) < 1e-10\n",
    "assert abs(oui.y/790-1) < 1e-10\n",
    "assert oui.yint == oui.z\n",
    "assert oui.total_liquidity == (790, 'USDC')\n",
    "assert oui.price_convention == 'USDC per ETH'\n",
    "assert oui.price_convention == oui.pair.price_convention\n",
    "assert oui.price_convention == oui.price_convention_raw\n",
    "assert oui.yzABS(32).astuple == (790000000, 1100000000, 39780, 96038, 4294967296)\n",
    "assert r is oui\n",
    "try:\n",
    "    oui.set_id(1)\n",
    "    raise\n",
    "except ValueError as e:\n",
    "    print(e)"
   ]
  },
  {
   "cell_type": "code",
   "execution_count": 7,
   "id": "2f70421c",
   "metadata": {},
   "outputs": [
    {
     "data": {
      "text/plain": [
       "'USDC per ETH'"
      ]
     },
     "execution_count": 7,
     "metadata": {},
     "output_type": "execute_result"
    }
   ],
   "source": [
    "oui.price_convention_raw"
   ]
  },
  {
   "cell_type": "code",
   "execution_count": 8,
   "id": "78c2fc0c",
   "metadata": {},
   "outputs": [
    {
     "name": "stdout",
     "output_type": "stream",
     "text": [
      "('Linked object has already been set', 1, 1)\n"
     ]
    }
   ],
   "source": [
    "oui2 = CarbonOrderUI.from_prices(P(\"ETH/USDC\").sd(18,6), \"ETH\", 1500, 2000, 2, 1)\n",
    "oui2.set_id(2)\n",
    "r  = oui.set_linked(oui2)\n",
    "r2 = oui2.set_linked(oui)  # sets linked here and creates backlink\n",
    "assert oui2.tkn == \"ETH\"\n",
    "assert oui2.tkny == oui2.tkn\n",
    "assert oui2.tknx == \"USDC\"\n",
    "assert oui2.pair.slashpair == \"ETH/USDC\"\n",
    "assert abs(oui2.S/0.0034592091997182155-1) < 1e-10\n",
    "assert abs(oui2.B/0.022360679774997897-1) < 1e-10\n",
    "assert oui2.S is oui2.A\n",
    "assert abs(oui2.pa/1500-1) < 1e-10\n",
    "assert abs(oui2.pa_raw/0.0006666666666666666-1) < 1e-10\n",
    "assert oui2.p_start == oui2.pa\n",
    "assert oui2.py == oui2.pa\n",
    "assert abs(oui2.pb/2000-1) < 1e-10\n",
    "assert abs(oui2.pb_raw/0.0005-1) < 1e-10\n",
    "assert oui2.p_end == oui2.pb\n",
    "assert oui2.py == oui2.py\n",
    "assert abs(oui2.yint/2-1) < 1e-10\n",
    "assert abs(oui2.y/1-1) < 1e-10\n",
    "assert oui2.yint == oui2.z\n",
    "assert oui2.total_liquidity == (1, 'ETH')\n",
    "assert oui2.price_convention == 'USDC per ETH'\n",
    "assert oui2.price_convention == oui2.pair.price_convention\n",
    "assert oui2.price_convention != oui2.price_convention_raw\n",
    "assert oui2.price_convention_raw == \"ETH per USDC\"\n",
    "assert oui2.yzABS(32).astuple == (1000000000000000000, 2000000000000000000, 14857190382812, 96038388349944, 4294967296)\n",
    "assert oui2.yzABS(32).asdict == {\n",
    "    'y': 1000000000000000000,\n",
    "    'z': 2000000000000000000,\n",
    "    'A': 14857190382812,\n",
    "    'B': 96038388349944,\n",
    "    'S': 4294967296\n",
    "}\n",
    "assert r is oui\n",
    "assert r2 is oui2\n",
    "try:\n",
    "    oui2.set_linked(oui)\n",
    "    raise\n",
    "except ValueError as e:\n",
    "    print(e)"
   ]
  },
  {
   "cell_type": "code",
   "execution_count": 9,
   "id": "bb206f8c-488e-411f-a2f5-0e5a8ac849c2",
   "metadata": {},
   "outputs": [
    {
     "data": {
      "text/plain": [
       "{'y': 1000000000000000000,\n",
       " 'z': 2000000000000000000,\n",
       " 'A': 14857190382812,\n",
       " 'B': 96038388349944,\n",
       " 'S': 4294967296}"
      ]
     },
     "execution_count": 9,
     "metadata": {},
     "output_type": "execute_result"
    }
   ],
   "source": [
    "oui2.yzABS(32).asdict"
   ]
  },
  {
   "cell_type": "code",
   "execution_count": 10,
   "id": "2a7a943f",
   "metadata": {},
   "outputs": [],
   "source": [
    "assert oui.lid == 2\n",
    "assert oui2.lid == 1"
   ]
  },
  {
   "cell_type": "markdown",
   "id": "936667ae",
   "metadata": {},
   "source": [
    "## Demo [NOTEST]"
   ]
  },
  {
   "cell_type": "markdown",
   "id": "928eedf0",
   "metadata": {},
   "source": [
    "### Trade functions"
   ]
  },
  {
   "cell_type": "code",
   "execution_count": 11,
   "id": "6404797e",
   "metadata": {},
   "outputs": [],
   "source": [
    "mulDivF = lambda x, y, z: (x * y) // z\n",
    "mulDiv = mulDivF\n",
    "mulDivC = lambda x, y, z: (x * y + z - 1) // z"
   ]
  },
  {
   "cell_type": "markdown",
   "id": "093aafad-4921-4a94-8216-2c57bd4b8080",
   "metadata": {},
   "source": [
    "#### trade_by_source_dy_from_dx"
   ]
  },
  {
   "cell_type": "code",
   "execution_count": 12,
   "id": "5a699580",
   "metadata": {},
   "outputs": [],
   "source": [
    "def trade_by_source_dy_from_dx(params, C):\n",
    "\n",
    "    dx = params[0]\n",
    "    y,z,A,B,s = params[1].astuple\n",
    "    print(params)\n",
    "    ONE = s\n",
    "    temp1 = C(y * A + z * B, \"temp1\")               # 177 bits at most; cannot overflow\n",
    "    temp2 = C(temp1 * dx / ONE, \"temp2\")            # 224 bits at most; can overflow; some precision loss\n",
    "    temp3 = C(temp2 * A + z * z * ONE, \"temp3\")     # 256 bits at most; can overflow\n",
    "    dy = mulDiv(temp1, temp2, temp3)\n",
    "    print(dx, temp1, temp2, temp3, dy)\n",
    "    return dy"
   ]
  },
  {
   "cell_type": "code",
   "execution_count": 13,
   "id": "435238ec-fb74-42a0-8542-3f5ef82a317c",
   "metadata": {},
   "outputs": [],
   "source": [
    "# temp1 = z * ONE\n",
    "# temp2 = y * A + z * B\n",
    "# temp3 = temp2 * dy\n",
    "# scale = mulDivC(temp3, A, 2**256-1)\n",
    "# temp4 = mulDivC(temp1, temp1, scale)\n",
    "# temp5 = mulDivC(temp3, A, scale)\n",
    "# dx    = mulDivF(temp2, temp3 // scale, temp4 + temp5)"
   ]
  },
  {
   "cell_type": "markdown",
   "id": "bc98ce4d",
   "metadata": {},
   "source": [
    "#### trade_by_target_dx_from_dy\n",
    "\n",
    "this one is SKL version of the fixed code"
   ]
  },
  {
   "cell_type": "code",
   "execution_count": 14,
   "id": "f1ff618a",
   "metadata": {},
   "outputs": [],
   "source": [
    "def trade_by_target_dx_from_dy(params, C):\n",
    "\n",
    "    print(params)\n",
    "    dy = params[0]\n",
    "    y,z,A,B,s = params[1].astuple\n",
    "    ONE = s\n",
    "    temp1 = C(z * ONE, \"temp1\")                  \n",
    "    temp2 = C(y * A + z * B, \"temp2\")         \n",
    "    temp3 = C(temp2 - dy * A, \"temp3\")        \n",
    "    scale = mulDiv(temp2, temp3, 2**255)+1\n",
    "    temp1s = C(temp1//scale, \"temp1s\")\n",
    "    temp2s = C(temp2//scale, \"temp2s\")\n",
    "    dx = mulDiv(\n",
    "        C(dy*temp1s, \"dx*temp1s\"), \n",
    "        temp1, \n",
    "        C(temp2s*temp3, \"temp2s*temp3\")\n",
    "    )\n",
    "    print(dy, dx*temp1s, temp1, temp2s*temp3, dx)\n",
    "    return dx"
   ]
  },
  {
   "cell_type": "markdown",
   "id": "e84b548f",
   "metadata": {},
   "source": [
    "this is BM version of the fixed code"
   ]
  },
  {
   "cell_type": "code",
   "execution_count": 15,
   "id": "69288344",
   "metadata": {},
   "outputs": [],
   "source": [
    "# # trade_by_target_dx_from_dy\n",
    "# mulDivF = lambda x, y, z: x * y // z\n",
    "# mulDivC = lambda x, y, z: (x * y + z - 1) // z\n",
    "\n",
    "# temp1 = z * ONE\n",
    "# temp2 = y * A + z * B\n",
    "# temp3 = temp2 - dx * A\n",
    "# scale = mulDivC(temp2, temp3, 2**256-1)\n",
    "# temp4 = mulDivC(temp1, temp1, scale)\n",
    "# temp5 = mulDivF(temp2, temp3, scale)\n",
    "# dy    = mulDivC(dx, temp4, temp5)"
   ]
  },
  {
   "cell_type": "markdown",
   "id": "7a6f216d",
   "metadata": {},
   "source": [
    "that's the previous, failing, version of the code"
   ]
  },
  {
   "cell_type": "code",
   "execution_count": 16,
   "id": "5fa8121d",
   "metadata": {},
   "outputs": [],
   "source": [
    "def trade_by_target_dx_from_dy_old(params, C):\n",
    "\n",
    "    dy = params[0]\n",
    "    y,z,A,B,s = params[1].astuple\n",
    "    ONE = s\n",
    "    temp1 = C(z * ONE, \"temp1\")                  \n",
    "    temp2 = C(y * A + z * B, \"temp2\")         \n",
    "    temp3 = C(temp2 - dy * A, \"temp3\")        \n",
    "    dx = mulDiv(\n",
    "        C(dy*temp1, \"dy*temp1\"), \n",
    "        temp1, \n",
    "        C(temp2*temp3, \"temp2*temp3\")\n",
    "    ) \n",
    "    print(dy, dy*temp1, temp1, temp2*temp3, dx)\n",
    "    return dx"
   ]
  },
  {
   "cell_type": "markdown",
   "id": "bf55ed35",
   "metadata": {},
   "source": [
    "### Analysis"
   ]
  },
  {
   "cell_type": "code",
   "execution_count": 17,
   "id": "660bcf7e",
   "metadata": {},
   "outputs": [],
   "source": [
    "class STB(SolTestBase):\n",
    "    #PRINT_LVL_DEFAULT = SolTestBase.LVL_LOG\n",
    "    PRINT_LVL_DEFAULT = SolTestBase.LVL_WARN\n",
    "VERBOSE = False"
   ]
  },
  {
   "cell_type": "markdown",
   "id": "d00a808d",
   "metadata": {},
   "source": [
    "#### TKN/DAI -- same decimality, same reasonable price"
   ]
  },
  {
   "cell_type": "code",
   "execution_count": 18,
   "id": "91035da6",
   "metadata": {},
   "outputs": [],
   "source": [
    "TKNDAI = P(\"TKN/DAI\").sd(18,18)\n",
    "price = 5  # DAI per TKN\n",
    "oui = CarbonOrderUI.from_prices(TKNDAI, \"TKN\", price, price, 1000, 1000)\n",
    "c = curve = oui.yzABS(sx=40, verbose=VERBOSE)"
   ]
  },
  {
   "cell_type": "code",
   "execution_count": 19,
   "id": "47f40d52",
   "metadata": {},
   "outputs": [
    {
     "name": "stdout",
     "output_type": "stream",
     "text": [
      "(1e+18, yzABSdata(y=1000000000000000000000, z=1000000000000000000000, A=0, B=491716548351, S=1099511627776))\n",
      "1e+18 5497558138896018159282952339456000000000000000000000 1099511627776000000000000000000000 241785163922221334256682292088662337232306176000000000000000000000 5000000000014568431\n"
     ]
    },
    {
     "data": {
      "text/plain": [
       "5.000000000014569"
      ]
     },
     "execution_count": 19,
     "metadata": {},
     "output_type": "execute_result"
    }
   ],
   "source": [
    "params_bysrc  = (1e18, curve) # dy = wei sent (by source, 1 TKN)\n",
    "dx = trade_by_target_dx_from_dy( params_bysrc, STB(context=(\"by_source\", curve)))\n",
    "dx/1e18 # 1 TKN -> 5 DAI ==> 5 DAI per TKN"
   ]
  },
  {
   "cell_type": "code",
   "execution_count": 20,
   "id": "22b1e2e0",
   "metadata": {},
   "outputs": [
    {
     "name": "stdout",
     "output_type": "stream",
     "text": [
      "(5e+18, yzABSdata(y=1000000000000000000000, z=1000000000000000000000, A=0, B=491716548351, S=1099511627776))\n",
      "5e+18 491716548351000000000000000000000 2236067977496531949120054474223665545216 1099511627776000000000000000000000000000000000000000000 999999999997086190\n"
     ]
    },
    {
     "data": {
      "text/plain": [
       "0.9999999999970862"
      ]
     },
     "execution_count": 20,
     "metadata": {},
     "output_type": "execute_result"
    }
   ],
   "source": [
    "params_bytarg = (5e18, curve)       # dx = token wei received (target, DAI)\n",
    "dy = trade_by_source_dy_from_dx( params_bytarg, STB(context=(\"by_target\", curve)) )\n",
    "dy/1e18 # 1 TKN ->  5 DAI --> 5 DAI per TKN"
   ]
  },
  {
   "cell_type": "markdown",
   "id": "44cbce08",
   "metadata": {},
   "source": [
    "#### ETH/USDC -- y=ETH, x=USDC"
   ]
  },
  {
   "cell_type": "code",
   "execution_count": 21,
   "id": "350ecb5c",
   "metadata": {},
   "outputs": [],
   "source": [
    "ETHUSDC = P(\"ETH/USDC\").sd(18,6)\n",
    "oui = CarbonOrderUI.from_prices(ETHUSDC, \"ETH\", 2000, 2000, 1, 0.5)\n",
    "curve = oui.yzABS(sx=40, verbose=VERBOSE)"
   ]
  },
  {
   "cell_type": "code",
   "execution_count": 22,
   "id": "31c02030",
   "metadata": {},
   "outputs": [
    {
     "name": "stdout",
     "output_type": "stream",
     "text": [
      "(1e+18, yzABSdata(y=5e+17, z=1000000000000000000, A=0, B=24585827417585820, S=1099511627776))\n",
      "1e+18 2199023254452488372224000000000000000000 1099511627776000000000000000000 604462909807314618688415159765465413263269547110658276245826332262400 1999999999\n"
     ]
    },
    {
     "data": {
      "text/plain": [
       "1999.999999"
      ]
     },
     "execution_count": 22,
     "metadata": {},
     "output_type": "execute_result"
    }
   ],
   "source": [
    "params_bysrc  = (1*1e18, curve) # dy = token wei sent (by source, 1 ETH)\n",
    "dx = trade_by_target_dx_from_dy( params_bysrc, STB(context=(\"by_source\", curve)))\n",
    "dx/1e6 # 1 ETH -> 2000 USDC"
   ]
  },
  {
   "cell_type": "code",
   "execution_count": 23,
   "id": "3bc18bb0",
   "metadata": {},
   "outputs": [
    {
     "name": "stdout",
     "output_type": "stream",
     "text": [
      "(2000000000.0, yzABSdata(y=5e+17, z=1000000000000000000, A=0, B=24585827417585820, S=1099511627776))\n",
      "2000000000.0 24585827417585819755229268861255680 44721359549995793980834690629632 1099511627776000000000000000000000000000000000000 1000000000000000027\n"
     ]
    },
    {
     "data": {
      "text/plain": [
       "1.0"
      ]
     },
     "execution_count": 23,
     "metadata": {},
     "output_type": "execute_result"
    }
   ],
   "source": [
    "params_bytarg = (2000*1e6, curve)       # dx = token wei received (target, USDC)\n",
    "dy = trade_by_source_dy_from_dx( params_bytarg, STB(context=(\"by_target\", curve)) )\n",
    "dy/1e18 # 1 ETH -> 2000 USDC"
   ]
  },
  {
   "cell_type": "markdown",
   "id": "6380aa9b",
   "metadata": {},
   "source": [
    "#### ETH/USDC -- y=USDC, x=ETH"
   ]
  },
  {
   "cell_type": "code",
   "execution_count": 24,
   "id": "aa9ea262",
   "metadata": {},
   "outputs": [
    {
     "name": "stdout",
     "output_type": "stream",
     "text": [
      "yzABSdata(y=750000000, z=750000000, A=0, B=34769610, S=1099511627776)\n"
     ]
    }
   ],
   "source": [
    "oui = CarbonOrderUI.from_prices(ETHUSDC, \"USDC\", 1000, 1000, 750, 750)\n",
    "curve = oui.yzABS(sx=40, verbose=VERBOSE)\n",
    "print(curve)"
   ]
  },
  {
   "cell_type": "code",
   "execution_count": 25,
   "id": "a0d3d657",
   "metadata": {},
   "outputs": [
    {
     "name": "stdout",
     "output_type": "stream",
     "text": [
      "(1000000000.0, yzABSdata(y=750000000, z=750000000, A=0, B=34769610, S=1099511627776))\n",
      "1000000000.0 824633748159494423332333289472000000000 824633720832000000000 680020750998056250000000000000000 1000000033138948521\n"
     ]
    },
    {
     "data": {
      "text/plain": [
       "1.0000000331389485"
      ]
     },
     "execution_count": 25,
     "metadata": {},
     "output_type": "execute_result"
    }
   ],
   "source": [
    "params_bysrc  = (1000*1e6, curve)       # dy = USDC-wei\n",
    "dx = trade_by_target_dx_from_dy( params_bysrc, STB(context=(\"by_source\", curve)) )\n",
    "dx/1e18 # 1000 USDC -> 1 ETH"
   ]
  },
  {
   "cell_type": "code",
   "execution_count": 26,
   "id": "1b488074",
   "metadata": {},
   "outputs": [
    {
     "name": "stdout",
     "output_type": "stream",
     "text": [
      "(1e+18, yzABSdata(y=750000000, z=750000000, A=0, B=34769610, S=1099511627776))\n",
      "1e+18 26077207500000000 23717082058283267653632 618475290624000000000000000000 999999966\n"
     ]
    },
    {
     "data": {
      "text/plain": [
       "999.999966"
      ]
     },
     "execution_count": 26,
     "metadata": {},
     "output_type": "execute_result"
    }
   ],
   "source": [
    "params_bytarg = (1e18, curve)  # dx = ETH-wei\n",
    "dy = trade_by_source_dy_from_dx( params_bytarg, STB(context=(\"by_target\", curve)) )\n",
    "dy/1e6 # 1000 USDC -> 1 ETH"
   ]
  },
  {
   "cell_type": "markdown",
   "id": "75b963cf",
   "metadata": {},
   "source": [
    "#### SHIB/USDC -- y=SHIB, x=USDC"
   ]
  },
  {
   "cell_type": "code",
   "execution_count": 27,
   "id": "157b0558",
   "metadata": {},
   "outputs": [
    {
     "name": "stdout",
     "output_type": "stream",
     "text": [
      "yzABSdata(y=2e+23, z=2e+23, A=0, B=347696105761141489664, S=1099511627776)\n"
     ]
    }
   ],
   "source": [
    "SHIBUSDC = P(\"SHIB/USDC\").sd(18,6)\n",
    "price = 1e-5\n",
    "oui = CarbonOrderUI.from_prices(SHIBUSDC, \"SHIB\", price, price, 2e5, 2e5)\n",
    "curve = oui.yzABS(sx=40, verbose=VERBOSE)\n",
    "print(curve)"
   ]
  },
  {
   "cell_type": "code",
   "execution_count": 28,
   "id": "1fe9d898",
   "metadata": {},
   "outputs": [
    {
     "name": "stdout",
     "output_type": "stream",
     "text": [
      "(1e+23, yzABSdata(y=2e+23, z=2e+23, A=0, B=347696105761141489664, S=1099511627776))\n",
      "[WARNING:OVERFLOW:TEMP2S*TEMP3] 255 bits: close to max\n",
      "1e+23 2632807291694421164755057000000 219902325555199981553255926290448384 57896044618229089136646689796713055452480359437934408123369084530614903767040 1000000\n"
     ]
    },
    {
     "data": {
      "text/plain": [
       "1.0"
      ]
     },
     "execution_count": 28,
     "metadata": {},
     "output_type": "execute_result"
    }
   ],
   "source": [
    "params_bysrc  = (1*1e5*1e18, curve)      # dy = SHIB-wei (1 USD worth of SHIB)\n",
    "dx = trade_by_target_dx_from_dy( params_bysrc, STB(context=(\"by_source\", curve)) )\n",
    "dx / 1e6 # 1e5 SHIB -> 1 USDC"
   ]
  },
  {
   "cell_type": "code",
   "execution_count": 29,
   "id": "8e9d1a6a",
   "metadata": {},
   "outputs": [
    {
     "name": "stdout",
     "output_type": "stream",
     "text": [
      "(1000000.0, yzABSdata(y=2e+23, z=2e+23, A=0, B=347696105761141489664, S=1099511627776))\n",
      "1000000.0 69539221152228296189580545547731059544686592 63245553203367578540979698731480776704 43980465111039994123099750822391432276334879391719429767168 99999999999999985943809\n"
     ]
    },
    {
     "data": {
      "text/plain": [
       "99999.99999999999"
      ]
     },
     "execution_count": 29,
     "metadata": {},
     "output_type": "execute_result"
    }
   ],
   "source": [
    "params_bytarg = (1*1e6, curve) # dx = USDC-wei\n",
    "dy = trade_by_source_dy_from_dx( params_bytarg, STB(context=(\"by_target\", curve)) )\n",
    "dy/1e18 # 1e5 SHIB -> 1 USDC"
   ]
  },
  {
   "cell_type": "markdown",
   "id": "0aed811f",
   "metadata": {},
   "source": [
    "#### Nick's example DAI/USDC -- Selling DAI"
   ]
  },
  {
   "cell_type": "code",
   "execution_count": 30,
   "id": "c216ea64",
   "metadata": {},
   "outputs": [
    {
     "name": "stdout",
     "output_type": "stream",
     "text": [
      "yzABSdata(y=1e+23, z=1e+23, A=0, B=1099511627776000000, S=1099511627776)\n"
     ]
    }
   ],
   "source": [
    "DAIUSDC = P(\"DAI/USDC\").sd(18,6)\n",
    "price = 1\n",
    "oui = CarbonOrderUI.from_prices(DAIUSDC, \"DAI\", price, price, 1e5, 1e5)\n",
    "curve = oui.yzABS(sx=40, verbose=VERBOSE)\n",
    "print(curve)"
   ]
  },
  {
   "cell_type": "code",
   "execution_count": 31,
   "id": "d7351d10",
   "metadata": {
    "lines_to_next_cell": 2
   },
   "outputs": [
    {
     "name": "stdout",
     "output_type": "stream",
     "text": [
      "(1e+18, yzABSdata(y=1e+23, z=1e+23, A=0, B=1099511627776000000, S=1099511627776))\n",
      "[WARNING:OVERFLOW:TEMP2S*TEMP3] 255 bits: close to max\n",
      "1e+18 526560283637935027904014110996239763 109951162777599990776627963145224192 57895973354467169559526534691796259748754773305955415093504382476762774241280 999999\n"
     ]
    },
    {
     "data": {
      "text/plain": [
       "0.999999"
      ]
     },
     "execution_count": 31,
     "metadata": {},
     "output_type": "execute_result"
    }
   ],
   "source": [
    "params_bysrc  = (1*1e18, curve)        # dy = DAI-wei\n",
    "dx = trade_by_target_dx_from_dy( params_bysrc, STB(context=(\"by_source\", curve)) )\n",
    "dx/1e6 # 1 DAI -> 1 USDC"
   ]
  },
  {
   "cell_type": "code",
   "execution_count": 32,
   "id": "dde32b20",
   "metadata": {
    "lines_to_next_cell": 2
   },
   "outputs": [
    {
     "name": "stdout",
     "output_type": "stream",
     "text": [
      "(1000000.0, yzABSdata(y=1e+23, z=1e+23, A=0, B=1099511627776000000, S=1099511627776))\n",
      "1000000.0 109951162777599990580649754106133915631616 99999999999999996863366107917975552 10995116277759998530774937705597858069083719847929857441792 1000000000000000016\n"
     ]
    },
    {
     "data": {
      "text/plain": [
       "1.0"
      ]
     },
     "execution_count": 32,
     "metadata": {},
     "output_type": "execute_result"
    }
   ],
   "source": [
    "params_bytarg = (1*1e6, curve)  # dx = USDC-wei\n",
    "dy = trade_by_source_dy_from_dx( params_bytarg, STB(context=(\"by_target\", curve)) )\n",
    "dy / 1e18 # 1 DAI -> 1 USDC"
   ]
  },
  {
   "cell_type": "markdown",
   "id": "cc9e6144",
   "metadata": {},
   "source": [
    "#### Nick's example DAI/USDC -- Selling USDC"
   ]
  },
  {
   "cell_type": "code",
   "execution_count": 33,
   "id": "5bf43781",
   "metadata": {},
   "outputs": [],
   "source": [
    "SHIBUSDC = P(\"DAI/USDC\").sd(18,6)\n",
    "price = 1\n",
    "oui = CarbonOrderUI.from_prices(SHIBUSDC, \"USDC\", price, price, 1e5, 1e5)\n",
    "curve = oui.yzABS(sx=40, verbose=VERBOSE)"
   ]
  },
  {
   "cell_type": "code",
   "execution_count": 34,
   "id": "88743d3d",
   "metadata": {},
   "outputs": [
    {
     "name": "stdout",
     "output_type": "stream",
     "text": [
      "(1000000.0, yzABSdata(y=100000000000.0, z=100000000000.0, A=0, B=1099511, S=1099511627776))\n",
      "1000000.0 109951288332907530323650989260800000000000 109951162777600000000000 12089244391210000000000000000000000 1000001141918869783\n"
     ]
    },
    {
     "data": {
      "text/plain": [
       "1.0000011419188697"
      ]
     },
     "execution_count": 34,
     "metadata": {},
     "output_type": "execute_result"
    }
   ],
   "source": [
    "params_bysrc  = (1*1e6, curve)       # dy = USDC-wei\n",
    "dx = trade_by_target_dx_from_dy( params_bysrc, STB(context=(\"by_source\", curve)) )\n",
    "dx/1e18"
   ]
  },
  {
   "cell_type": "code",
   "execution_count": 35,
   "id": "aa96fd11",
   "metadata": {},
   "outputs": [
    {
     "name": "stdout",
     "output_type": "stream",
     "text": [
      "(1e+18, yzABSdata(y=100000000000.0, z=100000000000.0, A=0, B=1099511, S=1099511627776))\n",
      "1e+18 109951100000000000 99999942904105404465152 10995116277760000000000000000000000 999998\n"
     ]
    },
    {
     "data": {
      "text/plain": [
       "0.999998"
      ]
     },
     "execution_count": 35,
     "metadata": {},
     "output_type": "execute_result"
    }
   ],
   "source": [
    "params_bytarg = (1e18, curve)      # dx = DAI-wei\n",
    "dy = trade_by_source_dy_from_dx( params_bytarg, STB(context=(\"by_target\", curve)) )\n",
    "dy/1e6"
   ]
  },
  {
   "cell_type": "markdown",
   "id": "de54a051",
   "metadata": {},
   "source": [
    "## More examples [NOTEST]"
   ]
  },
  {
   "cell_type": "code",
   "execution_count": 36,
   "id": "a11401b8",
   "metadata": {},
   "outputs": [],
   "source": [
    "class STB(SolTestBase):\n",
    "    PRINT_LVL_DEFAULT = SolTestBase.LVL_LOG\n",
    "    #PRINT_LVL_DEFAULT = SolTestBase.LVL_WARN\n",
    "VERBOSE = True"
   ]
  },
  {
   "cell_type": "markdown",
   "id": "8031da11",
   "metadata": {},
   "source": [
    "### DAI/USDC"
   ]
  },
  {
   "cell_type": "code",
   "execution_count": 37,
   "id": "d66ee2c3",
   "metadata": {},
   "outputs": [
    {
     "name": "stdout",
     "output_type": "stream",
     "text": [
      "[yzABS] pair=P('DAI/USDC').sd(18,6), y=USDC(6), x=DAI(18)\n",
      "[yzABS] scale = 2**40 = 1099511627776\n",
      "[yzABS] y=100000.0 -> y_wei=100000000000.0 [USDC-wei]\n",
      "[yzABS] yint=100000.0 -> z_wei=100000000000.0 [USDC-wei]\n",
      "[yzABS] pa_raw=1.0 USDC per DAI -> 0 USDC-wei per DAI-wei\n",
      "[yzABS] pb_raw=1.0 USDC per DAI -> 0 USDC-wei per DAI-wei\n",
      "[yzABS] a=0.0 -> 0.0 * scale = 0\n",
      "[yzABS] b=1.0 -> 1e-06 * scale = 1099511\n",
      "[yzABS] yzABS = yzABSdata(y=100000000000.0, z=100000000000.0, A=0, B=1099511, S=1099511627776)\n"
     ]
    },
    {
     "data": {
      "text/plain": [
       "yzABSdata(y=100000000000.0, z=100000000000.0, A=0, B=1099511, S=1099511627776)"
      ]
     },
     "execution_count": 37,
     "metadata": {},
     "output_type": "execute_result"
    }
   ],
   "source": [
    "PAIR = P(\"DAI/USDC\").sd(18,6)\n",
    "price = 1\n",
    "oui = CarbonOrderUI.from_prices(PAIR, \"USDC\", price, price, 1e5, 1e5)\n",
    "curve = oui.yzABS(sx=40, verbose=VERBOSE)\n",
    "curve"
   ]
  },
  {
   "cell_type": "code",
   "execution_count": 38,
   "id": "32a70f1d",
   "metadata": {},
   "outputs": [
    {
     "name": "stdout",
     "output_type": "stream",
     "text": [
      "(1000000.0, yzABSdata(y=100000000000.0, z=100000000000.0, A=0, B=1099511, S=1099511627776))\n",
      "[LOG:OK:TEMP1] 77 bits: ok\n",
      "[LOG:OK:TEMP2] 57 bits: ok\n",
      "[LOG:OK:TEMP3] 57 bits: ok\n",
      "[LOG:OK:TEMP1S] 77 bits: ok\n",
      "[LOG:OK:TEMP2S] 57 bits: ok\n",
      "[LOG:OK:DX*TEMP1S] 97 bits: ok\n",
      "[LOG:OK:TEMP2S*TEMP3] 114 bits: ok\n",
      "1000000.0 109951288332907530323650989260800000000000 109951162777600000000000 12089244391210000000000000000000000 1000001141918869783\n"
     ]
    },
    {
     "data": {
      "text/plain": [
       "1.0000011419188697"
      ]
     },
     "execution_count": 38,
     "metadata": {},
     "output_type": "execute_result"
    }
   ],
   "source": [
    "params  = (1*1e6, curve)       # dy = USDC-wei\n",
    "dx = trade_by_target_dx_from_dy( params, STB(context=(\"by_source\", curve)) )\n",
    "dx/1e18"
   ]
  },
  {
   "cell_type": "code",
   "execution_count": 39,
   "id": "bb98c972",
   "metadata": {},
   "outputs": [
    {
     "name": "stdout",
     "output_type": "stream",
     "text": [
      "(1e+18, yzABSdata(y=100000000000.0, z=100000000000.0, A=0, B=1099511, S=1099511627776))\n",
      "[LOG:OK:TEMP1] 57 bits: ok\n",
      "[LOG:OK:TEMP2] 77 bits: ok\n",
      "[LOG:OK:TEMP3] 114 bits: ok\n",
      "1e+18 109951100000000000 99999942904105404465152 10995116277760000000000000000000000 999998\n"
     ]
    },
    {
     "data": {
      "text/plain": [
       "0.999998"
      ]
     },
     "execution_count": 39,
     "metadata": {},
     "output_type": "execute_result"
    }
   ],
   "source": [
    "params = (1e18, curve)      # dx = DAI-wei\n",
    "dy = trade_by_source_dy_from_dx( params, STB(context=(\"by_target\", curve)) )\n",
    "dy/1e6"
   ]
  },
  {
   "cell_type": "markdown",
   "id": "d6b0c900",
   "metadata": {},
   "source": [
    "### SHIB/USDC"
   ]
  },
  {
   "cell_type": "code",
   "execution_count": 40,
   "id": "cf2c00e6",
   "metadata": {},
   "outputs": [
    {
     "name": "stdout",
     "output_type": "stream",
     "text": [
      "[yzABS] pair=P('SHIB/USDC').sd(18,6), y=SHIB(18), x=USDC(6)\n",
      "[yzABS] scale = 2**40 = 1099511627776\n",
      "[yzABS] y=10000000000.0 -> y_wei=1e+28 [SHIB-wei]\n",
      "[yzABS] yint=10000000000.0 -> z_wei=1e+28 [SHIB-wei]\n",
      "[yzABS] pa_raw=99999.99999999999 SHIB per USDC -> 99999999999999984 SHIB-wei per USDC-wei\n",
      "[yzABS] pb_raw=99999.99999999999 SHIB per USDC -> 99999999999999984 SHIB-wei per USDC-wei\n",
      "[yzABS] a=0.0 -> 0.0 * scale = 0\n",
      "[yzABS] b=316.2277660168379 -> 316227766.0168379 * scale = 347696105761141489664\n",
      "[yzABS] yzABS = yzABSdata(y=1e+28, z=1e+28, A=0, B=347696105761141489664, S=1099511627776)\n"
     ]
    },
    {
     "data": {
      "text/plain": [
       "yzABSdata(y=1e+28, z=1e+28, A=0, B=347696105761141489664, S=1099511627776)"
      ]
     },
     "execution_count": 40,
     "metadata": {},
     "output_type": "execute_result"
    }
   ],
   "source": [
    "PAIR = P(\"SHIB/USDC\").sd(18,6)\n",
    "price = 1e-5 # SHIB per USDC\n",
    "oui = CarbonOrderUI.from_prices(PAIR, \"SHIB\", price, price, 1e10, 1e10)\n",
    "curve = oui.yzABS(sx=40, verbose=VERBOSE)\n",
    "curve"
   ]
  },
  {
   "cell_type": "code",
   "execution_count": 41,
   "id": "d8d030dd",
   "metadata": {},
   "outputs": [
    {
     "name": "stdout",
     "output_type": "stream",
     "text": [
      "(1e+23, yzABSdata(y=1e+28, z=1e+28, A=0, B=347696105761141489664, S=1099511627776))\n",
      "[LOG:OK:TEMP1] 134 bits: ok\n",
      "[LOG:OK:TEMP2] 162 bits: ok\n",
      "[LOG:OK:TEMP3] 162 bits: ok\n",
      "[LOG:OK:TEMP1S] 66 bits: ok\n",
      "[LOG:OK:TEMP2S] 94 bits: ok\n",
      "[LOG:OK:DX*TEMP1S] 142 bits: ok\n",
      "[WARNING:OVERFLOW:TEMP2S*TEMP3] 255 bits: close to max\n",
      "1e+23 52656145834278616434000000 10995116277759999541635303256465061445632 57896044618658097711558570309110167386784032288136095717007925787226802225152 1000000\n"
     ]
    },
    {
     "data": {
      "text/plain": [
       "1.0"
      ]
     },
     "execution_count": 41,
     "metadata": {},
     "output_type": "execute_result"
    }
   ],
   "source": [
    "params  = (1*1e5*1e18, curve)       # dy = SHIB-wei\n",
    "dx = trade_by_target_dx_from_dy( params, STB(context=(\"by_source\", curve)) )\n",
    "dx/1e6"
   ]
  },
  {
   "cell_type": "code",
   "execution_count": 42,
   "id": "7be74988",
   "metadata": {},
   "outputs": [
    {
     "name": "stdout",
     "output_type": "stream",
     "text": [
      "(1000000.0, yzABSdata(y=1e+28, z=1e+28, A=0, B=347696105761141489664, S=1099511627776))\n",
      "[LOG:OK:TEMP1] 162 bits: ok\n",
      "[LOG:OK:TEMP2] 142 bits: ok\n",
      "[LOG:OK:TEMP3] 227 bits: ok\n",
      "1000000.0 3476961057611414482900541393588953416646166315008 3162277660168378678463613278315914786242560 109951162777599986159580753732140146302259305055688004140916581335040 99999999999999967915471\n"
     ]
    },
    {
     "data": {
      "text/plain": [
       "99999.99999999997"
      ]
     },
     "execution_count": 42,
     "metadata": {},
     "output_type": "execute_result"
    }
   ],
   "source": [
    "params = (1e6, curve)      # dx = USDC-wei\n",
    "dy = trade_by_source_dy_from_dx( params, STB(context=(\"by_target\", curve)) )\n",
    "dy/1e18"
   ]
  },
  {
   "cell_type": "markdown",
   "id": "7105cd5c",
   "metadata": {},
   "source": [
    "### SHIB/BTC (selling SHIB)"
   ]
  },
  {
   "cell_type": "code",
   "execution_count": 43,
   "id": "58cd7b4f",
   "metadata": {},
   "outputs": [
    {
     "name": "stdout",
     "output_type": "stream",
     "text": [
      "[yzABS] pair=P('SHIB/BTC').sd(18,8), y=SHIB(18), x=BTC(8)\n",
      "[yzABS] scale = 2**40 = 1099511627776\n",
      "[yzABS] y=10000000000000.0 -> y_wei=1e+31 [SHIB-wei]\n",
      "[yzABS] yint=10000000000000.0 -> z_wei=1e+31 [SHIB-wei]\n",
      "[yzABS] pa_raw=9999999999.999996 SHIB per BTC -> 99999999999999967232 SHIB-wei per BTC-wei\n",
      "[yzABS] pb_raw=9523809523.80952 SHIB per BTC -> 95238095238095208448 SHIB-wei per BTC-wei\n",
      "[yzABS] a=2409.9927051466802 -> 240999270.51466802 * scale = 264981500216411193344\n",
      "[yzABS] b=97590.0072948533 -> 9759000729.48533 * scale = 10730134777543587266560\n",
      "[yzABS] yzABS = yzABSdata(y=1e+31, z=1e+31, A=264981500216411193344, B=10730134777543587266560, S=1099511627776)\n"
     ]
    },
    {
     "data": {
      "text/plain": [
       "yzABSdata(y=1e+31, z=1e+31, A=264981500216411193344, B=10730134777543587266560, S=1099511627776)"
      ]
     },
     "execution_count": 43,
     "metadata": {},
     "output_type": "execute_result"
    }
   ],
   "source": [
    "PAIR = P(\"SHIB/BTC\").sd(18,8)\n",
    "price = 1e-5 * 1e-5 # SHIB per BTC # 1e10 USD\n",
    "capacity = 1000 * 1e10 # 1000 BTC\n",
    "oui = CarbonOrderUI.from_prices(PAIR, \"SHIB\", price, price*1.05, capacity, capacity)\n",
    "curve = oui.yzABS(sx=40, verbose=True)\n",
    "curve"
   ]
  },
  {
   "cell_type": "markdown",
   "id": "3c1d3558",
   "metadata": {},
   "source": [
    "#### Trading 1e10 SHIB -> 1 BTC"
   ]
  },
  {
   "cell_type": "code",
   "execution_count": 44,
   "id": "dedcea10",
   "metadata": {},
   "outputs": [
    {
     "name": "stdout",
     "output_type": "stream",
     "text": [
      "(1e+28, yzABSdata(y=1e+31, z=1e+31, A=264981500216411193344, B=10730134777543587266560, S=1099511627776))\n",
      "[LOG:OK:TEMP1] 143 bits: ok\n",
      "[LOG:OK:TEMP2] 177 bits: ok\n",
      "[LOG:OK:TEMP3] 177 bits: ok\n",
      "[LOG:OK:TEMP1S] 46 bits: ok\n",
      "[LOG:OK:TEMP2S] 79 bits: ok\n",
      "[LOG:OK:DX*TEMP1S] 139 bits: ok\n",
      "[WARNING:OVERFLOW:TEMP2S*TEMP3] 255 bits: close to max\n",
      "1e+28 5265868391783346665350 10995116277759999599663742597967261831528448 57896044618658097711785488090213151806879688637054915063744949408839097122816 100002410\n"
     ]
    },
    {
     "data": {
      "text/plain": [
       "1.0000241"
      ]
     },
     "execution_count": 44,
     "metadata": {},
     "output_type": "execute_result"
    }
   ],
   "source": [
    "params  = (1*1e5*1e5*1e18, curve)       # dy = SHIB-wei (1USD)\n",
    "dx = trade_by_target_dx_from_dy( params, STB(context=(\"by_source\", curve)) )\n",
    "dx/1e8 # 1e10 SHIB = 1 BTC"
   ]
  },
  {
   "cell_type": "code",
   "execution_count": 45,
   "id": "a394ad18",
   "metadata": {},
   "outputs": [
    {
     "name": "stdout",
     "output_type": "stream",
     "text": [
      "(100000000.0, yzABSdata(y=1e+31, z=1e+31, A=264981500216411193344, B=10730134777543587266560, S=1099511627776))\n",
      "[LOG:OK:TEMP1] 177 bits: ok\n",
      "[LOG:OK:TEMP2] 163 bits: ok\n",
      "[WARNING:OVERFLOW:TEMP3] 246 bits: close to max\n",
      "100000000.0 109951162777599979414058781985324393505188997761073152 9999999999999998166828554841774886064248332484608 109953812592602152227049417074515479289564729561435005246035576444919218176 9999759006537407575786154669\n"
     ]
    },
    {
     "data": {
      "text/plain": [
       "0.9999759006537406"
      ]
     },
     "execution_count": 45,
     "metadata": {},
     "output_type": "execute_result"
    }
   ],
   "source": [
    "params = (1e8, curve)      # dx = BTC-wei\n",
    "dy = trade_by_source_dy_from_dx( params, STB(context=(\"by_target\", curve)) )\n",
    "dy/1e18/1e10 #1e10 SHIB = 1 BTC"
   ]
  },
  {
   "cell_type": "markdown",
   "id": "80a523a4",
   "metadata": {},
   "source": [
    "#### Trading 1e5 SHIB -> 1e-5 BTC (1USD)"
   ]
  },
  {
   "cell_type": "code",
   "execution_count": 46,
   "id": "360a72b0",
   "metadata": {},
   "outputs": [
    {
     "name": "stdout",
     "output_type": "stream",
     "text": [
      "(1e+23, yzABSdata(y=1e+31, z=1e+31, A=264981500216411193344, B=10730134777543587266560, S=1099511627776))\n",
      "[LOG:OK:TEMP1] 143 bits: ok\n",
      "[LOG:OK:TEMP2] 177 bits: ok\n",
      "[LOG:OK:TEMP3] 177 bits: ok\n",
      "[LOG:OK:TEMP1S] 46 bits: ok\n",
      "[LOG:OK:TEMP2S] 79 bits: ok\n",
      "[LOG:OK:DX*TEMP1S] 122 bits: ok\n",
      "[WARNING:OVERFLOW:TEMP2S*TEMP3] 255 bits: close to max\n",
      "1e+23 52656145846968000 10995116277759999599663742597967261831528448 57896044618658097711785437676134072002576463420442807956216976457418753966080 1000\n"
     ]
    },
    {
     "data": {
      "text/plain": [
       "1.0"
      ]
     },
     "execution_count": 46,
     "metadata": {},
     "output_type": "execute_result"
    }
   ],
   "source": [
    "params  = (1*1e5*1e18, curve)       # dy = SHIB-wei (1USD)\n",
    "dx = trade_by_target_dx_from_dy( params, STB(context=(\"by_source\", curve)) )\n",
    "dx/1e8/1e-5 # 1e5 SHIB = 1e-5 BTC"
   ]
  },
  {
   "cell_type": "code",
   "execution_count": 47,
   "id": "0fc0da8c",
   "metadata": {},
   "outputs": [
    {
     "name": "stdout",
     "output_type": "stream",
     "text": [
      "(1000.0000000000001, yzABSdata(y=1e+31, z=1e+31, A=264981500216411193344, B=10730134777543587266560, S=1099511627776))\n",
      "[LOG:OK:TEMP1] 177 bits: ok\n",
      "[LOG:OK:TEMP2] 147 bits: ok\n",
      "[WARNING:OVERFLOW:TEMP3] 246 bits: close to max\n",
      "1000.0000000000001 109951162777599979414058781985324393505188997761073152 99999999999999989014320776740338242315878400 109951162804098136008063670117694473318988536657126038699479705259144642560 99999999975900055991132\n"
     ]
    },
    {
     "data": {
      "text/plain": [
       "0.9999999997590007"
      ]
     },
     "execution_count": 47,
     "metadata": {},
     "output_type": "execute_result"
    }
   ],
   "source": [
    "params = (1e-5*1e8, curve)      # dx = BTC-wei\n",
    "dy = trade_by_source_dy_from_dx( params, STB(context=(\"by_target\", curve)) )\n",
    "dy/1e18/1e5 # 1e5 SHIB = 1e-5 BTC"
   ]
  },
  {
   "cell_type": "markdown",
   "id": "94a2c37d",
   "metadata": {},
   "source": [
    "#### Trading 1e3 SHIB -> 1e-7 BTC (0.01USD)"
   ]
  },
  {
   "cell_type": "code",
   "execution_count": 48,
   "id": "cbb65377",
   "metadata": {},
   "outputs": [
    {
     "name": "stdout",
     "output_type": "stream",
     "text": [
      "(1e+21, yzABSdata(y=1e+31, z=1e+31, A=264981500216411193344, B=10730134777543587266560, S=1099511627776))\n",
      "[LOG:OK:TEMP1] 143 bits: ok\n",
      "[LOG:OK:TEMP2] 177 bits: ok\n",
      "[LOG:OK:TEMP3] 177 bits: ok\n",
      "[LOG:OK:TEMP1S] 46 bits: ok\n",
      "[LOG:OK:TEMP2S] 79 bits: ok\n",
      "[LOG:OK:DX*TEMP1S] 116 bits: ok\n",
      "[WARNING:OVERFLOW:TEMP2S*TEMP3] 255 bits: close to max\n",
      "1e+21 526561458344050 10995116277759999599663742597967261831528448 57896044618658097711785490451715848511135079116478974928505173379055284649984 10\n"
     ]
    },
    {
     "data": {
      "text/plain": [
       "1.0"
      ]
     },
     "execution_count": 48,
     "metadata": {},
     "output_type": "execute_result"
    }
   ],
   "source": [
    "params  = (1*1e3*1e18, curve)       # dy = SHIB-wei (1USD cent)\n",
    "dx = trade_by_target_dx_from_dy( params, STB(context=(\"by_source\", curve)) )\n",
    "dx/1e8/1e-7 # 1e3 SHIB = 1e-7 BTC"
   ]
  },
  {
   "cell_type": "code",
   "execution_count": 49,
   "id": "27acb844",
   "metadata": {},
   "outputs": [
    {
     "name": "stdout",
     "output_type": "stream",
     "text": [
      "(10.0, yzABSdata(y=1e+31, z=1e+31, A=264981500216411193344, B=10730134777543587266560, S=1099511627776))\n",
      "[LOG:OK:TEMP1] 177 bits: ok\n",
      "[LOG:OK:TEMP2] 140 bits: ok\n",
      "[WARNING:OVERFLOW:TEMP3] 246 bits: close to max\n",
      "10.0 109951162777599979414058781985324393505188997761073152 999999999999999890143207767403382423158784 109951162777864972869163420056364163534149828493613732463662723647401885696 999999999997589788708\n"
     ]
    },
    {
     "data": {
      "text/plain": [
       "0.9999999999975898"
      ]
     },
     "execution_count": 49,
     "metadata": {},
     "output_type": "execute_result"
    }
   ],
   "source": [
    "params = (1e-7*1e8, curve)      # dx = BTC-wei\n",
    "dy = trade_by_source_dy_from_dx( params, STB(context=(\"by_target\", curve)) )\n",
    "dy/1e18/1e3 # 1e3 SHIB = 1e-7 BTC"
   ]
  },
  {
   "cell_type": "markdown",
   "id": "99e916f1",
   "metadata": {},
   "source": [
    "### SHIB/BTC (selling BTC)"
   ]
  },
  {
   "cell_type": "code",
   "execution_count": 50,
   "id": "c545b513",
   "metadata": {},
   "outputs": [
    {
     "name": "stdout",
     "output_type": "stream",
     "text": [
      "[yzABS] pair=P('SHIB/BTC').sd(18,8), y=BTC(8), x=SHIB(18)\n",
      "[yzABS] scale = 2**48 = 281474976710656\n",
      "[yzABS] y=1000 -> y_wei=100000000000 [BTC-wei]\n",
      "[yzABS] yint=1000 -> z_wei=100000000000 [BTC-wei]\n",
      "[yzABS] pa_raw=1.0000000000000002e-10 BTC per SHIB -> 0 BTC-wei per SHIB-wei\n",
      "[yzABS] pb_raw=9.523809523809526e-11 BTC per SHIB -> 0 BTC-wei per SHIB-wei\n",
      "[yzABS] a=2.4099927051466823e-07 -> 2.4099927051466825e-12 * scale = 678\n",
      "[yzABS] b=9.759000729485333e-06 -> 9.759000729485333e-11 * scale = 27469\n",
      "[yzABS] yzABS = yzABSdata(y=100000000000, z=100000000000, A=678, B=27469, S=281474976710656)\n"
     ]
    },
    {
     "data": {
      "text/plain": [
       "yzABSdata(y=100000000000, z=100000000000, A=678, B=27469, S=281474976710656)"
      ]
     },
     "execution_count": 50,
     "metadata": {},
     "output_type": "execute_result"
    }
   ],
   "source": [
    "PAIR = P(\"SHIB/BTC\").sd(18,8)\n",
    "price = 1e-5 * 1e-5 # SHIB per BTC\n",
    "capacity = 1000 # 1000 BTC\n",
    "oui = CarbonOrderUI.from_prices(PAIR, \"BTC\", price, price/1.05, capacity, capacity)\n",
    "curve = oui.yzABS(sx=48, verbose=True)\n",
    "curve"
   ]
  },
  {
   "cell_type": "markdown",
   "id": "c31bf72b",
   "metadata": {},
   "source": [
    "#### Trading 1 BTC -> 1e10 SHIB"
   ]
  },
  {
   "cell_type": "code",
   "execution_count": 51,
   "id": "acaca529",
   "metadata": {},
   "outputs": [
    {
     "name": "stdout",
     "output_type": "stream",
     "text": [
      "(100000000.0, yzABSdata(y=100000000000, z=100000000000, A=678, B=27469, S=281474976710656))\n",
      "[LOG:OK:TEMP1] 85 bits: ok\n",
      "[LOG:OK:TEMP2] 52 bits: ok\n",
      "[LOG:OK:TEMP3] 52 bits: ok\n",
      "[LOG:OK:TEMP1S] 85 bits: ok\n",
      "[LOG:OK:TEMP2S] 52 bits: ok\n",
      "[LOG:OK:DX*TEMP1S] 112 bits: ok\n",
      "[LOG:OK:TEMP2S*TEMP3] 103 bits: ok\n",
      "100000000.0 281491710918920126547675841886316090779238400000000000 28147497671065600000000000 7922345253340000000000000000000 10000594518506038587719183464\n"
     ]
    },
    {
     "data": {
      "text/plain": [
       "1.0000594518506039"
      ]
     },
     "execution_count": 51,
     "metadata": {},
     "output_type": "execute_result"
    }
   ],
   "source": [
    "params  = (1*1e8, curve)       # dy = BTC-wei\n",
    "dx = trade_by_target_dx_from_dy( params, STB(context=(\"by_source\", curve)) )\n",
    "dx/1e18/1e10 # 1e10 SHIB <- 1 BTC"
   ]
  },
  {
   "cell_type": "code",
   "execution_count": 52,
   "id": "e9c9f5d6",
   "metadata": {},
   "outputs": [
    {
     "name": "stdout",
     "output_type": "stream",
     "text": [
      "(1e+28, yzABSdata(y=100000000000, z=100000000000, A=678, B=27469, S=281474976710656))\n",
      "[LOG:OK:TEMP1] 52 bits: ok\n",
      "[LOG:OK:TEMP2] 97 bits: ok\n",
      "[LOG:OK:TEMP3] 122 bits: ok\n",
      "1e+28 2814700000000000 99998231917197704277356707840 2814817565907799860043500047847915520 99994055\n"
     ]
    },
    {
     "data": {
      "text/plain": [
       "0.99994055"
      ]
     },
     "execution_count": 52,
     "metadata": {},
     "output_type": "execute_result"
    }
   ],
   "source": [
    "params = (1e10*1e18, curve)      # dx = SHIB-wei\n",
    "dy = trade_by_source_dy_from_dx( params, STB(context=(\"by_target\", curve)) )\n",
    "dy/1e8 # 1e3 SHIB <- 1 BTC"
   ]
  },
  {
   "cell_type": "markdown",
   "id": "d74a01d0",
   "metadata": {},
   "source": [
    "#### Trading 1e-5 BTC -> 1e5 SHIB (1USD)"
   ]
  },
  {
   "cell_type": "code",
   "execution_count": 53,
   "id": "7d4b9ff9",
   "metadata": {},
   "outputs": [
    {
     "name": "stdout",
     "output_type": "stream",
     "text": [
      "(1000.0000000000001, yzABSdata(y=100000000000, z=100000000000, A=678, B=27469, S=281474976710656))\n",
      "[LOG:OK:TEMP1] 85 bits: ok\n",
      "[LOG:OK:TEMP2] 52 bits: ok\n",
      "[LOG:OK:TEMP3] 52 bits: ok\n",
      "[LOG:OK:TEMP1S] 85 bits: ok\n",
      "[LOG:OK:TEMP2S] 52 bits: ok\n",
      "[LOG:OK:DX*TEMP1S] 95 bits: ok\n",
      "[LOG:OK:TEMP2S*TEMP3] 103 bits: ok\n",
      "1000.0000000000001 2814849304637549593419477657807591833600000000000 28147497671065600000000000 7922536088091633400000000000000 100003536283479007573031\n"
     ]
    },
    {
     "data": {
      "text/plain": [
       "1.0000353628347902"
      ]
     },
     "execution_count": 53,
     "metadata": {},
     "output_type": "execute_result"
    }
   ],
   "source": [
    "params  = (1e-5*1e8, curve)       # dy = BTC-wei\n",
    "dx = trade_by_target_dx_from_dy( params, STB(context=(\"by_source\", curve)) )\n",
    "dx/1e18/1e5 # 1e5 SHIB <- 1e-5 BTC"
   ]
  },
  {
   "cell_type": "code",
   "execution_count": 54,
   "id": "3f2acfc3",
   "metadata": {},
   "outputs": [
    {
     "name": "stdout",
     "output_type": "stream",
     "text": [
      "(1e+23, yzABSdata(y=100000000000, z=100000000000, A=678, B=27469, S=281474976710656))\n",
      "[LOG:OK:TEMP1] 52 bits: ok\n",
      "[LOG:OK:TEMP2] 80 bits: ok\n",
      "[LOG:OK:TEMP3] 122 bits: ok\n",
      "1e+23 2814700000000000 999982319171976944418816 2814749767784548012398600368315957248 999\n"
     ]
    },
    {
     "data": {
      "text/plain": [
       "0.9989999999999999"
      ]
     },
     "execution_count": 54,
     "metadata": {},
     "output_type": "execute_result"
    }
   ],
   "source": [
    "params = (1e5*1e18, curve)      # dx = SHIB-wei\n",
    "dy = trade_by_source_dy_from_dx( params, STB(context=(\"by_target\", curve)) )\n",
    "dy/1e8/1e-5 # 1e3 SHIB <- 1e-5 BTC"
   ]
  },
  {
   "cell_type": "markdown",
   "id": "98be200b",
   "metadata": {},
   "source": [
    "#### Trading 1e-7 BTC -> 1e3 SHIB (0.01USD)"
   ]
  },
  {
   "cell_type": "code",
   "execution_count": 55,
   "id": "cb87389b",
   "metadata": {},
   "outputs": [
    {
     "name": "stdout",
     "output_type": "stream",
     "text": [
      "(10.0, yzABSdata(y=100000000000, z=100000000000, A=678, B=27469, S=281474976710656))\n",
      "[LOG:OK:TEMP1] 85 bits: ok\n",
      "[LOG:OK:TEMP2] 52 bits: ok\n",
      "[LOG:OK:TEMP3] 52 bits: ok\n",
      "[LOG:OK:TEMP1S] 85 bits: ok\n",
      "[LOG:OK:TEMP2S] 52 bits: ok\n",
      "[LOG:OK:DX*TEMP1S] 88 bits: ok\n",
      "[LOG:OK:TEMP2S*TEMP3] 103 bits: ok\n",
      "10.0 28148493039662935489981689861085593600000000000 28147497671065600000000000 7922536089980916334000000000000 1000035362596312022631\n"
     ]
    },
    {
     "data": {
      "text/plain": [
       "1.000035362596312"
      ]
     },
     "execution_count": 55,
     "metadata": {},
     "output_type": "execute_result"
    }
   ],
   "source": [
    "params  = (1e-7*1e8, curve)       # dy = BTC-wei\n",
    "dx = trade_by_target_dx_from_dy( params, STB(context=(\"by_source\", curve)) )\n",
    "dx/1e18/1e3 # 1e3 SHIB <- 1e-7 BTC"
   ]
  },
  {
   "cell_type": "code",
   "execution_count": 56,
   "id": "3f799c13",
   "metadata": {},
   "outputs": [
    {
     "name": "stdout",
     "output_type": "stream",
     "text": [
      "(1e+21, yzABSdata(y=100000000000, z=100000000000, A=678, B=27469, S=281474976710656))\n",
      "[LOG:OK:TEMP1] 52 bits: ok\n",
      "[LOG:OK:TEMP2] 74 bits: ok\n",
      "[LOG:OK:TEMP3] 122 bits: ok\n",
      "1e+21 2814700000000000 9999823191719769276416 2814749767113339880123986003569410048 9\n"
     ]
    },
    {
     "data": {
      "text/plain": [
       "0.9"
      ]
     },
     "execution_count": 56,
     "metadata": {},
     "output_type": "execute_result"
    }
   ],
   "source": [
    "params = (1e3*1e18, curve)      # dx = SHIB-wei\n",
    "dy = trade_by_source_dy_from_dx( params, STB(context=(\"by_target\", curve)) )\n",
    "dy/1e8/1e-7 # 1e3 SHIB <- 1e-7 BTC"
   ]
  },
  {
   "cell_type": "markdown",
   "id": "4f5c6ed1",
   "metadata": {},
   "source": [
    "#### Trading 10 BTC -> 1e11 SHIB"
   ]
  },
  {
   "cell_type": "code",
   "execution_count": 57,
   "id": "a900f28e",
   "metadata": {},
   "outputs": [
    {
     "name": "stdout",
     "output_type": "stream",
     "text": [
      "(1000000000.0, yzABSdata(y=100000000000, z=100000000000, A=678, B=27469, S=281474976710656))\n",
      "[LOG:OK:TEMP1] 85 bits: ok\n",
      "[LOG:OK:TEMP2] 52 bits: ok\n",
      "[LOG:OK:TEMP3] 52 bits: ok\n",
      "[LOG:OK:TEMP1S] 85 bits: ok\n",
      "[LOG:OK:TEMP2S] 52 bits: ok\n",
      "[LOG:OK:DX*TEMP1S] 115 bits: ok\n",
      "[LOG:OK:TEMP2S*TEMP3] 103 bits: ok\n",
      "1000000000.0 2815527503287053823350219933470347590683852800000000000 28147497671065600000000000 7920627723400000000000000000000 100027630739669384615461209388\n"
     ]
    },
    {
     "data": {
      "text/plain": [
       "1.0002763073966938"
      ]
     },
     "execution_count": 57,
     "metadata": {},
     "output_type": "execute_result"
    }
   ],
   "source": [
    "params  = (10*1e8, curve)       # dy = BTC-wei\n",
    "dx = trade_by_target_dx_from_dy( params, STB(context=(\"by_source\", curve)) )\n",
    "dx/1e18/1e11 # 1e11 SHIB <- 10 BTC"
   ]
  },
  {
   "cell_type": "code",
   "execution_count": 58,
   "id": "dfcbe9fd",
   "metadata": {},
   "outputs": [
    {
     "name": "stdout",
     "output_type": "stream",
     "text": [
      "(1e+29, yzABSdata(y=100000000000, z=100000000000, A=678, B=27469, S=281474976710656))\n",
      "[LOG:OK:TEMP1] 52 bits: ok\n",
      "[LOG:OK:TEMP2] 100 bits: ok\n",
      "[LOG:OK:TEMP3] 122 bits: ok\n",
      "1e+29 2814700000000000 999982319171976972404822900736 2815427755118958600387290469926699008 999723835\n"
     ]
    },
    {
     "data": {
      "text/plain": [
       "0.999723835"
      ]
     },
     "execution_count": 58,
     "metadata": {},
     "output_type": "execute_result"
    }
   ],
   "source": [
    "params = (1e11*1e18, curve)      # dx = SHIB-wei\n",
    "dy = trade_by_source_dy_from_dx( params, STB(context=(\"by_target\", curve)) )\n",
    "dy/1e8/10 # 1e3 SHIB <- 100 BTC"
   ]
  },
  {
   "cell_type": "markdown",
   "id": "5619b360",
   "metadata": {},
   "source": [
    "#### Trading 100 BTC -> 1e12 SHIB"
   ]
  },
  {
   "cell_type": "code",
   "execution_count": 59,
   "id": "f97b760f",
   "metadata": {},
   "outputs": [
    {
     "name": "stdout",
     "output_type": "stream",
     "text": [
      "(10000000000.0, yzABSdata(y=100000000000, z=100000000000, A=678, B=27469, S=281474976710656))\n",
      "[LOG:OK:TEMP1] 85 bits: ok\n",
      "[LOG:OK:TEMP2] 52 bits: ok\n",
      "[LOG:OK:TEMP3] 52 bits: ok\n",
      "[LOG:OK:TEMP1S] 85 bits: ok\n",
      "[LOG:OK:TEMP2S] 52 bits: ok\n",
      "[LOG:OK:DX*TEMP1S] 118 bits: ok\n",
      "[LOG:OK:TEMP2S*TEMP3] 103 bits: ok\n",
      "10000000000.0 28216460354478908851005842750710385782607052800000000000 28147497671065600000000000 7903452424000000000000000000000 1002450046686892507743701328263\n"
     ]
    },
    {
     "data": {
      "text/plain": [
       "1.0024500466868926"
      ]
     },
     "execution_count": 59,
     "metadata": {},
     "output_type": "execute_result"
    }
   ],
   "source": [
    "params  = (100*1e8, curve)       # dy = BTC-wei\n",
    "dx = trade_by_target_dx_from_dy( params, STB(context=(\"by_source\", curve)) )\n",
    "dx/1e18/1e12 # 1e12 SHIB <- 100 BTC"
   ]
  },
  {
   "cell_type": "code",
   "execution_count": 60,
   "id": "9873a7a1",
   "metadata": {},
   "outputs": [
    {
     "name": "stdout",
     "output_type": "stream",
     "text": [
      "(1e+30, yzABSdata(y=100000000000, z=100000000000, A=678, B=27469, S=281474976710656))\n",
      "[LOG:OK:TEMP1] 52 bits: ok\n",
      "[LOG:OK:TEMP2] 103 bits: ok\n",
      "[LOG:OK:TEMP3] 122 bits: ok\n",
      "1e+30 2814700000000000 9999823191719770286998182428672 2821529647230546004254584767686639616 9975618142\n"
     ]
    },
    {
     "data": {
      "text/plain": [
       "0.9975618142"
      ]
     },
     "execution_count": 60,
     "metadata": {},
     "output_type": "execute_result"
    }
   ],
   "source": [
    "params = (1e12*1e18, curve)      # dx = SHIB-wei\n",
    "dy = trade_by_source_dy_from_dx( params, STB(context=(\"by_target\", curve)) )\n",
    "dy/1e8/100 # 1e3 SHIB <- 100 BTC"
   ]
  },
  {
   "cell_type": "markdown",
   "id": "e1370ebd",
   "metadata": {},
   "source": [
    "## SolTestBase tests"
   ]
  },
  {
   "cell_type": "code",
   "execution_count": 61,
   "id": "bd20d8b2",
   "metadata": {},
   "outputs": [],
   "source": [
    "TB0 = SolTestBase()\n",
    "TBrw = SolTestBase(raise_lvl=TB0.LVL_WARN)\n",
    "TBre = SolTestBase(raise_lvl=TB0.LVL_ERR)"
   ]
  },
  {
   "cell_type": "code",
   "execution_count": 62,
   "id": "f2dd4f11",
   "metadata": {
    "lines_to_next_cell": 2
   },
   "outputs": [
    {
     "name": "stdout",
     "output_type": "stream",
     "text": [
      "[ERROR:UNDERFLOW:TESTLABEL] 1 bits: < underflow threshold\n",
      "('[ERROR:UNDERFLOW:TESTLABEL] 1 bits: < underflow threshold', {}, None)\n",
      "[WARNING:UNDERFLOW:TESTLABEL] 11 bits: underflow warning\n",
      "('[WARNING:UNDERFLOW:TESTLABEL] 11 bits: underflow warning', {}, None)\n",
      "[WARNING:OVERFLOW:TESTLABEL] 254 bits: close to max\n",
      "('[WARNING:OVERFLOW:TESTLABEL] 254 bits: close to max', {}, None)\n",
      "[WARNING:OVERFLOW:TESTLABEL] 256 bits: close to max\n",
      "('[WARNING:OVERFLOW:TESTLABEL] 256 bits: close to max', {}, None)\n",
      "[ERROR:OVERFLOW:TESTLABEL] 256 bits: > max\n",
      "('[ERROR:OVERFLOW:TESTLABEL] 256 bits: > max', {}, None)\n"
     ]
    }
   ],
   "source": [
    "try:\n",
    "    TBrw.check_uint256(1, \"testlabel\")\n",
    "    raise RuntimeError(\"should raise\")\n",
    "except TB0.UnderflowError as e:\n",
    "    print(e)\n",
    "try:\n",
    "    TBrw.check_uint256(2000, \"testlabel\")\n",
    "    raise RuntimeError(\"should raise\")\n",
    "except TB0.UnderflowWarning as e:\n",
    "    print(e)\n",
    "try:\n",
    "    TBrw.check_uint256(2**254, \"testlabel\")\n",
    "    raise RuntimeError(\"should raise\")\n",
    "except TB0.OverflowWarning as e:\n",
    "    print(e)\n",
    "try:\n",
    "    TBrw.check_uint256(2**256-1, \"testlabel\")\n",
    "    raise RuntimeError(\"should raise\")\n",
    "except TB0.OverflowWarning as e:\n",
    "    print(e)\n",
    "try:\n",
    "    TBrw.check_uint256(2**256, \"testlabel\")\n",
    "    raise RuntimeError(\"should raise\")\n",
    "except TB0.OverflowError as e:\n",
    "    print(e)"
   ]
  },
  {
   "cell_type": "code",
   "execution_count": 63,
   "id": "e8fd7e32",
   "metadata": {
    "lines_to_next_cell": 2
   },
   "outputs": [
    {
     "name": "stdout",
     "output_type": "stream",
     "text": [
      "[ERROR:UNDERFLOW:TESTLABEL] 1 bits: < underflow threshold\n",
      "('[ERROR:UNDERFLOW:TESTLABEL] 1 bits: < underflow threshold', {}, None)\n",
      "[WARNING:UNDERFLOW:TESTLABEL] 11 bits: underflow warning\n",
      "[WARNING:OVERFLOW:TESTLABEL] 254 bits: close to max\n",
      "[WARNING:OVERFLOW:TESTLABEL] 256 bits: close to max\n",
      "[ERROR:OVERFLOW:TESTLABEL] 256 bits: > max\n",
      "('[ERROR:OVERFLOW:TESTLABEL] 256 bits: > max', {}, None)\n"
     ]
    }
   ],
   "source": [
    "try:\n",
    "    TBre.check_uint256(1, label=\"testlabel\")\n",
    "    raise RuntimeError(\"should raise\")\n",
    "except TBre.UnderflowError as e:\n",
    "    print(e)\n",
    "assert TBre.check_uint256(2000, label=\"testlabel\") == 2000\n",
    "assert TBre.check_uint256(2**254, label=\"testlabel\") == 2**254\n",
    "assert TBre.check_uint256(2**256-1, label=\"testlabel\") == 2**256-1\n",
    "try:\n",
    "    TBre.check_uint256(2**256, label=\"testlabel\")\n",
    "    raise RuntimeError(\"should raise\")\n",
    "except TBre.OverflowError as e:\n",
    "    print(e)"
   ]
  },
  {
   "cell_type": "code",
   "execution_count": 64,
   "id": "d0cb42ea",
   "metadata": {},
   "outputs": [
    {
     "name": "stdout",
     "output_type": "stream",
     "text": [
      "[ERROR:UNDERFLOW:] 1 bits: < underflow threshold\n",
      "[WARNING:UNDERFLOW:] 11 bits: underflow warning\n",
      "[WARNING:OVERFLOW:] 254 bits: close to max\n",
      "[WARNING:OVERFLOW:] 256 bits: close to max\n",
      "[ERROR:OVERFLOW:] 256 bits: > max\n"
     ]
    }
   ],
   "source": [
    "assert TB0.check_uint256(1, log_f=TB0.print_f) == 1\n",
    "assert TB0.check_uint256(2000, log_f=TB0.print_f) == 2000\n",
    "assert TB0.check_uint256(2**254, log_f=TB0.print_f) == 2**254\n",
    "assert TB0.check_uint256(2**256-1, log_f=TB0.print_f) == 2**256-1\n",
    "assert TB0.check_uint256(2**256, log_f=TB0.print_f) == 2**256"
   ]
  },
  {
   "cell_type": "code",
   "execution_count": 65,
   "id": "8417ab80",
   "metadata": {},
   "outputs": [],
   "source": [
    "assert TB0._logmsg(level=TB0.LVL_WARN, isoverflow=True, label=\"1\", msg=\"\") == '[WARNING:OVERFLOW:1] '\n",
    "assert TB0._logmsg(TB0.LVL_ERR, False, \"mylabel\", \"mymessage\") == '[ERROR:UNDERFLOW:MYLABEL] mymessage'\n",
    "TB0.print_f(False, False, \"mylabel\", \"mymessage\")"
   ]
  },
  {
   "cell_type": "code",
   "execution_count": 66,
   "id": "1367681b",
   "metadata": {},
   "outputs": [],
   "source": [
    "assert TB0.bindig(0) == 0\n",
    "assert TB0.bindig(1) == 1\n",
    "assert TB0.bindig(2) == 2\n",
    "assert TB0.bindig(3) == 2\n",
    "assert TB0.bindig(2**10) == 11\n",
    "assert TB0.bindig(2**10+1) == 11\n",
    "assert TB0.bindig(2**10-1) == 10"
   ]
  },
  {
   "cell_type": "code",
   "execution_count": null,
   "id": "1fc7e74a",
   "metadata": {},
   "outputs": [],
   "source": []
  }
 ],
 "metadata": {
  "jupytext": {
   "formats": "ipynb,py:light"
  },
  "kernelspec": {
   "display_name": "Python 3",
   "language": "python",
   "name": "python3"
  },
  "language_info": {
   "codemirror_mode": {
    "name": "ipython",
    "version": 3
   },
   "file_extension": ".py",
   "mimetype": "text/x-python",
   "name": "python",
   "nbconvert_exporter": "python",
   "pygments_lexer": "ipython3",
   "version": "3.8.8"
  }
 },
 "nbformat": 4,
 "nbformat_minor": 5
}
