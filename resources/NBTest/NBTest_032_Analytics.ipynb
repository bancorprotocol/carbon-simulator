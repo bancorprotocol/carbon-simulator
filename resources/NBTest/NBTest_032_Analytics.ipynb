{
 "cells": [
  {
   "cell_type": "code",
   "execution_count": 1,
   "id": "22b66169",
   "metadata": {},
   "outputs": [
    {
     "name": "stdout",
     "output_type": "stream",
     "text": [
      "Carbon v2.0-beta2 (8/Dec/2022)\n",
      "Analytic v2.0.1 (7/Dec/2022)\n",
      "CarbonSimulatorUI v2.2 (8/Dec/2022)\n"
     ]
    }
   ],
   "source": [
    "from carbon import CarbonSimulatorUI, analytics as al, __version__, __date__\n",
    "from carbon.simulators.sim_analytics import Analytics as A\n",
    "print(f\"Carbon v{__version__} ({__date__})\")\n",
    "print(f\"Analytic v{al.__version__} ({al.__date__})\")\n",
    "print(\"{0.__name__} v{0.__VERSION__} ({0.__DATE__})\".format(CarbonSimulatorUI))"
   ]
  },
  {
   "cell_type": "markdown",
   "id": "ec6ff430",
   "metadata": {},
   "source": [
    "# Carbon Simulation - Test 32"
   ]
  },
  {
   "cell_type": "markdown",
   "id": "372c2b3e",
   "metadata": {},
   "source": [
    "NBTEST: NOTEST_DEFAULT = TEST"
   ]
  },
  {
   "cell_type": "markdown",
   "id": "feee98a0",
   "metadata": {},
   "source": [
    "## Basic arithmetic functions"
   ]
  },
  {
   "cell_type": "code",
   "execution_count": 2,
   "id": "70d62440",
   "metadata": {},
   "outputs": [
    {
     "data": {
      "text/plain": [
       "(0    1\n",
       " 1    2\n",
       " 2    3\n",
       " dtype: int64,\n",
       " 0    3\n",
       " 1    4\n",
       " 2    5\n",
       " dtype: int64,\n",
       " 0    3.0\n",
       " 1    4.0\n",
       " 2    NaN\n",
       " dtype: float64)"
      ]
     },
     "execution_count": 2,
     "metadata": {},
     "output_type": "execute_result"
    }
   ],
   "source": [
    "v1 = al.vec([1,2,3])\n",
    "v2 = al.vec([3,4,5])\n",
    "v3 = al.vec([3,4,None])\n",
    "v1, v2, v3"
   ]
  },
  {
   "cell_type": "code",
   "execution_count": 3,
   "id": "3705777b",
   "metadata": {},
   "outputs": [
    {
     "data": {
      "text/plain": [
       "(0   -1\n",
       " 1   -2\n",
       " 2   -3\n",
       " dtype: int64,\n",
       " 0    4\n",
       " 1    6\n",
       " 2    8\n",
       " dtype: int64,\n",
       " 0   -2\n",
       " 1   -2\n",
       " 2   -2\n",
       " dtype: int64,\n",
       " 0     3\n",
       " 1     8\n",
       " 2    15\n",
       " dtype: int64,\n",
       " 0    0.333333\n",
       " 1    0.500000\n",
       " 2    0.600000\n",
       " dtype: float64)"
      ]
     },
     "execution_count": 3,
     "metadata": {},
     "output_type": "execute_result"
    }
   ],
   "source": [
    "-v1, v1+v2, v1-v2, v1*v2, v1/v2"
   ]
  },
  {
   "cell_type": "code",
   "execution_count": 4,
   "id": "21f7913d",
   "metadata": {},
   "outputs": [],
   "source": [
    "assert list(-v1) == [-1, -2, -3]\n",
    "assert list(v1+v2) == [4, 6, 8]\n",
    "assert list(v1-v2) == [-2, -2, -2]\n",
    "assert list(v1*v2) == [3, 8, 15]\n",
    "assert list(v1/v2) == [0.3333333333333333, 0.5, 0.6]"
   ]
  },
  {
   "cell_type": "markdown",
   "id": "a4eb5b32",
   "metadata": {},
   "source": [
    "checking that NaN are handled gracefully"
   ]
  },
  {
   "cell_type": "code",
   "execution_count": 5,
   "id": "595376dc",
   "metadata": {},
   "outputs": [
    {
     "data": {
      "text/plain": [
       "(0   -3.0\n",
       " 1   -4.0\n",
       " 2    NaN\n",
       " dtype: float64,\n",
       " 0    4.0\n",
       " 1    6.0\n",
       " 2    NaN\n",
       " dtype: float64,\n",
       " 0   -2.0\n",
       " 1   -2.0\n",
       " 2    NaN\n",
       " dtype: float64,\n",
       " 0    3.0\n",
       " 1    8.0\n",
       " 2    NaN\n",
       " dtype: float64,\n",
       " 0    0.333333\n",
       " 1    0.500000\n",
       " 2         NaN\n",
       " dtype: float64)"
      ]
     },
     "execution_count": 5,
     "metadata": {},
     "output_type": "execute_result"
    }
   ],
   "source": [
    "-v3, v1+v3, v1-v3, v1*v3, v1/v3"
   ]
  },
  {
   "cell_type": "code",
   "execution_count": 6,
   "id": "760def94",
   "metadata": {},
   "outputs": [],
   "source": [
    "assert list(-v3)[:2] == [-3.0, -4.0]\n",
    "assert list(v1+v3)[:2] == [4.0, 6.0]\n",
    "assert list(v1-v3)[:2] == [-2.0, -2.0]\n",
    "assert list(v1*v3)[:2] == [3.0, 8.0]\n",
    "assert list(v1/v3)[:2] == [0.3333333333333333, 0.5]"
   ]
  },
  {
   "cell_type": "code",
   "execution_count": 7,
   "id": "0a8f1d6f",
   "metadata": {},
   "outputs": [
    {
     "data": {
      "text/plain": [
       "26"
      ]
     },
     "execution_count": 7,
     "metadata": {},
     "output_type": "execute_result"
    }
   ],
   "source": [
    "al.vecdot(v1,v2)"
   ]
  },
  {
   "cell_type": "code",
   "execution_count": 8,
   "id": "2f07d639",
   "metadata": {},
   "outputs": [
    {
     "data": {
      "text/plain": [
       "11.0"
      ]
     },
     "execution_count": 8,
     "metadata": {},
     "output_type": "execute_result"
    }
   ],
   "source": [
    "al.vecdot(v1,v3)"
   ]
  },
  {
   "cell_type": "code",
   "execution_count": 9,
   "id": "eb06c105",
   "metadata": {},
   "outputs": [],
   "source": [
    "ts = al.vec(range(20))"
   ]
  },
  {
   "cell_type": "code",
   "execution_count": 10,
   "id": "33aeb0ec",
   "metadata": {},
   "outputs": [
    {
     "data": {
      "text/plain": [
       "0      0\n",
       "1      1\n",
       "2      2\n",
       "3      3\n",
       "4      4\n",
       "5      5\n",
       "6      6\n",
       "7      7\n",
       "8      8\n",
       "9      9\n",
       "10    10\n",
       "11    11\n",
       "12    12\n",
       "13    13\n",
       "14    14\n",
       "15    15\n",
       "16    16\n",
       "17    17\n",
       "18    18\n",
       "19    19\n",
       "dtype: int64"
      ]
     },
     "execution_count": 10,
     "metadata": {},
     "output_type": "execute_result"
    }
   ],
   "source": [
    "ts"
   ]
  },
  {
   "cell_type": "code",
   "execution_count": 11,
   "id": "9d0aea7c",
   "metadata": {},
   "outputs": [
    {
     "data": {
      "text/plain": [
       "20"
      ]
     },
     "execution_count": 11,
     "metadata": {},
     "output_type": "execute_result"
    }
   ],
   "source": [
    "len(ts)"
   ]
  },
  {
   "cell_type": "code",
   "execution_count": 12,
   "id": "c97a43d8",
   "metadata": {},
   "outputs": [
    {
     "data": {
      "text/plain": [
       "0     1\n",
       "1     1\n",
       "2     1\n",
       "3     1\n",
       "4     1\n",
       "5     1\n",
       "6     1\n",
       "7     1\n",
       "8     1\n",
       "9     1\n",
       "10    1\n",
       "11    1\n",
       "12    1\n",
       "13    1\n",
       "14    1\n",
       "15    1\n",
       "16    1\n",
       "17    1\n",
       "18    1\n",
       "dtype: int64"
      ]
     },
     "execution_count": 12,
     "metadata": {},
     "output_type": "execute_result"
    }
   ],
   "source": [
    "tsd = al.diff(ts)\n",
    "tsd"
   ]
  },
  {
   "cell_type": "code",
   "execution_count": 13,
   "id": "aaebb759",
   "metadata": {
    "lines_to_next_cell": 2
   },
   "outputs": [
    {
     "data": {
      "text/plain": [
       "19"
      ]
     },
     "execution_count": 13,
     "metadata": {},
     "output_type": "execute_result"
    }
   ],
   "source": [
    "len(tsd)"
   ]
  },
  {
   "cell_type": "markdown",
   "id": "1abfc006",
   "metadata": {},
   "source": [
    "## Advanced functions"
   ]
  },
  {
   "cell_type": "code",
   "execution_count": 14,
   "id": "44f6ab61",
   "metadata": {},
   "outputs": [
    {
     "name": "stdout",
     "output_type": "stream",
     "text": [
      "Help on method linspace in module carbon.simulators.sim_analytics:\n",
      "\n",
      "linspace(*args, **kwargs) method of builtins.type instance\n",
      "    alias for numpy linspace, but returning a vec()\n",
      "    \n",
      "    eg linspace(10,20,3) -> vec([10,15,20])\n",
      "\n"
     ]
    }
   ],
   "source": [
    "help(al.linspace)"
   ]
  },
  {
   "cell_type": "code",
   "execution_count": 15,
   "id": "a99aa5fc",
   "metadata": {},
   "outputs": [
    {
     "name": "stdout",
     "output_type": "stream",
     "text": [
      "Help on method linspace in module carbon.simulators.sim_analytics:\n",
      "\n",
      "linspace(*args, **kwargs) method of builtins.type instance\n",
      "    alias for numpy linspace, but returning a vec()\n",
      "    \n",
      "    eg linspace(10,20,3) -> vec([10,15,20])\n",
      "\n"
     ]
    }
   ],
   "source": [
    "help(A.linspace)"
   ]
  },
  {
   "cell_type": "code",
   "execution_count": 16,
   "id": "121eb9d9",
   "metadata": {},
   "outputs": [
    {
     "data": {
      "text/plain": [
       "0     0.0001\n",
       "1    20.0000\n",
       "2    40.0000\n",
       "3    60.0000\n",
       "4    80.0000\n",
       "5    99.9990\n",
       "dtype: float64"
      ]
     },
     "execution_count": 16,
     "metadata": {},
     "output_type": "execute_result"
    }
   ],
   "source": [
    "vec = al.linspace0(100,5)\n",
    "assert list(vec) == [0.0001, 20.0, 40.0, 60.0, 80.0, 99.99900000000001]\n",
    "assert len(vec) == 6\n",
    "vec"
   ]
  },
  {
   "cell_type": "code",
   "execution_count": 17,
   "id": "92292948",
   "metadata": {},
   "outputs": [
    {
     "name": "stdout",
     "output_type": "stream",
     "text": [
      "Help on function midpoints in module carbon.simulators.sim_analytics:\n",
      "\n",
      "midpoints(r)\n",
      "    calculates the midpoints: (x0, x1, x2, ...) -> (avg(x0,x1), avg(x1,x2), ...)\n",
      "\n"
     ]
    }
   ],
   "source": [
    "help(al.midpoints)"
   ]
  },
  {
   "cell_type": "code",
   "execution_count": 18,
   "id": "e33cf721",
   "metadata": {},
   "outputs": [
    {
     "name": "stdout",
     "output_type": "stream",
     "text": [
      "Help on function midpoints in module carbon.simulators.sim_analytics:\n",
      "\n",
      "midpoints(r)\n",
      "    calculates the midpoints: (x0, x1, x2, ...) -> (avg(x0,x1), avg(x1,x2), ...)\n",
      "\n"
     ]
    }
   ],
   "source": [
    "help(A.midpoints)"
   ]
  },
  {
   "cell_type": "code",
   "execution_count": 19,
   "id": "80a722a3",
   "metadata": {},
   "outputs": [
    {
     "data": {
      "text/plain": [
       "0    10.00005\n",
       "1    30.00000\n",
       "2    50.00000\n",
       "3    70.00000\n",
       "4    89.99950\n",
       "dtype: float64"
      ]
     },
     "execution_count": 19,
     "metadata": {},
     "output_type": "execute_result"
    }
   ],
   "source": [
    "vec2 = al.midpoints(vec)\n",
    "assert list(vec) == [0.0001, 20.0, 40.0, 60.0, 80.0, 99.99900000000001]\n",
    "assert len(vec2) == 5\n",
    "vec2"
   ]
  },
  {
   "cell_type": "code",
   "execution_count": 20,
   "id": "ce0a830d",
   "metadata": {},
   "outputs": [
    {
     "name": "stdout",
     "output_type": "stream",
     "text": [
      "Help on function diff in module carbon.simulators.sim_analytics:\n",
      "\n",
      "diff(vec)\n",
      "    calculates the differences: (x0, x1, x2, ...) -> (x1-x0, x2-x1, ...)\n",
      "\n"
     ]
    }
   ],
   "source": [
    "help(al.diff)"
   ]
  },
  {
   "cell_type": "code",
   "execution_count": 21,
   "id": "3ea25721",
   "metadata": {},
   "outputs": [
    {
     "name": "stdout",
     "output_type": "stream",
     "text": [
      "Help on function diff in module carbon.simulators.sim_analytics:\n",
      "\n",
      "diff(vec)\n",
      "    calculates the differences: (x0, x1, x2, ...) -> (x1-x0, x2-x1, ...)\n",
      "\n"
     ]
    }
   ],
   "source": [
    "help(A.diff)"
   ]
  },
  {
   "cell_type": "code",
   "execution_count": 22,
   "id": "3d779ed8",
   "metadata": {},
   "outputs": [
    {
     "data": {
      "text/plain": [
       "0    19.9999\n",
       "1    20.0000\n",
       "2    20.0000\n",
       "3    20.0000\n",
       "4    19.9990\n",
       "dtype: float64"
      ]
     },
     "execution_count": 22,
     "metadata": {},
     "output_type": "execute_result"
    }
   ],
   "source": [
    "vecd = al.diff(vec)\n",
    "assert list(vecd) == [19.9999, 20.0, 20.0, 20.0, 19.99900000000001]\n",
    "assert len(vecd) == 5\n",
    "vecd"
   ]
  },
  {
   "cell_type": "code",
   "execution_count": null,
   "id": "c56d5955",
   "metadata": {},
   "outputs": [],
   "source": []
  }
 ],
 "metadata": {
  "jupytext": {
   "encoding": "# -*- coding: utf-8 -*-",
   "formats": "ipynb,py:light"
  },
  "kernelspec": {
   "display_name": "Python 3",
   "language": "python",
   "name": "python3"
  },
  "language_info": {
   "codemirror_mode": {
    "name": "ipython",
    "version": 3
   },
   "file_extension": ".py",
   "mimetype": "text/x-python",
   "name": "python",
   "nbconvert_exporter": "python",
   "pygments_lexer": "ipython3",
   "version": "3.8.8"
  }
 },
 "nbformat": 4,
 "nbformat_minor": 5
}
