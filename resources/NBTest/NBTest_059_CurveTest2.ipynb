{
 "cells": [
  {
   "cell_type": "code",
   "execution_count": 1,
   "id": "3e1dc0ae",
   "metadata": {},
   "outputs": [
    {
     "name": "stdout",
     "output_type": "stream",
     "text": [
      "[stdimports] imported np, pd, plt, os, sqrt, exp, log\n",
      "SolTestBase v1.0 (11/Feb/2023)\n",
      "CarbonFloatInt32 v1.0 (10/Feb/2023)\n",
      "CarbonOrderUI v1.7.1 (12/Feb/2023)\n",
      "CarbonPair v2.2 (11/Feb/2022)\n",
      "Carbon v2.3.3-BETA1 (12/Feb/2022)\n"
     ]
    }
   ],
   "source": [
    "from carbon.helpers.stdimports import *\n",
    "from carbon.helpers.soltest import SolTestBase\n",
    "from carbon.helpers.floatint import *\n",
    "print(\"{0.__name__} v{0.__VERSION__} ({0.__DATE__})\".format(SolTestBase))\n",
    "print(\"{0.__name__} v{0.__VERSION__} ({0.__DATE__})\".format(CarbonFloatInt32))\n",
    "print(\"{0.__name__} v{0.__VERSION__} ({0.__DATE__})\".format(CarbonOrderUI))\n",
    "print(\"{0.__name__} v{0.__VERSION__} ({0.__DATE__})\".format(P))\n",
    "from math import log2, floor, ceil, sqrt\n",
    "print_version(require=\"2.3.3\")"
   ]
  },
  {
   "cell_type": "markdown",
   "id": "298bc7a9",
   "metadata": {},
   "source": [
    "# Solidity Curve Testing (NBTest058)\n",
    "\n",
    "---\n",
    "\n",
    "**NOTE: THIS NOTEBOOK DOES NOT CURRENTLY CONTAIN ANY AUTOMATED TESTS**\n",
    "\n",
    "---\n",
    "\n",
    "\n",
    "we consider by source and by target **from the point of view of the TRADER**, therefore _by source_ fixes _dx_ and calculates _dy_ and vice versa.\n",
    "\n",
    "**dx from dy (\"by target\")**\n",
    "\n",
    "$$\n",
    "\\Delta x \\,(\\Delta y) = \\frac{\\Delta y z^2}{(Ay+Bz)(Ay+Bz-A\\Delta y)} =_{A=0} \\frac{\\Delta y} {B^2}\n",
    "$$\n",
    "\n",
    "\n",
    "\n",
    "**dy from dx (\"by source\")**\n",
    "\n",
    "$$\n",
    "\\Delta y \\,(\\Delta x) = \\frac{\\Delta x(Ay+Bz)^2}{A\\Delta x(Ay+Bz)+z^2} =_{A=0} \\frac{\\Delta x(Bz)^2}{z^2} = \\Delta x B^2\n",
    "$$\n",
    "\n",
    "[doc][doc]\n",
    "\n",
    "\n",
    "[doc]:https://docs.google.com/document/d/1x4ZbbS3nIRSJ0ojaOrcBhOc-_eOTga6BajDjK45o7u4/edit"
   ]
  },
  {
   "cell_type": "markdown",
   "id": "b11d95e4-7328-45cc-a5ce-7f4a048ab64e",
   "metadata": {},
   "source": [
    "### Setting up the common code"
   ]
  },
  {
   "cell_type": "code",
   "execution_count": 2,
   "id": "8c9e834c-6b47-4316-93d9-b906d28d4f2f",
   "metadata": {},
   "outputs": [],
   "source": [
    "mulDivF = lambda x, y, z: int((x * y) // z)\n",
    "mulDiv  = mulDivF\n",
    "mulDivC = lambda x, y, z: int((x * y + z - 1) // z)"
   ]
  },
  {
   "cell_type": "code",
   "execution_count": 3,
   "id": "2256f279-fc51-4e6a-a365-6542c2b7b28e",
   "metadata": {},
   "outputs": [],
   "source": [
    "def dy_from_dx(params, C):\n",
    "    \"\"\"\n",
    "    calculates trade amount dx (received by AMM) from dy (sold by AMM)\n",
    "    \n",
    "    :params:   tuple(dx, (y,z,A,B,S))\n",
    "    :C:        the check function C(num, label); must return int(num)\n",
    "    :returns:  dy\n",
    "    \"\"\"\n",
    "\n",
    "    dx = params[0]\n",
    "    y,z,A,B,ONE = params[1]\n",
    "    temp1 = C(y * A + z * B, \"temp1\")               \n",
    "    temp2 = C(temp1 * dx / ONE, \"temp2\")            \n",
    "    temp3 = C(temp2 * A + z * z * ONE, \"temp3\") \n",
    "    dy = mulDiv(temp1, temp2, temp3)\n",
    "    #print(temp1, temp2, temp3, dy)\n",
    "    return dy"
   ]
  },
  {
   "cell_type": "code",
   "execution_count": 4,
   "id": "a2f41970-c9e6-4bbe-a59e-5df69f36af42",
   "metadata": {},
   "outputs": [],
   "source": [
    "def dx_from_dy(params, C):\n",
    "    \"\"\"\n",
    "    calculates trade amount dy (sold by AMM) from dx (received by AMM) \n",
    "    \n",
    "    :params:   tuple(dy, (y,z,A,B,S))\n",
    "    :C:        the check function C(num, label); must return int(num)\n",
    "    :returns:  dx\n",
    "    \"\"\"\n",
    "\n",
    "    dy = params[0]\n",
    "    y,z,A,B,ONE = params[1]\n",
    "    temp1 = C(z * ONE, \"temp1\")                  \n",
    "    temp2 = C(y * A + z * B, \"temp2\")         \n",
    "    temp3 = C(temp2 - dy * A, \"temp3\")        \n",
    "    scale = mulDiv(temp2, temp3, 2**255)+1\n",
    "    temp1s = C(temp1//scale, \"temp1s\")\n",
    "    temp2s = C(temp2//scale, \"temp2s\")\n",
    "    dx = mulDiv(\n",
    "        C(dy*temp1s, \"dx*temp1s\"), \n",
    "        temp1, \n",
    "        C(temp2s*temp3, \"temp2s*temp3\")\n",
    "    )\n",
    "    #print(temp1, temp2, temp3, temp1s, temp2s, dy)\n",
    "    return dx"
   ]
  },
  {
   "cell_type": "markdown",
   "id": "9a8748de-fd94-401a-9e30-a9c76dfb19c4",
   "metadata": {},
   "source": [
    "## DummyTest"
   ]
  },
  {
   "cell_type": "code",
   "execution_count": 23,
   "id": "8335151e-ef19-4980-8d55-5827d01873d0",
   "metadata": {},
   "outputs": [],
   "source": [
    "assert True"
   ]
  },
  {
   "cell_type": "markdown",
   "id": "5e7548ba-cc34-47e7-9614-a754cac9e7df",
   "metadata": {},
   "source": [
    "## Running comparison simple examples [NOTEST]"
   ]
  },
  {
   "cell_type": "code",
   "execution_count": 5,
   "id": "40f49719-89ca-4565-aef2-4542ca902d7f",
   "metadata": {},
   "outputs": [],
   "source": [
    "class STB(SolTestBase):\n",
    "    PRINT_LVL_DEFAULT = SolTestBase.LVL_LOG\n",
    "    #PRINT_LVL_DEFAULT = SolTestBase.LVL_WARN\n",
    "VERBOSE = True"
   ]
  },
  {
   "cell_type": "markdown",
   "id": "b5a48e61-985e-407e-ba34-d4dbf1e32d05",
   "metadata": {},
   "source": [
    "### SHIB/BTC (Selling BTC)"
   ]
  },
  {
   "cell_type": "code",
   "execution_count": 6,
   "id": "7197f144-3ade-4e0d-b033-2796783e1756",
   "metadata": {},
   "outputs": [
    {
     "name": "stdout",
     "output_type": "stream",
     "text": [
      "[yzABS] pair=P('SHIB/BTC').sd(18,8), y=BTC(8), x=SHIB(18)\n",
      "[yzABS] scale = 2**48 = 281474976710656\n",
      "[yzABS] y=1000 -> y_wei=100000000000 [BTC-wei]\n",
      "[yzABS] yint=1000 -> z_wei=100000000000 [BTC-wei]\n",
      "[yzABS] pa_raw=1.0000000000000002e-10 BTC per SHIB -> 0 BTC-wei per SHIB-wei\n",
      "[yzABS] pb_raw=9.523809523809526e-11 BTC per SHIB -> 0 BTC-wei per SHIB-wei\n",
      "[yzABS] a=2.4099927051466823e-07 -> 2.4099927051466825e-12 * scale = 678\n",
      "[yzABS] b=9.759000729485333e-06 -> 9.759000729485333e-11 * scale = 27469\n",
      "[yzABS] yzABS = r(y=100000000000, z=100000000000, A=678, B=27469, S=281474976710656)\n"
     ]
    },
    {
     "data": {
      "text/plain": [
       "r(y=100000000000, z=100000000000, A=678, B=27469, S=281474976710656)"
      ]
     },
     "execution_count": 6,
     "metadata": {},
     "output_type": "execute_result"
    }
   ],
   "source": [
    "PAIR = P(\"SHIB/BTC\").sd(18,8)\n",
    "price = 1e-5 * 1e-5 # SHIB per BTC\n",
    "capacity = 1000 # 1000 BTC\n",
    "oui = CarbonOrderUI.from_prices(PAIR, \"BTC\", price, price/1.05, capacity, capacity)\n",
    "curve = oui.yzABS(sx=48, verbose=True)\n",
    "curve"
   ]
  },
  {
   "cell_type": "code",
   "execution_count": 7,
   "id": "15172c16-a096-4396-9763-38f32845a68a",
   "metadata": {},
   "outputs": [
    {
     "name": "stdout",
     "output_type": "stream",
     "text": [
      "[LOG:OK:TEMP1] 85 bits: ok\n",
      "[LOG:OK:TEMP2] 52 bits: ok\n",
      "[LOG:OK:TEMP3] 52 bits: ok\n",
      "[LOG:OK:TEMP1S] 85 bits: ok\n",
      "[LOG:OK:TEMP2S] 52 bits: ok\n",
      "[LOG:OK:DX*TEMP1S] 112 bits: ok\n",
      "[LOG:OK:TEMP2S*TEMP3] 103 bits: ok\n"
     ]
    },
    {
     "data": {
      "text/plain": [
       "10000594518.506039"
      ]
     },
     "execution_count": 7,
     "metadata": {},
     "output_type": "execute_result"
    }
   ],
   "source": [
    "params  = (1*1e8, curve)       # dy = BTC-wei\n",
    "dx = dx_from_dy( params, STB() )\n",
    "dx/1e18 # 1e10 SHIB <- 1 BTC"
   ]
  },
  {
   "cell_type": "code",
   "execution_count": 8,
   "id": "ac3d73e5-bbbb-4608-88f6-16ca4213a199",
   "metadata": {},
   "outputs": [
    {
     "name": "stdout",
     "output_type": "stream",
     "text": [
      "dx=10000594518.51 vs 10000241005.08 SHIB, diff=0.0035%\n"
     ]
    }
   ],
   "source": [
    "dx2 = oui.dxfromdy_f(1)\n",
    "print(f\"dx={dx/1e18:0.2f} vs {dx2:0.2f} {oui.tknx}, diff={abs(dx/1e18/dx2-1)*100:0.4f}%\")"
   ]
  },
  {
   "cell_type": "code",
   "execution_count": 9,
   "id": "529f48aa-3071-4bd9-a6e1-29ac540aaba1",
   "metadata": {},
   "outputs": [
    {
     "name": "stdout",
     "output_type": "stream",
     "text": [
      "[LOG:OK:TEMP1] 52 bits: ok\n",
      "[LOG:OK:TEMP2] 97 bits: ok\n",
      "[LOG:OK:TEMP3] 122 bits: ok\n"
     ]
    },
    {
     "data": {
      "text/plain": [
       "0.99994055"
      ]
     },
     "execution_count": 9,
     "metadata": {},
     "output_type": "execute_result"
    }
   ],
   "source": [
    "params = (1e10*1e18, curve)      # dx = SHIB-wei\n",
    "dy = dy_from_dx(params, STB())\n",
    "dy/1e8 # 1e3 SHIB <- 1 BTC"
   ]
  },
  {
   "cell_type": "code",
   "execution_count": 10,
   "id": "b391d024-dc80-4b43-a301-e8af3b35f35b",
   "metadata": {},
   "outputs": [
    {
     "name": "stdout",
     "output_type": "stream",
     "text": [
      "dy=0.9999 vs 1.0000 BTC, diff=0.0035%\n"
     ]
    }
   ],
   "source": [
    "dy2 = oui.dyfromdx_f(1e10)\n",
    "print(f\"dy={dy/1e8:0.4f} vs {dy2:0.4f} {oui.tkny}, diff={abs(dy/1e8/dy2-1)*100:0.4f}%\")"
   ]
  },
  {
   "cell_type": "markdown",
   "id": "e3ffb995-da6d-49f9-a0a9-6b6e03c71b63",
   "metadata": {},
   "source": [
    "### SHIB/BTC (selling SHIB)"
   ]
  },
  {
   "cell_type": "code",
   "execution_count": 11,
   "id": "c8f50cc6-de0a-4690-bac5-17d6965dd884",
   "metadata": {},
   "outputs": [
    {
     "name": "stdout",
     "output_type": "stream",
     "text": [
      "[yzABS] pair=P('SHIB/BTC').sd(18,8), y=SHIB(18), x=BTC(8)\n",
      "[yzABS] scale = 2**40 = 1099511627776\n",
      "[yzABS] y=10000000000000.0 -> y_wei=1e+31 [SHIB-wei]\n",
      "[yzABS] yint=10000000000000.0 -> z_wei=1e+31 [SHIB-wei]\n",
      "[yzABS] pa_raw=9999999999.999996 SHIB per BTC -> 99999999999999967232 SHIB-wei per BTC-wei\n",
      "[yzABS] pb_raw=9523809523.80952 SHIB per BTC -> 95238095238095208448 SHIB-wei per BTC-wei\n",
      "[yzABS] a=2409.9927051466802 -> 240999270.51466802 * scale = 264981500216411193344\n",
      "[yzABS] b=97590.0072948533 -> 9759000729.48533 * scale = 10730134777543587266560\n",
      "[yzABS] yzABS = r(y=1e+31, z=1e+31, A=264981500216411193344, B=10730134777543587266560, S=1099511627776)\n"
     ]
    },
    {
     "data": {
      "text/plain": [
       "r(y=1e+31, z=1e+31, A=264981500216411193344, B=10730134777543587266560, S=1099511627776)"
      ]
     },
     "execution_count": 11,
     "metadata": {},
     "output_type": "execute_result"
    }
   ],
   "source": [
    "PAIR = P(\"SHIB/BTC\").sd(18,8)\n",
    "price = 1e-5 * 1e-5 # SHIB per BTC # 1e10 USD\n",
    "capacity = 1000 * 1e10 # 1000 BTC\n",
    "oui = CarbonOrderUI.from_prices(PAIR, \"SHIB\", price, price*1.05, capacity, capacity)\n",
    "curve = oui.yzABS(sx=40, verbose=True)\n",
    "curve"
   ]
  },
  {
   "cell_type": "code",
   "execution_count": 12,
   "id": "fa09b5e5-0318-40bb-a1b5-49f8cdc71b45",
   "metadata": {},
   "outputs": [
    {
     "name": "stdout",
     "output_type": "stream",
     "text": [
      "[LOG:OK:TEMP1] 143 bits: ok\n",
      "[LOG:OK:TEMP2] 177 bits: ok\n",
      "[LOG:OK:TEMP3] 177 bits: ok\n",
      "[LOG:OK:TEMP1S] 46 bits: ok\n",
      "[LOG:OK:TEMP2S] 79 bits: ok\n",
      "[LOG:OK:DX*TEMP1S] 139 bits: ok\n",
      "[WARNING:OVERFLOW:TEMP2S*TEMP3] 255 bits: close to max\n"
     ]
    },
    {
     "data": {
      "text/plain": [
       "1.0000241"
      ]
     },
     "execution_count": 12,
     "metadata": {},
     "output_type": "execute_result"
    }
   ],
   "source": [
    "params  = (1*1e5*1e5*1e18, curve)       # dy = SHIB-wei (1USD)\n",
    "dx = dx_from_dy( params, STB() )\n",
    "dx/1e8 # 1e10 SHIB = 1 BTC"
   ]
  },
  {
   "cell_type": "code",
   "execution_count": 13,
   "id": "c4d810fc-b439-4d33-b0ed-95d9cc1fe371",
   "metadata": {},
   "outputs": [
    {
     "name": "stdout",
     "output_type": "stream",
     "text": [
      "dx=1.000024 vs 0.000000 BTC, diff=0.0024%\n"
     ]
    }
   ],
   "source": [
    "dx2 = oui.dxfromdy_f(1)\n",
    "print(f\"dx={dx/1e8:0.6f} vs {dx2:0.6f} {oui.tknx}, diff={abs(dx/1e18/dx2-1)*100:0.4f}%\")"
   ]
  },
  {
   "cell_type": "code",
   "execution_count": 14,
   "id": "f381a6bc-dfd0-4975-9a07-6943969be989",
   "metadata": {},
   "outputs": [
    {
     "name": "stdout",
     "output_type": "stream",
     "text": [
      "[LOG:OK:TEMP1] 177 bits: ok\n",
      "[LOG:OK:TEMP2] 163 bits: ok\n",
      "[WARNING:OVERFLOW:TEMP3] 246 bits: close to max\n"
     ]
    },
    {
     "data": {
      "text/plain": [
       "0.9999759006537406"
      ]
     },
     "execution_count": 14,
     "metadata": {},
     "output_type": "execute_result"
    }
   ],
   "source": [
    "params = (1e8, curve)      # dx = BTC-wei\n",
    "dy = dy_from_dx( params, STB() )\n",
    "dy/1e18/1e10 #1e10 SHIB = 1 BTC"
   ]
  },
  {
   "cell_type": "code",
   "execution_count": 15,
   "id": "966ca28b-56d7-47f2-84d8-72a23b108f28",
   "metadata": {},
   "outputs": [
    {
     "name": "stdout",
     "output_type": "stream",
     "text": [
      "dy=9999759006.5374 vs 9999759006.5374 SHIB, diff=0.00000000%\n"
     ]
    }
   ],
   "source": [
    "dy2 = oui.dyfromdx_f(1)\n",
    "print(f\"dy={dy/1e18:0.4f} vs {dy2:0.4f} {oui.tkny}, diff={abs(dy/1e18/dy2-1)*100:0.8f}%\")"
   ]
  },
  {
   "cell_type": "markdown",
   "id": "3d122d83-d4c0-4e9d-a514-a13dfab55590",
   "metadata": {},
   "source": [
    "## Running the whole tests [NOTEST]"
   ]
  },
  {
   "cell_type": "code",
   "execution_count": 16,
   "id": "fd74b048-145c-4f44-a8a4-64d0873344ef",
   "metadata": {},
   "outputs": [],
   "source": [
    "class STB(SolTestBase):\n",
    "    #PRINT_LVL_DEFAULT = SolTestBase.LVL_LOG\n",
    "    #PRINT_LVL_DEFAULT = SolTestBase.LVL_WARN\n",
    "    PRINT_LVL_DEFAULT = SolTestBase.LVL_ERR\n",
    "VERBOSE = False"
   ]
  },
  {
   "cell_type": "markdown",
   "id": "df3e4a18-b88c-4276-a454-7bc3589cffac",
   "metadata": {},
   "source": [
    "### Template code"
   ]
  },
  {
   "cell_type": "code",
   "execution_count": 17,
   "id": "9d602fb8-2f2c-4536-8259-5950fbcdb2a9",
   "metadata": {},
   "outputs": [
    {
     "name": "stdout",
     "output_type": "stream",
     "text": [
      "dx=1.000027 vs 1.000000 TKNB ==> diff=0.0027%\n",
      "dy=0.900000 vs 1.000000 TKNQ ==> diff=10.0000%\n"
     ]
    },
    {
     "data": {
      "text/plain": [
       "9"
      ]
     },
     "execution_count": 17,
     "metadata": {},
     "output_type": "execute_result"
    }
   ],
   "source": [
    "## SETUP Y = TKNQ, X = TKNB\n",
    "\n",
    "# parameters\n",
    "decb = 20\n",
    "decq = 1\n",
    "sx=48\n",
    "amty, amtx = 1, 1\n",
    "capacity = 1e10\n",
    "width = 0.1\n",
    "\n",
    "# set up curves y = TKNQ, x = TKNB\n",
    "PAIR = P(\"TKNB/TKNQ\").sd(decb,decq)\n",
    "price = 1 # TKNQ per TKNB\n",
    "capacity = 1e6 # y = 1e6 TKNQ\n",
    "oui = CarbonOrderUI.from_prices(PAIR, \"TKNQ\", price, price/(1+width), capacity, capacity)\n",
    "curve = oui.yzABS(sx=sx, verbose=VERBOSE)\n",
    "#print(curve)\n",
    "\n",
    "# dy from dx\n",
    "params  = (amty*10**decq, curve)             # amty = TKNQ\n",
    "dx  = dx_from_dy(params, STB()) / 10**decb    # dx   = TKNB \n",
    "dx2 = oui.dxfromdy_f(amty)\n",
    "print(f\"dx={dx:0.6f} vs {dx2:0.6f} {oui.tknx} ==> diff={abs(dx/dx2-1)*100:0.4f}%\")\n",
    "\n",
    "# dx from dy\n",
    "params  = (amtx*10**decb, curve)             # amtx = TKNB\n",
    "dy = dy_from_dx(params, STB()) / 10**decq    # dy   = TKNQ \n",
    "dy2 = oui.dyfromdx_f(amtx)\n",
    "print(f\"dy={dy:0.6f} vs {dy2:0.6f} {oui.tkny} ==> diff={abs(dy/dy2-1)*100:0.4f}%\")\n",
    "dy_from_dx(params, STB())"
   ]
  },
  {
   "cell_type": "markdown",
   "id": "b795db0e-4ec3-4e4a-98a4-036b212a6886",
   "metadata": {},
   "source": [
    "Note: the issues for `decb=0,1` are caused by the fact that the number of tokens expected is very small (1,10 respectively). The float amounts are $10^{-4}$ close to the expected value, but because they are below the int division rounds down, giving 1 token difference, which corresponds to 100% and 10% respectively."
   ]
  },
  {
   "cell_type": "code",
   "execution_count": 18,
   "id": "32a8303f-4069-4f6e-9a5f-98a19cee152b",
   "metadata": {},
   "outputs": [
    {
     "data": {
      "text/plain": [
       "0.9998935404038686"
      ]
     },
     "execution_count": 18,
     "metadata": {},
     "output_type": "execute_result"
    }
   ],
   "source": [
    "28146000000*9999467920351890/281474989799959504785244160"
   ]
  },
  {
   "cell_type": "code",
   "execution_count": 19,
   "id": "48131713-3584-4e37-9daf-0f0fa842f7ec",
   "metadata": {},
   "outputs": [
    {
     "data": {
      "text/plain": [
       "9.99972921359663"
      ]
     },
     "execution_count": 19,
     "metadata": {},
     "output_type": "execute_result"
    }
   ],
   "source": [
    "890090000000*316223491836353792/28147498980863303799508303872"
   ]
  },
  {
   "cell_type": "markdown",
   "id": "384adf59-4179-459c-bafe-6e5c50adc687",
   "metadata": {},
   "source": [
    "### Loop over decimals"
   ]
  },
  {
   "cell_type": "code",
   "execution_count": 20,
   "id": "ca4c384d-7987-4e81-b406-5a45593a4347",
   "metadata": {},
   "outputs": [
    {
     "name": "stdout",
     "output_type": "stream",
     "text": [
      "\n",
      "decq = 0\n",
      "dx=1.017529 vs 1.000000 TKNB ==> diff=1.7529%\n",
      "dy=0.000000 vs 1.000000 TKNQ ==> diff=100.0000%\n",
      "\n",
      "decq = 1\n",
      "dx=1.004016 vs 1.000000 TKNB ==> diff=0.4016%\n",
      "dy=0.900000 vs 1.000000 TKNQ ==> diff=10.0000%\n",
      "\n",
      "decq = 2\n",
      "dx=1.000931 vs 1.000000 TKNB ==> diff=0.0931%\n",
      "dy=0.990000 vs 1.000000 TKNQ ==> diff=1.0000%\n",
      "\n",
      "decq = 3\n",
      "dx=1.000553 vs 1.000000 TKNB ==> diff=0.0553%\n",
      "dy=0.999000 vs 1.000000 TKNQ ==> diff=0.1000%\n",
      "\n",
      "decq = 4\n",
      "dx=1.000203 vs 1.000000 TKNB ==> diff=0.0203%\n",
      "dy=0.999700 vs 1.000000 TKNQ ==> diff=0.0300%\n",
      "\n",
      "decq = 5\n",
      "dx=1.000035 vs 1.000000 TKNB ==> diff=0.0035%\n",
      "dy=0.999960 vs 1.000000 TKNQ ==> diff=0.0040%\n",
      "\n",
      "decq = 6\n",
      "dx=1.000021 vs 1.000000 TKNB ==> diff=0.0021%\n",
      "dy=0.999978 vs 1.000000 TKNQ ==> diff=0.0022%\n",
      "\n",
      "decq = 7\n",
      "dx=1.000006 vs 1.000000 TKNB ==> diff=0.0006%\n",
      "dy=0.999993 vs 1.000000 TKNQ ==> diff=0.0006%\n",
      "\n",
      "decq = 8\n",
      "dx=1.000001 vs 1.000000 TKNB ==> diff=0.0001%\n",
      "dy=0.999999 vs 1.000000 TKNQ ==> diff=0.0001%\n",
      "\n",
      "decq = 9\n",
      "dx=1.000001 vs 1.000000 TKNB ==> diff=0.0001%\n",
      "dy=0.999999 vs 1.000000 TKNQ ==> diff=0.0001%\n",
      "\n",
      "decq = 10\n",
      "dx=1.000000 vs 1.000000 TKNB ==> diff=0.0000%\n",
      "dy=1.000000 vs 1.000000 TKNQ ==> diff=0.0000%\n",
      "\n",
      "decq = 11\n",
      "dx=1.000000 vs 1.000000 TKNB ==> diff=0.0000%\n",
      "dy=1.000000 vs 1.000000 TKNQ ==> diff=0.0000%\n",
      "\n",
      "decq = 12\n",
      "dx=1.000000 vs 1.000000 TKNB ==> diff=0.0000%\n",
      "dy=1.000000 vs 1.000000 TKNQ ==> diff=0.0000%\n",
      "\n",
      "decq = 13\n",
      "dx=1.000000 vs 1.000000 TKNB ==> diff=0.0000%\n",
      "dy=1.000000 vs 1.000000 TKNQ ==> diff=0.0000%\n",
      "\n",
      "decq = 14\n",
      "dx=1.000000 vs 1.000000 TKNB ==> diff=0.0000%\n",
      "dy=1.000000 vs 1.000000 TKNQ ==> diff=0.0000%\n",
      "\n",
      "decq = 15\n",
      "dx=1.000000 vs 1.000000 TKNB ==> diff=0.0000%\n",
      "dy=1.000000 vs 1.000000 TKNQ ==> diff=0.0000%\n",
      "\n",
      "decq = 16\n",
      "dx=1.000000 vs 1.000000 TKNB ==> diff=0.0000%\n",
      "dy=1.000000 vs 1.000000 TKNQ ==> diff=0.0000%\n",
      "\n",
      "decq = 17\n",
      "dx=1.000000 vs 1.000000 TKNB ==> diff=0.0000%\n",
      "dy=1.000000 vs 1.000000 TKNQ ==> diff=0.0000%\n",
      "\n",
      "decq = 18\n",
      "dx=1.000000 vs 1.000000 TKNB ==> diff=0.0000%\n",
      "dy=1.000000 vs 1.000000 TKNQ ==> diff=0.0000%\n",
      "\n",
      "decq = 19\n",
      "dx=1.000000 vs 1.000000 TKNB ==> diff=0.0000%\n",
      "dy=1.000000 vs 1.000000 TKNQ ==> diff=0.0000%\n",
      "\n",
      "decq = 20\n",
      "dx=1.000000 vs 1.000000 TKNB ==> diff=0.0000%\n",
      "dy=1.000000 vs 1.000000 TKNQ ==> diff=0.0000%\n",
      "\n",
      "decq = 21\n",
      "dx=1.000000 vs 1.000000 TKNB ==> diff=0.0000%\n",
      "dy=1.000000 vs 1.000000 TKNQ ==> diff=0.0000%\n",
      "\n",
      "decq = 22\n",
      "dx=1.000000 vs 1.000000 TKNB ==> diff=0.0000%\n",
      "dy=1.000000 vs 1.000000 TKNQ ==> diff=0.0000%\n",
      "\n",
      "decq = 23\n",
      "dx=1.000000 vs 1.000000 TKNB ==> diff=0.0000%\n",
      "dy=1.000000 vs 1.000000 TKNQ ==> diff=0.0000%\n",
      "\n",
      "decq = 24\n",
      "dx=1.000000 vs 1.000000 TKNB ==> diff=0.0000%\n",
      "dy=1.000000 vs 1.000000 TKNQ ==> diff=0.0000%\n",
      "\n",
      "decq = 25\n",
      "dx=1.000000 vs 1.000000 TKNB ==> diff=0.0000%\n",
      "dy=1.000000 vs 1.000000 TKNQ ==> diff=0.0000%\n",
      "\n",
      "decq = 26\n",
      "dx=1.000000 vs 1.000000 TKNB ==> diff=0.0000%\n",
      "dy=1.000000 vs 1.000000 TKNQ ==> diff=0.0000%\n",
      "\n",
      "decq = 27\n",
      "dx=1.000000 vs 1.000000 TKNB ==> diff=0.0000%\n",
      "[ERROR:OVERFLOW:TEMP3] 260 bits: > max\n",
      "dy=1.000000 vs 1.000000 TKNQ ==> diff=0.0000%\n",
      "\n",
      "decq = 28\n",
      "dx=1.000000 vs 1.000000 TKNB ==> diff=0.0000%\n",
      "[ERROR:OVERFLOW:TEMP3] 266 bits: > max\n",
      "dy=1.000000 vs 1.000000 TKNQ ==> diff=0.0000%\n",
      "\n",
      "decq = 29\n",
      "dx=1.000000 vs 1.000000 TKNB ==> diff=0.0000%\n",
      "[ERROR:OVERFLOW:TEMP3] 273 bits: > max\n",
      "dy=1.000000 vs 1.000000 TKNQ ==> diff=0.0000%\n",
      "\n",
      "decq = 30\n",
      "dx=1.000000 vs 1.000000 TKNB ==> diff=0.0000%\n",
      "[ERROR:OVERFLOW:TEMP3] 280 bits: > max\n",
      "dy=1.000000 vs 1.000000 TKNQ ==> diff=0.0000%\n",
      "\n",
      "decq = 31\n",
      "dx=1.000000 vs 1.000000 TKNB ==> diff=0.0000%\n",
      "[ERROR:OVERFLOW:TEMP3] 286 bits: > max\n",
      "dy=1.000000 vs 1.000000 TKNQ ==> diff=0.0000%\n",
      "\n",
      "decq = 32\n",
      "dx=1.000000 vs 1.000000 TKNB ==> diff=0.0000%\n",
      "[ERROR:OVERFLOW:TEMP3] 293 bits: > max\n",
      "dy=1.000000 vs 1.000000 TKNQ ==> diff=0.0000%\n",
      "\n",
      "decq = 33\n",
      "dx=1.000000 vs 1.000000 TKNB ==> diff=0.0000%\n",
      "[ERROR:OVERFLOW:TEMP3] 300 bits: > max\n",
      "dy=1.000000 vs 1.000000 TKNQ ==> diff=0.0000%\n",
      "\n",
      "decq = 34\n",
      "dx=1.000000 vs 1.000000 TKNB ==> diff=0.0000%\n",
      "[ERROR:OVERFLOW:TEMP3] 306 bits: > max\n",
      "dy=1.000000 vs 1.000000 TKNQ ==> diff=0.0000%\n",
      "\n",
      "decq = 35\n",
      "dx=1.000000 vs 1.000000 TKNB ==> diff=0.0000%\n",
      "[ERROR:OVERFLOW:TEMP3] 313 bits: > max\n",
      "dy=1.000000 vs 1.000000 TKNQ ==> diff=0.0000%\n",
      "\n",
      "decq = 36\n",
      "dx=1.000000 vs 1.000000 TKNB ==> diff=0.0000%\n",
      "[ERROR:OVERFLOW:TEMP3] 320 bits: > max\n",
      "dy=1.000000 vs 1.000000 TKNQ ==> diff=0.0000%\n",
      "\n",
      "decq = 37\n",
      "dx=0.999997 vs 1.000000 TKNB ==> diff=0.0003%\n",
      "[ERROR:OVERFLOW:TEMP3] 326 bits: > max\n",
      "dy=1.000000 vs 1.000000 TKNQ ==> diff=0.0000%\n",
      "\n",
      "decq = 38\n",
      "dx=0.998934 vs 1.000000 TKNB ==> diff=0.1066%\n",
      "[ERROR:OVERFLOW:TEMP3] 333 bits: > max\n",
      "dy=1.000000 vs 1.000000 TKNQ ==> diff=0.0000%\n",
      "\n",
      "decq = 39\n",
      "[ERROR:UNDERFLOW:TEMP1S] 3 bits: < underflow threshold\n",
      "dx=0.949557 vs 1.000000 TKNB ==> diff=5.0443%\n",
      "[ERROR:OVERFLOW:TEMP3] 339 bits: > max\n",
      "dy=1.000000 vs 1.000000 TKNQ ==> diff=0.0000%\n",
      "\n",
      "decq = 40\n",
      "[ERROR:UNDERFLOW:TEMP1S] 0 bits: < underflow threshold\n",
      "[ERROR:UNDERFLOW:DX*TEMP1S] 0 bits: < underflow threshold\n",
      "dx=0.000000 vs 1.000000 TKNB ==> diff=100.0000%\n",
      "[ERROR:OVERFLOW:TEMP3] 346 bits: > max\n",
      "dy=1.000000 vs 1.000000 TKNQ ==> diff=0.0000%\n"
     ]
    }
   ],
   "source": [
    "## SETUP Y = TKNQ, X = TKNB\n",
    "\n",
    "# parameters\n",
    "decb = 20\n",
    "sx=40\n",
    "amty, amtx = 1, 1\n",
    "capacity = 1e12\n",
    "width = 0.1\n",
    "\n",
    "for decq in range(0,41):\n",
    "    print(f\"\\ndecq = {decq}\")\n",
    "\n",
    "    # set up curves y = TKNQ, x = TKNB\n",
    "    PAIR = P(\"TKNB/TKNQ\").sd(decb,decq)\n",
    "    price = 1 # TKNQ per TKNB\n",
    "    capacity = 1e6 # y = 1e6 TKNQ\n",
    "    oui = CarbonOrderUI.from_prices(PAIR, \"TKNQ\", price, price/(1+width), capacity, capacity)\n",
    "    curve = oui.yzABS(sx=sx, verbose=VERBOSE)\n",
    "    #print(curve)\n",
    "\n",
    "    # dy from dx\n",
    "    params  = (amty*10**decq, curve)             # amty = TKNQ\n",
    "    dx  = dx_from_dy(params, STB()) / 10**decb    # dx   = TKNB \n",
    "    dx2 = oui.dxfromdy_f(amty)\n",
    "    print(f\"dx={dx:0.6f} vs {dx2:0.6f} {oui.tknx} ==> diff={abs(dx/dx2-1)*100:0.4f}%\")\n",
    "\n",
    "    # dx from dy\n",
    "    params  = (amtx*10**decb, curve)             # amtx = TKNB\n",
    "    dy = dy_from_dx(params, STB()) / 10**decq    # dy   = TKNQ \n",
    "    dy2 = oui.dyfromdx_f(amtx)\n",
    "    print(f\"dy={dy:0.6f} vs {dy2:0.6f} {oui.tkny} ==> diff={abs(dy/dy2-1)*100:0.4f}%\")"
   ]
  },
  {
   "cell_type": "markdown",
   "id": "799a2f30-012f-4029-b046-9efc4dbf0446",
   "metadata": {},
   "source": [
    "### Loop over prices (18/18)"
   ]
  },
  {
   "cell_type": "code",
   "execution_count": 21,
   "id": "576bcdc8-2893-45b7-b515-55257683d599",
   "metadata": {},
   "outputs": [
    {
     "name": "stdout",
     "output_type": "stream",
     "text": [
      "\n",
      "price = 1e-10 TKNQ per TKNB [10**-10]\n",
      "dx=1.000000 vs 1.000000 TKNB ==> diff=0.0000%\n",
      "dy=0.000000 vs 0.000000 TKNQ ==> diff=0.0000%\n",
      "\n",
      "price = 1e-09 TKNQ per TKNB [10**-9]\n",
      "dx=1.000000 vs 1.000000 TKNB ==> diff=0.0000%\n",
      "dy=0.000000 vs 0.000000 TKNQ ==> diff=0.0000%\n",
      "\n",
      "price = 1e-08 TKNQ per TKNB [10**-8]\n",
      "dx=1.000000 vs 1.000000 TKNB ==> diff=0.0000%\n",
      "dy=0.000000 vs 0.000000 TKNQ ==> diff=0.0000%\n",
      "\n",
      "price = 1e-07 TKNQ per TKNB [10**-7]\n",
      "dx=1.000000 vs 1.000000 TKNB ==> diff=0.0000%\n",
      "dy=0.000000 vs 0.000000 TKNQ ==> diff=0.0000%\n",
      "\n",
      "price = 1e-06 TKNQ per TKNB [10**-6]\n",
      "dx=1.000000 vs 1.000000 TKNB ==> diff=0.0000%\n",
      "dy=0.000001 vs 0.000001 TKNQ ==> diff=0.0000%\n",
      "\n",
      "price = 1e-05 TKNQ per TKNB [10**-5]\n",
      "dx=1.000000 vs 1.000000 TKNB ==> diff=0.0000%\n",
      "dy=0.000010 vs 0.000010 TKNQ ==> diff=0.0000%\n",
      "\n",
      "price = 0.0001 TKNQ per TKNB [10**-4]\n",
      "dx=1.000000 vs 1.000000 TKNB ==> diff=0.0000%\n",
      "dy=0.000100 vs 0.000100 TKNQ ==> diff=0.0000%\n",
      "\n",
      "price = 0.001 TKNQ per TKNB [10**-3]\n",
      "dx=1.000000 vs 1.000000 TKNB ==> diff=0.0000%\n",
      "dy=0.001000 vs 0.001000 TKNQ ==> diff=0.0000%\n",
      "\n",
      "price = 0.01 TKNQ per TKNB [10**-2]\n",
      "dx=1.000000 vs 1.000000 TKNB ==> diff=0.0000%\n",
      "dy=0.010000 vs 0.010000 TKNQ ==> diff=0.0000%\n",
      "\n",
      "price = 0.1 TKNQ per TKNB [10**-1]\n",
      "dx=1.000000 vs 1.000000 TKNB ==> diff=0.0000%\n",
      "dy=0.100000 vs 0.100000 TKNQ ==> diff=0.0000%\n",
      "\n",
      "price = 1 TKNQ per TKNB [10**0]\n",
      "dx=1.000000 vs 1.000000 TKNB ==> diff=0.0000%\n",
      "dy=1.000000 vs 1.000000 TKNQ ==> diff=0.0000%\n",
      "\n",
      "price = 10 TKNQ per TKNB [10**1]\n",
      "dx=1.000000 vs 1.000000 TKNB ==> diff=0.0000%\n",
      "dy=10.000000 vs 10.000000 TKNQ ==> diff=0.0000%\n",
      "\n",
      "price = 100 TKNQ per TKNB [10**2]\n",
      "dx=1.000000 vs 1.000000 TKNB ==> diff=0.0000%\n",
      "dy=99.999995 vs 99.999995 TKNQ ==> diff=0.0000%\n",
      "\n",
      "price = 1000 TKNQ per TKNB [10**3]\n",
      "dx=1.000000 vs 1.000000 TKNB ==> diff=0.0000%\n",
      "dy=999.999953 vs 999.999953 TKNQ ==> diff=0.0000%\n",
      "\n",
      "price = 10000 TKNQ per TKNB [10**4]\n",
      "dx=1.000000 vs 1.000000 TKNB ==> diff=0.0000%\n",
      "dy=9999.999535 vs 9999.999535 TKNQ ==> diff=0.0000%\n",
      "\n",
      "price = 100000 TKNQ per TKNB [10**5]\n",
      "dx=1.000000 vs 1.000000 TKNB ==> diff=0.0000%\n",
      "dy=99999.995346 vs 99999.995346 TKNQ ==> diff=0.0000%\n",
      "\n",
      "price = 1000000 TKNQ per TKNB [10**6]\n",
      "dx=1.000000 vs 1.000000 TKNB ==> diff=0.0000%\n",
      "dy=999999.953463 vs 999999.953463 TKNQ ==> diff=0.0000%\n",
      "\n",
      "price = 10000000 TKNQ per TKNB [10**7]\n",
      "dx=1.000000 vs 1.000000 TKNB ==> diff=0.0000%\n",
      "dy=9999999.534626 vs 9999999.534626 TKNQ ==> diff=0.0000%\n",
      "\n",
      "price = 100000000 TKNQ per TKNB [10**8]\n",
      "dx=1.000000 vs 1.000000 TKNB ==> diff=0.0000%\n",
      "dy=99999995.346259 vs 99999995.346259 TKNQ ==> diff=0.0000%\n",
      "\n",
      "price = 1000000000 TKNQ per TKNB [10**9]\n",
      "dx=1.000000 vs 1.000000 TKNB ==> diff=0.0000%\n",
      "[ERROR:OVERFLOW:TEMP3] 260 bits: > max\n",
      "dy=999999953.462592 vs 999999953.462591 TKNQ ==> diff=0.0000%\n"
     ]
    }
   ],
   "source": [
    "## SETUP Y = TKNQ, X = TKNB\n",
    "\n",
    "# parameters\n",
    "decb = 18\n",
    "decq = decb\n",
    "sx=40\n",
    "amtx = 1 # TKNB\n",
    "capacity = 1e6\n",
    "width = 0.1\n",
    "\n",
    "for priceexp in range(-10,10):\n",
    "    price = 10**priceexp\n",
    "    amty = amtx*price # TKNQ\n",
    "    print(f\"\\nprice = {price} TKNQ per TKNB [10**{priceexp}]\")\n",
    "\n",
    "    # set up curves y = TKNQ, x = TKNB\n",
    "    PAIR = P(\"TKNB/TKNQ\").sd(decb,decq)\n",
    "    #price = 1 # TKNQ per TKNB\n",
    "    capacity = 1e6 # y = 1e6 TKNQ\n",
    "    oui = CarbonOrderUI.from_prices(PAIR, \"TKNQ\", price, price/(1+width), capacity*price, capacity*price)\n",
    "    curve = oui.yzABS(sx=sx, verbose=VERBOSE)\n",
    "    #print(curve)\n",
    "\n",
    "    # dy from dx\n",
    "    params  = (amty*10**decq, curve)             # amty = TKNQ\n",
    "    dx  = dx_from_dy(params, STB()) / 10**decb    # dx   = TKNB \n",
    "    dx2 = oui.dxfromdy_f(amty)\n",
    "    print(f\"dx={dx:0.6f} vs {dx2:0.6f} {oui.tknx} ==> diff={abs(dx/dx2-1)*100:0.4f}%\")\n",
    "\n",
    "    # dx from dy\n",
    "    params  = (amtx*10**decb, curve)             # amtx = TKNB\n",
    "    dy = dy_from_dx(params, STB()) / 10**decq    # dy   = TKNQ \n",
    "    dy2 = oui.dyfromdx_f(amtx)\n",
    "    print(f\"dy={dy:0.6f} vs {dy2:0.6f} {oui.tkny} ==> diff={abs(dy/dy2-1)*100:0.4f}%\")"
   ]
  },
  {
   "cell_type": "markdown",
   "id": "403727e5-65e5-471e-9047-a3218aca1f5d",
   "metadata": {},
   "source": [
    "### Loop over prices (18/6)"
   ]
  },
  {
   "cell_type": "code",
   "execution_count": 22,
   "id": "f45ac8de-b105-4b4a-a20d-fb13b98c9a8e",
   "metadata": {
    "lines_to_next_cell": 0
   },
   "outputs": [
    {
     "name": "stdout",
     "output_type": "stream",
     "text": [
      "\n",
      "price = 1e-10 TKNQ per TKNB [10**-10]\n",
      "dx=1.001248 vs 1.000000 TKNB ==> diff=0.1248%\n",
      "dy=0.000000 vs 0.000000 TKNQ ==> diff=100.0000%\n",
      "\n",
      "price = 1e-09 TKNQ per TKNB [10**-9]\n",
      "dx=1.000229 vs 1.000000 TKNB ==> diff=0.0229%\n",
      "dy=0.000000 vs 0.000000 TKNQ ==> diff=100.0000%\n",
      "\n",
      "price = 1e-08 TKNQ per TKNB [10**-8]\n",
      "dx=1.000106 vs 1.000000 TKNB ==> diff=0.0106%\n",
      "dy=0.000000 vs 0.000000 TKNQ ==> diff=100.0000%\n",
      "\n",
      "price = 1e-07 TKNQ per TKNB [10**-7]\n",
      "dx=1.000027 vs 1.000000 TKNB ==> diff=0.0027%\n",
      "dy=0.000000 vs 0.000000 TKNQ ==> diff=100.0000%\n",
      "\n",
      "price = 1e-06 TKNQ per TKNB [10**-6]\n",
      "dx=1.000007 vs 1.000000 TKNB ==> diff=0.0007%\n",
      "dy=0.000000 vs 0.000001 TKNQ ==> diff=100.0000%\n",
      "\n",
      "price = 1e-05 TKNQ per TKNB [10**-5]\n",
      "dx=1.000002 vs 1.000000 TKNB ==> diff=0.0002%\n",
      "dy=0.000009 vs 0.000010 TKNQ ==> diff=10.0000%\n",
      "\n",
      "price = 0.0001 TKNQ per TKNB [10**-4]\n",
      "dx=1.000001 vs 1.000000 TKNB ==> diff=0.0001%\n",
      "dy=0.000099 vs 0.000100 TKNQ ==> diff=1.0000%\n",
      "\n",
      "price = 0.001 TKNQ per TKNB [10**-3]\n",
      "dx=1.000000 vs 1.000000 TKNB ==> diff=0.0000%\n",
      "dy=0.000999 vs 0.001000 TKNQ ==> diff=0.1000%\n",
      "\n",
      "price = 0.01 TKNQ per TKNB [10**-2]\n",
      "dx=1.000000 vs 1.000000 TKNB ==> diff=0.0000%\n",
      "dy=0.009999 vs 0.010000 TKNQ ==> diff=0.0100%\n",
      "\n",
      "price = 0.1 TKNQ per TKNB [10**-1]\n",
      "dx=1.000000 vs 1.000000 TKNB ==> diff=0.0000%\n",
      "dy=0.099999 vs 0.100000 TKNQ ==> diff=0.0010%\n",
      "\n",
      "price = 1 TKNQ per TKNB [10**0]\n",
      "dx=1.000000 vs 1.000000 TKNB ==> diff=0.0000%\n",
      "dy=0.999999 vs 1.000000 TKNQ ==> diff=0.0001%\n",
      "\n",
      "price = 10 TKNQ per TKNB [10**1]\n",
      "dx=1.000000 vs 1.000000 TKNB ==> diff=0.0000%\n",
      "dy=9.999999 vs 10.000000 TKNQ ==> diff=0.0000%\n",
      "\n",
      "price = 100 TKNQ per TKNB [10**2]\n",
      "dx=1.000000 vs 1.000000 TKNB ==> diff=0.0000%\n",
      "dy=99.999995 vs 99.999995 TKNQ ==> diff=0.0000%\n",
      "\n",
      "price = 1000 TKNQ per TKNB [10**3]\n",
      "dx=1.000000 vs 1.000000 TKNB ==> diff=0.0000%\n",
      "dy=999.999953 vs 999.999953 TKNQ ==> diff=0.0000%\n",
      "\n",
      "price = 10000 TKNQ per TKNB [10**4]\n",
      "dx=1.000000 vs 1.000000 TKNB ==> diff=0.0000%\n",
      "dy=9999.999533 vs 9999.999535 TKNQ ==> diff=0.0000%\n",
      "\n",
      "price = 100000 TKNQ per TKNB [10**5]\n",
      "dx=1.000000 vs 1.000000 TKNB ==> diff=0.0000%\n",
      "dy=99999.995344 vs 99999.995346 TKNQ ==> diff=0.0000%\n",
      "\n",
      "price = 1000000 TKNQ per TKNB [10**6]\n",
      "dx=1.000000 vs 1.000000 TKNB ==> diff=0.0000%\n",
      "dy=999999.953457 vs 999999.953463 TKNQ ==> diff=0.0000%\n",
      "\n",
      "price = 10000000 TKNQ per TKNB [10**7]\n",
      "dx=1.000000 vs 1.000000 TKNB ==> diff=0.0000%\n",
      "dy=9999999.534614 vs 9999999.534626 TKNQ ==> diff=0.0000%\n",
      "\n",
      "price = 100000000 TKNQ per TKNB [10**8]\n",
      "dx=1.000000 vs 1.000000 TKNB ==> diff=0.0000%\n",
      "dy=99999995.346148 vs 99999995.346259 TKNQ ==> diff=0.0000%\n",
      "\n",
      "price = 1000000000 TKNQ per TKNB [10**9]\n",
      "dx=1.000000 vs 1.000000 TKNB ==> diff=0.0000%\n",
      "dy=999999953.462316 vs 999999953.462591 TKNQ ==> diff=0.0000%\n"
     ]
    }
   ],
   "source": [
    "## SETUP Y = TKNQ, X = TKNB\n",
    "\n",
    "# parameters\n",
    "decb = 18\n",
    "decq = 6\n",
    "sx=48\n",
    "amtx = 1 # TKNB\n",
    "capacity = 1e6\n",
    "width = 0.1\n",
    "\n",
    "for priceexp in range(-10,10):\n",
    "    price = 10**priceexp\n",
    "    amty = amtx*price # TKNQ\n",
    "    print(f\"\\nprice = {price} TKNQ per TKNB [10**{priceexp}]\")\n",
    "\n",
    "    # set up curves y = TKNQ, x = TKNB\n",
    "    PAIR = P(\"TKNB/TKNQ\").sd(decb,decq)\n",
    "    #price = 1 # TKNQ per TKNB\n",
    "    capacity = 1e6 # y = 1e6 TKNQ\n",
    "    oui = CarbonOrderUI.from_prices(PAIR, \"TKNQ\", price, price/(1+width), capacity*price, capacity*price)\n",
    "    curve = oui.yzABS(sx=sx, verbose=VERBOSE)\n",
    "    #print(curve)\n",
    "\n",
    "    # dy from dx\n",
    "    params  = (amty*10**decq, curve)             # amty = TKNQ\n",
    "    dx  = dx_from_dy(params, STB()) / 10**decb    # dx   = TKNB \n",
    "    dx2 = oui.dxfromdy_f(amty)\n",
    "    print(f\"dx={dx:0.6f} vs {dx2:0.6f} {oui.tknx} ==> diff={abs(dx/dx2-1)*100:0.4f}%\")\n",
    "\n",
    "    # dx from dy\n",
    "    params  = (amtx*10**decb, curve)             # amtx = TKNB\n",
    "    dy = dy_from_dx(params, STB()) / 10**decq    # dy   = TKNQ \n",
    "    dy2 = oui.dyfromdx_f(amtx)\n",
    "    print(f\"dy={dy:0.6f} vs {dy2:0.6f} {oui.tkny} ==> diff={abs(dy/dy2-1)*100:0.4f}%\")"
   ]
  },
  {
   "cell_type": "code",
   "execution_count": null,
   "id": "aebc1b6b-71bd-4e13-add6-1a455d70f682",
   "metadata": {
    "lines_to_next_cell": 2
   },
   "outputs": [],
   "source": []
  }
 ],
 "metadata": {
  "jupytext": {
   "formats": "ipynb,py:light"
  },
  "kernelspec": {
   "display_name": "Python 3",
   "language": "python",
   "name": "python3"
  },
  "language_info": {
   "codemirror_mode": {
    "name": "ipython",
    "version": 3
   },
   "file_extension": ".py",
   "mimetype": "text/x-python",
   "name": "python",
   "nbconvert_exporter": "python",
   "pygments_lexer": "ipython3",
   "version": "3.8.8"
  }
 },
 "nbformat": 4,
 "nbformat_minor": 5
}
