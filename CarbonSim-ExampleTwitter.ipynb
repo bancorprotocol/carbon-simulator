{
 "cells": [
  {
   "cell_type": "markdown",
   "id": "fdd485eb",
   "metadata": {},
   "source": [
    "<p align=\"left\">\n",
    "<img width=\"50%\" src=\"https://drive.google.com/uc?export=view&id=10y3NKbbk7yt7cZDMszMt04g6NquTEa4p\" alt=\"Carbon Logo\" />\n",
    "</p>\n"
   ]
  },
  {
   "cell_type": "markdown",
   "id": "fa78c8d2",
   "metadata": {},
   "source": [
    "# Carbon Simulator - Example\n",
    "\n",
    "This is the example from the [twitter thread](https://twitter.com/odtorson/status/1597948494152536064). "
   ]
  },
  {
   "cell_type": "code",
   "execution_count": 1,
   "id": "bf877949",
   "metadata": {},
   "outputs": [
    {
     "name": "stdout",
     "output_type": "stream",
     "text": [
      "Carbon Version v1.5-beta0 (6/Dec/2022)\n"
     ]
    }
   ],
   "source": [
    "from carbon import CarbonSimulatorUI, __version__, __date__, analytics as al, CarbonPair\n",
    "print(f\"Carbon Version v{__version__} ({__date__})\", )"
   ]
  },
  {
   "cell_type": "markdown",
   "id": "522faf68",
   "metadata": {},
   "source": [
    "Set up a simulator instance, with default pair ETHUSDC. Also a range of test prices."
   ]
  },
  {
   "cell_type": "code",
   "execution_count": 2,
   "id": "cd860b8a",
   "metadata": {},
   "outputs": [],
   "source": [
    "ETHUSDC = CarbonPair(tknq=\"USDC\", tknb=\"ETH\")\n",
    "Sim = CarbonSimulatorUI(pair=ETHUSDC)\n",
    "prices = al.linspace(400, 3000, 500)\n",
    "#prices"
   ]
  },
  {
   "cell_type": "markdown",
   "id": "9bba23d5",
   "metadata": {},
   "source": [
    "First we **add a FADING strategy**. Assume \n",
    "\n",
    "- we have **10ETH** and **10,000 USDC**\n",
    "- we like to sell ETH, **SCALING OUT between 2000-2500** USDC per ETH,\n",
    "- we like to buy ETH, **SCALING IN between 1000-750** USDC per ETH."
   ]
  },
  {
   "cell_type": "code",
   "execution_count": 3,
   "id": "db5491e7",
   "metadata": {},
   "outputs": [
    {
     "data": {
      "text/html": [
       "<div>\n",
       "<style scoped>\n",
       "    .dataframe tbody tr th:only-of-type {\n",
       "        vertical-align: middle;\n",
       "    }\n",
       "\n",
       "    .dataframe tbody tr th {\n",
       "        vertical-align: top;\n",
       "    }\n",
       "\n",
       "    .dataframe thead th {\n",
       "        text-align: right;\n",
       "    }\n",
       "</style>\n",
       "<table border=\"1\" class=\"dataframe\">\n",
       "  <thead>\n",
       "    <tr style=\"text-align: right;\">\n",
       "      <th></th>\n",
       "      <th>id</th>\n",
       "      <th>pair</th>\n",
       "      <th>tkn</th>\n",
       "      <th>y_int</th>\n",
       "      <th>y</th>\n",
       "      <th>y_unit</th>\n",
       "      <th>p_start</th>\n",
       "      <th>p_end</th>\n",
       "      <th>p_marg</th>\n",
       "      <th>p_unit</th>\n",
       "      <th>lid</th>\n",
       "    </tr>\n",
       "  </thead>\n",
       "  <tbody>\n",
       "    <tr>\n",
       "      <th>0</th>\n",
       "      <td>0</td>\n",
       "      <td>ETHUSDC</td>\n",
       "      <td>ETH</td>\n",
       "      <td>10.0</td>\n",
       "      <td>10.0</td>\n",
       "      <td>ETH</td>\n",
       "      <td>2000.0</td>\n",
       "      <td>2500.0</td>\n",
       "      <td>2000.0</td>\n",
       "      <td>USDC per ETH</td>\n",
       "      <td>1</td>\n",
       "    </tr>\n",
       "    <tr>\n",
       "      <th>1</th>\n",
       "      <td>1</td>\n",
       "      <td>ETHUSDC</td>\n",
       "      <td>USDC</td>\n",
       "      <td>10000.0</td>\n",
       "      <td>10000.0</td>\n",
       "      <td>USDC</td>\n",
       "      <td>1000.0</td>\n",
       "      <td>750.0</td>\n",
       "      <td>1000.0</td>\n",
       "      <td>USDC per ETH</td>\n",
       "      <td>0</td>\n",
       "    </tr>\n",
       "  </tbody>\n",
       "</table>\n",
       "</div>"
      ],
      "text/plain": [
       "   id     pair   tkn    y_int        y y_unit  p_start   p_end  p_marg  \\\n",
       "0   0  ETHUSDC   ETH     10.0     10.0    ETH   2000.0  2500.0  2000.0   \n",
       "1   1  ETHUSDC  USDC  10000.0  10000.0   USDC   1000.0   750.0  1000.0   \n",
       "\n",
       "         p_unit  lid  \n",
       "0  USDC per ETH    1  \n",
       "1  USDC per ETH    0  "
      ]
     },
     "execution_count": 3,
     "metadata": {},
     "output_type": "execute_result"
    }
   ],
   "source": [
    "Sim.add_strategy(\"ETH\", 10, 2000, 2500, 10000, 1000, 750)[\"orders\"]"
   ]
  },
  {
   "cell_type": "markdown",
   "id": "02e7f278",
   "metadata": {},
   "source": [
    "We can look at this order by examining the simulation state"
   ]
  },
  {
   "cell_type": "code",
   "execution_count": 4,
   "id": "48ef9da4",
   "metadata": {},
   "outputs": [
    {
     "data": {
      "text/html": [
       "<div>\n",
       "<style scoped>\n",
       "    .dataframe tbody tr th:only-of-type {\n",
       "        vertical-align: middle;\n",
       "    }\n",
       "\n",
       "    .dataframe tbody tr th {\n",
       "        vertical-align: top;\n",
       "    }\n",
       "\n",
       "    .dataframe thead th {\n",
       "        text-align: right;\n",
       "    }\n",
       "</style>\n",
       "<table border=\"1\" class=\"dataframe\">\n",
       "  <thead>\n",
       "    <tr style=\"text-align: right;\">\n",
       "      <th></th>\n",
       "      <th>tkn</th>\n",
       "      <th>y_int</th>\n",
       "      <th>y</th>\n",
       "      <th>p_start</th>\n",
       "      <th>p_marg</th>\n",
       "      <th>p_end</th>\n",
       "    </tr>\n",
       "  </thead>\n",
       "  <tbody>\n",
       "    <tr>\n",
       "      <th>0</th>\n",
       "      <td>ETH</td>\n",
       "      <td>10.0</td>\n",
       "      <td>10.0</td>\n",
       "      <td>2000.0</td>\n",
       "      <td>2000.0</td>\n",
       "      <td>2500.0</td>\n",
       "    </tr>\n",
       "    <tr>\n",
       "      <th>1</th>\n",
       "      <td>USDC</td>\n",
       "      <td>10000.0</td>\n",
       "      <td>10000.0</td>\n",
       "      <td>1000.0</td>\n",
       "      <td>1000.0</td>\n",
       "      <td>750.0</td>\n",
       "    </tr>\n",
       "  </tbody>\n",
       "</table>\n",
       "</div>"
      ],
      "text/plain": [
       "    tkn    y_int        y  p_start  p_marg   p_end\n",
       "0   ETH     10.0     10.0   2000.0  2000.0  2500.0\n",
       "1  USDC  10000.0  10000.0   1000.0  1000.0   750.0"
      ]
     },
     "execution_count": 4,
     "metadata": {},
     "output_type": "execute_result"
    }
   ],
   "source": [
    "Sim.state()[\"orders\"][\"tkn,y_int,y,p_start,p_marg,p_end\".split(\",\")]"
   ]
  },
  {
   "cell_type": "code",
   "execution_count": 5,
   "id": "0bfd2185",
   "metadata": {},
   "outputs": [
    {
     "name": "stdout",
     "output_type": "stream",
     "text": [
      "[calc_liquidity_approx] pair:ETHUSDC ETH USDC\n",
      "[calc_liquidity_approx] ask:1 bid:1\n",
      "[calc_liquidity_approx] tkn=ETH\n"
     ]
    },
    {
     "data": {
      "image/png": "[encoded data removed]",
      "text/plain": [
       "<Figure size 432x288 with 1 Axes>"
      ]
     },
     "metadata": {
      "needs_background": "light"
     },
     "output_type": "display_data"
    }
   ],
   "source": [
    "liq = al.calc_liquidity_approx(Sim.state()[\"orderuis\"], prices, ETHUSDC, reverse=False)\n",
    "al.plot_approx_orderbook_chart(liq)"
   ]
  },
  {
   "cell_type": "code",
   "execution_count": 6,
   "id": "3900f501",
   "metadata": {},
   "outputs": [
    {
     "name": "stdout",
     "output_type": "stream",
     "text": [
      "[calc_liquidity_approx] pair:ETHUSDC ETH USDC\n",
      "[calc_liquidity_approx] ask:1 bid:1\n",
      "[calc_liquidity_approx] tkn=USDC\n"
     ]
    },
    {
     "data": {
      "image/png": "[encoded data removed]",
      "text/plain": [
       "<Figure size 432x288 with 1 Axes>"
      ]
     },
     "metadata": {
      "needs_background": "light"
     },
     "output_type": "display_data"
    }
   ],
   "source": [
    "liqr = al.calc_liquidity_approx(Sim.state()[\"orderuis\"], prices, ETHUSDC, reverse=True)\n",
    "al.plot_approx_orderbook_chart(liqr)"
   ]
  },
  {
   "cell_type": "markdown",
   "id": "1708915a",
   "metadata": {},
   "source": [
    "Someone is now trading against the pool, BUYING 1 ETH.\n",
    "The price will be driven by the 2000-2500 range."
   ]
  },
  {
   "cell_type": "code",
   "execution_count": 7,
   "id": "d6cc5aed",
   "metadata": {
    "scrolled": true
   },
   "outputs": [
    {
     "data": {
      "text/html": [
       "<div>\n",
       "<style scoped>\n",
       "    .dataframe tbody tr th:only-of-type {\n",
       "        vertical-align: middle;\n",
       "    }\n",
       "\n",
       "    .dataframe tbody tr th {\n",
       "        vertical-align: top;\n",
       "    }\n",
       "\n",
       "    .dataframe thead th {\n",
       "        text-align: right;\n",
       "    }\n",
       "</style>\n",
       "<table border=\"1\" class=\"dataframe\">\n",
       "  <thead>\n",
       "    <tr style=\"text-align: right;\">\n",
       "      <th></th>\n",
       "      <th>uid</th>\n",
       "      <th>pair</th>\n",
       "      <th>note</th>\n",
       "      <th>amt1</th>\n",
       "      <th>tkn1</th>\n",
       "      <th>amt2</th>\n",
       "      <th>tkn2</th>\n",
       "      <th>price</th>\n",
       "    </tr>\n",
       "  </thead>\n",
       "  <tbody>\n",
       "    <tr>\n",
       "      <th>0</th>\n",
       "      <td>0</td>\n",
       "      <td>ETHUSDC</td>\n",
       "      <td>AMM sells 1ETH buys 2021USDC</td>\n",
       "      <td>1.0</td>\n",
       "      <td>ETH</td>\n",
       "      <td>2021.339853</td>\n",
       "      <td>USDC</td>\n",
       "      <td>2021.339853</td>\n",
       "    </tr>\n",
       "  </tbody>\n",
       "</table>\n",
       "</div>"
      ],
      "text/plain": [
       "  uid     pair                          note  amt1 tkn1         amt2  tkn2  \\\n",
       "0   0  ETHUSDC  AMM sells 1ETH buys 2021USDC   1.0  ETH  2021.339853  USDC   \n",
       "\n",
       "         price  \n",
       "0  2021.339853  "
      ]
     },
     "execution_count": 7,
     "metadata": {},
     "output_type": "execute_result"
    }
   ],
   "source": [
    "Sim.trader_buys(\"ETH\", 1)[\"trades\"].query(\"aggr==True\")[\"uid,pair,note,amt1,tkn1,amt2,tkn2,price\".split(\",\")]"
   ]
  },
  {
   "cell_type": "markdown",
   "id": "c763d840",
   "metadata": {},
   "source": [
    "We see that that 1 ETH disappeared from the ETH curve,\n",
    "and reappeared as USDC on the other curve"
   ]
  },
  {
   "cell_type": "code",
   "execution_count": 8,
   "id": "b68a44a5",
   "metadata": {},
   "outputs": [
    {
     "data": {
      "text/html": [
       "<div>\n",
       "<style scoped>\n",
       "    .dataframe tbody tr th:only-of-type {\n",
       "        vertical-align: middle;\n",
       "    }\n",
       "\n",
       "    .dataframe tbody tr th {\n",
       "        vertical-align: top;\n",
       "    }\n",
       "\n",
       "    .dataframe thead th {\n",
       "        text-align: right;\n",
       "    }\n",
       "</style>\n",
       "<table border=\"1\" class=\"dataframe\">\n",
       "  <thead>\n",
       "    <tr style=\"text-align: right;\">\n",
       "      <th></th>\n",
       "      <th>tkn</th>\n",
       "      <th>y_int</th>\n",
       "      <th>y</th>\n",
       "      <th>p_start</th>\n",
       "      <th>p_marg</th>\n",
       "      <th>p_end</th>\n",
       "    </tr>\n",
       "  </thead>\n",
       "  <tbody>\n",
       "    <tr>\n",
       "      <th>0</th>\n",
       "      <td>ETH</td>\n",
       "      <td>10.000000</td>\n",
       "      <td>9.000000</td>\n",
       "      <td>2000.0</td>\n",
       "      <td>2042.9074</td>\n",
       "      <td>2500.0</td>\n",
       "    </tr>\n",
       "    <tr>\n",
       "      <th>1</th>\n",
       "      <td>USDC</td>\n",
       "      <td>12021.339853</td>\n",
       "      <td>12021.339853</td>\n",
       "      <td>1000.0</td>\n",
       "      <td>1000.0000</td>\n",
       "      <td>750.0</td>\n",
       "    </tr>\n",
       "  </tbody>\n",
       "</table>\n",
       "</div>"
      ],
      "text/plain": [
       "    tkn         y_int             y  p_start     p_marg   p_end\n",
       "0   ETH     10.000000      9.000000   2000.0  2042.9074  2500.0\n",
       "1  USDC  12021.339853  12021.339853   1000.0  1000.0000   750.0"
      ]
     },
     "execution_count": 8,
     "metadata": {},
     "output_type": "execute_result"
    }
   ],
   "source": [
    "Sim.state()[\"orders\"][\"tkn,y_int,y,p_start,p_marg,p_end\".split(\",\")]"
   ]
  },
  {
   "cell_type": "markdown",
   "id": "9a2ed10e",
   "metadata": {},
   "source": [
    "Someone is trading against the pool, SELLING 1 ETH\n",
    "the price will be driven by the 1000-750 range"
   ]
  },
  {
   "cell_type": "code",
   "execution_count": 9,
   "id": "afb2f27f",
   "metadata": {},
   "outputs": [
    {
     "data": {
      "text/html": [
       "<div>\n",
       "<style scoped>\n",
       "    .dataframe tbody tr th:only-of-type {\n",
       "        vertical-align: middle;\n",
       "    }\n",
       "\n",
       "    .dataframe tbody tr th {\n",
       "        vertical-align: top;\n",
       "    }\n",
       "\n",
       "    .dataframe thead th {\n",
       "        text-align: right;\n",
       "    }\n",
       "</style>\n",
       "<table border=\"1\" class=\"dataframe\">\n",
       "  <thead>\n",
       "    <tr style=\"text-align: right;\">\n",
       "      <th></th>\n",
       "      <th>uid</th>\n",
       "      <th>pair</th>\n",
       "      <th>note</th>\n",
       "      <th>amt1</th>\n",
       "      <th>tkn1</th>\n",
       "      <th>amt2</th>\n",
       "      <th>tkn2</th>\n",
       "      <th>price</th>\n",
       "    </tr>\n",
       "  </thead>\n",
       "  <tbody>\n",
       "    <tr>\n",
       "      <th>0</th>\n",
       "      <td>1</td>\n",
       "      <td>ETHUSDC</td>\n",
       "      <td>AMM sells 989USDC buys 1ETH</td>\n",
       "      <td>988.978105</td>\n",
       "      <td>USDC</td>\n",
       "      <td>1.0</td>\n",
       "      <td>ETH</td>\n",
       "      <td>988.978105</td>\n",
       "    </tr>\n",
       "  </tbody>\n",
       "</table>\n",
       "</div>"
      ],
      "text/plain": [
       "  uid     pair                         note        amt1  tkn1  amt2 tkn2  \\\n",
       "0   1  ETHUSDC  AMM sells 989USDC buys 1ETH  988.978105  USDC   1.0  ETH   \n",
       "\n",
       "        price  \n",
       "0  988.978105  "
      ]
     },
     "execution_count": 9,
     "metadata": {},
     "output_type": "execute_result"
    }
   ],
   "source": [
    "Sim.trader_sells(\"ETH\", 1)[\"trades\"].query(\"aggr==True\")[\"uid,pair,note,amt1,tkn1,amt2,tkn2,price\".split(\",\")]"
   ]
  },
  {
   "cell_type": "markdown",
   "id": "fc9bba4d",
   "metadata": {},
   "source": [
    "Now the ETH curve is where it was at 10 ETH, but we have taken\n",
    "profits of about USD 2021 on the USDC account."
   ]
  },
  {
   "cell_type": "code",
   "execution_count": 10,
   "id": "96d2cca9",
   "metadata": {},
   "outputs": [
    {
     "data": {
      "text/html": [
       "<div>\n",
       "<style scoped>\n",
       "    .dataframe tbody tr th:only-of-type {\n",
       "        vertical-align: middle;\n",
       "    }\n",
       "\n",
       "    .dataframe tbody tr th {\n",
       "        vertical-align: top;\n",
       "    }\n",
       "\n",
       "    .dataframe thead th {\n",
       "        text-align: right;\n",
       "    }\n",
       "</style>\n",
       "<table border=\"1\" class=\"dataframe\">\n",
       "  <thead>\n",
       "    <tr style=\"text-align: right;\">\n",
       "      <th></th>\n",
       "      <th>tkn</th>\n",
       "      <th>y_int</th>\n",
       "      <th>y</th>\n",
       "      <th>p_start</th>\n",
       "      <th>p_marg</th>\n",
       "      <th>p_end</th>\n",
       "    </tr>\n",
       "  </thead>\n",
       "  <tbody>\n",
       "    <tr>\n",
       "      <th>0</th>\n",
       "      <td>ETH</td>\n",
       "      <td>10.000000</td>\n",
       "      <td>10.000000</td>\n",
       "      <td>2000.0</td>\n",
       "      <td>2000.000000</td>\n",
       "      <td>2500.0</td>\n",
       "    </tr>\n",
       "    <tr>\n",
       "      <th>1</th>\n",
       "      <td>USDC</td>\n",
       "      <td>12021.339853</td>\n",
       "      <td>11032.361748</td>\n",
       "      <td>1000.0</td>\n",
       "      <td>978.077693</td>\n",
       "      <td>750.0</td>\n",
       "    </tr>\n",
       "  </tbody>\n",
       "</table>\n",
       "</div>"
      ],
      "text/plain": [
       "    tkn         y_int             y  p_start       p_marg   p_end\n",
       "0   ETH     10.000000     10.000000   2000.0  2000.000000  2500.0\n",
       "1  USDC  12021.339853  11032.361748   1000.0   978.077693   750.0"
      ]
     },
     "execution_count": 10,
     "metadata": {},
     "output_type": "execute_result"
    }
   ],
   "source": [
    "Sim.state()[\"orders\"][\"tkn,y_int,y,p_start,p_marg,p_end\".split(\",\")]"
   ]
  }
 ],
 "metadata": {
  "jupytext": {
   "cell_metadata_filter": "-all",
   "notebook_metadata_filter": "-all"
  },
  "kernelspec": {
   "display_name": "Python 3",
   "language": "python",
   "name": "python3"
  },
  "language_info": {
   "codemirror_mode": {
    "name": "ipython",
    "version": 3
   },
   "file_extension": ".py",
   "mimetype": "text/x-python",
   "name": "python",
   "nbconvert_exporter": "python",
   "pygments_lexer": "ipython3",
   "version": "3.8.8"
  }
 },
 "nbformat": 4,
 "nbformat_minor": 5
}
