{
 "cells": [
  {
   "cell_type": "code",
   "execution_count": 1,
   "id": "22b66169",
   "metadata": {},
   "outputs": [],
   "source": [
    "from carbon import CarbonSimulatorUI, analytics as al\n",
    "from carbon.simulators.carbon_simulator import (\n",
    "    __version__ as uiversion,\n",
    "    __date__ as uidate,\n",
    ")\n",
    "from carbon.simulators.sim_analytics import Analytics as A\n",
    "from carbon.simulators.sim_analytics import (\n",
    "    __version__ as alversion,\n",
    "    __date__ as aldate,\n",
    ")\n",
    "from jupyformat import *"
   ]
  },
  {
   "cell_type": "code",
   "execution_count": 18,
   "id": "c61a0e2b",
   "metadata": {},
   "outputs": [
    {
     "name": "stdout",
     "output_type": "stream",
     "text": [
      "[carbon_simulator] version 1.0 beta4 15/Nov/2022\n",
      "[sim_analytics] version 1.0 beta2-2 16/Nov/2022\n"
     ]
    },
    {
     "data": {
      "text/html": [
       "<div style='color:green; font-size: 120%'><p><strong>This notebook passed verification.</strong></p></div>"
      ],
      "text/plain": [
       "<IPython.core.display.HTML object>"
      ]
     },
     "execution_count": 18,
     "metadata": {},
     "output_type": "execute_result"
    }
   ],
   "source": [
    "print(\"[carbon_simulator] version\", uiversion, uidate)\n",
    "print(\"[sim_analytics] version\", alversion, aldate)\n",
    "jp()"
   ]
  },
  {
   "cell_type": "markdown",
   "id": "ec6ff430",
   "metadata": {},
   "source": [
    "# Carbon Simulation - Test 32"
   ]
  },
  {
   "cell_type": "markdown",
   "id": "feee98a0",
   "metadata": {},
   "source": [
    "## Basic arithmetic functions"
   ]
  },
  {
   "cell_type": "code",
   "execution_count": 3,
   "id": "70d62440",
   "metadata": {},
   "outputs": [
    {
     "data": {
      "text/plain": [
       "(0    1\n",
       " 1    2\n",
       " 2    3\n",
       " dtype: int64,\n",
       " 0    3\n",
       " 1    4\n",
       " 2    5\n",
       " dtype: int64,\n",
       " 0    3.0\n",
       " 1    4.0\n",
       " 2    NaN\n",
       " dtype: float64)"
      ]
     },
     "execution_count": 3,
     "metadata": {},
     "output_type": "execute_result"
    }
   ],
   "source": [
    "v1 = al.vec([1,2,3])\n",
    "v2 = al.vec([3,4,5])\n",
    "v3 = al.vec([3,4,None])\n",
    "v1, v2, v3"
   ]
  },
  {
   "cell_type": "code",
   "execution_count": 4,
   "id": "3705777b",
   "metadata": {},
   "outputs": [
    {
     "data": {
      "text/plain": [
       "(0   -1\n",
       " 1   -2\n",
       " 2   -3\n",
       " dtype: int64,\n",
       " 0    4\n",
       " 1    6\n",
       " 2    8\n",
       " dtype: int64,\n",
       " 0   -2\n",
       " 1   -2\n",
       " 2   -2\n",
       " dtype: int64,\n",
       " 0     3\n",
       " 1     8\n",
       " 2    15\n",
       " dtype: int64,\n",
       " 0    0.333333\n",
       " 1    0.500000\n",
       " 2    0.600000\n",
       " dtype: float64)"
      ]
     },
     "execution_count": 4,
     "metadata": {},
     "output_type": "execute_result"
    }
   ],
   "source": [
    "-v1, v1+v2, v1-v2, v1*v2, v1/v2"
   ]
  },
  {
   "cell_type": "markdown",
   "id": "a4eb5b32",
   "metadata": {},
   "source": [
    "checking that NaN are handled gracefully"
   ]
  },
  {
   "cell_type": "code",
   "execution_count": 5,
   "id": "595376dc",
   "metadata": {},
   "outputs": [
    {
     "data": {
      "text/plain": [
       "(0   -3.0\n",
       " 1   -4.0\n",
       " 2    NaN\n",
       " dtype: float64,\n",
       " 0    4.0\n",
       " 1    6.0\n",
       " 2    NaN\n",
       " dtype: float64,\n",
       " 0   -2.0\n",
       " 1   -2.0\n",
       " 2    NaN\n",
       " dtype: float64,\n",
       " 0    3.0\n",
       " 1    8.0\n",
       " 2    NaN\n",
       " dtype: float64,\n",
       " 0    0.333333\n",
       " 1    0.500000\n",
       " 2         NaN\n",
       " dtype: float64)"
      ]
     },
     "execution_count": 5,
     "metadata": {},
     "output_type": "execute_result"
    }
   ],
   "source": [
    "-v3, v1+v3, v1-v3, v1*v3, v1/v3"
   ]
  },
  {
   "cell_type": "code",
   "execution_count": 6,
   "id": "2f07d639",
   "metadata": {},
   "outputs": [
    {
     "data": {
      "text/plain": [
       "(26, 11.0)"
      ]
     },
     "execution_count": 6,
     "metadata": {},
     "output_type": "execute_result"
    }
   ],
   "source": [
    "al.vecdot(v1,v2), al.vecdot(v1,v3)"
   ]
  },
  {
   "cell_type": "code",
   "execution_count": 7,
   "id": "33aeb0ec",
   "metadata": {},
   "outputs": [
    {
     "data": {
      "text/plain": [
       "(0      0\n",
       " 1      1\n",
       " 2      2\n",
       " 3      3\n",
       " 4      4\n",
       " 5      5\n",
       " 6      6\n",
       " 7      7\n",
       " 8      8\n",
       " 9      9\n",
       " 10    10\n",
       " 11    11\n",
       " 12    12\n",
       " 13    13\n",
       " 14    14\n",
       " 15    15\n",
       " 16    16\n",
       " 17    17\n",
       " 18    18\n",
       " 19    19\n",
       " dtype: int64,\n",
       " 20)"
      ]
     },
     "execution_count": 7,
     "metadata": {},
     "output_type": "execute_result"
    }
   ],
   "source": [
    "ts = al.vec(range(20))\n",
    "ts, len(ts)"
   ]
  },
  {
   "cell_type": "code",
   "execution_count": 8,
   "id": "aaebb759",
   "metadata": {
    "lines_to_next_cell": 2
   },
   "outputs": [
    {
     "data": {
      "text/plain": [
       "(0     1\n",
       " 1     1\n",
       " 2     1\n",
       " 3     1\n",
       " 4     1\n",
       " 5     1\n",
       " 6     1\n",
       " 7     1\n",
       " 8     1\n",
       " 9     1\n",
       " 10    1\n",
       " 11    1\n",
       " 12    1\n",
       " 13    1\n",
       " 14    1\n",
       " 15    1\n",
       " 16    1\n",
       " 17    1\n",
       " 18    1\n",
       " dtype: int64,\n",
       " 19)"
      ]
     },
     "execution_count": 8,
     "metadata": {},
     "output_type": "execute_result"
    }
   ],
   "source": [
    "tsd = al.diff(ts)\n",
    "tsd, len(tsd)"
   ]
  },
  {
   "cell_type": "markdown",
   "id": "1abfc006",
   "metadata": {},
   "source": [
    "## Advanced functions"
   ]
  },
  {
   "cell_type": "code",
   "execution_count": 9,
   "id": "44f6ab61",
   "metadata": {},
   "outputs": [
    {
     "name": "stdout",
     "output_type": "stream",
     "text": [
      "Help on method linspace in module carbon.simulators.sim_analytics:\n",
      "\n",
      "linspace(xmax, nint=10, eps=None, eps2=None) method of builtins.type instance\n",
      "    generates a linearly spaced vector of floats (0+eps, x1, x2, ... xmax*(1-eps2))\n",
      "    \n",
      "    :xmax:          maximum x to be generated\n",
      "    :nint:          number of intervals, ie numper of points - 1\n",
      "    \n",
      "    The function generates nint equally space intervals (nint+1 points), starting\n",
      "    from ~0 and ending at ~xmax. The intermediate points are based on the exact\n",
      "    interval (0, xmax). Once the series has been generated to following adjustments\n",
      "    are made for numerical stability reasons\n",
      "    \n",
      "        vec[0]  = eps\n",
      "        vec[-1] = (1-eps2) * maxx\n",
      "\n"
     ]
    }
   ],
   "source": [
    "help(al.linspace)"
   ]
  },
  {
   "cell_type": "code",
   "execution_count": 10,
   "id": "a99aa5fc",
   "metadata": {},
   "outputs": [
    {
     "name": "stdout",
     "output_type": "stream",
     "text": [
      "Help on method linspace in module carbon.simulators.sim_analytics:\n",
      "\n",
      "linspace(xmax, nint=10, eps=None, eps2=None) method of builtins.type instance\n",
      "    generates a linearly spaced vector of floats (0+eps, x1, x2, ... xmax*(1-eps2))\n",
      "    \n",
      "    :xmax:          maximum x to be generated\n",
      "    :nint:          number of intervals, ie numper of points - 1\n",
      "    \n",
      "    The function generates nint equally space intervals (nint+1 points), starting\n",
      "    from ~0 and ending at ~xmax. The intermediate points are based on the exact\n",
      "    interval (0, xmax). Once the series has been generated to following adjustments\n",
      "    are made for numerical stability reasons\n",
      "    \n",
      "        vec[0]  = eps\n",
      "        vec[-1] = (1-eps2) * maxx\n",
      "\n"
     ]
    }
   ],
   "source": [
    "help(A.linspace)"
   ]
  },
  {
   "cell_type": "code",
   "execution_count": 11,
   "id": "a90046e4",
   "metadata": {},
   "outputs": [
    {
     "data": {
      "text/plain": [
       "(0      0.0001\n",
       " 1     10.0000\n",
       " 2     20.0000\n",
       " 3     30.0000\n",
       " 4     40.0000\n",
       " 5     50.0000\n",
       " 6     60.0000\n",
       " 7     70.0000\n",
       " 8     80.0000\n",
       " 9     90.0000\n",
       " 10    99.9990\n",
       " dtype: float64,\n",
       " 11)"
      ]
     },
     "execution_count": 11,
     "metadata": {},
     "output_type": "execute_result"
    }
   ],
   "source": [
    "vec = al.linspace(100)\n",
    "vec, len(vec)"
   ]
  },
  {
   "cell_type": "code",
   "execution_count": 12,
   "id": "92292948",
   "metadata": {},
   "outputs": [
    {
     "name": "stdout",
     "output_type": "stream",
     "text": [
      "Help on function midpoints in module carbon.simulators.sim_analytics:\n",
      "\n",
      "midpoints(r)\n",
      "    calculates the midpoints: (x0, x1, x2, ...) -> (avg(x0,x1), avg(x1,x2), ...)\n",
      "\n"
     ]
    }
   ],
   "source": [
    "help(al.midpoints)"
   ]
  },
  {
   "cell_type": "code",
   "execution_count": 13,
   "id": "e33cf721",
   "metadata": {},
   "outputs": [
    {
     "name": "stdout",
     "output_type": "stream",
     "text": [
      "Help on function midpoints in module carbon.simulators.sim_analytics:\n",
      "\n",
      "midpoints(r)\n",
      "    calculates the midpoints: (x0, x1, x2, ...) -> (avg(x0,x1), avg(x1,x2), ...)\n",
      "\n"
     ]
    }
   ],
   "source": [
    "help(A.midpoints)"
   ]
  },
  {
   "cell_type": "code",
   "execution_count": 14,
   "id": "2e4791b9",
   "metadata": {},
   "outputs": [
    {
     "data": {
      "text/plain": [
       "(0     5.00005\n",
       " 1    15.00000\n",
       " 2    25.00000\n",
       " 3    35.00000\n",
       " 4    45.00000\n",
       " 5    55.00000\n",
       " 6    65.00000\n",
       " 7    75.00000\n",
       " 8    85.00000\n",
       " 9    94.99950\n",
       " dtype: float64,\n",
       " 10)"
      ]
     },
     "execution_count": 14,
     "metadata": {},
     "output_type": "execute_result"
    }
   ],
   "source": [
    "vec2 = al.midpoints(vec)\n",
    "vec2, len(vec2)"
   ]
  },
  {
   "cell_type": "code",
   "execution_count": 15,
   "id": "ce0a830d",
   "metadata": {},
   "outputs": [
    {
     "name": "stdout",
     "output_type": "stream",
     "text": [
      "Help on function diff in module carbon.simulators.sim_analytics:\n",
      "\n",
      "diff(vec)\n",
      "    calculates the differences: (x0, x1, x2, ...) -> (x1-x0, x2-x1, ...)\n",
      "\n"
     ]
    }
   ],
   "source": [
    "help(al.diff)"
   ]
  },
  {
   "cell_type": "code",
   "execution_count": 16,
   "id": "3ea25721",
   "metadata": {},
   "outputs": [
    {
     "name": "stdout",
     "output_type": "stream",
     "text": [
      "Help on function diff in module carbon.simulators.sim_analytics:\n",
      "\n",
      "diff(vec)\n",
      "    calculates the differences: (x0, x1, x2, ...) -> (x1-x0, x2-x1, ...)\n",
      "\n"
     ]
    }
   ],
   "source": [
    "help(A.diff)"
   ]
  },
  {
   "cell_type": "code",
   "execution_count": 17,
   "id": "03818df2",
   "metadata": {},
   "outputs": [
    {
     "data": {
      "text/plain": [
       "(0     9.9999\n",
       " 1    10.0000\n",
       " 2    10.0000\n",
       " 3    10.0000\n",
       " 4    10.0000\n",
       " 5    10.0000\n",
       " 6    10.0000\n",
       " 7    10.0000\n",
       " 8    10.0000\n",
       " 9     9.9990\n",
       " dtype: float64,\n",
       " 10)"
      ]
     },
     "execution_count": 17,
     "metadata": {},
     "output_type": "execute_result"
    }
   ],
   "source": [
    "vecd = al.diff(vec)\n",
    "vecd, len(vecd)"
   ]
  },
  {
   "cell_type": "code",
   "execution_count": null,
   "id": "cc937656",
   "metadata": {},
   "outputs": [],
   "source": []
  }
 ],
 "metadata": {
  "jupytext": {
   "encoding": "# -*- coding: utf-8 -*-",
   "formats": "ipynb,py:light"
  },
  "kernelspec": {
   "display_name": "Python 3",
   "language": "python",
   "name": "python3"
  },
  "language_info": {
   "codemirror_mode": {
    "name": "ipython",
    "version": 3
   },
   "file_extension": ".py",
   "mimetype": "text/x-python",
   "name": "python",
   "nbconvert_exporter": "python",
   "pygments_lexer": "ipython3",
   "version": "3.8.8"
  }
 },
 "nbformat": 4,
 "nbformat_minor": 5
}
