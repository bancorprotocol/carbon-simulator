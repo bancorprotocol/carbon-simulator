{
 "cells": [
  {
   "cell_type": "code",
   "execution_count": 1,
   "id": "ed525c67",
   "metadata": {},
   "outputs": [
    {
     "name": "stdout",
     "output_type": "stream",
     "text": [
      "Carbon v2.3-BETA1 (23/Jan/2022)\n",
      "CarbonSimulatorUI v2.5 (25/Jan/2023)\n",
      "CarbonOrderUI v1.6.1 (21/Jan/2023)\n"
     ]
    }
   ],
   "source": [
    "from carbon import CarbonSimulatorUI, CarbonOrderUI, P, __version__, __date__\n",
    "# from math import sqrt\n",
    "# import numpy as np\n",
    "# from matplotlib import pyplot as plt\n",
    "#plt.style.use('seaborn-dark')\n",
    "print(f\"Carbon v{__version__} ({__date__})\")\n",
    "print(\"{0.__name__} v{0.__VERSION__} ({0.__DATE__})\".format(CarbonSimulatorUI))\n",
    "print(\"{0.__name__} v{0.__VERSION__} ({0.__DATE__})\".format(CarbonOrderUI))"
   ]
  },
  {
   "cell_type": "markdown",
   "id": "795b0a19",
   "metadata": {},
   "source": [
    "# Marginal Prices and Yint (NBTest 53)"
   ]
  },
  {
   "cell_type": "markdown",
   "id": "f86cee7e",
   "metadata": {
    "lines_to_next_cell": 2
   },
   "source": [
    "NBTEST: NOTEST_DEFAULT = TEST"
   ]
  },
  {
   "cell_type": "markdown",
   "id": "2bf87163",
   "metadata": {},
   "source": [
    "## tests fail"
   ]
  },
  {
   "cell_type": "code",
   "execution_count": 2,
   "id": "e868e7be",
   "metadata": {},
   "outputs": [],
   "source": [
    "#assert False, \"This notebook would fail were the failing tests not commented out\"\n",
    "assert True"
   ]
  },
  {
   "cell_type": "markdown",
   "id": "ad2cb587",
   "metadata": {},
   "source": [
    "## add_strategy"
   ]
  },
  {
   "cell_type": "code",
   "execution_count": 3,
   "id": "bd0be56f",
   "metadata": {},
   "outputs": [],
   "source": [
    "Sim = CarbonSimulatorUI(pair=\"ETH/USDC\", raiseonerror=True)"
   ]
  },
  {
   "cell_type": "code",
   "execution_count": 4,
   "id": "bf2d258b",
   "metadata": {},
   "outputs": [
    {
     "data": {
      "text/html": [
       "<div>\n",
       "<style scoped>\n",
       "    .dataframe tbody tr th:only-of-type {\n",
       "        vertical-align: middle;\n",
       "    }\n",
       "\n",
       "    .dataframe tbody tr th {\n",
       "        vertical-align: top;\n",
       "    }\n",
       "\n",
       "    .dataframe thead th {\n",
       "        text-align: right;\n",
       "    }\n",
       "</style>\n",
       "<table border=\"1\" class=\"dataframe\">\n",
       "  <thead>\n",
       "    <tr style=\"text-align: right;\">\n",
       "      <th></th>\n",
       "      <th>id</th>\n",
       "      <th>pair</th>\n",
       "      <th>tkn</th>\n",
       "      <th>y_int</th>\n",
       "      <th>y</th>\n",
       "      <th>y_unit</th>\n",
       "      <th>disabled</th>\n",
       "      <th>p_start</th>\n",
       "      <th>p_end</th>\n",
       "      <th>p_marg</th>\n",
       "      <th>p_unit</th>\n",
       "      <th>lid</th>\n",
       "    </tr>\n",
       "  </thead>\n",
       "  <tbody>\n",
       "    <tr>\n",
       "      <th>0</th>\n",
       "      <td>0</td>\n",
       "      <td>ETHUSDC</td>\n",
       "      <td>ETH</td>\n",
       "      <td>1.0</td>\n",
       "      <td>1.0</td>\n",
       "      <td>ETH</td>\n",
       "      <td>False</td>\n",
       "      <td>2000.0</td>\n",
       "      <td>3000.0</td>\n",
       "      <td>2000.0</td>\n",
       "      <td>USDC per ETH</td>\n",
       "      <td>1</td>\n",
       "    </tr>\n",
       "    <tr>\n",
       "      <th>1</th>\n",
       "      <td>1</td>\n",
       "      <td>ETHUSDC</td>\n",
       "      <td>USDC</td>\n",
       "      <td>1500.0</td>\n",
       "      <td>1500.0</td>\n",
       "      <td>USDC</td>\n",
       "      <td>False</td>\n",
       "      <td>1000.0</td>\n",
       "      <td>750.0</td>\n",
       "      <td>1000.0</td>\n",
       "      <td>USDC per ETH</td>\n",
       "      <td>0</td>\n",
       "    </tr>\n",
       "  </tbody>\n",
       "</table>\n",
       "</div>"
      ],
      "text/plain": [
       "   id     pair   tkn   y_int       y y_unit  disabled  p_start   p_end  \\\n",
       "0   0  ETHUSDC   ETH     1.0     1.0    ETH     False   2000.0  3000.0   \n",
       "1   1  ETHUSDC  USDC  1500.0  1500.0   USDC     False   1000.0   750.0   \n",
       "\n",
       "   p_marg        p_unit  lid  \n",
       "0  2000.0  USDC per ETH    1  \n",
       "1  1000.0  USDC per ETH    0  "
      ]
     },
     "execution_count": 4,
     "metadata": {},
     "output_type": "execute_result"
    }
   ],
   "source": [
    "r = Sim.add_strategy(\"ETH\", 1, 2000, 3000, 1500, 1000, 750)[\"orders\"]\n",
    "r"
   ]
  },
  {
   "cell_type": "code",
   "execution_count": 5,
   "id": "eb513349",
   "metadata": {},
   "outputs": [],
   "source": [
    "assert r.iloc[0][\"p_start\"]    == 2000\n",
    "assert r.iloc[0][\"p_end\"]      == 3000\n",
    "assert r.iloc[0][\"p_marg\"]     == 2000\n",
    "assert r.iloc[0][\"y_int\"]      == 1\n",
    "assert r.iloc[0][\"y\"]          == 1\n",
    "\n",
    "assert r.iloc[1][\"p_start\"]    == 1000\n",
    "assert r.iloc[1][\"p_end\"]      == 750\n",
    "assert r.iloc[1][\"p_marg\"]     == 1000\n",
    "assert r.iloc[1][\"y_int\"]      == 1500\n",
    "assert r.iloc[1][\"y\"]          == 1500"
   ]
  },
  {
   "cell_type": "code",
   "execution_count": 6,
   "id": "14d1d2f7",
   "metadata": {},
   "outputs": [
    {
     "data": {
      "text/html": [
       "<div>\n",
       "<style scoped>\n",
       "    .dataframe tbody tr th:only-of-type {\n",
       "        vertical-align: middle;\n",
       "    }\n",
       "\n",
       "    .dataframe tbody tr th {\n",
       "        vertical-align: top;\n",
       "    }\n",
       "\n",
       "    .dataframe thead th {\n",
       "        text-align: right;\n",
       "    }\n",
       "</style>\n",
       "<table border=\"1\" class=\"dataframe\">\n",
       "  <thead>\n",
       "    <tr style=\"text-align: right;\">\n",
       "      <th></th>\n",
       "      <th>id</th>\n",
       "      <th>pair</th>\n",
       "      <th>tkn</th>\n",
       "      <th>y_int</th>\n",
       "      <th>y</th>\n",
       "      <th>y_unit</th>\n",
       "      <th>disabled</th>\n",
       "      <th>p_start</th>\n",
       "      <th>p_end</th>\n",
       "      <th>p_marg</th>\n",
       "      <th>p_unit</th>\n",
       "      <th>lid</th>\n",
       "    </tr>\n",
       "  </thead>\n",
       "  <tbody>\n",
       "    <tr>\n",
       "      <th>2</th>\n",
       "      <td>2</td>\n",
       "      <td>ETHUSDC</td>\n",
       "      <td>ETH</td>\n",
       "      <td>2.354703</td>\n",
       "      <td>1.0</td>\n",
       "      <td>ETH</td>\n",
       "      <td>False</td>\n",
       "      <td>2000.0</td>\n",
       "      <td>3000.0</td>\n",
       "      <td>2500.0</td>\n",
       "      <td>USDC per ETH</td>\n",
       "      <td>3</td>\n",
       "    </tr>\n",
       "    <tr>\n",
       "      <th>3</th>\n",
       "      <td>3</td>\n",
       "      <td>ETHUSDC</td>\n",
       "      <td>USDC</td>\n",
       "      <td>2431.248656</td>\n",
       "      <td>1500.0</td>\n",
       "      <td>USDC</td>\n",
       "      <td>False</td>\n",
       "      <td>1000.0</td>\n",
       "      <td>750.0</td>\n",
       "      <td>900.0</td>\n",
       "      <td>USDC per ETH</td>\n",
       "      <td>2</td>\n",
       "    </tr>\n",
       "  </tbody>\n",
       "</table>\n",
       "</div>"
      ],
      "text/plain": [
       "   id     pair   tkn        y_int       y y_unit  disabled  p_start   p_end  \\\n",
       "2   2  ETHUSDC   ETH     2.354703     1.0    ETH     False   2000.0  3000.0   \n",
       "3   3  ETHUSDC  USDC  2431.248656  1500.0   USDC     False   1000.0   750.0   \n",
       "\n",
       "   p_marg        p_unit  lid  \n",
       "2  2500.0  USDC per ETH    3  \n",
       "3   900.0  USDC per ETH    2  "
      ]
     },
     "execution_count": 6,
     "metadata": {},
     "output_type": "execute_result"
    }
   ],
   "source": [
    "r = Sim.add_strategy(\"ETH\", 1, 2000, 3000, 1500, 1000, 750, psell_marginal=2500, pbuy_marginal=900)[\"orders\"]\n",
    "r"
   ]
  },
  {
   "cell_type": "code",
   "execution_count": 7,
   "id": "a78c5b2c",
   "metadata": {},
   "outputs": [],
   "source": [
    "assert r.iloc[0][\"p_start\"]    == 2000\n",
    "assert r.iloc[0][\"p_end\"]      == 3000\n",
    "assert r.iloc[0][\"p_marg\"]     == 2500\n",
    "assert r.iloc[0][\"y_int\"]      >  r.iloc[0][\"y\"] \n",
    "assert r.iloc[0][\"y\"]          == 1\n",
    "\n",
    "assert r.iloc[1][\"p_start\"]    == 1000\n",
    "assert r.iloc[1][\"p_end\"]      == 750\n",
    "assert r.iloc[1][\"p_marg\"]     == 900\n",
    "assert r.iloc[1][\"y_int\"]      >  r.iloc[1][\"y\"] \n",
    "assert r.iloc[1][\"y\"]          == 1500"
   ]
  },
  {
   "cell_type": "code",
   "execution_count": 8,
   "id": "4f17018e",
   "metadata": {},
   "outputs": [],
   "source": [
    "# r = Sim.add_strategy(\"ETH\", 1, 2000, 3000, 1500, 1000, 750, y_int_sell=2, y_int_buy=3000)[\"orders\"]\n",
    "# r"
   ]
  },
  {
   "cell_type": "code",
   "execution_count": 9,
   "id": "6f84ef64",
   "metadata": {},
   "outputs": [],
   "source": [
    "# assert r.iloc[0][\"p_start\"]    == 2000\n",
    "# assert r.iloc[0][\"p_end\"]      == 3000\n",
    "# #assert r.iloc[0][\"p_marg\"]     >  r.iloc[0][\"p_start\"]\n",
    "# assert r.iloc[0][\"y_int\"]      == 2\n",
    "# #assert r.iloc[0][\"y\"]          == 1\n",
    "\n",
    "# assert r.iloc[1][\"p_start\"]    == 1000\n",
    "# assert r.iloc[1][\"p_end\"]      == 750\n",
    "# #assert r.iloc[1][\"p_marg\"]     <  r.iloc[1][\"p_start\"]\n",
    "# assert r.iloc[1][\"y_int\"]      == 3000\n",
    "# #assert r.iloc[1][\"y\"]          == 1500"
   ]
  },
  {
   "cell_type": "code",
   "execution_count": 10,
   "id": "bd51a20a",
   "metadata": {},
   "outputs": [
    {
     "data": {
      "text/plain": [
       "{'success': True,\n",
       " 'orders':    id    pair  tkn     y_int    y y_unit  disabled p_start    p_end  \\\n",
       " 0   0  RSKCSH  RSK  1.199057  1.0    RSK     False   102.5  107.625   \n",
       " 1   1  RSKCSH  CSH  0.000000  0.0    CSH      True    None     None   \n",
       " \n",
       "        p_marg       p_unit  lid  \n",
       " 0  103.325125  CSH per RSK    1  \n",
       " 1        None  CSH per RSK    0  ,\n",
       " 'orderuis': {0: CarbonOrderUI(pair=RSK/CSH, tkn=RSK, B=0.09639253854237598, S=0.002380421122582993, yint=1.1990570566488525, y=1.0, id=0, linked=None),\n",
       "  1: CarbonOrderUI(pair=RSK/CSH, tkn=CSH, B=0.0, S=0.0, yint=0.0, y=0.0, id=1, linked=None)}}"
      ]
     },
     "execution_count": 10,
     "metadata": {},
     "output_type": "execute_result"
    }
   ],
   "source": [
    "Sim = CarbonSimulatorUI(pair=\"ETH/USDC\", raiseonerror=True)\n",
    "r = Sim.add_strategy(**{\n",
    "    'tkn': 'RSK',\n",
    "    'amt_sell': 1.0,\n",
    "    'psell_start': 102.49999999999999,\n",
    "    'psell_end': 107.62499999999999,\n",
    "    'psell_marginal': 103.32512499999999, \n",
    "    'pair': 'RSK/CSH'\n",
    "})\n",
    "r"
   ]
  },
  {
   "cell_type": "code",
   "execution_count": 11,
   "id": "e012bcf3",
   "metadata": {},
   "outputs": [],
   "source": [
    "Sim = CarbonSimulatorUI(pair=\"ETH/USDC\", raiseonerror=True)\n",
    "r = Sim.add_strategy(**{\n",
    "    'tkn': 'RSK', \n",
    "    'amt_sell': 1.0, \n",
    "    'psell_start': 102.49999999999999, \n",
    "    'psell_end': 107.62499999999999, \n",
    "    'amt_buy': 0.001, \n",
    "    'pbuy_start': 97.5609756097561, \n",
    "    'pbuy_end': 92.91521486643438, \n",
    "    'pair': 'RSK/CSH', \n",
    "    'psell_marginal': 103.32512499999999, \n",
    "    'pbuy_marginal': 96.8130081300813\n",
    "})"
   ]
  },
  {
   "cell_type": "markdown",
   "id": "1292f587",
   "metadata": {},
   "source": [
    "## add_order"
   ]
  },
  {
   "cell_type": "code",
   "execution_count": 12,
   "id": "f840f184",
   "metadata": {},
   "outputs": [],
   "source": [
    "Sim = CarbonSimulatorUI(pair=\"ETH/USDC\", raiseonerror=True)"
   ]
  },
  {
   "cell_type": "code",
   "execution_count": 13,
   "id": "b3d8f80d",
   "metadata": {},
   "outputs": [
    {
     "data": {
      "text/html": [
       "<div>\n",
       "<style scoped>\n",
       "    .dataframe tbody tr th:only-of-type {\n",
       "        vertical-align: middle;\n",
       "    }\n",
       "\n",
       "    .dataframe tbody tr th {\n",
       "        vertical-align: top;\n",
       "    }\n",
       "\n",
       "    .dataframe thead th {\n",
       "        text-align: right;\n",
       "    }\n",
       "</style>\n",
       "<table border=\"1\" class=\"dataframe\">\n",
       "  <thead>\n",
       "    <tr style=\"text-align: right;\">\n",
       "      <th></th>\n",
       "      <th>id</th>\n",
       "      <th>pair</th>\n",
       "      <th>tkn</th>\n",
       "      <th>y_int</th>\n",
       "      <th>y</th>\n",
       "      <th>y_unit</th>\n",
       "      <th>disabled</th>\n",
       "      <th>p_start</th>\n",
       "      <th>p_end</th>\n",
       "      <th>p_marg</th>\n",
       "      <th>p_unit</th>\n",
       "      <th>lid</th>\n",
       "    </tr>\n",
       "  </thead>\n",
       "  <tbody>\n",
       "    <tr>\n",
       "      <th>0</th>\n",
       "      <td>0</td>\n",
       "      <td>ETHUSDC</td>\n",
       "      <td>ETH</td>\n",
       "      <td>1.0</td>\n",
       "      <td>1.0</td>\n",
       "      <td>ETH</td>\n",
       "      <td>False</td>\n",
       "      <td>2000.0</td>\n",
       "      <td>3000.0</td>\n",
       "      <td>2000.0</td>\n",
       "      <td>USDC per ETH</td>\n",
       "      <td>1</td>\n",
       "    </tr>\n",
       "    <tr>\n",
       "      <th>1</th>\n",
       "      <td>1</td>\n",
       "      <td>ETHUSDC</td>\n",
       "      <td>USDC</td>\n",
       "      <td>0.0</td>\n",
       "      <td>0.0</td>\n",
       "      <td>USDC</td>\n",
       "      <td>True</td>\n",
       "      <td>None</td>\n",
       "      <td>None</td>\n",
       "      <td>None</td>\n",
       "      <td>USDC per ETH</td>\n",
       "      <td>0</td>\n",
       "    </tr>\n",
       "  </tbody>\n",
       "</table>\n",
       "</div>"
      ],
      "text/plain": [
       "   id     pair   tkn  y_int    y y_unit  disabled p_start   p_end  p_marg  \\\n",
       "0   0  ETHUSDC   ETH    1.0  1.0    ETH     False  2000.0  3000.0  2000.0   \n",
       "1   1  ETHUSDC  USDC    0.0  0.0   USDC      True    None    None    None   \n",
       "\n",
       "         p_unit  lid  \n",
       "0  USDC per ETH    1  \n",
       "1  USDC per ETH    0  "
      ]
     },
     "execution_count": 13,
     "metadata": {},
     "output_type": "execute_result"
    }
   ],
   "source": [
    "r = Sim.add_order(\"ETH\", 1, 2000, 3000)[\"orders\"]\n",
    "r"
   ]
  },
  {
   "cell_type": "code",
   "execution_count": 14,
   "id": "18ac16e8",
   "metadata": {},
   "outputs": [],
   "source": [
    "assert r.iloc[0][\"p_start\"]    == 2000\n",
    "assert r.iloc[0][\"p_end\"]      == 3000\n",
    "assert r.iloc[0][\"p_marg\"]     == 2000\n",
    "assert r.iloc[0][\"y_int\"]      == 1\n",
    "assert r.iloc[0][\"y\"]          == 1"
   ]
  },
  {
   "cell_type": "code",
   "execution_count": 15,
   "id": "447ca8f5",
   "metadata": {},
   "outputs": [
    {
     "data": {
      "text/html": [
       "<div>\n",
       "<style scoped>\n",
       "    .dataframe tbody tr th:only-of-type {\n",
       "        vertical-align: middle;\n",
       "    }\n",
       "\n",
       "    .dataframe tbody tr th {\n",
       "        vertical-align: top;\n",
       "    }\n",
       "\n",
       "    .dataframe thead th {\n",
       "        text-align: right;\n",
       "    }\n",
       "</style>\n",
       "<table border=\"1\" class=\"dataframe\">\n",
       "  <thead>\n",
       "    <tr style=\"text-align: right;\">\n",
       "      <th></th>\n",
       "      <th>id</th>\n",
       "      <th>pair</th>\n",
       "      <th>tkn</th>\n",
       "      <th>y_int</th>\n",
       "      <th>y</th>\n",
       "      <th>y_unit</th>\n",
       "      <th>disabled</th>\n",
       "      <th>p_start</th>\n",
       "      <th>p_end</th>\n",
       "      <th>p_marg</th>\n",
       "      <th>p_unit</th>\n",
       "      <th>lid</th>\n",
       "    </tr>\n",
       "  </thead>\n",
       "  <tbody>\n",
       "    <tr>\n",
       "      <th>2</th>\n",
       "      <td>2</td>\n",
       "      <td>ETHUSDC</td>\n",
       "      <td>ETH</td>\n",
       "      <td>2.354703</td>\n",
       "      <td>1.0</td>\n",
       "      <td>ETH</td>\n",
       "      <td>False</td>\n",
       "      <td>2000.0</td>\n",
       "      <td>3000.0</td>\n",
       "      <td>2500.0</td>\n",
       "      <td>USDC per ETH</td>\n",
       "      <td>3</td>\n",
       "    </tr>\n",
       "    <tr>\n",
       "      <th>3</th>\n",
       "      <td>3</td>\n",
       "      <td>ETHUSDC</td>\n",
       "      <td>USDC</td>\n",
       "      <td>0.000000</td>\n",
       "      <td>0.0</td>\n",
       "      <td>USDC</td>\n",
       "      <td>True</td>\n",
       "      <td>None</td>\n",
       "      <td>None</td>\n",
       "      <td>None</td>\n",
       "      <td>USDC per ETH</td>\n",
       "      <td>2</td>\n",
       "    </tr>\n",
       "  </tbody>\n",
       "</table>\n",
       "</div>"
      ],
      "text/plain": [
       "   id     pair   tkn     y_int    y y_unit  disabled p_start   p_end  p_marg  \\\n",
       "2   2  ETHUSDC   ETH  2.354703  1.0    ETH     False  2000.0  3000.0  2500.0   \n",
       "3   3  ETHUSDC  USDC  0.000000  0.0   USDC      True    None    None    None   \n",
       "\n",
       "         p_unit  lid  \n",
       "2  USDC per ETH    3  \n",
       "3  USDC per ETH    2  "
      ]
     },
     "execution_count": 15,
     "metadata": {},
     "output_type": "execute_result"
    }
   ],
   "source": [
    "r = Sim.add_order(\"ETH\", 1, 2000, 3000, p_marginal=2500)[\"orders\"]\n",
    "r"
   ]
  },
  {
   "cell_type": "code",
   "execution_count": 16,
   "id": "23d5e2ad",
   "metadata": {},
   "outputs": [],
   "source": [
    "assert r.iloc[0][\"p_start\"]    == 2000\n",
    "assert r.iloc[0][\"p_end\"]      == 3000\n",
    "assert r.iloc[0][\"p_marg\"]     == 2500\n",
    "assert r.iloc[0][\"y_int\"]      >  r.iloc[0][\"y\"] \n",
    "assert r.iloc[0][\"y\"]          == 1"
   ]
  },
  {
   "cell_type": "code",
   "execution_count": 17,
   "id": "3d78d2a2",
   "metadata": {},
   "outputs": [],
   "source": [
    "# r = Sim.add_order(\"ETH\", 1, 2000, 3000, y_int=2)[\"orders\"]\n",
    "# r"
   ]
  },
  {
   "cell_type": "code",
   "execution_count": 18,
   "id": "1563ab3a",
   "metadata": {
    "lines_to_next_cell": 0
   },
   "outputs": [],
   "source": [
    "# assert r.iloc[0][\"p_start\"]    == 2000\n",
    "# assert r.iloc[0][\"p_end\"]      == 3000\n",
    "# #assert r.iloc[0][\"p_marg\"]     >  r.iloc[0][\"p_start\"]\n",
    "# assert r.iloc[0][\"y_int\"]      == 2\n",
    "# #assert r.iloc[0][\"y\"]          == 1"
   ]
  },
  {
   "cell_type": "code",
   "execution_count": null,
   "id": "58acaed5",
   "metadata": {},
   "outputs": [],
   "source": []
  },
  {
   "cell_type": "code",
   "execution_count": null,
   "id": "61ddf853",
   "metadata": {
    "lines_to_next_cell": 2
   },
   "outputs": [],
   "source": []
  }
 ],
 "metadata": {
  "jupytext": {
   "formats": "ipynb,py:light"
  },
  "kernelspec": {
   "display_name": "Python 3",
   "language": "python",
   "name": "python3"
  },
  "language_info": {
   "codemirror_mode": {
    "name": "ipython",
    "version": 3
   },
   "file_extension": ".py",
   "mimetype": "text/x-python",
   "name": "python",
   "nbconvert_exporter": "python",
   "pygments_lexer": "ipython3",
   "version": "3.8.8"
  }
 },
 "nbformat": 4,
 "nbformat_minor": 5
}
