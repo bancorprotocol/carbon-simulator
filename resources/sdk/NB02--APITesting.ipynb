{
 "cells": [
  {
   "cell_type": "code",
   "execution_count": 34,
   "id": "a0855cc0-2db7-4341-b0ef-fcb343ca3636",
   "metadata": {},
   "outputs": [
    {
     "name": "stdout",
     "output_type": "stream",
     "text": [
      "CarbonSDK v0.9 (8/Mar/2023)\n",
      "v18.14.2\n"
     ]
    }
   ],
   "source": [
    "from carbon.sdk import CarbonSDK, Tokens as T\n",
    "from carbon import CarbonOrderUI, CarbonSimulatorUI, CarbonPair as P\n",
    "print(\"{0.__name__} v{0.__VERSION__} ({0.__DATE__})\".format(CarbonSDK))\n",
    "!node --version"
   ]
  },
  {
   "cell_type": "markdown",
   "id": "3650b16b-d020-4063-84c6-ab9fb7556552",
   "metadata": {},
   "source": [
    "# API Testing [NB02]\n",
    "\n",
    "In order to start the server, please run\n",
    "\n",
    "    source /Volumes/Private/bin/sdkserver\n",
    "    node server/sdkserver.mjs"
   ]
  },
  {
   "cell_type": "code",
   "execution_count": 35,
   "id": "a9066966-402f-4664-bc9a-5f37bc7be0f7",
   "metadata": {},
   "outputs": [
    {
     "name": "stdout",
     "output_type": "stream",
     "text": [
      "\n",
      "    ================================================================\n",
      "    WARNING: DO NOT USE IN PRODUCTION\n",
      "\n",
      "    This is a demo and testing wrapper for the Carbon SDK. YOU MUST \n",
      "    NOT USE THIS SDK, OR ITS ASSOCIATED NODEJS CODE IN PRODUCTION \n",
      "    WHEN FUNDS ARE AT RISK. See the disclaimer on the Carbon SDK \n",
      "    NodeJS server for more information.\n",
      "    ================================================================\n",
      "    \n"
     ]
    },
    {
     "data": {
      "text/plain": [
       "'Carbon SDK v0.9 (7/Mar/2022)'"
      ]
     },
     "execution_count": 35,
     "metadata": {},
     "output_type": "execute_result"
    }
   ],
   "source": [
    "SDK = CarbonSDK(disclaimer=True, verbose=False, Tokens=T)\n",
    "SDK.version().get(\"msg\")"
   ]
  },
  {
   "cell_type": "markdown",
   "id": "f6d27af4-d556-467b-af23-e62dadab9fcc",
   "metadata": {},
   "source": [
    "## Generic API calls"
   ]
  },
  {
   "cell_type": "markdown",
   "id": "2aefd11f-8b6d-40d0-99ae-dc5dff2f146b",
   "metadata": {},
   "source": [
    "### Call using `req`\n",
    "the only difference between `req` and `req0` is that the leading `api` must be omitted)"
   ]
  },
  {
   "cell_type": "code",
   "execution_count": 36,
   "id": "f41f44af-72be-4286-bd30-82169ef41073",
   "metadata": {},
   "outputs": [
    {
     "name": "stdout",
     "output_type": "stream",
     "text": [
      "Help on method req in module carbon.sdk.sdk:\n",
      "\n",
      "req(ep, params=None, method=None) method of carbon.sdk.sdk.CarbonSDK instance\n",
      "    execute a GET or POST request to the actual API\n",
      "    \n",
      "    :ep:        API endpoint, including the sync/async prefix (eg 'scall/plus')\n",
      "    :params:    params transmitted to the API (POST only)\n",
      "    :method:    self.GET or self.POST\n",
      "\n"
     ]
    }
   ],
   "source": [
    "help(SDK.req)"
   ]
  },
  {
   "cell_type": "code",
   "execution_count": 37,
   "id": "556f8072-4a40-4e57-b69d-026a3ba03d13",
   "metadata": {},
   "outputs": [
    {
     "data": {
      "text/plain": [
       "{'success': True, 'data': {'func': 'qplus', 'a': 3, 'b': 5, 'result': 8}}"
      ]
     },
     "execution_count": 37,
     "metadata": {},
     "output_type": "execute_result"
    }
   ],
   "source": [
    "r = SDK.req(\"scall/qplus\", params={\"a\":3, \"b\":5}, method=SDK.POST)\n",
    "r.json()"
   ]
  },
  {
   "cell_type": "markdown",
   "id": "e2c9e4df-9900-4052-be10-c5a1dfabc82e",
   "metadata": {},
   "source": [
    "### Call using `call`\n",
    "call only works for the `scall` / `ascall` subapis; which one is chosen, and how results are returned, depends on the `sync` parameter; also whether to GET or POST can be implied from the existence of the `params` parameter"
   ]
  },
  {
   "cell_type": "code",
   "execution_count": 38,
   "id": "8cdce957-db89-4eee-93a0-c29086ab0d17",
   "metadata": {},
   "outputs": [
    {
     "name": "stdout",
     "output_type": "stream",
     "text": [
      "Help on method call in module carbon.sdk.sdk:\n",
      "\n",
      "call(ep, params=None, method=None, sync=None) method of carbon.sdk.sdk.CarbonSDK instance\n",
      "    execute a GET or POST request to the (sync or async) call API \n",
      "    \n",
      "    :ep:        API endpoint, with the sync/async prefix (eg 'plus')\n",
      "    :params:    params transmitted to the API (POST only)\n",
      "    :method:    self.GET or self.POST\n",
      "    :sync:      whether to call sync or async\n",
      "\n"
     ]
    }
   ],
   "source": [
    "help(SDK.call)"
   ]
  },
  {
   "cell_type": "code",
   "execution_count": 39,
   "id": "3fad2513-7fc5-4310-96a3-47d5273fdaab",
   "metadata": {},
   "outputs": [
    {
     "data": {
      "text/plain": [
       "{'success': True, 'data': {'func': 'qplus', 'a': 3, 'b': 5, 'result': 8}}"
      ]
     },
     "execution_count": 39,
     "metadata": {},
     "output_type": "execute_result"
    }
   ],
   "source": [
    "r = SDK.call(\"qplus\", params={\"a\":3, \"b\":5}, sync=True)\n",
    "r.json()"
   ]
  },
  {
   "cell_type": "markdown",
   "id": "0c089e00-22a8-4b8f-ad16-c31c44916de6",
   "metadata": {},
   "source": [
    "## Market information endpoints"
   ]
  },
  {
   "cell_type": "markdown",
   "id": "1fc98c06-f9b5-455f-b6fb-0dda1f113c78",
   "metadata": {},
   "source": [
    "#### `pairs` -- information about all available pairs\n",
    "\n",
    "The `pairs` endpoint provides a list of all available pairs, or rather their contract addresses. If a `Tokens` container is available on the object the addresses are converted into token objects (where available)."
   ]
  },
  {
   "cell_type": "code",
   "execution_count": 92,
   "id": "0fd8c47a-78d2-4bd6-b180-349c92981726",
   "metadata": {},
   "outputs": [
    {
     "name": "stdout",
     "output_type": "stream",
     "text": [
      "USDC/USDT, USDC/ETH, BNT/USDT, BNT/USDC, USDT/ETH, WBTC/USDC, DAI/MATIC, LINK/USDC, DAI/ETH, MKR/USDC, DAI/USDC, UNI/USDC, DAI/BNB\n"
     ]
    },
    {
     "data": {
      "text/plain": [
       "[[SDKToken(token='USDC', address='0xa0b86991c6218b36c1d19d4a2e9eb0ce3606eb48', decimals=6, name='USDC'),\n",
       "  SDKToken(token='USDT', address='0xdac17f958d2ee523a2206206994597c13d831ec7', decimals=6, name='USDT')]]"
      ]
     },
     "execution_count": 92,
     "metadata": {},
     "output_type": "execute_result"
    }
   ],
   "source": [
    "pairs, pairs_s = SDK.pairs(inclstr=True)\n",
    "print(pairs_s)\n",
    "pairs[:1]"
   ]
  },
  {
   "cell_type": "markdown",
   "id": "8719e1ee-2a17-46e7-924f-1baf95065ac9",
   "metadata": {},
   "source": [
    "#### `hasLiquidityByPair` -- whether a given pair has any liquidity"
   ]
  },
  {
   "cell_type": "code",
   "execution_count": 41,
   "id": "f4340edc-cf42-4814-96e2-2d5866ad333e",
   "metadata": {},
   "outputs": [
    {
     "data": {
      "text/plain": [
       "True"
      ]
     },
     "execution_count": 41,
     "metadata": {},
     "output_type": "execute_result"
    }
   ],
   "source": [
    "SDK.hasLiquidityByPair(sourceTokenAddr=T.USDC.a, targetTokenAddr=T.ETH.a)"
   ]
  },
  {
   "cell_type": "code",
   "execution_count": 42,
   "id": "985f6186-6f0c-4266-8e6f-f4769f71a0a7",
   "metadata": {},
   "outputs": [
    {
     "data": {
      "text/plain": [
       "True"
      ]
     },
     "execution_count": 42,
     "metadata": {},
     "output_type": "execute_result"
    }
   ],
   "source": [
    "SDK.hasLiquidityByPair(sourceTokenAddr=T.ETH.a, targetTokenAddr=T.USDC.a)"
   ]
  },
  {
   "cell_type": "markdown",
   "id": "5326f020-96be-47c9-a9c9-d7a9410297a0",
   "metadata": {},
   "source": [
    "#### `mHasLiquidityByPair` -- whether a given pair has any liquidity (modified)"
   ]
  },
  {
   "cell_type": "code",
   "execution_count": 43,
   "id": "9260f0c7-b54a-4055-b7b7-f0828f570ba0",
   "metadata": {},
   "outputs": [
    {
     "data": {
      "text/plain": [
       "True"
      ]
     },
     "execution_count": 43,
     "metadata": {},
     "output_type": "execute_result"
    }
   ],
   "source": [
    "SDK.mHasLiquidityByPair(pair=P(\"ETH/USDC\"), AMMsells=\"ETH\")"
   ]
  },
  {
   "cell_type": "code",
   "execution_count": 44,
   "id": "f214ae12-8b22-4329-97dd-0dee01707eb1",
   "metadata": {},
   "outputs": [
    {
     "data": {
      "text/plain": [
       "True"
      ]
     },
     "execution_count": 44,
     "metadata": {},
     "output_type": "execute_result"
    }
   ],
   "source": [
    "SDK.mHasLiquidityByPair(pair=P(\"ETH/USDC\"), AMMsells=\"USDC\")"
   ]
  },
  {
   "cell_type": "markdown",
   "id": "20c4a0e0-aff8-4fc8-ada6-237a0081ad48",
   "metadata": {},
   "source": [
    "#### mHasLiquidityByPairs"
   ]
  },
  {
   "cell_type": "code",
   "execution_count": 45,
   "id": "fa703702-99f0-463d-a662-04e85aab8105",
   "metadata": {},
   "outputs": [
    {
     "data": {
      "text/plain": [
       "({'pair': P('ETH/USDC'), 'AMMsells': 'USDC', 'hasLiquidity': True},\n",
       " {'pair': P('ETH/USDC'), 'AMMsells': 'ETH', 'hasLiquidity': True},\n",
       " {'pair': P('BNT/USDT'), 'AMMsells': 'USDT', 'hasLiquidity': True},\n",
       " {'pair': P('BNT/USDT'), 'AMMsells': 'BNT', 'hasLiquidity': True},\n",
       " {'pair': P('LINK/AAVE'), 'AMMsells': 'AAVE', 'hasLiquidity': False},\n",
       " {'pair': P('LINK/AAVE'), 'AMMsells': 'LINK', 'hasLiquidity': False})"
      ]
     },
     "execution_count": 45,
     "metadata": {},
     "output_type": "execute_result"
    }
   ],
   "source": [
    "SDK.mHasLiquidityByPairs(pairs=[P(\"ETH/USDC\"), P(\"BNT/USDT\"), P(\"LINK/AAVE\")])"
   ]
  },
  {
   "cell_type": "code",
   "execution_count": 46,
   "id": "aa450a57-0e87-45af-bb44-580bec145242",
   "metadata": {},
   "outputs": [
    {
     "data": {
      "text/plain": [
       "({'pair': P('ETH/USDC'), 'AMMsells': 'USDC', 'hasLiquidity': True},\n",
       " {'pair': P('ETH/USDC'), 'AMMsells': 'ETH', 'hasLiquidity': True},\n",
       " {'pair': P('BNT/USDT'), 'AMMsells': 'USDT', 'hasLiquidity': True},\n",
       " {'pair': P('BNT/USDT'), 'AMMsells': 'BNT', 'hasLiquidity': True},\n",
       " {'pair': P('LINK/AAVE'), 'AMMsells': 'AAVE', 'hasLiquidity': False},\n",
       " {'pair': P('LINK/AAVE'), 'AMMsells': 'LINK', 'hasLiquidity': False})"
      ]
     },
     "execution_count": 46,
     "metadata": {},
     "output_type": "execute_result"
    }
   ],
   "source": [
    "SDK.mHasLiquidityByPairs(pairs=[\"ETH/USDC\", \"BNT/USDT\", \"LINK/AAVE\"])"
   ]
  },
  {
   "cell_type": "code",
   "execution_count": 47,
   "id": "c441a59a-d7cc-41cf-b880-19cba3e9f1f5",
   "metadata": {},
   "outputs": [
    {
     "data": {
      "text/plain": [
       "({'pair': P('ETH/USDC'), 'AMMsells': 'USDC', 'hasLiquidity': True},\n",
       " {'pair': P('ETH/USDC'), 'AMMsells': 'ETH', 'hasLiquidity': True},\n",
       " {'pair': P('BNT/USDC'), 'AMMsells': 'USDC', 'hasLiquidity': False},\n",
       " {'pair': P('BNT/USDC'), 'AMMsells': 'BNT', 'hasLiquidity': False},\n",
       " {'pair': P('LINK/AAVE'), 'AMMsells': 'AAVE', 'hasLiquidity': False},\n",
       " {'pair': P('LINK/AAVE'), 'AMMsells': 'LINK', 'hasLiquidity': False})"
      ]
     },
     "execution_count": 47,
     "metadata": {},
     "output_type": "execute_result"
    }
   ],
   "source": [
    "SDK.mHasLiquidityByPairs(pairs=\"ETH/USDC, BNT/USDC, LINK/AAVE\")"
   ]
  },
  {
   "cell_type": "code",
   "execution_count": 48,
   "id": "ddb67f2e-447b-47c0-ae08-3561b32c289c",
   "metadata": {},
   "outputs": [
    {
     "data": {
      "text/plain": [
       "({'pair': P('USDC/USDT'), 'AMMsells': 'USDT', 'hasLiquidity': False},\n",
       " {'pair': P('USDC/USDT'), 'AMMsells': 'USDC', 'hasLiquidity': False},\n",
       " {'pair': P('USDC/ETH'), 'AMMsells': 'ETH', 'hasLiquidity': True},\n",
       " {'pair': P('USDC/ETH'), 'AMMsells': 'USDC', 'hasLiquidity': True},\n",
       " {'pair': P('BNT/USDT'), 'AMMsells': 'USDT', 'hasLiquidity': True},\n",
       " {'pair': P('BNT/USDT'), 'AMMsells': 'BNT', 'hasLiquidity': True},\n",
       " {'pair': P('BNT/USDC'), 'AMMsells': 'USDC', 'hasLiquidity': False},\n",
       " {'pair': P('BNT/USDC'), 'AMMsells': 'BNT', 'hasLiquidity': False},\n",
       " {'pair': P('USDT/ETH'), 'AMMsells': 'ETH', 'hasLiquidity': True},\n",
       " {'pair': P('USDT/ETH'), 'AMMsells': 'USDT', 'hasLiquidity': True},\n",
       " {'pair': P('WBTC/USDC'), 'AMMsells': 'USDC', 'hasLiquidity': True},\n",
       " {'pair': P('WBTC/USDC'), 'AMMsells': 'WBTC', 'hasLiquidity': True},\n",
       " {'pair': P('DAI/MATIC'), 'AMMsells': 'MATIC', 'hasLiquidity': True},\n",
       " {'pair': P('DAI/MATIC'), 'AMMsells': 'DAI', 'hasLiquidity': True},\n",
       " {'pair': P('LINK/USDC'), 'AMMsells': 'USDC', 'hasLiquidity': True},\n",
       " {'pair': P('LINK/USDC'), 'AMMsells': 'LINK', 'hasLiquidity': True},\n",
       " {'pair': P('DAI/ETH'), 'AMMsells': 'ETH', 'hasLiquidity': True},\n",
       " {'pair': P('DAI/ETH'), 'AMMsells': 'DAI', 'hasLiquidity': True},\n",
       " {'pair': P('MKR/USDC'), 'AMMsells': 'USDC', 'hasLiquidity': True},\n",
       " {'pair': P('MKR/USDC'), 'AMMsells': 'MKR', 'hasLiquidity': False},\n",
       " {'pair': P('DAI/USDC'), 'AMMsells': 'USDC', 'hasLiquidity': True},\n",
       " {'pair': P('DAI/USDC'), 'AMMsells': 'DAI', 'hasLiquidity': True},\n",
       " {'pair': P('UNI/USDC'), 'AMMsells': 'USDC', 'hasLiquidity': True},\n",
       " {'pair': P('UNI/USDC'), 'AMMsells': 'UNI', 'hasLiquidity': True},\n",
       " {'pair': P('DAI/BNB'), 'AMMsells': 'BNB', 'hasLiquidity': True},\n",
       " {'pair': P('DAI/BNB'), 'AMMsells': 'DAI', 'hasLiquidity': True})"
      ]
     },
     "execution_count": 48,
     "metadata": {},
     "output_type": "execute_result"
    }
   ],
   "source": [
    "SDK.mHasLiquidityByPairs(pairs=pairs_s)"
   ]
  },
  {
   "cell_type": "markdown",
   "id": "d4c5259a-2d8f-461a-842b-18da763dc487",
   "metadata": {},
   "source": [
    "#### `getLiquidityByPair` -- the amount of liquidity in a pair\n",
    "\n",
    "in units of the target token"
   ]
  },
  {
   "cell_type": "code",
   "execution_count": 49,
   "id": "a7c13d12-4f5c-41e1-bafd-ac7cd9bce758",
   "metadata": {},
   "outputs": [
    {
     "data": {
      "text/plain": [
       "142.2631466382123"
      ]
     },
     "execution_count": 49,
     "metadata": {},
     "output_type": "execute_result"
    }
   ],
   "source": [
    "SDK.getLiquidityByPair(sourceTokenAddr=T.USDC.a, targetTokenAddr=T.ETH.a)"
   ]
  },
  {
   "cell_type": "code",
   "execution_count": 50,
   "id": "211ba3ec-e57e-47cf-aa43-6e6850f1b01b",
   "metadata": {},
   "outputs": [
    {
     "data": {
      "text/plain": [
       "5270321.735909"
      ]
     },
     "execution_count": 50,
     "metadata": {},
     "output_type": "execute_result"
    }
   ],
   "source": [
    "SDK.getLiquidityByPair(sourceTokenAddr=T.ETH.a, targetTokenAddr=T.USDC.a)"
   ]
  },
  {
   "cell_type": "markdown",
   "id": "f85b4688-16d8-487a-888c-27b2e12b837a",
   "metadata": {},
   "source": [
    "#### `mGetLiquidityByPair` -- the amount of liquidity in a pair (modified)\n",
    "\n",
    "this function -- like all other `mGet` functions -- is modified to be better in line with the conventions of the Carbon Simulator; it returns a `PairLiquidity` object that is also used for `mGetRateLiquidityDepthByPair`'; to indicate that the liquidity here is the total liquidity the `rate` field is set to zero."
   ]
  },
  {
   "cell_type": "code",
   "execution_count": 51,
   "id": "58e5fe41-7530-4e23-b6f4-9dbed0bbc654",
   "metadata": {},
   "outputs": [
    {
     "data": {
      "text/plain": [
       "CarbonSDK.PairLiquidity(amount=142.2631466382123, unit='ETH', AMMsells='ETH', pair=P('ETH/USDC'), rate=None, inverted=None, islist=None)"
      ]
     },
     "execution_count": 51,
     "metadata": {},
     "output_type": "execute_result"
    }
   ],
   "source": [
    "SDK.mGetLiquidityByPair(pair=P(\"ETH/USDC\"), AMMsells=\"ETH\")"
   ]
  },
  {
   "cell_type": "code",
   "execution_count": 52,
   "id": "904ac65c-3e08-45db-b216-bfdcc8bb8328",
   "metadata": {},
   "outputs": [
    {
     "data": {
      "text/plain": [
       "CarbonSDK.PairLiquidity(amount=5270321.735909, unit='USDC', AMMsells='USDC', pair=P('ETH/USDC'), rate=None, inverted=None, islist=None)"
      ]
     },
     "execution_count": 52,
     "metadata": {},
     "output_type": "execute_result"
    }
   ],
   "source": [
    "SDK.mGetLiquidityByPair(pair=P(\"ETH/USDC\"), AMMsells=\"USDC\")"
   ]
  },
  {
   "cell_type": "markdown",
   "id": "14115116-2899-4a00-be87-95e9f4aeec1e",
   "metadata": {},
   "source": [
    "#### `getMinRateByPair` and `getMaxRateByPair` -- get the min and max exchange rates\n",
    "\n",
    "gets the minimal and maximal rate availble in posisitions in this pair in this direction (used to determine the boundaries for the subsequenct calls to `getRateLiquidityDepthByPair`; `sourceToken` is base token and `targetToken` is quote token, ie in other words the prices are expressed in `targetToken` units\n"
   ]
  },
  {
   "cell_type": "code",
   "execution_count": 53,
   "id": "b03c4f32-50b3-4be6-a8a2-f00f3541f72e",
   "metadata": {},
   "outputs": [
    {
     "data": {
      "text/plain": [
       "799.9999998679182"
      ]
     },
     "execution_count": 53,
     "metadata": {},
     "output_type": "execute_result"
    }
   ],
   "source": [
    "SDK.getMinRateByPair(sourceTokenAddr=T.ETH.a, targetTokenAddr=T.USDC.a)"
   ]
  },
  {
   "cell_type": "code",
   "execution_count": 54,
   "id": "242367b9-f4fc-488d-b1ca-bca5e090318f",
   "metadata": {},
   "outputs": [
    {
     "data": {
      "text/plain": [
       "2330.3861458234296"
      ]
     },
     "execution_count": 54,
     "metadata": {},
     "output_type": "execute_result"
    }
   ],
   "source": [
    "SDK.getMaxRateByPair(sourceTokenAddr=T.ETH.a, targetTokenAddr=T.USDC.a)"
   ]
  },
  {
   "cell_type": "code",
   "execution_count": 55,
   "id": "eca617b1-b709-44ed-af0f-a80a9bde5d60",
   "metadata": {},
   "outputs": [
    {
     "data": {
      "text/plain": [
       "0.0003333333333333297"
      ]
     },
     "execution_count": 55,
     "metadata": {},
     "output_type": "execute_result"
    }
   ],
   "source": [
    "SDK.getMinRateByPair(sourceTokenAddr=T.USDC.a, targetTokenAddr=T.ETH.a)"
   ]
  },
  {
   "cell_type": "code",
   "execution_count": 56,
   "id": "338a066e-6175-4c5b-a994-f08e2ec6891a",
   "metadata": {},
   "outputs": [
    {
     "data": {
      "text/plain": [
       "0.0004"
      ]
     },
     "execution_count": 56,
     "metadata": {},
     "output_type": "execute_result"
    }
   ],
   "source": [
    "SDK.getMaxRateByPair(sourceTokenAddr=T.USDC.a, targetTokenAddr=T.ETH.a)"
   ]
  },
  {
   "cell_type": "markdown",
   "id": "c69ea9e0-8ee2-4970-a7f9-ee836763b3d5",
   "metadata": {},
   "source": [
    "#### `mGetRangeByPair` -- combining min and max rate\n",
    "\n",
    "The `mGetRangeByPair` combines min and max rate and uses the correct quote direction of the `CarbonPair`. It requires a `TokenContainer` object that allows to associate the ticker with the token address."
   ]
  },
  {
   "cell_type": "code",
   "execution_count": 57,
   "id": "900b3328-a476-4127-a649-e728781af457",
   "metadata": {},
   "outputs": [
    {
     "data": {
      "text/plain": [
       "CarbonSDK.RangeByPair(startRate=2500.0, endRate=3000.0000000000327, AMMsells='ETH', AMMbuys='USDC', pair=P('ETH/USDC'), inverted=False)"
      ]
     },
     "execution_count": 57,
     "metadata": {},
     "output_type": "execute_result"
    }
   ],
   "source": [
    "SDK.mGetRangeByPair(pair=P(\"ETH/USDC\"), AMMsells=\"ETH\")"
   ]
  },
  {
   "cell_type": "code",
   "execution_count": 58,
   "id": "9166bbbe-b6eb-4348-94c0-c41436ab6957",
   "metadata": {},
   "outputs": [
    {
     "data": {
      "text/plain": [
       "CarbonSDK.RangeByPair(startRate=2330.3861458234296, endRate=799.9999998679182, AMMsells='USDC', AMMbuys='ETH', pair=P('ETH/USDC'), inverted=True)"
      ]
     },
     "execution_count": 58,
     "metadata": {},
     "output_type": "execute_result"
    }
   ],
   "source": [
    "SDK.mGetRangeByPair(pair=P(\"ETH/USDC\"), AMMsells=\"USDC\")"
   ]
  },
  {
   "cell_type": "markdown",
   "id": "23ea9811-6404-409c-885b-4a5af72ffe82",
   "metadata": {},
   "source": [
    "#### `getRateLiquidityDepthByPair` -- get the liquidity at a certain exchange rate\n",
    "\n",
    "used to determine the liquidity depth chart; use `getMinRateByPair` and `getMaxRateByPair` to determine range; rate is given in target token per source token, and the amount in target token; the AMM buys (and trader sells) the source token"
   ]
  },
  {
   "cell_type": "code",
   "execution_count": 59,
   "id": "4cf7aba9-0cba-48c9-b194-f20546a0023e",
   "metadata": {},
   "outputs": [
    {
     "name": "stdout",
     "output_type": "stream",
     "text": [
      "[getRateLiquidityDepthByPair} 800\n",
      "[getRateLiquidityDepthByPair} {'success': True, 'data': '5270321.734548'}\n",
      "[getRateLiquidityDepthByPair} 2000\n",
      "[getRateLiquidityDepthByPair} {'success': True, 'data': '74278.333363'}\n"
     ]
    },
    {
     "data": {
      "text/plain": [
       "(5270321.735909, 5270321.734548, 74278.333363)"
      ]
     },
     "execution_count": 59,
     "metadata": {},
     "output_type": "execute_result"
    }
   ],
   "source": [
    "(SDK.getLiquidityByPair(sourceTokenAddr=T.ETH.a, targetTokenAddr=T.USDC.a),\n",
    " SDK.getRateLiquidityDepthByPair(sourceTokenAddr=T.ETH.a, targetTokenAddr=T.USDC.a, rate=800),\n",
    " SDK.getRateLiquidityDepthByPair(sourceTokenAddr=T.ETH.a, targetTokenAddr=T.USDC.a, rate=2000))"
   ]
  },
  {
   "cell_type": "code",
   "execution_count": 60,
   "id": "ddf30165-00f3-4cf9-8e1c-e265a7596541",
   "metadata": {},
   "outputs": [
    {
     "name": "stdout",
     "output_type": "stream",
     "text": [
      "[getRateLiquidityDepthByPair} 0.0003333333333333333\n",
      "[getRateLiquidityDepthByPair} {'success': True, 'data': '142.263146638200523086'}\n",
      "[getRateLiquidityDepthByPair} 0.000392156862745098\n",
      "[getRateLiquidityDepthByPair} {'success': True, 'data': '12.463115399487665728'}\n"
     ]
    },
    {
     "data": {
      "text/plain": [
       "(142.2631466382123, 142.2631466382005, 12.463115399487666)"
      ]
     },
     "execution_count": 60,
     "metadata": {},
     "output_type": "execute_result"
    }
   ],
   "source": [
    "(\n",
    " SDK.getLiquidityByPair(sourceTokenAddr=T.USDC.a, targetTokenAddr=T.ETH.a),    \n",
    " SDK.getRateLiquidityDepthByPair(sourceTokenAddr=T.USDC.a, targetTokenAddr=T.ETH.a, rate=1/3000),\n",
    " SDK.getRateLiquidityDepthByPair(sourceTokenAddr=T.USDC.a, targetTokenAddr=T.ETH.a, rate=1/2550))"
   ]
  },
  {
   "cell_type": "markdown",
   "id": "5132b836-d506-47df-80e6-638413d1b123",
   "metadata": {},
   "source": [
    "#### `mGetRateLiquidityDepthByPair` -- get the liquidity at a certain exchange rate (modified)\n",
    "\n",
    "returns a `PairLiquidity` object like `mGetLiquidityByPair`"
   ]
  },
  {
   "cell_type": "code",
   "execution_count": 61,
   "id": "58afcdb9-5a2a-4bca-b4de-855b3770e444",
   "metadata": {},
   "outputs": [
    {
     "name": "stdout",
     "output_type": "stream",
     "text": [
      "[getRateLiquidityDepthByPair} 0.0003333333333333333\n",
      "[getRateLiquidityDepthByPair} {'success': True, 'data': '142.263146638200523086'}\n"
     ]
    },
    {
     "data": {
      "text/plain": [
       "CarbonSDK.PairLiquidity(amount=142.2631466382005, unit='ETH', AMMsells='ETH', pair=P('ETH/USDC'), rate=3000, inverted=True, islist=False)"
      ]
     },
     "execution_count": 61,
     "metadata": {},
     "output_type": "execute_result"
    }
   ],
   "source": [
    "SDK.mGetRateLiquidityDepthByPair(rate=3000, pair=P(\"ETH/USDC\"), AMMsells=\"ETH\")"
   ]
  },
  {
   "cell_type": "code",
   "execution_count": 62,
   "id": "1c805d61-08c3-4ae0-a1ed-b7dcec8c14a3",
   "metadata": {},
   "outputs": [
    {
     "name": "stdout",
     "output_type": "stream",
     "text": [
      "[getRateLiquidityDepthByPair} 0.000392156862745098\n",
      "[getRateLiquidityDepthByPair} {'success': True, 'data': '12.463115399487665728'}\n"
     ]
    },
    {
     "data": {
      "text/plain": [
       "CarbonSDK.PairLiquidity(amount=12.463115399487666, unit='ETH', AMMsells='ETH', pair=P('ETH/USDC'), rate=2550, inverted=True, islist=False)"
      ]
     },
     "execution_count": 62,
     "metadata": {},
     "output_type": "execute_result"
    }
   ],
   "source": [
    "SDK.mGetRateLiquidityDepthByPair(rate=2550, pair=\"ETH/USDC\", AMMsells=\"ETH\")"
   ]
  },
  {
   "cell_type": "code",
   "execution_count": 63,
   "id": "4571c799-4b9d-4755-b178-3aae7c31c788",
   "metadata": {},
   "outputs": [
    {
     "name": "stdout",
     "output_type": "stream",
     "text": [
      "[getRateLiquidityDepthByPair} 2000\n",
      "[getRateLiquidityDepthByPair} {'success': True, 'data': '74278.333363'}\n"
     ]
    },
    {
     "data": {
      "text/plain": [
       "CarbonSDK.PairLiquidity(amount=74278.333363, unit='USDC', AMMsells='USDC', pair=P('ETH/USDC'), rate=2000, inverted=False, islist=False)"
      ]
     },
     "execution_count": 63,
     "metadata": {},
     "output_type": "execute_result"
    }
   ],
   "source": [
    "SDK.mGetRateLiquidityDepthByPair(rate=2000, pair=P(\"ETH/USDC\"), AMMsells=\"USDC\")"
   ]
  },
  {
   "cell_type": "code",
   "execution_count": 64,
   "id": "0d5d301c-b58f-45cc-8e25-ab5e89f65c3a",
   "metadata": {},
   "outputs": [
    {
     "name": "stdout",
     "output_type": "stream",
     "text": [
      "[getRateLiquidityDepthByPair} 800\n",
      "[getRateLiquidityDepthByPair} {'success': True, 'data': '5270321.734548'}\n"
     ]
    },
    {
     "data": {
      "text/plain": [
       "CarbonSDK.PairLiquidity(amount=5270321.734548, unit='USDC', AMMsells='USDC', pair=P('ETH/USDC'), rate=800, inverted=False, islist=False)"
      ]
     },
     "execution_count": 64,
     "metadata": {},
     "output_type": "execute_result"
    }
   ],
   "source": [
    "SDK.mGetRateLiquidityDepthByPair(rate=800, pair=P(\"ETH/USDC\"), AMMsells=\"USDC\")"
   ]
  },
  {
   "cell_type": "code",
   "execution_count": 65,
   "id": "a4555549-2cfc-4be2-8664-937f31226536",
   "metadata": {},
   "outputs": [
    {
     "name": "stdout",
     "output_type": "stream",
     "text": [
      "[getRateLiquidityDepthByPair} ['800', '1000', '1100']\n",
      "[getRateLiquidityDepthByPair} {'success': True, 'data': ['5270321.734548', '4266825.138238', '4217819.343633']}\n"
     ]
    },
    {
     "data": {
      "text/plain": [
       "CarbonSDK.PairLiquidity(amount=[5270321.734548, 4266825.138238, 4217819.343633], unit='USDC', AMMsells='USDC', pair=P('ETH/USDC'), rate=[800, 1000, 1100], inverted=False, islist=True)"
      ]
     },
     "execution_count": 65,
     "metadata": {},
     "output_type": "execute_result"
    }
   ],
   "source": [
    "SDK.mGetRateLiquidityDepthByPair(rate=[800, 1000, 1100], pair=P(\"ETH/USDC\"), AMMsells=\"USDC\")"
   ]
  },
  {
   "cell_type": "markdown",
   "id": "8be9ae96-e49f-4943-a069-105df201754f",
   "metadata": {},
   "source": [
    "## Maker-user information endpoints\n",
    "\n",
    "_Maker users_ are user that provide liquidity to the market, ie who create strategies. Those endpoint look at their portfolio information."
   ]
  },
  {
   "cell_type": "markdown",
   "id": "88b58bb0-1a43-44a2-8e43-ea836290b596",
   "metadata": {},
   "source": [
    "#### `addr` -- get the address of the wallet in the SDK server (effectively user address)"
   ]
  },
  {
   "cell_type": "code",
   "execution_count": 66,
   "id": "e34c93c2-27e3-4d75-96d1-15cbb2a04d29",
   "metadata": {},
   "outputs": [
    {
     "data": {
      "text/plain": [
       "{'success': True, 'data': '0x02aA0c42702110747c4cEa3C4Daf4D6cF701a6Ee'}"
      ]
     },
     "execution_count": 66,
     "metadata": {},
     "output_type": "execute_result"
    }
   ],
   "source": [
    "SDK.req(\"addr\").json()"
   ]
  },
  {
   "cell_type": "code",
   "execution_count": 67,
   "id": "8cc741a9-2b85-4a03-81e1-cd82f3d93330",
   "metadata": {},
   "outputs": [
    {
     "data": {
      "text/plain": [
       "('0x02aA0c42702110747c4cEa3C4Daf4D6cF701a6Ee',)"
      ]
     },
     "execution_count": 67,
     "metadata": {},
     "output_type": "execute_result"
    }
   ],
   "source": [
    "sdkaddr = SDK.addr()\n",
    "sdkaddr,"
   ]
  },
  {
   "cell_type": "markdown",
   "id": "26fbc2d3-7397-4b6c-827e-111ee41dc608",
   "metadata": {},
   "source": [
    "#### `getUserStrategies` -- get all strategies of the user\n",
    "\n",
    "returns all strategies for a given user (default: the waller related to the SDK server); use `reformatStrategy` to convert the returned value into types more reasonable for Python analysis (notably, `BigNumber` dicts to `int`)"
   ]
  },
  {
   "cell_type": "code",
   "execution_count": 68,
   "id": "d35f8b5b-a492-4468-8022-2e62735e20a3",
   "metadata": {},
   "outputs": [
    {
     "name": "stdout",
     "output_type": "stream",
     "text": [
      "Number of strategies: 4\n",
      "Strategy ids [83, 87, 462, 470]\n"
     ]
    },
    {
     "data": {
      "text/plain": [
       "{'id': {'type': 'BigNumber', 'hex': '0x53'},\n",
       " 'baseToken': '0xEeeeeEeeeEeEeeEeEeEeeEEEeeeeEeeeeeeeEEeE',\n",
       " 'quoteToken': '0xA0b86991c6218b36c1d19D4a2e9Eb0cE3606eB48',\n",
       " 'buyPriceLow': '1499.999999795006131230270249480266202369446401111707789510774091468192636966705322265625',\n",
       " 'buyPriceHigh': '1599.99999987885530572613908948335161402097039096137365277172648347914218902587890625',\n",
       " 'buyBudget': '3049.509757',\n",
       " 'sellPriceLow': '2500',\n",
       " 'sellPriceHigh': '2600.000000000011469981186957619896170942620083990429606213754278889677960415165669457991666380074129',\n",
       " 'sellBudget': '0',\n",
       " 'encoded': {'id': {'type': 'BigNumber', 'hex': '0x53'},\n",
       "  'token0': '0xEeeeeEeeeEeEeeEeEeEeeEEEeeeeEeeeeeeeEEeE',\n",
       "  'token1': '0xA0b86991c6218b36c1d19D4a2e9Eb0cE3606eB48',\n",
       "  'order0': {'y': {'type': 'BigNumber', 'hex': '0x00'},\n",
       "   'z': {'type': 'BigNumber', 'hex': '0x0de0b6b3a7640000'},\n",
       "   'A': {'type': 'BigNumber', 'hex': '0x09c23178611340'},\n",
       "   'B': {'type': 'BigNumber', 'hex': '0x0f99373a1e7bb3'}},\n",
       "  'order1': {'y': {'type': 'BigNumber', 'hex': '0xb5c3d37d'},\n",
       "   'z': {'type': 'BigNumber', 'hex': '0xb5c3d37d'},\n",
       "   'A': {'type': 'BigNumber', 'hex': '0x154f52e1'},\n",
       "   'B': {'type': 'BigNumber', 'hex': '0x0289c75e3b'}}}}"
      ]
     },
     "execution_count": 68,
     "metadata": {},
     "output_type": "execute_result"
    }
   ],
   "source": [
    "data = SDK.getUserStrategies(user=sdkaddr)\n",
    "print(\"Number of strategies:\", len(data))\n",
    "print(\"Strategy ids\", [SDK.bn2int(d[\"id\"]) for d in data])\n",
    "data[0]"
   ]
  },
  {
   "cell_type": "markdown",
   "id": "4fbe0bb4-54e8-4f32-b1a4-e95071104ddc",
   "metadata": {},
   "source": [
    "The strategies can be imported into the Carbon Simulator into the `CarbonOrderUI` class and into the `CarbonSimulatorUI` class"
   ]
  },
  {
   "cell_type": "code",
   "execution_count": 69,
   "id": "e4a81ca6-4a9c-4c9d-93e7-6ef75e4fa6a7",
   "metadata": {},
   "outputs": [
    {
     "data": {
      "text/plain": [
       "(CarbonOrderUI(pair=P('ETH/USDC'), tkn=USDC, B=38.72983345942771, S=1.270166539057982, yint=3049.509757, y=3049.509757, id=83-b, linked=<83-s>),\n",
       " CarbonOrderUI(pair=P('ETH/USDC'), tkn=ETH, B=0.01961161351381836, S=0.00038838648618164107, yint=0.0, y=0.0, id=83-s, linked=<83-b>))"
      ]
     },
     "execution_count": 69,
     "metadata": {},
     "output_type": "execute_result"
    }
   ],
   "source": [
    "obuy, osell = CarbonOrderUI.from_SDK(data[0])\n",
    "obuy, osell"
   ]
  },
  {
   "cell_type": "code",
   "execution_count": 70,
   "id": "012ce843-715c-4e5c-b140-d47e9b7f244e",
   "metadata": {},
   "outputs": [
    {
     "data": {
      "text/html": [
       "<div>\n",
       "<style scoped>\n",
       "    .dataframe tbody tr th:only-of-type {\n",
       "        vertical-align: middle;\n",
       "    }\n",
       "\n",
       "    .dataframe tbody tr th {\n",
       "        vertical-align: top;\n",
       "    }\n",
       "\n",
       "    .dataframe thead th {\n",
       "        text-align: right;\n",
       "    }\n",
       "</style>\n",
       "<table border=\"1\" class=\"dataframe\">\n",
       "  <thead>\n",
       "    <tr style=\"text-align: right;\">\n",
       "      <th></th>\n",
       "      <th>id</th>\n",
       "      <th>pair</th>\n",
       "      <th>tkn</th>\n",
       "      <th>y_int</th>\n",
       "      <th>y</th>\n",
       "      <th>y_unit</th>\n",
       "      <th>disabled</th>\n",
       "      <th>p_start</th>\n",
       "      <th>p_end</th>\n",
       "      <th>p_marg</th>\n",
       "      <th>p_unit</th>\n",
       "      <th>lid</th>\n",
       "    </tr>\n",
       "  </thead>\n",
       "  <tbody>\n",
       "    <tr>\n",
       "      <th>0</th>\n",
       "      <td>0</td>\n",
       "      <td>ETHUSDC</td>\n",
       "      <td>ETH</td>\n",
       "      <td>0.00</td>\n",
       "      <td>0.00</td>\n",
       "      <td>ETH</td>\n",
       "      <td>False</td>\n",
       "      <td>2500.0</td>\n",
       "      <td>2600.0</td>\n",
       "      <td>2500.0</td>\n",
       "      <td>USDC per ETH</td>\n",
       "      <td>1</td>\n",
       "    </tr>\n",
       "    <tr>\n",
       "      <th>1</th>\n",
       "      <td>1</td>\n",
       "      <td>ETHUSDC</td>\n",
       "      <td>USDC</td>\n",
       "      <td>3049.51</td>\n",
       "      <td>3049.51</td>\n",
       "      <td>USDC</td>\n",
       "      <td>False</td>\n",
       "      <td>1600.0</td>\n",
       "      <td>1500.0</td>\n",
       "      <td>1600.0</td>\n",
       "      <td>USDC per ETH</td>\n",
       "      <td>0</td>\n",
       "    </tr>\n",
       "  </tbody>\n",
       "</table>\n",
       "</div>"
      ],
      "text/plain": [
       "   id     pair   tkn    y_int        y y_unit  disabled  p_start   p_end  \\\n",
       "0   0  ETHUSDC   ETH     0.00     0.00    ETH     False   2500.0  2600.0   \n",
       "1   1  ETHUSDC  USDC  3049.51  3049.51   USDC     False   1600.0  1500.0   \n",
       "\n",
       "   p_marg        p_unit  lid  \n",
       "0  2500.0  USDC per ETH    1  \n",
       "1  1600.0  USDC per ETH    0  "
      ]
     },
     "execution_count": 70,
     "metadata": {},
     "output_type": "execute_result"
    }
   ],
   "source": [
    "Sim = CarbonSimulatorUI()\n",
    "o = Sim.add_fromsdk(data[0], 6)[\"orders\"]\n",
    "o"
   ]
  },
  {
   "cell_type": "code",
   "execution_count": 71,
   "id": "218ef20a-766b-4ce6-8bbc-58f9402f5856",
   "metadata": {},
   "outputs": [
    {
     "data": {
      "text/plain": [
       "[{'id': {'type': 'BigNumber', 'hex': '0x53'},\n",
       "  'baseToken': '0xEeeeeEeeeEeEeeEeEeEeeEEEeeeeEeeeeeeeEEeE',\n",
       "  'quoteToken': '0xA0b86991c6218b36c1d19D4a2e9Eb0cE3606eB48',\n",
       "  'buyPriceLow': '1499.999999795006131230270249480266202369446401111707789510774091468192636966705322265625',\n",
       "  'buyPriceHigh': '1599.99999987885530572613908948335161402097039096137365277172648347914218902587890625',\n",
       "  'buyBudget': '3049.509757',\n",
       "  'sellPriceLow': '2500',\n",
       "  'sellPriceHigh': '2600.000000000011469981186957619896170942620083990429606213754278889677960415165669457991666380074129',\n",
       "  'sellBudget': '0',\n",
       "  'encoded': {'id': {'type': 'BigNumber', 'hex': '0x53'},\n",
       "   'token0': '0xEeeeeEeeeEeEeeEeEeEeeEEEeeeeEeeeeeeeEEeE',\n",
       "   'token1': '0xA0b86991c6218b36c1d19D4a2e9Eb0cE3606eB48',\n",
       "   'order0': {'y': {'type': 'BigNumber', 'hex': '0x00'},\n",
       "    'z': {'type': 'BigNumber', 'hex': '0x0de0b6b3a7640000'},\n",
       "    'A': {'type': 'BigNumber', 'hex': '0x09c23178611340'},\n",
       "    'B': {'type': 'BigNumber', 'hex': '0x0f99373a1e7bb3'}},\n",
       "   'order1': {'y': {'type': 'BigNumber', 'hex': '0xb5c3d37d'},\n",
       "    'z': {'type': 'BigNumber', 'hex': '0xb5c3d37d'},\n",
       "    'A': {'type': 'BigNumber', 'hex': '0x154f52e1'},\n",
       "    'B': {'type': 'BigNumber', 'hex': '0x0289c75e3b'}}}},\n",
       " {'id': {'type': 'BigNumber', 'hex': '0x57'},\n",
       "  'baseToken': '0xEeeeeEeeeEeEeeEeEeEeeEEEeeeeEeeeeeeeEEeE',\n",
       "  'quoteToken': '0xA0b86991c6218b36c1d19D4a2e9Eb0cE3606eB48',\n",
       "  'buyPriceLow': '1499.999999795006131230270249480266202369446401111707789510774091468192636966705322265625',\n",
       "  'buyPriceHigh': '1599.99999987885530572613908948335161402097039096137365277172648347914218902587890625',\n",
       "  'buyBudget': '3049.509757',\n",
       "  'sellPriceLow': '2500',\n",
       "  'sellPriceHigh': '2600.000000000011469981186957619896170942620083990429606213754278889677960415165669457991666380074129',\n",
       "  'sellBudget': '0',\n",
       "  'encoded': {'id': {'type': 'BigNumber', 'hex': '0x57'},\n",
       "   'token0': '0xEeeeeEeeeEeEeeEeEeEeeEEEeeeeEeeeeeeeEEeE',\n",
       "   'token1': '0xA0b86991c6218b36c1d19D4a2e9Eb0cE3606eB48',\n",
       "   'order0': {'y': {'type': 'BigNumber', 'hex': '0x00'},\n",
       "    'z': {'type': 'BigNumber', 'hex': '0x0de0b6b3a7640000'},\n",
       "    'A': {'type': 'BigNumber', 'hex': '0x09c23178611340'},\n",
       "    'B': {'type': 'BigNumber', 'hex': '0x0f99373a1e7bb3'}},\n",
       "   'order1': {'y': {'type': 'BigNumber', 'hex': '0xb5c3d37d'},\n",
       "    'z': {'type': 'BigNumber', 'hex': '0xb5c3d37d'},\n",
       "    'A': {'type': 'BigNumber', 'hex': '0x154f52e1'},\n",
       "    'B': {'type': 'BigNumber', 'hex': '0x0289c75e3b'}}}},\n",
       " {'id': {'type': 'BigNumber', 'hex': '0x01ce'},\n",
       "  'baseToken': '0xEeeeeEeeeEeEeeEeEeEeeEEEeeeeEeeeeeeeEEeE',\n",
       "  'quoteToken': '0xA0b86991c6218b36c1d19D4a2e9Eb0cE3606eB48',\n",
       "  'buyPriceLow': '1499.999999795006131230270249480266202369446401111707789510774091468192636966705322265625',\n",
       "  'buyPriceHigh': '1599.99999987885530572613908948335161402097039096137365277172648347914218902587890625',\n",
       "  'buyBudget': '3049.509757',\n",
       "  'sellPriceLow': '2500',\n",
       "  'sellPriceHigh': '2600.000000000011469981186957619896170942620083990429606213754278889677960415165669457991666380074129',\n",
       "  'sellBudget': '0',\n",
       "  'encoded': {'id': {'type': 'BigNumber', 'hex': '0x01ce'},\n",
       "   'token0': '0xEeeeeEeeeEeEeeEeEeEeeEEEeeeeEeeeeeeeEEeE',\n",
       "   'token1': '0xA0b86991c6218b36c1d19D4a2e9Eb0cE3606eB48',\n",
       "   'order0': {'y': {'type': 'BigNumber', 'hex': '0x00'},\n",
       "    'z': {'type': 'BigNumber', 'hex': '0x0de0b6b3a7640000'},\n",
       "    'A': {'type': 'BigNumber', 'hex': '0x09c23178611340'},\n",
       "    'B': {'type': 'BigNumber', 'hex': '0x0f99373a1e7bb3'}},\n",
       "   'order1': {'y': {'type': 'BigNumber', 'hex': '0xb5c3d37d'},\n",
       "    'z': {'type': 'BigNumber', 'hex': '0xb5c3d37d'},\n",
       "    'A': {'type': 'BigNumber', 'hex': '0x154f52e1'},\n",
       "    'B': {'type': 'BigNumber', 'hex': '0x0289c75e3b'}}}},\n",
       " {'id': {'type': 'BigNumber', 'hex': '0x01d6'},\n",
       "  'baseToken': '0xEeeeeEeeeEeEeeEeEeEeeEEEeeeeEeeeeeeeEEeE',\n",
       "  'quoteToken': '0xA0b86991c6218b36c1d19D4a2e9Eb0cE3606eB48',\n",
       "  'buyPriceLow': '1499.999999795006131230270249480266202369446401111707789510774091468192636966705322265625',\n",
       "  'buyPriceHigh': '1599.99999987885530572613908948335161402097039096137365277172648347914218902587890625',\n",
       "  'buyBudget': '500',\n",
       "  'sellPriceLow': '2500',\n",
       "  'sellPriceHigh': '2600.000000000011469981186957619896170942620083990429606213754278889677960415165669457991666380074129',\n",
       "  'sellBudget': '1',\n",
       "  'encoded': {'id': {'type': 'BigNumber', 'hex': '0x01d6'},\n",
       "   'token0': '0xEeeeeEeeeEeEeeEeEeEeeEEEeeeeEeeeeeeeEEeE',\n",
       "   'token1': '0xA0b86991c6218b36c1d19D4a2e9Eb0cE3606eB48',\n",
       "   'order0': {'y': {'type': 'BigNumber', 'hex': '0x0de0b6b3a7640000'},\n",
       "    'z': {'type': 'BigNumber', 'hex': '0x0de0b6b3a7640000'},\n",
       "    'A': {'type': 'BigNumber', 'hex': '0x09c23178611340'},\n",
       "    'B': {'type': 'BigNumber', 'hex': '0x0f99373a1e7bb3'}},\n",
       "   'order1': {'y': {'type': 'BigNumber', 'hex': '0x1dcd6500'},\n",
       "    'z': {'type': 'BigNumber', 'hex': '0x1dcd6500'},\n",
       "    'A': {'type': 'BigNumber', 'hex': '0x154f52e1'},\n",
       "    'B': {'type': 'BigNumber', 'hex': '0x0289c75e3b'}}}}]"
      ]
     },
     "execution_count": 71,
     "metadata": {},
     "output_type": "execute_result"
    }
   ],
   "source": [
    "data"
   ]
  },
  {
   "cell_type": "markdown",
   "id": "9f9a8cee-0a18-456a-80a0-65ce4219b6fe",
   "metadata": {},
   "source": [
    "#### `mGetUserStrategies` -- get all strategies of the user (modified)\n",
    "\n",
    "applies `reformateStrategy` to all strategies"
   ]
  },
  {
   "cell_type": "code",
   "execution_count": 72,
   "id": "9526add2",
   "metadata": {},
   "outputs": [
    {
     "data": {
      "text/plain": [
       "({'encoded': {'id': 83,\n",
       "   'token0': 'ETH',\n",
       "   'token1': 'USDC',\n",
       "   'order0': {'y': 0,\n",
       "    'z': 1000000000000000000,\n",
       "    'A': 2746792519209792,\n",
       "    'B': 4390587127987123},\n",
       "   'order1': {'y': 3049509757,\n",
       "    'z': 3049509757,\n",
       "    'A': 357520097,\n",
       "    'B': 10901478971}},\n",
       "  'buyPriceLow': 1500.0,\n",
       "  'buyPriceHigh': 1600.0,\n",
       "  'buyBudget': 3049.5098,\n",
       "  'sellPriceLow': 2500.0,\n",
       "  'sellPriceHigh': 2600.0,\n",
       "  'sellBudget': 0.0,\n",
       "  'id': 83,\n",
       "  'baseToken': 'ETH',\n",
       "  'quoteToken': 'USDC'},\n",
       " {'encoded': {'id': 87,\n",
       "   'token0': 'ETH',\n",
       "   'token1': 'USDC',\n",
       "   'order0': {'y': 0,\n",
       "    'z': 1000000000000000000,\n",
       "    'A': 2746792519209792,\n",
       "    'B': 4390587127987123},\n",
       "   'order1': {'y': 3049509757,\n",
       "    'z': 3049509757,\n",
       "    'A': 357520097,\n",
       "    'B': 10901478971}},\n",
       "  'buyPriceLow': 1500.0,\n",
       "  'buyPriceHigh': 1600.0,\n",
       "  'buyBudget': 3049.5098,\n",
       "  'sellPriceLow': 2500.0,\n",
       "  'sellPriceHigh': 2600.0,\n",
       "  'sellBudget': 0.0,\n",
       "  'id': 87,\n",
       "  'baseToken': 'ETH',\n",
       "  'quoteToken': 'USDC'},\n",
       " {'encoded': {'id': 462,\n",
       "   'token0': 'ETH',\n",
       "   'token1': 'USDC',\n",
       "   'order0': {'y': 0,\n",
       "    'z': 1000000000000000000,\n",
       "    'A': 2746792519209792,\n",
       "    'B': 4390587127987123},\n",
       "   'order1': {'y': 3049509757,\n",
       "    'z': 3049509757,\n",
       "    'A': 357520097,\n",
       "    'B': 10901478971}},\n",
       "  'buyPriceLow': 1500.0,\n",
       "  'buyPriceHigh': 1600.0,\n",
       "  'buyBudget': 3049.5098,\n",
       "  'sellPriceLow': 2500.0,\n",
       "  'sellPriceHigh': 2600.0,\n",
       "  'sellBudget': 0.0,\n",
       "  'id': 462,\n",
       "  'baseToken': 'ETH',\n",
       "  'quoteToken': 'USDC'},\n",
       " {'encoded': {'id': 470,\n",
       "   'token0': 'ETH',\n",
       "   'token1': 'USDC',\n",
       "   'order0': {'y': 1000000000000000000,\n",
       "    'z': 1000000000000000000,\n",
       "    'A': 2746792519209792,\n",
       "    'B': 4390587127987123},\n",
       "   'order1': {'y': 500000000,\n",
       "    'z': 500000000,\n",
       "    'A': 357520097,\n",
       "    'B': 10901478971}},\n",
       "  'buyPriceLow': 1500.0,\n",
       "  'buyPriceHigh': 1600.0,\n",
       "  'buyBudget': 500.0,\n",
       "  'sellPriceLow': 2500.0,\n",
       "  'sellPriceHigh': 2600.0,\n",
       "  'sellBudget': 1.0,\n",
       "  'id': 470,\n",
       "  'baseToken': 'ETH',\n",
       "  'quoteToken': 'USDC'})"
      ]
     },
     "execution_count": 72,
     "metadata": {},
     "output_type": "execute_result"
    }
   ],
   "source": [
    "data = SDK.mGetUserStrategies(user=sdkaddr)\n",
    "data"
   ]
  },
  {
   "cell_type": "code",
   "execution_count": 73,
   "id": "be3bee35",
   "metadata": {},
   "outputs": [
    {
     "data": {
      "text/plain": [
       "{'id': 83,\n",
       " 'token0': 'eth',\n",
       " 'token1': 'usdc',\n",
       " 'order0': {'y': 0,\n",
       "  'z': 1000000000000000000,\n",
       "  'A': 2746792519209792,\n",
       "  'B': 4390587127987123},\n",
       " 'order1': {'y': 3049509757,\n",
       "  'z': 3049509757,\n",
       "  'A': 357520097,\n",
       "  'B': 10901478971}}"
      ]
     },
     "execution_count": 73,
     "metadata": {},
     "output_type": "execute_result"
    }
   ],
   "source": [
    "SDK.reformatStrategy(data[0])[\"encoded\"]"
   ]
  },
  {
   "cell_type": "markdown",
   "id": "4925716f-2d8b-4747-9335-d8cdd94c10ac",
   "metadata": {},
   "source": [
    "## Maker-user action endpoints\n",
    "\n",
    "Those endpoints allow maker users to create, modify and delete their strategies. Note that all active endpoints return unsigned transactions. Those are then submitted to the endpoint `signsubmittx` to be signed and submitted. If `sign` is `True`, the transaction is signed using the server wallet private key (with the obvious security implications). Alternatively an already signed transaction can be submitted. "
   ]
  },
  {
   "cell_type": "markdown",
   "id": "260a1756-3595-438f-a9b0-3a2a147b8fed",
   "metadata": {},
   "source": [
    "#### `createBuySellStrategy` -- creates a strategy\n",
    "\n"
   ]
  },
  {
   "cell_type": "code",
   "execution_count": 74,
   "id": "42782850-bb9d-4564-b97d-37fd183ae815",
   "metadata": {},
   "outputs": [
    {
     "data": {
      "text/plain": [
       "{'data': '0xf727473a000000000000000000000000eeeeeeeeeeeeeeeeeeeeeeeeeeeeeeeeeeeeeeee000000000000000000000000a0b86991c6218b36c1d19d4a2e9eb0ce3606eb480000000000000000000000000000000000000000000000000de0b6b3a76400000000000000000000000000000000000000000000000000000de0b6b3a76400000000000000000000000000000000000000000000000000000009c23178611340000000000000000000000000000000000000000000000000000f99373a1e7bb3000000000000000000000000000000000000000000000000000000001dcd6500000000000000000000000000000000000000000000000000000000001dcd650000000000000000000000000000000000000000000000000000000000154f52e10000000000000000000000000000000000000000000000000000000289c75e3b',\n",
       " 'to': '0x2FdE9E0cE83769E88eAA9FB7BE27cb26c385d1b2',\n",
       " 'gasLimit': {'type': 'BigNumber', 'hex': '0x3b9ac9ff'},\n",
       " 'value': {'type': 'BigNumber', 'hex': '0x0de0b6b3a7640000'}}"
      ]
     },
     "execution_count": 74,
     "metadata": {},
     "output_type": "execute_result"
    }
   ],
   "source": [
    "r = SDK.createBuySellStrategy(baseToken=T.ETH.a, quoteToken=T.USDC.a, \n",
    "                              buyPriceLow =1500, buyPriceHigh =1600, buyBudget =500,    # buy 500 USDC worth of ETH from 1500..1600\n",
    "                              sellPriceLow=2500, sellPriceHigh=2600, sellBudget=   1,   # sell 1 ETH from 2500..2600\n",
    "                              overrides=None, sync=True)\n",
    "data = r.json()[\"data\"]\n",
    "data"
   ]
  },
  {
   "cell_type": "code",
   "execution_count": 75,
   "id": "64b282f8-d28a-4831-b5d5-591eee86da7f",
   "metadata": {},
   "outputs": [
    {
     "data": {
      "text/plain": [
       "{'success': True,\n",
       " 'data': {'txReceipt': {'hash': '0x327da326962393cac61e30f404e2727e6f2fe879541bd82cd663768b2df1991d',\n",
       "   'nonce': None,\n",
       "   'gasLimit': None,\n",
       "   'gasPrice': None,\n",
       "   'data': None,\n",
       "   'value': None,\n",
       "   'chainId': None,\n",
       "   'confirmations': 0,\n",
       "   'from': None}}}"
      ]
     },
     "execution_count": 75,
     "metadata": {},
     "output_type": "execute_result"
    }
   ],
   "source": [
    "r = SDK.signsubmittx(data, sign=True)\n",
    "r.json()"
   ]
  },
  {
   "cell_type": "markdown",
   "id": "f1dc21c1-edc5-4cb1-9274-c7b32f78de36",
   "metadata": {},
   "source": [
    "#### check user strategy IDs"
   ]
  },
  {
   "cell_type": "code",
   "execution_count": 76,
   "id": "b5227632-895f-4938-997d-aa06c56da402",
   "metadata": {},
   "outputs": [
    {
     "name": "stdout",
     "output_type": "stream",
     "text": [
      "Number of strategies: 5\n",
      "Strategy ids [83, 87, 462, 470, 471]\n"
     ]
    }
   ],
   "source": [
    "data = SDK.getUserStrategies(user=sdkaddr)\n",
    "ids = [SDK.bn2int(d[\"id\"]) for d in data]\n",
    "print(\"Number of strategies:\", len(data))\n",
    "print(\"Strategy ids\", ids)"
   ]
  },
  {
   "cell_type": "markdown",
   "id": "96ce36b0-a11e-4ce3-b357-07177c5d4e20",
   "metadata": {},
   "source": [
    "#### `updateStrategy` -- updates a strategy [yet to be connected]"
   ]
  },
  {
   "cell_type": "code",
   "execution_count": 77,
   "id": "207254c6-85f3-4d34-8c26-ae38a9981262",
   "metadata": {},
   "outputs": [
    {
     "data": {
      "text/plain": [
       "{'success': True, 'data': {'result': 'not implemented yet [async]'}}"
      ]
     },
     "execution_count": 77,
     "metadata": {},
     "output_type": "execute_result"
    }
   ],
   "source": [
    "r = SDK.updateStrategy(strategyId=None, encoded=None, baseToken=None, quoteToken=None, update=None, \n",
    "                       buyMarginalPrice=None, sellMarginalPrice=None, overrides=None, sync=True)\n",
    "r.json()"
   ]
  },
  {
   "cell_type": "markdown",
   "id": "243f9b00-c50e-4659-83f9-0e5cd4278bfe",
   "metadata": {},
   "source": [
    "#### `deleteStrategy` -- deletes a strategy\n",
    "\n",
    "Note: this deletes the strategy that has been created above. If this fails with an out-of-gas error then the reason may be that the strategy has not been created yet. Note that in this case the server may crash which is something we are working on. The last cell below shows, again, the user strategies."
   ]
  },
  {
   "cell_type": "code",
   "execution_count": 78,
   "id": "e63e2ef1-1e2c-4081-b559-c906a528deb8",
   "metadata": {},
   "outputs": [
    {
     "data": {
      "text/plain": [
       "{'data': '0x8730203700000000000000000000000000000000000000000000000000000000000001d7',\n",
       " 'to': '0x2FdE9E0cE83769E88eAA9FB7BE27cb26c385d1b2'}"
      ]
     },
     "execution_count": 78,
     "metadata": {},
     "output_type": "execute_result"
    }
   ],
   "source": [
    "r = SDK.deleteStrategy(strategyId=ids[-1], sync=True)\n",
    "data = r.json()[\"data\"]\n",
    "data"
   ]
  },
  {
   "cell_type": "code",
   "execution_count": 79,
   "id": "82507ae1-0144-4410-bbe6-6fc0ed8010d1",
   "metadata": {},
   "outputs": [
    {
     "data": {
      "text/plain": [
       "{'success': True,\n",
       " 'data': {'txReceipt': {'hash': '0x915d5b39f33c316a4f515bbc2103e3d07509d03ebc8881d78472066f88b3d3f3',\n",
       "   'nonce': None,\n",
       "   'gasLimit': None,\n",
       "   'gasPrice': None,\n",
       "   'data': None,\n",
       "   'value': None,\n",
       "   'chainId': None,\n",
       "   'confirmations': 0,\n",
       "   'from': None}}}"
      ]
     },
     "execution_count": 79,
     "metadata": {},
     "output_type": "execute_result"
    }
   ],
   "source": [
    "r = SDK.signsubmittx(data, sign=True)\n",
    "r.json()"
   ]
  },
  {
   "cell_type": "code",
   "execution_count": 80,
   "id": "48548004-cdd8-4a68-9fd9-6c900ad7df0c",
   "metadata": {},
   "outputs": [
    {
     "name": "stdout",
     "output_type": "stream",
     "text": [
      "Number of strategies: 4\n",
      "Strategy ids [83, 87, 462, 470]\n"
     ]
    }
   ],
   "source": [
    "data = SDK.getUserStrategies(user=sdkaddr)\n",
    "ids = [SDK.bn2int(d[\"id\"]) for d in data]\n",
    "print(\"Number of strategies:\", len(data))\n",
    "print(\"Strategy ids\", ids)"
   ]
  },
  {
   "cell_type": "markdown",
   "id": "5733c2ea-48cd-4af1-994a-b0c39dcadaa1",
   "metadata": {},
   "source": [
    "**Note the weird error message if you try to delete a strategy that does not exist**"
   ]
  },
  {
   "cell_type": "code",
   "execution_count": 81,
   "id": "ba8a5205-c54f-4733-81bd-4fb8c58c40f5",
   "metadata": {},
   "outputs": [
    {
     "data": {
      "text/plain": [
       "{'success': False,\n",
       " 'error': 'submitting transaction failed Error: cannot estimate gas; transaction may fail or may require manual gas limit [ See: https://links.ethers.org/v5-errors-UNPREDICTABLE_GAS_LIMIT ] (reason=\"execution reverted\", method=\"estimateGas\", transaction={\"from\":\"0x02aA0c42702110747c4cEa3C4Daf4D6cF701a6Ee\",\"to\":\"0x2FdE9E0cE83769E88eAA9FB7BE27cb26c385d1b2\",\"data\":\"0x8730203700000000000000000000000000000000000000000000000000000000499602d2\",\"accessList\":null}, error={\"reason\":\"processing response error\",\"code\":\"SERVER_ERROR\",\"body\":\"{\\\\\"id\\\\\":105,\\\\\"jsonrpc\\\\\":\\\\\"2.0\\\\\",\\\\\"error\\\\\":{\\\\\"code\\\\\":-32000,\\\\\"message\\\\\":\\\\\"execution reverted\\\\\",\\\\\"data\\\\\":{\\\\\"error_id\\\\\":\\\\\"843a8853-6be7-4282-b9b0-7b52e1e8c8fc\\\\\"}}}\",\"error\":{\"code\":-32000,\"data\":{\"error_id\":\"843a8853-6be7-4282-b9b0-7b52e1e8c8fc\"}},\"requestBody\":\"{\\\\\"method\\\\\":\\\\\"eth_estimateGas\\\\\",\\\\\"params\\\\\":[{\\\\\"from\\\\\":\\\\\"0x02aa0c42702110747c4cea3c4daf4d6cf701a6ee\\\\\",\\\\\"to\\\\\":\\\\\"0x2fde9e0ce83769e88eaa9fb7be27cb26c385d1b2\\\\\",\\\\\"data\\\\\":\\\\\"0x8730203700000000000000000000000000000000000000000000000000000000499602d2\\\\\"}],\\\\\"id\\\\\":105,\\\\\"jsonrpc\\\\\":\\\\\"2.0\\\\\"}\",\"requestMethod\":\"POST\",\"url\":\"https://rpc.tenderly.co/fork/cbb1b783-1a61-46ac-a188-78432698c3a1\"}, code=UNPREDICTABLE_GAS_LIMIT, version=providers/5.7.2)'}"
      ]
     },
     "execution_count": 81,
     "metadata": {},
     "output_type": "execute_result"
    }
   ],
   "source": [
    "r = SDK.deleteStrategy(strategyId=1234567890, sync=True)\n",
    "data = r.json()[\"data\"]\n",
    "rr = SDK.signsubmittx(data, sign=True)\n",
    "rr.json()"
   ]
  },
  {
   "cell_type": "markdown",
   "id": "0f162b6b-7211-4102-9c1d-6afffa674b8e",
   "metadata": {},
   "source": [
    "## Taker-user (trader) action endpoints\n",
    "\n",
    "Those endpoints allow taker users (ie traders) to trade against existing liquidity\n"
   ]
  },
  {
   "cell_type": "markdown",
   "id": "a2bcb75d-a181-48cb-93de-f168b61f2b04",
   "metadata": {},
   "source": [
    "### Integrated endpoint"
   ]
  },
  {
   "cell_type": "markdown",
   "id": "362f79cc-4544-4655-9399-62dd307b2140",
   "metadata": {},
   "source": [
    "#### `getTradeData` -- integrated function (here used \"by source\")\n",
    "\n",
    "The endpoint `getTradeData` is the only endpoint usually needed to compose a trade. It internally calls the functions `tbd`. Those functions are also exposed as individual endpoints which allows to optimized the process and to obtain a more reactive code.\n"
   ]
  },
  {
   "cell_type": "code",
   "execution_count": 82,
   "id": "fd26bc46-f7cc-4622-89a1-a588ff4966b1",
   "metadata": {},
   "outputs": [
    {
     "name": "stdout",
     "output_type": "stream",
     "text": [
      "[{'strategyId': 49, 'amount': 100000}]\n"
     ]
    },
    {
     "data": {
      "text/plain": [
       "{'tradeActions': [{'strategyId': {'type': 'BigNumber', 'hex': '0x31'},\n",
       "   'amount': {'type': 'BigNumber', 'hex': '0x0186a0'}}],\n",
       " 'actionsTokenRes': [{'id': {'type': 'BigNumber', 'hex': '0x31'},\n",
       "   'sourceAmount': '0.001',\n",
       "   'targetAmount': '21.999999'}],\n",
       " 'totalSourceAmount': '0.001',\n",
       " 'totalTargetAmount': '21.966999',\n",
       " 'effectiveRate': '21966.999',\n",
       " 'actionsWei': [{'id': {'type': 'BigNumber', 'hex': '0x31'},\n",
       "   'input': {'type': 'BigNumber', 'hex': '0x0186a0'},\n",
       "   'output': {'type': 'BigNumber', 'hex': '0x014fb17f'}}]}"
      ]
     },
     "execution_count": 82,
     "metadata": {},
     "output_type": "execute_result"
    }
   ],
   "source": [
    "r = SDK.getTradeData(sourceToken=T.WBTC.a, targetToken=T.USDC.a, amount=0.001, tradeByTargetAmount=False, filter=None, sync=True)\n",
    "data = r.json()[\"data\"]\n",
    "tradeActions = [SDK.bn2intd(d) for d in data[\"tradeActions\"]]\n",
    "print(tradeActions)\n",
    "data"
   ]
  },
  {
   "cell_type": "markdown",
   "id": "bced75ce-377c-4548-a562-ddd8c50313a3",
   "metadata": {},
   "source": [
    "#### `composeTradeBySourceTransaction` -- create transaction \"by source\"\n",
    "\n",
    "Important: if this one fails there may be an issue with the approval. Need to approve the token first which can be done on the web app.\n",
    "\n",
    "**TODO:HOW DO I SEND ETH WITH THE TRANSACTION?**"
   ]
  },
  {
   "cell_type": "code",
   "execution_count": 83,
   "id": "ba1df48c-bbe9-49d7-91ee-d09fe60d84c3",
   "metadata": {},
   "outputs": [
    {
     "data": {
      "text/plain": [
       "{'data': '0xf1c5e0140000000000000000000000002260fac5e5542a773aa44fbcfedf7c193bc2c599000000000000000000000000a0b86991c6218b36c1d19d4a2e9eb0ce3606eb4800000000000000000000000000000000000000000000000000000000000000a000000000000000000000000000000000000000000000000000000000ffffffff00000000000000000000000000000000000000000000000000000000000f42400000000000000000000000000000000000000000000000000000000000000001000000000000000000000000000000000000000000000000000000000000003100000000000000000000000000000000000000000000000000000000000186a0',\n",
       " 'to': '0x2FdE9E0cE83769E88eAA9FB7BE27cb26c385d1b2',\n",
       " 'gasLimit': {'type': 'BigNumber', 'hex': '0x3b9ac9ff'}}"
      ]
     },
     "execution_count": 83,
     "metadata": {},
     "output_type": "execute_result"
    }
   ],
   "source": [
    "r = SDK.composeTradeBySourceTransaction(sourceToken=T.WBTC.a, targetToken=T.USDC.a, tradeActions=tradeActions, \n",
    "                                        deadline=None, minReturn=None, overrides=None, sync=True)\n",
    "data = r.json()[\"data\"]\n",
    "data"
   ]
  },
  {
   "cell_type": "code",
   "execution_count": 84,
   "id": "23aa3dbb-37b1-4997-bd56-cc5a956573e8",
   "metadata": {},
   "outputs": [
    {
     "data": {
      "text/plain": [
       "{'success': True,\n",
       " 'data': {'txReceipt': {'hash': '0x2d62386f7591dc1a9b3d4ab015d0b714b83c8d0f22a3a0df61bdf6ccd2d7b1fe',\n",
       "   'nonce': None,\n",
       "   'gasLimit': None,\n",
       "   'gasPrice': None,\n",
       "   'data': None,\n",
       "   'value': None,\n",
       "   'chainId': None,\n",
       "   'confirmations': 0,\n",
       "   'from': None}}}"
      ]
     },
     "execution_count": 84,
     "metadata": {},
     "output_type": "execute_result"
    }
   ],
   "source": [
    "r = SDK.signsubmittx(data, sign=True)\n",
    "r.json()"
   ]
  },
  {
   "cell_type": "markdown",
   "id": "dd668a06-14e9-448d-8cf4-d5311317c11d",
   "metadata": {},
   "source": [
    "#### `getTradeData` -- integrated function (here used \"by target\")\n",
    "\n",
    "**TODO**"
   ]
  },
  {
   "cell_type": "markdown",
   "id": "b0446f55-ea67-47a8-a9da-18a05df6fef2",
   "metadata": {},
   "source": [
    "#### `composeTradeByTargetTransaction` -- create transaction \"by target\"\n",
    "\n",
    "**TODO**"
   ]
  },
  {
   "cell_type": "markdown",
   "id": "3fb606ce-bb98-4331-bb59-9d3ee5fec920",
   "metadata": {},
   "source": [
    "### Step-by-step endpoints\n",
    "\n",
    "**THE BELOW DESCRIPTION IS NOT CORRECT, BUT YOU DO NOT GENERALLY NEED THE STEP BY STEP ANYWAY**"
   ]
  },
  {
   "cell_type": "markdown",
   "id": "2d1420bd-e281-436a-a957-f1f33d298bf5",
   "metadata": {},
   "source": [
    "#### `getMatchParams` -- order matching step 1\n",
    "\n",
    "This is the first step in the matching process executed by `getTradeData`. It takes the desired trade, and returns amongst other data the dict of `orders` against which to much. This dict has as key the `orderid` and as value the order parameters `AByz`. The `orders` part of the returned dict can be formatted into Python suitable values (notably, `BigNumber` to `int`) using `reformatOrders`. A single order (and any dict for that matter) can be converted using `bn2intd`."
   ]
  },
  {
   "cell_type": "code",
   "execution_count": 85,
   "id": "f19da187-f219-49d8-b4c6-3c03e3869ef4",
   "metadata": {},
   "outputs": [
    {
     "data": {
      "text/plain": [
       "{'orders': {'9': {'y': {'type': 'BigNumber', 'hex': '0x03661fe5b7e5'},\n",
       "   'z': {'type': 'BigNumber', 'hex': '0x03661fe5b7e5'},\n",
       "   'A': {'type': 'BigNumber', 'hex': '0x2e90edfc'},\n",
       "   'B': {'type': 'BigNumber', 'hex': '0x02452e080e'}},\n",
       "  '19': {'y': {'type': 'BigNumber', 'hex': '0x0aaa33778a'},\n",
       "   'z': {'type': 'BigNumber', 'hex': '0x0aaa33778a'},\n",
       "   'A': {'type': 'BigNumber', 'hex': '0x6485689a'},\n",
       "   'B': {'type': 'BigNumber', 'hex': '0x0289c75e3b'}},\n",
       "  '20': {'y': {'type': 'BigNumber', 'hex': '0x0bebc200'},\n",
       "   'z': {'type': 'BigNumber', 'hex': '0x06bed93403'},\n",
       "   'A': {'type': 'BigNumber', 'hex': '0x6485689a'},\n",
       "   'B': {'type': 'BigNumber', 'hex': '0x0289c75e3b'}},\n",
       "  '21': {'y': {'type': 'BigNumber', 'hex': '0x057f23dbe8'},\n",
       "   'z': {'type': 'BigNumber', 'hex': '0x06beb38a56'},\n",
       "   'A': {'type': 'BigNumber', 'hex': '0x6485689a'},\n",
       "   'B': {'type': 'BigNumber', 'hex': '0x0289c75e3b'}},\n",
       "  '22': {'y': {'type': 'BigNumber', 'hex': '0x03c5db462e'},\n",
       "   'z': {'type': 'BigNumber', 'hex': '0x0ae92f587f'},\n",
       "   'A': {'type': 'BigNumber', 'hex': '0x6485689a'},\n",
       "   'B': {'type': 'BigNumber', 'hex': '0x0289c75e3b'}},\n",
       "  '24': {'y': {'type': 'BigNumber', 'hex': '0x02540be400'},\n",
       "   'z': {'type': 'BigNumber', 'hex': '0x06be956992'},\n",
       "   'A': {'type': 'BigNumber', 'hex': '0x6485689a'},\n",
       "   'B': {'type': 'BigNumber', 'hex': '0x0289c75e3b'}},\n",
       "  '25': {'y': {'type': 'BigNumber', 'hex': '0x04a817c800'},\n",
       "   'z': {'type': 'BigNumber', 'hex': '0x06beb38a59'},\n",
       "   'A': {'type': 'BigNumber', 'hex': '0x6485689a'},\n",
       "   'B': {'type': 'BigNumber', 'hex': '0x0289c75e3b'}},\n",
       "  '27': {'y': {'type': 'BigNumber', 'hex': '0x1d2a8ab43f'},\n",
       "   'z': {'type': 'BigNumber', 'hex': '0x1d2a8ab43f'},\n",
       "   'A': {'type': 'BigNumber', 'hex': '0x6485689a'},\n",
       "   'B': {'type': 'BigNumber', 'hex': '0x02c562283b'}},\n",
       "  '28': {'y': {'type': 'BigNumber', 'hex': '0x0cf40bac2c'},\n",
       "   'z': {'type': 'BigNumber', 'hex': '0x0cf40bac2c'},\n",
       "   'A': {'type': 'BigNumber', 'hex': '0x5899a69a'},\n",
       "   'B': {'type': 'BigNumber', 'hex': '0x0271efda3b'}},\n",
       "  '29': {'y': {'type': 'BigNumber', 'hex': '0x0cf40bac2c'},\n",
       "   'z': {'type': 'BigNumber', 'hex': '0x0cf40bac2c'},\n",
       "   'A': {'type': 'BigNumber', 'hex': '0x5899a69a'},\n",
       "   'B': {'type': 'BigNumber', 'hex': '0x0271efda3b'}},\n",
       "  '31': {'y': {'type': 'BigNumber', 'hex': '0x0ba4a643c1'},\n",
       "   'z': {'type': 'BigNumber', 'hex': '0x0ba4a643c1'},\n",
       "   'A': {'type': 'BigNumber', 'hex': '0x773c93a8'},\n",
       "   'B': {'type': 'BigNumber', 'hex': '0x02128aca93'}},\n",
       "  '32': {'y': {'type': 'BigNumber', 'hex': '0x0133562191'},\n",
       "   'z': {'type': 'BigNumber', 'hex': '0x0133562191'},\n",
       "   'A': {'type': 'BigNumber', 'hex': '0x00'},\n",
       "   'B': {'type': 'BigNumber', 'hex': '0x029f16b11c'}},\n",
       "  '33': {'y': {'type': 'BigNumber', 'hex': '0x012a05f200'},\n",
       "   'z': {'type': 'BigNumber', 'hex': '0x012a05f200'},\n",
       "   'A': {'type': 'BigNumber', 'hex': '0x00'},\n",
       "   'B': {'type': 'BigNumber', 'hex': '0x02a3e516c7'}},\n",
       "  '48': {'y': {'type': 'BigNumber', 'hex': '0x3b9aca00'},\n",
       "   'z': {'type': 'BigNumber', 'hex': '0x3b9aca00'},\n",
       "   'A': {'type': 'BigNumber', 'hex': '0x16d5b686'},\n",
       "   'B': {'type': 'BigNumber', 'hex': '0x025ce93f84'}},\n",
       "  '52': {'y': {'type': 'BigNumber', 'hex': '0xe8d4a51000'},\n",
       "   'z': {'type': 'BigNumber', 'hex': '0xe8d4a51000'},\n",
       "   'A': {'type': 'BigNumber', 'hex': '0x1cc8ffb7'},\n",
       "   'B': {'type': 'BigNumber', 'hex': '0x01da88051e'}},\n",
       "  '53': {'y': {'type': 'BigNumber', 'hex': '0x02540be400'},\n",
       "   'z': {'type': 'BigNumber', 'hex': '0x02540be400'},\n",
       "   'A': {'type': 'BigNumber', 'hex': '0x4ddd0339'},\n",
       "   'B': {'type': 'BigNumber', 'hex': '0x01f75104d5'}},\n",
       "  '60': {'y': {'type': 'BigNumber', 'hex': '0x174876e800'},\n",
       "   'z': {'type': 'BigNumber', 'hex': '0x174876e800'},\n",
       "   'A': {'type': 'BigNumber', 'hex': '0x4a5e74f1'},\n",
       "   'B': {'type': 'BigNumber', 'hex': '0x02128aca93'}},\n",
       "  '83': {'y': {'type': 'BigNumber', 'hex': '0xb5c3d37d'},\n",
       "   'z': {'type': 'BigNumber', 'hex': '0xb5c3d37d'},\n",
       "   'A': {'type': 'BigNumber', 'hex': '0x154f52e1'},\n",
       "   'B': {'type': 'BigNumber', 'hex': '0x0289c75e3b'}},\n",
       "  '87': {'y': {'type': 'BigNumber', 'hex': '0xb5c3d37d'},\n",
       "   'z': {'type': 'BigNumber', 'hex': '0xb5c3d37d'},\n",
       "   'A': {'type': 'BigNumber', 'hex': '0x154f52e1'},\n",
       "   'B': {'type': 'BigNumber', 'hex': '0x0289c75e3b'}},\n",
       "  '462': {'y': {'type': 'BigNumber', 'hex': '0xb5c3d37d'},\n",
       "   'z': {'type': 'BigNumber', 'hex': '0xb5c3d37d'},\n",
       "   'A': {'type': 'BigNumber', 'hex': '0x154f52e1'},\n",
       "   'B': {'type': 'BigNumber', 'hex': '0x0289c75e3b'}},\n",
       "  '470': {'y': {'type': 'BigNumber', 'hex': '0x1dcd6500'},\n",
       "   'z': {'type': 'BigNumber', 'hex': '0x1dcd6500'},\n",
       "   'A': {'type': 'BigNumber', 'hex': '0x154f52e1'},\n",
       "   'B': {'type': 'BigNumber', 'hex': '0x0289c75e3b'}}},\n",
       " 'amountWei': '1000000000000000000',\n",
       " 'sourceDecimals': 18,\n",
       " 'targetDecimals': 6}"
      ]
     },
     "execution_count": 85,
     "metadata": {},
     "output_type": "execute_result"
    }
   ],
   "source": [
    "r = SDK.getMatchParams(sourceToken=T.ETH.a, targetToken=T.USDC.a, amount=1, tradeByTargetAmount=False, sync=True)\n",
    "d = r.json()[\"data\"]\n",
    "d"
   ]
  },
  {
   "cell_type": "code",
   "execution_count": 86,
   "id": "787d71e7-22f0-491a-974c-ae8f3679e90d",
   "metadata": {},
   "outputs": [
    {
     "data": {
      "text/plain": [
       "{'9': {'y': 3737156696037,\n",
       "  'z': 3737156696037,\n",
       "  'A': 781250044,\n",
       "  'B': 9750579214},\n",
       " '19': {'y': 45805172618, 'z': 45805172618, 'A': 1686464666, 'B': 10901478971},\n",
       " '20': {'y': 200000000, 'z': 28971709443, 'A': 1686464666, 'B': 10901478971},\n",
       " '21': {'y': 23607892968, 'z': 28969241174, 'A': 1686464666, 'B': 10901478971},\n",
       " '22': {'y': 16204383790, 'z': 46861867135, 'A': 1686464666, 'B': 10901478971},\n",
       " '24': {'y': 10000000000, 'z': 28967266706, 'A': 1686464666, 'B': 10901478971},\n",
       " '25': {'y': 20000000000, 'z': 28969241177, 'A': 1686464666, 'B': 10901478971},\n",
       " '27': {'y': 125267784767,\n",
       "  'z': 125267784767,\n",
       "  'A': 1686464666,\n",
       "  'B': 11901478971},\n",
       " '28': {'y': 55634013228, 'z': 55634013228, 'A': 1486464666, 'B': 10501478971},\n",
       " '29': {'y': 55634013228, 'z': 55634013228, 'A': 1486464666, 'B': 10501478971},\n",
       " '31': {'y': 50007000001, 'z': 50007000001, 'A': 2000458664, 'B': 8901020307},\n",
       " '32': {'y': 5156250001, 'z': 5156250001, 'A': 0, 'B': 11258999068},\n",
       " '33': {'y': 5000000000, 'z': 5000000000, 'A': 0, 'B': 11339634375},\n",
       " '48': {'y': 1000000000, 'z': 1000000000, 'A': 383104646, 'B': 10148724612},\n",
       " '52': {'y': 1000000000000,\n",
       "  'z': 1000000000000,\n",
       "  'A': 482934711,\n",
       "  'B': 7961314590},\n",
       " '53': {'y': 10000000000, 'z': 10000000000, 'A': 1306329913, 'B': 8444249301},\n",
       " '60': {'y': 100000000000,\n",
       "  'z': 100000000000,\n",
       "  'A': 1247704305,\n",
       "  'B': 8901020307},\n",
       " '83': {'y': 3049509757, 'z': 3049509757, 'A': 357520097, 'B': 10901478971},\n",
       " '87': {'y': 3049509757, 'z': 3049509757, 'A': 357520097, 'B': 10901478971},\n",
       " '462': {'y': 3049509757, 'z': 3049509757, 'A': 357520097, 'B': 10901478971},\n",
       " '470': {'y': 500000000, 'z': 500000000, 'A': 357520097, 'B': 10901478971}}"
      ]
     },
     "execution_count": 86,
     "metadata": {},
     "output_type": "execute_result"
    }
   ],
   "source": [
    "SDK.reformatOrders(d[\"orders\"])"
   ]
  },
  {
   "cell_type": "code",
   "execution_count": 87,
   "id": "6e8acc55-bac3-4b23-a924-212d6c5cda8b",
   "metadata": {},
   "outputs": [
    {
     "data": {
      "text/plain": [
       "{'y': 3737156696037, 'z': 3737156696037, 'A': 781250044, 'B': 9750579214}"
      ]
     },
     "execution_count": 87,
     "metadata": {},
     "output_type": "execute_result"
    }
   ],
   "source": [
    "SDK.bn2intd(tuple(d[\"orders\"].values())[0])"
   ]
  },
  {
   "cell_type": "markdown",
   "id": "c4bb6032-5308-410e-bd3a-8e4d1b937161",
   "metadata": {},
   "source": [
    "#### `getMatchActions` -- order matching step 2\n",
    "\n",
    "the parameter `orders` is a list of encoded strategies (yzAB), in the same format as the one returned by `getMatchParams`. `tradeByTargetAmount` determines whether by source or by target, and `amountWei` is the respective source or target amount in token wei. It returns an array of trade actions `[{id, input, output}, ...]`. This function does work on arbitrary order data which does not necessarily correspond to actual orders on-chain. This function returns the trade actions."
   ]
  },
  {
   "cell_type": "code",
   "execution_count": 88,
   "id": "4826ec32-60ab-47c8-b4d6-4e37476a9b52",
   "metadata": {},
   "outputs": [
    {
     "data": {
      "text/plain": [
       "{'success': True, 'data': {'result': 'not implemented yet [sync]'}}"
      ]
     },
     "execution_count": 88,
     "metadata": {},
     "output_type": "execute_result"
    }
   ],
   "source": [
    "r = SDK.getMatchActions(amountWei=10000, tradeByTargetAmount=None, orders=None, sync=True)\n",
    "r.json()"
   ]
  },
  {
   "cell_type": "markdown",
   "id": "78bfe60a-7b4c-4cb1-a2f6-796cbd143c79",
   "metadata": {},
   "source": [
    "#### `composeTradeByTargetTransaction` and `composeTradeBySourceTransaction` -- order matching step 3\n",
    "\n",
    "Those functions take the trade actions returned from `getMatchActions` and it returns `????`"
   ]
  },
  {
   "cell_type": "code",
   "execution_count": 89,
   "id": "553f6581-40c0-4629-891c-dfc90276f01b",
   "metadata": {},
   "outputs": [
    {
     "data": {
      "text/plain": [
       "{'success': False,\n",
       " 'error': 'value out-of-bounds (argument=\"maxInput\", value=\"340282366920938463463374607431768211455000000000000000000\", code=INVALID_ARGUMENT, version=abi/5.7.0)'}"
      ]
     },
     "execution_count": 89,
     "metadata": {},
     "output_type": "execute_result"
    }
   ],
   "source": [
    "r = SDK.composeTradeByTargetTransaction(sourceToken=T.ETH.a, targetToken=T.USDC.a, tradeActions={}, \n",
    "                                        deadline=None, maxInput=None, overrides=None, sync=True)\n",
    "r.json()"
   ]
  },
  {
   "cell_type": "code",
   "execution_count": 90,
   "id": "7d86f2f2-a961-49a0-a2b4-5056e47c1a2e",
   "metadata": {},
   "outputs": [
    {
     "data": {
      "text/plain": [
       "{'success': True,\n",
       " 'data': {'data': '0xf1c5e014000000000000000000000000eeeeeeeeeeeeeeeeeeeeeeeeeeeeeeeeeeeeeeee000000000000000000000000a0b86991c6218b36c1d19d4a2e9eb0ce3606eb4800000000000000000000000000000000000000000000000000000000000000a000000000000000000000000000000000000000000000000000000000ffffffff00000000000000000000000000000000000000000000000000000000000f42400000000000000000000000000000000000000000000000000000000000000000',\n",
       "  'to': '0x2FdE9E0cE83769E88eAA9FB7BE27cb26c385d1b2',\n",
       "  'gasLimit': {'type': 'BigNumber', 'hex': '0x3b9ac9ff'},\n",
       "  'value': {'type': 'BigNumber', 'hex': '0x00'}}}"
      ]
     },
     "execution_count": 90,
     "metadata": {},
     "output_type": "execute_result"
    }
   ],
   "source": [
    "r = SDK.composeTradeBySourceTransaction(sourceToken=T.ETH.a, targetToken=T.USDC.a, tradeActions={}, \n",
    "                                        deadline=None, minReturn=None, overrides=None, sync=True)\n",
    "r.json()"
   ]
  },
  {
   "cell_type": "markdown",
   "id": "a316f6dc-7e94-435b-9d0d-9a38b0d8dddd",
   "metadata": {},
   "source": [
    "#### `getTradeDataFromActions` -- order matching step 4\n",
    "\n",
    "???"
   ]
  },
  {
   "cell_type": "code",
   "execution_count": 91,
   "id": "494f9787-def7-4acd-af30-7dc51525da59",
   "metadata": {},
   "outputs": [
    {
     "data": {
      "text/plain": [
       "{'success': True,\n",
       " 'data': {'tradeActions': [],\n",
       "  'actionsTokenRes': [],\n",
       "  'totalSourceAmount': '0',\n",
       "  'totalTargetAmount': '0',\n",
       "  'effectiveRate': '0',\n",
       "  'actionsWei': []}}"
      ]
     },
     "execution_count": 91,
     "metadata": {},
     "output_type": "execute_result"
    }
   ],
   "source": [
    "r = SDK.getTradeDataFromActions(sourceToken=T.ETH.a, targetToken=T.USDC.a, tradeByTargetAmount=False, actionsWei=[], sync=True)\n",
    "r.json()"
   ]
  }
 ],
 "metadata": {
  "jupytext": {
   "encoding": "# -*- coding: utf-8 -*-",
   "formats": "ipynb,py:light"
  },
  "kernelspec": {
   "display_name": "Python 3",
   "language": "python",
   "name": "python3"
  },
  "language_info": {
   "codemirror_mode": {
    "name": "ipython",
    "version": 3
   },
   "file_extension": ".py",
   "mimetype": "text/x-python",
   "name": "python",
   "nbconvert_exporter": "python",
   "pygments_lexer": "ipython3",
   "version": "3.8.8"
  }
 },
 "nbformat": 4,
 "nbformat_minor": 5
}
