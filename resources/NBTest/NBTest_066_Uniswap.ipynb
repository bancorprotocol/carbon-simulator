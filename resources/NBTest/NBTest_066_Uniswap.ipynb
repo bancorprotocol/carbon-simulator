{
 "cells": [
  {
   "cell_type": "code",
   "execution_count": 1,
   "id": "cc40bc23-abde-4094-abec-419f0a7fa81e",
   "metadata": {},
   "outputs": [
    {
     "name": "stdout",
     "output_type": "stream",
     "text": [
      "[stdimports] imported np, pd, plt, os, sqrt, exp, log\n",
      "ConstantProductCurve v2.6.1 (18/Apr/2023)\n",
      "Univ3Calculator v1.1 (19/Apr/2023)\n",
      "Carbon v2.4.2-BETA2 (09/Apr/2023)\n"
     ]
    },
    {
     "name": "stderr",
     "output_type": "stream",
     "text": [
      "/tmp/ipykernel_1172/2876167754.py:8: MatplotlibDeprecationWarning: The seaborn styles shipped by Matplotlib are deprecated since 3.6, as they no longer correspond to the styles shipped by seaborn. However, they will remain available as 'seaborn-v0_8-<style>'. Alternatively, directly use the seaborn API instead.\n",
      "  plt.style.use('seaborn-dark')\n"
     ]
    }
   ],
   "source": [
    "from carbon.helpers.stdimports import *\n",
    "# from carbon import CarbonOrderUI\n",
    "from carbon.tools.cpc import ConstantProductCurve as CPC, CPCContainer, T, CPCInverter\n",
    "# from carbon.tools.optimizer import CPCArbOptimizer, F\n",
    "# import carbon.tools.tokenscale as ts\n",
    "from carbon.tools.univ3calc import Univ3Calculator as U3\n",
    "from dataclasses import dataclass, asdict\n",
    "plt.style.use('seaborn-dark')\n",
    "plt.rcParams['figure.figsize'] = [12,6]\n",
    "print(\"{0.__name__} v{0.__VERSION__} ({0.__DATE__})\".format(CPC))\n",
    "print(\"{0.__name__} v{0.__VERSION__} ({0.__DATE__})\".format(U3))\n",
    "# print(\"{0.__name__} v{0.__VERSION__} ({0.__DATE__})\".format(CarbonOrderUI))\n",
    "# print(\"{0.__name__} v{0.__VERSION__} ({0.__DATE__})\".format(ts.TokenScaleBase))\n",
    "# print(\"{0.__name__} v{0.__VERSION__} ({0.__DATE__})\".format(CPCArbOptimizer))\n",
    "print_version(require=\"2.4.2\")"
   ]
  },
  {
   "cell_type": "markdown",
   "id": "b3f59f14-b91b-4dba-94b0-3d513aaf41c7",
   "metadata": {},
   "source": [
    "# Uniswap code [NBTest066]"
   ]
  },
  {
   "cell_type": "markdown",
   "id": "a823fa57-5a8b-4200-9e91-6046919ff7a6",
   "metadata": {},
   "source": [
    "## u3 standalone"
   ]
  },
  {
   "cell_type": "code",
   "execution_count": 2,
   "id": "3a47997d-a56f-44dd-a893-e3b35ca85bd8",
   "metadata": {},
   "outputs": [],
   "source": [
    "data = {\n",
    "    \"token0\": \"0xA0b86991c6218b36c1d19D4a2e9Eb0cE3606eB48\", # USDC\n",
    "    \"token1\": \"0xC02aaA39b223FE8D0A0e5C4F27eAD9083C756Cc2\", # WETH \n",
    "    \"sqrt_price_q96\": \"1725337071198080486317035748446190\", \n",
    "    \"tick\": \"199782\", \n",
    "    \"liquidity\": \"36361853546581410773\"\n",
    "}"
   ]
  },
  {
   "cell_type": "code",
   "execution_count": 3,
   "id": "6ddf4a6f-b9f8-4a56-b376-2b215fb4c867",
   "metadata": {
    "lines_to_next_cell": 0
   },
   "outputs": [],
   "source": [
    "u1 = U3(\n",
    "    tkn0=\"USDC\", \n",
    "    tkn0decv=6, \n",
    "    tkn1=\"WETH\", \n",
    "    tkn1decv=18,\n",
    "    sp96=data[\"sqrt_price_q96\"],\n",
    "    tick=data[\"tick\"],\n",
    "    liquidity=data[\"liquidity\"],\n",
    "    fee_const = U3.FEE500,\n",
    ")\n",
    "u2 = U3.from_dict(data, U3.FEE500)\n",
    "assert u1 == u2"
   ]
  },
  {
   "cell_type": "code",
   "execution_count": 4,
   "id": "25b754a1-ba81-49ee-a6f8-342cf6bc45ae",
   "metadata": {},
   "outputs": [
    {
     "name": "stdout",
     "output_type": "stream",
     "text": [
      "Uniswap v3 Range USDC/WETH (fee=0.05%)\n",
      "  Pa =        0.000   P=       0.000   Pb =        0.000 WETH per USDC\n",
      "1/Pa =    2,109.107 1/P=   2,108.683 1/Pb =    2,106.999 USDC per WETH\n",
      "---\n",
      " full P = 0.00047422968986928404, full 1/P = 2108.6828205033694\n",
      "\n"
     ]
    }
   ],
   "source": [
    "u = u2\n",
    "assert asdict(u) == {\n",
    "    'tkn0': 'USDC',\n",
    "    'tkn1': 'WETH',\n",
    "    'sp96': int(data[\"sqrt_price_q96\"]),\n",
    "    'tick': int(data[\"tick\"]),\n",
    "    'liquidity': int(data[\"liquidity\"]),\n",
    "    'fee_const': U3.FEE500\n",
    "}\n",
    "assert u.tkn0 == \"USDC\"\n",
    "assert u.tkn1 == \"WETH\"\n",
    "assert u.tkn0dec == 6\n",
    "assert u.tkn1dec == 18\n",
    "assert u.decf == 1e-12\n",
    "assert u.dec_factor_wei0_per_wei1 == u.decf\n",
    "assert iseq(u.p, 0.00047422968986928404)\n",
    "assert iseq(1/u.p, 2108.6828205033694)\n",
    "assert u.p == u.price_tkn1_per_tkn0\n",
    "assert 1/u.p == u.price_tkn0_per_tkn1\n",
    "assert u.price_convention == 'USDC/WETH [WETH per USDC]'\n",
    "assert iseq(u._price_f(1725337071198080486317035748446190), 474229689.86928403)\n",
    "assert iseq(u._price_f(u.sp96), 474229689.86928403)\n",
    "assert u.ticksize == 10\n",
    "ta, tb =  u.tickab\n",
    "par, pbr = u.papb_raw\n",
    "pa, pb = u.papb_tkn1_per_tkn0\n",
    "pai, pbi = u.papb_tkn0_per_tkn1\n",
    "assert ta <= u.tick\n",
    "assert tb >= u.tick\n",
    "assert ta % u.ticksize == 0\n",
    "assert tb % u.ticksize == 0\n",
    "assert tb-ta == u.ticksize\n",
    "assert iseq(par, 474134297.0246954)\n",
    "assert iseq(pbr, 474608644.73905975)\n",
    "assert iseq(pbr/par, 1.0001**u.ticksize)\n",
    "assert iseq(pa, 0.0004741342970246954)\n",
    "assert iseq(pb, 0.00047460864473905973)\n",
    "assert iseq(pbr/par, pb/pa)\n",
    "assert iseq(pbr/par, pai/pbi)\n",
    "assert pa<pb\n",
    "assert pai>pbi\n",
    "assert pa == par * u.decf\n",
    "assert pb == pbr * u.decf\n",
    "assert iseq(pai, 2109.1070742514007)\n",
    "assert iseq(pbi, 2106.999126722188)\n",
    "assert pai == 1/pa\n",
    "assert pbi == 1/pb\n",
    "assert u.p >= pa\n",
    "assert u.p <= pb\n",
    "assert u.fee_const == 500\n",
    "assert u.fee == 0.0005\n",
    "assert u.info()\n",
    "print(u.info())"
   ]
  },
  {
   "cell_type": "code",
   "execution_count": 5,
   "id": "72649b0b-da5a-4b38-8e42-67aa77cc8eea",
   "metadata": {},
   "outputs": [
    {
     "data": {
      "text/plain": [
       "((666745.6837363543, 'USDC'),\n",
       " (79.64514158623042, 'WETH'),\n",
       " (395.83574040620545, 'WETH'))"
      ]
     },
     "execution_count": 5,
     "metadata": {},
     "output_type": "execute_result"
    }
   ],
   "source": [
    "assert u.liquidity == int(data[\"liquidity\"])\n",
    "assert u.L == 36361853.54658141\n",
    "assert u.liquidity/u.L == 1e18/1e6\n",
    "assert u.L2 == u.L**2\n",
    "assert u.Lsquared == u.L**2\n",
    "assert u.k == u.L2\n",
    "assert u.kbar == u.L\n",
    "u.tkn0reserve(incltoken=True), u.tkn1reserve(incltoken=True), u.tvl(incltoken=True)"
   ]
  },
  {
   "cell_type": "markdown",
   "id": "c36542d0-7133-46d5-8c9c-8a6ed6d4dc3c",
   "metadata": {},
   "source": [
    "## with cpc"
   ]
  },
  {
   "cell_type": "code",
   "execution_count": 6,
   "id": "b413ba26-56f2-4fee-b0d2-ee71548851a3",
   "metadata": {},
   "outputs": [],
   "source": [
    "data = {\n",
    "    \"token0\": \"0xA0b86991c6218b36c1d19D4a2e9Eb0cE3606eB48\", \n",
    "    \"token1\": \"0xC02aaA39b223FE8D0A0e5C4F27eAD9083C756Cc2\", \n",
    "    \"sqrt_price_q96\": \"1727031172247131125466697684053376\", \n",
    "    \"tick\": \"199801\", \n",
    "    \"liquidity\": \"37398889145617323159\"\n",
    "}\n",
    "u = U3.from_dict(data, U3.FEE500)"
   ]
  },
  {
   "cell_type": "code",
   "execution_count": 7,
   "id": "dd9897ee",
   "metadata": {},
   "outputs": [
    {
     "data": {
      "text/plain": [
       "ConstantProductCurve(k=1398676909326173.8, x=1715687194.7056706, x_act=716877.5715601444, y_act=66.88731140131131, pair='USDC/WETH', cid='0', fee=0.0005, descr='', constr='pkpp', params={'uv3raw': {'tkn0': 'USDC', 'tkn1': 'WETH', 'sp96': 1727031172247131125466697684053376, 'tick': 199801, 'liquidity': 37398889145617323159, 'fee_const': 500}, 'L': 37398889.14561733})"
      ]
     },
     "execution_count": 7,
     "metadata": {},
     "output_type": "execute_result"
    }
   ],
   "source": [
    "pa, pb = u.papb_tkn1_per_tkn0\n",
    "curve = CPC.from_univ3(\n",
    "    Pmarg = u.p,\n",
    "    uniL = u.L,\n",
    "    uniPa = pa,\n",
    "    uniPb = pb,\n",
    "    pair = u.pair,\n",
    "    fee = u.fee,\n",
    "    descr = \"\",\n",
    "    params = dict(uv3raw=asdict(u)),\n",
    "    cid = \"0\",\n",
    ")\n",
    "curve"
   ]
  },
  {
   "cell_type": "code",
   "execution_count": 8,
   "id": "f8fa2097",
   "metadata": {},
   "outputs": [
    {
     "name": "stdout",
     "output_type": "stream",
     "text": [
      "Reserve: 716,877.572 USDC, 66.887 WETH\n",
      "TVL = 857,645.122 USDC = 407.520 WETH\n"
     ]
    }
   ],
   "source": [
    "c = curve\n",
    "print(f\"Reserve: {c.x_act:,.3f} {c.tknx}, {c.y_act:,.3f} {c.tkny}\")\n",
    "print(f\"TVL = {c.tvl(tkn=c.tknx):,.3f} {c.tknx} = {c.tvl(tkn=c.tkny):,.3f} {c.tkny}\")\n",
    "assert iseq(c.x_act, 716877.5715601444)\n",
    "assert iseq(c.y_act, 66.88731140131131)\n",
    "assert iseq(c.tvl(tkn=c.tknx), 857645.1222000704)\n",
    "assert iseq(c.tvl(tkn=c.tkny), 407.51988721569177)"
   ]
  },
  {
   "cell_type": "code",
   "execution_count": 9,
   "id": "41b5fdaf-fe24-463f-bc81-76600c1d4068",
   "metadata": {},
   "outputs": [
    {
     "name": "stdout",
     "output_type": "stream",
     "text": [
      "Reserve: 716,877.572 USDC, 66.887 WETH\n",
      "TVL = 857,645.122 USDC = 407.520 WETH\n"
     ]
    },
    {
     "data": {
      "text/plain": [
       "((716877.571560313, 'USDC'),\n",
       " (66.8873114012806, 'WETH'),\n",
       " (407.5198872157411, 'WETH'))"
      ]
     },
     "execution_count": 9,
     "metadata": {},
     "output_type": "execute_result"
    }
   ],
   "source": [
    "print(f\"Reserve: {u.tkn0reserve():,.3f} {c.tknx}, {u.tkn1reserve():,.3f} {c.tkny}\")\n",
    "print(f\"TVL = {u.tvl(astkn0=True):,.3f} {c.tknx} = {u.tvl(astkn0=False):,.3f} {c.tkny}\")\n",
    "assert iseq(u.tkn0reserve(), c.x_act)\n",
    "assert iseq(u.tkn1reserve(), c.y_act)\n",
    "assert iseq(u.tvl(astkn0=False), c.tvl(tkn=c.tkny))\n",
    "assert iseq(u.tvl(astkn0=True), c.tvl(tkn=c.tknx))\n",
    "assert u.tkn0reserve(incltoken=True)[1] == u.tkn0\n",
    "assert u.tkn1reserve(incltoken=True)[1] == u.tkn1\n",
    "assert u.tvl(astkn0=True, incltoken=True)[1] == u.tkn0\n",
    "assert u.tvl(astkn0=False, incltoken=True)[1] == u.tkn1\n",
    "u.tkn0reserve(incltoken=True), u.tkn1reserve(incltoken=True), u.tvl(incltoken=True)"
   ]
  },
  {
   "cell_type": "code",
   "execution_count": 10,
   "id": "c2680822",
   "metadata": {},
   "outputs": [
    {
     "data": {
      "text/plain": [
       "ConstantProductCurve(k=1398676909326173.8, x=1715687194.7056706, x_act=716877.5715601444, y_act=66.88731140131131, pair='USDC/WETH', cid='0', fee=0.0005, descr='', constr='pkpp', params={'uv3raw': {'tkn0': 'USDC', 'tkn1': 'WETH', 'sp96': 1727031172247131125466697684053376, 'tick': 199801, 'liquidity': 37398889145617323159, 'fee_const': 500}, 'L': 37398889.14561733})"
      ]
     },
     "execution_count": 10,
     "metadata": {},
     "output_type": "execute_result"
    }
   ],
   "source": [
    "curve = CPC.from_univ3(\n",
    "    **u.cpc_params(),\n",
    "    descr = \"\",\n",
    "    params = dict(uv3raw=asdict(u)),\n",
    "    cid = \"0\",\n",
    ")\n",
    "curve"
   ]
  },
  {
   "cell_type": "code",
   "execution_count": 11,
   "id": "a77b197b",
   "metadata": {},
   "outputs": [
    {
     "name": "stdout",
     "output_type": "stream",
     "text": [
      "Reserve: 716,877.572 USDC, 66.887 WETH\n",
      "TVL = 857,645.122 USDC = 407.520 WETH\n"
     ]
    }
   ],
   "source": [
    "c = curve\n",
    "print(f\"Reserve: {c.x_act:,.3f} {c.tknx}, {c.y_act:,.3f} {c.tkny}\")\n",
    "print(f\"TVL = {c.tvl(tkn=c.tknx):,.3f} {c.tknx} = {c.tvl(tkn=c.tkny):,.3f} {c.tkny}\")"
   ]
  },
  {
   "cell_type": "code",
   "execution_count": 12,
   "id": "d8abe212",
   "metadata": {
    "lines_to_next_cell": 2
   },
   "outputs": [
    {
     "data": {
      "text/plain": [
       "ConstantProductCurve(k=1398676909326173.8, x=1715687194.7056706, x_act=716877.5715601444, y_act=66.88731140131131, pair='USDC/WETH', cid='0', fee=0.0005, descr='', constr='pkpp', params={'L': 37398889.14561733})"
      ]
     },
     "execution_count": 12,
     "metadata": {},
     "output_type": "execute_result"
    }
   ],
   "source": [
    "curve = CPC.from_univ3(\n",
    "    **u.cpc_params(\n",
    "        cid = \"0\",\n",
    "        descr = \"\",\n",
    "        #params = dict(uv3raw=asdict(u)),\n",
    "    ),\n",
    ")\n",
    "curve"
   ]
  },
  {
   "cell_type": "code",
   "execution_count": 13,
   "id": "3624a9c0",
   "metadata": {},
   "outputs": [
    {
     "name": "stdout",
     "output_type": "stream",
     "text": [
      "Reserve: 716,877.572 USDC, 66.887 WETH\n",
      "TVL = 857,645.122 USDC = 407.520 WETH\n"
     ]
    }
   ],
   "source": [
    "c = curve\n",
    "print(f\"Reserve: {c.x_act:,.3f} {c.tknx}, {c.y_act:,.3f} {c.tkny}\")\n",
    "print(f\"TVL = {c.tvl(tkn=c.tknx):,.3f} {c.tknx} = {c.tvl(tkn=c.tkny):,.3f} {c.tkny}\")"
   ]
  },
  {
   "cell_type": "code",
   "execution_count": null,
   "id": "66ff781d-f171-493e-b4c2-b1517b4f3307",
   "metadata": {},
   "outputs": [],
   "source": []
  }
 ],
 "metadata": {
  "jupytext": {
   "encoding": "# -*- coding: utf-8 -*-",
   "formats": "ipynb,py:light"
  },
  "kernelspec": {
   "display_name": "Python 3 (ipykernel)",
   "language": "python",
   "name": "python3"
  },
  "language_info": {
   "codemirror_mode": {
    "name": "ipython",
    "version": 3
   },
   "file_extension": ".py",
   "mimetype": "text/x-python",
   "name": "python",
   "nbconvert_exporter": "python",
   "pygments_lexer": "ipython3",
   "version": "3.10.7"
  }
 },
 "nbformat": 4,
 "nbformat_minor": 5
}
