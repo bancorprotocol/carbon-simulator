{
 "cells": [
  {
   "cell_type": "code",
   "execution_count": 108,
   "id": "ed525c67",
   "metadata": {},
   "outputs": [
    {
     "name": "stdout",
     "output_type": "stream",
     "text": [
      "Carbon v2.0-beta2 (8/Dec/2022)\n",
      "CarbonSimulatorUI v2.2 (8/Dec/2022)\n",
      "CarbonOrderUI v1.3 (11/Dec/2022)\n"
     ]
    }
   ],
   "source": [
    "from carbon import CarbonSimulatorUI, CarbonOrderUI, P, __version__, __date__\n",
    "from math import sqrt\n",
    "import numpy as np\n",
    "from matplotlib import pyplot as plt\n",
    "print(f\"Carbon v{__version__} ({__date__})\")\n",
    "print(\"{0.__name__} v{0.__VERSION__} ({0.__DATE__})\".format(CarbonSimulatorUI))\n",
    "print(\"{0.__name__} v{0.__VERSION__} ({0.__DATE__})\".format(CarbonOrderUI))"
   ]
  },
  {
   "cell_type": "markdown",
   "id": "795b0a19",
   "metadata": {},
   "source": [
    "# Marginal Price Routing Example"
   ]
  },
  {
   "cell_type": "markdown",
   "id": "8b8f176f",
   "metadata": {},
   "source": [
    "The Marginal Price Routing code at the end of this notebook required a number of changes to the Carbon library. In the first few sections below we collect a number of test for those new items."
   ]
  },
  {
   "cell_type": "markdown",
   "id": "0e481907",
   "metadata": {},
   "source": [
    "## CarbonPair related tests"
   ]
  },
  {
   "cell_type": "code",
   "execution_count": 109,
   "id": "59deb89b",
   "metadata": {},
   "outputs": [
    {
     "name": "stdout",
     "output_type": "stream",
     "text": [
      "P('ETH/USDC')\n",
      "P('ETH/USDC')\n"
     ]
    }
   ],
   "source": [
    "pair = P(\"ETH/USDC\")\n",
    "assert isinstance(pair, P)\n",
    "print(str(pair))\n",
    "assert str(pair) == \"P('ETH/USDC')\"\n",
    "pair2 = P.from_slashpair(\"  ETH / USDC\")\n",
    "print(pair2)\n",
    "assert isinstance(pair2, P)\n",
    "assert pair2.slashpair == \"ETH/USDC\"\n",
    "pair3 = P(pair2)\n",
    "assert isinstance(pair3, P)\n",
    "assert pair3==pair2"
   ]
  },
  {
   "cell_type": "markdown",
   "id": "6b8c161d",
   "metadata": {},
   "source": [
    "## CarbonOrderUI general tests"
   ]
  },
  {
   "cell_type": "code",
   "execution_count": 110,
   "id": "b65e8cf7",
   "metadata": {},
   "outputs": [
    {
     "data": {
      "text/plain": [
       "CarbonOrderUI(pair=P('ETH/USDC'), tkn='ETH', B=0.018257418583505537, S=0.004103261191492361, yint=10, y=10)"
      ]
     },
     "execution_count": 110,
     "metadata": {},
     "output_type": "execute_result"
    }
   ],
   "source": [
    "order = CarbonOrderUI.from_prices(\"ETH/USDC\", \"ETH\", 2000, 3000, 10, 10)\n",
    "assert isinstance(order, CarbonOrderUI)\n",
    "#print(round(order.B,10))\n",
    "assert round(order.B,10) == 0.0182574186\n",
    "#print(round(order.S,10))\n",
    "assert round(order.S,10) == 0.0041032612\n",
    "assert order.yint == 10\n",
    "assert order.y == 10\n",
    "assert order.pa == 2000\n",
    "assert order.pb == 3000\n",
    "assert order.p_marg == 2000\n",
    "assert order.pa == order.py\n",
    "assert order.pb == order.px\n",
    "assert order.total_liquidity == (10, 'ETH')\n",
    "assert round(order.p0, 10) == round(sqrt(2000*3000),10)\n",
    "assert round(order.widthpc, 10) == round((3000-2000)/sqrt(2000*3000),10)\n",
    "assert round(order.widthr, 10) == round(3000/2000,10)\n",
    "order"
   ]
  },
  {
   "cell_type": "code",
   "execution_count": 111,
   "id": "53011f97",
   "metadata": {},
   "outputs": [
    {
     "name": "stdout",
     "output_type": "stream",
     "text": [
      "('y must not be bigger than yint (y={y}, yint={yint})', 5, 10)\n"
     ]
    }
   ],
   "source": [
    "try:\n",
    "    CarbonOrderUI.from_prices(\"ETH/USDC\", \"ETH\", 2000, 3000, 5, 10)\n",
    "    raise RuntimeError(\"Should have raised exception\")\n",
    "except ValueError as e:\n",
    "    print(e)"
   ]
  },
  {
   "cell_type": "code",
   "execution_count": 112,
   "id": "d1842bf3",
   "metadata": {},
   "outputs": [
    {
     "name": "stdout",
     "output_type": "stream",
     "text": [
      "('yint must be non-negative', -10)\n"
     ]
    }
   ],
   "source": [
    "try:\n",
    "    CarbonOrderUI.from_prices(\"ETH/USDC\", \"ETH\", 2000, 3000, -10, -10)\n",
    "    raise RuntimeError(\"Should have raised exception\")\n",
    "except ValueError as e:\n",
    "    print(e)"
   ]
  },
  {
   "cell_type": "code",
   "execution_count": 113,
   "id": "781d3350",
   "metadata": {},
   "outputs": [
    {
     "name": "stdout",
     "output_type": "stream",
     "text": [
      "('y must be non-negative', -10)\n"
     ]
    }
   ],
   "source": [
    "try:\n",
    "    CarbonOrderUI.from_prices(\"ETH/USDC\", \"ETH\", 2000, 3000, 10, -10)\n",
    "    raise RuntimeError(\"Should have raised exception\")\n",
    "except ValueError as e:\n",
    "    print(e)"
   ]
  },
  {
   "cell_type": "code",
   "execution_count": 114,
   "id": "05c6959d",
   "metadata": {},
   "outputs": [
    {
     "name": "stdout",
     "output_type": "stream",
     "text": [
      "[from_prices] exchanging pa, pb\n"
     ]
    },
    {
     "data": {
      "text/plain": [
       "CarbonOrderUI(pair=P('ETH/USDC'), tkn='ETH', B=0.018257418583505537, S=0.004103261191492361, yint=10, y=10)"
      ]
     },
     "execution_count": 114,
     "metadata": {},
     "output_type": "execute_result"
    }
   ],
   "source": [
    "order = CarbonOrderUI.from_prices(\"ETH/USDC\", \"ETH\", 3000, 2000, 10, 10)\n",
    "assert order.pa == 2000\n",
    "assert order.pb == 3000\n",
    "order"
   ]
  },
  {
   "cell_type": "code",
   "execution_count": 115,
   "id": "2ff74ac6",
   "metadata": {},
   "outputs": [
    {
     "data": {
      "text/plain": [
       "CarbonOrderUI(pair=P('ETH/USDC'), tkn='USDC', B=27.386127875258307, S=4.236648726425486, yint=10000, y=10000)"
      ]
     },
     "execution_count": 115,
     "metadata": {},
     "output_type": "execute_result"
    }
   ],
   "source": [
    "orderr = CarbonOrderUI.from_prices(\"ETH/USDC\", \"USDC\", 1000, 750, 10000, 10000)\n",
    "assert orderr.pa == 1000\n",
    "assert round(orderr.pb,6) == 750\n",
    "orderr"
   ]
  },
  {
   "cell_type": "code",
   "execution_count": 116,
   "id": "c004a9f7",
   "metadata": {},
   "outputs": [],
   "source": [
    "assert order.p_marg_f(0) == order.p_marg\n",
    "assert round(order.p_marg_f(5), 6) == 2424.492346\n",
    "assert order.p_marg_f(10) == 3000"
   ]
  },
  {
   "cell_type": "code",
   "execution_count": 117,
   "id": "682c5ad3",
   "metadata": {},
   "outputs": [],
   "source": [
    "assert orderr.p_marg_f(0) == orderr.p_marg\n",
    "assert round(orderr.p_marg_f(10000),8) == 750"
   ]
  },
  {
   "cell_type": "code",
   "execution_count": 118,
   "id": "c7359a5c",
   "metadata": {},
   "outputs": [],
   "source": [
    "assert order.p_marg_f(-1, raiseonerror=False) is None\n",
    "assert order.p_marg_f(10.0001, raiseonerror=False) is None\n",
    "assert order.p_marg_f(-1) is None\n",
    "assert order.p_marg_f(10.0001) is None"
   ]
  },
  {
   "cell_type": "code",
   "execution_count": 119,
   "id": "430faa98",
   "metadata": {},
   "outputs": [],
   "source": [
    "assert orderr.p_marg_f(10001, raiseonerror=False) is None\n",
    "assert orderr.p_marg_f(10001) is None"
   ]
  },
  {
   "cell_type": "code",
   "execution_count": 120,
   "id": "b07c7080",
   "metadata": {},
   "outputs": [
    {
     "name": "stdout",
     "output_type": "stream",
     "text": [
      "('Trade size dy must be a non-negative number', -1)\n"
     ]
    }
   ],
   "source": [
    "try:\n",
    "    order.p_marg_f(-1, raiseonerror=True)\n",
    "    raise RuntimeError(\"Should have raised exception\")\n",
    "except ValueError as e:\n",
    "    print(e)\n",
    "    assert str(e) == \"('Trade size dy must be a non-negative number', -1)\""
   ]
  },
  {
   "cell_type": "code",
   "execution_count": 121,
   "id": "c1c2595d",
   "metadata": {},
   "outputs": [
    {
     "name": "stdout",
     "output_type": "stream",
     "text": [
      "('Trade size dy too big, results in y<0', 10.001, -0.0009999999999994458, 10)\n"
     ]
    }
   ],
   "source": [
    "try:\n",
    "    order.p_marg_f(10.001, raiseonerror=True)\n",
    "    raise RuntimeError(\"Should have raised exception\")\n",
    "except ValueError as e:\n",
    "    print(e)"
   ]
  },
  {
   "cell_type": "code",
   "execution_count": 122,
   "id": "0c91b085",
   "metadata": {},
   "outputs": [
    {
     "name": "stdout",
     "output_type": "stream",
     "text": [
      "('Trade size dy too big, results in y<0', 10001, -9991, 10)\n"
     ]
    }
   ],
   "source": [
    "try:\n",
    "    order.p_marg_f(10001, raiseonerror=True)\n",
    "    raise RuntimeError(\"Should have raised exception\")\n",
    "except ValueError as e:\n",
    "    print(e)"
   ]
  },
  {
   "cell_type": "markdown",
   "id": "720f9e78",
   "metadata": {},
   "source": [
    "## CarbonOrderUI tests yfromp"
   ]
  },
  {
   "cell_type": "code",
   "execution_count": 123,
   "id": "33d29dfa",
   "metadata": {},
   "outputs": [],
   "source": [
    "order = CarbonOrderUI.from_prices(\"ETH/USDC\", \"ETH\", 2000, 3000, 10, 10)\n",
    "order1 = CarbonOrderUI.from_prices(\"ETH/USDC\", \"ETH\", 2000, 3000, 10, 5)\n",
    "orderr = CarbonOrderUI.from_prices(\"ETH/USDC\", \"USDC\", 1000, 750, 10000, 10000)"
   ]
  },
  {
   "cell_type": "code",
   "execution_count": 124,
   "id": "fe294874",
   "metadata": {},
   "outputs": [],
   "source": [
    "assert order.yfromp_f(2000) == 10\n",
    "assert order.yfromp_f(3000) == 0\n",
    "assert order.dyfromp_f(2000) == 0\n",
    "assert order.dyfromp_f(3000) == 10"
   ]
  },
  {
   "cell_type": "code",
   "execution_count": 125,
   "id": "72d5b2c0",
   "metadata": {},
   "outputs": [
    {
     "name": "stdout",
     "output_type": "stream",
     "text": [
      "('Price out of bounds (beyond marginal), hence target y > y', 10.0, 5)\n"
     ]
    }
   ],
   "source": [
    "try:\n",
    "    order1.yfromp_f(2000, raiseonerror=True)\n",
    "    raise RuntimeError(\"Should have raised exception\")\n",
    "except ValueError as e:\n",
    "    print(e)"
   ]
  },
  {
   "cell_type": "code",
   "execution_count": 126,
   "id": "a1fd5246",
   "metadata": {},
   "outputs": [],
   "source": [
    "assert orderr.yfromp_f(1000) == 10000\n",
    "assert orderr.yfromp_f(750.00000001) < 1e-6\n",
    "assert orderr.dyfromp_f(1000) == 0\n",
    "assert round(orderr.dyfromp_f(750.0000001),5)==10000"
   ]
  },
  {
   "cell_type": "code",
   "execution_count": 127,
   "id": "e890283a",
   "metadata": {},
   "outputs": [],
   "source": [
    "for dy in np.linspace(0,10):\n",
    "    yy = order.yfromp_f(order.p_marg_f(dy))\n",
    "    assert round(yy - (10-dy),10) == 0\n",
    "    #print (f\"dy={dy}, y={yy}, 10-dy={10-dy}\")"
   ]
  },
  {
   "cell_type": "code",
   "execution_count": 128,
   "id": "a13597d5",
   "metadata": {},
   "outputs": [],
   "source": [
    "for dy in np.linspace(0,10):\n",
    "    dy1 = order.dyfromp_f(order.p_marg_f(dy))\n",
    "    assert round(dy - dy1,10) == 0\n",
    "    #print (f\"dy={dy}, dy1={dy1}\")"
   ]
  },
  {
   "cell_type": "code",
   "execution_count": 129,
   "id": "b0f22fec",
   "metadata": {},
   "outputs": [],
   "source": [
    "for dy in np.linspace(0,10000):\n",
    "    dy1 = orderr.dyfromp_f(orderr.p_marg_f(dy))\n",
    "    assert round(dy - dy1,4) == 0\n",
    "    #print (f\"dy={dy}, dy1={dy1}\")"
   ]
  },
  {
   "cell_type": "markdown",
   "id": "988c762a",
   "metadata": {},
   "source": [
    "## CarbonOrderUI tests dyfromdx_f and dxfromdy_f"
   ]
  },
  {
   "cell_type": "code",
   "execution_count": 130,
   "id": "66b79c63",
   "metadata": {},
   "outputs": [
    {
     "name": "stdout",
     "output_type": "stream",
     "text": [
      "Help on function dyfromdx_f in module carbon.carbon_order_ui:\n",
      "\n",
      "dyfromdx_f(self, dx, checkbounds=True, raiseonerror=False)\n",
      "    calculates the amount dy SOLD by the AMM to RECEIVE an amount dx\n",
      "    \n",
      "    :dx:            the amount of x the AMM RECEIVES (a POSITIVE number*)\n",
      "    :checkbounds:   if True (default), check that dy is in the right range\n",
      "    :raiseonerror:  if True, raises upon error, else return None\n",
      "    :returns:       the amount dy of y the AMM SELLS (a POSITIVE number*)\n",
      "    \n",
      "    *when checkbounds is False then we can have dx<0, corresponding to the \n",
      "    AMM SELLing x. In this case it returns a negative number, corresponding\n",
      "    to the AMM BUYing y.\n",
      "\n"
     ]
    }
   ],
   "source": [
    "help(CarbonOrderUI.dyfromdx_f)"
   ]
  },
  {
   "cell_type": "code",
   "execution_count": 131,
   "id": "68bf02ae",
   "metadata": {},
   "outputs": [
    {
     "data": {
      "text/plain": [
       "(2449.489742783178, 866.0254037844386, 24494.89742683178, 11.547004383792517)"
      ]
     },
     "execution_count": 131,
     "metadata": {},
     "output_type": "execute_result"
    }
   ],
   "source": [
    "# in order, order1 dx is a USDC number and dy is an ETH number\n",
    "order = CarbonOrderUI.from_prices(\"ETH/USDC\", \"ETH\", 2000, 3000, 10, 10)\n",
    "order1 = CarbonOrderUI.from_prices(\"ETH/USDC\", \"ETH\", 2000, 3000, 10, 5)\n",
    "\n",
    "# in orderr dx is an ETH number and dy is a USDC number\n",
    "orderr = CarbonOrderUI.from_prices(\"ETH/USDC\", \"USDC\", 1000, 750, 10000, 10000)\n",
    "dxeps = dyeps = 0.000001\n",
    "p0 = sqrt(2000*3000)\n",
    "p0r = sqrt(1000*750)\n",
    "dxmax = 10*p0-dxeps\n",
    "dxmaxr = 10000/p0r-dxeps\n",
    "p0, p0r, dxmax, dxmaxr"
   ]
  },
  {
   "cell_type": "markdown",
   "id": "b8f9def3",
   "metadata": {},
   "source": [
    "### dyfromdx_f"
   ]
  },
  {
   "cell_type": "code",
   "execution_count": 132,
   "id": "83923a7d",
   "metadata": {},
   "outputs": [
    {
     "data": {
      "text/plain": [
       "(0.0004999999999954123, 2000.0000000183509)"
      ]
     },
     "execution_count": 132,
     "metadata": {},
     "output_type": "execute_result"
    }
   ],
   "source": [
    "dy = order.dyfromdx_f(dxeps)\n",
    "assert round(dxeps/dy,6) == 2000\n",
    "dy/dxeps, dxeps/dy"
   ]
  },
  {
   "cell_type": "code",
   "execution_count": 133,
   "id": "4b088ad8",
   "metadata": {},
   "outputs": [
    {
     "data": {
      "text/plain": [
       "(0.0004082482904669214, 2449.4897427648275, 2449.489742783178)"
      ]
     },
     "execution_count": 133,
     "metadata": {},
     "output_type": "execute_result"
    }
   ],
   "source": [
    "dy = order.dyfromdx_f(dxmax)\n",
    "assert round(dxmax/dy - p0,6) == 0\n",
    "dy/dxmax, dxmax/dy, p0"
   ]
  },
  {
   "cell_type": "code",
   "execution_count": 134,
   "id": "fb6aefa2",
   "metadata": {},
   "outputs": [
    {
     "data": {
      "text/plain": [
       "(0.00041245747856182756, 2424.4923464276562)"
      ]
     },
     "execution_count": 134,
     "metadata": {},
     "output_type": "execute_result"
    }
   ],
   "source": [
    "dy = order1.dyfromdx_f(dxeps)\n",
    "assert dxeps/dy > 2000\n",
    "assert dxeps/dy < 3000\n",
    "dy/dxeps, dxeps/dy"
   ]
  },
  {
   "cell_type": "code",
   "execution_count": 135,
   "id": "939ea9b9",
   "metadata": {},
   "outputs": [
    {
     "data": {
      "text/plain": [
       "(999.9999866025405, 0.0010000000133974596)"
      ]
     },
     "execution_count": 135,
     "metadata": {},
     "output_type": "execute_result"
    }
   ],
   "source": [
    "dy = orderr.dyfromdx_f(dxeps)\n",
    "assert round(dy/dxeps,4) == 1000\n",
    "dy/dxeps, dxeps/dy"
   ]
  },
  {
   "cell_type": "code",
   "execution_count": 136,
   "id": "59ad099d",
   "metadata": {},
   "outputs": [
    {
     "data": {
      "text/plain": [
       "(866.0254138325333, 0.001154700524981792, 866.0254037844386)"
      ]
     },
     "execution_count": 136,
     "metadata": {},
     "output_type": "execute_result"
    }
   ],
   "source": [
    "dy = orderr.dyfromdx_f(dxmaxr)\n",
    "assert round(dy/dxmaxr - p0r,4) == 0\n",
    "dy/dxmaxr, dxmaxr/dy, p0r"
   ]
  },
  {
   "cell_type": "markdown",
   "id": "33f54e4b",
   "metadata": {},
   "source": [
    "### dxfromdy_f"
   ]
  },
  {
   "cell_type": "code",
   "execution_count": 137,
   "id": "64365acc",
   "metadata": {},
   "outputs": [
    {
     "data": {
      "text/plain": [
       "(2000.0000367006846, 0.000499999990824829)"
      ]
     },
     "execution_count": 137,
     "metadata": {},
     "output_type": "execute_result"
    }
   ],
   "source": [
    "dx = order.dxfromdy_f(dyeps)\n",
    "assert round(dx/dyeps,4) == 2000\n",
    "dx/dyeps, dyeps/dx"
   ]
  },
  {
   "cell_type": "code",
   "execution_count": 138,
   "id": "f880aa01",
   "metadata": {},
   "outputs": [
    {
     "data": {
      "text/plain": [
       "(2449.4897427831784, 0.000408248290463863, 2449.489742783178)"
      ]
     },
     "execution_count": 138,
     "metadata": {},
     "output_type": "execute_result"
    }
   ],
   "source": [
    "dx = order.dxfromdy_f(10)\n",
    "assert round(dx/10 - p0,6) == 0\n",
    "dx/10, 10/dx, p0"
   ]
  },
  {
   "cell_type": "code",
   "execution_count": 139,
   "id": "bc8121da",
   "metadata": {},
   "outputs": [
    {
     "data": {
      "text/plain": [
       "(2424.4923953921457, 0.00041245747023193144)"
      ]
     },
     "execution_count": 139,
     "metadata": {},
     "output_type": "execute_result"
    }
   ],
   "source": [
    "dx = order1.dxfromdy_f(dyeps)\n",
    "assert dx/dyeps > 2000\n",
    "assert dx/dyeps < 3000\n",
    "dx/dyeps, dyeps/dx"
   ]
  },
  {
   "cell_type": "code",
   "execution_count": 140,
   "id": "e0070b6f",
   "metadata": {},
   "outputs": [
    {
     "data": {
      "text/plain": [
       "(0.0010000000000133977, 999.9999999866022)"
      ]
     },
     "execution_count": 140,
     "metadata": {},
     "output_type": "execute_result"
    }
   ],
   "source": [
    "dx = orderr.dxfromdy_f(dyeps)\n",
    "assert round(dyeps/dx,4) == 1000\n",
    "dx/dyeps, dyeps/dx"
   ]
  },
  {
   "cell_type": "code",
   "execution_count": 141,
   "id": "c11de91a",
   "metadata": {},
   "outputs": [
    {
     "data": {
      "text/plain": [
       "(0.0011547005383792516, 866.0254037844386, 866.0254037844386)"
      ]
     },
     "execution_count": 141,
     "metadata": {},
     "output_type": "execute_result"
    }
   ],
   "source": [
    "dx = orderr.dxfromdy_f(10000)\n",
    "assert round(10000/dx - p0r,4) == 0\n",
    "dx/10000, 10000/dx, p0r"
   ]
  },
  {
   "cell_type": "markdown",
   "id": "eb5f2373",
   "metadata": {},
   "source": [
    "## CarbonOrderUI tests goalseek"
   ]
  },
  {
   "cell_type": "code",
   "execution_count": 142,
   "id": "cf82ac6c",
   "metadata": {},
   "outputs": [
    {
     "name": "stdout",
     "output_type": "stream",
     "text": [
      "9.0\n"
     ]
    }
   ],
   "source": [
    "f = lambda x: sqrt(x)-3\n",
    "print (round(CarbonOrderUI.goalseek(f,1,10), 6))\n",
    "assert round(CarbonOrderUI.goalseek(f,1,10), 6) == 9"
   ]
  },
  {
   "cell_type": "code",
   "execution_count": 143,
   "id": "44e52e6a",
   "metadata": {},
   "outputs": [
    {
     "name": "stdout",
     "output_type": "stream",
     "text": [
      "('Bracketing value a must be smaller than b', 10, 1)\n"
     ]
    }
   ],
   "source": [
    "try:\n",
    "    CarbonOrderUI.goalseek(f,10,1)\n",
    "    raise RuntimeError(\"Should raise exception\")\n",
    "except ValueError as e:\n",
    "    print(str(e))"
   ]
  },
  {
   "cell_type": "code",
   "execution_count": 144,
   "id": "f489d106",
   "metadata": {},
   "outputs": [
    {
     "name": "stdout",
     "output_type": "stream",
     "text": [
      "('Sign of f(a) must be opposite of sign of f(b)', 0.16227766016837952, 1.4721359549995796, 10, 20)\n"
     ]
    }
   ],
   "source": [
    "try:\n",
    "    CarbonOrderUI.goalseek(f,10,20)\n",
    "    raise RuntimeError(\"Should raise exception\")\n",
    "except ValueError as e:\n",
    "    print(str(e))"
   ]
  },
  {
   "cell_type": "markdown",
   "id": "11e61267",
   "metadata": {},
   "source": [
    "## Example usage [NOTEST]\n",
    "\n",
    "This section shows how to use yfromp-related functions for routing. This section does not create test code."
   ]
  },
  {
   "cell_type": "markdown",
   "id": "9cd3abd3",
   "metadata": {},
   "source": [
    "First we create a staggered list of 10 orders. Note that all those orders are only half-filled. The corresponding marginal prices are shown in the printout."
   ]
  },
  {
   "cell_type": "code",
   "execution_count": 145,
   "id": "c2bfc1e3",
   "metadata": {},
   "outputs": [
    {
     "name": "stdout",
     "output_type": "stream",
     "text": [
      "y=5 pa=2500.0 pb=2000.0 pmarg=2229.1\n",
      "y=5 pa=2550.0 pb=2050.0 pmarg=2279.6\n",
      "y=5 pa=2600.0 pb=2100.0 pmarg=2330.0\n",
      "y=5 pa=2650.0 pb=2150.0 pmarg=2380.4\n",
      "y=5 pa=2700.0 pb=2200.0 pmarg=2430.8\n",
      "y=5 pa=2750.0 pb=2250.0 pmarg=2481.2\n",
      "y=5 pa=2800.0 pb=2300.0 pmarg=2531.6\n",
      "y=5 pa=2850.0 pb=2350.0 pmarg=2581.9\n",
      "y=5 pa=2900.0 pb=2400.0 pmarg=2632.3\n",
      "y=5 pa=2950.0 pb=2450.0 pmarg=2682.6\n"
     ]
    },
    {
     "data": {
      "text/plain": [
       "(2229.1236000336485, 2682.6140015319056)"
      ]
     },
     "execution_count": 145,
     "metadata": {},
     "output_type": "execute_result"
    }
   ],
   "source": [
    "orders = [\n",
    "    CarbonOrderUI.from_prices(\"ETH/USDC\", \"ETH\", 2000+50*i, 2500+50*i, 10, 5)\n",
    "    for i in range(10)\n",
    "]\n",
    "for o in orders:\n",
    "    print(f\"y={o.y} pa={round(o.px,0)} pb={round(o.py,0)} pmarg={round(o.p_marg,1)}\")\n",
    "margp = [o.p_marg for o in orders]\n",
    "min(margp), max(margp)"
   ]
  },
  {
   "cell_type": "markdown",
   "id": "e13df660",
   "metadata": {},
   "source": [
    "We are now looking at the dy released if we move to 2100. Spoiler: 0, because all positions are already beyond 2100."
   ]
  },
  {
   "cell_type": "code",
   "execution_count": 146,
   "id": "785a27d9",
   "metadata": {},
   "outputs": [
    {
     "data": {
      "text/plain": [
       "[0, 0, 0, 0, 0, 0, 0, 0, 0, 0]"
      ]
     },
     "execution_count": 146,
     "metadata": {},
     "output_type": "execute_result"
    }
   ],
   "source": [
    "[o.dyfromp_f(2100) for o in orders]"
   ]
  },
  {
   "cell_type": "markdown",
   "id": "799f4448",
   "metadata": {},
   "source": [
    "If we go all the way to 3000 we see that all positions release their 5 ETH."
   ]
  },
  {
   "cell_type": "code",
   "execution_count": 147,
   "id": "789712cf",
   "metadata": {},
   "outputs": [
    {
     "data": {
      "text/plain": [
       "[5, 5, 5, 5, 5, 5, 5, 5, 5, 5]"
      ]
     },
     "execution_count": 147,
     "metadata": {},
     "output_type": "execute_result"
    }
   ],
   "source": [
    "[o.dyfromp_f(3000) for o in orders]"
   ]
  },
  {
   "cell_type": "markdown",
   "id": "d281b70d",
   "metadata": {},
   "source": [
    "For 2300 we see that the first two positions can still get us to 2300. They release 1.39 and 0.40 ETH respectively on the way to 2300"
   ]
  },
  {
   "cell_type": "code",
   "execution_count": 148,
   "id": "96b73244",
   "metadata": {},
   "outputs": [
    {
     "data": {
      "text/plain": [
       "[1.393236326565154, 0.40811287710152655, 0, 0, 0, 0, 0, 0, 0, 0]"
      ]
     },
     "execution_count": 148,
     "metadata": {},
     "output_type": "execute_result"
    }
   ],
   "source": [
    "[o.dyfromp_f(2300) for o in orders]"
   ]
  },
  {
   "cell_type": "markdown",
   "id": "7138b6c6",
   "metadata": {},
   "source": [
    "For 2500, the first 6 positions release ETH"
   ]
  },
  {
   "cell_type": "code",
   "execution_count": 149,
   "id": "c33112d3",
   "metadata": {},
   "outputs": [
    {
     "data": {
      "text/plain": [
       "[5.0,\n",
       " 4.137019008909356,\n",
       " 3.2427346404715647,\n",
       " 2.3174854167487067,\n",
       " 1.36159890190436,\n",
       " 0.37539229489591897,\n",
       " 0,\n",
       " 0,\n",
       " 0,\n",
       " 0]"
      ]
     },
     "execution_count": 149,
     "metadata": {},
     "output_type": "execute_result"
    }
   ],
   "source": [
    "[o.dyfromp_f(2500) for o in orders]"
   ]
  },
  {
   "cell_type": "markdown",
   "id": "7ee29d2a",
   "metadata": {},
   "source": [
    "We define `dy_f` as the aggregate ETH released from all positions here"
   ]
  },
  {
   "cell_type": "code",
   "execution_count": 150,
   "id": "347f53f7",
   "metadata": {},
   "outputs": [],
   "source": [
    "dy_f = lambda p: sum(o.dyfromp_f(p) for o in orders)"
   ]
  },
  {
   "cell_type": "markdown",
   "id": "45b3cb94",
   "metadata": {},
   "source": [
    "The corresponding USDC inflow can be computed thus"
   ]
  },
  {
   "cell_type": "code",
   "execution_count": 173,
   "id": "81d2ffb9",
   "metadata": {},
   "outputs": [],
   "source": [
    "dx_f = lambda p: sum(o.dxfromdy_f(o.dyfromp_f(p)) for o in orders)"
   ]
  },
  {
   "cell_type": "markdown",
   "id": "72f374da",
   "metadata": {},
   "source": [
    "We can then plot the ETH release as a function of price"
   ]
  },
  {
   "cell_type": "code",
   "execution_count": 174,
   "id": "d8b5f4cc",
   "metadata": {},
   "outputs": [],
   "source": [
    "pvals = np.linspace(2000, 3000)\n",
    "dyvals = [dy_f(p) for p in pvals]\n",
    "dxvals = [dx_f(p) for p in pvals]"
   ]
  },
  {
   "cell_type": "code",
   "execution_count": 152,
   "id": "bd221b62",
   "metadata": {},
   "outputs": [
    {
     "data": {
      "text/plain": [
       "Text(0, 0.5, 'Aggregate ETH release')"
      ]
     },
     "execution_count": 152,
     "metadata": {},
     "output_type": "execute_result"
    },
    {
     "data": {
      "image/png": "[encoded data removed]",
      "text/plain": [
       "<Figure size 432x288 with 1 Axes>"
      ]
     },
     "metadata": {
      "needs_background": "light"
     },
     "output_type": "display_data"
    }
   ],
   "source": [
    "plt.plot(pvals, dyvals)\n",
    "plt.xlabel(\"Marginal price (USDC per ETH)\")\n",
    "plt.ylabel(\"Aggregate ETH release\")"
   ]
  },
  {
   "cell_type": "code",
   "execution_count": 175,
   "id": "76cc87d0",
   "metadata": {},
   "outputs": [
    {
     "data": {
      "text/plain": [
       "Text(0, 0.5, 'Aggregate USDC inflow')"
      ]
     },
     "execution_count": 175,
     "metadata": {},
     "output_type": "execute_result"
    },
    {
     "data": {
      "image/png": "[encoded data removed]",
      "text/plain": [
       "<Figure size 432x288 with 1 Axes>"
      ]
     },
     "metadata": {
      "needs_background": "light"
     },
     "output_type": "display_data"
    }
   ],
   "source": [
    "plt.plot(pvals, dxvals)\n",
    "plt.xlabel(\"Marginal price (USDC per ETH)\")\n",
    "plt.ylabel(\"Aggregate USDC inflow\")"
   ]
  },
  {
   "cell_type": "code",
   "execution_count": 177,
   "id": "11f100e2",
   "metadata": {},
   "outputs": [
    {
     "data": {
      "text/plain": [
       "Text(0, 0.5, 'Aggregate ETH release')"
      ]
     },
     "execution_count": 177,
     "metadata": {},
     "output_type": "execute_result"
    },
    {
     "data": {
      "image/png": "[encoded data removed]",
      "text/plain": [
       "<Figure size 432x288 with 1 Axes>"
      ]
     },
     "metadata": {
      "needs_background": "light"
     },
     "output_type": "display_data"
    }
   ],
   "source": [
    "plt.plot(dxvals, dyvals)\n",
    "plt.xlabel(\"Aggregate USDC inflow\")\n",
    "plt.ylabel(\"Aggregate ETH release\")"
   ]
  },
  {
   "cell_type": "code",
   "execution_count": 182,
   "id": "b35348d2",
   "metadata": {},
   "outputs": [
    {
     "data": {
      "text/plain": [
       "Text(0, 0.5, 'Effective price (USDC per ETH)')"
      ]
     },
     "execution_count": 182,
     "metadata": {},
     "output_type": "execute_result"
    },
    {
     "data": {
      "image/png": "[encoded data removed]",
      "text/plain": [
       "<Figure size 432x288 with 1 Axes>"
      ]
     },
     "metadata": {
      "needs_background": "light"
     },
     "output_type": "display_data"
    }
   ],
   "source": [
    "plt.plot(pvals, [dx/dy if dy>0 else None for dx,dy in zip(dxvals, dyvals)])\n",
    "plt.xlabel(\"Marginal price (USDC per ETH)\")\n",
    "plt.ylabel(\"Effective price (USDC per ETH)\")"
   ]
  },
  {
   "cell_type": "markdown",
   "id": "1c19d57c",
   "metadata": {},
   "source": [
    "Note for **Asaf**: this almost solves your \"what is the price\" problem if you plot it the other way round. The only issue is that here this is the marginal price after a move, so you'd have to integrate over it. We can also get the dx values the way we got the dy values (via the swap equation) but I do not have this implemented yet."
   ]
  },
  {
   "cell_type": "code",
   "execution_count": 153,
   "id": "ee6490b3",
   "metadata": {},
   "outputs": [
    {
     "data": {
      "text/plain": [
       "Text(0.5, 0, 'Aggregate ETH release')"
      ]
     },
     "execution_count": 153,
     "metadata": {},
     "output_type": "execute_result"
    },
    {
     "data": {
      "image/png": "[encoded data removed]",
      "text/plain": [
       "<Figure size 432x288 with 1 Axes>"
      ]
     },
     "metadata": {
      "needs_background": "light"
     },
     "output_type": "display_data"
    }
   ],
   "source": [
    "plt.plot(dyvals, pvals)\n",
    "plt.ylabel(\"Marginal price (USDC per ETH)\")\n",
    "plt.xlabel(\"Aggregate ETH release\")"
   ]
  },
  {
   "cell_type": "markdown",
   "id": "9de5fed1",
   "metadata": {},
   "source": [
    "Now this does solve your price question"
   ]
  },
  {
   "cell_type": "code",
   "execution_count": 184,
   "id": "bcfd7f41",
   "metadata": {},
   "outputs": [
    {
     "data": {
      "text/plain": [
       "Text(0, 0.5, 'Effective price (USDC per ETH)')"
      ]
     },
     "execution_count": 184,
     "metadata": {},
     "output_type": "execute_result"
    },
    {
     "data": {
      "image/png": "[encoded data removed]",
      "text/plain": [
       "<Figure size 432x288 with 1 Axes>"
      ]
     },
     "metadata": {
      "needs_background": "light"
     },
     "output_type": "display_data"
    }
   ],
   "source": [
    "plt.plot(dyvals, [dx/dy if dy>0 else None for dx,dy in zip(dxvals, dyvals)])\n",
    "plt.xlabel(\"Aggregate ETH release\")\n",
    "plt.ylabel(\"Effective price (USDC per ETH)\")"
   ]
  },
  {
   "cell_type": "markdown",
   "id": "acd45ab5",
   "metadata": {},
   "source": [
    "Going back to the routing problem we want to solve is that we have an aggregate release, say `15`, and we want the price; this we can do with goalseek"
   ]
  },
  {
   "cell_type": "code",
   "execution_count": 154,
   "id": "8c6329e6",
   "metadata": {},
   "outputs": [
    {
     "data": {
      "text/plain": [
       "2487.0588779449463"
      ]
     },
     "execution_count": 154,
     "metadata": {},
     "output_type": "execute_result"
    }
   ],
   "source": [
    "p_goal = CarbonOrderUI.goalseek(lambda p: dy_f(p)-15, 2000, 3000)\n",
    "p_goal"
   ]
  },
  {
   "cell_type": "markdown",
   "id": "4b1e4064",
   "metadata": {},
   "source": [
    "The contribution of the positions at this price -- aka the **routing** -- is as follows"
   ]
  },
  {
   "cell_type": "code",
   "execution_count": 167,
   "id": "a1e92d5b",
   "metadata": {},
   "outputs": [
    {
     "data": {
      "text/plain": [
       "[4.779867109477664,\n",
       " 3.909431354268376,\n",
       " 3.007611565327439,\n",
       " 2.074747101342123,\n",
       " 1.1111663381843746,\n",
       " 0.11718726278194591,\n",
       " 0,\n",
       " 0,\n",
       " 0,\n",
       " 0]"
      ]
     },
     "execution_count": 167,
     "metadata": {},
     "output_type": "execute_result"
    }
   ],
   "source": [
    "rl1 = [o.dyfromp_f(p_goal) for o in orders]\n",
    "rl1"
   ]
  },
  {
   "cell_type": "markdown",
   "id": "1d93d34c",
   "metadata": {},
   "source": [
    "We can check that we routed indeed 15 ETH (the slight discrepancy is probably mostly related to goalseek precision)"
   ]
  },
  {
   "cell_type": "code",
   "execution_count": 156,
   "id": "527e7dfc",
   "metadata": {},
   "outputs": [
    {
     "data": {
      "text/plain": [
       "15.000010731381924"
      ]
     },
     "execution_count": 156,
     "metadata": {},
     "output_type": "execute_result"
    }
   ],
   "source": [
    "sum([o.dyfromp_f(p_goal) for o in orders])"
   ]
  },
  {
   "cell_type": "markdown",
   "id": "d0b7f1eb",
   "metadata": {},
   "source": [
    "And finally we can verify this against the exact algo match"
   ]
  },
  {
   "cell_type": "code",
   "execution_count": 157,
   "id": "ac21d8f9",
   "metadata": {},
   "outputs": [
    {
     "data": {
      "text/plain": [
       "CarbonSimulatorUI(<0 orders, 0 trades>, pair='ETH/USDC', mm='exact', xf=True)"
      ]
     },
     "execution_count": 157,
     "metadata": {},
     "output_type": "execute_result"
    }
   ],
   "source": [
    "Sim = CarbonSimulatorUI(pair=\"ETH/USDC\", verbose=False, raiseonerror=False)\n",
    "Sim"
   ]
  },
  {
   "cell_type": "code",
   "execution_count": 158,
   "id": "6e91e4bd",
   "metadata": {},
   "outputs": [
    {
     "data": {
      "text/html": [
       "<div>\n",
       "<style scoped>\n",
       "    .dataframe tbody tr th:only-of-type {\n",
       "        vertical-align: middle;\n",
       "    }\n",
       "\n",
       "    .dataframe tbody tr th {\n",
       "        vertical-align: top;\n",
       "    }\n",
       "\n",
       "    .dataframe thead th {\n",
       "        text-align: right;\n",
       "    }\n",
       "</style>\n",
       "<table border=\"1\" class=\"dataframe\">\n",
       "  <thead>\n",
       "    <tr style=\"text-align: right;\">\n",
       "      <th></th>\n",
       "      <th>id</th>\n",
       "      <th>pair</th>\n",
       "      <th>tkn</th>\n",
       "      <th>y_int</th>\n",
       "      <th>y</th>\n",
       "      <th>y_unit</th>\n",
       "      <th>disabled</th>\n",
       "      <th>p_start</th>\n",
       "      <th>p_end</th>\n",
       "      <th>p_marg</th>\n",
       "      <th>p_unit</th>\n",
       "      <th>lid</th>\n",
       "    </tr>\n",
       "  </thead>\n",
       "  <tbody>\n",
       "    <tr>\n",
       "      <th>0</th>\n",
       "      <td>0</td>\n",
       "      <td>ETHUSDC</td>\n",
       "      <td>ETH</td>\n",
       "      <td>10.0</td>\n",
       "      <td>5.0</td>\n",
       "      <td>ETH</td>\n",
       "      <td>False</td>\n",
       "      <td>2000.0</td>\n",
       "      <td>2500.0</td>\n",
       "      <td>2229.1236</td>\n",
       "      <td>USDC per ETH</td>\n",
       "      <td>1</td>\n",
       "    </tr>\n",
       "    <tr>\n",
       "      <th>2</th>\n",
       "      <td>2</td>\n",
       "      <td>ETHUSDC</td>\n",
       "      <td>ETH</td>\n",
       "      <td>10.0</td>\n",
       "      <td>5.0</td>\n",
       "      <td>ETH</td>\n",
       "      <td>False</td>\n",
       "      <td>2050.0</td>\n",
       "      <td>2550.0</td>\n",
       "      <td>2279.579255</td>\n",
       "      <td>USDC per ETH</td>\n",
       "      <td>3</td>\n",
       "    </tr>\n",
       "    <tr>\n",
       "      <th>4</th>\n",
       "      <td>4</td>\n",
       "      <td>ETHUSDC</td>\n",
       "      <td>ETH</td>\n",
       "      <td>10.0</td>\n",
       "      <td>5.0</td>\n",
       "      <td>ETH</td>\n",
       "      <td>False</td>\n",
       "      <td>2100.0</td>\n",
       "      <td>2600.0</td>\n",
       "      <td>2330.015407</td>\n",
       "      <td>USDC per ETH</td>\n",
       "      <td>5</td>\n",
       "    </tr>\n",
       "    <tr>\n",
       "      <th>6</th>\n",
       "      <td>6</td>\n",
       "      <td>ETHUSDC</td>\n",
       "      <td>ETH</td>\n",
       "      <td>10.0</td>\n",
       "      <td>5.0</td>\n",
       "      <td>ETH</td>\n",
       "      <td>False</td>\n",
       "      <td>2150.0</td>\n",
       "      <td>2650.0</td>\n",
       "      <td>2380.433284</td>\n",
       "      <td>USDC per ETH</td>\n",
       "      <td>7</td>\n",
       "    </tr>\n",
       "    <tr>\n",
       "      <th>8</th>\n",
       "      <td>8</td>\n",
       "      <td>ETHUSDC</td>\n",
       "      <td>ETH</td>\n",
       "      <td>10.0</td>\n",
       "      <td>5.0</td>\n",
       "      <td>ETH</td>\n",
       "      <td>False</td>\n",
       "      <td>2200.0</td>\n",
       "      <td>2700.0</td>\n",
       "      <td>2430.834014</td>\n",
       "      <td>USDC per ETH</td>\n",
       "      <td>9</td>\n",
       "    </tr>\n",
       "    <tr>\n",
       "      <th>10</th>\n",
       "      <td>10</td>\n",
       "      <td>ETHUSDC</td>\n",
       "      <td>ETH</td>\n",
       "      <td>10.0</td>\n",
       "      <td>5.0</td>\n",
       "      <td>ETH</td>\n",
       "      <td>False</td>\n",
       "      <td>2250.0</td>\n",
       "      <td>2750.0</td>\n",
       "      <td>2481.218632</td>\n",
       "      <td>USDC per ETH</td>\n",
       "      <td>11</td>\n",
       "    </tr>\n",
       "    <tr>\n",
       "      <th>12</th>\n",
       "      <td>12</td>\n",
       "      <td>ETHUSDC</td>\n",
       "      <td>ETH</td>\n",
       "      <td>10.0</td>\n",
       "      <td>5.0</td>\n",
       "      <td>ETH</td>\n",
       "      <td>False</td>\n",
       "      <td>2300.0</td>\n",
       "      <td>2800.0</td>\n",
       "      <td>2531.588093</td>\n",
       "      <td>USDC per ETH</td>\n",
       "      <td>13</td>\n",
       "    </tr>\n",
       "    <tr>\n",
       "      <th>14</th>\n",
       "      <td>14</td>\n",
       "      <td>ETHUSDC</td>\n",
       "      <td>ETH</td>\n",
       "      <td>10.0</td>\n",
       "      <td>5.0</td>\n",
       "      <td>ETH</td>\n",
       "      <td>False</td>\n",
       "      <td>2350.0</td>\n",
       "      <td>2850.0</td>\n",
       "      <td>2581.943276</td>\n",
       "      <td>USDC per ETH</td>\n",
       "      <td>15</td>\n",
       "    </tr>\n",
       "    <tr>\n",
       "      <th>16</th>\n",
       "      <td>16</td>\n",
       "      <td>ETHUSDC</td>\n",
       "      <td>ETH</td>\n",
       "      <td>10.0</td>\n",
       "      <td>5.0</td>\n",
       "      <td>ETH</td>\n",
       "      <td>False</td>\n",
       "      <td>2400.0</td>\n",
       "      <td>2900.0</td>\n",
       "      <td>2632.284995</td>\n",
       "      <td>USDC per ETH</td>\n",
       "      <td>17</td>\n",
       "    </tr>\n",
       "    <tr>\n",
       "      <th>18</th>\n",
       "      <td>18</td>\n",
       "      <td>ETHUSDC</td>\n",
       "      <td>ETH</td>\n",
       "      <td>10.0</td>\n",
       "      <td>5.0</td>\n",
       "      <td>ETH</td>\n",
       "      <td>False</td>\n",
       "      <td>2450.0</td>\n",
       "      <td>2950.0</td>\n",
       "      <td>2682.614002</td>\n",
       "      <td>USDC per ETH</td>\n",
       "      <td>19</td>\n",
       "    </tr>\n",
       "  </tbody>\n",
       "</table>\n",
       "</div>"
      ],
      "text/plain": [
       "    id     pair  tkn  y_int    y y_unit  disabled p_start   p_end  \\\n",
       "0    0  ETHUSDC  ETH   10.0  5.0    ETH     False  2000.0  2500.0   \n",
       "2    2  ETHUSDC  ETH   10.0  5.0    ETH     False  2050.0  2550.0   \n",
       "4    4  ETHUSDC  ETH   10.0  5.0    ETH     False  2100.0  2600.0   \n",
       "6    6  ETHUSDC  ETH   10.0  5.0    ETH     False  2150.0  2650.0   \n",
       "8    8  ETHUSDC  ETH   10.0  5.0    ETH     False  2200.0  2700.0   \n",
       "10  10  ETHUSDC  ETH   10.0  5.0    ETH     False  2250.0  2750.0   \n",
       "12  12  ETHUSDC  ETH   10.0  5.0    ETH     False  2300.0  2800.0   \n",
       "14  14  ETHUSDC  ETH   10.0  5.0    ETH     False  2350.0  2850.0   \n",
       "16  16  ETHUSDC  ETH   10.0  5.0    ETH     False  2400.0  2900.0   \n",
       "18  18  ETHUSDC  ETH   10.0  5.0    ETH     False  2450.0  2950.0   \n",
       "\n",
       "         p_marg        p_unit  lid  \n",
       "0     2229.1236  USDC per ETH    1  \n",
       "2   2279.579255  USDC per ETH    3  \n",
       "4   2330.015407  USDC per ETH    5  \n",
       "6   2380.433284  USDC per ETH    7  \n",
       "8   2430.834014  USDC per ETH    9  \n",
       "10  2481.218632  USDC per ETH   11  \n",
       "12  2531.588093  USDC per ETH   13  \n",
       "14  2581.943276  USDC per ETH   15  \n",
       "16  2632.284995  USDC per ETH   17  \n",
       "18  2682.614002  USDC per ETH   19  "
      ]
     },
     "execution_count": 158,
     "metadata": {},
     "output_type": "execute_result"
    }
   ],
   "source": [
    "for i in range(10):\n",
    "    Sim.add_strategy('ETH', 10, 2000+50*i, 2500+50*i, None, None, None, None)\n",
    "    # sell 5 ETH off each order to get the appropriate p_marg\n",
    "    Sim.amm_sells('ETH', 5, use_positions=[i*2])\n",
    "Sim.state()['orders'].query(\"disabled==False\")"
   ]
  },
  {
   "cell_type": "code",
   "execution_count": 159,
   "id": "17cbb74e",
   "metadata": {},
   "outputs": [
    {
     "data": {
      "text/html": [
       "<div>\n",
       "<style scoped>\n",
       "    .dataframe tbody tr th:only-of-type {\n",
       "        vertical-align: middle;\n",
       "    }\n",
       "\n",
       "    .dataframe tbody tr th {\n",
       "        vertical-align: top;\n",
       "    }\n",
       "\n",
       "    .dataframe thead th {\n",
       "        text-align: right;\n",
       "    }\n",
       "</style>\n",
       "<table border=\"1\" class=\"dataframe\">\n",
       "  <thead>\n",
       "    <tr style=\"text-align: right;\">\n",
       "      <th></th>\n",
       "      <th>uid</th>\n",
       "      <th>id</th>\n",
       "      <th>subid</th>\n",
       "      <th>note</th>\n",
       "      <th>aggr</th>\n",
       "      <th>exec</th>\n",
       "      <th>limitfail</th>\n",
       "      <th>amt1</th>\n",
       "      <th>tkn1</th>\n",
       "      <th>amt2</th>\n",
       "      <th>tkn2</th>\n",
       "      <th>pair</th>\n",
       "      <th>routeix</th>\n",
       "      <th>nroutes</th>\n",
       "      <th>price</th>\n",
       "      <th>p_unit</th>\n",
       "    </tr>\n",
       "  </thead>\n",
       "  <tbody>\n",
       "    <tr>\n",
       "      <th>0</th>\n",
       "      <td>10.0</td>\n",
       "      <td>10</td>\n",
       "      <td>0</td>\n",
       "      <td>route #0</td>\n",
       "      <td>False</td>\n",
       "      <td>True</td>\n",
       "      <td>None</td>\n",
       "      <td>4.779865</td>\n",
       "      <td>ETH</td>\n",
       "      <td>11254.488784</td>\n",
       "      <td>USDC</td>\n",
       "      <td>ETHUSDC</td>\n",
       "      <td>0</td>\n",
       "      <td>1</td>\n",
       "      <td>2391.638426</td>\n",
       "      <td>USDC per ETH</td>\n",
       "    </tr>\n",
       "    <tr>\n",
       "      <th>0</th>\n",
       "      <td>10.1</td>\n",
       "      <td>10</td>\n",
       "      <td>1</td>\n",
       "      <td>route #2</td>\n",
       "      <td>False</td>\n",
       "      <td>True</td>\n",
       "      <td>None</td>\n",
       "      <td>3.909430</td>\n",
       "      <td>ETH</td>\n",
       "      <td>9308.587288</td>\n",
       "      <td>USDC</td>\n",
       "      <td>ETHUSDC</td>\n",
       "      <td>2</td>\n",
       "      <td>1</td>\n",
       "      <td>2391.638426</td>\n",
       "      <td>USDC per ETH</td>\n",
       "    </tr>\n",
       "    <tr>\n",
       "      <th>0</th>\n",
       "      <td>10.2</td>\n",
       "      <td>10</td>\n",
       "      <td>2</td>\n",
       "      <td>route #4</td>\n",
       "      <td>False</td>\n",
       "      <td>True</td>\n",
       "      <td>None</td>\n",
       "      <td>3.007610</td>\n",
       "      <td>ETH</td>\n",
       "      <td>7240.089143</td>\n",
       "      <td>USDC</td>\n",
       "      <td>ETHUSDC</td>\n",
       "      <td>4</td>\n",
       "      <td>1</td>\n",
       "      <td>2391.638426</td>\n",
       "      <td>USDC per ETH</td>\n",
       "    </tr>\n",
       "    <tr>\n",
       "      <th>0</th>\n",
       "      <td>10.3</td>\n",
       "      <td>10</td>\n",
       "      <td>3</td>\n",
       "      <td>route #6</td>\n",
       "      <td>False</td>\n",
       "      <td>True</td>\n",
       "      <td>None</td>\n",
       "      <td>2.074745</td>\n",
       "      <td>ETH</td>\n",
       "      <td>5048.191466</td>\n",
       "      <td>USDC</td>\n",
       "      <td>ETHUSDC</td>\n",
       "      <td>6</td>\n",
       "      <td>1</td>\n",
       "      <td>2391.638426</td>\n",
       "      <td>USDC per ETH</td>\n",
       "    </tr>\n",
       "    <tr>\n",
       "      <th>0</th>\n",
       "      <td>10.4</td>\n",
       "      <td>10</td>\n",
       "      <td>4</td>\n",
       "      <td>route #8</td>\n",
       "      <td>False</td>\n",
       "      <td>True</td>\n",
       "      <td>None</td>\n",
       "      <td>1.111164</td>\n",
       "      <td>ETH</td>\n",
       "      <td>2732.115287</td>\n",
       "      <td>USDC</td>\n",
       "      <td>ETHUSDC</td>\n",
       "      <td>8</td>\n",
       "      <td>1</td>\n",
       "      <td>2391.638426</td>\n",
       "      <td>USDC per ETH</td>\n",
       "    </tr>\n",
       "    <tr>\n",
       "      <th>0</th>\n",
       "      <td>10.5</td>\n",
       "      <td>10</td>\n",
       "      <td>5</td>\n",
       "      <td>route #10</td>\n",
       "      <td>False</td>\n",
       "      <td>True</td>\n",
       "      <td>None</td>\n",
       "      <td>0.117185</td>\n",
       "      <td>ETH</td>\n",
       "      <td>291.104415</td>\n",
       "      <td>USDC</td>\n",
       "      <td>ETHUSDC</td>\n",
       "      <td>10</td>\n",
       "      <td>1</td>\n",
       "      <td>2391.638426</td>\n",
       "      <td>USDC per ETH</td>\n",
       "    </tr>\n",
       "    <tr>\n",
       "      <th>0</th>\n",
       "      <td>10</td>\n",
       "      <td>10</td>\n",
       "      <td>A</td>\n",
       "      <td>AMM sells 15ETH buys 35875USDC</td>\n",
       "      <td>True</td>\n",
       "      <td>True</td>\n",
       "      <td>None</td>\n",
       "      <td>15.000000</td>\n",
       "      <td>ETH</td>\n",
       "      <td>35874.576383</td>\n",
       "      <td>USDC</td>\n",
       "      <td>ETHUSDC</td>\n",
       "      <td>[0, 2, 4, 6, 8, 10]</td>\n",
       "      <td>6</td>\n",
       "      <td>2391.638426</td>\n",
       "      <td>USDC per ETH</td>\n",
       "    </tr>\n",
       "  </tbody>\n",
       "</table>\n",
       "</div>"
      ],
      "text/plain": [
       "    uid  id subid                            note   aggr  exec limitfail  \\\n",
       "0  10.0  10     0                        route #0  False  True      None   \n",
       "0  10.1  10     1                        route #2  False  True      None   \n",
       "0  10.2  10     2                        route #4  False  True      None   \n",
       "0  10.3  10     3                        route #6  False  True      None   \n",
       "0  10.4  10     4                        route #8  False  True      None   \n",
       "0  10.5  10     5                       route #10  False  True      None   \n",
       "0    10  10     A  AMM sells 15ETH buys 35875USDC   True  True      None   \n",
       "\n",
       "        amt1 tkn1          amt2  tkn2     pair              routeix  nroutes  \\\n",
       "0   4.779865  ETH  11254.488784  USDC  ETHUSDC                    0        1   \n",
       "0   3.909430  ETH   9308.587288  USDC  ETHUSDC                    2        1   \n",
       "0   3.007610  ETH   7240.089143  USDC  ETHUSDC                    4        1   \n",
       "0   2.074745  ETH   5048.191466  USDC  ETHUSDC                    6        1   \n",
       "0   1.111164  ETH   2732.115287  USDC  ETHUSDC                    8        1   \n",
       "0   0.117185  ETH    291.104415  USDC  ETHUSDC                   10        1   \n",
       "0  15.000000  ETH  35874.576383  USDC  ETHUSDC  [0, 2, 4, 6, 8, 10]        6   \n",
       "\n",
       "         price        p_unit  \n",
       "0  2391.638426  USDC per ETH  \n",
       "0  2391.638426  USDC per ETH  \n",
       "0  2391.638426  USDC per ETH  \n",
       "0  2391.638426  USDC per ETH  \n",
       "0  2391.638426  USDC per ETH  \n",
       "0  2391.638426  USDC per ETH  \n",
       "0  2391.638426  USDC per ETH  "
      ]
     },
     "execution_count": 159,
     "metadata": {},
     "output_type": "execute_result"
    }
   ],
   "source": [
    "r = Sim.amm_sells('ETH', 15)['trades']\n",
    "r"
   ]
  },
  {
   "cell_type": "markdown",
   "id": "a5017bed",
   "metadata": {},
   "source": [
    "Below `rl2` is the route list obtained through routing, and `rl1` the original one. We see they are extremely close."
   ]
  },
  {
   "cell_type": "code",
   "execution_count": 168,
   "id": "7041a1c7",
   "metadata": {
    "lines_to_next_cell": 2
   },
   "outputs": [
    {
     "data": {
      "text/plain": [
       "[4.779865, 3.90943, 3.00761, 2.074745, 1.111164, 0.117185]"
      ]
     },
     "execution_count": 168,
     "metadata": {},
     "output_type": "execute_result"
    }
   ],
   "source": [
    "rl2 = list(r.query(\"aggr==False\")[\"amt1\"])\n",
    "rl2"
   ]
  },
  {
   "cell_type": "code",
   "execution_count": 170,
   "id": "9d4721c4",
   "metadata": {},
   "outputs": [
    {
     "data": {
      "text/plain": [
       "[4.779867109477664,\n",
       " 3.909431354268376,\n",
       " 3.007611565327439,\n",
       " 2.074747101342123,\n",
       " 1.1111663381843746,\n",
       " 0.11718726278194591]"
      ]
     },
     "execution_count": 170,
     "metadata": {},
     "output_type": "execute_result"
    }
   ],
   "source": [
    "rl1[:len(rl2)]"
   ]
  },
  {
   "cell_type": "code",
   "execution_count": 172,
   "id": "42a6e4fc",
   "metadata": {},
   "outputs": [
    {
     "data": {
      "text/plain": [
       "[-2.1094776636587653e-06,\n",
       " -1.354268376108081e-06,\n",
       " -1.5653274387794625e-06,\n",
       " -2.1013421229731932e-06,\n",
       " -2.3381843745617914e-06,\n",
       " -2.262781945913672e-06]"
      ]
     },
     "execution_count": 172,
     "metadata": {},
     "output_type": "execute_result"
    }
   ],
   "source": [
    "[x2-x1 for x1,x2 in zip(rl1, rl2)]"
   ]
  },
  {
   "cell_type": "code",
   "execution_count": null,
   "id": "3dfeb15b",
   "metadata": {},
   "outputs": [],
   "source": []
  }
 ],
 "metadata": {
  "jupytext": {
   "formats": "ipynb,py:light"
  },
  "kernelspec": {
   "display_name": "Python 3",
   "language": "python",
   "name": "python3"
  },
  "language_info": {
   "codemirror_mode": {
    "name": "ipython",
    "version": 3
   },
   "file_extension": ".py",
   "mimetype": "text/x-python",
   "name": "python",
   "nbconvert_exporter": "python",
   "pygments_lexer": "ipython3",
   "version": "3.8.8"
  }
 },
 "nbformat": 4,
 "nbformat_minor": 5
}
