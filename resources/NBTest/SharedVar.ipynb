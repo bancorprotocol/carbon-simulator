{
 "cells": [
  {
   "cell_type": "code",
   "execution_count": 298,
   "id": "1472c1a7",
   "metadata": {},
   "outputs": [],
   "source": [
    "from math import floor, ceil, trunc"
   ]
  },
  {
   "cell_type": "markdown",
   "id": "57c17850",
   "metadata": {},
   "source": [
    "# SharedNumber class"
   ]
  },
  {
   "cell_type": "code",
   "execution_count": 299,
   "id": "198254ed",
   "metadata": {},
   "outputs": [],
   "source": [
    "import math as _math\n",
    "\n",
    "# __VERSION__ = \"0.1\"\n",
    "# __DATE_== \"26/Jan/2023\"\n",
    "\n",
    "class SharedNumber:\n",
    "    \"\"\"\n",
    "    encapsulates numbers into objects so that state can be shared\n",
    "\n",
    "    :value:      the value with which to initialise the object\n",
    "    :oid:        disregarded; just for the benefit of __repr__\n",
    "    \"\"\"\n",
    "#     __VERSION__ = __VERSION__\n",
    "#     __DATE_ = __DATE_\n",
    "    \n",
    "    def __init__(self, value, oid=None):\n",
    "        self._value = value\n",
    "    \n",
    "    @property\n",
    "    def id(self):\n",
    "        \"\"\"the unique object id\"\"\"\n",
    "        return id(self)\n",
    "     \n",
    "    @property\n",
    "    def value(self):\n",
    "        \"\"\"the object value\"\"\"\n",
    "        return self._value\n",
    "\n",
    "    # comparison\n",
    "\n",
    "    def __eq__(self, other):\n",
    "        return self._value == other\n",
    "\n",
    "    def __eq__(self, other):\n",
    "        return self._value == other\n",
    "\n",
    "    def __nq__(self, other):\n",
    "        return self._value != other\n",
    "\n",
    "    def __ge__(self, other):\n",
    "        return self._value >= other\n",
    "\n",
    "    def __le__(self, other):\n",
    "        return self._value <= other\n",
    "\n",
    "    def __lt__(self, other):\n",
    "        return self._value < other\n",
    "\n",
    "    def __gt__(self, other):\n",
    "        return self._value > other\n",
    "\n",
    "    # unitary operations (return values, not the object)\n",
    "    def _wrap(self, val):\n",
    "        \"\"\"result wrapper\"\"\"\n",
    "        return self.__class__(val)\n",
    "\n",
    "    def __pos__(self):\n",
    "        return self._wrap(self._value)\n",
    "\n",
    "    def __neg__(self):\n",
    "        return self._wrap(-self._value)\n",
    "\n",
    "    def __abs__(self):\n",
    "        return self._wrap(abs(self._value))\n",
    "\n",
    "    def __round__(self, n):\n",
    "        return self._wrap(round(self._value,n))\n",
    "\n",
    "    def __floor__(self):\n",
    "        return self._wrap(_math.floor(self._value))\n",
    "\n",
    "    def __ceil__(self):\n",
    "        return self._wrap(_math.ceil(self._value))\n",
    "\n",
    "    def __trunc__(self):\n",
    "        return self._wrap(_math.trunc(self._value))\n",
    "    \n",
    "    \n",
    "    # binary operations\n",
    "\n",
    "    def __add__(self, other):\n",
    "        return self._wrap(self._value+other)\n",
    "    __radd__ = __add__\n",
    "\n",
    "    def __sub__(self, other):\n",
    "        return self._wrap(self._value-other)    \n",
    "    def __rsub__(self, other):\n",
    "        return self._wrap(other-self._value)\n",
    "\n",
    "    def __mul__(self, other):\n",
    "        return self._wrap(self._value*other)\n",
    "    __rmul__ = __mul__\n",
    "    \n",
    "    def __floordiv__(self, other):\n",
    "        return self._wrap(self._value//other)\n",
    "    def __rfloordiv__(self, other):\n",
    "        return self._wrap(other//self._value)\n",
    "\n",
    "    def __div__(self, other):\n",
    "        return self._wrap(self._value/other)\n",
    "    def __rdiv__(self, other):\n",
    "        return self._wrap(other/self._value)\n",
    "\n",
    "    def __truediv__(self, other):\n",
    "        return self._wrap(self._value/other)\n",
    "    def __rtruediv__(self, other):\n",
    "        return self._wrap(other/self._value)\n",
    "\n",
    "    def __mod__(self, other):\n",
    "        return self._wrap(self._value%other)\n",
    "    def __rmod__(self, other):\n",
    "        return self._wrap(other%self._value)\n",
    "\n",
    "    def __divmod__(self, other):\n",
    "        d,m = divmod(self._value,other)\n",
    "        return (self._wrap(d), self._wrap(m))\n",
    "    def __rdivmod__(self, other):\n",
    "        d,m = divmod(other, self._value)\n",
    "        return (self._wrap(d), self._wrap(m))\n",
    "\n",
    "    def __pow__(self, other):\n",
    "        return self._wrap(self._value**other)\n",
    "    def __rpow__(self, other):\n",
    "        return self._wrap(other**self._value)\n",
    "\n",
    "    def __lshift__(self, other):\n",
    "        return self._wrap(self._value<<other)\n",
    "    def __rlshift__(self, other):\n",
    "        return self._wrap(other<<self._value)\n",
    "\n",
    "    def __rshift__(self, other):\n",
    "        return self._wrap(self._value>>other)\n",
    "    def __rrshift__(self, other):\n",
    "            return self._wrap(other>>self._value)\n",
    "  \n",
    "    def __and__(self, other):\n",
    "        return self._wrap(self._value&other)    \n",
    "    __rand__ = __and__\n",
    "    \n",
    "    def __or__(self, other):\n",
    "        return self._wrap(self._value|other)    \n",
    "    __ror__ = __or__\n",
    "    \n",
    "    def __xor__(self, other):\n",
    "        return self._wrap(self._value^other)    \n",
    "    __rxor__ = __xor__\n",
    "\n",
    "    \n",
    "    # Assignment operations\n",
    "    def __iadd__(self, other):\n",
    "        self._value+=other\n",
    "        return self\n",
    "    \n",
    "    def __isub__(self, other):\n",
    "        self._value-=other\n",
    "        return self\n",
    "        \n",
    "    def __imul__(self, other):\n",
    "        self._value*=other\n",
    "        return self\n",
    "        \n",
    "    def __ifloordiv__(self, other):\n",
    "        self._value//=other\n",
    "        return self\n",
    "        \n",
    "    def __idiv__(self, other):\n",
    "        self._value//=other\n",
    "        return self\n",
    "        \n",
    "    def __itruediv__(self, other):\n",
    "        self._value/=other   \n",
    "        return self\n",
    "        \n",
    "    def __imod__(self, other):\n",
    "        self._value%=other   \n",
    "        return self\n",
    "        \n",
    "    def __ipow__(self, other):\n",
    "        self._value**=other   \n",
    "        return self\n",
    "        \n",
    "    def __ilshift__(self, other):\n",
    "        self._value<<=other   \n",
    "        return self\n",
    "        \n",
    "    def __irshift__(self, other):\n",
    "        self._value>>=other   \n",
    "        return self\n",
    "        \n",
    "    def __iand__(self, other):\n",
    "        self._value&=other   \n",
    "        return self\n",
    "        \n",
    "    def __ior__(self, other):\n",
    "        self._value|=other   \n",
    "        return self\n",
    "        \n",
    "    def __ixor__(self, other):\n",
    "        self._value^=other   \n",
    "        return self\n",
    " \n",
    "\n",
    "    # Type conversions\n",
    "    def __int__(self):\n",
    "        return self.value.__int__()\n",
    "    \n",
    "    def __str__(self):\n",
    "        return self.value.__str__()\n",
    "\n",
    "    def __long__(self):\n",
    "        return self.value.__long__()\n",
    "\n",
    "    def __float__(self):\n",
    "        return self.value.__float__()\n",
    "\n",
    "    def __complex__(self):\n",
    "        return complex(self.value)\n",
    "    \n",
    "    def __oct__(self):\n",
    "        return self.value.__oct__()\n",
    "\n",
    "    def __hex__(self):\n",
    "        return self.value.__hex__()\n",
    "\n",
    "    def __index__(self):\n",
    "        return self.value.__int__()\n",
    "\n",
    "    def __coerce__(self):\n",
    "        return None\n",
    "\n",
    "    # repr\n",
    "    def __repr__(self):\n",
    "        return f\"{self.__class__.__name__}({self._value}, oid={self.id})\""
   ]
  },
  {
   "cell_type": "code",
   "execution_count": 300,
   "id": "0fd67d34",
   "metadata": {},
   "outputs": [
    {
     "data": {
      "text/plain": [
       "SharedNumber(6, oid=140565690089424)"
      ]
     },
     "execution_count": 300,
     "metadata": {},
     "output_type": "execute_result"
    }
   ],
   "source": [
    "1+x"
   ]
  },
  {
   "cell_type": "markdown",
   "id": "acd81f0b",
   "metadata": {},
   "source": [
    "#### Definitions"
   ]
  },
  {
   "cell_type": "code",
   "execution_count": 301,
   "id": "308aad7f",
   "metadata": {},
   "outputs": [
    {
     "data": {
      "text/plain": [
       "SharedNumber(5, oid=140565421907296)"
      ]
     },
     "execution_count": 301,
     "metadata": {},
     "output_type": "execute_result"
    }
   ],
   "source": [
    "x, x2 = SharedNumber(5), SharedNumber(5.1234)\n",
    "x"
   ]
  },
  {
   "cell_type": "code",
   "execution_count": 302,
   "id": "00cf82bd",
   "metadata": {},
   "outputs": [],
   "source": [
    "assert repr(x)[:20] == \"SharedNumber(5, oid=\""
   ]
  },
  {
   "cell_type": "markdown",
   "id": "0b63ecf9",
   "metadata": {},
   "source": [
    "#### Comparisons"
   ]
  },
  {
   "cell_type": "code",
   "execution_count": 303,
   "id": "c6b1daa0",
   "metadata": {},
   "outputs": [],
   "source": [
    "assert (x==x, x==5, x<5, x>5, x<=5, x>=5, 5<x, 5>x) == (True, True, False, False, True, True, False, False)\n",
    "assert (x==x, 5<=x, 5>=x) == (True, True, True)"
   ]
  },
  {
   "cell_type": "markdown",
   "id": "16365c7e",
   "metadata": {},
   "source": [
    "#### Unitary operations"
   ]
  },
  {
   "cell_type": "code",
   "execution_count": 304,
   "id": "de913849",
   "metadata": {},
   "outputs": [],
   "source": [
    "assert x==+x\n",
    "assert x.id != (+x).id\n",
    "assert (-x).value == -5\n",
    "assert x.id != (-x).id\n",
    "assert (abs(-x)).value == 5\n",
    "assert x.id != (abs(-x)).id\n",
    "assert round(x2,2)==5.12\n",
    "assert x2.id != round(x2,2).id\n",
    "assert trunc(x2)==5\n",
    "assert x2.id != trunc(x2).id\n",
    "assert floor(x2)==5\n",
    "assert x2.id != floor(x2).id\n",
    "assert ceil(x2)==6\n",
    "assert x2.id != ceil(x2).id"
   ]
  },
  {
   "cell_type": "markdown",
   "id": "54ce6678",
   "metadata": {},
   "source": [
    "#### Binary operations"
   ]
  },
  {
   "cell_type": "code",
   "execution_count": 305,
   "id": "8c39b064",
   "metadata": {},
   "outputs": [],
   "source": [
    "assert x+1 == 6\n",
    "assert x.id != (x+1).id\n",
    "assert x-1 == 4\n",
    "assert x.id != (x-1).id\n",
    "assert x*2 == 10\n",
    "assert x.id != (x*2).id\n",
    "assert x/2 == 2.5\n",
    "assert x.id != (x/2).id\n",
    "assert x//2 == 2\n",
    "assert x.id != (x//2).id\n",
    "assert x**2 == 25\n",
    "assert x.id != (x//2).id\n",
    "assert x<<1 == 10\n",
    "assert x.id != (x<<1).id\n",
    "assert x>>1 == 2\n",
    "assert x.id != (x>>1).id\n",
    "assert x&3 == 1\n",
    "assert x.id != (x&3).id\n",
    "assert x|2 == 7\n",
    "assert x.id != (x|2).id\n",
    "assert x^1 == 4\n",
    "assert x.id != (x^1).id"
   ]
  },
  {
   "cell_type": "code",
   "execution_count": 306,
   "id": "6e0309e0",
   "metadata": {},
   "outputs": [],
   "source": [
    "assert divmod(x,2)[0] == 2\n",
    "assert divmod(x,2)[1] == 1\n",
    "assert x.id != divmod(x,2)[0].id\n",
    "assert x.id != divmod(x,2)[1].id"
   ]
  },
  {
   "cell_type": "markdown",
   "id": "5e5a9aae",
   "metadata": {},
   "source": [
    "#### Reverse binary operations"
   ]
  },
  {
   "cell_type": "code",
   "execution_count": 307,
   "id": "38e778b8",
   "metadata": {},
   "outputs": [],
   "source": [
    "assert 1+x == 6\n",
    "assert x.id != (1+x).id\n",
    "assert 1-x == -4\n",
    "assert x.id != (1-x).id\n",
    "assert 2*x == 10\n",
    "assert x.id != (2*x).id\n",
    "assert 2/x == 0.4\n",
    "assert x.id != (2/x).id\n",
    "assert 2//x == 0\n",
    "assert x.id != (2//x).id\n",
    "assert 2**x == 32\n",
    "assert x.id != (2**x).id\n",
    "assert 1<<x == 32\n",
    "assert x.id != (1<<x).id\n",
    "assert 1024>>x == 32\n",
    "assert x.id != (1024>>x).id\n",
    "assert 3&x == 1\n",
    "assert x.id != (3&x).id\n",
    "assert 2|x == 7\n",
    "assert x.id != (2|x).id\n",
    "assert 1^x == 4\n",
    "assert x.id != (1^x).id"
   ]
  },
  {
   "cell_type": "code",
   "execution_count": 310,
   "id": "22665bf5",
   "metadata": {},
   "outputs": [],
   "source": [
    "assert divmod(16,x)[0] == 3\n",
    "assert divmod(16,x)[1] == 1\n",
    "assert x.id != divmod(16,x)[0].id\n",
    "assert x.id != divmod(16,x)[1].id"
   ]
  },
  {
   "cell_type": "markdown",
   "id": "97104cc4",
   "metadata": {},
   "source": [
    "#### Assignment operations"
   ]
  },
  {
   "cell_type": "code",
   "execution_count": null,
   "id": "a72ad9a8",
   "metadata": {},
   "outputs": [],
   "source": [
    "y = SharedNumber(100)\n",
    "id0 = y.id\n",
    "y+=1\n",
    "y-=1\n",
    "y*=10\n",
    "y//=10\n",
    "assert y == 100\n",
    "y<<=2\n",
    "y>>=1\n",
    "assert y == 200\n",
    "y&=199\n",
    "y|=1\n",
    "y^=17\n",
    "assert y == 208\n",
    "y /= 32\n",
    "assert y == 6.5\n",
    "assert y.id == id0"
   ]
  },
  {
   "cell_type": "markdown",
   "id": "c4cf94d5",
   "metadata": {},
   "source": [
    "#### Conversions"
   ]
  },
  {
   "cell_type": "code",
   "execution_count": null,
   "id": "94621be4",
   "metadata": {},
   "outputs": [],
   "source": [
    "x = SharedNumber(5.5)\n",
    "assert int(x) == 5\n",
    "assert str(x) == \"5.5\"\n",
    "assert float(x) == 5.5\n",
    "assert complex(x) == complex(float(x))"
   ]
  },
  {
   "cell_type": "code",
   "execution_count": null,
   "id": "0dd17917",
   "metadata": {},
   "outputs": [],
   "source": [
    "1+x"
   ]
  },
  {
   "cell_type": "code",
   "execution_count": null,
   "id": "55031e35",
   "metadata": {},
   "outputs": [],
   "source": [
    "__radd__(self, other)\n",
    "Implements reflected addition.\n",
    "__rsub__(self, other)\n",
    "Implements reflected subtraction.\n",
    "__rmul__(self, other)\n",
    "Implements reflected multiplication.\n",
    "__rfloordiv__(self, other)\n",
    "Implements reflected integer division using the // operator.\n",
    "__rdiv__(self, other)\n",
    "Implements reflected division using the / operator.\n",
    "__rtruediv__(self, other)\n",
    "Implements reflected true division. Note that this only works when from __future__ import division is in effect.\n",
    "__rmod__(self, other)\n",
    "Implements reflected modulo using the % operator.\n",
    "__rdivmod__(self, other)\n",
    "Implements behavior for long division using the divmod() built in function, when divmod(other, self) is called.\n",
    "__rpow__\n",
    "Implements behavior for reflected exponents using the ** operator.\n",
    "__rlshift__(self, other)\n",
    "Implements reflected left bitwise shift using the << operator.\n",
    "__rrshift__(self, other)\n",
    "Implements reflected right bitwise shift using the >> operator.\n",
    "__rand__(self, other)\n",
    "Implements reflected bitwise and using the & operator.\n",
    "__ror__(self, other)\n",
    "Implements reflected bitwise or using the | operator.\n",
    "__rxor__(self, other)\n",
    "Implements reflected bitwise xor using the ^ operator."
   ]
  },
  {
   "cell_type": "code",
   "execution_count": null,
   "id": "4188bd31",
   "metadata": {},
   "outputs": [],
   "source": []
  },
  {
   "cell_type": "code",
   "execution_count": null,
   "id": "363c3905",
   "metadata": {
    "lines_to_next_cell": 2
   },
   "outputs": [],
   "source": []
  }
 ],
 "metadata": {
  "jupytext": {
   "formats": "ipynb,py:light"
  },
  "kernelspec": {
   "display_name": "Python 3",
   "language": "python",
   "name": "python3"
  },
  "language_info": {
   "codemirror_mode": {
    "name": "ipython",
    "version": 3
   },
   "file_extension": ".py",
   "mimetype": "text/x-python",
   "name": "python",
   "nbconvert_exporter": "python",
   "pygments_lexer": "ipython3",
   "version": "3.8.8"
  }
 },
 "nbformat": 4,
 "nbformat_minor": 5
}
