{
 "cells": [
  {
   "cell_type": "code",
   "execution_count": 1,
   "id": "22b66169",
   "metadata": {},
   "outputs": [
    {
     "name": "stdout",
     "output_type": "stream",
     "text": [
      "Carbon v2.2-BETA5 (10/Jan/2022)\n",
      "CarbonSimulatorUI v2.4-beta1 (12/Jan/2023)\n",
      "CarbonOrderUI v1.5.1 (07/Jan/2023)\n"
     ]
    }
   ],
   "source": [
    "from carbon import CarbonSimulatorUI, CarbonOrderUI, P, __version__, __date__\n",
    "from math import sqrt\n",
    "import numpy as np\n",
    "from matplotlib import pyplot as plt\n",
    "print(f\"Carbon v{__version__} ({__date__})\")\n",
    "print(\"{0.__name__} v{0.__VERSION__} ({0.__DATE__})\".format(CarbonSimulatorUI))\n",
    "print(\"{0.__name__} v{0.__VERSION__} ({0.__DATE__})\".format(CarbonOrderUI))"
   ]
  },
  {
   "cell_type": "markdown",
   "id": "3b74ba17",
   "metadata": {},
   "source": [
    "# Carbon Simulation - Test 49 - Limit Prices"
   ]
  },
  {
   "cell_type": "markdown",
   "id": "738e7fb0",
   "metadata": {},
   "source": [
    "NBTEST: NOTEST_DEFAULT = TEST"
   ]
  },
  {
   "cell_type": "markdown",
   "id": "ec6ff430",
   "metadata": {},
   "source": [
    "## Limit prices"
   ]
  },
  {
   "cell_type": "code",
   "execution_count": 2,
   "id": "50517420",
   "metadata": {},
   "outputs": [
    {
     "data": {
      "text/plain": [
       "(CarbonSimulatorUI(<0 orders, 0 trades>, pair='ETH/USDC', mm='exact', xf=True),\n",
       " CarbonSimulatorUI(<0 orders, 0 trades>, pair='ETH/USDC', mm='exact', xf=True))"
      ]
     },
     "execution_count": 2,
     "metadata": {},
     "output_type": "execute_result"
    }
   ],
   "source": [
    "SimR = CarbonSimulatorUI(pair=\"ETH/USDC\", raiseonerror=True)\n",
    "SimNR = CarbonSimulatorUI(pair=\"ETH/USDC\", raiseonerror=False)\n",
    "SimR, SimNR"
   ]
  },
  {
   "cell_type": "code",
   "execution_count": 3,
   "id": "73640aaf",
   "metadata": {},
   "outputs": [],
   "source": [
    "SimR.add_order(\"ETH\", 10, 2000, 3000)\n",
    "SimNR.add_order(\"ETH\", 10, 2000, 3000)\n",
    "SimR.add_order(\"USDC\", 10000, 1000, 500)\n",
    "SimNR.add_order(\"USDC\", 10000, 1000, 500)\n",
    "assert len(SimR.state()[\"orders\"]) == 4\n",
    "assert len(SimNR.state()[\"orders\"]) == 4"
   ]
  },
  {
   "cell_type": "code",
   "execution_count": 4,
   "id": "b2a9a964",
   "metadata": {},
   "outputs": [
    {
     "name": "stdout",
     "output_type": "stream",
     "text": [
      "Help on method _trade in module carbon.simulators.carbon_simulator:\n",
      "\n",
      "_trade(tkn: str, amt: Any, support_partial: bool, carbon_pair: carbon.pair.CarbonPair, match_by: str = None, trade_description: str = None, execute: bool = True, limit_price: Any = None, limit_amt: Any = None, inpair: bool = True, use_positions: List[int] = None, threshold_orders: int = None, use_positions_matchlevel: List[int] = [], is_by_target: bool = False) -> Dict[str, Any] method of carbon.simulators.carbon_simulator.CarbonSimulatorUI instance\n",
      "    PRIVATE - executes a trade\n",
      "    \n",
      "    :tkn:                   the token that is being SOLD by the AMM, eg \"ETH\"*\n",
      "    :amt:                   the amount to be traded*\n",
      "    :carbon_pair:           the CarbonPair class of the token pair\n",
      "    :match_by:              either MATCH_BY_SOURCE or MATCH_BY_TARGET\n",
      "    :trade_description:     human-readable description of the trade, eg \"amm vs trader, buy vs sell, for amt\"\n",
      "    :execute:               if True (default), the trade is executed; otherwise only routing is shown\n",
      "    :limit_price:           the limit price of the order (this price or better from point of view\n",
      "                            of the trader, not the AMM!), quoted in convention of the pair**\n",
      "    :limit_amt:             the minimum amount of tokens the traders expects to obtain; quoted in units of the\n",
      "                            other token, ie `carbon_pair.other(tkn)`**\n",
      "    :inpair:                if True, only match within pair; if False (default), route through all available pairs\n",
      "    :use_positions:         the positions to use for the trade (default: all positions)\n",
      "    :threshold_orders:      the maximum number of order to be routed through using the alpha router\n",
      "    :support_partial:       if True (not default), and insufficient liquidity for a trade request, a partial fullfilment is made\n",
      "    \n",
      "    *amt is always effectively a positive amount; however, if `match_by` is `MATCH_BY_TARGET` then it must\n",
      "    be provided as a negative number, and if `MATCH_BY_SOURCE` as positive number\n",
      "    \n",
      "    **limit_price and limit_amt are redundant; either one of them can be given, or none, but not both\n",
      "\n"
     ]
    }
   ],
   "source": [
    "help(SimR._trade)"
   ]
  },
  {
   "cell_type": "code",
   "execution_count": 5,
   "id": "60a5dedb",
   "metadata": {},
   "outputs": [
    {
     "name": "stdout",
     "output_type": "stream",
     "text": [
      "Help on method amm_sells in module carbon.simulators.carbon_simulator:\n",
      "\n",
      "amm_sells(tkn: str, amt: Any, pair: str = None, execute: bool = True, inpair: bool = True, limit_price: Any = None, limit_amt: Any = None, threshold_orders: int = 10, use_positions: List[int] = None, use_positions_matchlevel: List[int] = [], support_partial: bool = False) -> Dict[str, Any] method of carbon.simulators.carbon_simulator.CarbonSimulatorUI instance\n",
      "    the AMM sells (and the trader buys) `amt` > 0 of `tkn`\n",
      "    \n",
      "    :tkn:               the token sold by the AMM and bought by the trader, eg \"ETH\"\n",
      "    :amt:               the amount sold by the AMM and bought by the trader (must be positive)\n",
      "    :pair:              the token pair to which the trade corresponds, eg \"ETHUSD\"\n",
      "    :execute:           if True (default), the trade is executed; otherwise only routing is shown\n",
      "    :inpair:            if True, only match within pair; if False (default), route through all available pairs\n",
      "    :limit_price:       the limit price of the order (this price or better from point of view\n",
      "                        of the trader, not the AMM!), quoted in convention of the pair*\n",
      "    :limit_amt:         the minimum amount of tokens the traders expects to obtain; quoted in units of the\n",
      "                        other token, ie `carbon_pair.other(tkn)`*\n",
      "    :threshold_orders:  the maximum number of order to be routed through using the alpha router \n",
      "    :use_positions:     the positions to use for the trade (default: all positions)\n",
      "    :support_partial:   if True (not default), and insufficient liquidity for a trade request, a partial fullfilment is made\n",
      "    \n",
      "    *limit_price and limit_amt are redundant; either one of them can be given, or none, but not both\n",
      "\n",
      "Help on method amm_buys in module carbon.simulators.carbon_simulator:\n",
      "\n",
      "amm_buys(tkn: str, amt: Any, pair: str = None, execute: bool = True, inpair: bool = True, limit_price: Any = None, limit_amt: Any = None, threshold_orders: int = 10, use_positions: List[int] = None, use_positions_matchlevel: List[int] = [], support_partial: bool = False) -> Dict[str, Any] method of carbon.simulators.carbon_simulator.CarbonSimulatorUI instance\n",
      "    the AMM buys (and the trader sells) `amt` > 0 of `tkn`\n",
      "    \n",
      "    :tkn:               the token bought by the AMM and sold by the trader, eg \"ETH\"\n",
      "    :amt:               the amount bought by the AMM and sold by the trader (must be positive)\n",
      "    :pair:              the token pair to which the trade corresponds, eg \"ETHUSD\"\n",
      "    :execute:           if True (default), the trade is executed; otherwise only routing is shown\n",
      "    :inpair:            if True, only match within pair; if False (default), route through all available pairs\n",
      "    :limit_price:       the limit price of the order (this price or better from point of view\n",
      "                        of the trader, not the AMM!), quoted in convention of the pair*\n",
      "    :limit_amt:         the minimum amount of tokens the traders expects to obtain; quoted in units of the\n",
      "                        other token, ie `carbon_pair.other(tkn)`*\n",
      "    :threshold_orders:  the maximum number of order to be routed through using the alpha router\n",
      "    :use_positions:     the positions to use for the trade (default: all positions)\n",
      "    :support_partial:   if True (not default), and insufficient liquidity for a trade request, a partial fullfilment is made\n",
      "    \n",
      "    *limit_price and limit_amt are redundant; either one of them can be given, or none, but not both\n",
      "\n"
     ]
    }
   ],
   "source": [
    "assert SimR.trader_buys == SimR.amm_sells\n",
    "assert SimR.trader_sells == SimR.amm_buys\n",
    "assert SimR.trader_buys != SimR.amm_buys\n",
    "assert SimR.trader_sells != SimR.amm_sells\n",
    "help(SimR.trader_buys)\n",
    "help(SimR.trader_sells)"
   ]
  },
  {
   "cell_type": "code",
   "execution_count": 6,
   "id": "d0b5be7a",
   "metadata": {},
   "outputs": [
    {
     "data": {
      "text/html": [
       "<div>\n",
       "<style scoped>\n",
       "    .dataframe tbody tr th:only-of-type {\n",
       "        vertical-align: middle;\n",
       "    }\n",
       "\n",
       "    .dataframe tbody tr th {\n",
       "        vertical-align: top;\n",
       "    }\n",
       "\n",
       "    .dataframe thead th {\n",
       "        text-align: right;\n",
       "    }\n",
       "</style>\n",
       "<table border=\"1\" class=\"dataframe\">\n",
       "  <thead>\n",
       "    <tr style=\"text-align: right;\">\n",
       "      <th></th>\n",
       "      <th>uid</th>\n",
       "      <th>id</th>\n",
       "      <th>subid</th>\n",
       "      <th>note</th>\n",
       "      <th>aggr</th>\n",
       "      <th>exec</th>\n",
       "      <th>partial</th>\n",
       "      <th>limitfail</th>\n",
       "      <th>amt1</th>\n",
       "      <th>tkn1</th>\n",
       "      <th>amt2</th>\n",
       "      <th>tkn2</th>\n",
       "      <th>pair</th>\n",
       "      <th>routeix</th>\n",
       "      <th>nroutes</th>\n",
       "      <th>price</th>\n",
       "      <th>p_unit</th>\n",
       "    </tr>\n",
       "  </thead>\n",
       "  <tbody>\n",
       "    <tr>\n",
       "      <th>0</th>\n",
       "      <td>0.0</td>\n",
       "      <td>0</td>\n",
       "      <td>0</td>\n",
       "      <td>route #0</td>\n",
       "      <td>False</td>\n",
       "      <td>False</td>\n",
       "      <td>False</td>\n",
       "      <td>None</td>\n",
       "      <td>1.0</td>\n",
       "      <td>ETH</td>\n",
       "      <td>2037.386743</td>\n",
       "      <td>USDC</td>\n",
       "      <td>ETHUSDC</td>\n",
       "      <td>0</td>\n",
       "      <td>1</td>\n",
       "      <td>2037.386743</td>\n",
       "      <td>USDC per ETH</td>\n",
       "    </tr>\n",
       "    <tr>\n",
       "      <th>0</th>\n",
       "      <td>0</td>\n",
       "      <td>0</td>\n",
       "      <td>A</td>\n",
       "      <td>AMM sells 1ETH buys 2037USDC</td>\n",
       "      <td>True</td>\n",
       "      <td>False</td>\n",
       "      <td>True</td>\n",
       "      <td>None</td>\n",
       "      <td>1.0</td>\n",
       "      <td>ETH</td>\n",
       "      <td>2037.386743</td>\n",
       "      <td>USDC</td>\n",
       "      <td>ETHUSDC</td>\n",
       "      <td>[0]</td>\n",
       "      <td>1</td>\n",
       "      <td>2037.386743</td>\n",
       "      <td>USDC per ETH</td>\n",
       "    </tr>\n",
       "  </tbody>\n",
       "</table>\n",
       "</div>"
      ],
      "text/plain": [
       "   uid  id subid                          note   aggr   exec  partial  \\\n",
       "0  0.0   0     0                      route #0  False  False    False   \n",
       "0    0   0     A  AMM sells 1ETH buys 2037USDC   True  False     True   \n",
       "\n",
       "  limitfail  amt1 tkn1         amt2  tkn2     pair routeix  nroutes  \\\n",
       "0      None   1.0  ETH  2037.386743  USDC  ETHUSDC       0        1   \n",
       "0      None   1.0  ETH  2037.386743  USDC  ETHUSDC     [0]        1   \n",
       "\n",
       "         price        p_unit  \n",
       "0  2037.386743  USDC per ETH  \n",
       "0  2037.386743  USDC per ETH  "
      ]
     },
     "execution_count": 6,
     "metadata": {},
     "output_type": "execute_result"
    }
   ],
   "source": [
    "r = SimR.amm_sells(\"ETH\", 1, execute=False)\n",
    "assert r[\"success\"] == True\n",
    "r[\"trades\"]"
   ]
  },
  {
   "cell_type": "markdown",
   "id": "cc6442a6",
   "metadata": {},
   "source": [
    "### Check that you can't give both price and amount, both by amount and by target"
   ]
  },
  {
   "cell_type": "code",
   "execution_count": 7,
   "id": "3b8af30e",
   "metadata": {},
   "outputs": [
    {
     "name": "stdout",
     "output_type": "stream",
     "text": [
      "('Not both limit_amt and limit_price can be given', 1000, 1000)\n"
     ]
    }
   ],
   "source": [
    "try:\n",
    "    SimR.amm_sells(\"ETH\", 1, limit_price=1000, limit_amt=1000)\n",
    "    raise RuntimeError(\"should raise\")\n",
    "except ValueError as e:\n",
    "    print(e)"
   ]
  },
  {
   "cell_type": "code",
   "execution_count": 8,
   "id": "55853c1b",
   "metadata": {},
   "outputs": [
    {
     "name": "stdout",
     "output_type": "stream",
     "text": [
      "('Not both limit_amt and limit_price can be given', 1000, 1000)\n"
     ]
    }
   ],
   "source": [
    "try:\n",
    "    SimR.amm_buys(\"ETH\", 1, limit_price=1000, limit_amt=1000)\n",
    "    raise RuntimeError(\"should raise\")\n",
    "except ValueError as e:\n",
    "    print(e)"
   ]
  },
  {
   "cell_type": "code",
   "execution_count": 9,
   "id": "9a8bf208",
   "metadata": {},
   "outputs": [
    {
     "name": "stdout",
     "output_type": "stream",
     "text": [
      "('Not both limit_amt and limit_price can be given', 1000, 1000)\n"
     ]
    }
   ],
   "source": [
    "try:\n",
    "    SimR.amm_sells(\"USDC\", 1, limit_price=1000, limit_amt=1000)\n",
    "    raise RuntimeError(\"should raise\")\n",
    "except ValueError as e:\n",
    "    print(e)"
   ]
  },
  {
   "cell_type": "code",
   "execution_count": 10,
   "id": "5a6d7f10",
   "metadata": {
    "lines_to_next_cell": 2
   },
   "outputs": [
    {
     "name": "stdout",
     "output_type": "stream",
     "text": [
      "('Not both limit_amt and limit_price can be given', 1000, 1000)\n"
     ]
    }
   ],
   "source": [
    "try:\n",
    "    SimR.amm_buys(\"USDC\", 1, limit_price=1000, limit_amt=1000)\n",
    "    raise RuntimeError(\"should raise\")\n",
    "except ValueError as e:\n",
    "    print(e)"
   ]
  },
  {
   "cell_type": "code",
   "execution_count": 11,
   "id": "a369b38c",
   "metadata": {},
   "outputs": [],
   "source": [
    "assert SimNR.amm_sells(\"ETH\", 1, limit_price=1000, limit_amt=1000)[\"success\"] == False\n",
    "assert SimNR.amm_buys(\"ETH\", 1, limit_price=1000, limit_amt=1000)[\"success\"] == False\n",
    "assert SimNR.amm_sells(\"USDC\", 1, limit_price=1000, limit_amt=1000)[\"success\"] == False\n",
    "assert SimNR.amm_buys(\"USDC\", 1, limit_price=1000, limit_amt=1000)[\"success\"] == False"
   ]
  },
  {
   "cell_type": "markdown",
   "id": "5c4e63f4",
   "metadata": {},
   "source": [
    "### Check price limits"
   ]
  },
  {
   "cell_type": "code",
   "execution_count": 12,
   "id": "2b700cb2",
   "metadata": {},
   "outputs": [],
   "source": [
    "r = SimR.trader_buys(\"ETH\", 1, execute=False)\n",
    "price_buy_eth = r[\"trades\"][\"price\"].iloc[0]\n",
    "assert int(price_buy_eth) == 2037"
   ]
  },
  {
   "cell_type": "code",
   "execution_count": 13,
   "id": "aa41763f",
   "metadata": {},
   "outputs": [],
   "source": [
    "r = SimR.trader_buys(\"USDC\", 1000, execute=False)\n",
    "price_buy_usdc = r[\"trades\"][\"price\"].iloc[0]\n",
    "assert int(price_buy_usdc) == 970"
   ]
  },
  {
   "cell_type": "code",
   "execution_count": 14,
   "id": "fb533e1d",
   "metadata": {},
   "outputs": [],
   "source": [
    "r = SimR.trader_sells(\"ETH\", 1, execute=False)\n",
    "price_sell_eth = r[\"trades\"][\"price\"].iloc[0]\n",
    "assert int(price_sell_eth) == 971"
   ]
  },
  {
   "cell_type": "code",
   "execution_count": 15,
   "id": "d95ed759",
   "metadata": {},
   "outputs": [],
   "source": [
    "r = SimR.trader_sells(\"USDC\", 1000, execute=False)\n",
    "price_sell_usdc = r[\"trades\"][\"price\"].iloc[0]\n",
    "assert int(price_sell_usdc) == 2018"
   ]
  },
  {
   "cell_type": "code",
   "execution_count": 16,
   "id": "3c0f7533",
   "metadata": {},
   "outputs": [
    {
     "name": "stdout",
     "output_type": "stream",
     "text": [
      "buy  ETH   @       2037 USDC/ETH\n",
      "buy  USDC  @        971 USDC/ETH\n",
      "sell ETH   @        972 USDC/ETH\n",
      "sell USDC  @       2018 USDC/ETH\n"
     ]
    }
   ],
   "source": [
    "print(f\"buy  ETH   @ {price_buy_eth:10.0f} USDC/ETH\")\n",
    "print(f\"buy  USDC  @ {price_buy_usdc:10.0f} USDC/ETH\")\n",
    "print(f\"sell ETH   @ {price_sell_eth:10.0f} USDC/ETH\")\n",
    "print(f\"sell USDC  @ {price_sell_usdc:10.0f} USDC/ETH\")"
   ]
  },
  {
   "cell_type": "code",
   "execution_count": 17,
   "id": "7af5898a",
   "metadata": {},
   "outputs": [],
   "source": [
    "limitfail = lambda  r: \"fail\" if r[\"trades\"].query(\"aggr==True\")[\"limitfail\"].iloc[0] else \"nofail\""
   ]
  },
  {
   "cell_type": "markdown",
   "id": "394b63bc",
   "metadata": {},
   "source": [
    "worse than limit transactions"
   ]
  },
  {
   "cell_type": "code",
   "execution_count": 18,
   "id": "05964ac0",
   "metadata": {},
   "outputs": [
    {
     "name": "stdout",
     "output_type": "stream",
     "text": [
      "[_trade] limit_price=2036, price_avg=2037.386743337496\n",
      "[_trade] limit_price=971, price_avg=970.7106781187076\n",
      "[_trade] limit_price=972, price_avg=971.544131218801\n",
      "[_trade] limit_price=2017, price_avg=2018.3503419082042\n"
     ]
    },
    {
     "data": {
      "text/plain": [
       "('fail', 'fail', 'fail', 'fail')"
      ]
     },
     "execution_count": 18,
     "metadata": {},
     "output_type": "execute_result"
    }
   ],
   "source": [
    "fail_r = (\n",
    "    limitfail(SimR.trader_buys(\"ETH\", 1, limit_price = int(price_buy_eth) - 1, execute=False)),\n",
    "    limitfail(SimR.trader_buys(\"USDC\", 1000, limit_price = int(price_buy_usdc) + 1, execute=False)),\n",
    "    limitfail(SimR.trader_sells(\"ETH\", 1, limit_price = int(price_sell_eth) + 1, execute=False)),\n",
    "    limitfail(SimR.trader_sells(\"USDC\", 1000, limit_price = int(price_sell_usdc) - 1, execute=False)),\n",
    ")\n",
    "assert fail_r == (\"fail\",)*4\n",
    "fail_r"
   ]
  },
  {
   "cell_type": "markdown",
   "id": "04348f2d",
   "metadata": {},
   "source": [
    "better than limit transactions"
   ]
  },
  {
   "cell_type": "code",
   "execution_count": 19,
   "id": "df298bc2",
   "metadata": {},
   "outputs": [
    {
     "name": "stdout",
     "output_type": "stream",
     "text": [
      "[_trade] limit_price=2038, price_avg=2037.386743337496\n",
      "[_trade] limit_price=969, price_avg=970.7106781187076\n",
      "[_trade] limit_price=970, price_avg=971.544131218801\n",
      "[_trade] limit_price=2019, price_avg=2018.3503419082042\n"
     ]
    },
    {
     "data": {
      "text/plain": [
       "('nofail', 'nofail', 'nofail', 'nofail')"
      ]
     },
     "execution_count": 19,
     "metadata": {},
     "output_type": "execute_result"
    }
   ],
   "source": [
    "fail_r = (\n",
    "    limitfail(SimR.trader_buys(\"ETH\", 1, limit_price = int(price_buy_eth) + 1, execute=False)),\n",
    "    limitfail(SimR.trader_buys(\"USDC\", 1000, limit_price = int(price_buy_usdc) - 1, execute=False)),\n",
    "    limitfail(SimR.trader_sells(\"ETH\", 1, limit_price = int(price_sell_eth) - 1, execute=False)),\n",
    "    limitfail(SimR.trader_sells(\"USDC\", 1000, limit_price = int(price_sell_usdc) + 1, execute=False)),\n",
    ")\n",
    "assert fail_r == (\"nofail\",)*4\n",
    "fail_r"
   ]
  },
  {
   "cell_type": "markdown",
   "id": "b3ca58b9",
   "metadata": {},
   "source": [
    "### Check amount limits"
   ]
  },
  {
   "cell_type": "markdown",
   "id": "7599c57c",
   "metadata": {},
   "source": [
    "worse than limit transactions"
   ]
  },
  {
   "cell_type": "code",
   "execution_count": 20,
   "id": "7ae9e7b7",
   "metadata": {},
   "outputs": [
    {
     "name": "stdout",
     "output_type": "stream",
     "text": [
      "[_trade] limit_price=2036.0000000000002, price_avg=2037.386743337496\n",
      "[_trade] limit_price=971.0, price_avg=970.7106781187076\n",
      "[_trade] limit_price=976.0, price_avg=971.544131218801\n",
      "[_trade] limit_price=2017.0, price_avg=2018.3503419082042\n"
     ]
    },
    {
     "data": {
      "text/plain": [
       "('fail', 'fail', 'fail', 'fail')"
      ]
     },
     "execution_count": 20,
     "metadata": {},
     "output_type": "execute_result"
    }
   ],
   "source": [
    "fail_r = (\n",
    "    limitfail(SimR.trader_buys(\"ETH\", 1, limit_amt = (int(price_buy_eth) - 1)*1, execute=False)),\n",
    "    limitfail(SimR.trader_buys(\"USDC\", 1000, limit_amt = 1000/(int(price_buy_usdc) + 1), execute=False)),\n",
    "    limitfail(SimR.trader_sells(\"ETH\", 1, limit_amt = (int(price_sell_eth) + 5)*1, execute=False)),\n",
    "    limitfail(SimR.trader_sells(\"USDC\", 1000, limit_amt = 1000/(int(price_sell_usdc) - 1), execute=False)),\n",
    ")\n",
    "assert fail_r == (\"fail\",)*4\n",
    "fail_r"
   ]
  },
  {
   "cell_type": "code",
   "execution_count": 21,
   "id": "fb9a387f",
   "metadata": {},
   "outputs": [
    {
     "data": {
      "text/plain": [
       "2018.3503419082042"
      ]
     },
     "execution_count": 21,
     "metadata": {},
     "output_type": "execute_result"
    }
   ],
   "source": [
    "price_sell_usdc"
   ]
  },
  {
   "cell_type": "code",
   "execution_count": 22,
   "id": "455df22b",
   "metadata": {},
   "outputs": [
    {
     "data": {
      "text/plain": [
       "2018.3503419082042"
      ]
     },
     "execution_count": 22,
     "metadata": {},
     "output_type": "execute_result"
    }
   ],
   "source": [
    "price_sell_usdc"
   ]
  },
  {
   "cell_type": "markdown",
   "id": "6ccac49c",
   "metadata": {},
   "source": [
    "better than limit transactions"
   ]
  },
  {
   "cell_type": "code",
   "execution_count": 23,
   "id": "12564f45",
   "metadata": {},
   "outputs": [
    {
     "name": "stdout",
     "output_type": "stream",
     "text": [
      "[_trade] limit_price=2038.0000000000002, price_avg=2037.386743337496\n",
      "[_trade] limit_price=968.9999999999999, price_avg=970.7106781187076\n",
      "[_trade] limit_price=970.0, price_avg=971.544131218801\n",
      "[_trade] limit_price=2019.0, price_avg=2018.3503419082042\n"
     ]
    },
    {
     "data": {
      "text/plain": [
       "('nofail', 'nofail', 'nofail', 'nofail')"
      ]
     },
     "execution_count": 23,
     "metadata": {},
     "output_type": "execute_result"
    }
   ],
   "source": [
    "fail_r = (\n",
    "    limitfail(SimR.trader_buys(\"ETH\", 1, limit_amt = (int(price_buy_eth) + 1)*1, execute=False)),\n",
    "    limitfail(SimR.trader_buys(\"USDC\", 1000, limit_amt = 1000/(int(price_buy_usdc) - 1), execute=False)),\n",
    "    limitfail(SimR.trader_sells(\"ETH\", 1, limit_amt = (int(price_sell_eth) - 1)*1, execute=False)),\n",
    "    limitfail(SimR.trader_sells(\"USDC\", 1000, limit_amt = 1000/(int(price_sell_usdc) + 1), execute=False)),\n",
    ")\n",
    "assert fail_r == (\"nofail\",)*4\n",
    "fail_r"
   ]
  },
  {
   "cell_type": "markdown",
   "id": "2c4e594a",
   "metadata": {},
   "source": [
    "### Check amount limits (ranges)"
   ]
  },
  {
   "cell_type": "code",
   "execution_count": 24,
   "id": "e9a130d6",
   "metadata": {},
   "outputs": [],
   "source": [
    "def goalseek(f, target, xlo, xhi):\n",
    "    if not f(xhi)>target and f(xlo)<target:\n",
    "        raise ValueError(\"must have f(xhi) > target, f(xlo)<target \", f(xhi), f(xlo))\n",
    "    return _goalseek(f, target, xlo, xhi)\n",
    "    \n",
    "def _goalseek(f, target, xlo, xhi):\n",
    "    xmid = 0.5*(xhi+xlo)\n",
    "    #print(xlo, xhi, xmid)\n",
    "    if abs(xhi-xlo)<1: return xmid\n",
    "    if f(xmid) > target:\n",
    "        return _goalseek(f, target, xlo, xmid)\n",
    "    else:\n",
    "        return _goalseek(f, target, xmid, xhi)\n",
    "limitfail_ind = lambda  r: 0 if r[\"trades\"].query(\"aggr==True\")[\"limitfail\"].iloc[0] else 1"
   ]
  },
  {
   "cell_type": "code",
   "execution_count": 25,
   "id": "10ca5d7c",
   "metadata": {},
   "outputs": [
    {
     "name": "stdout",
     "output_type": "stream",
     "text": [
      "[_trade] limit_price=3000.0, price_avg=2037.386743337496\n",
      "[_trade] limit_price=1749.9999999999998, price_avg=2037.386743337496\n",
      "[_trade] limit_price=2375.0, price_avg=2037.386743337496\n",
      "[_trade] limit_price=2062.5, price_avg=2037.386743337496\n",
      "[_trade] limit_price=1906.2499999999998, price_avg=2037.386743337496\n",
      "[_trade] limit_price=1984.375, price_avg=2037.386743337496\n",
      "[_trade] limit_price=2023.4375, price_avg=2037.386743337496\n",
      "[_trade] limit_price=2042.9687499999998, price_avg=2037.386743337496\n",
      "[_trade] limit_price=2033.203125, price_avg=2037.386743337496\n",
      "[_trade] limit_price=2038.0859375000002, price_avg=2037.386743337496\n",
      "[_trade] limit_price=2035.64453125, price_avg=2037.386743337496\n",
      "[_trade] limit_price=2036.8652343750002, price_avg=2037.386743337496\n",
      "[_trade] limit_price=2037.4755859375002, price_avg=2037.386743337496\n"
     ]
    },
    {
     "data": {
      "text/plain": [
       "2037.17041015625"
      ]
     },
     "execution_count": 25,
     "metadata": {},
     "output_type": "execute_result"
    }
   ],
   "source": [
    "x = goalseek(lambda x: limitfail_ind(SimR.trader_buys(\"ETH\", 1, limit_amt=x, execute=False)), 0.5, 500, 3000)\n",
    "assert int(x) == int(price_buy_eth)"
   ]
  },
  {
   "cell_type": "code",
   "execution_count": 27,
   "id": "799ea7d3",
   "metadata": {},
   "outputs": [
    {
     "name": "stdout",
     "output_type": "stream",
     "text": [
      "[_trade] limit_price=500.0, price_avg=971.544131218801\n",
      "[_trade] limit_price=1749.9999999999998, price_avg=971.544131218801\n",
      "[_trade] limit_price=1125.0, price_avg=971.544131218801\n",
      "[_trade] limit_price=812.5, price_avg=971.544131218801\n",
      "[_trade] limit_price=968.75, price_avg=971.544131218801\n",
      "[_trade] limit_price=1046.875, price_avg=971.544131218801\n",
      "[_trade] limit_price=1007.8125, price_avg=971.544131218801\n",
      "[_trade] limit_price=988.2812500000001, price_avg=971.544131218801\n",
      "[_trade] limit_price=978.5156249999999, price_avg=971.544131218801\n",
      "[_trade] limit_price=973.6328124999999, price_avg=971.544131218801\n",
      "[_trade] limit_price=971.1914062499999, price_avg=971.544131218801\n",
      "[_trade] limit_price=972.412109375, price_avg=971.544131218801\n",
      "[_trade] limit_price=971.8017578125001, price_avg=971.544131218801\n"
     ]
    }
   ],
   "source": [
    "x = goalseek(lambda x: limitfail_ind(SimR.trader_sells(\"ETH\", 1, limit_amt=x, execute=False)), 0.5, 3000, 500)\n",
    "assert int(x) == int(price_sell_eth)"
   ]
  },
  {
   "cell_type": "code",
   "execution_count": null,
   "id": "d1d1ed20",
   "metadata": {},
   "outputs": [],
   "source": []
  }
 ],
 "metadata": {
  "jupytext": {
   "formats": "ipynb,py:light"
  },
  "kernelspec": {
   "display_name": "Python 3",
   "language": "python",
   "name": "python3"
  },
  "language_info": {
   "codemirror_mode": {
    "name": "ipython",
    "version": 3
   },
   "file_extension": ".py",
   "mimetype": "text/x-python",
   "name": "python",
   "nbconvert_exporter": "python",
   "pygments_lexer": "ipython3",
   "version": "3.8.8"
  }
 },
 "nbformat": 4,
 "nbformat_minor": 5
}
