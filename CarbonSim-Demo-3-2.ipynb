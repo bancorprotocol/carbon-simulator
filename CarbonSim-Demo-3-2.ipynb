{
 "cells": [
  {
   "cell_type": "code",
   "execution_count": 1,
   "id": "81b04bbc",
   "metadata": {},
   "outputs": [
    {
     "name": "stdout",
     "output_type": "stream",
     "text": [
      "Carbon Version v1.0 beta2\n"
     ]
    }
   ],
   "source": [
    "from carbon import CarbonSimulatorUI\n",
    "from carbon import __version__ as cversion\n",
    "import numpy as np\n",
    "from matplotlib import pyplot as plt\n",
    "from collections import namedtuple\n",
    "print (f\"Carbon Version v{cversion}\")"
   ]
  },
  {
   "cell_type": "markdown",
   "id": "04af7ee4",
   "metadata": {},
   "source": [
    "# Carbon Simulation - Demo 3-2\n",
    "\n",
    "In this demo we look at an **order book**"
   ]
  },
  {
   "cell_type": "markdown",
   "id": "fb092b85",
   "metadata": {},
   "source": [
    "Set up the similation, with the pair ETHUSDC as default"
   ]
  },
  {
   "cell_type": "code",
   "execution_count": 2,
   "id": "b987b57a",
   "metadata": {},
   "outputs": [],
   "source": [
    "TKNB = \"ETH\"\n",
    "TKNQ = \"USDC\""
   ]
  },
  {
   "cell_type": "markdown",
   "id": "51d0b028",
   "metadata": {},
   "source": [
    "A number of other preparations here"
   ]
  },
  {
   "cell_type": "code",
   "execution_count": 3,
   "id": "939612d0",
   "metadata": {},
   "outputs": [],
   "source": [
    "orders_nt = namedtuple(\"orders_nt\", 'tkn, amt, p_start, p_end')"
   ]
  },
  {
   "cell_type": "code",
   "execution_count": 4,
   "id": "e79138f1",
   "metadata": {},
   "outputs": [],
   "source": [
    "def midpoints(r):\n",
    "    \"\"\"\n",
    "    calculates the midpoints: (r0, r1, r2, ...) -> (avg(r0,r1), avg(r1,r2), ...)\n",
    "    \"\"\"\n",
    "    return np.array([0.5*(s1+s2) for s1,s2 in zip(r, r[1:])])"
   ]
  },
  {
   "cell_type": "code",
   "execution_count": 5,
   "id": "04021c79",
   "metadata": {},
   "outputs": [],
   "source": [
    "def safemul(x1, x2):\n",
    "    \"returns x1*x2, or 0 if raise\"\n",
    "    try:\n",
    "        return x1*x2\n",
    "    except:\n",
    "        print(\"[safemul] error\", x1, x2)\n",
    "        return 0"
   ]
  },
  {
   "cell_type": "code",
   "execution_count": 6,
   "id": "1b6e1ad6",
   "metadata": {},
   "outputs": [],
   "source": [
    "def effective_price_f(tkn, size):\n",
    "    \"\"\"\n",
    "    returns the price at which `tkn` can be sold in `size` (None if out of liquidity)\n",
    "    \"\"\"\n",
    "    try:\n",
    "        result = Sim.amm_sells(tkn, size, execute=False)\n",
    "        price = result[\"trades\"].iloc[0][\"price\"]\n",
    "        print(f\"[effective_price_f] trading size={size} price={price}\")\n",
    "        return price\n",
    "    except:\n",
    "        return None"
   ]
  },
  {
   "cell_type": "code",
   "execution_count": 7,
   "id": "0b3d73c9",
   "metadata": {},
   "outputs": [],
   "source": [
    "def run_calculation():\n",
    "    \"\"\"helper function: runs the calculation using global variables\"\"\"\n",
    "    effective_prices = [\n",
    "        effective_price_f(\"ETH\", size) for size in trade_sizes\n",
    "    ]\n",
    "    print(effective_prices)\n",
    "    token_amounts = [\n",
    "        safemul(size, price) for size, price in zip(trade_sizes, effective_prices)\n",
    "    ]\n",
    "    marg_token_amounts = np.diff(token_amounts)\n",
    "    marg_prices = [\n",
    "        amt / size for amt, size in zip(marg_token_amounts, marg_trade_sizes)\n",
    "    ]\n",
    "    return effective_prices, token_amounts, marg_token_amounts, marg_prices"
   ]
  },
  {
   "cell_type": "code",
   "execution_count": 8,
   "id": "7f546514",
   "metadata": {},
   "outputs": [],
   "source": [
    "def plot_token_amount_chart():\n",
    "    \"\"\"helper function: plots the chart using global variables\"\"\"\n",
    "    plt.plot(trade_sizes, token_amounts, label=\"Token amount\")\n",
    "    plt.plot(trade_sizes2, marg_token_amounts, label=\"Marginal token amount\")\n",
    "    plt.title(\"Token amount against trade size\")\n",
    "    plt.xlabel(f\"Trade Size ({TKNB})\")\n",
    "    plt.ylabel(f\"Token Amount ({TKNQ})\")\n",
    "    plt.grid()\n",
    "    plt.legend()\n",
    "    return \"plotted marginal and total tokens received against trade size\""
   ]
  },
  {
   "cell_type": "code",
   "execution_count": 9,
   "id": "c030ae98",
   "metadata": {},
   "outputs": [],
   "source": [
    "def plot_price_chart():\n",
    "    \"\"\"helper function: plots the chart using global variables\"\"\"\n",
    "    plt.plot(trade_sizes, effective_prices, label=\"Effective price\")\n",
    "    plt.plot(trade_sizes2, marg_prices, label=\"Marginal price\")\n",
    "    plt.title(\"Price against trade size\")\n",
    "    plt.xlabel(f\"Trade Size ({TKNB})\")\n",
    "    plt.ylabel(f\"Effective Price ({TKNQ} per {TKNB})\")\n",
    "    plt.grid()\n",
    "    plt.legend()\n",
    "    return \"plotted marginal and effective price against trade size\""
   ]
  },
  {
   "cell_type": "code",
   "execution_count": 10,
   "id": "ed379fa8",
   "metadata": {},
   "outputs": [],
   "source": [
    "def plot_reverse_price_chart():\n",
    "    \"\"\"helper function: plots the chart using global variables\"\"\"\n",
    "    plt.plot(effective_prices, trade_sizes, label=\"Effective price\")\n",
    "    plt.title(\"Trade size against effective price\")\n",
    "    plt.xlabel(f\"Effective Price ({TKNQ} per {TKNB})\")\n",
    "    plt.ylabel(f\"Trade Size ({TKNB})\")\n",
    "    plt.grid()\n",
    "    #plt.legend()\n",
    "    return \"plotted trade size against effective price\""
   ]
  },
  {
   "cell_type": "code",
   "execution_count": 11,
   "id": "ea3b7e49",
   "metadata": {},
   "outputs": [],
   "source": [
    "def plot_reverse_marg_price_chart():\n",
    "    \"\"\"helper function: plots the chart using global variables\"\"\"\n",
    "    plt.plot(marg_prices, trade_sizes2, label=\"Marginal price\")\n",
    "    plt.title(\"Trade size against marginal price\")\n",
    "    plt.xlabel(f\"Marginal Price ({TKNQ} per {TKNB})\")\n",
    "    plt.ylabel(f\"Trade Size ({TKNB})\")\n",
    "    plt.grid()\n",
    "    #plt.legend()\n",
    "    return \"plotted trade size against effective price\""
   ]
  },
  {
   "cell_type": "code",
   "execution_count": 12,
   "id": "aec4b359",
   "metadata": {},
   "outputs": [],
   "source": [
    "def plot_orderbook_chart(xmin, xmax, ymax):\n",
    "    \"\"\"helper function: plots the chart using global variables\"\"\"\n",
    "    dp = np.diff(marg_prices)\n",
    "    y = midpoints(marg_token_amounts) / dp\n",
    "    plt.plot(midpoints(marg_prices), y, label=\"Orders\")\n",
    "    plt.title(\"Order Book\")\n",
    "    plt.xlabel(f\"Marginal Price ({TKNQ} per {TKNB})\")\n",
    "    plt.ylabel(f\"Liquidity Size ({TKNB})\")\n",
    "    plt.grid()\n",
    "    #plt.legend()\n",
    "    plt.xlim(xmin,xmax)\n",
    "    plt.ylim(0,ymax)\n",
    "    return \"plotted order book\""
   ]
  },
  {
   "cell_type": "markdown",
   "id": "143348a8",
   "metadata": {},
   "source": [
    "## Order book calculations"
   ]
  },
  {
   "cell_type": "code",
   "execution_count": 13,
   "id": "4498656c",
   "metadata": {},
   "outputs": [
    {
     "data": {
      "text/plain": [
       "CarbonSimulatorUI(<0 orders, 0 trades>, pair='ETHUSDC')"
      ]
     },
     "execution_count": 13,
     "metadata": {},
     "output_type": "execute_result"
    }
   ],
   "source": [
    "Sim = CarbonSimulatorUI(pair=f\"{TKNB}{TKNQ}\", verbose=False, raiseonerror=True)\n",
    "Sim"
   ]
  },
  {
   "cell_type": "code",
   "execution_count": 14,
   "id": "da439f6c",
   "metadata": {},
   "outputs": [
    {
     "data": {
      "text/plain": [
       "(orders_nt(tkn='ETH', amt=10, p_start=2000, p_end=2000),\n",
       " orders_nt(tkn='ETH', amt=10, p_start=2000, p_end=2025))"
      ]
     },
     "execution_count": 14,
     "metadata": {},
     "output_type": "execute_result"
    }
   ],
   "source": [
    "orders = tuple(\n",
    "    orders_nt(\"ETH\", 10, 2000, 2000+x*25) for x in range(21)\n",
    ")\n",
    "orders[:2]"
   ]
  },
  {
   "cell_type": "code",
   "execution_count": 15,
   "id": "d16ca100",
   "metadata": {},
   "outputs": [],
   "source": [
    "orders = tuple([\n",
    "    orders_nt(\"ETH\", 100, 2000, 3000),\n",
    "    orders_nt(\"ETH\", 30, 2400, 2500),\n",
    "])"
   ]
  },
  {
   "cell_type": "code",
   "execution_count": 16,
   "id": "7a22f7e1",
   "metadata": {},
   "outputs": [
    {
     "name": "stdout",
     "output_type": "stream",
     "text": [
      "max liquidity 128.7\n"
     ]
    }
   ],
   "source": [
    "max_liquidity = 0.99*sum(o.amt for o in orders)\n",
    "print(\"max liquidity\", max_liquidity)\n",
    "trade_sizes = np.linspace(0,max_liquidity, 51)\n",
    "marg_trade_sizes = np.diff(trade_sizes)\n",
    "trade_sizes2 = midpoints(trade_sizes)\n",
    "trade_sizes[0] = 0.0000001\n",
    "#trade_sizes[:3]"
   ]
  },
  {
   "cell_type": "code",
   "execution_count": 17,
   "id": "761009d3",
   "metadata": {},
   "outputs": [
    {
     "data": {
      "text/html": [
       "<div>\n",
       "<style scoped>\n",
       "    .dataframe tbody tr th:only-of-type {\n",
       "        vertical-align: middle;\n",
       "    }\n",
       "\n",
       "    .dataframe tbody tr th {\n",
       "        vertical-align: top;\n",
       "    }\n",
       "\n",
       "    .dataframe thead th {\n",
       "        text-align: right;\n",
       "    }\n",
       "</style>\n",
       "<table border=\"1\" class=\"dataframe\">\n",
       "  <thead>\n",
       "    <tr style=\"text-align: right;\">\n",
       "      <th></th>\n",
       "      <th>id</th>\n",
       "      <th>pair</th>\n",
       "      <th>tkn</th>\n",
       "      <th>y_int</th>\n",
       "      <th>y</th>\n",
       "      <th>y_unit</th>\n",
       "      <th>p_start</th>\n",
       "      <th>p_end</th>\n",
       "      <th>p_marg</th>\n",
       "      <th>p_unit</th>\n",
       "      <th>lid</th>\n",
       "    </tr>\n",
       "  </thead>\n",
       "  <tbody>\n",
       "    <tr>\n",
       "      <th>0</th>\n",
       "      <td>0</td>\n",
       "      <td>ETHUSDC</td>\n",
       "      <td>ETH</td>\n",
       "      <td>100.0</td>\n",
       "      <td>100.0</td>\n",
       "      <td>ETH</td>\n",
       "      <td>2000.0</td>\n",
       "      <td>3000.0</td>\n",
       "      <td>2000.0</td>\n",
       "      <td>USDC per ETH</td>\n",
       "      <td>0</td>\n",
       "    </tr>\n",
       "    <tr>\n",
       "      <th>1</th>\n",
       "      <td>1</td>\n",
       "      <td>ETHUSDC</td>\n",
       "      <td>ETH</td>\n",
       "      <td>30.0</td>\n",
       "      <td>30.0</td>\n",
       "      <td>ETH</td>\n",
       "      <td>2400.0</td>\n",
       "      <td>2500.0</td>\n",
       "      <td>2400.0</td>\n",
       "      <td>USDC per ETH</td>\n",
       "      <td>1</td>\n",
       "    </tr>\n",
       "  </tbody>\n",
       "</table>\n",
       "</div>"
      ],
      "text/plain": [
       "   id     pair  tkn  y_int      y y_unit  p_start   p_end  p_marg  \\\n",
       "0   0  ETHUSDC  ETH  100.0  100.0    ETH   2000.0  3000.0  2000.0   \n",
       "1   1  ETHUSDC  ETH   30.0   30.0    ETH   2400.0  2500.0  2400.0   \n",
       "\n",
       "         p_unit  lid  \n",
       "0  USDC per ETH    0  \n",
       "1  USDC per ETH    1  "
      ]
     },
     "execution_count": 17,
     "metadata": {},
     "output_type": "execute_result"
    }
   ],
   "source": [
    "for o in orders:\n",
    "    Sim.add_order(o.tkn, o.amt, o.p_start, o.p_end)\n",
    "Sim.state()[\"orders\"]"
   ]
  },
  {
   "cell_type": "code",
   "execution_count": 18,
   "id": "faa6f6c1",
   "metadata": {},
   "outputs": [
    {
     "ename": "AssertionError",
     "evalue": "In and out don't match. -7.722000000000 -7.7219999999999995 -5E-16",
     "output_type": "error",
     "traceback": [
      "\u001b[0;31m---------------------------------------------------------------------------\u001b[0m",
      "\u001b[0;31mAssertionError\u001b[0m                            Traceback (most recent call last)",
      "\u001b[0;32m<ipython-input-18-3ac5cc5a58cb>\u001b[0m in \u001b[0;36m<module>\u001b[0;34m\u001b[0m\n\u001b[0;32m----> 1\u001b[0;31m \u001b[0mSim\u001b[0m\u001b[0;34m.\u001b[0m\u001b[0mamm_sells\u001b[0m\u001b[0;34m(\u001b[0m\u001b[0;34m\"ETH\"\u001b[0m\u001b[0;34m,\u001b[0m \u001b[0mtrade_sizes\u001b[0m\u001b[0;34m[\u001b[0m\u001b[0;36m3\u001b[0m\u001b[0;34m]\u001b[0m\u001b[0;34m,\u001b[0m \u001b[0mexecute\u001b[0m\u001b[0;34m=\u001b[0m\u001b[0;32mFalse\u001b[0m\u001b[0;34m)\u001b[0m\u001b[0;34m\u001b[0m\u001b[0;34m\u001b[0m\u001b[0m\n\u001b[0m",
      "\u001b[0;32m~/REPOES/Bancor/CarbonSimulator/carbon/simulators/carbon_simulator.py\u001b[0m in \u001b[0;36mamm_sells\u001b[0;34m(self, tkn, amt, pair, execute, inpair, limit_price)\u001b[0m\n\u001b[1;32m    622\u001b[0m             \u001b[0mself\u001b[0m\u001b[0;34m.\u001b[0m\u001b[0m_assert_position_is_valid\u001b[0m\u001b[0;34m(\u001b[0m\u001b[0mtkn\u001b[0m\u001b[0;34m,\u001b[0m \u001b[0mcarbon_pair\u001b[0m\u001b[0;34m)\u001b[0m\u001b[0;34m\u001b[0m\u001b[0;34m\u001b[0m\u001b[0m\n\u001b[1;32m    623\u001b[0m \u001b[0;34m\u001b[0m\u001b[0m\n\u001b[0;32m--> 624\u001b[0;31m             return self._trade(\n\u001b[0m\u001b[1;32m    625\u001b[0m                 \u001b[0mtkn\u001b[0m\u001b[0;34m=\u001b[0m\u001b[0mtkn\u001b[0m\u001b[0;34m,\u001b[0m\u001b[0;34m\u001b[0m\u001b[0;34m\u001b[0m\u001b[0m\n\u001b[1;32m    626\u001b[0m                 \u001b[0mamt\u001b[0m\u001b[0;34m=\u001b[0m\u001b[0;34m-\u001b[0m\u001b[0mDecimal\u001b[0m\u001b[0;34m(\u001b[0m\u001b[0mstr\u001b[0m\u001b[0;34m(\u001b[0m\u001b[0mamt\u001b[0m\u001b[0;34m)\u001b[0m\u001b[0;34m)\u001b[0m\u001b[0;34m,\u001b[0m\u001b[0;34m\u001b[0m\u001b[0;34m\u001b[0m\u001b[0m\n",
      "\u001b[0;32m~/REPOES/Bancor/CarbonSimulator/carbon/simulators/carbon_simulator.py\u001b[0m in \u001b[0;36m_trade\u001b[0;34m(self, tkn, amt, carbon_pair, trade_action, trade_description, execute, limit_price, inpair)\u001b[0m\n\u001b[1;32m    362\u001b[0m \u001b[0;34m\u001b[0m\u001b[0m\n\u001b[1;32m    363\u001b[0m             \u001b[0;31m# route the trade\u001b[0m\u001b[0;34m\u001b[0m\u001b[0;34m\u001b[0m\u001b[0;34m\u001b[0m\u001b[0m\n\u001b[0;32m--> 364\u001b[0;31m             \u001b[0mroutes\u001b[0m \u001b[0;34m=\u001b[0m \u001b[0mtrade_action\u001b[0m\u001b[0;34m(\u001b[0m\u001b[0mamt\u001b[0m\u001b[0;34m)\u001b[0m\u001b[0;34m\u001b[0m\u001b[0;34m\u001b[0m\u001b[0m\n\u001b[0m\u001b[1;32m    365\u001b[0m \u001b[0;34m\u001b[0m\u001b[0m\n\u001b[1;32m    366\u001b[0m             \u001b[0;31m# retrieve the final route\u001b[0m\u001b[0;34m\u001b[0m\u001b[0;34m\u001b[0m\u001b[0;34m\u001b[0m\u001b[0m\n",
      "\u001b[0;32m~/REPOES/Bancor/CarbonSimulator/carbon/routers/exact_base_router.py\u001b[0m in \u001b[0;36mmatch_by_target\u001b[0;34m(self, x, is_by_target, check_sufficient_liquidity)\u001b[0m\n\u001b[1;32m     63\u001b[0m         \u001b[0mAlias\u001b[0m \u001b[0;32mfor\u001b[0m \u001b[0mmatch\u001b[0m \u001b[0mmethod\u001b[0m \u001b[0;32min\u001b[0m \u001b[0mthe\u001b[0m \u001b[0mcase\u001b[0m \u001b[0mof\u001b[0m \u001b[0ma\u001b[0m \u001b[0mtarget\u001b[0m \u001b[0mamount\u001b[0m\u001b[0;34m.\u001b[0m\u001b[0;34m\u001b[0m\u001b[0;34m\u001b[0m\u001b[0m\n\u001b[1;32m     64\u001b[0m         \"\"\"\n\u001b[0;32m---> 65\u001b[0;31m         return self.match(\n\u001b[0m\u001b[1;32m     66\u001b[0m             \u001b[0mx\u001b[0m\u001b[0;34m=\u001b[0m\u001b[0mx\u001b[0m\u001b[0;34m,\u001b[0m\u001b[0;34m\u001b[0m\u001b[0;34m\u001b[0m\u001b[0m\n\u001b[1;32m     67\u001b[0m             \u001b[0mis_by_target\u001b[0m\u001b[0;34m=\u001b[0m\u001b[0mis_by_target\u001b[0m\u001b[0;34m,\u001b[0m\u001b[0;34m\u001b[0m\u001b[0;34m\u001b[0m\u001b[0m\n",
      "\u001b[0;32m~/REPOES/Bancor/CarbonSimulator/carbon/routers/exact_base_router.py\u001b[0m in \u001b[0;36mmatch\u001b[0;34m(self, x, is_by_target, completed_trade, trade, cmp, check_sufficient_liquidity)\u001b[0m\n\u001b[1;32m    176\u001b[0m             \u001b[0;32mexcept\u001b[0m \u001b[0mAssertionError\u001b[0m \u001b[0;32mas\u001b[0m \u001b[0me\u001b[0m\u001b[0;34m:\u001b[0m\u001b[0;34m\u001b[0m\u001b[0;34m\u001b[0m\u001b[0m\n\u001b[1;32m    177\u001b[0m                 \u001b[0;31m#self.logger.error(e)\u001b[0m\u001b[0;34m\u001b[0m\u001b[0;34m\u001b[0m\u001b[0;34m\u001b[0m\u001b[0m\n\u001b[0;32m--> 178\u001b[0;31m                 \u001b[0;32mraise\u001b[0m \u001b[0me\u001b[0m\u001b[0;34m\u001b[0m\u001b[0;34m\u001b[0m\u001b[0m\n\u001b[0m\u001b[1;32m    179\u001b[0m         \u001b[0;32melse\u001b[0m\u001b[0;34m:\u001b[0m\u001b[0;34m\u001b[0m\u001b[0;34m\u001b[0m\u001b[0m\n\u001b[1;32m    180\u001b[0m             \u001b[0;32mtry\u001b[0m\u001b[0;34m:\u001b[0m\u001b[0;34m\u001b[0m\u001b[0;34m\u001b[0m\u001b[0m\n",
      "\u001b[0;32m~/REPOES/Bancor/CarbonSimulator/carbon/routers/exact_base_router.py\u001b[0m in \u001b[0;36mmatch\u001b[0;34m(self, x, is_by_target, completed_trade, trade, cmp, check_sufficient_liquidity)\u001b[0m\n\u001b[1;32m    171\u001b[0m         \u001b[0;32mif\u001b[0m \u001b[0mis_by_target\u001b[0m\u001b[0;34m:\u001b[0m\u001b[0;34m\u001b[0m\u001b[0;34m\u001b[0m\u001b[0m\n\u001b[1;32m    172\u001b[0m             \u001b[0;32mtry\u001b[0m\u001b[0;34m:\u001b[0m\u001b[0;34m\u001b[0m\u001b[0;34m\u001b[0m\u001b[0m\n\u001b[0;32m--> 173\u001b[0;31m                 assert (\n\u001b[0m\u001b[1;32m    174\u001b[0m                     \u001b[0mround\u001b[0m\u001b[0;34m(\u001b[0m\u001b[0mttl_values\u001b[0m\u001b[0;34m[\u001b[0m\u001b[0mi\u001b[0m\u001b[0;34m]\u001b[0m\u001b[0;34m,\u001b[0m \u001b[0;36m12\u001b[0m\u001b[0;34m)\u001b[0m \u001b[0;34m==\u001b[0m \u001b[0mx\u001b[0m\u001b[0;34m\u001b[0m\u001b[0;34m\u001b[0m\u001b[0m\n\u001b[1;32m    175\u001b[0m                 ), f\"In and out don't match. {round(ttl_values[i],12)} {x} {round(ttl_values[i], 12)-x}\"\n",
      "\u001b[0;31mAssertionError\u001b[0m: In and out don't match. -7.722000000000 -7.7219999999999995 -5E-16"
     ]
    }
   ],
   "source": [
    "Sim.amm_sells(\"ETH\", trade_sizes[3], execute=False)"
   ]
  },
  {
   "cell_type": "code",
   "execution_count": null,
   "id": "7584624f",
   "metadata": {},
   "outputs": [],
   "source": [
    "effective_prices, token_amounts, marg_token_amounts, marg_prices = run_calculation()"
   ]
  },
  {
   "cell_type": "code",
   "execution_count": null,
   "id": "5e86b99d",
   "metadata": {},
   "outputs": [],
   "source": [
    "trade_sizes"
   ]
  },
  {
   "cell_type": "code",
   "execution_count": null,
   "id": "4c81fa30",
   "metadata": {},
   "outputs": [],
   "source": [
    "#Sim.state()[\"trades\"].query(\"aggr==True\")"
   ]
  },
  {
   "cell_type": "code",
   "execution_count": null,
   "id": "e773f67d",
   "metadata": {},
   "outputs": [],
   "source": [
    "effective_prices"
   ]
  },
  {
   "cell_type": "code",
   "execution_count": null,
   "id": "519099d8",
   "metadata": {},
   "outputs": [],
   "source": [
    "plot_token_amount_chart()"
   ]
  },
  {
   "cell_type": "code",
   "execution_count": null,
   "id": "8a3234a8",
   "metadata": {
    "lines_to_next_cell": 2
   },
   "outputs": [],
   "source": [
    "plot_price_chart()"
   ]
  },
  {
   "cell_type": "code",
   "execution_count": null,
   "id": "c7e90d57",
   "metadata": {},
   "outputs": [],
   "source": [
    "#plot_reverse_price_chart()"
   ]
  },
  {
   "cell_type": "code",
   "execution_count": null,
   "id": "4b55f931",
   "metadata": {},
   "outputs": [],
   "source": [
    "#plot_reverse_marg_price_chart()"
   ]
  },
  {
   "cell_type": "code",
   "execution_count": null,
   "id": "d40b24eb",
   "metadata": {},
   "outputs": [],
   "source": [
    "plot_orderbook_chart(2000, 3000, None)"
   ]
  },
  {
   "cell_type": "code",
   "execution_count": null,
   "id": "f82aaa4c",
   "metadata": {},
   "outputs": [],
   "source": []
  }
 ],
 "metadata": {
  "jupytext": {
   "encoding": "# -*- coding: utf-8 -*-",
   "formats": "ipynb,auto:light"
  },
  "kernelspec": {
   "display_name": "Python 3",
   "language": "python",
   "name": "python3"
  },
  "language_info": {
   "codemirror_mode": {
    "name": "ipython",
    "version": 3
   },
   "file_extension": ".py",
   "mimetype": "text/x-python",
   "name": "python",
   "nbconvert_exporter": "python",
   "pygments_lexer": "ipython3",
   "version": "3.8.8"
  }
 },
 "nbformat": 4,
 "nbformat_minor": 5
}
