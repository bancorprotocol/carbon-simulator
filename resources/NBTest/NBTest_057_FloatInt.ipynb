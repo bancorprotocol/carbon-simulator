{
 "cells": [
  {
   "cell_type": "code",
   "execution_count": 24,
   "id": "ce011baf",
   "metadata": {},
   "outputs": [
    {
     "name": "stdout",
     "output_type": "stream",
     "text": [
      "CarbonFloatInt32 v1.0-beta2 (09/Feb/2023)\n",
      "Carbon v2.3.2-BETA3 (10/Feb/2022)\n"
     ]
    }
   ],
   "source": [
    "from carbon.helpers.stdimports import *\n",
    "from carbon.helpers.floatint import *\n",
    "print(\"{0.__name__} v{0.__VERSION__} ({0.__DATE__})\".format(CarbonFloatInt32))\n",
    "from math import sqrt, log2, ceil, floor\n",
    "print_version(require=\"2.3.2\")"
   ]
  },
  {
   "cell_type": "markdown",
   "id": "edf6bdb6",
   "metadata": {},
   "source": [
    "# Carbon FloatInt (NBTest 057)"
   ]
  },
  {
   "cell_type": "markdown",
   "id": "5de471b5",
   "metadata": {},
   "source": [
    "## floatint params"
   ]
  },
  {
   "cell_type": "code",
   "execution_count": 31,
   "id": "f1d62837",
   "metadata": {},
   "outputs": [],
   "source": [
    "CFI_t = (CarbonFloatInt32, CarbonFloatInt40, CarbonFloatInt48, \n",
    "        CarbonFloatInt60, CarbonFloatInt64, CarbonFloatInt128)"
   ]
  },
  {
   "cell_type": "code",
   "execution_count": 2,
   "id": "264c3d41",
   "metadata": {},
   "outputs": [],
   "source": [
    "assert CarbonFloatInt32.ONE_EXPONENT  == 32\n",
    "assert CarbonFloatInt40.ONE_EXPONENT  == 40\n",
    "assert CarbonFloatInt48.ONE_EXPONENT  == 48\n",
    "assert CarbonFloatInt60.ONE_EXPONENT  == 60\n",
    "assert CarbonFloatInt64.ONE_EXPONENT  == 64\n",
    "assert CarbonFloatInt128.ONE_EXPONENT == 128"
   ]
  },
  {
   "cell_type": "code",
   "execution_count": 35,
   "id": "ebd6f48e",
   "metadata": {},
   "outputs": [],
   "source": [
    "for CFI in CFI_t:\n",
    "    assert CFI.BITS_SIGNIFICANT == 40\n",
    "    assert CFI.from_int(2**40-1).exponent == 0\n",
    "    assert CFI.from_int(2**40).exponent == 1"
   ]
  },
  {
   "cell_type": "markdown",
   "id": "ac73283b",
   "metadata": {},
   "source": [
    "## floatint"
   ]
  },
  {
   "cell_type": "code",
   "execution_count": 3,
   "id": "2a158347",
   "metadata": {},
   "outputs": [],
   "source": [
    "I32 = CarbonFloatInt32\n",
    "I40 = CarbonFloatInt40\n",
    "I64 = CarbonFloatInt64"
   ]
  },
  {
   "cell_type": "code",
   "execution_count": 4,
   "id": "14c516c9",
   "metadata": {},
   "outputs": [],
   "source": [
    "r = I64.from_float(sqrt(2))\n",
    "assert r.significant == 777472127993\n",
    "assert r.exponent == 25\n",
    "assert r.one == 18446744073709551616\n",
    "assert r.asint == 26087635650636414976\n",
    "assert r.asint1 == (r.asint, r.one)\n",
    "assert r.astuple == (777472127993, 25)\n",
    "assert r.astuple1 == (777472127993, 25, 64)\n",
    "assert r.astuple1 == (r.significant, r.exponent, r.ONE_EXPONENT)\n",
    "assert r.asdict == {'significant': 777472127993, 'exponent': 25}\n",
    "assert r.asdict1 == {'significant': 777472127993, 'exponent': 25, 'one_exponent': 64}\n",
    "assert r.asdict1 == {'significant': r.significant, 'exponent': r.exponent, 'one_exponent': r.ONE_EXPONENT}\n",
    "assert r.asfloat == float(r)\n",
    "assert r.asint == int(r)"
   ]
  },
  {
   "cell_type": "code",
   "execution_count": 5,
   "id": "49c2e4c7",
   "metadata": {},
   "outputs": [],
   "source": [
    "r  = I64.from_int(2**234-1)\n",
    "r2 = I32.from_int(2**234-1)\n",
    "assert r.asint == 27606985387137146742797476726052758652111605223017136798872240757145600\n",
    "assert r.asint == r2.asint\n",
    "assert r.ashex == \"0x3fffffffffc000000000000000000000000000000000000000000000000\"\n",
    "assert r.ashex == r2.ashex"
   ]
  },
  {
   "cell_type": "code",
   "execution_count": 6,
   "id": "12b0efaa",
   "metadata": {},
   "outputs": [],
   "source": [
    "assert r.max().asint == 63657374260394794151270269665081282040354043348133872840046568760304686825600315503411200\n",
    "assert r.max().ashex == '0x7fffffffff8000000000000000000000000000000000000000000000000000000000000000'\n",
    "assert abs(r.max().asfloat/3.45087e+69-1)<1e-6\n",
    "assert r.max().significant == 2**40-1\n",
    "assert r.max().exponent == 2**8-1"
   ]
  },
  {
   "cell_type": "code",
   "execution_count": 7,
   "id": "a2efb28f",
   "metadata": {},
   "outputs": [],
   "source": [
    "assert r.min().asint == 1\n",
    "assert r.min().ashex == '0x1'\n",
    "assert abs(r.min().asfloat/5.421010e-20-1) < 1e-6\n",
    "assert r.min().significant == 1\n",
    "assert r.min().exponent == 0"
   ]
  },
  {
   "cell_type": "code",
   "execution_count": 8,
   "id": "7e37a273",
   "metadata": {},
   "outputs": [],
   "source": [
    "assert abs(I32.from_float(sqrt(2)).asfloat/sqrt(2)-1) < 1e-9\n",
    "assert abs(I40.from_float(sqrt(2)).asfloat/sqrt(2)-1) < 1e-11\n",
    "assert abs(I64.from_float(sqrt(2)).asfloat/sqrt(2)-1) < 1e-11"
   ]
  },
  {
   "cell_type": "code",
   "execution_count": 9,
   "id": "fe44ff21",
   "metadata": {},
   "outputs": [],
   "source": [
    "class I96(I64):\n",
    "    ONE_EXPONENT = 96\n",
    "r = I96.from_float(sqrt(2))\n",
    "assert r.asint == 112045541949447083908604624896\n",
    "assert r.astuple1 == (777472127993, 57, 96)"
   ]
  },
  {
   "cell_type": "code",
   "execution_count": null,
   "id": "df3d006f",
   "metadata": {},
   "outputs": [],
   "source": []
  },
  {
   "cell_type": "code",
   "execution_count": null,
   "id": "fb112b20",
   "metadata": {},
   "outputs": [],
   "source": []
  }
 ],
 "metadata": {
  "jupytext": {
   "formats": "ipynb,py:light"
  },
  "kernelspec": {
   "display_name": "Python 3",
   "language": "python",
   "name": "python3"
  },
  "language_info": {
   "codemirror_mode": {
    "name": "ipython",
    "version": 3
   },
   "file_extension": ".py",
   "mimetype": "text/x-python",
   "name": "python",
   "nbconvert_exporter": "python",
   "pygments_lexer": "ipython3",
   "version": "3.8.8"
  }
 },
 "nbformat": 4,
 "nbformat_minor": 5
}
