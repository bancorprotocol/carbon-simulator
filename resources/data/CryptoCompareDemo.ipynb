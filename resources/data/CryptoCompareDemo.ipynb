{
 "cells": [
  {
   "cell_type": "code",
   "execution_count": 1,
   "id": "655e6fab",
   "metadata": {},
   "outputs": [
    {
     "name": "stdout",
     "output_type": "stream",
     "text": [
      "CryptoCompare v1.3 (30/Jan/2023)\n"
     ]
    }
   ],
   "source": [
    "from carbon.helpers.cryptocompare import CryptoCompare\n",
    "\n",
    "print( \"{0.__name__} v{0.__VERSION__} ({0.__DATE__})\".format(CryptoCompare))"
   ]
  },
  {
   "cell_type": "markdown",
   "id": "1a8bd681",
   "metadata": {},
   "source": [
    "# Crypto Compare\n",
    "\n",
    "https://min-api.cryptocompare.com/documentation"
   ]
  },
  {
   "cell_type": "markdown",
   "id": "0dcd7571",
   "metadata": {},
   "source": [
    "Note: `CryptoCompare` expects the API in an environment variable called `CCAPIKEY`. To set in bash, run\n",
    "\n",
    "    export CCAPIKEY=<value>\n",
    "    jupyter notebook\n",
    "    \n",
    "Alternatively you can supply the API key directly to the object (via `apikey=XXX`), but this is not recommended because of its security implications."
   ]
  },
  {
   "cell_type": "code",
   "execution_count": 2,
   "id": "d37fb19e",
   "metadata": {
    "lines_to_next_cell": 2
   },
   "outputs": [
    {
     "name": "stdout",
     "output_type": "stream",
     "text": [
      "Can't find API key CCAPIKEY in environment variables.\n",
      "Use `export CCAPIKEY=<value>` to set it BEFORE you launch Jupyter\n",
      "API key not present. Use `export CCAPIKEY=<value>` to set it before launching Jupyter.\n",
      "[CryptoCompare] key digest 0000 0000\n"
     ]
    }
   ],
   "source": [
    "CCA = CryptoCompare(apikey=True)\n",
    "try:\n",
    "    CCA = CryptoCompare()\n",
    "except RuntimeError as e:\n",
    "    CC = CCA\n",
    "    print(e)\n",
    "print(\"[CryptoCompare] key digest\", CC.keydigest[:4], CCA.keydigest[:4])"
   ]
  },
  {
   "cell_type": "markdown",
   "id": "0843da33",
   "metadata": {},
   "source": [
    "## Rate limit"
   ]
  },
  {
   "cell_type": "code",
   "execution_count": 3,
   "id": "4d89bb6f",
   "metadata": {},
   "outputs": [
    {
     "name": "stdout",
     "output_type": "stream",
     "text": [
      "[query] https://min-api.cryptocompare.com/stats/rate/limit {} [0000]\n"
     ]
    },
    {
     "data": {
      "text/plain": [
       "{'calls_made': {'second': 1,\n",
       "  'minute': 1,\n",
       "  'hour': 641,\n",
       "  'day': 651,\n",
       "  'month': 666},\n",
       " 'calls_left': {'second': 19,\n",
       "  'minute': 299,\n",
       "  'hour': 2359,\n",
       "  'day': 6849,\n",
       "  'month': 49334}}"
      ]
     },
     "execution_count": 3,
     "metadata": {},
     "output_type": "execute_result"
    }
   ],
   "source": [
    "CC.query_ratelimit()"
   ]
  },
  {
   "cell_type": "code",
   "execution_count": 4,
   "id": "b0915a13",
   "metadata": {},
   "outputs": [
    {
     "name": "stdout",
     "output_type": "stream",
     "text": [
      "[query] https://min-api.cryptocompare.com/stats/rate/limit {} [0000]\n"
     ]
    },
    {
     "data": {
      "text/plain": [
       "{'calls_made': {'second': 1,\n",
       "  'minute': 2,\n",
       "  'hour': 642,\n",
       "  'day': 652,\n",
       "  'month': 667},\n",
       " 'calls_left': {'second': 19,\n",
       "  'minute': 298,\n",
       "  'hour': 2358,\n",
       "  'day': 6848,\n",
       "  'month': 49333}}"
      ]
     },
     "execution_count": 4,
     "metadata": {},
     "output_type": "execute_result"
    }
   ],
   "source": [
    "CCA.query_ratelimit()"
   ]
  },
  {
   "cell_type": "markdown",
   "id": "bd60e4b4",
   "metadata": {},
   "source": [
    "## Exchanges and pairs"
   ]
  },
  {
   "cell_type": "code",
   "execution_count": 5,
   "id": "245d686c",
   "metadata": {},
   "outputs": [
    {
     "data": {
      "text/plain": [
       "dict_keys(['ABCC', 'ACX', 'Abucoins', 'AidosMarket', 'BCEX', 'BTC38', 'BTCAlpha', 'BTCBOX', 'BTCChina', 'BTCE', 'BTCExchange', 'BTCMarkets', 'BTCTurk', 'BTCXIndia', 'BTER', 'BXinth', 'Bgogo', 'Bibox', 'BigONE', 'Binance', 'Binanceje', 'Bit2C', 'BitBank', 'BitBay', 'BitFlip', 'BitGrail', 'BitMarket', 'BitMart', 'BitSquare', 'BitTrex', 'BitZ', 'BitexBook', 'Bitfinex', 'Bitforex', 'Bithumb', 'Bitinfi', 'Bitkub', 'Bitlish', 'Bitmex', 'Bitpoint', 'Bitsane', 'Bitshares', 'Bitso', 'Bitstamp', 'Blackturtle', 'Bleutrade', 'Bluebelt', 'Braziliex', 'Buda', 'CBX', 'CCCAGG', 'CCEDK', 'CCEX', 'CHBTC', 'Catex', 'Cexio', 'ChileBit', 'Codex', 'CoinBene', 'CoinCorner', 'CoinDeal', 'CoinEx', 'CoinFalcon', 'CoinHub', 'CoinJar', 'CoinPulse', 'CoinTiger', 'Coinbase', 'Coincap', 'Coincheck', 'Coinfloor', 'Coinmate', 'Coinnest', 'Coinone', 'Coinroom', 'CoinsBank', 'Coinsbit', 'Coinse', 'Coinsetter', 'Cryptagio', 'CryptoBulls', 'CryptoCarbon', 'CryptoExchangeWS', 'CryptoX', 'Cryptonit', 'Cryptopia', 'Cryptsy', 'DDEX', 'DEx', 'DSX', 'DigiFinex', 'EXRATES', 'EXX', 'EtherDelta', 'Ethermium', 'EthexIndia', 'Ethfinex', 'Everbloom', 'Exenium', 'Exmo', 'ExtStock', 'FCCE', 'FCoin', 'Foxbit', 'Gatecoin', 'Gateio', 'Gemini', 'Globitex', 'Gneiss', 'Gnosis', 'Graviex', 'HADAX', 'Hikenex', 'HitBTC', 'Huobi', 'HuobiPro', 'IDAX', 'IDEX', 'IQFinex', 'Incorex', 'IndependentReserve', 'InstantBitex', 'Ironex', 'Jubi', 'Korbit', 'Kraken', 'Kucoin', 'Kuna', 'LAToken', 'LBank', 'LakeBTC', 'Liqnet', 'Liqui', 'Liquid', 'LiveCoin', 'LocalBitcoins', 'Luno', 'Lykke', 'MercadoBitcoin', 'Minebit', 'MonetaGo', 'MtGox', 'NDAX', 'Nebula', 'Neraex', 'Nexchange', 'Nlexch', 'Novaexchange', 'Nuex', 'OKCoin', 'OKEX', 'OpenLedger', 'Ore', 'P2PB2B', 'Paymium', 'Poloniex', 'Qryptos', 'QuadrigaCX', 'Quoine', 'Remitano', 'RightBTC', 'SafeCoin', 'Simex', 'SingularityX', 'StocksExchange', 'StocksExchangeio', 'Surbitcoin', 'Switcheo', 'TDAX', 'TheRockTrading', 'Threexbit', 'Tidex', 'TokenStore', 'Tokenomy', 'TradeSatoshi', 'TrustDEX', 'TuxExchange', 'Unocoin', 'Upbit', 'VBTC', 'Vaultoro', 'Velox', 'ViaBTC', 'WEX', 'WavesDEX', 'WorldCryptoCap', 'XS2', 'Yacuna', 'Yobit', 'Yunbi', 'ZB', 'ZBG', 'Zaif', 'Zecoex', 'aax', 'aliexchange', 'alphaex', 'altilly', 'ascendex', 'ataix', 'bcbitcoin', 'beldex', 'bequant', 'betconix', 'bhex', 'biki', 'bilaxy', 'binancedex', 'binanceusa', 'bingcoins', 'bitFlyer', 'bitFlyerFX', 'bitasset', 'bitbuy', 'bitci', 'bitcoincom', 'bitfex', 'bitflyereu', 'bitflyerus', 'bithumbglobal', 'bitmax', 'bitpanda', 'bitspark', 'bkex', 'blockchaincom', 'btcXchange', 'btcmex', 'btse', 'bullish', 'bw', 'bybit', 'chainrift', 'chainx', 'chaoex', 'cobinhood', 'coinall', 'coineal', 'coinegg', 'coinfield', 'coinspro', 'coinsuper', 'coinzest', 'compound', 'coss', 'crex24', 'crosstower', 'cryptodotcom', 'cryptofacilities', 'cryptonex', 'currency', 'curve', 'darbfinance', 'dcoin', 'decoin', 'deribit', 'e55com', 'eidoo', 'equos', 'erisx', 'etoro', 'exscudo', 'fatbtc', 'ftx', 'ftxus', 'gopax', 'hbus', 'huobifutures', 'huobijapan', 'huobikorea', 'iCoinbay', 'idevex', 'indodax', 'itBit', 'lmax', 'mexc', 'nominex', 'oex', 'onederx', 'oneinch', 'pancakeswap', 'paribu', 'primexbt', 'probit', 'quickswap', 'raidofinance', 'safetrade', 'seedcx', 'sigenp2p', 'sigenpro', 'sistemkoin', 'slicex', 'smartrade', 'sushiswap', 'tchapp', 'thore', 'timex', 'tokensnet', 'tokok', 'trxmarket', 'uniswap', 'uniswapv2', 'uniswapv3', 'unnamed', 'utorg', 'valr', 'wbb', 'xbtpro', 'xcoex', 'xena', 'xtpub', 'zebitex', 'zloadr'])"
      ]
     },
     "execution_count": 5,
     "metadata": {},
     "output_type": "execute_result"
    }
   ],
   "source": [
    "data = CC.cache_allexchanges()\n",
    "data[\"exchanges\"].keys()"
   ]
  },
  {
   "cell_type": "code",
   "execution_count": 6,
   "id": "b36f68a8",
   "metadata": {},
   "outputs": [
    {
     "data": {
      "text/plain": [
       "'ABCC, BTCBOX, BTCMarkets, BTCTurk, Bibox, BigONE, Binance, Bit2C, BitBank, BitBay, BitMart, BitTrex, Bitfinex, Bithumb, Bitkub, Bitso, Bitstamp, CBX, Cexio, CoinCorner, CoinEx, CoinJar, Coinbase, Coincheck, Coinmate, Coinone, Coinsbit, DigiFinex, Exmo, Gateio, Gemini, HitBTC, HuobiPro, IndependentReserve, Korbit, Kraken, Kucoin, LAToken, Liquid, Luno, Lykke, NDAX, OKCoin, OKEX, P2PB2B, Paymium, TheRockTrading, Upbit, Vaultoro, ZB, ZBG, Zaif, aax, ataix, bequant, binanceusa, bitFlyer, bitbuy, bitflyereu, bitflyerus, bithumbglobal, bitpanda, blockchaincom, btse, bullish, coinfield, crosstower, cryptodotcom, currency, dcoin, decoin, eidoo, erisx, etoro, ftxus, gopax, huobijapan, huobikorea, indodax, itBit, lmax, nominex, probit, valr, zebitex'"
      ]
     },
     "execution_count": 6,
     "metadata": {},
     "output_type": "execute_result"
    }
   ],
   "source": [
    "\", \".join([x for x in data[\"exchanges\"] if data[\"exchanges\"][x].get(\"isTopTier\")])"
   ]
  },
  {
   "cell_type": "code",
   "execution_count": 7,
   "id": "c6da1c10",
   "metadata": {},
   "outputs": [
    {
     "data": {
      "text/plain": [
       "'ABCC, AidosMarket, BCEX, BTCAlpha, BTCBOX, BTCExchange, BTCMarkets, BTCTurk, Bgogo, Bibox, BigONE, Binance, Binanceje, Bit2C, BitBank, BitBay, BitMart, BitSquare, BitTrex, BitZ, BitexBook, Bitfinex, Bitforex, Bithumb, Bitkub, Bitmex, Bitso, Bitstamp, Blackturtle, Bleutrade, Braziliex, Buda, CBX, CCCAGG, Catex, Cexio, CoinBene, CoinCorner, CoinDeal, CoinEx, CoinFalcon, CoinHub, CoinJar, Coinbase, Coincheck, Coinfloor, Coinmate, Coinone, Coinsbit, CryptoCarbon, DDEX, DSX, DigiFinex, EXRATES, EXX, Everbloom, Exenium, Exmo, FCoin, Gateio, Gemini, Globitex, Graviex, HADAX, Hikenex, HitBTC, HuobiPro, IDEX, IQFinex, IndependentReserve, Korbit, Kraken, Kucoin, Kuna, LAToken, LBank, Liqnet, Liquid, LiveCoin, LocalBitcoins, Luno, Lykke, MercadoBitcoin, Minebit, Nebula, Nexchange, Nlexch, Nuex, OKCoin, OKEX, P2PB2B, Paymium, Poloniex, Remitano, RightBTC, SafeCoin, SingularityX, StocksExchange, Switcheo, TheRockTrading, Tidex, TokenStore, Tokenomy, TrustDEX, Upbit, Vaultoro, WavesDEX, Yobit, ZB, ZBG, Zaif, aax, aliexchange, altilly, ascendex, ataix, bcbitcoin, beldex, bequant, betconix, bhex, biki, bilaxy, binancedex, binanceusa, bitFlyer, bitFlyerFX, bitasset, bitbuy, bitci, bitcoincom, bitfex, bitflyereu, bitflyerus, bithumbglobal, bitmax, bitpanda, bkex, blockchaincom, btcmex, btse, bullish, bw, bybit, chainrift, chainx, chaoex, coinall, coineal, coinegg, coinfield, coinspro, coinsuper, compound, crex24, crosstower, cryptodotcom, cryptofacilities, cryptonex, currency, curve, dcoin, decoin, eidoo, equos, erisx, etoro, fatbtc, ftx, ftxus, gopax, huobijapan, huobikorea, idevex, indodax, itBit, lmax, mexc, nominex, oneinch, pancakeswap, paribu, primexbt, probit, quickswap, raidofinance, safetrade, seedcx, sigenp2p, sigenpro, sistemkoin, slicex, smartrade, sushiswap, tchapp, thore, timex, tokensnet, tokok, trxmarket, uniswap, uniswapv2, uniswapv3, unnamed, utorg, valr, wbb, xbtpro, xcoex, xena, xtpub, zebitex'"
      ]
     },
     "execution_count": 7,
     "metadata": {},
     "output_type": "execute_result"
    }
   ],
   "source": [
    "\", \".join([x for x in data[\"exchanges\"] if data[\"exchanges\"][x].get(\"isActive\")])"
   ]
  },
  {
   "cell_type": "code",
   "execution_count": 8,
   "id": "968e359a",
   "metadata": {},
   "outputs": [
    {
     "name": "stdout",
     "output_type": "stream",
     "text": [
      "dict_keys(['pairs', 'isActive', 'isTopTier'])\n"
     ]
    },
    {
     "data": {
      "text/plain": [
       "'ETH, XRP, ORN, C98, SOL, FORTH, RNDR, JUP, 1INCH, BTRST, GLM, ERN, DESO, LIT, DASH, WCFG, NCT, MINA, FLOW, MATIC, BAND, REQ, DOGE, AST, ETHERNITY, POND, ENJ, APT, MANA, MKR, TONE, BADGER, GFI, RAI, JASMY, DYP, ETC, ENS, DIA, CGLD, CRV, MASK, ARPA, LTC, OMG, ALGO, ZEN, UPI, USTC, NKN, MTL, ZEC, BTC, UNI, ATOM, QNT, PERP, SAI, SPELL, IDEX, LRC, BNT, CRO, ALEPH, PRO, TRAC, GALA, SUPER, BOBA, ILV, ATA, ACH, POWR, KNC, DDX, QI, LOOM, PNG, POLS, METIS, GTC, CRPT, MEDIA, STORJ, BCH, CVC, GRAPH, DEXT, INJ, FIDA, AGLD, WLUNC, INDEX, XLM, POLY, SKL, SHPING, AVT, EGLD, MAGIC, MIR, NU, SHIB, SNX, LCX, ICP, EOS, CLV, GRT, STG, XYO, CELO, AXS, SUSHI, CELR, BAT, CTX, FOX, LPT, LINK, RAIREF, BOND, PRQ, CHZ, DOT, AIOZ, RLY, RARI, AUCTION, FIS, SYN, USDT, KAVA, AURORA, QSP, LQTY, ELA, FIL, FORT, USDC, UMA, ADA, NMR, TRIBE, HFT, WAMPL, NEAR, FARM, XTZ, FUNX, DAI, BAL, RLC, XCN, AMP, RAD, COMP, TRU, YFII, IOTX, STX, SYLO, COTI, TIME, ANKR, MLN, REN, MATH, ALCX, GALATA, MPL, DREP, MUSE, KRL, SAND, TRB, GMT, ASM, BLZ, GST, AAVE, USDP, WBTC, RARE, AVAX, BICO, FX, MONAV, T, OXT, GHST, YFI, LDO, VGX, COVAL, MSOL, ROSE, APE, PLU, CBETH, ZRX, SNT, LOKA, PAX, AUDIO, PUNDIX, GNO, SUKU, GAL, HBAR, PLAYD, INV, NEST, UNFI, ABT, BIT, PYR, FET, REP, WAXL, RPL, GUSD, ORCA, METI, CVX, AERGO, OGN, HOPR, 00, MDT, DAR, MUSD, DNT, SWFTC, HIGH, OOKI, MNDE, KSM, MCO2, IMX, API3, OCEAN, CTSI, GODS, ALICE, GYEN, RGT, MXC, RBN, OP, QUICK, PLA, ANT, BUSD, KEEP, AXL'"
      ]
     },
     "execution_count": 8,
     "metadata": {},
     "output_type": "execute_result"
    }
   ],
   "source": [
    "exchange = \"Coinbase\"\n",
    "print(data[\"exchanges\"][exchange].keys())\n",
    "\", \".join(data[\"exchanges\"][exchange][\"pairs\"].keys())"
   ]
  },
  {
   "cell_type": "code",
   "execution_count": 9,
   "id": "2ab2fe29",
   "metadata": {},
   "outputs": [
    {
     "data": {
      "text/plain": [
       "True"
      ]
     },
     "execution_count": 9,
     "metadata": {},
     "output_type": "execute_result"
    }
   ],
   "source": [
    "data[\"exchanges\"][exchange][\"isTopTier\"]"
   ]
  },
  {
   "cell_type": "markdown",
   "id": "0c7ed2d9",
   "metadata": {},
   "source": [
    "## Coinlist"
   ]
  },
  {
   "cell_type": "code",
   "execution_count": 10,
   "id": "d3ba3ca1",
   "metadata": {},
   "outputs": [
    {
     "data": {
      "text/plain": [
       "8374"
      ]
     },
     "execution_count": 10,
     "metadata": {},
     "output_type": "execute_result"
    }
   ],
   "source": [
    "data = CC.cache_coinlist()\n",
    "data_keys = list(data.keys())\n",
    "len(data_keys)"
   ]
  },
  {
   "cell_type": "code",
   "execution_count": 11,
   "id": "593ef3e7",
   "metadata": {},
   "outputs": [
    {
     "data": {
      "text/plain": [
       "'GUE, HAL, HBN, HUC, HVC, HYP, ICB, IFC, IXC, JBS, JKC, JUDGE, KDC, KEYC, LK7, LKY, LSD, LTB, LTCD, LTCX'"
      ]
     },
     "execution_count": 11,
     "metadata": {},
     "output_type": "execute_result"
    }
   ],
   "source": [
    "\", \". join(data_keys[100:120])"
   ]
  },
  {
   "cell_type": "code",
   "execution_count": 12,
   "id": "5c4e9fc6",
   "metadata": {},
   "outputs": [
    {
     "data": {
      "text/plain": [
       "dict_keys(['Id', 'Url', 'ImageUrl', 'ContentCreatedOn', 'Name', 'Symbol', 'CoinName', 'FullName', 'Description', 'AssetTokenStatus', 'Algorithm', 'ProofType', 'SortOrder', 'Sponsored', 'Taxonomy', 'Rating', 'IsTrading', 'TotalCoinsMined', 'CirculatingSupply', 'BlockNumber', 'NetHashesPerSecond', 'BlockReward', 'BlockTime', 'AssetLaunchDate', 'AssetWhitepaperUrl', 'AssetWebsiteUrl', 'MaxSupply', 'MktCapPenalty', 'IsUsedInDefi', 'IsUsedInNft', 'PlatformType', 'DecimalPoints', 'AlgorithmType', 'Difficulty'])"
      ]
     },
     "execution_count": 12,
     "metadata": {},
     "output_type": "execute_result"
    }
   ],
   "source": [
    "data[\"BTC\"].keys()"
   ]
  },
  {
   "cell_type": "markdown",
   "id": "9c775149",
   "metadata": {},
   "source": [
    "## ISO currency symbols"
   ]
  },
  {
   "cell_type": "code",
   "execution_count": 13,
   "id": "e70858a1",
   "metadata": {},
   "outputs": [
    {
     "data": {
      "text/plain": [
       "'AED, AFN, ALL, AMD, ANG, AOA, ARS, AUD, AWG, AZN, BAM, BBD, BDT, BGN, BHD, BIF, BMD, BND, BOB, BOV, BRL, BSD, BTN, BWP, BYN, BZD, CAD, CDF, CHE, CHF, CHW, CLF, CLP, CNY, COP, COU, CRC, CUC, CUP, CVE, CZK, DJF, DKK, DOP, DZD, EGP, ERN, ETB, EUR, FJD, FKP, GBP, GEL, GHS, GIP, GMD, GNF, GTQ, GYD, HKD, HNL, HRK, HTG, HUF, IDR, ILS, INR, IQD, IRR, ISK, JMD, JOD, JPY, KES, KGS, KHR, KMF, KPW, KRW, KWD, KYD, KZT, LAK, LBP, LKR, LRD, LSL, LYD, MAD, MDL, MGA, MKD, MMK, MNT, MOP, MRU, MUR, MVR, MWK, MXN, MXV, MYR, MZN, NAD, NGN, NIO, NOK, NPR, NZD, OMR, PAB, PEN, PGK, PHP, PKR, PLN, PYG, QAR, RON, RSD, RUB, RWF, SAR, SBD, SCR, SDG, SEK, SGD, SHP, SLL, SOS, SRD, SSP, STN, SVC, SYP, SZL, THB, TJS, TMT, TND, TOP, TRY, TTD, TWD, TZS, UAH, UGX, USD, USN, UYI, UYU, UYW, UZS, VES, VND, VUV, WST, XAF, XAG, XAU, XCD, XDR, XOF, XPD, XPF, XPT, XSU, XUA, YER, ZAR, ZMW, ZWL'"
      ]
     },
     "execution_count": 13,
     "metadata": {},
     "output_type": "execute_result"
    }
   ],
   "source": [
    "CCA.ccycodes()"
   ]
  },
  {
   "cell_type": "code",
   "execution_count": 14,
   "id": "b394a579",
   "metadata": {},
   "outputs": [
    {
     "data": {
      "text/html": [
       "<div>\n",
       "<style scoped>\n",
       "    .dataframe tbody tr th:only-of-type {\n",
       "        vertical-align: middle;\n",
       "    }\n",
       "\n",
       "    .dataframe tbody tr th {\n",
       "        vertical-align: top;\n",
       "    }\n",
       "\n",
       "    .dataframe thead th {\n",
       "        text-align: right;\n",
       "    }\n",
       "</style>\n",
       "<table border=\"1\" class=\"dataframe\">\n",
       "  <thead>\n",
       "    <tr style=\"text-align: right;\">\n",
       "      <th></th>\n",
       "      <th>Country</th>\n",
       "      <th>Name</th>\n",
       "      <th>Symbol</th>\n",
       "    </tr>\n",
       "  </thead>\n",
       "  <tbody>\n",
       "    <tr>\n",
       "      <th>0</th>\n",
       "      <td>AFGHANISTAN</td>\n",
       "      <td>Afghani</td>\n",
       "      <td>AFN</td>\n",
       "    </tr>\n",
       "    <tr>\n",
       "      <th>1</th>\n",
       "      <td>ÅLAND ISLANDS</td>\n",
       "      <td>Euro</td>\n",
       "      <td>EUR</td>\n",
       "    </tr>\n",
       "    <tr>\n",
       "      <th>2</th>\n",
       "      <td>ALBANIA</td>\n",
       "      <td>Lek</td>\n",
       "      <td>ALL</td>\n",
       "    </tr>\n",
       "    <tr>\n",
       "      <th>3</th>\n",
       "      <td>ALGERIA</td>\n",
       "      <td>Algerian Dinar</td>\n",
       "      <td>DZD</td>\n",
       "    </tr>\n",
       "    <tr>\n",
       "      <th>4</th>\n",
       "      <td>AMERICAN SAMOA</td>\n",
       "      <td>US Dollar</td>\n",
       "      <td>USD</td>\n",
       "    </tr>\n",
       "  </tbody>\n",
       "</table>\n",
       "</div>"
      ],
      "text/plain": [
       "          Country            Name Symbol\n",
       "0     AFGHANISTAN         Afghani    AFN\n",
       "1   ÅLAND ISLANDS            Euro    EUR\n",
       "2         ALBANIA             Lek    ALL\n",
       "3         ALGERIA  Algerian Dinar    DZD\n",
       "4  AMERICAN SAMOA       US Dollar    USD"
      ]
     },
     "execution_count": 14,
     "metadata": {},
     "output_type": "execute_result"
    }
   ],
   "source": [
    "CCA.ccycodes(symonly=False).head()"
   ]
  },
  {
   "cell_type": "markdown",
   "id": "5bb5368a",
   "metadata": {},
   "source": [
    "## Index list"
   ]
  },
  {
   "cell_type": "code",
   "execution_count": 15,
   "id": "baf9217d",
   "metadata": {},
   "outputs": [
    {
     "data": {
      "text/plain": [
       "dict_keys(['BTCA', 'BVIN', 'BTCB', 'ETHB', 'CCBYDOT', 'CCBYSOL', 'CCBYADA', 'CCBYAVAX', 'CCBYATOM'])"
      ]
     },
     "execution_count": 15,
     "metadata": {},
     "output_type": "execute_result"
    }
   ],
   "source": [
    "data = CC.cache_indexlist()\n",
    "data.keys()"
   ]
  },
  {
   "cell_type": "code",
   "execution_count": 16,
   "id": "43f67836",
   "metadata": {
    "lines_to_next_cell": 2
   },
   "outputs": [
    {
     "data": {
      "text/plain": [
       "{'name': 'FICAS Ethereum Fund',\n",
       " 'description': '',\n",
       " 'quote_currency': 'CHF',\n",
       " 'index_market_name': 'CCNAV',\n",
       " 'index_market_underlying_name': 'CCMVDA',\n",
       " 'day_close_in_seconds': 61200}"
      ]
     },
     "execution_count": 16,
     "metadata": {},
     "output_type": "execute_result"
    }
   ],
   "source": [
    "data[\"ETHB\"]"
   ]
  },
  {
   "cell_type": "markdown",
   "id": "d29c4acc",
   "metadata": {},
   "source": [
    "## Freqly pair (= daily, hourly, minutely pair)"
   ]
  },
  {
   "cell_type": "markdown",
   "id": "81560c85",
   "metadata": {},
   "source": [
    "### daily"
   ]
  },
  {
   "cell_type": "code",
   "execution_count": 17,
   "id": "af808780",
   "metadata": {},
   "outputs": [
    {
     "name": "stdout",
     "output_type": "stream",
     "text": [
      "[query] https://min-api.cryptocompare.com/data/v2/histoday {'fsym': 'BTC', 'tsym': 'USD', 'limit': 2000} [0000]\n"
     ]
    },
    {
     "data": {
      "text/html": [
       "<div>\n",
       "<style scoped>\n",
       "    .dataframe tbody tr th:only-of-type {\n",
       "        vertical-align: middle;\n",
       "    }\n",
       "\n",
       "    .dataframe tbody tr th {\n",
       "        vertical-align: top;\n",
       "    }\n",
       "\n",
       "    .dataframe thead th {\n",
       "        text-align: right;\n",
       "    }\n",
       "</style>\n",
       "<table border=\"1\" class=\"dataframe\">\n",
       "  <thead>\n",
       "    <tr style=\"text-align: right;\">\n",
       "      <th></th>\n",
       "      <th>open</th>\n",
       "      <th>close</th>\n",
       "      <th>high</th>\n",
       "      <th>low</th>\n",
       "      <th>volumefrom</th>\n",
       "      <th>volumeto</th>\n",
       "    </tr>\n",
       "    <tr>\n",
       "      <th>datetime</th>\n",
       "      <th></th>\n",
       "      <th></th>\n",
       "      <th></th>\n",
       "      <th></th>\n",
       "      <th></th>\n",
       "      <th></th>\n",
       "    </tr>\n",
       "  </thead>\n",
       "  <tbody>\n",
       "    <tr>\n",
       "      <th>2017-08-09</th>\n",
       "      <td>3429.38</td>\n",
       "      <td>3348.79</td>\n",
       "      <td>3437.15</td>\n",
       "      <td>3251.03</td>\n",
       "      <td>97062.76</td>\n",
       "      <td>3.240587e+08</td>\n",
       "    </tr>\n",
       "    <tr>\n",
       "      <th>2017-08-10</th>\n",
       "      <td>3348.79</td>\n",
       "      <td>3425.67</td>\n",
       "      <td>3453.84</td>\n",
       "      <td>3322.92</td>\n",
       "      <td>71000.32</td>\n",
       "      <td>2.420245e+08</td>\n",
       "    </tr>\n",
       "    <tr>\n",
       "      <th>2017-08-11</th>\n",
       "      <td>3425.67</td>\n",
       "      <td>3654.37</td>\n",
       "      <td>3706.48</td>\n",
       "      <td>3409.79</td>\n",
       "      <td>97564.43</td>\n",
       "      <td>3.451355e+08</td>\n",
       "    </tr>\n",
       "    <tr>\n",
       "      <th>2017-08-12</th>\n",
       "      <td>3654.37</td>\n",
       "      <td>3871.62</td>\n",
       "      <td>3967.26</td>\n",
       "      <td>3611.36</td>\n",
       "      <td>123593.57</td>\n",
       "      <td>4.695323e+08</td>\n",
       "    </tr>\n",
       "    <tr>\n",
       "      <th>2017-08-13</th>\n",
       "      <td>3871.62</td>\n",
       "      <td>4062.60</td>\n",
       "      <td>4189.42</td>\n",
       "      <td>3847.31</td>\n",
       "      <td>158586.97</td>\n",
       "      <td>6.389175e+08</td>\n",
       "    </tr>\n",
       "  </tbody>\n",
       "</table>\n",
       "</div>"
      ],
      "text/plain": [
       "               open    close     high      low  volumefrom      volumeto\n",
       "datetime                                                                \n",
       "2017-08-09  3429.38  3348.79  3437.15  3251.03    97062.76  3.240587e+08\n",
       "2017-08-10  3348.79  3425.67  3453.84  3322.92    71000.32  2.420245e+08\n",
       "2017-08-11  3425.67  3654.37  3706.48  3409.79    97564.43  3.451355e+08\n",
       "2017-08-12  3654.37  3871.62  3967.26  3611.36   123593.57  4.695323e+08\n",
       "2017-08-13  3871.62  4062.60  4189.42  3847.31   158586.97  6.389175e+08"
      ]
     },
     "execution_count": 17,
     "metadata": {},
     "output_type": "execute_result"
    }
   ],
   "source": [
    "df = CCA.query_freqlypair(freq=CCA.FREQ_DAILY, fsym=\"BTC\", tsym=\"USD\")\n",
    "df.head()"
   ]
  },
  {
   "cell_type": "code",
   "execution_count": 18,
   "id": "94b51809",
   "metadata": {},
   "outputs": [
    {
     "name": "stdout",
     "output_type": "stream",
     "text": [
      "[query] https://min-api.cryptocompare.com/data/v2/histoday {'fsym': 'BTC', 'tsym': 'USD', 'limit': 2000} [0000]\n"
     ]
    },
    {
     "data": {
      "text/html": [
       "<div>\n",
       "<style scoped>\n",
       "    .dataframe tbody tr th:only-of-type {\n",
       "        vertical-align: middle;\n",
       "    }\n",
       "\n",
       "    .dataframe tbody tr th {\n",
       "        vertical-align: top;\n",
       "    }\n",
       "\n",
       "    .dataframe thead th {\n",
       "        text-align: right;\n",
       "    }\n",
       "</style>\n",
       "<table border=\"1\" class=\"dataframe\">\n",
       "  <thead>\n",
       "    <tr style=\"text-align: right;\">\n",
       "      <th></th>\n",
       "      <th>open</th>\n",
       "      <th>close</th>\n",
       "      <th>high</th>\n",
       "      <th>low</th>\n",
       "      <th>volumefrom</th>\n",
       "      <th>volumeto</th>\n",
       "    </tr>\n",
       "    <tr>\n",
       "      <th>datetime</th>\n",
       "      <th></th>\n",
       "      <th></th>\n",
       "      <th></th>\n",
       "      <th></th>\n",
       "      <th></th>\n",
       "      <th></th>\n",
       "    </tr>\n",
       "  </thead>\n",
       "  <tbody>\n",
       "    <tr>\n",
       "      <th>2017-08-09</th>\n",
       "      <td>3429.38</td>\n",
       "      <td>3348.79</td>\n",
       "      <td>3437.15</td>\n",
       "      <td>3251.03</td>\n",
       "      <td>97062.76</td>\n",
       "      <td>3.240587e+08</td>\n",
       "    </tr>\n",
       "    <tr>\n",
       "      <th>2017-08-10</th>\n",
       "      <td>3348.79</td>\n",
       "      <td>3425.67</td>\n",
       "      <td>3453.84</td>\n",
       "      <td>3322.92</td>\n",
       "      <td>71000.32</td>\n",
       "      <td>2.420245e+08</td>\n",
       "    </tr>\n",
       "    <tr>\n",
       "      <th>2017-08-11</th>\n",
       "      <td>3425.67</td>\n",
       "      <td>3654.37</td>\n",
       "      <td>3706.48</td>\n",
       "      <td>3409.79</td>\n",
       "      <td>97564.43</td>\n",
       "      <td>3.451355e+08</td>\n",
       "    </tr>\n",
       "    <tr>\n",
       "      <th>2017-08-12</th>\n",
       "      <td>3654.37</td>\n",
       "      <td>3871.62</td>\n",
       "      <td>3967.26</td>\n",
       "      <td>3611.36</td>\n",
       "      <td>123593.57</td>\n",
       "      <td>4.695323e+08</td>\n",
       "    </tr>\n",
       "    <tr>\n",
       "      <th>2017-08-13</th>\n",
       "      <td>3871.62</td>\n",
       "      <td>4062.60</td>\n",
       "      <td>4189.42</td>\n",
       "      <td>3847.31</td>\n",
       "      <td>158586.97</td>\n",
       "      <td>6.389175e+08</td>\n",
       "    </tr>\n",
       "  </tbody>\n",
       "</table>\n",
       "</div>"
      ],
      "text/plain": [
       "               open    close     high      low  volumefrom      volumeto\n",
       "datetime                                                                \n",
       "2017-08-09  3429.38  3348.79  3437.15  3251.03    97062.76  3.240587e+08\n",
       "2017-08-10  3348.79  3425.67  3453.84  3322.92    71000.32  2.420245e+08\n",
       "2017-08-11  3425.67  3654.37  3706.48  3409.79    97564.43  3.451355e+08\n",
       "2017-08-12  3654.37  3871.62  3967.26  3611.36   123593.57  4.695323e+08\n",
       "2017-08-13  3871.62  4062.60  4189.42  3847.31   158586.97  6.389175e+08"
      ]
     },
     "execution_count": 18,
     "metadata": {},
     "output_type": "execute_result"
    }
   ],
   "source": [
    "df = CCA.query_dailypair(fsym=\"BTC\", tsym=\"USD\")\n",
    "df.head()"
   ]
  },
  {
   "cell_type": "markdown",
   "id": "36b9ee31",
   "metadata": {},
   "source": [
    "### hourly"
   ]
  },
  {
   "cell_type": "code",
   "execution_count": 19,
   "id": "ae443bd9",
   "metadata": {},
   "outputs": [
    {
     "name": "stdout",
     "output_type": "stream",
     "text": [
      "[query] https://min-api.cryptocompare.com/data/v2/histohour {'fsym': 'BTC', 'tsym': 'USD', 'limit': 2000} [0000]\n"
     ]
    },
    {
     "data": {
      "text/html": [
       "<div>\n",
       "<style scoped>\n",
       "    .dataframe tbody tr th:only-of-type {\n",
       "        vertical-align: middle;\n",
       "    }\n",
       "\n",
       "    .dataframe tbody tr th {\n",
       "        vertical-align: top;\n",
       "    }\n",
       "\n",
       "    .dataframe thead th {\n",
       "        text-align: right;\n",
       "    }\n",
       "</style>\n",
       "<table border=\"1\" class=\"dataframe\">\n",
       "  <thead>\n",
       "    <tr style=\"text-align: right;\">\n",
       "      <th></th>\n",
       "      <th>open</th>\n",
       "      <th>close</th>\n",
       "      <th>high</th>\n",
       "      <th>low</th>\n",
       "      <th>volumefrom</th>\n",
       "      <th>volumeto</th>\n",
       "    </tr>\n",
       "    <tr>\n",
       "      <th>datetime</th>\n",
       "      <th></th>\n",
       "      <th></th>\n",
       "      <th></th>\n",
       "      <th></th>\n",
       "      <th></th>\n",
       "      <th></th>\n",
       "    </tr>\n",
       "  </thead>\n",
       "  <tbody>\n",
       "    <tr>\n",
       "      <th>2022-11-08 02:00:00</th>\n",
       "      <td>20630.77</td>\n",
       "      <td>20454.24</td>\n",
       "      <td>20672.25</td>\n",
       "      <td>20446.05</td>\n",
       "      <td>2727.06</td>\n",
       "      <td>5.614554e+07</td>\n",
       "    </tr>\n",
       "    <tr>\n",
       "      <th>2022-11-08 03:00:00</th>\n",
       "      <td>20454.24</td>\n",
       "      <td>20157.76</td>\n",
       "      <td>20535.26</td>\n",
       "      <td>20125.41</td>\n",
       "      <td>10930.40</td>\n",
       "      <td>2.223944e+08</td>\n",
       "    </tr>\n",
       "    <tr>\n",
       "      <th>2022-11-08 04:00:00</th>\n",
       "      <td>20157.76</td>\n",
       "      <td>19651.27</td>\n",
       "      <td>20241.84</td>\n",
       "      <td>19566.09</td>\n",
       "      <td>14637.05</td>\n",
       "      <td>2.901027e+08</td>\n",
       "    </tr>\n",
       "    <tr>\n",
       "      <th>2022-11-08 05:00:00</th>\n",
       "      <td>19651.27</td>\n",
       "      <td>19706.90</td>\n",
       "      <td>19729.22</td>\n",
       "      <td>19372.65</td>\n",
       "      <td>10084.50</td>\n",
       "      <td>1.975765e+08</td>\n",
       "    </tr>\n",
       "    <tr>\n",
       "      <th>2022-11-08 06:00:00</th>\n",
       "      <td>19706.90</td>\n",
       "      <td>19790.29</td>\n",
       "      <td>19859.90</td>\n",
       "      <td>19657.52</td>\n",
       "      <td>5748.40</td>\n",
       "      <td>1.136190e+08</td>\n",
       "    </tr>\n",
       "  </tbody>\n",
       "</table>\n",
       "</div>"
      ],
      "text/plain": [
       "                         open     close      high       low  volumefrom  \\\n",
       "datetime                                                                  \n",
       "2022-11-08 02:00:00  20630.77  20454.24  20672.25  20446.05     2727.06   \n",
       "2022-11-08 03:00:00  20454.24  20157.76  20535.26  20125.41    10930.40   \n",
       "2022-11-08 04:00:00  20157.76  19651.27  20241.84  19566.09    14637.05   \n",
       "2022-11-08 05:00:00  19651.27  19706.90  19729.22  19372.65    10084.50   \n",
       "2022-11-08 06:00:00  19706.90  19790.29  19859.90  19657.52     5748.40   \n",
       "\n",
       "                         volumeto  \n",
       "datetime                           \n",
       "2022-11-08 02:00:00  5.614554e+07  \n",
       "2022-11-08 03:00:00  2.223944e+08  \n",
       "2022-11-08 04:00:00  2.901027e+08  \n",
       "2022-11-08 05:00:00  1.975765e+08  \n",
       "2022-11-08 06:00:00  1.136190e+08  "
      ]
     },
     "execution_count": 19,
     "metadata": {},
     "output_type": "execute_result"
    }
   ],
   "source": [
    "df = CCA.query_freqlypair(freq=CCA.FREQ_HOURLY, fsym=\"BTC\", tsym=\"USD\")\n",
    "df.head()"
   ]
  },
  {
   "cell_type": "code",
   "execution_count": 20,
   "id": "41af5b74",
   "metadata": {},
   "outputs": [
    {
     "name": "stdout",
     "output_type": "stream",
     "text": [
      "[query] https://min-api.cryptocompare.com/data/v2/histohour {'fsym': 'BTC', 'tsym': 'USD', 'limit': 2000} [0000]\n"
     ]
    },
    {
     "data": {
      "text/html": [
       "<div>\n",
       "<style scoped>\n",
       "    .dataframe tbody tr th:only-of-type {\n",
       "        vertical-align: middle;\n",
       "    }\n",
       "\n",
       "    .dataframe tbody tr th {\n",
       "        vertical-align: top;\n",
       "    }\n",
       "\n",
       "    .dataframe thead th {\n",
       "        text-align: right;\n",
       "    }\n",
       "</style>\n",
       "<table border=\"1\" class=\"dataframe\">\n",
       "  <thead>\n",
       "    <tr style=\"text-align: right;\">\n",
       "      <th></th>\n",
       "      <th>open</th>\n",
       "      <th>close</th>\n",
       "      <th>high</th>\n",
       "      <th>low</th>\n",
       "      <th>volumefrom</th>\n",
       "      <th>volumeto</th>\n",
       "    </tr>\n",
       "    <tr>\n",
       "      <th>datetime</th>\n",
       "      <th></th>\n",
       "      <th></th>\n",
       "      <th></th>\n",
       "      <th></th>\n",
       "      <th></th>\n",
       "      <th></th>\n",
       "    </tr>\n",
       "  </thead>\n",
       "  <tbody>\n",
       "    <tr>\n",
       "      <th>2022-11-08 02:00:00</th>\n",
       "      <td>20630.77</td>\n",
       "      <td>20454.24</td>\n",
       "      <td>20672.25</td>\n",
       "      <td>20446.05</td>\n",
       "      <td>2727.06</td>\n",
       "      <td>5.614554e+07</td>\n",
       "    </tr>\n",
       "    <tr>\n",
       "      <th>2022-11-08 03:00:00</th>\n",
       "      <td>20454.24</td>\n",
       "      <td>20157.76</td>\n",
       "      <td>20535.26</td>\n",
       "      <td>20125.41</td>\n",
       "      <td>10930.40</td>\n",
       "      <td>2.223944e+08</td>\n",
       "    </tr>\n",
       "    <tr>\n",
       "      <th>2022-11-08 04:00:00</th>\n",
       "      <td>20157.76</td>\n",
       "      <td>19651.27</td>\n",
       "      <td>20241.84</td>\n",
       "      <td>19566.09</td>\n",
       "      <td>14637.05</td>\n",
       "      <td>2.901027e+08</td>\n",
       "    </tr>\n",
       "    <tr>\n",
       "      <th>2022-11-08 05:00:00</th>\n",
       "      <td>19651.27</td>\n",
       "      <td>19706.90</td>\n",
       "      <td>19729.22</td>\n",
       "      <td>19372.65</td>\n",
       "      <td>10084.50</td>\n",
       "      <td>1.975765e+08</td>\n",
       "    </tr>\n",
       "    <tr>\n",
       "      <th>2022-11-08 06:00:00</th>\n",
       "      <td>19706.90</td>\n",
       "      <td>19790.29</td>\n",
       "      <td>19859.90</td>\n",
       "      <td>19657.52</td>\n",
       "      <td>5748.40</td>\n",
       "      <td>1.136190e+08</td>\n",
       "    </tr>\n",
       "  </tbody>\n",
       "</table>\n",
       "</div>"
      ],
      "text/plain": [
       "                         open     close      high       low  volumefrom  \\\n",
       "datetime                                                                  \n",
       "2022-11-08 02:00:00  20630.77  20454.24  20672.25  20446.05     2727.06   \n",
       "2022-11-08 03:00:00  20454.24  20157.76  20535.26  20125.41    10930.40   \n",
       "2022-11-08 04:00:00  20157.76  19651.27  20241.84  19566.09    14637.05   \n",
       "2022-11-08 05:00:00  19651.27  19706.90  19729.22  19372.65    10084.50   \n",
       "2022-11-08 06:00:00  19706.90  19790.29  19859.90  19657.52     5748.40   \n",
       "\n",
       "                         volumeto  \n",
       "datetime                           \n",
       "2022-11-08 02:00:00  5.614554e+07  \n",
       "2022-11-08 03:00:00  2.223944e+08  \n",
       "2022-11-08 04:00:00  2.901027e+08  \n",
       "2022-11-08 05:00:00  1.975765e+08  \n",
       "2022-11-08 06:00:00  1.136190e+08  "
      ]
     },
     "execution_count": 20,
     "metadata": {},
     "output_type": "execute_result"
    }
   ],
   "source": [
    "df = CCA.query_hourlypair(fsym=\"BTC\", tsym=\"USD\")\n",
    "df.head()"
   ]
  },
  {
   "cell_type": "markdown",
   "id": "a34a99ff",
   "metadata": {},
   "source": [
    "### minutely"
   ]
  },
  {
   "cell_type": "code",
   "execution_count": 21,
   "id": "b291c56b",
   "metadata": {},
   "outputs": [
    {
     "name": "stdout",
     "output_type": "stream",
     "text": [
      "[query] https://min-api.cryptocompare.com/data/v2/histominute {'fsym': 'BTC', 'tsym': 'USD', 'limit': 2000} [0000]\n"
     ]
    },
    {
     "data": {
      "text/html": [
       "<div>\n",
       "<style scoped>\n",
       "    .dataframe tbody tr th:only-of-type {\n",
       "        vertical-align: middle;\n",
       "    }\n",
       "\n",
       "    .dataframe tbody tr th {\n",
       "        vertical-align: top;\n",
       "    }\n",
       "\n",
       "    .dataframe thead th {\n",
       "        text-align: right;\n",
       "    }\n",
       "</style>\n",
       "<table border=\"1\" class=\"dataframe\">\n",
       "  <thead>\n",
       "    <tr style=\"text-align: right;\">\n",
       "      <th></th>\n",
       "      <th>open</th>\n",
       "      <th>close</th>\n",
       "      <th>high</th>\n",
       "      <th>low</th>\n",
       "      <th>volumefrom</th>\n",
       "      <th>volumeto</th>\n",
       "    </tr>\n",
       "    <tr>\n",
       "      <th>datetime</th>\n",
       "      <th></th>\n",
       "      <th></th>\n",
       "      <th></th>\n",
       "      <th></th>\n",
       "      <th></th>\n",
       "      <th></th>\n",
       "    </tr>\n",
       "  </thead>\n",
       "  <tbody>\n",
       "    <tr>\n",
       "      <th>2023-01-29 01:08:00</th>\n",
       "      <td>23204.41</td>\n",
       "      <td>23209.38</td>\n",
       "      <td>23226.15</td>\n",
       "      <td>23204.41</td>\n",
       "      <td>145.28</td>\n",
       "      <td>3374142.33</td>\n",
       "    </tr>\n",
       "    <tr>\n",
       "      <th>2023-01-29 01:09:00</th>\n",
       "      <td>23209.38</td>\n",
       "      <td>23194.11</td>\n",
       "      <td>23211.36</td>\n",
       "      <td>23191.15</td>\n",
       "      <td>64.54</td>\n",
       "      <td>1496904.14</td>\n",
       "    </tr>\n",
       "    <tr>\n",
       "      <th>2023-01-29 01:10:00</th>\n",
       "      <td>23194.11</td>\n",
       "      <td>23206.57</td>\n",
       "      <td>23214.88</td>\n",
       "      <td>23194.11</td>\n",
       "      <td>40.79</td>\n",
       "      <td>946669.48</td>\n",
       "    </tr>\n",
       "    <tr>\n",
       "      <th>2023-01-29 01:11:00</th>\n",
       "      <td>23206.57</td>\n",
       "      <td>23201.44</td>\n",
       "      <td>23214.42</td>\n",
       "      <td>23200.66</td>\n",
       "      <td>32.26</td>\n",
       "      <td>748712.84</td>\n",
       "    </tr>\n",
       "    <tr>\n",
       "      <th>2023-01-29 01:12:00</th>\n",
       "      <td>23201.44</td>\n",
       "      <td>23200.28</td>\n",
       "      <td>23202.47</td>\n",
       "      <td>23192.06</td>\n",
       "      <td>55.72</td>\n",
       "      <td>1292395.02</td>\n",
       "    </tr>\n",
       "  </tbody>\n",
       "</table>\n",
       "</div>"
      ],
      "text/plain": [
       "                         open     close      high       low  volumefrom  \\\n",
       "datetime                                                                  \n",
       "2023-01-29 01:08:00  23204.41  23209.38  23226.15  23204.41      145.28   \n",
       "2023-01-29 01:09:00  23209.38  23194.11  23211.36  23191.15       64.54   \n",
       "2023-01-29 01:10:00  23194.11  23206.57  23214.88  23194.11       40.79   \n",
       "2023-01-29 01:11:00  23206.57  23201.44  23214.42  23200.66       32.26   \n",
       "2023-01-29 01:12:00  23201.44  23200.28  23202.47  23192.06       55.72   \n",
       "\n",
       "                       volumeto  \n",
       "datetime                         \n",
       "2023-01-29 01:08:00  3374142.33  \n",
       "2023-01-29 01:09:00  1496904.14  \n",
       "2023-01-29 01:10:00   946669.48  \n",
       "2023-01-29 01:11:00   748712.84  \n",
       "2023-01-29 01:12:00  1292395.02  "
      ]
     },
     "execution_count": 21,
     "metadata": {},
     "output_type": "execute_result"
    }
   ],
   "source": [
    "df = CCA.query_freqlypair(freq=CCA.FREQ_MINUTELY, fsym=\"BTC\", tsym=\"USD\")\n",
    "df.head()"
   ]
  },
  {
   "cell_type": "code",
   "execution_count": 22,
   "id": "616b06c4",
   "metadata": {},
   "outputs": [
    {
     "name": "stdout",
     "output_type": "stream",
     "text": [
      "[query] https://min-api.cryptocompare.com/data/v2/histominute {'fsym': 'BTC', 'tsym': 'USD', 'limit': 2000} [0000]\n"
     ]
    },
    {
     "data": {
      "text/html": [
       "<div>\n",
       "<style scoped>\n",
       "    .dataframe tbody tr th:only-of-type {\n",
       "        vertical-align: middle;\n",
       "    }\n",
       "\n",
       "    .dataframe tbody tr th {\n",
       "        vertical-align: top;\n",
       "    }\n",
       "\n",
       "    .dataframe thead th {\n",
       "        text-align: right;\n",
       "    }\n",
       "</style>\n",
       "<table border=\"1\" class=\"dataframe\">\n",
       "  <thead>\n",
       "    <tr style=\"text-align: right;\">\n",
       "      <th></th>\n",
       "      <th>open</th>\n",
       "      <th>close</th>\n",
       "      <th>high</th>\n",
       "      <th>low</th>\n",
       "      <th>volumefrom</th>\n",
       "      <th>volumeto</th>\n",
       "    </tr>\n",
       "    <tr>\n",
       "      <th>datetime</th>\n",
       "      <th></th>\n",
       "      <th></th>\n",
       "      <th></th>\n",
       "      <th></th>\n",
       "      <th></th>\n",
       "      <th></th>\n",
       "    </tr>\n",
       "  </thead>\n",
       "  <tbody>\n",
       "    <tr>\n",
       "      <th>2023-01-29 01:08:00</th>\n",
       "      <td>23204.41</td>\n",
       "      <td>23209.38</td>\n",
       "      <td>23226.15</td>\n",
       "      <td>23204.41</td>\n",
       "      <td>145.28</td>\n",
       "      <td>3374142.33</td>\n",
       "    </tr>\n",
       "    <tr>\n",
       "      <th>2023-01-29 01:09:00</th>\n",
       "      <td>23209.38</td>\n",
       "      <td>23194.11</td>\n",
       "      <td>23211.36</td>\n",
       "      <td>23191.15</td>\n",
       "      <td>64.54</td>\n",
       "      <td>1496904.14</td>\n",
       "    </tr>\n",
       "    <tr>\n",
       "      <th>2023-01-29 01:10:00</th>\n",
       "      <td>23194.11</td>\n",
       "      <td>23206.57</td>\n",
       "      <td>23214.88</td>\n",
       "      <td>23194.11</td>\n",
       "      <td>40.79</td>\n",
       "      <td>946669.48</td>\n",
       "    </tr>\n",
       "    <tr>\n",
       "      <th>2023-01-29 01:11:00</th>\n",
       "      <td>23206.57</td>\n",
       "      <td>23201.44</td>\n",
       "      <td>23214.42</td>\n",
       "      <td>23200.66</td>\n",
       "      <td>32.26</td>\n",
       "      <td>748712.84</td>\n",
       "    </tr>\n",
       "    <tr>\n",
       "      <th>2023-01-29 01:12:00</th>\n",
       "      <td>23201.44</td>\n",
       "      <td>23200.28</td>\n",
       "      <td>23202.47</td>\n",
       "      <td>23192.06</td>\n",
       "      <td>55.72</td>\n",
       "      <td>1292395.02</td>\n",
       "    </tr>\n",
       "  </tbody>\n",
       "</table>\n",
       "</div>"
      ],
      "text/plain": [
       "                         open     close      high       low  volumefrom  \\\n",
       "datetime                                                                  \n",
       "2023-01-29 01:08:00  23204.41  23209.38  23226.15  23204.41      145.28   \n",
       "2023-01-29 01:09:00  23209.38  23194.11  23211.36  23191.15       64.54   \n",
       "2023-01-29 01:10:00  23194.11  23206.57  23214.88  23194.11       40.79   \n",
       "2023-01-29 01:11:00  23206.57  23201.44  23214.42  23200.66       32.26   \n",
       "2023-01-29 01:12:00  23201.44  23200.28  23202.47  23192.06       55.72   \n",
       "\n",
       "                       volumeto  \n",
       "datetime                         \n",
       "2023-01-29 01:08:00  3374142.33  \n",
       "2023-01-29 01:09:00  1496904.14  \n",
       "2023-01-29 01:10:00   946669.48  \n",
       "2023-01-29 01:11:00   748712.84  \n",
       "2023-01-29 01:12:00  1292395.02  "
      ]
     },
     "execution_count": 22,
     "metadata": {},
     "output_type": "execute_result"
    }
   ],
   "source": [
    "df = CCA.query_minutelypair(fsym=\"BTC\", tsym=\"USD\")\n",
    "df.head()"
   ]
  },
  {
   "cell_type": "markdown",
   "id": "6a059ec4",
   "metadata": {},
   "source": [
    "### docs"
   ]
  },
  {
   "cell_type": "code",
   "execution_count": 23,
   "id": "1aaa8588",
   "metadata": {},
   "outputs": [
    {
     "name": "stdout",
     "output_type": "stream",
     "text": [
      "Help on method query_freqlypair in module carbon.helpers.cryptocompare:\n",
      "\n",
      "query_freqlypair(freq, fsym=None, tsym=None, e=None, limit=False, toTs=None, aspandas=True) method of carbon.helpers.cryptocompare.CryptoCompare instance\n",
      "    endpoints = /data/v2/histoday, /data/v2/histohour, /data/v2/histominute\n",
      "    \n",
      "    :freq:     FREQ_DAILY/FD, FREQ_HOURLY/FH, or FREQ_MINUTELY/FM\n",
      "    :fsym:     cryptocurrency symbol of interest\n",
      "    :tsym:     currency symbol to convert into\n",
      "    :e:        exchange to obtain data from\n",
      "    :limit:    number of data points to return (max: 2000; False defaults to that number)\n",
      "    :toTs:     returns historical data BEFORE that timestamp\n",
      "               timestamp format either 1452680400 or pd.Timestamp compatible string \n",
      "    \n",
      "    https://min-api.cryptocompare.com/documentation?key=Historical&cat=dataHistoday\n",
      "    https://min-api.cryptocompare.com/documentation?key=Historical&cat=dataHistohour\n",
      "    https://min-api.cryptocompare.com/documentation?key=Historical&cat=dataHistominute\n",
      "\n"
     ]
    }
   ],
   "source": [
    "help(CCA.query_freqlypair)"
   ]
  },
  {
   "cell_type": "code",
   "execution_count": 24,
   "id": "f7b6e5e2",
   "metadata": {},
   "outputs": [
    {
     "name": "stdout",
     "output_type": "stream",
     "text": [
      "Help on method query_minutelypair in module carbon.helpers.cryptocompare:\n",
      "\n",
      "query_minutelypair(*args, **kwargs) method of carbon.helpers.cryptocompare.CryptoCompare instance\n",
      "    alias for query_freqlypair(FREQ_MINUTELY, ...)\n",
      "\n"
     ]
    }
   ],
   "source": [
    "help(CCA.query_minutelypair)"
   ]
  },
  {
   "cell_type": "markdown",
   "id": "e8884b36-17d2-4faa-a80e-ec0bc9221837",
   "metadata": {
    "lines_to_next_cell": 2
   },
   "source": [
    "## Aggregate query"
   ]
  },
  {
   "cell_type": "code",
   "execution_count": 25,
   "id": "655d7284-2d47-4a14-9e15-73d9e9f3eee7",
   "metadata": {},
   "outputs": [
    {
     "name": "stdout",
     "output_type": "stream",
     "text": [
      "[aggr_query] fields ['open', 'close']\n",
      "[aggr_query] pairs (pair(tknb='ETC', tknq='USD'), pair(tknb='BTC', tknq='USD'))\n",
      "[aggr_query] Querying for raw table 2\n",
      "[query] https://min-api.cryptocompare.com/data/v2/histohour {'fsym': 'ETC', 'tsym': 'USD', 'limit': 2000} [0000]\n",
      "[query] https://min-api.cryptocompare.com/data/v2/histohour {'fsym': 'BTC', 'tsym': 'USD', 'limit': 2000} [0000]\n",
      "[aggr_query] Creating aggregate table\n"
     ]
    },
    {
     "data": {
      "text/plain": [
       "dict_keys(['gaggr', 'aggr', 'rawaggr', 'raw'])"
      ]
     },
     "execution_count": 25,
     "metadata": {},
     "output_type": "execute_result"
    }
   ],
   "source": [
    "r = CCA.aggr_query(\n",
    "    \"ETC/USD, BTC/USD\", \n",
    "    fields=[CCA.FIELD_OPEN, CCA.FIELD_CLOSE], \n",
    "    freq=CCA.FREQ_HOURLY)\n",
    "r.keys()"
   ]
  },
  {
   "cell_type": "code",
   "execution_count": 30,
   "id": "e024549d-7385-4a56-94e6-3143b672fcb0",
   "metadata": {},
   "outputs": [
    {
     "data": {
      "text/html": [
       "<div>\n",
       "<style scoped>\n",
       "    .dataframe tbody tr th:only-of-type {\n",
       "        vertical-align: middle;\n",
       "    }\n",
       "\n",
       "    .dataframe tbody tr th {\n",
       "        vertical-align: top;\n",
       "    }\n",
       "\n",
       "    .dataframe thead tr th {\n",
       "        text-align: left;\n",
       "    }\n",
       "\n",
       "    .dataframe thead tr:last-of-type th {\n",
       "        text-align: right;\n",
       "    }\n",
       "</style>\n",
       "<table border=\"1\" class=\"dataframe\">\n",
       "  <thead>\n",
       "    <tr>\n",
       "      <th></th>\n",
       "      <th colspan=\"6\" halign=\"left\">ETC/USD</th>\n",
       "      <th colspan=\"6\" halign=\"left\">BTC/USD</th>\n",
       "    </tr>\n",
       "    <tr>\n",
       "      <th></th>\n",
       "      <th>open</th>\n",
       "      <th>close</th>\n",
       "      <th>high</th>\n",
       "      <th>low</th>\n",
       "      <th>volumefrom</th>\n",
       "      <th>volumeto</th>\n",
       "      <th>open</th>\n",
       "      <th>close</th>\n",
       "      <th>high</th>\n",
       "      <th>low</th>\n",
       "      <th>volumefrom</th>\n",
       "      <th>volumeto</th>\n",
       "    </tr>\n",
       "    <tr>\n",
       "      <th>datetime</th>\n",
       "      <th></th>\n",
       "      <th></th>\n",
       "      <th></th>\n",
       "      <th></th>\n",
       "      <th></th>\n",
       "      <th></th>\n",
       "      <th></th>\n",
       "      <th></th>\n",
       "      <th></th>\n",
       "      <th></th>\n",
       "      <th></th>\n",
       "      <th></th>\n",
       "    </tr>\n",
       "  </thead>\n",
       "  <tbody>\n",
       "    <tr>\n",
       "      <th>2022-11-08 02:00:00</th>\n",
       "      <td>25.16</td>\n",
       "      <td>24.60</td>\n",
       "      <td>25.24</td>\n",
       "      <td>24.59</td>\n",
       "      <td>9041.17</td>\n",
       "      <td>225652.27</td>\n",
       "      <td>20630.77</td>\n",
       "      <td>20454.24</td>\n",
       "      <td>20672.25</td>\n",
       "      <td>20446.05</td>\n",
       "      <td>2727.06</td>\n",
       "      <td>5.614554e+07</td>\n",
       "    </tr>\n",
       "    <tr>\n",
       "      <th>2022-11-08 03:00:00</th>\n",
       "      <td>24.60</td>\n",
       "      <td>23.88</td>\n",
       "      <td>24.60</td>\n",
       "      <td>23.79</td>\n",
       "      <td>52597.40</td>\n",
       "      <td>1275225.02</td>\n",
       "      <td>20454.24</td>\n",
       "      <td>20157.76</td>\n",
       "      <td>20535.26</td>\n",
       "      <td>20125.41</td>\n",
       "      <td>10930.40</td>\n",
       "      <td>2.223944e+08</td>\n",
       "    </tr>\n",
       "    <tr>\n",
       "      <th>2022-11-08 04:00:00</th>\n",
       "      <td>23.88</td>\n",
       "      <td>23.30</td>\n",
       "      <td>24.04</td>\n",
       "      <td>23.08</td>\n",
       "      <td>62952.51</td>\n",
       "      <td>1473108.40</td>\n",
       "      <td>20157.76</td>\n",
       "      <td>19651.27</td>\n",
       "      <td>20241.84</td>\n",
       "      <td>19566.09</td>\n",
       "      <td>14637.05</td>\n",
       "      <td>2.901027e+08</td>\n",
       "    </tr>\n",
       "    <tr>\n",
       "      <th>2022-11-08 05:00:00</th>\n",
       "      <td>23.30</td>\n",
       "      <td>23.29</td>\n",
       "      <td>23.43</td>\n",
       "      <td>22.81</td>\n",
       "      <td>27041.87</td>\n",
       "      <td>626706.53</td>\n",
       "      <td>19651.27</td>\n",
       "      <td>19706.90</td>\n",
       "      <td>19729.22</td>\n",
       "      <td>19372.65</td>\n",
       "      <td>10084.50</td>\n",
       "      <td>1.975765e+08</td>\n",
       "    </tr>\n",
       "    <tr>\n",
       "      <th>2022-11-08 06:00:00</th>\n",
       "      <td>23.29</td>\n",
       "      <td>23.56</td>\n",
       "      <td>23.60</td>\n",
       "      <td>23.12</td>\n",
       "      <td>12703.42</td>\n",
       "      <td>296914.38</td>\n",
       "      <td>19706.90</td>\n",
       "      <td>19790.29</td>\n",
       "      <td>19859.90</td>\n",
       "      <td>19657.52</td>\n",
       "      <td>5748.40</td>\n",
       "      <td>1.136190e+08</td>\n",
       "    </tr>\n",
       "    <tr>\n",
       "      <th>...</th>\n",
       "      <td>...</td>\n",
       "      <td>...</td>\n",
       "      <td>...</td>\n",
       "      <td>...</td>\n",
       "      <td>...</td>\n",
       "      <td>...</td>\n",
       "      <td>...</td>\n",
       "      <td>...</td>\n",
       "      <td>...</td>\n",
       "      <td>...</td>\n",
       "      <td>...</td>\n",
       "      <td>...</td>\n",
       "    </tr>\n",
       "    <tr>\n",
       "      <th>2023-01-30 06:00:00</th>\n",
       "      <td>22.97</td>\n",
       "      <td>22.84</td>\n",
       "      <td>22.98</td>\n",
       "      <td>22.82</td>\n",
       "      <td>3062.31</td>\n",
       "      <td>70235.51</td>\n",
       "      <td>23728.15</td>\n",
       "      <td>23695.46</td>\n",
       "      <td>23739.12</td>\n",
       "      <td>23669.53</td>\n",
       "      <td>882.71</td>\n",
       "      <td>2.092721e+07</td>\n",
       "    </tr>\n",
       "    <tr>\n",
       "      <th>2023-01-30 07:00:00</th>\n",
       "      <td>22.84</td>\n",
       "      <td>22.76</td>\n",
       "      <td>22.90</td>\n",
       "      <td>22.62</td>\n",
       "      <td>6948.43</td>\n",
       "      <td>157984.52</td>\n",
       "      <td>23695.46</td>\n",
       "      <td>23648.93</td>\n",
       "      <td>23702.77</td>\n",
       "      <td>23609.91</td>\n",
       "      <td>1132.21</td>\n",
       "      <td>2.677736e+07</td>\n",
       "    </tr>\n",
       "    <tr>\n",
       "      <th>2023-01-30 08:00:00</th>\n",
       "      <td>22.76</td>\n",
       "      <td>22.52</td>\n",
       "      <td>22.82</td>\n",
       "      <td>22.49</td>\n",
       "      <td>8085.12</td>\n",
       "      <td>182706.58</td>\n",
       "      <td>23648.93</td>\n",
       "      <td>23553.03</td>\n",
       "      <td>23673.91</td>\n",
       "      <td>23526.09</td>\n",
       "      <td>2433.98</td>\n",
       "      <td>5.740358e+07</td>\n",
       "    </tr>\n",
       "    <tr>\n",
       "      <th>2023-01-30 09:00:00</th>\n",
       "      <td>22.52</td>\n",
       "      <td>21.74</td>\n",
       "      <td>22.56</td>\n",
       "      <td>21.66</td>\n",
       "      <td>43288.00</td>\n",
       "      <td>951077.76</td>\n",
       "      <td>23553.03</td>\n",
       "      <td>23192.57</td>\n",
       "      <td>23553.03</td>\n",
       "      <td>23146.55</td>\n",
       "      <td>7575.75</td>\n",
       "      <td>1.764945e+08</td>\n",
       "    </tr>\n",
       "    <tr>\n",
       "      <th>2023-01-30 10:00:00</th>\n",
       "      <td>21.74</td>\n",
       "      <td>21.86</td>\n",
       "      <td>21.87</td>\n",
       "      <td>21.56</td>\n",
       "      <td>7038.21</td>\n",
       "      <td>152544.56</td>\n",
       "      <td>23192.57</td>\n",
       "      <td>23288.55</td>\n",
       "      <td>23297.68</td>\n",
       "      <td>23124.28</td>\n",
       "      <td>2119.92</td>\n",
       "      <td>4.922159e+07</td>\n",
       "    </tr>\n",
       "  </tbody>\n",
       "</table>\n",
       "<p>2001 rows × 12 columns</p>\n",
       "</div>"
      ],
      "text/plain": [
       "                    ETC/USD                                              \\\n",
       "                       open  close   high    low volumefrom    volumeto   \n",
       "datetime                                                                  \n",
       "2022-11-08 02:00:00   25.16  24.60  25.24  24.59    9041.17   225652.27   \n",
       "2022-11-08 03:00:00   24.60  23.88  24.60  23.79   52597.40  1275225.02   \n",
       "2022-11-08 04:00:00   23.88  23.30  24.04  23.08   62952.51  1473108.40   \n",
       "2022-11-08 05:00:00   23.30  23.29  23.43  22.81   27041.87   626706.53   \n",
       "2022-11-08 06:00:00   23.29  23.56  23.60  23.12   12703.42   296914.38   \n",
       "...                     ...    ...    ...    ...        ...         ...   \n",
       "2023-01-30 06:00:00   22.97  22.84  22.98  22.82    3062.31    70235.51   \n",
       "2023-01-30 07:00:00   22.84  22.76  22.90  22.62    6948.43   157984.52   \n",
       "2023-01-30 08:00:00   22.76  22.52  22.82  22.49    8085.12   182706.58   \n",
       "2023-01-30 09:00:00   22.52  21.74  22.56  21.66   43288.00   951077.76   \n",
       "2023-01-30 10:00:00   21.74  21.86  21.87  21.56    7038.21   152544.56   \n",
       "\n",
       "                      BTC/USD                                           \\\n",
       "                         open     close      high       low volumefrom   \n",
       "datetime                                                                 \n",
       "2022-11-08 02:00:00  20630.77  20454.24  20672.25  20446.05    2727.06   \n",
       "2022-11-08 03:00:00  20454.24  20157.76  20535.26  20125.41   10930.40   \n",
       "2022-11-08 04:00:00  20157.76  19651.27  20241.84  19566.09   14637.05   \n",
       "2022-11-08 05:00:00  19651.27  19706.90  19729.22  19372.65   10084.50   \n",
       "2022-11-08 06:00:00  19706.90  19790.29  19859.90  19657.52    5748.40   \n",
       "...                       ...       ...       ...       ...        ...   \n",
       "2023-01-30 06:00:00  23728.15  23695.46  23739.12  23669.53     882.71   \n",
       "2023-01-30 07:00:00  23695.46  23648.93  23702.77  23609.91    1132.21   \n",
       "2023-01-30 08:00:00  23648.93  23553.03  23673.91  23526.09    2433.98   \n",
       "2023-01-30 09:00:00  23553.03  23192.57  23553.03  23146.55    7575.75   \n",
       "2023-01-30 10:00:00  23192.57  23288.55  23297.68  23124.28    2119.92   \n",
       "\n",
       "                                   \n",
       "                         volumeto  \n",
       "datetime                           \n",
       "2022-11-08 02:00:00  5.614554e+07  \n",
       "2022-11-08 03:00:00  2.223944e+08  \n",
       "2022-11-08 04:00:00  2.901027e+08  \n",
       "2022-11-08 05:00:00  1.975765e+08  \n",
       "2022-11-08 06:00:00  1.136190e+08  \n",
       "...                           ...  \n",
       "2023-01-30 06:00:00  2.092721e+07  \n",
       "2023-01-30 07:00:00  2.677736e+07  \n",
       "2023-01-30 08:00:00  5.740358e+07  \n",
       "2023-01-30 09:00:00  1.764945e+08  \n",
       "2023-01-30 10:00:00  4.922159e+07  \n",
       "\n",
       "[2001 rows x 12 columns]"
      ]
     },
     "execution_count": 30,
     "metadata": {},
     "output_type": "execute_result"
    }
   ],
   "source": [
    "r[\"rawaggr\"]"
   ]
  },
  {
   "cell_type": "code",
   "execution_count": 31,
   "id": "992865db-fd7e-4f5c-b8c7-6e1450641899",
   "metadata": {},
   "outputs": [
    {
     "data": {
      "text/html": [
       "<div>\n",
       "<style scoped>\n",
       "    .dataframe tbody tr th:only-of-type {\n",
       "        vertical-align: middle;\n",
       "    }\n",
       "\n",
       "    .dataframe tbody tr th {\n",
       "        vertical-align: top;\n",
       "    }\n",
       "\n",
       "    .dataframe thead th {\n",
       "        text-align: right;\n",
       "    }\n",
       "</style>\n",
       "<table border=\"1\" class=\"dataframe\">\n",
       "  <thead>\n",
       "    <tr style=\"text-align: right;\">\n",
       "      <th></th>\n",
       "      <th>open</th>\n",
       "      <th>close</th>\n",
       "      <th>high</th>\n",
       "      <th>low</th>\n",
       "      <th>volumefrom</th>\n",
       "      <th>volumeto</th>\n",
       "    </tr>\n",
       "    <tr>\n",
       "      <th>datetime</th>\n",
       "      <th></th>\n",
       "      <th></th>\n",
       "      <th></th>\n",
       "      <th></th>\n",
       "      <th></th>\n",
       "      <th></th>\n",
       "    </tr>\n",
       "  </thead>\n",
       "  <tbody>\n",
       "    <tr>\n",
       "      <th>2022-11-08 02:00:00</th>\n",
       "      <td>25.16</td>\n",
       "      <td>24.60</td>\n",
       "      <td>25.24</td>\n",
       "      <td>24.59</td>\n",
       "      <td>9041.17</td>\n",
       "      <td>225652.27</td>\n",
       "    </tr>\n",
       "    <tr>\n",
       "      <th>2022-11-08 03:00:00</th>\n",
       "      <td>24.60</td>\n",
       "      <td>23.88</td>\n",
       "      <td>24.60</td>\n",
       "      <td>23.79</td>\n",
       "      <td>52597.40</td>\n",
       "      <td>1275225.02</td>\n",
       "    </tr>\n",
       "    <tr>\n",
       "      <th>2022-11-08 04:00:00</th>\n",
       "      <td>23.88</td>\n",
       "      <td>23.30</td>\n",
       "      <td>24.04</td>\n",
       "      <td>23.08</td>\n",
       "      <td>62952.51</td>\n",
       "      <td>1473108.40</td>\n",
       "    </tr>\n",
       "    <tr>\n",
       "      <th>2022-11-08 05:00:00</th>\n",
       "      <td>23.30</td>\n",
       "      <td>23.29</td>\n",
       "      <td>23.43</td>\n",
       "      <td>22.81</td>\n",
       "      <td>27041.87</td>\n",
       "      <td>626706.53</td>\n",
       "    </tr>\n",
       "    <tr>\n",
       "      <th>2022-11-08 06:00:00</th>\n",
       "      <td>23.29</td>\n",
       "      <td>23.56</td>\n",
       "      <td>23.60</td>\n",
       "      <td>23.12</td>\n",
       "      <td>12703.42</td>\n",
       "      <td>296914.38</td>\n",
       "    </tr>\n",
       "    <tr>\n",
       "      <th>...</th>\n",
       "      <td>...</td>\n",
       "      <td>...</td>\n",
       "      <td>...</td>\n",
       "      <td>...</td>\n",
       "      <td>...</td>\n",
       "      <td>...</td>\n",
       "    </tr>\n",
       "    <tr>\n",
       "      <th>2023-01-30 06:00:00</th>\n",
       "      <td>22.97</td>\n",
       "      <td>22.84</td>\n",
       "      <td>22.98</td>\n",
       "      <td>22.82</td>\n",
       "      <td>3062.31</td>\n",
       "      <td>70235.51</td>\n",
       "    </tr>\n",
       "    <tr>\n",
       "      <th>2023-01-30 07:00:00</th>\n",
       "      <td>22.84</td>\n",
       "      <td>22.76</td>\n",
       "      <td>22.90</td>\n",
       "      <td>22.62</td>\n",
       "      <td>6948.43</td>\n",
       "      <td>157984.52</td>\n",
       "    </tr>\n",
       "    <tr>\n",
       "      <th>2023-01-30 08:00:00</th>\n",
       "      <td>22.76</td>\n",
       "      <td>22.52</td>\n",
       "      <td>22.82</td>\n",
       "      <td>22.49</td>\n",
       "      <td>8085.12</td>\n",
       "      <td>182706.58</td>\n",
       "    </tr>\n",
       "    <tr>\n",
       "      <th>2023-01-30 09:00:00</th>\n",
       "      <td>22.52</td>\n",
       "      <td>21.74</td>\n",
       "      <td>22.56</td>\n",
       "      <td>21.66</td>\n",
       "      <td>43288.00</td>\n",
       "      <td>951077.76</td>\n",
       "    </tr>\n",
       "    <tr>\n",
       "      <th>2023-01-30 10:00:00</th>\n",
       "      <td>21.74</td>\n",
       "      <td>21.86</td>\n",
       "      <td>21.87</td>\n",
       "      <td>21.56</td>\n",
       "      <td>7038.21</td>\n",
       "      <td>152544.56</td>\n",
       "    </tr>\n",
       "  </tbody>\n",
       "</table>\n",
       "<p>2001 rows × 6 columns</p>\n",
       "</div>"
      ],
      "text/plain": [
       "                      open  close   high    low  volumefrom    volumeto\n",
       "datetime                                                               \n",
       "2022-11-08 02:00:00  25.16  24.60  25.24  24.59     9041.17   225652.27\n",
       "2022-11-08 03:00:00  24.60  23.88  24.60  23.79    52597.40  1275225.02\n",
       "2022-11-08 04:00:00  23.88  23.30  24.04  23.08    62952.51  1473108.40\n",
       "2022-11-08 05:00:00  23.30  23.29  23.43  22.81    27041.87   626706.53\n",
       "2022-11-08 06:00:00  23.29  23.56  23.60  23.12    12703.42   296914.38\n",
       "...                    ...    ...    ...    ...         ...         ...\n",
       "2023-01-30 06:00:00  22.97  22.84  22.98  22.82     3062.31    70235.51\n",
       "2023-01-30 07:00:00  22.84  22.76  22.90  22.62     6948.43   157984.52\n",
       "2023-01-30 08:00:00  22.76  22.52  22.82  22.49     8085.12   182706.58\n",
       "2023-01-30 09:00:00  22.52  21.74  22.56  21.66    43288.00   951077.76\n",
       "2023-01-30 10:00:00  21.74  21.86  21.87  21.56     7038.21   152544.56\n",
       "\n",
       "[2001 rows x 6 columns]"
      ]
     },
     "execution_count": 31,
     "metadata": {},
     "output_type": "execute_result"
    }
   ],
   "source": [
    "r[\"raw\"][\"ETC/USD\"]"
   ]
  },
  {
   "cell_type": "code",
   "execution_count": 27,
   "id": "ee97dc16-6cdc-44f2-912a-5cd8853b6102",
   "metadata": {},
   "outputs": [
    {
     "data": {
      "text/html": [
       "<div>\n",
       "<style scoped>\n",
       "    .dataframe tbody tr th:only-of-type {\n",
       "        vertical-align: middle;\n",
       "    }\n",
       "\n",
       "    .dataframe tbody tr th {\n",
       "        vertical-align: top;\n",
       "    }\n",
       "\n",
       "    .dataframe thead tr th {\n",
       "        text-align: left;\n",
       "    }\n",
       "\n",
       "    .dataframe thead tr:last-of-type th {\n",
       "        text-align: right;\n",
       "    }\n",
       "</style>\n",
       "<table border=\"1\" class=\"dataframe\">\n",
       "  <thead>\n",
       "    <tr>\n",
       "      <th></th>\n",
       "      <th colspan=\"2\" halign=\"left\">close</th>\n",
       "    </tr>\n",
       "    <tr>\n",
       "      <th></th>\n",
       "      <th>ETC/USD</th>\n",
       "      <th>BTC/USD</th>\n",
       "    </tr>\n",
       "    <tr>\n",
       "      <th>datetime</th>\n",
       "      <th></th>\n",
       "      <th></th>\n",
       "    </tr>\n",
       "  </thead>\n",
       "  <tbody>\n",
       "    <tr>\n",
       "      <th>2022-11-08 02:00:00</th>\n",
       "      <td>24.60</td>\n",
       "      <td>20454.24</td>\n",
       "    </tr>\n",
       "    <tr>\n",
       "      <th>2022-11-08 03:00:00</th>\n",
       "      <td>23.88</td>\n",
       "      <td>20157.76</td>\n",
       "    </tr>\n",
       "    <tr>\n",
       "      <th>2022-11-08 04:00:00</th>\n",
       "      <td>23.30</td>\n",
       "      <td>19651.27</td>\n",
       "    </tr>\n",
       "    <tr>\n",
       "      <th>2022-11-08 05:00:00</th>\n",
       "      <td>23.29</td>\n",
       "      <td>19706.90</td>\n",
       "    </tr>\n",
       "    <tr>\n",
       "      <th>2022-11-08 06:00:00</th>\n",
       "      <td>23.56</td>\n",
       "      <td>19790.29</td>\n",
       "    </tr>\n",
       "    <tr>\n",
       "      <th>...</th>\n",
       "      <td>...</td>\n",
       "      <td>...</td>\n",
       "    </tr>\n",
       "    <tr>\n",
       "      <th>2023-01-30 06:00:00</th>\n",
       "      <td>22.84</td>\n",
       "      <td>23695.46</td>\n",
       "    </tr>\n",
       "    <tr>\n",
       "      <th>2023-01-30 07:00:00</th>\n",
       "      <td>22.76</td>\n",
       "      <td>23648.93</td>\n",
       "    </tr>\n",
       "    <tr>\n",
       "      <th>2023-01-30 08:00:00</th>\n",
       "      <td>22.52</td>\n",
       "      <td>23553.03</td>\n",
       "    </tr>\n",
       "    <tr>\n",
       "      <th>2023-01-30 09:00:00</th>\n",
       "      <td>21.74</td>\n",
       "      <td>23192.57</td>\n",
       "    </tr>\n",
       "    <tr>\n",
       "      <th>2023-01-30 10:00:00</th>\n",
       "      <td>21.86</td>\n",
       "      <td>23288.55</td>\n",
       "    </tr>\n",
       "  </tbody>\n",
       "</table>\n",
       "<p>2001 rows × 2 columns</p>\n",
       "</div>"
      ],
      "text/plain": [
       "                      close          \n",
       "                    ETC/USD   BTC/USD\n",
       "datetime                             \n",
       "2022-11-08 02:00:00   24.60  20454.24\n",
       "2022-11-08 03:00:00   23.88  20157.76\n",
       "2022-11-08 04:00:00   23.30  19651.27\n",
       "2022-11-08 05:00:00   23.29  19706.90\n",
       "2022-11-08 06:00:00   23.56  19790.29\n",
       "...                     ...       ...\n",
       "2023-01-30 06:00:00   22.84  23695.46\n",
       "2023-01-30 07:00:00   22.76  23648.93\n",
       "2023-01-30 08:00:00   22.52  23553.03\n",
       "2023-01-30 09:00:00   21.74  23192.57\n",
       "2023-01-30 10:00:00   21.86  23288.55\n",
       "\n",
       "[2001 rows x 2 columns]"
      ]
     },
     "execution_count": 27,
     "metadata": {},
     "output_type": "execute_result"
    }
   ],
   "source": [
    "r[\"aggr\"][\"close\"]"
   ]
  },
  {
   "cell_type": "code",
   "execution_count": 28,
   "id": "f8fecdc0-c014-4ddc-8f95-4dfc973a6fbb",
   "metadata": {},
   "outputs": [
    {
     "data": {
      "text/html": [
       "<div>\n",
       "<style scoped>\n",
       "    .dataframe tbody tr th:only-of-type {\n",
       "        vertical-align: middle;\n",
       "    }\n",
       "\n",
       "    .dataframe tbody tr th {\n",
       "        vertical-align: top;\n",
       "    }\n",
       "\n",
       "    .dataframe thead tr th {\n",
       "        text-align: left;\n",
       "    }\n",
       "\n",
       "    .dataframe thead tr:last-of-type th {\n",
       "        text-align: right;\n",
       "    }\n",
       "</style>\n",
       "<table border=\"1\" class=\"dataframe\">\n",
       "  <thead>\n",
       "    <tr>\n",
       "      <th></th>\n",
       "      <th colspan=\"2\" halign=\"left\">open</th>\n",
       "      <th colspan=\"2\" halign=\"left\">close</th>\n",
       "    </tr>\n",
       "    <tr>\n",
       "      <th></th>\n",
       "      <th>ETC/USD</th>\n",
       "      <th>BTC/USD</th>\n",
       "      <th>ETC/USD</th>\n",
       "      <th>BTC/USD</th>\n",
       "    </tr>\n",
       "    <tr>\n",
       "      <th>datetime</th>\n",
       "      <th></th>\n",
       "      <th></th>\n",
       "      <th></th>\n",
       "      <th></th>\n",
       "    </tr>\n",
       "  </thead>\n",
       "  <tbody>\n",
       "    <tr>\n",
       "      <th>2022-11-08 02:00:00</th>\n",
       "      <td>25.16</td>\n",
       "      <td>20630.77</td>\n",
       "      <td>24.60</td>\n",
       "      <td>20454.24</td>\n",
       "    </tr>\n",
       "    <tr>\n",
       "      <th>2022-11-08 03:00:00</th>\n",
       "      <td>24.60</td>\n",
       "      <td>20454.24</td>\n",
       "      <td>23.88</td>\n",
       "      <td>20157.76</td>\n",
       "    </tr>\n",
       "    <tr>\n",
       "      <th>2022-11-08 04:00:00</th>\n",
       "      <td>23.88</td>\n",
       "      <td>20157.76</td>\n",
       "      <td>23.30</td>\n",
       "      <td>19651.27</td>\n",
       "    </tr>\n",
       "    <tr>\n",
       "      <th>2022-11-08 05:00:00</th>\n",
       "      <td>23.30</td>\n",
       "      <td>19651.27</td>\n",
       "      <td>23.29</td>\n",
       "      <td>19706.90</td>\n",
       "    </tr>\n",
       "    <tr>\n",
       "      <th>2022-11-08 06:00:00</th>\n",
       "      <td>23.29</td>\n",
       "      <td>19706.90</td>\n",
       "      <td>23.56</td>\n",
       "      <td>19790.29</td>\n",
       "    </tr>\n",
       "    <tr>\n",
       "      <th>...</th>\n",
       "      <td>...</td>\n",
       "      <td>...</td>\n",
       "      <td>...</td>\n",
       "      <td>...</td>\n",
       "    </tr>\n",
       "    <tr>\n",
       "      <th>2023-01-30 06:00:00</th>\n",
       "      <td>22.97</td>\n",
       "      <td>23728.15</td>\n",
       "      <td>22.84</td>\n",
       "      <td>23695.46</td>\n",
       "    </tr>\n",
       "    <tr>\n",
       "      <th>2023-01-30 07:00:00</th>\n",
       "      <td>22.84</td>\n",
       "      <td>23695.46</td>\n",
       "      <td>22.76</td>\n",
       "      <td>23648.93</td>\n",
       "    </tr>\n",
       "    <tr>\n",
       "      <th>2023-01-30 08:00:00</th>\n",
       "      <td>22.76</td>\n",
       "      <td>23648.93</td>\n",
       "      <td>22.52</td>\n",
       "      <td>23553.03</td>\n",
       "    </tr>\n",
       "    <tr>\n",
       "      <th>2023-01-30 09:00:00</th>\n",
       "      <td>22.52</td>\n",
       "      <td>23553.03</td>\n",
       "      <td>21.74</td>\n",
       "      <td>23192.57</td>\n",
       "    </tr>\n",
       "    <tr>\n",
       "      <th>2023-01-30 10:00:00</th>\n",
       "      <td>21.74</td>\n",
       "      <td>23192.57</td>\n",
       "      <td>21.86</td>\n",
       "      <td>23288.55</td>\n",
       "    </tr>\n",
       "  </tbody>\n",
       "</table>\n",
       "<p>2001 rows × 4 columns</p>\n",
       "</div>"
      ],
      "text/plain": [
       "                       open             close          \n",
       "                    ETC/USD   BTC/USD ETC/USD   BTC/USD\n",
       "datetime                                               \n",
       "2022-11-08 02:00:00   25.16  20630.77   24.60  20454.24\n",
       "2022-11-08 03:00:00   24.60  20454.24   23.88  20157.76\n",
       "2022-11-08 04:00:00   23.88  20157.76   23.30  19651.27\n",
       "2022-11-08 05:00:00   23.30  19651.27   23.29  19706.90\n",
       "2022-11-08 06:00:00   23.29  19706.90   23.56  19790.29\n",
       "...                     ...       ...     ...       ...\n",
       "2023-01-30 06:00:00   22.97  23728.15   22.84  23695.46\n",
       "2023-01-30 07:00:00   22.84  23695.46   22.76  23648.93\n",
       "2023-01-30 08:00:00   22.76  23648.93   22.52  23553.03\n",
       "2023-01-30 09:00:00   22.52  23553.03   21.74  23192.57\n",
       "2023-01-30 10:00:00   21.74  23192.57   21.86  23288.55\n",
       "\n",
       "[2001 rows x 4 columns]"
      ]
     },
     "execution_count": 28,
     "metadata": {},
     "output_type": "execute_result"
    }
   ],
   "source": [
    "r[\"gaggr\"]"
   ]
  },
  {
   "cell_type": "code",
   "execution_count": 29,
   "id": "fb0acf9a-09fc-4ee8-81d1-c437aedfad31",
   "metadata": {},
   "outputs": [
    {
     "name": "stdout",
     "output_type": "stream",
     "text": [
      "Help on method aggr_query in module carbon.helpers.cryptocompare:\n",
      "\n",
      "aggr_query(pairs, fields=None, incl_raw=True, incl_raw_aggr=True, incl_grand_aggr=True, freq=None, **kwargs) method of carbon.helpers.cryptocompare.CryptoCompare instance\n",
      "    gets the data for pairs from the API and converts it into tables \n",
      "    \n",
      "    :pairs:             the pairs to download, either \"ETH/USD, BTC/GBP, ...\" or ((\"ETH\", \"USD\"), ...)\n",
      "    :fields:            the fields for which to create aggredate data frames, either as comma\n",
      "                        separated string, or as tuple/list\n",
      "    :incl_raw:          whether to include the individual raw data frames\n",
      "    :incl_raw_aggr:     whether to include the aggregate raw data frame\n",
      "    :incl_grand_aggr:   whether to include a grand aggregate (with double col name)\n",
      "    :freq:              the data frequency [FREQ_DAILY (default, FREQ_HOURLY, FREQ_MINUTELY] \n",
      "    :kwargs:            passed through to `query_freqlypair` (eg `e`, `limit`, `toTs`)\n",
      "    :returns:           dict with the results\n",
      "    \n",
      "    dict structure\n",
      "    \n",
      "    -gaggr\n",
      "        - [data]\n",
      "    -aggr\n",
      "        -open\n",
      "            - [data]\n",
      "        -close\n",
      "            - [data]\n",
      "        ...\n",
      "    -rawaggr\n",
      "        - [data]\n",
      "    -raw\n",
      "        - \"ETH/USD\"\n",
      "            - [data]\n",
      "        ...\n",
      "\n"
     ]
    }
   ],
   "source": [
    "help(CCA.aggr_query)"
   ]
  },
  {
   "cell_type": "code",
   "execution_count": null,
   "id": "1f5a4489-31b5-4d75-8d44-be32a771a0a7",
   "metadata": {},
   "outputs": [],
   "source": []
  }
 ],
 "metadata": {
  "jupytext": {
   "encoding": "# -*- coding: utf-8 -*-",
   "formats": "ipynb,py:light"
  },
  "kernelspec": {
   "display_name": "Python 3",
   "language": "python",
   "name": "python3"
  },
  "language_info": {
   "codemirror_mode": {
    "name": "ipython",
    "version": 3
   },
   "file_extension": ".py",
   "mimetype": "text/x-python",
   "name": "python",
   "nbconvert_exporter": "python",
   "pygments_lexer": "ipython3",
   "version": "3.8.8"
  }
 },
 "nbformat": 4,
 "nbformat_minor": 5
}
