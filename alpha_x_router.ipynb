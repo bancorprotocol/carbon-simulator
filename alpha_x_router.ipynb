{
 "cells": [
  {
   "cell_type": "code",
   "execution_count": 1,
   "metadata": {},
   "outputs": [],
   "source": [
    "from benchmark import impl\n",
    "from benchmark import spec\n",
    "from decimal import Decimal\n",
    "import pandas as pd\n",
    "\n",
    "Order = spec.Order\n",
    "tradeBySourceAmount = spec.tradeBySourceAmount\n",
    "tradeByTargetAmount = spec.tradeByTargetAmount"
   ]
  },
  {
   "attachments": {},
   "cell_type": "markdown",
   "metadata": {},
   "source": [
    "Set up ETH order parameters with 5 liquidity and yint 10"
   ]
  },
  {
   "cell_type": "code",
   "execution_count": 2,
   "metadata": {},
   "outputs": [],
   "source": [
    "order_params = {\n",
    "    'liquidity':Decimal('5'),\n",
    "    'highestRate':Decimal('0.0005'), # 2000\n",
    "    'lowestRate':Decimal('0.0004'),  # 2500\n",
    "    'marginalRate':Decimal('0.0004486068'),\n",
    "    }"
   ]
  },
  {
   "cell_type": "code",
   "execution_count": 3,
   "metadata": {},
   "outputs": [
    {
     "data": {
      "text/plain": [
       "Decimal('9.9999995499958147428185172765306785359256132499398')"
      ]
     },
     "execution_count": 3,
     "metadata": {},
     "output_type": "execute_result"
    }
   ],
   "source": [
    "orders = []\n",
    "for i in range(5):\n",
    "    orders += [Order(order_params)]\n",
    "orders[0].z"
   ]
  },
  {
   "cell_type": "code",
   "execution_count": 4,
   "metadata": {},
   "outputs": [],
   "source": [
    "indexes = list(range(len(orders)))"
   ]
  },
  {
   "cell_type": "code",
   "execution_count": 5,
   "metadata": {},
   "outputs": [
    {
     "data": {
      "text/plain": [
       "Decimal('25')"
      ]
     },
     "execution_count": 5,
     "metadata": {},
     "output_type": "execute_result"
    }
   ],
   "source": [
    "total_liquidity = sum(o.y for o in orders)\n",
    "total_liquidity"
   ]
  },
  {
   "cell_type": "markdown",
   "metadata": {},
   "source": [
    "# Trade Functions\n",
    "- Note they use pure math so will exceed the liquidity of an order"
   ]
  },
  {
   "cell_type": "code",
   "execution_count": 6,
   "metadata": {},
   "outputs": [
    {
     "data": {
      "text/plain": [
       "(5000, Decimal('2.1883258511228429259642260584200661234770595532491'))"
      ]
     },
     "execution_count": 6,
     "metadata": {},
     "output_type": "execute_result"
    }
   ],
   "source": [
    "# trade 5000 USDC into the first order \n",
    "tradeBySourceAmount(5000, orders[0])"
   ]
  },
  {
   "cell_type": "code",
   "execution_count": 7,
   "metadata": {},
   "outputs": [
    {
     "data": {
      "text/plain": [
       "(Decimal('5000.0000000000000000000000000000000000000000000001'),\n",
       " Decimal('2.1883258511228429259642260584200661234770595532491'))"
      ]
     },
     "execution_count": 7,
     "metadata": {},
     "output_type": "execute_result"
    }
   ],
   "source": [
    "# trade out exactly 2.188... ETH\n",
    "tradeByTargetAmount(Decimal('2.1883258511228429259642260584200661234770595532491'), orders[0])"
   ]
  },
  {
   "attachments": {},
   "cell_type": "markdown",
   "metadata": {},
   "source": [
    "# Match by Target\n",
    "1. hypothetical_output_amt for full inputAmount"
   ]
  },
  {
   "cell_type": "code",
   "execution_count": 8,
   "metadata": {},
   "outputs": [
    {
     "data": {
      "text/plain": [
       "{0: Decimal('57371.228193369793945368184469586874650176609516568'),\n",
       " 1: Decimal('57371.228193369793945368184469586874650176609516568'),\n",
       " 2: Decimal('57371.228193369793945368184469586874650176609516568'),\n",
       " 3: Decimal('57371.228193369793945368184469586874650176609516568'),\n",
       " 4: Decimal('57371.228193369793945368184469586874650176609516568')}"
      ]
     },
     "execution_count": 8,
     "metadata": {},
     "output_type": "execute_result"
    }
   ],
   "source": [
    "# total liquidity is 25 ETH\n",
    "inputAmount = 20\n",
    "\n",
    "hypothetical_output_amts = {\n",
    "            i: tradeByTargetAmount(x=inputAmount, order=orders[i])[0] for i in indexes\n",
    "        }\n",
    "\n",
    "hypothetical_output_amts"
   ]
  },
  {
   "cell_type": "code",
   "execution_count": 9,
   "metadata": {},
   "outputs": [
    {
     "data": {
      "text/plain": [
       "{0: Decimal('57371.228193369793945368184469586874650176609516568'),\n",
       " 1: Decimal('57371.228193369793945368184469586874650176609516568'),\n",
       " 2: Decimal('57371.228193369793945368184469586874650176609516568'),\n",
       " 3: Decimal('57371.228193369793945368184469586874650176609516568'),\n",
       " 4: Decimal('57371.228193369793945368184469586874650176609516568')}"
      ]
     },
     "execution_count": 9,
     "metadata": {},
     "output_type": "execute_result"
    }
   ],
   "source": [
    "ordered_amts = {\n",
    "    j: hypothetical_output_amts[j]\n",
    "    for j in sorted(\n",
    "        indexes, key=lambda i: hypothetical_output_amts[i], reverse=True\n",
    "    )\n",
    "}\n",
    "ordered_amts"
   ]
  },
  {
   "cell_type": "code",
   "execution_count": 10,
   "metadata": {},
   "outputs": [
    {
     "data": {
      "text/plain": [
       "{0: Decimal('5'),\n",
       " 1: Decimal('5'),\n",
       " 2: Decimal('5'),\n",
       " 3: Decimal('5'),\n",
       " 4: Decimal('5')}"
      ]
     },
     "execution_count": 10,
     "metadata": {},
     "output_type": "execute_result"
    }
   ],
   "source": [
    "ordered_associated_liquidity = {i:orders[i].y for i in ordered_amts.keys()}\n",
    "ordered_associated_liquidity"
   ]
  },
  {
   "cell_type": "code",
   "execution_count": 11,
   "metadata": {},
   "outputs": [
    {
     "data": {
      "text/html": [
       "<div>\n",
       "<style scoped>\n",
       "    .dataframe tbody tr th:only-of-type {\n",
       "        vertical-align: middle;\n",
       "    }\n",
       "\n",
       "    .dataframe tbody tr th {\n",
       "        vertical-align: top;\n",
       "    }\n",
       "\n",
       "    .dataframe thead th {\n",
       "        text-align: right;\n",
       "    }\n",
       "</style>\n",
       "<table border=\"1\" class=\"dataframe\">\n",
       "  <thead>\n",
       "    <tr style=\"text-align: right;\">\n",
       "      <th></th>\n",
       "      <th>indexes</th>\n",
       "      <th>hypothetical_output_amts</th>\n",
       "      <th>ordered_associated_liquidity_keys</th>\n",
       "      <th>ordered_associated_liquidity</th>\n",
       "    </tr>\n",
       "  </thead>\n",
       "  <tbody>\n",
       "    <tr>\n",
       "      <th>0</th>\n",
       "      <td>0</td>\n",
       "      <td>57371.2281933697939453681844695868746501766095...</td>\n",
       "      <td>0</td>\n",
       "      <td>5</td>\n",
       "    </tr>\n",
       "    <tr>\n",
       "      <th>1</th>\n",
       "      <td>1</td>\n",
       "      <td>57371.2281933697939453681844695868746501766095...</td>\n",
       "      <td>1</td>\n",
       "      <td>5</td>\n",
       "    </tr>\n",
       "    <tr>\n",
       "      <th>2</th>\n",
       "      <td>2</td>\n",
       "      <td>57371.2281933697939453681844695868746501766095...</td>\n",
       "      <td>2</td>\n",
       "      <td>5</td>\n",
       "    </tr>\n",
       "    <tr>\n",
       "      <th>3</th>\n",
       "      <td>3</td>\n",
       "      <td>57371.2281933697939453681844695868746501766095...</td>\n",
       "      <td>3</td>\n",
       "      <td>5</td>\n",
       "    </tr>\n",
       "    <tr>\n",
       "      <th>4</th>\n",
       "      <td>4</td>\n",
       "      <td>57371.2281933697939453681844695868746501766095...</td>\n",
       "      <td>4</td>\n",
       "      <td>5</td>\n",
       "    </tr>\n",
       "  </tbody>\n",
       "</table>\n",
       "</div>"
      ],
      "text/plain": [
       "  indexes                           hypothetical_output_amts  \\\n",
       "0       0  57371.2281933697939453681844695868746501766095...   \n",
       "1       1  57371.2281933697939453681844695868746501766095...   \n",
       "2       2  57371.2281933697939453681844695868746501766095...   \n",
       "3       3  57371.2281933697939453681844695868746501766095...   \n",
       "4       4  57371.2281933697939453681844695868746501766095...   \n",
       "\n",
       "  ordered_associated_liquidity_keys ordered_associated_liquidity  \n",
       "0                                 0                            5  \n",
       "1                                 1                            5  \n",
       "2                                 2                            5  \n",
       "3                                 3                            5  \n",
       "4                                 4                            5  "
      ]
     },
     "execution_count": 11,
     "metadata": {},
     "output_type": "execute_result"
    }
   ],
   "source": [
    "results = pd.DataFrame(\n",
    "    [\n",
    "        hypothetical_output_amts.keys(),\n",
    "        hypothetical_output_amts.values(),\n",
    "    ],\n",
    "    index=[\n",
    "        \"indexes\",\n",
    "        \"hypothetical_output_amts\",\n",
    "    ],\n",
    ")\n",
    "results = results.T.copy()\n",
    "results.sort_values(\n",
    "    by=[\"hypothetical_output_amts\", 'indexes'], ascending=[False, True], inplace=True\n",
    ")\n",
    "\n",
    "results2 = pd.DataFrame(\n",
    "    [\n",
    "        ordered_associated_liquidity.keys(),\n",
    "        ordered_associated_liquidity.values(),\n",
    "    ],\n",
    "    index=[\n",
    "        \"ordered_associated_liquidity_keys\",\n",
    "        \"ordered_associated_liquidity\",\n",
    "    ],\n",
    ")\n",
    "results2 = results2.T.copy()\n",
    "\n",
    "results = pd.merge(results, results2, how='left', left_on = 'indexes', right_on='ordered_associated_liquidity_keys')\n",
    "\n",
    "results.fillna(0, inplace=True)\n",
    "results.reset_index(inplace=True, drop=True)\n",
    "results"
   ]
  },
  {
   "cell_type": "code",
   "execution_count": null,
   "metadata": {},
   "outputs": [],
   "source": []
  }
 ],
 "metadata": {
  "kernelspec": {
   "display_name": "Python 3",
   "language": "python",
   "name": "python3"
  },
  "language_info": {
   "codemirror_mode": {
    "name": "ipython",
    "version": 3
   },
   "file_extension": ".py",
   "mimetype": "text/x-python",
   "name": "python",
   "nbconvert_exporter": "python",
   "pygments_lexer": "ipython3",
   "version": "3.10.9"
  },
  "orig_nbformat": 4,
  "vscode": {
   "interpreter": {
    "hash": "a43a6365b22f1ee0a072b8956f36206514c5e4495194391fafa77179046cd4d1"
   }
  }
 },
 "nbformat": 4,
 "nbformat_minor": 2
}
