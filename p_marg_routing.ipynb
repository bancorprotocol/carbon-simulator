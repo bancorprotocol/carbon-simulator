{
 "cells": [
  {
   "cell_type": "code",
   "execution_count": 1,
   "id": "ed525c67",
   "metadata": {},
   "outputs": [
    {
     "name": "stdout",
     "output_type": "stream",
     "text": [
      "Carbon v2.3.1-BETA2 (29/Jan/2022)\n",
      "CarbonSimulatorUI v2.5 (25/Jan/2023)\n",
      "CarbonOrderUI v1.6.2 (27/Jan/2023)\n"
     ]
    }
   ],
   "source": [
    "from carbon import CarbonSimulatorUI, CarbonOrderUI, P, __version__, __date__\n",
    "from math import sqrt\n",
    "import numpy as np\n",
    "from matplotlib import pyplot as plt\n",
    "print(f\"Carbon v{__version__} ({__date__})\")\n",
    "print(\"{0.__name__} v{0.__VERSION__} ({0.__DATE__})\".format(CarbonSimulatorUI))\n",
    "print(\"{0.__name__} v{0.__VERSION__} ({0.__DATE__})\".format(CarbonOrderUI))"
   ]
  },
  {
   "cell_type": "code",
   "execution_count": 2,
   "id": "f3b52180",
   "metadata": {},
   "outputs": [
    {
     "name": "stdout",
     "output_type": "stream",
     "text": [
      "y=5 pa=2500.0 pb=2000.0 pmarg=2229.1\n",
      "y=900 pa=1000.0 pb=1500.0 pmarg=1445.5\n",
      "y=5 pa=2550.0 pb=2050.0 pmarg=2279.6\n",
      "y=900 pa=990.0 pb=1490.0 pmarg=1435.4\n",
      "y=5 pa=2600.0 pb=2100.0 pmarg=2330.0\n",
      "y=900 pa=980.0 pb=1480.0 pmarg=1425.4\n",
      "y=5 pa=2650.0 pb=2150.0 pmarg=2380.4\n",
      "y=900 pa=970.0 pb=1470.0 pmarg=1415.3\n",
      "y=5 pa=2700.0 pb=2200.0 pmarg=2430.8\n",
      "y=900 pa=960.0 pb=1460.0 pmarg=1405.3\n",
      "y=5 pa=2750.0 pb=2250.0 pmarg=2481.2\n",
      "y=900 pa=950.0 pb=1450.0 pmarg=1395.3\n",
      "y=5 pa=2800.0 pb=2300.0 pmarg=2531.6\n",
      "y=900 pa=940.0 pb=1440.0 pmarg=1385.2\n",
      "y=5 pa=2850.0 pb=2350.0 pmarg=2581.9\n",
      "y=900 pa=930.0 pb=1430.0 pmarg=1375.2\n",
      "y=5 pa=2900.0 pb=2400.0 pmarg=2632.3\n",
      "y=900 pa=920.0 pb=1420.0 pmarg=1365.1\n",
      "y=5 pa=2950.0 pb=2450.0 pmarg=2682.6\n",
      "y=900 pa=910.0 pb=1410.0 pmarg=1355.1\n"
     ]
    }
   ],
   "source": [
    "orders = []\n",
    "for i in range(10):\n",
    "    orders += [CarbonOrderUI.from_prices(\"ETH/USDC\", \"ETH\", 2000+50*i, 2500+50*i, 10, 5)]\n",
    "    orders += [CarbonOrderUI.from_prices(\"ETH/USDC\", \"USDC\", 1500-10*i, 1000-10*i, 1000, 900)]\n",
    "\n",
    "for i in range(len(orders)):\n",
    "    orders[i].id = i\n",
    "\n",
    "for i in range(len(orders))[1::2]:\n",
    "    orders[i-1].set_linked(orders[i])\n",
    "    orders[i].set_linked(orders[i-1])\n",
    "\n",
    "for o in orders:\n",
    "    print(f\"y={o.y} pa={round(o.px,0)} pb={round(o.py,0)} pmarg={round(o.p_marg,1)}\")"
   ]
  },
  {
   "cell_type": "code",
   "execution_count": 3,
   "id": "f3886674",
   "metadata": {},
   "outputs": [
    {
     "data": {
      "text/plain": [
       "[CarbonOrderUI(pair=ETH/USDC, tkn=ETH, B=0.02, S=0.0023606797749978967, yint=10, y=5, id=0, linked=<1>),\n",
       " CarbonOrderUI(pair=ETH/USDC, tkn=USDC, B=31.622776601683793, S=7.107056860390376, yint=1000, y=900, id=1, linked=<0>),\n",
       " CarbonOrderUI(pair=ETH/USDC, tkn=ETH, B=0.019802950859533486, S=0.0022833543554358245, yint=10, y=5, id=2, linked=<3>),\n",
       " CarbonOrderUI(pair=ETH/USDC, tkn=USDC, B=31.464265445104548, S=7.136252686133016, yint=1000, y=900, id=3, linked=<2>),\n",
       " CarbonOrderUI(pair=ETH/USDC, tkn=ETH, B=0.019611613513818404, S=0.002210175509780834, yint=10, y=5, id=4, linked=<5>),\n",
       " CarbonOrderUI(pair=ETH/USDC, tkn=USDC, B=31.304951684997057, S=7.1658164383456295, yint=1000, y=900, id=5, linked=<4>),\n",
       " CarbonOrderUI(pair=ETH/USDC, tkn=ETH, B=0.019425717247145282, S=0.002140837393542403, yint=10, y=5, id=6, linked=<7>),\n",
       " CarbonOrderUI(pair=ETH/USDC, tkn=USDC, B=31.144823004794873, S=7.195756020566755, yint=1000, y=900, id=7, linked=<6>),\n",
       " CarbonOrderUI(pair=ETH/USDC, tkn=ETH, B=0.019245008972987525, S=0.0020750626625735194, yint=10, y=5, id=8, linked=<9>),\n",
       " CarbonOrderUI(pair=ETH/USDC, tkn=USDC, B=30.983866769659336, S=7.226079579426262, yint=1000, y=900, id=9, linked=<8>),\n",
       " CarbonOrderUI(pair=ETH/USDC, tkn=ETH, B=0.019069251784911846, S=0.0020125992828773503, yint=10, y=5, id=10, linked=<11>),\n",
       " CarbonOrderUI(pair=ETH/USDC, tkn=USDC, B=30.822070014844883, S=7.2567955144746605, yint=1000, y=900, id=11, linked=<10>),\n",
       " CarbonOrderUI(pair=ETH/USDC, tkn=ETH, B=0.01889822365046136, S=0.001953217755246116, yint=10, y=5, id=12, linked=<13>),\n",
       " CarbonOrderUI(pair=ETH/USDC, tkn=USDC, B=30.659419433511783, S=7.28791248850877, yint=1000, y=900, id=13, linked=<12>),\n",
       " CarbonOrderUI(pair=ETH/USDC, tkn=ETH, B=0.018731716231633878, S=0.0018967086935419916, yint=10, y=5, id=14, linked=<15>),\n",
       " CarbonOrderUI(pair=ETH/USDC, tkn=USDC, B=30.495901363953813, S=7.319439438424261, yint=1000, y=900, id=15, linked=<14>),\n",
       " CarbonOrderUI(pair=ETH/USDC, tkn=ETH, B=0.018569533817705184, S=0.0018428807054879683, yint=10, y=5, id=16, linked=<17>),\n",
       " CarbonOrderUI(pair=ETH/USDC, tkn=USDC, B=30.331501776206203, S=7.3513855866273445, yint=1000, y=900, id=17, linked=<16>),\n",
       " CarbonOrderUI(pair=ETH/USDC, tkn=ETH, B=0.018411492357966467, S=0.0017915585330777473, yint=10, y=5, id=18, linked=<19>),\n",
       " CarbonOrderUI(pair=ETH/USDC, tkn=USDC, B=30.166206257996713, S=7.383760453040459, yint=1000, y=900, id=19, linked=<18>)]"
      ]
     },
     "execution_count": 3,
     "metadata": {},
     "output_type": "execute_result"
    }
   ],
   "source": [
    "orders"
   ]
  },
  {
   "cell_type": "code",
   "execution_count": 4,
   "id": "3e18c531",
   "metadata": {},
   "outputs": [],
   "source": [
    "ETH_orders = [o for o in orders if o.tkn == 'ETH']\n",
    "USDC_orders = [o for o in orders if o.tkn == 'USDC']"
   ]
  },
  {
   "cell_type": "code",
   "execution_count": 24,
   "id": "06a9fd2a",
   "metadata": {},
   "outputs": [
    {
     "data": {
      "text/plain": [
       "[CarbonOrderUI(pair=ETH/USDC, tkn=ETH, B=0.02, S=0.0023606797749978967, yint=10, y=5.0, id=0, linked=<1>),\n",
       " CarbonOrderUI(pair=ETH/USDC, tkn=ETH, B=0.019802950859533486, S=0.0022833543554358245, yint=10, y=5, id=2, linked=<3>),\n",
       " CarbonOrderUI(pair=ETH/USDC, tkn=ETH, B=0.019611613513818404, S=0.002210175509780834, yint=10, y=5, id=4, linked=<5>),\n",
       " CarbonOrderUI(pair=ETH/USDC, tkn=ETH, B=0.019425717247145282, S=0.002140837393542403, yint=10, y=5, id=6, linked=<7>),\n",
       " CarbonOrderUI(pair=ETH/USDC, tkn=ETH, B=0.019245008972987525, S=0.0020750626625735194, yint=10, y=5, id=8, linked=<9>),\n",
       " CarbonOrderUI(pair=ETH/USDC, tkn=ETH, B=0.019069251784911846, S=0.0020125992828773503, yint=10, y=5, id=10, linked=<11>),\n",
       " CarbonOrderUI(pair=ETH/USDC, tkn=ETH, B=0.01889822365046136, S=0.001953217755246116, yint=10, y=5, id=12, linked=<13>),\n",
       " CarbonOrderUI(pair=ETH/USDC, tkn=ETH, B=0.018731716231633878, S=0.0018967086935419916, yint=10, y=5, id=14, linked=<15>),\n",
       " CarbonOrderUI(pair=ETH/USDC, tkn=ETH, B=0.018569533817705184, S=0.0018428807054879683, yint=10, y=5, id=16, linked=<17>),\n",
       " CarbonOrderUI(pair=ETH/USDC, tkn=ETH, B=0.018411492357966467, S=0.0017915585330777473, yint=10, y=5, id=18, linked=<19>)]"
      ]
     },
     "execution_count": 24,
     "metadata": {},
     "output_type": "execute_result"
    }
   ],
   "source": [
    "ETH_orders"
   ]
  },
  {
   "cell_type": "markdown",
   "id": "e13df660",
   "metadata": {},
   "source": [
    "We are now looking at the dy released if we move to 2100. Spoiler: 0, because all positions are already beyond 2100."
   ]
  },
  {
   "cell_type": "code",
   "execution_count": 5,
   "id": "785a27d9",
   "metadata": {},
   "outputs": [
    {
     "data": {
      "text/plain": [
       "[0, 0, 0, 0, 0, 0, 0, 0, 0, 0]"
      ]
     },
     "execution_count": 5,
     "metadata": {},
     "output_type": "execute_result"
    }
   ],
   "source": [
    "[o.dyfromp_f(2100) for o in ETH_orders]"
   ]
  },
  {
   "cell_type": "markdown",
   "id": "799f4448",
   "metadata": {},
   "source": [
    "If we go all the way to 3000 we see that all positions release their 5 ETH."
   ]
  },
  {
   "cell_type": "code",
   "execution_count": 6,
   "id": "789712cf",
   "metadata": {},
   "outputs": [
    {
     "data": {
      "text/plain": [
       "[5, 5, 5, 5, 5, 5, 5, 5, 5, 5]"
      ]
     },
     "execution_count": 6,
     "metadata": {},
     "output_type": "execute_result"
    }
   ],
   "source": [
    "[o.dyfromp_f(3000) for o in ETH_orders]"
   ]
  },
  {
   "cell_type": "markdown",
   "id": "d281b70d",
   "metadata": {},
   "source": [
    "For 2300 we see that the first two positions can still get us to 2300. They release 1.39 and 0.40 ETH respectively on the way to 2300"
   ]
  },
  {
   "cell_type": "code",
   "execution_count": 7,
   "id": "96b73244",
   "metadata": {},
   "outputs": [
    {
     "data": {
      "text/plain": [
       "[1.393236326565154, 0.40811287710152655, 0, 0, 0, 0, 0, 0, 0, 0]"
      ]
     },
     "execution_count": 7,
     "metadata": {},
     "output_type": "execute_result"
    }
   ],
   "source": [
    "[o.dyfromp_f(2300) for o in ETH_orders]"
   ]
  },
  {
   "cell_type": "markdown",
   "id": "7138b6c6",
   "metadata": {},
   "source": [
    "For 2500, the first 6 positions release ETH"
   ]
  },
  {
   "cell_type": "code",
   "execution_count": 8,
   "id": "c33112d3",
   "metadata": {},
   "outputs": [
    {
     "data": {
      "text/plain": [
       "[5.0,\n",
       " 4.137019008909356,\n",
       " 3.2427346404715647,\n",
       " 2.3174854167487067,\n",
       " 1.36159890190436,\n",
       " 0.37539229489591897,\n",
       " 0,\n",
       " 0,\n",
       " 0,\n",
       " 0]"
      ]
     },
     "execution_count": 8,
     "metadata": {},
     "output_type": "execute_result"
    }
   ],
   "source": [
    "[o.dyfromp_f(2500) for o in ETH_orders]"
   ]
  },
  {
   "cell_type": "markdown",
   "id": "7ee29d2a",
   "metadata": {},
   "source": [
    "We define `dy_f` as the aggregate ETH released from all positions here"
   ]
  },
  {
   "cell_type": "code",
   "execution_count": 9,
   "id": "347f53f7",
   "metadata": {},
   "outputs": [],
   "source": [
    "dy_f = lambda p: sum(o.dyfromp_f(p) for o in ETH_orders)"
   ]
  },
  {
   "cell_type": "markdown",
   "id": "45b3cb94",
   "metadata": {},
   "source": [
    "The corresponding USDC inflow can be computed thus"
   ]
  },
  {
   "cell_type": "code",
   "execution_count": 10,
   "id": "81d2ffb9",
   "metadata": {},
   "outputs": [],
   "source": [
    "dx_f = lambda p: sum(o.dxfromdy_f(o.dyfromp_f(p)) for o in ETH_orders)"
   ]
  },
  {
   "cell_type": "markdown",
   "id": "acd45ab5",
   "metadata": {},
   "source": [
    "Going back to the routing problem we want to solve is that we have an aggregate release, say `15`, and we want the price; this we can do with goalseek"
   ]
  },
  {
   "cell_type": "code",
   "execution_count": 11,
   "id": "8c6329e6",
   "metadata": {},
   "outputs": [
    {
     "data": {
      "text/plain": [
       "2487.0588779449463"
      ]
     },
     "execution_count": 11,
     "metadata": {},
     "output_type": "execute_result"
    }
   ],
   "source": [
    "p_goal = CarbonOrderUI.goalseek(lambda p: dy_f(p)-15, 2000, 3000)\n",
    "p_goal"
   ]
  },
  {
   "cell_type": "markdown",
   "id": "4b1e4064",
   "metadata": {},
   "source": [
    "The contribution of the positions at this price -- aka the **routing** -- is as follows"
   ]
  },
  {
   "cell_type": "code",
   "execution_count": 12,
   "id": "a1e92d5b",
   "metadata": {},
   "outputs": [
    {
     "data": {
      "text/plain": [
       "[4.779867109477664,\n",
       " 3.909431354268376,\n",
       " 3.007611565327439,\n",
       " 2.074747101342123,\n",
       " 1.1111663381843746,\n",
       " 0.11718726278194591,\n",
       " 0,\n",
       " 0,\n",
       " 0,\n",
       " 0]"
      ]
     },
     "execution_count": 12,
     "metadata": {},
     "output_type": "execute_result"
    }
   ],
   "source": [
    "rl1 = [o.dyfromp_f(p_goal) for o in ETH_orders]\n",
    "rl1"
   ]
  },
  {
   "cell_type": "markdown",
   "id": "1d93d34c",
   "metadata": {},
   "source": [
    "We can check that we routed indeed 15 ETH (the slight discrepancy is probably mostly related to goalseek precision)"
   ]
  },
  {
   "cell_type": "code",
   "execution_count": 13,
   "id": "527e7dfc",
   "metadata": {},
   "outputs": [
    {
     "data": {
      "text/plain": [
       "15.000010731381924"
      ]
     },
     "execution_count": 13,
     "metadata": {},
     "output_type": "execute_result"
    }
   ],
   "source": [
    "sum([o.dyfromp_f(p_goal) for o in ETH_orders])"
   ]
  },
  {
   "cell_type": "code",
   "execution_count": 14,
   "id": "a14315e9",
   "metadata": {},
   "outputs": [
    {
     "data": {
      "text/plain": [
       "{'action': 'bysource[selly]',\n",
       " 'executed': True,\n",
       " 'y_old': 5,\n",
       " 'y': 0.2201328905223363,\n",
       " 'dy': 4.779867109477664,\n",
       " 'yint_old': None,\n",
       " 'y_int': 10,\n",
       " 'expanded': False,\n",
       " 'x': 21811.773780092557,\n",
       " 'dx': 11254.492880084146,\n",
       " 'tkny': 'ETH',\n",
       " 'tknx': 'USDC',\n",
       " 'tx': 'Sell 4.779867109477664 ETH buy USDC',\n",
       " 'dx/dy': 2354.5618784606795,\n",
       " 'dy/dx': 0.0004247074622025907,\n",
       " 'pmarg_old': 2229.1236000336485,\n",
       " 'pmarg': 2487.058877944946,\n",
       " 'linked': {'y_old': 900,\n",
       "  'y': 12154.492880084146,\n",
       "  'dy': 11254.492880084146,\n",
       "  'yint_old': 1000,\n",
       "  'yint': 12154.492880084146,\n",
       "  'tkny': 'USDC',\n",
       "  'pmarg_old': 1445.4540768504862,\n",
       "  'pmarg': 1500.0,\n",
       "  'expanded': True},\n",
       " 'p': 2354.5618784606795}"
      ]
     },
     "execution_count": 14,
     "metadata": {},
     "output_type": "execute_result"
    }
   ],
   "source": [
    "ETH_orders[0].selly(rl1[0])"
   ]
  },
  {
   "cell_type": "code",
   "execution_count": 15,
   "id": "e901bea0",
   "metadata": {},
   "outputs": [
    {
     "data": {
      "text/plain": [
       "[CarbonOrderUI(pair=ETH/USDC, tkn=ETH, B=0.02, S=0.0023606797749978967, yint=10, y=0.2201328905223363, id=0, linked=<1>),\n",
       " CarbonOrderUI(pair=ETH/USDC, tkn=USDC, B=31.622776601683793, S=7.107056860390376, yint=12154.492880084146, y=12154.492880084146, id=1, linked=<0>),\n",
       " CarbonOrderUI(pair=ETH/USDC, tkn=ETH, B=0.019802950859533486, S=0.0022833543554358245, yint=10, y=5, id=2, linked=<3>),\n",
       " CarbonOrderUI(pair=ETH/USDC, tkn=USDC, B=31.464265445104548, S=7.136252686133016, yint=1000, y=900, id=3, linked=<2>),\n",
       " CarbonOrderUI(pair=ETH/USDC, tkn=ETH, B=0.019611613513818404, S=0.002210175509780834, yint=10, y=5, id=4, linked=<5>),\n",
       " CarbonOrderUI(pair=ETH/USDC, tkn=USDC, B=31.304951684997057, S=7.1658164383456295, yint=1000, y=900, id=5, linked=<4>),\n",
       " CarbonOrderUI(pair=ETH/USDC, tkn=ETH, B=0.019425717247145282, S=0.002140837393542403, yint=10, y=5, id=6, linked=<7>),\n",
       " CarbonOrderUI(pair=ETH/USDC, tkn=USDC, B=31.144823004794873, S=7.195756020566755, yint=1000, y=900, id=7, linked=<6>),\n",
       " CarbonOrderUI(pair=ETH/USDC, tkn=ETH, B=0.019245008972987525, S=0.0020750626625735194, yint=10, y=5, id=8, linked=<9>),\n",
       " CarbonOrderUI(pair=ETH/USDC, tkn=USDC, B=30.983866769659336, S=7.226079579426262, yint=1000, y=900, id=9, linked=<8>),\n",
       " CarbonOrderUI(pair=ETH/USDC, tkn=ETH, B=0.019069251784911846, S=0.0020125992828773503, yint=10, y=5, id=10, linked=<11>),\n",
       " CarbonOrderUI(pair=ETH/USDC, tkn=USDC, B=30.822070014844883, S=7.2567955144746605, yint=1000, y=900, id=11, linked=<10>),\n",
       " CarbonOrderUI(pair=ETH/USDC, tkn=ETH, B=0.01889822365046136, S=0.001953217755246116, yint=10, y=5, id=12, linked=<13>),\n",
       " CarbonOrderUI(pair=ETH/USDC, tkn=USDC, B=30.659419433511783, S=7.28791248850877, yint=1000, y=900, id=13, linked=<12>),\n",
       " CarbonOrderUI(pair=ETH/USDC, tkn=ETH, B=0.018731716231633878, S=0.0018967086935419916, yint=10, y=5, id=14, linked=<15>),\n",
       " CarbonOrderUI(pair=ETH/USDC, tkn=USDC, B=30.495901363953813, S=7.319439438424261, yint=1000, y=900, id=15, linked=<14>),\n",
       " CarbonOrderUI(pair=ETH/USDC, tkn=ETH, B=0.018569533817705184, S=0.0018428807054879683, yint=10, y=5, id=16, linked=<17>),\n",
       " CarbonOrderUI(pair=ETH/USDC, tkn=USDC, B=30.331501776206203, S=7.3513855866273445, yint=1000, y=900, id=17, linked=<16>),\n",
       " CarbonOrderUI(pair=ETH/USDC, tkn=ETH, B=0.018411492357966467, S=0.0017915585330777473, yint=10, y=5, id=18, linked=<19>),\n",
       " CarbonOrderUI(pair=ETH/USDC, tkn=USDC, B=30.166206257996713, S=7.383760453040459, yint=1000, y=900, id=19, linked=<18>)]"
      ]
     },
     "execution_count": 15,
     "metadata": {},
     "output_type": "execute_result"
    }
   ],
   "source": [
    "orders"
   ]
  },
  {
   "cell_type": "code",
   "execution_count": 16,
   "id": "0e9b93ed",
   "metadata": {},
   "outputs": [
    {
     "data": {
      "text/plain": [
       "{'action': 'bytarget[buyx]',\n",
       " 'executed': True,\n",
       " 'y_old': 12154.492880084146,\n",
       " 'y': 5684.99372023602,\n",
       " 'dy': 6469.4991598481265,\n",
       " 'yint_old': None,\n",
       " 'y_int': 12154.492880084146,\n",
       " 'expanded': False,\n",
       " 'x': 4.779867109477665,\n",
       " 'dx': 4.779867109477664,\n",
       " 'tkny': 'USDC',\n",
       " 'tknx': 'ETH',\n",
       " 'tx': 'Sell 6469.4991598481265 USDC buy ETH',\n",
       " 'dx/dy': 0.0007388310889880188,\n",
       " 'dy/dx': 1353.4893359315806,\n",
       " 'pmarg_old': 1500.0,\n",
       " 'pmarg': 1221.2889216536744,\n",
       " 'linked': {'y_old': 0.2201328905223363,\n",
       "  'y': 5.0,\n",
       "  'dy': 4.779867109477664,\n",
       "  'yint_old': 10,\n",
       "  'yint': 10,\n",
       "  'tkny': 'ETH',\n",
       "  'pmarg_old': 2487.058877944946,\n",
       "  'pmarg': 2229.1236000336485,\n",
       "  'expanded': False},\n",
       " 'p': 1353.4893359315806}"
      ]
     },
     "execution_count": 16,
     "metadata": {},
     "output_type": "execute_result"
    }
   ],
   "source": [
    "USDC_orders[0].buyx(rl1[0])"
   ]
  },
  {
   "cell_type": "code",
   "execution_count": 17,
   "id": "e901bea0",
   "metadata": {},
   "outputs": [
    {
     "data": {
      "text/plain": [
       "[CarbonOrderUI(pair=ETH/USDC, tkn=ETH, B=0.02, S=0.0023606797749978967, yint=10, y=5.0, id=0, linked=<1>),\n",
       " CarbonOrderUI(pair=ETH/USDC, tkn=USDC, B=31.622776601683793, S=7.107056860390376, yint=12154.492880084146, y=5684.99372023602, id=1, linked=<0>),\n",
       " CarbonOrderUI(pair=ETH/USDC, tkn=ETH, B=0.019802950859533486, S=0.0022833543554358245, yint=10, y=5, id=2, linked=<3>),\n",
       " CarbonOrderUI(pair=ETH/USDC, tkn=USDC, B=31.464265445104548, S=7.136252686133016, yint=1000, y=900, id=3, linked=<2>),\n",
       " CarbonOrderUI(pair=ETH/USDC, tkn=ETH, B=0.019611613513818404, S=0.002210175509780834, yint=10, y=5, id=4, linked=<5>),\n",
       " CarbonOrderUI(pair=ETH/USDC, tkn=USDC, B=31.304951684997057, S=7.1658164383456295, yint=1000, y=900, id=5, linked=<4>),\n",
       " CarbonOrderUI(pair=ETH/USDC, tkn=ETH, B=0.019425717247145282, S=0.002140837393542403, yint=10, y=5, id=6, linked=<7>),\n",
       " CarbonOrderUI(pair=ETH/USDC, tkn=USDC, B=31.144823004794873, S=7.195756020566755, yint=1000, y=900, id=7, linked=<6>),\n",
       " CarbonOrderUI(pair=ETH/USDC, tkn=ETH, B=0.019245008972987525, S=0.0020750626625735194, yint=10, y=5, id=8, linked=<9>),\n",
       " CarbonOrderUI(pair=ETH/USDC, tkn=USDC, B=30.983866769659336, S=7.226079579426262, yint=1000, y=900, id=9, linked=<8>),\n",
       " CarbonOrderUI(pair=ETH/USDC, tkn=ETH, B=0.019069251784911846, S=0.0020125992828773503, yint=10, y=5, id=10, linked=<11>),\n",
       " CarbonOrderUI(pair=ETH/USDC, tkn=USDC, B=30.822070014844883, S=7.2567955144746605, yint=1000, y=900, id=11, linked=<10>),\n",
       " CarbonOrderUI(pair=ETH/USDC, tkn=ETH, B=0.01889822365046136, S=0.001953217755246116, yint=10, y=5, id=12, linked=<13>),\n",
       " CarbonOrderUI(pair=ETH/USDC, tkn=USDC, B=30.659419433511783, S=7.28791248850877, yint=1000, y=900, id=13, linked=<12>),\n",
       " CarbonOrderUI(pair=ETH/USDC, tkn=ETH, B=0.018731716231633878, S=0.0018967086935419916, yint=10, y=5, id=14, linked=<15>),\n",
       " CarbonOrderUI(pair=ETH/USDC, tkn=USDC, B=30.495901363953813, S=7.319439438424261, yint=1000, y=900, id=15, linked=<14>),\n",
       " CarbonOrderUI(pair=ETH/USDC, tkn=ETH, B=0.018569533817705184, S=0.0018428807054879683, yint=10, y=5, id=16, linked=<17>),\n",
       " CarbonOrderUI(pair=ETH/USDC, tkn=USDC, B=30.331501776206203, S=7.3513855866273445, yint=1000, y=900, id=17, linked=<16>),\n",
       " CarbonOrderUI(pair=ETH/USDC, tkn=ETH, B=0.018411492357966467, S=0.0017915585330777473, yint=10, y=5, id=18, linked=<19>),\n",
       " CarbonOrderUI(pair=ETH/USDC, tkn=USDC, B=30.166206257996713, S=7.383760453040459, yint=1000, y=900, id=19, linked=<18>)]"
      ]
     },
     "execution_count": 17,
     "metadata": {},
     "output_type": "execute_result"
    }
   ],
   "source": [
    "orders"
   ]
  },
  {
   "cell_type": "code",
   "execution_count": 18,
   "id": "6e91e4bd",
   "metadata": {},
   "outputs": [
    {
     "data": {
      "text/html": [
       "<div>\n",
       "<style scoped>\n",
       "    .dataframe tbody tr th:only-of-type {\n",
       "        vertical-align: middle;\n",
       "    }\n",
       "\n",
       "    .dataframe tbody tr th {\n",
       "        vertical-align: top;\n",
       "    }\n",
       "\n",
       "    .dataframe thead th {\n",
       "        text-align: right;\n",
       "    }\n",
       "</style>\n",
       "<table border=\"1\" class=\"dataframe\">\n",
       "  <thead>\n",
       "    <tr style=\"text-align: right;\">\n",
       "      <th></th>\n",
       "      <th>id</th>\n",
       "      <th>pair</th>\n",
       "      <th>tkn</th>\n",
       "      <th>y_int</th>\n",
       "      <th>y</th>\n",
       "      <th>y_unit</th>\n",
       "      <th>disabled</th>\n",
       "      <th>p_start</th>\n",
       "      <th>p_end</th>\n",
       "      <th>p_marg</th>\n",
       "      <th>p_unit</th>\n",
       "      <th>lid</th>\n",
       "    </tr>\n",
       "  </thead>\n",
       "  <tbody>\n",
       "    <tr>\n",
       "      <th>0</th>\n",
       "      <td>0</td>\n",
       "      <td>ETHUSDC</td>\n",
       "      <td>ETH</td>\n",
       "      <td>10.00000</td>\n",
       "      <td>5.00000</td>\n",
       "      <td>ETH</td>\n",
       "      <td>False</td>\n",
       "      <td>2000.0</td>\n",
       "      <td>2500.0</td>\n",
       "      <td>2229.123600</td>\n",
       "      <td>USDC per ETH</td>\n",
       "      <td>1</td>\n",
       "    </tr>\n",
       "    <tr>\n",
       "      <th>1</th>\n",
       "      <td>1</td>\n",
       "      <td>ETHUSDC</td>\n",
       "      <td>USDC</td>\n",
       "      <td>12154.49288</td>\n",
       "      <td>5684.99372</td>\n",
       "      <td>USDC</td>\n",
       "      <td>False</td>\n",
       "      <td>1500.0</td>\n",
       "      <td>1000.0</td>\n",
       "      <td>1221.288922</td>\n",
       "      <td>USDC per ETH</td>\n",
       "      <td>0</td>\n",
       "    </tr>\n",
       "    <tr>\n",
       "      <th>2</th>\n",
       "      <td>2</td>\n",
       "      <td>ETHUSDC</td>\n",
       "      <td>ETH</td>\n",
       "      <td>10.00000</td>\n",
       "      <td>5.00000</td>\n",
       "      <td>ETH</td>\n",
       "      <td>False</td>\n",
       "      <td>2050.0</td>\n",
       "      <td>2550.0</td>\n",
       "      <td>2279.579255</td>\n",
       "      <td>USDC per ETH</td>\n",
       "      <td>3</td>\n",
       "    </tr>\n",
       "    <tr>\n",
       "      <th>3</th>\n",
       "      <td>3</td>\n",
       "      <td>ETHUSDC</td>\n",
       "      <td>USDC</td>\n",
       "      <td>1000.00000</td>\n",
       "      <td>900.00000</td>\n",
       "      <td>USDC</td>\n",
       "      <td>False</td>\n",
       "      <td>1490.0</td>\n",
       "      <td>990.0</td>\n",
       "      <td>1435.416651</td>\n",
       "      <td>USDC per ETH</td>\n",
       "      <td>2</td>\n",
       "    </tr>\n",
       "    <tr>\n",
       "      <th>4</th>\n",
       "      <td>4</td>\n",
       "      <td>ETHUSDC</td>\n",
       "      <td>ETH</td>\n",
       "      <td>10.00000</td>\n",
       "      <td>5.00000</td>\n",
       "      <td>ETH</td>\n",
       "      <td>False</td>\n",
       "      <td>2100.0</td>\n",
       "      <td>2600.0</td>\n",
       "      <td>2330.015407</td>\n",
       "      <td>USDC per ETH</td>\n",
       "      <td>5</td>\n",
       "    </tr>\n",
       "    <tr>\n",
       "      <th>5</th>\n",
       "      <td>5</td>\n",
       "      <td>ETHUSDC</td>\n",
       "      <td>USDC</td>\n",
       "      <td>1000.00000</td>\n",
       "      <td>900.00000</td>\n",
       "      <td>USDC</td>\n",
       "      <td>False</td>\n",
       "      <td>1480.0</td>\n",
       "      <td>980.0</td>\n",
       "      <td>1425.378597</td>\n",
       "      <td>USDC per ETH</td>\n",
       "      <td>4</td>\n",
       "    </tr>\n",
       "    <tr>\n",
       "      <th>6</th>\n",
       "      <td>6</td>\n",
       "      <td>ETHUSDC</td>\n",
       "      <td>ETH</td>\n",
       "      <td>10.00000</td>\n",
       "      <td>5.00000</td>\n",
       "      <td>ETH</td>\n",
       "      <td>False</td>\n",
       "      <td>2150.0</td>\n",
       "      <td>2650.0</td>\n",
       "      <td>2380.433284</td>\n",
       "      <td>USDC per ETH</td>\n",
       "      <td>7</td>\n",
       "    </tr>\n",
       "    <tr>\n",
       "      <th>7</th>\n",
       "      <td>7</td>\n",
       "      <td>ETHUSDC</td>\n",
       "      <td>USDC</td>\n",
       "      <td>1000.00000</td>\n",
       "      <td>900.00000</td>\n",
       "      <td>USDC</td>\n",
       "      <td>False</td>\n",
       "      <td>1470.0</td>\n",
       "      <td>970.0</td>\n",
       "      <td>1415.339899</td>\n",
       "      <td>USDC per ETH</td>\n",
       "      <td>6</td>\n",
       "    </tr>\n",
       "    <tr>\n",
       "      <th>8</th>\n",
       "      <td>8</td>\n",
       "      <td>ETHUSDC</td>\n",
       "      <td>ETH</td>\n",
       "      <td>10.00000</td>\n",
       "      <td>5.00000</td>\n",
       "      <td>ETH</td>\n",
       "      <td>False</td>\n",
       "      <td>2200.0</td>\n",
       "      <td>2700.0</td>\n",
       "      <td>2430.834014</td>\n",
       "      <td>USDC per ETH</td>\n",
       "      <td>9</td>\n",
       "    </tr>\n",
       "    <tr>\n",
       "      <th>9</th>\n",
       "      <td>9</td>\n",
       "      <td>ETHUSDC</td>\n",
       "      <td>USDC</td>\n",
       "      <td>1000.00000</td>\n",
       "      <td>900.00000</td>\n",
       "      <td>USDC</td>\n",
       "      <td>False</td>\n",
       "      <td>1460.0</td>\n",
       "      <td>960.0</td>\n",
       "      <td>1405.300540</td>\n",
       "      <td>USDC per ETH</td>\n",
       "      <td>8</td>\n",
       "    </tr>\n",
       "    <tr>\n",
       "      <th>10</th>\n",
       "      <td>10</td>\n",
       "      <td>ETHUSDC</td>\n",
       "      <td>ETH</td>\n",
       "      <td>10.00000</td>\n",
       "      <td>5.00000</td>\n",
       "      <td>ETH</td>\n",
       "      <td>False</td>\n",
       "      <td>2250.0</td>\n",
       "      <td>2750.0</td>\n",
       "      <td>2481.218632</td>\n",
       "      <td>USDC per ETH</td>\n",
       "      <td>11</td>\n",
       "    </tr>\n",
       "    <tr>\n",
       "      <th>11</th>\n",
       "      <td>11</td>\n",
       "      <td>ETHUSDC</td>\n",
       "      <td>USDC</td>\n",
       "      <td>1000.00000</td>\n",
       "      <td>900.00000</td>\n",
       "      <td>USDC</td>\n",
       "      <td>False</td>\n",
       "      <td>1450.0</td>\n",
       "      <td>950.0</td>\n",
       "      <td>1395.260503</td>\n",
       "      <td>USDC per ETH</td>\n",
       "      <td>10</td>\n",
       "    </tr>\n",
       "    <tr>\n",
       "      <th>12</th>\n",
       "      <td>12</td>\n",
       "      <td>ETHUSDC</td>\n",
       "      <td>ETH</td>\n",
       "      <td>10.00000</td>\n",
       "      <td>5.00000</td>\n",
       "      <td>ETH</td>\n",
       "      <td>False</td>\n",
       "      <td>2300.0</td>\n",
       "      <td>2800.0</td>\n",
       "      <td>2531.588093</td>\n",
       "      <td>USDC per ETH</td>\n",
       "      <td>13</td>\n",
       "    </tr>\n",
       "    <tr>\n",
       "      <th>13</th>\n",
       "      <td>13</td>\n",
       "      <td>ETHUSDC</td>\n",
       "      <td>USDC</td>\n",
       "      <td>1000.00000</td>\n",
       "      <td>900.00000</td>\n",
       "      <td>USDC</td>\n",
       "      <td>False</td>\n",
       "      <td>1440.0</td>\n",
       "      <td>940.0</td>\n",
       "      <td>1385.219770</td>\n",
       "      <td>USDC per ETH</td>\n",
       "      <td>12</td>\n",
       "    </tr>\n",
       "    <tr>\n",
       "      <th>14</th>\n",
       "      <td>14</td>\n",
       "      <td>ETHUSDC</td>\n",
       "      <td>ETH</td>\n",
       "      <td>10.00000</td>\n",
       "      <td>5.00000</td>\n",
       "      <td>ETH</td>\n",
       "      <td>False</td>\n",
       "      <td>2350.0</td>\n",
       "      <td>2850.0</td>\n",
       "      <td>2581.943276</td>\n",
       "      <td>USDC per ETH</td>\n",
       "      <td>15</td>\n",
       "    </tr>\n",
       "    <tr>\n",
       "      <th>15</th>\n",
       "      <td>15</td>\n",
       "      <td>ETHUSDC</td>\n",
       "      <td>USDC</td>\n",
       "      <td>1000.00000</td>\n",
       "      <td>900.00000</td>\n",
       "      <td>USDC</td>\n",
       "      <td>False</td>\n",
       "      <td>1430.0</td>\n",
       "      <td>930.0</td>\n",
       "      <td>1375.178323</td>\n",
       "      <td>USDC per ETH</td>\n",
       "      <td>14</td>\n",
       "    </tr>\n",
       "    <tr>\n",
       "      <th>16</th>\n",
       "      <td>16</td>\n",
       "      <td>ETHUSDC</td>\n",
       "      <td>ETH</td>\n",
       "      <td>10.00000</td>\n",
       "      <td>5.00000</td>\n",
       "      <td>ETH</td>\n",
       "      <td>False</td>\n",
       "      <td>2400.0</td>\n",
       "      <td>2900.0</td>\n",
       "      <td>2632.284995</td>\n",
       "      <td>USDC per ETH</td>\n",
       "      <td>17</td>\n",
       "    </tr>\n",
       "    <tr>\n",
       "      <th>17</th>\n",
       "      <td>17</td>\n",
       "      <td>ETHUSDC</td>\n",
       "      <td>USDC</td>\n",
       "      <td>1000.00000</td>\n",
       "      <td>900.00000</td>\n",
       "      <td>USDC</td>\n",
       "      <td>False</td>\n",
       "      <td>1420.0</td>\n",
       "      <td>920.0</td>\n",
       "      <td>1365.136142</td>\n",
       "      <td>USDC per ETH</td>\n",
       "      <td>16</td>\n",
       "    </tr>\n",
       "    <tr>\n",
       "      <th>18</th>\n",
       "      <td>18</td>\n",
       "      <td>ETHUSDC</td>\n",
       "      <td>ETH</td>\n",
       "      <td>10.00000</td>\n",
       "      <td>5.00000</td>\n",
       "      <td>ETH</td>\n",
       "      <td>False</td>\n",
       "      <td>2450.0</td>\n",
       "      <td>2950.0</td>\n",
       "      <td>2682.614002</td>\n",
       "      <td>USDC per ETH</td>\n",
       "      <td>19</td>\n",
       "    </tr>\n",
       "    <tr>\n",
       "      <th>19</th>\n",
       "      <td>19</td>\n",
       "      <td>ETHUSDC</td>\n",
       "      <td>USDC</td>\n",
       "      <td>1000.00000</td>\n",
       "      <td>900.00000</td>\n",
       "      <td>USDC</td>\n",
       "      <td>False</td>\n",
       "      <td>1410.0</td>\n",
       "      <td>910.0</td>\n",
       "      <td>1355.093207</td>\n",
       "      <td>USDC per ETH</td>\n",
       "      <td>18</td>\n",
       "    </tr>\n",
       "  </tbody>\n",
       "</table>\n",
       "</div>"
      ],
      "text/plain": [
       "    id     pair   tkn        y_int           y y_unit  disabled  p_start  \\\n",
       "0    0  ETHUSDC   ETH     10.00000     5.00000    ETH     False   2000.0   \n",
       "1    1  ETHUSDC  USDC  12154.49288  5684.99372   USDC     False   1500.0   \n",
       "2    2  ETHUSDC   ETH     10.00000     5.00000    ETH     False   2050.0   \n",
       "3    3  ETHUSDC  USDC   1000.00000   900.00000   USDC     False   1490.0   \n",
       "4    4  ETHUSDC   ETH     10.00000     5.00000    ETH     False   2100.0   \n",
       "5    5  ETHUSDC  USDC   1000.00000   900.00000   USDC     False   1480.0   \n",
       "6    6  ETHUSDC   ETH     10.00000     5.00000    ETH     False   2150.0   \n",
       "7    7  ETHUSDC  USDC   1000.00000   900.00000   USDC     False   1470.0   \n",
       "8    8  ETHUSDC   ETH     10.00000     5.00000    ETH     False   2200.0   \n",
       "9    9  ETHUSDC  USDC   1000.00000   900.00000   USDC     False   1460.0   \n",
       "10  10  ETHUSDC   ETH     10.00000     5.00000    ETH     False   2250.0   \n",
       "11  11  ETHUSDC  USDC   1000.00000   900.00000   USDC     False   1450.0   \n",
       "12  12  ETHUSDC   ETH     10.00000     5.00000    ETH     False   2300.0   \n",
       "13  13  ETHUSDC  USDC   1000.00000   900.00000   USDC     False   1440.0   \n",
       "14  14  ETHUSDC   ETH     10.00000     5.00000    ETH     False   2350.0   \n",
       "15  15  ETHUSDC  USDC   1000.00000   900.00000   USDC     False   1430.0   \n",
       "16  16  ETHUSDC   ETH     10.00000     5.00000    ETH     False   2400.0   \n",
       "17  17  ETHUSDC  USDC   1000.00000   900.00000   USDC     False   1420.0   \n",
       "18  18  ETHUSDC   ETH     10.00000     5.00000    ETH     False   2450.0   \n",
       "19  19  ETHUSDC  USDC   1000.00000   900.00000   USDC     False   1410.0   \n",
       "\n",
       "     p_end       p_marg        p_unit  lid  \n",
       "0   2500.0  2229.123600  USDC per ETH    1  \n",
       "1   1000.0  1221.288922  USDC per ETH    0  \n",
       "2   2550.0  2279.579255  USDC per ETH    3  \n",
       "3    990.0  1435.416651  USDC per ETH    2  \n",
       "4   2600.0  2330.015407  USDC per ETH    5  \n",
       "5    980.0  1425.378597  USDC per ETH    4  \n",
       "6   2650.0  2380.433284  USDC per ETH    7  \n",
       "7    970.0  1415.339899  USDC per ETH    6  \n",
       "8   2700.0  2430.834014  USDC per ETH    9  \n",
       "9    960.0  1405.300540  USDC per ETH    8  \n",
       "10  2750.0  2481.218632  USDC per ETH   11  \n",
       "11   950.0  1395.260503  USDC per ETH   10  \n",
       "12  2800.0  2531.588093  USDC per ETH   13  \n",
       "13   940.0  1385.219770  USDC per ETH   12  \n",
       "14  2850.0  2581.943276  USDC per ETH   15  \n",
       "15   930.0  1375.178323  USDC per ETH   14  \n",
       "16  2900.0  2632.284995  USDC per ETH   17  \n",
       "17   920.0  1365.136142  USDC per ETH   16  \n",
       "18  2950.0  2682.614002  USDC per ETH   19  \n",
       "19   910.0  1355.093207  USDC per ETH   18  "
      ]
     },
     "execution_count": 18,
     "metadata": {},
     "output_type": "execute_result"
    }
   ],
   "source": [
    "Sim = CarbonSimulatorUI(pair=\"ETH/USDC\", verbose=False, raiseonerror=True)\n",
    "\n",
    "for i in range(len(orders))[::2]:\n",
    "    Sim.add_strategy(\n",
    "        tkn='ETH',\n",
    "        amt_sell=orders[i].y,\n",
    "        psell_start=orders[i].p_start,\n",
    "        psell_end=orders[i].p_end,\n",
    "        psell_marginal=orders[i].p_marg,\n",
    "        amt_buy=orders[i+1].y,\n",
    "        pbuy_start=orders[i+1].p_start,\n",
    "        pbuy_end=orders[i+1].p_end,\n",
    "        pbuy_marginal=orders[i+1].p_marg,\n",
    "        )\n",
    "Sim.state()['orders'].query(\"disabled==False\")"
   ]
  },
  {
   "cell_type": "code",
   "execution_count": 19,
   "id": "17cbb74e",
   "metadata": {},
   "outputs": [
    {
     "data": {
      "text/html": [
       "<div>\n",
       "<style scoped>\n",
       "    .dataframe tbody tr th:only-of-type {\n",
       "        vertical-align: middle;\n",
       "    }\n",
       "\n",
       "    .dataframe tbody tr th {\n",
       "        vertical-align: top;\n",
       "    }\n",
       "\n",
       "    .dataframe thead th {\n",
       "        text-align: right;\n",
       "    }\n",
       "</style>\n",
       "<table border=\"1\" class=\"dataframe\">\n",
       "  <thead>\n",
       "    <tr style=\"text-align: right;\">\n",
       "      <th></th>\n",
       "      <th>uid</th>\n",
       "      <th>id</th>\n",
       "      <th>subid</th>\n",
       "      <th>note</th>\n",
       "      <th>aggr</th>\n",
       "      <th>exec</th>\n",
       "      <th>partial</th>\n",
       "      <th>limitfail</th>\n",
       "      <th>amt1</th>\n",
       "      <th>tkn1</th>\n",
       "      <th>amt2</th>\n",
       "      <th>tkn2</th>\n",
       "      <th>pair</th>\n",
       "      <th>routeix</th>\n",
       "      <th>nroutes</th>\n",
       "      <th>price</th>\n",
       "      <th>p_unit</th>\n",
       "    </tr>\n",
       "  </thead>\n",
       "  <tbody>\n",
       "    <tr>\n",
       "      <th>0</th>\n",
       "      <td>0.0</td>\n",
       "      <td>0</td>\n",
       "      <td>0</td>\n",
       "      <td>route #0</td>\n",
       "      <td>False</td>\n",
       "      <td>True</td>\n",
       "      <td>False</td>\n",
       "      <td>None</td>\n",
       "      <td>4.779865</td>\n",
       "      <td>ETH</td>\n",
       "      <td>11254.488784</td>\n",
       "      <td>USDC</td>\n",
       "      <td>ETHUSDC</td>\n",
       "      <td>0</td>\n",
       "      <td>1</td>\n",
       "      <td>2391.638426</td>\n",
       "      <td>USDC per ETH</td>\n",
       "    </tr>\n",
       "    <tr>\n",
       "      <th>0</th>\n",
       "      <td>0.1</td>\n",
       "      <td>0</td>\n",
       "      <td>1</td>\n",
       "      <td>route #2</td>\n",
       "      <td>False</td>\n",
       "      <td>True</td>\n",
       "      <td>False</td>\n",
       "      <td>None</td>\n",
       "      <td>3.909430</td>\n",
       "      <td>ETH</td>\n",
       "      <td>9308.587288</td>\n",
       "      <td>USDC</td>\n",
       "      <td>ETHUSDC</td>\n",
       "      <td>2</td>\n",
       "      <td>1</td>\n",
       "      <td>2391.638426</td>\n",
       "      <td>USDC per ETH</td>\n",
       "    </tr>\n",
       "    <tr>\n",
       "      <th>0</th>\n",
       "      <td>0.2</td>\n",
       "      <td>0</td>\n",
       "      <td>2</td>\n",
       "      <td>route #4</td>\n",
       "      <td>False</td>\n",
       "      <td>True</td>\n",
       "      <td>False</td>\n",
       "      <td>None</td>\n",
       "      <td>3.007610</td>\n",
       "      <td>ETH</td>\n",
       "      <td>7240.089143</td>\n",
       "      <td>USDC</td>\n",
       "      <td>ETHUSDC</td>\n",
       "      <td>4</td>\n",
       "      <td>1</td>\n",
       "      <td>2391.638426</td>\n",
       "      <td>USDC per ETH</td>\n",
       "    </tr>\n",
       "    <tr>\n",
       "      <th>0</th>\n",
       "      <td>0.3</td>\n",
       "      <td>0</td>\n",
       "      <td>3</td>\n",
       "      <td>route #6</td>\n",
       "      <td>False</td>\n",
       "      <td>True</td>\n",
       "      <td>False</td>\n",
       "      <td>None</td>\n",
       "      <td>2.074745</td>\n",
       "      <td>ETH</td>\n",
       "      <td>5048.191466</td>\n",
       "      <td>USDC</td>\n",
       "      <td>ETHUSDC</td>\n",
       "      <td>6</td>\n",
       "      <td>1</td>\n",
       "      <td>2391.638426</td>\n",
       "      <td>USDC per ETH</td>\n",
       "    </tr>\n",
       "    <tr>\n",
       "      <th>0</th>\n",
       "      <td>0.4</td>\n",
       "      <td>0</td>\n",
       "      <td>4</td>\n",
       "      <td>route #8</td>\n",
       "      <td>False</td>\n",
       "      <td>True</td>\n",
       "      <td>False</td>\n",
       "      <td>None</td>\n",
       "      <td>1.111164</td>\n",
       "      <td>ETH</td>\n",
       "      <td>2732.115287</td>\n",
       "      <td>USDC</td>\n",
       "      <td>ETHUSDC</td>\n",
       "      <td>8</td>\n",
       "      <td>1</td>\n",
       "      <td>2391.638426</td>\n",
       "      <td>USDC per ETH</td>\n",
       "    </tr>\n",
       "    <tr>\n",
       "      <th>0</th>\n",
       "      <td>0.5</td>\n",
       "      <td>0</td>\n",
       "      <td>5</td>\n",
       "      <td>route #10</td>\n",
       "      <td>False</td>\n",
       "      <td>True</td>\n",
       "      <td>False</td>\n",
       "      <td>None</td>\n",
       "      <td>0.117185</td>\n",
       "      <td>ETH</td>\n",
       "      <td>291.104415</td>\n",
       "      <td>USDC</td>\n",
       "      <td>ETHUSDC</td>\n",
       "      <td>10</td>\n",
       "      <td>1</td>\n",
       "      <td>2391.638426</td>\n",
       "      <td>USDC per ETH</td>\n",
       "    </tr>\n",
       "    <tr>\n",
       "      <th>0</th>\n",
       "      <td>0</td>\n",
       "      <td>0</td>\n",
       "      <td>A</td>\n",
       "      <td>AMM sells 15ETH buys 35875USDC</td>\n",
       "      <td>True</td>\n",
       "      <td>True</td>\n",
       "      <td>True</td>\n",
       "      <td>None</td>\n",
       "      <td>15.000000</td>\n",
       "      <td>ETH</td>\n",
       "      <td>35874.576383</td>\n",
       "      <td>USDC</td>\n",
       "      <td>ETHUSDC</td>\n",
       "      <td>[0, 2, 4, 6, 8, 10]</td>\n",
       "      <td>6</td>\n",
       "      <td>2391.638426</td>\n",
       "      <td>USDC per ETH</td>\n",
       "    </tr>\n",
       "  </tbody>\n",
       "</table>\n",
       "</div>"
      ],
      "text/plain": [
       "   uid  id subid                            note   aggr  exec  partial  \\\n",
       "0  0.0   0     0                        route #0  False  True    False   \n",
       "0  0.1   0     1                        route #2  False  True    False   \n",
       "0  0.2   0     2                        route #4  False  True    False   \n",
       "0  0.3   0     3                        route #6  False  True    False   \n",
       "0  0.4   0     4                        route #8  False  True    False   \n",
       "0  0.5   0     5                       route #10  False  True    False   \n",
       "0    0   0     A  AMM sells 15ETH buys 35875USDC   True  True     True   \n",
       "\n",
       "  limitfail       amt1 tkn1          amt2  tkn2     pair              routeix  \\\n",
       "0      None   4.779865  ETH  11254.488784  USDC  ETHUSDC                    0   \n",
       "0      None   3.909430  ETH   9308.587288  USDC  ETHUSDC                    2   \n",
       "0      None   3.007610  ETH   7240.089143  USDC  ETHUSDC                    4   \n",
       "0      None   2.074745  ETH   5048.191466  USDC  ETHUSDC                    6   \n",
       "0      None   1.111164  ETH   2732.115287  USDC  ETHUSDC                    8   \n",
       "0      None   0.117185  ETH    291.104415  USDC  ETHUSDC                   10   \n",
       "0      None  15.000000  ETH  35874.576383  USDC  ETHUSDC  [0, 2, 4, 6, 8, 10]   \n",
       "\n",
       "   nroutes        price        p_unit  \n",
       "0        1  2391.638426  USDC per ETH  \n",
       "0        1  2391.638426  USDC per ETH  \n",
       "0        1  2391.638426  USDC per ETH  \n",
       "0        1  2391.638426  USDC per ETH  \n",
       "0        1  2391.638426  USDC per ETH  \n",
       "0        1  2391.638426  USDC per ETH  \n",
       "0        6  2391.638426  USDC per ETH  "
      ]
     },
     "execution_count": 19,
     "metadata": {},
     "output_type": "execute_result"
    }
   ],
   "source": [
    "r = Sim.amm_sells('ETH', 15)['trades']\n",
    "r"
   ]
  },
  {
   "cell_type": "markdown",
   "id": "a5017bed",
   "metadata": {},
   "source": [
    "Below `rl2` is the route list obtained through routing, and `rl1` the original one. We see they are extremely close."
   ]
  },
  {
   "cell_type": "code",
   "execution_count": 20,
   "id": "7041a1c7",
   "metadata": {
    "lines_to_next_cell": 2
   },
   "outputs": [
    {
     "data": {
      "text/plain": [
       "[4.779865462359,\n",
       " 3.90942965137,\n",
       " 3.007609806046,\n",
       " 2.074745285081,\n",
       " 1.111164464352,\n",
       " 0.117185330793]"
      ]
     },
     "execution_count": 20,
     "metadata": {},
     "output_type": "execute_result"
    }
   ],
   "source": [
    "rl2 = list(r.query(\"aggr==False\")[\"amt1\"])\n",
    "rl2"
   ]
  },
  {
   "cell_type": "code",
   "execution_count": 21,
   "id": "9d4721c4",
   "metadata": {},
   "outputs": [
    {
     "data": {
      "text/plain": [
       "[4.779867109477664,\n",
       " 3.909431354268376,\n",
       " 3.007611565327439,\n",
       " 2.074747101342123,\n",
       " 1.1111663381843746,\n",
       " 0.11718726278194591]"
      ]
     },
     "execution_count": 21,
     "metadata": {},
     "output_type": "execute_result"
    }
   ],
   "source": [
    "rl1[:len(rl2)]"
   ]
  },
  {
   "cell_type": "code",
   "execution_count": 22,
   "id": "42a6e4fc",
   "metadata": {},
   "outputs": [
    {
     "data": {
      "text/plain": [
       "[-1.6471186636835e-06,\n",
       " -1.7028983760880578e-06,\n",
       " -1.759281438751259e-06,\n",
       " -1.8162611228333958e-06,\n",
       " -1.8738323745992602e-06,\n",
       " -1.9319889459079587e-06]"
      ]
     },
     "execution_count": 22,
     "metadata": {},
     "output_type": "execute_result"
    }
   ],
   "source": [
    "[x2-x1 for x1,x2 in zip(rl1, rl2)]"
   ]
  },
  {
   "cell_type": "code",
   "execution_count": 23,
   "id": "3dfeb15b",
   "metadata": {},
   "outputs": [
    {
     "data": {
      "text/html": [
       "<div>\n",
       "<style scoped>\n",
       "    .dataframe tbody tr th:only-of-type {\n",
       "        vertical-align: middle;\n",
       "    }\n",
       "\n",
       "    .dataframe tbody tr th {\n",
       "        vertical-align: top;\n",
       "    }\n",
       "\n",
       "    .dataframe thead th {\n",
       "        text-align: right;\n",
       "    }\n",
       "</style>\n",
       "<table border=\"1\" class=\"dataframe\">\n",
       "  <thead>\n",
       "    <tr style=\"text-align: right;\">\n",
       "      <th></th>\n",
       "      <th>uid</th>\n",
       "      <th>id</th>\n",
       "      <th>subid</th>\n",
       "      <th>note</th>\n",
       "      <th>aggr</th>\n",
       "      <th>exec</th>\n",
       "      <th>partial</th>\n",
       "      <th>limitfail</th>\n",
       "      <th>amt1</th>\n",
       "      <th>tkn1</th>\n",
       "      <th>amt2</th>\n",
       "      <th>tkn2</th>\n",
       "      <th>pair</th>\n",
       "      <th>routeix</th>\n",
       "      <th>nroutes</th>\n",
       "      <th>price</th>\n",
       "      <th>p_unit</th>\n",
       "    </tr>\n",
       "  </thead>\n",
       "  <tbody>\n",
       "    <tr>\n",
       "      <th>0</th>\n",
       "      <td>1.0</td>\n",
       "      <td>1</td>\n",
       "      <td>0</td>\n",
       "      <td>route #1</td>\n",
       "      <td>False</td>\n",
       "      <td>False</td>\n",
       "      <td>False</td>\n",
       "      <td>None</td>\n",
       "      <td>15.0</td>\n",
       "      <td>USDC</td>\n",
       "      <td>0.010002</td>\n",
       "      <td>ETH</td>\n",
       "      <td>ETHUSDC</td>\n",
       "      <td>1</td>\n",
       "      <td>1</td>\n",
       "      <td>1499.75626</td>\n",
       "      <td>USDC per ETH</td>\n",
       "    </tr>\n",
       "    <tr>\n",
       "      <th>0</th>\n",
       "      <td>1</td>\n",
       "      <td>1</td>\n",
       "      <td>A</td>\n",
       "      <td>AMM sells 15USDC buys 0ETH</td>\n",
       "      <td>True</td>\n",
       "      <td>False</td>\n",
       "      <td>True</td>\n",
       "      <td>None</td>\n",
       "      <td>15.0</td>\n",
       "      <td>USDC</td>\n",
       "      <td>0.010002</td>\n",
       "      <td>ETH</td>\n",
       "      <td>ETHUSDC</td>\n",
       "      <td>[1]</td>\n",
       "      <td>1</td>\n",
       "      <td>1499.75626</td>\n",
       "      <td>USDC per ETH</td>\n",
       "    </tr>\n",
       "  </tbody>\n",
       "</table>\n",
       "</div>"
      ],
      "text/plain": [
       "   uid  id subid                        note   aggr   exec  partial limitfail  \\\n",
       "0  1.0   1     0                    route #1  False  False    False      None   \n",
       "0    1   1     A  AMM sells 15USDC buys 0ETH   True  False     True      None   \n",
       "\n",
       "   amt1  tkn1      amt2 tkn2     pair routeix  nroutes       price  \\\n",
       "0  15.0  USDC  0.010002  ETH  ETHUSDC       1        1  1499.75626   \n",
       "0  15.0  USDC  0.010002  ETH  ETHUSDC     [1]        1  1499.75626   \n",
       "\n",
       "         p_unit  \n",
       "0  USDC per ETH  \n",
       "0  USDC per ETH  "
      ]
     },
     "execution_count": 23,
     "metadata": {},
     "output_type": "execute_result"
    }
   ],
   "source": [
    "Sim.amm_sells('USDC', 15, execute=False)['trades']"
   ]
  }
 ],
 "metadata": {
  "jupytext": {
   "formats": "ipynb,py:light"
  },
  "kernelspec": {
   "display_name": "Python 3",
   "language": "python",
   "name": "python3"
  },
  "language_info": {
   "codemirror_mode": {
    "name": "ipython",
    "version": 3
   },
   "file_extension": ".py",
   "mimetype": "text/x-python",
   "name": "python",
   "nbconvert_exporter": "python",
   "pygments_lexer": "ipython3",
   "version": "3.10.9"
  },
  "vscode": {
   "interpreter": {
    "hash": "a43a6365b22f1ee0a072b8956f36206514c5e4495194391fafa77179046cd4d1"
   }
  }
 },
 "nbformat": 4,
 "nbformat_minor": 5
}
