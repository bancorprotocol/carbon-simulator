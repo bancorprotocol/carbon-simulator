{
 "cells": [
  {
   "cell_type": "code",
   "execution_count": 7,
   "id": "3e1dc0ae",
   "metadata": {},
   "outputs": [
    {
     "name": "stdout",
     "output_type": "stream",
     "text": [
      "SolTestBase v1.0 (11/Feb/2023)\n",
      "CarbonFloatInt32 v1.0 (10/Feb/2023)\n",
      "CarbonOrderUI v1.9.1 (15/Mar/2023)\n",
      "CarbonPair v2.2 (11/Feb/2022)\n",
      "Carbon v2.3.3-BETA7 (14/Mar/2023)\n"
     ]
    }
   ],
   "source": [
    "from carbon.helpers.stdimports import *\n",
    "from carbon.helpers.soltest import SolTestBase\n",
    "from carbon.helpers.floatint import *\n",
    "print(\"{0.__name__} v{0.__VERSION__} ({0.__DATE__})\".format(SolTestBase))\n",
    "print(\"{0.__name__} v{0.__VERSION__} ({0.__DATE__})\".format(CarbonFloatInt32))\n",
    "print(\"{0.__name__} v{0.__VERSION__} ({0.__DATE__})\".format(CarbonOrderUI))\n",
    "print(\"{0.__name__} v{0.__VERSION__} ({0.__DATE__})\".format(P))\n",
    "from math import log2, floor, ceil, sqrt\n",
    "print_version(require=\"2.3.3\")"
   ]
  },
  {
   "cell_type": "markdown",
   "id": "298bc7a9",
   "metadata": {},
   "source": [
    "# Solidity Curve Testing (NBTest058)\n",
    "\n",
    "we consider by source and by target **from the point of view of the TRADER**, therefore _by source_ fixes _dx_ and calculates _dy_ and vice versa.\n",
    "\n",
    "**dx from dy (\"by target\")**\n",
    "\n",
    "$$\n",
    "\\Delta x \\,(\\Delta y) = \\frac{\\Delta y z^2}{(Ay+Bz)(Ay+Bz-A\\Delta y)} =_{A=0} \\frac{\\Delta y} {B^2}\n",
    "$$\n",
    "\n",
    "\n",
    "\n",
    "**dy from dx (\"by source\")**\n",
    "\n",
    "$$\n",
    "\\Delta y \\,(\\Delta x) = \\frac{\\Delta x(Ay+Bz)^2}{A\\Delta x(Ay+Bz)+z^2} =_{A=0} \\frac{\\Delta x(Bz)^2}{z^2} = \\Delta x B^2\n",
    "$$\n",
    "\n",
    "[doc][doc]\n",
    "\n",
    "\n",
    "[doc]:https://docs.google.com/document/d/1x4ZbbS3nIRSJ0ojaOrcBhOc-_eOTga6BajDjK45o7u4/edit"
   ]
  },
  {
   "cell_type": "code",
   "execution_count": 8,
   "id": "e9faa0c6",
   "metadata": {},
   "outputs": [],
   "source": [
    "FI32 = CarbonFloatInt32\n",
    "FI40 = CarbonFloatInt40"
   ]
  },
  {
   "cell_type": "markdown",
   "id": "86af2dbe",
   "metadata": {},
   "source": [
    "## Demo and test of yzABS in CarbonOrderUI and pair decimals"
   ]
  },
  {
   "cell_type": "code",
   "execution_count": 9,
   "id": "be619dd8",
   "metadata": {},
   "outputs": [
    {
     "data": {
      "text/plain": [
       "P('ETH/USDC').sd(18,6)"
      ]
     },
     "execution_count": 9,
     "metadata": {},
     "output_type": "execute_result"
    }
   ],
   "source": [
    "ETHUSDC = P(\"ETH/USDC\").sd(18,6)\n",
    "assert ETHUSDC.decimals == {'ETH': 18, 'USDC': 6, '_TKNB': 18, '_TKNQ': 6, '_DIFFQB': -12}\n",
    "assert ETHUSDC.decdiffqb == -12\n",
    "assert P(ETHUSDC).has_decimals\n",
    "assert ETHUSDC.price_convention == 'USDC per ETH'\n",
    "ETHUSDC"
   ]
  },
  {
   "cell_type": "code",
   "execution_count": 10,
   "id": "c7f1abd9",
   "metadata": {},
   "outputs": [
    {
     "name": "stdout",
     "output_type": "stream",
     "text": [
      "[yzABS] pair=P('ETH/USDC').sd(18,6), y=ETH(18), x=USDC(6)\n",
      "[yzABS] scale = 2**10 = 1024\n",
      "[yzABS] y=0.5 -> y_wei=5e+17 [ETH-wei]\n",
      "[yzABS] yint=1 -> z_wei=1000000000000000000 [ETH-wei]\n",
      "[yzABS] pa_raw=0.0006666666666666666 ETH per USDC -> 666666666 ETH-wei per USDC-wei\n",
      "[yzABS] pb_raw=0.0005 ETH per USDC -> 500000000 ETH-wei per USDC-wei\n",
      "[yzABS] a=0.0034592091997182155 -> 3459.2091997182156 * scale = 3542230\n",
      "[yzABS] b=0.022360679774997897 -> 22360.679774997898 * scale = 22897336\n",
      "[yzABS] yzABS = yzABSdata(y=5e+17, z=1000000000000000000, A=3542230, B=22897336, S=1024)\n"
     ]
    }
   ],
   "source": [
    "oui = CarbonOrderUI.from_prices(ETHUSDC, \"ETH\", 1500, 2000, 1, 0.5)\n",
    "r = oui.yzABS(sx=10, verbose=True)\n",
    "ddf, ddf2 = 10**12, 10**6\n",
    "assert r.y == 0.5 * 10**18\n",
    "assert r.z == 10**18\n",
    "assert r.A == int(oui.S * ddf2 * r.S)\n",
    "assert r.B == int(oui.B * ddf2 * r.S)\n",
    "assert r.S == 2**10\n",
    "assert oui.descr() == 'Sell ETH buy USDC from 1500.0000 to 2000.0000 USDC per ETH'"
   ]
  },
  {
   "cell_type": "code",
   "execution_count": 11,
   "id": "be7cecb1",
   "metadata": {},
   "outputs": [
    {
     "name": "stdout",
     "output_type": "stream",
     "text": [
      "[yzABS] pair=P('ETH/USDC').sd(18,6), y=USDC(6), x=ETH(18)\n",
      "[yzABS] scale = 2**40 = 1099511627776\n",
      "[yzABS] y=790 -> y_wei=790000000 [USDC-wei]\n",
      "[yzABS] yint=1100 -> z_wei=1100000000 [USDC-wei]\n",
      "[yzABS] pa_raw=1000.0 USDC per ETH -> 0 USDC-wei per ETH-wei\n",
      "[yzABS] pb_raw=500.00000000000006 USDC per ETH -> 0 USDC-wei per ETH-wei\n",
      "[yzABS] a=9.262096826685895 -> 9.262096826685894e-06 * scale = 10183783\n",
      "[yzABS] b=22.360679774997898 -> 2.2360679774997898e-05 * scale = 24585827\n",
      "[yzABS] yzABS = yzABSdata(y=790000000, z=1100000000, A=10183783, B=24585827, S=1099511627776)\n"
     ]
    }
   ],
   "source": [
    "oui = CarbonOrderUI.from_prices(ETHUSDC, \"USDC\", 1000, 500, 1100, 790)\n",
    "r = oui.yzABS(sx=40, verbose=True)\n",
    "ddf, ddf2 = 10**-12, 10**-6\n",
    "assert r.y == 790 * 10**6\n",
    "assert r.z == 1100 * 10**6\n",
    "assert r.A == int(oui.S * ddf2 * r.S)\n",
    "assert r.B == int(oui.B * ddf2 * r.S)\n",
    "assert r.S == 2**40"
   ]
  },
  {
   "cell_type": "markdown",
   "id": "54505811",
   "metadata": {},
   "source": [
    "## Sundry tests of other carbonui stuff"
   ]
  },
  {
   "cell_type": "code",
   "execution_count": 12,
   "id": "06ccf350",
   "metadata": {},
   "outputs": [
    {
     "ename": "TypeError",
     "evalue": "tuple expected at most 1 argument, got 5",
     "output_type": "error",
     "traceback": [
      "\u001b[0;31m---------------------------------------------------------------------------\u001b[0m",
      "\u001b[0;31mTypeError\u001b[0m                                 Traceback (most recent call last)",
      "\u001b[0;32m<ipython-input-12-5db2811a91d7>\u001b[0m in \u001b[0;36m<module>\u001b[0;34m\u001b[0m\n\u001b[1;32m     23\u001b[0m \u001b[0;32massert\u001b[0m \u001b[0moui\u001b[0m\u001b[0;34m.\u001b[0m\u001b[0mprice_convention\u001b[0m \u001b[0;34m==\u001b[0m \u001b[0moui\u001b[0m\u001b[0;34m.\u001b[0m\u001b[0mpair\u001b[0m\u001b[0;34m.\u001b[0m\u001b[0mprice_convention\u001b[0m\u001b[0;34m\u001b[0m\u001b[0;34m\u001b[0m\u001b[0m\n\u001b[1;32m     24\u001b[0m \u001b[0;32massert\u001b[0m \u001b[0moui\u001b[0m\u001b[0;34m.\u001b[0m\u001b[0mprice_convention\u001b[0m \u001b[0;34m==\u001b[0m \u001b[0moui\u001b[0m\u001b[0;34m.\u001b[0m\u001b[0mprice_convention_raw\u001b[0m\u001b[0;34m\u001b[0m\u001b[0;34m\u001b[0m\u001b[0m\n\u001b[0;32m---> 25\u001b[0;31m \u001b[0;32massert\u001b[0m \u001b[0moui\u001b[0m\u001b[0;34m.\u001b[0m\u001b[0myzABS\u001b[0m\u001b[0;34m(\u001b[0m\u001b[0;36m32\u001b[0m\u001b[0;34m)\u001b[0m\u001b[0;34m.\u001b[0m\u001b[0mastuple\u001b[0m \u001b[0;34m==\u001b[0m \u001b[0;34m(\u001b[0m\u001b[0;36m790000000\u001b[0m\u001b[0;34m,\u001b[0m \u001b[0;36m1100000000\u001b[0m\u001b[0;34m,\u001b[0m \u001b[0;36m39780\u001b[0m\u001b[0;34m,\u001b[0m \u001b[0;36m96038\u001b[0m\u001b[0;34m,\u001b[0m \u001b[0;36m4294967296\u001b[0m\u001b[0;34m)\u001b[0m\u001b[0;34m\u001b[0m\u001b[0;34m\u001b[0m\u001b[0m\n\u001b[0m\u001b[1;32m     26\u001b[0m \u001b[0;32massert\u001b[0m \u001b[0mr\u001b[0m \u001b[0;32mis\u001b[0m \u001b[0moui\u001b[0m\u001b[0;34m\u001b[0m\u001b[0;34m\u001b[0m\u001b[0m\n\u001b[1;32m     27\u001b[0m \u001b[0;32mtry\u001b[0m\u001b[0;34m:\u001b[0m\u001b[0;34m\u001b[0m\u001b[0;34m\u001b[0m\u001b[0m\n",
      "\u001b[0;32m~/REPOES/Bancor/CarbonSimulator/resources/NBTest/carbon/carbon_order_ui.py\u001b[0m in \u001b[0;36mastuple\u001b[0;34m(self)\u001b[0m\n\u001b[1;32m   1211\u001b[0m     \u001b[0;34m@\u001b[0m\u001b[0mproperty\u001b[0m\u001b[0;34m\u001b[0m\u001b[0;34m\u001b[0m\u001b[0m\n\u001b[1;32m   1212\u001b[0m     \u001b[0;32mdef\u001b[0m \u001b[0mastuple\u001b[0m\u001b[0;34m(\u001b[0m\u001b[0mself\u001b[0m\u001b[0;34m)\u001b[0m\u001b[0;34m:\u001b[0m\u001b[0;34m\u001b[0m\u001b[0;34m\u001b[0m\u001b[0m\n\u001b[0;32m-> 1213\u001b[0;31m         \u001b[0;32mreturn\u001b[0m \u001b[0;34m(\u001b[0m\u001b[0mself\u001b[0m\u001b[0;34m.\u001b[0m\u001b[0my\u001b[0m\u001b[0;34m,\u001b[0m \u001b[0mself\u001b[0m\u001b[0;34m.\u001b[0m\u001b[0mz\u001b[0m\u001b[0;34m,\u001b[0m \u001b[0mself\u001b[0m\u001b[0;34m.\u001b[0m\u001b[0mA\u001b[0m\u001b[0;34m,\u001b[0m \u001b[0mself\u001b[0m\u001b[0;34m.\u001b[0m\u001b[0mB\u001b[0m\u001b[0;34m,\u001b[0m \u001b[0mself\u001b[0m\u001b[0;34m.\u001b[0m\u001b[0mS\u001b[0m\u001b[0;34m)\u001b[0m\u001b[0;34m\u001b[0m\u001b[0;34m\u001b[0m\u001b[0m\n\u001b[0m\u001b[1;32m   1214\u001b[0m \u001b[0;34m\u001b[0m\u001b[0m\n\u001b[1;32m   1215\u001b[0m     \u001b[0;34m@\u001b[0m\u001b[0mproperty\u001b[0m\u001b[0;34m\u001b[0m\u001b[0;34m\u001b[0m\u001b[0m\n",
      "\u001b[0;31mTypeError\u001b[0m: tuple expected at most 1 argument, got 5"
     ]
    }
   ],
   "source": [
    "oui = CarbonOrderUI.from_prices(P(\"ETH/USDC\").sd(18,6), \"USDC\", 1000, 500, 1100, 790)\n",
    "r = oui.set_id(1)\n",
    "assert oui.tkn == \"USDC\"\n",
    "assert oui.tkny == oui.tkn\n",
    "assert oui.tknx == \"ETH\"\n",
    "assert oui.pair.slashpair == \"ETH/USDC\"\n",
    "assert abs(oui.S/9.262096826685895-1) < 1e-10\n",
    "assert abs(oui.B/22.360679774997898-1) < 1e-10\n",
    "assert oui.S is oui.A\n",
    "assert abs(oui.pa/1000-1) < 1e-10\n",
    "assert abs(oui.pa_raw/1000-1) < 1e-10\n",
    "assert oui.p_start == oui.pa\n",
    "assert oui.py == oui.pa\n",
    "assert abs(oui.pb/500-1) < 1e-10\n",
    "assert abs(oui.pb_raw/500-1) < 1e-10\n",
    "assert oui.p_end == oui.pb\n",
    "assert oui.py == oui.py\n",
    "assert abs(oui.yint/1100-1) < 1e-10\n",
    "assert abs(oui.y/790-1) < 1e-10\n",
    "assert oui.y == oui.z\n",
    "assert oui.total_liquidity == (790, 'USDC')\n",
    "assert oui.price_convention == 'USDC per ETH'\n",
    "assert oui.price_convention == oui.pair.price_convention\n",
    "assert oui.price_convention == oui.price_convention_raw\n",
    "assert oui.yzABS(32).astuple == (790000000, 1100000000, 39780, 96038, 4294967296)\n",
    "assert r is oui\n",
    "try:\n",
    "    oui.set_id(1)\n",
    "    raise\n",
    "except ValueError as e:\n",
    "    print(e)"
   ]
  },
  {
   "cell_type": "code",
   "execution_count": null,
   "id": "2f70421c",
   "metadata": {},
   "outputs": [],
   "source": [
    "oui.price_convention_raw"
   ]
  },
  {
   "cell_type": "code",
   "execution_count": null,
   "id": "78c2fc0c",
   "metadata": {},
   "outputs": [],
   "source": [
    "oui2 = CarbonOrderUI.from_prices(P(\"ETH/USDC\").sd(18,6), \"ETH\", 1500, 2000, 2, 1)\n",
    "oui2.set_id(2)\n",
    "r  = oui.set_linked(oui2)\n",
    "r2 = oui2.set_linked(oui)  # sets linked here and creates backlink\n",
    "assert oui2.tkn == \"ETH\"\n",
    "assert oui2.tkny == oui2.tkn\n",
    "assert oui2.tknx == \"USDC\"\n",
    "assert oui2.pair.slashpair == \"ETH/USDC\"\n",
    "assert abs(oui2.S/0.0034592091997182155-1) < 1e-10\n",
    "assert abs(oui2.B/0.022360679774997897-1) < 1e-10\n",
    "assert oui2.S is oui2.A\n",
    "assert abs(oui2.pa/1500-1) < 1e-10\n",
    "assert abs(oui2.pa_raw/0.0006666666666666666-1) < 1e-10\n",
    "assert oui2.p_start == oui2.pa\n",
    "assert oui2.py == oui2.pa\n",
    "assert abs(oui2.pb/2000-1) < 1e-10\n",
    "assert abs(oui2.pb_raw/0.0005-1) < 1e-10\n",
    "assert oui2.p_end == oui2.pb\n",
    "assert oui2.py == oui2.py\n",
    "assert abs(oui2.yint/2-1) < 1e-10\n",
    "assert abs(oui2.y/1-1) < 1e-10\n",
    "assert oui2.y == oui2.z\n",
    "assert oui2.total_liquidity == (1, 'ETH')\n",
    "assert oui2.price_convention == 'USDC per ETH'\n",
    "assert oui2.price_convention == oui2.pair.price_convention\n",
    "assert oui2.price_convention != oui2.price_convention_raw\n",
    "assert oui2.price_convention_raw == \"ETH per USDC\"\n",
    "assert oui2.yzABS(32).astuple == (1000000000000000000, 2000000000000000000, 14857190382812, 96038388349944, 4294967296)\n",
    "assert oui2.yzABS(32).asdict == {\n",
    "    'y': 1000000000000000000,\n",
    "    'z': 2000000000000000000,\n",
    "    'A': 14857190382812,\n",
    "    'B': 96038388349944,\n",
    "    'S': 4294967296\n",
    "}\n",
    "assert r is oui\n",
    "assert r2 is oui2\n",
    "try:\n",
    "    oui2.set_linked(oui)\n",
    "    raise\n",
    "except ValueError as e:\n",
    "    print(e)"
   ]
  },
  {
   "cell_type": "code",
   "execution_count": null,
   "id": "bb206f8c-488e-411f-a2f5-0e5a8ac849c2",
   "metadata": {},
   "outputs": [],
   "source": [
    "oui2.yzABS(32).asdict"
   ]
  },
  {
   "cell_type": "code",
   "execution_count": null,
   "id": "2a7a943f",
   "metadata": {},
   "outputs": [],
   "source": [
    "assert oui.lid == 2\n",
    "assert oui2.lid == 1"
   ]
  },
  {
   "cell_type": "markdown",
   "id": "936667ae",
   "metadata": {},
   "source": [
    "## Demo [NOTEST]"
   ]
  },
  {
   "cell_type": "markdown",
   "id": "928eedf0",
   "metadata": {},
   "source": [
    "### Trade functions"
   ]
  },
  {
   "cell_type": "code",
   "execution_count": null,
   "id": "6404797e",
   "metadata": {},
   "outputs": [],
   "source": [
    "mulDivF = lambda x, y, z: (x * y) // z\n",
    "mulDiv = mulDivF\n",
    "mulDivC = lambda x, y, z: (x * y + z - 1) // z"
   ]
  },
  {
   "cell_type": "markdown",
   "id": "093aafad-4921-4a94-8216-2c57bd4b8080",
   "metadata": {},
   "source": [
    "#### trade_by_source_dy_from_dx"
   ]
  },
  {
   "cell_type": "code",
   "execution_count": null,
   "id": "5a699580",
   "metadata": {},
   "outputs": [],
   "source": [
    "def trade_by_source_dy_from_dx(params, C):\n",
    "\n",
    "    dx = params[0]\n",
    "    y,z,A,B,s = params[1]\n",
    "    print(params)\n",
    "    ONE = s\n",
    "    temp1 = C(y * A + z * B, \"temp1\")               # 177 bits at most; cannot overflow\n",
    "    temp2 = C(temp1 * dx / ONE, \"temp2\")            # 224 bits at most; can overflow; some precision loss\n",
    "    temp3 = C(temp2 * A + z * z * ONE, \"temp3\")     # 256 bits at most; can overflow\n",
    "    dy = mulDiv(temp1, temp2, temp3)\n",
    "    print(dx, temp1, temp2, temp3, dy)\n",
    "    return dy"
   ]
  },
  {
   "cell_type": "code",
   "execution_count": null,
   "id": "435238ec-fb74-42a0-8542-3f5ef82a317c",
   "metadata": {},
   "outputs": [],
   "source": [
    "# temp1 = z * ONE\n",
    "# temp2 = y * A + z * B\n",
    "# temp3 = temp2 * dy\n",
    "# scale = mulDivC(temp3, A, 2**256-1)\n",
    "# temp4 = mulDivC(temp1, temp1, scale)\n",
    "# temp5 = mulDivC(temp3, A, scale)\n",
    "# dx    = mulDivF(temp2, temp3 // scale, temp4 + temp5)"
   ]
  },
  {
   "cell_type": "markdown",
   "id": "bc98ce4d",
   "metadata": {},
   "source": [
    "#### trade_by_target_dx_from_dy\n",
    "\n",
    "this one is SKL version of the fixed code"
   ]
  },
  {
   "cell_type": "code",
   "execution_count": null,
   "id": "f1ff618a",
   "metadata": {},
   "outputs": [],
   "source": [
    "def trade_by_target_dx_from_dy(params, C):\n",
    "\n",
    "    dy = params[0]\n",
    "    y,z,A,B,s = params[1]\n",
    "    print(params)\n",
    "    ONE = s\n",
    "    temp1 = C(z * ONE, \"temp1\")                  \n",
    "    temp2 = C(y * A + z * B, \"temp2\")         \n",
    "    temp3 = C(temp2 - dy * A, \"temp3\")        \n",
    "    scale = mulDiv(temp2, temp3, 2**255)+1\n",
    "    temp1s = C(temp1//scale, \"temp1s\")\n",
    "    temp2s = C(temp2//scale, \"temp2s\")\n",
    "    dx = mulDiv(\n",
    "        C(dy*temp1s, \"dx*temp1s\"), \n",
    "        temp1, \n",
    "        C(temp2s*temp3, \"temp2s*temp3\")\n",
    "    )\n",
    "    print(dy, dx*temp1s, temp1, temp2s*temp3, dx)\n",
    "    return dx"
   ]
  },
  {
   "cell_type": "markdown",
   "id": "e84b548f",
   "metadata": {},
   "source": [
    "this is BM version of the fixed code"
   ]
  },
  {
   "cell_type": "code",
   "execution_count": null,
   "id": "69288344",
   "metadata": {},
   "outputs": [],
   "source": [
    "# # trade_by_target_dx_from_dy\n",
    "# mulDivF = lambda x, y, z: x * y // z\n",
    "# mulDivC = lambda x, y, z: (x * y + z - 1) // z\n",
    "\n",
    "# temp1 = z * ONE\n",
    "# temp2 = y * A + z * B\n",
    "# temp3 = temp2 - dx * A\n",
    "# scale = mulDivC(temp2, temp3, 2**256-1)\n",
    "# temp4 = mulDivC(temp1, temp1, scale)\n",
    "# temp5 = mulDivF(temp2, temp3, scale)\n",
    "# dy    = mulDivC(dx, temp4, temp5)"
   ]
  },
  {
   "cell_type": "markdown",
   "id": "7a6f216d",
   "metadata": {},
   "source": [
    "that's the previous, failing, version of the code"
   ]
  },
  {
   "cell_type": "code",
   "execution_count": null,
   "id": "5fa8121d",
   "metadata": {},
   "outputs": [],
   "source": [
    "def trade_by_target_dx_from_dy_old(params, C):\n",
    "\n",
    "    dy = params[0]\n",
    "    y,z,A,B,s = params[1]\n",
    "    ONE = s\n",
    "    temp1 = C(z * ONE, \"temp1\")                  \n",
    "    temp2 = C(y * A + z * B, \"temp2\")         \n",
    "    temp3 = C(temp2 - dy * A, \"temp3\")        \n",
    "    dx = mulDiv(\n",
    "        C(dy*temp1, \"dy*temp1\"), \n",
    "        temp1, \n",
    "        C(temp2*temp3, \"temp2*temp3\")\n",
    "    ) \n",
    "    print(dy, dy*temp1, temp1, temp2*temp3, dx)\n",
    "    return dx"
   ]
  },
  {
   "cell_type": "markdown",
   "id": "bf55ed35",
   "metadata": {},
   "source": [
    "### Analysis"
   ]
  },
  {
   "cell_type": "code",
   "execution_count": null,
   "id": "660bcf7e",
   "metadata": {},
   "outputs": [],
   "source": [
    "class STB(SolTestBase):\n",
    "    #PRINT_LVL_DEFAULT = SolTestBase.LVL_LOG\n",
    "    PRINT_LVL_DEFAULT = SolTestBase.LVL_WARN\n",
    "VERBOSE = False"
   ]
  },
  {
   "cell_type": "markdown",
   "id": "d00a808d",
   "metadata": {},
   "source": [
    "#### TKN/DAI -- same decimality, same reasonable price"
   ]
  },
  {
   "cell_type": "code",
   "execution_count": null,
   "id": "91035da6",
   "metadata": {},
   "outputs": [],
   "source": [
    "TKNDAI = P(\"TKN/DAI\").sd(18,18)\n",
    "price = 5  # DAI per TKN\n",
    "oui = CarbonOrderUI.from_prices(TKNDAI, \"TKN\", price, price, 1000, 1000)\n",
    "c = curve = oui.yzABS(sx=40, verbose=VERBOSE)"
   ]
  },
  {
   "cell_type": "code",
   "execution_count": null,
   "id": "47f40d52",
   "metadata": {},
   "outputs": [],
   "source": [
    "params_bysrc  = (1e18, curve) # dy = wei sent (by source, 1 TKN)\n",
    "dx = trade_by_target_dx_from_dy( params_bysrc, STB(context=(\"by_source\", curve)))\n",
    "dx/1e18 # 1 TKN -> 5 DAI ==> 5 DAI per TKN"
   ]
  },
  {
   "cell_type": "code",
   "execution_count": null,
   "id": "22b1e2e0",
   "metadata": {},
   "outputs": [],
   "source": [
    "params_bytarg = (5e18, curve)       # dx = token wei received (target, DAI)\n",
    "dy = trade_by_source_dy_from_dx( params_bytarg, STB(context=(\"by_target\", curve)) )\n",
    "dy/1e18 # 1 TKN ->  5 DAI --> 5 DAI per TKN"
   ]
  },
  {
   "cell_type": "markdown",
   "id": "44cbce08",
   "metadata": {},
   "source": [
    "#### ETH/USDC -- y=ETH, x=USDC"
   ]
  },
  {
   "cell_type": "code",
   "execution_count": null,
   "id": "350ecb5c",
   "metadata": {},
   "outputs": [],
   "source": [
    "ETHUSDC = P(\"ETH/USDC\").sd(18,6)\n",
    "oui = CarbonOrderUI.from_prices(ETHUSDC, \"ETH\", 2000, 2000, 1, 0.5)\n",
    "curve = oui.yzABS(sx=40, verbose=VERBOSE)"
   ]
  },
  {
   "cell_type": "code",
   "execution_count": null,
   "id": "31c02030",
   "metadata": {},
   "outputs": [],
   "source": [
    "params_bysrc  = (1*1e18, curve) # dy = token wei sent (by source, 1 ETH)\n",
    "dx = trade_by_target_dx_from_dy( params_bysrc, STB(context=(\"by_source\", curve)))\n",
    "dx/1e6 # 1 ETH -> 2000 USDC"
   ]
  },
  {
   "cell_type": "code",
   "execution_count": null,
   "id": "3bc18bb0",
   "metadata": {},
   "outputs": [],
   "source": [
    "params_bytarg = (2000*1e6, curve)       # dx = token wei received (target, USDC)\n",
    "dy = trade_by_source_dy_from_dx( params_bytarg, STB(context=(\"by_target\", curve)) )\n",
    "dy/1e18 # 1 ETH -> 2000 USDC"
   ]
  },
  {
   "cell_type": "markdown",
   "id": "6380aa9b",
   "metadata": {},
   "source": [
    "#### ETH/USDC -- y=USDC, x=ETH"
   ]
  },
  {
   "cell_type": "code",
   "execution_count": null,
   "id": "aa9ea262",
   "metadata": {},
   "outputs": [],
   "source": [
    "oui = CarbonOrderUI.from_prices(ETHUSDC, \"USDC\", 1000, 1000, 750, 750)\n",
    "curve = oui.yzABS(sx=40, verbose=VERBOSE)\n",
    "print(curve)"
   ]
  },
  {
   "cell_type": "code",
   "execution_count": null,
   "id": "a0d3d657",
   "metadata": {},
   "outputs": [],
   "source": [
    "params_bysrc  = (1000*1e6, curve)       # dy = USDC-wei\n",
    "dx = trade_by_target_dx_from_dy( params_bysrc, STB(context=(\"by_source\", curve)) )\n",
    "dx/1e18 # 1000 USDC -> 1 ETH"
   ]
  },
  {
   "cell_type": "code",
   "execution_count": null,
   "id": "1b488074",
   "metadata": {},
   "outputs": [],
   "source": [
    "params_bytarg = (1e18, curve)  # dx = ETH-wei\n",
    "dy = trade_by_source_dy_from_dx( params_bytarg, STB(context=(\"by_target\", curve)) )\n",
    "dy/1e6 # 1000 USDC -> 1 ETH"
   ]
  },
  {
   "cell_type": "markdown",
   "id": "75b963cf",
   "metadata": {},
   "source": [
    "#### SHIB/USDC -- y=SHIB, x=USDC"
   ]
  },
  {
   "cell_type": "code",
   "execution_count": null,
   "id": "157b0558",
   "metadata": {},
   "outputs": [],
   "source": [
    "SHIBUSDC = P(\"SHIB/USDC\").sd(18,6)\n",
    "price = 1e-5\n",
    "oui = CarbonOrderUI.from_prices(SHIBUSDC, \"SHIB\", price, price, 2e5, 2e5)\n",
    "curve = oui.yzABS(sx=40, verbose=VERBOSE)\n",
    "print(curve)"
   ]
  },
  {
   "cell_type": "code",
   "execution_count": null,
   "id": "1fe9d898",
   "metadata": {},
   "outputs": [],
   "source": [
    "params_bysrc  = (1*1e5*1e18, curve)      # dy = SHIB-wei (1 USD worth of SHIB)\n",
    "dx = trade_by_target_dx_from_dy( params_bysrc, STB(context=(\"by_source\", curve)) )\n",
    "dx / 1e6 # 1e5 SHIB -> 1 USDC"
   ]
  },
  {
   "cell_type": "code",
   "execution_count": null,
   "id": "8e9d1a6a",
   "metadata": {},
   "outputs": [],
   "source": [
    "params_bytarg = (1*1e6, curve) # dx = USDC-wei\n",
    "dy = trade_by_source_dy_from_dx( params_bytarg, STB(context=(\"by_target\", curve)) )\n",
    "dy/1e18 # 1e5 SHIB -> 1 USDC"
   ]
  },
  {
   "cell_type": "markdown",
   "id": "0aed811f",
   "metadata": {},
   "source": [
    "#### Nick's example DAI/USDC -- Selling DAI"
   ]
  },
  {
   "cell_type": "code",
   "execution_count": null,
   "id": "c216ea64",
   "metadata": {},
   "outputs": [],
   "source": [
    "DAIUSDC = P(\"DAI/USDC\").sd(18,6)\n",
    "price = 1\n",
    "oui = CarbonOrderUI.from_prices(DAIUSDC, \"DAI\", price, price, 1e5, 1e5)\n",
    "curve = oui.yzABS(sx=40, verbose=VERBOSE)\n",
    "print(curve)"
   ]
  },
  {
   "cell_type": "code",
   "execution_count": null,
   "id": "d7351d10",
   "metadata": {
    "lines_to_next_cell": 2
   },
   "outputs": [],
   "source": [
    "params_bysrc  = (1*1e18, curve)        # dy = DAI-wei\n",
    "dx = trade_by_target_dx_from_dy( params_bysrc, STB(context=(\"by_source\", curve)) )\n",
    "dx/1e6 # 1 DAI -> 1 USDC"
   ]
  },
  {
   "cell_type": "code",
   "execution_count": null,
   "id": "dde32b20",
   "metadata": {
    "lines_to_next_cell": 2
   },
   "outputs": [],
   "source": [
    "params_bytarg = (1*1e6, curve)  # dx = USDC-wei\n",
    "dy = trade_by_source_dy_from_dx( params_bytarg, STB(context=(\"by_target\", curve)) )\n",
    "dy / 1e18 # 1 DAI -> 1 USDC"
   ]
  },
  {
   "cell_type": "markdown",
   "id": "cc9e6144",
   "metadata": {},
   "source": [
    "#### Nick's example DAI/USDC -- Selling USDC"
   ]
  },
  {
   "cell_type": "code",
   "execution_count": null,
   "id": "5bf43781",
   "metadata": {},
   "outputs": [],
   "source": [
    "SHIBUSDC = P(\"DAI/USDC\").sd(18,6)\n",
    "price = 1\n",
    "oui = CarbonOrderUI.from_prices(SHIBUSDC, \"USDC\", price, price, 1e5, 1e5)\n",
    "curve = oui.yzABS(sx=40, verbose=VERBOSE)"
   ]
  },
  {
   "cell_type": "code",
   "execution_count": null,
   "id": "88743d3d",
   "metadata": {},
   "outputs": [],
   "source": [
    "params_bysrc  = (1*1e6, curve)       # dy = USDC-wei\n",
    "dx = trade_by_target_dx_from_dy( params_bysrc, STB(context=(\"by_source\", curve)) )\n",
    "dx/1e18"
   ]
  },
  {
   "cell_type": "code",
   "execution_count": null,
   "id": "aa96fd11",
   "metadata": {},
   "outputs": [],
   "source": [
    "params_bytarg = (1e18, curve)      # dx = DAI-wei\n",
    "dy = trade_by_source_dy_from_dx( params_bytarg, STB(context=(\"by_target\", curve)) )\n",
    "dy/1e6"
   ]
  },
  {
   "cell_type": "markdown",
   "id": "de54a051",
   "metadata": {},
   "source": [
    "## More examples [NOTEST]"
   ]
  },
  {
   "cell_type": "code",
   "execution_count": null,
   "id": "a11401b8",
   "metadata": {},
   "outputs": [],
   "source": [
    "class STB(SolTestBase):\n",
    "    PRINT_LVL_DEFAULT = SolTestBase.LVL_LOG\n",
    "    #PRINT_LVL_DEFAULT = SolTestBase.LVL_WARN\n",
    "VERBOSE = True"
   ]
  },
  {
   "cell_type": "markdown",
   "id": "8031da11",
   "metadata": {},
   "source": [
    "### DAI/USDC"
   ]
  },
  {
   "cell_type": "code",
   "execution_count": null,
   "id": "d66ee2c3",
   "metadata": {},
   "outputs": [],
   "source": [
    "PAIR = P(\"DAI/USDC\").sd(18,6)\n",
    "price = 1\n",
    "oui = CarbonOrderUI.from_prices(PAIR, \"USDC\", price, price, 1e5, 1e5)\n",
    "curve = oui.yzABS(sx=40, verbose=VERBOSE)\n",
    "curve"
   ]
  },
  {
   "cell_type": "code",
   "execution_count": null,
   "id": "32a70f1d",
   "metadata": {},
   "outputs": [],
   "source": [
    "params  = (1*1e6, curve)       # dy = USDC-wei\n",
    "dx = trade_by_target_dx_from_dy( params, STB(context=(\"by_source\", curve)) )\n",
    "dx/1e18"
   ]
  },
  {
   "cell_type": "code",
   "execution_count": null,
   "id": "bb98c972",
   "metadata": {},
   "outputs": [],
   "source": [
    "params = (1e18, curve)      # dx = DAI-wei\n",
    "dy = trade_by_source_dy_from_dx( params, STB(context=(\"by_target\", curve)) )\n",
    "dy/1e6"
   ]
  },
  {
   "cell_type": "markdown",
   "id": "d6b0c900",
   "metadata": {},
   "source": [
    "### SHIB/USDC"
   ]
  },
  {
   "cell_type": "code",
   "execution_count": null,
   "id": "cf2c00e6",
   "metadata": {},
   "outputs": [],
   "source": [
    "PAIR = P(\"SHIB/USDC\").sd(18,6)\n",
    "price = 1e-5 # SHIB per USDC\n",
    "oui = CarbonOrderUI.from_prices(PAIR, \"SHIB\", price, price, 1e10, 1e10)\n",
    "curve = oui.yzABS(sx=40, verbose=VERBOSE)\n",
    "curve"
   ]
  },
  {
   "cell_type": "code",
   "execution_count": null,
   "id": "d8d030dd",
   "metadata": {},
   "outputs": [],
   "source": [
    "params  = (1*1e5*1e18, curve)       # dy = SHIB-wei\n",
    "dx = trade_by_target_dx_from_dy( params, STB(context=(\"by_source\", curve)) )\n",
    "dx/1e6"
   ]
  },
  {
   "cell_type": "code",
   "execution_count": null,
   "id": "7be74988",
   "metadata": {},
   "outputs": [],
   "source": [
    "params = (1e6, curve)      # dx = USDC-wei\n",
    "dy = trade_by_source_dy_from_dx( params, STB(context=(\"by_target\", curve)) )\n",
    "dy/1e18"
   ]
  },
  {
   "cell_type": "markdown",
   "id": "7105cd5c",
   "metadata": {},
   "source": [
    "### SHIB/BTC (selling SHIB)"
   ]
  },
  {
   "cell_type": "code",
   "execution_count": null,
   "id": "58cd7b4f",
   "metadata": {},
   "outputs": [],
   "source": [
    "PAIR = P(\"SHIB/BTC\").sd(18,8)\n",
    "price = 1e-5 * 1e-5 # SHIB per BTC # 1e10 USD\n",
    "capacity = 1000 * 1e10 # 1000 BTC\n",
    "oui = CarbonOrderUI.from_prices(PAIR, \"SHIB\", price, price*1.05, capacity, capacity)\n",
    "curve = oui.yzABS(sx=40, verbose=True)\n",
    "curve"
   ]
  },
  {
   "cell_type": "markdown",
   "id": "3c1d3558",
   "metadata": {},
   "source": [
    "#### Trading 1e10 SHIB -> 1 BTC"
   ]
  },
  {
   "cell_type": "code",
   "execution_count": null,
   "id": "dedcea10",
   "metadata": {},
   "outputs": [],
   "source": [
    "params  = (1*1e5*1e5*1e18, curve)       # dy = SHIB-wei (1USD)\n",
    "dx = trade_by_target_dx_from_dy( params, STB(context=(\"by_source\", curve)) )\n",
    "dx/1e8 # 1e10 SHIB = 1 BTC"
   ]
  },
  {
   "cell_type": "code",
   "execution_count": null,
   "id": "a394ad18",
   "metadata": {},
   "outputs": [],
   "source": [
    "params = (1e8, curve)      # dx = BTC-wei\n",
    "dy = trade_by_source_dy_from_dx( params, STB(context=(\"by_target\", curve)) )\n",
    "dy/1e18/1e10 #1e10 SHIB = 1 BTC"
   ]
  },
  {
   "cell_type": "markdown",
   "id": "80a523a4",
   "metadata": {},
   "source": [
    "#### Trading 1e5 SHIB -> 1e-5 BTC (1USD)"
   ]
  },
  {
   "cell_type": "code",
   "execution_count": null,
   "id": "360a72b0",
   "metadata": {},
   "outputs": [],
   "source": [
    "params  = (1*1e5*1e18, curve)       # dy = SHIB-wei (1USD)\n",
    "dx = trade_by_target_dx_from_dy( params, STB(context=(\"by_source\", curve)) )\n",
    "dx/1e8/1e-5 # 1e5 SHIB = 1e-5 BTC"
   ]
  },
  {
   "cell_type": "code",
   "execution_count": null,
   "id": "0fc0da8c",
   "metadata": {},
   "outputs": [],
   "source": [
    "params = (1e-5*1e8, curve)      # dx = BTC-wei\n",
    "dy = trade_by_source_dy_from_dx( params, STB(context=(\"by_target\", curve)) )\n",
    "dy/1e18/1e5 # 1e5 SHIB = 1e-5 BTC"
   ]
  },
  {
   "cell_type": "markdown",
   "id": "94a2c37d",
   "metadata": {},
   "source": [
    "#### Trading 1e3 SHIB -> 1e-7 BTC (0.01USD)"
   ]
  },
  {
   "cell_type": "code",
   "execution_count": null,
   "id": "cbb65377",
   "metadata": {},
   "outputs": [],
   "source": [
    "params  = (1*1e3*1e18, curve)       # dy = SHIB-wei (1USD cent)\n",
    "dx = trade_by_target_dx_from_dy( params, STB(context=(\"by_source\", curve)) )\n",
    "dx/1e8/1e-7 # 1e3 SHIB = 1e-7 BTC"
   ]
  },
  {
   "cell_type": "code",
   "execution_count": null,
   "id": "27acb844",
   "metadata": {},
   "outputs": [],
   "source": [
    "params = (1e-7*1e8, curve)      # dx = BTC-wei\n",
    "dy = trade_by_source_dy_from_dx( params, STB(context=(\"by_target\", curve)) )\n",
    "dy/1e18/1e3 # 1e3 SHIB = 1e-7 BTC"
   ]
  },
  {
   "cell_type": "markdown",
   "id": "99e916f1",
   "metadata": {},
   "source": [
    "### SHIB/BTC (selling BTC)"
   ]
  },
  {
   "cell_type": "code",
   "execution_count": null,
   "id": "c545b513",
   "metadata": {},
   "outputs": [],
   "source": [
    "PAIR = P(\"SHIB/BTC\").sd(18,8)\n",
    "price = 1e-5 * 1e-5 # SHIB per BTC\n",
    "capacity = 1000 # 1000 BTC\n",
    "oui = CarbonOrderUI.from_prices(PAIR, \"BTC\", price, price/1.05, capacity, capacity)\n",
    "curve = oui.yzABS(sx=48, verbose=True)\n",
    "curve"
   ]
  },
  {
   "cell_type": "markdown",
   "id": "c31bf72b",
   "metadata": {},
   "source": [
    "#### Trading 1 BTC -> 1e10 SHIB"
   ]
  },
  {
   "cell_type": "code",
   "execution_count": null,
   "id": "acaca529",
   "metadata": {},
   "outputs": [],
   "source": [
    "params  = (1*1e8, curve)       # dy = BTC-wei\n",
    "dx = trade_by_target_dx_from_dy( params, STB(context=(\"by_source\", curve)) )\n",
    "dx/1e18/1e10 # 1e10 SHIB <- 1 BTC"
   ]
  },
  {
   "cell_type": "code",
   "execution_count": null,
   "id": "e9c9f5d6",
   "metadata": {},
   "outputs": [],
   "source": [
    "params = (1e10*1e18, curve)      # dx = SHIB-wei\n",
    "dy = trade_by_source_dy_from_dx( params, STB(context=(\"by_target\", curve)) )\n",
    "dy/1e8 # 1e3 SHIB <- 1 BTC"
   ]
  },
  {
   "cell_type": "markdown",
   "id": "d74a01d0",
   "metadata": {},
   "source": [
    "#### Trading 1e-5 BTC -> 1e5 SHIB (1USD)"
   ]
  },
  {
   "cell_type": "code",
   "execution_count": null,
   "id": "7d4b9ff9",
   "metadata": {},
   "outputs": [],
   "source": [
    "params  = (1e-5*1e8, curve)       # dy = BTC-wei\n",
    "dx = trade_by_target_dx_from_dy( params, STB(context=(\"by_source\", curve)) )\n",
    "dx/1e18/1e5 # 1e5 SHIB <- 1e-5 BTC"
   ]
  },
  {
   "cell_type": "code",
   "execution_count": null,
   "id": "3f2acfc3",
   "metadata": {},
   "outputs": [],
   "source": [
    "params = (1e5*1e18, curve)      # dx = SHIB-wei\n",
    "dy = trade_by_source_dy_from_dx( params, STB(context=(\"by_target\", curve)) )\n",
    "dy/1e8/1e-5 # 1e3 SHIB <- 1e-5 BTC"
   ]
  },
  {
   "cell_type": "markdown",
   "id": "98be200b",
   "metadata": {},
   "source": [
    "#### Trading 1e-7 BTC -> 1e3 SHIB (0.01USD)"
   ]
  },
  {
   "cell_type": "code",
   "execution_count": null,
   "id": "cb87389b",
   "metadata": {},
   "outputs": [],
   "source": [
    "params  = (1e-7*1e8, curve)       # dy = BTC-wei\n",
    "dx = trade_by_target_dx_from_dy( params, STB(context=(\"by_source\", curve)) )\n",
    "dx/1e18/1e3 # 1e3 SHIB <- 1e-7 BTC"
   ]
  },
  {
   "cell_type": "code",
   "execution_count": null,
   "id": "3f799c13",
   "metadata": {},
   "outputs": [],
   "source": [
    "params = (1e3*1e18, curve)      # dx = SHIB-wei\n",
    "dy = trade_by_source_dy_from_dx( params, STB(context=(\"by_target\", curve)) )\n",
    "dy/1e8/1e-7 # 1e3 SHIB <- 1e-7 BTC"
   ]
  },
  {
   "cell_type": "markdown",
   "id": "4f5c6ed1",
   "metadata": {},
   "source": [
    "#### Trading 10 BTC -> 1e11 SHIB"
   ]
  },
  {
   "cell_type": "code",
   "execution_count": null,
   "id": "a900f28e",
   "metadata": {},
   "outputs": [],
   "source": [
    "params  = (10*1e8, curve)       # dy = BTC-wei\n",
    "dx = trade_by_target_dx_from_dy( params, STB(context=(\"by_source\", curve)) )\n",
    "dx/1e18/1e11 # 1e11 SHIB <- 10 BTC"
   ]
  },
  {
   "cell_type": "code",
   "execution_count": null,
   "id": "dfcbe9fd",
   "metadata": {},
   "outputs": [],
   "source": [
    "params = (1e11*1e18, curve)      # dx = SHIB-wei\n",
    "dy = trade_by_source_dy_from_dx( params, STB(context=(\"by_target\", curve)) )\n",
    "dy/1e8/10 # 1e3 SHIB <- 100 BTC"
   ]
  },
  {
   "cell_type": "markdown",
   "id": "5619b360",
   "metadata": {},
   "source": [
    "#### Trading 100 BTC -> 1e12 SHIB"
   ]
  },
  {
   "cell_type": "code",
   "execution_count": null,
   "id": "f97b760f",
   "metadata": {},
   "outputs": [],
   "source": [
    "params  = (100*1e8, curve)       # dy = BTC-wei\n",
    "dx = trade_by_target_dx_from_dy( params, STB(context=(\"by_source\", curve)) )\n",
    "dx/1e18/1e12 # 1e12 SHIB <- 100 BTC"
   ]
  },
  {
   "cell_type": "code",
   "execution_count": null,
   "id": "9873a7a1",
   "metadata": {},
   "outputs": [],
   "source": [
    "params = (1e12*1e18, curve)      # dx = SHIB-wei\n",
    "dy = trade_by_source_dy_from_dx( params, STB(context=(\"by_target\", curve)) )\n",
    "dy/1e8/100 # 1e3 SHIB <- 100 BTC"
   ]
  },
  {
   "cell_type": "markdown",
   "id": "e1370ebd",
   "metadata": {},
   "source": [
    "## SolTestBase tests"
   ]
  },
  {
   "cell_type": "code",
   "execution_count": null,
   "id": "bd20d8b2",
   "metadata": {},
   "outputs": [],
   "source": [
    "TB0 = SolTestBase()\n",
    "TBrw = SolTestBase(raise_lvl=TB0.LVL_WARN)\n",
    "TBre = SolTestBase(raise_lvl=TB0.LVL_ERR)"
   ]
  },
  {
   "cell_type": "code",
   "execution_count": null,
   "id": "f2dd4f11",
   "metadata": {
    "lines_to_next_cell": 2
   },
   "outputs": [],
   "source": [
    "try:\n",
    "    TBrw.check_uint256(1, \"testlabel\")\n",
    "    raise RuntimeError(\"should raise\")\n",
    "except TB0.UnderflowError as e:\n",
    "    print(e)\n",
    "try:\n",
    "    TBrw.check_uint256(2000, \"testlabel\")\n",
    "    raise RuntimeError(\"should raise\")\n",
    "except TB0.UnderflowWarning as e:\n",
    "    print(e)\n",
    "try:\n",
    "    TBrw.check_uint256(2**254, \"testlabel\")\n",
    "    raise RuntimeError(\"should raise\")\n",
    "except TB0.OverflowWarning as e:\n",
    "    print(e)\n",
    "try:\n",
    "    TBrw.check_uint256(2**256-1, \"testlabel\")\n",
    "    raise RuntimeError(\"should raise\")\n",
    "except TB0.OverflowWarning as e:\n",
    "    print(e)\n",
    "try:\n",
    "    TBrw.check_uint256(2**256, \"testlabel\")\n",
    "    raise RuntimeError(\"should raise\")\n",
    "except TB0.OverflowError as e:\n",
    "    print(e)"
   ]
  },
  {
   "cell_type": "code",
   "execution_count": null,
   "id": "e8fd7e32",
   "metadata": {
    "lines_to_next_cell": 2
   },
   "outputs": [],
   "source": [
    "try:\n",
    "    TBre.check_uint256(1, label=\"testlabel\")\n",
    "    raise RuntimeError(\"should raise\")\n",
    "except TBre.UnderflowError as e:\n",
    "    print(e)\n",
    "assert TBre.check_uint256(2000, label=\"testlabel\") == 2000\n",
    "assert TBre.check_uint256(2**254, label=\"testlabel\") == 2**254\n",
    "assert TBre.check_uint256(2**256-1, label=\"testlabel\") == 2**256-1\n",
    "try:\n",
    "    TBre.check_uint256(2**256, label=\"testlabel\")\n",
    "    raise RuntimeError(\"should raise\")\n",
    "except TBre.OverflowError as e:\n",
    "    print(e)"
   ]
  },
  {
   "cell_type": "code",
   "execution_count": null,
   "id": "d0cb42ea",
   "metadata": {},
   "outputs": [],
   "source": [
    "assert TB0.check_uint256(1, log_f=TB0.print_f) == 1\n",
    "assert TB0.check_uint256(2000, log_f=TB0.print_f) == 2000\n",
    "assert TB0.check_uint256(2**254, log_f=TB0.print_f) == 2**254\n",
    "assert TB0.check_uint256(2**256-1, log_f=TB0.print_f) == 2**256-1\n",
    "assert TB0.check_uint256(2**256, log_f=TB0.print_f) == 2**256"
   ]
  },
  {
   "cell_type": "code",
   "execution_count": null,
   "id": "8417ab80",
   "metadata": {},
   "outputs": [],
   "source": [
    "assert TB0._logmsg(level=TB0.LVL_WARN, isoverflow=True, label=\"1\", msg=\"\") == '[WARNING:OVERFLOW:1] '\n",
    "assert TB0._logmsg(TB0.LVL_ERR, False, \"mylabel\", \"mymessage\") == '[ERROR:UNDERFLOW:MYLABEL] mymessage'\n",
    "TB0.print_f(False, False, \"mylabel\", \"mymessage\")"
   ]
  },
  {
   "cell_type": "code",
   "execution_count": null,
   "id": "1367681b",
   "metadata": {},
   "outputs": [],
   "source": [
    "assert TB0.bindig(0) == 0\n",
    "assert TB0.bindig(1) == 1\n",
    "assert TB0.bindig(2) == 2\n",
    "assert TB0.bindig(3) == 2\n",
    "assert TB0.bindig(2**10) == 11\n",
    "assert TB0.bindig(2**10+1) == 11\n",
    "assert TB0.bindig(2**10-1) == 10"
   ]
  },
  {
   "cell_type": "code",
   "execution_count": null,
   "id": "1fc7e74a",
   "metadata": {},
   "outputs": [],
   "source": []
  }
 ],
 "metadata": {
  "jupytext": {
   "formats": "ipynb,py:light"
  },
  "kernelspec": {
   "display_name": "Python 3",
   "language": "python",
   "name": "python3"
  },
  "language_info": {
   "codemirror_mode": {
    "name": "ipython",
    "version": 3
   },
   "file_extension": ".py",
   "mimetype": "text/x-python",
   "name": "python",
   "nbconvert_exporter": "python",
   "pygments_lexer": "ipython3",
   "version": "3.8.8"
  }
 },
 "nbformat": 4,
 "nbformat_minor": 5
}
