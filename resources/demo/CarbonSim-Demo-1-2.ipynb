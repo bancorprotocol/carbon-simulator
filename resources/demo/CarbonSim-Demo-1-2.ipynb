{
 "cells": [
  {
   "cell_type": "code",
   "execution_count": 1,
   "id": "81b04bbc",
   "metadata": {},
   "outputs": [
    {
     "name": "stdout",
     "output_type": "stream",
     "text": [
      "Carbon Version v1.5-beta0 (6/Dec/2022)\n"
     ]
    }
   ],
   "source": [
    "from carbon import CarbonSimulatorUI, __version__, __date__\n",
    "print(f\"Carbon Version v{__version__} ({__date__})\", )\n",
    "from math import sqrt"
   ]
  },
  {
   "cell_type": "markdown",
   "id": "04af7ee4",
   "metadata": {},
   "source": [
    "# Carbon Simulation -Demo 1-2\n",
    "\n",
    "In demo we look at **single-curve unidirectional liquidity with a non-zero width range**"
   ]
  },
  {
   "cell_type": "markdown",
   "id": "b60d6d58",
   "metadata": {},
   "source": [
    "Set up the simulation. We do not provide a default curve, so curves must be specified every time."
   ]
  },
  {
   "cell_type": "code",
   "execution_count": 2,
   "id": "b987b57a",
   "metadata": {},
   "outputs": [
    {
     "data": {
      "text/plain": [
       "CarbonSimulatorUI(<0 orders, 0 trades>, pair=None, mm='exact', xf=True)"
      ]
     },
     "execution_count": 2,
     "metadata": {},
     "output_type": "execute_result"
    }
   ],
   "source": [
    "Sim = CarbonSimulatorUI(verbose=False)\n",
    "Sim"
   ]
  },
  {
   "cell_type": "markdown",
   "id": "0aa80be1",
   "metadata": {},
   "source": [
    "## Adding and using up the first liquidity position"
   ]
  },
  {
   "cell_type": "markdown",
   "id": "b8980469",
   "metadata": {},
   "source": [
    "We set up a single curve where the AMM sells ETH against USDC in the range of 2000-3000. The geometric average is ~2449, which is the effective selling price of this range"
   ]
  },
  {
   "cell_type": "code",
   "execution_count": 3,
   "id": "105db192",
   "metadata": {},
   "outputs": [
    {
     "name": "stdout",
     "output_type": "stream",
     "text": [
      "2449.489742783178\n"
     ]
    }
   ],
   "source": [
    "Sim.add_order(\"ETH\", 100, 2000, 3000, pair=\"ETH/USDC\")[\"orders\"]\n",
    "print(sqrt(2000*3000))"
   ]
  },
  {
   "cell_type": "markdown",
   "id": "805864ac",
   "metadata": {},
   "source": [
    "We sell the entire ETH"
   ]
  },
  {
   "cell_type": "code",
   "execution_count": 4,
   "id": "fe6b84b6",
   "metadata": {},
   "outputs": [
    {
     "data": {
      "text/html": [
       "<div>\n",
       "<style scoped>\n",
       "    .dataframe tbody tr th:only-of-type {\n",
       "        vertical-align: middle;\n",
       "    }\n",
       "\n",
       "    .dataframe tbody tr th {\n",
       "        vertical-align: top;\n",
       "    }\n",
       "\n",
       "    .dataframe thead th {\n",
       "        text-align: right;\n",
       "    }\n",
       "</style>\n",
       "<table border=\"1\" class=\"dataframe\">\n",
       "  <thead>\n",
       "    <tr style=\"text-align: right;\">\n",
       "      <th></th>\n",
       "      <th>uid</th>\n",
       "      <th>id</th>\n",
       "      <th>subid</th>\n",
       "      <th>note</th>\n",
       "      <th>aggr</th>\n",
       "      <th>exec</th>\n",
       "      <th>limitfail</th>\n",
       "      <th>amt1</th>\n",
       "      <th>tkn1</th>\n",
       "      <th>amt2</th>\n",
       "      <th>tkn2</th>\n",
       "      <th>pair</th>\n",
       "      <th>routeix</th>\n",
       "      <th>nroutes</th>\n",
       "      <th>price</th>\n",
       "      <th>p_unit</th>\n",
       "    </tr>\n",
       "  </thead>\n",
       "  <tbody>\n",
       "    <tr>\n",
       "      <th>0</th>\n",
       "      <td>0.0</td>\n",
       "      <td>0</td>\n",
       "      <td>0</td>\n",
       "      <td>route #0</td>\n",
       "      <td>False</td>\n",
       "      <td>True</td>\n",
       "      <td>None</td>\n",
       "      <td>100.0</td>\n",
       "      <td>ETH</td>\n",
       "      <td>244948.974278</td>\n",
       "      <td>USDC</td>\n",
       "      <td>ETHUSDC</td>\n",
       "      <td>0</td>\n",
       "      <td>1</td>\n",
       "      <td>2449.489743</td>\n",
       "      <td>USDC per ETH</td>\n",
       "    </tr>\n",
       "    <tr>\n",
       "      <th>0</th>\n",
       "      <td>0</td>\n",
       "      <td>0</td>\n",
       "      <td>A</td>\n",
       "      <td>AMM sells 100ETH buys 244949USDC</td>\n",
       "      <td>True</td>\n",
       "      <td>True</td>\n",
       "      <td>None</td>\n",
       "      <td>100.0</td>\n",
       "      <td>ETH</td>\n",
       "      <td>244948.974278</td>\n",
       "      <td>USDC</td>\n",
       "      <td>ETHUSDC</td>\n",
       "      <td>[0]</td>\n",
       "      <td>1</td>\n",
       "      <td>2449.489743</td>\n",
       "      <td>USDC per ETH</td>\n",
       "    </tr>\n",
       "  </tbody>\n",
       "</table>\n",
       "</div>"
      ],
      "text/plain": [
       "   uid  id subid                              note   aggr  exec limitfail  \\\n",
       "0  0.0   0     0                          route #0  False  True      None   \n",
       "0    0   0     A  AMM sells 100ETH buys 244949USDC   True  True      None   \n",
       "\n",
       "    amt1 tkn1           amt2  tkn2     pair routeix  nroutes        price  \\\n",
       "0  100.0  ETH  244948.974278  USDC  ETHUSDC       0        1  2449.489743   \n",
       "0  100.0  ETH  244948.974278  USDC  ETHUSDC     [0]        1  2449.489743   \n",
       "\n",
       "         p_unit  \n",
       "0  USDC per ETH  \n",
       "0  USDC per ETH  "
      ]
     },
     "execution_count": 4,
     "metadata": {},
     "output_type": "execute_result"
    }
   ],
   "source": [
    "result = Sim.amm_sells(\"ETH\", 100, pair=\"ETH/USDC\")\n",
    "result[\"trades\"]"
   ]
  },
  {
   "cell_type": "markdown",
   "id": "52f1a4eb",
   "metadata": {},
   "source": [
    "We are selling exactly where we expect to sell"
   ]
  },
  {
   "cell_type": "code",
   "execution_count": 5,
   "id": "c9fe8551",
   "metadata": {},
   "outputs": [
    {
     "data": {
      "text/plain": [
       "(2449.489743, 2449.489742783178)"
      ]
     },
     "execution_count": 5,
     "metadata": {},
     "output_type": "execute_result"
    }
   ],
   "source": [
    "result[\"trades\"][\"price\"].iloc[0], sqrt(2000*3000)"
   ]
  },
  {
   "cell_type": "markdown",
   "id": "6bf78a25",
   "metadata": {},
   "source": [
    "## Adding and using up the second liquidity position"
   ]
  },
  {
   "cell_type": "markdown",
   "id": "3855f280",
   "metadata": {},
   "source": [
    "We set up another single curve where the AMM sells ETH against USDC in the range of 2000-3000. The geometric average is ~2449, which is the effective selling price of this range. But first we check we have nothing left to sell."
   ]
  },
  {
   "cell_type": "code",
   "execution_count": 6,
   "id": "3ba1cc80",
   "metadata": {},
   "outputs": [
    {
     "data": {
      "text/plain": [
       "{'success': False,\n",
       " 'error': 'token ETH has no non-empty liquidity positions',\n",
       " 'exception': ValueError('token ETH has no non-empty liquidity positions')}"
      ]
     },
     "execution_count": 6,
     "metadata": {},
     "output_type": "execute_result"
    }
   ],
   "source": [
    "Sim.amm_sells(\"ETH\", 0.00001, pair=\"ETH/USDC\")"
   ]
  },
  {
   "cell_type": "code",
   "execution_count": 7,
   "id": "761009d3",
   "metadata": {},
   "outputs": [
    {
     "data": {
      "text/html": [
       "<div>\n",
       "<style scoped>\n",
       "    .dataframe tbody tr th:only-of-type {\n",
       "        vertical-align: middle;\n",
       "    }\n",
       "\n",
       "    .dataframe tbody tr th {\n",
       "        vertical-align: top;\n",
       "    }\n",
       "\n",
       "    .dataframe thead th {\n",
       "        text-align: right;\n",
       "    }\n",
       "</style>\n",
       "<table border=\"1\" class=\"dataframe\">\n",
       "  <thead>\n",
       "    <tr style=\"text-align: right;\">\n",
       "      <th></th>\n",
       "      <th>id</th>\n",
       "      <th>pair</th>\n",
       "      <th>tkn</th>\n",
       "      <th>y_int</th>\n",
       "      <th>y</th>\n",
       "      <th>y_unit</th>\n",
       "      <th>p_start</th>\n",
       "      <th>p_end</th>\n",
       "      <th>p_marg</th>\n",
       "      <th>p_unit</th>\n",
       "      <th>lid</th>\n",
       "    </tr>\n",
       "  </thead>\n",
       "  <tbody>\n",
       "    <tr>\n",
       "      <th>1</th>\n",
       "      <td>1</td>\n",
       "      <td>ETHUSDC</td>\n",
       "      <td>ETH</td>\n",
       "      <td>100.0</td>\n",
       "      <td>100.0</td>\n",
       "      <td>ETH</td>\n",
       "      <td>2000.0</td>\n",
       "      <td>3000.0</td>\n",
       "      <td>2000.0</td>\n",
       "      <td>USDC per ETH</td>\n",
       "      <td>1</td>\n",
       "    </tr>\n",
       "  </tbody>\n",
       "</table>\n",
       "</div>"
      ],
      "text/plain": [
       "   id     pair  tkn  y_int      y y_unit  p_start   p_end  p_marg  \\\n",
       "1   1  ETHUSDC  ETH  100.0  100.0    ETH   2000.0  3000.0  2000.0   \n",
       "\n",
       "         p_unit  lid  \n",
       "1  USDC per ETH    1  "
      ]
     },
     "execution_count": 7,
     "metadata": {},
     "output_type": "execute_result"
    }
   ],
   "source": [
    "Sim.add_order(\"ETH\", 100, 2000, 3000, pair=\"ETH/USDC\")[\"orders\"]"
   ]
  },
  {
   "cell_type": "code",
   "execution_count": 8,
   "id": "a460295d",
   "metadata": {},
   "outputs": [
    {
     "data": {
      "text/html": [
       "<div>\n",
       "<style scoped>\n",
       "    .dataframe tbody tr th:only-of-type {\n",
       "        vertical-align: middle;\n",
       "    }\n",
       "\n",
       "    .dataframe tbody tr th {\n",
       "        vertical-align: top;\n",
       "    }\n",
       "\n",
       "    .dataframe thead th {\n",
       "        text-align: right;\n",
       "    }\n",
       "</style>\n",
       "<table border=\"1\" class=\"dataframe\">\n",
       "  <thead>\n",
       "    <tr style=\"text-align: right;\">\n",
       "      <th></th>\n",
       "      <th>uid</th>\n",
       "      <th>id</th>\n",
       "      <th>subid</th>\n",
       "      <th>note</th>\n",
       "      <th>aggr</th>\n",
       "      <th>exec</th>\n",
       "      <th>limitfail</th>\n",
       "      <th>amt1</th>\n",
       "      <th>tkn1</th>\n",
       "      <th>amt2</th>\n",
       "      <th>tkn2</th>\n",
       "      <th>pair</th>\n",
       "      <th>routeix</th>\n",
       "      <th>nroutes</th>\n",
       "      <th>price</th>\n",
       "      <th>p_unit</th>\n",
       "    </tr>\n",
       "  </thead>\n",
       "  <tbody>\n",
       "    <tr>\n",
       "      <th>0</th>\n",
       "      <td>1.0</td>\n",
       "      <td>1</td>\n",
       "      <td>0</td>\n",
       "      <td>route #1</td>\n",
       "      <td>False</td>\n",
       "      <td>True</td>\n",
       "      <td>None</td>\n",
       "      <td>100.0</td>\n",
       "      <td>ETH</td>\n",
       "      <td>244948.974278</td>\n",
       "      <td>USDC</td>\n",
       "      <td>ETHUSDC</td>\n",
       "      <td>1</td>\n",
       "      <td>1</td>\n",
       "      <td>2449.489743</td>\n",
       "      <td>USDC per ETH</td>\n",
       "    </tr>\n",
       "    <tr>\n",
       "      <th>0</th>\n",
       "      <td>1</td>\n",
       "      <td>1</td>\n",
       "      <td>A</td>\n",
       "      <td>AMM sells 100ETH buys 244949USDC</td>\n",
       "      <td>True</td>\n",
       "      <td>True</td>\n",
       "      <td>None</td>\n",
       "      <td>100.0</td>\n",
       "      <td>ETH</td>\n",
       "      <td>244948.974278</td>\n",
       "      <td>USDC</td>\n",
       "      <td>ETHUSDC</td>\n",
       "      <td>[1]</td>\n",
       "      <td>1</td>\n",
       "      <td>2449.489743</td>\n",
       "      <td>USDC per ETH</td>\n",
       "    </tr>\n",
       "  </tbody>\n",
       "</table>\n",
       "</div>"
      ],
      "text/plain": [
       "   uid  id subid                              note   aggr  exec limitfail  \\\n",
       "0  1.0   1     0                          route #1  False  True      None   \n",
       "0    1   1     A  AMM sells 100ETH buys 244949USDC   True  True      None   \n",
       "\n",
       "    amt1 tkn1           amt2  tkn2     pair routeix  nroutes        price  \\\n",
       "0  100.0  ETH  244948.974278  USDC  ETHUSDC       1        1  2449.489743   \n",
       "0  100.0  ETH  244948.974278  USDC  ETHUSDC     [1]        1  2449.489743   \n",
       "\n",
       "         p_unit  \n",
       "0  USDC per ETH  \n",
       "0  USDC per ETH  "
      ]
     },
     "execution_count": 8,
     "metadata": {},
     "output_type": "execute_result"
    }
   ],
   "source": [
    "result = Sim.amm_sells(\"ETH\", 100, pair=\"ETH/USDC\")\n",
    "result[\"trades\"]"
   ]
  },
  {
   "cell_type": "code",
   "execution_count": 9,
   "id": "8022a32a",
   "metadata": {},
   "outputs": [
    {
     "data": {
      "text/plain": [
       "(2449.489743, 2449.489742783178)"
      ]
     },
     "execution_count": 9,
     "metadata": {},
     "output_type": "execute_result"
    }
   ],
   "source": [
    "result[\"trades\"][\"price\"].iloc[0], sqrt(2000*3000)"
   ]
  },
  {
   "cell_type": "code",
   "execution_count": 10,
   "id": "9051f4f4",
   "metadata": {
    "lines_to_next_cell": 2
   },
   "outputs": [
    {
     "data": {
      "text/html": [
       "<div>\n",
       "<style scoped>\n",
       "    .dataframe tbody tr th:only-of-type {\n",
       "        vertical-align: middle;\n",
       "    }\n",
       "\n",
       "    .dataframe tbody tr th {\n",
       "        vertical-align: top;\n",
       "    }\n",
       "\n",
       "    .dataframe thead th {\n",
       "        text-align: right;\n",
       "    }\n",
       "</style>\n",
       "<table border=\"1\" class=\"dataframe\">\n",
       "  <thead>\n",
       "    <tr style=\"text-align: right;\">\n",
       "      <th></th>\n",
       "      <th>id</th>\n",
       "      <th>pair</th>\n",
       "      <th>tkn</th>\n",
       "      <th>y_int</th>\n",
       "      <th>y</th>\n",
       "      <th>y_unit</th>\n",
       "      <th>p_start</th>\n",
       "      <th>p_end</th>\n",
       "      <th>p_marg</th>\n",
       "      <th>p_unit</th>\n",
       "      <th>lid</th>\n",
       "    </tr>\n",
       "  </thead>\n",
       "  <tbody>\n",
       "    <tr>\n",
       "      <th>0</th>\n",
       "      <td>0</td>\n",
       "      <td>ETHUSDC</td>\n",
       "      <td>ETH</td>\n",
       "      <td>100.0</td>\n",
       "      <td>0.0</td>\n",
       "      <td>ETH</td>\n",
       "      <td>2000.0</td>\n",
       "      <td>3000.0</td>\n",
       "      <td>3000.0</td>\n",
       "      <td>USDC per ETH</td>\n",
       "      <td>0</td>\n",
       "    </tr>\n",
       "    <tr>\n",
       "      <th>1</th>\n",
       "      <td>1</td>\n",
       "      <td>ETHUSDC</td>\n",
       "      <td>ETH</td>\n",
       "      <td>100.0</td>\n",
       "      <td>0.0</td>\n",
       "      <td>ETH</td>\n",
       "      <td>2000.0</td>\n",
       "      <td>3000.0</td>\n",
       "      <td>3000.0</td>\n",
       "      <td>USDC per ETH</td>\n",
       "      <td>1</td>\n",
       "    </tr>\n",
       "  </tbody>\n",
       "</table>\n",
       "</div>"
      ],
      "text/plain": [
       "   id     pair  tkn  y_int    y y_unit  p_start   p_end  p_marg        p_unit  \\\n",
       "0   0  ETHUSDC  ETH  100.0  0.0    ETH   2000.0  3000.0  3000.0  USDC per ETH   \n",
       "1   1  ETHUSDC  ETH  100.0  0.0    ETH   2000.0  3000.0  3000.0  USDC per ETH   \n",
       "\n",
       "   lid  \n",
       "0    0  \n",
       "1    1  "
      ]
     },
     "execution_count": 10,
     "metadata": {},
     "output_type": "execute_result"
    }
   ],
   "source": [
    "Sim.state()[\"orders\"]"
   ]
  },
  {
   "cell_type": "markdown",
   "id": "56f6b2af",
   "metadata": {},
   "source": [
    "## Adding and using up the third liquidity position"
   ]
  },
  {
   "cell_type": "markdown",
   "id": "f05fbf2d",
   "metadata": {},
   "source": [
    "We set up another single curve where the AMM sells ETH against USDC in the range of 2000-3000. The geometric average is ~2449, which is the effective selling price of this range. But first we check again that we have nothing left to sell."
   ]
  },
  {
   "cell_type": "code",
   "execution_count": 11,
   "id": "d7a654f2",
   "metadata": {},
   "outputs": [
    {
     "data": {
      "text/plain": [
       "{'success': False,\n",
       " 'error': \"('Illegal slashpair', 'ETHUSDC')\",\n",
       " 'exception': ValueError('Illegal slashpair', 'ETHUSDC')}"
      ]
     },
     "execution_count": 11,
     "metadata": {},
     "output_type": "execute_result"
    }
   ],
   "source": [
    "Sim.amm_sells(\"ETH\", 0.00001, pair=\"ETHUSDC\")"
   ]
  },
  {
   "cell_type": "code",
   "execution_count": 12,
   "id": "cc60a806",
   "metadata": {},
   "outputs": [
    {
     "data": {
      "text/html": [
       "<div>\n",
       "<style scoped>\n",
       "    .dataframe tbody tr th:only-of-type {\n",
       "        vertical-align: middle;\n",
       "    }\n",
       "\n",
       "    .dataframe tbody tr th {\n",
       "        vertical-align: top;\n",
       "    }\n",
       "\n",
       "    .dataframe thead th {\n",
       "        text-align: right;\n",
       "    }\n",
       "</style>\n",
       "<table border=\"1\" class=\"dataframe\">\n",
       "  <thead>\n",
       "    <tr style=\"text-align: right;\">\n",
       "      <th></th>\n",
       "      <th>id</th>\n",
       "      <th>pair</th>\n",
       "      <th>tkn</th>\n",
       "      <th>y_int</th>\n",
       "      <th>y</th>\n",
       "      <th>y_unit</th>\n",
       "      <th>p_start</th>\n",
       "      <th>p_end</th>\n",
       "      <th>p_marg</th>\n",
       "      <th>p_unit</th>\n",
       "      <th>lid</th>\n",
       "    </tr>\n",
       "  </thead>\n",
       "  <tbody>\n",
       "    <tr>\n",
       "      <th>2</th>\n",
       "      <td>2</td>\n",
       "      <td>ETHUSDC</td>\n",
       "      <td>ETH</td>\n",
       "      <td>100.0</td>\n",
       "      <td>100.0</td>\n",
       "      <td>ETH</td>\n",
       "      <td>2000.0</td>\n",
       "      <td>3000.0</td>\n",
       "      <td>2000.0</td>\n",
       "      <td>USDC per ETH</td>\n",
       "      <td>2</td>\n",
       "    </tr>\n",
       "  </tbody>\n",
       "</table>\n",
       "</div>"
      ],
      "text/plain": [
       "   id     pair  tkn  y_int      y y_unit  p_start   p_end  p_marg  \\\n",
       "2   2  ETHUSDC  ETH  100.0  100.0    ETH   2000.0  3000.0  2000.0   \n",
       "\n",
       "         p_unit  lid  \n",
       "2  USDC per ETH    2  "
      ]
     },
     "execution_count": 12,
     "metadata": {},
     "output_type": "execute_result"
    }
   ],
   "source": [
    "Sim.add_order(\"ETH\", 100, 2000, 3000, pair=\"ETH/USDC\")[\"orders\"]"
   ]
  },
  {
   "cell_type": "code",
   "execution_count": 13,
   "id": "2eb3bf38",
   "metadata": {},
   "outputs": [
    {
     "data": {
      "text/html": [
       "<div>\n",
       "<style scoped>\n",
       "    .dataframe tbody tr th:only-of-type {\n",
       "        vertical-align: middle;\n",
       "    }\n",
       "\n",
       "    .dataframe tbody tr th {\n",
       "        vertical-align: top;\n",
       "    }\n",
       "\n",
       "    .dataframe thead th {\n",
       "        text-align: right;\n",
       "    }\n",
       "</style>\n",
       "<table border=\"1\" class=\"dataframe\">\n",
       "  <thead>\n",
       "    <tr style=\"text-align: right;\">\n",
       "      <th></th>\n",
       "      <th>id</th>\n",
       "      <th>pair</th>\n",
       "      <th>tkn</th>\n",
       "      <th>y_int</th>\n",
       "      <th>y</th>\n",
       "      <th>y_unit</th>\n",
       "      <th>p_start</th>\n",
       "      <th>p_end</th>\n",
       "      <th>p_marg</th>\n",
       "      <th>p_unit</th>\n",
       "      <th>lid</th>\n",
       "    </tr>\n",
       "  </thead>\n",
       "  <tbody>\n",
       "    <tr>\n",
       "      <th>0</th>\n",
       "      <td>0</td>\n",
       "      <td>ETHUSDC</td>\n",
       "      <td>ETH</td>\n",
       "      <td>100.0</td>\n",
       "      <td>0.0</td>\n",
       "      <td>ETH</td>\n",
       "      <td>2000.0</td>\n",
       "      <td>3000.0</td>\n",
       "      <td>3000.0</td>\n",
       "      <td>USDC per ETH</td>\n",
       "      <td>0</td>\n",
       "    </tr>\n",
       "    <tr>\n",
       "      <th>1</th>\n",
       "      <td>1</td>\n",
       "      <td>ETHUSDC</td>\n",
       "      <td>ETH</td>\n",
       "      <td>100.0</td>\n",
       "      <td>0.0</td>\n",
       "      <td>ETH</td>\n",
       "      <td>2000.0</td>\n",
       "      <td>3000.0</td>\n",
       "      <td>3000.0</td>\n",
       "      <td>USDC per ETH</td>\n",
       "      <td>1</td>\n",
       "    </tr>\n",
       "    <tr>\n",
       "      <th>2</th>\n",
       "      <td>2</td>\n",
       "      <td>ETHUSDC</td>\n",
       "      <td>ETH</td>\n",
       "      <td>100.0</td>\n",
       "      <td>0.0</td>\n",
       "      <td>ETH</td>\n",
       "      <td>2000.0</td>\n",
       "      <td>3000.0</td>\n",
       "      <td>3000.0</td>\n",
       "      <td>USDC per ETH</td>\n",
       "      <td>2</td>\n",
       "    </tr>\n",
       "  </tbody>\n",
       "</table>\n",
       "</div>"
      ],
      "text/plain": [
       "   id     pair  tkn  y_int    y y_unit  p_start   p_end  p_marg        p_unit  \\\n",
       "0   0  ETHUSDC  ETH  100.0  0.0    ETH   2000.0  3000.0  3000.0  USDC per ETH   \n",
       "1   1  ETHUSDC  ETH  100.0  0.0    ETH   2000.0  3000.0  3000.0  USDC per ETH   \n",
       "2   2  ETHUSDC  ETH  100.0  0.0    ETH   2000.0  3000.0  3000.0  USDC per ETH   \n",
       "\n",
       "   lid  \n",
       "0    0  \n",
       "1    1  \n",
       "2    2  "
      ]
     },
     "execution_count": 13,
     "metadata": {},
     "output_type": "execute_result"
    }
   ],
   "source": [
    "Sim.amm_sells(\"ETH\", 10, pair=\"ETH/USDC\")\n",
    "Sim.amm_sells(\"ETH\", 20, pair=\"ETH/USDC\")\n",
    "Sim.amm_sells(\"ETH\", 70, pair=\"ETH/USDC\")\n",
    "Sim.state()[\"orders\"]"
   ]
  },
  {
   "cell_type": "code",
   "execution_count": 14,
   "id": "a3d6d8de",
   "metadata": {},
   "outputs": [
    {
     "data": {
      "text/html": [
       "<div>\n",
       "<style scoped>\n",
       "    .dataframe tbody tr th:only-of-type {\n",
       "        vertical-align: middle;\n",
       "    }\n",
       "\n",
       "    .dataframe tbody tr th {\n",
       "        vertical-align: top;\n",
       "    }\n",
       "\n",
       "    .dataframe thead th {\n",
       "        text-align: right;\n",
       "    }\n",
       "</style>\n",
       "<table border=\"1\" class=\"dataframe\">\n",
       "  <thead>\n",
       "    <tr style=\"text-align: right;\">\n",
       "      <th></th>\n",
       "      <th>uid</th>\n",
       "      <th>id</th>\n",
       "      <th>subid</th>\n",
       "      <th>note</th>\n",
       "      <th>aggr</th>\n",
       "      <th>exec</th>\n",
       "      <th>limitfail</th>\n",
       "      <th>amt1</th>\n",
       "      <th>tkn1</th>\n",
       "      <th>amt2</th>\n",
       "      <th>tkn2</th>\n",
       "      <th>pair</th>\n",
       "      <th>routeix</th>\n",
       "      <th>nroutes</th>\n",
       "      <th>price</th>\n",
       "      <th>p_unit</th>\n",
       "    </tr>\n",
       "  </thead>\n",
       "  <tbody>\n",
       "    <tr>\n",
       "      <th>0</th>\n",
       "      <td>0.0</td>\n",
       "      <td>0</td>\n",
       "      <td>0</td>\n",
       "      <td>route #0</td>\n",
       "      <td>False</td>\n",
       "      <td>True</td>\n",
       "      <td>None</td>\n",
       "      <td>100.0</td>\n",
       "      <td>ETH</td>\n",
       "      <td>244948.974278</td>\n",
       "      <td>USDC</td>\n",
       "      <td>ETHUSDC</td>\n",
       "      <td>0</td>\n",
       "      <td>1</td>\n",
       "      <td>2449.489743</td>\n",
       "      <td>USDC per ETH</td>\n",
       "    </tr>\n",
       "    <tr>\n",
       "      <th>0</th>\n",
       "      <td>0</td>\n",
       "      <td>0</td>\n",
       "      <td>A</td>\n",
       "      <td>AMM sells 100ETH buys 244949USDC</td>\n",
       "      <td>True</td>\n",
       "      <td>True</td>\n",
       "      <td>None</td>\n",
       "      <td>100.0</td>\n",
       "      <td>ETH</td>\n",
       "      <td>244948.974278</td>\n",
       "      <td>USDC</td>\n",
       "      <td>ETHUSDC</td>\n",
       "      <td>[0]</td>\n",
       "      <td>1</td>\n",
       "      <td>2449.489743</td>\n",
       "      <td>USDC per ETH</td>\n",
       "    </tr>\n",
       "    <tr>\n",
       "      <th>0</th>\n",
       "      <td>1.0</td>\n",
       "      <td>1</td>\n",
       "      <td>0</td>\n",
       "      <td>route #1</td>\n",
       "      <td>False</td>\n",
       "      <td>True</td>\n",
       "      <td>None</td>\n",
       "      <td>100.0</td>\n",
       "      <td>ETH</td>\n",
       "      <td>244948.974278</td>\n",
       "      <td>USDC</td>\n",
       "      <td>ETHUSDC</td>\n",
       "      <td>1</td>\n",
       "      <td>1</td>\n",
       "      <td>2449.489743</td>\n",
       "      <td>USDC per ETH</td>\n",
       "    </tr>\n",
       "    <tr>\n",
       "      <th>0</th>\n",
       "      <td>1</td>\n",
       "      <td>1</td>\n",
       "      <td>A</td>\n",
       "      <td>AMM sells 100ETH buys 244949USDC</td>\n",
       "      <td>True</td>\n",
       "      <td>True</td>\n",
       "      <td>None</td>\n",
       "      <td>100.0</td>\n",
       "      <td>ETH</td>\n",
       "      <td>244948.974278</td>\n",
       "      <td>USDC</td>\n",
       "      <td>ETHUSDC</td>\n",
       "      <td>[1]</td>\n",
       "      <td>1</td>\n",
       "      <td>2449.489743</td>\n",
       "      <td>USDC per ETH</td>\n",
       "    </tr>\n",
       "    <tr>\n",
       "      <th>0</th>\n",
       "      <td>2.0</td>\n",
       "      <td>2</td>\n",
       "      <td>0</td>\n",
       "      <td>route #2</td>\n",
       "      <td>False</td>\n",
       "      <td>True</td>\n",
       "      <td>None</td>\n",
       "      <td>10.0</td>\n",
       "      <td>ETH</td>\n",
       "      <td>20373.867433</td>\n",
       "      <td>USDC</td>\n",
       "      <td>ETHUSDC</td>\n",
       "      <td>2</td>\n",
       "      <td>1</td>\n",
       "      <td>2037.386743</td>\n",
       "      <td>USDC per ETH</td>\n",
       "    </tr>\n",
       "    <tr>\n",
       "      <th>0</th>\n",
       "      <td>2</td>\n",
       "      <td>2</td>\n",
       "      <td>A</td>\n",
       "      <td>AMM sells 10ETH buys 20374USDC</td>\n",
       "      <td>True</td>\n",
       "      <td>True</td>\n",
       "      <td>None</td>\n",
       "      <td>10.0</td>\n",
       "      <td>ETH</td>\n",
       "      <td>20373.867433</td>\n",
       "      <td>USDC</td>\n",
       "      <td>ETHUSDC</td>\n",
       "      <td>[2]</td>\n",
       "      <td>1</td>\n",
       "      <td>2037.386743</td>\n",
       "      <td>USDC per ETH</td>\n",
       "    </tr>\n",
       "    <tr>\n",
       "      <th>0</th>\n",
       "      <td>3.0</td>\n",
       "      <td>3</td>\n",
       "      <td>0</td>\n",
       "      <td>route #2</td>\n",
       "      <td>False</td>\n",
       "      <td>True</td>\n",
       "      <td>None</td>\n",
       "      <td>20.0</td>\n",
       "      <td>ETH</td>\n",
       "      <td>43121.624528</td>\n",
       "      <td>USDC</td>\n",
       "      <td>ETHUSDC</td>\n",
       "      <td>2</td>\n",
       "      <td>1</td>\n",
       "      <td>2156.081226</td>\n",
       "      <td>USDC per ETH</td>\n",
       "    </tr>\n",
       "    <tr>\n",
       "      <th>0</th>\n",
       "      <td>3</td>\n",
       "      <td>3</td>\n",
       "      <td>A</td>\n",
       "      <td>AMM sells 20ETH buys 43122USDC</td>\n",
       "      <td>True</td>\n",
       "      <td>True</td>\n",
       "      <td>None</td>\n",
       "      <td>20.0</td>\n",
       "      <td>ETH</td>\n",
       "      <td>43121.624528</td>\n",
       "      <td>USDC</td>\n",
       "      <td>ETHUSDC</td>\n",
       "      <td>[2]</td>\n",
       "      <td>1</td>\n",
       "      <td>2156.081226</td>\n",
       "      <td>USDC per ETH</td>\n",
       "    </tr>\n",
       "    <tr>\n",
       "      <th>0</th>\n",
       "      <td>4.0</td>\n",
       "      <td>4</td>\n",
       "      <td>0</td>\n",
       "      <td>route #2</td>\n",
       "      <td>False</td>\n",
       "      <td>True</td>\n",
       "      <td>None</td>\n",
       "      <td>70.0</td>\n",
       "      <td>ETH</td>\n",
       "      <td>181453.482317</td>\n",
       "      <td>USDC</td>\n",
       "      <td>ETHUSDC</td>\n",
       "      <td>2</td>\n",
       "      <td>1</td>\n",
       "      <td>2592.192605</td>\n",
       "      <td>USDC per ETH</td>\n",
       "    </tr>\n",
       "    <tr>\n",
       "      <th>0</th>\n",
       "      <td>4</td>\n",
       "      <td>4</td>\n",
       "      <td>A</td>\n",
       "      <td>AMM sells 70ETH buys 181453USDC</td>\n",
       "      <td>True</td>\n",
       "      <td>True</td>\n",
       "      <td>None</td>\n",
       "      <td>70.0</td>\n",
       "      <td>ETH</td>\n",
       "      <td>181453.482317</td>\n",
       "      <td>USDC</td>\n",
       "      <td>ETHUSDC</td>\n",
       "      <td>[2]</td>\n",
       "      <td>1</td>\n",
       "      <td>2592.192605</td>\n",
       "      <td>USDC per ETH</td>\n",
       "    </tr>\n",
       "  </tbody>\n",
       "</table>\n",
       "</div>"
      ],
      "text/plain": [
       "   uid  id subid                              note   aggr  exec limitfail  \\\n",
       "0  0.0   0     0                          route #0  False  True      None   \n",
       "0    0   0     A  AMM sells 100ETH buys 244949USDC   True  True      None   \n",
       "0  1.0   1     0                          route #1  False  True      None   \n",
       "0    1   1     A  AMM sells 100ETH buys 244949USDC   True  True      None   \n",
       "0  2.0   2     0                          route #2  False  True      None   \n",
       "0    2   2     A    AMM sells 10ETH buys 20374USDC   True  True      None   \n",
       "0  3.0   3     0                          route #2  False  True      None   \n",
       "0    3   3     A    AMM sells 20ETH buys 43122USDC   True  True      None   \n",
       "0  4.0   4     0                          route #2  False  True      None   \n",
       "0    4   4     A   AMM sells 70ETH buys 181453USDC   True  True      None   \n",
       "\n",
       "    amt1 tkn1           amt2  tkn2     pair routeix  nroutes        price  \\\n",
       "0  100.0  ETH  244948.974278  USDC  ETHUSDC       0        1  2449.489743   \n",
       "0  100.0  ETH  244948.974278  USDC  ETHUSDC     [0]        1  2449.489743   \n",
       "0  100.0  ETH  244948.974278  USDC  ETHUSDC       1        1  2449.489743   \n",
       "0  100.0  ETH  244948.974278  USDC  ETHUSDC     [1]        1  2449.489743   \n",
       "0   10.0  ETH   20373.867433  USDC  ETHUSDC       2        1  2037.386743   \n",
       "0   10.0  ETH   20373.867433  USDC  ETHUSDC     [2]        1  2037.386743   \n",
       "0   20.0  ETH   43121.624528  USDC  ETHUSDC       2        1  2156.081226   \n",
       "0   20.0  ETH   43121.624528  USDC  ETHUSDC     [2]        1  2156.081226   \n",
       "0   70.0  ETH  181453.482317  USDC  ETHUSDC       2        1  2592.192605   \n",
       "0   70.0  ETH  181453.482317  USDC  ETHUSDC     [2]        1  2592.192605   \n",
       "\n",
       "         p_unit  \n",
       "0  USDC per ETH  \n",
       "0  USDC per ETH  \n",
       "0  USDC per ETH  \n",
       "0  USDC per ETH  \n",
       "0  USDC per ETH  \n",
       "0  USDC per ETH  \n",
       "0  USDC per ETH  \n",
       "0  USDC per ETH  \n",
       "0  USDC per ETH  \n",
       "0  USDC per ETH  "
      ]
     },
     "execution_count": 14,
     "metadata": {},
     "output_type": "execute_result"
    }
   ],
   "source": [
    "Sim.state()[\"trades\"]"
   ]
  },
  {
   "cell_type": "code",
   "execution_count": 15,
   "id": "ef66da8f",
   "metadata": {},
   "outputs": [
    {
     "data": {
      "text/plain": [
       "{10: 2037.386743, 20: 2156.081226, 70: 2592.192605}"
      ]
     },
     "execution_count": 15,
     "metadata": {},
     "output_type": "execute_result"
    }
   ],
   "source": [
    "prices = {\n",
    "    10: Sim.state()[\"trades\"].iloc[4][\"price\"],\n",
    "    20: Sim.state()[\"trades\"].iloc[6][\"price\"],\n",
    "    70: Sim.state()[\"trades\"].iloc[8][\"price\"],\n",
    "}\n",
    "prices"
   ]
  },
  {
   "cell_type": "code",
   "execution_count": 16,
   "id": "d45a9fd1",
   "metadata": {},
   "outputs": [
    {
     "name": "stdout",
     "output_type": "stream",
     "text": [
      "average price: 2449.489743\n"
     ]
    }
   ],
   "source": [
    "usdc_total = sum(amt*prc for amt,prc in prices.items())\n",
    "print(f\"average price: {usdc_total/sum(prices.keys())}\")"
   ]
  },
  {
   "cell_type": "code",
   "execution_count": null,
   "id": "216629c5",
   "metadata": {},
   "outputs": [],
   "source": []
  }
 ],
 "metadata": {
  "kernelspec": {
   "display_name": "Python 3",
   "language": "python",
   "name": "python3"
  },
  "language_info": {
   "codemirror_mode": {
    "name": "ipython",
    "version": 3
   },
   "file_extension": ".py",
   "mimetype": "text/x-python",
   "name": "python",
   "nbconvert_exporter": "python",
   "pygments_lexer": "ipython3",
   "version": "3.8.8"
  }
 },
 "nbformat": 4,
 "nbformat_minor": 5
}
