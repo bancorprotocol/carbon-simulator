{
 "cells": [
  {
   "cell_type": "code",
   "execution_count": 1,
   "id": "22b66169",
   "metadata": {},
   "outputs": [],
   "source": [
    "from carbon import CarbonSimulatorUI, CarbonPair, P\n",
    "from carbon.simulators.carbon_simulator import __version__ as uiversion, __date__ as uidate\n",
    "from carbon.pair import __version__ as pversion, __date__ as pdate\n",
    "from jupyformat import *"
   ]
  },
  {
   "cell_type": "code",
   "execution_count": 2,
   "id": "c61a0e2b",
   "metadata": {},
   "outputs": [
    {
     "name": "stdout",
     "output_type": "stream",
     "text": [
      "[carbon_simulator] version 1.0.2-pair2 7/Dec/2022\n",
      "[pair] version 2.0 7/Dec/2022\n"
     ]
    },
    {
     "data": {
      "text/html": [
       "<div style='color:green; font-size: 120%'><p><strong>This notebook passed verification.</strong></p></div>"
      ],
      "text/plain": [
       "<IPython.core.display.HTML object>"
      ]
     },
     "execution_count": 2,
     "metadata": {},
     "output_type": "execute_result"
    }
   ],
   "source": [
    "print(\"[carbon_simulator] version\", uiversion, uidate)\n",
    "print(\"[pair] version\", pversion, pdate)\n",
    "jp()"
   ]
  },
  {
   "cell_type": "markdown",
   "id": "ec6ff430",
   "metadata": {},
   "source": [
    "# Carbon Simulation - Test 38 - CarbonPair\n",
    "\n",
    "Testing the new CarbonPair interface -- **BREAKING CHANGE**"
   ]
  },
  {
   "cell_type": "code",
   "execution_count": 3,
   "id": "c602b088",
   "metadata": {},
   "outputs": [],
   "source": [
    "#help(CarbonPair)"
   ]
  },
  {
   "cell_type": "code",
   "execution_count": 4,
   "id": "6d64e832",
   "metadata": {},
   "outputs": [],
   "source": [
    "assert(P==CarbonPair)\n",
    "assert(str(P(\"ETH/USDC\"))==\"CarbonPair(slashpair='ETH/USDC', tknb='ETH', tknq='USDC')\")"
   ]
  },
  {
   "cell_type": "code",
   "execution_count": 5,
   "id": "687ee044",
   "metadata": {},
   "outputs": [
    {
     "name": "stdout",
     "output_type": "stream",
     "text": [
      "('If pair is None must provide tknb, tknq', None, None, None)\n"
     ]
    }
   ],
   "source": [
    "try:\n",
    "    p = CarbonPair()\n",
    "except ValueError as e:\n",
    "    print(e)\n",
    "    assert(str(e)==\"('If pair is None must provide tknb, tknq', None, None, None)\")"
   ]
  },
  {
   "cell_type": "code",
   "execution_count": 6,
   "id": "1573e251",
   "metadata": {},
   "outputs": [
    {
     "name": "stdout",
     "output_type": "stream",
     "text": [
      "(\"Parameters are pair, tknb, tknq; did you mean `tknb='ETH', tknq='USDC'` ?\", 'ETH', 'USDC', None)\n"
     ]
    }
   ],
   "source": [
    "try:\n",
    "    p = CarbonPair(\"ETH\", \"USDC\")\n",
    "except ValueError as e:\n",
    "    print(e)\n",
    "    assert(str(e)==\"\"\"(\"Parameters are pair, tknb, tknq; did you mean `tknb='ETH', tknq='USDC'` ?\", 'ETH', 'USDC', None)\"\"\")"
   ]
  },
  {
   "cell_type": "code",
   "execution_count": 7,
   "id": "11d2c36b",
   "metadata": {},
   "outputs": [
    {
     "name": "stdout",
     "output_type": "stream",
     "text": [
      "CarbonPair(slashpair='ETH/USDC', tknb='ETH', tknq='USDC')\n"
     ]
    }
   ],
   "source": [
    "p = CarbonPair(\"\", \"ETH\", \"USDC\")\n",
    "print(p)\n",
    "assert(str(p) == \"CarbonPair(slashpair='ETH/USDC', tknb='ETH', tknq='USDC')\")"
   ]
  },
  {
   "cell_type": "code",
   "execution_count": 8,
   "id": "0589adb2",
   "metadata": {},
   "outputs": [
    {
     "name": "stdout",
     "output_type": "stream",
     "text": [
      "CarbonPair(slashpair='ETH/USDC', tknb='ETH', tknq='USDC')\n"
     ]
    }
   ],
   "source": [
    "p = CarbonPair(tknb=\"ETH\", tknq=\"USDC\")\n",
    "print(p)\n",
    "assert(str(p) == \"CarbonPair(slashpair='ETH/USDC', tknb='ETH', tknq='USDC')\")"
   ]
  },
  {
   "cell_type": "code",
   "execution_count": 9,
   "id": "add3bfe6",
   "metadata": {},
   "outputs": [
    {
     "name": "stdout",
     "output_type": "stream",
     "text": [
      "CarbonPair(slashpair='ETH/USDC', tknb='ETH', tknq='USDC')\n"
     ]
    }
   ],
   "source": [
    "p = CarbonPair(tknq=\"USDC\", tknb=\"ETH\")\n",
    "print(p)\n",
    "assert(str(p) == \"CarbonPair(slashpair='ETH/USDC', tknb='ETH', tknq='USDC')\")"
   ]
  },
  {
   "cell_type": "code",
   "execution_count": 10,
   "id": "e50389db",
   "metadata": {},
   "outputs": [
    {
     "name": "stdout",
     "output_type": "stream",
     "text": [
      "('Illegal slashpair', 'ETHUSDC')\n"
     ]
    }
   ],
   "source": [
    "try:\n",
    "    p = CarbonPair(\"ETHUSDC\")\n",
    "except ValueError as e:\n",
    "    print(e)\n",
    "    assert(str(e)==\"\"\"('Illegal slashpair', 'ETHUSDC')\"\"\")"
   ]
  },
  {
   "cell_type": "code",
   "execution_count": 11,
   "id": "85c4bc92",
   "metadata": {},
   "outputs": [
    {
     "name": "stdout",
     "output_type": "stream",
     "text": [
      "CarbonPair(slashpair='ETH/USDC', tknb='ETH', tknq='USDC')\n"
     ]
    }
   ],
   "source": [
    "p = CarbonPair(\"ETH/USDC\")\n",
    "print(p)\n",
    "assert(str(p) == \"CarbonPair(slashpair='ETH/USDC', tknb='ETH', tknq='USDC')\")"
   ]
  },
  {
   "cell_type": "code",
   "execution_count": 12,
   "id": "306daaf9",
   "metadata": {},
   "outputs": [
    {
     "name": "stdout",
     "output_type": "stream",
     "text": [
      "CarbonPair(slashpair='ETH/USDC', tknb='ETH', tknq='USDC')\n"
     ]
    }
   ],
   "source": [
    "p = CarbonPair.from_isopair_and_tkn(\"ETHUSDC\", \"USDC\")\n",
    "print(p)\n",
    "assert(str(p) == \"CarbonPair(slashpair='ETH/USDC', tknb='ETH', tknq='USDC')\")"
   ]
  },
  {
   "cell_type": "code",
   "execution_count": 13,
   "id": "0ead33f8",
   "metadata": {},
   "outputs": [
    {
     "name": "stdout",
     "output_type": "stream",
     "text": [
      "CarbonPair(slashpair='ETH/USDC', tknb='ETH', tknq='USDC')\n"
     ]
    }
   ],
   "source": [
    "p = CarbonPair.from_isopair_and_tkn(\"ETHUSDC\", \"ETH\")\n",
    "print(p)\n",
    "assert(str(p) == \"CarbonPair(slashpair='ETH/USDC', tknb='ETH', tknq='USDC')\")"
   ]
  },
  {
   "cell_type": "code",
   "execution_count": 14,
   "id": "72f2b4c7",
   "metadata": {},
   "outputs": [
    {
     "name": "stdout",
     "output_type": "stream",
     "text": [
      "('Invalid token specification (tkn not part of isopair)', 'ETHUSDC', 'WBTC')\n"
     ]
    }
   ],
   "source": [
    "try:\n",
    "    p = CarbonPair.from_isopair_and_tkn(\"ETHUSDC\", \"WBTC\")\n",
    "except ValueError as e:\n",
    "    print(e)\n",
    "    assert(str(e) == \"('Invalid token specification (tkn not part of isopair)', 'ETHUSDC', 'WBTC')\")"
   ]
  },
  {
   "cell_type": "code",
   "execution_count": 33,
   "id": "96a12139",
   "metadata": {},
   "outputs": [
    {
     "name": "stdout",
     "output_type": "stream",
     "text": [
      "CarbonPair(slashpair='ETH/USDC', tknb='ETH', tknq='USDC')\n"
     ]
    }
   ],
   "source": [
    "p = CarbonPair.create(\"ETH/USDC\")\n",
    "print(p)\n",
    "assert(str(p) == \"CarbonPair(slashpair='ETH/USDC', tknb='ETH', tknq='USDC')\")"
   ]
  },
  {
   "cell_type": "code",
   "execution_count": 34,
   "id": "c7160f88",
   "metadata": {},
   "outputs": [
    {
     "name": "stdout",
     "output_type": "stream",
     "text": [
      "CarbonPair(slashpair='ETH/USDC', tknb='ETH', tknq='USDC')\n"
     ]
    }
   ],
   "source": [
    "p = CarbonPair.create(\"ETH\", \"USDC\")\n",
    "print(p)\n",
    "assert(str(p) == \"CarbonPair(slashpair='ETH/USDC', tknb='ETH', tknq='USDC')\")"
   ]
  },
  {
   "cell_type": "code",
   "execution_count": 44,
   "id": "ecaeaa5d",
   "metadata": {},
   "outputs": [
    {
     "name": "stdout",
     "output_type": "stream",
     "text": [
      "CarbonPair(slashpair='ETH/USDC', tknb='ETH', tknq='USDC')\n"
     ]
    }
   ],
   "source": [
    "pp = CarbonPair.create(p)\n",
    "print(pp)\n",
    "assert(str(pp) == \"CarbonPair(slashpair='ETH/USDC', tknb='ETH', tknq='USDC')\")\n",
    "assert(not pp is p)"
   ]
  },
  {
   "cell_type": "code",
   "execution_count": 46,
   "id": "2ffa5c1e",
   "metadata": {},
   "outputs": [
    {
     "name": "stdout",
     "output_type": "stream",
     "text": [
      "('Second argument must be None if arg1 is pair', CarbonPair(slashpair='ETH/USDC', tknb='ETH', tknq='USDC'), 'ETH')\n"
     ]
    }
   ],
   "source": [
    "try:\n",
    "    pp = CarbonPair.create(p, \"ETH\")\n",
    "except ValueError as e:\n",
    "    print(e)\n",
    "    assert(str(e) == \"('Second argument must be None if arg1 is pair', CarbonPair(slashpair='ETH/USDC', tknb='ETH', tknq='USDC'), 'ETH')\")"
   ]
  },
  {
   "cell_type": "code",
   "execution_count": 15,
   "id": "453cea77",
   "metadata": {},
   "outputs": [],
   "source": [
    "assert(p.tknb==\"ETH\")\n",
    "assert(p.tknq==\"USDC\")\n",
    "assert(p.basetoken==\"ETH\")\n",
    "assert(p.quotetoken==\"USDC\")\n",
    "assert(p.slashpair==\"ETH/USDC\")\n",
    "assert(p.pair_slash==\"ETH/USDC\")\n",
    "assert(p.pair_iso==\"ETHUSDC\")\n",
    "assert(p.price_convention==\"USDC per ETH\")\n",
    "assert(str(p.reverse)==\"CarbonPair(slashpair='USDC/ETH', tknb='USDC', tknq='ETH')\")"
   ]
  },
  {
   "cell_type": "code",
   "execution_count": 16,
   "id": "5459c7ca",
   "metadata": {},
   "outputs": [],
   "source": [
    "assert(p.has_token(\"ETH\"))\n",
    "assert(p.has_token(\"USDC\"))\n",
    "assert(not p.has_token(\"WBTC\"))"
   ]
  },
  {
   "cell_type": "code",
   "execution_count": 17,
   "id": "c83af81c",
   "metadata": {},
   "outputs": [],
   "source": [
    "assert(not p.has_quotetoken(\"ETH\"))\n",
    "assert(p.has_quotetoken(\"USDC\"))\n",
    "assert(not p.has_quotetoken(\"WBTC\"))"
   ]
  },
  {
   "cell_type": "code",
   "execution_count": 18,
   "id": "a1428155",
   "metadata": {},
   "outputs": [],
   "source": [
    "assert(p.has_basetoken(\"ETH\"))\n",
    "assert(not p.has_basetoken(\"USDC\"))\n",
    "assert(not p.has_basetoken(\"WBTC\"))"
   ]
  },
  {
   "cell_type": "code",
   "execution_count": 19,
   "id": "80fbf424",
   "metadata": {},
   "outputs": [],
   "source": [
    "assert(p.other(\"ETH\")==\"USDC\")\n",
    "assert(p.other(\"USDC\")==\"ETH\")\n",
    "assert(p.other(\"WBTC\") is None)"
   ]
  },
  {
   "cell_type": "markdown",
   "id": "355c739d",
   "metadata": {},
   "source": [
    "Convert an ETH amount into a USDC amount with the price in the price convention of the pair"
   ]
  },
  {
   "cell_type": "code",
   "execution_count": 20,
   "id": "a6308405",
   "metadata": {},
   "outputs": [
    {
     "data": {
      "text/plain": [
       "2000"
      ]
     },
     "execution_count": 20,
     "metadata": {},
     "output_type": "execute_result"
    }
   ],
   "source": [
    "p.convert(1, \"ETH\", \"USDC\", 2000)"
   ]
  },
  {
   "cell_type": "markdown",
   "id": "65620b22",
   "metadata": {},
   "source": [
    "ditto ETH -> ETH (trivial)"
   ]
  },
  {
   "cell_type": "code",
   "execution_count": 21,
   "id": "35ce9201",
   "metadata": {},
   "outputs": [
    {
     "data": {
      "text/plain": [
       "1"
      ]
     },
     "execution_count": 21,
     "metadata": {},
     "output_type": "execute_result"
    }
   ],
   "source": [
    "p.convert(1, \"ETH\", \"ETH\", 2000)"
   ]
  },
  {
   "cell_type": "markdown",
   "id": "d6754a02",
   "metadata": {},
   "source": [
    "ditto USDC -> ETH (inverse rate!)"
   ]
  },
  {
   "cell_type": "code",
   "execution_count": 22,
   "id": "39f3512d",
   "metadata": {},
   "outputs": [
    {
     "data": {
      "text/plain": [
       "1.0"
      ]
     },
     "execution_count": 22,
     "metadata": {},
     "output_type": "execute_result"
    }
   ],
   "source": [
    "p.convert(2000, \"USDC\", \"ETH\", 2000)"
   ]
  },
  {
   "cell_type": "code",
   "execution_count": 23,
   "id": "de0cffb2",
   "metadata": {},
   "outputs": [],
   "source": [
    "assert(p.convert(1, \"ETH\", \"USDC\", 2000) == 2000)\n",
    "assert(p.convert(1, \"ETH\", \"ETH\", 2000) == 1)\n",
    "assert(p.convert(2000, \"USDC\", \"ETH\", 2000) == 1)\n",
    "assert(p.convert(1, \"USDC\", \"USDC\", 2000) == 1)"
   ]
  },
  {
   "cell_type": "code",
   "execution_count": 24,
   "id": "4ca7cea0",
   "metadata": {},
   "outputs": [],
   "source": [
    "assert(p.convert_price(2000, \"USDC\")==2000)\n",
    "assert(p.convert_price(1/2000, \"ETH\")==2000)"
   ]
  },
  {
   "cell_type": "code",
   "execution_count": 25,
   "id": "29034be3",
   "metadata": {},
   "outputs": [
    {
     "name": "stdout",
     "output_type": "stream",
     "text": [
      "Help on method limit_is_met in module carbon.pair:\n",
      "\n",
      "limit_is_met(tkn, limit_price, buysell, current_price, reverse=False, asphrase=False) method of carbon.pair.CarbonPair instance\n",
      "    checks whether a limit order has been met\n",
      "    \n",
      "    :tkn:               the token to be bought or sold\n",
      "    :limit_price:       the price at which the token is to be bought or sold; quoted\n",
      "                        in the price convention of this pair\n",
      "    :buysell:           whether the limit order is for buying or selling `tkn`; this is\n",
      "                        from the point of view of the person who PLACED the order; use\n",
      "                        `reverse=True` to do it from the point of view of the person\n",
      "                        who ACCEPTED the orders; use the constants BUY and SELL\n",
      "    :current_price:     the price which is tested against the limit order\n",
      "    :asphrase:          returns the result as an explanatory phrase instead of bool\n",
      "    :returns:           True if the limit order will lead to execution, false if not\n",
      "\n"
     ]
    }
   ],
   "source": [
    "help(p.limit_is_met)"
   ]
  },
  {
   "cell_type": "code",
   "execution_count": 26,
   "id": "6c9d32cb",
   "metadata": {},
   "outputs": [
    {
     "data": {
      "text/plain": [
       "'Order placer buys ETH at 1000 USDC per ETH (limit=2000)'"
      ]
     },
     "execution_count": 26,
     "metadata": {},
     "output_type": "execute_result"
    }
   ],
   "source": [
    "p.limit_is_met(\"ETH\", 2000, p.BUY, 1000, asphrase=True)"
   ]
  },
  {
   "cell_type": "code",
   "execution_count": 27,
   "id": "428d54d7",
   "metadata": {},
   "outputs": [
    {
     "data": {
      "text/plain": [
       "'Order placer does not sell ETH at 1000 USDC per ETH (limit=2000)'"
      ]
     },
     "execution_count": 27,
     "metadata": {},
     "output_type": "execute_result"
    }
   ],
   "source": [
    "p.limit_is_met(\"ETH\", 2000, p.SELL, 1000, asphrase=True)"
   ]
  },
  {
   "cell_type": "code",
   "execution_count": 28,
   "id": "cd1398b1",
   "metadata": {},
   "outputs": [
    {
     "data": {
      "text/plain": [
       "'Order placer does not buy USDC at 1000 USDC per ETH (limit=2000)'"
      ]
     },
     "execution_count": 28,
     "metadata": {},
     "output_type": "execute_result"
    }
   ],
   "source": [
    "p.limit_is_met(\"USDC\", 2000, p.BUY, 1000, asphrase=True)"
   ]
  },
  {
   "cell_type": "code",
   "execution_count": 29,
   "id": "37ba3ebd",
   "metadata": {},
   "outputs": [
    {
     "data": {
      "text/plain": [
       "'Order placer sells USDC at 1000 USDC per ETH (limit=2000)'"
      ]
     },
     "execution_count": 29,
     "metadata": {},
     "output_type": "execute_result"
    }
   ],
   "source": [
    "p.limit_is_met(\"USDC\", 2000, p.SELL, 1000, asphrase=True)"
   ]
  },
  {
   "cell_type": "code",
   "execution_count": 30,
   "id": "82164c52",
   "metadata": {},
   "outputs": [],
   "source": [
    "assert(p.limit_is_met(\"ETH\", 2000, p.BUY, 1000))\n",
    "assert(not p.limit_is_met(\"ETH\", 2000, p.SELL, 1000))\n",
    "assert(not p.limit_is_met(\"USDC\", 2000, p.BUY, 1000))\n",
    "assert(p.limit_is_met(\"USDC\", 2000, p.SELL, 1000))"
   ]
  },
  {
   "cell_type": "code",
   "execution_count": null,
   "id": "57ce8b82",
   "metadata": {
    "lines_to_next_cell": 2
   },
   "outputs": [],
   "source": []
  }
 ],
 "metadata": {
  "jupytext": {
   "formats": "ipynb,py:light"
  },
  "kernelspec": {
   "display_name": "Python 3",
   "language": "python",
   "name": "python3"
  },
  "language_info": {
   "codemirror_mode": {
    "name": "ipython",
    "version": 3
   },
   "file_extension": ".py",
   "mimetype": "text/x-python",
   "name": "python",
   "nbconvert_exporter": "python",
   "pygments_lexer": "ipython3",
   "version": "3.8.8"
  }
 },
 "nbformat": 4,
 "nbformat_minor": 5
}
