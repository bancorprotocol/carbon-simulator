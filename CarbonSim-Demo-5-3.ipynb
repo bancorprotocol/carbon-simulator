{
 "cells": [
  {
   "cell_type": "code",
   "execution_count": 13,
   "id": "628697ff",
   "metadata": {},
   "outputs": [
    {
     "name": "stdout",
     "output_type": "stream",
     "text": [
      "Carbon Version v2.0-beta3 (12/Dec/2022)\n"
     ]
    }
   ],
   "source": [
    "import pandas as pd\n",
    "from decimal import Decimal\n",
    "\n",
    "from carbon import CarbonSimulatorUI, __version__, __date__\n",
    "print(f\"Carbon Version v{__version__} ({__date__})\", )"
   ]
  },
  {
   "attachments": {},
   "cell_type": "markdown",
   "id": "8b9cc759",
   "metadata": {},
   "source": [
    "# Carbon Simulation - Demo 5-3"
   ]
  },
  {
   "attachments": {},
   "cell_type": "markdown",
   "id": "d35e7016",
   "metadata": {},
   "source": [
    "Initialize a fast simulator"
   ]
  },
  {
   "cell_type": "markdown",
   "source": [
    "It is the result of trading on a single order, which\n",
    "\n",
    "sells 1B USDC at a price of 1500 USDC per ETH (price range is from 1500 to 1000, but the start price, which each one of the trades above goes by, is 1500)"
   ],
   "metadata": {
    "collapsed": false
   }
  },
  {
   "cell_type": "code",
   "execution_count": 14,
   "id": "0c3bdc28",
   "metadata": {},
   "outputs": [],
   "source": [
    "FastSim = CarbonSimulatorUI(pair=\"ETH/USDC\", verbose=False, matching_method='fast', raiseonerror=True)\n",
    "\n",
    "# FastSim.debug = True"
   ]
  },
  {
   "cell_type": "code",
   "execution_count": 15,
   "id": "6f6dab0c",
   "metadata": {},
   "outputs": [
    {
     "data": {
      "text/plain": "   id     pair   tkn         y_int             y y_unit  disabled p_start  \\\n0   0  ETHUSDC  USDC  1.000000e+09  1.000000e+09   USDC     False  1500.0   \n1   1  ETHUSDC   ETH  0.000000e+00  0.000000e+00    ETH      True    None   \n\n    p_end  p_marg        p_unit  lid  \n0  1000.0  1500.0  USDC per ETH    1  \n1    None    None  USDC per ETH    0  ",
      "text/html": "<div>\n<style scoped>\n    .dataframe tbody tr th:only-of-type {\n        vertical-align: middle;\n    }\n\n    .dataframe tbody tr th {\n        vertical-align: top;\n    }\n\n    .dataframe thead th {\n        text-align: right;\n    }\n</style>\n<table border=\"1\" class=\"dataframe\">\n  <thead>\n    <tr style=\"text-align: right;\">\n      <th></th>\n      <th>id</th>\n      <th>pair</th>\n      <th>tkn</th>\n      <th>y_int</th>\n      <th>y</th>\n      <th>y_unit</th>\n      <th>disabled</th>\n      <th>p_start</th>\n      <th>p_end</th>\n      <th>p_marg</th>\n      <th>p_unit</th>\n      <th>lid</th>\n    </tr>\n  </thead>\n  <tbody>\n    <tr>\n      <th>0</th>\n      <td>0</td>\n      <td>ETHUSDC</td>\n      <td>USDC</td>\n      <td>1.000000e+09</td>\n      <td>1.000000e+09</td>\n      <td>USDC</td>\n      <td>False</td>\n      <td>1500.0</td>\n      <td>1000.0</td>\n      <td>1500.0</td>\n      <td>USDC per ETH</td>\n      <td>1</td>\n    </tr>\n    <tr>\n      <th>1</th>\n      <td>1</td>\n      <td>ETHUSDC</td>\n      <td>ETH</td>\n      <td>0.000000e+00</td>\n      <td>0.000000e+00</td>\n      <td>ETH</td>\n      <td>True</td>\n      <td>None</td>\n      <td>None</td>\n      <td>None</td>\n      <td>USDC per ETH</td>\n      <td>0</td>\n    </tr>\n  </tbody>\n</table>\n</div>"
     },
     "execution_count": 15,
     "metadata": {},
     "output_type": "execute_result"
    }
   ],
   "source": [
    "FastSim.add_strategy('USDC', Decimal(1000000000), Decimal(1500), Decimal(1000), 0, None, None)\n",
    "FastSim.state()['orders']"
   ]
  },
  {
   "cell_type": "markdown",
   "id": "ddcb2714",
   "metadata": {},
   "source": [
    "## Route by Source"
   ]
  },
  {
   "cell_type": "markdown",
   "id": "8184d9bc",
   "metadata": {},
   "source": [
    "#### AMM buys ETH\n",
    "\n",
    "* tradeBySourceAmount: input =     10.0 ETH , output =   14999.958711 USDC, rate = 1499.9958711\n",
    "* tradeBySourceAmount: input =    100.0 ETH , output =  149995.871286 USDC, rate = 1499.95871286\n",
    "* tradeBySourceAmount: input =   1000.0 ETH , output = 1499587.230921 USDC, rate = 1499.587230921"
   ]
  },
  {
   "cell_type": "code",
   "execution_count": 16,
   "id": "3b545a2d",
   "metadata": {},
   "outputs": [
    {
     "data": {
      "text/plain": "   uid  id subid                                note   aggr   exec limitfail  \\\n0  0.0   0     0                            route #0  False  False      None   \n0    0   0     A      AMM sells 15000USDC buys 10ETH   True  False      None   \n0  1.0   1     0                            route #0  False  False      None   \n0    1   1     A    AMM sells 149996USDC buys 100ETH   True  False      None   \n0  2.0   2     0                            route #0  False  False      None   \n0    2   2     A  AMM sells 1499587USDC buys 1000ETH   True  False      None   \n\n           amt1  tkn1    amt2 tkn2     pair routeix  nroutes        price  \\\n0  1.499996e+04  USDC    10.0  ETH  ETHUSDC       0        1  1499.995871   \n0  1.499996e+04  USDC    10.0  ETH  ETHUSDC     [0]        1  1499.995871   \n0  1.499959e+05  USDC   100.0  ETH  ETHUSDC       0        1  1499.958713   \n0  1.499959e+05  USDC   100.0  ETH  ETHUSDC     [0]        1  1499.958713   \n0  1.499587e+06  USDC  1000.0  ETH  ETHUSDC       0        1  1499.587231   \n0  1.499587e+06  USDC  1000.0  ETH  ETHUSDC     [0]        1  1499.587231   \n\n         p_unit  \n0  USDC per ETH  \n0  USDC per ETH  \n0  USDC per ETH  \n0  USDC per ETH  \n0  USDC per ETH  \n0  USDC per ETH  ",
      "text/html": "<div>\n<style scoped>\n    .dataframe tbody tr th:only-of-type {\n        vertical-align: middle;\n    }\n\n    .dataframe tbody tr th {\n        vertical-align: top;\n    }\n\n    .dataframe thead th {\n        text-align: right;\n    }\n</style>\n<table border=\"1\" class=\"dataframe\">\n  <thead>\n    <tr style=\"text-align: right;\">\n      <th></th>\n      <th>uid</th>\n      <th>id</th>\n      <th>subid</th>\n      <th>note</th>\n      <th>aggr</th>\n      <th>exec</th>\n      <th>limitfail</th>\n      <th>amt1</th>\n      <th>tkn1</th>\n      <th>amt2</th>\n      <th>tkn2</th>\n      <th>pair</th>\n      <th>routeix</th>\n      <th>nroutes</th>\n      <th>price</th>\n      <th>p_unit</th>\n    </tr>\n  </thead>\n  <tbody>\n    <tr>\n      <th>0</th>\n      <td>0.0</td>\n      <td>0</td>\n      <td>0</td>\n      <td>route #0</td>\n      <td>False</td>\n      <td>False</td>\n      <td>None</td>\n      <td>1.499996e+04</td>\n      <td>USDC</td>\n      <td>10.0</td>\n      <td>ETH</td>\n      <td>ETHUSDC</td>\n      <td>0</td>\n      <td>1</td>\n      <td>1499.995871</td>\n      <td>USDC per ETH</td>\n    </tr>\n    <tr>\n      <th>0</th>\n      <td>0</td>\n      <td>0</td>\n      <td>A</td>\n      <td>AMM sells 15000USDC buys 10ETH</td>\n      <td>True</td>\n      <td>False</td>\n      <td>None</td>\n      <td>1.499996e+04</td>\n      <td>USDC</td>\n      <td>10.0</td>\n      <td>ETH</td>\n      <td>ETHUSDC</td>\n      <td>[0]</td>\n      <td>1</td>\n      <td>1499.995871</td>\n      <td>USDC per ETH</td>\n    </tr>\n    <tr>\n      <th>0</th>\n      <td>1.0</td>\n      <td>1</td>\n      <td>0</td>\n      <td>route #0</td>\n      <td>False</td>\n      <td>False</td>\n      <td>None</td>\n      <td>1.499959e+05</td>\n      <td>USDC</td>\n      <td>100.0</td>\n      <td>ETH</td>\n      <td>ETHUSDC</td>\n      <td>0</td>\n      <td>1</td>\n      <td>1499.958713</td>\n      <td>USDC per ETH</td>\n    </tr>\n    <tr>\n      <th>0</th>\n      <td>1</td>\n      <td>1</td>\n      <td>A</td>\n      <td>AMM sells 149996USDC buys 100ETH</td>\n      <td>True</td>\n      <td>False</td>\n      <td>None</td>\n      <td>1.499959e+05</td>\n      <td>USDC</td>\n      <td>100.0</td>\n      <td>ETH</td>\n      <td>ETHUSDC</td>\n      <td>[0]</td>\n      <td>1</td>\n      <td>1499.958713</td>\n      <td>USDC per ETH</td>\n    </tr>\n    <tr>\n      <th>0</th>\n      <td>2.0</td>\n      <td>2</td>\n      <td>0</td>\n      <td>route #0</td>\n      <td>False</td>\n      <td>False</td>\n      <td>None</td>\n      <td>1.499587e+06</td>\n      <td>USDC</td>\n      <td>1000.0</td>\n      <td>ETH</td>\n      <td>ETHUSDC</td>\n      <td>0</td>\n      <td>1</td>\n      <td>1499.587231</td>\n      <td>USDC per ETH</td>\n    </tr>\n    <tr>\n      <th>0</th>\n      <td>2</td>\n      <td>2</td>\n      <td>A</td>\n      <td>AMM sells 1499587USDC buys 1000ETH</td>\n      <td>True</td>\n      <td>False</td>\n      <td>None</td>\n      <td>1.499587e+06</td>\n      <td>USDC</td>\n      <td>1000.0</td>\n      <td>ETH</td>\n      <td>ETHUSDC</td>\n      <td>[0]</td>\n      <td>1</td>\n      <td>1499.587231</td>\n      <td>USDC per ETH</td>\n    </tr>\n  </tbody>\n</table>\n</div>"
     },
     "execution_count": 16,
     "metadata": {},
     "output_type": "execute_result"
    }
   ],
   "source": [
    "FastSim.trader_sells('ETH',Decimal(10), execute=False)\n",
    "FastSim.trader_sells('ETH',Decimal(100), execute=False)\n",
    "FastSim.trader_sells('ETH',Decimal(1000), execute=False)\n",
    "results = FastSim.state()['trades']\n",
    "\n",
    "# we can see that the output is as expected below\n",
    "results"
   ]
  },
  {
   "cell_type": "markdown",
   "source": [
    "Now, verify that changing current_rate works or goes in the opposite direction"
   ],
   "metadata": {
    "collapsed": false
   }
  },
  {
   "cell_type": "code",
   "execution_count": 17,
   "outputs": [
    {
     "data": {
      "text/plain": "   uid  id subid                                note   aggr  exec limitfail  \\\n0  0.0   0     0                            route #0  False  True      None   \n0    0   0     A  AMM sells 1499587USDC buys 1000ETH   True  True      None   \n0  1.0   1     0                            route #0  False  True      None   \n0    1   1     A  AMM sells 1498762USDC buys 1000ETH   True  True      None   \n0  2.0   2     0                            route #0  False  True      None   \n0    2   2     A  AMM sells 1497938USDC buys 1000ETH   True  True      None   \n\n           amt1  tkn1    amt2 tkn2     pair routeix  nroutes        price  \\\n0  1.499587e+06  USDC  1000.0  ETH  ETHUSDC       0        1  1499.587231   \n0  1.499587e+06  USDC  1000.0  ETH  ETHUSDC     [0]        1  1499.587231   \n0  1.498762e+06  USDC  1000.0  ETH  ETHUSDC       0        1  1498.762147   \n0  1.498762e+06  USDC  1000.0  ETH  ETHUSDC     [0]        1  1498.762147   \n0  1.497938e+06  USDC  1000.0  ETH  ETHUSDC       0        1  1497.937744   \n0  1.497938e+06  USDC  1000.0  ETH  ETHUSDC     [0]        1  1497.937744   \n\n         p_unit  \n0  USDC per ETH  \n0  USDC per ETH  \n0  USDC per ETH  \n0  USDC per ETH  \n0  USDC per ETH  \n0  USDC per ETH  ",
      "text/html": "<div>\n<style scoped>\n    .dataframe tbody tr th:only-of-type {\n        vertical-align: middle;\n    }\n\n    .dataframe tbody tr th {\n        vertical-align: top;\n    }\n\n    .dataframe thead th {\n        text-align: right;\n    }\n</style>\n<table border=\"1\" class=\"dataframe\">\n  <thead>\n    <tr style=\"text-align: right;\">\n      <th></th>\n      <th>uid</th>\n      <th>id</th>\n      <th>subid</th>\n      <th>note</th>\n      <th>aggr</th>\n      <th>exec</th>\n      <th>limitfail</th>\n      <th>amt1</th>\n      <th>tkn1</th>\n      <th>amt2</th>\n      <th>tkn2</th>\n      <th>pair</th>\n      <th>routeix</th>\n      <th>nroutes</th>\n      <th>price</th>\n      <th>p_unit</th>\n    </tr>\n  </thead>\n  <tbody>\n    <tr>\n      <th>0</th>\n      <td>0.0</td>\n      <td>0</td>\n      <td>0</td>\n      <td>route #0</td>\n      <td>False</td>\n      <td>True</td>\n      <td>None</td>\n      <td>1.499587e+06</td>\n      <td>USDC</td>\n      <td>1000.0</td>\n      <td>ETH</td>\n      <td>ETHUSDC</td>\n      <td>0</td>\n      <td>1</td>\n      <td>1499.587231</td>\n      <td>USDC per ETH</td>\n    </tr>\n    <tr>\n      <th>0</th>\n      <td>0</td>\n      <td>0</td>\n      <td>A</td>\n      <td>AMM sells 1499587USDC buys 1000ETH</td>\n      <td>True</td>\n      <td>True</td>\n      <td>None</td>\n      <td>1.499587e+06</td>\n      <td>USDC</td>\n      <td>1000.0</td>\n      <td>ETH</td>\n      <td>ETHUSDC</td>\n      <td>[0]</td>\n      <td>1</td>\n      <td>1499.587231</td>\n      <td>USDC per ETH</td>\n    </tr>\n    <tr>\n      <th>0</th>\n      <td>1.0</td>\n      <td>1</td>\n      <td>0</td>\n      <td>route #0</td>\n      <td>False</td>\n      <td>True</td>\n      <td>None</td>\n      <td>1.498762e+06</td>\n      <td>USDC</td>\n      <td>1000.0</td>\n      <td>ETH</td>\n      <td>ETHUSDC</td>\n      <td>0</td>\n      <td>1</td>\n      <td>1498.762147</td>\n      <td>USDC per ETH</td>\n    </tr>\n    <tr>\n      <th>0</th>\n      <td>1</td>\n      <td>1</td>\n      <td>A</td>\n      <td>AMM sells 1498762USDC buys 1000ETH</td>\n      <td>True</td>\n      <td>True</td>\n      <td>None</td>\n      <td>1.498762e+06</td>\n      <td>USDC</td>\n      <td>1000.0</td>\n      <td>ETH</td>\n      <td>ETHUSDC</td>\n      <td>[0]</td>\n      <td>1</td>\n      <td>1498.762147</td>\n      <td>USDC per ETH</td>\n    </tr>\n    <tr>\n      <th>0</th>\n      <td>2.0</td>\n      <td>2</td>\n      <td>0</td>\n      <td>route #0</td>\n      <td>False</td>\n      <td>True</td>\n      <td>None</td>\n      <td>1.497938e+06</td>\n      <td>USDC</td>\n      <td>1000.0</td>\n      <td>ETH</td>\n      <td>ETHUSDC</td>\n      <td>0</td>\n      <td>1</td>\n      <td>1497.937744</td>\n      <td>USDC per ETH</td>\n    </tr>\n    <tr>\n      <th>0</th>\n      <td>2</td>\n      <td>2</td>\n      <td>A</td>\n      <td>AMM sells 1497938USDC buys 1000ETH</td>\n      <td>True</td>\n      <td>True</td>\n      <td>None</td>\n      <td>1.497938e+06</td>\n      <td>USDC</td>\n      <td>1000.0</td>\n      <td>ETH</td>\n      <td>ETHUSDC</td>\n      <td>[0]</td>\n      <td>1</td>\n      <td>1497.937744</td>\n      <td>USDC per ETH</td>\n    </tr>\n  </tbody>\n</table>\n</div>"
     },
     "execution_count": 17,
     "metadata": {},
     "output_type": "execute_result"
    }
   ],
   "source": [
    "# Re-initialize to origin state for clarity / readability of output\n",
    "FastSim = CarbonSimulatorUI(pair=\"ETH/USDC\", verbose=False, matching_method='fast', raiseonerror=True)\n",
    "FastSim.add_strategy('USDC', Decimal(1000000000), Decimal(1500), Decimal(1000), 0, None, None)\n",
    "\n",
    "# Now, verify that changing current_rate works or goes in the opposite direction\n",
    "# we do this by setting execute=True which will change the current_rate accordingly\n",
    "FastSim.trader_sells('ETH',Decimal(1000), execute=True)\n",
    "FastSim.trader_sells('ETH',Decimal(1000), execute=True)\n",
    "FastSim.trader_sells('ETH',Decimal(1000), execute=True)\n",
    "\n",
    "# the trader sells ETH, increasing the supply - therefore we would expect the current_rate / price to go down, and it does\n",
    "results = FastSim.state()['trades']\n",
    "results"
   ],
   "metadata": {
    "collapsed": false
   }
  },
  {
   "cell_type": "markdown",
   "id": "02e69cb7",
   "metadata": {},
   "source": [
    "## Route by Target"
   ]
  },
  {
   "attachments": {},
   "cell_type": "markdown",
   "id": "3198de51",
   "metadata": {},
   "source": [
    "#### Trader Buys USDC\n",
    "\n",
    "* tradeByTargetAmount: input =   1500.0 USDC, output =       1.000001 ETH , rate =    0.000666667\n",
    "* tradeByTargetAmount: input =  15000.0 USDC, output =      10.000028 ETH , rate =    0.000666668\n",
    "* tradeByTargetAmount: input = 150000.0 USDC, output =     100.002753 ETH , rate =    0.000666685\n"
   ]
  },
  {
   "cell_type": "code",
   "execution_count": 18,
   "id": "2cb966d3",
   "metadata": {},
   "outputs": [
    {
     "data": {
      "text/plain": "   uid  id subid                              note   aggr   exec limitfail  \\\n0  0.0   0     0                          route #0  False  False      None   \n0    0   0     A      AMM sells 2USDC buys 1500ETH   True  False      None   \n0  1.0   1     0                          route #0  False  False      None   \n0    1   1     A    AMM sells 11USDC buys 15000ETH   True  False      None   \n0  2.0   2     0                          route #0  False  False      None   \n0    2   2     A  AMM sells 101USDC buys 150000ETH   True  False      None   \n\n         amt1  tkn1      amt2 tkn2     pair routeix  nroutes  \\\n0    2.000000  USDC    1500.0  ETH  USDCETH       0        1   \n0    2.000000  USDC    1500.0  ETH  USDCETH     [0]        1   \n0   11.000028  USDC   15000.0  ETH  USDCETH       0        1   \n0   11.000028  USDC   15000.0  ETH  USDCETH     [0]        1   \n0  101.002753  USDC  150000.0  ETH  USDCETH       0        1   \n0  101.002753  USDC  150000.0  ETH  USDCETH     [0]        1   \n\n                                               price        p_unit  \n0  0.00133333351644446953361589571374371792748765...  ETH per USDC  \n0  0.00133333351644446959170715726111626385996690...  ETH per USDC  \n0  0.00073333516857792619051699417285796870857927...  ETH per USDC  \n0  0.00073333516857792621645148262481375019222456...  ETH per USDC  \n0  0.00067335168423167377803658208142496572386554...  ETH per USDC  \n0  0.00067335168423167381142182759982903331396684...  ETH per USDC  ",
      "text/html": "<div>\n<style scoped>\n    .dataframe tbody tr th:only-of-type {\n        vertical-align: middle;\n    }\n\n    .dataframe tbody tr th {\n        vertical-align: top;\n    }\n\n    .dataframe thead th {\n        text-align: right;\n    }\n</style>\n<table border=\"1\" class=\"dataframe\">\n  <thead>\n    <tr style=\"text-align: right;\">\n      <th></th>\n      <th>uid</th>\n      <th>id</th>\n      <th>subid</th>\n      <th>note</th>\n      <th>aggr</th>\n      <th>exec</th>\n      <th>limitfail</th>\n      <th>amt1</th>\n      <th>tkn1</th>\n      <th>amt2</th>\n      <th>tkn2</th>\n      <th>pair</th>\n      <th>routeix</th>\n      <th>nroutes</th>\n      <th>price</th>\n      <th>p_unit</th>\n    </tr>\n  </thead>\n  <tbody>\n    <tr>\n      <th>0</th>\n      <td>0.0</td>\n      <td>0</td>\n      <td>0</td>\n      <td>route #0</td>\n      <td>False</td>\n      <td>False</td>\n      <td>None</td>\n      <td>2.000000</td>\n      <td>USDC</td>\n      <td>1500.0</td>\n      <td>ETH</td>\n      <td>USDCETH</td>\n      <td>0</td>\n      <td>1</td>\n      <td>0.00133333351644446953361589571374371792748765...</td>\n      <td>ETH per USDC</td>\n    </tr>\n    <tr>\n      <th>0</th>\n      <td>0</td>\n      <td>0</td>\n      <td>A</td>\n      <td>AMM sells 2USDC buys 1500ETH</td>\n      <td>True</td>\n      <td>False</td>\n      <td>None</td>\n      <td>2.000000</td>\n      <td>USDC</td>\n      <td>1500.0</td>\n      <td>ETH</td>\n      <td>USDCETH</td>\n      <td>[0]</td>\n      <td>1</td>\n      <td>0.00133333351644446959170715726111626385996690...</td>\n      <td>ETH per USDC</td>\n    </tr>\n    <tr>\n      <th>0</th>\n      <td>1.0</td>\n      <td>1</td>\n      <td>0</td>\n      <td>route #0</td>\n      <td>False</td>\n      <td>False</td>\n      <td>None</td>\n      <td>11.000028</td>\n      <td>USDC</td>\n      <td>15000.0</td>\n      <td>ETH</td>\n      <td>USDCETH</td>\n      <td>0</td>\n      <td>1</td>\n      <td>0.00073333516857792619051699417285796870857927...</td>\n      <td>ETH per USDC</td>\n    </tr>\n    <tr>\n      <th>0</th>\n      <td>1</td>\n      <td>1</td>\n      <td>A</td>\n      <td>AMM sells 11USDC buys 15000ETH</td>\n      <td>True</td>\n      <td>False</td>\n      <td>None</td>\n      <td>11.000028</td>\n      <td>USDC</td>\n      <td>15000.0</td>\n      <td>ETH</td>\n      <td>USDCETH</td>\n      <td>[0]</td>\n      <td>1</td>\n      <td>0.00073333516857792621645148262481375019222456...</td>\n      <td>ETH per USDC</td>\n    </tr>\n    <tr>\n      <th>0</th>\n      <td>2.0</td>\n      <td>2</td>\n      <td>0</td>\n      <td>route #0</td>\n      <td>False</td>\n      <td>False</td>\n      <td>None</td>\n      <td>101.002753</td>\n      <td>USDC</td>\n      <td>150000.0</td>\n      <td>ETH</td>\n      <td>USDCETH</td>\n      <td>0</td>\n      <td>1</td>\n      <td>0.00067335168423167377803658208142496572386554...</td>\n      <td>ETH per USDC</td>\n    </tr>\n    <tr>\n      <th>0</th>\n      <td>2</td>\n      <td>2</td>\n      <td>A</td>\n      <td>AMM sells 101USDC buys 150000ETH</td>\n      <td>True</td>\n      <td>False</td>\n      <td>None</td>\n      <td>101.002753</td>\n      <td>USDC</td>\n      <td>150000.0</td>\n      <td>ETH</td>\n      <td>USDCETH</td>\n      <td>[0]</td>\n      <td>1</td>\n      <td>0.00067335168423167381142182759982903331396684...</td>\n      <td>ETH per USDC</td>\n    </tr>\n  </tbody>\n</table>\n</div>"
     },
     "execution_count": 18,
     "metadata": {},
     "output_type": "execute_result"
    }
   ],
   "source": [
    "# Re-initialize to origin state for clarity / readability of output\n",
    "FastSim = CarbonSimulatorUI(pair=\"USDC/ETH\", verbose=False, matching_method='fast', raiseonerror=True)\n",
    "FastSim.add_strategy('USDC', Decimal(1000000000), 1/Decimal(1500), 1/Decimal(1000))\n",
    ", 0, None, None)\n",
    "\n",
    "# Now perform route by target trade\n",
    "FastSim.trader_buys('USDC',Decimal(1500), execute=False)\n",
    "FastSim.trader_buys('USDC',Decimal(15000), execute=False)\n",
    "FastSim.trader_buys('USDC',Decimal(150000), execute=False)\n",
    "results = FastSim.state()['trades']\n",
    "\n",
    "# Note that the results are not quite as expected (per Barak's output in bullets above, where price=0.00673 matches but the others do not)\n",
    "results"
   ]
  },
  {
   "cell_type": "markdown",
   "source": [],
   "metadata": {
    "collapsed": false
   }
  }
 ],
 "metadata": {
  "kernelspec": {
   "display_name": "Python 3.10.8 64-bit",
   "language": "python",
   "name": "python3"
  },
  "language_info": {
   "codemirror_mode": {
    "name": "ipython",
    "version": 3
   },
   "file_extension": ".py",
   "mimetype": "text/x-python",
   "name": "python",
   "nbconvert_exporter": "python",
   "pygments_lexer": "ipython3",
   "version": "3.10.8"
  },
  "vscode": {
   "interpreter": {
    "hash": "43f221103f953d3e0d93840edd77be981e5a5e0e42edc048e3de5278c46a3390"
   }
  }
 },
 "nbformat": 4,
 "nbformat_minor": 5
}
