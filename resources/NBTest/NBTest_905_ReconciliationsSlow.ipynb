{
 "cells": [
  {
   "cell_type": "code",
   "execution_count": 1,
   "id": "3e1dc0ae",
   "metadata": {},
   "outputs": [
    {
     "name": "stdout",
     "output_type": "stream",
     "text": [
      "[stdimports] imported np, pd, plt, os, sqrt, exp, log\n",
      "CarbonOrderUI v1.7.1 (12/Feb/2023)\n",
      "Carbon v2.3.3-BETA1 (12/Feb/2022)\n"
     ]
    }
   ],
   "source": [
    "from carbon.helpers.stdimports import *\n",
    "from carbon.helpers.soltest import SolTestBase\n",
    "from carbon.helpers.floatint import *\n",
    "#print(\"{0.__name__} v{0.__VERSION__} ({0.__DATE__})\".format(SolTestBase))\n",
    "#print(\"{0.__name__} v{0.__VERSION__} ({0.__DATE__})\".format(CarbonFloatInt32))\n",
    "print(\"{0.__name__} v{0.__VERSION__} ({0.__DATE__})\".format(CarbonOrderUI))\n",
    "#print(\"{0.__name__} v{0.__VERSION__} ({0.__DATE__})\".format(P))\n",
    "from math import log2, floor, ceil, sqrt\n",
    "print_version(require=\"2.3.3\")"
   ]
  },
  {
   "cell_type": "markdown",
   "id": "298bc7a9",
   "metadata": {},
   "source": [
    "# Reconciliations (NBTest905)"
   ]
  },
  {
   "cell_type": "markdown",
   "id": "1efe79f6-099d-46b9-b303-d14173487aaf",
   "metadata": {},
   "source": [
    "## Reconcile CarbonOrderUI vs Core Sim"
   ]
  },
  {
   "cell_type": "code",
   "execution_count": 85,
   "id": "204bff20-644c-439c-83b0-225eabd6239b",
   "metadata": {},
   "outputs": [
    {
     "data": {
      "text/html": [
       "<div>\n",
       "<style scoped>\n",
       "    .dataframe tbody tr th:only-of-type {\n",
       "        vertical-align: middle;\n",
       "    }\n",
       "\n",
       "    .dataframe tbody tr th {\n",
       "        vertical-align: top;\n",
       "    }\n",
       "\n",
       "    .dataframe thead th {\n",
       "        text-align: right;\n",
       "    }\n",
       "</style>\n",
       "<table border=\"1\" class=\"dataframe\">\n",
       "  <thead>\n",
       "    <tr style=\"text-align: right;\">\n",
       "      <th></th>\n",
       "      <th>id</th>\n",
       "      <th>pair</th>\n",
       "      <th>tkn</th>\n",
       "      <th>y_int</th>\n",
       "      <th>y</th>\n",
       "      <th>y_unit</th>\n",
       "      <th>disabled</th>\n",
       "      <th>p_start</th>\n",
       "      <th>p_end</th>\n",
       "      <th>p_marg</th>\n",
       "      <th>p_unit</th>\n",
       "      <th>lid</th>\n",
       "    </tr>\n",
       "  </thead>\n",
       "  <tbody>\n",
       "    <tr>\n",
       "      <th>0</th>\n",
       "      <td>0</td>\n",
       "      <td>ETHUSDC</td>\n",
       "      <td>ETH</td>\n",
       "      <td>10.0</td>\n",
       "      <td>10.0</td>\n",
       "      <td>ETH</td>\n",
       "      <td>False</td>\n",
       "      <td>1500.0</td>\n",
       "      <td>2000.0</td>\n",
       "      <td>1500.0</td>\n",
       "      <td>USDC per ETH</td>\n",
       "      <td>1</td>\n",
       "    </tr>\n",
       "    <tr>\n",
       "      <th>1</th>\n",
       "      <td>1</td>\n",
       "      <td>ETHUSDC</td>\n",
       "      <td>USDC</td>\n",
       "      <td>1000.0</td>\n",
       "      <td>1000.0</td>\n",
       "      <td>USDC</td>\n",
       "      <td>False</td>\n",
       "      <td>750.0</td>\n",
       "      <td>500.0</td>\n",
       "      <td>750.0</td>\n",
       "      <td>USDC per ETH</td>\n",
       "      <td>0</td>\n",
       "    </tr>\n",
       "  </tbody>\n",
       "</table>\n",
       "</div>"
      ],
      "text/plain": [
       "   id     pair   tkn   y_int       y y_unit  disabled  p_start   p_end  \\\n",
       "0   0  ETHUSDC   ETH    10.0    10.0    ETH     False   1500.0  2000.0   \n",
       "1   1  ETHUSDC  USDC  1000.0  1000.0   USDC     False    750.0   500.0   \n",
       "\n",
       "   p_marg        p_unit  lid  \n",
       "0  1500.0  USDC per ETH    1  \n",
       "1   750.0  USDC per ETH    0  "
      ]
     },
     "execution_count": 85,
     "metadata": {},
     "output_type": "execute_result"
    }
   ],
   "source": [
    "Sim = CarbonSimulatorUI(pair=P(\"ETH/USDC\"), raiseonerror=True)\n",
    "r = Sim.add_strategy(\"ETH\", 10, 1500, 2000, 1000, 750, 500)\n",
    "r[\"orders\"]"
   ]
  },
  {
   "cell_type": "code",
   "execution_count": 86,
   "id": "f6951658-bd79-42df-acb2-e48f5cf10e93",
   "metadata": {},
   "outputs": [
    {
     "data": {
      "text/plain": [
       "{0: CarbonOrderUI(pair=P('ETH/USDC'), tkn=ETH, B=0.022360679774997897, S=0.0034592091997182155, yint=10.0, y=10.0, id=0, linked=<1>),\n",
       " 1: CarbonOrderUI(pair=P('ETH/USDC'), tkn=USDC, B=22.360679774997898, S=5.025448100260409, yint=1000.0, y=1000.0, id=1, linked=<0>)}"
      ]
     },
     "execution_count": 86,
     "metadata": {},
     "output_type": "execute_result"
    }
   ],
   "source": [
    "ouis=r[\"orderuis\"]\n",
    "ouis"
   ]
  },
  {
   "cell_type": "markdown",
   "id": "8eb61ce4-c797-47b4-b792-ba0426d5232e",
   "metadata": {},
   "source": [
    "### amm_sells ETH (dx from dy)"
   ]
  },
  {
   "cell_type": "code",
   "execution_count": 95,
   "id": "91c50176-1648-420d-8f78-0d9c65d1da4d",
   "metadata": {},
   "outputs": [
    {
     "data": {
      "text/plain": [
       "(150.201231493404, 150.20123149340415)"
      ]
     },
     "execution_count": 95,
     "metadata": {},
     "output_type": "execute_result"
    }
   ],
   "source": [
    "size = 0.1\n",
    "r = Sim.amm_sells(\"ETH\", size, execute=False)\n",
    "tr = r[\"trades\"].query(\"aggr==True\").iloc[0]\n",
    "r = Sim.amm_sells(\"ETH\", size, execute=False)\n",
    "tr2 = r[\"trades\"].query(\"aggr==True\").iloc[0]\n",
    "assert tr[\"price\"] == tr2[\"price\"] # check trades are NOT being executed\n",
    "dx = ouis[0].dxfromdy_f(size)\n",
    "assert abs(dx/tr[\"amt2\"] - 1) < 1e-10\n",
    "tr2[\"amt2\"], dx"
   ]
  },
  {
   "cell_type": "code",
   "execution_count": 97,
   "id": "047d7bf6-73d6-47e5-b023-ace208059527",
   "metadata": {},
   "outputs": [
    {
     "name": "stdout",
     "output_type": "stream",
     "text": [
      "0.1 150.201231493404 150.20123149340415 -9.992007221626409e-16\n",
      "0.2 300.806007267257 300.80600726725703 -2.220446049250313e-16\n",
      "0.30000000000000004 451.815955807291 451.815955807291 0.0\n",
      "0.4 603.232714373287 603.2327143732872 -3.3306690738754696e-16\n",
      "0.5 755.057929058247 755.0579290582469 2.220446049250313e-16\n",
      "0.6 907.293254848042 907.2932548480424 -3.3306690738754696e-16\n",
      "0.7000000000000001 1059.940355681551 1059.9403556815514 -4.440892098500626e-16\n",
      "0.8 1213.000904511281 1213.0009045112809 2.220446049250313e-16\n",
      "0.9 1366.476583364485 1366.4765833644851 -1.1102230246251565e-16\n",
      "1.0 1520.369083404778 1520.3690834047782 -1.1102230246251565e-16\n"
     ]
    }
   ],
   "source": [
    "for size in np.linspace(0.1,1,10):\n",
    "    r = Sim.amm_sells(\"ETH\", size, execute=False)\n",
    "    tr = r[\"trades\"].query(\"aggr==True\").iloc[0]\n",
    "    amts = tr[\"amt2\"]\n",
    "    dx = ouis[0].dxfromdy_f(size)\n",
    "    print(size, amts, dx, amts/dx-1)\n",
    "    assert abs(amts/dx - 1) < 1e-10"
   ]
  },
  {
   "cell_type": "markdown",
   "id": "6835e2cc-da2a-4739-b212-cc33da7ee685",
   "metadata": {},
   "source": [
    "### amm_sells USDC (dx from dy)"
   ]
  },
  {
   "cell_type": "code",
   "execution_count": 108,
   "id": "bcdaf43a-d758-450b-8492-b7a637816c28",
   "metadata": {},
   "outputs": [
    {
     "name": "stdout",
     "output_type": "stream",
     "text": [
      "0.1 0.00013333578 0.00013333578009048648 -6.786361472777003e-10\n",
      "111.19999999999999 0.15135515645 0.15135515645042602 -2.8147484343321594e-12\n",
      "222.29999999999998 0.309005190024 0.3090051900241366 -4.4209080840573733e-13\n",
      "333.4 0.473502217928 0.47350221792774383 5.411227022023013e-13\n",
      "444.5 0.645302205773 0.6453022057730544 -8.426592756904938e-14\n",
      "555.6 0.824902524093 0.8249025240928146 2.2470914018413168e-13\n",
      "666.6999999999999 1.01284675734 1.012846757340231 -2.282618538629322e-13\n",
      "777.8 1.209730199081 1.2097301990811244 -1.028066520802895e-13\n",
      "888.9 1.416206150393 1.4162061503925296 3.3217872896784684e-13\n",
      "1000.0 1.632993161855 1.6329931618554518 -2.76667577736589e-13\n"
     ]
    }
   ],
   "source": [
    "for size in np.linspace(0.1,1000,10):\n",
    "    r = Sim.amm_sells(\"USDC\", size, execute=False)\n",
    "    tr = r[\"trades\"].query(\"aggr==True\").iloc[0]\n",
    "    amts = tr[\"amt2\"]\n",
    "    dx = ouis[1].dxfromdy_f(size)\n",
    "    print(size, amts, dx, amts/dx-1)\n",
    "    assert abs(amts/dx - 1) < 1e-8"
   ]
  },
  {
   "cell_type": "markdown",
   "id": "8f8e7fc7-ffcf-4e7a-9e08-dd3b9492e1f4",
   "metadata": {},
   "source": [
    "### amm_buys USDC (dy from dx)"
   ]
  },
  {
   "cell_type": "code",
   "execution_count": 122,
   "id": "b8b11deb-d1ec-4a8f-afb3-8bf215529feb",
   "metadata": {},
   "outputs": [
    {
     "name": "stdout",
     "output_type": "stream",
     "text": [
      "0.1 6.6666607e-05 6.666660712245485e-05 -1.8368243592803424e-09\n",
      "111.19999999999999 0.074059777285 0.0740597772854767 -6.43674002986927e-12\n",
      "222.29999999999998 0.147906331459 0.14790633145886237 9.305889392408062e-13\n",
      "333.4 0.221606764118 0.22160676411829475 -1.3300471835009375e-12\n",
      "444.5 0.295161508535 0.2951615085350415 -1.404432126150823e-13\n",
      "555.6 0.368570996269 0.3685709962691127 -3.0586644328423063e-13\n",
      "666.6999999999999 0.441835657178 0.44183565717770173 6.750155989720952e-13\n",
      "777.8 0.514955919424 0.5149559194235748 8.257838857161914e-13\n",
      "888.9 0.587932209483 0.5879322094834122 -7.011058400507864e-13\n",
      "1000.0 0.660764952156 0.6607649521560994 -1.5054624213917123e-13\n"
     ]
    }
   ],
   "source": [
    "for size in np.linspace(0.1,1000,10):\n",
    "    r = Sim.amm_buys(\"USDC\", size, execute=False)\n",
    "    tr = r[\"trades\"].query(\"aggr==True\").iloc[0]\n",
    "    amts = tr[\"amt1\"]\n",
    "    dx = ouis[0].dyfromdx_f(size)\n",
    "    print(size, amts, dx, amts/dx-1)\n",
    "    assert abs(amts/dx - 1) < 1e-8"
   ]
  },
  {
   "cell_type": "markdown",
   "id": "b7e42d30-0065-4b9a-a449-c01e08031cfe",
   "metadata": {},
   "source": [
    "### amm_buys ETH (dy from dx)"
   ]
  },
  {
   "cell_type": "code",
   "execution_count": 125,
   "id": "c241c97a-13e0-4f07-a661-89a62ced9088",
   "metadata": {},
   "outputs": [
    {
     "name": "stdout",
     "output_type": "stream",
     "text": [
      "0.1 73.981806417987 73.98180641798673 3.552713678800501e-15\n",
      "0.2 145.981776727246 145.98177672724577 1.5543122344752192e-15\n",
      "0.30000000000000004 216.078492993245 216.07849299324494 2.220446049250313e-16\n",
      "0.4 284.346436983739 284.34643698373947 -1.5543122344752192e-15\n",
      "0.5 350.856254159561 350.85625415956116 -4.440892098500626e-16\n",
      "0.6 415.674997528775 415.6749975287748 4.440892098500626e-16\n",
      "0.7000000000000001 478.866353133682 478.8663531336817 6.661338147750939e-16\n",
      "0.8 540.490848764647 540.4908487646471 -2.220446049250313e-16\n",
      "0.9 600.606047338574 600.6060473385742 -3.3306690738754696e-16\n",
      "1.0 659.266726240687 659.2667262406868 4.440892098500626e-16\n"
     ]
    }
   ],
   "source": [
    "for size in np.linspace(0.1,1,10):\n",
    "    r = Sim.amm_buys(\"ETH\", size, execute=False)\n",
    "    tr = r[\"trades\"].query(\"aggr==True\").iloc[0]\n",
    "    amts = tr[\"amt1\"]\n",
    "    dx = ouis[1].dyfromdx_f(size)\n",
    "    print(size, amts, dx, amts/dx-1)\n",
    "    assert abs(amts/dx - 1) < 1e-8"
   ]
  },
  {
   "cell_type": "markdown",
   "id": "647321d2-00db-43e6-be90-8b99327c9b3b",
   "metadata": {},
   "source": [
    "## Verifying equivalence of both order sets"
   ]
  },
  {
   "cell_type": "code",
   "execution_count": 13,
   "id": "b438e320-84fe-451a-9f67-fb2df87b2b4a",
   "metadata": {},
   "outputs": [
    {
     "data": {
      "text/html": [
       "<div>\n",
       "<style scoped>\n",
       "    .dataframe tbody tr th:only-of-type {\n",
       "        vertical-align: middle;\n",
       "    }\n",
       "\n",
       "    .dataframe tbody tr th {\n",
       "        vertical-align: top;\n",
       "    }\n",
       "\n",
       "    .dataframe thead th {\n",
       "        text-align: right;\n",
       "    }\n",
       "</style>\n",
       "<table border=\"1\" class=\"dataframe\">\n",
       "  <thead>\n",
       "    <tr style=\"text-align: right;\">\n",
       "      <th></th>\n",
       "      <th>id</th>\n",
       "      <th>pair</th>\n",
       "      <th>tkn</th>\n",
       "      <th>y_int</th>\n",
       "      <th>y</th>\n",
       "      <th>y_unit</th>\n",
       "      <th>disabled</th>\n",
       "      <th>p_start</th>\n",
       "      <th>p_end</th>\n",
       "      <th>p_marg</th>\n",
       "      <th>p_unit</th>\n",
       "      <th>lid</th>\n",
       "    </tr>\n",
       "  </thead>\n",
       "  <tbody>\n",
       "    <tr>\n",
       "      <th>0</th>\n",
       "      <td>0</td>\n",
       "      <td>ETHUSDC</td>\n",
       "      <td>ETH</td>\n",
       "      <td>1.0</td>\n",
       "      <td>1.0</td>\n",
       "      <td>ETH</td>\n",
       "      <td>False</td>\n",
       "      <td>1500.0</td>\n",
       "      <td>2000.0</td>\n",
       "      <td>1500.0</td>\n",
       "      <td>USDC per ETH</td>\n",
       "      <td>1</td>\n",
       "    </tr>\n",
       "    <tr>\n",
       "      <th>1</th>\n",
       "      <td>1</td>\n",
       "      <td>ETHUSDC</td>\n",
       "      <td>USDC</td>\n",
       "      <td>1000.0</td>\n",
       "      <td>1000.0</td>\n",
       "      <td>USDC</td>\n",
       "      <td>False</td>\n",
       "      <td>750.0</td>\n",
       "      <td>500.0</td>\n",
       "      <td>750.0</td>\n",
       "      <td>USDC per ETH</td>\n",
       "      <td>0</td>\n",
       "    </tr>\n",
       "    <tr>\n",
       "      <th>2</th>\n",
       "      <td>2</td>\n",
       "      <td>ETHUSDC</td>\n",
       "      <td>ETH</td>\n",
       "      <td>1.1</td>\n",
       "      <td>1.1</td>\n",
       "      <td>ETH</td>\n",
       "      <td>False</td>\n",
       "      <td>1501.0</td>\n",
       "      <td>2001.0</td>\n",
       "      <td>1501.0</td>\n",
       "      <td>USDC per ETH</td>\n",
       "      <td>3</td>\n",
       "    </tr>\n",
       "    <tr>\n",
       "      <th>3</th>\n",
       "      <td>3</td>\n",
       "      <td>ETHUSDC</td>\n",
       "      <td>USDC</td>\n",
       "      <td>1001.0</td>\n",
       "      <td>1001.0</td>\n",
       "      <td>USDC</td>\n",
       "      <td>False</td>\n",
       "      <td>751.0</td>\n",
       "      <td>501.0</td>\n",
       "      <td>751.0</td>\n",
       "      <td>USDC per ETH</td>\n",
       "      <td>2</td>\n",
       "    </tr>\n",
       "  </tbody>\n",
       "</table>\n",
       "</div>"
      ],
      "text/plain": [
       "   id     pair   tkn   y_int       y y_unit  disabled  p_start   p_end  \\\n",
       "0   0  ETHUSDC   ETH     1.0     1.0    ETH     False   1500.0  2000.0   \n",
       "1   1  ETHUSDC  USDC  1000.0  1000.0   USDC     False    750.0   500.0   \n",
       "2   2  ETHUSDC   ETH     1.1     1.1    ETH     False   1501.0  2001.0   \n",
       "3   3  ETHUSDC  USDC  1001.0  1001.0   USDC     False    751.0   501.0   \n",
       "\n",
       "   p_marg        p_unit  lid  \n",
       "0  1500.0  USDC per ETH    1  \n",
       "1   750.0  USDC per ETH    0  \n",
       "2  1501.0  USDC per ETH    3  \n",
       "3   751.0  USDC per ETH    2  "
      ]
     },
     "execution_count": 13,
     "metadata": {},
     "output_type": "execute_result"
    }
   ],
   "source": [
    "Sim = CarbonSimulatorUI(pair=P(\"ETH/USDC\"), raiseonerror=True)\n",
    "Sim.add_strategy(\"ETH\", 1, 1500, 2000, 1000, 750, 500)\n",
    "Sim.add_strategy(\"ETH\", 1.1, 1501, 2001, 1001, 751, 501)\n",
    "r = Sim.state()\n",
    "os = r[\"orders\"]\n",
    "os"
   ]
  },
  {
   "cell_type": "code",
   "execution_count": 11,
   "id": "94f7fdc0-053d-44d4-b0e6-a9fe04129b5e",
   "metadata": {},
   "outputs": [
    {
     "data": {
      "text/plain": [
       "{0: CarbonOrderUI(pair=P('ETH/USDC'), tkn=ETH, B=0.022360679774997897, S=0.0034592091997182155, yint=1.0, y=1.0, id=0, linked=<1>),\n",
       " 1: CarbonOrderUI(pair=P('ETH/USDC'), tkn=USDC, B=22.360679774997898, S=5.025448100260409, yint=1000.0, y=1000.0, id=1, linked=<0>),\n",
       " 2: CarbonOrderUI(pair=P('ETH/USDC'), tkn=ETH, B=0.022355091700494795, S=0.003456194945488572, yint=1.1, y=1.1, id=2, linked=<3>),\n",
       " 3: CarbonOrderUI(pair=P('ETH/USDC'), tkn=USDC, B=22.38302928559939, S=5.02134992649005, yint=1001.0, y=1001.0, id=3, linked=<2>)}"
      ]
     },
     "execution_count": 11,
     "metadata": {},
     "output_type": "execute_result"
    }
   ],
   "source": [
    "ouis = r[\"orderuis\"]\n",
    "ouis"
   ]
  },
  {
   "cell_type": "code",
   "execution_count": 47,
   "id": "08efb679-5e9d-452f-b40c-766968a8415d",
   "metadata": {},
   "outputs": [],
   "source": [
    "assert len(ouis)==len(os)\n",
    "for oui, oo in zip(ouis.values(),os.iterrows()):\n",
    "    o = oo[1]\n",
    "    #print (oui, o)\n",
    "    assert o[\"id\"] == oui.id\n",
    "    assert o[\"lid\"] == oui.lid\n",
    "    assert o[\"pair\"] == oui.pair.pair_iso\n",
    "    assert o[\"tkn\"] == oui.tkn\n",
    "    assert o[\"tkn\"] == oui.tkn\n",
    "    assert o[\"y_int\"] == oui.yint\n",
    "    assert abs(o[\"p_start\"]/oui.pa-1) < 1e-10\n",
    "    assert abs(o[\"p_end\"]/oui.pb-1) < 1e-10\n",
    "    assert abs(o[\"y_int\"]/oui.yint-1) < 1e-10\n",
    "    assert abs(o[\"y\"]/oui.y-1) < 1e-10\n",
    "    assert o[\"p_unit\"] == oui.price_convention\n",
    "    assert oui.linked.linked is oui"
   ]
  },
  {
   "cell_type": "code",
   "execution_count": null,
   "id": "20235d1e-df7f-4f7e-89a5-0b1db870757c",
   "metadata": {},
   "outputs": [],
   "source": []
  }
 ],
 "metadata": {
  "jupytext": {
   "formats": "ipynb,py:light"
  },
  "kernelspec": {
   "display_name": "Python 3",
   "language": "python",
   "name": "python3"
  },
  "language_info": {
   "codemirror_mode": {
    "name": "ipython",
    "version": 3
   },
   "file_extension": ".py",
   "mimetype": "text/x-python",
   "name": "python",
   "nbconvert_exporter": "python",
   "pygments_lexer": "ipython3",
   "version": "3.8.8"
  }
 },
 "nbformat": 4,
 "nbformat_minor": 5
}
