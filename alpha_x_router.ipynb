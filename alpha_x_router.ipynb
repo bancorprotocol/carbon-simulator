{
 "cells": [
  {
   "cell_type": "code",
   "execution_count": 1,
   "metadata": {},
   "outputs": [],
   "source": [
    "from benchmark import impl\n",
    "from benchmark import alphaxutils\n",
    "from decimal import Decimal\n",
    "import pandas as pd\n",
    "\n",
    "Order = alphaxutils.Order\n",
    "tradeBySourceAmount = alphaxutils.tradeBySourceAmount\n",
    "tradeByTargetAmount = alphaxutils.tradeByTargetAmount\n",
    "AlphaRouter = alphaxutils.AlphaRouter\n",
    "CarbonOrderUI = alphaxutils.CarbonOrderUI\n",
    "assertAlmostEqual = alphaxutils.assertAlmostEqual"
   ]
  },
  {
   "cell_type": "code",
   "execution_count": 2,
   "metadata": {},
   "outputs": [],
   "source": [
    "threshold_orders = 6\n",
    "inputAmount = Decimal('5000')\n",
    "support_partial = False\n",
    "\n",
    "order_params = {\n",
    "    'liquidity':Decimal('5000'),\n",
    "    'highestRate':Decimal('2500'),\n",
    "    'lowestRate':Decimal('2000'),\n",
    "    'marginalRate':Decimal('2500'),\n",
    "    }\n",
    "order_params2 = {\n",
    "    'liquidity':Decimal('4000'),\n",
    "    'highestRate':Decimal('2000'),\n",
    "    'lowestRate':Decimal('1666'),\n",
    "    'marginalRate':Decimal('2000'),\n",
    "    }"
   ]
  },
  {
   "cell_type": "code",
   "execution_count": 3,
   "metadata": {},
   "outputs": [
    {
     "data": {
      "text/plain": [
       "Decimal('5E+3')"
      ]
     },
     "execution_count": 3,
     "metadata": {},
     "output_type": "execute_result"
    }
   ],
   "source": [
    "orders = []\n",
    "for i in range(5):\n",
    "    orders += [Order(order_params)]\n",
    "    orders += [Order(order_params2)]\n",
    "\n",
    "indexes = list(range(len(orders)))   \n",
    "\n",
    "orders[0].z"
   ]
  },
  {
   "cell_type": "code",
   "execution_count": 4,
   "metadata": {},
   "outputs": [
    {
     "data": {
      "text/plain": [
       "Decimal('45000')"
      ]
     },
     "execution_count": 4,
     "metadata": {},
     "output_type": "execute_result"
    }
   ],
   "source": [
    "total_liquidity = sum(o.y for o in orders)\n",
    "total_liquidity"
   ]
  },
  {
   "cell_type": "markdown",
   "metadata": {},
   "source": [
    "# Trade Functions\n",
    "- Note they use pure math so will exceed the liquidity of an order"
   ]
  },
  {
   "cell_type": "code",
   "execution_count": 19,
   "metadata": {},
   "outputs": [
    {
     "data": {
      "text/plain": [
       "(1, Decimal('2374.6507262194609015632130899344576184001508194173'))"
      ]
     },
     "execution_count": 19,
     "metadata": {},
     "output_type": "execute_result"
    }
   ],
   "source": [
    "# trade 1 ETH into the first order \n",
    "tradeBySourceAmount(1, orders[0])"
   ]
  },
  {
   "cell_type": "code",
   "execution_count": 20,
   "metadata": {},
   "outputs": [
    {
     "data": {
      "text/plain": [
       "(Decimal('0.99999999999999999999999999999999999999999999999998'),\n",
       " Decimal('2374.6507262194609015632130899344576184001508194173'))"
      ]
     },
     "execution_count": 20,
     "metadata": {},
     "output_type": "execute_result"
    }
   ],
   "source": [
    "# trade out exactly 2374.6507262194609015632130899344576184001508194173... USDC\n",
    "tradeByTargetAmount(Decimal('2374.6507262194609015632130899344576184001508194173'), orders[0])"
   ]
  },
  {
   "attachments": {},
   "cell_type": "markdown",
   "metadata": {},
   "source": [
    "# Match by Target\n",
    "1. hypothetical_output_amt for full inputAmount"
   ]
  },
  {
   "cell_type": "code",
   "execution_count": 7,
   "metadata": {},
   "outputs": [
    {
     "data": {
      "text/plain": [
       "{0: Decimal('2.2360679774997896964091736687312762354406183596117'),\n",
       " 1: Decimal('2.8062757546743274149851601968224106388749889761598'),\n",
       " 2: Decimal('2.2360679774997896964091736687312762354406183596117'),\n",
       " 3: Decimal('2.8062757546743274149851601968224106388749889761598'),\n",
       " 4: Decimal('2.2360679774997896964091736687312762354406183596117'),\n",
       " 5: Decimal('2.8062757546743274149851601968224106388749889761598'),\n",
       " 6: Decimal('2.2360679774997896964091736687312762354406183596117'),\n",
       " 7: Decimal('2.8062757546743274149851601968224106388749889761598'),\n",
       " 8: Decimal('2.2360679774997896964091736687312762354406183596117'),\n",
       " 9: Decimal('2.8062757546743274149851601968224106388749889761598')}"
      ]
     },
     "execution_count": 7,
     "metadata": {},
     "output_type": "execute_result"
    }
   ],
   "source": [
    "hypothetical_output_amts = {\n",
    "            i: tradeByTargetAmount(x=inputAmount, order=orders[i])[0] for i in indexes\n",
    "        }\n",
    "hypothetical_output_amts"
   ]
  },
  {
   "cell_type": "code",
   "execution_count": 8,
   "metadata": {},
   "outputs": [
    {
     "data": {
      "text/plain": [
       "{0: Decimal('2.2360679774997896964091736687312762354406183596117'),\n",
       " 1: Decimal('2.1913285395639155343136038848501460223623844634990'),\n",
       " 2: Decimal('2.2360679774997896964091736687312762354406183596117'),\n",
       " 3: Decimal('2.1913285395639155343136038848501460223623844634990'),\n",
       " 4: Decimal('2.2360679774997896964091736687312762354406183596117'),\n",
       " 5: Decimal('2.1913285395639155343136038848501460223623844634990'),\n",
       " 6: Decimal('2.2360679774997896964091736687312762354406183596117'),\n",
       " 7: Decimal('2.1913285395639155343136038848501460223623844634990'),\n",
       " 8: Decimal('2.2360679774997896964091736687312762354406183596117'),\n",
       " 9: Decimal('2.1913285395639155343136038848501460223623844634990')}"
      ]
     },
     "execution_count": 8,
     "metadata": {},
     "output_type": "execute_result"
    }
   ],
   "source": [
    "actual_output_amts = {\n",
    "            i: tradeByTargetAmount(x=orders[i].y, order=orders[i])[0] for i in indexes\n",
    "        }\n",
    "actual_output_amts"
   ]
  },
  {
   "cell_type": "code",
   "execution_count": 9,
   "metadata": {},
   "outputs": [],
   "source": [
    "# ordered_amts = {\n",
    "#     j: hypothetical_output_amts[j]\n",
    "#     for j in sorted(\n",
    "#         indexes, key=lambda i: hypothetical_output_amts[i], reverse=False\n",
    "#     )\n",
    "# }\n",
    "# ordered_amts"
   ]
  },
  {
   "cell_type": "code",
   "execution_count": 10,
   "metadata": {},
   "outputs": [],
   "source": [
    "# ordered_actual_amts = {\n",
    "#     j: actual_output_amts[j]\n",
    "#     for j in sorted(\n",
    "#         indexes, key=lambda i: actual_output_amts[i], reverse=False\n",
    "#     )\n",
    "# }\n",
    "# ordered_actual_amts"
   ]
  },
  {
   "cell_type": "code",
   "execution_count": 11,
   "metadata": {},
   "outputs": [
    {
     "data": {
      "text/plain": [
       "{0: Decimal('5000'),\n",
       " 1: Decimal('4000'),\n",
       " 2: Decimal('5000'),\n",
       " 3: Decimal('4000'),\n",
       " 4: Decimal('5000'),\n",
       " 5: Decimal('4000'),\n",
       " 6: Decimal('5000'),\n",
       " 7: Decimal('4000'),\n",
       " 8: Decimal('5000'),\n",
       " 9: Decimal('4000')}"
      ]
     },
     "execution_count": 11,
     "metadata": {},
     "output_type": "execute_result"
    }
   ],
   "source": [
    "ordered_associated_liquidity = {i:orders[i].y for i in actual_output_amts.keys()}\n",
    "ordered_associated_liquidity"
   ]
  },
  {
   "cell_type": "code",
   "execution_count": 12,
   "metadata": {},
   "outputs": [
    {
     "data": {
      "text/html": [
       "<div>\n",
       "<style scoped>\n",
       "    .dataframe tbody tr th:only-of-type {\n",
       "        vertical-align: middle;\n",
       "    }\n",
       "\n",
       "    .dataframe tbody tr th {\n",
       "        vertical-align: top;\n",
       "    }\n",
       "\n",
       "    .dataframe thead th {\n",
       "        text-align: right;\n",
       "    }\n",
       "</style>\n",
       "<table border=\"1\" class=\"dataframe\">\n",
       "  <thead>\n",
       "    <tr style=\"text-align: right;\">\n",
       "      <th></th>\n",
       "      <th>indexes</th>\n",
       "      <th>hypothetical_output_amts</th>\n",
       "      <th>indexes_b</th>\n",
       "      <th>actual_output_amts</th>\n",
       "      <th>ordered_associated_liquidity_keys</th>\n",
       "      <th>ordered_associated_liquidity</th>\n",
       "    </tr>\n",
       "  </thead>\n",
       "  <tbody>\n",
       "    <tr>\n",
       "      <th>0</th>\n",
       "      <td>1</td>\n",
       "      <td>2.80627575467432741498516019682241063887498897...</td>\n",
       "      <td>1</td>\n",
       "      <td>2.19132853956391553431360388485014602236238446...</td>\n",
       "      <td>1</td>\n",
       "      <td>4000</td>\n",
       "    </tr>\n",
       "    <tr>\n",
       "      <th>1</th>\n",
       "      <td>3</td>\n",
       "      <td>2.80627575467432741498516019682241063887498897...</td>\n",
       "      <td>3</td>\n",
       "      <td>2.19132853956391553431360388485014602236238446...</td>\n",
       "      <td>3</td>\n",
       "      <td>4000</td>\n",
       "    </tr>\n",
       "    <tr>\n",
       "      <th>2</th>\n",
       "      <td>5</td>\n",
       "      <td>2.80627575467432741498516019682241063887498897...</td>\n",
       "      <td>5</td>\n",
       "      <td>2.19132853956391553431360388485014602236238446...</td>\n",
       "      <td>5</td>\n",
       "      <td>4000</td>\n",
       "    </tr>\n",
       "    <tr>\n",
       "      <th>3</th>\n",
       "      <td>7</td>\n",
       "      <td>2.80627575467432741498516019682241063887498897...</td>\n",
       "      <td>7</td>\n",
       "      <td>2.19132853956391553431360388485014602236238446...</td>\n",
       "      <td>7</td>\n",
       "      <td>4000</td>\n",
       "    </tr>\n",
       "    <tr>\n",
       "      <th>4</th>\n",
       "      <td>9</td>\n",
       "      <td>2.80627575467432741498516019682241063887498897...</td>\n",
       "      <td>9</td>\n",
       "      <td>2.19132853956391553431360388485014602236238446...</td>\n",
       "      <td>9</td>\n",
       "      <td>4000</td>\n",
       "    </tr>\n",
       "    <tr>\n",
       "      <th>5</th>\n",
       "      <td>0</td>\n",
       "      <td>2.23606797749978969640917366873127623544061835...</td>\n",
       "      <td>0</td>\n",
       "      <td>2.23606797749978969640917366873127623544061835...</td>\n",
       "      <td>0</td>\n",
       "      <td>5000</td>\n",
       "    </tr>\n",
       "    <tr>\n",
       "      <th>6</th>\n",
       "      <td>2</td>\n",
       "      <td>2.23606797749978969640917366873127623544061835...</td>\n",
       "      <td>2</td>\n",
       "      <td>2.23606797749978969640917366873127623544061835...</td>\n",
       "      <td>2</td>\n",
       "      <td>5000</td>\n",
       "    </tr>\n",
       "    <tr>\n",
       "      <th>7</th>\n",
       "      <td>4</td>\n",
       "      <td>2.23606797749978969640917366873127623544061835...</td>\n",
       "      <td>4</td>\n",
       "      <td>2.23606797749978969640917366873127623544061835...</td>\n",
       "      <td>4</td>\n",
       "      <td>5000</td>\n",
       "    </tr>\n",
       "    <tr>\n",
       "      <th>8</th>\n",
       "      <td>6</td>\n",
       "      <td>2.23606797749978969640917366873127623544061835...</td>\n",
       "      <td>6</td>\n",
       "      <td>2.23606797749978969640917366873127623544061835...</td>\n",
       "      <td>6</td>\n",
       "      <td>5000</td>\n",
       "    </tr>\n",
       "    <tr>\n",
       "      <th>9</th>\n",
       "      <td>8</td>\n",
       "      <td>2.23606797749978969640917366873127623544061835...</td>\n",
       "      <td>8</td>\n",
       "      <td>2.23606797749978969640917366873127623544061835...</td>\n",
       "      <td>8</td>\n",
       "      <td>5000</td>\n",
       "    </tr>\n",
       "  </tbody>\n",
       "</table>\n",
       "</div>"
      ],
      "text/plain": [
       "  indexes                           hypothetical_output_amts indexes_b  \\\n",
       "0       1  2.80627575467432741498516019682241063887498897...         1   \n",
       "1       3  2.80627575467432741498516019682241063887498897...         3   \n",
       "2       5  2.80627575467432741498516019682241063887498897...         5   \n",
       "3       7  2.80627575467432741498516019682241063887498897...         7   \n",
       "4       9  2.80627575467432741498516019682241063887498897...         9   \n",
       "5       0  2.23606797749978969640917366873127623544061835...         0   \n",
       "6       2  2.23606797749978969640917366873127623544061835...         2   \n",
       "7       4  2.23606797749978969640917366873127623544061835...         4   \n",
       "8       6  2.23606797749978969640917366873127623544061835...         6   \n",
       "9       8  2.23606797749978969640917366873127623544061835...         8   \n",
       "\n",
       "                                  actual_output_amts  \\\n",
       "0  2.19132853956391553431360388485014602236238446...   \n",
       "1  2.19132853956391553431360388485014602236238446...   \n",
       "2  2.19132853956391553431360388485014602236238446...   \n",
       "3  2.19132853956391553431360388485014602236238446...   \n",
       "4  2.19132853956391553431360388485014602236238446...   \n",
       "5  2.23606797749978969640917366873127623544061835...   \n",
       "6  2.23606797749978969640917366873127623544061835...   \n",
       "7  2.23606797749978969640917366873127623544061835...   \n",
       "8  2.23606797749978969640917366873127623544061835...   \n",
       "9  2.23606797749978969640917366873127623544061835...   \n",
       "\n",
       "  ordered_associated_liquidity_keys ordered_associated_liquidity  \n",
       "0                                 1                         4000  \n",
       "1                                 3                         4000  \n",
       "2                                 5                         4000  \n",
       "3                                 7                         4000  \n",
       "4                                 9                         4000  \n",
       "5                                 0                         5000  \n",
       "6                                 2                         5000  \n",
       "7                                 4                         5000  \n",
       "8                                 6                         5000  \n",
       "9                                 8                         5000  "
      ]
     },
     "execution_count": 12,
     "metadata": {},
     "output_type": "execute_result"
    }
   ],
   "source": [
    "results = pd.DataFrame(\n",
    "    [\n",
    "        hypothetical_output_amts.keys(),\n",
    "        hypothetical_output_amts.values(),\n",
    "        actual_output_amts.keys(),\n",
    "        actual_output_amts.values(),\n",
    "    ],\n",
    "    index=[\n",
    "        \"indexes\",\n",
    "        \"hypothetical_output_amts\",\n",
    "        \"indexes_b\",\n",
    "        \"actual_output_amts\",\n",
    "    ],\n",
    ")\n",
    "results = results.T.copy()\n",
    "assert(list(results.indexes) == list(results.indexes_b))\n",
    "\n",
    "results.sort_values(\n",
    "    by=[\"actual_output_amts\", \"hypothetical_output_amts\", 'indexes'], ascending=[True, True, True], inplace=True\n",
    ")\n",
    "\n",
    "results2 = pd.DataFrame(\n",
    "    [\n",
    "        ordered_associated_liquidity.keys(),\n",
    "        ordered_associated_liquidity.values(),\n",
    "    ],\n",
    "    index=[\n",
    "        \"ordered_associated_liquidity_keys\",\n",
    "        \"ordered_associated_liquidity\",\n",
    "    ],\n",
    ")\n",
    "results2 = results2.T.copy()\n",
    "\n",
    "results = pd.merge(results, results2, how='left', left_on = 'indexes', right_on='ordered_associated_liquidity_keys')\n",
    "\n",
    "results.fillna(0, inplace=True)\n",
    "results.reset_index(inplace=True, drop=True)\n",
    "results"
   ]
  },
  {
   "cell_type": "code",
   "execution_count": 13,
   "metadata": {},
   "outputs": [
    {
     "data": {
      "text/plain": [
       "[1, 3, 5, 7, 9, 0]"
      ]
     },
     "execution_count": 13,
     "metadata": {},
     "output_type": "execute_result"
    }
   ],
   "source": [
    "if (not support_partial) & (results.ordered_associated_liquidity.sum() < abs(inputAmount)):\n",
    "    print('Insufficient Liquidity')\n",
    "else:\n",
    "    passed_indexes = AlphaRouter.gen_one_order_selector(results.ordered_associated_liquidity, abs(inputAmount), threshold_orders)\n",
    "    top_n_threshold_orders = [results.indexes[i] for i in passed_indexes]\n",
    "order_subset = [orders[i] for i in top_n_threshold_orders]\n",
    "top_n_threshold_orders"
   ]
  },
  {
   "attachments": {},
   "cell_type": "markdown",
   "metadata": {},
   "source": [
    "## Exact Matching with Marginal Price Router"
   ]
  },
  {
   "cell_type": "code",
   "execution_count": 14,
   "metadata": {},
   "outputs": [],
   "source": [
    "def mpr_match(inputAmount, order_subset):\n",
    "    total_subset_liquidity = sum(o.y for o in order_subset)\n",
    "    print('inputAmount', inputAmount)\n",
    "    print('total_subset_liquidity', total_subset_liquidity)\n",
    "    if inputAmount>= total_subset_liquidity:\n",
    "        print(f'Partial Match - using {total_subset_liquidity}')\n",
    "        inputAmount = total_subset_liquidity\n",
    "        rl1 = [o.y for o in order_subset]\n",
    "        rl2 = [o.dxfromdy_f(o.y) for o in order_subset]\n",
    "    else:\n",
    "        dy_f = lambda p: sum(o.dyfromp_f(p) for o in order_subset)\n",
    "        dx_f = lambda p: sum(o.dxfromdy_f(o.dyfromp_f(p)) for o in order_subset)\n",
    "        p_goal = CarbonOrderUI.goalseek(lambda p: dy_f(p)-inputAmount, Decimal('0.000000001'), Decimal('1000000000'))\n",
    "        rl1 = [o.dyfromp_f(p_goal) for o in order_subset]\n",
    "        rl2 = [o.dxfromdy_f(o.dyfromp_f(p_goal)) for o in order_subset]\n",
    "\n",
    "    actions = {top_n_threshold_orders[i]:{\"input\":rl1[i],\"output\":rl2[i]} for i in range(len(top_n_threshold_orders))}\n",
    "    assertAlmostEqual(inputAmount, sum(rl1), Decimal('1E-8'))\n",
    "    print('total_input',sum(rl1))\n",
    "    print('total_output', sum(rl2))\n",
    "    print('effective_price', sum(rl2) / sum(rl1))\n",
    "    return(actions)\n"
   ]
  },
  {
   "cell_type": "code",
   "execution_count": 15,
   "metadata": {},
   "outputs": [
    {
     "name": "stdout",
     "output_type": "stream",
     "text": [
      "inputAmount 5000\n",
      "total_subset_liquidity 25000\n",
      "total_input 5000.0000006229186112755629630626899617772067018230\n",
      "total_output 11180339.888744785704593606336299168160465382833036\n",
      "effective_price 2236.0679774703794690700001492603664356896345229263\n"
     ]
    },
    {
     "data": {
      "text/plain": [
       "{1: {'input': Decimal('1.245837222551125926125379923554413403646E-7'),\n",
       "  'output': Decimal('0.00024916744450954759852855739665245820699584541663337')},\n",
       " 3: {'input': Decimal('1.245837222551125926125379923554413403646E-7'),\n",
       "  'output': Decimal('0.00024916744450954759852855739665245820699584541663337')},\n",
       " 5: {'input': Decimal('1.245837222551125926125379923554413403646E-7'),\n",
       "  'output': Decimal('0.00024916744450954759852855739665245820699584541663337')},\n",
       " 7: {'input': Decimal('1.245837222551125926125379923554413403646E-7'),\n",
       "  'output': Decimal('0.00024916744450954759852855739665245820699584541663337')},\n",
       " 9: {'input': Decimal('1.245837222551125926125379923554413403646E-7'),\n",
       "  'output': Decimal('0.00024916744450954759852855739665245820699584541663337')},\n",
       " 0: {'input': Decimal('5000'),\n",
       "  'output': Decimal('11180339.887498948482045868343656381177203091798057')}}"
      ]
     },
     "execution_count": 15,
     "metadata": {},
     "output_type": "execute_result"
    }
   ],
   "source": [
    "mpr_match(inputAmount, order_subset)"
   ]
  }
 ],
 "metadata": {
  "kernelspec": {
   "display_name": "Python 3",
   "language": "python",
   "name": "python3"
  },
  "language_info": {
   "codemirror_mode": {
    "name": "ipython",
    "version": 3
   },
   "file_extension": ".py",
   "mimetype": "text/x-python",
   "name": "python",
   "nbconvert_exporter": "python",
   "pygments_lexer": "ipython3",
   "version": "3.10.8"
  },
  "orig_nbformat": 4,
  "vscode": {
   "interpreter": {
    "hash": "43f221103f953d3e0d93840edd77be981e5a5e0e42edc048e3de5278c46a3390"
   }
  }
 },
 "nbformat": 4,
 "nbformat_minor": 2
}
