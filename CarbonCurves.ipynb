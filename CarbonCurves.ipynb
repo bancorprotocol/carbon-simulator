{
 "cells": [
  {
   "cell_type": "code",
   "execution_count": 1,
   "id": "ed525c67",
   "metadata": {},
   "outputs": [
    {
     "name": "stdout",
     "output_type": "stream",
     "text": [
      "Carbon v2.1-BETA1 (14/Dec/2022)\n",
      "CarbonOrderUI v1.4 (15/Dec/2022)\n"
     ]
    }
   ],
   "source": [
    "from carbon import CarbonSimulatorUI, CarbonOrderUI, P, __version__, __date__\n",
    "from math import sqrt\n",
    "import numpy as np\n",
    "from matplotlib import pyplot as plt\n",
    "print(f\"Carbon v{__version__} ({__date__})\")\n",
    "print(\"{0.__name__} v{0.__VERSION__} ({0.__DATE__})\".format(CarbonOrderUI))"
   ]
  },
  {
   "cell_type": "markdown",
   "id": "795b0a19",
   "metadata": {},
   "source": [
    "# Carbon Curves"
   ]
  },
  {
   "cell_type": "markdown",
   "id": "e2938262",
   "metadata": {},
   "source": [
    "## The CarbonOrderUI object"
   ]
  },
  {
   "cell_type": "markdown",
   "id": "605fecbc",
   "metadata": {},
   "source": [
    "This curve `order1` is selling ETH for USDC, starting at 2000 USDC per ETH and ending at 3000. The curve has a capacity of 10 ETH (5 ETH for `order1b`), and it also is currently loaded with 10 ETH. The curve `order2` is selling USDC, starting at 1000 USDC per ETH and ending at 750. Capacity and loading is 20,000 USDC."
   ]
  },
  {
   "cell_type": "code",
   "execution_count": 2,
   "id": "12e631b4",
   "metadata": {},
   "outputs": [],
   "source": [
    "order1 = CarbonOrderUI.from_prices(\"ETH/USDC\", \"ETH\", 2000, 3000, 10, 10)\n",
    "order1b = CarbonOrderUI.from_prices(\"ETH/USDC\", \"ETH\", 2000, 3000, 10, 5)\n",
    "order2 = CarbonOrderUI.from_prices(\"ETH/USDC\", \"USDC\", 1000, 750, 20000, 20000)"
   ]
  },
  {
   "cell_type": "markdown",
   "id": "18bdca85",
   "metadata": {},
   "source": [
    "## Simple numeric properties"
   ]
  },
  {
   "cell_type": "markdown",
   "id": "257299ec",
   "metadata": {},
   "source": [
    "The prices are retrievable under a number of names: `p_start` and `p_end` to indicate the beginning and the end of the range, `px` and `py` to indicate the axis intersect to which they corresponds, and `pa` and `pb` simply in alphabetical order. "
   ]
  },
  {
   "cell_type": "code",
   "execution_count": 3,
   "id": "d50945b4",
   "metadata": {},
   "outputs": [
    {
     "data": {
      "text/plain": [
       "(2000.0, 3000.0, 2000.0, 3000.0, 1000.0, 750.0000000000001)"
      ]
     },
     "execution_count": 3,
     "metadata": {},
     "output_type": "execute_result"
    }
   ],
   "source": [
    "order1.p_start, order1.p_end, order1b.p_start, order1b.p_end, order2.p_start, order2.p_end"
   ]
  },
  {
   "cell_type": "code",
   "execution_count": 4,
   "id": "8566f648",
   "metadata": {},
   "outputs": [
    {
     "data": {
      "text/plain": [
       "(2000.0, 3000.0, 2000.0, 3000.0, 1000.0, 750.0000000000001)"
      ]
     },
     "execution_count": 4,
     "metadata": {},
     "output_type": "execute_result"
    }
   ],
   "source": [
    "order1.py, order1.px, order1b.py, order1b.px, order2.py, order2.px"
   ]
  },
  {
   "cell_type": "code",
   "execution_count": 5,
   "id": "29227434",
   "metadata": {},
   "outputs": [
    {
     "data": {
      "text/plain": [
       "(2000.0, 3000.0, 2000.0, 3000.0, 1000.0, 750.0000000000001)"
      ]
     },
     "execution_count": 5,
     "metadata": {},
     "output_type": "execute_result"
    }
   ],
   "source": [
    "order1.pa, order1.pb, order1b.pa, order1b.pb, order2.pa, order2.pb"
   ]
  },
  {
   "cell_type": "markdown",
   "id": "9dbc1968",
   "metadata": {},
   "source": [
    "The y-intercept `yint` correspond to the capacity of the curves, the y-value `y` to the current loading of the curve; those are expressed in `tkn`, also known as `tkny`. The x-intercept is the corresponding capacity in the other token `tknx`"
   ]
  },
  {
   "cell_type": "code",
   "execution_count": 6,
   "id": "04dc81d8",
   "metadata": {},
   "outputs": [
    {
     "data": {
      "text/plain": [
       "(10, 10, 20000)"
      ]
     },
     "execution_count": 6,
     "metadata": {},
     "output_type": "execute_result"
    }
   ],
   "source": [
    "order1.yint, order1b.yint, order2.yint"
   ]
  },
  {
   "cell_type": "code",
   "execution_count": 7,
   "id": "68d34ebb",
   "metadata": {},
   "outputs": [
    {
     "data": {
      "text/plain": [
       "(10, 5, 20000)"
      ]
     },
     "execution_count": 7,
     "metadata": {},
     "output_type": "execute_result"
    }
   ],
   "source": [
    "order1.y, order1b.y, order2.y"
   ]
  },
  {
   "cell_type": "code",
   "execution_count": 8,
   "id": "39e0b029",
   "metadata": {},
   "outputs": [
    {
     "data": {
      "text/plain": [
       "('ETH', 'ETH', 'USDC')"
      ]
     },
     "execution_count": 8,
     "metadata": {},
     "output_type": "execute_result"
    }
   ],
   "source": [
    "order1.tkny, order1b.tkny, order2.tkny"
   ]
  },
  {
   "cell_type": "code",
   "execution_count": 9,
   "id": "093da1e5",
   "metadata": {},
   "outputs": [
    {
     "data": {
      "text/plain": [
       "(24494.897427831784, 24494.897427831784, 23.094010767585033)"
      ]
     },
     "execution_count": 9,
     "metadata": {},
     "output_type": "execute_result"
    }
   ],
   "source": [
    "order1.xint, order1b.xint, order2.xint"
   ]
  },
  {
   "cell_type": "code",
   "execution_count": 10,
   "id": "ba78ae66",
   "metadata": {},
   "outputs": [
    {
     "data": {
      "text/plain": [
       "('USDC', 'USDC', 'ETH')"
      ]
     },
     "execution_count": 10,
     "metadata": {},
     "output_type": "execute_result"
    }
   ],
   "source": [
    "order1.tknx, order1b.tknx, order2.tknx"
   ]
  },
  {
   "cell_type": "markdown",
   "id": "44794f55",
   "metadata": {},
   "source": [
    "The ratio `yint/xint` or `yint/xint` equals `p0` which is also the geometric average of the prices of the range; `p0` is always extressed in the quuote conventions of the pair."
   ]
  },
  {
   "cell_type": "code",
   "execution_count": 11,
   "id": "8861b712",
   "metadata": {},
   "outputs": [
    {
     "data": {
      "text/plain": [
       "(2449.489742783178, 2449.489742783178, 866.0254037844387)"
      ]
     },
     "execution_count": 11,
     "metadata": {},
     "output_type": "execute_result"
    }
   ],
   "source": [
    "order1.p0, order1b.p0, order2.p0"
   ]
  },
  {
   "cell_type": "code",
   "execution_count": 12,
   "id": "3c0758aa",
   "metadata": {},
   "outputs": [
    {
     "data": {
      "text/plain": [
       "(2449.489742783178, 2449.489742783178, 866.0254037844387)"
      ]
     },
     "execution_count": 12,
     "metadata": {},
     "output_type": "execute_result"
    }
   ],
   "source": [
    "sqrt(order1.px*order1.py), sqrt(order1b.px*order1b.py), sqrt(order2.px*order2.py)"
   ]
  },
  {
   "cell_type": "code",
   "execution_count": 13,
   "id": "61853e55",
   "metadata": {},
   "outputs": [
    {
     "data": {
      "text/plain": [
       "(2449.4897427831784, 2449.4897427831784, 866.0254037844386)"
      ]
     },
     "execution_count": 13,
     "metadata": {},
     "output_type": "execute_result"
    }
   ],
   "source": [
    "order1.xint/order1.yint, order1b.xint/order1b.yint, order2.yint/order2.xint"
   ]
  },
  {
   "cell_type": "markdown",
   "id": "20355667",
   "metadata": {},
   "source": [
    "The current marginal price of the order is indicated by `p_marg`. If `y==yint` then `p_marg==p_start`, if `y==0` then `p_marg==p_end` and for `y` in between (as in `order1b`) it is in between."
   ]
  },
  {
   "cell_type": "code",
   "execution_count": 14,
   "id": "02c3065c",
   "metadata": {},
   "outputs": [
    {
     "data": {
      "text/plain": [
       "(2000.0, 2424.4923464074514, 1000.0)"
      ]
     },
     "execution_count": 14,
     "metadata": {},
     "output_type": "execute_result"
    }
   ],
   "source": [
    "order1.p_marg, order1b.p_marg, order2.p_marg"
   ]
  },
  {
   "cell_type": "markdown",
   "id": "9965b6ac",
   "metadata": {
    "lines_to_next_cell": 2
   },
   "source": [
    "## Functions"
   ]
  },
  {
   "cell_type": "code",
   "execution_count": 15,
   "id": "6b888339",
   "metadata": {},
   "outputs": [],
   "source": [
    "ETHr = np.linspace(0,order1.yint)\n",
    "ETHr2 = np.linspace(0,order1b.y)\n",
    "USDCr = np.linspace(0,order2.yint)"
   ]
  },
  {
   "cell_type": "markdown",
   "id": "5f88f8d3",
   "metadata": {},
   "source": [
    "We first plot the invariant curves. We see that `order1` and `order1b` have the same curve, but `order2` is different, and the axis are reversed."
   ]
  },
  {
   "cell_type": "code",
   "execution_count": 16,
   "id": "c5243db2",
   "metadata": {},
   "outputs": [
    {
     "data": {
      "text/plain": [
       "<matplotlib.legend.Legend at 0x7f91aafd94f0>"
      ]
     },
     "execution_count": 16,
     "metadata": {},
     "output_type": "execute_result"
    },
    {
     "data": {
      "image/png": "[encoded data removed]",
      "text/plain": [
       "<Figure size 432x288 with 1 Axes>"
      ]
     },
     "metadata": {
      "needs_background": "light"
     },
     "output_type": "display_data"
    }
   ],
   "source": [
    "plt.plot([order1.xfromy_f(y) for y in ETHr], ETHr, label=\"order1 (y=10)\", color=\"red\")\n",
    "plt.plot([order1b.xfromy_f(y) for y in ETHr], ETHr, label=\"order1b (y=5)\", color=\"blue\", linestyle=\"dotted\")\n",
    "plt.title(\"Full invariant curve\")\n",
    "plt.ylabel(\"y [ETH]\")\n",
    "plt.xlabel(\"x [USDC]\")\n",
    "plt.legend()"
   ]
  },
  {
   "cell_type": "code",
   "execution_count": 17,
   "id": "276ad9f1",
   "metadata": {},
   "outputs": [
    {
     "data": {
      "text/plain": [
       "<matplotlib.legend.Legend at 0x7f9198133a00>"
      ]
     },
     "execution_count": 17,
     "metadata": {},
     "output_type": "execute_result"
    },
    {
     "data": {
      "image/png": "[encoded data removed]",
      "text/plain": [
       "<Figure size 432x288 with 1 Axes>"
      ]
     },
     "metadata": {
      "needs_background": "light"
     },
     "output_type": "display_data"
    }
   ],
   "source": [
    "plt.plot([order2.xfromy_f(y) for y in USDCr], USDCr, label=\"order2 (y=20k)\", color=\"lawngreen\")\n",
    "plt.title(\"Full invariant curve\")\n",
    "plt.ylabel(\"y [USDC]\")\n",
    "plt.xlabel(\"x [ETH]\")\n",
    "plt.legend()"
   ]
  },
  {
   "cell_type": "markdown",
   "id": "d35d3c8b",
   "metadata": {},
   "source": [
    "The _active_ curve is the part of the curve that is reachable, ie below the current value of `y`. Initially we have `y==yint` so the full curve is active. But as we see in `order1b`, if `y<yint` the active part of the curve is smaller than the full curve."
   ]
  },
  {
   "cell_type": "code",
   "execution_count": 18,
   "id": "dbcaa9a4",
   "metadata": {},
   "outputs": [
    {
     "data": {
      "text/plain": [
       "<matplotlib.legend.Legend at 0x7f9188507d60>"
      ]
     },
     "execution_count": 18,
     "metadata": {},
     "output_type": "execute_result"
    },
    {
     "data": {
      "image/png": "[encoded data removed]",
      "text/plain": [
       "<Figure size 432x288 with 1 Axes>"
      ]
     },
     "metadata": {
      "needs_background": "light"
     },
     "output_type": "display_data"
    }
   ],
   "source": [
    "plt.plot([order1b.xfromy_f(y) for y in ETHr], ETHr, label=\"full curve\", color=\"blue\", linestyle=\"dotted\")\n",
    "plt.plot([order1b.xfromy_f(y) for y in ETHr2], ETHr2, label=\"active curve\", color=\"blue\")\n",
    "plt.title(\"Active vs full invariant curve, order 1b\")\n",
    "plt.ylabel(\"y [ETH]\")\n",
    "plt.xlabel(\"x [USDC]\")\n",
    "plt.legend()"
   ]
  },
  {
   "cell_type": "markdown",
   "id": "f829a018",
   "metadata": {},
   "source": [
    "Here we see the swap curves, ie the change in `x`, `dx` for a given change in `y`, `dy` (the chart should be read therefore in reverse: the dependent variable is on the x-axis). The first chart is for the orders selling `ETH` and we recall that the curve in `order1b` is not entirely filled, which is why it stops in the middle."
   ]
  },
  {
   "cell_type": "code",
   "execution_count": 19,
   "id": "036d1aff",
   "metadata": {},
   "outputs": [
    {
     "data": {
      "text/plain": [
       "<matplotlib.legend.Legend at 0x7f91ab12e700>"
      ]
     },
     "execution_count": 19,
     "metadata": {},
     "output_type": "execute_result"
    },
    {
     "data": {
      "image/png": "[encoded data removed]",
      "text/plain": [
       "<Figure size 432x288 with 1 Axes>"
      ]
     },
     "metadata": {
      "needs_background": "light"
     },
     "output_type": "display_data"
    }
   ],
   "source": [
    "plt.plot([order1.dxfromdy_f(y, raiseonerror=False) for y in ETHr], -ETHr, label=\"order1 (y=10)\", color=\"red\")\n",
    "plt.plot([order1b.dxfromdy_f(y, raiseonerror=False) for y in ETHr], -ETHr, label=\"order1b (y=5)\", color=\"blue\")\n",
    "plt.title(\"Swap curve\")\n",
    "plt.ylabel(\"dy [ETH]\")\n",
    "plt.xlabel(\"dx [USDC]\")\n",
    "plt.legend()"
   ]
  },
  {
   "cell_type": "code",
   "execution_count": 20,
   "id": "e4697712",
   "metadata": {},
   "outputs": [
    {
     "data": {
      "text/plain": [
       "<matplotlib.legend.Legend at 0x7f91ab09a880>"
      ]
     },
     "execution_count": 20,
     "metadata": {},
     "output_type": "execute_result"
    },
    {
     "data": {
      "image/png": "[encoded data removed]",
      "text/plain": [
       "<Figure size 432x288 with 1 Axes>"
      ]
     },
     "metadata": {
      "needs_background": "light"
     },
     "output_type": "display_data"
    }
   ],
   "source": [
    "plt.plot([order2.dxfromdy_f(y, raiseonerror=False) for y in USDCr], -USDCr, label=\"order2 (y=20k)\", color=\"lawngreen\")\n",
    "plt.title(\"Swap curve\")\n",
    "plt.xlabel(\"dx [ETH]\")\n",
    "plt.ylabel(\"dy [USDC]\")\n",
    "plt.legend()"
   ]
  },
  {
   "cell_type": "markdown",
   "id": "293f2520",
   "metadata": {},
   "source": [
    "In the below chart we show the marginal and effective prices for a given trade size. We have chosen `dx` as the independent variable here to keep the chart visually in line with the ones previously presented. The **marginal price** is the price (in USDC per ETH) at which the marginal unit of USDC is traded, ie _one dollar more_. The **effective price** is the average price of the entire trade, which corresponds to the average marginal price up to this point. Therefore, the effective prices curves are always flatter than the marginal price curves.\n",
    "\n",
    "The curves for selling ETH are upwards sloping, corresponding to the fact that the first units are sold for fewer dollars than the later ones. The ones for buying ETH are downwards sloping, because the first units are bought more expensively."
   ]
  },
  {
   "cell_type": "code",
   "execution_count": 21,
   "id": "f72d65ca",
   "metadata": {},
   "outputs": [
    {
     "data": {
      "text/plain": [
       "<matplotlib.legend.Legend at 0x7f91ab222d30>"
      ]
     },
     "execution_count": 21,
     "metadata": {},
     "output_type": "execute_result"
    },
    {
     "data": {
      "image/png": "[encoded data removed]",
      "text/plain": [
       "<Figure size 432x288 with 1 Axes>"
      ]
     },
     "metadata": {
      "needs_background": "light"
     },
     "output_type": "display_data"
    }
   ],
   "source": [
    "plt.plot(\n",
    "    [order1.dxfromdy_f(dy, raiseonerror=False) for dy in ETHr], \n",
    "    [order1.p_marg_f(dy, raiseonerror=False) for dy in ETHr], \n",
    "    label=\"marg (1; y=10 ETH)\", color=\"red\", linestyle=\"solid\")\n",
    "plt.plot(\n",
    "    [order1b.dxfromdy_f(dy, raiseonerror=False) for dy in ETHr], \n",
    "    [order1b.p_marg_f(dy, raiseonerror=False) for dy in ETHr], \n",
    "    label=\"marg (1b; y=5 ETH)\", color=\"blue\", linestyle=\"solid\")\n",
    "plt.plot(\n",
    "    USDCr, \n",
    "    [order2.p_marg_f(dy, raiseonerror=False) for dy in USDCr], \n",
    "    label=\"marg(2; y=20k USDC)\", color=\"lawngreen\", linestyle=\"solid\")\n",
    "plt.plot(\n",
    "    [order1.dxfromdy_f(dy, raiseonerror=False) for dy in ETHr], \n",
    "    [order1.p_eff_f(dy, raiseonerror=False) for dy in ETHr], \n",
    "    label=\"eff (1; y=10 ETH)\", color=\"red\", linestyle=\"dotted\")\n",
    "plt.plot(\n",
    "    [order1b.dxfromdy_f(dy, raiseonerror=False) for dy in ETHr], \n",
    "    [order1b.p_eff_f(dy, raiseonerror=False) for dy in ETHr], \n",
    "    label=\"eff (1b; y=5 ETH)\", color=\"blue\", linestyle=\"dotted\")\n",
    "plt.plot(\n",
    "    USDCr, \n",
    "    [order2.p_eff_f(dy, raiseonerror=False) for dy in USDCr], \n",
    "    label=\"eff (2; y=20k USDC)\", color=\"lawngreen\", linestyle=\"dotted\")\n",
    "plt.ylabel(\"Price [USDC per ETH]\")\n",
    "plt.xlabel(\"dx [USDC]\")\n",
    "plt.legend(loc=\"center right\")"
   ]
  },
  {
   "cell_type": "markdown",
   "id": "697d78cc",
   "metadata": {},
   "source": [
    "## Trading\n",
    "\n",
    "You can simulate trading (against a single curve) directly here. With `execute = False` the curve object itself is not changed. The command `selly` (when called with a positive `dy`) sells the y token of the curve. When called with a negative number, it buys this token. The outputs of this command are\n",
    "\n",
    "      'y_old': 10                             # the previous amount of liquidity on curve         \n",
    "      'y': 9                                  # ditto current\n",
    "      'dy': 1                                 # the liquidity change in token y (positive=SELL)\n",
    "      'yint_old': None                        # the old curve capacity\n",
    "      'y_int': 10                             # the current curve capacity\n",
    "      'expanded': False                       # whether the curve capacity has been expanded\n",
    "      'x': 2037.3867433374953                 # the implied virtual x liquidity on curve\n",
    "      'dx': 2037.3867433374958                # the liquidity change in token x (positive=BUY)\n",
    "      'tkny': 'ETH'                           # name of token y\n",
    "      'tknx': 'USDC'                          # name of token x\n",
    "      'tx': 'Sell 1 ETH buy USDC'             # the transaction as text\n",
    "      'dx/dy': 2037.3867433374958             # the ratio dx/dy (effective price)\n",
    "      'dy/dx': 0.0004908248290463863          # the ratio dy/dx (effective price; inverse quotattion)\n",
    "      'pmarg_old': 2000.0                     # the marginal price before the trade, in canonic quote direction\n",
    "      'pmarg': 2075.472370963683              # ditto after the trade\n",
    "      'p': 2037.3867433374958                 # the effective price of the trade, in canonic quote direction"
   ]
  },
  {
   "cell_type": "code",
   "execution_count": 22,
   "id": "780692a0",
   "metadata": {},
   "outputs": [
    {
     "data": {
      "text/plain": [
       "{'y_old': 10,\n",
       " 'y': 9,\n",
       " 'dy': 1,\n",
       " 'yint_old': None,\n",
       " 'y_int': 10,\n",
       " 'expanded': False,\n",
       " 'x': 2037.3867433374953,\n",
       " 'dx': 2037.3867433374958,\n",
       " 'tkny': 'ETH',\n",
       " 'tknx': 'USDC',\n",
       " 'tx': 'Sell 1 ETH buy USDC',\n",
       " 'dx/dy': 2037.3867433374958,\n",
       " 'dy/dx': 0.0004908248290463863,\n",
       " 'pmarg_old': 2000.0,\n",
       " 'pmarg': 2075.472370963683,\n",
       " 'p': 2037.3867433374958}"
      ]
     },
     "execution_count": 22,
     "metadata": {},
     "output_type": "execute_result"
    }
   ],
   "source": [
    "order1.selly(1, execute = False)"
   ]
  },
  {
   "cell_type": "code",
   "execution_count": 23,
   "id": "1fe4a724",
   "metadata": {},
   "outputs": [
    {
     "data": {
      "text/plain": [
       "{'y_old': 10,\n",
       " 'y': 8,\n",
       " 'dy': 2,\n",
       " 'yint_old': None,\n",
       " 'y_int': 10,\n",
       " 'expanded': False,\n",
       " 'x': 4152.395764007314,\n",
       " 'dx': 4152.395764007314,\n",
       " 'tkny': 'ETH',\n",
       " 'tknx': 'USDC',\n",
       " 'tx': 'Sell 2 ETH buy USDC',\n",
       " 'dx/dy': 2076.197882003657,\n",
       " 'dy/dx': 0.00048164965809277256,\n",
       " 'pmarg_old': 2000.0,\n",
       " 'pmarg': 2155.2988226182356,\n",
       " 'p': 2076.197882003657}"
      ]
     },
     "execution_count": 23,
     "metadata": {},
     "output_type": "execute_result"
    }
   ],
   "source": [
    "order1.selly(2, execute = False)"
   ]
  },
  {
   "cell_type": "code",
   "execution_count": 24,
   "id": "aed980a6",
   "metadata": {},
   "outputs": [
    {
     "data": {
      "text/plain": [
       "{'y_old': 10,\n",
       " 'y': 9.50454587628476,\n",
       " 'dy': 0.4954541237152398,\n",
       " 'yint_old': None,\n",
       " 'y_int': 10,\n",
       " 'expanded': False,\n",
       " 'x': 999.9999999999992,\n",
       " 'dx': 1000.0,\n",
       " 'tkny': 'ETH',\n",
       " 'tknx': 'USDC',\n",
       " 'tx': 'Sell 0.4954541237152398 ETH buy USDC',\n",
       " 'dx/dy': 2018.3503419072274,\n",
       " 'dy/dx': 0.0004954541237152398,\n",
       " 'pmarg_old': 2000.0,\n",
       " 'pmarg': 2036.869051338511,\n",
       " 'p': 2018.3503419072274}"
      ]
     },
     "execution_count": 24,
     "metadata": {},
     "output_type": "execute_result"
    }
   ],
   "source": [
    "order1.buyx(1000, execute = False)"
   ]
  },
  {
   "cell_type": "code",
   "execution_count": 25,
   "id": "beceb9a1",
   "metadata": {},
   "outputs": [
    {
     "data": {
      "text/plain": [
       "{'y_old': 10,\n",
       " 'y': 9.018019674715147,\n",
       " 'dy': 0.9819803252848526,\n",
       " 'yint_old': None,\n",
       " 'y_int': 10,\n",
       " 'expanded': False,\n",
       " 'x': 2000.0000000000016,\n",
       " 'dx': 2000.0,\n",
       " 'tkny': 'ETH',\n",
       " 'tknx': 'USDC',\n",
       " 'tx': 'Sell 0.9819803252848526 ETH buy USDC',\n",
       " 'dx/dy': 2036.7006838144548,\n",
       " 'dy/dx': 0.0004909901626424263,\n",
       " 'pmarg_old': 2000.0,\n",
       " 'pmarg': 2074.0748377251334,\n",
       " 'p': 2036.7006838144548}"
      ]
     },
     "execution_count": 25,
     "metadata": {},
     "output_type": "execute_result"
    }
   ],
   "source": [
    "order1.buyx(2000, execute = False)"
   ]
  },
  {
   "cell_type": "markdown",
   "id": "06838de6",
   "metadata": {},
   "source": [
    "With `execute = True` (default), the order object is changed"
   ]
  },
  {
   "cell_type": "code",
   "execution_count": 26,
   "id": "83135da2",
   "metadata": {
    "lines_to_next_cell": 2
   },
   "outputs": [
    {
     "name": "stdout",
     "output_type": "stream",
     "text": [
      "y=8.5\n"
     ]
    },
    {
     "data": {
      "text/plain": [
       "{'y_old': 7.0,\n",
       " 'y': 8.5,\n",
       " 'dy': -1.5,\n",
       " 'yint_old': None,\n",
       " 'y_int': 10.0,\n",
       " 'expanded': False,\n",
       " 'x': 3084.9138354523297,\n",
       " 'dx': -3264.635360664166,\n",
       " 'tkny': 'ETH',\n",
       " 'tknx': 'USDC',\n",
       " 'tx': 'Buy 1.5 ETH sell USDC',\n",
       " 'dx/dy': 2176.4235737761105,\n",
       " 'dy/dx': 0.00045946938456699067,\n",
       " 'pmarg_old': 2239.8208329946465,\n",
       " 'pmarg': 2114.8207493700456,\n",
       " 'p': 2176.4235737761105}"
      ]
     },
     "execution_count": 26,
     "metadata": {},
     "output_type": "execute_result"
    }
   ],
   "source": [
    "order_ = CarbonOrderUI.from_order(order1)\n",
    "print(f\"y={10-1-2+1.5}\")\n",
    "order_.selly(1)\n",
    "order_.selly(2)\n",
    "order_.selly(-1.5)"
   ]
  },
  {
   "cell_type": "markdown",
   "id": "11e61267",
   "metadata": {},
   "source": [
    "## Order book calculations"
   ]
  },
  {
   "cell_type": "markdown",
   "id": "9cd3abd3",
   "metadata": {},
   "source": [
    "First we create a staggered list of 10 orders. Note that all those orders are only half-filled. The corresponding marginal prices are shown in the printout."
   ]
  },
  {
   "cell_type": "code",
   "execution_count": 27,
   "id": "c2bfc1e3",
   "metadata": {},
   "outputs": [
    {
     "name": "stdout",
     "output_type": "stream",
     "text": [
      "y=5 pa=2000.0 pb=2500.0  pmarg=2229.1\n",
      "y=5 pa=2050.0 pb=2550.0  pmarg=2279.6\n",
      "y=5 pa=2100.0 pb=2600.0  pmarg=2330.0\n",
      "y=5 pa=2150.0 pb=2650.0  pmarg=2380.4\n",
      "y=5 pa=2200.0 pb=2700.0  pmarg=2430.8\n",
      "y=5 pa=2250.0 pb=2750.0  pmarg=2481.2\n",
      "y=5 pa=2300.0 pb=2800.0  pmarg=2531.6\n",
      "y=5 pa=2350.0 pb=2850.0  pmarg=2581.9\n",
      "y=5 pa=2400.0 pb=2900.0  pmarg=2632.3\n",
      "y=5 pa=2450.0 pb=2950.0  pmarg=2682.6\n"
     ]
    },
    {
     "data": {
      "text/plain": [
       "(2229.1236000336485, 2682.6140015319056)"
      ]
     },
     "execution_count": 27,
     "metadata": {},
     "output_type": "execute_result"
    }
   ],
   "source": [
    "orders = [\n",
    "    CarbonOrderUI.from_prices(\"ETH/USDC\", \"ETH\", 2000+50*i, 2500+50*i, 10, 5)\n",
    "    for i in range(10)\n",
    "]\n",
    "for o in orders:\n",
    "    print(f\"y={o.y} pa={round(o.pa,0)} pb={round(o.pb,0)}  pmarg={round(o.p_marg,1)}\")\n",
    "margp = [o.p_marg for o in orders]\n",
    "min(margp), max(margp)"
   ]
  },
  {
   "cell_type": "markdown",
   "id": "e13df660",
   "metadata": {},
   "source": [
    "We are now looking at the dy released if the market moves to 2100. Those are all 0, because all positions are already beyond 2100 (as we can see above, the lowest marginal prices is about 2229)"
   ]
  },
  {
   "cell_type": "code",
   "execution_count": 28,
   "id": "785a27d9",
   "metadata": {},
   "outputs": [
    {
     "data": {
      "text/plain": [
       "[0, 0, 0, 0, 0, 0, 0, 0, 0, 0]"
      ]
     },
     "execution_count": 28,
     "metadata": {},
     "output_type": "execute_result"
    }
   ],
   "source": [
    "[o.dyfromp_f(2100) for o in orders]"
   ]
  },
  {
   "cell_type": "markdown",
   "id": "799f4448",
   "metadata": {},
   "source": [
    "If markets go all the way to 3000 -- which is above the upper end of the highest range which is at 2950 -- we see that all positions release their 5 ETH."
   ]
  },
  {
   "cell_type": "code",
   "execution_count": 29,
   "id": "789712cf",
   "metadata": {},
   "outputs": [
    {
     "data": {
      "text/plain": [
       "[5, 5, 5, 5, 5, 5, 5, 5, 5, 5]"
      ]
     },
     "execution_count": 29,
     "metadata": {},
     "output_type": "execute_result"
    }
   ],
   "source": [
    "[o.dyfromp_f(3000) for o in orders]"
   ]
  },
  {
   "cell_type": "markdown",
   "id": "d281b70d",
   "metadata": {},
   "source": [
    "For 2300 we see that only the first two positions contribute -- they release 1.39 and 0.40 ETH respectively. The current marginal price of the 3rd position is about 2330 which is already to high, and the other ones are even higher. If the market goes to 2500, the 1st position is fully used up, and the the next 4 position partially."
   ]
  },
  {
   "cell_type": "code",
   "execution_count": 30,
   "id": "96b73244",
   "metadata": {},
   "outputs": [
    {
     "data": {
      "text/plain": [
       "[1.39, 0.41, 0, 0, 0, 0, 0, 0, 0, 0]"
      ]
     },
     "execution_count": 30,
     "metadata": {},
     "output_type": "execute_result"
    }
   ],
   "source": [
    "[round(o.dyfromp_f(2300),2) for o in orders]"
   ]
  },
  {
   "cell_type": "markdown",
   "id": "7138b6c6",
   "metadata": {},
   "source": [
    "For 2500, the first 6 positions release ETH"
   ]
  },
  {
   "cell_type": "code",
   "execution_count": 31,
   "id": "c33112d3",
   "metadata": {},
   "outputs": [
    {
     "data": {
      "text/plain": [
       "[5.0, 4.14, 3.24, 2.32, 1.36, 0.38, 0, 0, 0, 0]"
      ]
     },
     "execution_count": 31,
     "metadata": {},
     "output_type": "execute_result"
    }
   ],
   "source": [
    "[round(o.dyfromp_f(2500),2) for o in orders]"
   ]
  },
  {
   "cell_type": "markdown",
   "id": "7ee29d2a",
   "metadata": {},
   "source": [
    "We now define `dy_f` as the aggregate ETH released from all positions defined above, and we compute the corresponding USDC inflow `dx_f` from this. In case you are not familiar with the `lamba` syntax, this is simply a short form for saying that `dy_f(p)` and `dx_f(p)` are functions of p.  "
   ]
  },
  {
   "cell_type": "code",
   "execution_count": 32,
   "id": "347f53f7",
   "metadata": {},
   "outputs": [],
   "source": [
    "dy_f = lambda p: sum(o.dyfromp_f(p) for o in orders)"
   ]
  },
  {
   "cell_type": "code",
   "execution_count": 33,
   "id": "81d2ffb9",
   "metadata": {},
   "outputs": [],
   "source": [
    "dx_f = lambda p: sum(o.dxfromdy_f(o.dyfromp_f(p)) for o in orders)"
   ]
  },
  {
   "cell_type": "markdown",
   "id": "72f374da",
   "metadata": {},
   "source": [
    "We can then plot the ETH release (first chart) and USDC inflow (second chart) as a function of marginal price of the AMM, keeping in mind that in reasonably liquid markets the marginal price of the AMM will correspond to the market price of ETH/USDC."
   ]
  },
  {
   "cell_type": "code",
   "execution_count": 34,
   "id": "d8b5f4cc",
   "metadata": {},
   "outputs": [],
   "source": [
    "pvals = np.linspace(2000, 3000)\n",
    "dyvals = [dy_f(p) for p in pvals]\n",
    "dxvals = [dx_f(p) for p in pvals]"
   ]
  },
  {
   "cell_type": "markdown",
   "id": "3411062a",
   "metadata": {},
   "source": [
    "The chart below looks at (ETH) outflows vs (USDC) inflows. Unsurprisingly it is monotonically increasing. It also looks mostly linear but this is an illusion as the prices change along the way as we can see in the marginal and effective price charts below."
   ]
  },
  {
   "cell_type": "code",
   "execution_count": 35,
   "id": "11f100e2",
   "metadata": {},
   "outputs": [
    {
     "data": {
      "text/plain": [
       "Text(0.5, 0, 'Aggregate ETH release')"
      ]
     },
     "execution_count": 35,
     "metadata": {},
     "output_type": "execute_result"
    },
    {
     "data": {
      "image/png": "[encoded data removed]",
      "text/plain": [
       "<Figure size 432x288 with 1 Axes>"
      ]
     },
     "metadata": {
      "needs_background": "light"
     },
     "output_type": "display_data"
    }
   ],
   "source": [
    "plt.plot(dyvals, dxvals)\n",
    "plt.title(\"Inflows vs outflows\")\n",
    "plt.ylabel(\"Aggregate USDC inflow\")\n",
    "plt.xlabel(\"Aggregate ETH release\")"
   ]
  },
  {
   "cell_type": "code",
   "execution_count": 36,
   "id": "143e9f9b",
   "metadata": {},
   "outputs": [
    {
     "data": {
      "text/plain": [
       "Text(0.5, 0, 'Aggregate ETH release')"
      ]
     },
     "execution_count": 36,
     "metadata": {},
     "output_type": "execute_result"
    },
    {
     "data": {
      "image/png": "[encoded data removed]",
      "text/plain": [
       "<Figure size 432x288 with 1 Axes>"
      ]
     },
     "metadata": {
      "needs_background": "light"
     },
     "output_type": "display_data"
    }
   ],
   "source": [
    "plt.plot(dyvals, pvals)\n",
    "plt.title(\"Marginal price chart\")\n",
    "plt.ylabel(\"Marginal price (USDC per ETH)\")\n",
    "plt.xlabel(\"Aggregate ETH release\")"
   ]
  },
  {
   "cell_type": "code",
   "execution_count": 37,
   "id": "5379b53b",
   "metadata": {},
   "outputs": [
    {
     "data": {
      "text/plain": [
       "Text(0, 0.5, 'Effective price (USDC per ETH)')"
      ]
     },
     "execution_count": 37,
     "metadata": {},
     "output_type": "execute_result"
    },
    {
     "data": {
      "image/png": "[encoded data removed]",
      "text/plain": [
       "<Figure size 432x288 with 1 Axes>"
      ]
     },
     "metadata": {
      "needs_background": "light"
     },
     "output_type": "display_data"
    }
   ],
   "source": [
    "plt.plot(dyvals, [dx/dy if dy>0 else None for dx,dy in zip(dxvals, dyvals)])\n",
    "plt.title(\"Effective price chart\")\n",
    "plt.xlabel(\"Aggregate ETH release\")\n",
    "plt.ylabel(\"Effective price (USDC per ETH)\")"
   ]
  },
  {
   "cell_type": "code",
   "execution_count": 38,
   "id": "3e57b88d",
   "metadata": {},
   "outputs": [
    {
     "data": {
      "text/plain": [
       "Text(0, 0.5, 'Aggregate ETH release')"
      ]
     },
     "execution_count": 38,
     "metadata": {},
     "output_type": "execute_result"
    },
    {
     "data": {
      "image/png": "[encoded data removed]",
      "text/plain": [
       "<Figure size 432x288 with 1 Axes>"
      ]
     },
     "metadata": {
      "needs_background": "light"
     },
     "output_type": "display_data"
    }
   ],
   "source": [
    "plt.plot(pvals, dyvals)\n",
    "plt.title(\"Price reaction chart\")\n",
    "plt.xlabel(\"Marginal price (USDC per ETH)\")\n",
    "plt.ylabel(\"Aggregate ETH release\")"
   ]
  },
  {
   "cell_type": "code",
   "execution_count": 39,
   "id": "76cc87d0",
   "metadata": {},
   "outputs": [
    {
     "data": {
      "text/plain": [
       "Text(0, 0.5, 'Aggregate USDC inflow')"
      ]
     },
     "execution_count": 39,
     "metadata": {},
     "output_type": "execute_result"
    },
    {
     "data": {
      "image/png": "[encoded data removed]",
      "text/plain": [
       "<Figure size 432x288 with 1 Axes>"
      ]
     },
     "metadata": {
      "needs_background": "light"
     },
     "output_type": "display_data"
    }
   ],
   "source": [
    "plt.plot(pvals, dxvals)\n",
    "plt.title(\"USDC inflow vs market price\")\n",
    "plt.xlabel(\"Marginal price (USDC per ETH)\")\n",
    "plt.ylabel(\"Aggregate USDC inflow\")"
   ]
  },
  {
   "cell_type": "code",
   "execution_count": 40,
   "id": "b35348d2",
   "metadata": {},
   "outputs": [
    {
     "data": {
      "text/plain": [
       "Text(0, 0.5, 'Effective price (USDC per ETH)')"
      ]
     },
     "execution_count": 40,
     "metadata": {},
     "output_type": "execute_result"
    },
    {
     "data": {
      "image/png": "[encoded data removed]",
      "text/plain": [
       "<Figure size 432x288 with 1 Axes>"
      ]
     },
     "metadata": {
      "needs_background": "light"
     },
     "output_type": "display_data"
    }
   ],
   "source": [
    "plt.plot(pvals, [dx/dy if dy>0 else None for dx,dy in zip(dxvals, dyvals)])\n",
    "plt.xlabel(\"Marginal price (USDC per ETH)\")\n",
    "plt.ylabel(\"Effective price (USDC per ETH)\")"
   ]
  },
  {
   "cell_type": "code",
   "execution_count": null,
   "id": "bcfd7f41",
   "metadata": {},
   "outputs": [],
   "source": []
  },
  {
   "cell_type": "code",
   "execution_count": null,
   "id": "3bead01f",
   "metadata": {},
   "outputs": [],
   "source": []
  }
 ],
 "metadata": {
  "jupytext": {
   "formats": "ipynb,py:light"
  },
  "kernelspec": {
   "display_name": "Python 3",
   "language": "python",
   "name": "python3"
  },
  "language_info": {
   "codemirror_mode": {
    "name": "ipython",
    "version": 3
   },
   "file_extension": ".py",
   "mimetype": "text/x-python",
   "name": "python",
   "nbconvert_exporter": "python",
   "pygments_lexer": "ipython3",
   "version": "3.8.8"
  }
 },
 "nbformat": 4,
 "nbformat_minor": 5
}
