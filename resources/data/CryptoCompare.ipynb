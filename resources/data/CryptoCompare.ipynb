{
 "cells": [
  {
   "cell_type": "code",
   "execution_count": 1,
   "id": "655e6fab",
   "metadata": {
    "scrolled": true
   },
   "outputs": [
    {
     "name": "stdout",
     "output_type": "stream",
     "text": [
      "CryptoCompare v1.4 (01/Feb/2023)\n"
     ]
    }
   ],
   "source": [
    "from carbon.helpers.cryptocompare import CryptoCompare\n",
    "import pandas as pd\n",
    "from matplotlib import pyplot as plt\n",
    "import os\n",
    "print( \"{0.__name__} v{0.__VERSION__} ({0.__DATE__})\".format(CryptoCompare))"
   ]
  },
  {
   "cell_type": "markdown",
   "id": "1a8bd681",
   "metadata": {},
   "source": [
    "# Crypto Compare\n",
    "\n",
    "https://min-api.cryptocompare.com/documentation"
   ]
  },
  {
   "cell_type": "markdown",
   "id": "01e4f34f-ae8b-45b6-8a08-5bebb14611d9",
   "metadata": {},
   "source": [
    "## Selection\n",
    "\n",
    "Please enter the pairs for the `SELECTION` data collection below"
   ]
  },
  {
   "cell_type": "code",
   "execution_count": 2,
   "id": "fc6c0b9e-8184-414f-8611-c455071589fc",
   "metadata": {},
   "outputs": [],
   "source": [
    "selection = \"MIM/LTC, BNT/LINK, NMR/USD\""
   ]
  },
  {
   "cell_type": "code",
   "execution_count": 13,
   "id": "8182d272-bed5-4e36-8507-17537bcf3b08",
   "metadata": {},
   "outputs": [
    {
     "data": {
      "text/html": [
       "<div>\n",
       "<style scoped>\n",
       "    .dataframe tbody tr th:only-of-type {\n",
       "        vertical-align: middle;\n",
       "    }\n",
       "\n",
       "    .dataframe tbody tr th {\n",
       "        vertical-align: top;\n",
       "    }\n",
       "\n",
       "    .dataframe thead th {\n",
       "        text-align: right;\n",
       "    }\n",
       "</style>\n",
       "<table border=\"1\" class=\"dataframe\">\n",
       "  <thead>\n",
       "    <tr style=\"text-align: right;\">\n",
       "      <th></th>\n",
       "      <th>BNT/LINK</th>\n",
       "      <th>MIM/LTC</th>\n",
       "      <th>NMR/USD</th>\n",
       "    </tr>\n",
       "    <tr>\n",
       "      <th>datetime</th>\n",
       "      <th></th>\n",
       "      <th></th>\n",
       "      <th></th>\n",
       "    </tr>\n",
       "  </thead>\n",
       "  <tbody>\n",
       "    <tr>\n",
       "      <th>2017-08-11</th>\n",
       "      <td>0.0</td>\n",
       "      <td>0.0</td>\n",
       "      <td>34.72</td>\n",
       "    </tr>\n",
       "    <tr>\n",
       "      <th>2017-08-12</th>\n",
       "      <td>0.0</td>\n",
       "      <td>0.0</td>\n",
       "      <td>43.90</td>\n",
       "    </tr>\n",
       "    <tr>\n",
       "      <th>2017-08-13</th>\n",
       "      <td>0.0</td>\n",
       "      <td>0.0</td>\n",
       "      <td>36.76</td>\n",
       "    </tr>\n",
       "    <tr>\n",
       "      <th>2017-08-14</th>\n",
       "      <td>0.0</td>\n",
       "      <td>0.0</td>\n",
       "      <td>34.62</td>\n",
       "    </tr>\n",
       "    <tr>\n",
       "      <th>2017-08-15</th>\n",
       "      <td>0.0</td>\n",
       "      <td>0.0</td>\n",
       "      <td>31.30</td>\n",
       "    </tr>\n",
       "  </tbody>\n",
       "</table>\n",
       "</div>"
      ],
      "text/plain": [
       "            BNT/LINK  MIM/LTC  NMR/USD\n",
       "datetime                              \n",
       "2017-08-11       0.0      0.0    34.72\n",
       "2017-08-12       0.0      0.0    43.90\n",
       "2017-08-13       0.0      0.0    36.76\n",
       "2017-08-14       0.0      0.0    34.62\n",
       "2017-08-15       0.0      0.0    31.30"
      ]
     },
     "execution_count": 13,
     "metadata": {},
     "output_type": "execute_result"
    }
   ],
   "source": [
    "pd.read_pickle(\"cryptocompare/SELECTION.pickle\").head()"
   ]
  },
  {
   "cell_type": "code",
   "execution_count": 14,
   "id": "45055466-7b7a-42d4-93c6-2fea7fc6f4fb",
   "metadata": {},
   "outputs": [],
   "source": [
    "# !cp cryptocompare/SELECTION.pickle .\n",
    "# !cp cryptocompare/SELECTION.pickle ../../../JupyLiteCarbonSim/content/data\n",
    "# !cp cryptocompare/SELECTION.pickle ../../../BinderCarbonSimulator/Frozen/data"
   ]
  },
  {
   "cell_type": "markdown",
   "id": "d2cb9e84",
   "metadata": {},
   "source": [
    "## SetUp\n",
    "\n",
    "If you have a private API key, run `export CCAPIKEY=<YOURKEY>` before you launch Jupyter on the same shell. In case no key is found the free API is used. You can also provide the API key in the constructor, but this is not recommended for security reasons."
   ]
  },
  {
   "cell_type": "code",
   "execution_count": 5,
   "id": "d37fb19e",
   "metadata": {
    "scrolled": true
   },
   "outputs": [
    {
     "name": "stdout",
     "output_type": "stream",
     "text": [
      "Can't find API key CCAPIKEY in environment variables.\n",
      "Use `export CCAPIKEY=<value>` to set it BEFORE you launch Jupyter\n",
      "[CryptoCompare] key digest 0000\n"
     ]
    }
   ],
   "source": [
    "try:\n",
    "    CC = CryptoCompare(apikeyname=\"CCAPIKEY\")\n",
    "except:\n",
    "    CC = CryptoCompare(apikey=True)\n",
    "\n",
    "print(\"[CryptoCompare] key digest\", CC.keydigest[:4])"
   ]
  },
  {
   "cell_type": "markdown",
   "id": "9bce1d7d",
   "metadata": {},
   "source": [
    "## Coin lists"
   ]
  },
  {
   "cell_type": "markdown",
   "id": "f4036c8e",
   "metadata": {},
   "source": [
    "Here we populate the various coin lists that we will use to download data. They are as follows:\n",
    "\n",
    "- `coins_for_ccy`, `ccies`: creates a table for each of the currencies \n",
    "- `coins_for_cross`: creates a single cross table\n",
    "- `usdstables`: creates a single table against USD\n",
    "\n",
    "We also define the list of items **not** to produce, `excludes`. Finally there is an `includes` list that, if present, specifies the _only_ items to be produced."
   ]
  },
  {
   "cell_type": "code",
   "execution_count": 6,
   "id": "bb5205b1",
   "metadata": {
    "scrolled": true
   },
   "outputs": [],
   "source": [
    "coins_for_ccy =\"ETH, BTC, BNB, XRP, ADA, DOGE, MATIC, SOL, OKB, DOT, LTC, TRX, AVAX, ATOM\"\n",
    "coins_for_cross =\"ETH, BTC, BNB, XRP, ADA, DOGE, MATIC, SOL, OKB, DOT, LTC, TRX, AVAX, ATOM\"\n",
    "usdstables = \"USDT, USDC, UST, BUSD\"\n",
    "ccies = \"USD, BTC, ETH\"\n",
    "\n",
    "#excludes = ['COINS-CROSS', 'STABLES-USD', 'COINS-USD', 'COINS-BTC', 'COINS-ETH']\n",
    "includes = [\"SELECTION\"]"
   ]
  },
  {
   "cell_type": "markdown",
   "id": "fe44fd9b",
   "metadata": {},
   "source": [
    "The table `dltable0` has as keys the filename, and the data is a tuple of pairs. The table `dltable` contains the final downloads, the difference being the `excludes` to avoid redownloading data that is not needed. \n",
    "\n",
    "**YOU MUST RESTART THE KERNEL IF YOU MAKE CHANGES TO INCLUDES OR EXCLUDES**."
   ]
  },
  {
   "cell_type": "code",
   "execution_count": 7,
   "id": "e3146187",
   "metadata": {
    "scrolled": true
   },
   "outputs": [
    {
     "name": "stdout",
     "output_type": "stream",
     "text": [
      "restricted execution to the pairs in `includes` ['SELECTION']\n"
     ]
    },
    {
     "data": {
      "text/plain": [
       "(dict_keys(['COINS-CROSS', 'STABLES-USD', 'COINS-USD', 'COINS-BTC', 'COINS-ETH', 'SELECTION']),\n",
       " dict_keys(['SELECTION']))"
      ]
     },
     "execution_count": 7,
     "metadata": {},
     "output_type": "execute_result"
    }
   ],
   "source": [
    "dltable0 = {\n",
    "    \"COINS-CROSS\": CC.create_pairs(coins_for_cross),\n",
    "    \"STABLES-USD\": CC.create_pairs(usdstables, \"USD\"),\n",
    "    **{\n",
    "        f\"COINS-{ccy}\": CC.create_pairs(coins_for_ccy, ccy)\n",
    "        for ccy in CC.coinlist(ccies)\n",
    "    },\n",
    "    \"SELECTION\": CC.coinlist(selection, aspt=True),\n",
    "}\n",
    "try:\n",
    "    dltable = {k:v for k, v in dltable0.items() if k in includes}\n",
    "    print(\"restricted execution to the pairs in `includes`\", includes)\n",
    "except:\n",
    "    try:\n",
    "        dltable = {k:v for k, v in dltable0.items() if not k in excludes}\n",
    "        print(\"the items in `excludes` were excluded\", excludes)\n",
    "    except:\n",
    "        dltable = dltable0\n",
    "        print(\"no `includes` or `excludes` info present; all tables are being process\")\n",
    "dltable0.keys(), dltable.keys()"
   ]
  },
  {
   "cell_type": "markdown",
   "id": "a73ab046",
   "metadata": {},
   "source": [
    "## Data download"
   ]
  },
  {
   "cell_type": "markdown",
   "id": "a2736ecb",
   "metadata": {},
   "source": [
    "### Raw tables"
   ]
  },
  {
   "cell_type": "code",
   "execution_count": 8,
   "id": "a77ab1fb",
   "metadata": {},
   "outputs": [
    {
     "name": "stdout",
     "output_type": "stream",
     "text": [
      "Downloading raw table SELECTION 3\n",
      "[query] https://min-api.cryptocompare.com/data/v2/histoday {'fsym': 'MIM', 'tsym': 'LTC', 'limit': 2000} [0000]\n",
      "[query] https://min-api.cryptocompare.com/data/v2/histoday {'fsym': 'BNT', 'tsym': 'LINK', 'limit': 2000} [0000]\n",
      "[query] https://min-api.cryptocompare.com/data/v2/histoday {'fsym': 'NMR', 'tsym': 'USD', 'limit': 2000} [0000]\n"
     ]
    }
   ],
   "source": [
    "for item, pairs in dltable.items():\n",
    "    print(\"Downloading raw table\", item, len(pairs))\n",
    "    results = {\n",
    "        (fsym, tsym): CC.query_dailypair(fsym=fsym, tsym=tsym)\n",
    "        for fsym, tsym in pairs\n",
    "    }\n",
    "    df = pd.concat(results, axis=1)\n",
    "    df.to_pickle(CC.datafn(f\"{item}-RAW.pickle\"))"
   ]
  },
  {
   "cell_type": "code",
   "execution_count": 9,
   "id": "0d758174",
   "metadata": {
    "scrolled": true
   },
   "outputs": [
    {
     "name": "stdout",
     "output_type": "stream",
     "text": [
      "COINS-BTC-RAW.pickle      COINS-USD-RAW.pickle      isoccy.csv\n",
      "COINS-BTC.pickle          COINS-USD.pickle          query_allexchanges.pickle\n",
      "COINS-CROSS-RAW.pickle    SELECTION-RAW.pickle      query_coinlist.pickle\n",
      "COINS-CROSS.pickle        SELECTION.pickle          query_indexlist.pickle\n",
      "COINS-ETH-RAW.pickle      STABLES-USD-RAW.pickle\n",
      "COINS-ETH.pickle          STABLES-USD.pickle\n"
     ]
    }
   ],
   "source": [
    "!ls cryptocompare"
   ]
  },
  {
   "cell_type": "markdown",
   "id": "fe548588",
   "metadata": {},
   "source": [
    "### Reformatted tables"
   ]
  },
  {
   "cell_type": "code",
   "execution_count": 10,
   "id": "8b50e8c7",
   "metadata": {
    "scrolled": true
   },
   "outputs": [
    {
     "name": "stdout",
     "output_type": "stream",
     "text": [
      "Converting raw table SELECTION\n"
     ]
    }
   ],
   "source": [
    "for item in dltable:\n",
    "    print(\"Converting raw table\", item)\n",
    "    df = pd.read_pickle(CC.datafn(f\"{item}-RAW.pickle\"))\n",
    "    df = CC.reformat_raw_df(df)\n",
    "    df.to_pickle(CC.datafn(f\"{item}.pickle\"))"
   ]
  },
  {
   "cell_type": "markdown",
   "id": "23a9418f",
   "metadata": {},
   "source": [
    "## Review tables"
   ]
  },
  {
   "cell_type": "code",
   "execution_count": 11,
   "id": "9acd40c5",
   "metadata": {
    "scrolled": true
   },
   "outputs": [
    {
     "name": "stdout",
     "output_type": "stream",
     "text": [
      "COINS-BTC-RAW.pickle      COINS-USD-RAW.pickle      isoccy.csv\n",
      "COINS-BTC.pickle          COINS-USD.pickle          query_allexchanges.pickle\n",
      "COINS-CROSS-RAW.pickle    SELECTION-RAW.pickle      query_coinlist.pickle\n",
      "COINS-CROSS.pickle        SELECTION.pickle          query_indexlist.pickle\n",
      "COINS-ETH-RAW.pickle      STABLES-USD-RAW.pickle\n",
      "COINS-ETH.pickle          STABLES-USD.pickle\n"
     ]
    }
   ],
   "source": [
    "!ls cryptocompare"
   ]
  },
  {
   "cell_type": "code",
   "execution_count": 12,
   "id": "d8a03ef4",
   "metadata": {
    "scrolled": true
   },
   "outputs": [
    {
     "data": {
      "text/html": [
       "<div>\n",
       "<style scoped>\n",
       "    .dataframe tbody tr th:only-of-type {\n",
       "        vertical-align: middle;\n",
       "    }\n",
       "\n",
       "    .dataframe tbody tr th {\n",
       "        vertical-align: top;\n",
       "    }\n",
       "\n",
       "    .dataframe thead th {\n",
       "        text-align: right;\n",
       "    }\n",
       "</style>\n",
       "<table border=\"1\" class=\"dataframe\">\n",
       "  <thead>\n",
       "    <tr style=\"text-align: right;\">\n",
       "      <th></th>\n",
       "      <th>BNT/LINK</th>\n",
       "      <th>MIM/LTC</th>\n",
       "      <th>NMR/USD</th>\n",
       "    </tr>\n",
       "    <tr>\n",
       "      <th>datetime</th>\n",
       "      <th></th>\n",
       "      <th></th>\n",
       "      <th></th>\n",
       "    </tr>\n",
       "  </thead>\n",
       "  <tbody>\n",
       "    <tr>\n",
       "      <th>2017-08-11</th>\n",
       "      <td>0.00000</td>\n",
       "      <td>0.00000</td>\n",
       "      <td>34.72</td>\n",
       "    </tr>\n",
       "    <tr>\n",
       "      <th>2017-08-12</th>\n",
       "      <td>0.00000</td>\n",
       "      <td>0.00000</td>\n",
       "      <td>43.90</td>\n",
       "    </tr>\n",
       "    <tr>\n",
       "      <th>2017-08-13</th>\n",
       "      <td>0.00000</td>\n",
       "      <td>0.00000</td>\n",
       "      <td>36.76</td>\n",
       "    </tr>\n",
       "    <tr>\n",
       "      <th>2017-08-14</th>\n",
       "      <td>0.00000</td>\n",
       "      <td>0.00000</td>\n",
       "      <td>34.62</td>\n",
       "    </tr>\n",
       "    <tr>\n",
       "      <th>2017-08-15</th>\n",
       "      <td>0.00000</td>\n",
       "      <td>0.00000</td>\n",
       "      <td>31.30</td>\n",
       "    </tr>\n",
       "    <tr>\n",
       "      <th>...</th>\n",
       "      <td>...</td>\n",
       "      <td>...</td>\n",
       "      <td>...</td>\n",
       "    </tr>\n",
       "    <tr>\n",
       "      <th>2023-01-28</th>\n",
       "      <td>0.05941</td>\n",
       "      <td>0.01104</td>\n",
       "      <td>16.60</td>\n",
       "    </tr>\n",
       "    <tr>\n",
       "      <th>2023-01-29</th>\n",
       "      <td>0.05952</td>\n",
       "      <td>0.01044</td>\n",
       "      <td>17.07</td>\n",
       "    </tr>\n",
       "    <tr>\n",
       "      <th>2023-01-30</th>\n",
       "      <td>0.05965</td>\n",
       "      <td>0.01084</td>\n",
       "      <td>16.06</td>\n",
       "    </tr>\n",
       "    <tr>\n",
       "      <th>2023-01-31</th>\n",
       "      <td>0.06098</td>\n",
       "      <td>0.01052</td>\n",
       "      <td>16.50</td>\n",
       "    </tr>\n",
       "    <tr>\n",
       "      <th>2023-02-01</th>\n",
       "      <td>0.06053</td>\n",
       "      <td>0.01037</td>\n",
       "      <td>17.00</td>\n",
       "    </tr>\n",
       "  </tbody>\n",
       "</table>\n",
       "<p>2001 rows × 3 columns</p>\n",
       "</div>"
      ],
      "text/plain": [
       "            BNT/LINK  MIM/LTC  NMR/USD\n",
       "datetime                              \n",
       "2017-08-11   0.00000  0.00000    34.72\n",
       "2017-08-12   0.00000  0.00000    43.90\n",
       "2017-08-13   0.00000  0.00000    36.76\n",
       "2017-08-14   0.00000  0.00000    34.62\n",
       "2017-08-15   0.00000  0.00000    31.30\n",
       "...              ...      ...      ...\n",
       "2023-01-28   0.05941  0.01104    16.60\n",
       "2023-01-29   0.05952  0.01044    17.07\n",
       "2023-01-30   0.05965  0.01084    16.06\n",
       "2023-01-31   0.06098  0.01052    16.50\n",
       "2023-02-01   0.06053  0.01037    17.00\n",
       "\n",
       "[2001 rows x 3 columns]"
      ]
     },
     "execution_count": 12,
     "metadata": {},
     "output_type": "execute_result"
    }
   ],
   "source": [
    "df = pd.read_pickle(\"cryptocompare/SELECTION.pickle\")\n",
    "df"
   ]
  },
  {
   "cell_type": "code",
   "execution_count": null,
   "id": "ff2a8f1a",
   "metadata": {},
   "outputs": [],
   "source": []
  },
  {
   "cell_type": "code",
   "execution_count": null,
   "id": "4ed6a5f6",
   "metadata": {
    "lines_to_next_cell": 2
   },
   "outputs": [],
   "source": []
  }
 ],
 "metadata": {
  "jupytext": {
   "encoding": "# -*- coding: utf-8 -*-",
   "formats": "ipynb,py:light"
  },
  "kernelspec": {
   "display_name": "Python 3",
   "language": "python",
   "name": "python3"
  },
  "language_info": {
   "codemirror_mode": {
    "name": "ipython",
    "version": 3
   },
   "file_extension": ".py",
   "mimetype": "text/x-python",
   "name": "python",
   "nbconvert_exporter": "python",
   "pygments_lexer": "ipython3",
   "version": "3.8.8"
  }
 },
 "nbformat": 4,
 "nbformat_minor": 5
}
