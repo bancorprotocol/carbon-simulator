{
 "cells": [
  {
   "cell_type": "code",
   "execution_count": 1,
   "metadata": {},
   "outputs": [],
   "source": [
    "from alpha_x_router_GenI import mpr_matchBySource as newSource1\n",
    "from alpha_x_router_GenI import mpr_matchByTarget as newTarget1\n",
    "# from alpha_x_router_GenII import mpr_matchBySource as newSource2\n",
    "# from alpha_x_router_GenII import mpr_matchByTarget as newTarget2\n",
    "from alpha_x_router_GenII_constP import mpr_matchBySource as newSource2\n",
    "from alpha_x_router_GenII_constP import mpr_matchByTarget as newTarget2\n",
    "\n",
    "from decimal import Decimal\n",
    "from benchmark import alphaxutils\n",
    "\n",
    "Order = alphaxutils.Order"
   ]
  },
  {
   "cell_type": "code",
   "execution_count": 2,
   "metadata": {},
   "outputs": [],
   "source": [
    "threshold_orders = 6\n",
    "support_partial = True\n",
    "\n",
    "# ETH side orders\n",
    "# inputAmount = Decimal('10000') # by Source = USDC amount\n",
    "# inputAmount = Decimal('3') # by Target = ETH amount\n",
    "# order_params = {\n",
    "#     'liquidity':Decimal('5'),\n",
    "#     'highestRate':Decimal('0.0005'), # 2000\n",
    "#     'lowestRate':Decimal('0.0004'),  # 2500\n",
    "#     'marginalRate':Decimal('0.0005'),\n",
    "#     }\n",
    "# order_params2 = {\n",
    "#     'liquidity':Decimal('4'),\n",
    "#     'highestRate':Decimal('0.0006'), # 1666\n",
    "#     'lowestRate':Decimal('0.0005'),  # 2000\n",
    "#     'marginalRate':Decimal('0.0006'),\n",
    "#     }\n",
    "\n",
    "# USDC side orders (approx same)\n",
    "# inputAmount = Decimal('10')  # by Source = ETH amount\n",
    "inputAmount = Decimal('30000')  # by Target = USDC amount\n",
    "order_params = {\n",
    "    'liquidity':Decimal('20000'),\n",
    "    'highestRate':Decimal('2000'),\n",
    "    'lowestRate':Decimal('2000'),\n",
    "    'marginalRate':Decimal('2000'),\n",
    "    }\n",
    "order_params2 = {\n",
    "    'liquidity':Decimal('17000'),\n",
    "    'highestRate':Decimal('3000'),\n",
    "    'lowestRate':Decimal('3000'),\n",
    "    'marginalRate':Decimal('3000'),\n",
    "    }\n",
    "order_params3 = {\n",
    "    'liquidity':Decimal('15000'),\n",
    "    'highestRate':Decimal('3000'),\n",
    "    'lowestRate':Decimal('2000'),\n",
    "    'marginalRate':Decimal('3000'),\n",
    "    }\n",
    "\n",
    "orders = []\n",
    "for i in range(1):\n",
    "    orders += [Order(order_params)]\n",
    "    orders += [Order(order_params2)]\n",
    "    orders += [Order(order_params3)]"
   ]
  },
  {
   "cell_type": "code",
   "execution_count": 3,
   "metadata": {},
   "outputs": [
    {
     "data": {
      "text/plain": [
       "[Decimal('2000.0000000000000000000000000000000000000000000000'),\n",
       " Decimal('3000.0000000000000000000000000000000000000000000000'),\n",
       " Decimal('3000.0000000000000000000000000000000000000000000000')]"
      ]
     },
     "execution_count": 3,
     "metadata": {},
     "output_type": "execute_result"
    }
   ],
   "source": [
    "[o.pmarg for o in orders]"
   ]
  },
  {
   "cell_type": "code",
   "execution_count": 4,
   "metadata": {},
   "outputs": [
    {
     "name": "stdout",
     "output_type": "stream",
     "text": [
      "inputAmount 30000\n",
      "** ISSUE **\n",
      "2 2\n",
      "[Decimal('3000.0000000000000000000000000000000000000000000000'), Decimal('2000.0000000000000000000000000000000000000000000000')]\n",
      "0E-45\n",
      "15000.000000000000000000000000000000000000000000000\n",
      "dy_specified 30000.000000181436955365306008419812085979415503248\n",
      "Total Return: 10.819485171819009846690725731415804659694284588099\n",
      "Rate: 0.00036064950572511915661393192044175277652463870050886\n"
     ]
    },
    {
     "data": {
      "text/plain": [
       "{1: {'dy_specified': Decimal('17000'),\n",
       "  'dx': Decimal('5.6666666666666666666666666666666666666666666666666')},\n",
       " 0: {'dy_specified': 0, 'dx': Decimal('0.0000')},\n",
       " 2: {'dy_specified': Decimal('13000.000000181436955365306008419812085979415503248'),\n",
       "  'dx': Decimal('5.1528185051523431800240590647491379930276179214327')}}"
      ]
     },
     "execution_count": 4,
     "metadata": {},
     "output_type": "execute_result"
    }
   ],
   "source": [
    "print(\"inputAmount\",inputAmount)\n",
    "TargetActions2 = newTarget2(inputAmount, orders, threshold_orders, support_partial)\n",
    "total_output_Target2 = sum([TargetActions2[k]['dx'] for k in TargetActions2.keys()])\n",
    "total_input_Target2 = sum([TargetActions2[k]['dy_specified'] for k in TargetActions2.keys()])\n",
    "print(\"Total Return:\", total_output_Target2)\n",
    "print(\"Rate:\",total_output_Target2/total_input_Target2)\n",
    "TargetActions2"
   ]
  },
  {
   "cell_type": "code",
   "execution_count": 5,
   "metadata": {},
   "outputs": [
    {
     "name": "stdout",
     "output_type": "stream",
     "text": [
      "inputAmount 30000\n",
      "** Partial Match (0.07263%) **\n",
      "dx_specified 21.790391023624611912159876853431395146581535368309\n",
      "Total Return: 52000\n",
      "Rate: 0.00041904598122355022907999763179675759897272183400594\n"
     ]
    },
    {
     "data": {
      "text/plain": [
       "{1: {'dx_specified': Decimal('5.6666666666666666666666666666666666666666666666666'),\n",
       "  'dy': Decimal('17000')},\n",
       " 0: {'dx_specified': Decimal('10.0000'), 'dy': Decimal('20000')},\n",
       " 2: {'dx_specified': Decimal('6.1237243569579452454932101867647284799148687016418'),\n",
       "  'dy': Decimal('15000')}}"
      ]
     },
     "execution_count": 5,
     "metadata": {},
     "output_type": "execute_result"
    }
   ],
   "source": [
    "print(\"inputAmount\",inputAmount)\n",
    "SourceActions2 = newSource2(inputAmount, orders, threshold_orders, support_partial)\n",
    "total_input_Source2 = sum([SourceActions2[k]['dx_specified'] for k in SourceActions2.keys()])\n",
    "total_output_Source2 = sum([SourceActions2[k]['dy'] for k in SourceActions2.keys()])\n",
    "print(\"Total Return:\", total_output_Source2)\n",
    "print(\"Rate:\",total_input_Source2/total_output_Source2)\n",
    "SourceActions2"
   ]
  },
  {
   "cell_type": "code",
   "execution_count": 6,
   "metadata": {},
   "outputs": [
    {
     "ename": "SyntaxError",
     "evalue": "'break' outside loop (668683560.py, line 1)",
     "output_type": "error",
     "traceback": [
      "\u001b[1;36m  Cell \u001b[1;32mIn[6], line 1\u001b[1;36m\u001b[0m\n\u001b[1;33m    break\u001b[0m\n\u001b[1;37m    ^\u001b[0m\n\u001b[1;31mSyntaxError\u001b[0m\u001b[1;31m:\u001b[0m 'break' outside loop\n"
     ]
    }
   ],
   "source": [
    "break"
   ]
  },
  {
   "cell_type": "code",
   "execution_count": null,
   "metadata": {},
   "outputs": [],
   "source": [
    "inputAmount += Decimal('10')  # by Source = ETH amount"
   ]
  },
  {
   "cell_type": "code",
   "execution_count": null,
   "metadata": {},
   "outputs": [],
   "source": [
    "TargetActions2 = newTarget2(inputAmount, orders, threshold_orders, support_partial)\n",
    "total_output_Target2 = sum([TargetActions2[k]['dx'] for k in TargetActions2.keys()])\n",
    "total_input_Target2 = sum([TargetActions2[k]['dy_specified'] for k in TargetActions2.keys()])\n",
    "print(\"Total Return:\", total_output_Target2)\n",
    "print(\"Rate:\",total_output_Target2/total_input_Target2)\n",
    "TargetActions2"
   ]
  },
  {
   "cell_type": "code",
   "execution_count": null,
   "metadata": {},
   "outputs": [],
   "source": [
    "SourceActions2 = newSource2(inputAmount, orders, threshold_orders, support_partial)\n",
    "total_input_Source2 = sum([SourceActions2[k]['dx_specified'] for k in SourceActions2.keys()])\n",
    "total_output_Source2 = sum([SourceActions2[k]['dy'] for k in SourceActions2.keys()])\n",
    "print(\"Total Return:\", total_output_Source2)\n",
    "print(\"Rate:\",total_input_Source2/total_output_Source2)\n",
    "SourceActions2"
   ]
  },
  {
   "cell_type": "code",
   "execution_count": null,
   "metadata": {},
   "outputs": [],
   "source": [
    "# wins = 0\n",
    "# tests = 0\n",
    "# support_partial = True\n",
    "# for i in range(1,10):\n",
    "# # for i in range(1,50000,100):\n",
    "#     for n in range(2,10): # n = 1 triggers the almost equal to assertion - may need to increase the sensitivity of the goal seek\n",
    "#         tests += 1\n",
    "#         threshold_orders = n\n",
    "#         inputAmount = Decimal(f'{i}')\n",
    "#         TargetActions1 = newTarget1(inputAmount, orders, threshold_orders, support_partial)\n",
    "#         TargetActions2 = newTarget2(inputAmount, orders, threshold_orders, support_partial)\n",
    "#         total_output_Target1 = sum([TargetActions1[k]['output'] for k in TargetActions1.keys()])\n",
    "#         total_output_Target2 = sum([TargetActions2[k]['dx'] for k in TargetActions2.keys()])\n",
    "#         assert(total_output_Target2 <= total_output_Target1)\n",
    "#         SourceActions1 = newSource1(inputAmount, orders, threshold_orders, support_partial)\n",
    "#         SourceActions2 = newSource2(inputAmount, orders, threshold_orders, support_partial)\n",
    "#         total_output_Source1 = sum([SourceActions1[k]['output'] for k in SourceActions1.keys()])\n",
    "#         total_output_Source2 = sum([SourceActions2[k]['dy'] for k in SourceActions2.keys()])\n",
    "#         assert(total_output_Source2 >= total_output_Source1)\n",
    "\n",
    "#         if total_output_Target2 < total_output_Target1:\n",
    "#             wins += 1\n",
    "#         if total_output_Source2 > total_output_Source1:\n",
    "#             wins += 1"
   ]
  },
  {
   "cell_type": "code",
   "execution_count": null,
   "metadata": {},
   "outputs": [],
   "source": [
    "# wins"
   ]
  },
  {
   "cell_type": "code",
   "execution_count": null,
   "metadata": {},
   "outputs": [],
   "source": [
    "# tests"
   ]
  },
  {
   "cell_type": "code",
   "execution_count": null,
   "metadata": {},
   "outputs": [],
   "source": [
    "# inputAmount"
   ]
  },
  {
   "cell_type": "code",
   "execution_count": null,
   "metadata": {},
   "outputs": [],
   "source": [
    "# total_output_Source1 = sum([SourceActions1[k]['output'] for k in SourceActions1.keys()])\n",
    "# total_output_Source1"
   ]
  },
  {
   "cell_type": "code",
   "execution_count": null,
   "metadata": {},
   "outputs": [],
   "source": [
    "# total_output_Source2 = sum([SourceActions2[k]['dy'] for k in SourceActions2.keys()])\n",
    "# total_output_Source2"
   ]
  },
  {
   "cell_type": "code",
   "execution_count": null,
   "metadata": {},
   "outputs": [],
   "source": [
    "# total_output_Target1 = sum([TargetActions1[k]['output'] for k in TargetActions1.keys()])\n",
    "# total_output_Target1"
   ]
  },
  {
   "cell_type": "code",
   "execution_count": null,
   "metadata": {},
   "outputs": [],
   "source": [
    "# total_output_Target2 = sum([TargetActions2[k]['dx'] for k in TargetActions2.keys()])\n",
    "# total_output_Target2"
   ]
  },
  {
   "cell_type": "code",
   "execution_count": null,
   "metadata": {},
   "outputs": [],
   "source": []
  }
 ],
 "metadata": {
  "kernelspec": {
   "display_name": "Python 3",
   "language": "python",
   "name": "python3"
  },
  "language_info": {
   "codemirror_mode": {
    "name": "ipython",
    "version": 3
   },
   "file_extension": ".py",
   "mimetype": "text/x-python",
   "name": "python",
   "nbconvert_exporter": "python",
   "pygments_lexer": "ipython3",
   "version": "3.10.8"
  },
  "orig_nbformat": 4,
  "vscode": {
   "interpreter": {
    "hash": "43f221103f953d3e0d93840edd77be981e5a5e0e42edc048e3de5278c46a3390"
   }
  }
 },
 "nbformat": 4,
 "nbformat_minor": 2
}
