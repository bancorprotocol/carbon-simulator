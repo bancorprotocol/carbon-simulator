{
 "cells": [
  {
   "cell_type": "code",
   "execution_count": 1,
   "id": "8531fd2d",
   "metadata": {
    "lines_to_next_cell": 2
   },
   "outputs": [
    {
     "name": "stdout",
     "output_type": "stream",
     "text": [
      "CarbonPair version 1.2.1 13/Nov/2022\n"
     ]
    }
   ],
   "source": [
    "from pair import CarbonPair, __version__ as pair_v, __date__ as pair_d\n",
    "print(\"CarbonPair version\", pair_v, pair_d)"
   ]
  },
  {
   "cell_type": "markdown",
   "id": "bd540f35",
   "metadata": {},
   "source": [
    "# Carbon Pair"
   ]
  },
  {
   "cell_type": "markdown",
   "id": "a6f4612c",
   "metadata": {},
   "source": [
    "The `CarbonPair` class contains static information about a pair. Most important is the price convention, ie in which directions prices are quoted. It also has some price related functionality, including the `price` function that quotes prices in the correct convention, and the `convert` function that converts token amounts taking the price convention into account"
   ]
  },
  {
   "cell_type": "code",
   "execution_count": 2,
   "id": "fed8baf1",
   "metadata": {},
   "outputs": [
    {
     "name": "stdout",
     "output_type": "stream",
     "text": [
      "Help on class CarbonPair in module pair:\n",
      "\n",
      "class CarbonPair(builtins.object)\n",
      " |  CarbonPair(tknb: str, tknq: str) -> None\n",
      " |  \n",
      " |  static information about a carbon token pair\n",
      " |  \n",
      " |  :tknb:      the base token (risk token) of the pair, eg ETH*\n",
      " |  :tknq:      the quote token (numeraire token) of the pair, eg USDC*\n",
      " |  \n",
      " |  * the differentiation between numeraire and risk tokens matter only for price quotes:\n",
      " |  in a given pair, _all_ prices will be quote as tknn per tknr, eg USDC per ETH\n",
      " |  \n",
      " |  see also https://www.investopedia.com/terms/i/isocurrencycode.asp for ISO currency code\n",
      " |  \n",
      " |  Methods defined here:\n",
      " |  \n",
      " |  __eq__(self, other)\n",
      " |  \n",
      " |  __init__(self, tknb: str, tknq: str) -> None\n",
      " |  \n",
      " |  __post_init__(self)\n",
      " |  \n",
      " |  __repr__(self)\n",
      " |  \n",
      " |  convert(self, amtfrom, tknfrom, tknto, price)\n",
      " |      converts one token amount into the other, with price according to curve convention\n",
      " |      \n",
      " |      :amtfrom:   the amount of tknfrom\n",
      " |      :tknfrom:   source token\n",
      " |      :tknto:     target token; can be the same as source token, in which case price is unity\n",
      " |      :price:     the price, in the price_convention of the pair\n",
      " |      :returns:   the amount of target token to be returned, or None if one of the tokens not in pair\n",
      " |  \n",
      " |  convert_price(self, price, tknq)\n",
      " |      converts a price expressed in the tknq numeraire in the numeraire of the pair\n",
      " |      \n",
      " |      :price:     the price to be converted, with numeraire being `tknq`\n",
      " |      :tknq:      the numeraire token in which the `price` is expressed\n",
      " |      :returns:   the price expressed in the numeraire conventions of the pair; \n",
      " |                  returns None if tknq not part of this pair\n",
      " |  \n",
      " |  has_basetoken(self, tkn)\n",
      " |      returns True if `tkn` is the base token of the pair, otherwise False\n",
      " |  \n",
      " |  has_quotetoken(self, tkn)\n",
      " |      returns True if `tkn` is the quote token of the pair, otherwise False\n",
      " |  \n",
      " |  has_token(self, tkn)\n",
      " |      returns True if `tkn` is one of the tokens of the pair, otherwise False\n",
      " |  \n",
      " |  limit_is_met(self, tkn, limit_price, buysell, current_price, reverse=False, asphrase=False)\n",
      " |      checks whether a limit order has been met\n",
      " |      \n",
      " |      :tkn:               the token to be bought or sold\n",
      " |      :limit_price:       the price at which the token is to be bought or sold; quoted\n",
      " |                          in the price convention of this pair\n",
      " |      :buysell:           whether the limit order is for buying or selling `tkn`; this is\n",
      " |                          from the point of view of the person who PLACED the order; use\n",
      " |                          `reverse=True` to do it from the point of view of the person\n",
      " |                          who ACCEPTED the orders; use the constants BUY and SELL\n",
      " |      :current_price:     the price which is tested against the limit order\n",
      " |      :asphrase:          returns the result as an explanatory phrase instead of bool \n",
      " |      :returns:           True if the limit order will lead to execution, false if not\n",
      " |  \n",
      " |  other(self, tkn)\n",
      " |      returns the other token, ie the one that is not `tkn`\n",
      " |  \n",
      " |  price(self, price0, tknb0, tknq0)\n",
      " |      the normalized price, according to convention\n",
      " |      \n",
      " |      :price0:    the raw price, as tknq0 per tknb0\n",
      " |      :tknb0:     the base token of price0\n",
      " |      :tknq0:     the quote token of price0\n",
      " |      :returns:   the amount of tarket token to be returned\n",
      " |  \n",
      " |  ----------------------------------------------------------------------\n",
      " |  Class methods defined here:\n",
      " |  \n",
      " |  from_isopair_and_tkn(isopair, tkn=None) from builtins.type\n",
      " |      creates a class instance from and iso pair string and a token\n",
      " |      \n",
      " |      :isopair:   the pair, in ISO format (BASQUO)\n",
      " |      :tkn:       any token that is part of the pair*\n",
      " |      \n",
      " |      *tkn is only used to separate the two tokens in the pair string; it is is None,\n",
      " |      and the lenght of the pair string is 3 or 8, then it is split in the middle; if \n",
      " |      None and odd an exception is raised\n",
      " |  \n",
      " |  ----------------------------------------------------------------------\n",
      " |  Readonly properties defined here:\n",
      " |  \n",
      " |  pair_id\n",
      " |      returns the canonic Carbon id of the pair\n",
      " |      \n",
      " |      The Carbon ID of the pair is the concatenation of the token names\n",
      " |      in alphabetical order, in upper case, separated by colon. \n",
      " |      A carbon id does not imply any specific quote conventions\n",
      " |  \n",
      " |  pair_id_is_reversed\n",
      " |      returns True iff Carbon id is reversed compared to iso\n",
      " |      \n",
      " |      if the carbon id is TKN1:TKN2 then ISO id of TKN1TKN2 will yield False, and TKN2TKN1 True\n",
      " |  \n",
      " |  pair_iso\n",
      " |      returns the name of the pair in iso format*, ie BASQUO\n",
      " |      \n",
      " |      *see https://www.investopedia.com/terms/i/isocurrencycode.asp\n",
      " |  \n",
      " |  pair_slash\n",
      " |      returns the name of the pair in slash format, ie BAS/QUO\n",
      " |  \n",
      " |  price_convention\n",
      " |      returns the price convention of the pair, eg 'USDC per ETH'\n",
      " |  \n",
      " |  reverse\n",
      " |      returns the pair with base and quote token reversed\n",
      " |  \n",
      " |  ----------------------------------------------------------------------\n",
      " |  Data descriptors defined here:\n",
      " |  \n",
      " |  __dict__\n",
      " |      dictionary for instance variables (if defined)\n",
      " |  \n",
      " |  __weakref__\n",
      " |      list of weak references to the object (if defined)\n",
      " |  \n",
      " |  ----------------------------------------------------------------------\n",
      " |  Data and other attributes defined here:\n",
      " |  \n",
      " |  BUY = 'buy'\n",
      " |  \n",
      " |  MAKERBUY = 'buy'\n",
      " |  \n",
      " |  MAKERSELL = 'sell'\n",
      " |  \n",
      " |  SELL = 'sell'\n",
      " |  \n",
      " |  TAKERBUY = 'sell'\n",
      " |  \n",
      " |  TAKERSELL = 'buy'\n",
      " |  \n",
      " |  __annotations__ = {'tknb': <class 'str'>, 'tknq': <class 'str'>}\n",
      " |  \n",
      " |  __dataclass_fields__ = {'tknb': Field(name='tknb',type=<class 'str'>,d...\n",
      " |  \n",
      " |  __dataclass_params__ = _DataclassParams(init=True,repr=True,eq=True,or...\n",
      " |  \n",
      " |  __hash__ = None\n",
      "\n"
     ]
    }
   ],
   "source": [
    "help(CarbonPair)"
   ]
  },
  {
   "cell_type": "code",
   "execution_count": 3,
   "id": "9834a658",
   "metadata": {},
   "outputs": [
    {
     "data": {
      "text/plain": [
       "CarbonPair(tknb='ETH', tknq='USDC')"
      ]
     },
     "execution_count": 3,
     "metadata": {},
     "output_type": "execute_result"
    }
   ],
   "source": [
    "ETHUSDC = CarbonPair(\"ETH\", \"USDC\")\n",
    "ETHUSDC"
   ]
  },
  {
   "cell_type": "markdown",
   "id": "7b00b88b",
   "metadata": {},
   "source": [
    "the `reverse` property creates a new CarbonPair with the reverse price conventions"
   ]
  },
  {
   "cell_type": "code",
   "execution_count": 4,
   "id": "59947eb1",
   "metadata": {},
   "outputs": [
    {
     "data": {
      "text/plain": [
       "CarbonPair(tknb='USDC', tknq='ETH')"
      ]
     },
     "execution_count": 4,
     "metadata": {},
     "output_type": "execute_result"
    }
   ],
   "source": [
    "USDCETH = ETHUSDC.reverse\n",
    "USDCETH"
   ]
  },
  {
   "cell_type": "markdown",
   "id": "a93a9144",
   "metadata": {},
   "source": [
    "Get base token and quote token"
   ]
  },
  {
   "cell_type": "code",
   "execution_count": 5,
   "id": "70d026a9",
   "metadata": {},
   "outputs": [
    {
     "data": {
      "text/plain": [
       "('ETH', 'USDC')"
      ]
     },
     "execution_count": 5,
     "metadata": {},
     "output_type": "execute_result"
    }
   ],
   "source": [
    "ETHUSDC.tknb, ETHUSDC.tknq"
   ]
  },
  {
   "cell_type": "markdown",
   "id": "3fb4c1d8",
   "metadata": {},
   "source": [
    "We can also get a pair object from an iso string of length 6 or 8"
   ]
  },
  {
   "cell_type": "code",
   "execution_count": 6,
   "id": "b594b184",
   "metadata": {},
   "outputs": [
    {
     "data": {
      "text/plain": [
       "('ETH', 'BNT')"
      ]
     },
     "execution_count": 6,
     "metadata": {},
     "output_type": "execute_result"
    }
   ],
   "source": [
    "ETHBNT = CarbonPair.from_isopair_and_tkn(\"ETHBNT\")\n",
    "ETHBNT.tknb, ETHBNT.tknq"
   ]
  },
  {
   "cell_type": "code",
   "execution_count": 7,
   "id": "aa97bf9a",
   "metadata": {},
   "outputs": [
    {
     "data": {
      "text/plain": [
       "('AAVE', 'LINK')"
      ]
     },
     "execution_count": 7,
     "metadata": {},
     "output_type": "execute_result"
    }
   ],
   "source": [
    "AAVELINK = CarbonPair.from_isopair_and_tkn(\"AAVELINK\")\n",
    "AAVELINK.tknb, AAVELINK.tknq"
   ]
  },
  {
   "cell_type": "markdown",
   "id": "863cafe8",
   "metadata": {},
   "source": [
    "And we can also get it from the pair and one of the tokens in it (does not matter which one)"
   ]
  },
  {
   "cell_type": "code",
   "execution_count": 8,
   "id": "25002f4b",
   "metadata": {},
   "outputs": [
    {
     "data": {
      "text/plain": [
       "('ETH', 'USDT')"
      ]
     },
     "execution_count": 8,
     "metadata": {},
     "output_type": "execute_result"
    }
   ],
   "source": [
    "ETHUSDT = CarbonPair.from_isopair_and_tkn(\"ETHUSDT\", \"ETH\")\n",
    "ETHUSDT.tknb, ETHUSDT.tknq"
   ]
  },
  {
   "cell_type": "code",
   "execution_count": 9,
   "id": "cd51bdca",
   "metadata": {},
   "outputs": [
    {
     "data": {
      "text/plain": [
       "('ETH', 'USDT')"
      ]
     },
     "execution_count": 9,
     "metadata": {},
     "output_type": "execute_result"
    }
   ],
   "source": [
    "ETHUSDT = CarbonPair.from_isopair_and_tkn(\"ETHUSDT\", \"USDT\")\n",
    "ETHUSDT.tknb, ETHUSDT.tknq"
   ]
  },
  {
   "cell_type": "markdown",
   "id": "88cafc1b",
   "metadata": {},
   "source": [
    "- `pair_id` is the canonic Carbon pair id which alphabetically orders the tokens and separates them with a colon; it does not convey any quote information\n",
    "\n",
    "- `pair_iso` is the pair in iso convention, ie BASQUO; it does convey quote information, in that price units are \"QUO per BAS\"\n",
    "\n",
    "- `pair_slash` is the pair in slash convention, ie BAS/QUO; it is equivalent to `pair_iso`\n",
    "\n",
    "- `price_convention` is the price convention of the pair in human readable terms, ie \"QUO per BAS\"\n"
   ]
  },
  {
   "cell_type": "code",
   "execution_count": 10,
   "id": "235ee1e2",
   "metadata": {},
   "outputs": [
    {
     "data": {
      "text/plain": [
       "('ETH:USDC', 'ETHUSDC', 'ETH/USDC', 'USDC per ETH')"
      ]
     },
     "execution_count": 10,
     "metadata": {},
     "output_type": "execute_result"
    }
   ],
   "source": [
    "ETHUSDC.pair_id, ETHUSDC.pair_iso, ETHUSDC.pair_slash, ETHUSDC.price_convention"
   ]
  },
  {
   "cell_type": "markdown",
   "id": "ec035a16",
   "metadata": {},
   "source": [
    "for the reverse token all the above are reversed _except_ that canonic `pair_id`"
   ]
  },
  {
   "cell_type": "code",
   "execution_count": 11,
   "id": "5176b75a",
   "metadata": {},
   "outputs": [
    {
     "data": {
      "text/plain": [
       "('ETH:USDC', 'USDCETH', 'USDC/ETH', 'ETH per USDC')"
      ]
     },
     "execution_count": 11,
     "metadata": {},
     "output_type": "execute_result"
    }
   ],
   "source": [
    "USDCETH.pair_id, USDCETH.pair_iso, USDCETH.pair_slash, USDCETH.price_convention"
   ]
  },
  {
   "cell_type": "markdown",
   "id": "0babcaf3",
   "metadata": {},
   "source": [
    "`pair_id_is_reversed` is True iff and order in the canonic pair id is the opposite of that in the ISO pair name"
   ]
  },
  {
   "cell_type": "code",
   "execution_count": 12,
   "id": "d6bb59f7",
   "metadata": {},
   "outputs": [
    {
     "data": {
      "text/plain": [
       "('ETH:USDC', 'ETHUSDC', False)"
      ]
     },
     "execution_count": 12,
     "metadata": {},
     "output_type": "execute_result"
    }
   ],
   "source": [
    "ETHUSDC.pair_id, ETHUSDC.pair_iso, ETHUSDC.pair_id_is_reversed"
   ]
  },
  {
   "cell_type": "code",
   "execution_count": 13,
   "id": "54bf9ff0",
   "metadata": {},
   "outputs": [
    {
     "data": {
      "text/plain": [
       "('ETH:USDC', 'USDCETH', True)"
      ]
     },
     "execution_count": 13,
     "metadata": {},
     "output_type": "execute_result"
    }
   ],
   "source": [
    "USDCETH.pair_id, USDCETH.pair_iso, USDCETH.pair_id_is_reversed"
   ]
  },
  {
   "cell_type": "markdown",
   "id": "0d91008e",
   "metadata": {},
   "source": [
    "here we check whether a specific token is the base token of a pair"
   ]
  },
  {
   "cell_type": "code",
   "execution_count": 14,
   "id": "2db695a7",
   "metadata": {},
   "outputs": [
    {
     "data": {
      "text/plain": [
       "(True, False, False)"
      ]
     },
     "execution_count": 14,
     "metadata": {},
     "output_type": "execute_result"
    }
   ],
   "source": [
    "ETHUSDC.has_basetoken(\"ETH\"), ETHUSDC.has_basetoken(\"USDC\"), ETHUSDC.has_basetoken(\"LINK\")"
   ]
  },
  {
   "cell_type": "markdown",
   "id": "e335bfdb",
   "metadata": {},
   "source": [
    "ditto quote token"
   ]
  },
  {
   "cell_type": "code",
   "execution_count": 15,
   "id": "8c56e943",
   "metadata": {},
   "outputs": [
    {
     "data": {
      "text/plain": [
       "(False, True, False)"
      ]
     },
     "execution_count": 15,
     "metadata": {},
     "output_type": "execute_result"
    }
   ],
   "source": [
    "ETHUSDC.has_quotetoken(\"ETH\"), ETHUSDC.has_quotetoken(\"USDC\"), ETHUSDC.has_quotetoken(\"LINK\")"
   ]
  },
  {
   "cell_type": "markdown",
   "id": "1a2f3259",
   "metadata": {},
   "source": [
    "ditto whether the token is part of the pair as either quote or base token"
   ]
  },
  {
   "cell_type": "code",
   "execution_count": 16,
   "id": "74f7447c",
   "metadata": {},
   "outputs": [
    {
     "data": {
      "text/plain": [
       "(True, True, False)"
      ]
     },
     "execution_count": 16,
     "metadata": {},
     "output_type": "execute_result"
    }
   ],
   "source": [
    "ETHUSDC.has_token(\"ETH\"), ETHUSDC.has_token(\"USDC\"), ETHUSDC.has_token(\"LINK\")"
   ]
  },
  {
   "cell_type": "markdown",
   "id": "bc17fe04",
   "metadata": {},
   "source": [
    "returns the other token of the pair (None if not in pair)"
   ]
  },
  {
   "cell_type": "code",
   "execution_count": 17,
   "id": "dce7baca",
   "metadata": {},
   "outputs": [
    {
     "data": {
      "text/plain": [
       "('USDC', 'ETH', None)"
      ]
     },
     "execution_count": 17,
     "metadata": {},
     "output_type": "execute_result"
    }
   ],
   "source": [
    "ETHUSDC.other(\"ETH\"), ETHUSDC.other(\"USDC\"), ETHUSDC.other(\"LINK\")"
   ]
  },
  {
   "cell_type": "markdown",
   "id": "4de84439",
   "metadata": {},
   "source": [
    "## Price-related functions"
   ]
  },
  {
   "cell_type": "markdown",
   "id": "4c6c526e",
   "metadata": {},
   "source": [
    "`price` converts a `price0` given as `tknq0` per `tknb0` into the correct units for the token pair (ie it is inversed if need be); if one of the tokens is not in the pair it returns None"
   ]
  },
  {
   "cell_type": "code",
   "execution_count": 18,
   "id": "2c1c39c4",
   "metadata": {},
   "outputs": [
    {
     "name": "stdout",
     "output_type": "stream",
     "text": [
      "Help on method price in module pair:\n",
      "\n",
      "price(price0, tknb0, tknq0) method of pair.CarbonPair instance\n",
      "    the normalized price, according to convention\n",
      "    \n",
      "    :price0:    the raw price, as tknq0 per tknb0\n",
      "    :tknb0:     the base token of price0\n",
      "    :tknq0:     the quote token of price0\n",
      "    :returns:   the amount of tarket token to be returned\n",
      "\n"
     ]
    }
   ],
   "source": [
    "help(ETHUSDC.price)"
   ]
  },
  {
   "cell_type": "code",
   "execution_count": 19,
   "id": "d02db600",
   "metadata": {
    "lines_to_next_cell": 2
   },
   "outputs": [
    {
     "data": {
      "text/plain": [
       "(2000, 2000.0, None)"
      ]
     },
     "execution_count": 19,
     "metadata": {},
     "output_type": "execute_result"
    }
   ],
   "source": [
    "ETHUSDC.price(2000, \"ETH\", \"USDC\"), ETHUSDC.price(0.0005, \"USDC\", \"ETH\"), ETHUSDC.price(1, \"ETH\", \"LINK\")"
   ]
  },
  {
   "cell_type": "markdown",
   "id": "5c82545d",
   "metadata": {},
   "source": [
    "`convert` converts the currency amount `amtfrom` in `tknfrom` to a corresponding amount in `tknto` at a price `price` that is quoted in the convention of the pair"
   ]
  },
  {
   "cell_type": "code",
   "execution_count": 20,
   "id": "2a8c38ba",
   "metadata": {},
   "outputs": [
    {
     "name": "stdout",
     "output_type": "stream",
     "text": [
      "Help on method convert in module pair:\n",
      "\n",
      "convert(amtfrom, tknfrom, tknto, price) method of pair.CarbonPair instance\n",
      "    converts one token amount into the other, with price according to curve convention\n",
      "    \n",
      "    :amtfrom:   the amount of tknfrom\n",
      "    :tknfrom:   source token\n",
      "    :tknto:     target token; can be the same as source token, in which case price is unity\n",
      "    :price:     the price, in the price_convention of the pair\n",
      "    :returns:   the amount of target token to be returned, or None if one of the tokens not in pair\n",
      "\n"
     ]
    }
   ],
   "source": [
    "help(ETHUSDC.convert)"
   ]
  },
  {
   "cell_type": "code",
   "execution_count": 21,
   "id": "3f6e9f7a",
   "metadata": {},
   "outputs": [
    {
     "data": {
      "text/plain": [
       "(4000, 2.0)"
      ]
     },
     "execution_count": 21,
     "metadata": {},
     "output_type": "execute_result"
    }
   ],
   "source": [
    "ETHUSDC.convert(2, \"ETH\", \"USDC\", 2000), ETHUSDC.convert(4000, \"USDC\", \"ETH\", 2000)"
   ]
  },
  {
   "cell_type": "markdown",
   "id": "cf97dc1c",
   "metadata": {},
   "source": [
    "`convert` reacts gracefully to `tknfrom == tknto` in which case the price is ignored and the exchange rate is unity"
   ]
  },
  {
   "cell_type": "code",
   "execution_count": 22,
   "id": "7131029f",
   "metadata": {},
   "outputs": [
    {
     "data": {
      "text/plain": [
       "(2, 4000)"
      ]
     },
     "execution_count": 22,
     "metadata": {},
     "output_type": "execute_result"
    }
   ],
   "source": [
    "ETHUSDC.convert(2, \"ETH\", \"ETH\", 2000), ETHUSDC.convert(4000, \"USDC\", \"USDC\", 2000)"
   ]
  },
  {
   "cell_type": "markdown",
   "id": "64c62195",
   "metadata": {},
   "source": [
    "`convert_price` converts a price rather than an amount. It takes a `price` number, and the token `tknq` in which the price is expressed. The price is then returned in the price convention of the pair. For example, if 1 ETH = 2000 USDC then we can express this as `(price=2000, tknq='USDC')` or `(price=0.0005, tknq='ETH')`. "
   ]
  },
  {
   "cell_type": "code",
   "execution_count": 23,
   "id": "e7746bf4",
   "metadata": {},
   "outputs": [
    {
     "name": "stdout",
     "output_type": "stream",
     "text": [
      "Help on method convert_price in module pair:\n",
      "\n",
      "convert_price(price, tknq) method of pair.CarbonPair instance\n",
      "    converts a price expressed in the tknq numeraire in the numeraire of the pair\n",
      "    \n",
      "    :price:     the price to be converted, with numeraire being `tknq`\n",
      "    :tknq:      the numeraire token in which the `price` is expressed\n",
      "    :returns:   the price expressed in the numeraire conventions of the pair; \n",
      "                returns None if tknq not part of this pair\n",
      "\n"
     ]
    }
   ],
   "source": [
    "help(ETHUSDC.convert_price)"
   ]
  },
  {
   "cell_type": "code",
   "execution_count": 24,
   "id": "f2791cab",
   "metadata": {},
   "outputs": [
    {
     "data": {
      "text/plain": [
       "(2000, 2000.0)"
      ]
     },
     "execution_count": 24,
     "metadata": {},
     "output_type": "execute_result"
    }
   ],
   "source": [
    "ETHUSDC.convert_price(2000, \"USDC\"), ETHUSDC.convert_price(0.0005, \"ETH\")"
   ]
  },
  {
   "cell_type": "markdown",
   "id": "393aba40",
   "metadata": {},
   "source": [
    "`limit_is_met` checks whether a limit order is met. Both the `limit_price` and the `current_price` are provided in the price conventions of the pair. `buysell` indicates whether the person having PLACED the order is buying or selling `tkn`. The function will return True iff it is in the interest of that person to execute the trade. For example (assuming the pair `ETHUSDC`)\n",
    "\n",
    "- `BUY`ing ETH at `current_price=2000` when `limit_price=1000` USD per ETH yields `False` (won't buy ETH above 1000)\n",
    "- `SELL`ing ETH at `current_price=2000` when `limit_price=1000` USD per ETH yields `True` (will sell ETH above 1000)\n",
    "- `BUY`ing USDC at `current_price=2000` when `limit_price=1000` USD per ETH yields `True` (will buy USD, aka sell ETH, above 1000)\n",
    "- `SELL`ing USDC at `current_price=2000` when `limit_price=1000` USD per ETH yields `False` (won't sell USD, aka buy ETH, above 1000)"
   ]
  },
  {
   "cell_type": "code",
   "execution_count": 25,
   "id": "b1e566b6",
   "metadata": {},
   "outputs": [
    {
     "name": "stdout",
     "output_type": "stream",
     "text": [
      "Help on method limit_is_met in module pair:\n",
      "\n",
      "limit_is_met(tkn, limit_price, buysell, current_price, reverse=False, asphrase=False) method of pair.CarbonPair instance\n",
      "    checks whether a limit order has been met\n",
      "    \n",
      "    :tkn:               the token to be bought or sold\n",
      "    :limit_price:       the price at which the token is to be bought or sold; quoted\n",
      "                        in the price convention of this pair\n",
      "    :buysell:           whether the limit order is for buying or selling `tkn`; this is\n",
      "                        from the point of view of the person who PLACED the order; use\n",
      "                        `reverse=True` to do it from the point of view of the person\n",
      "                        who ACCEPTED the orders; use the constants BUY and SELL\n",
      "    :current_price:     the price which is tested against the limit order\n",
      "    :asphrase:          returns the result as an explanatory phrase instead of bool \n",
      "    :returns:           True if the limit order will lead to execution, false if not\n",
      "\n"
     ]
    }
   ],
   "source": [
    "help(ETHUSDC.limit_is_met)"
   ]
  },
  {
   "cell_type": "code",
   "execution_count": 26,
   "id": "c200d8ef",
   "metadata": {},
   "outputs": [
    {
     "name": "stdout",
     "output_type": "stream",
     "text": [
      "Order placer buys ETH at 1000 USDC per ETH (limit=2000)\n"
     ]
    },
    {
     "data": {
      "text/plain": [
       "True"
      ]
     },
     "execution_count": 26,
     "metadata": {},
     "output_type": "execute_result"
    }
   ],
   "source": [
    "print(ETHUSDC.limit_is_met(\"ETH\", 2000, ETHUSDC.BUY, 1000, asphrase=True))\n",
    "ETHUSDC.limit_is_met(\"ETH\", 2000, ETHUSDC.BUY, 1000)"
   ]
  },
  {
   "cell_type": "code",
   "execution_count": 27,
   "id": "b9deb2df",
   "metadata": {},
   "outputs": [
    {
     "name": "stdout",
     "output_type": "stream",
     "text": [
      "Order placer does not sell ETH at 1000 USDC per ETH (limit=2000)\n"
     ]
    },
    {
     "data": {
      "text/plain": [
       "False"
      ]
     },
     "execution_count": 27,
     "metadata": {},
     "output_type": "execute_result"
    }
   ],
   "source": [
    "print(ETHUSDC.limit_is_met(\"ETH\", 2000, ETHUSDC.SELL, 1000, asphrase=True))\n",
    "ETHUSDC.limit_is_met(\"ETH\", 2000, ETHUSDC.SELL, 1000)"
   ]
  },
  {
   "cell_type": "code",
   "execution_count": 31,
   "id": "03a4e5e3",
   "metadata": {},
   "outputs": [
    {
     "name": "stdout",
     "output_type": "stream",
     "text": [
      "Order placer does not buy USDC at 1000 USDC per ETH (limit=2000)\n"
     ]
    },
    {
     "data": {
      "text/plain": [
       "(False, False)"
      ]
     },
     "execution_count": 31,
     "metadata": {},
     "output_type": "execute_result"
    }
   ],
   "source": [
    "print(ETHUSDC.limit_is_met(\"USDC\", 2000, ETHUSDC.BUY, 1000, asphrase=True))\n",
    "ETHUSDC.limit_is_met(\"USDC\", 2000, ETHUSDC.BUY, 1000), ETHUSDC.limit_is_met(\"ETH\", 2000, ETHUSDC.SELL, 1000)"
   ]
  },
  {
   "cell_type": "code",
   "execution_count": 32,
   "id": "15979431",
   "metadata": {},
   "outputs": [
    {
     "name": "stdout",
     "output_type": "stream",
     "text": [
      "Order placer sells USDC at 1000 USDC per ETH (limit=2000)\n"
     ]
    },
    {
     "data": {
      "text/plain": [
       "(True, True)"
      ]
     },
     "execution_count": 32,
     "metadata": {},
     "output_type": "execute_result"
    }
   ],
   "source": [
    "print(ETHUSDC.limit_is_met(\"USDC\", 2000, ETHUSDC.SELL, 1000, asphrase=True))\n",
    "ETHUSDC.limit_is_met(\"USDC\", 2000, ETHUSDC.SELL, 1000), ETHUSDC.limit_is_met(\"ETH\", 2000, ETHUSDC.BUY, 1000)"
   ]
  },
  {
   "cell_type": "code",
   "execution_count": 30,
   "id": "4543d25c",
   "metadata": {},
   "outputs": [
    {
     "name": "stdout",
     "output_type": "stream",
     "text": [
      "[limit_is_met] invalid token ABCD for pair ETHUSDC\n"
     ]
    },
    {
     "data": {
      "text/plain": [
       "(None,)"
      ]
     },
     "execution_count": 30,
     "metadata": {},
     "output_type": "execute_result"
    }
   ],
   "source": [
    "ETHUSDC.limit_is_met(\"ABCD\", 2000, ETHUSDC.SELL, 1000),"
   ]
  },
  {
   "cell_type": "code",
   "execution_count": null,
   "id": "a2a3940c",
   "metadata": {},
   "outputs": [],
   "source": []
  }
 ],
 "metadata": {
  "jupytext": {
   "formats": "ipynb,py:light"
  },
  "kernelspec": {
   "display_name": "Python 3",
   "language": "python",
   "name": "python3"
  },
  "language_info": {
   "codemirror_mode": {
    "name": "ipython",
    "version": 3
   },
   "file_extension": ".py",
   "mimetype": "text/x-python",
   "name": "python",
   "nbconvert_exporter": "python",
   "pygments_lexer": "ipython3",
   "version": "3.8.8"
  }
 },
 "nbformat": 4,
 "nbformat_minor": 5
}
