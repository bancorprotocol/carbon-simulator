{
 "cells": [
  {
   "cell_type": "code",
   "execution_count": 1,
   "id": "ce011baf",
   "metadata": {},
   "outputs": [
    {
     "name": "stdout",
     "output_type": "stream",
     "text": [
      "[stdimports] imported np, pd, plt, os, sqrt, exp, log\n",
      "CarbonOrderUI v1.9 (14/Mar/2023)\n",
      "Carbon v2.3.3-BETA6 (11/Mar/2023)\n"
     ]
    }
   ],
   "source": [
    "from carbon.helpers.stdimports import *\n",
    "from carbon import CarbonOrderUI\n",
    "print(\"{0.__name__} v{0.__VERSION__} ({0.__DATE__})\".format(CarbonOrderUI))\n",
    "print_version(require=\"2.3.3\")"
   ]
  },
  {
   "cell_type": "markdown",
   "id": "edf6bdb6",
   "metadata": {},
   "source": [
    "# CarbonOrderUI (NBTest 062)\n",
    "\n",
    "We introduced new properties that allow getting more curve parameters such as $x_0$ and $x_{asym}$. The code below introduces those parameters and at the same time asserts key relationships."
   ]
  },
  {
   "cell_type": "markdown",
   "id": "8965ce62-b510-4c41-b0a9-88ac355704d9",
   "metadata": {},
   "source": [
    "## Selling the base token"
   ]
  },
  {
   "cell_type": "code",
   "execution_count": 2,
   "id": "2a221e5b-ac97-4cdb-bad4-b2e88e620a16",
   "metadata": {},
   "outputs": [
    {
     "data": {
      "text/plain": [
       "CarbonOrderUI(pair=P('ETH/USDC'), tkn=ETH, B=0.018257418583505537, S=0.001742581416494464, yint=10, y=5, id=None, linked=None)"
      ]
     },
     "execution_count": 2,
     "metadata": {},
     "output_type": "execute_result"
    }
   ],
   "source": [
    "o = CarbonOrderUI.from_prices(\n",
    "    pair=\"ETH/USDC\", \n",
    "    tkn=\"ETH\", \n",
    "    pa=2500, \n",
    "    pb=3000, \n",
    "    yint=10, \n",
    "    y=5)\n",
    "o"
   ]
  },
  {
   "cell_type": "markdown",
   "id": "d7fae7b2-b8a8-4fb6-ae2f-87cf76707b90",
   "metadata": {},
   "source": [
    "### Prices\n",
    "\n",
    "Below the different ways of accessing the prices. `pa=py=p_start` is always the beginning of the range, and `pb=px=p_end` is always the end of the range. `pmax` and `pmin` are always the higher and lower price in the quote convention of the pair, respectively. Those figures are quoted in the convention of the pair, so as we are selling the base token this is the inverse of the internal quotation $dy/dx$ which is `pa_raw` and `pb_raw`. `p0` and `p0_raw` are is the geometric average of the start and end prices in the respective quotation. `reverseq` is true if and only if the `_raw` figures are the inverse of the other figures."
   ]
  },
  {
   "cell_type": "code",
   "execution_count": 3,
   "id": "21001c92-8a08-40b6-b7f1-3860db2f33a1",
   "metadata": {},
   "outputs": [
    {
     "name": "stdout",
     "output_type": "stream",
     "text": [
      "p_start 2500.0\n",
      "p_end 3000.0\n",
      "p0 2738.6127875258308\n",
      "reverseq True\n",
      "pa_raw 0.0004\n",
      "pb_raw 0.0003333333333333333\n",
      "p0_raw 0.0003651483716701108\n",
      "p_min 2500.0\n",
      "p_max 3000.0\n"
     ]
    }
   ],
   "source": [
    "print(\"p_start\", o.p_start)\n",
    "print(\"p_end\", o.p_end)\n",
    "print(\"p0\", o.p0)\n",
    "print(\"reverseq\", o.reverseq)\n",
    "print(\"pa_raw\", o.pa_raw)\n",
    "print(\"pb_raw\", o.pb_raw)\n",
    "print(\"p0_raw\", o.p0_raw)\n",
    "print(\"p_min\", o.pmin)\n",
    "print(\"p_max\", o.pmax)\n",
    "assert abs(o.p_start/2500-1)<1e-10\n",
    "assert abs(o.p_end/3000-1)<1e-10\n",
    "assert o.pa is o.p_start\n",
    "assert o.pb is o.p_end\n",
    "assert o.py is o.pa\n",
    "assert o.px is o.pb\n",
    "assert o.pmin == min(o.p_start, o.p_end)\n",
    "assert o.pmax == max(o.p_start, o.p_end)\n",
    "assert o.pa_raw == 1/o.pa if o.reverseq else o.pa\n",
    "assert o.pb_raw == 1/o.pb if o.reverseq else o.pb\n",
    "assert abs(o.p0/sqrt(o.pa*o.pb)-1)<1e-10\n",
    "assert abs(o.p0_raw/sqrt(o.pa_raw*o.pb_raw)-1)<1e-10"
   ]
  },
  {
   "cell_type": "markdown",
   "id": "88f06fa3-f9f3-42b7-86ba-299137254c25",
   "metadata": {},
   "source": [
    "### Curve capacity\n",
    "\n",
    "`yint` is the curve capacity in the token being sold (here: ETH), and `xint` the corresponding sale amount. `y0` and `x0` are reference parameters determining the curve, and we have `yint/xint=y0/x0=p0_raw`"
   ]
  },
  {
   "cell_type": "code",
   "execution_count": 4,
   "id": "78b0ca7d-1729-46c7-b27e-c6ce7091b5c9",
   "metadata": {},
   "outputs": [
    {
     "name": "stdout",
     "output_type": "stream",
     "text": [
      "yint 10\n",
      "xint 27386.127875258306\n",
      "y0 4.886068751350676\n",
      "x0 13381.050363179327\n"
     ]
    }
   ],
   "source": [
    "print(\"yint\", o.yint)\n",
    "print(\"xint\", o.xint)\n",
    "print(\"y0\", o.y0)\n",
    "print(\"x0\", o.x0)\n",
    "assert o.yint == 10\n",
    "assert abs(o.yint/o.xint/o.p0_raw-1)<1e-10\n",
    "assert o.y0/o.x0 == o.p0_raw"
   ]
  },
  {
   "cell_type": "markdown",
   "id": "9fe925d2-ecd6-4b33-abdd-1730596ee1f8",
   "metadata": {},
   "source": [
    "### Curve convexity\n",
    "\n",
    "The curve convexity determines how different `pa` and `pb` are. There are a number of ultimately equivalent paramters that describe that\n",
    "\n",
    "- `widthpc` is the percentage width, defined as `(pa_raw-pb_raw)/p0_raw`\n",
    "- `widthr` is the width ratio, defined as `pa_raw/pb_raw >= 1`\n",
    "- `Gamma` is the curve leverage parameter between `0..1` where `0` corresponds to constant price and `1` corresponds to constant product\n",
    "- `Q` is an alternative convexity parameter also between `0..1` but the other way\n",
    "\n",
    "The relationshipt between the parameters is provided in the functions `Gamma_from_Q`\n",
    "\n",
    "$$\n",
    "\\Gamma(Q) = 1 - \\sqrt{Q}\n",
    "$$ \n",
    "\n",
    "and `Q_from_Gamma` \n",
    "\n",
    "$$\n",
    "Q(\\Gamma) = (1-\\Gamma)^2\n",
    "$$\n",
    "\n",
    "Also `Q=1/sqrt(widthr)` because\n",
    "\n",
    "$$\n",
    "Q = \\sqrt{\\frac{p_a}{p_b}}\n",
    "$$"
   ]
  },
  {
   "cell_type": "code",
   "execution_count": 5,
   "id": "86b0f759-8d6c-4bf6-8e7a-3e5f177dcfa6",
   "metadata": {},
   "outputs": [
    {
     "name": "stdout",
     "output_type": "stream",
     "text": [
      "widthpc 0.18257418583505536\n",
      "widthr 1.2\n",
      "Gamma 0.044557207795633214\n",
      "Q 0.9128709291752768\n"
     ]
    }
   ],
   "source": [
    "print(\"widthpc\", o.widthpc)\n",
    "print(\"widthr\", o.widthr)\n",
    "print(\"Gamma\", o.Gamma)\n",
    "print(\"Q\", o.Q)\n",
    "assert abs(o.widthpc/((o.pa_raw-o.pb_raw)/o.p0_raw)-1)<1e-10\n",
    "assert abs(o.widthr/(o.pa_raw / o.pb_raw)-1)<1e-10\n",
    "assert abs(o.widthr/(o.pmax / o.pmin)-1)<1e-10\n",
    "assert abs(o.Q/(sqrt(1/o.widthr))-1)<1e-10\n",
    "assert abs(o.Q/o.Q_from_Gamma(o.Gamma)-1)<1e-10\n",
    "assert abs(o.Gamma/o.Gamma_from_Q(o.Q)-1)<1e-10"
   ]
  },
  {
   "cell_type": "markdown",
   "id": "3eb4e3ec-cbbd-4f9c-a7d4-f83fdd2a8489",
   "metadata": {},
   "source": [
    "### Asymptotes\n",
    "\n",
    "Here we deal with the curve asymptotes `yasym` and `xasym`. They are related to the other token figures via \n",
    "\n",
    "$$\n",
    "\\frac{x_{asym}}{x_0} = \\frac{y_{asym}}{y_0} = 1-\\frac 1 \\Gamma\n",
    "$$\n",
    "\n",
    "We also look at the relationship between the `int`ercepts and the `0` figures which are\n",
    "\n",
    "$$\n",
    "\\frac{x_{int}}{x_0} = \\frac{y_{int}}{y_0} = \\frac {2-\\Gamma} {1-\\Gamma}\n",
    "$$"
   ]
  },
  {
   "cell_type": "code",
   "execution_count": 6,
   "id": "db667146-0ba3-4eda-b40e-be87cd0aa88a",
   "metadata": {},
   "outputs": [
    {
     "name": "stdout",
     "output_type": "stream",
     "text": [
      "yasym -104.77225575051658\n",
      "xasym -286930.6393762914\n",
      "yint 10\n",
      "xint 27386.127875258306\n",
      "y0 4.886068751350676\n",
      "x0 13381.050363179327\n"
     ]
    }
   ],
   "source": [
    "print(\"yasym\", o.yasym)\n",
    "print(\"xasym\", o.xasym)\n",
    "print(\"yint\", o.yint)\n",
    "print(\"xint\", o.xint)\n",
    "print(\"y0\", o.y0)\n",
    "print(\"x0\", o.x0)\n",
    "assert abs(o.xasym/o.x0/(o.yasym/o.y0)-1)<1e-10\n",
    "assert abs(o.yasym/o.y0/o.asym_over_0(o.Gamma)-1)<1e-10\n",
    "assert abs(o.xasym/o.x0/o.asym_over_0(o.Gamma)-1)<1e-10\n",
    "assert abs(o.xint/o.x0/(o.yint/o.y0)-1)<1e-10\n",
    "assert abs(o.yint/o.y0/o.int_over_0(o.Gamma)-1)<1e-10\n",
    "assert abs(o.xint/o.x0/o.int_over_0(o.Gamma)-1)<1e-10"
   ]
  },
  {
   "cell_type": "markdown",
   "id": "d38a816e-9b69-4a43-a2e9-c94ab7357157",
   "metadata": {},
   "source": [
    "### Kappa and the invariant function\n",
    "\n",
    "A very elegant way to express the invariant function is \n",
    "\n",
    "$$\n",
    "(x-x_{asym})(y-y_{asym}) = \\kappa = \\frac{x_0y_0}{\\Gamma^2}\n",
    "$$\n",
    "\n",
    "or in way that scales better as\n",
    "\n",
    "$$\n",
    "\\sqrt{(x-x_{asym})(y-y_{asym})} = \\bar\\kappa = \\frac{\\sqrt{x_0y_0}}{\\Gamma}\n",
    "$$\n"
   ]
  },
  {
   "cell_type": "code",
   "execution_count": 7,
   "id": "dc19188e-e054-4bd6-a21e-da4dff960821",
   "metadata": {},
   "outputs": [
    {
     "name": "stdout",
     "output_type": "stream",
     "text": [
      "y0 4.886068751350676\n",
      "x0 13381.050363179327\n",
      "Gamma 0.044557207795633214\n",
      "leverage_fctr 22.44305802523838\n",
      "kappa 32931676.725154955\n",
      "kappa_bar 5738.612787525828\n"
     ]
    }
   ],
   "source": [
    "print(\"y0\", o.y0)\n",
    "print(\"x0\", o.x0)\n",
    "print(\"Gamma\", o.Gamma)\n",
    "print(\"leverage_fctr\", o.leverage_fctr)\n",
    "print(\"kappa\", o.kappa)\n",
    "print(\"kappa_bar\", o.kappa_bar)\n",
    "assert o.leverage_fctr == 1/o.Gamma\n",
    "assert abs(o.kappa/(o.x0*o.y0/o.Gamma**2)-1)<1e-10\n",
    "assert abs(o.kappa_bar/(sqrt(o.x0*o.y0)/o.Gamma)-1)<1e-10"
   ]
  },
  {
   "cell_type": "markdown",
   "id": "f850e750-63bc-47ec-b312-b652394eaf15",
   "metadata": {},
   "source": [
    "Here we are checking the invariant function against the expression above. We are comparing both against `xfromy_f` and `yfromx_f` where we recall that `y` is the token being sold and `x` the token being bought by the AMM."
   ]
  },
  {
   "cell_type": "code",
   "execution_count": 8,
   "id": "c9bf446d-7679-4706-97d1-136a112580fc",
   "metadata": {},
   "outputs": [
    {
     "name": "stdout",
     "output_type": "stream",
     "text": [
      "y=0.1 -> 27086.413937570833 5738.612787525828 5738.612787525828 32931676.72515496 32931676.725154955\n",
      "y=1 -> 24414.490700450162 5738.612787525828 5738.612787525828 32931676.72515496 32931676.725154955\n",
      "y=3 -> 18636.656175069555 5738.612787525829 5738.612787525828 32931676.725154962 32931676.725154955\n",
      "y=5 -> 13069.360623708471 5738.612787525829 5738.612787525828 32931676.725154962 32931676.725154955\n",
      "y=7 -> 7701.3021912183785 5738.612787525828 5738.612787525828 32931676.72515496 32931676.725154955\n",
      "y=9 -> 2521.9737227104124 5738.612787525828 5738.612787525828 32931676.72515496 32931676.725154955\n",
      "y=9.99 -> 25.002178416573496 5738.612787525829 5738.612787525828 32931676.725154962 32931676.725154955\n"
     ]
    }
   ],
   "source": [
    "for y in [0.1,1,3,5,7,9,9.99]:\n",
    "    x = o.xfromy_f(y)\n",
    "    f2 = (x-o.xasym)*(y-o.yasym)\n",
    "    f = sqrt(f2)\n",
    "    print(f\"y={y} ->\", x, f, o.kappa_bar, f2, o.kappa)\n",
    "    assert abs(f/o.kappa_bar-1) < 1e-10\n",
    "    assert abs(f2/o.kappa-1) < 1e-10"
   ]
  },
  {
   "cell_type": "markdown",
   "id": "42820779",
   "metadata": {},
   "source": [
    "## Selling the quote token"
   ]
  },
  {
   "cell_type": "code",
   "execution_count": 9,
   "id": "b8b5ab91",
   "metadata": {},
   "outputs": [
    {
     "data": {
      "text/plain": [
       "CarbonOrderUI(pair=P('ETH/USDC'), tkn=USDC, B=31.622776601683793, S=7.107056860390376, yint=3000, y=1500, id=None, linked=None)"
      ]
     },
     "execution_count": 9,
     "metadata": {},
     "output_type": "execute_result"
    }
   ],
   "source": [
    "o = CarbonOrderUI.from_prices(\n",
    "    pair=\"ETH/USDC\", \n",
    "    tkn=\"USDC\", \n",
    "    pa=1500, \n",
    "    pb=1000, \n",
    "    yint=3000, \n",
    "    y=1500)\n",
    "o"
   ]
  },
  {
   "cell_type": "markdown",
   "id": "2d74c0e8",
   "metadata": {},
   "source": [
    "### Prices"
   ]
  },
  {
   "cell_type": "code",
   "execution_count": 10,
   "id": "4d0fc813",
   "metadata": {},
   "outputs": [
    {
     "name": "stdout",
     "output_type": "stream",
     "text": [
      "p_start 1500.0\n",
      "p_end 1000.0\n",
      "p0 1224.744871391589\n",
      "reverseq False\n",
      "pa_raw 1500.0\n",
      "pb_raw 1000.0\n",
      "p0_raw 1224.744871391589\n",
      "p_min 1000.0\n",
      "p_max 1500.0\n"
     ]
    }
   ],
   "source": [
    "print(\"p_start\", o.p_start)\n",
    "print(\"p_end\", o.p_end)\n",
    "print(\"p0\", o.p0)\n",
    "print(\"reverseq\", o.reverseq)\n",
    "print(\"pa_raw\", o.pa_raw)\n",
    "print(\"pb_raw\", o.pb_raw)\n",
    "print(\"p0_raw\", o.p0_raw)\n",
    "print(\"p_min\", o.pmin)\n",
    "print(\"p_max\", o.pmax)\n",
    "assert abs(o.p_start/1500-1)<1e-10\n",
    "assert abs(o.p_end/1000-1)<1e-10\n",
    "assert o.pa is o.p_start\n",
    "assert o.pb is o.p_end\n",
    "assert o.py is o.pa\n",
    "assert o.px is o.pb\n",
    "assert o.pmin == min(o.p_start, o.p_end)\n",
    "assert o.pmax == max(o.p_start, o.p_end)\n",
    "assert o.pa_raw == 1/o.pa if o.reverseq else o.pa\n",
    "assert o.pb_raw == 1/o.pb if o.reverseq else o.pb\n",
    "assert abs(o.p0/sqrt(o.pa*o.pb)-1)<1e-10\n",
    "assert abs(o.p0_raw/sqrt(o.pa_raw*o.pb_raw)-1)<1e-10"
   ]
  },
  {
   "cell_type": "markdown",
   "id": "c8b8d3f5",
   "metadata": {},
   "source": [
    "### Curve capacity\n"
   ]
  },
  {
   "cell_type": "code",
   "execution_count": 11,
   "id": "73edb500",
   "metadata": {},
   "outputs": [
    {
     "name": "stdout",
     "output_type": "stream",
     "text": [
      "yint 3000\n",
      "xint 2.4494897427831783\n",
      "y0 1424.0403223409987\n",
      "x0 1.1627240542946424\n"
     ]
    }
   ],
   "source": [
    "print(\"yint\", o.yint)\n",
    "print(\"xint\", o.xint)\n",
    "print(\"y0\", o.y0)\n",
    "print(\"x0\", o.x0)\n",
    "assert o.yint == 3000\n",
    "assert abs(o.yint/o.xint/o.p0_raw-1)<1e-10\n",
    "assert o.y0/o.x0 == o.p0_raw"
   ]
  },
  {
   "cell_type": "markdown",
   "id": "0ce8ba0b",
   "metadata": {},
   "source": [
    "### Curve convexity"
   ]
  },
  {
   "cell_type": "code",
   "execution_count": 12,
   "id": "465aaccd",
   "metadata": {},
   "outputs": [
    {
     "name": "stdout",
     "output_type": "stream",
     "text": [
      "widthpc 0.4082482904638631\n",
      "widthr 1.5\n",
      "Gamma 0.09639799639015512\n",
      "Q 0.816496580927726\n"
     ]
    }
   ],
   "source": [
    "print(\"widthpc\", o.widthpc)\n",
    "print(\"widthr\", o.widthr)\n",
    "print(\"Gamma\", o.Gamma)\n",
    "print(\"Q\", o.Q)\n",
    "assert abs(o.widthpc/((o.pa_raw-o.pb_raw)/o.p0_raw)-1)<1e-10\n",
    "assert abs(o.widthr/(o.pa_raw / o.pb_raw)-1)<1e-10\n",
    "assert abs(o.widthr/(o.pmax / o.pmin)-1)<1e-10\n",
    "assert abs(o.Q/(sqrt(1/o.widthr))-1)<1e-10\n",
    "assert abs(o.Q/o.Q_from_Gamma(o.Gamma)-1)<1e-10\n",
    "assert abs(o.Gamma/o.Gamma_from_Q(o.Q)-1)<1e-10"
   ]
  },
  {
   "cell_type": "markdown",
   "id": "e22fb031",
   "metadata": {},
   "source": [
    "### Asymptotes"
   ]
  },
  {
   "cell_type": "code",
   "execution_count": 13,
   "id": "2879758e",
   "metadata": {},
   "outputs": [
    {
     "name": "stdout",
     "output_type": "stream",
     "text": [
      "yasym -13348.469228349542\n",
      "xasym -10.898979485566363\n",
      "yint 3000\n",
      "xint 2.4494897427831783\n",
      "y0 1424.0403223409987\n",
      "x0 1.1627240542946424\n"
     ]
    }
   ],
   "source": [
    "print(\"yasym\", o.yasym)\n",
    "print(\"xasym\", o.xasym)\n",
    "print(\"yint\", o.yint)\n",
    "print(\"xint\", o.xint)\n",
    "print(\"y0\", o.y0)\n",
    "print(\"x0\", o.x0)\n",
    "assert abs(o.xasym/o.x0/(o.yasym/o.y0)-1)<1e-10\n",
    "assert abs(o.yasym/o.y0/o.asym_over_0(o.Gamma)-1)<1e-10\n",
    "assert abs(o.xasym/o.x0/o.asym_over_0(o.Gamma)-1)<1e-10\n",
    "assert abs(o.xint/o.x0/(o.yint/o.y0)-1)<1e-10\n",
    "assert abs(o.yint/o.y0/o.int_over_0(o.Gamma)-1)<1e-10\n",
    "assert abs(o.xint/o.x0/o.int_over_0(o.Gamma)-1)<1e-10"
   ]
  },
  {
   "cell_type": "markdown",
   "id": "54ae9a70",
   "metadata": {},
   "source": [
    "### Kappa and invariant"
   ]
  },
  {
   "cell_type": "code",
   "execution_count": 14,
   "id": "45005773",
   "metadata": {},
   "outputs": [
    {
     "name": "stdout",
     "output_type": "stream",
     "text": [
      "y0 1424.0403223409987\n",
      "x0 1.1627240542946424\n",
      "Gamma 0.09639799639015512\n",
      "leverage_fctr 10.373659593013361\n",
      "kappa 178181.6307401946\n",
      "kappa_bar 422.115660382548\n"
     ]
    }
   ],
   "source": [
    "print(\"y0\", o.y0)\n",
    "print(\"x0\", o.x0)\n",
    "print(\"Gamma\", o.Gamma)\n",
    "print(\"leverage_fctr\", o.leverage_fctr)\n",
    "print(\"kappa\", o.kappa)\n",
    "print(\"kappa_bar\", o.kappa_bar)\n",
    "assert o.leverage_fctr == 1/o.Gamma\n",
    "assert abs(o.kappa/(o.x0*o.y0/o.Gamma**2)-1)<1e-10\n",
    "assert abs(o.kappa_bar/(sqrt(o.x0*o.y0)/o.Gamma)-1)<1e-10"
   ]
  },
  {
   "cell_type": "markdown",
   "id": "f1fe9447",
   "metadata": {},
   "source": [
    "Here we are checking the invariant function against the expression above. We are comparing both against `xfromy_f` and `yfromx_f` where we recall that `y` is the token being sold and `x` the token being bought by the AMM."
   ]
  },
  {
   "cell_type": "code",
   "execution_count": 15,
   "id": "56eb46e2",
   "metadata": {},
   "outputs": [
    {
     "name": "stdout",
     "output_type": "stream",
     "text": [
      "y=1 -> 2.448489817692524 422.115660382548 422.115660382548 178181.6307401946 178181.6307401946\n",
      "y=100 -> 2.3502333218352027 422.115660382548 422.115660382548 178181.6307401946 178181.6307401946\n",
      "y=1000 -> 1.5191835884530849 422.115660382548 422.115660382548 178181.6307401946 178181.6307401946\n",
      "y=1500 -> 1.1010205144336438 422.115660382548 422.115660382548 178181.6307401946 178181.6307401946\n",
      "y=2500 -> 0.3438495960881321 422.115660382548 422.115660382548 178181.6307401946 178181.6307401946\n",
      "y=2999 -> 0.0006667074476987246 422.115660382548 422.115660382548 178181.6307401946 178181.6307401946\n"
     ]
    }
   ],
   "source": [
    "for y in [1,100,1000,1500,2500,2999]:\n",
    "    x = o.xfromy_f(y)\n",
    "    f2 = (x-o.xasym)*(y-o.yasym)\n",
    "    f = sqrt(f2)\n",
    "    print(f\"y={y} ->\", x, f, o.kappa_bar, f2, o.kappa)\n",
    "    assert abs(f/o.kappa_bar-1) < 1e-10\n",
    "    assert abs(f2/o.kappa-1) < 1e-10"
   ]
  },
  {
   "cell_type": "code",
   "execution_count": null,
   "id": "17867e25",
   "metadata": {
    "lines_to_next_cell": 2
   },
   "outputs": [],
   "source": []
  }
 ],
 "metadata": {
  "jupytext": {
   "formats": "ipynb,py:light"
  },
  "kernelspec": {
   "display_name": "Python 3",
   "language": "python",
   "name": "python3"
  },
  "language_info": {
   "codemirror_mode": {
    "name": "ipython",
    "version": 3
   },
   "file_extension": ".py",
   "mimetype": "text/x-python",
   "name": "python",
   "nbconvert_exporter": "python",
   "pygments_lexer": "ipython3",
   "version": "3.8.8"
  }
 },
 "nbformat": 4,
 "nbformat_minor": 5
}
