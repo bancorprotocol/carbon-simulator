{
 "cells": [
  {
   "cell_type": "code",
   "execution_count": 101,
   "id": "0417c011",
   "metadata": {},
   "outputs": [],
   "source": [
    "from generatelib import *\n",
    "from math import sin, cos, pi\n",
    "import os\n",
    "plt.style.use('seaborn-dark')\n",
    "plt.rcParams['figure.figsize'] = [8,4]"
   ]
  },
  {
   "cell_type": "markdown",
   "id": "ac15adf5",
   "metadata": {},
   "source": [
    "# Generate Data\n",
    "## Generate big random path samples"
   ]
  },
  {
   "cell_type": "code",
   "execution_count": 83,
   "id": "7437d941",
   "metadata": {},
   "outputs": [
    {
     "data": {
      "text/plain": [
       "'RAN-00020-0000-NEW'"
      ]
     },
     "execution_count": 83,
     "metadata": {},
     "output_type": "execute_result"
    }
   ],
   "source": [
    "FILENAME = lambda sig, mu: f\"RAN-{int(sig*100):05d}-{int(mu*100):04d}-NEW\"\n",
    "FILENAME(sig=0.2, mu=0)"
   ]
  },
  {
   "cell_type": "code",
   "execution_count": 84,
   "id": "56692d09",
   "metadata": {},
   "outputs": [],
   "source": [
    "FILENAME = None    # comment out to generate paths"
   ]
  },
  {
   "cell_type": "code",
   "execution_count": 85,
   "id": "7925ec52",
   "metadata": {},
   "outputs": [
    {
     "name": "stdout",
     "output_type": "stream",
     "text": [
      "Not generating paths\n"
     ]
    }
   ],
   "source": [
    "if not FILENAME is None:\n",
    "    print(\"Generating paths\")\n",
    "    for sig in (0.05, 0.1, 0.2, 0.5, 0.75, 1):\n",
    "        df = PathGenerator(sig=sig).pathdf(1000)\n",
    "        df.to_csv(FILENAME(sig=sig, mu=0)+\".csv.gz\", index=False, compression=\"gzip\")\n",
    "        #df.to_csv(FILENAME(sig=sig, mu=0)+\".csv\", index=False)\n",
    "        df.to_pickle(FILENAME(sig=sig, mu=0)+\".pickle\")\n",
    "else:\n",
    "    print(\"Not generating paths\")"
   ]
  },
  {
   "cell_type": "code",
   "execution_count": 86,
   "id": "cebab17a",
   "metadata": {},
   "outputs": [
    {
     "name": "stdout",
     "output_type": "stream",
     "text": [
      "RAN-005-00.pickle RAN-020-00.pickle RAN-075-00.pickle RAN-SIGMU.pickle\r\n",
      "RAN-010-00.pickle RAN-050-00.pickle RAN-100-00.pickle\r\n"
     ]
    }
   ],
   "source": [
    "!ls *.pickle"
   ]
  },
  {
   "cell_type": "code",
   "execution_count": 87,
   "id": "53ab8a47",
   "metadata": {},
   "outputs": [
    {
     "name": "stdout",
     "output_type": "stream",
     "text": [
      "zsh:1: no matches found: *.csv.gz\r\n"
     ]
    }
   ],
   "source": [
    "!ls *.csv.gz"
   ]
  },
  {
   "cell_type": "code",
   "execution_count": 88,
   "id": "31c01af6",
   "metadata": {},
   "outputs": [
    {
     "name": "stdout",
     "output_type": "stream",
     "text": [
      "zsh:1: no matches found: *.csv\r\n"
     ]
    }
   ],
   "source": [
    "!ls *.csv"
   ]
  },
  {
   "cell_type": "markdown",
   "id": "c23c0b0a",
   "metadata": {},
   "source": [
    "## Generate single random path repo"
   ]
  },
  {
   "cell_type": "code",
   "execution_count": 89,
   "id": "ee7643d6",
   "metadata": {},
   "outputs": [],
   "source": [
    "FILENAME2 = lambda mu: f\"RAN-SIGMU\"\n",
    "FILENAME2 = None"
   ]
  },
  {
   "cell_type": "code",
   "execution_count": 90,
   "id": "e8435ab3",
   "metadata": {},
   "outputs": [],
   "source": [
    "dfs = {\n",
    "    (sig,mu): PathGenerator(sig=sig, mu=mu).pathdf(10)\n",
    "    for sig in (0.01, 0.05, 0.25, 0.5, 0.75, 1)\n",
    "    for mu in [0,0.05,0.2]\n",
    "}\n",
    "df_aggr = pd.concat(dfs.values(), axis=1)\n",
    "#df.to_csv(FILENAME(sig=sig, mu=0)+\".csv.gz\", index=False, compression=\"gzip\")\n",
    "#df.to_csv(FILENAME(sig=sig, mu=0)+\".csv\", index=False)\n",
    "if not FILENAME2 is None:\n",
    "    df_aggr.to_pickle(FILENAME2(mu=int(mu*100))+\".pickle\")\n",
    "#df_aggr"
   ]
  },
  {
   "cell_type": "code",
   "execution_count": 91,
   "id": "9b835a40",
   "metadata": {},
   "outputs": [
    {
     "name": "stdout",
     "output_type": "stream",
     "text": [
      "Display.ipynb     RAN-005-00.pickle RAN-075-00.pickle \u001b[34mcharts\u001b[m\u001b[m\r\n",
      "Display.py        RAN-010-00.pickle RAN-100-00.pickle \u001b[34mdownload\u001b[m\u001b[m\r\n",
      "Generate.ipynb    RAN-020-00.pickle RAN-SIGMU.pickle  fls.py\r\n",
      "Generate.py       RAN-050-00.pickle \u001b[34m__pycache__\u001b[m\u001b[m       generatelib.py\r\n"
     ]
    }
   ],
   "source": [
    "!ls"
   ]
  },
  {
   "cell_type": "code",
   "execution_count": 92,
   "id": "53c6d212",
   "metadata": {},
   "outputs": [],
   "source": [
    "#!rm RAN-AGGR.pickle"
   ]
  },
  {
   "cell_type": "code",
   "execution_count": 93,
   "id": "cfb8c410",
   "metadata": {},
   "outputs": [],
   "source": [
    "# fns = [fn for fn in os.listdir() if fn[:3]==\"RAN\"]\n",
    "# fns = ['RAN-005-00.pickle',\n",
    "#  'RAN-010-00.pickle',\n",
    "#  'RAN-100-00.pickle',\n",
    "#  'RAN-075-00.pickle',\n",
    "#  'RAN-020-00.pickle',\n",
    "#  'RAN-050-00.pickle']\n",
    "# # for fn in fns:\n",
    "# #     df = pd.read_pickle(fn)\n",
    "# #     del df[\"time\"]\n",
    "# #     df = df.set_index(\"datetime\")\n",
    "# #     df.to_pickle(fn)\n",
    "# pd.read_pickle(fns[2])"
   ]
  },
  {
   "cell_type": "markdown",
   "id": "03ac665b",
   "metadata": {},
   "source": [
    "## Generate Sin, Cos paths"
   ]
  },
  {
   "cell_type": "code",
   "execution_count": 102,
   "id": "5e0160d8",
   "metadata": {},
   "outputs": [
    {
     "data": {
      "text/plain": [
       "{'mu': 0,\n",
       " 'sig': 0.5,\n",
       " 's0': 100,\n",
       " 'time': 1,\n",
       " 'N': 200,\n",
       " 'startdt': (2020, 1, 1),\n",
       " 'numpaths': 100,\n",
       " 'colname': 'p{sig100:03d}-{mu100:02d}-{ix:03d}'}"
      ]
     },
     "execution_count": 102,
     "metadata": {},
     "output_type": "execute_result"
    }
   ],
   "source": [
    "PathGenerator.DEFAULTS"
   ]
  },
  {
   "cell_type": "code",
   "execution_count": 158,
   "id": "16811915",
   "metadata": {},
   "outputs": [
    {
     "data": {
      "text/plain": [
       "[<matplotlib.lines.Line2D at 0x7fafe26b31f0>]"
      ]
     },
     "execution_count": 158,
     "metadata": {},
     "output_type": "execute_result"
    },
    {
     "data": {
      "image/png": "[encoded data removed]",
      "text/plain": [
       "<Figure size 576x288 with 1 Axes>"
      ]
     },
     "metadata": {},
     "output_type": "display_data"
    }
   ],
   "source": [
    "start_dt=pd.Timestamp(\"2020-01-01\")\n",
    "end_dt=pd.Timestamp(\"2021-01-01\")\n",
    "nsteps = 200\n",
    "delt = (end_dt-start_dt)/nsteps\n",
    "x = lambda n: 2*pi*n/nsteps\n",
    "t = lambda n: start_dt + delt*n\n",
    "p = lambda i, f: 75+50*cos((f+1)*x(i))\n",
    "assert x(nsteps) == 2*pi\n",
    "assert t(nsteps) == end_dt\n",
    "\n",
    "\n",
    "ix = 10\n",
    "time = np.array([t(i) for i in range(nsteps+1)])\n",
    "\n",
    "dfs = [\n",
    "    pd.DataFrame(\n",
    "        np.array([p(i,ix) for i in range(nsteps+1)]), \n",
    "        index=time, \n",
    "        columns=[f\"p-a-{ix:02d}\"]\n",
    "    )\n",
    "for ix in range(10)\n",
    "]\n",
    "df_aggr = pd.concat(dfs, axis=1)\n",
    "df_aggr.to_pickle(\"COS.pickle\")\n",
    "plt.plot(dfs[0])"
   ]
  },
  {
   "cell_type": "code",
   "execution_count": 144,
   "id": "db75dc80",
   "metadata": {},
   "outputs": [
    {
     "data": {
      "text/plain": [
       "25.0"
      ]
     },
     "execution_count": 144,
     "metadata": {},
     "output_type": "execute_result"
    }
   ],
   "source": [
    "p(100,5)"
   ]
  },
  {
   "cell_type": "code",
   "execution_count": 157,
   "id": "3aa02ecb",
   "metadata": {},
   "outputs": [
    {
     "name": "stdout",
     "output_type": "stream",
     "text": [
      "Display.ipynb     RAN-005-00.pickle RAN-075-00.pickle \u001b[34mcharts\u001b[m\u001b[m\r\n",
      "Display.py        RAN-010-00.pickle RAN-100-00.pickle \u001b[34mdownload\u001b[m\u001b[m\r\n",
      "Generate.ipynb    RAN-020-00.pickle RAN-SIGMU.pickle  fls.py\r\n",
      "Generate.py       RAN-050-00.pickle \u001b[34m__pycache__\u001b[m\u001b[m       generatelib.py\r\n"
     ]
    }
   ],
   "source": [
    "!ls"
   ]
  },
  {
   "cell_type": "markdown",
   "id": "fba03b35",
   "metadata": {},
   "source": [
    "## Data retrieval examples"
   ]
  },
  {
   "cell_type": "code",
   "execution_count": 163,
   "id": "840d5b52",
   "metadata": {},
   "outputs": [],
   "source": [
    "fn = \"COS.pickle\""
   ]
  },
  {
   "cell_type": "code",
   "execution_count": 164,
   "id": "3c4c2638",
   "metadata": {},
   "outputs": [
    {
     "data": {
      "text/plain": [
       "Index(['p-a-00', 'p-a-01', 'p-a-02', 'p-a-03', 'p-a-04', 'p-a-05', 'p-a-06',\n",
       "       'p-a-07', 'p-a-08', 'p-a-09'],\n",
       "      dtype='object')"
      ]
     },
     "execution_count": 164,
     "metadata": {},
     "output_type": "execute_result"
    }
   ],
   "source": [
    "pdcols(fn)"
   ]
  },
  {
   "cell_type": "code",
   "execution_count": 165,
   "id": "b80b0cba",
   "metadata": {},
   "outputs": [
    {
     "data": {
      "text/plain": [
       "2020-01-01 00:00:00    125.000000\n",
       "2020-01-02 19:55:12    124.901336\n",
       "2020-01-04 15:50:24    124.605735\n",
       "2020-01-06 11:45:36    124.114363\n",
       "2020-01-08 07:40:48    123.429158\n",
       "                          ...    \n",
       "2020-12-24 16:19:12    123.429158\n",
       "2020-12-26 12:14:24    124.114363\n",
       "2020-12-28 08:09:36    124.605735\n",
       "2020-12-30 04:04:48    124.901336\n",
       "2021-01-01 00:00:00    125.000000\n",
       "Name: p-a-01, Length: 201, dtype: float64"
      ]
     },
     "execution_count": 165,
     "metadata": {},
     "output_type": "execute_result"
    }
   ],
   "source": [
    "ser=pdread(fn, \"p-a-01\")\n",
    "ser"
   ]
  },
  {
   "cell_type": "code",
   "execution_count": 166,
   "id": "808429c3",
   "metadata": {},
   "outputs": [
    {
     "data": {
      "text/plain": [
       "[<matplotlib.lines.Line2D at 0x7faf90246bb0>]"
      ]
     },
     "execution_count": 166,
     "metadata": {},
     "output_type": "execute_result"
    },
    {
     "data": {
      "image/png": "[encoded data removed]",
      "text/plain": [
       "<Figure size 576x288 with 1 Axes>"
      ]
     },
     "metadata": {},
     "output_type": "display_data"
    }
   ],
   "source": [
    "plt.plot(ser)"
   ]
  },
  {
   "cell_type": "code",
   "execution_count": 97,
   "id": "cd53e548",
   "metadata": {},
   "outputs": [
    {
     "data": {
      "text/plain": [
       "datetime\n",
       "2020-01-01 00:00:00    100.000000\n",
       "2020-01-02 19:49:48     99.885425\n",
       "2020-01-04 15:39:36     99.834626\n",
       "2020-01-06 11:29:24     99.798634\n",
       "2020-01-08 07:19:12     99.866637\n",
       "                          ...    \n",
       "2020-12-23 22:40:48    101.513945\n",
       "2020-12-25 18:30:36    101.440115\n",
       "2020-12-27 14:20:24    101.335794\n",
       "2020-12-29 10:10:12    101.319060\n",
       "2020-12-31 06:00:00    101.306867\n",
       "Name: p001-00-000, Length: 201, dtype: float64"
      ]
     },
     "execution_count": 97,
     "metadata": {},
     "output_type": "execute_result"
    }
   ],
   "source": [
    "ser = pdread(fn, 0)\n",
    "ser"
   ]
  },
  {
   "cell_type": "code",
   "execution_count": 98,
   "id": "55ffaf57",
   "metadata": {},
   "outputs": [
    {
     "data": {
      "text/plain": [
       "Timestamp('2020-01-01 00:00:00')"
      ]
     },
     "execution_count": 98,
     "metadata": {},
     "output_type": "execute_result"
    }
   ],
   "source": [
    "ser.index[0]"
   ]
  },
  {
   "cell_type": "code",
   "execution_count": 99,
   "id": "18f5ba3f",
   "metadata": {},
   "outputs": [
    {
     "data": {
      "text/plain": [
       "Timedelta('1 days 00:00:00')"
      ]
     },
     "execution_count": 99,
     "metadata": {},
     "output_type": "execute_result"
    }
   ],
   "source": [
    "pd.Timedelta(days=1)"
   ]
  },
  {
   "cell_type": "code",
   "execution_count": null,
   "id": "6c41ad72",
   "metadata": {},
   "outputs": [],
   "source": []
  }
 ],
 "metadata": {
  "jupytext": {
   "formats": "ipynb,py:light"
  },
  "kernelspec": {
   "display_name": "Python 3",
   "language": "python",
   "name": "python3"
  },
  "language_info": {
   "codemirror_mode": {
    "name": "ipython",
    "version": 3
   },
   "file_extension": ".py",
   "mimetype": "text/x-python",
   "name": "python",
   "nbconvert_exporter": "python",
   "pygments_lexer": "ipython3",
   "version": "3.8.8"
  }
 },
 "nbformat": 4,
 "nbformat_minor": 5
}
