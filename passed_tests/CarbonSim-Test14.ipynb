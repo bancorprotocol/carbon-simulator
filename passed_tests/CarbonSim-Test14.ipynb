{
 "cells": [
  {
   "cell_type": "code",
   "execution_count": 1,
   "id": "22b66169",
   "metadata": {},
   "outputs": [],
   "source": [
    "from carbon import CarbonSimulatorUI\n",
    "from carbon.simulators.carbon_simulator import (\n",
    "    __version__ as uiversion,\n",
    "    __date__ as uidate,\n",
    ")\n",
    "from jupyformat import *"
   ]
  },
  {
   "cell_type": "code",
   "execution_count": 2,
   "id": "3503203e",
   "metadata": {},
   "outputs": [
    {
     "name": "stdout",
     "output_type": "stream",
     "text": [
      "[carbon_simulator] version 0.9.10.1 12/Nov/2022\n"
     ]
    },
    {
     "data": {
      "text/html": [
       "<div style='color:green; font-size: 120%'><p><strong>This notebook passed verification.</strong></p></div>"
      ],
      "text/plain": [
       "<IPython.core.display.HTML object>"
      ]
     },
     "execution_count": 2,
     "metadata": {},
     "output_type": "execute_result"
    }
   ],
   "source": [
    "print(\"[carbon_simulator] version\", uiversion, uidate)\n",
    "jp()"
   ]
  },
  {
   "cell_type": "markdown",
   "id": "ec6ff430",
   "metadata": {},
   "source": [
    "# Carbon Simulation - Test 14"
   ]
  },
  {
   "cell_type": "markdown",
   "id": "76ed11c9",
   "metadata": {},
   "source": [
    "## Single positions"
   ]
  },
  {
   "cell_type": "code",
   "execution_count": 3,
   "id": "a2278c82",
   "metadata": {},
   "outputs": [
    {
     "data": {
      "text/plain": [
       "CarbonSimulatorUI(<0 positions, 0 trades>, pair='None')"
      ]
     },
     "execution_count": 3,
     "metadata": {},
     "output_type": "execute_result"
    }
   ],
   "source": [
    "Sim = CarbonSimulatorUI(verbose=False, raiseonerror=False)\n",
    "Sim"
   ]
  },
  {
   "cell_type": "code",
   "execution_count": 4,
   "id": "0458c533",
   "metadata": {},
   "outputs": [],
   "source": [
    "#Sim.get_quote_convention(\"ETHUSDC\") # returns \"USDC per ETH\"\n",
    "#Sim.quote_convention_is_reversed(\"ETHUSDC\") # True or False\n",
    "#Sim.set_quote_convention_reversed(\"ETHUSDC\", True) # sets quote convention"
   ]
  },
  {
   "cell_type": "code",
   "execution_count": 5,
   "id": "a889621f",
   "metadata": {},
   "outputs": [
    {
     "data": {
      "text/html": [
       "<div>\n",
       "<style scoped>\n",
       "    .dataframe tbody tr th:only-of-type {\n",
       "        vertical-align: middle;\n",
       "    }\n",
       "\n",
       "    .dataframe tbody tr th {\n",
       "        vertical-align: top;\n",
       "    }\n",
       "\n",
       "    .dataframe thead th {\n",
       "        text-align: right;\n",
       "    }\n",
       "</style>\n",
       "<table border=\"1\" class=\"dataframe\">\n",
       "  <thead>\n",
       "    <tr style=\"text-align: right;\">\n",
       "      <th></th>\n",
       "      <th>id</th>\n",
       "      <th>pair</th>\n",
       "      <th>tkn_name</th>\n",
       "      <th>y_int</th>\n",
       "      <th>y</th>\n",
       "      <th>y_unit</th>\n",
       "      <th>p_start</th>\n",
       "      <th>p_end</th>\n",
       "      <th>p_unit</th>\n",
       "      <th>linked_to_id</th>\n",
       "    </tr>\n",
       "  </thead>\n",
       "  <tbody>\n",
       "    <tr>\n",
       "      <th>0</th>\n",
       "      <td>0</td>\n",
       "      <td>ETHUSDC</td>\n",
       "      <td>ETH</td>\n",
       "      <td>10.000000</td>\n",
       "      <td>10.000000</td>\n",
       "      <td>ETH</td>\n",
       "      <td>2000.000000</td>\n",
       "      <td>2000.000000</td>\n",
       "      <td>USDC per ETH</td>\n",
       "      <td>0</td>\n",
       "    </tr>\n",
       "    <tr>\n",
       "      <th>1</th>\n",
       "      <td>1</td>\n",
       "      <td>ETHUSDC</td>\n",
       "      <td>USDC</td>\n",
       "      <td>10000.000000</td>\n",
       "      <td>10000.000000</td>\n",
       "      <td>USDC</td>\n",
       "      <td>1000.000000</td>\n",
       "      <td>1000.000000</td>\n",
       "      <td>USDC per ETH</td>\n",
       "      <td>1</td>\n",
       "    </tr>\n",
       "  </tbody>\n",
       "</table>\n",
       "</div>"
      ],
      "text/plain": [
       "   id     pair tkn_name         y_int             y y_unit      p_start  \\\n",
       "0   0  ETHUSDC      ETH     10.000000     10.000000    ETH  2000.000000   \n",
       "1   1  ETHUSDC     USDC  10000.000000  10000.000000   USDC  1000.000000   \n",
       "\n",
       "         p_end        p_unit  linked_to_id  \n",
       "0  2000.000000  USDC per ETH             0  \n",
       "1  1000.000000  USDC per ETH             1  "
      ]
     },
     "execution_count": 5,
     "metadata": {},
     "output_type": "execute_result"
    }
   ],
   "source": [
    "Sim.add_sgl_pos(\"ETH\", 10, 2000, 2000, \"ETHUSDC\")\n",
    "Sim.add_sgl_pos(\"USDC\", 10000, 1000, 1000, \"ETHUSDC\")\n",
    "Sim.state()[\"orders\"]"
   ]
  },
  {
   "cell_type": "code",
   "execution_count": 6,
   "id": "2d180aaf",
   "metadata": {},
   "outputs": [
    {
     "data": {
      "text/plain": [
       "CarbonSimulatorUI(<2 positions, 2 trades>, pair='None')"
      ]
     },
     "execution_count": 6,
     "metadata": {},
     "output_type": "execute_result"
    }
   ],
   "source": [
    "Sim.amm_sells(\"ETH\", 1, \"ETHUSDC\")\n",
    "Sim.amm_sells(\"USDC\", 1000, \"ETHUSDC\")\n",
    "Sim"
   ]
  },
  {
   "cell_type": "code",
   "execution_count": 7,
   "id": "6ed45101",
   "metadata": {},
   "outputs": [
    {
     "data": {
      "text/html": [
       "<div>\n",
       "<style scoped>\n",
       "    .dataframe tbody tr th:only-of-type {\n",
       "        vertical-align: middle;\n",
       "    }\n",
       "\n",
       "    .dataframe tbody tr th {\n",
       "        vertical-align: top;\n",
       "    }\n",
       "\n",
       "    .dataframe thead th {\n",
       "        text-align: right;\n",
       "    }\n",
       "</style>\n",
       "<table border=\"1\" class=\"dataframe\">\n",
       "  <thead>\n",
       "    <tr style=\"text-align: right;\">\n",
       "      <th></th>\n",
       "      <th>id</th>\n",
       "      <th>pair</th>\n",
       "      <th>tkn_name</th>\n",
       "      <th>y_int</th>\n",
       "      <th>y</th>\n",
       "      <th>y_unit</th>\n",
       "      <th>p_start</th>\n",
       "      <th>p_end</th>\n",
       "      <th>p_unit</th>\n",
       "      <th>linked_to_id</th>\n",
       "    </tr>\n",
       "  </thead>\n",
       "  <tbody>\n",
       "    <tr>\n",
       "      <th>0</th>\n",
       "      <td>0</td>\n",
       "      <td>ETHUSDC</td>\n",
       "      <td>ETH</td>\n",
       "      <td>10.000000</td>\n",
       "      <td>9.000000</td>\n",
       "      <td>ETH</td>\n",
       "      <td>2000.000000</td>\n",
       "      <td>2000.000000</td>\n",
       "      <td>USDC per ETH</td>\n",
       "      <td>0</td>\n",
       "    </tr>\n",
       "    <tr>\n",
       "      <th>1</th>\n",
       "      <td>1</td>\n",
       "      <td>ETHUSDC</td>\n",
       "      <td>USDC</td>\n",
       "      <td>10000.000000</td>\n",
       "      <td>9000.000000</td>\n",
       "      <td>USDC</td>\n",
       "      <td>1000.000000</td>\n",
       "      <td>1000.000000</td>\n",
       "      <td>USDC per ETH</td>\n",
       "      <td>1</td>\n",
       "    </tr>\n",
       "  </tbody>\n",
       "</table>\n",
       "</div>"
      ],
      "text/plain": [
       "   id     pair tkn_name         y_int            y y_unit      p_start  \\\n",
       "0   0  ETHUSDC      ETH     10.000000     9.000000    ETH  2000.000000   \n",
       "1   1  ETHUSDC     USDC  10000.000000  9000.000000   USDC  1000.000000   \n",
       "\n",
       "         p_end        p_unit  linked_to_id  \n",
       "0  2000.000000  USDC per ETH             0  \n",
       "1  1000.000000  USDC per ETH             1  "
      ]
     },
     "execution_count": 7,
     "metadata": {},
     "output_type": "execute_result"
    }
   ],
   "source": [
    "Sim.state()[\"orders\"]"
   ]
  },
  {
   "cell_type": "code",
   "execution_count": 8,
   "id": "f7af3635",
   "metadata": {},
   "outputs": [
    {
     "data": {
      "text/html": [
       "<div>\n",
       "<style scoped>\n",
       "    .dataframe tbody tr th:only-of-type {\n",
       "        vertical-align: middle;\n",
       "    }\n",
       "\n",
       "    .dataframe tbody tr th {\n",
       "        vertical-align: top;\n",
       "    }\n",
       "\n",
       "    .dataframe thead th {\n",
       "        text-align: right;\n",
       "    }\n",
       "</style>\n",
       "<table border=\"1\" class=\"dataframe\">\n",
       "  <thead>\n",
       "    <tr style=\"text-align: right;\">\n",
       "      <th></th>\n",
       "      <th>uid</th>\n",
       "      <th>id</th>\n",
       "      <th>sub_id</th>\n",
       "      <th>note</th>\n",
       "      <th>aggr</th>\n",
       "      <th>amt1</th>\n",
       "      <th>tkn1</th>\n",
       "      <th>amt2</th>\n",
       "      <th>tkn2</th>\n",
       "      <th>pair</th>\n",
       "      <th>route_indexes</th>\n",
       "      <th>num_trades</th>\n",
       "      <th>price_avg</th>\n",
       "      <th>p_unit</th>\n",
       "    </tr>\n",
       "  </thead>\n",
       "  <tbody>\n",
       "    <tr>\n",
       "      <th>0</th>\n",
       "      <td>0.0</td>\n",
       "      <td>0</td>\n",
       "      <td>0</td>\n",
       "      <td>route #0</td>\n",
       "      <td>False</td>\n",
       "      <td>1.0</td>\n",
       "      <td>ETH</td>\n",
       "      <td>2000.0</td>\n",
       "      <td>USDC</td>\n",
       "      <td>ETHUSDC</td>\n",
       "      <td>0</td>\n",
       "      <td>1</td>\n",
       "      <td>2000.0</td>\n",
       "      <td>USDC per ETH</td>\n",
       "    </tr>\n",
       "    <tr>\n",
       "      <th>0</th>\n",
       "      <td>0</td>\n",
       "      <td>0</td>\n",
       "      <td>None</td>\n",
       "      <td>AMM sells 1ETH buys 2000USDC</td>\n",
       "      <td>True</td>\n",
       "      <td>1.0</td>\n",
       "      <td>ETH</td>\n",
       "      <td>2000.0</td>\n",
       "      <td>USDC</td>\n",
       "      <td>ETHUSDC</td>\n",
       "      <td>[0]</td>\n",
       "      <td>1</td>\n",
       "      <td>2000.0</td>\n",
       "      <td>USDC per ETH</td>\n",
       "    </tr>\n",
       "    <tr>\n",
       "      <th>0</th>\n",
       "      <td>1.0</td>\n",
       "      <td>1</td>\n",
       "      <td>0</td>\n",
       "      <td>route #1</td>\n",
       "      <td>False</td>\n",
       "      <td>1000.0</td>\n",
       "      <td>USDC</td>\n",
       "      <td>1.0</td>\n",
       "      <td>ETH</td>\n",
       "      <td>ETHUSDC</td>\n",
       "      <td>1</td>\n",
       "      <td>1</td>\n",
       "      <td>1000.0</td>\n",
       "      <td>USDC per ETH</td>\n",
       "    </tr>\n",
       "    <tr>\n",
       "      <th>0</th>\n",
       "      <td>1</td>\n",
       "      <td>1</td>\n",
       "      <td>None</td>\n",
       "      <td>AMM sells 1000USDC buys 1ETH</td>\n",
       "      <td>True</td>\n",
       "      <td>1000.0</td>\n",
       "      <td>USDC</td>\n",
       "      <td>1.0</td>\n",
       "      <td>ETH</td>\n",
       "      <td>ETHUSDC</td>\n",
       "      <td>[1]</td>\n",
       "      <td>1</td>\n",
       "      <td>1000.0</td>\n",
       "      <td>USDC per ETH</td>\n",
       "    </tr>\n",
       "  </tbody>\n",
       "</table>\n",
       "</div>"
      ],
      "text/plain": [
       "   uid  id sub_id                          note   aggr    amt1  tkn1    amt2  \\\n",
       "0  0.0   0      0                      route #0  False     1.0   ETH  2000.0   \n",
       "0    0   0   None  AMM sells 1ETH buys 2000USDC   True     1.0   ETH  2000.0   \n",
       "0  1.0   1      0                      route #1  False  1000.0  USDC     1.0   \n",
       "0    1   1   None  AMM sells 1000USDC buys 1ETH   True  1000.0  USDC     1.0   \n",
       "\n",
       "   tkn2     pair route_indexes  num_trades price_avg        p_unit  \n",
       "0  USDC  ETHUSDC             0           1    2000.0  USDC per ETH  \n",
       "0  USDC  ETHUSDC           [0]           1    2000.0  USDC per ETH  \n",
       "0   ETH  ETHUSDC             1           1    1000.0  USDC per ETH  \n",
       "0   ETH  ETHUSDC           [1]           1    1000.0  USDC per ETH  "
      ]
     },
     "execution_count": 8,
     "metadata": {},
     "output_type": "execute_result"
    }
   ],
   "source": [
    "Sim.state()[\"trades\"]"
   ]
  },
  {
   "cell_type": "markdown",
   "id": "fd581c10",
   "metadata": {},
   "source": [
    "## Linked position"
   ]
  },
  {
   "cell_type": "code",
   "execution_count": 9,
   "id": "f5ec4d1d",
   "metadata": {},
   "outputs": [
    {
     "data": {
      "text/plain": [
       "CarbonSimulatorUI(<0 positions, 0 trades>, pair='None')"
      ]
     },
     "execution_count": 9,
     "metadata": {},
     "output_type": "execute_result"
    }
   ],
   "source": [
    "Sim = CarbonSimulatorUI(verbose=False, raiseonerror=False)\n",
    "Sim"
   ]
  },
  {
   "cell_type": "code",
   "execution_count": 10,
   "id": "df6b5178",
   "metadata": {},
   "outputs": [
    {
     "data": {
      "text/plain": [
       "CarbonSimulatorUI(<2 positions, 0 trades>, pair='None')"
      ]
     },
     "execution_count": 10,
     "metadata": {},
     "output_type": "execute_result"
    }
   ],
   "source": [
    "Sim.add_linked_pos(\"ETH\", 10, 2000, 2000, 10000, 1000, 1000, \"ETHUSDC\")\n",
    "Sim"
   ]
  },
  {
   "cell_type": "code",
   "execution_count": 11,
   "id": "963d152c",
   "metadata": {},
   "outputs": [
    {
     "data": {
      "text/plain": [
       "CarbonSimulatorUI(<2 positions, 2 trades>, pair='None')"
      ]
     },
     "execution_count": 11,
     "metadata": {},
     "output_type": "execute_result"
    }
   ],
   "source": [
    "Sim.amm_sells(\"ETH\", 1, \"ETHUSDC\")\n",
    "Sim.amm_sells(\"USDC\", 1000, \"ETHUSDC\")\n",
    "Sim"
   ]
  },
  {
   "cell_type": "code",
   "execution_count": 12,
   "id": "f261224d",
   "metadata": {},
   "outputs": [
    {
     "data": {
      "text/html": [
       "<div>\n",
       "<style scoped>\n",
       "    .dataframe tbody tr th:only-of-type {\n",
       "        vertical-align: middle;\n",
       "    }\n",
       "\n",
       "    .dataframe tbody tr th {\n",
       "        vertical-align: top;\n",
       "    }\n",
       "\n",
       "    .dataframe thead th {\n",
       "        text-align: right;\n",
       "    }\n",
       "</style>\n",
       "<table border=\"1\" class=\"dataframe\">\n",
       "  <thead>\n",
       "    <tr style=\"text-align: right;\">\n",
       "      <th></th>\n",
       "      <th>id</th>\n",
       "      <th>pair</th>\n",
       "      <th>tkn_name</th>\n",
       "      <th>y_int</th>\n",
       "      <th>y</th>\n",
       "      <th>y_unit</th>\n",
       "      <th>p_start</th>\n",
       "      <th>p_end</th>\n",
       "      <th>p_unit</th>\n",
       "      <th>linked_to_id</th>\n",
       "    </tr>\n",
       "  </thead>\n",
       "  <tbody>\n",
       "    <tr>\n",
       "      <th>0</th>\n",
       "      <td>0</td>\n",
       "      <td>ETHUSDC</td>\n",
       "      <td>ETH</td>\n",
       "      <td>10.000000</td>\n",
       "      <td>10.000000</td>\n",
       "      <td>ETH</td>\n",
       "      <td>2000.000000</td>\n",
       "      <td>2000.000000</td>\n",
       "      <td>USDC per ETH</td>\n",
       "      <td>1</td>\n",
       "    </tr>\n",
       "    <tr>\n",
       "      <th>1</th>\n",
       "      <td>1</td>\n",
       "      <td>ETHUSDC</td>\n",
       "      <td>USDC</td>\n",
       "      <td>12000.000000</td>\n",
       "      <td>11000.000000</td>\n",
       "      <td>USDC</td>\n",
       "      <td>1000.000000</td>\n",
       "      <td>1000.000000</td>\n",
       "      <td>USDC per ETH</td>\n",
       "      <td>0</td>\n",
       "    </tr>\n",
       "  </tbody>\n",
       "</table>\n",
       "</div>"
      ],
      "text/plain": [
       "   id     pair tkn_name         y_int             y y_unit      p_start  \\\n",
       "0   0  ETHUSDC      ETH     10.000000     10.000000    ETH  2000.000000   \n",
       "1   1  ETHUSDC     USDC  12000.000000  11000.000000   USDC  1000.000000   \n",
       "\n",
       "         p_end        p_unit  linked_to_id  \n",
       "0  2000.000000  USDC per ETH             1  \n",
       "1  1000.000000  USDC per ETH             0  "
      ]
     },
     "execution_count": 12,
     "metadata": {},
     "output_type": "execute_result"
    }
   ],
   "source": [
    "Sim.state()[\"orders\"]"
   ]
  },
  {
   "cell_type": "code",
   "execution_count": 13,
   "id": "ed439ac4",
   "metadata": {},
   "outputs": [
    {
     "data": {
      "text/html": [
       "<div style='color:green; font-size: 150%'><p><strong>INFO</strong></p>\n",
       "<p>this is now fixed</p></div>"
      ],
      "text/plain": [
       "<IPython.core.display.HTML object>"
      ]
     },
     "execution_count": 13,
     "metadata": {},
     "output_type": "execute_result"
    }
   ],
   "source": [
    "ji(\"this is now fixed\")"
   ]
  },
  {
   "cell_type": "code",
   "execution_count": 14,
   "id": "30871338",
   "metadata": {},
   "outputs": [
    {
     "data": {
      "text/html": [
       "<div>\n",
       "<style scoped>\n",
       "    .dataframe tbody tr th:only-of-type {\n",
       "        vertical-align: middle;\n",
       "    }\n",
       "\n",
       "    .dataframe tbody tr th {\n",
       "        vertical-align: top;\n",
       "    }\n",
       "\n",
       "    .dataframe thead th {\n",
       "        text-align: right;\n",
       "    }\n",
       "</style>\n",
       "<table border=\"1\" class=\"dataframe\">\n",
       "  <thead>\n",
       "    <tr style=\"text-align: right;\">\n",
       "      <th></th>\n",
       "      <th>uid</th>\n",
       "      <th>id</th>\n",
       "      <th>sub_id</th>\n",
       "      <th>note</th>\n",
       "      <th>aggr</th>\n",
       "      <th>amt1</th>\n",
       "      <th>tkn1</th>\n",
       "      <th>amt2</th>\n",
       "      <th>tkn2</th>\n",
       "      <th>pair</th>\n",
       "      <th>route_indexes</th>\n",
       "      <th>num_trades</th>\n",
       "      <th>price_avg</th>\n",
       "      <th>p_unit</th>\n",
       "    </tr>\n",
       "  </thead>\n",
       "  <tbody>\n",
       "    <tr>\n",
       "      <th>0</th>\n",
       "      <td>0.0</td>\n",
       "      <td>0</td>\n",
       "      <td>0</td>\n",
       "      <td>route #0</td>\n",
       "      <td>False</td>\n",
       "      <td>1.0</td>\n",
       "      <td>ETH</td>\n",
       "      <td>2000.0</td>\n",
       "      <td>USDC</td>\n",
       "      <td>ETHUSDC</td>\n",
       "      <td>0</td>\n",
       "      <td>1</td>\n",
       "      <td>2000.0</td>\n",
       "      <td>USDC per ETH</td>\n",
       "    </tr>\n",
       "    <tr>\n",
       "      <th>0</th>\n",
       "      <td>0</td>\n",
       "      <td>0</td>\n",
       "      <td>None</td>\n",
       "      <td>AMM sells 1ETH buys 2000USDC</td>\n",
       "      <td>True</td>\n",
       "      <td>1.0</td>\n",
       "      <td>ETH</td>\n",
       "      <td>2000.0</td>\n",
       "      <td>USDC</td>\n",
       "      <td>ETHUSDC</td>\n",
       "      <td>[0]</td>\n",
       "      <td>1</td>\n",
       "      <td>2000.0</td>\n",
       "      <td>USDC per ETH</td>\n",
       "    </tr>\n",
       "    <tr>\n",
       "      <th>0</th>\n",
       "      <td>1.0</td>\n",
       "      <td>1</td>\n",
       "      <td>0</td>\n",
       "      <td>route #1</td>\n",
       "      <td>False</td>\n",
       "      <td>1000.0</td>\n",
       "      <td>USDC</td>\n",
       "      <td>1.0</td>\n",
       "      <td>ETH</td>\n",
       "      <td>ETHUSDC</td>\n",
       "      <td>1</td>\n",
       "      <td>1</td>\n",
       "      <td>1000.0</td>\n",
       "      <td>USDC per ETH</td>\n",
       "    </tr>\n",
       "    <tr>\n",
       "      <th>0</th>\n",
       "      <td>1</td>\n",
       "      <td>1</td>\n",
       "      <td>None</td>\n",
       "      <td>AMM sells 1000USDC buys 1ETH</td>\n",
       "      <td>True</td>\n",
       "      <td>1000.0</td>\n",
       "      <td>USDC</td>\n",
       "      <td>1.0</td>\n",
       "      <td>ETH</td>\n",
       "      <td>ETHUSDC</td>\n",
       "      <td>[1]</td>\n",
       "      <td>1</td>\n",
       "      <td>1000.0</td>\n",
       "      <td>USDC per ETH</td>\n",
       "    </tr>\n",
       "  </tbody>\n",
       "</table>\n",
       "</div>"
      ],
      "text/plain": [
       "   uid  id sub_id                          note   aggr    amt1  tkn1    amt2  \\\n",
       "0  0.0   0      0                      route #0  False     1.0   ETH  2000.0   \n",
       "0    0   0   None  AMM sells 1ETH buys 2000USDC   True     1.0   ETH  2000.0   \n",
       "0  1.0   1      0                      route #1  False  1000.0  USDC     1.0   \n",
       "0    1   1   None  AMM sells 1000USDC buys 1ETH   True  1000.0  USDC     1.0   \n",
       "\n",
       "   tkn2     pair route_indexes  num_trades price_avg        p_unit  \n",
       "0  USDC  ETHUSDC             0           1    2000.0  USDC per ETH  \n",
       "0  USDC  ETHUSDC           [0]           1    2000.0  USDC per ETH  \n",
       "0   ETH  ETHUSDC             1           1    1000.0  USDC per ETH  \n",
       "0   ETH  ETHUSDC           [1]           1    1000.0  USDC per ETH  "
      ]
     },
     "execution_count": 14,
     "metadata": {},
     "output_type": "execute_result"
    }
   ],
   "source": [
    "Sim.state()[\"trades\"]"
   ]
  },
  {
   "cell_type": "code",
   "execution_count": null,
   "id": "10a25c9a",
   "metadata": {},
   "outputs": [],
   "source": []
  }
 ],
 "metadata": {
  "jupytext": {
   "formats": "ipynb,py:light"
  },
  "kernelspec": {
   "display_name": "Python 3",
   "language": "python",
   "name": "python3"
  },
  "language_info": {
   "codemirror_mode": {
    "name": "ipython",
    "version": 3
   },
   "file_extension": ".py",
   "mimetype": "text/x-python",
   "name": "python",
   "nbconvert_exporter": "python",
   "pygments_lexer": "ipython3",
   "version": "3.8.8"
  }
 },
 "nbformat": 4,
 "nbformat_minor": 5
}
