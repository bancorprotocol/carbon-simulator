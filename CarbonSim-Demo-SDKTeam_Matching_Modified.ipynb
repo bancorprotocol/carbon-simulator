{
 "cells": [
  {
   "cell_type": "code",
   "execution_count": 77,
   "id": "81b04bbc",
   "metadata": {},
   "outputs": [
    {
     "name": "stdout",
     "output_type": "stream",
     "text": [
      "Carbon Version v2.4.1-BETA1 (17/Mar/2023)\n"
     ]
    }
   ],
   "source": [
    "from carbon import CarbonSimulatorUI, __version__, __date__\n",
    "print(f\"Carbon Version v{__version__} ({__date__})\", )\n",
    "import json\n",
    "import requests\n",
    "import pandas as pd\n",
    "from decimal import Decimal\n",
    "from carbon.carbon_order_ui import CarbonOrderUI\n",
    "from carbon.sdk.carbonsdk import EncodedOrder\n",
    "from benchmark import alphaxutils"
   ]
  },
  {
   "cell_type": "markdown",
   "id": "834ae17a",
   "metadata": {},
   "source": [
    "# Carbon Simulation - Demo TestSuite\n",
    "\n",
    "This book is for creating test scenarios for Tenderly Contracts"
   ]
  },
  {
   "attachments": {},
   "cell_type": "markdown",
   "id": "7b680781",
   "metadata": {},
   "source": [
    "#### Basic token getter for decimals"
   ]
  },
  {
   "cell_type": "code",
   "execution_count": 2,
   "id": "3956611a",
   "metadata": {},
   "outputs": [],
   "source": [
    "r = requests.get('https://tokens.coingecko.com/uniswap/all.json')\n",
    "cgtokens = pd.DataFrame(eval(r.text)['tokens'])\n",
    "\n",
    "tokenDecimals = {}\n",
    "tokenDecimals['ETH'] = 18\n",
    "for i in cgtokens.index:\n",
    "    tokenDecimals[cgtokens.symbol[i]] = int(cgtokens.decimals[i])"
   ]
  },
  {
   "attachments": {},
   "cell_type": "markdown",
   "id": "62dab5a9",
   "metadata": {},
   "source": [
    "## Enter tkn0 and tkn1"
   ]
  },
  {
   "cell_type": "code",
   "execution_count": 3,
   "id": "1924c15b",
   "metadata": {},
   "outputs": [
    {
     "name": "stdout",
     "output_type": "stream",
     "text": [
      "ETH 18\n",
      "USDC 6\n"
     ]
    }
   ],
   "source": [
    "tkn0 = \"ETH\"  #base token\n",
    "tkn1 = \"USDC\" #quote token\n",
    "\n",
    "token0Decimals = tokenDecimals[tkn0]\n",
    "token1Decimals = tokenDecimals[tkn1]\n",
    "delta_tokenDecimals = token1Decimals - token0Decimals\n",
    "print(tkn0, token0Decimals)\n",
    "print(tkn1, token1Decimals)"
   ]
  },
  {
   "attachments": {},
   "cell_type": "markdown",
   "id": "627a65ea",
   "metadata": {},
   "source": [
    "## Initialize Simulator instance"
   ]
  },
  {
   "cell_type": "code",
   "execution_count": 56,
   "id": "eebc356d",
   "metadata": {},
   "outputs": [
    {
     "data": {
      "text/plain": [
       "CarbonSimulatorUI(<0 orders, 0 trades>, pair='ETH/USDC', mm='fast', xf=True)"
      ]
     },
     "execution_count": 56,
     "metadata": {},
     "output_type": "execute_result"
    }
   ],
   "source": [
    "Sim = CarbonSimulatorUI(pair=f\"{tkn0}/{tkn1}\", verbose=False, matching_method='fast')  # important to denote fast matching. pairs are specified base/quote and strategy is entered in quote per base units\n",
    "Sim"
   ]
  },
  {
   "attachments": {},
   "cell_type": "markdown",
   "id": "a18398d8",
   "metadata": {},
   "source": [
    "## Add strategies"
   ]
  },
  {
   "cell_type": "code",
   "execution_count": 57,
   "id": "761009d3",
   "metadata": {},
   "outputs": [],
   "source": [
    "for i in range(2):\n",
    "    Sim.add_strategy(\n",
    "        tkn=f'{tkn0}',          # specify sell side tkn\n",
    "        amt_sell=20 * 10**token0Decimals,            # liqudity amount of tkn to sell\n",
    "        psell_start=2000 * 10**delta_tokenDecimals,       # price to start selling in quote per base units\n",
    "        psell_end=2500 * 10**delta_tokenDecimals,         # price to stop selling in quote per base units\n",
    "        amt_buy=10000 * 10**token1Decimals,          # liqudity amount of paired tkn to buy\n",
    "        pbuy_start=1700 * 10**delta_tokenDecimals,        # price to start buying in quote per base units\n",
    "        pbuy_end=1000 * 10**delta_tokenDecimals,          # price to stop buying in quote per base units\n",
    "        pair=f\"{tkn0}/{tkn1}\",   # pair\n",
    "        # interpret_decimals= True,\n",
    "        # tkn_decimals = token0Decimals,\n",
    "        # tkn_other_decimals = token1Decimals,\n",
    "    )"
   ]
  },
  {
   "cell_type": "code",
   "execution_count": 58,
   "id": "b2d78d2d",
   "metadata": {},
   "outputs": [],
   "source": [
    "# for i in range(2):\n",
    "#     Sim.add_strategy(\n",
    "#         tkn=f'{tkn0}',          # specify sell side tkn\n",
    "#         amt_sell=2_000_000_000,            # liqudity amount of tkn to sell\n",
    "#         psell_start=4.7e-10,       # price to start selling in quote per base units\n",
    "#         psell_end=5e-10,         # price to stop selling in quote per base units\n",
    "#         amt_buy=1,          # liqudity amount of paired tkn to buy\n",
    "#         pbuy_start=4.5e-10,        # price to start buying in quote per base units\n",
    "#         pbuy_end=4e-10,          # price to stop buying in quote per base units\n",
    "#         pair=f\"{tkn0}/{tkn1}\"   # pair\n",
    "#     )['orders']"
   ]
  },
  {
   "attachments": {},
   "cell_type": "markdown",
   "id": "8d1de87d",
   "metadata": {},
   "source": [
    "## Show all strategies"
   ]
  },
  {
   "cell_type": "code",
   "execution_count": 59,
   "id": "7b1fe463",
   "metadata": {},
   "outputs": [
    {
     "data": {
      "text/plain": [
       "{0: CarbonOrderUI(pair=P('ETH/USDC'), tkn=ETH, B=20000.0, S=2360.679774997894, yint=2e+19, y=2e+19, id=0, linked=<1>),\n",
       " 1: CarbonOrderUI(pair=P('ETH/USDC'), tkn=USDC, B=3.1622776601683795e-05, S=9.608279654492807e-06, yint=10000000000.0, y=10000000000.0, id=1, linked=<0>),\n",
       " 2: CarbonOrderUI(pair=P('ETH/USDC'), tkn=ETH, B=20000.0, S=2360.679774997894, yint=2e+19, y=2e+19, id=2, linked=<3>),\n",
       " 3: CarbonOrderUI(pair=P('ETH/USDC'), tkn=USDC, B=3.1622776601683795e-05, S=9.608279654492807e-06, yint=10000000000.0, y=10000000000.0, id=3, linked=<2>)}"
      ]
     },
     "execution_count": 59,
     "metadata": {},
     "output_type": "execute_result"
    }
   ],
   "source": [
    "Sim.state()['orderuis']"
   ]
  },
  {
   "cell_type": "code",
   "execution_count": 62,
   "id": "1e3d144b",
   "metadata": {},
   "outputs": [
    {
     "data": {
      "text/html": [
       "<div>\n",
       "<style scoped>\n",
       "    .dataframe tbody tr th:only-of-type {\n",
       "        vertical-align: middle;\n",
       "    }\n",
       "\n",
       "    .dataframe tbody tr th {\n",
       "        vertical-align: top;\n",
       "    }\n",
       "\n",
       "    .dataframe thead th {\n",
       "        text-align: right;\n",
       "    }\n",
       "</style>\n",
       "<table border=\"1\" class=\"dataframe\">\n",
       "  <thead>\n",
       "    <tr style=\"text-align: right;\">\n",
       "      <th></th>\n",
       "      <th>id</th>\n",
       "      <th>pair</th>\n",
       "      <th>tkn</th>\n",
       "      <th>y_int</th>\n",
       "      <th>y</th>\n",
       "      <th>y_unit</th>\n",
       "      <th>disabled</th>\n",
       "      <th>p_start</th>\n",
       "      <th>p_end</th>\n",
       "      <th>p_marg</th>\n",
       "      <th>p_unit</th>\n",
       "      <th>lid</th>\n",
       "      <th>cid</th>\n",
       "    </tr>\n",
       "  </thead>\n",
       "  <tbody>\n",
       "    <tr>\n",
       "      <th>0</th>\n",
       "      <td>0</td>\n",
       "      <td>ETHUSDC</td>\n",
       "      <td>ETH</td>\n",
       "      <td>2.000000e+19</td>\n",
       "      <td>2.000000e+19</td>\n",
       "      <td>ETH</td>\n",
       "      <td>False</td>\n",
       "      <td>2.000000e-09</td>\n",
       "      <td>2.500000e-09</td>\n",
       "      <td>2.000000e-09</td>\n",
       "      <td>USDC per ETH</td>\n",
       "      <td>1</td>\n",
       "      <td></td>\n",
       "    </tr>\n",
       "    <tr>\n",
       "      <th>1</th>\n",
       "      <td>1</td>\n",
       "      <td>ETHUSDC</td>\n",
       "      <td>USDC</td>\n",
       "      <td>1.000000e+10</td>\n",
       "      <td>1.000000e+10</td>\n",
       "      <td>USDC</td>\n",
       "      <td>False</td>\n",
       "      <td>1.700000e-09</td>\n",
       "      <td>1.000000e-09</td>\n",
       "      <td>1.700000e-09</td>\n",
       "      <td>USDC per ETH</td>\n",
       "      <td>0</td>\n",
       "      <td></td>\n",
       "    </tr>\n",
       "    <tr>\n",
       "      <th>2</th>\n",
       "      <td>2</td>\n",
       "      <td>ETHUSDC</td>\n",
       "      <td>ETH</td>\n",
       "      <td>2.000000e+19</td>\n",
       "      <td>2.000000e+19</td>\n",
       "      <td>ETH</td>\n",
       "      <td>False</td>\n",
       "      <td>2.000000e-09</td>\n",
       "      <td>2.500000e-09</td>\n",
       "      <td>2.000000e-09</td>\n",
       "      <td>USDC per ETH</td>\n",
       "      <td>3</td>\n",
       "      <td></td>\n",
       "    </tr>\n",
       "    <tr>\n",
       "      <th>3</th>\n",
       "      <td>3</td>\n",
       "      <td>ETHUSDC</td>\n",
       "      <td>USDC</td>\n",
       "      <td>1.000000e+10</td>\n",
       "      <td>1.000000e+10</td>\n",
       "      <td>USDC</td>\n",
       "      <td>False</td>\n",
       "      <td>1.700000e-09</td>\n",
       "      <td>1.000000e-09</td>\n",
       "      <td>1.700000e-09</td>\n",
       "      <td>USDC per ETH</td>\n",
       "      <td>2</td>\n",
       "      <td></td>\n",
       "    </tr>\n",
       "  </tbody>\n",
       "</table>\n",
       "</div>"
      ],
      "text/plain": [
       "   id     pair   tkn         y_int             y y_unit  disabled  \\\n",
       "0   0  ETHUSDC   ETH  2.000000e+19  2.000000e+19    ETH     False   \n",
       "1   1  ETHUSDC  USDC  1.000000e+10  1.000000e+10   USDC     False   \n",
       "2   2  ETHUSDC   ETH  2.000000e+19  2.000000e+19    ETH     False   \n",
       "3   3  ETHUSDC  USDC  1.000000e+10  1.000000e+10   USDC     False   \n",
       "\n",
       "        p_start         p_end        p_marg        p_unit  lid cid  \n",
       "0  2.000000e-09  2.500000e-09  2.000000e-09  USDC per ETH    1      \n",
       "1  1.700000e-09  1.000000e-09  1.700000e-09  USDC per ETH    0      \n",
       "2  2.000000e-09  2.500000e-09  2.000000e-09  USDC per ETH    3      \n",
       "3  1.700000e-09  1.000000e-09  1.700000e-09  USDC per ETH    2      "
      ]
     },
     "execution_count": 62,
     "metadata": {},
     "output_type": "execute_result"
    }
   ],
   "source": [
    "Sim.state()['orders']"
   ]
  },
  {
   "cell_type": "code",
   "execution_count": 61,
   "id": "a0a81842",
   "metadata": {},
   "outputs": [
    {
     "data": {
      "text/plain": [
       "yzABSdata(y=2e+37, z=2e+37, A=664472284688848940695552, B=5629499534213120000000000, S=281474976710656)"
      ]
     },
     "execution_count": 61,
     "metadata": {},
     "output_type": "execute_result"
    }
   ],
   "source": [
    "order = Sim.state()['orderuis'][0]\n",
    "order.pair.set_decimals(dct=tokenDecimals)\n",
    "order.yzABS(sx=48)"
   ]
  },
  {
   "cell_type": "code",
   "execution_count": 84,
   "id": "87b559f0",
   "metadata": {},
   "outputs": [
    {
     "data": {
      "text/plain": [
       "7748835983126188"
      ]
     },
     "execution_count": 84,
     "metadata": {},
     "output_type": "execute_result"
    }
   ],
   "source": [
    "order = Sim.state()['orderuis'][0]\n",
    "alphaxutils.encodeFloat(int(order.B*10**token0Decimals))"
   ]
  },
  {
   "cell_type": "code",
   "execution_count": 80,
   "id": "c7481c5f",
   "metadata": {},
   "outputs": [
    {
     "data": {
      "text/plain": [
       "2360.6797749978723"
      ]
     },
     "execution_count": 80,
     "metadata": {},
     "output_type": "execute_result"
    }
   ],
   "source": [
    "EncodedOrder('ETH',20000000000000000000,\n",
    "   20000000000000000000,\n",
    "   3539924399406984,\n",
    "   4393923342499840).A_"
   ]
  },
  {
   "cell_type": "code",
   "execution_count": 81,
   "id": "9428141c",
   "metadata": {},
   "outputs": [
    {
     "data": {
      "text/plain": [
       "20000.0"
      ]
     },
     "execution_count": 81,
     "metadata": {},
     "output_type": "execute_result"
    }
   ],
   "source": [
    "EncodedOrder('ETH',20000000000000000000,\n",
    "   20000000000000000000,\n",
    "   3539924399406984,\n",
    "   4393923342499840).B_"
   ]
  },
  {
   "cell_type": "code",
   "execution_count": null,
   "id": "cc429ac5",
   "metadata": {},
   "outputs": [
    {
     "data": {
      "text/plain": [
       "9.608279654571561e-06"
      ]
     },
     "metadata": {},
     "output_type": "display_data"
    }
   ],
   "source": [
    "EncodedOrder('USDC',10000000000, 10000000000, 2704490292, 8901020307).A_"
   ]
  },
  {
   "cell_type": "code",
   "execution_count": 49,
   "id": "a1b02c89",
   "metadata": {},
   "outputs": [
    {
     "data": {
      "text/plain": [
       "3.1622776599959934e-05"
      ]
     },
     "execution_count": 49,
     "metadata": {},
     "output_type": "execute_result"
    }
   ],
   "source": [
    "EncodedOrder('USDC',10000000000, 10000000000, 2704490292, 8901020307).B_"
   ]
  },
  {
   "cell_type": "code",
   "execution_count": 31,
   "id": "516bbdc5",
   "metadata": {},
   "outputs": [
    {
     "ename": "TypeError",
     "evalue": "EncodedOrder.encode() got an unexpected keyword argument 'A'",
     "output_type": "error",
     "traceback": [
      "\u001b[1;31m---------------------------------------------------------------------------\u001b[0m",
      "\u001b[1;31mTypeError\u001b[0m                                 Traceback (most recent call last)",
      "Cell \u001b[1;32mIn[31], line 1\u001b[0m\n\u001b[1;32m----> 1\u001b[0m EncodedOrder\u001b[39m.\u001b[39;49mencode(y\u001b[39m=\u001b[39;49m\u001b[39m2e+19\u001b[39;49m, z\u001b[39m=\u001b[39;49m\u001b[39m2e+19\u001b[39;49m, A\u001b[39m=\u001b[39;49m\u001b[39m664472284688849664\u001b[39;49m, B\u001b[39m=\u001b[39;49m\u001b[39m5629499534213120000\u001b[39;49m, S\u001b[39m=\u001b[39;49m\u001b[39m281474976710656\u001b[39;49m)\n",
      "\u001b[1;31mTypeError\u001b[0m: EncodedOrder.encode() got an unexpected keyword argument 'A'"
     ]
    }
   ],
   "source": [
    "EncodedOrder.encode(y=2e+19, z=2e+19, A=664472284688849664, B=5629499534213120000, S=281474976710656)"
   ]
  },
  {
   "cell_type": "code",
   "execution_count": 24,
   "id": "0f7faf6d",
   "metadata": {},
   "outputs": [
    {
     "ename": "TypeError",
     "evalue": "EncodedOrder.from_sdk() missing 1 required positional argument: 'order'",
     "output_type": "error",
     "traceback": [
      "\u001b[1;31m---------------------------------------------------------------------------\u001b[0m",
      "\u001b[1;31mTypeError\u001b[0m                                 Traceback (most recent call last)",
      "Cell \u001b[1;32mIn[24], line 1\u001b[0m\n\u001b[1;32m----> 1\u001b[0m EncodedOrder\u001b[39m.\u001b[39;49mfrom_sdk(Sim\u001b[39m.\u001b[39;49mstate()[\u001b[39m'\u001b[39;49m\u001b[39morderuis\u001b[39;49m\u001b[39m'\u001b[39;49m][\u001b[39m0\u001b[39;49m])\n",
      "\u001b[1;31mTypeError\u001b[0m: EncodedOrder.from_sdk() missing 1 required positional argument: 'order'"
     ]
    }
   ],
   "source": [
    "EncodedOrder.from_sdk(Sim.state()['orderuis'][0])"
   ]
  },
  {
   "cell_type": "code",
   "execution_count": null,
   "id": "a3fa6937",
   "metadata": {},
   "outputs": [],
   "source": [
    "# int(Sim.orders[0].B *2**48)\n",
    "int(Sim.orders[0].S *2**48/2)"
   ]
  },
  {
   "cell_type": "code",
   "execution_count": null,
   "id": "c71a9fda",
   "metadata": {},
   "outputs": [],
   "source": [
    "3539924399406984"
   ]
  },
  {
   "cell_type": "code",
   "execution_count": 28,
   "id": "b5aacf2c",
   "metadata": {},
   "outputs": [
    {
     "name": "stdout",
     "output_type": "stream",
     "text": [
      "0 yzABSdata(y=2e+19, z=2e+19, A=664472284688849664, B=5629499534213120000, S=281474976710656)\n",
      "1 yzABSdata(y=10000000000.0, z=10000000000.0, A=2704490291, B=8901020307, S=281474976710656)\n",
      "2 yzABSdata(y=2e+19, z=2e+19, A=664472284688849664, B=5629499534213120000, S=281474976710656)\n",
      "3 yzABSdata(y=10000000000.0, z=10000000000.0, A=2704490291, B=8901020307, S=281474976710656)\n"
     ]
    }
   ],
   "source": [
    "for key in Sim.orders.keys():\n",
    "    test_order = CarbonOrderUI.from_order(Sim.orders[key])\n",
    "    test_order.pair.set_decimals(dct=tokenDecimals)\n",
    "    print(key, test_order.yzABS(sx=48))"
   ]
  },
  {
   "cell_type": "code",
   "execution_count": null,
   "id": "d144dfbb",
   "metadata": {},
   "outputs": [],
   "source": []
  },
  {
   "cell_type": "code",
   "execution_count": null,
   "id": "5a874de0",
   "metadata": {},
   "outputs": [],
   "source": [
    "break"
   ]
  },
  {
   "cell_type": "code",
   "execution_count": null,
   "id": "924dfd4a",
   "metadata": {},
   "outputs": [],
   "source": [
    "8901020307\n",
    "8901020307"
   ]
  },
  {
   "cell_type": "code",
   "execution_count": null,
   "id": "61c81f7a",
   "metadata": {},
   "outputs": [],
   "source": [
    "3539924399406984\n",
    "2595594862065819"
   ]
  },
  {
   "attachments": {},
   "cell_type": "markdown",
   "id": "fa1d807f",
   "metadata": {},
   "source": [
    "## Do Trades in each direction\n",
    "- Note that `execute=False` so each of these trades behave as if they are independent - i.e. the order balances do NOT change post-trade"
   ]
  },
  {
   "attachments": {},
   "cell_type": "markdown",
   "id": "e6153c68",
   "metadata": {},
   "source": [
    "## Enter an amount"
   ]
  },
  {
   "cell_type": "code",
   "execution_count": null,
   "id": "3d9692cf",
   "metadata": {},
   "outputs": [],
   "source": [
    "amount = 0.000005"
   ]
  },
  {
   "attachments": {},
   "cell_type": "markdown",
   "id": "a70ff6a4",
   "metadata": {},
   "source": [
    "## APP - \"Buy ETH with USDC\" box"
   ]
  },
  {
   "cell_type": "code",
   "execution_count": null,
   "id": "658a022b",
   "metadata": {},
   "outputs": [],
   "source": [
    "# Enter 1 USDC into the \"BUY ETH for USDC\" box\n",
    "tbSou10 = Sim.amm_buys(f\"{tkn1}\", amount, execute=False, support_partial=False) # route_trade_by_source  #note the variable name \"tbSou10\" == {tradeBySource}{sourceToken}{targetToken}. e.g. in the TokensTraded event tkn1 should be the source token\n",
    "tbSou10['trades']"
   ]
  },
  {
   "cell_type": "code",
   "execution_count": null,
   "id": "b3beb402",
   "metadata": {},
   "outputs": [],
   "source": [
    "amount = 500000000"
   ]
  },
  {
   "cell_type": "code",
   "execution_count": null,
   "id": "1468b62b",
   "metadata": {},
   "outputs": [],
   "source": [
    "# Enter 1 ETH into the \"BUY ETH for USDC\" box\n",
    "tbTar10 = Sim.amm_sells(f\"{tkn0}\", amount, execute=False, support_partial=False) # route_trade_by_target\n",
    "tbTar10['trades']"
   ]
  },
  {
   "attachments": {},
   "cell_type": "markdown",
   "id": "cba9f62d",
   "metadata": {},
   "source": [
    "## APP - \"Sell ETH with USDC\" box"
   ]
  },
  {
   "cell_type": "code",
   "execution_count": null,
   "id": "909d5483",
   "metadata": {},
   "outputs": [],
   "source": [
    "amount = 1170038356"
   ]
  },
  {
   "cell_type": "code",
   "execution_count": null,
   "id": "658a022b",
   "metadata": {},
   "outputs": [],
   "source": [
    "# Enter 1 ETH into the \"SELL ETH for USDC\" box\n",
    "tbSou01 = Sim.amm_buys(f\"{tkn0}\", amount, execute=False, support_partial=False) # route_trade_by_source\n",
    "tbSou01['trades']"
   ]
  },
  {
   "cell_type": "code",
   "execution_count": null,
   "id": "83abde13",
   "metadata": {},
   "outputs": [],
   "source": [
    "# Enter 1 USDC into the \"SELL ETH for USDC\" box\n",
    "tbTar01 = Sim.amm_sells(f\"{tkn1}\", amount, execute=False, support_partial=False) # route_trade_by_target\n",
    "tbTar01['trades']"
   ]
  },
  {
   "attachments": {},
   "cell_type": "markdown",
   "id": "9336e134",
   "metadata": {},
   "source": [
    "## Summary of trades"
   ]
  },
  {
   "cell_type": "code",
   "execution_count": null,
   "id": "71f94206",
   "metadata": {},
   "outputs": [],
   "source": [
    "Sim.state()[\"trades\"].query(\"subid=='A'\")"
   ]
  }
 ],
 "metadata": {
  "kernelspec": {
   "display_name": "Python 3",
   "language": "python",
   "name": "python3"
  },
  "language_info": {
   "codemirror_mode": {
    "name": "ipython",
    "version": 3
   },
   "file_extension": ".py",
   "mimetype": "text/x-python",
   "name": "python",
   "nbconvert_exporter": "python",
   "pygments_lexer": "ipython3",
   "version": "3.10.8"
  },
  "vscode": {
   "interpreter": {
    "hash": "43f221103f953d3e0d93840edd77be981e5a5e0e42edc048e3de5278c46a3390"
   }
  }
 },
 "nbformat": 4,
 "nbformat_minor": 5
}
