{
 "cells": [
  {
   "cell_type": "code",
   "execution_count": 21,
   "metadata": {},
   "outputs": [],
   "source": [
    "from alpha_x_router_clean_GenII import mpr_matchBySource\n",
    "from alpha_x_router_clean_GenII import mpr_matchByTarget\n",
    "\n",
    "from decimal import Decimal\n",
    "from benchmark import alphaxutils\n",
    "\n",
    "Order = alphaxutils.Order"
   ]
  },
  {
   "cell_type": "code",
   "execution_count": 22,
   "metadata": {},
   "outputs": [],
   "source": [
    "threshold_orders = 6\n",
    "support_partial = True\n",
    "\n",
    "# ETH side orders\n",
    "# # inputAmount = Decimal('10000') # by Target = USDC amount\n",
    "# inputAmount = Decimal('3') # by Source = ETH amount\n",
    "# order_params = {\n",
    "#     'liquidity':Decimal('5'),\n",
    "#     'highestRate':Decimal('0.0005'), # 2000\n",
    "#     'lowestRate':Decimal('0.0004'),  # 2500\n",
    "#     'marginalRate':Decimal('0.0005'),\n",
    "#     }\n",
    "# order_params2 = {\n",
    "#     'liquidity':Decimal('4'),\n",
    "#     'highestRate':Decimal('0.0006'), # 1666\n",
    "#     'lowestRate':Decimal('0.0005'),  # 2000\n",
    "#     'marginalRate':Decimal('0.0006'),\n",
    "#     }\n",
    "\n",
    "# USDC side orders (approx same)\n",
    "# # inputAmount = Decimal('5')  # by Target = ETH amount\n",
    "inputAmount = Decimal('30000')  # by Source = USDC amount\n",
    "order_params = {\n",
    "    'liquidity':Decimal('20000'),\n",
    "    'highestRate':Decimal('2500'),\n",
    "    'lowestRate':Decimal('2000'),\n",
    "    'marginalRate':Decimal('2500'),\n",
    "    }\n",
    "order_params2 = {\n",
    "    'liquidity':Decimal('15000'),\n",
    "    'highestRate':Decimal('2000'),\n",
    "    'lowestRate':Decimal('1666'),\n",
    "    'marginalRate':Decimal('2000'),\n",
    "    }\n",
    "\n",
    "orders = []\n",
    "for i in range(1):\n",
    "    orders += [Order(order_params)]\n",
    "    orders += [Order(order_params2)]"
   ]
  },
  {
   "cell_type": "code",
   "execution_count": 23,
   "metadata": {},
   "outputs": [
    {
     "data": {
      "text/plain": [
       "{0: {'input': Decimal('20000'),\n",
       "  'output': Decimal('8.9442719099991587856366946749251049417624734384460')},\n",
       " 1: {'input': Decimal('9999.9999999969102285226240366887726696262319533221'),\n",
       "  'output': Decimal('5.3090266302946238580760035437890941734466000245681')}}"
      ]
     },
     "execution_count": 23,
     "metadata": {},
     "output_type": "execute_result"
    }
   ],
   "source": [
    "mpr_matchBySource(inputAmount, orders, threshold_orders, support_partial)"
   ]
  },
  {
   "cell_type": "code",
   "execution_count": 24,
   "metadata": {},
   "outputs": [
    {
     "name": "stdout",
     "output_type": "stream",
     "text": [
      "** Partial Match (0.05721%) **\n"
     ]
    },
    {
     "data": {
      "text/plain": [
       "{0: {'input': Decimal('8.9442719099991587856366946749251049417624734384460'),\n",
       "  'output': Decimal('20000')},\n",
       " 1: {'input': Decimal('8.2174820233646832536760145681880475838589417381220'),\n",
       "  'output': Decimal('15000')}}"
      ]
     },
     "execution_count": 24,
     "metadata": {},
     "output_type": "execute_result"
    }
   ],
   "source": [
    "mpr_matchByTarget(inputAmount, orders, threshold_orders, support_partial)"
   ]
  },
  {
   "cell_type": "code",
   "execution_count": 25,
   "metadata": {},
   "outputs": [
    {
     "data": {
      "text/plain": [
       "{9: {'input': Decimal('999999.999754946636310300908886146846137551843446'),\n",
       "  'output': Decimal('91267.461271979024207524762891492849856956202742212')}}"
      ]
     },
     "execution_count": 25,
     "metadata": {},
     "output_type": "execute_result"
    }
   ],
   "source": [
    "inputAmount = Decimal(\"1000000\")\n",
    "orders = [Order(order_params) for order_params in [\n",
    "    {\n",
    "      \"liquidity\": \"2962962\",\n",
    "      \"lowestRate\": \"1\",\n",
    "      \"highestRate\": \"2\",\n",
    "      \"marginalRate\": \"2\"\n",
    "    },\n",
    "    {\n",
    "      \"liquidity\": \"3950616\",\n",
    "      \"lowestRate\": \"2\",\n",
    "      \"highestRate\": \"3\",\n",
    "      \"marginalRate\": \"3\"\n",
    "    },\n",
    "    {\n",
    "      \"liquidity\": \"4938270\",\n",
    "      \"lowestRate\": \"3\",\n",
    "      \"highestRate\": \"4\",\n",
    "      \"marginalRate\": \"4\"\n",
    "    },\n",
    "    {\n",
    "      \"liquidity\": \"5925924\",\n",
    "      \"lowestRate\": \"4\",\n",
    "      \"highestRate\": \"5\",\n",
    "      \"marginalRate\": \"5\"\n",
    "    },\n",
    "    {\n",
    "      \"liquidity\": \"6913578\",\n",
    "      \"lowestRate\": \"5\",\n",
    "      \"highestRate\": \"6\",\n",
    "      \"marginalRate\": \"6\"\n",
    "    },\n",
    "    {\n",
    "      \"liquidity\": \"7901232\",\n",
    "      \"lowestRate\": \"6\",\n",
    "      \"highestRate\": \"7\",\n",
    "      \"marginalRate\": \"7\"\n",
    "    },\n",
    "    {\n",
    "      \"liquidity\": \"8888886\",\n",
    "      \"lowestRate\": \"7\",\n",
    "      \"highestRate\": \"8\",\n",
    "      \"marginalRate\": \"8\"\n",
    "    },\n",
    "    {\n",
    "      \"liquidity\": \"9876540\",\n",
    "      \"lowestRate\": \"8\",\n",
    "      \"highestRate\": \"9\",\n",
    "      \"marginalRate\": \"9\"\n",
    "    },\n",
    "    {\n",
    "      \"liquidity\": \"10864194\",\n",
    "      \"lowestRate\": \"9\",\n",
    "      \"highestRate\": \"10\",\n",
    "      \"marginalRate\": \"10\"\n",
    "    },\n",
    "    {\n",
    "      \"liquidity\": \"11851848\",\n",
    "      \"lowestRate\": \"10\",\n",
    "      \"highestRate\": \"11\",\n",
    "      \"marginalRate\": \"11\"\n",
    "    }\n",
    "  ]\n",
    "]\n",
    "mpr_matchBySource(inputAmount, orders, 1, True)\n",
    "\n",
    "'''\n",
    "Should give: `{9: \"input\": \"1000000\", \"output\": \"10544553\"}`\n",
    "'''"
   ]
  }
 ],
 "metadata": {
  "kernelspec": {
   "display_name": "Python 3",
   "language": "python",
   "name": "python3"
  },
  "language_info": {
   "codemirror_mode": {
    "name": "ipython",
    "version": 3
   },
   "file_extension": ".py",
   "mimetype": "text/x-python",
   "name": "python",
   "nbconvert_exporter": "python",
   "pygments_lexer": "ipython3",
   "version": "3.9.13"
  },
  "orig_nbformat": 4,
  "vscode": {
   "interpreter": {
    "hash": "aee8b7b246df8f9039afb4144a1f6fd8d2ca17a180786b69acc140d282b71a49"
   }
  }
 },
 "nbformat": 4,
 "nbformat_minor": 2
}
