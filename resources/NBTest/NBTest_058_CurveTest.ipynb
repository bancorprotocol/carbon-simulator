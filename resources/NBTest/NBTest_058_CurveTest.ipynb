{
 "cells": [
  {
   "cell_type": "code",
   "execution_count": 2,
   "id": "7abfb0b7",
   "metadata": {},
   "outputs": [
    {
     "name": "stdout",
     "output_type": "stream",
     "text": [
      "[stdimports] imported np, pd, plt, os, sqrt, exp, log\n",
      "SolTestBase v1.0 (11/Feb/2023)\n",
      "CarbonFloatInt32 v1.0 (10/Feb/2023)\n",
      "CarbonOrderUI v1.7.1 (12/Feb/2023)\n",
      "CarbonPair v2.2 (11/Feb/2022)\n",
      "Carbon v2.3.3-BETA1 (12/Feb/2022)\n"
     ]
    }
   ],
   "source": [
    "from carbon.helpers.stdimports import *\n",
    "from carbon.helpers.soltest import SolTestBase\n",
    "from carbon.helpers.floatint import *\n",
    "print(\"{0.__name__} v{0.__VERSION__} ({0.__DATE__})\".format(SolTestBase))\n",
    "print(\"{0.__name__} v{0.__VERSION__} ({0.__DATE__})\".format(CarbonFloatInt32))\n",
    "print(\"{0.__name__} v{0.__VERSION__} ({0.__DATE__})\".format(CarbonOrderUI))\n",
    "print(\"{0.__name__} v{0.__VERSION__} ({0.__DATE__})\".format(P))\n",
    "from math import log2, floor, ceil, sqrt\n",
    "print_version(require=\"2.3.3\")"
   ]
  },
  {
   "cell_type": "markdown",
   "id": "a771fab2",
   "metadata": {},
   "source": [
    "# Solidity Curve Testing (NBTest058)\n",
    "\n",
    "In the terminology in this sheet we consider by source and by target **from the point of view of the AMM**, therefore _by source_ fixes _dy_ and calculates _dx_ and vice versa.\n",
    "\n",
    "**By source (dx from dy)**\n",
    "\n",
    "$$\n",
    "\\Delta x = \\frac{\\Delta y z^2}{(Ay+Bz)(Ay+Bz-A\\Delta y)} =_{A=0} \\frac{\\Delta y} {B^2}\n",
    "$$\n",
    "\n",
    "\n",
    "\n",
    "**By target (dy from dx)**\n",
    "\n",
    "$$\n",
    "\\Delta y = \\frac{\\Delta x(Ay+Bz)^2}{A\\Delta x(Ay+Bz)+z^2} =_{A=0} \\frac{\\Delta x(Bz)^2}{z^2} = \\Delta x B^2\n",
    "$$\n",
    "\n",
    "[doc][doc]\n",
    "\n",
    "\n",
    "[doc]:https://docs.google.com/document/d/1x4ZbbS3nIRSJ0ojaOrcBhOc-_eOTga6BajDjK45o7u4/edit"
   ]
  },
  {
   "cell_type": "code",
   "execution_count": 3,
   "id": "ad552269",
   "metadata": {},
   "outputs": [],
   "source": [
    "FI32 = CarbonFloatInt32\n",
    "FI40 = CarbonFloatInt40"
   ]
  },
  {
   "cell_type": "markdown",
   "id": "70a78e16",
   "metadata": {},
   "source": [
    "## Demo and test of yzABS in CarbonOrderUI and pair decimals"
   ]
  },
  {
   "cell_type": "code",
   "execution_count": 4,
   "id": "e0cc6e20",
   "metadata": {},
   "outputs": [
    {
     "data": {
      "text/plain": [
       "P('ETH/USDC').sd(18,6)"
      ]
     },
     "execution_count": 4,
     "metadata": {},
     "output_type": "execute_result"
    }
   ],
   "source": [
    "ETHUSDC = P(\"ETH/USDC\").sd(18,6)\n",
    "assert ETHUSDC.decimals == {'ETH': 18, 'USDC': 6, '_TKNB': 18, '_TKNQ': 6, '_DIFFQB': -12}\n",
    "assert ETHUSDC.decdiffqb == -12\n",
    "assert P(ETHUSDC).has_decimals\n",
    "assert ETHUSDC.price_convention == 'USDC per ETH'\n",
    "ETHUSDC"
   ]
  },
  {
   "cell_type": "code",
   "execution_count": 5,
   "id": "3aa0408c",
   "metadata": {},
   "outputs": [
    {
     "name": "stdout",
     "output_type": "stream",
     "text": [
      "[yzABS] pair=P('ETH/USDC').sd(18,6), y=ETH(18), x=USDC(6)\n",
      "[yzABS] scale = 2**10 = 1024\n",
      "[yzABS] y=0.5 -> y_wei=5e+17 [ETH-wei]\n",
      "[yzABS] yint=1 -> z_wei=1000000000000000000 [ETH-wei]\n",
      "[yzABS] pa_raw=0.0006666666666666666 ETH per USDC -> 666666666 ETH-wei per USDC-wei\n",
      "[yzABS] pb_raw=0.0005 ETH per USDC -> 500000000 ETH-wei per USDC-wei\n",
      "[yzABS] a=0.0034592091997182155 -> 3459.2091997182156 * scale = 3542230\n",
      "[yzABS] b=0.022360679774997897 -> 22360.679774997898 * scale = 22897336\n",
      "[yzABS] yzABS = r(y=5e+17, z=1000000000000000000, A=3542230, B=22897336, S=1024)\n"
     ]
    }
   ],
   "source": [
    "oui = CarbonOrderUI.from_prices(ETHUSDC, \"ETH\", 1500, 2000, 1, 0.5)\n",
    "r = oui.yzABS(sx=10, verbose=True)\n",
    "ddf, ddf2 = 10**12, 10**6\n",
    "assert r.y == 0.5 * 10**18\n",
    "assert r.z == 10**18\n",
    "assert r.A == int(oui.S * ddf2 * r.S)\n",
    "assert r.B == int(oui.B * ddf2 * r.S)\n",
    "assert r.S == 2**10\n",
    "assert oui.descr() == 'Sell ETH buy USDC from 1500.0000 to 2000.0000 USDC per ETH'"
   ]
  },
  {
   "cell_type": "code",
   "execution_count": 6,
   "id": "6babf06a",
   "metadata": {},
   "outputs": [
    {
     "name": "stdout",
     "output_type": "stream",
     "text": [
      "[yzABS] pair=P('ETH/USDC').sd(18,6), y=USDC(6), x=ETH(18)\n",
      "[yzABS] scale = 2**40 = 1099511627776\n",
      "[yzABS] y=790 -> y_wei=790000000 [USDC-wei]\n",
      "[yzABS] yint=1100 -> z_wei=1100000000 [USDC-wei]\n",
      "[yzABS] pa_raw=1000.0 USDC per ETH -> 0 USDC-wei per ETH-wei\n",
      "[yzABS] pb_raw=500.00000000000006 USDC per ETH -> 0 USDC-wei per ETH-wei\n",
      "[yzABS] a=9.262096826685895 -> 9.262096826685894e-06 * scale = 10183783\n",
      "[yzABS] b=22.360679774997898 -> 2.2360679774997898e-05 * scale = 24585827\n",
      "[yzABS] yzABS = r(y=790000000, z=1100000000, A=10183783, B=24585827, S=1099511627776)\n"
     ]
    }
   ],
   "source": [
    "oui = CarbonOrderUI.from_prices(ETHUSDC, \"USDC\", 1000, 500, 1100, 790)\n",
    "r = oui.yzABS(sx=40, verbose=True)\n",
    "ddf, ddf2 = 10**-12, 10**-6\n",
    "assert r.y == 790 * 10**6\n",
    "assert r.z == 1100 * 10**6\n",
    "assert r.A == int(oui.S * ddf2 * r.S)\n",
    "assert r.B == int(oui.B * ddf2 * r.S)\n",
    "assert r.S == 2**40"
   ]
  },
  {
   "cell_type": "markdown",
   "id": "fa9e8051",
   "metadata": {},
   "source": [
    "## Sundry tests of other carbonui stuff"
   ]
  },
  {
   "cell_type": "code",
   "execution_count": 21,
   "id": "bebcadb4",
   "metadata": {},
   "outputs": [
    {
     "name": "stdout",
     "output_type": "stream",
     "text": [
      "('Curve ID has already been set', 1, 1)\n"
     ]
    }
   ],
   "source": [
    "oui = CarbonOrderUI.from_prices(P(\"ETH/USDC\").sd(18,6), \"USDC\", 1000, 500, 1100, 790)\n",
    "r = oui.set_id(1)\n",
    "assert oui.tkn == \"USDC\"\n",
    "assert oui.tkny == oui.tkn\n",
    "assert oui.tknx == \"ETH\"\n",
    "assert oui.pair.slashpair == \"ETH/USDC\"\n",
    "assert abs(oui.S/9.262096826685895-1) < 1e-10\n",
    "assert abs(oui.B/22.360679774997898-1) < 1e-10\n",
    "assert oui.S is oui.A\n",
    "assert abs(oui.pa/1000-1) < 1e-10\n",
    "assert abs(oui.pa_raw/1000-1) < 1e-10\n",
    "assert oui.p_start == oui.pa\n",
    "assert oui.py == oui.pa\n",
    "assert abs(oui.pb/500-1) < 1e-10\n",
    "assert abs(oui.pb_raw/500-1) < 1e-10\n",
    "assert oui.p_end == oui.pb\n",
    "assert oui.py == oui.py\n",
    "assert abs(oui.yint/1100-1) < 1e-10\n",
    "assert abs(oui.y/790-1) < 1e-10\n",
    "assert oui.y == oui.z\n",
    "assert oui.total_liquidity == (790, 'USDC')\n",
    "assert oui.price_convention == 'USDC per ETH'\n",
    "assert oui.price_convention == oui.pair.price_convention\n",
    "assert oui.price_convention == oui.price_convention_raw\n",
    "assert tuple(oui.yzABS(32)) == (790000000, 1100000000, 39780, 96038, 4294967296)\n",
    "assert r is oui\n",
    "try:\n",
    "    oui.set_id(1)\n",
    "    raise\n",
    "except ValueError as e:\n",
    "    print(e)"
   ]
  },
  {
   "cell_type": "code",
   "execution_count": 22,
   "id": "2d668a35-eaad-4393-9f15-014b219cb4dc",
   "metadata": {},
   "outputs": [
    {
     "data": {
      "text/plain": [
       "'USDC per ETH'"
      ]
     },
     "execution_count": 22,
     "metadata": {},
     "output_type": "execute_result"
    }
   ],
   "source": [
    "oui.price_convention_raw"
   ]
  },
  {
   "cell_type": "code",
   "execution_count": 23,
   "id": "20b05c59",
   "metadata": {},
   "outputs": [
    {
     "name": "stdout",
     "output_type": "stream",
     "text": [
      "('Linked object has already been set', 1, 1)\n"
     ]
    }
   ],
   "source": [
    "oui2 = CarbonOrderUI.from_prices(P(\"ETH/USDC\").sd(18,6), \"ETH\", 1500, 2000, 2, 1)\n",
    "oui2.set_id(2)\n",
    "r  = oui.set_linked(oui2)\n",
    "r2 = oui2.set_linked(oui)  # sets linked here and creates backlink\n",
    "assert oui2.tkn == \"ETH\"\n",
    "assert oui2.tkny == oui2.tkn\n",
    "assert oui2.tknx == \"USDC\"\n",
    "assert oui2.pair.slashpair == \"ETH/USDC\"\n",
    "assert abs(oui2.S/0.0034592091997182155-1) < 1e-10\n",
    "assert abs(oui2.B/0.022360679774997897-1) < 1e-10\n",
    "assert oui2.S is oui2.A\n",
    "assert abs(oui2.pa/1500-1) < 1e-10\n",
    "assert abs(oui2.pa_raw/0.0006666666666666666-1) < 1e-10\n",
    "assert oui2.p_start == oui2.pa\n",
    "assert oui2.py == oui2.pa\n",
    "assert abs(oui2.pb/2000-1) < 1e-10\n",
    "assert abs(oui2.pb_raw/0.0005-1) < 1e-10\n",
    "assert oui2.p_end == oui2.pb\n",
    "assert oui2.py == oui2.py\n",
    "assert abs(oui2.yint/2-1) < 1e-10\n",
    "assert abs(oui2.y/1-1) < 1e-10\n",
    "assert oui2.y == oui2.z\n",
    "assert oui2.total_liquidity == (1, 'ETH')\n",
    "assert oui2.price_convention == 'USDC per ETH'\n",
    "assert oui2.price_convention == oui2.pair.price_convention\n",
    "assert oui2.price_convention != oui2.price_convention_raw\n",
    "assert oui2.price_convention_raw == \"ETH per USDC\"\n",
    "assert tuple(oui2.yzABS(32)) == (1000000000000000000, 2000000000000000000, 14857190382812, 96038388349944, 4294967296)\n",
    "assert r is oui\n",
    "assert r2 is oui2\n",
    "try:\n",
    "    oui2.set_linked(oui)\n",
    "    raise\n",
    "except ValueError as e:\n",
    "    print(e)"
   ]
  },
  {
   "cell_type": "code",
   "execution_count": 24,
   "id": "dda39443",
   "metadata": {},
   "outputs": [],
   "source": [
    "assert oui.lid == 2\n",
    "assert oui2.lid == 1"
   ]
  },
  {
   "cell_type": "markdown",
   "id": "66054674",
   "metadata": {},
   "source": [
    "## Demo [NOTEST]"
   ]
  },
  {
   "cell_type": "markdown",
   "id": "8ff8a43c",
   "metadata": {},
   "source": [
    "### Trade functions"
   ]
  },
  {
   "cell_type": "code",
   "execution_count": null,
   "id": "959e1d57",
   "metadata": {},
   "outputs": [],
   "source": [
    "mulDivF = lambda x, y, z: (x * y) // z\n",
    "mulDiv = mulDivF\n",
    "mulDivC = lambda x, y, z: (x * y + z - 1) // z"
   ]
  },
  {
   "cell_type": "markdown",
   "id": "f7d1d069",
   "metadata": {},
   "source": [
    "**this is actually by target**"
   ]
  },
  {
   "cell_type": "code",
   "execution_count": null,
   "id": "2e90cb42",
   "metadata": {},
   "outputs": [],
   "source": [
    "def trade_by_target_act(params, C):\n",
    "\n",
    "    dx = params[0]\n",
    "    y,z,A,B,s = params[1]\n",
    "    print(params)\n",
    "    ONE = s\n",
    "    temp1 = C(y * A + z * B, \"temp1\")               # 177 bits at most; cannot overflow\n",
    "    temp2 = C(temp1 * dx / ONE, \"temp2\")            # 224 bits at most; can overflow; some precision loss\n",
    "    temp3 = C(temp2 * A + z * z * ONE, \"temp3\")     # 256 bits at most; can overflow\n",
    "    dy = mulDiv(temp1, temp2, temp3)\n",
    "    print(dx, temp1, temp2, temp3, dy)\n",
    "    return dy"
   ]
  },
  {
   "cell_type": "code",
   "execution_count": null,
   "id": "367f04c6",
   "metadata": {},
   "outputs": [],
   "source": [
    "# # by target_act\n",
    "\n",
    "# temp1 = z * ONE\n",
    "# temp2 = y * A + z * B\n",
    "# temp3 = temp2 * dy\n",
    "# scale = mulDivC(temp3, A, 2**256-1)\n",
    "# temp4 = mulDivC(temp1, temp1, scale)\n",
    "# temp5 = mulDivC(temp3, A, scale)\n",
    "# dx    = mulDivF(temp2, temp3 // scale, temp4 + temp5)"
   ]
  },
  {
   "cell_type": "markdown",
   "id": "bd34203a",
   "metadata": {},
   "source": [
    "**those are actually by source**\n",
    "\n",
    "this one is SKL version of the fixed code"
   ]
  },
  {
   "cell_type": "code",
   "execution_count": null,
   "id": "06ca95bf",
   "metadata": {},
   "outputs": [],
   "source": [
    "def trade_by_source_act(params, C):\n",
    "\n",
    "    dy = params[0]\n",
    "    y,z,A,B,s = params[1]\n",
    "    print(params)\n",
    "    ONE = s\n",
    "    temp1 = C(z * ONE, \"temp1\")                  \n",
    "    temp2 = C(y * A + z * B, \"temp2\")         \n",
    "    temp3 = C(temp2 - dy * A, \"temp3\")        \n",
    "    scale = mulDiv(temp2, temp3, 2**255)+1\n",
    "    temp1s = C(temp1//scale, \"temp1s\")\n",
    "    temp2s = C(temp2//scale, \"temp2s\")\n",
    "    dx = mulDiv(\n",
    "        C(dy*temp1s, \"dx*temp1s\"), \n",
    "        temp1, \n",
    "        C(temp2s*temp3, \"temp2s*temp3\")\n",
    "    )\n",
    "    print(dy, dx*temp1s, temp1, temp2s*temp3, dx)\n",
    "    return dx"
   ]
  },
  {
   "cell_type": "markdown",
   "id": "1fe511d0",
   "metadata": {},
   "source": [
    "this is BM version of the fixed code"
   ]
  },
  {
   "cell_type": "code",
   "execution_count": null,
   "id": "ceb459e7",
   "metadata": {},
   "outputs": [],
   "source": [
    "# # by source_act\n",
    "# mulDivF = lambda x, y, z: x * y // z\n",
    "# mulDivC = lambda x, y, z: (x * y + z - 1) // z\n",
    "\n",
    "# temp1 = z * ONE\n",
    "# temp2 = y * A + z * B\n",
    "# temp3 = temp2 - dx * A\n",
    "# scale = mulDivC(temp2, temp3, 2**256-1)\n",
    "# temp4 = mulDivC(temp1, temp1, scale)\n",
    "# temp5 = mulDivF(temp2, temp3, scale)\n",
    "# dy    = mulDivC(dx, temp4, temp5)"
   ]
  },
  {
   "cell_type": "markdown",
   "id": "977e815e",
   "metadata": {},
   "source": [
    "that's the previous, failing, version of the code"
   ]
  },
  {
   "cell_type": "code",
   "execution_count": null,
   "id": "ef4736ad",
   "metadata": {},
   "outputs": [],
   "source": [
    "def trade_by_source_old_act(params, C):\n",
    "\n",
    "    dy = params[0]\n",
    "    y,z,A,B,s = params[1]\n",
    "    ONE = s\n",
    "    temp1 = C(z * ONE, \"temp1\")                  \n",
    "    temp2 = C(y * A + z * B, \"temp2\")         \n",
    "    temp3 = C(temp2 - dy * A, \"temp3\")        \n",
    "    dx = mulDiv(\n",
    "        C(dy*temp1, \"dy*temp1\"), \n",
    "        temp1, \n",
    "        C(temp2*temp3, \"temp2*temp3\")\n",
    "    ) \n",
    "    print(dy, dy*temp1, temp1, temp2*temp3, dx)\n",
    "    return dx"
   ]
  },
  {
   "cell_type": "markdown",
   "id": "d5b7b7f1",
   "metadata": {},
   "source": [
    "### Analysis"
   ]
  },
  {
   "cell_type": "code",
   "execution_count": null,
   "id": "a1444ce2",
   "metadata": {},
   "outputs": [],
   "source": [
    "class STB(SolTestBase):\n",
    "    #PRINT_LVL_DEFAULT = SolTestBase.LVL_LOG\n",
    "    PRINT_LVL_DEFAULT = SolTestBase.LVL_WARN\n",
    "VERBOSE = False"
   ]
  },
  {
   "cell_type": "markdown",
   "id": "659cd8ea",
   "metadata": {},
   "source": [
    "#### TKN/DAI -- same decimality, same reasonable price"
   ]
  },
  {
   "cell_type": "code",
   "execution_count": null,
   "id": "5e576a21",
   "metadata": {},
   "outputs": [],
   "source": [
    "TKNDAI = P(\"TKN/DAI\").sd(18,18)\n",
    "price = 5  # DAI per TKN\n",
    "oui = CarbonOrderUI.from_prices(TKNDAI, \"TKN\", price, price, 1000, 1000)\n",
    "c = curve = oui.yzABS(sx=40, verbose=VERBOSE)"
   ]
  },
  {
   "cell_type": "code",
   "execution_count": null,
   "id": "c8738ca4",
   "metadata": {},
   "outputs": [],
   "source": [
    "params_bysrc  = (1e18, curve) # dy = wei sent (by source, 1 TKN)\n",
    "dx = trade_by_source_act( params_bysrc, STB(context=(\"by_source\", curve)))\n",
    "dx/1e18 # 1 TKN -> 5 DAI ==> 5 DAI per TKN"
   ]
  },
  {
   "cell_type": "code",
   "execution_count": null,
   "id": "f75113e8",
   "metadata": {},
   "outputs": [],
   "source": [
    "params_bytarg = (5e18, curve)       # dx = token wei received (target, DAI)\n",
    "dy = trade_by_target_act( params_bytarg, STB(context=(\"by_target\", curve)) )\n",
    "dy/1e18 # 1 TKN ->  5 DAI --> 5 DAI per TKN"
   ]
  },
  {
   "cell_type": "markdown",
   "id": "4ec4245c",
   "metadata": {},
   "source": [
    "#### ETH/USDC -- y=ETH, x=USDC"
   ]
  },
  {
   "cell_type": "code",
   "execution_count": null,
   "id": "159db06c",
   "metadata": {},
   "outputs": [],
   "source": [
    "ETHUSDC = P(\"ETH/USDC\").sd(18,6)\n",
    "oui = CarbonOrderUI.from_prices(ETHUSDC, \"ETH\", 2000, 2000, 1, 0.5)\n",
    "curve = oui.yzABS(sx=40, verbose=VERBOSE)"
   ]
  },
  {
   "cell_type": "code",
   "execution_count": null,
   "id": "74fd6292",
   "metadata": {},
   "outputs": [],
   "source": [
    "params_bysrc  = (1*1e18, curve) # dy = token wei sent (by source, 1 ETH)\n",
    "dx = trade_by_source_act( params_bysrc, STB(context=(\"by_source\", curve)))\n",
    "dx/1e6 # 1 ETH -> 2000 USDC"
   ]
  },
  {
   "cell_type": "code",
   "execution_count": null,
   "id": "b63990af",
   "metadata": {},
   "outputs": [],
   "source": [
    "params_bytarg = (2000*1e6, curve)       # dx = token wei received (target, USDC)\n",
    "dy = trade_by_target_act( params_bytarg, STB(context=(\"by_target\", curve)) )\n",
    "dy/1e18 # 1 ETH -> 2000 USDC"
   ]
  },
  {
   "cell_type": "markdown",
   "id": "e8ec939b",
   "metadata": {},
   "source": [
    "#### ETH/USDC -- y=USDC, x=ETH"
   ]
  },
  {
   "cell_type": "code",
   "execution_count": null,
   "id": "a924955f",
   "metadata": {},
   "outputs": [],
   "source": [
    "oui = CarbonOrderUI.from_prices(ETHUSDC, \"USDC\", 1000, 1000, 750, 750)\n",
    "curve = oui.yzABS(sx=40, verbose=VERBOSE)\n",
    "print(curve)"
   ]
  },
  {
   "cell_type": "code",
   "execution_count": null,
   "id": "8c937ad4",
   "metadata": {},
   "outputs": [],
   "source": [
    "params_bysrc  = (1000*1e6, curve)       # dy = USDC-wei\n",
    "dx = trade_by_source_act( params_bysrc, STB(context=(\"by_source\", curve)) )\n",
    "dx/1e18 # 1000 USDC -> 1 ETH"
   ]
  },
  {
   "cell_type": "code",
   "execution_count": null,
   "id": "259d8511",
   "metadata": {},
   "outputs": [],
   "source": [
    "params_bytarg = (1e18, curve)  # dx = ETH-wei\n",
    "dy = trade_by_target_act( params_bytarg, STB(context=(\"by_target\", curve)) )\n",
    "dy/1e6 # 1000 USDC -> 1 ETH"
   ]
  },
  {
   "cell_type": "markdown",
   "id": "dc78d0a7",
   "metadata": {},
   "source": [
    "#### SHIB/USDC -- y=SHIB, x=USDC"
   ]
  },
  {
   "cell_type": "code",
   "execution_count": null,
   "id": "f111e16b",
   "metadata": {},
   "outputs": [],
   "source": [
    "SHIBUSDC = P(\"SHIB/USDC\").sd(18,6)\n",
    "price = 1e-5\n",
    "oui = CarbonOrderUI.from_prices(SHIBUSDC, \"SHIB\", price, price, 2e5, 2e5)\n",
    "curve = oui.yzABS(sx=40, verbose=VERBOSE)\n",
    "print(curve)"
   ]
  },
  {
   "cell_type": "code",
   "execution_count": null,
   "id": "129ed940",
   "metadata": {},
   "outputs": [],
   "source": [
    "params_bysrc  = (1*1e5*1e18, curve)      # dy = SHIB-wei (1 USD worth of SHIB)\n",
    "dx = trade_by_source_act( params_bysrc, STB(context=(\"by_source\", curve)) )\n",
    "dx / 1e6 # 1e5 SHIB -> 1 USDC"
   ]
  },
  {
   "cell_type": "code",
   "execution_count": null,
   "id": "20237016",
   "metadata": {},
   "outputs": [],
   "source": [
    "params_bytarg = (1*1e6, curve) # dx = USDC-wei\n",
    "dy = trade_by_target_act( params_bytarg, STB(context=(\"by_target\", curve)) )\n",
    "dy/1e18 # 1e5 SHIB -> 1 USDC"
   ]
  },
  {
   "cell_type": "markdown",
   "id": "289bb0ae",
   "metadata": {},
   "source": [
    "#### Nick's example DAI/USDC -- Selling DAI"
   ]
  },
  {
   "cell_type": "code",
   "execution_count": null,
   "id": "9eba18e0",
   "metadata": {},
   "outputs": [],
   "source": [
    "DAIUSDC = P(\"DAI/USDC\").sd(18,6)\n",
    "price = 1\n",
    "oui = CarbonOrderUI.from_prices(DAIUSDC, \"DAI\", price, price, 1e5, 1e5)\n",
    "curve = oui.yzABS(sx=40, verbose=VERBOSE)\n",
    "print(curve)"
   ]
  },
  {
   "cell_type": "code",
   "execution_count": null,
   "id": "1473bbda",
   "metadata": {
    "lines_to_next_cell": 2
   },
   "outputs": [],
   "source": [
    "params_bysrc  = (1*1e18, curve)        # dy = DAI-wei\n",
    "dx = trade_by_source_act( params_bysrc, STB(context=(\"by_source\", curve)) )\n",
    "dx/1e6 # 1 DAI -> 1 USDC"
   ]
  },
  {
   "cell_type": "code",
   "execution_count": null,
   "id": "f2facec0",
   "metadata": {
    "lines_to_next_cell": 2
   },
   "outputs": [],
   "source": [
    "params_bytarg = (1*1e6, curve)  # dx = USDC-wei\n",
    "dy = trade_by_target_act( params_bytarg, STB(context=(\"by_target\", curve)) )\n",
    "dy / 1e18 # 1 DAI -> 1 USDC"
   ]
  },
  {
   "cell_type": "markdown",
   "id": "4c452dd4",
   "metadata": {},
   "source": [
    "#### Nick's example DAI/USDC -- Selling USDC"
   ]
  },
  {
   "cell_type": "code",
   "execution_count": null,
   "id": "795abce8",
   "metadata": {},
   "outputs": [],
   "source": [
    "SHIBUSDC = P(\"DAI/USDC\").sd(18,6)\n",
    "price = 1\n",
    "oui = CarbonOrderUI.from_prices(SHIBUSDC, \"USDC\", price, price, 1e5, 1e5)\n",
    "curve = oui.yzABS(sx=40, verbose=VERBOSE)"
   ]
  },
  {
   "cell_type": "code",
   "execution_count": null,
   "id": "fdad819c",
   "metadata": {},
   "outputs": [],
   "source": [
    "params_bysrc  = (1*1e6, curve)       # dy = USDC-wei\n",
    "dx = trade_by_source_act( params_bysrc, STB(context=(\"by_source\", curve)) )\n",
    "dx/1e18"
   ]
  },
  {
   "cell_type": "code",
   "execution_count": null,
   "id": "9a850212",
   "metadata": {},
   "outputs": [],
   "source": [
    "params_bytarg = (1e18, curve)      # dx = DAI-wei\n",
    "dy = trade_by_target_act( params_bytarg, STB(context=(\"by_target\", curve)) )\n",
    "dy/1e6"
   ]
  },
  {
   "cell_type": "markdown",
   "id": "e8def81d",
   "metadata": {},
   "source": [
    "## SolTestBase tests"
   ]
  },
  {
   "cell_type": "code",
   "execution_count": null,
   "id": "6dd60c49",
   "metadata": {},
   "outputs": [],
   "source": [
    "TB0 = SolTestBase()\n",
    "TBrw = SolTestBase(raise_lvl=TB0.LVL_WARN)\n",
    "TBre = SolTestBase(raise_lvl=TB0.LVL_ERR)"
   ]
  },
  {
   "cell_type": "code",
   "execution_count": null,
   "id": "62d229d4",
   "metadata": {
    "lines_to_next_cell": 2
   },
   "outputs": [],
   "source": [
    "try:\n",
    "    TBrw.check_uint256(1, \"testlabel\")\n",
    "    raise RuntimeError(\"should raise\")\n",
    "except TB0.UnderflowError as e:\n",
    "    print(e)\n",
    "try:\n",
    "    TBrw.check_uint256(2000, \"testlabel\")\n",
    "    raise RuntimeError(\"should raise\")\n",
    "except TB0.UnderflowWarning as e:\n",
    "    print(e)\n",
    "try:\n",
    "    TBrw.check_uint256(2**254, \"testlabel\")\n",
    "    raise RuntimeError(\"should raise\")\n",
    "except TB0.OverflowWarning as e:\n",
    "    print(e)\n",
    "try:\n",
    "    TBrw.check_uint256(2**256-1, \"testlabel\")\n",
    "    raise RuntimeError(\"should raise\")\n",
    "except TB0.OverflowWarning as e:\n",
    "    print(e)\n",
    "try:\n",
    "    TBrw.check_uint256(2**256, \"testlabel\")\n",
    "    raise RuntimeError(\"should raise\")\n",
    "except TB0.OverflowError as e:\n",
    "    print(e)"
   ]
  },
  {
   "cell_type": "code",
   "execution_count": null,
   "id": "b1cb5a4f",
   "metadata": {
    "lines_to_next_cell": 2
   },
   "outputs": [],
   "source": [
    "try:\n",
    "    TBre.check_uint256(1, label=\"testlabel\")\n",
    "    raise RuntimeError(\"should raise\")\n",
    "except TBre.UnderflowError as e:\n",
    "    print(e)\n",
    "assert TBre.check_uint256(2000, label=\"testlabel\") == 2000\n",
    "assert TBre.check_uint256(2**254, label=\"testlabel\") == 2**254\n",
    "assert TBre.check_uint256(2**256-1, label=\"testlabel\") == 2**256-1\n",
    "try:\n",
    "    TBre.check_uint256(2**256, label=\"testlabel\")\n",
    "    raise RuntimeError(\"should raise\")\n",
    "except TBre.OverflowError as e:\n",
    "    print(e)"
   ]
  },
  {
   "cell_type": "code",
   "execution_count": null,
   "id": "256d3d46",
   "metadata": {},
   "outputs": [],
   "source": [
    "assert TB0.check_uint256(1, log_f=TB0.print_f) == 1\n",
    "assert TB0.check_uint256(2000, log_f=TB0.print_f) == 2000\n",
    "assert TB0.check_uint256(2**254, log_f=TB0.print_f) == 2**254\n",
    "assert TB0.check_uint256(2**256-1, log_f=TB0.print_f) == 2**256-1\n",
    "assert TB0.check_uint256(2**256, log_f=TB0.print_f) == 2**256"
   ]
  },
  {
   "cell_type": "code",
   "execution_count": null,
   "id": "a0a9505f",
   "metadata": {},
   "outputs": [],
   "source": [
    "assert TB0._logmsg(level=TB0.LVL_WARN, isoverflow=True, label=\"1\", msg=\"\") == '[WARNING:OVERFLOW:1] '\n",
    "assert TB0._logmsg(TB0.LVL_ERR, False, \"mylabel\", \"mymessage\") == '[ERROR:UNDERFLOW:MYLABEL] mymessage'\n",
    "TB0.print_f(False, False, \"mylabel\", \"mymessage\")"
   ]
  },
  {
   "cell_type": "code",
   "execution_count": null,
   "id": "f8ba1b62",
   "metadata": {},
   "outputs": [],
   "source": [
    "assert TB0.bindig(0) == 0\n",
    "assert TB0.bindig(1) == 1\n",
    "assert TB0.bindig(2) == 2\n",
    "assert TB0.bindig(3) == 2\n",
    "assert TB0.bindig(2**10) == 11\n",
    "assert TB0.bindig(2**10+1) == 11\n",
    "assert TB0.bindig(2**10-1) == 10"
   ]
  },
  {
   "cell_type": "code",
   "execution_count": null,
   "id": "d42aa7b5",
   "metadata": {},
   "outputs": [],
   "source": []
  }
 ],
 "metadata": {
  "jupytext": {
   "formats": "ipynb,py:light"
  },
  "kernelspec": {
   "display_name": "Python 3",
   "language": "python",
   "name": "python3"
  },
  "language_info": {
   "codemirror_mode": {
    "name": "ipython",
    "version": 3
   },
   "file_extension": ".py",
   "mimetype": "text/x-python",
   "name": "python",
   "nbconvert_exporter": "python",
   "pygments_lexer": "ipython3",
   "version": "3.8.8"
  }
 },
 "nbformat": 4,
 "nbformat_minor": 5
}
