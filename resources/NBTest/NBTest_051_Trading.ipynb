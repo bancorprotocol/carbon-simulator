{
 "cells": [
  {
   "cell_type": "code",
   "execution_count": 27,
   "id": "ed525c67",
   "metadata": {},
   "outputs": [
    {
     "name": "stdout",
     "output_type": "stream",
     "text": [
      "Carbon v2.2-BETA7 (19/Jan/2022)\n",
      "CarbonSimulatorUI v2.4 (12/Jan/2023)\n",
      "CarbonOrderUI v1.6 (20/Jan/2023)\n"
     ]
    }
   ],
   "source": [
    "from carbon import CarbonSimulatorUI, CarbonOrderUI, P, __version__, __date__\n",
    "from math import sqrt\n",
    "import numpy as np\n",
    "from matplotlib import pyplot as plt\n",
    "plt.style.use('seaborn-dark')\n",
    "print(f\"Carbon v{__version__} ({__date__})\")\n",
    "print(\"{0.__name__} v{0.__VERSION__} ({0.__DATE__})\".format(CarbonSimulatorUI))\n",
    "print(\"{0.__name__} v{0.__VERSION__} ({0.__DATE__})\".format(CarbonOrderUI))"
   ]
  },
  {
   "cell_type": "markdown",
   "id": "795b0a19",
   "metadata": {},
   "source": [
    "# Trading with Carbon Order UI extensions (NBTest 51)"
   ]
  },
  {
   "cell_type": "markdown",
   "id": "f86cee7e",
   "metadata": {
    "lines_to_next_cell": 2
   },
   "source": [
    "NBTEST: NOTEST_DEFAULT = TEST"
   ]
  },
  {
   "cell_type": "code",
   "execution_count": 28,
   "id": "909e3e1f",
   "metadata": {},
   "outputs": [],
   "source": [
    "PATH = np.array([1500.        , 1491.99074643, 1485.65718599, 1479.79158552,\n",
    "       1466.58650982, 1433.05507163, 1569.49636858, 1539.19489793,\n",
    "       1498.15218548, 1442.6821791 , 1363.45028675, 1328.43629812,\n",
    "       1294.07754362, 1318.91694769, 1264.89691091, 1249.60958469,\n",
    "       1277.91142551, 1353.60398307, 1492.94060514, 1529.89987743,\n",
    "       1548.0584188 , 1516.09192102, 1542.73861583, 1608.14022479,\n",
    "       1522.88237851, 1443.86148065, 1507.22226307, 1381.74206561,\n",
    "       1302.01268179, 1172.96837719, 1357.84363975, 1367.73136865,\n",
    "       1419.54264794, 1408.69980729, 1511.01996309, 1495.00267224,\n",
    "       1638.28920143, 1616.58301765, 1620.92074371, 1620.53530268,\n",
    "       1571.84813276, 1509.53587407, 1380.33068895, 1294.75314398,\n",
    "       1310.05268545, 1371.99177615, 1320.69828255, 1420.48399288,\n",
    "       1356.71295438, 1353.51188774, 1424.22279717, 1476.14612579,\n",
    "       1624.24552552, 1513.55598664, 1519.64919189, 1614.3341273 ,\n",
    "       1412.7521227 , 1406.23336746, 1362.07578138, 1217.71952751,\n",
    "       1236.84447637, 1254.13928287, 1271.25628679, 1363.41265863,\n",
    "       1385.43744959, 1326.59010815, 1339.03782276, 1324.07762939,\n",
    "       1299.50430743, 1304.43938692, 1286.071414  , 1428.25422314,\n",
    "       1439.68537894, 1513.9136792 , 1603.29667897, 1576.16427903,\n",
    "       1706.00889461, 1769.02376434, 1771.05707198, 1679.96135525,\n",
    "       1671.89677916, 1482.57194787, 1462.23509373, 1385.40848718,\n",
    "       1440.82389235, 1481.69759044, 1510.3400991 , 1585.61358711,\n",
    "       1471.61710324, 1402.54813158, 1472.79445902, 1575.39249821,\n",
    "       1556.51476627, 1544.3787445 , 1530.82965887, 1619.77018789,\n",
    "       1638.30058665, 1670.33267938, 1609.79564666, 1528.40194762,\n",
    "       1560.98331845])\n",
    "TIME = np.linspace(0,1,len(PATH))"
   ]
  },
  {
   "cell_type": "code",
   "execution_count": 29,
   "id": "f09cc4f0",
   "metadata": {},
   "outputs": [],
   "source": [
    "amt_usdc    = 1000\n",
    "amt_eth     = 1\n",
    "spot0 = 1500\n",
    "w0 = 0.05\n",
    "w1 = 2*w0\n",
    "\n",
    "p_buy_a = spot0*(1-w0)\n",
    "p_buy_b = spot0*(1-w0)*(1-w1)\n",
    "p_sell_a = spot0*(1+w0)\n",
    "p_sell_b = spot0*(1+w0)*(1+w1)"
   ]
  },
  {
   "cell_type": "code",
   "execution_count": 30,
   "id": "f501aa30",
   "metadata": {},
   "outputs": [
    {
     "data": {
      "text/html": [
       "<div>\n",
       "<style scoped>\n",
       "    .dataframe tbody tr th:only-of-type {\n",
       "        vertical-align: middle;\n",
       "    }\n",
       "\n",
       "    .dataframe tbody tr th {\n",
       "        vertical-align: top;\n",
       "    }\n",
       "\n",
       "    .dataframe thead th {\n",
       "        text-align: right;\n",
       "    }\n",
       "</style>\n",
       "<table border=\"1\" class=\"dataframe\">\n",
       "  <thead>\n",
       "    <tr style=\"text-align: right;\">\n",
       "      <th></th>\n",
       "      <th>id</th>\n",
       "      <th>pair</th>\n",
       "      <th>tkn</th>\n",
       "      <th>y_int</th>\n",
       "      <th>y</th>\n",
       "      <th>y_unit</th>\n",
       "      <th>disabled</th>\n",
       "      <th>p_start</th>\n",
       "      <th>p_end</th>\n",
       "      <th>p_marg</th>\n",
       "      <th>p_unit</th>\n",
       "      <th>lid</th>\n",
       "    </tr>\n",
       "  </thead>\n",
       "  <tbody>\n",
       "    <tr>\n",
       "      <th>0</th>\n",
       "      <td>0</td>\n",
       "      <td>ETHUSDC</td>\n",
       "      <td>ETH</td>\n",
       "      <td>1.0</td>\n",
       "      <td>1.0</td>\n",
       "      <td>ETH</td>\n",
       "      <td>False</td>\n",
       "      <td>1575.0</td>\n",
       "      <td>1732.5</td>\n",
       "      <td>1575.0</td>\n",
       "      <td>USDC per ETH</td>\n",
       "      <td>1</td>\n",
       "    </tr>\n",
       "    <tr>\n",
       "      <th>1</th>\n",
       "      <td>1</td>\n",
       "      <td>ETHUSDC</td>\n",
       "      <td>USDC</td>\n",
       "      <td>1000.0</td>\n",
       "      <td>1000.0</td>\n",
       "      <td>USDC</td>\n",
       "      <td>False</td>\n",
       "      <td>1425.0</td>\n",
       "      <td>1282.5</td>\n",
       "      <td>1425.0</td>\n",
       "      <td>USDC per ETH</td>\n",
       "      <td>0</td>\n",
       "    </tr>\n",
       "  </tbody>\n",
       "</table>\n",
       "</div>"
      ],
      "text/plain": [
       "   id     pair   tkn   y_int       y y_unit  disabled  p_start   p_end  \\\n",
       "0   0  ETHUSDC   ETH     1.0     1.0    ETH     False   1575.0  1732.5   \n",
       "1   1  ETHUSDC  USDC  1000.0  1000.0   USDC     False   1425.0  1282.5   \n",
       "\n",
       "   p_marg        p_unit  lid  \n",
       "0  1575.0  USDC per ETH    1  \n",
       "1  1425.0  USDC per ETH    0  "
      ]
     },
     "execution_count": 30,
     "metadata": {},
     "output_type": "execute_result"
    }
   ],
   "source": [
    "Sim = CarbonSimulatorUI(pair=\"ETH/USDC\", verbose=False)\n",
    "Sim.add_strategy(\"ETH\", amt_eth, p_sell_a, p_sell_b, amt_usdc, p_buy_a, p_buy_b)\n",
    "Sim.state()[\"orders\"]"
   ]
  },
  {
   "cell_type": "code",
   "execution_count": 31,
   "id": "78d9283a",
   "metadata": {},
   "outputs": [
    {
     "name": "stdout",
     "output_type": "stream",
     "text": [
      "bid 1282.5-1425.0, spot 1500, ask 1575.0-1732.5\n"
     ]
    },
    {
     "data": {
      "image/png": "[encoded data removed]",
      "text/plain": [
       "<Figure size 432x288 with 1 Axes>"
      ]
     },
     "metadata": {},
     "output_type": "display_data"
    }
   ],
   "source": [
    "plt.plot(TIME, PATH)\n",
    "plt.fill_between(TIME, p_buy_a, p_buy_b, color=\"lightgreen\", alpha=0.3)\n",
    "plt.fill_between(TIME, p_sell_a, p_sell_b, color=\"lightcoral\", alpha=0.3)\n",
    "plt.grid(visible=True)\n",
    "print(f\"bid {p_buy_b:.1f}-{p_buy_a:.1f}, spot {spot0}, ask {p_sell_a:.1f}-{p_sell_b:.1f}\")"
   ]
  },
  {
   "cell_type": "markdown",
   "id": "39f2342a",
   "metadata": {},
   "source": [
    "## without using tradeto [NOTEST]"
   ]
  },
  {
   "cell_type": "code",
   "execution_count": 32,
   "id": "011a0e29",
   "metadata": {},
   "outputs": [
    {
     "name": "stdout",
     "output_type": "stream",
     "text": [
      "\n",
      "buy ETH 1425.0-1282.5, sell ETH 1575.0-1732.5\n",
      "--------------------\n",
      "...\n",
      "ix=  10, spot=1363.5: sell     425.49 USDC \n",
      "ix=  11, spot=1328.4: sell     246.34 USDC \n",
      "ix=  12, spot=1294.1: sell     244.91 USDC \n",
      "...\n",
      "ix=  14, spot=1264.9: sell      83.26 USDC \n",
      "...\n",
      "ix=  23, spot=1608.1: sell       0.39 ETH \n",
      "...\n",
      "ix=  28, spot=1302.0: sell     476.11 USDC \n",
      "ix=  29, spot=1173.0: sell     140.10 USDC \n",
      "...\n",
      "ix=  36, spot=1638.3: sell       0.76 ETH \n",
      "...\n",
      "ix=  42, spot=1380.3: sell     376.72 USDC \n",
      "ix=  43, spot=1294.8: sell     739.16 USDC \n",
      "...\n",
      "ix=  52, spot=1624.2: sell       0.62 ETH \n",
      "...\n",
      "ix=  57, spot=1406.2: sell      27.24 USDC \n",
      "ix=  58, spot=1362.1: sell     374.89 USDC \n",
      "ix=  59, spot=1217.7: sell     691.26 USDC \n",
      "...\n",
      "ix=  74, spot=1603.3: sell       0.40 ETH \n",
      "...\n",
      "ix=  76, spot=1706.0: sell       1.35 ETH \n",
      "ix=  77, spot=1769.0: sell       0.33 ETH \n",
      "...\n",
      "ix=  83, spot=1385.4: sell     934.09 USDC \n",
      "...\n",
      "--------------------\n",
      "ix=   0,  spot=1500.0: 1.0 ETH 1000.0 USDC (=2500.0 USDC)\n",
      "ix= 100,  spot=1561.0: 0.7 ETH 2492.3 USDC (=3530.1 USDC)\n",
      "\n"
     ]
    },
    {
     "data": {
      "text/html": [
       "<div>\n",
       "<style scoped>\n",
       "    .dataframe tbody tr th:only-of-type {\n",
       "        vertical-align: middle;\n",
       "    }\n",
       "\n",
       "    .dataframe tbody tr th {\n",
       "        vertical-align: top;\n",
       "    }\n",
       "\n",
       "    .dataframe thead th {\n",
       "        text-align: right;\n",
       "    }\n",
       "</style>\n",
       "<table border=\"1\" class=\"dataframe\">\n",
       "  <thead>\n",
       "    <tr style=\"text-align: right;\">\n",
       "      <th></th>\n",
       "      <th>id</th>\n",
       "      <th>pair</th>\n",
       "      <th>tkn</th>\n",
       "      <th>y_int</th>\n",
       "      <th>y</th>\n",
       "      <th>y_unit</th>\n",
       "      <th>disabled</th>\n",
       "      <th>p_start</th>\n",
       "      <th>p_end</th>\n",
       "      <th>p_marg</th>\n",
       "      <th>p_unit</th>\n",
       "      <th>lid</th>\n",
       "    </tr>\n",
       "  </thead>\n",
       "  <tbody>\n",
       "    <tr>\n",
       "      <th>0</th>\n",
       "      <td>0</td>\n",
       "      <td>ETHUSDC</td>\n",
       "      <td>ETH</td>\n",
       "      <td>2.074261</td>\n",
       "      <td>0.664800</td>\n",
       "      <td>ETH</td>\n",
       "      <td>False</td>\n",
       "      <td>1575.0</td>\n",
       "      <td>1732.5</td>\n",
       "      <td>1679.542113</td>\n",
       "      <td>USDC per ETH</td>\n",
       "      <td>1</td>\n",
       "    </tr>\n",
       "    <tr>\n",
       "      <th>1</th>\n",
       "      <td>1</td>\n",
       "      <td>ETHUSDC</td>\n",
       "      <td>USDC</td>\n",
       "      <td>3426.417620</td>\n",
       "      <td>2492.330734</td>\n",
       "      <td>USDC</td>\n",
       "      <td>False</td>\n",
       "      <td>1425.0</td>\n",
       "      <td>1282.5</td>\n",
       "      <td>1385.408487</td>\n",
       "      <td>USDC per ETH</td>\n",
       "      <td>0</td>\n",
       "    </tr>\n",
       "  </tbody>\n",
       "</table>\n",
       "</div>"
      ],
      "text/plain": [
       "   id     pair   tkn        y_int            y y_unit  disabled  p_start  \\\n",
       "0   0  ETHUSDC   ETH     2.074261     0.664800    ETH     False   1575.0   \n",
       "1   1  ETHUSDC  USDC  3426.417620  2492.330734   USDC     False   1425.0   \n",
       "\n",
       "    p_end       p_marg        p_unit  lid  \n",
       "0  1732.5  1679.542113  USDC per ETH    1  \n",
       "1  1282.5  1385.408487  USDC per ETH    0  "
      ]
     },
     "execution_count": 32,
     "metadata": {},
     "output_type": "execute_result"
    }
   ],
   "source": [
    "Sim = CarbonSimulatorUI(pair=\"ETH/USDC\", verbose=False)\n",
    "Sim.add_strategy(\"ETH\", amt_eth, p_sell_a, p_sell_b, amt_usdc, p_buy_a, p_buy_b)\n",
    "print()\n",
    "print(f\"buy ETH {p_buy_a:.1f}-{p_buy_b:.1f}, sell ETH {p_sell_a:.1f}-{p_sell_b:.1f}\")\n",
    "print(\"-\"*20)\n",
    "printdots = True\n",
    "#Sim.state()[\"orders\"]\n",
    "\n",
    "for t, spot, ix in zip(TIME, PATH, range(len(PATH))):\n",
    "    orderuis = Sim.state()[\"orderuis\"]\n",
    "    orders_sell_eth = {k:v for k,v in orderuis.items() if v.tkn==\"ETH\"}\n",
    "    dy_f_sell_eth = lambda p: sum(o.dyfromp_f(p) for o in orders_sell_eth.values())\n",
    "    sell_eth  = dy_f_sell_eth(spot)\n",
    "    orders_sell_usdc = {k:v for k,v in orderuis.items() if v.tkn==\"USDC\"}\n",
    "    dy_f_sell_usdc = lambda p: sum(o.dyfromp_f(p) for o in orders_sell_usdc.values())\n",
    "    sell_usdc = dy_f_sell_usdc(spot)\n",
    "    \n",
    "    if sell_eth > 0.0001:\n",
    "        r = Sim.amm_sells(\"ETH\", sell_eth, support_partial=True)\n",
    "        failed = \"\" if r['success'] else \"FAILED\"\n",
    "        print(f\"ix={ix:4.0f}, spot={spot:0.1f}: sell {sell_eth:10.2f} ETH {failed}\")\n",
    "        printdots = True\n",
    "    \n",
    "    elif sell_usdc > 0.001:\n",
    "        r = Sim.amm_sells(\"USDC\", sell_usdc, support_partial=True)\n",
    "        failed = \"\" if r['success'] else \"FAILED\"\n",
    "        print(f\"ix={ix:4.0f}, spot={spot:0.1f}: sell {sell_usdc:10.2f} USDC {failed}\")\n",
    "        printdots = True\n",
    "    \n",
    "    else:\n",
    "        if printdots:\n",
    "            print(\"...\")\n",
    "        printdots = False\n",
    "        #print(f\"ix={ix:4.0f}, spot={spot:0.1f}: ---\")\n",
    "\n",
    "o = Sim.state()[\"orders\"]\n",
    "#print(f\"ix={ix:4.0f}, spot={spot:0.1f}: -- sim  finished --\")\n",
    "amt_eth_final = abs(float(o.query(\"tkn=='ETH'\")[\"y\"]))\n",
    "amt_usdc_final = abs(float(o.query(\"tkn=='USDC'\")[\"y\"]))\n",
    "print(\"-\"*20)\n",
    "print(f\"ix={0:4.0f},  spot={PATH[0]:0.1f}: {amt_eth:.1f} ETH {amt_usdc:.1f} USDC (={amt_eth*PATH[0]+amt_usdc:.1f} USDC)\")\n",
    "print(f\"ix={ix:4.0f},  spot={spot:0.1f}: {amt_eth_final:.1f} ETH {amt_usdc_final:.1f} USDC (={amt_eth_final*spot+amt_usdc_final:.1f} USDC)\")\n",
    "print()\n",
    "o"
   ]
  },
  {
   "cell_type": "code",
   "execution_count": 33,
   "id": "12351391",
   "metadata": {},
   "outputs": [],
   "source": [
    "global AMOUNTS\n",
    "\n",
    "AMOUNTS = {\n",
    "    \"usdc\": amt_usdc_final,\n",
    "    \"eth\":  amt_eth_final,\n",
    "    \"val\": amt_eth_final*spot+amt_usdc_final,\n",
    "}"
   ]
  },
  {
   "cell_type": "markdown",
   "id": "eaf7bdb6",
   "metadata": {},
   "source": [
    "## with using tradeto"
   ]
  },
  {
   "cell_type": "code",
   "execution_count": 34,
   "id": "2248a9d0",
   "metadata": {},
   "outputs": [
    {
     "data": {
      "text/plain": [
       "{0: CarbonOrderUI(pair=ETH/USDC, tkn=ETH, B=0.024024999005214903, S=0.0011726325287335776, yint=1.0, y=1.0, id=0, linked=<1>),\n",
       " 1: CarbonOrderUI(pair=ETH/USDC, tkn=USDC, B=35.812009158939965, S=1.9371630174137806, yint=1000.0, y=1000.0, id=1, linked=<0>)}"
      ]
     },
     "execution_count": 34,
     "metadata": {},
     "output_type": "execute_result"
    }
   ],
   "source": [
    "Sim = CarbonSimulatorUI(pair=\"ETH/USDC\")\n",
    "Sim.add_strategy(\"ETH\", amt_eth, p_sell_a, p_sell_b, amt_usdc, p_buy_a, p_buy_b)\n",
    "ouis = Sim.state()[\"orderuis\"]\n",
    "ouis"
   ]
  },
  {
   "cell_type": "code",
   "execution_count": 35,
   "id": "a49879e0",
   "metadata": {},
   "outputs": [],
   "source": [
    "ethamt_r  = [ouis[0].y]\n",
    "usdcamt_r = [ouis[1].y]\n",
    "for spot in PATH[1:]:\n",
    "    r0 = ouis[0].tradeto(spot)\n",
    "    r1 = ouis[1].tradeto(spot)\n",
    "    ethamt_r  += [ouis[0].y]\n",
    "    usdcamt_r += [ouis[1].y]\n",
    "ethamt_r  = np.array(ethamt_r)\n",
    "usdcamt_r = np.array(usdcamt_r)"
   ]
  },
  {
   "cell_type": "code",
   "execution_count": 36,
   "id": "b3eeb211",
   "metadata": {},
   "outputs": [
    {
     "name": "stdout",
     "output_type": "stream",
     "text": [
      "t=0.0:  1.0 ETH   1000 USDC (value 2500.0 USDC)\n",
      "t=1.0:  0.7 ETH   2492 USDC (value 3530.1 USDC)\n"
     ]
    },
    {
     "data": {
      "image/png": "[encoded data removed]",
      "text/plain": [
       "<Figure size 432x288 with 1 Axes>"
      ]
     },
     "metadata": {},
     "output_type": "display_data"
    }
   ],
   "source": [
    "#plt.scatter(x=ethamt_r, y=usdcamt_r)\n",
    "print(f\"t={0:3.1f}: {ethamt_r[0]:4.1f} ETH {usdcamt_r[0]:6.0f} USDC (value {ethamt_r[0]*PATH[0]+usdcamt_r[0]:6.1f} USDC)\")\n",
    "print(f\"t={1:3.1f}: {ethamt_r[-1]:4.1f} ETH {usdcamt_r[-1]:6.0f} USDC (value {ethamt_r[-1]*PATH[-1]+usdcamt_r[-1]:6.1f} USDC)\")\n",
    "plt.plot(ethamt_r, usdcamt_r, \"-o\")\n",
    "plt.xlabel(\"ETH\")\n",
    "plt.ylabel(\"USDC\")\n",
    "plt.grid()"
   ]
  },
  {
   "cell_type": "code",
   "execution_count": 37,
   "id": "ba7008a1",
   "metadata": {
    "lines_to_next_cell": 2
   },
   "outputs": [
    {
     "name": "stdout",
     "output_type": "stream",
     "text": [
      "t=1.0:  0.7 ETH   2492 USDC (value 3530.1 USDC)\n"
     ]
    },
    {
     "data": {
      "image/png": "[encoded data removed]",
      "text/plain": [
       "<Figure size 432x288 with 2 Axes>"
      ]
     },
     "metadata": {},
     "output_type": "display_data"
    }
   ],
   "source": [
    "value_r = ethamt_r * PATH + usdcamt_r\n",
    "fig, ax1 = plt.subplots()\n",
    "ax2 = ax1.twinx()\n",
    "ax1.plot(TIME, PATH, color=\"lightgrey\")\n",
    "ax1.fill_between(TIME, p_buy_a, p_buy_b, color=\"lightgreen\", alpha=0.1)\n",
    "ax1.fill_between(TIME, p_sell_a, p_sell_b, color=\"lightcoral\", alpha=0.1)\n",
    "ax2.plot(TIME, value_r)\n",
    "plt.xlabel(\"time\")\n",
    "ax2.set_ylabel(\"portfolio value [USDC]\")\n",
    "ax1.set_ylabel(\"ETH price [USDC]\")\n",
    "print(f\"t={1:3.1f}: {ethamt_r[-1]:4.1f} ETH {usdcamt_r[-1]:6.0f} USDC (value {ethamt_r[-1]*PATH[-1]+usdcamt_r[-1]:6.1f} USDC)\")"
   ]
  },
  {
   "cell_type": "code",
   "execution_count": 38,
   "id": "540434bb",
   "metadata": {},
   "outputs": [
    {
     "name": "stdout",
     "output_type": "stream",
     "text": [
      "with tradeto: 0.6648 ETH 2492.33 USDC (value 3530.07 USDC)\n",
      "without:      0.6648 ETH 2492.33 USDC (value 3530.07 USDC)\n"
     ]
    }
   ],
   "source": [
    "if 'AMOUNTS' in globals():\n",
    "    print(f\"with tradeto: {AMOUNTS['eth']:6.4f} ETH {AMOUNTS['usdc']:6.2f} USDC (value {AMOUNTS['val']:6.2f} USDC)\")\n",
    "    print(f\"without:      {ethamt_r[-1]:6.4f} ETH {usdcamt_r[-1]:6.2f} USDC (value {ethamt_r[-1]*PATH[-1]+usdcamt_r[-1]:6.2f} USDC)\")\n",
    "    assert round(AMOUNTS['eth'],8) == round(ethamt_r[-1],8)\n",
    "    assert round(AMOUNTS['usdc'],8) == round(usdcamt_r[-1],8)\n",
    "    assert round(AMOUNTS['val'],8) == round(ethamt_r[-1]*PATH[-1]+usdcamt_r[-1],8)\n",
    "pass"
   ]
  },
  {
   "cell_type": "code",
   "execution_count": 39,
   "id": "4db67886",
   "metadata": {},
   "outputs": [],
   "source": [
    "assert \",\".join([f\"{int(x)}\" for x in value_r]) == \"\"\"\n",
    "2500,2491,2485,2479,2466,2433,2569,2539,2498,2442,2354,2305,2250,\n",
    "2292,2200,2173,2223,2354,2597,2661,2693,2637,2683,2791,2675,2569,\n",
    "2654,2485,2365,2131,2467,2485,2580,2560,2746,2717,2953,2930,2934,\n",
    "2934,2883,2817,2674,2538,2567,2683,2587,2774,2654,2648,2781,2878,\n",
    "3141,3002,3009,3129,2874,2866,2804,2525,2565,2601,2636,2828,2873,\n",
    "2751,2777,2746,2695,2705,2667,2962,2986,3140,3320,3274,3422,3426,\n",
    "3426,3426,3426,3426,3426,3413,3450,3477,3496,3546,3470,3424,3471,\n",
    "3539,3527,3519,3510,3569,3581,3602,3562,3508,3530\n",
    "\"\"\".replace(\"\\n\", \"\").replace(\" \", \"\")"
   ]
  },
  {
   "cell_type": "code",
   "execution_count": null,
   "id": "bd0be56f",
   "metadata": {},
   "outputs": [],
   "source": []
  }
 ],
 "metadata": {
  "jupytext": {
   "formats": "ipynb,py:light"
  },
  "kernelspec": {
   "display_name": "Python 3",
   "language": "python",
   "name": "python3"
  },
  "language_info": {
   "codemirror_mode": {
    "name": "ipython",
    "version": 3
   },
   "file_extension": ".py",
   "mimetype": "text/x-python",
   "name": "python",
   "nbconvert_exporter": "python",
   "pygments_lexer": "ipython3",
   "version": "3.8.8"
  }
 },
 "nbformat": 4,
 "nbformat_minor": 5
}
