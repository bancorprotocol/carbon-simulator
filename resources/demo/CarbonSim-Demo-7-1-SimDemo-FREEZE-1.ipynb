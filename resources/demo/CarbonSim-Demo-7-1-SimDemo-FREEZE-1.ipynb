{
 "cells": [
  {
   "cell_type": "code",
   "execution_count": 34,
   "id": "8819dd70",
   "metadata": {},
   "outputs": [
    {
     "name": "stdout",
     "output_type": "stream",
     "text": [
      "Carbon v2.2-BETA7 (19/Jan/2022)\n",
      "CarbonSimulatorUI v2.4 (12/Jan/2023)\n",
      "CarbonOrderUI v1.5.2 (19/Jan/2023)\n"
     ]
    }
   ],
   "source": [
    "from carbon import CarbonSimulatorUI, CarbonOrderUI, P, __version__, __date__\n",
    "from math import sqrt, exp, log\n",
    "import numpy as np\n",
    "from matplotlib import pyplot as plt\n",
    "#plt.style.use('seaborn-dark-palette')\n",
    "plt.style.use('Solarize_Light2')\n",
    "plt.style.use('seaborn-dark')\n",
    "from IPython.display import HTML\n",
    "print(f\"Carbon v{__version__} ({__date__})\")\n",
    "print(\"{0.__name__} v{0.__VERSION__} ({0.__DATE__})\".format(CarbonSimulatorUI))\n",
    "print(\"{0.__name__} v{0.__VERSION__} ({0.__DATE__})\".format(CarbonOrderUI))"
   ]
  },
  {
   "cell_type": "code",
   "execution_count": 35,
   "id": "75aa33b3",
   "metadata": {},
   "outputs": [],
   "source": [
    "# HTML(\"\"\"\n",
    "# <style>\n",
    "# #notebook-container {background-color: #abc}\n",
    "# </style>\n",
    "# \"\"\")"
   ]
  },
  {
   "cell_type": "code",
   "execution_count": 36,
   "id": "b9653716",
   "metadata": {},
   "outputs": [],
   "source": [
    "plt.rcParams['figure.figsize'] = [8,4]"
   ]
  },
  {
   "cell_type": "markdown",
   "id": "68d363b7",
   "metadata": {},
   "source": [
    "# Carbon Simulation - Demo 7-1 (Sim Demo)"
   ]
  },
  {
   "cell_type": "code",
   "execution_count": 37,
   "id": "67cc5df5",
   "metadata": {},
   "outputs": [
    {
     "data": {
      "text/plain": [
       "['default',\n",
       " 'classic',\n",
       " 'Solarize_Light2',\n",
       " 'bmh',\n",
       " 'dark_background',\n",
       " 'fast',\n",
       " 'fivethirtyeight',\n",
       " 'ggplot',\n",
       " 'grayscale',\n",
       " 'seaborn',\n",
       " 'seaborn-bright',\n",
       " 'seaborn-colorblind',\n",
       " 'seaborn-dark',\n",
       " 'seaborn-dark-palette',\n",
       " 'seaborn-darkgrid',\n",
       " 'seaborn-deep',\n",
       " 'seaborn-muted',\n",
       " 'seaborn-notebook',\n",
       " 'seaborn-paper',\n",
       " 'seaborn-pastel',\n",
       " 'seaborn-poster',\n",
       " 'seaborn-talk',\n",
       " 'seaborn-ticks',\n",
       " 'seaborn-white',\n",
       " 'seaborn-whitegrid',\n",
       " 'tableau-colorblind10']"
      ]
     },
     "execution_count": 37,
     "metadata": {},
     "output_type": "execute_result"
    }
   ],
   "source": [
    "style_list = ['default', 'classic'] + sorted(\n",
    "    style for style in plt.style.available\n",
    "    if style != 'classic' and not style.startswith('_'))\n",
    "style_list"
   ]
  },
  {
   "cell_type": "markdown",
   "id": "42a8a439",
   "metadata": {},
   "source": [
    "## Setup"
   ]
  },
  {
   "cell_type": "markdown",
   "id": "9560fcdc",
   "metadata": {},
   "source": [
    "### Define parameters"
   ]
  },
  {
   "cell_type": "code",
   "execution_count": 38,
   "id": "cf03f65e",
   "metadata": {},
   "outputs": [],
   "source": [
    "pair = \"ETH/USDC\"\n",
    "vol = 0.5\n",
    "time = 1\n",
    "mu = 0\n",
    "steps = 100\n",
    "spot0 = 1500"
   ]
  },
  {
   "cell_type": "code",
   "execution_count": 39,
   "id": "89290967",
   "metadata": {},
   "outputs": [
    {
     "name": "stdout",
     "output_type": "stream",
     "text": [
      "buy ETH 1425.0-1282.5, spot 1500.0, sell ETH 1575.0-1732.5\n"
     ]
    }
   ],
   "source": [
    "amt_usdc    = 1000            # USDC\n",
    "amt_eth     = 1               # ETH\n",
    "\n",
    "w0 = 0.05\n",
    "w1 = 2*w0\n",
    "\n",
    "p_buy_a = spot0*(1-w0)\n",
    "p_buy_b = spot0*(1-w0)*(1-w1)\n",
    "p_sell_a = spot0*(1+w0)\n",
    "p_sell_b = spot0*(1+w0)*(1+w1)\n",
    "print(f\"buy ETH {p_buy_a:.1f}-{p_buy_b:.1f}, spot {spot0:.1f}, sell ETH {p_sell_a:.1f}-{p_sell_b:.1f}\")"
   ]
  },
  {
   "cell_type": "markdown",
   "id": "5e0d32c2",
   "metadata": {},
   "source": [
    "### Calculate derived parameters and set up objects"
   ]
  },
  {
   "cell_type": "code",
   "execution_count": 40,
   "id": "857bc7c4",
   "metadata": {},
   "outputs": [
    {
     "name": "stdout",
     "output_type": "stream",
     "text": [
      "0.1 0.0 0.05\n"
     ]
    }
   ],
   "source": [
    "dt = time/steps\n",
    "time_r = np.array([i*dt for i in range(steps+1)])\n",
    "sqrt_dt = sqrt(dt)\n",
    "mudt = mu*dt\n",
    "vol_sqrt_dt = vol*sqrt_dt\n",
    "half_sig2_dt = 0.5*vol*vol*dt\n",
    "print(sqrt_dt, mudt, vol_sqrt_dt)"
   ]
  },
  {
   "cell_type": "code",
   "execution_count": 41,
   "id": "20c7797b",
   "metadata": {},
   "outputs": [
    {
     "data": {
      "text/html": [
       "<div>\n",
       "<style scoped>\n",
       "    .dataframe tbody tr th:only-of-type {\n",
       "        vertical-align: middle;\n",
       "    }\n",
       "\n",
       "    .dataframe tbody tr th {\n",
       "        vertical-align: top;\n",
       "    }\n",
       "\n",
       "    .dataframe thead th {\n",
       "        text-align: right;\n",
       "    }\n",
       "</style>\n",
       "<table border=\"1\" class=\"dataframe\">\n",
       "  <thead>\n",
       "    <tr style=\"text-align: right;\">\n",
       "      <th></th>\n",
       "      <th>id</th>\n",
       "      <th>pair</th>\n",
       "      <th>tkn</th>\n",
       "      <th>y_int</th>\n",
       "      <th>y</th>\n",
       "      <th>y_unit</th>\n",
       "      <th>disabled</th>\n",
       "      <th>p_start</th>\n",
       "      <th>p_end</th>\n",
       "      <th>p_marg</th>\n",
       "      <th>p_unit</th>\n",
       "      <th>lid</th>\n",
       "    </tr>\n",
       "  </thead>\n",
       "  <tbody>\n",
       "    <tr>\n",
       "      <th>0</th>\n",
       "      <td>0</td>\n",
       "      <td>ETHUSDC</td>\n",
       "      <td>ETH</td>\n",
       "      <td>1.0</td>\n",
       "      <td>1.0</td>\n",
       "      <td>ETH</td>\n",
       "      <td>False</td>\n",
       "      <td>1575.0</td>\n",
       "      <td>1732.5</td>\n",
       "      <td>1575.0</td>\n",
       "      <td>USDC per ETH</td>\n",
       "      <td>1</td>\n",
       "    </tr>\n",
       "    <tr>\n",
       "      <th>1</th>\n",
       "      <td>1</td>\n",
       "      <td>ETHUSDC</td>\n",
       "      <td>USDC</td>\n",
       "      <td>1000.0</td>\n",
       "      <td>1000.0</td>\n",
       "      <td>USDC</td>\n",
       "      <td>False</td>\n",
       "      <td>1425.0</td>\n",
       "      <td>1282.5</td>\n",
       "      <td>1425.0</td>\n",
       "      <td>USDC per ETH</td>\n",
       "      <td>0</td>\n",
       "    </tr>\n",
       "  </tbody>\n",
       "</table>\n",
       "</div>"
      ],
      "text/plain": [
       "   id     pair   tkn   y_int       y y_unit  disabled  p_start   p_end  \\\n",
       "0   0  ETHUSDC   ETH     1.0     1.0    ETH     False   1575.0  1732.5   \n",
       "1   1  ETHUSDC  USDC  1000.0  1000.0   USDC     False   1425.0  1282.5   \n",
       "\n",
       "   p_marg        p_unit  lid  \n",
       "0  1575.0  USDC per ETH    1  \n",
       "1  1425.0  USDC per ETH    0  "
      ]
     },
     "execution_count": 41,
     "metadata": {},
     "output_type": "execute_result"
    }
   ],
   "source": [
    "Sim = CarbonSimulatorUI(pair=\"ETH/USDC\")\n",
    "Sim.add_strategy(\"ETH\", amt_eth, p_sell_a, p_sell_b, amt_usdc, p_buy_a, p_buy_b)\n",
    "Sim.state()[\"orders\"]"
   ]
  },
  {
   "cell_type": "markdown",
   "id": "b4bc241b",
   "metadata": {},
   "source": [
    "### Generate path"
   ]
  },
  {
   "cell_type": "code",
   "execution_count": 45,
   "id": "aced316a",
   "metadata": {},
   "outputs": [
    {
     "name": "stdout",
     "output_type": "stream",
     "text": [
      "buy ETH 1425.0-1282.5, sell ETH 1575.0-1732.5\n"
     ]
    },
    {
     "data": {
      "image/png": "[encoded data removed]",
      "text/plain": [
       "<Figure size 576x288 with 1 Axes>"
      ]
     },
     "metadata": {},
     "output_type": "display_data"
    }
   ],
   "source": [
    "rng = np.random.default_rng()\n",
    "increments = rng.lognormal(mean=mudt-half_sig2_dt, sigma=vol_sqrt_dt, size=steps)\n",
    "#multipliers = np.insert(np.cumprod(increments), 0, 1) \n",
    "#path = spot0 * multipliers\n",
    "path = np.cumprod(np.insert(increments, 0, spot0))\n",
    "plt.plot(time_r, path)\n",
    "plt.fill_between(time_r, p_buy_a, p_buy_b, color=\"lightgreen\", alpha=0.5)\n",
    "plt.fill_between(time_r, p_sell_a, p_sell_b, color=\"lightcoral\", alpha=0.3)\n",
    "plt.grid(visible=True)\n",
    "print(f\"buy ETH {p_buy_a:.1f}-{p_buy_b:.1f}, sell ETH {p_sell_a:.1f}-{p_sell_b:.1f}\")"
   ]
  },
  {
   "cell_type": "markdown",
   "id": "1b045cc4",
   "metadata": {},
   "source": [
    "## Simulation"
   ]
  },
  {
   "cell_type": "code",
   "execution_count": 46,
   "id": "26965de2",
   "metadata": {
    "lines_to_next_cell": 0
   },
   "outputs": [
    {
     "name": "stdout",
     "output_type": "stream",
     "text": [
      "\n",
      "buy ETH 1425.0-1282.5, sell ETH 1575.0-1732.5\n",
      "--------------------\n",
      "...\n",
      "ix=   2, spot=1356.7: sell     472.93 USDC \n",
      "...\n",
      "ix=   8, spot=1612.9: sell       0.34 ETH \n",
      "...\n",
      "ix=  11, spot=1651.3: sell       0.33 ETH \n",
      "...\n",
      "ix=  14, spot=1340.0: sell     950.72 USDC \n",
      "ix=  15, spot=1330.4: sell     109.97 USDC \n",
      "ix=  16, spot=1261.5: sell     551.29 USDC \n",
      "...\n",
      "ix=  46, spot=1663.8: sell       1.08 ETH \n",
      "ix=  47, spot=1826.8: sell       0.78 ETH \n",
      "...\n",
      "ix=  99, spot=1361.2: sell    1356.49 USDC \n",
      "...\n",
      "--------------------\n",
      "ix=   0,  spot=1500.0: 1.0 ETH 1000.0 USDC (=2500.0 USDC)\n",
      "ix= 100,  spot=1521.4: 1.0 ETH 1715.7 USDC (=3197.5 USDC)\n",
      "\n"
     ]
    },
    {
     "data": {
      "text/html": [
       "<div>\n",
       "<style scoped>\n",
       "    .dataframe tbody tr th:only-of-type {\n",
       "        vertical-align: middle;\n",
       "    }\n",
       "\n",
       "    .dataframe tbody tr th {\n",
       "        vertical-align: top;\n",
       "    }\n",
       "\n",
       "    .dataframe thead th {\n",
       "        text-align: right;\n",
       "    }\n",
       "</style>\n",
       "<table border=\"1\" class=\"dataframe\">\n",
       "  <thead>\n",
       "    <tr style=\"text-align: right;\">\n",
       "      <th></th>\n",
       "      <th>id</th>\n",
       "      <th>pair</th>\n",
       "      <th>tkn</th>\n",
       "      <th>y_int</th>\n",
       "      <th>y</th>\n",
       "      <th>y_unit</th>\n",
       "      <th>disabled</th>\n",
       "      <th>p_start</th>\n",
       "      <th>p_end</th>\n",
       "      <th>p_marg</th>\n",
       "      <th>p_unit</th>\n",
       "      <th>lid</th>\n",
       "    </tr>\n",
       "  </thead>\n",
       "  <tbody>\n",
       "    <tr>\n",
       "      <th>0</th>\n",
       "      <td>0</td>\n",
       "      <td>ETHUSDC</td>\n",
       "      <td>ETH</td>\n",
       "      <td>1.859800</td>\n",
       "      <td>0.973991</td>\n",
       "      <td>ETH</td>\n",
       "      <td>False</td>\n",
       "      <td>1575.0</td>\n",
       "      <td>1732.5</td>\n",
       "      <td>1647.213056</td>\n",
       "      <td>USDC per ETH</td>\n",
       "      <td>1</td>\n",
       "    </tr>\n",
       "    <tr>\n",
       "      <th>1</th>\n",
       "      <td>1</td>\n",
       "      <td>ETHUSDC</td>\n",
       "      <td>USDC</td>\n",
       "      <td>3072.155385</td>\n",
       "      <td>1715.666499</td>\n",
       "      <td>USDC</td>\n",
       "      <td>False</td>\n",
       "      <td>1425.0</td>\n",
       "      <td>1282.5</td>\n",
       "      <td>1361.154787</td>\n",
       "      <td>USDC per ETH</td>\n",
       "      <td>0</td>\n",
       "    </tr>\n",
       "  </tbody>\n",
       "</table>\n",
       "</div>"
      ],
      "text/plain": [
       "   id     pair   tkn        y_int            y y_unit  disabled  p_start  \\\n",
       "0   0  ETHUSDC   ETH     1.859800     0.973991    ETH     False   1575.0   \n",
       "1   1  ETHUSDC  USDC  3072.155385  1715.666499   USDC     False   1425.0   \n",
       "\n",
       "    p_end       p_marg        p_unit  lid  \n",
       "0  1732.5  1647.213056  USDC per ETH    1  \n",
       "1  1282.5  1361.154787  USDC per ETH    0  "
      ]
     },
     "execution_count": 46,
     "metadata": {},
     "output_type": "execute_result"
    }
   ],
   "source": [
    "Sim = CarbonSimulatorUI(pair=\"ETH/USDC\", verbose=False)\n",
    "Sim.add_strategy(\"ETH\", amt_eth, p_sell_a, p_sell_b, amt_usdc, p_buy_a, p_buy_b)\n",
    "print()\n",
    "print(f\"buy ETH {p_buy_a:.1f}-{p_buy_b:.1f}, sell ETH {p_sell_a:.1f}-{p_sell_b:.1f}\")\n",
    "print(\"-\"*20)\n",
    "printdots = True\n",
    "#Sim.state()[\"orders\"]\n",
    "for t, spot, ix in zip(time_r, path, range(len(path))):\n",
    "    \n",
    "    orderuis = Sim.state()[\"orderuis\"]\n",
    "    \n",
    "    orders_sell_eth = {k:v for k,v in orderuis.items() if v.tkn==\"ETH\"}\n",
    "    dy_f_sell_eth = lambda p: sum(o.dyfromp_f(p) for o in orders_sell_eth.values())\n",
    "    sell_eth  = dy_f_sell_eth(spot)\n",
    "    \n",
    "    orders_sell_usdc = {k:v for k,v in orderuis.items() if v.tkn==\"USDC\"}\n",
    "    dy_f_sell_usdc = lambda p: sum(o.dyfromp_f(p) for o in orders_sell_usdc.values())\n",
    "    sell_usdc = dy_f_sell_usdc(spot)\n",
    "    \n",
    "    if sell_eth > 0.0001:\n",
    "        r = Sim.amm_sells(\"ETH\", sell_eth, support_partial=True)\n",
    "        failed = \"\" if r['success'] else \"FAILED\"\n",
    "        print(f\"ix={ix:4.0f}, spot={spot:0.1f}: sell {sell_eth:10.2f} ETH {failed}\")\n",
    "        printdots = True\n",
    "    \n",
    "    elif sell_usdc > 0.001:\n",
    "        r = Sim.amm_sells(\"USDC\", sell_usdc, support_partial=True)\n",
    "        failed = \"\" if r['success'] else \"FAILED\"\n",
    "        print(f\"ix={ix:4.0f}, spot={spot:0.1f}: sell {sell_usdc:10.2f} USDC {failed}\")\n",
    "        printdots = True\n",
    "    \n",
    "    else:\n",
    "        if printdots:\n",
    "            print(\"...\")\n",
    "        printdots = False\n",
    "        #print(f\"ix={ix:4.0f}, spot={spot:0.1f}: ---\")\n",
    "\n",
    "o = Sim.state()[\"orders\"]\n",
    "#print(f\"ix={ix:4.0f}, spot={spot:0.1f}: -- sim  finished --\")\n",
    "amt_eth_final = abs(float(o.query(\"tkn=='ETH'\")[\"y\"]))\n",
    "amt_usdc_final = abs(float(o.query(\"tkn=='USDC'\")[\"y\"]))\n",
    "print(\"-\"*20)\n",
    "print(f\"ix={0:4.0f},  spot={path[0]:0.1f}: {amt_eth:.1f} ETH {amt_usdc:.1f} USDC (={amt_eth*path[0]+amt_usdc:.1f} USDC)\")\n",
    "print(f\"ix={ix:4.0f},  spot={spot:0.1f}: {amt_eth_final:.1f} ETH {amt_usdc_final:.1f} USDC (={amt_eth_final*spot+amt_usdc_final:.1f} USDC)\")\n",
    "print()\n",
    "o"
   ]
  },
  {
   "cell_type": "code",
   "execution_count": null,
   "id": "622d44d7",
   "metadata": {},
   "outputs": [],
   "source": []
  },
  {
   "cell_type": "code",
   "execution_count": null,
   "id": "c04c873a",
   "metadata": {},
   "outputs": [],
   "source": []
  },
  {
   "cell_type": "code",
   "execution_count": null,
   "id": "ea481d5a",
   "metadata": {},
   "outputs": [],
   "source": []
  }
 ],
 "metadata": {
  "jupytext": {
   "formats": "ipynb,py:light"
  },
  "kernelspec": {
   "display_name": "Python 3",
   "language": "python",
   "name": "python3"
  },
  "language_info": {
   "codemirror_mode": {
    "name": "ipython",
    "version": 3
   },
   "file_extension": ".py",
   "mimetype": "text/x-python",
   "name": "python",
   "nbconvert_exporter": "python",
   "pygments_lexer": "ipython3",
   "version": "3.8.8"
  }
 },
 "nbformat": 4,
 "nbformat_minor": 5
}
