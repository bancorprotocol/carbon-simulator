{
 "cells": [
  {
   "cell_type": "code",
   "execution_count": 29,
   "id": "afd0cfc2",
   "metadata": {},
   "outputs": [
    {
     "name": "stdout",
     "output_type": "stream",
     "text": [
      "Carbon v2.3-BETA2 (25/Jan/2022)\n",
      "CarbonSimulatorUI v2.5 (25/Jan/2023)\n",
      "CarbonOrderUI v1.6.1 (21/Jan/2023)\n"
     ]
    }
   ],
   "source": [
    "from carbon import CarbonSimulatorUI, CarbonOrderUI, P, __version__, __date__\n",
    "from carbon.helpers import SharedVar, print_version\n",
    "from math import floor, ceil, trunc\n",
    "print_version(require=\"2.3\")"
   ]
  },
  {
   "cell_type": "markdown",
   "id": "57c17850",
   "metadata": {},
   "source": [
    "# SharedVar class in helpers (NBTest 54)"
   ]
  },
  {
   "cell_type": "markdown",
   "id": "1824976f",
   "metadata": {},
   "source": [
    "## Shared Var"
   ]
  },
  {
   "cell_type": "markdown",
   "id": "acd81f0b",
   "metadata": {},
   "source": [
    "#### Definitions"
   ]
  },
  {
   "cell_type": "code",
   "execution_count": 31,
   "id": "308aad7f",
   "metadata": {},
   "outputs": [
    {
     "data": {
      "text/plain": [
       "SharedVar(5, oid=140361813806384)"
      ]
     },
     "execution_count": 31,
     "metadata": {},
     "output_type": "execute_result"
    }
   ],
   "source": [
    "x, x2 = SharedVar(5), SharedVar(5.1234)\n",
    "x"
   ]
  },
  {
   "cell_type": "code",
   "execution_count": 32,
   "id": "00cf82bd",
   "metadata": {},
   "outputs": [],
   "source": [
    "assert repr(x)[:17] == \"SharedVar(5, oid=\""
   ]
  },
  {
   "cell_type": "markdown",
   "id": "0b63ecf9",
   "metadata": {},
   "source": [
    "#### Comparisons"
   ]
  },
  {
   "cell_type": "code",
   "execution_count": 33,
   "id": "c6b1daa0",
   "metadata": {},
   "outputs": [],
   "source": [
    "assert (x==x, x==5, x<5, x>5, x<=5, x>=5, 5<x, 5>x) == (True, True, False, False, True, True, False, False)\n",
    "assert (x==x, 5<=x, 5>=x) == (True, True, True)"
   ]
  },
  {
   "cell_type": "markdown",
   "id": "16365c7e",
   "metadata": {},
   "source": [
    "#### Unitary operations"
   ]
  },
  {
   "cell_type": "code",
   "execution_count": 34,
   "id": "de913849",
   "metadata": {},
   "outputs": [],
   "source": [
    "assert x==+x\n",
    "assert x.id != (+x).id\n",
    "assert (-x).value == -5\n",
    "assert x.id != (-x).id\n",
    "assert (abs(-x)).value == 5\n",
    "assert x.id != (abs(-x)).id\n",
    "assert round(x2,2)==5.12\n",
    "assert x2.id != round(x2,2).id\n",
    "assert trunc(x2)==5\n",
    "assert x2.id != trunc(x2).id\n",
    "assert floor(x2)==5\n",
    "assert x2.id != floor(x2).id\n",
    "assert ceil(x2)==6\n",
    "assert x2.id != ceil(x2).id"
   ]
  },
  {
   "cell_type": "markdown",
   "id": "54ce6678",
   "metadata": {},
   "source": [
    "#### Binary operations"
   ]
  },
  {
   "cell_type": "code",
   "execution_count": 35,
   "id": "8c39b064",
   "metadata": {},
   "outputs": [],
   "source": [
    "assert x+1 == 6\n",
    "assert x.id != (x+1).id\n",
    "assert x-1 == 4\n",
    "assert x.id != (x-1).id\n",
    "assert x*2 == 10\n",
    "assert x.id != (x*2).id\n",
    "assert x/2 == 2.5\n",
    "assert x.id != (x/2).id\n",
    "assert x//2 == 2\n",
    "assert x.id != (x//2).id\n",
    "assert x**2 == 25\n",
    "assert x.id != (x//2).id\n",
    "assert x<<1 == 10\n",
    "assert x.id != (x<<1).id\n",
    "assert x>>1 == 2\n",
    "assert x.id != (x>>1).id\n",
    "assert x&3 == 1\n",
    "assert x.id != (x&3).id\n",
    "assert x|2 == 7\n",
    "assert x.id != (x|2).id\n",
    "assert x^1 == 4\n",
    "assert x.id != (x^1).id"
   ]
  },
  {
   "cell_type": "code",
   "execution_count": 36,
   "id": "6e0309e0",
   "metadata": {},
   "outputs": [],
   "source": [
    "assert divmod(x,2)[0] == 2\n",
    "assert divmod(x,2)[1] == 1\n",
    "assert x.id != divmod(x,2)[0].id\n",
    "assert x.id != divmod(x,2)[1].id"
   ]
  },
  {
   "cell_type": "markdown",
   "id": "5e5a9aae",
   "metadata": {},
   "source": [
    "#### Reverse binary operations"
   ]
  },
  {
   "cell_type": "code",
   "execution_count": 37,
   "id": "38e778b8",
   "metadata": {},
   "outputs": [],
   "source": [
    "assert 1+x == 6\n",
    "assert x.id != (1+x).id\n",
    "assert 1-x == -4\n",
    "assert x.id != (1-x).id\n",
    "assert 2*x == 10\n",
    "assert x.id != (2*x).id\n",
    "assert 2/x == 0.4\n",
    "assert x.id != (2/x).id\n",
    "assert 2//x == 0\n",
    "assert x.id != (2//x).id\n",
    "assert 2**x == 32\n",
    "assert x.id != (2**x).id\n",
    "assert 1<<x == 32\n",
    "assert x.id != (1<<x).id\n",
    "assert 1024>>x == 32\n",
    "assert x.id != (1024>>x).id\n",
    "assert 3&x == 1\n",
    "assert x.id != (3&x).id\n",
    "assert 2|x == 7\n",
    "assert x.id != (2|x).id\n",
    "assert 1^x == 4\n",
    "assert x.id != (1^x).id"
   ]
  },
  {
   "cell_type": "code",
   "execution_count": 38,
   "id": "22665bf5",
   "metadata": {},
   "outputs": [],
   "source": [
    "assert divmod(16,x)[0] == 3\n",
    "assert divmod(16,x)[1] == 1\n",
    "assert x.id != divmod(16,x)[0].id\n",
    "assert x.id != divmod(16,x)[1].id"
   ]
  },
  {
   "cell_type": "markdown",
   "id": "97104cc4",
   "metadata": {},
   "source": [
    "#### Assignment operations"
   ]
  },
  {
   "cell_type": "code",
   "execution_count": 39,
   "id": "a72ad9a8",
   "metadata": {},
   "outputs": [],
   "source": [
    "y = SharedVar(100)\n",
    "id0 = y.id\n",
    "y+=1\n",
    "y-=1\n",
    "y*=10\n",
    "y//=10\n",
    "assert y == 100\n",
    "y<<=2\n",
    "y>>=1\n",
    "assert y == 200\n",
    "y&=199\n",
    "y|=1\n",
    "y^=17\n",
    "assert y == 208\n",
    "y /= 32\n",
    "assert y == 6.5\n",
    "assert y.id == id0"
   ]
  },
  {
   "cell_type": "markdown",
   "id": "c4cf94d5",
   "metadata": {},
   "source": [
    "#### Conversions"
   ]
  },
  {
   "cell_type": "code",
   "execution_count": 40,
   "id": "94621be4",
   "metadata": {},
   "outputs": [],
   "source": [
    "x = SharedVar(5.5)\n",
    "assert int(x) == 5\n",
    "assert str(x) == \"5.5\"\n",
    "assert float(x) == 5.5\n",
    "assert complex(x) == complex(float(x))"
   ]
  },
  {
   "cell_type": "code",
   "execution_count": null,
   "id": "4188bd31",
   "metadata": {},
   "outputs": [],
   "source": []
  },
  {
   "cell_type": "code",
   "execution_count": null,
   "id": "363c3905",
   "metadata": {
    "lines_to_next_cell": 2
   },
   "outputs": [],
   "source": []
  }
 ],
 "metadata": {
  "jupytext": {
   "encoding": "# -*- coding: utf-8 -*-",
   "formats": "ipynb,py:light"
  },
  "kernelspec": {
   "display_name": "Python 3",
   "language": "python",
   "name": "python3"
  },
  "language_info": {
   "codemirror_mode": {
    "name": "ipython",
    "version": 3
   },
   "file_extension": ".py",
   "mimetype": "text/x-python",
   "name": "python",
   "nbconvert_exporter": "python",
   "pygments_lexer": "ipython3",
   "version": "3.8.8"
  }
 },
 "nbformat": 4,
 "nbformat_minor": 5
}
