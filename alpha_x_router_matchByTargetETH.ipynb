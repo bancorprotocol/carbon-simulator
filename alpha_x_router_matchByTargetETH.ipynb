{
 "cells": [
  {
   "cell_type": "code",
   "execution_count": 1,
   "metadata": {},
   "outputs": [],
   "source": [
    "from benchmark import impl\n",
    "from benchmark import alphaxutils\n",
    "from decimal import Decimal\n",
    "import pandas as pd\n",
    "\n",
    "Order = alphaxutils.Order\n",
    "tradeBySourceAmount = alphaxutils.tradeBySourceAmount\n",
    "tradeByTargetAmount = alphaxutils.tradeByTargetAmount\n",
    "AlphaRouter = alphaxutils.AlphaRouter\n",
    "CarbonOrderUI = alphaxutils.CarbonOrderUI\n",
    "assertAlmostEqual = alphaxutils.assertAlmostEqual"
   ]
  },
  {
   "cell_type": "code",
   "execution_count": 2,
   "metadata": {},
   "outputs": [],
   "source": [
    "threshold_orders = 6\n",
    "inputAmount = Decimal('3')\n",
    "support_partial = True\n",
    "\n",
    "order_params = {\n",
    "    'liquidity':Decimal('5'),\n",
    "    'highestRate':Decimal('0.0005'), # 2000\n",
    "    'lowestRate':Decimal('0.0004'),  # 2500\n",
    "    'marginalRate':Decimal('0.0005'),\n",
    "    }\n",
    "order_params2 = {\n",
    "    'liquidity':Decimal('4'),\n",
    "    'highestRate':Decimal('0.0006'), # 1666\n",
    "    'lowestRate':Decimal('0.0005'),  # 2000\n",
    "    'marginalRate':Decimal('0.0006'),\n",
    "    }"
   ]
  },
  {
   "cell_type": "code",
   "execution_count": 3,
   "metadata": {},
   "outputs": [],
   "source": [
    "orders = []\n",
    "for i in range(5):\n",
    "    orders += [Order(order_params)]\n",
    "    orders += [Order(order_params2)]\n",
    "\n",
    "indexes = list(range(len(orders)))   "
   ]
  },
  {
   "attachments": {},
   "cell_type": "markdown",
   "metadata": {},
   "source": [
    "# Match by Target"
   ]
  },
  {
   "cell_type": "code",
   "execution_count": 4,
   "metadata": {},
   "outputs": [
    {
     "data": {
      "text/html": [
       "<div>\n",
       "<style scoped>\n",
       "    .dataframe tbody tr th:only-of-type {\n",
       "        vertical-align: middle;\n",
       "    }\n",
       "\n",
       "    .dataframe tbody tr th {\n",
       "        vertical-align: top;\n",
       "    }\n",
       "\n",
       "    .dataframe thead th {\n",
       "        text-align: right;\n",
       "    }\n",
       "</style>\n",
       "<table border=\"1\" class=\"dataframe\">\n",
       "  <thead>\n",
       "    <tr style=\"text-align: right;\">\n",
       "      <th></th>\n",
       "      <th>indexes</th>\n",
       "      <th>hypothetical_output_amts</th>\n",
       "      <th>indexes_b</th>\n",
       "      <th>actual_output_amts</th>\n",
       "      <th>ordered_associated_liquidity_keys</th>\n",
       "      <th>ordered_associated_liquidity</th>\n",
       "    </tr>\n",
       "  </thead>\n",
       "  <tbody>\n",
       "    <tr>\n",
       "      <th>0</th>\n",
       "      <td>1</td>\n",
       "      <td>5349.57780777178636087645819693541744542684146...</td>\n",
       "      <td>1</td>\n",
       "      <td>7302.96743340221484609293043734402845270326259...</td>\n",
       "      <td>1</td>\n",
       "      <td>4</td>\n",
       "    </tr>\n",
       "    <tr>\n",
       "      <th>1</th>\n",
       "      <td>3</td>\n",
       "      <td>5349.57780777178636087645819693541744542684146...</td>\n",
       "      <td>3</td>\n",
       "      <td>7302.96743340221484609293043734402845270326259...</td>\n",
       "      <td>3</td>\n",
       "      <td>4</td>\n",
       "    </tr>\n",
       "    <tr>\n",
       "      <th>2</th>\n",
       "      <td>5</td>\n",
       "      <td>5349.57780777178636087645819693541744542684146...</td>\n",
       "      <td>5</td>\n",
       "      <td>7302.96743340221484609293043734402845270326259...</td>\n",
       "      <td>5</td>\n",
       "      <td>4</td>\n",
       "    </tr>\n",
       "    <tr>\n",
       "      <th>3</th>\n",
       "      <td>7</td>\n",
       "      <td>5349.57780777178636087645819693541744542684146...</td>\n",
       "      <td>7</td>\n",
       "      <td>7302.96743340221484609293043734402845270326259...</td>\n",
       "      <td>7</td>\n",
       "      <td>4</td>\n",
       "    </tr>\n",
       "    <tr>\n",
       "      <th>4</th>\n",
       "      <td>9</td>\n",
       "      <td>5349.57780777178636087645819693541744542684146...</td>\n",
       "      <td>9</td>\n",
       "      <td>7302.96743340221484609293043734402845270326259...</td>\n",
       "      <td>9</td>\n",
       "      <td>4</td>\n",
       "    </tr>\n",
       "    <tr>\n",
       "      <th>5</th>\n",
       "      <td>0</td>\n",
       "      <td>6405.76474687263408460320377322685764870695654...</td>\n",
       "      <td>0</td>\n",
       "      <td>11180.3398874989484820458683436563811772030917...</td>\n",
       "      <td>0</td>\n",
       "      <td>5</td>\n",
       "    </tr>\n",
       "    <tr>\n",
       "      <th>6</th>\n",
       "      <td>2</td>\n",
       "      <td>6405.76474687263408460320377322685764870695654...</td>\n",
       "      <td>2</td>\n",
       "      <td>11180.3398874989484820458683436563811772030917...</td>\n",
       "      <td>2</td>\n",
       "      <td>5</td>\n",
       "    </tr>\n",
       "    <tr>\n",
       "      <th>7</th>\n",
       "      <td>4</td>\n",
       "      <td>6405.76474687263408460320377322685764870695654...</td>\n",
       "      <td>4</td>\n",
       "      <td>11180.3398874989484820458683436563811772030917...</td>\n",
       "      <td>4</td>\n",
       "      <td>5</td>\n",
       "    </tr>\n",
       "    <tr>\n",
       "      <th>8</th>\n",
       "      <td>6</td>\n",
       "      <td>6405.76474687263408460320377322685764870695654...</td>\n",
       "      <td>6</td>\n",
       "      <td>11180.3398874989484820458683436563811772030917...</td>\n",
       "      <td>6</td>\n",
       "      <td>5</td>\n",
       "    </tr>\n",
       "    <tr>\n",
       "      <th>9</th>\n",
       "      <td>8</td>\n",
       "      <td>6405.76474687263408460320377322685764870695654...</td>\n",
       "      <td>8</td>\n",
       "      <td>11180.3398874989484820458683436563811772030917...</td>\n",
       "      <td>8</td>\n",
       "      <td>5</td>\n",
       "    </tr>\n",
       "  </tbody>\n",
       "</table>\n",
       "</div>"
      ],
      "text/plain": [
       "  indexes                           hypothetical_output_amts indexes_b  \\\n",
       "0       1  5349.57780777178636087645819693541744542684146...         1   \n",
       "1       3  5349.57780777178636087645819693541744542684146...         3   \n",
       "2       5  5349.57780777178636087645819693541744542684146...         5   \n",
       "3       7  5349.57780777178636087645819693541744542684146...         7   \n",
       "4       9  5349.57780777178636087645819693541744542684146...         9   \n",
       "5       0  6405.76474687263408460320377322685764870695654...         0   \n",
       "6       2  6405.76474687263408460320377322685764870695654...         2   \n",
       "7       4  6405.76474687263408460320377322685764870695654...         4   \n",
       "8       6  6405.76474687263408460320377322685764870695654...         6   \n",
       "9       8  6405.76474687263408460320377322685764870695654...         8   \n",
       "\n",
       "                                  actual_output_amts  \\\n",
       "0  7302.96743340221484609293043734402845270326259...   \n",
       "1  7302.96743340221484609293043734402845270326259...   \n",
       "2  7302.96743340221484609293043734402845270326259...   \n",
       "3  7302.96743340221484609293043734402845270326259...   \n",
       "4  7302.96743340221484609293043734402845270326259...   \n",
       "5  11180.3398874989484820458683436563811772030917...   \n",
       "6  11180.3398874989484820458683436563811772030917...   \n",
       "7  11180.3398874989484820458683436563811772030917...   \n",
       "8  11180.3398874989484820458683436563811772030917...   \n",
       "9  11180.3398874989484820458683436563811772030917...   \n",
       "\n",
       "  ordered_associated_liquidity_keys ordered_associated_liquidity  \n",
       "0                                 1                            4  \n",
       "1                                 3                            4  \n",
       "2                                 5                            4  \n",
       "3                                 7                            4  \n",
       "4                                 9                            4  \n",
       "5                                 0                            5  \n",
       "6                                 2                            5  \n",
       "7                                 4                            5  \n",
       "8                                 6                            5  \n",
       "9                                 8                            5  "
      ]
     },
     "execution_count": 4,
     "metadata": {},
     "output_type": "execute_result"
    }
   ],
   "source": [
    "hypothetical_output_amts = {i: tradeByTargetAmount(x=inputAmount, order=orders[i])[0] for i in indexes}\n",
    "actual_output_amts = {i: tradeByTargetAmount(x=orders[i].y, order=orders[i])[0] for i in indexes}\n",
    "ordered_associated_liquidity = {i:orders[i].y for i in actual_output_amts.keys()}\n",
    "\n",
    "results = pd.DataFrame(\n",
    "    [\n",
    "        hypothetical_output_amts.keys(),\n",
    "        hypothetical_output_amts.values(),\n",
    "        actual_output_amts.keys(),\n",
    "        actual_output_amts.values(),\n",
    "    ],\n",
    "    index=[\n",
    "        \"indexes\",\n",
    "        \"hypothetical_output_amts\",\n",
    "        \"indexes_b\",\n",
    "        \"actual_output_amts\",\n",
    "    ],\n",
    ")\n",
    "results = results.T.copy()\n",
    "assert(list(results.indexes) == list(results.indexes_b))\n",
    "\n",
    "results.sort_values(\n",
    "    by=[\"actual_output_amts\", \"hypothetical_output_amts\", 'indexes'], ascending=[True, True, True], inplace=True\n",
    ")\n",
    "\n",
    "results2 = pd.DataFrame(\n",
    "    [\n",
    "        ordered_associated_liquidity.keys(),\n",
    "        ordered_associated_liquidity.values(),\n",
    "    ],\n",
    "    index=[\n",
    "        \"ordered_associated_liquidity_keys\",\n",
    "        \"ordered_associated_liquidity\",\n",
    "    ],\n",
    ")\n",
    "results2 = results2.T.copy()\n",
    "\n",
    "results = pd.merge(results, results2, how='left', left_on = 'indexes', right_on='ordered_associated_liquidity_keys')\n",
    "\n",
    "results.fillna(0, inplace=True)\n",
    "results.reset_index(inplace=True, drop=True)\n",
    "results"
   ]
  },
  {
   "cell_type": "markdown",
   "metadata": {},
   "source": [
    "## Partial Match Logic"
   ]
  },
  {
   "cell_type": "code",
   "execution_count": 5,
   "metadata": {},
   "outputs": [
    {
     "data": {
      "text/plain": [
       "[1, 3, 5, 7, 9, 0]"
      ]
     },
     "execution_count": 5,
     "metadata": {},
     "output_type": "execute_result"
    }
   ],
   "source": [
    "if (not support_partial) & (results.ordered_associated_liquidity.sum() < abs(inputAmount)):\n",
    "    print('Insufficient Liquidity')\n",
    "else:\n",
    "    passed_indexes = AlphaRouter.gen_one_order_selector(results.ordered_associated_liquidity, abs(inputAmount), threshold_orders)\n",
    "    top_n_threshold_orders = [results.indexes[i] for i in passed_indexes]\n",
    "order_subset = [orders[i] for i in top_n_threshold_orders]\n",
    "top_n_threshold_orders"
   ]
  },
  {
   "attachments": {},
   "cell_type": "markdown",
   "metadata": {},
   "source": [
    "## Exact Matching with Marginal Price Router"
   ]
  },
  {
   "cell_type": "code",
   "execution_count": 6,
   "metadata": {},
   "outputs": [
    {
     "name": "stdout",
     "output_type": "stream",
     "text": [
      "inputAmount 3\n",
      "total_subset_liquidity 25\n",
      "total_input 3.0000000004636469297871570538814313141381862659480\n",
      "total_output 5066.2121544253782042691244623294351451442130438815\n",
      "effective_price 1688.7373845474667669022992989086025137400591135306\n"
     ]
    },
    {
     "data": {
      "text/plain": [
       "{1: {'input': Decimal('0.6000000000927293859574314107762862628276372531896'),\n",
       "  'output': Decimal('1013.2424308850756408538248924658870290288426087763')},\n",
       " 3: {'input': Decimal('0.6000000000927293859574314107762862628276372531896'),\n",
       "  'output': Decimal('1013.2424308850756408538248924658870290288426087763')},\n",
       " 5: {'input': Decimal('0.6000000000927293859574314107762862628276372531896'),\n",
       "  'output': Decimal('1013.2424308850756408538248924658870290288426087763')},\n",
       " 7: {'input': Decimal('0.6000000000927293859574314107762862628276372531896'),\n",
       "  'output': Decimal('1013.2424308850756408538248924658870290288426087763')},\n",
       " 9: {'input': Decimal('0.6000000000927293859574314107762862628276372531896'),\n",
       "  'output': Decimal('1013.2424308850756408538248924658870290288426087763')},\n",
       " 0: {'input': 0, 'output': Decimal('0E-46')}}"
      ]
     },
     "execution_count": 6,
     "metadata": {},
     "output_type": "execute_result"
    }
   ],
   "source": [
    "# def mpr_match(inputAmount, order_subset):\n",
    "total_subset_liquidity = sum(o.y for o in order_subset)\n",
    "print('inputAmount', inputAmount)\n",
    "print('total_subset_liquidity', total_subset_liquidity)\n",
    "if inputAmount>= total_subset_liquidity:\n",
    "    print(f'Partial Match - using {total_subset_liquidity}')\n",
    "    inputAmount = total_subset_liquidity\n",
    "    rl1 = [o.y for o in order_subset]\n",
    "    rl2 = [o.dxfromdy_f(o.y) for o in order_subset]\n",
    "else:\n",
    "    dy_f = lambda p: sum(o.dyfromp_f(p) for o in order_subset)\n",
    "    dx_f = lambda p: sum(o.dxfromdy_f(o.dyfromp_f(p)) for o in order_subset)\n",
    "    p_goal = CarbonOrderUI.goalseek(lambda p: dy_f(p)-inputAmount, Decimal('0.000000001'), Decimal('1000000000'))\n",
    "    rl1 = [o.dyfromp_f(p_goal) for o in order_subset]\n",
    "    rl2 = [o.dxfromdy_f(o.dyfromp_f(p_goal)) for o in order_subset]\n",
    "\n",
    "actions = {top_n_threshold_orders[i]:{\"input\":rl1[i],\"output\":rl2[i]} for i in range(len(top_n_threshold_orders))}\n",
    "assertAlmostEqual(inputAmount, sum(rl1), Decimal('1E-8'))\n",
    "print('total_input',sum(rl1))\n",
    "print('total_output', sum(rl2))\n",
    "print('effective_price', sum(rl2) / sum(rl1))\n",
    "# return(actions)\n",
    "actions"
   ]
  },
  {
   "cell_type": "code",
   "execution_count": 7,
   "metadata": {},
   "outputs": [
    {
     "data": {
      "text/plain": [
       "Decimal('3')"
      ]
     },
     "execution_count": 7,
     "metadata": {},
     "output_type": "execute_result"
    }
   ],
   "source": [
    "inputAmount"
   ]
  },
  {
   "cell_type": "code",
   "execution_count": 8,
   "metadata": {},
   "outputs": [
    {
     "data": {
      "text/plain": [
       "Decimal('47695.177054510022712510520530376523440719404797924')"
      ]
     },
     "execution_count": 8,
     "metadata": {},
     "output_type": "execute_result"
    }
   ],
   "source": [
    "dx_f(Decimal('0.0004'))"
   ]
  },
  {
   "cell_type": "code",
   "execution_count": 9,
   "metadata": {},
   "outputs": [
    {
     "data": {
      "text/plain": [
       "Decimal('36514.837167011074230464652186720142263516312999865')"
      ]
     },
     "execution_count": 9,
     "metadata": {},
     "output_type": "execute_result"
    }
   ],
   "source": [
    "dx_f(Decimal('0.0005'))"
   ]
  },
  {
   "cell_type": "code",
   "execution_count": 10,
   "metadata": {},
   "outputs": [],
   "source": [
    "inputAmount=Decimal('10000')"
   ]
  },
  {
   "cell_type": "code",
   "execution_count": 11,
   "metadata": {},
   "outputs": [
    {
     "data": {
      "text/plain": [
       "[Decimal('2000.0000002060806164705944879429344231186454050944'),\n",
       " Decimal('2000.0000002060806164705944879429344231186454050944'),\n",
       " Decimal('2000.0000002060806164705944879429344231186454050944'),\n",
       " Decimal('2000.0000002060806164705944879429344231186454050944'),\n",
       " Decimal('2000.0000002060806164705944879429344231186454050944'),\n",
       " Decimal('0E-46')]"
      ]
     },
     "execution_count": 11,
     "metadata": {},
     "output_type": "execute_result"
    }
   ],
   "source": [
    "dy_f = lambda p: sum(o.dyfromp_f(p) for o in order_subset)\n",
    "dx_f = lambda p: sum(o.dxfromdy_f(o.dyfromp_f(p)) for o in order_subset)\n",
    "p_goal = CarbonOrderUI.goalseek(lambda p: dx_f(p)-inputAmount, Decimal('0.000000001'), Decimal('1000000000'))\n",
    "rl1 = [o.dyfromp_f(p_goal) for o in order_subset]\n",
    "rl2 = [o.dxfromdy_f(o.dyfromp_f(p_goal)) for o in order_subset]  # dxfromdy_f\n",
    "rl2"
   ]
  },
  {
   "cell_type": "code",
   "execution_count": 12,
   "metadata": {},
   "outputs": [
    {
     "data": {
      "text/plain": [
       "Decimal('1754.9344587480192288672679258016663045451676473965')"
      ]
     },
     "execution_count": 12,
     "metadata": {},
     "output_type": "execute_result"
    }
   ],
   "source": [
    "1/p_goal"
   ]
  },
  {
   "cell_type": "code",
   "execution_count": 13,
   "metadata": {},
   "outputs": [
    {
     "data": {
      "text/plain": [
       "[Decimal('1.1694325292215157199166717925105941774834522899443'),\n",
       " Decimal('1.1694325292215157199166717925105941774834522899443'),\n",
       " Decimal('1.1694325292215157199166717925105941774834522899443'),\n",
       " Decimal('1.1694325292215157199166717925105941774834522899443'),\n",
       " Decimal('1.1694325292215157199166717925105941774834522899443'),\n",
       " 0]"
      ]
     },
     "execution_count": 13,
     "metadata": {},
     "output_type": "execute_result"
    }
   ],
   "source": [
    "rl1"
   ]
  },
  {
   "cell_type": "code",
   "execution_count": 14,
   "metadata": {},
   "outputs": [],
   "source": [
    "inputAmount=Decimal('3')"
   ]
  },
  {
   "cell_type": "code",
   "execution_count": 15,
   "metadata": {},
   "outputs": [
    {
     "data": {
      "text/plain": [
       "[Decimal('0.6000000000927293859574314107762862628276372531896'),\n",
       " Decimal('0.6000000000927293859574314107762862628276372531896'),\n",
       " Decimal('0.6000000000927293859574314107762862628276372531896'),\n",
       " Decimal('0.6000000000927293859574314107762862628276372531896'),\n",
       " Decimal('0.6000000000927293859574314107762862628276372531896'),\n",
       " 0]"
      ]
     },
     "execution_count": 15,
     "metadata": {},
     "output_type": "execute_result"
    }
   ],
   "source": [
    "dy_f = lambda p: sum(o.dyfromp_f(p) for o in order_subset)\n",
    "dx_f = lambda p: sum(o.dxfromdy_f(o.dyfromp_f(p)) for o in order_subset)\n",
    "p_goal = CarbonOrderUI.goalseek(lambda p: dy_f(p)-inputAmount, Decimal('0.000000001'), Decimal('1000000000'))\n",
    "rl1 = [o.dyfromp_f(p_goal) for o in order_subset]\n",
    "rl2 = [o.dxfromdy_f(o.dyfromp_f(p_goal)) for o in order_subset]  # dxfromdy_f\n",
    "rl1"
   ]
  },
  {
   "cell_type": "code",
   "execution_count": 16,
   "metadata": {},
   "outputs": [
    {
     "data": {
      "text/plain": [
       "Decimal('1711.1003723809311886984639584662108660326121322856')"
      ]
     },
     "execution_count": 16,
     "metadata": {},
     "output_type": "execute_result"
    }
   ],
   "source": [
    "1/p_goal"
   ]
  },
  {
   "cell_type": "code",
   "execution_count": 17,
   "metadata": {},
   "outputs": [
    {
     "data": {
      "text/plain": [
       "[Decimal('1013.2424308850756408538248924658870290288426087763'),\n",
       " Decimal('1013.2424308850756408538248924658870290288426087763'),\n",
       " Decimal('1013.2424308850756408538248924658870290288426087763'),\n",
       " Decimal('1013.2424308850756408538248924658870290288426087763'),\n",
       " Decimal('1013.2424308850756408538248924658870290288426087763'),\n",
       " Decimal('0E-46')]"
      ]
     },
     "execution_count": 17,
     "metadata": {},
     "output_type": "execute_result"
    }
   ],
   "source": [
    "rl2"
   ]
  },
  {
   "cell_type": "code",
   "execution_count": 18,
   "metadata": {},
   "outputs": [
    {
     "data": {
      "text/plain": [
       "Decimal('1703.7788333263046075415377104750991374792589183701')"
      ]
     },
     "execution_count": 18,
     "metadata": {},
     "output_type": "execute_result"
    }
   ],
   "source": [
    "order_subset[0].dxfromdy_f(1)"
   ]
  },
  {
   "cell_type": "code",
   "execution_count": 19,
   "metadata": {},
   "outputs": [
    {
     "data": {
      "text/plain": [
       "Decimal('1703.7788333263046075415377104750991374792589183701')"
      ]
     },
     "execution_count": 19,
     "metadata": {},
     "output_type": "execute_result"
    }
   ],
   "source": [
    "1/Decimal('0.00058693063937629152836424244570020053348818617374949')\n"
   ]
  },
  {
   "cell_type": "code",
   "execution_count": 20,
   "metadata": {},
   "outputs": [],
   "source": [
    "import matplotlib.pyplot as plt\n",
    "import numpy as np"
   ]
  },
  {
   "cell_type": "code",
   "execution_count": null,
   "metadata": {},
   "outputs": [],
   "source": []
  },
  {
   "cell_type": "code",
   "execution_count": 21,
   "metadata": {},
   "outputs": [
    {
     "data": {
      "text/plain": [
       "[Decimal('1013.2424308850756408538248924658870290288426087763'),\n",
       " Decimal('1013.2424308850756408538248924658870290288426087763'),\n",
       " Decimal('1013.2424308850756408538248924658870290288426087763'),\n",
       " Decimal('1013.2424308850756408538248924658870290288426087763'),\n",
       " Decimal('1013.2424308850756408538248924658870290288426087763'),\n",
       " Decimal('0E-46')]"
      ]
     },
     "execution_count": 21,
     "metadata": {},
     "output_type": "execute_result"
    }
   ],
   "source": [
    "rl2"
   ]
  },
  {
   "cell_type": "code",
   "execution_count": 22,
   "metadata": {},
   "outputs": [
    {
     "ename": "InvalidOperation",
     "evalue": "[<class 'decimal.DivisionUndefined'>]",
     "output_type": "error",
     "traceback": [
      "\u001b[1;31m---------------------------------------------------------------------------\u001b[0m",
      "\u001b[1;31mInvalidOperation\u001b[0m                          Traceback (most recent call last)",
      "Cell \u001b[1;32mIn[22], line 1\u001b[0m\n\u001b[1;32m----> 1\u001b[0m [rl1[i]\u001b[39m/\u001b[39mrl2[i] \u001b[39mfor\u001b[39;00m i \u001b[39min\u001b[39;00m \u001b[39mrange\u001b[39m(\u001b[39mlen\u001b[39m(rl2))]\n",
      "Cell \u001b[1;32mIn[22], line 1\u001b[0m, in \u001b[0;36m<listcomp>\u001b[1;34m(.0)\u001b[0m\n\u001b[1;32m----> 1\u001b[0m [rl1[i]\u001b[39m/\u001b[39;49mrl2[i] \u001b[39mfor\u001b[39;00m i \u001b[39min\u001b[39;00m \u001b[39mrange\u001b[39m(\u001b[39mlen\u001b[39m(rl2))]\n",
      "\u001b[1;31mInvalidOperation\u001b[0m: [<class 'decimal.DivisionUndefined'>]"
     ]
    }
   ],
   "source": [
    "[rl1[i]/rl2[i] for i in range(len(rl2))]"
   ]
  },
  {
   "cell_type": "code",
   "execution_count": null,
   "metadata": {},
   "outputs": [],
   "source": [
    "dx_f = lambda p: sum(o.dxfromdy_f(o.dyfromp_f(p)) for o in order_subset)\n",
    "p_goal = CarbonOrderUI.goalseek(lambda p: dx_f(p)-inputAmount, Decimal('0.000000001'), Decimal('1000000000'))\n",
    "p_goal"
   ]
  },
  {
   "cell_type": "code",
   "execution_count": null,
   "metadata": {},
   "outputs": [],
   "source": []
  },
  {
   "cell_type": "code",
   "execution_count": null,
   "metadata": {},
   "outputs": [],
   "source": [
    "1/((0.0005 * 0.0006)**.5) * 4"
   ]
  },
  {
   "cell_type": "code",
   "execution_count": null,
   "metadata": {},
   "outputs": [],
   "source": [
    "1/((0.0005 * 0.0004)**.5) * 5"
   ]
  },
  {
   "cell_type": "code",
   "execution_count": null,
   "metadata": {},
   "outputs": [],
   "source": [
    "# mpr_match(inputAmount, order_subset)"
   ]
  }
 ],
 "metadata": {
  "kernelspec": {
   "display_name": "Python 3",
   "language": "python",
   "name": "python3"
  },
  "language_info": {
   "codemirror_mode": {
    "name": "ipython",
    "version": 3
   },
   "file_extension": ".py",
   "mimetype": "text/x-python",
   "name": "python",
   "nbconvert_exporter": "python",
   "pygments_lexer": "ipython3",
   "version": "3.10.8"
  },
  "orig_nbformat": 4,
  "vscode": {
   "interpreter": {
    "hash": "43f221103f953d3e0d93840edd77be981e5a5e0e42edc048e3de5278c46a3390"
   }
  }
 },
 "nbformat": 4,
 "nbformat_minor": 2
}
