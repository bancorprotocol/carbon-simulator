{
 "cells": [
  {
   "cell_type": "code",
   "execution_count": 28,
   "id": "a0855cc0-2db7-4341-b0ef-fcb343ca3636",
   "metadata": {},
   "outputs": [
    {
     "name": "stdout",
     "output_type": "stream",
     "text": [
      "CarbonSDK v0.9 (11/Mar/2023)\n",
      "v18.14.2\n"
     ]
    }
   ],
   "source": [
    "from carbon.sdk import CarbonSDK, Tokens as T\n",
    "#from carbon import CarbonOrderUI, CarbonSimulatorUI\n",
    "from carbon.helpers.widgets import CheckboxManager, DropdownManager, PcSliderManager\n",
    "from matplotlib import pyplot as plt\n",
    "import numpy as np\n",
    "print(\"{0.__name__} v{0.__VERSION__} ({0.__DATE__})\".format(CarbonSDK))\n",
    "!node --version"
   ]
  },
  {
   "cell_type": "markdown",
   "id": "3650b16b-d020-4063-84c6-ab9fb7556552",
   "metadata": {},
   "source": [
    "# Order Book [NB11]\n",
    "\n",
    "_this notebook allows to select a pair and a quote direction via the dropdown / checkbox, and then displays the order book_\n",
    "\n",
    "In order to start the server, please run\n",
    "\n",
    "    source /Volumes/Private/bin/sdkserver\n",
    "    node server/sdkserver.mjs"
   ]
  },
  {
   "cell_type": "code",
   "execution_count": 29,
   "id": "15bfcae7-1124-4a6b-b12f-26d2f9f8173a",
   "metadata": {},
   "outputs": [
    {
     "data": {
      "text/plain": [
       "'Carbon SDK v0.9 (7/Mar/2022)'"
      ]
     },
     "execution_count": 29,
     "metadata": {},
     "output_type": "execute_result"
    }
   ],
   "source": [
    "SDK = CarbonSDK(disclaimer=False, verbose=False, Tokens=T)\n",
    "pairs, pairs_s = SDK.pairs(inclstr=True)\n",
    "SDK.version().get(\"msg\")"
   ]
  },
  {
   "cell_type": "code",
   "execution_count": 30,
   "id": "339b5fe1-c9f8-41b1-906f-e78e46a22634",
   "metadata": {
    "lines_to_next_cell": 2
   },
   "outputs": [
    {
     "data": {
      "application/vnd.jupyter.widget-view+json": {
       "model_id": "0e3f4b20c8d84fb3b8c650b715487d15",
       "version_major": 2,
       "version_minor": 0
      },
      "text/plain": [
       "Dropdown(options=(('USDC/ETH', 'USDC/ETH'), ('DAI/USDC', 'DAI/USDC')), value='USDC/ETH')"
      ]
     },
     "metadata": {},
     "output_type": "display_data"
    }
   ],
   "source": [
    "try:\n",
    "    pairs_sel = [s.strip() for s in pairs_s.split(\",\")]\n",
    "    pairs_w()\n",
    "except:\n",
    "    pairs_w = DropdownManager(pairs_sel, defaultval=\"USDC/ETH\")\n",
    "    pairs_w()"
   ]
  },
  {
   "cell_type": "code",
   "execution_count": 31,
   "id": "80a76551-eecb-4aca-b718-5be5c8dac9b3",
   "metadata": {},
   "outputs": [
    {
     "data": {
      "application/vnd.jupyter.widget-view+json": {
       "model_id": "34b784fd2b9745dc90c7fa273b2e4979",
       "version_major": 2,
       "version_minor": 0
      },
      "text/plain": [
       "VBox(children=(Checkbox(value=True, description='inverse'),))"
      ]
     },
     "metadata": {},
     "output_type": "display_data"
    }
   ],
   "source": [
    "try:\n",
    "    inverse_w()\n",
    "except:\n",
    "    inverse_w = CheckboxManager([\"inverse\"], values=[1])\n",
    "    inverse_w()"
   ]
  },
  {
   "cell_type": "code",
   "execution_count": 32,
   "id": "8d569424-6669-4b38-b630-321a1c97dc9a",
   "metadata": {},
   "outputs": [
    {
     "data": {
      "text/plain": [
       "'ETH/USDC'"
      ]
     },
     "execution_count": 32,
     "metadata": {},
     "output_type": "execute_result"
    }
   ],
   "source": [
    "tknb,tknq = pairs_w.value.split(\"/\")\n",
    "if inverse_w.values[0]:\n",
    "    tknb,tknq = tknq, tknb\n",
    "pair = f\"{tknb}/{tknq}\"\n",
    "pair"
   ]
  },
  {
   "cell_type": "code",
   "execution_count": 33,
   "id": "b5381293-36c3-48b7-979d-ace963b92893",
   "metadata": {},
   "outputs": [],
   "source": [
    "liqa = SDK.mGetLiquidityByPair(pair=pair, AMMsells=tknb)\n",
    "liqb = SDK.mGetLiquidityByPair(pair=pair, AMMsells=tknq)\n",
    "assert liqa.amount > 0 and liqb.amount > 0, f\"no liquidity in pair {liqa} {liqb}\""
   ]
  },
  {
   "cell_type": "code",
   "execution_count": 34,
   "id": "4a7e5ebc-6c08-454d-b46b-59e3eee4a58a",
   "metadata": {},
   "outputs": [
    {
     "data": {
      "text/plain": [
       "(RangeByPair(startRate=1989.9999997673926, endRate=899.9999999318561, AMMsells='USDC', AMMbuys='ETH', bidAsk='bid', pair=P('ETH/USDC'), inverted=True),\n",
       " RangeByPair(startRate=2005.0000000000175, endRate=3000.0000000000327, AMMsells='ETH', AMMbuys='USDC', bidAsk='ask', pair=P('ETH/USDC'), inverted=False),\n",
       " 1997.4999998837052)"
      ]
     },
     "execution_count": 34,
     "metadata": {},
     "output_type": "execute_result"
    }
   ],
   "source": [
    "range_bid = SDK.mGetRangeByPair(pair=pair, AMMsells=tknq)\n",
    "range_ask = SDK.mGetRangeByPair(pair=pair, AMMsells=tknb)\n",
    "mid = 0.5*(range_bid.startRate+range_ask.startRate)\n",
    "p_bid = np.linspace(mid, range_bid.endRate)\n",
    "p_ask = np.linspace(mid, range_ask.endRate)\n",
    "range_bid, range_ask, mid"
   ]
  },
  {
   "cell_type": "code",
   "execution_count": 35,
   "id": "453e5186-fb06-46f5-af7b-db364a2bab92",
   "metadata": {},
   "outputs": [],
   "source": [
    "db = SDK.mGetRateLiquidityDepthByPair(rate=p_bid, pair=pair, AMMsells=tknq)\n",
    "da = SDK.mGetRateLiquidityDepthByPair(rate=p_ask, pair=pair, AMMsells=tknb)"
   ]
  },
  {
   "cell_type": "code",
   "execution_count": 36,
   "id": "4efc3db1-006f-467c-aecf-01512623f676",
   "metadata": {},
   "outputs": [
    {
     "data": {
      "image/png": "[encoded data removed]",
      "text/plain": [
       "<Figure size 432x288 with 2 Axes>"
      ]
     },
     "metadata": {
      "needs_background": "light"
     },
     "output_type": "display_data"
    }
   ],
   "source": [
    "fig, ax1 = plt.subplots()\n",
    "ax2 = ax1.twinx()\n",
    "ax1.set_xlabel(f\"Exchange rate ({db.pair.price_convention})\")\n",
    "ax1.plot(db.rate, db.amount, color=\"lawngreen\", label=\"bid [LHS]\")\n",
    "ax1.set_ylabel(f\"bid liquidity ({db.unit})\")\n",
    "ax2.plot(da.rate, da.amount, color=\"red\", label=\"ask [RHS]\")\n",
    "ax2.set_ylabel(f\"ask liquidity ({da.unit})\")\n",
    "plt.title(f\"{db.pair.slashpair} asymmetric order book\")\n",
    "ax1.grid()"
   ]
  },
  {
   "cell_type": "markdown",
   "id": "18ac73b5-6413-44ea-b124-251e232d12ea",
   "metadata": {},
   "source": [
    "The chart above shows the order book. Note that bid and ask books are shown on different axis and therefore **bid and ask levels are not comparable**."
   ]
  },
  {
   "cell_type": "code",
   "execution_count": null,
   "id": "0d6e1623-02d3-40a8-8d1f-92ce2ad70406",
   "metadata": {},
   "outputs": [],
   "source": []
  }
 ],
 "metadata": {
  "jupytext": {
   "encoding": "# -*- coding: utf-8 -*-",
   "formats": "ipynb,py:light"
  },
  "kernelspec": {
   "display_name": "Python 3",
   "language": "python",
   "name": "python3"
  },
  "language_info": {
   "codemirror_mode": {
    "name": "ipython",
    "version": 3
   },
   "file_extension": ".py",
   "mimetype": "text/x-python",
   "name": "python",
   "nbconvert_exporter": "python",
   "pygments_lexer": "ipython3",
   "version": "3.8.8"
  },
  "toc-autonumbering": false,
  "toc-showcode": false,
  "toc-showmarkdowntxt": false
 },
 "nbformat": 4,
 "nbformat_minor": 5
}
