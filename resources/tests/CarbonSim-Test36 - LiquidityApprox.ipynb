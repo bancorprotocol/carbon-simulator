{
 "cells": [
  {
   "cell_type": "code",
   "execution_count": 1,
   "id": "22b66169",
   "metadata": {},
   "outputs": [],
   "source": [
    "from carbon import CarbonSimulatorUI\n",
    "from carbon.simulators.carbon_simulator import (\n",
    "    __version__ as uiversion,\n",
    "    __date__ as uidate,\n",
    ")\n",
    "from jupyformat import *\n",
    "import pandas as pd\n",
    "import numpy as np"
   ]
  },
  {
   "cell_type": "code",
   "execution_count": 2,
   "id": "c61a0e2b",
   "metadata": {},
   "outputs": [
    {
     "name": "stdout",
     "output_type": "stream",
     "text": [
      "[carbon_simulator] version 1.0 21/Nov/2022\n"
     ]
    },
    {
     "data": {
      "text/html": [
       "<div style='color:green; font-size: 120%'><p><strong>This notebook passed verification.</strong></p></div>"
      ],
      "text/plain": [
       "<IPython.core.display.HTML object>"
      ]
     },
     "execution_count": 2,
     "metadata": {},
     "output_type": "execute_result"
    }
   ],
   "source": [
    "print(\"[carbon_simulator] version\", uiversion, uidate)\n",
    "jp()"
   ]
  },
  {
   "cell_type": "markdown",
   "id": "ec6ff430",
   "metadata": {},
   "source": [
    "# Carbon Simulation - Test 36 - Liquidity Approximation"
   ]
  },
  {
   "cell_type": "code",
   "execution_count": 3,
   "id": "a2278c82",
   "metadata": {},
   "outputs": [
    {
     "data": {
      "text/plain": [
       "CarbonSimulatorUI(<0 orders, 0 trades>, pair='ETHUSDC')"
      ]
     },
     "execution_count": 3,
     "metadata": {},
     "output_type": "execute_result"
    }
   ],
   "source": [
    "Sim = CarbonSimulatorUI(verbose=False, raiseonerror=False, pair=\"ETHUSDC\")\n",
    "Sim"
   ]
  },
  {
   "cell_type": "code",
   "execution_count": 4,
   "id": "6f1440e3",
   "metadata": {},
   "outputs": [
    {
     "data": {
      "text/plain": [
       "CarbonSimulatorUI(<4 orders, 0 trades>, pair='ETHUSDC')"
      ]
     },
     "execution_count": 4,
     "metadata": {},
     "output_type": "execute_result"
    }
   ],
   "source": [
    "Sim.add_order(\"ETH\", 10, 2000, 3000)\n",
    "Sim.add_order(\"ETH\", 10, 2500, 2500)\n",
    "Sim.add_order(\"USDC\", 10*1250, 1500, 1000)\n",
    "Sim.add_order(\"USDC\", 10*1250, 1250, 1250)\n",
    "Sim"
   ]
  },
  {
   "cell_type": "code",
   "execution_count": 5,
   "id": "9e07608e",
   "metadata": {},
   "outputs": [
    {
     "data": {
      "text/html": [
       "<div>\n",
       "<style scoped>\n",
       "    .dataframe tbody tr th:only-of-type {\n",
       "        vertical-align: middle;\n",
       "    }\n",
       "\n",
       "    .dataframe tbody tr th {\n",
       "        vertical-align: top;\n",
       "    }\n",
       "\n",
       "    .dataframe thead th {\n",
       "        text-align: right;\n",
       "    }\n",
       "</style>\n",
       "<table border=\"1\" class=\"dataframe\">\n",
       "  <thead>\n",
       "    <tr style=\"text-align: right;\">\n",
       "      <th></th>\n",
       "      <th>id</th>\n",
       "      <th>pair</th>\n",
       "      <th>tkn</th>\n",
       "      <th>y_int</th>\n",
       "      <th>y</th>\n",
       "      <th>y_unit</th>\n",
       "      <th>p_start</th>\n",
       "      <th>p_end</th>\n",
       "      <th>p_marg</th>\n",
       "      <th>p_unit</th>\n",
       "      <th>lid</th>\n",
       "    </tr>\n",
       "  </thead>\n",
       "  <tbody>\n",
       "    <tr>\n",
       "      <th>0</th>\n",
       "      <td>0</td>\n",
       "      <td>ETHUSDC</td>\n",
       "      <td>ETH</td>\n",
       "      <td>10.0</td>\n",
       "      <td>10.0</td>\n",
       "      <td>ETH</td>\n",
       "      <td>2000.0</td>\n",
       "      <td>3000.0</td>\n",
       "      <td>2000.0</td>\n",
       "      <td>USDC per ETH</td>\n",
       "      <td>0</td>\n",
       "    </tr>\n",
       "    <tr>\n",
       "      <th>1</th>\n",
       "      <td>1</td>\n",
       "      <td>ETHUSDC</td>\n",
       "      <td>ETH</td>\n",
       "      <td>10.0</td>\n",
       "      <td>10.0</td>\n",
       "      <td>ETH</td>\n",
       "      <td>2500.0</td>\n",
       "      <td>2500.0</td>\n",
       "      <td>2500.0</td>\n",
       "      <td>USDC per ETH</td>\n",
       "      <td>1</td>\n",
       "    </tr>\n",
       "    <tr>\n",
       "      <th>2</th>\n",
       "      <td>2</td>\n",
       "      <td>ETHUSDC</td>\n",
       "      <td>USDC</td>\n",
       "      <td>12500.0</td>\n",
       "      <td>12500.0</td>\n",
       "      <td>USDC</td>\n",
       "      <td>1500.0</td>\n",
       "      <td>1000.0</td>\n",
       "      <td>1500.0</td>\n",
       "      <td>USDC per ETH</td>\n",
       "      <td>2</td>\n",
       "    </tr>\n",
       "    <tr>\n",
       "      <th>3</th>\n",
       "      <td>3</td>\n",
       "      <td>ETHUSDC</td>\n",
       "      <td>USDC</td>\n",
       "      <td>12500.0</td>\n",
       "      <td>12500.0</td>\n",
       "      <td>USDC</td>\n",
       "      <td>1250.0</td>\n",
       "      <td>1250.0</td>\n",
       "      <td>1250.0</td>\n",
       "      <td>USDC per ETH</td>\n",
       "      <td>3</td>\n",
       "    </tr>\n",
       "  </tbody>\n",
       "</table>\n",
       "</div>"
      ],
      "text/plain": [
       "   id     pair   tkn    y_int        y y_unit  p_start   p_end  p_marg  \\\n",
       "0   0  ETHUSDC   ETH     10.0     10.0    ETH   2000.0  3000.0  2000.0   \n",
       "1   1  ETHUSDC   ETH     10.0     10.0    ETH   2500.0  2500.0  2500.0   \n",
       "2   2  ETHUSDC  USDC  12500.0  12500.0   USDC   1500.0  1000.0  1500.0   \n",
       "3   3  ETHUSDC  USDC  12500.0  12500.0   USDC   1250.0  1250.0  1250.0   \n",
       "\n",
       "         p_unit  lid  \n",
       "0  USDC per ETH    0  \n",
       "1  USDC per ETH    1  \n",
       "2  USDC per ETH    2  \n",
       "3  USDC per ETH    3  "
      ]
     },
     "execution_count": 5,
     "metadata": {},
     "output_type": "execute_result"
    }
   ],
   "source": [
    "Sim.state()[\"orders\"]"
   ]
  },
  {
   "cell_type": "code",
   "execution_count": 6,
   "id": "cd7c5836",
   "metadata": {},
   "outputs": [
    {
     "data": {
      "text/plain": [
       "dict_keys(['orders', 'orderuis', 'trades'])"
      ]
     },
     "execution_count": 6,
     "metadata": {},
     "output_type": "execute_result"
    }
   ],
   "source": [
    "Sim.state().keys()"
   ]
  },
  {
   "cell_type": "code",
   "execution_count": 7,
   "id": "3d854995",
   "metadata": {},
   "outputs": [
    {
     "data": {
      "text/plain": [
       "{0: CarbonOrderUI(pair=CarbonPair(tknb='ETH', tknq='USDC'), tkn='ETH', B=0.018257418583505537, S=0.004103261191492361, yint=10.0, y=10.0),\n",
       " 1: CarbonOrderUI(pair=CarbonPair(tknb='ETH', tknq='USDC'), tkn='ETH', B=0.02, S=0.0, yint=10.0, y=10.0),\n",
       " 2: CarbonOrderUI(pair=CarbonPair(tknb='ETH', tknq='USDC'), tkn='USDC', B=31.622776601683793, S=7.107056860390376, yint=12500.0, y=12500.0),\n",
       " 3: CarbonOrderUI(pair=CarbonPair(tknb='ETH', tknq='USDC'), tkn='USDC', B=35.35533905932738, S=0.0, yint=12500.0, y=12500.0)}"
      ]
     },
     "execution_count": 7,
     "metadata": {},
     "output_type": "execute_result"
    }
   ],
   "source": [
    "Sim.state()[\"orderuis\"]"
   ]
  },
  {
   "cell_type": "code",
   "execution_count": 8,
   "id": "e5537b96",
   "metadata": {},
   "outputs": [
    {
     "name": "stdout",
     "output_type": "stream",
     "text": [
      "Help on method liquidity_approx in module carbon.carbon_order_ui:\n",
      "\n",
      "liquidity_approx(price1, price2, tkn=None, asperc=False) method of carbon.carbon_order_ui.CarbonOrderUI instance\n",
      "    returns the approximate liquidity between start and end, in tkn\n",
      "    \n",
      "    :price1/2:      the start and end price of the range (in any order; quoted in price convention of pair)\n",
      "    :tkn:           the token in which the liquidity is quoted (if None: base token)\n",
      "    :asperc:        if True, return percentage total liquidity rather than tkn number; default is False\n",
      "    :returns:       the liquidity in [price1, price2], quoted in tkn (or percent)\n",
      "\n"
     ]
    }
   ],
   "source": [
    "help(Sim.state()[\"orderuis\"][0].liquidity_approx)"
   ]
  },
  {
   "cell_type": "markdown",
   "id": "795956d7",
   "metadata": {},
   "source": [
    "## Order 0 (ETH, range)"
   ]
  },
  {
   "cell_type": "code",
   "execution_count": 9,
   "id": "f83b7898",
   "metadata": {},
   "outputs": [
    {
     "data": {
      "text/plain": [
       "(2000.0, 3000.0, (10.0, 'ETH'))"
      ]
     },
     "execution_count": 9,
     "metadata": {},
     "output_type": "execute_result"
    }
   ],
   "source": [
    "oui = Sim.state()[\"orderuis\"][0]\n",
    "oui.pmin, oui.pmax, oui.total_liquidity"
   ]
  },
  {
   "cell_type": "code",
   "execution_count": 10,
   "id": "39fa9a4a",
   "metadata": {},
   "outputs": [
    {
     "data": {
      "text/plain": [
       "0"
      ]
     },
     "execution_count": 10,
     "metadata": {},
     "output_type": "execute_result"
    }
   ],
   "source": [
    "oui.liquidity_approx(500, 600, \"ETH\", asperc=True)"
   ]
  },
  {
   "cell_type": "code",
   "execution_count": 11,
   "id": "5be0147e",
   "metadata": {},
   "outputs": [
    {
     "data": {
      "text/plain": [
       "0"
      ]
     },
     "execution_count": 11,
     "metadata": {},
     "output_type": "execute_result"
    }
   ],
   "source": [
    "oui.liquidity_approx(3000, 3020, \"ETH\", asperc=True)"
   ]
  },
  {
   "cell_type": "code",
   "execution_count": 12,
   "id": "0176ca84",
   "metadata": {},
   "outputs": [
    {
     "data": {
      "text/plain": [
       "1.0"
      ]
     },
     "execution_count": 12,
     "metadata": {},
     "output_type": "execute_result"
    }
   ],
   "source": [
    "oui.liquidity_approx(2000, 3000, \"ETH\", asperc=True)"
   ]
  },
  {
   "cell_type": "code",
   "execution_count": 13,
   "id": "94fb265c",
   "metadata": {},
   "outputs": [
    {
     "data": {
      "text/plain": [
       "1.0"
      ]
     },
     "execution_count": 13,
     "metadata": {},
     "output_type": "execute_result"
    }
   ],
   "source": [
    "oui.liquidity_approx(3000, 2000, \"ETH\", asperc=True)"
   ]
  },
  {
   "cell_type": "code",
   "execution_count": 14,
   "id": "8cd81563",
   "metadata": {},
   "outputs": [
    {
     "data": {
      "text/plain": [
       "0.5"
      ]
     },
     "execution_count": 14,
     "metadata": {},
     "output_type": "execute_result"
    }
   ],
   "source": [
    "oui.liquidity_approx(2000, 2500, \"ETH\", asperc=True)"
   ]
  },
  {
   "cell_type": "code",
   "execution_count": 15,
   "id": "16732e6f",
   "metadata": {},
   "outputs": [
    {
     "data": {
      "text/plain": [
       "0.5"
      ]
     },
     "execution_count": 15,
     "metadata": {},
     "output_type": "execute_result"
    }
   ],
   "source": [
    "oui.liquidity_approx(2500, 3000, \"ETH\", asperc=True)"
   ]
  },
  {
   "cell_type": "code",
   "execution_count": 16,
   "id": "933357b3",
   "metadata": {
    "lines_to_next_cell": 2
   },
   "outputs": [
    {
     "data": {
      "text/plain": [
       "0.5"
      ]
     },
     "execution_count": 16,
     "metadata": {},
     "output_type": "execute_result"
    }
   ],
   "source": [
    "oui.liquidity_approx(2250, 2750, \"ETH\", asperc=True)"
   ]
  },
  {
   "cell_type": "code",
   "execution_count": 17,
   "id": "3f51409c",
   "metadata": {},
   "outputs": [
    {
     "data": {
      "text/plain": [
       "10.0"
      ]
     },
     "execution_count": 17,
     "metadata": {},
     "output_type": "execute_result"
    }
   ],
   "source": [
    "oui.liquidity_approx(2000, 3000, \"ETH\", asperc=False)"
   ]
  },
  {
   "cell_type": "code",
   "execution_count": 18,
   "id": "06ad0a5e",
   "metadata": {},
   "outputs": [
    {
     "data": {
      "text/plain": [
       "5.0"
      ]
     },
     "execution_count": 18,
     "metadata": {},
     "output_type": "execute_result"
    }
   ],
   "source": [
    "oui.liquidity_approx(2000, 2500, \"ETH\", asperc=False)"
   ]
  },
  {
   "cell_type": "code",
   "execution_count": 19,
   "id": "4cfb7d74",
   "metadata": {},
   "outputs": [
    {
     "name": "stdout",
     "output_type": "stream",
     "text": [
      "[liquidity_approx] token set to ETH\n"
     ]
    },
    {
     "data": {
      "text/plain": [
       "5.0"
      ]
     },
     "execution_count": 19,
     "metadata": {},
     "output_type": "execute_result"
    }
   ],
   "source": [
    "oui.liquidity_approx(2000, 2500, asperc=False)"
   ]
  },
  {
   "cell_type": "code",
   "execution_count": 20,
   "id": "5436de33",
   "metadata": {},
   "outputs": [
    {
     "data": {
      "text/plain": [
       "(24494.89742783178, 2449.489742783178)"
      ]
     },
     "execution_count": 20,
     "metadata": {},
     "output_type": "execute_result"
    }
   ],
   "source": [
    "oui.liquidity_approx(2000, 3000, \"USDC\", asperc=False), sqrt(2000*3000)"
   ]
  },
  {
   "cell_type": "code",
   "execution_count": 21,
   "id": "b70c7019",
   "metadata": {},
   "outputs": [
    {
     "data": {
      "text/plain": [
       "(12437.34296383275, 1243.734296383275)"
      ]
     },
     "execution_count": 21,
     "metadata": {},
     "output_type": "execute_result"
    }
   ],
   "source": [
    "oui.liquidity_approx(2250, 2750, \"USDC\", asperc=False), sqrt(2250*2750)*0.5"
   ]
  },
  {
   "cell_type": "code",
   "execution_count": null,
   "id": "ac19dc4e",
   "metadata": {},
   "outputs": [],
   "source": []
  },
  {
   "cell_type": "markdown",
   "id": "95595365",
   "metadata": {},
   "source": [
    "## Order 1 (ETH, point)"
   ]
  },
  {
   "cell_type": "code",
   "execution_count": 22,
   "id": "ae0cbca0",
   "metadata": {},
   "outputs": [
    {
     "data": {
      "text/plain": [
       "(2500.0, 2500.0, (10.0, 'ETH'))"
      ]
     },
     "execution_count": 22,
     "metadata": {},
     "output_type": "execute_result"
    }
   ],
   "source": [
    "oui = Sim.state()[\"orderuis\"][1]\n",
    "oui.pmin, oui.pmax, oui.total_liquidity"
   ]
  },
  {
   "cell_type": "code",
   "execution_count": 23,
   "id": "c8ba4c56",
   "metadata": {},
   "outputs": [
    {
     "data": {
      "text/plain": [
       "0"
      ]
     },
     "execution_count": 23,
     "metadata": {},
     "output_type": "execute_result"
    }
   ],
   "source": [
    "oui.liquidity_approx(2000, 2499, \"ETH\", asperc=True)"
   ]
  },
  {
   "cell_type": "code",
   "execution_count": 24,
   "id": "4bbaea77",
   "metadata": {},
   "outputs": [
    {
     "data": {
      "text/plain": [
       "0"
      ]
     },
     "execution_count": 24,
     "metadata": {},
     "output_type": "execute_result"
    }
   ],
   "source": [
    "oui.liquidity_approx(2501, 3020, \"ETH\", asperc=True)"
   ]
  },
  {
   "cell_type": "code",
   "execution_count": 25,
   "id": "2bc081d3",
   "metadata": {},
   "outputs": [
    {
     "data": {
      "text/plain": [
       "1.0"
      ]
     },
     "execution_count": 25,
     "metadata": {},
     "output_type": "execute_result"
    }
   ],
   "source": [
    "oui.liquidity_approx(2499, 2501, \"ETH\", asperc=True)"
   ]
  },
  {
   "cell_type": "code",
   "execution_count": 26,
   "id": "3201ae4f",
   "metadata": {},
   "outputs": [
    {
     "data": {
      "text/plain": [
       "1.0"
      ]
     },
     "execution_count": 26,
     "metadata": {},
     "output_type": "execute_result"
    }
   ],
   "source": [
    "oui.liquidity_approx(2500, 2501, \"ETH\", asperc=True)"
   ]
  },
  {
   "cell_type": "code",
   "execution_count": 27,
   "id": "b982a6d9",
   "metadata": {},
   "outputs": [
    {
     "data": {
      "text/plain": [
       "0"
      ]
     },
     "execution_count": 27,
     "metadata": {},
     "output_type": "execute_result"
    }
   ],
   "source": [
    "oui.liquidity_approx(2499, 2500, \"ETH\", asperc=True)"
   ]
  },
  {
   "cell_type": "code",
   "execution_count": 28,
   "id": "c43e6eec",
   "metadata": {
    "lines_to_next_cell": 2
   },
   "outputs": [
    {
     "data": {
      "text/plain": [
       "1.0"
      ]
     },
     "execution_count": 28,
     "metadata": {},
     "output_type": "execute_result"
    }
   ],
   "source": [
    "oui.liquidity_approx(2500, 2500, \"ETH\", asperc=True)"
   ]
  },
  {
   "cell_type": "code",
   "execution_count": 29,
   "id": "953622d7",
   "metadata": {},
   "outputs": [
    {
     "data": {
      "text/plain": [
       "10.0"
      ]
     },
     "execution_count": 29,
     "metadata": {},
     "output_type": "execute_result"
    }
   ],
   "source": [
    "oui.liquidity_approx(2499, 2501, \"ETH\", asperc=False)"
   ]
  },
  {
   "cell_type": "code",
   "execution_count": 30,
   "id": "c164dbdf",
   "metadata": {},
   "outputs": [
    {
     "data": {
      "text/plain": [
       "25000.0"
      ]
     },
     "execution_count": 30,
     "metadata": {},
     "output_type": "execute_result"
    }
   ],
   "source": [
    "oui.liquidity_approx(2499, 2501, \"USDC\", asperc=False)"
   ]
  },
  {
   "cell_type": "code",
   "execution_count": 31,
   "id": "422af717",
   "metadata": {},
   "outputs": [
    {
     "data": {
      "text/plain": [
       "25000.0"
      ]
     },
     "execution_count": 31,
     "metadata": {},
     "output_type": "execute_result"
    }
   ],
   "source": [
    "oui.liquidity_approx(2500, 2501, \"USDC\", asperc=False)"
   ]
  },
  {
   "cell_type": "code",
   "execution_count": 32,
   "id": "279eb57b",
   "metadata": {},
   "outputs": [
    {
     "data": {
      "text/plain": [
       "25000.0"
      ]
     },
     "execution_count": 32,
     "metadata": {},
     "output_type": "execute_result"
    }
   ],
   "source": [
    "oui.liquidity_approx(2500, 2500, \"USDC\", asperc=False)"
   ]
  },
  {
   "cell_type": "code",
   "execution_count": 33,
   "id": "dc67aca8",
   "metadata": {},
   "outputs": [
    {
     "data": {
      "text/plain": [
       "25000.0"
      ]
     },
     "execution_count": 33,
     "metadata": {},
     "output_type": "execute_result"
    }
   ],
   "source": [
    "oui.liquidity_approx(2000, 3000, \"USDC\", asperc=False)"
   ]
  },
  {
   "cell_type": "markdown",
   "id": "5a224ad8",
   "metadata": {},
   "source": [
    "## Order 2 (USDC, range)"
   ]
  },
  {
   "cell_type": "code",
   "execution_count": 34,
   "id": "838f0025",
   "metadata": {},
   "outputs": [
    {
     "data": {
      "text/plain": [
       "(1000.0, 1500.0, (12500.0, 'USDC'))"
      ]
     },
     "execution_count": 34,
     "metadata": {},
     "output_type": "execute_result"
    }
   ],
   "source": [
    "oui = Sim.state()[\"orderuis\"][2]\n",
    "oui.pmin, oui.pmax, oui.total_liquidity"
   ]
  },
  {
   "cell_type": "code",
   "execution_count": 35,
   "id": "c6a5389a",
   "metadata": {},
   "outputs": [
    {
     "data": {
      "text/plain": [
       "0"
      ]
     },
     "execution_count": 35,
     "metadata": {},
     "output_type": "execute_result"
    }
   ],
   "source": [
    "oui.liquidity_approx(500, 600, \"USDC\", asperc=False)"
   ]
  },
  {
   "cell_type": "code",
   "execution_count": 36,
   "id": "cd50b06f",
   "metadata": {},
   "outputs": [
    {
     "data": {
      "text/plain": [
       "0"
      ]
     },
     "execution_count": 36,
     "metadata": {},
     "output_type": "execute_result"
    }
   ],
   "source": [
    "oui.liquidity_approx(1600, 2000, \"USDC\", asperc=False)"
   ]
  },
  {
   "cell_type": "code",
   "execution_count": 37,
   "id": "091cd929",
   "metadata": {},
   "outputs": [
    {
     "data": {
      "text/plain": [
       "12500.0"
      ]
     },
     "execution_count": 37,
     "metadata": {},
     "output_type": "execute_result"
    }
   ],
   "source": [
    "oui.liquidity_approx(1000, 1500, \"USDC\", asperc=False)"
   ]
  },
  {
   "cell_type": "code",
   "execution_count": 38,
   "id": "362bae79",
   "metadata": {},
   "outputs": [
    {
     "data": {
      "text/plain": [
       "2500.0"
      ]
     },
     "execution_count": 38,
     "metadata": {},
     "output_type": "execute_result"
    }
   ],
   "source": [
    "oui.liquidity_approx(1000, 1100, \"USDC\", asperc=False)"
   ]
  },
  {
   "cell_type": "code",
   "execution_count": 39,
   "id": "5ce0f592",
   "metadata": {},
   "outputs": [
    {
     "data": {
      "text/plain": [
       "2500.0"
      ]
     },
     "execution_count": 39,
     "metadata": {},
     "output_type": "execute_result"
    }
   ],
   "source": [
    "oui.liquidity_approx(1400, 1500, \"USDC\", asperc=False)"
   ]
  },
  {
   "cell_type": "code",
   "execution_count": 40,
   "id": "1005154b",
   "metadata": {},
   "outputs": [
    {
     "data": {
      "text/plain": [
       "(2.3836564731139807, 2.3836564731139807)"
      ]
     },
     "execution_count": 40,
     "metadata": {},
     "output_type": "execute_result"
    }
   ],
   "source": [
    "oui.liquidity_approx(1000, 1100, \"ETH\", asperc=False), 2500/sqrt(1000*1100)"
   ]
  },
  {
   "cell_type": "code",
   "execution_count": 41,
   "id": "552c71a4",
   "metadata": {},
   "outputs": [
    {
     "data": {
      "text/plain": [
       "(1.7251638983558857, 1.7251638983558855)"
      ]
     },
     "execution_count": 41,
     "metadata": {},
     "output_type": "execute_result"
    }
   ],
   "source": [
    "oui.liquidity_approx(1400, 1500, \"ETH\", asperc=False), 2500/sqrt(1400*1500)"
   ]
  },
  {
   "cell_type": "markdown",
   "id": "d40a1f4c",
   "metadata": {},
   "source": [
    "## Order 3 (USDC, point)"
   ]
  },
  {
   "cell_type": "code",
   "execution_count": 42,
   "id": "dc2daf41",
   "metadata": {},
   "outputs": [
    {
     "data": {
      "text/plain": [
       "(1250.0, 1250.0, (12500.0, 'USDC'))"
      ]
     },
     "execution_count": 42,
     "metadata": {},
     "output_type": "execute_result"
    }
   ],
   "source": [
    "oui = Sim.state()[\"orderuis\"][3]\n",
    "oui.pmin, oui.pmax, oui.total_liquidity"
   ]
  },
  {
   "cell_type": "code",
   "execution_count": 43,
   "id": "1553011d",
   "metadata": {},
   "outputs": [
    {
     "data": {
      "text/plain": [
       "12500.0"
      ]
     },
     "execution_count": 43,
     "metadata": {},
     "output_type": "execute_result"
    }
   ],
   "source": [
    "oui.liquidity_approx(1249, 1251, \"USDC\", asperc=False)"
   ]
  },
  {
   "cell_type": "code",
   "execution_count": 44,
   "id": "c46558c4",
   "metadata": {},
   "outputs": [
    {
     "data": {
      "text/plain": [
       "12500.0"
      ]
     },
     "execution_count": 44,
     "metadata": {},
     "output_type": "execute_result"
    }
   ],
   "source": [
    "oui.liquidity_approx(1000, 2000, \"USDC\", asperc=False)"
   ]
  },
  {
   "cell_type": "code",
   "execution_count": 45,
   "id": "53d10b47",
   "metadata": {},
   "outputs": [
    {
     "data": {
      "text/plain": [
       "0"
      ]
     },
     "execution_count": 45,
     "metadata": {},
     "output_type": "execute_result"
    }
   ],
   "source": [
    "oui.liquidity_approx(1249, 1250, \"USDC\", asperc=False)"
   ]
  },
  {
   "cell_type": "code",
   "execution_count": 46,
   "id": "fd5f6329",
   "metadata": {},
   "outputs": [
    {
     "data": {
      "text/plain": [
       "12500.0"
      ]
     },
     "execution_count": 46,
     "metadata": {},
     "output_type": "execute_result"
    }
   ],
   "source": [
    "oui.liquidity_approx(1250, 1251, \"USDC\", asperc=False)"
   ]
  },
  {
   "cell_type": "code",
   "execution_count": 47,
   "id": "2578b7fa",
   "metadata": {},
   "outputs": [
    {
     "data": {
      "text/plain": [
       "10.0"
      ]
     },
     "execution_count": 47,
     "metadata": {},
     "output_type": "execute_result"
    }
   ],
   "source": [
    "oui.liquidity_approx(1249, 1251, \"ETH\", asperc=False)"
   ]
  },
  {
   "cell_type": "code",
   "execution_count": 48,
   "id": "798fea27",
   "metadata": {},
   "outputs": [
    {
     "data": {
      "text/plain": [
       "10.0"
      ]
     },
     "execution_count": 48,
     "metadata": {},
     "output_type": "execute_result"
    }
   ],
   "source": [
    "oui.liquidity_approx(1000, 2000, \"ETH\", asperc=False)"
   ]
  },
  {
   "cell_type": "code",
   "execution_count": 49,
   "id": "9bff2d13",
   "metadata": {},
   "outputs": [
    {
     "data": {
      "text/plain": [
       "0"
      ]
     },
     "execution_count": 49,
     "metadata": {},
     "output_type": "execute_result"
    }
   ],
   "source": [
    "oui.liquidity_approx(1249, 1250, \"ETH\", asperc=False)"
   ]
  },
  {
   "cell_type": "code",
   "execution_count": 50,
   "id": "290ed7c1",
   "metadata": {},
   "outputs": [
    {
     "data": {
      "text/plain": [
       "10.0"
      ]
     },
     "execution_count": 50,
     "metadata": {},
     "output_type": "execute_result"
    }
   ],
   "source": [
    "oui.liquidity_approx(1250, 1251, \"ETH\", asperc=False)"
   ]
  },
  {
   "cell_type": "code",
   "execution_count": null,
   "id": "e095cdab",
   "metadata": {},
   "outputs": [],
   "source": []
  }
 ],
 "metadata": {
  "kernelspec": {
   "display_name": "Python 3",
   "language": "python",
   "name": "python3"
  },
  "language_info": {
   "codemirror_mode": {
    "name": "ipython",
    "version": 3
   },
   "file_extension": ".py",
   "mimetype": "text/x-python",
   "name": "python",
   "nbconvert_exporter": "python",
   "pygments_lexer": "ipython3",
   "version": "3.8.8"
  }
 },
 "nbformat": 4,
 "nbformat_minor": 5
}
