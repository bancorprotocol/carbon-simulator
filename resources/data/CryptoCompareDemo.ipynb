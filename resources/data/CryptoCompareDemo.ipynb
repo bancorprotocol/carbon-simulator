{
 "cells": [
  {
   "cell_type": "code",
   "execution_count": 15,
   "id": "655e6fab",
   "metadata": {},
   "outputs": [
    {
     "name": "stdout",
     "output_type": "stream",
     "text": [
      "CryptoCompare v1.2 (29/Jan/2023)\n"
     ]
    }
   ],
   "source": [
    "from carbon.helpers.cryptocompare import CryptoCompare\n",
    "\n",
    "print( \"{0.__name__} v{0.__VERSION__} ({0.__DATE__})\".format(CryptoCompare))"
   ]
  },
  {
   "cell_type": "markdown",
   "id": "1a8bd681",
   "metadata": {},
   "source": [
    "# Crypto Compare\n",
    "\n",
    "https://min-api.cryptocompare.com/documentation"
   ]
  },
  {
   "cell_type": "markdown",
   "id": "0dcd7571",
   "metadata": {},
   "source": [
    "Note: `CryptoCompare` expects the API in an environment variable called `CCAPIKEY`. To set in bash, run\n",
    "\n",
    "    export CCAPIKEY=<value>\n",
    "    jupyter notebook\n",
    "    \n",
    "Alternatively you can supply the API key directly to the object (via `apikey=XXX`), but this is not recommended because of its security implications."
   ]
  },
  {
   "cell_type": "code",
   "execution_count": 16,
   "id": "d37fb19e",
   "metadata": {
    "lines_to_next_cell": 2
   },
   "outputs": [
    {
     "name": "stdout",
     "output_type": "stream",
     "text": [
      "Can't find API key CCAPIKEY in environment variables.\n",
      "Use `export CCAPIKEY=<value>` to set it BEFORE you launch Jupyter\n",
      "API key not present. Use `export CCAPIKEY=<value>` to set it before launching Jupyter.\n",
      "[CryptoCompare] key digest 0000 0000\n"
     ]
    }
   ],
   "source": [
    "CCA = CryptoCompare(apikey=True)\n",
    "try:\n",
    "    CCA = CryptoCompare()\n",
    "except RuntimeError as e:\n",
    "    CC = CCA\n",
    "    print(e)\n",
    "print(\"[CryptoCompare] key digest\", CC.keydigest[:4], CCA.keydigest[:4])"
   ]
  },
  {
   "cell_type": "markdown",
   "id": "0843da33",
   "metadata": {},
   "source": [
    "## Rate limit"
   ]
  },
  {
   "cell_type": "code",
   "execution_count": 17,
   "id": "4d89bb6f",
   "metadata": {},
   "outputs": [
    {
     "name": "stdout",
     "output_type": "stream",
     "text": [
      "[query] https://min-api.cryptocompare.com/stats/rate/limit {} [0000]\n"
     ]
    },
    {
     "data": {
      "text/plain": [
       "{'calls_made': {'second': 1, 'minute': 1, 'hour': 41, 'day': 49, 'month': 519},\n",
       " 'calls_left': {'second': 19,\n",
       "  'minute': 299,\n",
       "  'hour': 2959,\n",
       "  'day': 7451,\n",
       "  'month': 49481}}"
      ]
     },
     "execution_count": 17,
     "metadata": {},
     "output_type": "execute_result"
    }
   ],
   "source": [
    "CC.query_ratelimit()"
   ]
  },
  {
   "cell_type": "code",
   "execution_count": 18,
   "id": "b0915a13",
   "metadata": {},
   "outputs": [
    {
     "name": "stdout",
     "output_type": "stream",
     "text": [
      "[query] https://min-api.cryptocompare.com/stats/rate/limit {} [0000]\n"
     ]
    },
    {
     "data": {
      "text/plain": [
       "{'calls_made': {'second': 2, 'minute': 2, 'hour': 42, 'day': 50, 'month': 520},\n",
       " 'calls_left': {'second': 18,\n",
       "  'minute': 298,\n",
       "  'hour': 2958,\n",
       "  'day': 7450,\n",
       "  'month': 49480}}"
      ]
     },
     "execution_count": 18,
     "metadata": {},
     "output_type": "execute_result"
    }
   ],
   "source": [
    "CCA.query_ratelimit()"
   ]
  },
  {
   "cell_type": "markdown",
   "id": "bd60e4b4",
   "metadata": {},
   "source": [
    "## Exchanges and pairs"
   ]
  },
  {
   "cell_type": "code",
   "execution_count": 19,
   "id": "245d686c",
   "metadata": {},
   "outputs": [
    {
     "data": {
      "text/plain": [
       "dict_keys(['ABCC', 'ACX', 'Abucoins', 'AidosMarket', 'BCEX', 'BTC38', 'BTCAlpha', 'BTCBOX', 'BTCChina', 'BTCE', 'BTCExchange', 'BTCMarkets', 'BTCTurk', 'BTCXIndia', 'BTER', 'BXinth', 'Bgogo', 'Bibox', 'BigONE', 'Binance', 'Binanceje', 'Bit2C', 'BitBank', 'BitBay', 'BitFlip', 'BitGrail', 'BitMarket', 'BitMart', 'BitSquare', 'BitTrex', 'BitZ', 'BitexBook', 'Bitfinex', 'Bitforex', 'Bithumb', 'Bitinfi', 'Bitkub', 'Bitlish', 'Bitmex', 'Bitpoint', 'Bitsane', 'Bitshares', 'Bitso', 'Bitstamp', 'Blackturtle', 'Bleutrade', 'Bluebelt', 'Braziliex', 'Buda', 'CBX', 'CCCAGG', 'CCEDK', 'CCEX', 'CHBTC', 'Catex', 'Cexio', 'ChileBit', 'Codex', 'CoinBene', 'CoinCorner', 'CoinDeal', 'CoinEx', 'CoinFalcon', 'CoinHub', 'CoinJar', 'CoinPulse', 'CoinTiger', 'Coinbase', 'Coincap', 'Coincheck', 'Coinfloor', 'Coinmate', 'Coinnest', 'Coinone', 'Coinroom', 'CoinsBank', 'Coinsbit', 'Coinse', 'Coinsetter', 'Cryptagio', 'CryptoBulls', 'CryptoCarbon', 'CryptoExchangeWS', 'CryptoX', 'Cryptonit', 'Cryptopia', 'Cryptsy', 'DDEX', 'DEx', 'DSX', 'DigiFinex', 'EXRATES', 'EXX', 'EtherDelta', 'Ethermium', 'EthexIndia', 'Ethfinex', 'Everbloom', 'Exenium', 'Exmo', 'ExtStock', 'FCCE', 'FCoin', 'Foxbit', 'Gatecoin', 'Gateio', 'Gemini', 'Globitex', 'Gneiss', 'Gnosis', 'Graviex', 'HADAX', 'Hikenex', 'HitBTC', 'Huobi', 'HuobiPro', 'IDAX', 'IDEX', 'IQFinex', 'Incorex', 'IndependentReserve', 'InstantBitex', 'Ironex', 'Jubi', 'Korbit', 'Kraken', 'Kucoin', 'Kuna', 'LAToken', 'LBank', 'LakeBTC', 'Liqnet', 'Liqui', 'Liquid', 'LiveCoin', 'LocalBitcoins', 'Luno', 'Lykke', 'MercadoBitcoin', 'Minebit', 'MonetaGo', 'MtGox', 'NDAX', 'Nebula', 'Neraex', 'Nexchange', 'Nlexch', 'Novaexchange', 'Nuex', 'OKCoin', 'OKEX', 'OpenLedger', 'Ore', 'P2PB2B', 'Paymium', 'Poloniex', 'Qryptos', 'QuadrigaCX', 'Quoine', 'Remitano', 'RightBTC', 'SafeCoin', 'Simex', 'SingularityX', 'StocksExchange', 'StocksExchangeio', 'Surbitcoin', 'Switcheo', 'TDAX', 'TheRockTrading', 'Threexbit', 'Tidex', 'TokenStore', 'Tokenomy', 'TradeSatoshi', 'TrustDEX', 'TuxExchange', 'Unocoin', 'Upbit', 'VBTC', 'Vaultoro', 'Velox', 'ViaBTC', 'WEX', 'WavesDEX', 'WorldCryptoCap', 'XS2', 'Yacuna', 'Yobit', 'Yunbi', 'ZB', 'ZBG', 'Zaif', 'Zecoex', 'aax', 'aliexchange', 'alphaex', 'altilly', 'ascendex', 'ataix', 'bcbitcoin', 'beldex', 'bequant', 'betconix', 'bhex', 'biki', 'bilaxy', 'binancedex', 'binanceusa', 'bingcoins', 'bitFlyer', 'bitFlyerFX', 'bitasset', 'bitbuy', 'bitci', 'bitcoincom', 'bitfex', 'bitflyereu', 'bitflyerus', 'bithumbglobal', 'bitmax', 'bitpanda', 'bitspark', 'bkex', 'blockchaincom', 'btcXchange', 'btcmex', 'btse', 'bullish', 'bw', 'bybit', 'chainrift', 'chainx', 'chaoex', 'cobinhood', 'coinall', 'coineal', 'coinegg', 'coinfield', 'coinspro', 'coinsuper', 'coinzest', 'compound', 'coss', 'crex24', 'crosstower', 'cryptodotcom', 'cryptofacilities', 'cryptonex', 'currency', 'curve', 'darbfinance', 'dcoin', 'decoin', 'deribit', 'e55com', 'eidoo', 'equos', 'erisx', 'etoro', 'exscudo', 'fatbtc', 'ftx', 'ftxus', 'gopax', 'hbus', 'huobifutures', 'huobijapan', 'huobikorea', 'iCoinbay', 'idevex', 'indodax', 'itBit', 'lmax', 'mexc', 'nominex', 'oex', 'onederx', 'oneinch', 'pancakeswap', 'paribu', 'primexbt', 'probit', 'quickswap', 'raidofinance', 'safetrade', 'seedcx', 'sigenp2p', 'sigenpro', 'sistemkoin', 'slicex', 'smartrade', 'sushiswap', 'tchapp', 'thore', 'timex', 'tokensnet', 'tokok', 'trxmarket', 'uniswap', 'uniswapv2', 'uniswapv3', 'unnamed', 'utorg', 'valr', 'wbb', 'xbtpro', 'xcoex', 'xena', 'xtpub', 'zebitex', 'zloadr'])"
      ]
     },
     "execution_count": 19,
     "metadata": {},
     "output_type": "execute_result"
    }
   ],
   "source": [
    "data = CC.cache_allexchanges()\n",
    "data[\"exchanges\"].keys()"
   ]
  },
  {
   "cell_type": "code",
   "execution_count": 20,
   "id": "b36f68a8",
   "metadata": {},
   "outputs": [
    {
     "data": {
      "text/plain": [
       "'ABCC, BTCBOX, BTCMarkets, BTCTurk, Bibox, BigONE, Binance, Bit2C, BitBank, BitBay, BitMart, BitTrex, Bitfinex, Bithumb, Bitkub, Bitso, Bitstamp, CBX, Cexio, CoinCorner, CoinEx, CoinJar, Coinbase, Coincheck, Coinmate, Coinone, Coinsbit, DigiFinex, Exmo, Gateio, Gemini, HitBTC, HuobiPro, IndependentReserve, Korbit, Kraken, Kucoin, LAToken, Liquid, Luno, Lykke, NDAX, OKCoin, OKEX, P2PB2B, Paymium, TheRockTrading, Upbit, Vaultoro, ZB, ZBG, Zaif, aax, ataix, bequant, binanceusa, bitFlyer, bitbuy, bitflyereu, bitflyerus, bithumbglobal, bitpanda, blockchaincom, btse, bullish, coinfield, crosstower, cryptodotcom, currency, dcoin, decoin, eidoo, erisx, etoro, ftxus, gopax, huobijapan, huobikorea, indodax, itBit, lmax, nominex, probit, valr, zebitex'"
      ]
     },
     "execution_count": 20,
     "metadata": {},
     "output_type": "execute_result"
    }
   ],
   "source": [
    "\", \".join([x for x in data[\"exchanges\"] if data[\"exchanges\"][x].get(\"isTopTier\")])"
   ]
  },
  {
   "cell_type": "code",
   "execution_count": 21,
   "id": "c6da1c10",
   "metadata": {},
   "outputs": [
    {
     "data": {
      "text/plain": [
       "'ABCC, AidosMarket, BCEX, BTCAlpha, BTCBOX, BTCExchange, BTCMarkets, BTCTurk, Bgogo, Bibox, BigONE, Binance, Binanceje, Bit2C, BitBank, BitBay, BitMart, BitSquare, BitTrex, BitZ, BitexBook, Bitfinex, Bitforex, Bithumb, Bitkub, Bitmex, Bitso, Bitstamp, Blackturtle, Bleutrade, Braziliex, Buda, CBX, CCCAGG, Catex, Cexio, CoinBene, CoinCorner, CoinDeal, CoinEx, CoinFalcon, CoinHub, CoinJar, Coinbase, Coincheck, Coinfloor, Coinmate, Coinone, Coinsbit, CryptoCarbon, DDEX, DSX, DigiFinex, EXRATES, EXX, Everbloom, Exenium, Exmo, FCoin, Gateio, Gemini, Globitex, Graviex, HADAX, Hikenex, HitBTC, HuobiPro, IDEX, IQFinex, IndependentReserve, Korbit, Kraken, Kucoin, Kuna, LAToken, LBank, Liqnet, Liquid, LiveCoin, LocalBitcoins, Luno, Lykke, MercadoBitcoin, Minebit, Nebula, Nexchange, Nlexch, Nuex, OKCoin, OKEX, P2PB2B, Paymium, Poloniex, Remitano, RightBTC, SafeCoin, SingularityX, StocksExchange, Switcheo, TheRockTrading, Tidex, TokenStore, Tokenomy, TrustDEX, Upbit, Vaultoro, WavesDEX, Yobit, ZB, ZBG, Zaif, aax, aliexchange, altilly, ascendex, ataix, bcbitcoin, beldex, bequant, betconix, bhex, biki, bilaxy, binancedex, binanceusa, bitFlyer, bitFlyerFX, bitasset, bitbuy, bitci, bitcoincom, bitfex, bitflyereu, bitflyerus, bithumbglobal, bitmax, bitpanda, bkex, blockchaincom, btcmex, btse, bullish, bw, bybit, chainrift, chainx, chaoex, coinall, coineal, coinegg, coinfield, coinspro, coinsuper, compound, crex24, crosstower, cryptodotcom, cryptofacilities, cryptonex, currency, curve, dcoin, decoin, eidoo, equos, erisx, etoro, fatbtc, ftx, ftxus, gopax, huobijapan, huobikorea, idevex, indodax, itBit, lmax, mexc, nominex, oneinch, pancakeswap, paribu, primexbt, probit, quickswap, raidofinance, safetrade, seedcx, sigenp2p, sigenpro, sistemkoin, slicex, smartrade, sushiswap, tchapp, thore, timex, tokensnet, tokok, trxmarket, uniswap, uniswapv2, uniswapv3, unnamed, utorg, valr, wbb, xbtpro, xcoex, xena, xtpub, zebitex'"
      ]
     },
     "execution_count": 21,
     "metadata": {},
     "output_type": "execute_result"
    }
   ],
   "source": [
    "\", \".join([x for x in data[\"exchanges\"] if data[\"exchanges\"][x].get(\"isActive\")])"
   ]
  },
  {
   "cell_type": "code",
   "execution_count": 22,
   "id": "968e359a",
   "metadata": {},
   "outputs": [
    {
     "name": "stdout",
     "output_type": "stream",
     "text": [
      "dict_keys(['pairs', 'isActive', 'isTopTier'])\n"
     ]
    },
    {
     "data": {
      "text/plain": [
       "'ETH, XRP, ORN, C98, SOL, FORTH, RNDR, JUP, 1INCH, BTRST, GLM, ERN, DESO, LIT, DASH, WCFG, NCT, MINA, FLOW, MATIC, BAND, REQ, DOGE, AST, ETHERNITY, POND, ENJ, APT, MANA, MKR, TONE, BADGER, GFI, RAI, JASMY, DYP, ETC, ENS, DIA, CGLD, CRV, MASK, ARPA, LTC, OMG, ALGO, ZEN, UPI, USTC, NKN, MTL, ZEC, BTC, UNI, ATOM, QNT, PERP, SAI, SPELL, IDEX, LRC, BNT, CRO, ALEPH, PRO, TRAC, GALA, SUPER, BOBA, ILV, ATA, ACH, POWR, KNC, DDX, QI, LOOM, PNG, POLS, METIS, GTC, CRPT, MEDIA, STORJ, BCH, CVC, GRAPH, DEXT, INJ, FIDA, AGLD, WLUNC, INDEX, XLM, POLY, SKL, SHPING, AVT, EGLD, MAGIC, MIR, NU, SHIB, SNX, LCX, ICP, EOS, CLV, GRT, STG, XYO, CELO, AXS, SUSHI, CELR, BAT, CTX, FOX, LPT, LINK, RAIREF, BOND, PRQ, CHZ, DOT, AIOZ, RLY, RARI, AUCTION, FIS, SYN, USDT, KAVA, AURORA, QSP, LQTY, ELA, FIL, FORT, USDC, UMA, ADA, NMR, TRIBE, HFT, WAMPL, NEAR, FARM, XTZ, FUNX, DAI, BAL, RLC, XCN, AMP, RAD, COMP, TRU, YFII, IOTX, STX, SYLO, COTI, TIME, ANKR, MLN, REN, MATH, ALCX, GALATA, MPL, DREP, MUSE, KRL, SAND, TRB, GMT, ASM, BLZ, GST, AAVE, USDP, WBTC, RARE, AVAX, BICO, FX, MONAV, T, OXT, GHST, YFI, LDO, VGX, COVAL, MSOL, ROSE, APE, PLU, CBETH, ZRX, SNT, LOKA, PAX, AUDIO, PUNDIX, GNO, SUKU, GAL, HBAR, PLAYD, INV, NEST, UNFI, ABT, BIT, PYR, FET, REP, WAXL, RPL, GUSD, ORCA, METI, CVX, AERGO, OGN, HOPR, 00, MDT, DAR, MUSD, DNT, SWFTC, HIGH, OOKI, MNDE, KSM, MCO2, IMX, API3, OCEAN, CTSI, GODS, ALICE, GYEN, RGT, MXC, RBN, OP, QUICK, PLA, ANT, BUSD, KEEP, AXL'"
      ]
     },
     "execution_count": 22,
     "metadata": {},
     "output_type": "execute_result"
    }
   ],
   "source": [
    "exchange = \"Coinbase\"\n",
    "print(data[\"exchanges\"][exchange].keys())\n",
    "\", \".join(data[\"exchanges\"][exchange][\"pairs\"].keys())"
   ]
  },
  {
   "cell_type": "code",
   "execution_count": 23,
   "id": "2ab2fe29",
   "metadata": {},
   "outputs": [
    {
     "data": {
      "text/plain": [
       "True"
      ]
     },
     "execution_count": 23,
     "metadata": {},
     "output_type": "execute_result"
    }
   ],
   "source": [
    "data[\"exchanges\"][exchange][\"isTopTier\"]"
   ]
  },
  {
   "cell_type": "markdown",
   "id": "0c7ed2d9",
   "metadata": {},
   "source": [
    "## Coinlist"
   ]
  },
  {
   "cell_type": "code",
   "execution_count": 24,
   "id": "d3ba3ca1",
   "metadata": {
    "scrolled": false
   },
   "outputs": [
    {
     "data": {
      "text/plain": [
       "8374"
      ]
     },
     "execution_count": 24,
     "metadata": {},
     "output_type": "execute_result"
    }
   ],
   "source": [
    "data = CC.cache_coinlist()\n",
    "data_keys = list(data.keys())\n",
    "len(data_keys)"
   ]
  },
  {
   "cell_type": "code",
   "execution_count": 25,
   "id": "593ef3e7",
   "metadata": {},
   "outputs": [
    {
     "data": {
      "text/plain": [
       "'GUE, HAL, HBN, HUC, HVC, HYP, ICB, IFC, IXC, JBS, JKC, JUDGE, KDC, KEYC, LK7, LKY, LSD, LTB, LTCD, LTCX'"
      ]
     },
     "execution_count": 25,
     "metadata": {},
     "output_type": "execute_result"
    }
   ],
   "source": [
    "\", \". join(data_keys[100:120])"
   ]
  },
  {
   "cell_type": "code",
   "execution_count": 26,
   "id": "5c4e9fc6",
   "metadata": {},
   "outputs": [
    {
     "data": {
      "text/plain": [
       "dict_keys(['Id', 'Url', 'ImageUrl', 'ContentCreatedOn', 'Name', 'Symbol', 'CoinName', 'FullName', 'Description', 'AssetTokenStatus', 'Algorithm', 'ProofType', 'SortOrder', 'Sponsored', 'Taxonomy', 'Rating', 'IsTrading', 'TotalCoinsMined', 'CirculatingSupply', 'BlockNumber', 'NetHashesPerSecond', 'BlockReward', 'BlockTime', 'AssetLaunchDate', 'AssetWhitepaperUrl', 'AssetWebsiteUrl', 'MaxSupply', 'MktCapPenalty', 'IsUsedInDefi', 'IsUsedInNft', 'PlatformType', 'DecimalPoints', 'AlgorithmType', 'Difficulty'])"
      ]
     },
     "execution_count": 26,
     "metadata": {},
     "output_type": "execute_result"
    }
   ],
   "source": [
    "data[\"BTC\"].keys()"
   ]
  },
  {
   "cell_type": "markdown",
   "id": "9c775149",
   "metadata": {},
   "source": [
    "## ISO currency symbols"
   ]
  },
  {
   "cell_type": "code",
   "execution_count": 40,
   "id": "e70858a1",
   "metadata": {},
   "outputs": [
    {
     "data": {
      "text/plain": [
       "'AED, AFN, ALL, AMD, ANG, AOA, ARS, AUD, AWG, AZN, BAM, BBD, BDT, BGN, BHD, BIF, BMD, BND, BOB, BOV, BRL, BSD, BTN, BWP, BYN, BZD, CAD, CDF, CHE, CHF, CHW, CLF, CLP, CNY, COP, COU, CRC, CUC, CUP, CVE, CZK, DJF, DKK, DOP, DZD, EGP, ERN, ETB, EUR, FJD, FKP, GBP, GEL, GHS, GIP, GMD, GNF, GTQ, GYD, HKD, HNL, HRK, HTG, HUF, IDR, ILS, INR, IQD, IRR, ISK, JMD, JOD, JPY, KES, KGS, KHR, KMF, KPW, KRW, KWD, KYD, KZT, LAK, LBP, LKR, LRD, LSL, LYD, MAD, MDL, MGA, MKD, MMK, MNT, MOP, MRU, MUR, MVR, MWK, MXN, MXV, MYR, MZN, NAD, NGN, NIO, NOK, NPR, NZD, OMR, PAB, PEN, PGK, PHP, PKR, PLN, PYG, QAR, RON, RSD, RUB, RWF, SAR, SBD, SCR, SDG, SEK, SGD, SHP, SLL, SOS, SRD, SSP, STN, SVC, SYP, SZL, THB, TJS, TMT, TND, TOP, TRY, TTD, TWD, TZS, UAH, UGX, USD, USN, UYI, UYU, UYW, UZS, VES, VND, VUV, WST, XAF, XAG, XAU, XCD, XDR, XOF, XPD, XPF, XPT, XSU, XUA, YER, ZAR, ZMW, ZWL'"
      ]
     },
     "execution_count": 40,
     "metadata": {},
     "output_type": "execute_result"
    }
   ],
   "source": [
    "CCA.ccycodes()"
   ]
  },
  {
   "cell_type": "code",
   "execution_count": 28,
   "id": "b394a579",
   "metadata": {},
   "outputs": [
    {
     "data": {
      "text/html": [
       "<div>\n",
       "<style scoped>\n",
       "    .dataframe tbody tr th:only-of-type {\n",
       "        vertical-align: middle;\n",
       "    }\n",
       "\n",
       "    .dataframe tbody tr th {\n",
       "        vertical-align: top;\n",
       "    }\n",
       "\n",
       "    .dataframe thead th {\n",
       "        text-align: right;\n",
       "    }\n",
       "</style>\n",
       "<table border=\"1\" class=\"dataframe\">\n",
       "  <thead>\n",
       "    <tr style=\"text-align: right;\">\n",
       "      <th></th>\n",
       "      <th>Country</th>\n",
       "      <th>Name</th>\n",
       "      <th>Symbol</th>\n",
       "    </tr>\n",
       "  </thead>\n",
       "  <tbody>\n",
       "    <tr>\n",
       "      <th>0</th>\n",
       "      <td>AFGHANISTAN</td>\n",
       "      <td>Afghani</td>\n",
       "      <td>AFN</td>\n",
       "    </tr>\n",
       "    <tr>\n",
       "      <th>1</th>\n",
       "      <td>ÅLAND ISLANDS</td>\n",
       "      <td>Euro</td>\n",
       "      <td>EUR</td>\n",
       "    </tr>\n",
       "    <tr>\n",
       "      <th>2</th>\n",
       "      <td>ALBANIA</td>\n",
       "      <td>Lek</td>\n",
       "      <td>ALL</td>\n",
       "    </tr>\n",
       "    <tr>\n",
       "      <th>3</th>\n",
       "      <td>ALGERIA</td>\n",
       "      <td>Algerian Dinar</td>\n",
       "      <td>DZD</td>\n",
       "    </tr>\n",
       "    <tr>\n",
       "      <th>4</th>\n",
       "      <td>AMERICAN SAMOA</td>\n",
       "      <td>US Dollar</td>\n",
       "      <td>USD</td>\n",
       "    </tr>\n",
       "  </tbody>\n",
       "</table>\n",
       "</div>"
      ],
      "text/plain": [
       "          Country            Name Symbol\n",
       "0     AFGHANISTAN         Afghani    AFN\n",
       "1   ÅLAND ISLANDS            Euro    EUR\n",
       "2         ALBANIA             Lek    ALL\n",
       "3         ALGERIA  Algerian Dinar    DZD\n",
       "4  AMERICAN SAMOA       US Dollar    USD"
      ]
     },
     "execution_count": 28,
     "metadata": {},
     "output_type": "execute_result"
    }
   ],
   "source": [
    "CCA.ccycodes(symonly=False).head()"
   ]
  },
  {
   "cell_type": "markdown",
   "id": "5bb5368a",
   "metadata": {},
   "source": [
    "## Index list"
   ]
  },
  {
   "cell_type": "code",
   "execution_count": 29,
   "id": "baf9217d",
   "metadata": {},
   "outputs": [
    {
     "data": {
      "text/plain": [
       "dict_keys(['BTCA', 'BVIN', 'BTCB', 'ETHB', 'CCBYDOT', 'CCBYSOL', 'CCBYADA', 'CCBYAVAX', 'CCBYATOM'])"
      ]
     },
     "execution_count": 29,
     "metadata": {},
     "output_type": "execute_result"
    }
   ],
   "source": [
    "data = CC.cache_indexlist()\n",
    "data.keys()"
   ]
  },
  {
   "cell_type": "code",
   "execution_count": 30,
   "id": "43f67836",
   "metadata": {
    "lines_to_next_cell": 2
   },
   "outputs": [
    {
     "data": {
      "text/plain": [
       "{'name': 'FICAS Ethereum Fund',\n",
       " 'description': '',\n",
       " 'quote_currency': 'CHF',\n",
       " 'index_market_name': 'CCNAV',\n",
       " 'index_market_underlying_name': 'CCMVDA',\n",
       " 'day_close_in_seconds': 61200}"
      ]
     },
     "execution_count": 30,
     "metadata": {},
     "output_type": "execute_result"
    }
   ],
   "source": [
    "data[\"ETHB\"]"
   ]
  },
  {
   "cell_type": "markdown",
   "id": "d29c4acc",
   "metadata": {},
   "source": [
    "## Freqly pair (= daily, hourly, minutely pair)"
   ]
  },
  {
   "cell_type": "markdown",
   "id": "81560c85",
   "metadata": {},
   "source": [
    "### daily"
   ]
  },
  {
   "cell_type": "code",
   "execution_count": 32,
   "id": "af808780",
   "metadata": {},
   "outputs": [
    {
     "name": "stdout",
     "output_type": "stream",
     "text": [
      "[query] https://min-api.cryptocompare.com/data/v2/histoday {'fsym': 'BTC', 'tsym': 'USD', 'limit': 2000} [0000]\n"
     ]
    },
    {
     "data": {
      "text/html": [
       "<div>\n",
       "<style scoped>\n",
       "    .dataframe tbody tr th:only-of-type {\n",
       "        vertical-align: middle;\n",
       "    }\n",
       "\n",
       "    .dataframe tbody tr th {\n",
       "        vertical-align: top;\n",
       "    }\n",
       "\n",
       "    .dataframe thead th {\n",
       "        text-align: right;\n",
       "    }\n",
       "</style>\n",
       "<table border=\"1\" class=\"dataframe\">\n",
       "  <thead>\n",
       "    <tr style=\"text-align: right;\">\n",
       "      <th></th>\n",
       "      <th>open</th>\n",
       "      <th>close</th>\n",
       "      <th>high</th>\n",
       "      <th>low</th>\n",
       "      <th>volumefrom</th>\n",
       "      <th>volumeto</th>\n",
       "    </tr>\n",
       "    <tr>\n",
       "      <th>datetime</th>\n",
       "      <th></th>\n",
       "      <th></th>\n",
       "      <th></th>\n",
       "      <th></th>\n",
       "      <th></th>\n",
       "      <th></th>\n",
       "    </tr>\n",
       "  </thead>\n",
       "  <tbody>\n",
       "    <tr>\n",
       "      <th>2017-08-08</th>\n",
       "      <td>3401.91</td>\n",
       "      <td>3429.38</td>\n",
       "      <td>3494.87</td>\n",
       "      <td>3357.15</td>\n",
       "      <td>106940.67</td>\n",
       "      <td>3.661694e+08</td>\n",
       "    </tr>\n",
       "    <tr>\n",
       "      <th>2017-08-09</th>\n",
       "      <td>3429.38</td>\n",
       "      <td>3348.79</td>\n",
       "      <td>3437.15</td>\n",
       "      <td>3251.03</td>\n",
       "      <td>97062.76</td>\n",
       "      <td>3.240587e+08</td>\n",
       "    </tr>\n",
       "    <tr>\n",
       "      <th>2017-08-10</th>\n",
       "      <td>3348.79</td>\n",
       "      <td>3425.67</td>\n",
       "      <td>3453.84</td>\n",
       "      <td>3322.92</td>\n",
       "      <td>71000.32</td>\n",
       "      <td>2.420245e+08</td>\n",
       "    </tr>\n",
       "    <tr>\n",
       "      <th>2017-08-11</th>\n",
       "      <td>3425.67</td>\n",
       "      <td>3654.37</td>\n",
       "      <td>3706.48</td>\n",
       "      <td>3409.79</td>\n",
       "      <td>97564.43</td>\n",
       "      <td>3.451355e+08</td>\n",
       "    </tr>\n",
       "    <tr>\n",
       "      <th>2017-08-12</th>\n",
       "      <td>3654.37</td>\n",
       "      <td>3871.62</td>\n",
       "      <td>3967.26</td>\n",
       "      <td>3611.36</td>\n",
       "      <td>123593.57</td>\n",
       "      <td>4.695323e+08</td>\n",
       "    </tr>\n",
       "  </tbody>\n",
       "</table>\n",
       "</div>"
      ],
      "text/plain": [
       "               open    close     high      low  volumefrom      volumeto\n",
       "datetime                                                                \n",
       "2017-08-08  3401.91  3429.38  3494.87  3357.15   106940.67  3.661694e+08\n",
       "2017-08-09  3429.38  3348.79  3437.15  3251.03    97062.76  3.240587e+08\n",
       "2017-08-10  3348.79  3425.67  3453.84  3322.92    71000.32  2.420245e+08\n",
       "2017-08-11  3425.67  3654.37  3706.48  3409.79    97564.43  3.451355e+08\n",
       "2017-08-12  3654.37  3871.62  3967.26  3611.36   123593.57  4.695323e+08"
      ]
     },
     "execution_count": 32,
     "metadata": {},
     "output_type": "execute_result"
    }
   ],
   "source": [
    "df = CCA.query_freqlypair(freq=CCA.FREQ_DAILY, fsym=\"BTC\", tsym=\"USD\")\n",
    "df.head()"
   ]
  },
  {
   "cell_type": "code",
   "execution_count": 33,
   "id": "94b51809",
   "metadata": {},
   "outputs": [
    {
     "name": "stdout",
     "output_type": "stream",
     "text": [
      "[query] https://min-api.cryptocompare.com/data/v2/histoday {'fsym': 'BTC', 'tsym': 'USD', 'limit': 2000} [0000]\n"
     ]
    },
    {
     "data": {
      "text/html": [
       "<div>\n",
       "<style scoped>\n",
       "    .dataframe tbody tr th:only-of-type {\n",
       "        vertical-align: middle;\n",
       "    }\n",
       "\n",
       "    .dataframe tbody tr th {\n",
       "        vertical-align: top;\n",
       "    }\n",
       "\n",
       "    .dataframe thead th {\n",
       "        text-align: right;\n",
       "    }\n",
       "</style>\n",
       "<table border=\"1\" class=\"dataframe\">\n",
       "  <thead>\n",
       "    <tr style=\"text-align: right;\">\n",
       "      <th></th>\n",
       "      <th>open</th>\n",
       "      <th>close</th>\n",
       "      <th>high</th>\n",
       "      <th>low</th>\n",
       "      <th>volumefrom</th>\n",
       "      <th>volumeto</th>\n",
       "    </tr>\n",
       "    <tr>\n",
       "      <th>datetime</th>\n",
       "      <th></th>\n",
       "      <th></th>\n",
       "      <th></th>\n",
       "      <th></th>\n",
       "      <th></th>\n",
       "      <th></th>\n",
       "    </tr>\n",
       "  </thead>\n",
       "  <tbody>\n",
       "    <tr>\n",
       "      <th>2017-08-08</th>\n",
       "      <td>3401.91</td>\n",
       "      <td>3429.38</td>\n",
       "      <td>3494.87</td>\n",
       "      <td>3357.15</td>\n",
       "      <td>106940.67</td>\n",
       "      <td>3.661694e+08</td>\n",
       "    </tr>\n",
       "    <tr>\n",
       "      <th>2017-08-09</th>\n",
       "      <td>3429.38</td>\n",
       "      <td>3348.79</td>\n",
       "      <td>3437.15</td>\n",
       "      <td>3251.03</td>\n",
       "      <td>97062.76</td>\n",
       "      <td>3.240587e+08</td>\n",
       "    </tr>\n",
       "    <tr>\n",
       "      <th>2017-08-10</th>\n",
       "      <td>3348.79</td>\n",
       "      <td>3425.67</td>\n",
       "      <td>3453.84</td>\n",
       "      <td>3322.92</td>\n",
       "      <td>71000.32</td>\n",
       "      <td>2.420245e+08</td>\n",
       "    </tr>\n",
       "    <tr>\n",
       "      <th>2017-08-11</th>\n",
       "      <td>3425.67</td>\n",
       "      <td>3654.37</td>\n",
       "      <td>3706.48</td>\n",
       "      <td>3409.79</td>\n",
       "      <td>97564.43</td>\n",
       "      <td>3.451355e+08</td>\n",
       "    </tr>\n",
       "    <tr>\n",
       "      <th>2017-08-12</th>\n",
       "      <td>3654.37</td>\n",
       "      <td>3871.62</td>\n",
       "      <td>3967.26</td>\n",
       "      <td>3611.36</td>\n",
       "      <td>123593.57</td>\n",
       "      <td>4.695323e+08</td>\n",
       "    </tr>\n",
       "  </tbody>\n",
       "</table>\n",
       "</div>"
      ],
      "text/plain": [
       "               open    close     high      low  volumefrom      volumeto\n",
       "datetime                                                                \n",
       "2017-08-08  3401.91  3429.38  3494.87  3357.15   106940.67  3.661694e+08\n",
       "2017-08-09  3429.38  3348.79  3437.15  3251.03    97062.76  3.240587e+08\n",
       "2017-08-10  3348.79  3425.67  3453.84  3322.92    71000.32  2.420245e+08\n",
       "2017-08-11  3425.67  3654.37  3706.48  3409.79    97564.43  3.451355e+08\n",
       "2017-08-12  3654.37  3871.62  3967.26  3611.36   123593.57  4.695323e+08"
      ]
     },
     "execution_count": 33,
     "metadata": {},
     "output_type": "execute_result"
    }
   ],
   "source": [
    "df = CCA.query_dailypair(fsym=\"BTC\", tsym=\"USD\")\n",
    "df.head()"
   ]
  },
  {
   "cell_type": "markdown",
   "id": "36b9ee31",
   "metadata": {},
   "source": [
    "### hourly"
   ]
  },
  {
   "cell_type": "code",
   "execution_count": 34,
   "id": "ae443bd9",
   "metadata": {},
   "outputs": [
    {
     "name": "stdout",
     "output_type": "stream",
     "text": [
      "[query] https://min-api.cryptocompare.com/data/v2/histohour {'fsym': 'BTC', 'tsym': 'USD', 'limit': 2000} [0000]\n"
     ]
    },
    {
     "data": {
      "text/html": [
       "<div>\n",
       "<style scoped>\n",
       "    .dataframe tbody tr th:only-of-type {\n",
       "        vertical-align: middle;\n",
       "    }\n",
       "\n",
       "    .dataframe tbody tr th {\n",
       "        vertical-align: top;\n",
       "    }\n",
       "\n",
       "    .dataframe thead th {\n",
       "        text-align: right;\n",
       "    }\n",
       "</style>\n",
       "<table border=\"1\" class=\"dataframe\">\n",
       "  <thead>\n",
       "    <tr style=\"text-align: right;\">\n",
       "      <th></th>\n",
       "      <th>open</th>\n",
       "      <th>close</th>\n",
       "      <th>high</th>\n",
       "      <th>low</th>\n",
       "      <th>volumefrom</th>\n",
       "      <th>volumeto</th>\n",
       "    </tr>\n",
       "    <tr>\n",
       "      <th>datetime</th>\n",
       "      <th></th>\n",
       "      <th></th>\n",
       "      <th></th>\n",
       "      <th></th>\n",
       "      <th></th>\n",
       "      <th></th>\n",
       "    </tr>\n",
       "  </thead>\n",
       "  <tbody>\n",
       "    <tr>\n",
       "      <th>2022-11-07 09:00:00</th>\n",
       "      <td>20715.67</td>\n",
       "      <td>20682.69</td>\n",
       "      <td>20754.23</td>\n",
       "      <td>20681.85</td>\n",
       "      <td>1905.00</td>\n",
       "      <td>39486516.28</td>\n",
       "    </tr>\n",
       "    <tr>\n",
       "      <th>2022-11-07 10:00:00</th>\n",
       "      <td>20682.69</td>\n",
       "      <td>20757.47</td>\n",
       "      <td>20806.99</td>\n",
       "      <td>20681.15</td>\n",
       "      <td>2341.66</td>\n",
       "      <td>48612361.88</td>\n",
       "    </tr>\n",
       "    <tr>\n",
       "      <th>2022-11-07 11:00:00</th>\n",
       "      <td>20757.47</td>\n",
       "      <td>20729.76</td>\n",
       "      <td>20779.54</td>\n",
       "      <td>20725.01</td>\n",
       "      <td>1464.39</td>\n",
       "      <td>30387963.84</td>\n",
       "    </tr>\n",
       "    <tr>\n",
       "      <th>2022-11-07 12:00:00</th>\n",
       "      <td>20729.76</td>\n",
       "      <td>20761.69</td>\n",
       "      <td>20769.79</td>\n",
       "      <td>20694.72</td>\n",
       "      <td>2386.06</td>\n",
       "      <td>49455325.22</td>\n",
       "    </tr>\n",
       "    <tr>\n",
       "      <th>2022-11-07 13:00:00</th>\n",
       "      <td>20761.69</td>\n",
       "      <td>20725.71</td>\n",
       "      <td>20795.68</td>\n",
       "      <td>20701.58</td>\n",
       "      <td>2724.06</td>\n",
       "      <td>56501406.48</td>\n",
       "    </tr>\n",
       "  </tbody>\n",
       "</table>\n",
       "</div>"
      ],
      "text/plain": [
       "                         open     close      high       low  volumefrom  \\\n",
       "datetime                                                                  \n",
       "2022-11-07 09:00:00  20715.67  20682.69  20754.23  20681.85     1905.00   \n",
       "2022-11-07 10:00:00  20682.69  20757.47  20806.99  20681.15     2341.66   \n",
       "2022-11-07 11:00:00  20757.47  20729.76  20779.54  20725.01     1464.39   \n",
       "2022-11-07 12:00:00  20729.76  20761.69  20769.79  20694.72     2386.06   \n",
       "2022-11-07 13:00:00  20761.69  20725.71  20795.68  20701.58     2724.06   \n",
       "\n",
       "                        volumeto  \n",
       "datetime                          \n",
       "2022-11-07 09:00:00  39486516.28  \n",
       "2022-11-07 10:00:00  48612361.88  \n",
       "2022-11-07 11:00:00  30387963.84  \n",
       "2022-11-07 12:00:00  49455325.22  \n",
       "2022-11-07 13:00:00  56501406.48  "
      ]
     },
     "execution_count": 34,
     "metadata": {},
     "output_type": "execute_result"
    }
   ],
   "source": [
    "df = CCA.query_freqlypair(freq=CCA.FREQ_HOURLY, fsym=\"BTC\", tsym=\"USD\")\n",
    "df.head()"
   ]
  },
  {
   "cell_type": "code",
   "execution_count": 35,
   "id": "41af5b74",
   "metadata": {},
   "outputs": [
    {
     "name": "stdout",
     "output_type": "stream",
     "text": [
      "[query] https://min-api.cryptocompare.com/data/v2/histohour {'fsym': 'BTC', 'tsym': 'USD', 'limit': 2000} [0000]\n"
     ]
    },
    {
     "data": {
      "text/html": [
       "<div>\n",
       "<style scoped>\n",
       "    .dataframe tbody tr th:only-of-type {\n",
       "        vertical-align: middle;\n",
       "    }\n",
       "\n",
       "    .dataframe tbody tr th {\n",
       "        vertical-align: top;\n",
       "    }\n",
       "\n",
       "    .dataframe thead th {\n",
       "        text-align: right;\n",
       "    }\n",
       "</style>\n",
       "<table border=\"1\" class=\"dataframe\">\n",
       "  <thead>\n",
       "    <tr style=\"text-align: right;\">\n",
       "      <th></th>\n",
       "      <th>open</th>\n",
       "      <th>close</th>\n",
       "      <th>high</th>\n",
       "      <th>low</th>\n",
       "      <th>volumefrom</th>\n",
       "      <th>volumeto</th>\n",
       "    </tr>\n",
       "    <tr>\n",
       "      <th>datetime</th>\n",
       "      <th></th>\n",
       "      <th></th>\n",
       "      <th></th>\n",
       "      <th></th>\n",
       "      <th></th>\n",
       "      <th></th>\n",
       "    </tr>\n",
       "  </thead>\n",
       "  <tbody>\n",
       "    <tr>\n",
       "      <th>2022-11-07 09:00:00</th>\n",
       "      <td>20715.67</td>\n",
       "      <td>20682.69</td>\n",
       "      <td>20754.23</td>\n",
       "      <td>20681.85</td>\n",
       "      <td>1905.00</td>\n",
       "      <td>39486516.28</td>\n",
       "    </tr>\n",
       "    <tr>\n",
       "      <th>2022-11-07 10:00:00</th>\n",
       "      <td>20682.69</td>\n",
       "      <td>20757.47</td>\n",
       "      <td>20806.99</td>\n",
       "      <td>20681.15</td>\n",
       "      <td>2341.66</td>\n",
       "      <td>48612361.88</td>\n",
       "    </tr>\n",
       "    <tr>\n",
       "      <th>2022-11-07 11:00:00</th>\n",
       "      <td>20757.47</td>\n",
       "      <td>20729.76</td>\n",
       "      <td>20779.54</td>\n",
       "      <td>20725.01</td>\n",
       "      <td>1464.39</td>\n",
       "      <td>30387963.84</td>\n",
       "    </tr>\n",
       "    <tr>\n",
       "      <th>2022-11-07 12:00:00</th>\n",
       "      <td>20729.76</td>\n",
       "      <td>20761.69</td>\n",
       "      <td>20769.79</td>\n",
       "      <td>20694.72</td>\n",
       "      <td>2386.06</td>\n",
       "      <td>49455325.22</td>\n",
       "    </tr>\n",
       "    <tr>\n",
       "      <th>2022-11-07 13:00:00</th>\n",
       "      <td>20761.69</td>\n",
       "      <td>20725.71</td>\n",
       "      <td>20795.68</td>\n",
       "      <td>20701.58</td>\n",
       "      <td>2724.06</td>\n",
       "      <td>56501406.48</td>\n",
       "    </tr>\n",
       "  </tbody>\n",
       "</table>\n",
       "</div>"
      ],
      "text/plain": [
       "                         open     close      high       low  volumefrom  \\\n",
       "datetime                                                                  \n",
       "2022-11-07 09:00:00  20715.67  20682.69  20754.23  20681.85     1905.00   \n",
       "2022-11-07 10:00:00  20682.69  20757.47  20806.99  20681.15     2341.66   \n",
       "2022-11-07 11:00:00  20757.47  20729.76  20779.54  20725.01     1464.39   \n",
       "2022-11-07 12:00:00  20729.76  20761.69  20769.79  20694.72     2386.06   \n",
       "2022-11-07 13:00:00  20761.69  20725.71  20795.68  20701.58     2724.06   \n",
       "\n",
       "                        volumeto  \n",
       "datetime                          \n",
       "2022-11-07 09:00:00  39486516.28  \n",
       "2022-11-07 10:00:00  48612361.88  \n",
       "2022-11-07 11:00:00  30387963.84  \n",
       "2022-11-07 12:00:00  49455325.22  \n",
       "2022-11-07 13:00:00  56501406.48  "
      ]
     },
     "execution_count": 35,
     "metadata": {},
     "output_type": "execute_result"
    }
   ],
   "source": [
    "df = CCA.query_hourlypair(fsym=\"BTC\", tsym=\"USD\")\n",
    "df.head()"
   ]
  },
  {
   "cell_type": "markdown",
   "id": "a34a99ff",
   "metadata": {},
   "source": [
    "### minutely"
   ]
  },
  {
   "cell_type": "code",
   "execution_count": 36,
   "id": "b291c56b",
   "metadata": {},
   "outputs": [
    {
     "name": "stdout",
     "output_type": "stream",
     "text": [
      "[query] https://min-api.cryptocompare.com/data/v2/histominute {'fsym': 'BTC', 'tsym': 'USD', 'limit': 2000} [0000]\n"
     ]
    },
    {
     "data": {
      "text/html": [
       "<div>\n",
       "<style scoped>\n",
       "    .dataframe tbody tr th:only-of-type {\n",
       "        vertical-align: middle;\n",
       "    }\n",
       "\n",
       "    .dataframe tbody tr th {\n",
       "        vertical-align: top;\n",
       "    }\n",
       "\n",
       "    .dataframe thead th {\n",
       "        text-align: right;\n",
       "    }\n",
       "</style>\n",
       "<table border=\"1\" class=\"dataframe\">\n",
       "  <thead>\n",
       "    <tr style=\"text-align: right;\">\n",
       "      <th></th>\n",
       "      <th>open</th>\n",
       "      <th>close</th>\n",
       "      <th>high</th>\n",
       "      <th>low</th>\n",
       "      <th>volumefrom</th>\n",
       "      <th>volumeto</th>\n",
       "    </tr>\n",
       "    <tr>\n",
       "      <th>datetime</th>\n",
       "      <th></th>\n",
       "      <th></th>\n",
       "      <th></th>\n",
       "      <th></th>\n",
       "      <th></th>\n",
       "      <th></th>\n",
       "    </tr>\n",
       "  </thead>\n",
       "  <tbody>\n",
       "    <tr>\n",
       "      <th>2023-01-28 08:03:00</th>\n",
       "      <td>22990.61</td>\n",
       "      <td>22986.87</td>\n",
       "      <td>22990.61</td>\n",
       "      <td>22986.19</td>\n",
       "      <td>6.847</td>\n",
       "      <td>157392.09</td>\n",
       "    </tr>\n",
       "    <tr>\n",
       "      <th>2023-01-28 08:04:00</th>\n",
       "      <td>22986.87</td>\n",
       "      <td>22992.36</td>\n",
       "      <td>22993.92</td>\n",
       "      <td>22983.79</td>\n",
       "      <td>16.150</td>\n",
       "      <td>371281.53</td>\n",
       "    </tr>\n",
       "    <tr>\n",
       "      <th>2023-01-28 08:05:00</th>\n",
       "      <td>22992.36</td>\n",
       "      <td>22997.47</td>\n",
       "      <td>22998.31</td>\n",
       "      <td>22992.36</td>\n",
       "      <td>11.310</td>\n",
       "      <td>260104.08</td>\n",
       "    </tr>\n",
       "    <tr>\n",
       "      <th>2023-01-28 08:06:00</th>\n",
       "      <td>22997.47</td>\n",
       "      <td>23003.07</td>\n",
       "      <td>23003.60</td>\n",
       "      <td>22996.59</td>\n",
       "      <td>6.697</td>\n",
       "      <td>154056.55</td>\n",
       "    </tr>\n",
       "    <tr>\n",
       "      <th>2023-01-28 08:07:00</th>\n",
       "      <td>23003.07</td>\n",
       "      <td>23005.72</td>\n",
       "      <td>23006.97</td>\n",
       "      <td>23001.85</td>\n",
       "      <td>11.680</td>\n",
       "      <td>268795.39</td>\n",
       "    </tr>\n",
       "  </tbody>\n",
       "</table>\n",
       "</div>"
      ],
      "text/plain": [
       "                         open     close      high       low  volumefrom  \\\n",
       "datetime                                                                  \n",
       "2023-01-28 08:03:00  22990.61  22986.87  22990.61  22986.19       6.847   \n",
       "2023-01-28 08:04:00  22986.87  22992.36  22993.92  22983.79      16.150   \n",
       "2023-01-28 08:05:00  22992.36  22997.47  22998.31  22992.36      11.310   \n",
       "2023-01-28 08:06:00  22997.47  23003.07  23003.60  22996.59       6.697   \n",
       "2023-01-28 08:07:00  23003.07  23005.72  23006.97  23001.85      11.680   \n",
       "\n",
       "                      volumeto  \n",
       "datetime                        \n",
       "2023-01-28 08:03:00  157392.09  \n",
       "2023-01-28 08:04:00  371281.53  \n",
       "2023-01-28 08:05:00  260104.08  \n",
       "2023-01-28 08:06:00  154056.55  \n",
       "2023-01-28 08:07:00  268795.39  "
      ]
     },
     "execution_count": 36,
     "metadata": {},
     "output_type": "execute_result"
    }
   ],
   "source": [
    "df = CCA.query_freqlypair(freq=CCA.FREQ_MINUTELY, fsym=\"BTC\", tsym=\"USD\")\n",
    "df.head()"
   ]
  },
  {
   "cell_type": "code",
   "execution_count": 37,
   "id": "616b06c4",
   "metadata": {},
   "outputs": [
    {
     "name": "stdout",
     "output_type": "stream",
     "text": [
      "[query] https://min-api.cryptocompare.com/data/v2/histominute {'fsym': 'BTC', 'tsym': 'USD', 'limit': 2000} [0000]\n"
     ]
    },
    {
     "data": {
      "text/html": [
       "<div>\n",
       "<style scoped>\n",
       "    .dataframe tbody tr th:only-of-type {\n",
       "        vertical-align: middle;\n",
       "    }\n",
       "\n",
       "    .dataframe tbody tr th {\n",
       "        vertical-align: top;\n",
       "    }\n",
       "\n",
       "    .dataframe thead th {\n",
       "        text-align: right;\n",
       "    }\n",
       "</style>\n",
       "<table border=\"1\" class=\"dataframe\">\n",
       "  <thead>\n",
       "    <tr style=\"text-align: right;\">\n",
       "      <th></th>\n",
       "      <th>open</th>\n",
       "      <th>close</th>\n",
       "      <th>high</th>\n",
       "      <th>low</th>\n",
       "      <th>volumefrom</th>\n",
       "      <th>volumeto</th>\n",
       "    </tr>\n",
       "    <tr>\n",
       "      <th>datetime</th>\n",
       "      <th></th>\n",
       "      <th></th>\n",
       "      <th></th>\n",
       "      <th></th>\n",
       "      <th></th>\n",
       "      <th></th>\n",
       "    </tr>\n",
       "  </thead>\n",
       "  <tbody>\n",
       "    <tr>\n",
       "      <th>2023-01-28 08:03:00</th>\n",
       "      <td>22990.61</td>\n",
       "      <td>22986.87</td>\n",
       "      <td>22990.61</td>\n",
       "      <td>22986.19</td>\n",
       "      <td>6.847</td>\n",
       "      <td>157392.09</td>\n",
       "    </tr>\n",
       "    <tr>\n",
       "      <th>2023-01-28 08:04:00</th>\n",
       "      <td>22986.87</td>\n",
       "      <td>22992.36</td>\n",
       "      <td>22993.92</td>\n",
       "      <td>22983.79</td>\n",
       "      <td>16.150</td>\n",
       "      <td>371281.53</td>\n",
       "    </tr>\n",
       "    <tr>\n",
       "      <th>2023-01-28 08:05:00</th>\n",
       "      <td>22992.36</td>\n",
       "      <td>22997.47</td>\n",
       "      <td>22998.31</td>\n",
       "      <td>22992.36</td>\n",
       "      <td>11.310</td>\n",
       "      <td>260104.08</td>\n",
       "    </tr>\n",
       "    <tr>\n",
       "      <th>2023-01-28 08:06:00</th>\n",
       "      <td>22997.47</td>\n",
       "      <td>23003.07</td>\n",
       "      <td>23003.60</td>\n",
       "      <td>22996.59</td>\n",
       "      <td>6.697</td>\n",
       "      <td>154056.55</td>\n",
       "    </tr>\n",
       "    <tr>\n",
       "      <th>2023-01-28 08:07:00</th>\n",
       "      <td>23003.07</td>\n",
       "      <td>23005.72</td>\n",
       "      <td>23006.97</td>\n",
       "      <td>23001.85</td>\n",
       "      <td>11.680</td>\n",
       "      <td>268795.39</td>\n",
       "    </tr>\n",
       "  </tbody>\n",
       "</table>\n",
       "</div>"
      ],
      "text/plain": [
       "                         open     close      high       low  volumefrom  \\\n",
       "datetime                                                                  \n",
       "2023-01-28 08:03:00  22990.61  22986.87  22990.61  22986.19       6.847   \n",
       "2023-01-28 08:04:00  22986.87  22992.36  22993.92  22983.79      16.150   \n",
       "2023-01-28 08:05:00  22992.36  22997.47  22998.31  22992.36      11.310   \n",
       "2023-01-28 08:06:00  22997.47  23003.07  23003.60  22996.59       6.697   \n",
       "2023-01-28 08:07:00  23003.07  23005.72  23006.97  23001.85      11.680   \n",
       "\n",
       "                      volumeto  \n",
       "datetime                        \n",
       "2023-01-28 08:03:00  157392.09  \n",
       "2023-01-28 08:04:00  371281.53  \n",
       "2023-01-28 08:05:00  260104.08  \n",
       "2023-01-28 08:06:00  154056.55  \n",
       "2023-01-28 08:07:00  268795.39  "
      ]
     },
     "execution_count": 37,
     "metadata": {},
     "output_type": "execute_result"
    }
   ],
   "source": [
    "df = CCA.query_minutelypair(fsym=\"BTC\", tsym=\"USD\")\n",
    "df.head()"
   ]
  },
  {
   "cell_type": "markdown",
   "id": "6a059ec4",
   "metadata": {},
   "source": [
    "### docs"
   ]
  },
  {
   "cell_type": "code",
   "execution_count": 39,
   "id": "1aaa8588",
   "metadata": {},
   "outputs": [
    {
     "name": "stdout",
     "output_type": "stream",
     "text": [
      "Help on method query_freqlypair in module carbon.helpers.cryptocompare:\n",
      "\n",
      "query_freqlypair(freq, fsym=None, tsym=None, e=None, limit=False, toTs=None, aspandas=True) method of carbon.helpers.cryptocompare.CryptoCompare instance\n",
      "    endpoints = /data/v2/histoday, /data/v2/histohour, /data/v2/histominute\n",
      "    \n",
      "    :freq:     FREQ_DAILY, FREQ_HOURLY, or FREQ_MINUTELY\n",
      "    :fsym:     cryptocurrency symbol of interest\n",
      "    :tsym:     currency symbol to convert into\n",
      "    :e:        exchange to obtain data from\n",
      "    :limit:    number of data points to return (max: 2000; False defaults to that number)\n",
      "    :toTs:     returns historical data BEFORE that timestamp\n",
      "               timestamp format either 1452680400 or pd.Timestamp compatible string \n",
      "    \n",
      "    https://min-api.cryptocompare.com/documentation?key=Historical&cat=dataHistoday\n",
      "    https://min-api.cryptocompare.com/documentation?key=Historical&cat=dataHistohour\n",
      "    https://min-api.cryptocompare.com/documentation?key=Historical&cat=dataHistominute\n",
      "\n"
     ]
    }
   ],
   "source": [
    "help(CCA.query_freqlypair)"
   ]
  },
  {
   "cell_type": "code",
   "execution_count": 38,
   "id": "f7b6e5e2",
   "metadata": {},
   "outputs": [
    {
     "name": "stdout",
     "output_type": "stream",
     "text": [
      "Help on method query_minutelypair in module carbon.helpers.cryptocompare:\n",
      "\n",
      "query_minutelypair(*args, **kwargs) method of carbon.helpers.cryptocompare.CryptoCompare instance\n",
      "    alias for query_freqlypair(FREQ_MINUTELY, ...)\n",
      "\n"
     ]
    }
   ],
   "source": [
    "help(CCA.query_minutelypair)"
   ]
  },
  {
   "cell_type": "code",
   "execution_count": null,
   "id": "ccfc725c",
   "metadata": {
    "lines_to_next_cell": 2
   },
   "outputs": [],
   "source": []
  }
 ],
 "metadata": {
  "jupytext": {
   "encoding": "# -*- coding: utf-8 -*-",
   "formats": "ipynb,py:light"
  },
  "kernelspec": {
   "display_name": "Python 3",
   "language": "python",
   "name": "python3"
  },
  "language_info": {
   "codemirror_mode": {
    "name": "ipython",
    "version": 3
   },
   "file_extension": ".py",
   "mimetype": "text/x-python",
   "name": "python",
   "nbconvert_exporter": "python",
   "pygments_lexer": "ipython3",
   "version": "3.8.8"
  }
 },
 "nbformat": 4,
 "nbformat_minor": 5
}
