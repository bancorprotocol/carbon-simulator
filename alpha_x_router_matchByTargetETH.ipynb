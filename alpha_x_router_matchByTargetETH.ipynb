{
 "cells": [
  {
   "cell_type": "code",
   "execution_count": 1,
   "metadata": {},
   "outputs": [],
   "source": [
    "from benchmark import impl\n",
    "from benchmark import alphaxutils\n",
    "from decimal import Decimal\n",
    "import pandas as pd\n",
    "\n",
    "Order = alphaxutils.Order\n",
    "tradeBySourceAmount = alphaxutils.tradeBySourceAmount\n",
    "tradeByTargetAmount = alphaxutils.tradeByTargetAmount\n",
    "AlphaRouter = alphaxutils.AlphaRouter\n",
    "CarbonOrderUI = alphaxutils.CarbonOrderUI\n",
    "assertAlmostEqual = alphaxutils.assertAlmostEqual\n",
    "get_geoprice = AlphaRouter.get_geoprice"
   ]
  },
  {
   "cell_type": "code",
   "execution_count": 2,
   "metadata": {},
   "outputs": [],
   "source": [
    "threshold_orders = 6\n",
    "inputAmount = Decimal('100000') #63205\n",
    "support_partial = True\n",
    "\n",
    "order_params = {\n",
    "    'liquidity':Decimal('5'),\n",
    "    'highestRate':Decimal('0.0005'), # 2000\n",
    "    'lowestRate':Decimal('0.0004'),  # 2500\n",
    "    'marginalRate':Decimal('0.0005'),\n",
    "    }\n",
    "order_params2 = {\n",
    "    'liquidity':Decimal('4'),\n",
    "    'highestRate':Decimal('0.0006'), # 1666\n",
    "    'lowestRate':Decimal('0.0005'),  # 2000\n",
    "    'marginalRate':Decimal('0.0006'),\n",
    "    }"
   ]
  },
  {
   "cell_type": "code",
   "execution_count": 3,
   "metadata": {},
   "outputs": [
    {
     "data": {
      "text/plain": [
       "1666.6666666666667"
      ]
     },
     "execution_count": 3,
     "metadata": {},
     "output_type": "execute_result"
    }
   ],
   "source": [
    "1/0.0006"
   ]
  },
  {
   "cell_type": "code",
   "execution_count": 4,
   "metadata": {},
   "outputs": [
    {
     "data": {
      "text/plain": [
       "0.0005477225575051661"
      ]
     },
     "execution_count": 4,
     "metadata": {},
     "output_type": "execute_result"
    }
   ],
   "source": [
    "((0.0005 * 0.0006)**0.5)"
   ]
  },
  {
   "cell_type": "code",
   "execution_count": 5,
   "metadata": {},
   "outputs": [
    {
     "data": {
      "text/plain": [
       "0.0021908902300206644"
      ]
     },
     "execution_count": 5,
     "metadata": {},
     "output_type": "execute_result"
    }
   ],
   "source": [
    "((0.0005 * 0.0006)**0.5) * 4"
   ]
  },
  {
   "cell_type": "code",
   "execution_count": 6,
   "metadata": {},
   "outputs": [
    {
     "data": {
      "text/plain": [
       "1825.7418583505537"
      ]
     },
     "execution_count": 6,
     "metadata": {},
     "output_type": "execute_result"
    }
   ],
   "source": [
    "1/((0.0005 * 0.0006)**0.5)"
   ]
  },
  {
   "cell_type": "code",
   "execution_count": 7,
   "metadata": {},
   "outputs": [
    {
     "data": {
      "text/plain": [
       "7302.967433402215"
      ]
     },
     "execution_count": 7,
     "metadata": {},
     "output_type": "execute_result"
    }
   ],
   "source": [
    "1/((0.0005 * 0.0006)**0.5) * 4"
   ]
  },
  {
   "cell_type": "code",
   "execution_count": 8,
   "metadata": {},
   "outputs": [],
   "source": [
    "orders = []\n",
    "for i in range(5):\n",
    "    orders += [Order(order_params)]\n",
    "    orders += [Order(order_params2)]\n",
    "\n",
    "indexes = list(range(len(orders)))   "
   ]
  },
  {
   "cell_type": "code",
   "execution_count": 9,
   "metadata": {},
   "outputs": [
    {
     "name": "stdout",
     "output_type": "stream",
     "text": [
      "0.022360679774997896964091736687312762354406183596115\n",
      "0.002134217652833884017881104059746151565253291210452\n"
     ]
    }
   ],
   "source": [
    "i = 1\n",
    "print(orders[i].B)\n",
    "print(orders[i].A)"
   ]
  },
  {
   "cell_type": "code",
   "execution_count": 10,
   "metadata": {},
   "outputs": [],
   "source": [
    "# dy_f = lambda p: sum(o.dyfromp_f(p) for o in orders)\n",
    "# dx_f = lambda p: sum(o.dxfromdy_f(o.dyfromp_f(p)) for o in orders)\n",
    "# p_goal = CarbonOrderUI.goalseek(lambda p: dx_f(p)-inputAmount, Decimal('0.000000001'), Decimal('1000000000'))\n",
    "# rl1 = [o.dyfromp_f(p_goal) for o in orders]\n",
    "# rl2 = [o.dxfromdy_f(o.dyfromp_f(p_goal)) for o in orders]\n",
    "\n",
    "# actions = list(enumerate((zip(rl1, rl2))))\n",
    "# # assertAlmostEqual(inputAmount, sum(rl1), Decimal('1E-8'))\n",
    "# print('total_input',sum(rl1))\n",
    "# print('total_output', sum(rl2))\n",
    "# print('effective_price', sum(rl2) / sum(rl1))\n",
    "# # return(actions)\n",
    "# actions"
   ]
  },
  {
   "cell_type": "code",
   "execution_count": 11,
   "metadata": {},
   "outputs": [
    {
     "data": {
      "text/plain": [
       "Decimal('0.00054772255750516611345696978280080213395274469499798')"
      ]
     },
     "execution_count": 11,
     "metadata": {},
     "output_type": "execute_result"
    }
   ],
   "source": [
    "get_geoprice(1, orders)"
   ]
  },
  {
   "attachments": {},
   "cell_type": "markdown",
   "metadata": {},
   "source": [
    "# Match by Target"
   ]
  },
  {
   "cell_type": "code",
   "execution_count": 12,
   "metadata": {},
   "outputs": [],
   "source": [
    "# inputAmount=Decimal('2000')\n",
    "# tradeBySourceAmount(x=inputAmount, order=orders[1])"
   ]
  },
  {
   "cell_type": "code",
   "execution_count": 13,
   "metadata": {},
   "outputs": [],
   "source": [
    "def matchByTarget_selector(inputAmount, orders):\n",
    "    hypothetical_output_amts = {i: tradeBySourceAmount(x=inputAmount, order=orders[i])[1] for i in indexes}   # WTF not sure why this is bySource but it works - for input USDC as target, orders defined in ETH per USDC\n",
    "    # max_output_amt = {i: tradeByTargetAmount(x=orders[i].y, order=orders[i])[1] for i in indexes}  \n",
    "    associated_liquidity = [orders[i].y for i in hypothetical_output_amts.keys()]\n",
    "\n",
    "    amounts = []\n",
    "    effective_prices = []\n",
    "    available_value = []\n",
    "    for k, v in hypothetical_output_amts.items():\n",
    "        if v > orders[k].y:\n",
    "            # print('1')\n",
    "            price = get_geoprice(k, orders)\n",
    "            amount = orders[k].y\n",
    "            amounts += [amount]\n",
    "            effective_prices += [price]\n",
    "            available_value += [amount / price]\n",
    "        else:\n",
    "            # print('2')\n",
    "            amounts += [v]\n",
    "            price = v / inputAmount\n",
    "            effective_prices += [price]\n",
    "            available_value += [v / price]\n",
    "\n",
    "    results = pd.DataFrame(\n",
    "        [\n",
    "            hypothetical_output_amts.keys(),\n",
    "            hypothetical_output_amts.values(),\n",
    "            associated_liquidity,\n",
    "            amounts,\n",
    "            effective_prices,\n",
    "            available_value,\n",
    "        ],\n",
    "        index=[\n",
    "            \"indexes\",\n",
    "            \"hypothetical_output_amts\",\n",
    "            \"associated_liquidity\",\n",
    "            \"amount\",\n",
    "            \"effective_prices\",\n",
    "            \"available_value\",\n",
    "        ],\n",
    "    )\n",
    "    results = results.T.copy()\n",
    "    results.sort_values(\n",
    "        by=[\"hypothetical_output_amts\", 'indexes'], ascending=[False, True], inplace=True\n",
    "    )\n",
    "\n",
    "    results.fillna(0, inplace=True)\n",
    "    results.reset_index(inplace=True, drop=True)\n",
    "    # results\n",
    "\n",
    "    if (not support_partial) & (results.available_value.sum() < abs(inputAmount)):\n",
    "        print('Insufficient Liquidity')\n",
    "        return(None)\n",
    "    else:\n",
    "        passed_indexes = AlphaRouter.gen_one_order_selector(results.available_value, abs(inputAmount), threshold_orders)\n",
    "        top_n_threshold_orders = [results.indexes[i] for i in passed_indexes]\n",
    "    order_subset = [orders[i] for i in top_n_threshold_orders]\n",
    "    total_subset_liquidity = results[results.indexes.isin(top_n_threshold_orders)].available_value.sum()\n",
    "    return(order_subset, total_subset_liquidity, top_n_threshold_orders)"
   ]
  },
  {
   "cell_type": "markdown",
   "metadata": {},
   "source": [
    "## Partial Match Logic"
   ]
  },
  {
   "cell_type": "code",
   "execution_count": 14,
   "metadata": {},
   "outputs": [],
   "source": [
    "order_subset, total_subset_liquidity, top_n_threshold_orders = matchByTarget_selector(inputAmount, orders)"
   ]
  },
  {
   "attachments": {},
   "cell_type": "markdown",
   "metadata": {},
   "source": [
    "## Exact Matching with Marginal Price Router"
   ]
  },
  {
   "cell_type": "code",
   "execution_count": 15,
   "metadata": {},
   "outputs": [
    {
     "name": "stdout",
     "output_type": "stream",
     "text": [
      "inputAmount 100000\n",
      "total_subset_liquidity 63204.666870896957256322272155625934338718721590263\n",
      "** Partial Match (63.20467%) **\n",
      "total_input 63204.666870896957256322272155625934338718721590268\n",
      "total_output 29\n",
      "effective_price 0.00045882687838915354292782070335774230457929040542126\n",
      "1/effective_price 2179.4712714102399053904231777802046323696110893196\n"
     ]
    },
    {
     "data": {
      "text/plain": [
       "{9: {'input': Decimal('7302.9674334022148460929304373440284527032625999732'),\n",
       "  'output': Decimal('4')},\n",
       " 0: {'input': Decimal('11180.339887498948482045868343656381177203091798059'),\n",
       "  'output': Decimal('5')},\n",
       " 2: {'input': Decimal('11180.339887498948482045868343656381177203091798059'),\n",
       "  'output': Decimal('5')},\n",
       " 4: {'input': Decimal('11180.339887498948482045868343656381177203091798059'),\n",
       "  'output': Decimal('5')},\n",
       " 6: {'input': Decimal('11180.339887498948482045868343656381177203091798059'),\n",
       "  'output': Decimal('5')},\n",
       " 8: {'input': Decimal('11180.339887498948482045868343656381177203091798059'),\n",
       "  'output': Decimal('5')}}"
      ]
     },
     "execution_count": 15,
     "metadata": {},
     "output_type": "execute_result"
    }
   ],
   "source": [
    "def mpr_matchByTarget(inputAmount, order_subset, total_subset_liquidity, top_n_threshold_orders, support_partial):\n",
    "    \n",
    "    print('inputAmount', inputAmount)\n",
    "    print('total_subset_liquidity', total_subset_liquidity)\n",
    "    if inputAmount>= total_subset_liquidity:\n",
    "        if support_partial:\n",
    "            print(f'** Partial Match ({total_subset_liquidity/inputAmount*100:0.5f}%) **')\n",
    "            inputAmount = total_subset_liquidity\n",
    "            rl1 = [o.y for o in order_subset]\n",
    "            rl2 = [o.dxfromdy_f(o.y) for o in order_subset]\n",
    "        else:\n",
    "            print('Insufficient Liquidity with threshold orders')\n",
    "            return(None)\n",
    "    else:\n",
    "        dy_f = lambda p: sum(o.dyfromp_f(p) for o in order_subset)\n",
    "        dx_f = lambda p: sum(o.dxfromdy_f(o.dyfromp_f(p)) for o in order_subset)\n",
    "        p_goal = CarbonOrderUI.goalseek(lambda p: dx_f(p)-inputAmount, Decimal('0.000000001'), Decimal('1000000000'))\n",
    "        rl1 = [o.dyfromp_f(p_goal) for o in order_subset]\n",
    "        rl2 = [o.dxfromdy_f(o.dyfromp_f(p_goal)) for o in order_subset]\n",
    "\n",
    "    actions = {top_n_threshold_orders[i]:{\"input\":rl2[i],\"output\":rl1[i]} for i in range(len(top_n_threshold_orders))}\n",
    "    assertAlmostEqual(inputAmount, sum(rl2), Decimal('1E-8'))\n",
    "    print('total_input',sum(rl2))\n",
    "    print('total_output', sum(rl1))\n",
    "    print('effective_price', sum(rl1) / sum(rl2))\n",
    "    print('1/effective_price', sum(rl2) / sum(rl1))\n",
    "    return(actions)\n",
    "\n",
    "mpr_matchByTarget(inputAmount, order_subset, total_subset_liquidity, top_n_threshold_orders, support_partial)"
   ]
  },
  {
   "cell_type": "markdown",
   "metadata": {},
   "source": [
    "# Other"
   ]
  },
  {
   "cell_type": "code",
   "execution_count": 16,
   "metadata": {},
   "outputs": [],
   "source": [
    "# ## OG\n",
    "# def mpr_match(inputAmount, order_subset):\n",
    "#     total_subset_liquidity = sum(o.y for o in order_subset)\n",
    "#     print('inputAmount', inputAmount)\n",
    "#     print('total_subset_liquidity', total_subset_liquidity)\n",
    "#     if inputAmount>= total_subset_liquidity:\n",
    "#         print(f'Partial Match - using {total_subset_liquidity}')\n",
    "#         inputAmount = total_subset_liquidity\n",
    "#         rl1 = [o.y for o in order_subset]\n",
    "#         rl2 = [o.dxfromdy_f(o.y) for o in order_subset]\n",
    "#     else:\n",
    "#         dy_f = lambda p: sum(o.dyfromp_f(p) for o in order_subset)\n",
    "#         dx_f = lambda p: sum(o.dxfromdy_f(o.dyfromp_f(p)) for o in order_subset)\n",
    "#         p_goal = CarbonOrderUI.goalseek(lambda p: dx_f(p)-inputAmount, Decimal('0.000000001'), Decimal('1000000000'))\n",
    "#         rl1 = [o.dyfromp_f(p_goal) for o in order_subset]\n",
    "#         rl2 = [o.dxfromdy_f(o.dyfromp_f(p_goal)) for o in order_subset]\n",
    "\n",
    "#     actions = {top_n_threshold_orders[i]:{\"input\":rl1[i],\"output\":rl2[i]} for i in range(len(top_n_threshold_orders))}\n",
    "#     assertAlmostEqual(inputAmount, sum(rl1), Decimal('1E-8'))\n",
    "#     print('total_input',sum(rl1))\n",
    "#     print('total_output', sum(rl2))\n",
    "#     print('effective_price', sum(rl2) / sum(rl1))\n",
    "#     return(actions)"
   ]
  },
  {
   "cell_type": "code",
   "execution_count": 17,
   "metadata": {},
   "outputs": [],
   "source": [
    "# dx_f(Decimal('0.0004'))"
   ]
  },
  {
   "cell_type": "code",
   "execution_count": 18,
   "metadata": {},
   "outputs": [],
   "source": [
    "# dx_f(Decimal('0.0005'))"
   ]
  },
  {
   "cell_type": "code",
   "execution_count": 19,
   "metadata": {},
   "outputs": [],
   "source": [
    "# dy_f = lambda p: sum(o.dyfromp_f(p) for o in order_subset)\n",
    "# dx_f = lambda p: sum(o.dxfromdy_f(o.dyfromp_f(p)) for o in order_subset)\n",
    "# p_goal = CarbonOrderUI.goalseek(lambda p: dx_f(p)-inputAmount, Decimal('0.000000001'), Decimal('1000000000'))\n",
    "# rl1 = [o.dyfromp_f(p_goal) for o in order_subset]\n",
    "# rl2 = [o.dxfromdy_f(o.dyfromp_f(p_goal)) for o in order_subset]\n",
    "# rl2"
   ]
  },
  {
   "cell_type": "code",
   "execution_count": 20,
   "metadata": {},
   "outputs": [],
   "source": [
    "# 1/p_goal"
   ]
  },
  {
   "cell_type": "code",
   "execution_count": 21,
   "metadata": {},
   "outputs": [],
   "source": [
    "# rl1"
   ]
  },
  {
   "cell_type": "code",
   "execution_count": 22,
   "metadata": {},
   "outputs": [],
   "source": [
    "# inputAmount=Decimal('3')"
   ]
  },
  {
   "cell_type": "code",
   "execution_count": 23,
   "metadata": {},
   "outputs": [],
   "source": [
    "# dy_f = lambda p: sum(o.dyfromp_f(p) for o in order_subset)\n",
    "# dx_f = lambda p: sum(o.dxfromdy_f(o.dyfromp_f(p)) for o in order_subset)\n",
    "# p_goal = CarbonOrderUI.goalseek(lambda p: dy_f(p)-inputAmount, Decimal('0.000000001'), Decimal('1000000000'))\n",
    "# rl1 = [o.dyfromp_f(p_goal) for o in order_subset]\n",
    "# rl2 = [o.dxfromdy_f(o.dyfromp_f(p_goal)) for o in order_subset]  # dxfromdy_f\n",
    "# rl1"
   ]
  },
  {
   "cell_type": "code",
   "execution_count": 24,
   "metadata": {},
   "outputs": [],
   "source": [
    "# 1/p_goal"
   ]
  },
  {
   "cell_type": "code",
   "execution_count": 25,
   "metadata": {},
   "outputs": [],
   "source": [
    "# rl2"
   ]
  },
  {
   "cell_type": "code",
   "execution_count": 26,
   "metadata": {},
   "outputs": [],
   "source": [
    "# order_subset[0].dxfromdy_f(1)"
   ]
  },
  {
   "cell_type": "code",
   "execution_count": 27,
   "metadata": {},
   "outputs": [],
   "source": [
    "# 1/Decimal('0.00058693063937629152836424244570020053348818617374949')\n"
   ]
  },
  {
   "cell_type": "code",
   "execution_count": 28,
   "metadata": {},
   "outputs": [],
   "source": [
    "# import matplotlib.pyplot as plt\n",
    "# import numpy as np"
   ]
  },
  {
   "cell_type": "code",
   "execution_count": null,
   "metadata": {},
   "outputs": [],
   "source": []
  },
  {
   "cell_type": "code",
   "execution_count": 29,
   "metadata": {},
   "outputs": [],
   "source": [
    "# rl2"
   ]
  },
  {
   "cell_type": "code",
   "execution_count": 30,
   "metadata": {},
   "outputs": [],
   "source": [
    "# mpr_match(inputAmount, order_subset)"
   ]
  }
 ],
 "metadata": {
  "kernelspec": {
   "display_name": "Python 3",
   "language": "python",
   "name": "python3"
  },
  "language_info": {
   "codemirror_mode": {
    "name": "ipython",
    "version": 3
   },
   "file_extension": ".py",
   "mimetype": "text/x-python",
   "name": "python",
   "nbconvert_exporter": "python",
   "pygments_lexer": "ipython3",
   "version": "3.10.8"
  },
  "orig_nbformat": 4,
  "vscode": {
   "interpreter": {
    "hash": "43f221103f953d3e0d93840edd77be981e5a5e0e42edc048e3de5278c46a3390"
   }
  }
 },
 "nbformat": 4,
 "nbformat_minor": 2
}
