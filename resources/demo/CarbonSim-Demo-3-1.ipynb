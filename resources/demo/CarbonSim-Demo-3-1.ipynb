{
 "cells": [
  {
   "cell_type": "code",
   "execution_count": 1,
   "id": "81b04bbc",
   "metadata": {},
   "outputs": [
    {
     "name": "stdout",
     "output_type": "stream",
     "text": [
      "Carbon Version v1.5-beta0 (6/Dec/2022)\n"
     ]
    }
   ],
   "source": [
    "from carbon import CarbonSimulatorUI, __version__, __date__\n",
    "print(f\"Carbon Version v{__version__} ({__date__})\", )\n",
    "import numpy as np\n",
    "from matplotlib import pyplot as plt"
   ]
  },
  {
   "cell_type": "markdown",
   "id": "04af7ee4",
   "metadata": {},
   "source": [
    "# Carbon Simulation - Demo 3-1\n",
    "\n",
    "In this demo we look at **liquidity charts**"
   ]
  },
  {
   "cell_type": "markdown",
   "id": "fb092b85",
   "metadata": {},
   "source": [
    "Set up the similation, with the pair ETHUSDC as default"
   ]
  },
  {
   "cell_type": "code",
   "execution_count": 2,
   "id": "b987b57a",
   "metadata": {},
   "outputs": [],
   "source": [
    "TKNB = \"ETH\"\n",
    "TKNQ = \"USDC\""
   ]
  },
  {
   "cell_type": "markdown",
   "id": "51d0b028",
   "metadata": {},
   "source": [
    "A number of other preparations here"
   ]
  },
  {
   "cell_type": "code",
   "execution_count": 3,
   "id": "7a22f7e1",
   "metadata": {},
   "outputs": [],
   "source": [
    "max_liquidity = 100\n",
    "trade_sizes = np.linspace(0,max_liquidity, 21)\n",
    "trade_sizes[0] = 0.0000001\n",
    "marg_trade_sizes = np.diff(trade_sizes)\n",
    "trade_sizes2 = [0.5*(s1+s2) for s1,s2 in zip(trade_sizes, trade_sizes[1:])]"
   ]
  },
  {
   "cell_type": "code",
   "execution_count": 4,
   "id": "1b6e1ad6",
   "metadata": {},
   "outputs": [],
   "source": [
    "def effective_price_f(tkn, size):\n",
    "    \"\"\"\n",
    "    returns the price at which `tkn` can be sold in `size` (None if out of liquidity)\n",
    "    \"\"\"\n",
    "    try:\n",
    "        price = Sim.amm_sells(tkn, size, execute=False)[\"trades\"].iloc[0][\"price\"]\n",
    "        return price\n",
    "    except:\n",
    "        return None"
   ]
  },
  {
   "cell_type": "code",
   "execution_count": 5,
   "id": "0b3d73c9",
   "metadata": {},
   "outputs": [],
   "source": [
    "def run_calculation():\n",
    "    \"\"\"helper function: runs the calculation using global variables\"\"\"\n",
    "    effective_prices = [\n",
    "        effective_price_f(\"ETH\", size) for size in trade_sizes\n",
    "    ]\n",
    "    token_amounts = [\n",
    "        size * price for size, price in zip(trade_sizes, effective_prices)\n",
    "    ]\n",
    "    marg_token_amounts = np.diff(token_amounts)\n",
    "    marg_prices = [\n",
    "        amt / size for amt, size in zip(marg_token_amounts, marg_trade_sizes)\n",
    "    ]\n",
    "    return effective_prices, token_amounts, marg_token_amounts, marg_prices"
   ]
  },
  {
   "cell_type": "code",
   "execution_count": 6,
   "id": "7f546514",
   "metadata": {},
   "outputs": [],
   "source": [
    "def plot_token_amount_chart():\n",
    "    \"\"\"helper function: plots the chart using global variables\"\"\"\n",
    "    plt.plot(trade_sizes, token_amounts, label=\"Token amount\")\n",
    "    plt.plot(trade_sizes2, marg_token_amounts, label=\"Marginal token amount\")\n",
    "    plt.title(\"Token amount against trade size\")\n",
    "    plt.xlabel(f\"Trade Size ({TKNB})\")\n",
    "    plt.ylabel(f\"Token Amount ({TKNQ})\")\n",
    "    plt.grid()\n",
    "    plt.legend()\n",
    "    return \"plotted marginal and total tokens received against trade size\""
   ]
  },
  {
   "cell_type": "code",
   "execution_count": 7,
   "id": "c030ae98",
   "metadata": {},
   "outputs": [],
   "source": [
    "def plot_price_chart():\n",
    "    \"\"\"helper function: plots the chart using global variables\"\"\"\n",
    "    plt.plot(trade_sizes, effective_prices, label=\"Effective price\")\n",
    "    plt.plot(trade_sizes2, marg_prices, label=\"Marginal price\")\n",
    "    plt.title(\"Price against trade size\")\n",
    "    plt.xlabel(f\"Trade Size ({TKNB})\")\n",
    "    plt.ylabel(f\"Effective Price ({TKNB} per {TKNQ})\")\n",
    "    plt.grid()\n",
    "    plt.legend()\n",
    "    return \"plotted marginal and effective price against trade size\""
   ]
  },
  {
   "cell_type": "markdown",
   "id": "143348a8",
   "metadata": {},
   "source": [
    "## Narrow range"
   ]
  },
  {
   "cell_type": "markdown",
   "id": "b8980469",
   "metadata": {},
   "source": [
    "We set up a single curve where the AMM sells ETH against USDC at between 2000-2010"
   ]
  },
  {
   "cell_type": "code",
   "execution_count": 8,
   "id": "761009d3",
   "metadata": {},
   "outputs": [
    {
     "data": {
      "text/html": [
       "<div>\n",
       "<style scoped>\n",
       "    .dataframe tbody tr th:only-of-type {\n",
       "        vertical-align: middle;\n",
       "    }\n",
       "\n",
       "    .dataframe tbody tr th {\n",
       "        vertical-align: top;\n",
       "    }\n",
       "\n",
       "    .dataframe thead th {\n",
       "        text-align: right;\n",
       "    }\n",
       "</style>\n",
       "<table border=\"1\" class=\"dataframe\">\n",
       "  <thead>\n",
       "    <tr style=\"text-align: right;\">\n",
       "      <th></th>\n",
       "      <th>id</th>\n",
       "      <th>pair</th>\n",
       "      <th>tkn</th>\n",
       "      <th>y_int</th>\n",
       "      <th>y</th>\n",
       "      <th>y_unit</th>\n",
       "      <th>p_start</th>\n",
       "      <th>p_end</th>\n",
       "      <th>p_marg</th>\n",
       "      <th>p_unit</th>\n",
       "      <th>lid</th>\n",
       "    </tr>\n",
       "  </thead>\n",
       "  <tbody>\n",
       "    <tr>\n",
       "      <th>0</th>\n",
       "      <td>0</td>\n",
       "      <td>ETHUSDC</td>\n",
       "      <td>ETH</td>\n",
       "      <td>100.0</td>\n",
       "      <td>100.0</td>\n",
       "      <td>ETH</td>\n",
       "      <td>2000.0</td>\n",
       "      <td>2010.0</td>\n",
       "      <td>2000.0</td>\n",
       "      <td>USDC per ETH</td>\n",
       "      <td>0</td>\n",
       "    </tr>\n",
       "  </tbody>\n",
       "</table>\n",
       "</div>"
      ],
      "text/plain": [
       "   id     pair  tkn  y_int      y y_unit  p_start   p_end  p_marg  \\\n",
       "0   0  ETHUSDC  ETH  100.0  100.0    ETH   2000.0  2010.0  2000.0   \n",
       "\n",
       "         p_unit  lid  \n",
       "0  USDC per ETH    0  "
      ]
     },
     "execution_count": 8,
     "metadata": {},
     "output_type": "execute_result"
    }
   ],
   "source": [
    "Sim = CarbonSimulatorUI(pair=f\"{TKNB}/{TKNQ}\", verbose=False)\n",
    "Sim.add_order(\"ETH\", max_liquidity, 2000, 2010)[\"orders\"]"
   ]
  },
  {
   "cell_type": "code",
   "execution_count": 9,
   "id": "7584624f",
   "metadata": {},
   "outputs": [],
   "source": [
    "effective_prices, token_amounts, marg_token_amounts, marg_prices = run_calculation()"
   ]
  },
  {
   "cell_type": "code",
   "execution_count": 10,
   "id": "519099d8",
   "metadata": {},
   "outputs": [
    {
     "data": {
      "text/plain": [
       "'plotted marginal and total tokens received against trade size'"
      ]
     },
     "execution_count": 10,
     "metadata": {},
     "output_type": "execute_result"
    },
    {
     "data": {
      "image/png": "[encoded data removed]",
      "text/plain": [
       "<Figure size 432x288 with 1 Axes>"
      ]
     },
     "metadata": {
      "needs_background": "light"
     },
     "output_type": "display_data"
    }
   ],
   "source": [
    "plot_token_amount_chart()"
   ]
  },
  {
   "cell_type": "code",
   "execution_count": 11,
   "id": "8a3234a8",
   "metadata": {
    "lines_to_next_cell": 2
   },
   "outputs": [
    {
     "data": {
      "text/plain": [
       "'plotted marginal and effective price against trade size'"
      ]
     },
     "execution_count": 11,
     "metadata": {},
     "output_type": "execute_result"
    },
    {
     "data": {
      "image/png": "[encoded data removed]",
      "text/plain": [
       "<Figure size 432x288 with 1 Axes>"
      ]
     },
     "metadata": {
      "needs_background": "light"
     },
     "output_type": "display_data"
    }
   ],
   "source": [
    "plot_price_chart()"
   ]
  },
  {
   "cell_type": "code",
   "execution_count": 12,
   "id": "d7466e01",
   "metadata": {},
   "outputs": [
    {
     "data": {
      "text/html": [
       "<div>\n",
       "<style scoped>\n",
       "    .dataframe tbody tr th:only-of-type {\n",
       "        vertical-align: middle;\n",
       "    }\n",
       "\n",
       "    .dataframe tbody tr th {\n",
       "        vertical-align: top;\n",
       "    }\n",
       "\n",
       "    .dataframe thead th {\n",
       "        text-align: right;\n",
       "    }\n",
       "</style>\n",
       "<table border=\"1\" class=\"dataframe\">\n",
       "  <thead>\n",
       "    <tr style=\"text-align: right;\">\n",
       "      <th></th>\n",
       "      <th>id</th>\n",
       "      <th>pair</th>\n",
       "      <th>tkn</th>\n",
       "      <th>y_int</th>\n",
       "      <th>y</th>\n",
       "      <th>y_unit</th>\n",
       "      <th>p_start</th>\n",
       "      <th>p_end</th>\n",
       "      <th>p_marg</th>\n",
       "      <th>p_unit</th>\n",
       "      <th>lid</th>\n",
       "    </tr>\n",
       "  </thead>\n",
       "  <tbody>\n",
       "    <tr>\n",
       "      <th>0</th>\n",
       "      <td>0</td>\n",
       "      <td>ETHUSDC</td>\n",
       "      <td>ETH</td>\n",
       "      <td>100.0</td>\n",
       "      <td>100.0</td>\n",
       "      <td>ETH</td>\n",
       "      <td>2000.0</td>\n",
       "      <td>2010.0</td>\n",
       "      <td>2000.0</td>\n",
       "      <td>USDC per ETH</td>\n",
       "      <td>0</td>\n",
       "    </tr>\n",
       "  </tbody>\n",
       "</table>\n",
       "</div>"
      ],
      "text/plain": [
       "   id     pair  tkn  y_int      y y_unit  p_start   p_end  p_marg  \\\n",
       "0   0  ETHUSDC  ETH  100.0  100.0    ETH   2000.0  2010.0  2000.0   \n",
       "\n",
       "         p_unit  lid  \n",
       "0  USDC per ETH    0  "
      ]
     },
     "execution_count": 12,
     "metadata": {},
     "output_type": "execute_result"
    }
   ],
   "source": [
    "Sim.state()[\"orders\"]"
   ]
  },
  {
   "cell_type": "markdown",
   "id": "72c7cc0d",
   "metadata": {},
   "source": [
    "## Wide range"
   ]
  },
  {
   "cell_type": "code",
   "execution_count": 13,
   "id": "2ed1ec5c",
   "metadata": {},
   "outputs": [
    {
     "data": {
      "text/html": [
       "<div>\n",
       "<style scoped>\n",
       "    .dataframe tbody tr th:only-of-type {\n",
       "        vertical-align: middle;\n",
       "    }\n",
       "\n",
       "    .dataframe tbody tr th {\n",
       "        vertical-align: top;\n",
       "    }\n",
       "\n",
       "    .dataframe thead th {\n",
       "        text-align: right;\n",
       "    }\n",
       "</style>\n",
       "<table border=\"1\" class=\"dataframe\">\n",
       "  <thead>\n",
       "    <tr style=\"text-align: right;\">\n",
       "      <th></th>\n",
       "      <th>id</th>\n",
       "      <th>pair</th>\n",
       "      <th>tkn</th>\n",
       "      <th>y_int</th>\n",
       "      <th>y</th>\n",
       "      <th>y_unit</th>\n",
       "      <th>p_start</th>\n",
       "      <th>p_end</th>\n",
       "      <th>p_marg</th>\n",
       "      <th>p_unit</th>\n",
       "      <th>lid</th>\n",
       "    </tr>\n",
       "  </thead>\n",
       "  <tbody>\n",
       "    <tr>\n",
       "      <th>0</th>\n",
       "      <td>0</td>\n",
       "      <td>ETHUSDC</td>\n",
       "      <td>ETH</td>\n",
       "      <td>100.0</td>\n",
       "      <td>100.0</td>\n",
       "      <td>ETH</td>\n",
       "      <td>2000.0</td>\n",
       "      <td>3000.0</td>\n",
       "      <td>2000.0</td>\n",
       "      <td>USDC per ETH</td>\n",
       "      <td>0</td>\n",
       "    </tr>\n",
       "  </tbody>\n",
       "</table>\n",
       "</div>"
      ],
      "text/plain": [
       "   id     pair  tkn  y_int      y y_unit  p_start   p_end  p_marg  \\\n",
       "0   0  ETHUSDC  ETH  100.0  100.0    ETH   2000.0  3000.0  2000.0   \n",
       "\n",
       "         p_unit  lid  \n",
       "0  USDC per ETH    0  "
      ]
     },
     "execution_count": 13,
     "metadata": {},
     "output_type": "execute_result"
    }
   ],
   "source": [
    "Sim = CarbonSimulatorUI(pair=f\"{TKNB}/{TKNQ}\", verbose=False)\n",
    "Sim.add_order(\"ETH\", max_liquidity, 2000, 3000)[\"orders\"]"
   ]
  },
  {
   "cell_type": "code",
   "execution_count": 14,
   "id": "3f7bf04b",
   "metadata": {},
   "outputs": [],
   "source": [
    "effective_prices, token_amounts, marg_token_amounts, marg_prices = run_calculation()"
   ]
  },
  {
   "cell_type": "code",
   "execution_count": 15,
   "id": "db910907",
   "metadata": {},
   "outputs": [
    {
     "data": {
      "text/plain": [
       "'plotted marginal and total tokens received against trade size'"
      ]
     },
     "execution_count": 15,
     "metadata": {},
     "output_type": "execute_result"
    },
    {
     "data": {
      "image/png": "[encoded data removed]",
      "text/plain": [
       "<Figure size 432x288 with 1 Axes>"
      ]
     },
     "metadata": {
      "needs_background": "light"
     },
     "output_type": "display_data"
    }
   ],
   "source": [
    "plot_token_amount_chart()"
   ]
  },
  {
   "cell_type": "code",
   "execution_count": 16,
   "id": "716e46d5",
   "metadata": {},
   "outputs": [
    {
     "data": {
      "text/plain": [
       "'plotted marginal and effective price against trade size'"
      ]
     },
     "execution_count": 16,
     "metadata": {},
     "output_type": "execute_result"
    },
    {
     "data": {
      "image/png": "[encoded data removed]",
      "text/plain": [
       "<Figure size 432x288 with 1 Axes>"
      ]
     },
     "metadata": {
      "needs_background": "light"
     },
     "output_type": "display_data"
    }
   ],
   "source": [
    "plot_price_chart()"
   ]
  },
  {
   "cell_type": "code",
   "execution_count": null,
   "id": "7f21de31",
   "metadata": {
    "lines_to_next_cell": 2
   },
   "outputs": [],
   "source": []
  }
 ],
 "metadata": {
  "jupytext": {
   "encoding": "# -*- coding: utf-8 -*-"
  },
  "kernelspec": {
   "display_name": "Python 3",
   "language": "python",
   "name": "python3"
  },
  "language_info": {
   "codemirror_mode": {
    "name": "ipython",
    "version": 3
   },
   "file_extension": ".py",
   "mimetype": "text/x-python",
   "name": "python",
   "nbconvert_exporter": "python",
   "pygments_lexer": "ipython3",
   "version": "3.8.8"
  }
 },
 "nbformat": 4,
 "nbformat_minor": 5
}
