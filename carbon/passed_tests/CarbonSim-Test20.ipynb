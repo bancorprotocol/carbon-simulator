{
 "cells": [
  {
   "cell_type": "code",
   "execution_count": 1,
   "id": "22b66169",
   "metadata": {},
   "outputs": [],
   "source": [
    "from carbon import CarbonSimulatorUI\n",
    "from carbon.simulators.carbon_simulator import (\n",
    "    __version__ as uiversion,\n",
    "    __date__ as uidate,\n",
    ")\n",
    "from jupyformat import *"
   ]
  },
  {
   "cell_type": "code",
   "execution_count": 2,
   "id": "3503203e",
   "metadata": {},
   "outputs": [
    {
     "name": "stdout",
     "output_type": "stream",
     "text": [
      "[carbon_simulator] version 0.9.10.1 12/Nov/2022\n"
     ]
    },
    {
     "data": {
      "text/html": [
       "<div style='color:green; font-size: 120%'><p><strong>This notebook passed verification.</strong></p></div>"
      ],
      "text/plain": [
       "<IPython.core.display.HTML object>"
      ]
     },
     "execution_count": 2,
     "metadata": {},
     "output_type": "execute_result"
    }
   ],
   "source": [
    "print(\"[carbon_simulator] version\", uiversion, uidate)\n",
    "jp()"
   ]
  },
  {
   "cell_type": "markdown",
   "id": "ec6ff430",
   "metadata": {},
   "source": [
    "# Carbon Simulation - Test 20"
   ]
  },
  {
   "cell_type": "code",
   "execution_count": 3,
   "id": "8f324cb1",
   "metadata": {},
   "outputs": [
    {
     "data": {
      "text/html": [
       "<div style='color:green; font-size: 150%'><p><strong>INFO</strong></p>\n",
       "<p>fixed</p></div>"
      ],
      "text/plain": [
       "<IPython.core.display.HTML object>"
      ]
     },
     "execution_count": 3,
     "metadata": {},
     "output_type": "execute_result"
    }
   ],
   "source": [
    "ji(\"fixed\")"
   ]
  },
  {
   "cell_type": "markdown",
   "id": "14e962ba",
   "metadata": {},
   "source": [
    "There is a reason why I used `if verbose: print(\"...\")` initially, because it did exactly what I wanted it to do. The Python logging machine is great if you need industrial strenght logs, possibly on different backends etc, but for just printing a message to stdout it is in my experience somewhat of an overkill, and it behaves in weird manners.\n",
    "\n",
    "See the example here: I suddenly get all those messages in pink, including `INFO:numexpr.utils:NumExpr defaulting to 8 threads.`, that are confusing and badly formatted (I don't care about `INFO:root`). Moreover, I get all those messages **despite verbose = False**. We can of course try to make the logger work the way we want, but this looks at this stage like square peg round hole -- maybe it is easier to go back to `if verbose: print(\"...\")` because this does exactly what we want it to do?"
   ]
  },
  {
   "cell_type": "code",
   "execution_count": 4,
   "id": "a2278c82",
   "metadata": {},
   "outputs": [
    {
     "data": {
      "text/plain": [
       "CarbonSimulatorUI(<0 positions, 0 trades>, pair='USDCETH')"
      ]
     },
     "execution_count": 4,
     "metadata": {},
     "output_type": "execute_result"
    }
   ],
   "source": [
    "Sim = CarbonSimulatorUI(pair=\"USDCETH\", verbose=False)\n",
    "Sim"
   ]
  },
  {
   "cell_type": "code",
   "execution_count": 5,
   "id": "12034a3f",
   "metadata": {},
   "outputs": [
    {
     "data": {
      "text/plain": [
       "{'success': True,\n",
       " 'orders':    id     pair tkn_name       y_int           y y_unit      p_start  \\\n",
       " 0   0  USDCETH      ETH  100.000000  100.000000    ETH  2000.000000   \n",
       " \n",
       "          p_end        p_unit  linked_to_id  \n",
       " 0  2000.000000  ETH per USDC             0  }"
      ]
     },
     "execution_count": 5,
     "metadata": {},
     "output_type": "execute_result"
    }
   ],
   "source": [
    "Sim.add_sgl_pos(\"ETH\", 100, 2000, 2000)"
   ]
  },
  {
   "cell_type": "code",
   "execution_count": 6,
   "id": "0dc9c0db",
   "metadata": {},
   "outputs": [
    {
     "data": {
      "text/plain": [
       "{'success': True,\n",
       " 'orders':    id     pair tkn_name       y_int           y y_unit      p_start  \\\n",
       " 1   1  ETHLINK      ETH  100.000000  100.000000    ETH  2000.000000   \n",
       " \n",
       "          p_end        p_unit  linked_to_id  \n",
       " 1  2000.000000  LINK per ETH             1  }"
      ]
     },
     "execution_count": 6,
     "metadata": {},
     "output_type": "execute_result"
    }
   ],
   "source": [
    "Sim.add_sgl_pos(\"ETH\", 100, 2000, 2000, pair=\"ETHLINK\")"
   ]
  },
  {
   "cell_type": "code",
   "execution_count": 7,
   "id": "ebf30360",
   "metadata": {},
   "outputs": [
    {
     "data": {
      "text/plain": [
       "{'success': False,\n",
       " 'error': \"('Invalid token specification (tkn not part of isopair)', 'USDCETH', 'LINK')\",\n",
       " 'exception': ValueError('Invalid token specification (tkn not part of isopair)',\n",
       "            'USDCETH',\n",
       "            'LINK')}"
      ]
     },
     "execution_count": 7,
     "metadata": {},
     "output_type": "execute_result"
    }
   ],
   "source": [
    "Sim.add_sgl_pos(\"LINK\", 100, 2000, 2000)"
   ]
  },
  {
   "cell_type": "code",
   "execution_count": 8,
   "id": "1d82d241",
   "metadata": {},
   "outputs": [
    {
     "data": {
      "text/plain": [
       "{'orders':    id     pair tkn_name       y_int           y y_unit      p_start  \\\n",
       " 0   0  USDCETH      ETH  100.000000  100.000000    ETH  2000.000000   \n",
       " 1   1  ETHLINK      ETH  100.000000  100.000000    ETH  2000.000000   \n",
       " \n",
       "          p_end        p_unit  linked_to_id  \n",
       " 0  2000.000000  ETH per USDC             0  \n",
       " 1  2000.000000  LINK per ETH             1  ,\n",
       " 'trades': Empty DataFrame\n",
       " Columns: []\n",
       " Index: []}"
      ]
     },
     "execution_count": 8,
     "metadata": {},
     "output_type": "execute_result"
    }
   ],
   "source": [
    "Sim.state()"
   ]
  },
  {
   "cell_type": "code",
   "execution_count": 9,
   "id": "1f944f6c",
   "metadata": {},
   "outputs": [
    {
     "data": {
      "text/plain": [
       "{'success': True,\n",
       " 'orders':    id    pair tkn_name       y_int           y y_unit      p_start  \\\n",
       " 2   2  ETHXYZ      ETH  100.000000  100.000000    ETH  2000.000000   \n",
       " \n",
       "          p_end       p_unit  linked_to_id  \n",
       " 2  2000.000000  XYZ per ETH             2  }"
      ]
     },
     "execution_count": 9,
     "metadata": {},
     "output_type": "execute_result"
    }
   ],
   "source": [
    "Sim.add_sgl_pos(\"ETH\", 100, 2000, 2000, pair=\"ETHXYZ\")"
   ]
  },
  {
   "cell_type": "code",
   "execution_count": 10,
   "id": "b14664f0",
   "metadata": {},
   "outputs": [
    {
     "data": {
      "text/plain": [
       "{'success': True,\n",
       " 'orders':    id    pair tkn_name       y_int           y y_unit      p_start  \\\n",
       " 3   3  ETHBND      ETH  100.000000  100.000000    ETH  2000.000000   \n",
       " \n",
       "          p_end       p_unit  linked_to_id  \n",
       " 3  2000.000000  BND per ETH             3  }"
      ]
     },
     "execution_count": 10,
     "metadata": {},
     "output_type": "execute_result"
    }
   ],
   "source": [
    "Sim.add_sgl_pos(\"ETH\", 100, 2000, 2000, pair=\"ETHBND\")"
   ]
  },
  {
   "cell_type": "code",
   "execution_count": 11,
   "id": "b47fa588",
   "metadata": {},
   "outputs": [
    {
     "data": {
      "text/plain": [
       "{'success': True,\n",
       " 'orders':    id    pair tkn_name       y_int           y y_unit      p_start  \\\n",
       " 4   4  BATMAN      BAT  100.000000  100.000000    BAT  2000.000000   \n",
       " \n",
       "          p_end       p_unit  linked_to_id  \n",
       " 4  2000.000000  MAN per BAT             4  }"
      ]
     },
     "execution_count": 11,
     "metadata": {},
     "output_type": "execute_result"
    }
   ],
   "source": [
    "Sim.add_sgl_pos(\"BAT\", 100, 2000, 2000, pair=\"BATMAN\")"
   ]
  },
  {
   "cell_type": "code",
   "execution_count": 12,
   "id": "384cbdbe",
   "metadata": {},
   "outputs": [
    {
     "data": {
      "text/plain": [
       "{'success': True,\n",
       " 'trades':    uid  id sub_id                             note   aggr   amt1 tkn1  \\\n",
       " 0  0.0   0      0                         route #4  False  100.0  BAT   \n",
       " 0    0   0   None  AMM sells 100BAT buys 200000MAN   True  100.0  BAT   \n",
       " \n",
       "        amt2 tkn2    pair route_indexes  num_trades price_avg       p_unit  \n",
       " 0  200000.0  MAN  BATMAN             4           1    2000.0  MAN per BAT  \n",
       " 0  200000.0  MAN  BATMAN           [4]           1    2000.0  MAN per BAT  }"
      ]
     },
     "execution_count": 12,
     "metadata": {},
     "output_type": "execute_result"
    }
   ],
   "source": [
    "Sim.amm_sells(\"BAT\", 100, pair=\"BATMAN\")"
   ]
  },
  {
   "cell_type": "code",
   "execution_count": 13,
   "id": "176867d2",
   "metadata": {},
   "outputs": [
    {
     "data": {
      "text/plain": [
       "{'success': True,\n",
       " 'orders':    id    pair tkn_name       y_int           y y_unit      p_start  \\\n",
       " 5   5  ABCDEF       AB  100.000000  100.000000     AB  2000.000000   \n",
       " \n",
       "          p_end       p_unit  linked_to_id  \n",
       " 5  2000.000000  CDEF per AB             5  }"
      ]
     },
     "execution_count": 13,
     "metadata": {},
     "output_type": "execute_result"
    }
   ],
   "source": [
    "Sim.add_sgl_pos(\"AB\", 100, 2000, 2000, pair=\"ABCDEF\")"
   ]
  },
  {
   "cell_type": "code",
   "execution_count": 14,
   "id": "87d3a9c0",
   "metadata": {},
   "outputs": [
    {
     "data": {
      "text/plain": [
       "{'success': True,\n",
       " 'trades':    uid  id sub_id                             note   aggr   amt1 tkn1  \\\n",
       " 0  1.0   1      0                         route #5  False  100.0   AB   \n",
       " 0    1   1   None  AMM sells 100AB buys 200000CDEF   True  100.0   AB   \n",
       " \n",
       "        amt2  tkn2    pair route_indexes  num_trades price_avg       p_unit  \n",
       " 0  200000.0  CDEF  ABCDEF             5           1    2000.0  CDEF per AB  \n",
       " 0  200000.0  CDEF  ABCDEF           [5]           1    2000.0  CDEF per AB  }"
      ]
     },
     "execution_count": 14,
     "metadata": {},
     "output_type": "execute_result"
    }
   ],
   "source": [
    "Sim.amm_sells(\"AB\", 100, pair=\"ABCDEF\")"
   ]
  },
  {
   "cell_type": "code",
   "execution_count": 15,
   "id": "72e566d9",
   "metadata": {},
   "outputs": [
    {
     "data": {
      "text/plain": [
       "{'success': True,\n",
       " 'orders':    id    pair tkn_name       y_int           y y_unit      p_start  \\\n",
       " 6   6  ABCDEF       EF  100.000000  100.000000     EF  2000.000000   \n",
       " \n",
       "          p_end       p_unit  linked_to_id  \n",
       " 6  2000.000000  EF per ABCD             6  }"
      ]
     },
     "execution_count": 15,
     "metadata": {},
     "output_type": "execute_result"
    }
   ],
   "source": [
    "Sim.add_sgl_pos(\"EF\", 100, 2000, 2000, pair=\"ABCDEF\")"
   ]
  },
  {
   "cell_type": "code",
   "execution_count": 16,
   "id": "125a7daf",
   "metadata": {},
   "outputs": [
    {
     "data": {
      "text/plain": [
       "{'success': True,\n",
       " 'trades':    uid  id sub_id                        note   aggr   amt1 tkn1  amt2  tkn2  \\\n",
       " 0  2.0   2      0                    route #6  False  100.0   EF  0.05  ABCD   \n",
       " 0    2   2   None  AMM sells 100EF buys 0ABCD   True  100.0   EF  0.05  ABCD   \n",
       " \n",
       "      pair route_indexes  num_trades price_avg       p_unit  \n",
       " 0  ABCDEF             6           1    2000.0  EF per ABCD  \n",
       " 0  ABCDEF           [6]           1    2000.0  EF per ABCD  }"
      ]
     },
     "execution_count": 16,
     "metadata": {},
     "output_type": "execute_result"
    }
   ],
   "source": [
    "Sim.amm_sells(\"EF\", 100, pair=\"ABCDEF\")"
   ]
  },
  {
   "cell_type": "code",
   "execution_count": null,
   "id": "09c2fed9",
   "metadata": {},
   "outputs": [],
   "source": []
  },
  {
   "cell_type": "code",
   "execution_count": 17,
   "id": "517b7f9f",
   "metadata": {},
   "outputs": [
    {
     "data": {
      "text/plain": [
       "{'orders':    id     pair tkn_name       y_int           y y_unit      p_start  \\\n",
       " 0   0  USDCETH      ETH  100.000000  100.000000    ETH  2000.000000   \n",
       " 1   1  ETHLINK      ETH  100.000000  100.000000    ETH  2000.000000   \n",
       " 2   2   ETHXYZ      ETH  100.000000  100.000000    ETH  2000.000000   \n",
       " 3   3   ETHBND      ETH  100.000000  100.000000    ETH  2000.000000   \n",
       " 4   4   BATMAN      BAT  100.000000    0.000000    BAT  2000.000000   \n",
       " 5   5   ABCDEF       AB  100.000000    0.000000     AB  2000.000000   \n",
       " 6   6   ABCDEF       EF  100.000000    0.000000     EF  2000.000000   \n",
       " \n",
       "          p_end        p_unit  linked_to_id  \n",
       " 0  2000.000000  ETH per USDC             0  \n",
       " 1  2000.000000  LINK per ETH             1  \n",
       " 2  2000.000000   XYZ per ETH             2  \n",
       " 3  2000.000000   BND per ETH             3  \n",
       " 4  2000.000000   MAN per BAT             4  \n",
       " 5  2000.000000   CDEF per AB             5  \n",
       " 6  2000.000000   EF per ABCD             6  ,\n",
       " 'trades':    uid  id sub_id                             note   aggr   amt1 tkn1  \\\n",
       " 0  0.0   0      0                         route #4  False  100.0  BAT   \n",
       " 0    0   0   None  AMM sells 100BAT buys 200000MAN   True  100.0  BAT   \n",
       " 0  1.0   1      0                         route #5  False  100.0   AB   \n",
       " 0    1   1   None  AMM sells 100AB buys 200000CDEF   True  100.0   AB   \n",
       " 0  2.0   2      0                         route #6  False  100.0   EF   \n",
       " 0    2   2   None       AMM sells 100EF buys 0ABCD   True  100.0   EF   \n",
       " \n",
       "         amt2  tkn2    pair route_indexes  num_trades price_avg       p_unit  \n",
       " 0  200000.00   MAN  BATMAN             4           1    2000.0  MAN per BAT  \n",
       " 0  200000.00   MAN  BATMAN           [4]           1    2000.0  MAN per BAT  \n",
       " 0  200000.00  CDEF  ABCDEF             5           1    2000.0  CDEF per AB  \n",
       " 0  200000.00  CDEF  ABCDEF           [5]           1    2000.0  CDEF per AB  \n",
       " 0       0.05  ABCD  ABCDEF             6           1    2000.0  EF per ABCD  \n",
       " 0       0.05  ABCD  ABCDEF           [6]           1    2000.0  EF per ABCD  }"
      ]
     },
     "execution_count": 17,
     "metadata": {},
     "output_type": "execute_result"
    }
   ],
   "source": [
    "Sim.state()"
   ]
  },
  {
   "cell_type": "code",
   "execution_count": null,
   "id": "7a17a328",
   "metadata": {},
   "outputs": [],
   "source": []
  },
  {
   "cell_type": "code",
   "execution_count": null,
   "id": "2239f90f",
   "metadata": {},
   "outputs": [],
   "source": []
  },
  {
   "cell_type": "code",
   "execution_count": null,
   "id": "2e8e377a",
   "metadata": {},
   "outputs": [],
   "source": []
  }
 ],
 "metadata": {
  "jupytext": {
   "formats": "ipynb,py:light"
  },
  "kernelspec": {
   "display_name": "Python 3",
   "language": "python",
   "name": "python3"
  },
  "language_info": {
   "codemirror_mode": {
    "name": "ipython",
    "version": 3
   },
   "file_extension": ".py",
   "mimetype": "text/x-python",
   "name": "python",
   "nbconvert_exporter": "python",
   "pygments_lexer": "ipython3",
   "version": "3.8.8"
  }
 },
 "nbformat": 4,
 "nbformat_minor": 5
}
