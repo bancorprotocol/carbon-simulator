{
 "cells": [
  {
   "cell_type": "markdown",
   "id": "fdd485eb",
   "metadata": {},
   "source": [
    "<p align=\"left\">\n",
    "<img width=\"50%\" src=\"https://drive.google.com/uc?export=view&id=10y3NKbbk7yt7cZDMszMt04g6NquTEa4p\" alt=\"Carbon Logo\" />\n",
    "</p>\n"
   ]
  },
  {
   "cell_type": "markdown",
   "id": "fa78c8d2",
   "metadata": {},
   "source": [
    "# Carbon Simulator - Litepaper Examples\n",
    "\n",
    "Those are the examples from the [Litepaper][lp] \"Use Cases\" section, presented very concisely. Please see the book `CarbonSim-Examples.ipynb` for a longer discussion, more technical explanations, and additional examples.\n",
    "\n",
    "[lp]:https://carbondefi.xyz/r/litepaper"
   ]
  },
  {
   "cell_type": "code",
   "execution_count": 1,
   "id": "bf877949",
   "metadata": {},
   "outputs": [],
   "source": [
    "from carbon import CarbonSimulatorUI"
   ]
  },
  {
   "cell_type": "markdown",
   "id": "3bf24390",
   "metadata": {},
   "source": [
    "## LP Example: Limit Order"
   ]
  },
  {
   "cell_type": "markdown",
   "id": "256b37a7",
   "metadata": {},
   "source": [
    "**Bob creates a strategy where he buys ETH when the price goes to 1500 USDC. He is willing to spend 5000 USDC for this. He would like to buy at this specific price only.**"
   ]
  },
  {
   "cell_type": "code",
   "execution_count": 2,
   "id": "cd860b8a",
   "metadata": {},
   "outputs": [],
   "source": [
    "Sim = CarbonSimulatorUI(pair=\"ETHUSDC\")"
   ]
  },
  {
   "cell_type": "code",
   "execution_count": 3,
   "id": "db5491e7",
   "metadata": {},
   "outputs": [
    {
     "data": {
      "text/html": [
       "<div>\n",
       "<style scoped>\n",
       "    .dataframe tbody tr th:only-of-type {\n",
       "        vertical-align: middle;\n",
       "    }\n",
       "\n",
       "    .dataframe tbody tr th {\n",
       "        vertical-align: top;\n",
       "    }\n",
       "\n",
       "    .dataframe thead th {\n",
       "        text-align: right;\n",
       "    }\n",
       "</style>\n",
       "<table border=\"1\" class=\"dataframe\">\n",
       "  <thead>\n",
       "    <tr style=\"text-align: right;\">\n",
       "      <th></th>\n",
       "      <th>id</th>\n",
       "      <th>pair</th>\n",
       "      <th>tkn_name</th>\n",
       "      <th>y_int</th>\n",
       "      <th>y</th>\n",
       "      <th>y_unit</th>\n",
       "      <th>p_start</th>\n",
       "      <th>p_end</th>\n",
       "      <th>p_unit</th>\n",
       "      <th>linked_to_id</th>\n",
       "    </tr>\n",
       "  </thead>\n",
       "  <tbody>\n",
       "    <tr>\n",
       "      <th>0</th>\n",
       "      <td>0</td>\n",
       "      <td>ETHUSDC</td>\n",
       "      <td>ETH</td>\n",
       "      <td>0.000000</td>\n",
       "      <td>0.000000</td>\n",
       "      <td>ETH</td>\n",
       "      <td>10000000.000000</td>\n",
       "      <td>10000000.000000</td>\n",
       "      <td>USDC per ETH</td>\n",
       "      <td>1</td>\n",
       "    </tr>\n",
       "    <tr>\n",
       "      <th>1</th>\n",
       "      <td>1</td>\n",
       "      <td>ETHUSDC</td>\n",
       "      <td>USDC</td>\n",
       "      <td>10000.000000</td>\n",
       "      <td>10000.000000</td>\n",
       "      <td>USDC</td>\n",
       "      <td>1500.000000</td>\n",
       "      <td>1500.000000</td>\n",
       "      <td>USDC per ETH</td>\n",
       "      <td>0</td>\n",
       "    </tr>\n",
       "  </tbody>\n",
       "</table>\n",
       "</div>"
      ],
      "text/plain": [
       "   id     pair tkn_name         y_int             y y_unit          p_start  \\\n",
       "0   0  ETHUSDC      ETH      0.000000      0.000000    ETH  10000000.000000   \n",
       "1   1  ETHUSDC     USDC  10000.000000  10000.000000   USDC      1500.000000   \n",
       "\n",
       "             p_end        p_unit  linked_to_id  \n",
       "0  10000000.000000  USDC per ETH             1  \n",
       "1      1500.000000  USDC per ETH             0  "
      ]
     },
     "execution_count": 3,
     "metadata": {},
     "output_type": "execute_result"
    }
   ],
   "source": [
    "Sim.add_strategy(\"ETH\", 0, 10000000, 10000000, 10000, 1500, 1500)[\"orders\"]"
   ]
  },
  {
   "cell_type": "markdown",
   "id": "1dbda73c",
   "metadata": {},
   "source": [
    "The market is attempting to pass the following orders against it. The last one fails because there is not enough USDC left."
   ]
  },
  {
   "cell_type": "code",
   "execution_count": 4,
   "id": "d6cc5aed",
   "metadata": {},
   "outputs": [
    {
     "data": {
      "text/plain": [
       "{'success': False,\n",
       " 'error': 'Insufficient liquidity across all user positions to support this trade.',\n",
       " 'exception': AssertionError('Insufficient liquidity across all user positions to support this trade.')}"
      ]
     },
     "execution_count": 4,
     "metadata": {},
     "output_type": "execute_result"
    }
   ],
   "source": [
    "for size in [2,1.4,3,0.5]:\n",
    "    result = Sim.trader_sells(\"ETH\", size)\n",
    "result"
   ]
  },
  {
   "cell_type": "code",
   "execution_count": 5,
   "id": "5f7da177",
   "metadata": {},
   "outputs": [
    {
     "data": {
      "text/html": [
       "<div>\n",
       "<style scoped>\n",
       "    .dataframe tbody tr th:only-of-type {\n",
       "        vertical-align: middle;\n",
       "    }\n",
       "\n",
       "    .dataframe tbody tr th {\n",
       "        vertical-align: top;\n",
       "    }\n",
       "\n",
       "    .dataframe thead th {\n",
       "        text-align: right;\n",
       "    }\n",
       "</style>\n",
       "<table border=\"1\" class=\"dataframe\">\n",
       "  <thead>\n",
       "    <tr style=\"text-align: right;\">\n",
       "      <th></th>\n",
       "      <th>uid</th>\n",
       "      <th>id</th>\n",
       "      <th>subid</th>\n",
       "      <th>note</th>\n",
       "      <th>aggr</th>\n",
       "      <th>exec</th>\n",
       "      <th>limitfail</th>\n",
       "      <th>amt1</th>\n",
       "      <th>tkn1</th>\n",
       "      <th>amt2</th>\n",
       "      <th>tkn2</th>\n",
       "      <th>pair</th>\n",
       "      <th>routeix</th>\n",
       "      <th>nroutes</th>\n",
       "      <th>price</th>\n",
       "      <th>p_unit</th>\n",
       "    </tr>\n",
       "  </thead>\n",
       "  <tbody>\n",
       "    <tr>\n",
       "      <th>0</th>\n",
       "      <td>0</td>\n",
       "      <td>0</td>\n",
       "      <td>A</td>\n",
       "      <td>AMM sells 3000USDC buys 2ETH</td>\n",
       "      <td>True</td>\n",
       "      <td>True</td>\n",
       "      <td>None</td>\n",
       "      <td>3000.0</td>\n",
       "      <td>USDC</td>\n",
       "      <td>2.0</td>\n",
       "      <td>ETH</td>\n",
       "      <td>ETHUSDC</td>\n",
       "      <td>[1]</td>\n",
       "      <td>1</td>\n",
       "      <td>1500.0</td>\n",
       "      <td>USDC per ETH</td>\n",
       "    </tr>\n",
       "    <tr>\n",
       "      <th>0</th>\n",
       "      <td>1</td>\n",
       "      <td>1</td>\n",
       "      <td>A</td>\n",
       "      <td>AMM sells 2100USDC buys 1ETH</td>\n",
       "      <td>True</td>\n",
       "      <td>True</td>\n",
       "      <td>None</td>\n",
       "      <td>2100.0</td>\n",
       "      <td>USDC</td>\n",
       "      <td>1.4</td>\n",
       "      <td>ETH</td>\n",
       "      <td>ETHUSDC</td>\n",
       "      <td>[1]</td>\n",
       "      <td>1</td>\n",
       "      <td>1500.0</td>\n",
       "      <td>USDC per ETH</td>\n",
       "    </tr>\n",
       "    <tr>\n",
       "      <th>0</th>\n",
       "      <td>2</td>\n",
       "      <td>2</td>\n",
       "      <td>A</td>\n",
       "      <td>AMM sells 4500USDC buys 3ETH</td>\n",
       "      <td>True</td>\n",
       "      <td>True</td>\n",
       "      <td>None</td>\n",
       "      <td>4500.0</td>\n",
       "      <td>USDC</td>\n",
       "      <td>3.0</td>\n",
       "      <td>ETH</td>\n",
       "      <td>ETHUSDC</td>\n",
       "      <td>[1]</td>\n",
       "      <td>1</td>\n",
       "      <td>1500.0</td>\n",
       "      <td>USDC per ETH</td>\n",
       "    </tr>\n",
       "  </tbody>\n",
       "</table>\n",
       "</div>"
      ],
      "text/plain": [
       "  uid  id subid                          note  aggr  exec limitfail    amt1  \\\n",
       "0   0   0     A  AMM sells 3000USDC buys 2ETH  True  True      None  3000.0   \n",
       "0   1   1     A  AMM sells 2100USDC buys 1ETH  True  True      None  2100.0   \n",
       "0   2   2     A  AMM sells 4500USDC buys 3ETH  True  True      None  4500.0   \n",
       "\n",
       "   tkn1  amt2 tkn2     pair routeix  nroutes   price        p_unit  \n",
       "0  USDC   2.0  ETH  ETHUSDC     [1]        1  1500.0  USDC per ETH  \n",
       "0  USDC   1.4  ETH  ETHUSDC     [1]        1  1500.0  USDC per ETH  \n",
       "0  USDC   3.0  ETH  ETHUSDC     [1]        1  1500.0  USDC per ETH  "
      ]
     },
     "execution_count": 5,
     "metadata": {},
     "output_type": "execute_result"
    }
   ],
   "source": [
    "Sim.state()[\"trades\"].query(\"aggr==True\")"
   ]
  },
  {
   "cell_type": "markdown",
   "id": "7177b34b",
   "metadata": {},
   "source": [
    "After those trades, Bob purchased 6.4 ETH. This should have cost him USDC 9600"
   ]
  },
  {
   "cell_type": "code",
   "execution_count": 6,
   "id": "2a961da5",
   "metadata": {},
   "outputs": [
    {
     "name": "stdout",
     "output_type": "stream",
     "text": [
      "9600.0\n"
     ]
    },
    {
     "data": {
      "text/plain": [
       "0    6.400000\n",
       "Name: y, dtype: object"
      ]
     },
     "execution_count": 6,
     "metadata": {},
     "output_type": "execute_result"
    }
   ],
   "source": [
    "print(6.4*1500)\n",
    "Sim.state()[\"orders\"].query(\"y_unit=='ETH'\")[\"y\"]"
   ]
  },
  {
   "cell_type": "markdown",
   "id": "6ac59190",
   "metadata": {},
   "source": [
    "We confirm that: Bob as 400 USDC left from the initial 10000"
   ]
  },
  {
   "cell_type": "code",
   "execution_count": 7,
   "id": "f5938f1b",
   "metadata": {
    "lines_to_next_cell": 2
   },
   "outputs": [
    {
     "name": "stdout",
     "output_type": "stream",
     "text": [
      "400.0\n"
     ]
    },
    {
     "data": {
      "text/plain": [
       "1    400.000000\n",
       "Name: y, dtype: object"
      ]
     },
     "execution_count": 7,
     "metadata": {},
     "output_type": "execute_result"
    }
   ],
   "source": [
    "print(10000-6.4*1500)\n",
    "Sim.state()[\"orders\"].query(\"y_unit=='USDC'\")[\"y\"]"
   ]
  },
  {
   "cell_type": "markdown",
   "id": "d4f02ca0",
   "metadata": {},
   "source": [
    "## LP Example: \"Buy-Low Sell-High\" Strategy"
   ]
  },
  {
   "cell_type": "markdown",
   "id": "70c01786",
   "metadata": {},
   "source": [
    "**Alice creates a strategy where she buys ETH as the price goes between 1500 and 1600 USDC. She is willing to spend 5000 USDC for this. She also wants to sell her acquired ETH when the price goes from 2000 to 2500 USDC.**"
   ]
  },
  {
   "cell_type": "code",
   "execution_count": 8,
   "id": "6159c7c8",
   "metadata": {},
   "outputs": [],
   "source": [
    "Sim = CarbonSimulatorUI(pair=\"ETHUSDC\")"
   ]
  },
  {
   "cell_type": "code",
   "execution_count": 9,
   "id": "242b206d",
   "metadata": {},
   "outputs": [
    {
     "data": {
      "text/html": [
       "<div>\n",
       "<style scoped>\n",
       "    .dataframe tbody tr th:only-of-type {\n",
       "        vertical-align: middle;\n",
       "    }\n",
       "\n",
       "    .dataframe tbody tr th {\n",
       "        vertical-align: top;\n",
       "    }\n",
       "\n",
       "    .dataframe thead th {\n",
       "        text-align: right;\n",
       "    }\n",
       "</style>\n",
       "<table border=\"1\" class=\"dataframe\">\n",
       "  <thead>\n",
       "    <tr style=\"text-align: right;\">\n",
       "      <th></th>\n",
       "      <th>id</th>\n",
       "      <th>pair</th>\n",
       "      <th>tkn_name</th>\n",
       "      <th>y_int</th>\n",
       "      <th>y</th>\n",
       "      <th>y_unit</th>\n",
       "      <th>p_start</th>\n",
       "      <th>p_end</th>\n",
       "      <th>p_unit</th>\n",
       "      <th>linked_to_id</th>\n",
       "    </tr>\n",
       "  </thead>\n",
       "  <tbody>\n",
       "    <tr>\n",
       "      <th>0</th>\n",
       "      <td>0</td>\n",
       "      <td>ETHUSDC</td>\n",
       "      <td>ETH</td>\n",
       "      <td>0.000000</td>\n",
       "      <td>0.000000</td>\n",
       "      <td>ETH</td>\n",
       "      <td>2000.000000</td>\n",
       "      <td>2500.000000</td>\n",
       "      <td>USDC per ETH</td>\n",
       "      <td>1</td>\n",
       "    </tr>\n",
       "    <tr>\n",
       "      <th>1</th>\n",
       "      <td>1</td>\n",
       "      <td>ETHUSDC</td>\n",
       "      <td>USDC</td>\n",
       "      <td>5000.000000</td>\n",
       "      <td>5000.000000</td>\n",
       "      <td>USDC</td>\n",
       "      <td>1600.000000</td>\n",
       "      <td>1500.000000</td>\n",
       "      <td>USDC per ETH</td>\n",
       "      <td>0</td>\n",
       "    </tr>\n",
       "  </tbody>\n",
       "</table>\n",
       "</div>"
      ],
      "text/plain": [
       "   id     pair tkn_name        y_int            y y_unit      p_start  \\\n",
       "0   0  ETHUSDC      ETH     0.000000     0.000000    ETH  2000.000000   \n",
       "1   1  ETHUSDC     USDC  5000.000000  5000.000000   USDC  1600.000000   \n",
       "\n",
       "         p_end        p_unit  linked_to_id  \n",
       "0  2500.000000  USDC per ETH             1  \n",
       "1  1500.000000  USDC per ETH             0  "
      ]
     },
     "execution_count": 9,
     "metadata": {},
     "output_type": "execute_result"
    }
   ],
   "source": [
    "Sim.add_strategy(\"ETH\", 0, 2000, 2500, 5000, 1600, 1500)[\"orders\"]"
   ]
  },
  {
   "cell_type": "markdown",
   "id": "b2276b95",
   "metadata": {},
   "source": [
    "The market is attempting to pass the following orders against it. The last one fails because there is not enough USDC left."
   ]
  },
  {
   "cell_type": "code",
   "execution_count": 10,
   "id": "58d1ae07",
   "metadata": {},
   "outputs": [
    {
     "data": {
      "text/plain": [
       "{'success': False,\n",
       " 'error': 'Insufficient liquidity across all user positions to support this trade.',\n",
       " 'exception': AssertionError('Insufficient liquidity across all user positions to support this trade.')}"
      ]
     },
     "execution_count": 10,
     "metadata": {},
     "output_type": "execute_result"
    }
   ],
   "source": [
    "for size in [1,1,1,1]:\n",
    "    result = Sim.trader_sells(\"ETH\", size)\n",
    "result"
   ]
  },
  {
   "cell_type": "code",
   "execution_count": 11,
   "id": "e516eb8e",
   "metadata": {},
   "outputs": [
    {
     "data": {
      "text/html": [
       "<div>\n",
       "<style scoped>\n",
       "    .dataframe tbody tr th:only-of-type {\n",
       "        vertical-align: middle;\n",
       "    }\n",
       "\n",
       "    .dataframe tbody tr th {\n",
       "        vertical-align: top;\n",
       "    }\n",
       "\n",
       "    .dataframe thead th {\n",
       "        text-align: right;\n",
       "    }\n",
       "</style>\n",
       "<table border=\"1\" class=\"dataframe\">\n",
       "  <thead>\n",
       "    <tr style=\"text-align: right;\">\n",
       "      <th></th>\n",
       "      <th>uid</th>\n",
       "      <th>id</th>\n",
       "      <th>subid</th>\n",
       "      <th>note</th>\n",
       "      <th>aggr</th>\n",
       "      <th>exec</th>\n",
       "      <th>limitfail</th>\n",
       "      <th>amt1</th>\n",
       "      <th>tkn1</th>\n",
       "      <th>amt2</th>\n",
       "      <th>tkn2</th>\n",
       "      <th>pair</th>\n",
       "      <th>routeix</th>\n",
       "      <th>nroutes</th>\n",
       "      <th>price</th>\n",
       "      <th>p_unit</th>\n",
       "    </tr>\n",
       "  </thead>\n",
       "  <tbody>\n",
       "    <tr>\n",
       "      <th>0</th>\n",
       "      <td>0</td>\n",
       "      <td>0</td>\n",
       "      <td>A</td>\n",
       "      <td>AMM sells 1584USDC buys 1ETH</td>\n",
       "      <td>True</td>\n",
       "      <td>True</td>\n",
       "      <td>None</td>\n",
       "      <td>1583.905411</td>\n",
       "      <td>USDC</td>\n",
       "      <td>1.0</td>\n",
       "      <td>ETH</td>\n",
       "      <td>ETHUSDC</td>\n",
       "      <td>[1]</td>\n",
       "      <td>1</td>\n",
       "      <td>1583.905411</td>\n",
       "      <td>USDC per ETH</td>\n",
       "    </tr>\n",
       "    <tr>\n",
       "      <th>0</th>\n",
       "      <td>1</td>\n",
       "      <td>1</td>\n",
       "      <td>A</td>\n",
       "      <td>AMM sells 1552USDC buys 1ETH</td>\n",
       "      <td>True</td>\n",
       "      <td>True</td>\n",
       "      <td>None</td>\n",
       "      <td>1552.357373</td>\n",
       "      <td>USDC</td>\n",
       "      <td>1.0</td>\n",
       "      <td>ETH</td>\n",
       "      <td>ETHUSDC</td>\n",
       "      <td>[1]</td>\n",
       "      <td>1</td>\n",
       "      <td>1552.357373</td>\n",
       "      <td>USDC per ETH</td>\n",
       "    </tr>\n",
       "    <tr>\n",
       "      <th>0</th>\n",
       "      <td>2</td>\n",
       "      <td>2</td>\n",
       "      <td>A</td>\n",
       "      <td>AMM sells 1522USDC buys 1ETH</td>\n",
       "      <td>True</td>\n",
       "      <td>True</td>\n",
       "      <td>None</td>\n",
       "      <td>1521.742595</td>\n",
       "      <td>USDC</td>\n",
       "      <td>1.0</td>\n",
       "      <td>ETH</td>\n",
       "      <td>ETHUSDC</td>\n",
       "      <td>[1]</td>\n",
       "      <td>1</td>\n",
       "      <td>1521.742595</td>\n",
       "      <td>USDC per ETH</td>\n",
       "    </tr>\n",
       "  </tbody>\n",
       "</table>\n",
       "</div>"
      ],
      "text/plain": [
       "  uid  id subid                          note  aggr  exec limitfail  \\\n",
       "0   0   0     A  AMM sells 1584USDC buys 1ETH  True  True      None   \n",
       "0   1   1     A  AMM sells 1552USDC buys 1ETH  True  True      None   \n",
       "0   2   2     A  AMM sells 1522USDC buys 1ETH  True  True      None   \n",
       "\n",
       "          amt1  tkn1  amt2 tkn2     pair routeix  nroutes        price  \\\n",
       "0  1583.905411  USDC   1.0  ETH  ETHUSDC     [1]        1  1583.905411   \n",
       "0  1552.357373  USDC   1.0  ETH  ETHUSDC     [1]        1  1552.357373   \n",
       "0  1521.742595  USDC   1.0  ETH  ETHUSDC     [1]        1  1521.742595   \n",
       "\n",
       "         p_unit  \n",
       "0  USDC per ETH  \n",
       "0  USDC per ETH  \n",
       "0  USDC per ETH  "
      ]
     },
     "execution_count": 11,
     "metadata": {},
     "output_type": "execute_result"
    }
   ],
   "source": [
    "Sim.state()[\"trades\"].query(\"aggr==True\")"
   ]
  },
  {
   "cell_type": "markdown",
   "id": "56f4940e",
   "metadata": {},
   "source": [
    "After those trades, Alice has 3 ETH, and 341 USDC left."
   ]
  },
  {
   "cell_type": "code",
   "execution_count": 12,
   "id": "f7b1a0c8",
   "metadata": {},
   "outputs": [
    {
     "data": {
      "text/html": [
       "<div>\n",
       "<style scoped>\n",
       "    .dataframe tbody tr th:only-of-type {\n",
       "        vertical-align: middle;\n",
       "    }\n",
       "\n",
       "    .dataframe tbody tr th {\n",
       "        vertical-align: top;\n",
       "    }\n",
       "\n",
       "    .dataframe thead th {\n",
       "        text-align: right;\n",
       "    }\n",
       "</style>\n",
       "<table border=\"1\" class=\"dataframe\">\n",
       "  <thead>\n",
       "    <tr style=\"text-align: right;\">\n",
       "      <th></th>\n",
       "      <th>y</th>\n",
       "      <th>y_unit</th>\n",
       "    </tr>\n",
       "  </thead>\n",
       "  <tbody>\n",
       "    <tr>\n",
       "      <th>0</th>\n",
       "      <td>3.000000</td>\n",
       "      <td>ETH</td>\n",
       "    </tr>\n",
       "    <tr>\n",
       "      <th>1</th>\n",
       "      <td>341.994621</td>\n",
       "      <td>USDC</td>\n",
       "    </tr>\n",
       "  </tbody>\n",
       "</table>\n",
       "</div>"
      ],
      "text/plain": [
       "            y y_unit\n",
       "0    3.000000    ETH\n",
       "1  341.994621   USDC"
      ]
     },
     "execution_count": 12,
     "metadata": {},
     "output_type": "execute_result"
    }
   ],
   "source": [
    "Sim.state()[\"orders\"][['y', 'y_unit']]"
   ]
  },
  {
   "cell_type": "markdown",
   "id": "1d75d030",
   "metadata": {},
   "source": [
    "Then the marker turns, and it buys ETH at the price the Alice is willing to sell it"
   ]
  },
  {
   "cell_type": "code",
   "execution_count": 13,
   "id": "894967fd",
   "metadata": {},
   "outputs": [
    {
     "data": {
      "text/plain": [
       "{'success': False,\n",
       " 'error': 'token ETH has no non-empty liquidity positions',\n",
       " 'exception': ValueError('token ETH has no non-empty liquidity positions')}"
      ]
     },
     "execution_count": 13,
     "metadata": {},
     "output_type": "execute_result"
    }
   ],
   "source": [
    "for size in [1,1,1,1]:\n",
    "    result = Sim.trader_buys(\"ETH\", size)\n",
    "result"
   ]
  },
  {
   "cell_type": "code",
   "execution_count": 14,
   "id": "911bc1d1",
   "metadata": {},
   "outputs": [
    {
     "data": {
      "text/html": [
       "<div>\n",
       "<style scoped>\n",
       "    .dataframe tbody tr th:only-of-type {\n",
       "        vertical-align: middle;\n",
       "    }\n",
       "\n",
       "    .dataframe tbody tr th {\n",
       "        vertical-align: top;\n",
       "    }\n",
       "\n",
       "    .dataframe thead th {\n",
       "        text-align: right;\n",
       "    }\n",
       "</style>\n",
       "<table border=\"1\" class=\"dataframe\">\n",
       "  <thead>\n",
       "    <tr style=\"text-align: right;\">\n",
       "      <th></th>\n",
       "      <th>uid</th>\n",
       "      <th>id</th>\n",
       "      <th>subid</th>\n",
       "      <th>note</th>\n",
       "      <th>aggr</th>\n",
       "      <th>exec</th>\n",
       "      <th>limitfail</th>\n",
       "      <th>amt1</th>\n",
       "      <th>tkn1</th>\n",
       "      <th>amt2</th>\n",
       "      <th>tkn2</th>\n",
       "      <th>pair</th>\n",
       "      <th>routeix</th>\n",
       "      <th>nroutes</th>\n",
       "      <th>price</th>\n",
       "      <th>p_unit</th>\n",
       "    </tr>\n",
       "  </thead>\n",
       "  <tbody>\n",
       "    <tr>\n",
       "      <th>0</th>\n",
       "      <td>3</td>\n",
       "      <td>3</td>\n",
       "      <td>A</td>\n",
       "      <td>AMM sells 1ETH buys 2073USDC</td>\n",
       "      <td>True</td>\n",
       "      <td>True</td>\n",
       "      <td>None</td>\n",
       "      <td>1.0</td>\n",
       "      <td>ETH</td>\n",
       "      <td>2072.949017</td>\n",
       "      <td>USDC</td>\n",
       "      <td>ETHUSDC</td>\n",
       "      <td>[0]</td>\n",
       "      <td>1</td>\n",
       "      <td>2072.949017</td>\n",
       "      <td>USDC per ETH</td>\n",
       "    </tr>\n",
       "    <tr>\n",
       "      <th>0</th>\n",
       "      <td>4</td>\n",
       "      <td>4</td>\n",
       "      <td>A</td>\n",
       "      <td>AMM sells 1ETH buys 2230USDC</td>\n",
       "      <td>True</td>\n",
       "      <td>True</td>\n",
       "      <td>None</td>\n",
       "      <td>1.0</td>\n",
       "      <td>ETH</td>\n",
       "      <td>2229.893067</td>\n",
       "      <td>USDC</td>\n",
       "      <td>ETHUSDC</td>\n",
       "      <td>[0]</td>\n",
       "      <td>1</td>\n",
       "      <td>2229.893067</td>\n",
       "      <td>USDC per ETH</td>\n",
       "    </tr>\n",
       "    <tr>\n",
       "      <th>0</th>\n",
       "      <td>5</td>\n",
       "      <td>5</td>\n",
       "      <td>A</td>\n",
       "      <td>AMM sells 1ETH buys 2405USDC</td>\n",
       "      <td>True</td>\n",
       "      <td>True</td>\n",
       "      <td>None</td>\n",
       "      <td>1.0</td>\n",
       "      <td>ETH</td>\n",
       "      <td>2405.361849</td>\n",
       "      <td>USDC</td>\n",
       "      <td>ETHUSDC</td>\n",
       "      <td>[0]</td>\n",
       "      <td>1</td>\n",
       "      <td>2405.361849</td>\n",
       "      <td>USDC per ETH</td>\n",
       "    </tr>\n",
       "  </tbody>\n",
       "</table>\n",
       "</div>"
      ],
      "text/plain": [
       "  uid  id subid                          note  aggr  exec limitfail  amt1  \\\n",
       "0   3   3     A  AMM sells 1ETH buys 2073USDC  True  True      None   1.0   \n",
       "0   4   4     A  AMM sells 1ETH buys 2230USDC  True  True      None   1.0   \n",
       "0   5   5     A  AMM sells 1ETH buys 2405USDC  True  True      None   1.0   \n",
       "\n",
       "  tkn1         amt2  tkn2     pair routeix  nroutes        price        p_unit  \n",
       "0  ETH  2072.949017  USDC  ETHUSDC     [0]        1  2072.949017  USDC per ETH  \n",
       "0  ETH  2229.893067  USDC  ETHUSDC     [0]        1  2229.893067  USDC per ETH  \n",
       "0  ETH  2405.361849  USDC  ETHUSDC     [0]        1  2405.361849  USDC per ETH  "
      ]
     },
     "execution_count": 14,
     "metadata": {},
     "output_type": "execute_result"
    }
   ],
   "source": [
    "Sim.state()[\"trades\"].query(\"aggr==True\").query(\"tkn1=='ETH'\")"
   ]
  },
  {
   "cell_type": "markdown",
   "id": "8cb30374",
   "metadata": {},
   "source": [
    "At the end, Alice has 7050 USDC, against a starting value of 5000."
   ]
  },
  {
   "cell_type": "code",
   "execution_count": 15,
   "id": "36705b89",
   "metadata": {},
   "outputs": [
    {
     "data": {
      "text/html": [
       "<div>\n",
       "<style scoped>\n",
       "    .dataframe tbody tr th:only-of-type {\n",
       "        vertical-align: middle;\n",
       "    }\n",
       "\n",
       "    .dataframe tbody tr th {\n",
       "        vertical-align: top;\n",
       "    }\n",
       "\n",
       "    .dataframe thead th {\n",
       "        text-align: right;\n",
       "    }\n",
       "</style>\n",
       "<table border=\"1\" class=\"dataframe\">\n",
       "  <thead>\n",
       "    <tr style=\"text-align: right;\">\n",
       "      <th></th>\n",
       "      <th>y</th>\n",
       "      <th>y_unit</th>\n",
       "    </tr>\n",
       "  </thead>\n",
       "  <tbody>\n",
       "    <tr>\n",
       "      <th>0</th>\n",
       "      <td>0.000000</td>\n",
       "      <td>ETH</td>\n",
       "    </tr>\n",
       "    <tr>\n",
       "      <th>1</th>\n",
       "      <td>7050.198554</td>\n",
       "      <td>USDC</td>\n",
       "    </tr>\n",
       "  </tbody>\n",
       "</table>\n",
       "</div>"
      ],
      "text/plain": [
       "             y y_unit\n",
       "0     0.000000    ETH\n",
       "1  7050.198554   USDC"
      ]
     },
     "execution_count": 15,
     "metadata": {},
     "output_type": "execute_result"
    }
   ],
   "source": [
    "Sim.state()[\"orders\"][['y', 'y_unit']]"
   ]
  },
  {
   "cell_type": "markdown",
   "id": "9acd707d",
   "metadata": {},
   "source": [
    "## LP Example: \"Average-In\" Order"
   ]
  },
  {
   "cell_type": "markdown",
   "id": "20092ded",
   "metadata": {},
   "source": [
    "**Jane creates a strategy to buy ETH between 1500 and 1600 USDC. She is willing to spend 5000 USDC for this.**\n",
    "\n",
    "Note: this is simply Alice's strategy without the sell part."
   ]
  },
  {
   "cell_type": "code",
   "execution_count": 16,
   "id": "8b80384c",
   "metadata": {},
   "outputs": [],
   "source": [
    "Sim = CarbonSimulatorUI(pair=\"ETHUSDC\")"
   ]
  },
  {
   "cell_type": "code",
   "execution_count": 17,
   "id": "7e06166a",
   "metadata": {},
   "outputs": [
    {
     "data": {
      "text/html": [
       "<div>\n",
       "<style scoped>\n",
       "    .dataframe tbody tr th:only-of-type {\n",
       "        vertical-align: middle;\n",
       "    }\n",
       "\n",
       "    .dataframe tbody tr th {\n",
       "        vertical-align: top;\n",
       "    }\n",
       "\n",
       "    .dataframe thead th {\n",
       "        text-align: right;\n",
       "    }\n",
       "</style>\n",
       "<table border=\"1\" class=\"dataframe\">\n",
       "  <thead>\n",
       "    <tr style=\"text-align: right;\">\n",
       "      <th></th>\n",
       "      <th>id</th>\n",
       "      <th>pair</th>\n",
       "      <th>tkn_name</th>\n",
       "      <th>y_int</th>\n",
       "      <th>y</th>\n",
       "      <th>y_unit</th>\n",
       "      <th>p_start</th>\n",
       "      <th>p_end</th>\n",
       "      <th>p_unit</th>\n",
       "      <th>linked_to_id</th>\n",
       "    </tr>\n",
       "  </thead>\n",
       "  <tbody>\n",
       "    <tr>\n",
       "      <th>0</th>\n",
       "      <td>0</td>\n",
       "      <td>ETHUSDC</td>\n",
       "      <td>ETH</td>\n",
       "      <td>0.000000</td>\n",
       "      <td>0.000000</td>\n",
       "      <td>ETH</td>\n",
       "      <td>1000000.000000</td>\n",
       "      <td>1000000.000000</td>\n",
       "      <td>USDC per ETH</td>\n",
       "      <td>1</td>\n",
       "    </tr>\n",
       "    <tr>\n",
       "      <th>1</th>\n",
       "      <td>1</td>\n",
       "      <td>ETHUSDC</td>\n",
       "      <td>USDC</td>\n",
       "      <td>5000.000000</td>\n",
       "      <td>5000.000000</td>\n",
       "      <td>USDC</td>\n",
       "      <td>1600.000000</td>\n",
       "      <td>1500.000000</td>\n",
       "      <td>USDC per ETH</td>\n",
       "      <td>0</td>\n",
       "    </tr>\n",
       "  </tbody>\n",
       "</table>\n",
       "</div>"
      ],
      "text/plain": [
       "   id     pair tkn_name        y_int            y y_unit         p_start  \\\n",
       "0   0  ETHUSDC      ETH     0.000000     0.000000    ETH  1000000.000000   \n",
       "1   1  ETHUSDC     USDC  5000.000000  5000.000000   USDC     1600.000000   \n",
       "\n",
       "            p_end        p_unit  linked_to_id  \n",
       "0  1000000.000000  USDC per ETH             1  \n",
       "1     1500.000000  USDC per ETH             0  "
      ]
     },
     "execution_count": 17,
     "metadata": {},
     "output_type": "execute_result"
    }
   ],
   "source": [
    "Sim.add_strategy(\"ETH\", 0, 1000000, 1000000, 5000, 1600, 1500)[\"orders\"]"
   ]
  },
  {
   "cell_type": "markdown",
   "id": "cc5329db",
   "metadata": {},
   "source": [
    "The market is attempting to pass the following orders against it. The last one fails because there is not enough USDC left."
   ]
  },
  {
   "cell_type": "code",
   "execution_count": 18,
   "id": "33cebe77",
   "metadata": {},
   "outputs": [
    {
     "data": {
      "text/plain": [
       "{'success': False,\n",
       " 'error': 'Insufficient liquidity across all user positions to support this trade.',\n",
       " 'exception': AssertionError('Insufficient liquidity across all user positions to support this trade.')}"
      ]
     },
     "execution_count": 18,
     "metadata": {},
     "output_type": "execute_result"
    }
   ],
   "source": [
    "for size in [1,1,1,340/1500,1]:\n",
    "    result = Sim.trader_sells(\"ETH\", size)\n",
    "result"
   ]
  },
  {
   "cell_type": "code",
   "execution_count": 19,
   "id": "ff64ab6e",
   "metadata": {},
   "outputs": [
    {
     "data": {
      "text/html": [
       "<div>\n",
       "<style scoped>\n",
       "    .dataframe tbody tr th:only-of-type {\n",
       "        vertical-align: middle;\n",
       "    }\n",
       "\n",
       "    .dataframe tbody tr th {\n",
       "        vertical-align: top;\n",
       "    }\n",
       "\n",
       "    .dataframe thead th {\n",
       "        text-align: right;\n",
       "    }\n",
       "</style>\n",
       "<table border=\"1\" class=\"dataframe\">\n",
       "  <thead>\n",
       "    <tr style=\"text-align: right;\">\n",
       "      <th></th>\n",
       "      <th>uid</th>\n",
       "      <th>id</th>\n",
       "      <th>subid</th>\n",
       "      <th>note</th>\n",
       "      <th>aggr</th>\n",
       "      <th>exec</th>\n",
       "      <th>limitfail</th>\n",
       "      <th>amt1</th>\n",
       "      <th>tkn1</th>\n",
       "      <th>amt2</th>\n",
       "      <th>tkn2</th>\n",
       "      <th>pair</th>\n",
       "      <th>routeix</th>\n",
       "      <th>nroutes</th>\n",
       "      <th>price</th>\n",
       "      <th>p_unit</th>\n",
       "    </tr>\n",
       "  </thead>\n",
       "  <tbody>\n",
       "    <tr>\n",
       "      <th>0</th>\n",
       "      <td>0</td>\n",
       "      <td>0</td>\n",
       "      <td>A</td>\n",
       "      <td>AMM sells 1584USDC buys 1ETH</td>\n",
       "      <td>True</td>\n",
       "      <td>True</td>\n",
       "      <td>None</td>\n",
       "      <td>1583.905411</td>\n",
       "      <td>USDC</td>\n",
       "      <td>1.000000</td>\n",
       "      <td>ETH</td>\n",
       "      <td>ETHUSDC</td>\n",
       "      <td>[1]</td>\n",
       "      <td>1</td>\n",
       "      <td>1583.905411</td>\n",
       "      <td>USDC per ETH</td>\n",
       "    </tr>\n",
       "    <tr>\n",
       "      <th>0</th>\n",
       "      <td>1</td>\n",
       "      <td>1</td>\n",
       "      <td>A</td>\n",
       "      <td>AMM sells 1552USDC buys 1ETH</td>\n",
       "      <td>True</td>\n",
       "      <td>True</td>\n",
       "      <td>None</td>\n",
       "      <td>1552.357373</td>\n",
       "      <td>USDC</td>\n",
       "      <td>1.000000</td>\n",
       "      <td>ETH</td>\n",
       "      <td>ETHUSDC</td>\n",
       "      <td>[1]</td>\n",
       "      <td>1</td>\n",
       "      <td>1552.357373</td>\n",
       "      <td>USDC per ETH</td>\n",
       "    </tr>\n",
       "    <tr>\n",
       "      <th>0</th>\n",
       "      <td>2</td>\n",
       "      <td>2</td>\n",
       "      <td>A</td>\n",
       "      <td>AMM sells 1522USDC buys 1ETH</td>\n",
       "      <td>True</td>\n",
       "      <td>True</td>\n",
       "      <td>None</td>\n",
       "      <td>1521.742595</td>\n",
       "      <td>USDC</td>\n",
       "      <td>1.000000</td>\n",
       "      <td>ETH</td>\n",
       "      <td>ETHUSDC</td>\n",
       "      <td>[1]</td>\n",
       "      <td>1</td>\n",
       "      <td>1521.742595</td>\n",
       "      <td>USDC per ETH</td>\n",
       "    </tr>\n",
       "    <tr>\n",
       "      <th>0</th>\n",
       "      <td>3</td>\n",
       "      <td>3</td>\n",
       "      <td>A</td>\n",
       "      <td>AMM sells 341USDC buys 0ETH</td>\n",
       "      <td>True</td>\n",
       "      <td>True</td>\n",
       "      <td>None</td>\n",
       "      <td>340.765429</td>\n",
       "      <td>USDC</td>\n",
       "      <td>0.226667</td>\n",
       "      <td>ETH</td>\n",
       "      <td>ETHUSDC</td>\n",
       "      <td>[1]</td>\n",
       "      <td>1</td>\n",
       "      <td>1503.376892</td>\n",
       "      <td>USDC per ETH</td>\n",
       "    </tr>\n",
       "  </tbody>\n",
       "</table>\n",
       "</div>"
      ],
      "text/plain": [
       "  uid  id subid                          note  aggr  exec limitfail  \\\n",
       "0   0   0     A  AMM sells 1584USDC buys 1ETH  True  True      None   \n",
       "0   1   1     A  AMM sells 1552USDC buys 1ETH  True  True      None   \n",
       "0   2   2     A  AMM sells 1522USDC buys 1ETH  True  True      None   \n",
       "0   3   3     A   AMM sells 341USDC buys 0ETH  True  True      None   \n",
       "\n",
       "          amt1  tkn1      amt2 tkn2     pair routeix  nroutes        price  \\\n",
       "0  1583.905411  USDC  1.000000  ETH  ETHUSDC     [1]        1  1583.905411   \n",
       "0  1552.357373  USDC  1.000000  ETH  ETHUSDC     [1]        1  1552.357373   \n",
       "0  1521.742595  USDC  1.000000  ETH  ETHUSDC     [1]        1  1521.742595   \n",
       "0   340.765429  USDC  0.226667  ETH  ETHUSDC     [1]        1  1503.376892   \n",
       "\n",
       "         p_unit  \n",
       "0  USDC per ETH  \n",
       "0  USDC per ETH  \n",
       "0  USDC per ETH  \n",
       "0  USDC per ETH  "
      ]
     },
     "execution_count": 19,
     "metadata": {},
     "output_type": "execute_result"
    }
   ],
   "source": [
    "Sim.state()[\"trades\"].query(\"aggr==True\")"
   ]
  },
  {
   "cell_type": "markdown",
   "id": "fd2edf41",
   "metadata": {},
   "source": [
    "After those trades, Jane has purchase 3.2 ETH, and she has 1.2 USDC left. She bought at an average price of 1549."
   ]
  },
  {
   "cell_type": "code",
   "execution_count": 20,
   "id": "85abf0c7",
   "metadata": {},
   "outputs": [
    {
     "name": "stdout",
     "output_type": "stream",
     "text": [
      "1548.586616778242068363422690\n"
     ]
    },
    {
     "data": {
      "text/html": [
       "<div>\n",
       "<style scoped>\n",
       "    .dataframe tbody tr th:only-of-type {\n",
       "        vertical-align: middle;\n",
       "    }\n",
       "\n",
       "    .dataframe tbody tr th {\n",
       "        vertical-align: top;\n",
       "    }\n",
       "\n",
       "    .dataframe thead th {\n",
       "        text-align: right;\n",
       "    }\n",
       "</style>\n",
       "<table border=\"1\" class=\"dataframe\">\n",
       "  <thead>\n",
       "    <tr style=\"text-align: right;\">\n",
       "      <th></th>\n",
       "      <th>y</th>\n",
       "      <th>y_unit</th>\n",
       "    </tr>\n",
       "  </thead>\n",
       "  <tbody>\n",
       "    <tr>\n",
       "      <th>0</th>\n",
       "      <td>3.226667</td>\n",
       "      <td>ETH</td>\n",
       "    </tr>\n",
       "    <tr>\n",
       "      <th>1</th>\n",
       "      <td>1.229192</td>\n",
       "      <td>USDC</td>\n",
       "    </tr>\n",
       "  </tbody>\n",
       "</table>\n",
       "</div>"
      ],
      "text/plain": [
       "          y y_unit\n",
       "0  3.226667    ETH\n",
       "1  1.229192   USDC"
      ]
     },
     "execution_count": 20,
     "metadata": {},
     "output_type": "execute_result"
    }
   ],
   "source": [
    "o = Sim.state()[\"orders\"][['y', 'y_unit']]\n",
    "print((5000 - o.iloc[0]['y'])/ o.iloc[0]['y'])\n",
    "o"
   ]
  },
  {
   "cell_type": "markdown",
   "id": "ad837049",
   "metadata": {},
   "source": [
    "## LP Example: Token Distribution Order"
   ]
  },
  {
   "cell_type": "markdown",
   "id": "e50808da",
   "metadata": {},
   "source": [
    "**Token project XYZ creates a strategy to sell 1 million units of its XYZ token in the price range of 0.50-2.00. The project would like to “back-load” the distribution process, such that half of the tokens are sold between 1.50-2.00. In total, the project wishes to receive a minimum of 1.37m in cash for its tokens.**"
   ]
  },
  {
   "cell_type": "code",
   "execution_count": 21,
   "id": "7af91dc0",
   "metadata": {},
   "outputs": [],
   "source": [
    "Sim = CarbonSimulatorUI(pair=\"XYZUSDC\")"
   ]
  },
  {
   "cell_type": "code",
   "execution_count": 22,
   "id": "108b67ee",
   "metadata": {},
   "outputs": [
    {
     "data": {
      "text/html": [
       "<div>\n",
       "<style scoped>\n",
       "    .dataframe tbody tr th:only-of-type {\n",
       "        vertical-align: middle;\n",
       "    }\n",
       "\n",
       "    .dataframe tbody tr th {\n",
       "        vertical-align: top;\n",
       "    }\n",
       "\n",
       "    .dataframe thead th {\n",
       "        text-align: right;\n",
       "    }\n",
       "</style>\n",
       "<table border=\"1\" class=\"dataframe\">\n",
       "  <thead>\n",
       "    <tr style=\"text-align: right;\">\n",
       "      <th></th>\n",
       "      <th>id</th>\n",
       "      <th>pair</th>\n",
       "      <th>tkn_name</th>\n",
       "      <th>y_int</th>\n",
       "      <th>y</th>\n",
       "      <th>y_unit</th>\n",
       "      <th>p_start</th>\n",
       "      <th>p_end</th>\n",
       "      <th>p_unit</th>\n",
       "      <th>linked_to_id</th>\n",
       "    </tr>\n",
       "  </thead>\n",
       "  <tbody>\n",
       "    <tr>\n",
       "      <th>0</th>\n",
       "      <td>0</td>\n",
       "      <td>XYZUSDC</td>\n",
       "      <td>XYZ</td>\n",
       "      <td>500000.000000</td>\n",
       "      <td>500000.000000</td>\n",
       "      <td>XYZ</td>\n",
       "      <td>0.500000</td>\n",
       "      <td>2.000000</td>\n",
       "      <td>USDC per XYZ</td>\n",
       "      <td>1</td>\n",
       "    </tr>\n",
       "    <tr>\n",
       "      <th>1</th>\n",
       "      <td>1</td>\n",
       "      <td>XYZUSDC</td>\n",
       "      <td>USDC</td>\n",
       "      <td>0.000000</td>\n",
       "      <td>0.000000</td>\n",
       "      <td>USDC</td>\n",
       "      <td>0.001000</td>\n",
       "      <td>0.001000</td>\n",
       "      <td>USDC per XYZ</td>\n",
       "      <td>0</td>\n",
       "    </tr>\n",
       "    <tr>\n",
       "      <th>2</th>\n",
       "      <td>2</td>\n",
       "      <td>XYZUSDC</td>\n",
       "      <td>XYZ</td>\n",
       "      <td>500000.000000</td>\n",
       "      <td>500000.000000</td>\n",
       "      <td>XYZ</td>\n",
       "      <td>1.500000</td>\n",
       "      <td>2.000000</td>\n",
       "      <td>USDC per XYZ</td>\n",
       "      <td>3</td>\n",
       "    </tr>\n",
       "    <tr>\n",
       "      <th>3</th>\n",
       "      <td>3</td>\n",
       "      <td>XYZUSDC</td>\n",
       "      <td>USDC</td>\n",
       "      <td>0.000000</td>\n",
       "      <td>0.000000</td>\n",
       "      <td>USDC</td>\n",
       "      <td>0.001000</td>\n",
       "      <td>0.001000</td>\n",
       "      <td>USDC per XYZ</td>\n",
       "      <td>2</td>\n",
       "    </tr>\n",
       "  </tbody>\n",
       "</table>\n",
       "</div>"
      ],
      "text/plain": [
       "   id     pair tkn_name          y_int              y y_unit   p_start  \\\n",
       "0   0  XYZUSDC      XYZ  500000.000000  500000.000000    XYZ  0.500000   \n",
       "1   1  XYZUSDC     USDC       0.000000       0.000000   USDC  0.001000   \n",
       "2   2  XYZUSDC      XYZ  500000.000000  500000.000000    XYZ  1.500000   \n",
       "3   3  XYZUSDC     USDC       0.000000       0.000000   USDC  0.001000   \n",
       "\n",
       "      p_end        p_unit  linked_to_id  \n",
       "0  2.000000  USDC per XYZ             1  \n",
       "1  0.001000  USDC per XYZ             0  \n",
       "2  2.000000  USDC per XYZ             3  \n",
       "3  0.001000  USDC per XYZ             2  "
      ]
     },
     "execution_count": 22,
     "metadata": {},
     "output_type": "execute_result"
    }
   ],
   "source": [
    "Sim.add_strategy(\"XYZ\", 500000, 0.5, 2, 0, 0.001, 0.001)\n",
    "Sim.add_strategy(\"XYZ\", 500000, 1.5, 2, 0, 0.001, 0.001)\n",
    "Sim.state()[\"orders\"]"
   ]
  },
  {
   "cell_type": "markdown",
   "id": "c9bffd55",
   "metadata": {},
   "source": [
    "The market is now buying"
   ]
  },
  {
   "cell_type": "code",
   "execution_count": 23,
   "id": "c3acad32",
   "metadata": {},
   "outputs": [
    {
     "data": {
      "text/plain": [
       "{'success': False,\n",
       " 'error': 'Insufficient liquidity across all user positions to support this trade.',\n",
       " 'exception': AssertionError('Insufficient liquidity across all user positions to support this trade.')}"
      ]
     },
     "execution_count": 23,
     "metadata": {},
     "output_type": "execute_result"
    }
   ],
   "source": [
    "for size in [100]*11:\n",
    "    result = Sim.trader_buys(\"XYZ\", size*999.999)\n",
    "result"
   ]
  },
  {
   "cell_type": "markdown",
   "id": "99cdddc0",
   "metadata": {},
   "source": [
    "We see that initially the price is rising fast, but as soon as both positions yield tokens (above 1.50) there is more capacity in any given price range"
   ]
  },
  {
   "cell_type": "code",
   "execution_count": 24,
   "id": "8412f117",
   "metadata": {},
   "outputs": [
    {
     "data": {
      "text/html": [
       "<div>\n",
       "<style scoped>\n",
       "    .dataframe tbody tr th:only-of-type {\n",
       "        vertical-align: middle;\n",
       "    }\n",
       "\n",
       "    .dataframe tbody tr th {\n",
       "        vertical-align: top;\n",
       "    }\n",
       "\n",
       "    .dataframe thead th {\n",
       "        text-align: right;\n",
       "    }\n",
       "</style>\n",
       "<table border=\"1\" class=\"dataframe\">\n",
       "  <thead>\n",
       "    <tr style=\"text-align: right;\">\n",
       "      <th></th>\n",
       "      <th>amt1</th>\n",
       "      <th>tkn1</th>\n",
       "      <th>nroutes</th>\n",
       "      <th>price</th>\n",
       "    </tr>\n",
       "  </thead>\n",
       "  <tbody>\n",
       "    <tr>\n",
       "      <th>0</th>\n",
       "      <td>99999.9</td>\n",
       "      <td>XYZ</td>\n",
       "      <td>1</td>\n",
       "      <td>0.555555</td>\n",
       "    </tr>\n",
       "    <tr>\n",
       "      <th>0</th>\n",
       "      <td>99999.9</td>\n",
       "      <td>XYZ</td>\n",
       "      <td>1</td>\n",
       "      <td>0.694444</td>\n",
       "    </tr>\n",
       "    <tr>\n",
       "      <th>0</th>\n",
       "      <td>99999.9</td>\n",
       "      <td>XYZ</td>\n",
       "      <td>1</td>\n",
       "      <td>0.892857</td>\n",
       "    </tr>\n",
       "    <tr>\n",
       "      <th>0</th>\n",
       "      <td>99999.9</td>\n",
       "      <td>XYZ</td>\n",
       "      <td>1</td>\n",
       "      <td>1.190475</td>\n",
       "    </tr>\n",
       "    <tr>\n",
       "      <th>0</th>\n",
       "      <td>99999.9</td>\n",
       "      <td>XYZ</td>\n",
       "      <td>2</td>\n",
       "      <td>1.50838</td>\n",
       "    </tr>\n",
       "    <tr>\n",
       "      <th>0</th>\n",
       "      <td>99999.9</td>\n",
       "      <td>XYZ</td>\n",
       "      <td>2</td>\n",
       "      <td>1.592973</td>\n",
       "    </tr>\n",
       "    <tr>\n",
       "      <th>0</th>\n",
       "      <td>99999.9</td>\n",
       "      <td>XYZ</td>\n",
       "      <td>2</td>\n",
       "      <td>1.671989</td>\n",
       "    </tr>\n",
       "    <tr>\n",
       "      <th>0</th>\n",
       "      <td>99999.9</td>\n",
       "      <td>XYZ</td>\n",
       "      <td>2</td>\n",
       "      <td>1.757033</td>\n",
       "    </tr>\n",
       "    <tr>\n",
       "      <th>0</th>\n",
       "      <td>99999.9</td>\n",
       "      <td>XYZ</td>\n",
       "      <td>2</td>\n",
       "      <td>1.848734</td>\n",
       "    </tr>\n",
       "    <tr>\n",
       "      <th>0</th>\n",
       "      <td>99999.9</td>\n",
       "      <td>XYZ</td>\n",
       "      <td>2</td>\n",
       "      <td>1.947808</td>\n",
       "    </tr>\n",
       "  </tbody>\n",
       "</table>\n",
       "</div>"
      ],
      "text/plain": [
       "      amt1 tkn1  nroutes     price\n",
       "0  99999.9  XYZ        1  0.555555\n",
       "0  99999.9  XYZ        1  0.694444\n",
       "0  99999.9  XYZ        1  0.892857\n",
       "0  99999.9  XYZ        1  1.190475\n",
       "0  99999.9  XYZ        2   1.50838\n",
       "0  99999.9  XYZ        2  1.592973\n",
       "0  99999.9  XYZ        2  1.671989\n",
       "0  99999.9  XYZ        2  1.757033\n",
       "0  99999.9  XYZ        2  1.848734\n",
       "0  99999.9  XYZ        2  1.947808"
      ]
     },
     "execution_count": 24,
     "metadata": {},
     "output_type": "execute_result"
    }
   ],
   "source": [
    "Sim.state()[\"trades\"].query(\"aggr==True\")[[\"amt1\", \"tkn1\", \"nroutes\", \"price\"]]"
   ]
  },
  {
   "cell_type": "markdown",
   "id": "39ac618c",
   "metadata": {},
   "source": [
    "After those trades, the token project has sold most of its tokens (just 1 left across both positions), and has received USD 1,366,023"
   ]
  },
  {
   "cell_type": "code",
   "execution_count": 25,
   "id": "26e650ad",
   "metadata": {},
   "outputs": [
    {
     "data": {
      "text/plain": [
       "y         1.000000\n",
       "y_unit      XYZXYZ\n",
       "dtype: object"
      ]
     },
     "execution_count": 25,
     "metadata": {},
     "output_type": "execute_result"
    }
   ],
   "source": [
    "o = Sim.state()[\"orders\"][['y', 'y_unit']]\n",
    "o.query(\"y_unit=='XYZ'\").sum()"
   ]
  },
  {
   "cell_type": "code",
   "execution_count": 26,
   "id": "95ea770e",
   "metadata": {
    "lines_to_next_cell": 2
   },
   "outputs": [
    {
     "data": {
      "text/plain": [
       "y         1366023.403785\n",
       "y_unit          USDCUSDC\n",
       "dtype: object"
      ]
     },
     "execution_count": 26,
     "metadata": {},
     "output_type": "execute_result"
    }
   ],
   "source": [
    "o.query(\"y_unit=='USDC'\").sum()"
   ]
  }
 ],
 "metadata": {
  "jupytext": {
   "cell_metadata_filter": "-all",
   "notebook_metadata_filter": "-all"
  },
  "kernelspec": {
   "display_name": "Python 3",
   "language": "python",
   "name": "python3"
  },
  "language_info": {
   "codemirror_mode": {
    "name": "ipython",
    "version": 3
   },
   "file_extension": ".py",
   "mimetype": "text/x-python",
   "name": "python",
   "nbconvert_exporter": "python",
   "pygments_lexer": "ipython3",
   "version": "3.8.8"
  }
 },
 "nbformat": 4,
 "nbformat_minor": 5
}
