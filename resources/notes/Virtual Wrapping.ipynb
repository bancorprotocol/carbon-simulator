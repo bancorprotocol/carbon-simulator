{
 "cells": [
  {
   "cell_type": "code",
   "execution_count": 40,
   "id": "a1fa8679-0321-483b-8d34-def46631d46b",
   "metadata": {},
   "outputs": [],
   "source": [
    "from math import *\n",
    "import numpy as np\n",
    "from matplotlib import pyplot as plt"
   ]
  },
  {
   "cell_type": "markdown",
   "id": "dbf156ed-2858-4415-b900-9cd7f9ef975b",
   "metadata": {},
   "source": [
    "# Addressing precision issues using virtual token wrapping"
   ]
  },
  {
   "cell_type": "markdown",
   "id": "8ea5f29c-88ce-4cb8-8fbb-8afe563895ff",
   "metadata": {},
   "source": [
    "bla"
   ]
  },
  {
   "cell_type": "markdown",
   "id": "2141245d-3ee4-4372-b79b-b283cc942602",
   "metadata": {},
   "source": [
    "## Code"
   ]
  },
  {
   "cell_type": "code",
   "execution_count": null,
   "id": "0b8feccf-6204-469a-8653-0d6fe55b5fc3",
   "metadata": {},
   "outputs": [],
   "source": [
    "i = lambda n: int(floor(n))"
   ]
  },
  {
   "cell_type": "markdown",
   "id": "0c2f359b-656a-4752-8e47-f4d348f21cf9",
   "metadata": {},
   "source": [
    "## Examples\n",
    "\n",
    "The examples below show that in pairs with either greatly differing decimals, greatly differing prices, or a combination of both, a lot of the calculation accurary is spurious as the value of one wei of the one token is a massive multiple (powers of ten massive) of one wei of that other. Therefore, if we denominate calculations in the lower valued token-wei we will carry too many digits. In the extreme case of BTC/SHIB for example those deadweight decimals carried correspond to a range of $10^{20}$ or 66 bits."
   ]
  },
  {
   "cell_type": "code",
   "execution_count": 17,
   "id": "079f08e1-22b2-42b2-953d-1e3ccc6dbdf1",
   "metadata": {},
   "outputs": [
    {
     "data": {
      "text/plain": [
       "66.43856189774725"
      ]
     },
     "execution_count": 17,
     "metadata": {},
     "output_type": "execute_result"
    }
   ],
   "source": [
    "log2(10**20)"
   ]
  },
  {
   "cell_type": "markdown",
   "id": "32fbf82a-8c38-45f7-806f-84e92f04a9d6",
   "metadata": {},
   "source": [
    "### Generic TKN (18 decimals) against USDC (6 decimals)\n",
    "\n",
    "The first example is a generic 18 decimals token trading around unity with USDC. We see that that wei price is 1e-12 USDC wei per TKN wei. However, by definition, wei numbers (where wei's represent the smallest fraction of a token) must be integers. Therefor the smalles unit that can be traded in this pair is 1 USDC-wei = 1e-6 USDC against 1e-12 TKN wei."
   ]
  },
  {
   "cell_type": "code",
   "execution_count": 11,
   "id": "00fde05e-0521-48a6-8835-c403f40d4db2",
   "metadata": {},
   "outputs": [
    {
     "name": "stdout",
     "output_type": "stream",
     "text": [
      "tknb        = TKN (18 decimals)\n",
      "tknq        = USDC (6 decimals)\n",
      "price       = 1 USDC per TKN\n",
      "price (wei) = 1e-12 USDC-wei per TKN-wei\n"
     ]
    }
   ],
   "source": [
    "tknb, tknq = \"TKN\", \"USDC\"\n",
    "decb, decq = 18, 6\n",
    "price = 1\n",
    "price_wei = price * 10**decq / 10**decb\n",
    "price_convention = f\"{tknq} per {tknb}\"\n",
    "price_convention_wei = f\"{tknq}-wei per {tknb}-wei\"\n",
    "\n",
    "print(f\"\"\"\n",
    "tknb        = {tknb} ({decb} decimals)\n",
    "tknq        = {tknq} ({decq} decimals)\n",
    "price       = {price} {price_convention}\n",
    "price (wei) = {price_wei} {price_convention_wei}\n",
    "\"\"\".strip())"
   ]
  },
  {
   "cell_type": "markdown",
   "id": "b90ac9e5-4061-4e77-8efc-c273b528bb7c",
   "metadata": {},
   "source": [
    "The next example is two tokens with the same decimality of 18, but with greatly differing prices. In this case we assume a price ratio of 1e-9, corresponding to ETH at 10,000 USD and SHIB at 1e-5 USD. Again, the smallest possible trade that allows for an integer ETH-wei is 1e9 SHIB."
   ]
  },
  {
   "cell_type": "code",
   "execution_count": 14,
   "id": "3c2d2260-cd2f-4810-9068-e4a2bf472a15",
   "metadata": {},
   "outputs": [
    {
     "name": "stdout",
     "output_type": "stream",
     "text": [
      "tknb        = SHIB (18 decimals)\n",
      "tknq        = ETH (18 decimals)\n",
      "price       = 1e-09 ETH per SHIB\n",
      "price (wei) = 1e-09 ETH-wei per SHIB-wei\n"
     ]
    }
   ],
   "source": [
    "tknb, tknq = \"SHIB\", \"ETH\"\n",
    "decb, decq = 18, 18\n",
    "price = 1e-4*1e-5\n",
    "price_wei = price * 10**decq / 10**decb\n",
    "price_convention = f\"{tknq} per {tknb}\"\n",
    "price_convention_wei = f\"{tknq}-wei per {tknb}-wei\"\n",
    "\n",
    "print(f\"\"\"\n",
    "tknb        = {tknb} ({decb} decimals)\n",
    "tknq        = {tknq} ({decq} decimals)\n",
    "price       = {price} {price_convention}\n",
    "price (wei) = {price_wei} {price_convention_wei}\n",
    "\"\"\".strip())"
   ]
  },
  {
   "cell_type": "markdown",
   "id": "649a668f-1f8e-4696-908a-80e1b65e5a92",
   "metadata": {},
   "source": [
    "Finally we combine those two: WBTC (8 decimals; assumed trading at 1e5=100,000 USD) versus SHIB (18 decimals; assumed trading at 1e-5USD). Here the smallest possible trade unit is 1e20 SHIB"
   ]
  },
  {
   "cell_type": "code",
   "execution_count": 16,
   "id": "47a5a5a7-5bbf-4f0e-8aff-be5eb49ac5eb",
   "metadata": {},
   "outputs": [
    {
     "name": "stdout",
     "output_type": "stream",
     "text": [
      "tknb        = SHIB (18 decimals)\n",
      "tknq        = WBTC (8 decimals)\n",
      "price       = 1.0000000000000002e-10 WBTC per SHIB\n",
      "price (wei) = 1.0000000000000002e-20 WBTC-wei per SHIB-wei\n"
     ]
    }
   ],
   "source": [
    "tknb, tknq = \"SHIB\", \"WBTC\"\n",
    "decb, decq = 18, 8\n",
    "price = 1e-5*1e-5\n",
    "price_wei = price * 10**decq / 10**decb\n",
    "price_convention = f\"{tknq} per {tknb}\"\n",
    "price_convention_wei = f\"{tknq}-wei per {tknb}-wei\"\n",
    "\n",
    "print(f\"\"\"\n",
    "tknb        = {tknb} ({decb} decimals)\n",
    "tknq        = {tknq} ({decq} decimals)\n",
    "price       = {price} {price_convention}\n",
    "price (wei) = {price_wei} {price_convention_wei}\n",
    "\"\"\".strip())"
   ]
  },
  {
   "cell_type": "markdown",
   "id": "ab82ac8f-b5f3-4572-a7ae-932c15a63f0b",
   "metadata": {},
   "source": [
    "## Calculating trade formulas using integer arithmetic\n",
    "\n",
    "The key to calculating the trade formulas -- ie to calculate how many token weis of one asset to exchange for the other asset -- is the _scaling factor_ we apply to the floating point numbers, therefore effectively converting them into integer numbers with an implied floating point. \n",
    "\n",
    "For reasons of computational efficiency, in practice we will usually choose a scaling factor as a power of 2, and our integer limit will be $2^{256} ~ 10^{77}$. For the purpose of this discussion we will choose a scaling factor that is a power of 10 instead, and we will assume 80 decimal integer limit, ie $10^{80}$"
   ]
  },
  {
   "cell_type": "code",
   "execution_count": 63,
   "id": "55538d5b-5998-4e91-8644-688e64a621fd",
   "metadata": {},
   "outputs": [
    {
     "data": {
      "text/plain": [
       "(77.06367888997919, 38.53183944498959)"
      ]
     },
     "execution_count": 63,
     "metadata": {},
     "output_type": "execute_result"
    }
   ],
   "source": [
    "log10(2**256), log10(2**128)"
   ]
  },
  {
   "cell_type": "markdown",
   "id": "12d59950-3d70-45c1-8e3b-08c68d5373ec",
   "metadata": {},
   "source": [
    "In order to understand how the scaling factor works, we assume a trade formula of $\\Delta y = B^2\\Delta x$ (ie the $A=0$ case of the Carbon trade formulas. Furthermore we assume the price is 2 x per y, therefore $B=\\sqrt{5}$. We want to know, how many y-wei we will get for 1m x-wei. The theoretical value of course is 5m. However, as shown below, the results of integer calculations with a different scaling factor $\\lambda$ can vary dramatically:\n",
    "\n",
    "- at $\\lambda=0$ (ie no scaling) we get $\\Delta y = 4m$, ie an effective price of 4 instead of 5\n",
    "- at $\\lambda=1$ our price improves already improves to 4.84\n",
    "- however, only at $\\lambda = 16$ we achieve the result that is correct at wei-level\n",
    "\n",
    "The increased precision comes at a steep cost however. We also show `maxn = int(B*ONE)**2 * dx` which is the maximum number used in this particular calculation. It becomes quick very quickly -- at $\\lambda = 16$ for example, `maxn` already has 39 digits. For this particular calculation our _256 bit_ aka $10^{80}$ is still sufficient. However, $2^{128}\\simeq 39$, so for 128 bit the factor of $\\lambda=16$ is already borderline for this calculation."
   ]
  },
  {
   "cell_type": "code",
   "execution_count": 60,
   "id": "1dd003ea-c38c-48df-9ffd-c6a48307c7d9",
   "metadata": {},
   "outputs": [
    {
     "name": "stdout",
     "output_type": "stream",
     "text": [
      "lam =  0 ==> dy = 4000000 [maxn =                                            4000000;  7 digits]\n",
      "lam =  1 ==> dy = 4840000 [maxn =                                          484000000;  9 digits]\n",
      "lam =  2 ==> dy = 4972900 [maxn =                                        49729000000; 11 digits]\n",
      "lam =  3 ==> dy = 4999696 [maxn =                                      4999696000000; 13 digits]\n",
      "lam =  4 ==> dy = 4999696 [maxn =                                    499969600000000; 15 digits]\n",
      "lam =  5 ==> dy = 4999964 [maxn =                                  49999643236000000; 17 digits]\n",
      "lam =  6 ==> dy = 4999995 [maxn =                                4999995628488999936; 19 digits]\n",
      "lam =  7 ==> dy = 4999999 [maxn =                              499999965341040967680; 21 digits]\n",
      "lam =  8 ==> dy = 4999999 [maxn =                            49999999664599204888576; 23 digits]\n",
      "lam =  9 ==> dy = 4999999 [maxn =                          4999999997764872628600832; 25 digits]\n",
      "lam = 10 ==> dy = 4999999 [maxn =                        499999999955372685098221568; 27 digits]\n",
      "lam = 11 ==> dy = 4999999 [maxn =                      49999999999562196574674092032; 29 digits]\n",
      "lam = 12 ==> dy = 4999999 [maxn =                    4999999999996467869940382171136; 31 digits]\n",
      "lam = 13 ==> dy = 4999999 [maxn =                  499999999999959908765330405588992; 33 digits]\n",
      "lam = 14 ==> dy = 4999999 [maxn =                49999999999999564933197321784524800; 35 digits]\n",
      "lam = 15 ==> dy = 4999999 [maxn =              4999999999999996817902277307532312576; 37 digits]\n",
      "lam = 16 ==> dy = 5000000 [maxn =            500000000000000120970310637630236131328; 39 digits]\n",
      "lam = 17 ==> dy = 5000000 [maxn =          50000000000000000310004322520389159747584; 41 digits]\n",
      "lam = 18 ==> dy = 5000000 [maxn =        5000000000000000069686058479707049565356032; 43 digits]\n",
      "lam = 19 ==> dy = 5000000 [maxn =      500000000000000044106807026532113203509329920; 45 digits]\n",
      "lam = 20 ==> dy = 5000000 [maxn =    50000000000000012333496954079645079705328025600; 47 digits]\n"
     ]
    }
   ],
   "source": [
    "dx = 1e6\n",
    "B  = sqrt(5)\n",
    "for lam in range(21):\n",
    "    ONE = 10**lam\n",
    "    dy = int( int(B*ONE)**2 * dx/ONE**2 )\n",
    "    maxn = int(B*ONE)**2 * dx\n",
    "    digs = ceil(log10(maxn))\n",
    "    print(f\"lam = {lam:2} ==> dy = {dy} [maxn = {int(maxn):50}; {digs:2} digits]\")"
   ]
  },
  {
   "cell_type": "markdown",
   "id": "8d1ca200-74f1-4196-b22e-0fde48964a82",
   "metadata": {},
   "source": [
    "In the example above we've had prices of unity order or magnitude, and we obtained relatively decent convergence from about $\\lambda = 3$ with a maximum term reaching 13 digits. We have reached full convergence from $\\lambda = 16$ at a calculation length of 40 decimal digits.\n",
    "\n",
    "Now we are looking at what happens if we we look at different price ranges. Clearly, large values of B do not pose an issue as they already generate a significant number of significant digits in the integer space even without use of a scaling factor. The issue lies on the other side: "
   ]
  },
  {
   "cell_type": "code",
   "execution_count": 73,
   "id": "c2fe67a2-7327-42a9-9127-92ba07ae741b",
   "metadata": {},
   "outputs": [
    {
     "name": "stdout",
     "output_type": "stream",
     "text": [
      "lam =  0 ==> dy = 0 [maxn =                                                  0;  0 digits]\n",
      "lam =  1 ==> dy = 0 [maxn =                                                  0;  0 digits]\n",
      "lam =  2 ==> dy = 0 [maxn =                                                  0;  0 digits]\n",
      "lam =  3 ==> dy = 0 [maxn =                                                  0;  0 digits]\n",
      "lam =  4 ==> dy = 0 [maxn =                                                  0;  0 digits]\n",
      "lam =  5 ==> dy = 20000000000 [maxn =                              200000000000000000000; 21 digits]\n",
      "lam =  6 ==> dy = 39200000000 [maxn =                            39200000000000000000000; 23 digits]\n",
      "lam =  7 ==> dy = 39762000000 [maxn =                          3976199999999999813353472; 25 digits]\n",
      "lam =  8 ==> dy = 39987920000 [maxn =                        399879199999999999521849344; 27 digits]\n",
      "lam =  9 ==> dy = 39999232800 [maxn =                      39999232799999998541984432128; 29 digits]\n",
      "lam = 10 ==> dy = 39999798482 [maxn =                    3999979848200000206746788298752; 31 digits]\n",
      "lam = 11 ==> dy = 39999968187 [maxn =                  399999681873800000304463099199488; 33 digits]\n",
      "lam = 12 ==> dy = 39999996471 [maxn =                39999996471644999022132456761327616; 35 digits]\n",
      "lam = 13 ==> dy = 39999999865 [maxn =              3999999986575747267999130166973431808; 37 digits]\n",
      "lam = 14 ==> dy = 39999999978 [maxn =            399999999788945570291189880675285073920; 39 digits]\n",
      "lam = 15 ==> dy = 39999999995 [maxn =          39999999995865117070019476000283832614912; 41 digits]\n",
      "lam = 16 ==> dy = 39999999999 [maxn =        3999999999982491993567237579075768828297216; 43 digits]\n",
      "lam = 17 ==> dy = 39999999999 [maxn =      399999999999946239363098435740464546465185792; 45 digits]\n",
      "lam = 18 ==> dy = 39999999999 [maxn =    39999999999994619816445392832300899782233161728; 47 digits]\n",
      "lam = 19 ==> dy = 39999999999 [maxn =  3999999999999971617750650238752832500806379896832; 49 digits]\n",
      "lam = 20 ==> dy = 39999999999 [maxn = 399999999999999947442329627810305956691918616264704; 51 digits]\n"
     ]
    }
   ],
   "source": [
    "dx = 2e20\n",
    "B  = sqrt(2e-10)\n",
    "for lam in range(21):\n",
    "    ONE = 10**lam\n",
    "    dy = int( int(B*ONE)**2 * dx/ONE**2 )\n",
    "    maxn = int(B*ONE)**2 * dx\n",
    "    digs = ceil(log10(maxn if maxn > 0 else 1))\n",
    "    print(f\"lam = {lam:2} ==> dy = {dy} [maxn = {int(maxn):50}; {digs:2} digits]\")"
   ]
  },
  {
   "cell_type": "code",
   "execution_count": null,
   "id": "75c95b99-4cea-419e-b582-ed6165516813",
   "metadata": {},
   "outputs": [],
   "source": [
    "## Virtual wrapping\n",
    "\n"
   ]
  }
 ],
 "metadata": {
  "jupytext": {
   "formats": "ipynb,auto:light"
  },
  "kernelspec": {
   "display_name": "Python 3",
   "language": "python",
   "name": "python3"
  },
  "language_info": {
   "codemirror_mode": {
    "name": "ipython",
    "version": 3
   },
   "file_extension": ".py",
   "mimetype": "text/x-python",
   "name": "python",
   "nbconvert_exporter": "python",
   "pygments_lexer": "ipython3",
   "version": "3.8.8"
  }
 },
 "nbformat": 4,
 "nbformat_minor": 5
}
