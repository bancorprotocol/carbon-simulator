{
 "cells": [
  {
   "cell_type": "code",
   "execution_count": 11,
   "id": "22b66169",
   "metadata": {},
   "outputs": [],
   "source": [
    "from carbon import CarbonSimulatorUI\n",
    "from carbon.simulators.carbon_simulator import (\n",
    "    __version__ as uiversion,\n",
    "    __date__ as uidate,\n",
    ")\n",
    "from jupyformat import *"
   ]
  },
  {
   "cell_type": "code",
   "execution_count": 12,
   "id": "3503203e",
   "metadata": {},
   "outputs": [
    {
     "name": "stdout",
     "output_type": "stream",
     "text": [
      "[carbon.ui] version 0.9.2 6/Nov/2022\n"
     ]
    },
    {
     "data": {
      "text/html": [
       "<div style='color:green; font-size: 120%'><p><strong>This notebook passed verification.</strong></p>\n",
       "<p>final trade numbers not checked!</p></div>"
      ],
      "text/plain": [
       "<IPython.core.display.HTML object>"
      ]
     },
     "execution_count": 12,
     "metadata": {},
     "output_type": "execute_result"
    }
   ],
   "source": [
    "print(\"[carbon.ui] version\", uiversion, uidate)\n",
    "jp(\"final trade numbers not checked!\")"
   ]
  },
  {
   "cell_type": "markdown",
   "id": "ec6ff430",
   "metadata": {},
   "source": [
    "# Carbon Simulation - Test 4\n",
    "\n",
    "Here we are simply checking that we can create multiple positions (this used to fail)"
   ]
  },
  {
   "cell_type": "code",
   "execution_count": 13,
   "id": "a2278c82",
   "metadata": {},
   "outputs": [
    {
     "name": "stdout",
     "output_type": "stream",
     "text": [
      "[__init__] pair=USDCETH, verbose=True, raiseonerror=False\n"
     ]
    },
    {
     "data": {
      "text/plain": [
       "CarbonSimulatorUI(<0 positions, 0 trades>, pair='USDCETH')"
      ]
     },
     "execution_count": 13,
     "metadata": {},
     "output_type": "execute_result"
    }
   ],
   "source": [
    "Sim = CarbonSimulatorUI(pair=\"USDCETH\", verbose=True)\n",
    "Sim"
   ]
  },
  {
   "cell_type": "code",
   "execution_count": 15,
   "id": "a776db7e",
   "metadata": {},
   "outputs": [
    {
     "data": {
      "text/plain": [
       "{}"
      ]
     },
     "execution_count": 15,
     "metadata": {},
     "output_type": "execute_result"
    }
   ],
   "source": [
    "Sim.orders"
   ]
  },
  {
   "cell_type": "code",
   "execution_count": 16,
   "id": "aeacb2d5",
   "metadata": {},
   "outputs": [
    {
     "name": "stdout",
     "output_type": "stream",
     "text": [
      "[add_sgl_pos] added\n",
      "tkn=ETH, amt=0.0005, p1=2700, p2=2800, pair=USDCETH\n",
      "[add_sgl_pos] added\n",
      "tkn=ETH, amt=0.0005, p1=2000, p2=2700, pair=USDCETH\n",
      "[add_sgl_pos] added\n",
      "tkn=USDC, amt=1000, p1=2700, p2=2800, pair=USDCETH\n",
      "[add_sgl_pos] added\n",
      "tkn=USDC, amt=1000, p1=2000, p2=2700, pair=USDCETH\n"
     ]
    },
    {
     "data": {
      "text/plain": [
       "{'success': True,\n",
       " 'orders':       pair tkn_name        y_int            y       p_high        p_low  \\\n",
       " 0  USDCETH      ETH     0.000500     0.000500  2800.000000  2700.000000   \n",
       " 1  USDCETH      ETH     0.000500     0.000500  2700.000000  2000.000000   \n",
       " 2  USDCETH     USDC  1000.000000  1000.000000  2800.000000  2700.000000   \n",
       " 3  USDCETH     USDC  1000.000000  1000.000000  2700.000000  2000.000000   \n",
       " \n",
       "    linked_to_id  \n",
       " 0             0  \n",
       " 1             1  \n",
       " 2             2  \n",
       " 3             3  }"
      ]
     },
     "execution_count": 16,
     "metadata": {},
     "output_type": "execute_result"
    }
   ],
   "source": [
    "Sim.add_sgl_pos(\"ETH\", .0005, 2700, 2800)\n",
    "Sim.add_sgl_pos(\"ETH\", .0005, 2000, 2700)\n",
    "\n",
    "Sim.add_sgl_pos(\"USDC\", 1000, 2700, 2800)\n",
    "Sim.add_sgl_pos(\"USDC\", 1000, 2000, 2700)\n"
   ]
  },
  {
   "cell_type": "code",
   "execution_count": 17,
   "id": "023a3850",
   "metadata": {},
   "outputs": [
    {
     "name": "stdout",
     "output_type": "stream",
     "text": [
      "[state.orders]\n",
      "+---+---------+----------+-------------+-------------+-------------+-------------+--------------+\n",
      "|   |  pair   | tkn_name |    y_int    |      y      |   p_high    |    p_low    | linked_to_id |\n",
      "+---+---------+----------+-------------+-------------+-------------+-------------+--------------+\n",
      "| 0 | USDCETH |   ETH    |  0.000500   |  0.000500   | 2800.000000 | 2700.000000 |      0       |\n",
      "| 1 | USDCETH |   ETH    |  0.000500   |  0.000500   | 2700.000000 | 2000.000000 |      1       |\n",
      "| 2 | USDCETH |   USDC   | 1000.000000 | 1000.000000 | 2800.000000 | 2700.000000 |      2       |\n",
      "| 3 | USDCETH |   USDC   | 1000.000000 | 1000.000000 | 2700.000000 | 2000.000000 |      3       |\n",
      "+---+---------+----------+-------------+-------------+-------------+-------------+--------------+\n",
      "\n",
      "[state.trades]\n",
      "\n"
     ]
    },
    {
     "data": {
      "text/plain": [
       "{'info': {'numpos': 4, 'numtrades': 0}, 'other': 'todo'}"
      ]
     },
     "execution_count": 17,
     "metadata": {},
     "output_type": "execute_result"
    }
   ],
   "source": [
    "Sim.state()"
   ]
  }
 ],
 "metadata": {
  "jupytext": {
   "formats": "ipynb,py:light"
  },
  "kernelspec": {
   "display_name": "Python 3",
   "language": "python",
   "name": "python3"
  },
  "language_info": {
   "codemirror_mode": {
    "name": "ipython",
    "version": 3
   },
   "file_extension": ".py",
   "mimetype": "text/x-python",
   "name": "python",
   "nbconvert_exporter": "python",
   "pygments_lexer": "ipython3",
   "version": "3.8.8"
  }
 },
 "nbformat": 4,
 "nbformat_minor": 5
}
