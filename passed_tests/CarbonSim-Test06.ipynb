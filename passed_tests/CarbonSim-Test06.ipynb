{
 "cells": [
  {
   "cell_type": "code",
   "execution_count": 1,
   "id": "22b66169",
   "metadata": {},
   "outputs": [],
   "source": [
    "from carbon import CarbonSimulatorUI\n",
    "from carbon.simulators.carbon_simulator import (\n",
    "    __version__ as uiversion,\n",
    "    __date__ as uidate,\n",
    ")\n",
    "from jupyformat import *"
   ]
  },
  {
   "cell_type": "code",
   "execution_count": 11,
   "id": "3503203e",
   "metadata": {},
   "outputs": [
    {
     "name": "stdout",
     "output_type": "stream",
     "text": [
      "[carbon.ui] version 0.9.5 8/Nov/2022\n"
     ]
    },
    {
     "data": {
      "text/html": [
       "<div style='color:green; font-size: 120%'><p><strong>This notebook passed verification.</strong></p></div>"
      ],
      "text/plain": [
       "<IPython.core.display.HTML object>"
      ]
     },
     "execution_count": 11,
     "metadata": {},
     "output_type": "execute_result"
    }
   ],
   "source": [
    "print(\"[carbon.ui] version\", uiversion, uidate)\n",
    "jp()"
   ]
  },
  {
   "cell_type": "markdown",
   "id": "ec6ff430",
   "metadata": {},
   "source": [
    "# Carbon Simulation - Test 6"
   ]
  },
  {
   "cell_type": "markdown",
   "id": "b8aa4c6f",
   "metadata": {},
   "source": [
    "We are not giving pair defaults in the Sim object, so the pair must be mentioned explicitly"
   ]
  },
  {
   "cell_type": "code",
   "execution_count": 3,
   "id": "a2278c82",
   "metadata": {},
   "outputs": [
    {
     "data": {
      "text/plain": [
       "CarbonSimulatorUI(<0 positions, 0 trades>, pair='None')"
      ]
     },
     "execution_count": 3,
     "metadata": {},
     "output_type": "execute_result"
    }
   ],
   "source": [
    "Sim = CarbonSimulatorUI(verbose=False, raiseonerror=False)\n",
    "Sim"
   ]
  },
  {
   "cell_type": "markdown",
   "id": "ddaae7ca",
   "metadata": {},
   "source": [
    "This fails, as it should because no pair has been provided"
   ]
  },
  {
   "cell_type": "code",
   "execution_count": 4,
   "id": "4b99bd5e",
   "metadata": {},
   "outputs": [
    {
     "data": {
      "text/plain": [
       "{'success': False,\n",
       " 'error': 'Trading pair must be provided either in function call or in simulation defaults',\n",
       " 'exception': ValueError('Trading pair must be provided either in function call or in simulation defaults')}"
      ]
     },
     "execution_count": 4,
     "metadata": {},
     "output_type": "execute_result"
    }
   ],
   "source": [
    "Sim.add_sgl_pos(\"ETH\", 10, 2000, 2000)"
   ]
  },
  {
   "cell_type": "markdown",
   "id": "36e2ef68",
   "metadata": {},
   "source": [
    "We now add a positions for testing purposes"
   ]
  },
  {
   "cell_type": "code",
   "execution_count": 5,
   "id": "a889621f",
   "metadata": {},
   "outputs": [
    {
     "data": {
      "text/html": [
       "<div>\n",
       "<style scoped>\n",
       "    .dataframe tbody tr th:only-of-type {\n",
       "        vertical-align: middle;\n",
       "    }\n",
       "\n",
       "    .dataframe tbody tr th {\n",
       "        vertical-align: top;\n",
       "    }\n",
       "\n",
       "    .dataframe thead th {\n",
       "        text-align: right;\n",
       "    }\n",
       "</style>\n",
       "<table border=\"1\" class=\"dataframe\">\n",
       "  <thead>\n",
       "    <tr style=\"text-align: right;\">\n",
       "      <th></th>\n",
       "      <th>id</th>\n",
       "      <th>pair</th>\n",
       "      <th>tkn_name</th>\n",
       "      <th>y_int</th>\n",
       "      <th>y</th>\n",
       "      <th>p_high</th>\n",
       "      <th>p_low</th>\n",
       "      <th>linked_to_id</th>\n",
       "    </tr>\n",
       "  </thead>\n",
       "  <tbody>\n",
       "    <tr>\n",
       "      <th>0</th>\n",
       "      <td>0</td>\n",
       "      <td>ETHUSDC</td>\n",
       "      <td>ETH</td>\n",
       "      <td>10.000000</td>\n",
       "      <td>10.000000</td>\n",
       "      <td>2000.000000</td>\n",
       "      <td>2000.000000</td>\n",
       "      <td>0</td>\n",
       "    </tr>\n",
       "  </tbody>\n",
       "</table>\n",
       "</div>"
      ],
      "text/plain": [
       "   id     pair tkn_name      y_int          y       p_high        p_low  \\\n",
       "0   0  ETHUSDC      ETH  10.000000  10.000000  2000.000000  2000.000000   \n",
       "\n",
       "   linked_to_id  \n",
       "0             0  "
      ]
     },
     "execution_count": 5,
     "metadata": {},
     "output_type": "execute_result"
    }
   ],
   "source": [
    "Sim.add_sgl_pos(\"ETH\", 10, 2000, 2000, \"ETHUSDC\")\n",
    "Sim.state()[\"orders\"]"
   ]
  },
  {
   "cell_type": "markdown",
   "id": "ee7b8c3c",
   "metadata": {},
   "source": [
    "Again this fails as it should because the pair is missing"
   ]
  },
  {
   "cell_type": "code",
   "execution_count": 6,
   "id": "734ab18e",
   "metadata": {},
   "outputs": [
    {
     "data": {
      "text/plain": [
       "{'success': False,\n",
       " 'error': 'Trading pair must be provided either in function call or in simulation defaults',\n",
       " 'exception': ValueError('Trading pair must be provided either in function call or in simulation defaults')}"
      ]
     },
     "execution_count": 6,
     "metadata": {},
     "output_type": "execute_result"
    }
   ],
   "source": [
    "Sim.amm_sells(\"ETH\", 10)"
   ]
  },
  {
   "cell_type": "markdown",
   "id": "5b586b35",
   "metadata": {},
   "source": [
    "We are now looking at the routing of this particular trade it will not be executed. We can see that by looking at the y values in the orders table"
   ]
  },
  {
   "cell_type": "code",
   "execution_count": 7,
   "id": "2b102d6e",
   "metadata": {},
   "outputs": [
    {
     "data": {
      "text/html": [
       "<div>\n",
       "<style scoped>\n",
       "    .dataframe tbody tr th:only-of-type {\n",
       "        vertical-align: middle;\n",
       "    }\n",
       "\n",
       "    .dataframe tbody tr th {\n",
       "        vertical-align: top;\n",
       "    }\n",
       "\n",
       "    .dataframe thead th {\n",
       "        text-align: right;\n",
       "    }\n",
       "</style>\n",
       "<table border=\"1\" class=\"dataframe\">\n",
       "  <thead>\n",
       "    <tr style=\"text-align: right;\">\n",
       "      <th></th>\n",
       "      <th>id</th>\n",
       "      <th>summary</th>\n",
       "      <th>amt1</th>\n",
       "      <th>amt2</th>\n",
       "      <th>tkn1</th>\n",
       "      <th>tkn2</th>\n",
       "      <th>pair</th>\n",
       "      <th>route_indexes</th>\n",
       "      <th>num_trades</th>\n",
       "      <th>price_avg</th>\n",
       "    </tr>\n",
       "  </thead>\n",
       "  <tbody>\n",
       "    <tr>\n",
       "      <th>0</th>\n",
       "      <td>0.1</td>\n",
       "      <td>route thru #0</td>\n",
       "      <td>10.0</td>\n",
       "      <td>20000.0</td>\n",
       "      <td>ETH</td>\n",
       "      <td>USDC</td>\n",
       "      <td>ETHUSDC</td>\n",
       "      <td>0</td>\n",
       "      <td>1</td>\n",
       "      <td>2000.0</td>\n",
       "    </tr>\n",
       "    <tr>\n",
       "      <th>0</th>\n",
       "      <td>0</td>\n",
       "      <td>10.0 ETH \\n traded for \\n20000.0 USDC \\n</td>\n",
       "      <td>10.0</td>\n",
       "      <td>20000.0</td>\n",
       "      <td>ETH</td>\n",
       "      <td>USDC</td>\n",
       "      <td>ETHUSDC</td>\n",
       "      <td>[0]</td>\n",
       "      <td>1</td>\n",
       "      <td>2000.0 USDC per ETH</td>\n",
       "    </tr>\n",
       "  </tbody>\n",
       "</table>\n",
       "</div>"
      ],
      "text/plain": [
       "    id                                   summary  amt1     amt2 tkn1  tkn2  \\\n",
       "0  0.1                             route thru #0  10.0  20000.0  ETH  USDC   \n",
       "0    0  10.0 ETH \\n traded for \\n20000.0 USDC \\n  10.0  20000.0  ETH  USDC   \n",
       "\n",
       "      pair route_indexes  num_trades            price_avg  \n",
       "0  ETHUSDC             0           1               2000.0  \n",
       "0  ETHUSDC           [0]           1  2000.0 USDC per ETH  "
      ]
     },
     "execution_count": 7,
     "metadata": {},
     "output_type": "execute_result"
    }
   ],
   "source": [
    "Sim.amm_sells(\"ETH\", 10, \"ETHUSDC\", execute=False)[\"trades\"]"
   ]
  },
  {
   "cell_type": "code",
   "execution_count": 8,
   "id": "6a1254a6",
   "metadata": {},
   "outputs": [
    {
     "data": {
      "text/html": [
       "<div>\n",
       "<style scoped>\n",
       "    .dataframe tbody tr th:only-of-type {\n",
       "        vertical-align: middle;\n",
       "    }\n",
       "\n",
       "    .dataframe tbody tr th {\n",
       "        vertical-align: top;\n",
       "    }\n",
       "\n",
       "    .dataframe thead th {\n",
       "        text-align: right;\n",
       "    }\n",
       "</style>\n",
       "<table border=\"1\" class=\"dataframe\">\n",
       "  <thead>\n",
       "    <tr style=\"text-align: right;\">\n",
       "      <th></th>\n",
       "      <th>id</th>\n",
       "      <th>pair</th>\n",
       "      <th>tkn_name</th>\n",
       "      <th>y_int</th>\n",
       "      <th>y</th>\n",
       "      <th>p_high</th>\n",
       "      <th>p_low</th>\n",
       "      <th>linked_to_id</th>\n",
       "    </tr>\n",
       "  </thead>\n",
       "  <tbody>\n",
       "    <tr>\n",
       "      <th>0</th>\n",
       "      <td>0</td>\n",
       "      <td>ETHUSDC</td>\n",
       "      <td>ETH</td>\n",
       "      <td>10.000000</td>\n",
       "      <td>10.000000</td>\n",
       "      <td>2000.000000</td>\n",
       "      <td>2000.000000</td>\n",
       "      <td>0</td>\n",
       "    </tr>\n",
       "  </tbody>\n",
       "</table>\n",
       "</div>"
      ],
      "text/plain": [
       "   id     pair tkn_name      y_int          y       p_high        p_low  \\\n",
       "0   0  ETHUSDC      ETH  10.000000  10.000000  2000.000000  2000.000000   \n",
       "\n",
       "   linked_to_id  \n",
       "0             0  "
      ]
     },
     "execution_count": 8,
     "metadata": {},
     "output_type": "execute_result"
    }
   ],
   "source": [
    "Sim.state()[\"orders\"]"
   ]
  },
  {
   "cell_type": "markdown",
   "id": "e5ae4457",
   "metadata": {},
   "source": [
    "We are now executing the trade for real and we see that the first `y=0` after execution"
   ]
  },
  {
   "cell_type": "code",
   "execution_count": 9,
   "id": "3a2fbff9",
   "metadata": {},
   "outputs": [
    {
     "data": {
      "text/html": [
       "<div>\n",
       "<style scoped>\n",
       "    .dataframe tbody tr th:only-of-type {\n",
       "        vertical-align: middle;\n",
       "    }\n",
       "\n",
       "    .dataframe tbody tr th {\n",
       "        vertical-align: top;\n",
       "    }\n",
       "\n",
       "    .dataframe thead th {\n",
       "        text-align: right;\n",
       "    }\n",
       "</style>\n",
       "<table border=\"1\" class=\"dataframe\">\n",
       "  <thead>\n",
       "    <tr style=\"text-align: right;\">\n",
       "      <th></th>\n",
       "      <th>id</th>\n",
       "      <th>summary</th>\n",
       "      <th>amt1</th>\n",
       "      <th>amt2</th>\n",
       "      <th>tkn1</th>\n",
       "      <th>tkn2</th>\n",
       "      <th>pair</th>\n",
       "      <th>route_indexes</th>\n",
       "      <th>num_trades</th>\n",
       "      <th>price_avg</th>\n",
       "    </tr>\n",
       "  </thead>\n",
       "  <tbody>\n",
       "    <tr>\n",
       "      <th>0</th>\n",
       "      <td>1.1</td>\n",
       "      <td>route thru #0</td>\n",
       "      <td>10.0</td>\n",
       "      <td>20000.0</td>\n",
       "      <td>ETH</td>\n",
       "      <td>USDC</td>\n",
       "      <td>ETHUSDC</td>\n",
       "      <td>0</td>\n",
       "      <td>1</td>\n",
       "      <td>2000.0</td>\n",
       "    </tr>\n",
       "    <tr>\n",
       "      <th>0</th>\n",
       "      <td>1</td>\n",
       "      <td>10.0 ETH \\n traded for \\n20000.0 USDC \\n</td>\n",
       "      <td>10.0</td>\n",
       "      <td>20000.0</td>\n",
       "      <td>ETH</td>\n",
       "      <td>USDC</td>\n",
       "      <td>ETHUSDC</td>\n",
       "      <td>[0]</td>\n",
       "      <td>1</td>\n",
       "      <td>2000.0 USDC per ETH</td>\n",
       "    </tr>\n",
       "  </tbody>\n",
       "</table>\n",
       "</div>"
      ],
      "text/plain": [
       "    id                                   summary  amt1     amt2 tkn1  tkn2  \\\n",
       "0  1.1                             route thru #0  10.0  20000.0  ETH  USDC   \n",
       "0    1  10.0 ETH \\n traded for \\n20000.0 USDC \\n  10.0  20000.0  ETH  USDC   \n",
       "\n",
       "      pair route_indexes  num_trades            price_avg  \n",
       "0  ETHUSDC             0           1               2000.0  \n",
       "0  ETHUSDC           [0]           1  2000.0 USDC per ETH  "
      ]
     },
     "execution_count": 9,
     "metadata": {},
     "output_type": "execute_result"
    }
   ],
   "source": [
    "Sim.amm_sells(\"ETH\", 10, \"ETHUSDC\")[\"trades\"]"
   ]
  },
  {
   "cell_type": "code",
   "execution_count": 10,
   "id": "f6438cb2",
   "metadata": {},
   "outputs": [
    {
     "data": {
      "text/html": [
       "<div>\n",
       "<style scoped>\n",
       "    .dataframe tbody tr th:only-of-type {\n",
       "        vertical-align: middle;\n",
       "    }\n",
       "\n",
       "    .dataframe tbody tr th {\n",
       "        vertical-align: top;\n",
       "    }\n",
       "\n",
       "    .dataframe thead th {\n",
       "        text-align: right;\n",
       "    }\n",
       "</style>\n",
       "<table border=\"1\" class=\"dataframe\">\n",
       "  <thead>\n",
       "    <tr style=\"text-align: right;\">\n",
       "      <th></th>\n",
       "      <th>id</th>\n",
       "      <th>pair</th>\n",
       "      <th>tkn_name</th>\n",
       "      <th>y_int</th>\n",
       "      <th>y</th>\n",
       "      <th>p_high</th>\n",
       "      <th>p_low</th>\n",
       "      <th>linked_to_id</th>\n",
       "    </tr>\n",
       "  </thead>\n",
       "  <tbody>\n",
       "    <tr>\n",
       "      <th>0</th>\n",
       "      <td>0</td>\n",
       "      <td>ETHUSDC</td>\n",
       "      <td>ETH</td>\n",
       "      <td>10.000000</td>\n",
       "      <td>0.000000</td>\n",
       "      <td>2000.000000</td>\n",
       "      <td>2000.000000</td>\n",
       "      <td>0</td>\n",
       "    </tr>\n",
       "  </tbody>\n",
       "</table>\n",
       "</div>"
      ],
      "text/plain": [
       "   id     pair tkn_name      y_int         y       p_high        p_low  \\\n",
       "0   0  ETHUSDC      ETH  10.000000  0.000000  2000.000000  2000.000000   \n",
       "\n",
       "   linked_to_id  \n",
       "0             0  "
      ]
     },
     "execution_count": 10,
     "metadata": {},
     "output_type": "execute_result"
    }
   ],
   "source": [
    "Sim.state()[\"orders\"]"
   ]
  },
  {
   "cell_type": "code",
   "execution_count": null,
   "id": "7825683d",
   "metadata": {},
   "outputs": [],
   "source": []
  }
 ],
 "metadata": {
  "jupytext": {
   "formats": "ipynb,py:light"
  },
  "kernelspec": {
   "display_name": "Python 3",
   "language": "python",
   "name": "python3"
  },
  "language_info": {
   "codemirror_mode": {
    "name": "ipython",
    "version": 3
   },
   "file_extension": ".py",
   "mimetype": "text/x-python",
   "name": "python",
   "nbconvert_exporter": "python",
   "pygments_lexer": "ipython3",
   "version": "3.8.8"
  }
 },
 "nbformat": 4,
 "nbformat_minor": 5
}
