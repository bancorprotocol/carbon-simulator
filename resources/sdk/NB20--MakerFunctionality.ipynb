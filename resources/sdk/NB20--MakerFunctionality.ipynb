{
 "cells": [
  {
   "cell_type": "code",
   "execution_count": 1,
   "id": "a0855cc0-2db7-4341-b0ef-fcb343ca3636",
   "metadata": {},
   "outputs": [
    {
     "name": "stdout",
     "output_type": "stream",
     "text": [
      "CarbonSDK v0.9 (11/Mar/2023)\n",
      "v18.14.2\n"
     ]
    }
   ],
   "source": [
    "from carbon.sdk import CarbonSDK, Tokens as T\n",
    "from carbon import CarbonOrderUI, CarbonSimulatorUI\n",
    "from carbon.helpers.widgets import CheckboxManager, DropdownManager, PcSliderManager\n",
    "from matplotlib import pyplot as plt\n",
    "import numpy as np\n",
    "print(\"{0.__name__} v{0.__VERSION__} ({0.__DATE__})\".format(CarbonSDK))\n",
    "!node --version"
   ]
  },
  {
   "cell_type": "markdown",
   "id": "3650b16b-d020-4063-84c6-ab9fb7556552",
   "metadata": {},
   "source": [
    "# Maker Functionality [NB20]\n",
    "\n",
    "\n",
    "In order to start the server, please run\n",
    "\n",
    "    source /Volumes/Private/bin/sdkserver\n",
    "    node server/sdkserver.mjs"
   ]
  },
  {
   "cell_type": "code",
   "execution_count": 2,
   "id": "15bfcae7-1124-4a6b-b12f-26d2f9f8173a",
   "metadata": {},
   "outputs": [
    {
     "name": "stdout",
     "output_type": "stream",
     "text": [
      "0x02aA0c42702110747c4cEa3C4Daf4D6cF701a6Ee\n"
     ]
    },
    {
     "data": {
      "text/plain": [
       "'Carbon SDK v0.9 (7/Mar/2022)'"
      ]
     },
     "execution_count": 2,
     "metadata": {},
     "output_type": "execute_result"
    }
   ],
   "source": [
    "SDK = CarbonSDK(disclaimer=False, verbose=False, Tokens=T)\n",
    "pairs, pairs_s = SDK.pairs(inclstr=True)\n",
    "sdkaddr = SDK.addr()\n",
    "print(sdkaddr)\n",
    "SDK.version().get(\"msg\")"
   ]
  },
  {
   "cell_type": "markdown",
   "id": "6ef9dedd-8b0f-48df-9b82-3c9b3da5e2c6",
   "metadata": {},
   "source": [
    "## Pair selection"
   ]
  },
  {
   "cell_type": "code",
   "execution_count": 3,
   "id": "0d6e1623-02d3-40a8-8d1f-92ce2ad70406",
   "metadata": {},
   "outputs": [
    {
     "data": {
      "application/vnd.jupyter.widget-view+json": {
       "model_id": "584e07795c234d5fa361b2b7ca3823db",
       "version_major": 2,
       "version_minor": 0
      },
      "text/plain": [
       "Dropdown(options=(('USDC/ETH', 'USDC/ETH'), ('DAI/USDC', 'DAI/USDC')), value='USDC/ETH')"
      ]
     },
     "metadata": {},
     "output_type": "display_data"
    }
   ],
   "source": [
    "try:\n",
    "    pairs_sel = [s.strip() for s in pairs_s.split(\",\")]\n",
    "    pairs_w()\n",
    "except:\n",
    "    pairs_w = DropdownManager(pairs_sel, defaultval=\"USDC/ETH\")\n",
    "    pairs_w()"
   ]
  },
  {
   "cell_type": "code",
   "execution_count": 4,
   "id": "db1bc0de-4a0f-4d9b-93cf-a484a757e7d2",
   "metadata": {},
   "outputs": [
    {
     "data": {
      "application/vnd.jupyter.widget-view+json": {
       "model_id": "d8936ca0cb9240e99e610d2277623141",
       "version_major": 2,
       "version_minor": 0
      },
      "text/plain": [
       "VBox(children=(Checkbox(value=True, description='inverse'),))"
      ]
     },
     "metadata": {},
     "output_type": "display_data"
    }
   ],
   "source": [
    "try:\n",
    "    inverse_w()\n",
    "except:\n",
    "    inverse_w = CheckboxManager([\"inverse\"], values=[1])\n",
    "    inverse_w()"
   ]
  },
  {
   "cell_type": "code",
   "execution_count": 5,
   "id": "2f3cfec2-11a0-445f-90a1-9a9674ef79e3",
   "metadata": {},
   "outputs": [
    {
     "data": {
      "text/plain": [
       "'ETH/USDC'"
      ]
     },
     "execution_count": 5,
     "metadata": {},
     "output_type": "execute_result"
    }
   ],
   "source": [
    "tknb,tknq = pairs_w.value.split(\"/\")\n",
    "if inverse_w.values[0]:\n",
    "    tknb,tknq = tknq, tknb\n",
    "pair = f\"{tknb}/{tknq}\"\n",
    "pair"
   ]
  },
  {
   "cell_type": "markdown",
   "id": "e33d2e12-753c-474e-affe-dc34ac03ec97",
   "metadata": {},
   "source": [
    "## Market information"
   ]
  },
  {
   "cell_type": "code",
   "execution_count": 6,
   "id": "6a394fd8-8262-4cef-a8a9-cf421f2e2a48",
   "metadata": {},
   "outputs": [
    {
     "data": {
      "text/plain": [
       "MarketByPair(pair='ETH/USDC', bestBid=1989.9999997673926, bestAsk=2005.0000000000175, liqBid=4204.383388, liqAsk=9.720140130459825, lastBid=899.9999999318561, lastAsk=3000.0000000000327)"
      ]
     },
     "execution_count": 6,
     "metadata": {},
     "output_type": "execute_result"
    }
   ],
   "source": [
    "m = SDK.mGetMarketByPair(pair=pair)\n",
    "m"
   ]
  },
  {
   "cell_type": "code",
   "execution_count": 7,
   "id": "dc47a1be-c1be-4f68-96a9-f0db1e2902ef",
   "metadata": {},
   "outputs": [
    {
     "data": {
      "text/plain": [
       "(900.0, 1990.0, 1997.5, 2005.0, 3000.0)"
      ]
     },
     "execution_count": 7,
     "metadata": {},
     "output_type": "execute_result"
    }
   ],
   "source": [
    "SDK.roundsd(m.lastBid,6), SDK.roundsd(m.bestBid,6), SDK.roundsd(m.mid,6), SDK.roundsd(m.bestAsk,6), SDK.roundsd(m.lastAsk,6)"
   ]
  },
  {
   "cell_type": "code",
   "execution_count": 8,
   "id": "d4256722-3f8d-401d-972e-87cd8d10662c",
   "metadata": {},
   "outputs": [
    {
     "data": {
      "text/plain": [
       "(4204.0, 'USDC', 9.72, 'ETH')"
      ]
     },
     "execution_count": 8,
     "metadata": {},
     "output_type": "execute_result"
    }
   ],
   "source": [
    "(SDK.roundsd(m.liqBid,4), m.liqBidUnit, SDK.roundsd(m.liqAsk,4), m.liqAskUnit)"
   ]
  },
  {
   "cell_type": "markdown",
   "id": "c1e8d034-468b-47d7-80bd-d702885a8b60",
   "metadata": {},
   "source": [
    "## Create strategy"
   ]
  },
  {
   "cell_type": "markdown",
   "id": "37cbe9f7-3262-47a6-8be5-7ba5509d5331",
   "metadata": {},
   "source": [
    "#### `mCreateStrategy`"
   ]
  },
  {
   "cell_type": "code",
   "execution_count": 9,
   "id": "8adff07c-fa39-4934-8304-19fb0b334267",
   "metadata": {},
   "outputs": [
    {
     "data": {
      "application/vnd.jupyter.widget-view+json": {
       "model_id": "319700689e8f4157944f16815de0d10d",
       "version_major": 2,
       "version_minor": 0
      },
      "text/plain": [
       "VBox(children=(FloatSlider(value=0.0, continuous_update=False, description='buyStart', readout_format='.1f'), …"
      ]
     },
     "metadata": {},
     "output_type": "display_data"
    }
   ],
   "source": [
    "try:\n",
    "    strat_w()\n",
    "except:\n",
    "    strat_w = PcSliderManager(choices=[\"buyStart\", \"buyEnd\", \"sellStart\", \"sellEnd\"], values=[0, 1, 0, 1])\n",
    "    strat_w()"
   ]
  },
  {
   "cell_type": "code",
   "execution_count": 10,
   "id": "829b2047-d296-4c64-a7fc-5ef2ea51c411",
   "metadata": {},
   "outputs": [
    {
     "name": "stdout",
     "output_type": "stream",
     "text": [
      "pair = ETH/USDC, TknB=ETH, TknQ=USDC\n",
      "buy  ETH 1990.0 down to 900.0   [1 USDC] \n",
      "sell ETH 2005.0      to 3000.0   [100 ETH] \n"
     ]
    }
   ],
   "source": [
    "sellAmountTknB =     1\n",
    "buyAmountTknQ  =   100\n",
    "x = strat_w.values\n",
    "print(f\"pair = {pair}, TknB={tknb}, TknQ={tknq}\")\n",
    "print(f\"buy  {tknb} {SDK.roundsd(m.ibid(x[0]),6)} down to {SDK.roundsd(m.ibid(x[1]),6)}   [{sellAmountTknB} {tknq}] \")\n",
    "print(f\"sell {tknb} {SDK.roundsd(m.iask(x[2]),6)}      to {SDK.roundsd(m.iask(x[3]),6)}   [{buyAmountTknQ} {tknb}] \")"
   ]
  },
  {
   "cell_type": "code",
   "execution_count": 11,
   "id": "3f44e924-cdbe-4053-b864-a64dddffa795",
   "metadata": {},
   "outputs": [
    {
     "data": {
      "text/plain": [
       "{'data': '0xf727473a000000000000000000000000eeeeeeeeeeeeeeeeeeeeeeeeeeeeeeeeeeeeeeee000000000000000000000000a0b86991c6218b36c1d19d4a2e9eb0ce3606eb480000000000000000000000000000000000000000000000000de0b6b3a76400000000000000000000000000000000000000000000000000000de0b6b3a7640000000000000000000000000000000000000000000000000000000cfeb5cd604e38000000000000000000000000000000000000000000000000000f8ea2d65093c40000000000000000000000000000000000000000000000000000000005f5e1000000000000000000000000000000000000000000000000000000000005f5e10000000000000000000000000000000000000000000000000000000000f51af6d200000000000000000000000000000000000000000000000000000001f75104d4',\n",
       " 'to': '0x955a85437664fE809563dd0fA91B1590b159e1e6',\n",
       " 'gasLimit': {'type': 'BigNumber', 'hex': '0x3b9ac9ff'},\n",
       " 'value': {'type': 'BigNumber', 'hex': '0x0de0b6b3a7640000'}}"
      ]
     },
     "execution_count": 11,
     "metadata": {},
     "output_type": "execute_result"
    }
   ],
   "source": [
    "x = strat_w.values\n",
    "tx = SDK.mCreateStrategy(\n",
    "    pair, \n",
    "    buyRangeStart  = m.ibid(x[0]), buyRangeEnd  = m.ibid(x[1]), buyAmountTknQ = buyAmountTknQ, \n",
    "    sellRangeStart = m.iask(x[2]), sellRangeEnd = m.iask(x[3]), sellAmountTknB = sellAmountTknB, \n",
    "    overrides = None)\n",
    "tx"
   ]
  },
  {
   "cell_type": "code",
   "execution_count": 12,
   "id": "a7009668-8b6e-4479-94fc-876f494d57fd",
   "metadata": {},
   "outputs": [
    {
     "data": {
      "application/vnd.jupyter.widget-view+json": {
       "model_id": "c47f884c3a324d8292bc5b133158e338",
       "version_major": 2,
       "version_minor": 0
      },
      "text/plain": [
       "VBox(children=(Checkbox(value=False, description='submit'),))"
      ]
     },
     "metadata": {},
     "output_type": "display_data"
    }
   ],
   "source": [
    "try:\n",
    "    submit_w()\n",
    "except:\n",
    "    submit_w = CheckboxManager([\"submit\"], values=[0])\n",
    "    submit_w()"
   ]
  },
  {
   "cell_type": "code",
   "execution_count": 22,
   "id": "441829ae-3298-4d8d-8e49-20961b64077c",
   "metadata": {},
   "outputs": [
    {
     "data": {
      "text/plain": [
       "{'txReceipt': {'hash': '0x8747099a98a7f218cc8c578bd9c56fd1c097839f33440ea4cbc4544c0e31cb01',\n",
       "  'nonce': None,\n",
       "  'gasLimit': None,\n",
       "  'gasPrice': None,\n",
       "  'data': None,\n",
       "  'value': None,\n",
       "  'chainId': None,\n",
       "  'confirmations': 0,\n",
       "  'from': None}}"
      ]
     },
     "execution_count": 22,
     "metadata": {},
     "output_type": "execute_result"
    }
   ],
   "source": [
    "if submit_w.values[0]: \n",
    "    r = SDK.signsubmittx(tx, sign=True)\n",
    "else:\n",
    "    r = \"check box above to submit\"\n",
    "r"
   ]
  },
  {
   "cell_type": "markdown",
   "id": "a9d145ec-f422-41f8-a8ca-0b4f665fd983",
   "metadata": {},
   "source": [
    "## Review strategies"
   ]
  },
  {
   "cell_type": "code",
   "execution_count": 14,
   "id": "74127cd7-79b3-4d42-8834-cf9d9e139032",
   "metadata": {
    "tags": []
   },
   "outputs": [
    {
     "name": "stdout",
     "output_type": "stream",
     "text": [
      "retrieved strategies 2\n"
     ]
    },
    {
     "data": {
      "text/plain": [
       "Strategy(sid=3, baseToken='ETH', quoteToken='USDC', buyPriceLow=1500.0, buyPriceHigh=1600.0, buyBudget=240.26621, sellPriceLow=2500.0, sellPriceHigh=2600.0, sellBudget=1.1650563, encoded=EncodedStrategy(sid=3, order0=EncodedOrder(token='ETH', y=1165056265830556738, z=1165056265830556738, A=2746792519209792, B=4390587127987123), order1=EncodedOrder(token='USDC', y=240266208, z=500000000, A=357520097, B=10901478971)))"
      ]
     },
     "execution_count": 14,
     "metadata": {},
     "output_type": "execute_result"
    }
   ],
   "source": [
    "data = SDK.mGetUserStrategies(user=sdkaddr)\n",
    "print(\"retrieved strategies\", len(data))\n",
    "data[0]"
   ]
  },
  {
   "cell_type": "code",
   "execution_count": 15,
   "id": "d21b2d53-c248-40a1-ba04-bb141ca73806",
   "metadata": {},
   "outputs": [
    {
     "name": "stdout",
     "output_type": "stream",
     "text": [
      "selling USDC @ (625000000.0473222..666666666.7577751)  [TKNwei] per USDCwei\n",
      "order1: buying  ETH @ (1.5999999998788553e-09..1.4999999997950062e-09) USDCwei per ETHwei\n",
      "order1: buying  ETH @ (1600.0..1500.0) USDC per ETH\n"
     ]
    },
    {
     "data": {
      "text/plain": [
       "('buying ETH @',\n",
       " 1.5999999998788553e-09,\n",
       " 1.4999999997950062e-09,\n",
       " 'USDC per ETH')"
      ]
     },
     "execution_count": 15,
     "metadata": {},
     "output_type": "execute_result"
    }
   ],
   "source": [
    "d, de=data[0], data[0].encoded\n",
    "print(de.order1.descr)\n",
    "print(de.descr[1])\n",
    "print(d.descr[1])\n",
    "f\"buying {d.baseToken} @\", de.order1.p_start, de.order1.p_end, f\"{d.quoteToken} per {d.baseToken}\""
   ]
  },
  {
   "cell_type": "code",
   "execution_count": 16,
   "id": "71371231-8812-449d-b696-f82084051b7b",
   "metadata": {},
   "outputs": [
    {
     "name": "stdout",
     "output_type": "stream",
     "text": [
      "selling ETH @ (2.5e-09..2.6000000000000117e-09)  [TKNwei] per ETHwei\n",
      "order0: selling ETH @ (2.5e-09..2.6000000000000117e-09) USDCwei per ETHwei\n",
      "order0: selling ETH @ (2500.0..2600.0) USDC per ETH\n"
     ]
    },
    {
     "data": {
      "text/plain": [
       "('selling ETH @', 2.5e-09, 2.6000000000000117e-09, 'USDC per ETH')"
      ]
     },
     "execution_count": 16,
     "metadata": {},
     "output_type": "execute_result"
    }
   ],
   "source": [
    "d, de=data[0], data[0].encoded\n",
    "print(de.order0.descr)\n",
    "print(de.descr[0])\n",
    "print(d.descr[0])\n",
    "f\"selling {d.baseToken} @\", 1/de.order0.p_start, 1/de.order0.p_end, f\"{d.quoteToken} per {d.baseToken}\""
   ]
  },
  {
   "cell_type": "code",
   "execution_count": 17,
   "id": "09907be8-3e8b-4f40-940f-ddf0201c9fda",
   "metadata": {},
   "outputs": [
    {
     "name": "stdout",
     "output_type": "stream",
     "text": [
      "Number of strategies: 2\n"
     ]
    }
   ],
   "source": [
    "print(f\"Number of strategies: {len(data)}\")"
   ]
  },
  {
   "cell_type": "code",
   "execution_count": 18,
   "id": "a9374d39-9c72-43b8-bdfd-cfe36911f6d3",
   "metadata": {},
   "outputs": [],
   "source": [
    "# Sim = CarbonSimulatorUI(verbose=False, raiseonerror=True)\n",
    "# for d in data:\n",
    "#     Sim.add_fromsdk(d, 6)\n",
    "# Sim.state()[\"orders\"]"
   ]
  },
  {
   "cell_type": "markdown",
   "id": "5841c26f-9646-4521-bf8d-d331c85e4c65",
   "metadata": {},
   "source": [
    "## Delete strategies"
   ]
  },
  {
   "cell_type": "code",
   "execution_count": 19,
   "id": "0b4cbfe3-c074-4ec2-a225-bea0813a8ade",
   "metadata": {},
   "outputs": [
    {
     "data": {
      "application/vnd.jupyter.widget-view+json": {
       "model_id": "85d0c76623de497594759df74aee50b5",
       "version_major": 2,
       "version_minor": 0
      },
      "text/plain": [
       "VBox(children=(Checkbox(value=False, description='3'), Checkbox(value=False, description='2')))"
      ]
     },
     "metadata": {},
     "output_type": "display_data"
    }
   ],
   "source": [
    "stratids = [d[\"id\"] for d in data]\n",
    "try:\n",
    "    delete_w()\n",
    "    assert len(data) == lendata\n",
    "except:\n",
    "    delete_w = CheckboxManager(stratids)\n",
    "    lendata=len(data)\n",
    "    delete_w()"
   ]
  },
  {
   "cell_type": "code",
   "execution_count": 20,
   "id": "e184cf0d-9b99-4daa-9a7f-770f0e865831",
   "metadata": {},
   "outputs": [
    {
     "data": {
      "application/vnd.jupyter.widget-view+json": {
       "model_id": "472c5c916a784dc08ff988076818b0f6",
       "version_major": 2,
       "version_minor": 0
      },
      "text/plain": [
       "VBox(children=(Checkbox(value=False, description='submit delete'),))"
      ]
     },
     "metadata": {},
     "output_type": "display_data"
    }
   ],
   "source": [
    "try:\n",
    "    submitd_w()\n",
    "except:\n",
    "    submitd_w = CheckboxManager([\"submit delete\"], values=[0])\n",
    "    submitd_w()"
   ]
  },
  {
   "cell_type": "code",
   "execution_count": 21,
   "id": "7aeeecf3-3a15-47e8-8c74-47d804df89ce",
   "metadata": {},
   "outputs": [],
   "source": [
    "for cid, ds in zip(stratids, delete_w.values):\n",
    "    if ds:\n",
    "        data = SDK.deleteStrategy(strategyId=cid)\n",
    "        #print(data)\n",
    "        if submitd_w.values[0]:\n",
    "            result = SDK.signsubmittx(data, sign=True)\n",
    "            print(f\"Deleteting strategy {cid}: \", result)\n",
    "            delete_w = None\n",
    "        else:\n",
    "            print(f\"Would delete strategy {cid} if box was ticked \")"
   ]
  },
  {
   "cell_type": "code",
   "execution_count": null,
   "id": "6cce5546-d1e6-43f9-a4e0-ffcff1658de1",
   "metadata": {
    "lines_to_next_cell": 2
   },
   "outputs": [],
   "source": []
  }
 ],
 "metadata": {
  "jupytext": {
   "encoding": "# -*- coding: utf-8 -*-",
   "formats": "ipynb,py:light"
  },
  "kernelspec": {
   "display_name": "Python 3",
   "language": "python",
   "name": "python3"
  },
  "language_info": {
   "codemirror_mode": {
    "name": "ipython",
    "version": 3
   },
   "file_extension": ".py",
   "mimetype": "text/x-python",
   "name": "python",
   "nbconvert_exporter": "python",
   "pygments_lexer": "ipython3",
   "version": "3.8.8"
  },
  "toc-autonumbering": false,
  "toc-showcode": false,
  "toc-showmarkdowntxt": false
 },
 "nbformat": 4,
 "nbformat_minor": 5
}
