{
 "cells": [
  {
   "cell_type": "code",
   "execution_count": 1,
   "id": "22b66169",
   "metadata": {},
   "outputs": [
    {
     "name": "stdout",
     "output_type": "stream",
     "text": [
      "[carbon] version 1.1 19/Nov/2022\n"
     ]
    }
   ],
   "source": [
    "from carbon import CarbonSimulatorUI, __version__, __date__\n",
    "from collections import namedtuple\n",
    "print(\"[carbon] version\", __version__, __date__)"
   ]
  },
  {
   "cell_type": "markdown",
   "id": "ec6ff430",
   "metadata": {},
   "source": [
    "# Prices and Slippage"
   ]
  },
  {
   "cell_type": "markdown",
   "id": "7f4b2e69",
   "metadata": {},
   "source": [
    "## Introduction and definitions\n",
    "\n",
    "This workbook serves to define certain quantities, and explains how to exactly compute them. As context, we are operating within an AMM framework where $x,y$ are the respective token balances. Depending on the price convention of the pair, prices are either expressed in $x/y$ or in $y/x$. We here assume the latter. For the opposite convention, $x,y$ need to be reversed in _all_ formulas below.\n",
    "\n",
    "- **Effective Price**. The _effective price_ is the overall price obtained by a specific trade of a specific size. Specifically, $P_{eff}(\\Delta y) = - \\Delta x / \\Delta y$. Note that prices are always positive but we assume that outflows (from the AMM point of view) have a negative sign, inflows a positive one.\n",
    "\n",
    "- **Marginal Price** or **Current Price**. The _marginal price_ aka _current price_ is the effective price for a very small trade; formally we define that the marginal / current price is given as $P_{marg}^\\pm = P_{curr}^\\pm = P_{eff}(\\Delta x^\\pm \\rightarrow 0^\\pm)$; the $\\pm$ sign (that we will omit below) reminds us that the marginal price will be different on the bid and on the ask side.\n",
    "\n",
    "- **Price Impact**. We define* the _price impact_ as the difference (or percentace change) of the marginal prices before or after that trade; formally we define it as $P_{imp}^\\pm = P_{marg;post}^\\pm - P_{marg;pre}^\\pm$ and $P_{imp;\\%}^\\pm = (P_{marg;post}^\\pm - P_{marg;pre})^\\pm/P_{marg;pre}^\\pm$\n",
    "\n",
    "- **Slippage**. We define* _slippage_ as the difference between the marginal and the effective price of a trade of a specific size, again either as number or as percentage; specifically, $P_{slip}^\\pm(\\Delta x) = P_{eff}^\\pm(\\Delta x) - P_{marg}^\\pm$ and $P_{slip\\%}^\\pm = (P_{eff}^\\pm(\\Delta x) - P_{marg})^\\pm/P_{marg}^\\pm$"
   ]
  },
  {
   "cell_type": "markdown",
   "id": "fee689ef",
   "metadata": {},
   "source": [
    "## Calculations"
   ]
  },
  {
   "cell_type": "markdown",
   "id": "78982211",
   "metadata": {},
   "source": [
    "### Setup"
   ]
  },
  {
   "cell_type": "code",
   "execution_count": 2,
   "id": "1a46ad26",
   "metadata": {},
   "outputs": [
    {
     "data": {
      "text/plain": [
       "CarbonSimulatorUI(<0 orders, 0 trades>, pair='ETHEURC')"
      ]
     },
     "execution_count": 2,
     "metadata": {},
     "output_type": "execute_result"
    }
   ],
   "source": [
    "Sim = CarbonSimulatorUI(verbose=False, raiseonerror=False, pair=\"ETHEURC\")\n",
    "Sim"
   ]
  },
  {
   "cell_type": "markdown",
   "id": "9c149fd8",
   "metadata": {},
   "source": [
    "Add the **ask** positions (AMM sells ETH)"
   ]
  },
  {
   "cell_type": "code",
   "execution_count": 3,
   "id": "6f1440e3",
   "metadata": {},
   "outputs": [
    {
     "data": {
      "text/plain": [
       "CarbonSimulatorUI(<5 orders, 0 trades>, pair='ETHEURC')"
      ]
     },
     "execution_count": 3,
     "metadata": {},
     "output_type": "execute_result"
    }
   ],
   "source": [
    "Sim.add_order(\"ETH\", 10, 2000, 2200)\n",
    "Sim.add_order(\"ETH\", 10, 2005, 2010)\n",
    "Sim.add_order(\"ETH\", 20, 2000, 2050)\n",
    "Sim.add_order(\"ETH\", 30, 2020, 2080)\n",
    "Sim.add_order(\"ETH\", 40, 2030, 2130)\n",
    "Sim"
   ]
  },
  {
   "cell_type": "markdown",
   "id": "ab8189f1",
   "metadata": {},
   "source": [
    "Add the **bid** positions (AMM buys ETH)"
   ]
  },
  {
   "cell_type": "code",
   "execution_count": 4,
   "id": "02c955e4",
   "metadata": {},
   "outputs": [
    {
     "data": {
      "text/plain": [
       "CarbonSimulatorUI(<10 orders, 0 trades>, pair='ETHEURC')"
      ]
     },
     "execution_count": 4,
     "metadata": {},
     "output_type": "execute_result"
    }
   ],
   "source": [
    "Sim.add_order(\"EURC\", 10000, 1000, 800)\n",
    "Sim.add_order(\"EURC\", 10000, 995, 990)\n",
    "Sim.add_order(\"EURC\", 20000, 995, 850)\n",
    "Sim.add_order(\"EURC\", 30000, 950, 920)\n",
    "Sim.add_order(\"EURC\", 40000, 970, 870)\n",
    "Sim"
   ]
  },
  {
   "cell_type": "markdown",
   "id": "bf9112ee",
   "metadata": {},
   "source": [
    "This gives us the following order book"
   ]
  },
  {
   "cell_type": "code",
   "execution_count": 5,
   "id": "cd7c5836",
   "metadata": {},
   "outputs": [
    {
     "data": {
      "text/html": [
       "<div>\n",
       "<style scoped>\n",
       "    .dataframe tbody tr th:only-of-type {\n",
       "        vertical-align: middle;\n",
       "    }\n",
       "\n",
       "    .dataframe tbody tr th {\n",
       "        vertical-align: top;\n",
       "    }\n",
       "\n",
       "    .dataframe thead th {\n",
       "        text-align: right;\n",
       "    }\n",
       "</style>\n",
       "<table border=\"1\" class=\"dataframe\">\n",
       "  <thead>\n",
       "    <tr style=\"text-align: right;\">\n",
       "      <th></th>\n",
       "      <th>id</th>\n",
       "      <th>pair</th>\n",
       "      <th>tkn</th>\n",
       "      <th>y_int</th>\n",
       "      <th>y</th>\n",
       "      <th>y_unit</th>\n",
       "      <th>p_start</th>\n",
       "      <th>p_end</th>\n",
       "      <th>p_marg</th>\n",
       "      <th>p_unit</th>\n",
       "      <th>lid</th>\n",
       "    </tr>\n",
       "  </thead>\n",
       "  <tbody>\n",
       "    <tr>\n",
       "      <th>0</th>\n",
       "      <td>0</td>\n",
       "      <td>ETHEURC</td>\n",
       "      <td>ETH</td>\n",
       "      <td>10.0</td>\n",
       "      <td>10.0</td>\n",
       "      <td>ETH</td>\n",
       "      <td>2000.0</td>\n",
       "      <td>2200.0</td>\n",
       "      <td>2000.0</td>\n",
       "      <td>EURC per ETH</td>\n",
       "      <td>0</td>\n",
       "    </tr>\n",
       "    <tr>\n",
       "      <th>1</th>\n",
       "      <td>1</td>\n",
       "      <td>ETHEURC</td>\n",
       "      <td>ETH</td>\n",
       "      <td>10.0</td>\n",
       "      <td>10.0</td>\n",
       "      <td>ETH</td>\n",
       "      <td>2005.0</td>\n",
       "      <td>2010.0</td>\n",
       "      <td>2005.0</td>\n",
       "      <td>EURC per ETH</td>\n",
       "      <td>1</td>\n",
       "    </tr>\n",
       "    <tr>\n",
       "      <th>2</th>\n",
       "      <td>2</td>\n",
       "      <td>ETHEURC</td>\n",
       "      <td>ETH</td>\n",
       "      <td>20.0</td>\n",
       "      <td>20.0</td>\n",
       "      <td>ETH</td>\n",
       "      <td>2000.0</td>\n",
       "      <td>2050.0</td>\n",
       "      <td>2000.0</td>\n",
       "      <td>EURC per ETH</td>\n",
       "      <td>2</td>\n",
       "    </tr>\n",
       "    <tr>\n",
       "      <th>3</th>\n",
       "      <td>3</td>\n",
       "      <td>ETHEURC</td>\n",
       "      <td>ETH</td>\n",
       "      <td>30.0</td>\n",
       "      <td>30.0</td>\n",
       "      <td>ETH</td>\n",
       "      <td>2020.0</td>\n",
       "      <td>2080.0</td>\n",
       "      <td>2020.0</td>\n",
       "      <td>EURC per ETH</td>\n",
       "      <td>3</td>\n",
       "    </tr>\n",
       "    <tr>\n",
       "      <th>4</th>\n",
       "      <td>4</td>\n",
       "      <td>ETHEURC</td>\n",
       "      <td>ETH</td>\n",
       "      <td>40.0</td>\n",
       "      <td>40.0</td>\n",
       "      <td>ETH</td>\n",
       "      <td>2030.0</td>\n",
       "      <td>2130.0</td>\n",
       "      <td>2030.0</td>\n",
       "      <td>EURC per ETH</td>\n",
       "      <td>4</td>\n",
       "    </tr>\n",
       "    <tr>\n",
       "      <th>5</th>\n",
       "      <td>5</td>\n",
       "      <td>ETHEURC</td>\n",
       "      <td>EURC</td>\n",
       "      <td>10000.0</td>\n",
       "      <td>10000.0</td>\n",
       "      <td>EURC</td>\n",
       "      <td>1000.0</td>\n",
       "      <td>800.0</td>\n",
       "      <td>1000.0</td>\n",
       "      <td>EURC per ETH</td>\n",
       "      <td>5</td>\n",
       "    </tr>\n",
       "    <tr>\n",
       "      <th>6</th>\n",
       "      <td>6</td>\n",
       "      <td>ETHEURC</td>\n",
       "      <td>EURC</td>\n",
       "      <td>10000.0</td>\n",
       "      <td>10000.0</td>\n",
       "      <td>EURC</td>\n",
       "      <td>995.0</td>\n",
       "      <td>990.0</td>\n",
       "      <td>995.0</td>\n",
       "      <td>EURC per ETH</td>\n",
       "      <td>6</td>\n",
       "    </tr>\n",
       "    <tr>\n",
       "      <th>7</th>\n",
       "      <td>7</td>\n",
       "      <td>ETHEURC</td>\n",
       "      <td>EURC</td>\n",
       "      <td>20000.0</td>\n",
       "      <td>20000.0</td>\n",
       "      <td>EURC</td>\n",
       "      <td>995.0</td>\n",
       "      <td>850.0</td>\n",
       "      <td>995.0</td>\n",
       "      <td>EURC per ETH</td>\n",
       "      <td>7</td>\n",
       "    </tr>\n",
       "    <tr>\n",
       "      <th>8</th>\n",
       "      <td>8</td>\n",
       "      <td>ETHEURC</td>\n",
       "      <td>EURC</td>\n",
       "      <td>30000.0</td>\n",
       "      <td>30000.0</td>\n",
       "      <td>EURC</td>\n",
       "      <td>950.0</td>\n",
       "      <td>920.0</td>\n",
       "      <td>950.0</td>\n",
       "      <td>EURC per ETH</td>\n",
       "      <td>8</td>\n",
       "    </tr>\n",
       "    <tr>\n",
       "      <th>9</th>\n",
       "      <td>9</td>\n",
       "      <td>ETHEURC</td>\n",
       "      <td>EURC</td>\n",
       "      <td>40000.0</td>\n",
       "      <td>40000.0</td>\n",
       "      <td>EURC</td>\n",
       "      <td>970.0</td>\n",
       "      <td>870.0</td>\n",
       "      <td>970.0</td>\n",
       "      <td>EURC per ETH</td>\n",
       "      <td>9</td>\n",
       "    </tr>\n",
       "  </tbody>\n",
       "</table>\n",
       "</div>"
      ],
      "text/plain": [
       "   id     pair   tkn    y_int        y y_unit  p_start   p_end  p_marg  \\\n",
       "0   0  ETHEURC   ETH     10.0     10.0    ETH   2000.0  2200.0  2000.0   \n",
       "1   1  ETHEURC   ETH     10.0     10.0    ETH   2005.0  2010.0  2005.0   \n",
       "2   2  ETHEURC   ETH     20.0     20.0    ETH   2000.0  2050.0  2000.0   \n",
       "3   3  ETHEURC   ETH     30.0     30.0    ETH   2020.0  2080.0  2020.0   \n",
       "4   4  ETHEURC   ETH     40.0     40.0    ETH   2030.0  2130.0  2030.0   \n",
       "5   5  ETHEURC  EURC  10000.0  10000.0   EURC   1000.0   800.0  1000.0   \n",
       "6   6  ETHEURC  EURC  10000.0  10000.0   EURC    995.0   990.0   995.0   \n",
       "7   7  ETHEURC  EURC  20000.0  20000.0   EURC    995.0   850.0   995.0   \n",
       "8   8  ETHEURC  EURC  30000.0  30000.0   EURC    950.0   920.0   950.0   \n",
       "9   9  ETHEURC  EURC  40000.0  40000.0   EURC    970.0   870.0   970.0   \n",
       "\n",
       "         p_unit  lid  \n",
       "0  EURC per ETH    0  \n",
       "1  EURC per ETH    1  \n",
       "2  EURC per ETH    2  \n",
       "3  EURC per ETH    3  \n",
       "4  EURC per ETH    4  \n",
       "5  EURC per ETH    5  \n",
       "6  EURC per ETH    6  \n",
       "7  EURC per ETH    7  \n",
       "8  EURC per ETH    8  \n",
       "9  EURC per ETH    9  "
      ]
     },
     "execution_count": 5,
     "metadata": {},
     "output_type": "execute_result"
    }
   ],
   "source": [
    "Sim.state()[\"orders\"]"
   ]
  },
  {
   "cell_type": "code",
   "execution_count": 6,
   "id": "5063d3f4",
   "metadata": {},
   "outputs": [],
   "source": [
    "dxdy_nt = namedtuple(\"dxdy_nt\", \"dx,dy\")"
   ]
  },
  {
   "cell_type": "markdown",
   "id": "6cbfb0ac",
   "metadata": {},
   "source": [
    "## Ranges\n",
    "\n",
    "We now look at the ranges for which we calculate prices. For this, we need a rough estimate for where the current USD price of that asset is. Then we use a range of powers of 10 where the USD value corresponding to the smallest power is between USD 1-10."
   ]
  },
  {
   "cell_type": "code",
   "execution_count": 7,
   "id": "6f190fc9",
   "metadata": {},
   "outputs": [
    {
     "data": {
      "text/plain": [
       "([(1.5, -3), (15.0, -2), (150.0, -1), (1500, 0), (15000, 1), (150000, 2)],\n",
       " [0.001, 0.01, 0.1, 1, 10, 100])"
      ]
     },
     "execution_count": 7,
     "metadata": {},
     "output_type": "execute_result"
    }
   ],
   "source": [
    "current_eth_usd_price = 1500\n",
    "raw_ranges = ((10**i, i) for i in range(-20,20))\n",
    "usd_range = ((current_eth_usd_price*x, i) for x,i in raw_ranges)\n",
    "usd_range = [(x,i) for x,i in usd_range if x>1][0:6]\n",
    "tkn_range = [10**i for _, i in usd_range]\n",
    "usd_range, tkn_range"
   ]
  },
  {
   "cell_type": "markdown",
   "id": "cf27398e",
   "metadata": {},
   "source": [
    "## Calculate the amounts"
   ]
  },
  {
   "cell_type": "code",
   "execution_count": 8,
   "id": "baf994b9",
   "metadata": {},
   "outputs": [
    {
     "data": {
      "text/plain": [
       "uid                                     0\n",
       "id                                      0\n",
       "subid                                   A\n",
       "note         AMM sells 1ETH buys 2001EURC\n",
       "aggr                                 True\n",
       "exec                                False\n",
       "limitfail                            None\n",
       "amt1                                  1.0\n",
       "tkn1                                  ETH\n",
       "amt2                          2001.084705\n",
       "tkn2                                 EURC\n",
       "pair                              ETHEURC\n",
       "routeix                            [0, 2]\n",
       "nroutes                                 2\n",
       "price                         2001.084705\n",
       "p_unit                       EURC per ETH\n",
       "Name: 0, dtype: object"
      ]
     },
     "execution_count": 8,
     "metadata": {},
     "output_type": "execute_result"
    }
   ],
   "source": [
    "ask = lambda dx: Sim.amm_sells(\"ETH\", dx, execute=False)[\"trades\"].iloc[-1]\n",
    "bid = lambda dx: Sim.amm_buys(\"ETH\", dx, execute=False)[\"trades\"].iloc[-1]\n",
    "ask(1)"
   ]
  },
  {
   "cell_type": "code",
   "execution_count": 9,
   "id": "5f1866d0",
   "metadata": {},
   "outputs": [
    {
     "data": {
      "text/plain": [
       "[dxdy_nt(dx=0.001, dy=2.000001),\n",
       " dxdy_nt(dx=0.01, dy=20.000108),\n",
       " dxdy_nt(dx=0.1, dy=200.010842),\n",
       " dxdy_nt(dx=1, dy=2001.084705),\n",
       " dxdy_nt(dx=10, dy=20056.281233),\n",
       " dxdy_nt(dx=100, dy=204852.355)]"
      ]
     },
     "execution_count": 9,
     "metadata": {},
     "output_type": "execute_result"
    }
   ],
   "source": [
    "amounts_ask = [dxdy_nt(dx=dx, dy=ask(dx)[\"amt2\"]) for dx in tkn_range]\n",
    "amounts_ask"
   ]
  },
  {
   "cell_type": "code",
   "execution_count": 10,
   "id": "5d494349",
   "metadata": {},
   "outputs": [
    {
     "data": {
      "text/plain": [
       "[dxdy_nt(dx=0.001, dy=0.999989),\n",
       " dxdy_nt(dx=0.01, dy=9.998944),\n",
       " dxdy_nt(dx=0.1, dy=99.894539),\n",
       " dxdy_nt(dx=1, dy=995.460759),\n",
       " dxdy_nt(dx=10, dy=9928.869833),\n",
       " dxdy_nt(dx=100, dy=93888.325173)]"
      ]
     },
     "execution_count": 10,
     "metadata": {},
     "output_type": "execute_result"
    }
   ],
   "source": [
    "amounts_bid = [dxdy_nt(dx=dx, dy=bid(dx)[\"amt1\"]) for dx in tkn_range]\n",
    "amounts_bid"
   ]
  },
  {
   "cell_type": "markdown",
   "id": "7367a3f5",
   "metadata": {},
   "source": [
    "## Calculate effective prices\n",
    "\n",
    "Reminder: we calculate the prices for the amounts $10^n, 10^{n+1}, \\ldots ETH$ such that $1 USD \\leq 10^n ETH < 10 USD$"
   ]
  },
  {
   "cell_type": "code",
   "execution_count": 11,
   "id": "2a45fe74",
   "metadata": {},
   "outputs": [
    {
     "data": {
      "text/plain": [
       "[2000.0010000000002,\n",
       " 2000.0108,\n",
       " 2000.1084199999998,\n",
       " 2001.084705,\n",
       " 2005.6281233000002,\n",
       " 2048.52355]"
      ]
     },
     "execution_count": 11,
     "metadata": {},
     "output_type": "execute_result"
    }
   ],
   "source": [
    "p_eff_ask = [r.dy/r.dx for r in amounts_ask]\n",
    "p_eff_ask"
   ]
  },
  {
   "cell_type": "code",
   "execution_count": 12,
   "id": "0fa0e8be",
   "metadata": {},
   "outputs": [
    {
     "data": {
      "text/plain": [
       "[999.989,\n",
       " 999.8944,\n",
       " 998.9453899999999,\n",
       " 995.460759,\n",
       " 992.8869833000001,\n",
       " 938.8832517300001]"
      ]
     },
     "execution_count": 12,
     "metadata": {},
     "output_type": "execute_result"
    }
   ],
   "source": [
    "p_eff_bid = [r.dy/r.dx for r in amounts_bid]\n",
    "p_eff_bid"
   ]
  },
  {
   "cell_type": "markdown",
   "id": "8a1538cd",
   "metadata": {},
   "source": [
    "## Calculate slippage\n",
    "\n",
    "Reminder: `slip[n] = price[n] - price[0]` and `slip_pc[n] = (price[n] - price[0])/price[0]`.\n",
    "\n",
    "Note: take care of the sign adjustment for the bid side! For $x/y$ this adjustment is on the ask side instead."
   ]
  },
  {
   "cell_type": "code",
   "execution_count": 13,
   "id": "3eaf8b35",
   "metadata": {},
   "outputs": [
    {
     "data": {
      "text/plain": [
       "['  0.0000 USDC/ETH',\n",
       " '  0.0098 USDC/ETH',\n",
       " '  0.1074 USDC/ETH',\n",
       " '  1.0837 USDC/ETH',\n",
       " '  5.6271 USDC/ETH',\n",
       " ' 48.5225 USDC/ETH']"
      ]
     },
     "execution_count": 13,
     "metadata": {},
     "output_type": "execute_result"
    }
   ],
   "source": [
    "slip_ask = [f\"{p-p_eff_ask[0]:8.4f} USDC/ETH\" for p in p_eff_ask]\n",
    "slip_ask"
   ]
  },
  {
   "cell_type": "code",
   "execution_count": 14,
   "id": "118617d8",
   "metadata": {},
   "outputs": [
    {
     "data": {
      "text/plain": [
       "['0.0000%', '0.0005%', '0.0054%', '0.0542%', '0.2814%', '2.4261%']"
      ]
     },
     "execution_count": 14,
     "metadata": {},
     "output_type": "execute_result"
    }
   ],
   "source": [
    "slip_pc_ask = [f\"{(p/p_eff_ask[0]-1)*100:0.4f}%\" for p in p_eff_ask]\n",
    "slip_pc_ask"
   ]
  },
  {
   "cell_type": "code",
   "execution_count": 15,
   "id": "99dd3822",
   "metadata": {},
   "outputs": [
    {
     "data": {
      "text/plain": [
       "['  0.0000 USDC/ETH',\n",
       " '  0.0946 USDC/ETH',\n",
       " '  1.0436 USDC/ETH',\n",
       " '  4.5282 USDC/ETH',\n",
       " '  7.1020 USDC/ETH',\n",
       " ' 61.1057 USDC/ETH']"
      ]
     },
     "execution_count": 15,
     "metadata": {},
     "output_type": "execute_result"
    }
   ],
   "source": [
    "slip_bid = [f\"{-p+p_eff_bid[0]:8.4f} USDC/ETH\" for p in p_eff_bid]\n",
    "slip_bid"
   ]
  },
  {
   "cell_type": "code",
   "execution_count": 16,
   "id": "6429d7da",
   "metadata": {},
   "outputs": [
    {
     "data": {
      "text/plain": [
       "['-0.0000%', '0.0095%', '0.1044%', '0.4528%', '0.7102%', '6.1106%']"
      ]
     },
     "execution_count": 16,
     "metadata": {},
     "output_type": "execute_result"
    }
   ],
   "source": [
    "slip_pc_bid = [f\"{-(p/p_eff_bid[0]-1)*100:0.4f}%\" for p in p_eff_bid]\n",
    "slip_pc_bid"
   ]
  },
  {
   "cell_type": "code",
   "execution_count": null,
   "id": "1057c2b0",
   "metadata": {},
   "outputs": [],
   "source": []
  }
 ],
 "metadata": {
  "jupytext": {
   "formats": "ipynb,py:light"
  },
  "kernelspec": {
   "display_name": "Python 3",
   "language": "python",
   "name": "python3"
  },
  "language_info": {
   "codemirror_mode": {
    "name": "ipython",
    "version": 3
   },
   "file_extension": ".py",
   "mimetype": "text/x-python",
   "name": "python",
   "nbconvert_exporter": "python",
   "pygments_lexer": "ipython3",
   "version": "3.8.8"
  }
 },
 "nbformat": 4,
 "nbformat_minor": 5
}
