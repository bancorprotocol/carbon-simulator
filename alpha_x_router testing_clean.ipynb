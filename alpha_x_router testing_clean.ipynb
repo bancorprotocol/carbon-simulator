{
 "cells": [
  {
   "cell_type": "code",
   "execution_count": 1,
   "metadata": {},
   "outputs": [],
   "source": [
    "from alpha_x_router_clean_GenII import mpr_matchBySource\n",
    "from alpha_x_router_clean_GenII import mpr_matchByTarget\n",
    "\n",
    "from decimal import Decimal\n",
    "from benchmark import alphaxutils\n",
    "\n",
    "Order = alphaxutils.Order"
   ]
  },
  {
   "cell_type": "code",
   "execution_count": 2,
   "metadata": {},
   "outputs": [],
   "source": [
    "threshold_orders = 6\n",
    "support_partial = True\n",
    "\n",
    "# ETH side orders\n",
    "# # inputAmount = Decimal('10000') # by Target = USDC amount\n",
    "# inputAmount = Decimal('3') # by Source = ETH amount\n",
    "# order_params = {\n",
    "#     'liquidity':Decimal('5'),\n",
    "#     'highestRate':Decimal('0.0005'), # 2000\n",
    "#     'lowestRate':Decimal('0.0004'),  # 2500\n",
    "#     'marginalRate':Decimal('0.0005'),\n",
    "#     }\n",
    "# order_params2 = {\n",
    "#     'liquidity':Decimal('4'),\n",
    "#     'highestRate':Decimal('0.0006'), # 1666\n",
    "#     'lowestRate':Decimal('0.0005'),  # 2000\n",
    "#     'marginalRate':Decimal('0.0006'),\n",
    "#     }\n",
    "\n",
    "# USDC side orders (approx same)\n",
    "# # inputAmount = Decimal('5')  # by Target = ETH amount\n",
    "inputAmount = Decimal('30000')  # by Source = USDC amount\n",
    "order_params = {\n",
    "    'liquidity':Decimal('20000'),\n",
    "    'highestRate':Decimal('2500'),\n",
    "    'lowestRate':Decimal('2000'),\n",
    "    'marginalRate':Decimal('2500'),\n",
    "    }\n",
    "order_params2 = {\n",
    "    'liquidity':Decimal('15000'),\n",
    "    'highestRate':Decimal('2000'),\n",
    "    'lowestRate':Decimal('1666'),\n",
    "    'marginalRate':Decimal('2000'),\n",
    "    }\n",
    "\n",
    "orders = []\n",
    "for i in range(1):\n",
    "    orders += [Order(order_params)]\n",
    "    orders += [Order(order_params2)]"
   ]
  },
  {
   "cell_type": "code",
   "execution_count": 3,
   "metadata": {},
   "outputs": [
    {
     "data": {
      "text/plain": [
       "{0: {'input': Decimal('20000'),\n",
       "  'output': Decimal('8.9442719099991587856366946749251049417624734384460')},\n",
       " 1: {'input': Decimal('9999.9999999969102285226240366887726696262319533221'),\n",
       "  'output': Decimal('5.3090266302946238580760035437890941734466000245681')}}"
      ]
     },
     "execution_count": 3,
     "metadata": {},
     "output_type": "execute_result"
    }
   ],
   "source": [
    "mpr_matchBySource(inputAmount, orders, threshold_orders, support_partial)"
   ]
  },
  {
   "cell_type": "code",
   "execution_count": 4,
   "metadata": {},
   "outputs": [
    {
     "name": "stdout",
     "output_type": "stream",
     "text": [
      "** Partial Match (0.05721%) **\n"
     ]
    },
    {
     "data": {
      "text/plain": [
       "{0: {'input': Decimal('8.9442719099991587856366946749251049417624734384460'),\n",
       "  'output': Decimal('20000')},\n",
       " 1: {'input': Decimal('8.2174820233646832536760145681880475838589417381220'),\n",
       "  'output': Decimal('15000')}}"
      ]
     },
     "execution_count": 4,
     "metadata": {},
     "output_type": "execute_result"
    }
   ],
   "source": [
    "mpr_matchByTarget(inputAmount, orders, threshold_orders, support_partial)"
   ]
  }
 ],
 "metadata": {
  "kernelspec": {
   "display_name": "Python 3",
   "language": "python",
   "name": "python3"
  },
  "language_info": {
   "codemirror_mode": {
    "name": "ipython",
    "version": 3
   },
   "file_extension": ".py",
   "mimetype": "text/x-python",
   "name": "python",
   "nbconvert_exporter": "python",
   "pygments_lexer": "ipython3",
   "version": "3.10.8"
  },
  "orig_nbformat": 4,
  "vscode": {
   "interpreter": {
    "hash": "43f221103f953d3e0d93840edd77be981e5a5e0e42edc048e3de5278c46a3390"
   }
  }
 },
 "nbformat": 4,
 "nbformat_minor": 2
}
