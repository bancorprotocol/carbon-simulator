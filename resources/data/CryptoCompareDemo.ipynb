{
 "cells": [
  {
   "cell_type": "code",
   "execution_count": 1,
   "id": "655e6fab",
   "metadata": {},
   "outputs": [
    {
     "name": "stdout",
     "output_type": "stream",
     "text": [
      "CryptoCompare v1.4 (01/Feb/2023)\n"
     ]
    }
   ],
   "source": [
    "from carbon.helpers.cryptocompare import CryptoCompare\n",
    "\n",
    "print( \"{0.__name__} v{0.__VERSION__} ({0.__DATE__})\".format(CryptoCompare))"
   ]
  },
  {
   "cell_type": "markdown",
   "id": "1a8bd681",
   "metadata": {},
   "source": [
    "# Crypto Compare\n",
    "\n",
    "https://min-api.cryptocompare.com/documentation"
   ]
  },
  {
   "cell_type": "markdown",
   "id": "0dcd7571",
   "metadata": {},
   "source": [
    "Note: `CryptoCompare` expects the API in an environment variable called `CCAPIKEY`. To set in bash, run\n",
    "\n",
    "    export CCAPIKEY=<value>\n",
    "    jupyter notebook\n",
    "    \n",
    "Alternatively you can supply the API key directly to the object (via `apikey=XXX`), but this is not recommended because of its security implications."
   ]
  },
  {
   "cell_type": "code",
   "execution_count": 2,
   "id": "d37fb19e",
   "metadata": {
    "lines_to_next_cell": 2
   },
   "outputs": [
    {
     "name": "stdout",
     "output_type": "stream",
     "text": [
      "Can't find API key CCAPIKEY in environment variables.\n",
      "Use `export CCAPIKEY=<value>` to set it BEFORE you launch Jupyter\n",
      "API key not present. Use `export CCAPIKEY=<value>` to set it before launching Jupyter.\n",
      "[CryptoCompare] key digest 0000 0000\n"
     ]
    }
   ],
   "source": [
    "CCA = CryptoCompare(apikey=True)\n",
    "try:\n",
    "    CCA = CryptoCompare()\n",
    "except RuntimeError as e:\n",
    "    CC = CCA\n",
    "    print(e)\n",
    "print(\"[CryptoCompare] key digest\", CC.keydigest[:4], CCA.keydigest[:4])"
   ]
  },
  {
   "cell_type": "markdown",
   "id": "0843da33",
   "metadata": {},
   "source": [
    "## Rate limit"
   ]
  },
  {
   "cell_type": "code",
   "execution_count": 3,
   "id": "4d89bb6f",
   "metadata": {},
   "outputs": [
    {
     "name": "stdout",
     "output_type": "stream",
     "text": [
      "[query] https://min-api.cryptocompare.com/stats/rate/limit {} [0000]\n"
     ]
    },
    {
     "data": {
      "text/plain": [
       "{'calls_made': {'second': 1, 'minute': 1, 'hour': 5, 'day': 5, 'month': 7},\n",
       " 'calls_left': {'second': 19,\n",
       "  'minute': 299,\n",
       "  'hour': 2995,\n",
       "  'day': 7495,\n",
       "  'month': 49993}}"
      ]
     },
     "execution_count": 3,
     "metadata": {},
     "output_type": "execute_result"
    }
   ],
   "source": [
    "CC.query_ratelimit()"
   ]
  },
  {
   "cell_type": "code",
   "execution_count": 4,
   "id": "b0915a13",
   "metadata": {},
   "outputs": [
    {
     "name": "stdout",
     "output_type": "stream",
     "text": [
      "[query] https://min-api.cryptocompare.com/stats/rate/limit {} [0000]\n"
     ]
    },
    {
     "data": {
      "text/plain": [
       "{'calls_made': {'second': 1, 'minute': 2, 'hour': 6, 'day': 6, 'month': 8},\n",
       " 'calls_left': {'second': 19,\n",
       "  'minute': 298,\n",
       "  'hour': 2994,\n",
       "  'day': 7494,\n",
       "  'month': 49992}}"
      ]
     },
     "execution_count": 4,
     "metadata": {},
     "output_type": "execute_result"
    }
   ],
   "source": [
    "CCA.query_ratelimit()"
   ]
  },
  {
   "cell_type": "markdown",
   "id": "bd60e4b4",
   "metadata": {},
   "source": [
    "## Exchanges and pairs"
   ]
  },
  {
   "cell_type": "code",
   "execution_count": 5,
   "id": "245d686c",
   "metadata": {},
   "outputs": [
    {
     "data": {
      "text/plain": [
       "dict_keys(['ABCC', 'ACX', 'Abucoins', 'AidosMarket', 'BCEX', 'BTC38', 'BTCAlpha', 'BTCBOX', 'BTCChina', 'BTCE', 'BTCExchange', 'BTCMarkets', 'BTCTurk', 'BTCXIndia', 'BTER', 'BXinth', 'Bgogo', 'Bibox', 'BigONE', 'Binance', 'Binanceje', 'Bit2C', 'BitBank', 'BitBay', 'BitFlip', 'BitGrail', 'BitMarket', 'BitMart', 'BitSquare', 'BitTrex', 'BitZ', 'BitexBook', 'Bitfinex', 'Bitforex', 'Bithumb', 'Bitinfi', 'Bitkub', 'Bitlish', 'Bitmex', 'Bitpoint', 'Bitsane', 'Bitshares', 'Bitso', 'Bitstamp', 'Blackturtle', 'Bleutrade', 'Bluebelt', 'Braziliex', 'Buda', 'CBX', 'CCCAGG', 'CCEDK', 'CCEX', 'CHBTC', 'Catex', 'Cexio', 'ChileBit', 'Codex', 'CoinBene', 'CoinCorner', 'CoinDeal', 'CoinEx', 'CoinFalcon', 'CoinHub', 'CoinJar', 'CoinPulse', 'CoinTiger', 'Coinbase', 'Coincap', 'Coincheck', 'Coinfloor', 'Coinmate', 'Coinnest', 'Coinone', 'Coinroom', 'CoinsBank', 'Coinsbit', 'Coinse', 'Coinsetter', 'Cryptagio', 'CryptoBulls', 'CryptoCarbon', 'CryptoExchangeWS', 'CryptoX', 'Cryptonit', 'Cryptopia', 'Cryptsy', 'DDEX', 'DEx', 'DSX', 'DigiFinex', 'EXRATES', 'EXX', 'EtherDelta', 'Ethermium', 'EthexIndia', 'Ethfinex', 'Everbloom', 'Exenium', 'Exmo', 'ExtStock', 'FCCE', 'FCoin', 'Foxbit', 'Gatecoin', 'Gateio', 'Gemini', 'Globitex', 'Gneiss', 'Gnosis', 'Graviex', 'HADAX', 'Hikenex', 'HitBTC', 'Huobi', 'HuobiPro', 'IDAX', 'IDEX', 'IQFinex', 'Incorex', 'IndependentReserve', 'InstantBitex', 'Ironex', 'Jubi', 'Korbit', 'Kraken', 'Kucoin', 'Kuna', 'LAToken', 'LBank', 'LakeBTC', 'Liqnet', 'Liqui', 'Liquid', 'LiveCoin', 'LocalBitcoins', 'Luno', 'Lykke', 'MercadoBitcoin', 'Minebit', 'MonetaGo', 'MtGox', 'NDAX', 'Nebula', 'Neraex', 'Nexchange', 'Nlexch', 'Novaexchange', 'Nuex', 'OKCoin', 'OKEX', 'OpenLedger', 'Ore', 'P2PB2B', 'Paymium', 'Poloniex', 'Qryptos', 'QuadrigaCX', 'Quoine', 'Remitano', 'RightBTC', 'SafeCoin', 'Simex', 'SingularityX', 'StocksExchange', 'StocksExchangeio', 'Surbitcoin', 'Switcheo', 'TDAX', 'TheRockTrading', 'Threexbit', 'Tidex', 'TokenStore', 'Tokenomy', 'TradeSatoshi', 'TrustDEX', 'TuxExchange', 'Unocoin', 'Upbit', 'VBTC', 'Vaultoro', 'Velox', 'ViaBTC', 'WEX', 'WavesDEX', 'WorldCryptoCap', 'XS2', 'Yacuna', 'Yobit', 'Yunbi', 'ZB', 'ZBG', 'Zaif', 'Zecoex', 'aax', 'aliexchange', 'alphaex', 'altilly', 'ascendex', 'ataix', 'bcbitcoin', 'beldex', 'bequant', 'betconix', 'bhex', 'biki', 'bilaxy', 'binancedex', 'binanceusa', 'bingcoins', 'bitFlyer', 'bitFlyerFX', 'bitasset', 'bitbuy', 'bitci', 'bitcoincom', 'bitfex', 'bitflyereu', 'bitflyerus', 'bithumbglobal', 'bitmax', 'bitpanda', 'bitspark', 'bkex', 'blockchaincom', 'btcXchange', 'btcmex', 'btse', 'bullish', 'bw', 'bybit', 'chainrift', 'chainx', 'chaoex', 'cobinhood', 'coinall', 'coineal', 'coinegg', 'coinfield', 'coinspro', 'coinsuper', 'coinzest', 'compound', 'coss', 'crex24', 'crosstower', 'cryptodotcom', 'cryptofacilities', 'cryptonex', 'currency', 'curve', 'darbfinance', 'dcoin', 'decoin', 'deribit', 'e55com', 'eidoo', 'equos', 'erisx', 'etoro', 'exscudo', 'fatbtc', 'ftx', 'ftxus', 'gopax', 'hbus', 'huobifutures', 'huobijapan', 'huobikorea', 'iCoinbay', 'idevex', 'indodax', 'itBit', 'lmax', 'mexc', 'nominex', 'oex', 'onederx', 'oneinch', 'pancakeswap', 'paribu', 'primexbt', 'probit', 'quickswap', 'raidofinance', 'safetrade', 'seedcx', 'sigenp2p', 'sigenpro', 'sistemkoin', 'slicex', 'smartrade', 'sushiswap', 'tchapp', 'thore', 'timex', 'tokensnet', 'tokok', 'trxmarket', 'uniswap', 'uniswapv2', 'uniswapv3', 'unnamed', 'utorg', 'valr', 'wbb', 'xbtpro', 'xcoex', 'xena', 'xtpub', 'zebitex', 'zloadr'])"
      ]
     },
     "execution_count": 5,
     "metadata": {},
     "output_type": "execute_result"
    }
   ],
   "source": [
    "data = CC.cache_allexchanges()\n",
    "data[\"exchanges\"].keys()"
   ]
  },
  {
   "cell_type": "code",
   "execution_count": 6,
   "id": "b36f68a8",
   "metadata": {},
   "outputs": [
    {
     "data": {
      "text/plain": [
       "'ABCC, BTCBOX, BTCMarkets, BTCTurk, Bibox, BigONE, Binance, Bit2C, BitBank, BitBay, BitMart, BitTrex, Bitfinex, Bithumb, Bitkub, Bitso, Bitstamp, CBX, Cexio, CoinCorner, CoinEx, CoinJar, Coinbase, Coincheck, Coinmate, Coinone, Coinsbit, DigiFinex, Exmo, Gateio, Gemini, HitBTC, HuobiPro, IndependentReserve, Korbit, Kraken, Kucoin, LAToken, Liquid, Luno, Lykke, NDAX, OKCoin, OKEX, P2PB2B, Paymium, TheRockTrading, Upbit, Vaultoro, ZB, ZBG, Zaif, aax, ataix, bequant, binanceusa, bitFlyer, bitbuy, bitflyereu, bitflyerus, bithumbglobal, bitpanda, blockchaincom, btse, bullish, coinfield, crosstower, cryptodotcom, currency, dcoin, decoin, eidoo, erisx, etoro, ftxus, gopax, huobijapan, huobikorea, indodax, itBit, lmax, nominex, probit, valr, zebitex'"
      ]
     },
     "execution_count": 6,
     "metadata": {},
     "output_type": "execute_result"
    }
   ],
   "source": [
    "\", \".join([x for x in data[\"exchanges\"] if data[\"exchanges\"][x].get(\"isTopTier\")])"
   ]
  },
  {
   "cell_type": "code",
   "execution_count": 7,
   "id": "c6da1c10",
   "metadata": {},
   "outputs": [
    {
     "data": {
      "text/plain": [
       "'ABCC, AidosMarket, BCEX, BTCAlpha, BTCBOX, BTCExchange, BTCMarkets, BTCTurk, Bgogo, Bibox, BigONE, Binance, Binanceje, Bit2C, BitBank, BitBay, BitMart, BitSquare, BitTrex, BitZ, BitexBook, Bitfinex, Bitforex, Bithumb, Bitkub, Bitmex, Bitso, Bitstamp, Blackturtle, Bleutrade, Braziliex, Buda, CBX, CCCAGG, Catex, Cexio, CoinBene, CoinCorner, CoinDeal, CoinEx, CoinFalcon, CoinHub, CoinJar, Coinbase, Coincheck, Coinfloor, Coinmate, Coinone, Coinsbit, CryptoCarbon, DDEX, DSX, DigiFinex, EXRATES, EXX, Everbloom, Exenium, Exmo, FCoin, Gateio, Gemini, Globitex, Graviex, HADAX, Hikenex, HitBTC, HuobiPro, IDEX, IQFinex, IndependentReserve, Korbit, Kraken, Kucoin, Kuna, LAToken, LBank, Liqnet, Liquid, LiveCoin, LocalBitcoins, Luno, Lykke, MercadoBitcoin, Minebit, Nebula, Nexchange, Nlexch, Nuex, OKCoin, OKEX, P2PB2B, Paymium, Poloniex, Remitano, RightBTC, SafeCoin, SingularityX, StocksExchange, Switcheo, TheRockTrading, Tidex, TokenStore, Tokenomy, TrustDEX, Upbit, Vaultoro, WavesDEX, Yobit, ZB, ZBG, Zaif, aax, aliexchange, altilly, ascendex, ataix, bcbitcoin, beldex, bequant, betconix, bhex, biki, bilaxy, binancedex, binanceusa, bitFlyer, bitFlyerFX, bitasset, bitbuy, bitci, bitcoincom, bitfex, bitflyereu, bitflyerus, bithumbglobal, bitmax, bitpanda, bkex, blockchaincom, btcmex, btse, bullish, bw, bybit, chainrift, chainx, chaoex, coinall, coineal, coinegg, coinfield, coinspro, coinsuper, compound, crex24, crosstower, cryptodotcom, cryptofacilities, cryptonex, currency, curve, dcoin, decoin, eidoo, equos, erisx, etoro, fatbtc, ftx, ftxus, gopax, huobijapan, huobikorea, idevex, indodax, itBit, lmax, mexc, nominex, oneinch, pancakeswap, paribu, primexbt, probit, quickswap, raidofinance, safetrade, seedcx, sigenp2p, sigenpro, sistemkoin, slicex, smartrade, sushiswap, tchapp, thore, timex, tokensnet, tokok, trxmarket, uniswap, uniswapv2, uniswapv3, unnamed, utorg, valr, wbb, xbtpro, xcoex, xena, xtpub, zebitex'"
      ]
     },
     "execution_count": 7,
     "metadata": {},
     "output_type": "execute_result"
    }
   ],
   "source": [
    "\", \".join([x for x in data[\"exchanges\"] if data[\"exchanges\"][x].get(\"isActive\")])"
   ]
  },
  {
   "cell_type": "code",
   "execution_count": 8,
   "id": "968e359a",
   "metadata": {},
   "outputs": [
    {
     "name": "stdout",
     "output_type": "stream",
     "text": [
      "dict_keys(['pairs', 'isActive', 'isTopTier'])\n"
     ]
    },
    {
     "data": {
      "text/plain": [
       "'ETH, XRP, ORN, C98, SOL, FORTH, RNDR, JUP, 1INCH, BTRST, GLM, ERN, DESO, LIT, DASH, WCFG, NCT, MINA, FLOW, MATIC, BAND, REQ, DOGE, AST, ETHERNITY, POND, ENJ, APT, MANA, MKR, TONE, BADGER, GFI, RAI, JASMY, DYP, ETC, ENS, DIA, CGLD, CRV, MASK, ARPA, LTC, OMG, ALGO, ZEN, UPI, USTC, NKN, MTL, ZEC, BTC, UNI, ATOM, QNT, PERP, SAI, SPELL, IDEX, LRC, BNT, CRO, ALEPH, PRO, TRAC, GALA, SUPER, BOBA, ILV, ATA, ACH, POWR, KNC, DDX, QI, LOOM, PNG, POLS, METIS, GTC, CRPT, MEDIA, STORJ, BCH, CVC, GRAPH, DEXT, INJ, FIDA, AGLD, WLUNC, INDEX, XLM, POLY, SKL, SHPING, AVT, EGLD, MAGIC, MIR, NU, SHIB, SNX, LCX, ICP, EOS, CLV, GRT, STG, XYO, CELO, AXS, SUSHI, CELR, BAT, CTX, FOX, LPT, LINK, RAIREF, BOND, PRQ, CHZ, DOT, AIOZ, RLY, RARI, AUCTION, FIS, SYN, USDT, KAVA, AURORA, QSP, LQTY, ELA, FIL, FORT, USDC, UMA, ADA, NMR, TRIBE, HFT, WAMPL, NEAR, FARM, XTZ, FUNX, DAI, BAL, RLC, XCN, AMP, RAD, COMP, TRU, YFII, IOTX, STX, SYLO, COTI, TIME, ANKR, MLN, REN, MATH, ALCX, GALATA, MPL, DREP, MUSE, KRL, SAND, TRB, GMT, ASM, BLZ, GST, AAVE, USDP, WBTC, RARE, AVAX, BICO, FX, MONAV, T, OXT, GHST, YFI, LDO, VGX, COVAL, MSOL, ROSE, APE, PLU, CBETH, ZRX, SNT, LOKA, PAX, AUDIO, PUNDIX, GNO, SUKU, GAL, HBAR, PLAYD, INV, NEST, UNFI, ABT, BIT, PYR, FET, REP, WAXL, RPL, GUSD, ORCA, METI, CVX, AERGO, OGN, HOPR, 00, MDT, DAR, MUSD, DNT, SWFTC, HIGH, OOKI, MNDE, KSM, MCO2, IMX, API3, OCEAN, CTSI, GODS, ALICE, GYEN, RGT, MXC, RBN, OP, QUICK, PLA, ANT, BUSD, KEEP, AXL'"
      ]
     },
     "execution_count": 8,
     "metadata": {},
     "output_type": "execute_result"
    }
   ],
   "source": [
    "exchange = \"Coinbase\"\n",
    "print(data[\"exchanges\"][exchange].keys())\n",
    "\", \".join(data[\"exchanges\"][exchange][\"pairs\"].keys())"
   ]
  },
  {
   "cell_type": "code",
   "execution_count": 9,
   "id": "2ab2fe29",
   "metadata": {},
   "outputs": [
    {
     "data": {
      "text/plain": [
       "True"
      ]
     },
     "execution_count": 9,
     "metadata": {},
     "output_type": "execute_result"
    }
   ],
   "source": [
    "data[\"exchanges\"][exchange][\"isTopTier\"]"
   ]
  },
  {
   "cell_type": "markdown",
   "id": "0c7ed2d9",
   "metadata": {},
   "source": [
    "## Coinlist"
   ]
  },
  {
   "cell_type": "code",
   "execution_count": 31,
   "id": "d3ba3ca1",
   "metadata": {},
   "outputs": [
    {
     "data": {
      "text/plain": [
       "8374"
      ]
     },
     "execution_count": 31,
     "metadata": {},
     "output_type": "execute_result"
    }
   ],
   "source": [
    "data = CC.cache_coinlist()\n",
    "data_keys = tuple(data.keys())\n",
    "len(data_keys)"
   ]
  },
  {
   "cell_type": "code",
   "execution_count": 11,
   "id": "593ef3e7",
   "metadata": {},
   "outputs": [
    {
     "data": {
      "text/plain": [
       "'GUE, HAL, HBN, HUC, HVC, HYP, ICB, IFC, IXC, JBS, JKC, JUDGE, KDC, KEYC, LK7, LKY, LSD, LTB, LTCD, LTCX'"
      ]
     },
     "execution_count": 11,
     "metadata": {},
     "output_type": "execute_result"
    }
   ],
   "source": [
    "\", \". join(data_keys[100:120])"
   ]
  },
  {
   "cell_type": "code",
   "execution_count": 12,
   "id": "5c4e9fc6",
   "metadata": {},
   "outputs": [
    {
     "data": {
      "text/plain": [
       "dict_keys(['Id', 'Url', 'ImageUrl', 'ContentCreatedOn', 'Name', 'Symbol', 'CoinName', 'FullName', 'Description', 'AssetTokenStatus', 'Algorithm', 'ProofType', 'SortOrder', 'Sponsored', 'Taxonomy', 'Rating', 'IsTrading', 'TotalCoinsMined', 'CirculatingSupply', 'BlockNumber', 'NetHashesPerSecond', 'BlockReward', 'BlockTime', 'AssetLaunchDate', 'AssetWhitepaperUrl', 'AssetWebsiteUrl', 'MaxSupply', 'MktCapPenalty', 'IsUsedInDefi', 'IsUsedInNft', 'PlatformType', 'DecimalPoints', 'AlgorithmType', 'Difficulty'])"
      ]
     },
     "execution_count": 12,
     "metadata": {},
     "output_type": "execute_result"
    }
   ],
   "source": [
    "data[\"BTC\"].keys()"
   ]
  },
  {
   "cell_type": "markdown",
   "id": "9c775149",
   "metadata": {},
   "source": [
    "## ISO currency symbols"
   ]
  },
  {
   "cell_type": "code",
   "execution_count": 13,
   "id": "e70858a1",
   "metadata": {},
   "outputs": [
    {
     "data": {
      "text/plain": [
       "'AED, AFN, ALL, AMD, ANG, AOA, ARS, AUD, AWG, AZN, BAM, BBD, BDT, BGN, BHD, BIF, BMD, BND, BOB, BOV, BRL, BSD, BTN, BWP, BYN, BZD, CAD, CDF, CHE, CHF, CHW, CLF, CLP, CNY, COP, COU, CRC, CUC, CUP, CVE, CZK, DJF, DKK, DOP, DZD, EGP, ERN, ETB, EUR, FJD, FKP, GBP, GEL, GHS, GIP, GMD, GNF, GTQ, GYD, HKD, HNL, HRK, HTG, HUF, IDR, ILS, INR, IQD, IRR, ISK, JMD, JOD, JPY, KES, KGS, KHR, KMF, KPW, KRW, KWD, KYD, KZT, LAK, LBP, LKR, LRD, LSL, LYD, MAD, MDL, MGA, MKD, MMK, MNT, MOP, MRU, MUR, MVR, MWK, MXN, MXV, MYR, MZN, NAD, NGN, NIO, NOK, NPR, NZD, OMR, PAB, PEN, PGK, PHP, PKR, PLN, PYG, QAR, RON, RSD, RUB, RWF, SAR, SBD, SCR, SDG, SEK, SGD, SHP, SLL, SOS, SRD, SSP, STN, SVC, SYP, SZL, THB, TJS, TMT, TND, TOP, TRY, TTD, TWD, TZS, UAH, UGX, USD, USN, UYI, UYU, UYW, UZS, VES, VND, VUV, WST, XAF, XAG, XAU, XCD, XDR, XOF, XPD, XPF, XPT, XSU, XUA, YER, ZAR, ZMW, ZWL'"
      ]
     },
     "execution_count": 13,
     "metadata": {},
     "output_type": "execute_result"
    }
   ],
   "source": [
    "CCA.ccycodes()"
   ]
  },
  {
   "cell_type": "code",
   "execution_count": 14,
   "id": "b394a579",
   "metadata": {},
   "outputs": [
    {
     "data": {
      "text/html": [
       "<div>\n",
       "<style scoped>\n",
       "    .dataframe tbody tr th:only-of-type {\n",
       "        vertical-align: middle;\n",
       "    }\n",
       "\n",
       "    .dataframe tbody tr th {\n",
       "        vertical-align: top;\n",
       "    }\n",
       "\n",
       "    .dataframe thead th {\n",
       "        text-align: right;\n",
       "    }\n",
       "</style>\n",
       "<table border=\"1\" class=\"dataframe\">\n",
       "  <thead>\n",
       "    <tr style=\"text-align: right;\">\n",
       "      <th></th>\n",
       "      <th>Country</th>\n",
       "      <th>Name</th>\n",
       "      <th>Symbol</th>\n",
       "    </tr>\n",
       "  </thead>\n",
       "  <tbody>\n",
       "    <tr>\n",
       "      <th>0</th>\n",
       "      <td>AFGHANISTAN</td>\n",
       "      <td>Afghani</td>\n",
       "      <td>AFN</td>\n",
       "    </tr>\n",
       "    <tr>\n",
       "      <th>1</th>\n",
       "      <td>ÅLAND ISLANDS</td>\n",
       "      <td>Euro</td>\n",
       "      <td>EUR</td>\n",
       "    </tr>\n",
       "    <tr>\n",
       "      <th>2</th>\n",
       "      <td>ALBANIA</td>\n",
       "      <td>Lek</td>\n",
       "      <td>ALL</td>\n",
       "    </tr>\n",
       "    <tr>\n",
       "      <th>3</th>\n",
       "      <td>ALGERIA</td>\n",
       "      <td>Algerian Dinar</td>\n",
       "      <td>DZD</td>\n",
       "    </tr>\n",
       "    <tr>\n",
       "      <th>4</th>\n",
       "      <td>AMERICAN SAMOA</td>\n",
       "      <td>US Dollar</td>\n",
       "      <td>USD</td>\n",
       "    </tr>\n",
       "  </tbody>\n",
       "</table>\n",
       "</div>"
      ],
      "text/plain": [
       "          Country            Name Symbol\n",
       "0     AFGHANISTAN         Afghani    AFN\n",
       "1   ÅLAND ISLANDS            Euro    EUR\n",
       "2         ALBANIA             Lek    ALL\n",
       "3         ALGERIA  Algerian Dinar    DZD\n",
       "4  AMERICAN SAMOA       US Dollar    USD"
      ]
     },
     "execution_count": 14,
     "metadata": {},
     "output_type": "execute_result"
    }
   ],
   "source": [
    "CCA.ccycodes(symonly=False).head()"
   ]
  },
  {
   "cell_type": "markdown",
   "id": "5bb5368a",
   "metadata": {},
   "source": [
    "## Index list"
   ]
  },
  {
   "cell_type": "code",
   "execution_count": 15,
   "id": "baf9217d",
   "metadata": {},
   "outputs": [
    {
     "data": {
      "text/plain": [
       "dict_keys(['BTCA', 'BVIN', 'BTCB', 'ETHB', 'CCBYDOT', 'CCBYSOL', 'CCBYADA', 'CCBYAVAX', 'CCBYATOM'])"
      ]
     },
     "execution_count": 15,
     "metadata": {},
     "output_type": "execute_result"
    }
   ],
   "source": [
    "data = CC.cache_indexlist()\n",
    "data.keys()"
   ]
  },
  {
   "cell_type": "code",
   "execution_count": 16,
   "id": "43f67836",
   "metadata": {
    "lines_to_next_cell": 2
   },
   "outputs": [
    {
     "data": {
      "text/plain": [
       "{'name': 'FICAS Ethereum Fund',\n",
       " 'description': '',\n",
       " 'quote_currency': 'CHF',\n",
       " 'index_market_name': 'CCNAV',\n",
       " 'index_market_underlying_name': 'CCMVDA',\n",
       " 'day_close_in_seconds': 61200}"
      ]
     },
     "execution_count": 16,
     "metadata": {},
     "output_type": "execute_result"
    }
   ],
   "source": [
    "data[\"ETHB\"]"
   ]
  },
  {
   "cell_type": "markdown",
   "id": "d29c4acc",
   "metadata": {},
   "source": [
    "## Freqly pair (= daily, hourly, minutely pair)"
   ]
  },
  {
   "cell_type": "markdown",
   "id": "81560c85",
   "metadata": {},
   "source": [
    "### daily"
   ]
  },
  {
   "cell_type": "code",
   "execution_count": 17,
   "id": "af808780",
   "metadata": {},
   "outputs": [
    {
     "name": "stdout",
     "output_type": "stream",
     "text": [
      "[query] https://min-api.cryptocompare.com/data/v2/histoday {'fsym': 'BTC', 'tsym': 'USD', 'limit': 2000} [0000]\n"
     ]
    },
    {
     "data": {
      "text/html": [
       "<div>\n",
       "<style scoped>\n",
       "    .dataframe tbody tr th:only-of-type {\n",
       "        vertical-align: middle;\n",
       "    }\n",
       "\n",
       "    .dataframe tbody tr th {\n",
       "        vertical-align: top;\n",
       "    }\n",
       "\n",
       "    .dataframe thead th {\n",
       "        text-align: right;\n",
       "    }\n",
       "</style>\n",
       "<table border=\"1\" class=\"dataframe\">\n",
       "  <thead>\n",
       "    <tr style=\"text-align: right;\">\n",
       "      <th></th>\n",
       "      <th>open</th>\n",
       "      <th>close</th>\n",
       "      <th>high</th>\n",
       "      <th>low</th>\n",
       "      <th>volumefrom</th>\n",
       "      <th>volumeto</th>\n",
       "    </tr>\n",
       "    <tr>\n",
       "      <th>datetime</th>\n",
       "      <th></th>\n",
       "      <th></th>\n",
       "      <th></th>\n",
       "      <th></th>\n",
       "      <th></th>\n",
       "      <th></th>\n",
       "    </tr>\n",
       "  </thead>\n",
       "  <tbody>\n",
       "    <tr>\n",
       "      <th>2017-09-06</th>\n",
       "      <td>4409.08</td>\n",
       "      <td>4618.71</td>\n",
       "      <td>4660.04</td>\n",
       "      <td>4401.53</td>\n",
       "      <td>110931.13</td>\n",
       "      <td>5.047172e+08</td>\n",
       "    </tr>\n",
       "    <tr>\n",
       "      <th>2017-09-07</th>\n",
       "      <td>4618.71</td>\n",
       "      <td>4635.60</td>\n",
       "      <td>4690.55</td>\n",
       "      <td>4493.20</td>\n",
       "      <td>70531.23</td>\n",
       "      <td>3.249399e+08</td>\n",
       "    </tr>\n",
       "    <tr>\n",
       "      <th>2017-09-08</th>\n",
       "      <td>4635.60</td>\n",
       "      <td>4326.45</td>\n",
       "      <td>4699.59</td>\n",
       "      <td>4130.88</td>\n",
       "      <td>180364.02</td>\n",
       "      <td>7.868199e+08</td>\n",
       "    </tr>\n",
       "    <tr>\n",
       "      <th>2017-09-09</th>\n",
       "      <td>4326.45</td>\n",
       "      <td>4335.13</td>\n",
       "      <td>4402.15</td>\n",
       "      <td>4185.33</td>\n",
       "      <td>77087.34</td>\n",
       "      <td>3.321953e+08</td>\n",
       "    </tr>\n",
       "    <tr>\n",
       "      <th>2017-09-10</th>\n",
       "      <td>4335.13</td>\n",
       "      <td>4245.89</td>\n",
       "      <td>4338.08</td>\n",
       "      <td>4032.15</td>\n",
       "      <td>108075.24</td>\n",
       "      <td>4.512444e+08</td>\n",
       "    </tr>\n",
       "  </tbody>\n",
       "</table>\n",
       "</div>"
      ],
      "text/plain": [
       "               open    close     high      low  volumefrom      volumeto\n",
       "datetime                                                                \n",
       "2017-09-06  4409.08  4618.71  4660.04  4401.53   110931.13  5.047172e+08\n",
       "2017-09-07  4618.71  4635.60  4690.55  4493.20    70531.23  3.249399e+08\n",
       "2017-09-08  4635.60  4326.45  4699.59  4130.88   180364.02  7.868199e+08\n",
       "2017-09-09  4326.45  4335.13  4402.15  4185.33    77087.34  3.321953e+08\n",
       "2017-09-10  4335.13  4245.89  4338.08  4032.15   108075.24  4.512444e+08"
      ]
     },
     "execution_count": 17,
     "metadata": {},
     "output_type": "execute_result"
    }
   ],
   "source": [
    "df = CCA.query_freqlypair(freq=CCA.FREQ_DAILY, fsym=\"BTC\", tsym=\"USD\")\n",
    "df.head()"
   ]
  },
  {
   "cell_type": "code",
   "execution_count": 18,
   "id": "94b51809",
   "metadata": {},
   "outputs": [
    {
     "name": "stdout",
     "output_type": "stream",
     "text": [
      "[query] https://min-api.cryptocompare.com/data/v2/histoday {'fsym': 'BTC', 'tsym': 'USD', 'limit': 2000} [0000]\n"
     ]
    },
    {
     "data": {
      "text/html": [
       "<div>\n",
       "<style scoped>\n",
       "    .dataframe tbody tr th:only-of-type {\n",
       "        vertical-align: middle;\n",
       "    }\n",
       "\n",
       "    .dataframe tbody tr th {\n",
       "        vertical-align: top;\n",
       "    }\n",
       "\n",
       "    .dataframe thead th {\n",
       "        text-align: right;\n",
       "    }\n",
       "</style>\n",
       "<table border=\"1\" class=\"dataframe\">\n",
       "  <thead>\n",
       "    <tr style=\"text-align: right;\">\n",
       "      <th></th>\n",
       "      <th>open</th>\n",
       "      <th>close</th>\n",
       "      <th>high</th>\n",
       "      <th>low</th>\n",
       "      <th>volumefrom</th>\n",
       "      <th>volumeto</th>\n",
       "    </tr>\n",
       "    <tr>\n",
       "      <th>datetime</th>\n",
       "      <th></th>\n",
       "      <th></th>\n",
       "      <th></th>\n",
       "      <th></th>\n",
       "      <th></th>\n",
       "      <th></th>\n",
       "    </tr>\n",
       "  </thead>\n",
       "  <tbody>\n",
       "    <tr>\n",
       "      <th>2017-09-06</th>\n",
       "      <td>4409.08</td>\n",
       "      <td>4618.71</td>\n",
       "      <td>4660.04</td>\n",
       "      <td>4401.53</td>\n",
       "      <td>110931.13</td>\n",
       "      <td>5.047172e+08</td>\n",
       "    </tr>\n",
       "    <tr>\n",
       "      <th>2017-09-07</th>\n",
       "      <td>4618.71</td>\n",
       "      <td>4635.60</td>\n",
       "      <td>4690.55</td>\n",
       "      <td>4493.20</td>\n",
       "      <td>70531.23</td>\n",
       "      <td>3.249399e+08</td>\n",
       "    </tr>\n",
       "    <tr>\n",
       "      <th>2017-09-08</th>\n",
       "      <td>4635.60</td>\n",
       "      <td>4326.45</td>\n",
       "      <td>4699.59</td>\n",
       "      <td>4130.88</td>\n",
       "      <td>180364.02</td>\n",
       "      <td>7.868199e+08</td>\n",
       "    </tr>\n",
       "    <tr>\n",
       "      <th>2017-09-09</th>\n",
       "      <td>4326.45</td>\n",
       "      <td>4335.13</td>\n",
       "      <td>4402.15</td>\n",
       "      <td>4185.33</td>\n",
       "      <td>77087.34</td>\n",
       "      <td>3.321953e+08</td>\n",
       "    </tr>\n",
       "    <tr>\n",
       "      <th>2017-09-10</th>\n",
       "      <td>4335.13</td>\n",
       "      <td>4245.89</td>\n",
       "      <td>4338.08</td>\n",
       "      <td>4032.15</td>\n",
       "      <td>108075.24</td>\n",
       "      <td>4.512444e+08</td>\n",
       "    </tr>\n",
       "  </tbody>\n",
       "</table>\n",
       "</div>"
      ],
      "text/plain": [
       "               open    close     high      low  volumefrom      volumeto\n",
       "datetime                                                                \n",
       "2017-09-06  4409.08  4618.71  4660.04  4401.53   110931.13  5.047172e+08\n",
       "2017-09-07  4618.71  4635.60  4690.55  4493.20    70531.23  3.249399e+08\n",
       "2017-09-08  4635.60  4326.45  4699.59  4130.88   180364.02  7.868199e+08\n",
       "2017-09-09  4326.45  4335.13  4402.15  4185.33    77087.34  3.321953e+08\n",
       "2017-09-10  4335.13  4245.89  4338.08  4032.15   108075.24  4.512444e+08"
      ]
     },
     "execution_count": 18,
     "metadata": {},
     "output_type": "execute_result"
    }
   ],
   "source": [
    "df = CCA.query_dailypair(fsym=\"BTC\", tsym=\"USD\")\n",
    "df.head()"
   ]
  },
  {
   "cell_type": "markdown",
   "id": "36b9ee31",
   "metadata": {},
   "source": [
    "### hourly"
   ]
  },
  {
   "cell_type": "code",
   "execution_count": 19,
   "id": "ae443bd9",
   "metadata": {},
   "outputs": [
    {
     "name": "stdout",
     "output_type": "stream",
     "text": [
      "[query] https://min-api.cryptocompare.com/data/v2/histohour {'fsym': 'BTC', 'tsym': 'USD', 'limit': 2000} [0000]\n"
     ]
    },
    {
     "data": {
      "text/html": [
       "<div>\n",
       "<style scoped>\n",
       "    .dataframe tbody tr th:only-of-type {\n",
       "        vertical-align: middle;\n",
       "    }\n",
       "\n",
       "    .dataframe tbody tr th {\n",
       "        vertical-align: top;\n",
       "    }\n",
       "\n",
       "    .dataframe thead th {\n",
       "        text-align: right;\n",
       "    }\n",
       "</style>\n",
       "<table border=\"1\" class=\"dataframe\">\n",
       "  <thead>\n",
       "    <tr style=\"text-align: right;\">\n",
       "      <th></th>\n",
       "      <th>open</th>\n",
       "      <th>close</th>\n",
       "      <th>high</th>\n",
       "      <th>low</th>\n",
       "      <th>volumefrom</th>\n",
       "      <th>volumeto</th>\n",
       "    </tr>\n",
       "    <tr>\n",
       "      <th>datetime</th>\n",
       "      <th></th>\n",
       "      <th></th>\n",
       "      <th></th>\n",
       "      <th></th>\n",
       "      <th></th>\n",
       "      <th></th>\n",
       "    </tr>\n",
       "  </thead>\n",
       "  <tbody>\n",
       "    <tr>\n",
       "      <th>2022-12-06 03:00:00</th>\n",
       "      <td>17034.55</td>\n",
       "      <td>17004.26</td>\n",
       "      <td>17057.69</td>\n",
       "      <td>16999.44</td>\n",
       "      <td>1448.69</td>\n",
       "      <td>24669527.28</td>\n",
       "    </tr>\n",
       "    <tr>\n",
       "      <th>2022-12-06 04:00:00</th>\n",
       "      <td>17004.26</td>\n",
       "      <td>17004.52</td>\n",
       "      <td>17013.21</td>\n",
       "      <td>16972.56</td>\n",
       "      <td>1706.89</td>\n",
       "      <td>29008979.31</td>\n",
       "    </tr>\n",
       "    <tr>\n",
       "      <th>2022-12-06 05:00:00</th>\n",
       "      <td>17004.52</td>\n",
       "      <td>16978.42</td>\n",
       "      <td>17008.07</td>\n",
       "      <td>16968.47</td>\n",
       "      <td>1011.79</td>\n",
       "      <td>17188532.28</td>\n",
       "    </tr>\n",
       "    <tr>\n",
       "      <th>2022-12-06 06:00:00</th>\n",
       "      <td>16978.42</td>\n",
       "      <td>17004.41</td>\n",
       "      <td>17020.30</td>\n",
       "      <td>16965.02</td>\n",
       "      <td>1173.96</td>\n",
       "      <td>19956857.03</td>\n",
       "    </tr>\n",
       "    <tr>\n",
       "      <th>2022-12-06 07:00:00</th>\n",
       "      <td>17004.41</td>\n",
       "      <td>17003.74</td>\n",
       "      <td>17019.45</td>\n",
       "      <td>16993.75</td>\n",
       "      <td>924.54</td>\n",
       "      <td>15723047.47</td>\n",
       "    </tr>\n",
       "  </tbody>\n",
       "</table>\n",
       "</div>"
      ],
      "text/plain": [
       "                         open     close      high       low  volumefrom  \\\n",
       "datetime                                                                  \n",
       "2022-12-06 03:00:00  17034.55  17004.26  17057.69  16999.44     1448.69   \n",
       "2022-12-06 04:00:00  17004.26  17004.52  17013.21  16972.56     1706.89   \n",
       "2022-12-06 05:00:00  17004.52  16978.42  17008.07  16968.47     1011.79   \n",
       "2022-12-06 06:00:00  16978.42  17004.41  17020.30  16965.02     1173.96   \n",
       "2022-12-06 07:00:00  17004.41  17003.74  17019.45  16993.75      924.54   \n",
       "\n",
       "                        volumeto  \n",
       "datetime                          \n",
       "2022-12-06 03:00:00  24669527.28  \n",
       "2022-12-06 04:00:00  29008979.31  \n",
       "2022-12-06 05:00:00  17188532.28  \n",
       "2022-12-06 06:00:00  19956857.03  \n",
       "2022-12-06 07:00:00  15723047.47  "
      ]
     },
     "execution_count": 19,
     "metadata": {},
     "output_type": "execute_result"
    }
   ],
   "source": [
    "df = CCA.query_freqlypair(freq=CCA.FREQ_HOURLY, fsym=\"BTC\", tsym=\"USD\")\n",
    "df.head()"
   ]
  },
  {
   "cell_type": "code",
   "execution_count": 20,
   "id": "41af5b74",
   "metadata": {},
   "outputs": [
    {
     "name": "stdout",
     "output_type": "stream",
     "text": [
      "[query] https://min-api.cryptocompare.com/data/v2/histohour {'fsym': 'BTC', 'tsym': 'USD', 'limit': 2000} [0000]\n"
     ]
    },
    {
     "data": {
      "text/html": [
       "<div>\n",
       "<style scoped>\n",
       "    .dataframe tbody tr th:only-of-type {\n",
       "        vertical-align: middle;\n",
       "    }\n",
       "\n",
       "    .dataframe tbody tr th {\n",
       "        vertical-align: top;\n",
       "    }\n",
       "\n",
       "    .dataframe thead th {\n",
       "        text-align: right;\n",
       "    }\n",
       "</style>\n",
       "<table border=\"1\" class=\"dataframe\">\n",
       "  <thead>\n",
       "    <tr style=\"text-align: right;\">\n",
       "      <th></th>\n",
       "      <th>open</th>\n",
       "      <th>close</th>\n",
       "      <th>high</th>\n",
       "      <th>low</th>\n",
       "      <th>volumefrom</th>\n",
       "      <th>volumeto</th>\n",
       "    </tr>\n",
       "    <tr>\n",
       "      <th>datetime</th>\n",
       "      <th></th>\n",
       "      <th></th>\n",
       "      <th></th>\n",
       "      <th></th>\n",
       "      <th></th>\n",
       "      <th></th>\n",
       "    </tr>\n",
       "  </thead>\n",
       "  <tbody>\n",
       "    <tr>\n",
       "      <th>2022-12-06 03:00:00</th>\n",
       "      <td>17034.55</td>\n",
       "      <td>17004.26</td>\n",
       "      <td>17057.69</td>\n",
       "      <td>16999.44</td>\n",
       "      <td>1448.69</td>\n",
       "      <td>24669527.28</td>\n",
       "    </tr>\n",
       "    <tr>\n",
       "      <th>2022-12-06 04:00:00</th>\n",
       "      <td>17004.26</td>\n",
       "      <td>17004.52</td>\n",
       "      <td>17013.21</td>\n",
       "      <td>16972.56</td>\n",
       "      <td>1706.89</td>\n",
       "      <td>29008979.31</td>\n",
       "    </tr>\n",
       "    <tr>\n",
       "      <th>2022-12-06 05:00:00</th>\n",
       "      <td>17004.52</td>\n",
       "      <td>16978.42</td>\n",
       "      <td>17008.07</td>\n",
       "      <td>16968.47</td>\n",
       "      <td>1011.79</td>\n",
       "      <td>17188532.28</td>\n",
       "    </tr>\n",
       "    <tr>\n",
       "      <th>2022-12-06 06:00:00</th>\n",
       "      <td>16978.42</td>\n",
       "      <td>17004.41</td>\n",
       "      <td>17020.30</td>\n",
       "      <td>16965.02</td>\n",
       "      <td>1173.96</td>\n",
       "      <td>19956857.03</td>\n",
       "    </tr>\n",
       "    <tr>\n",
       "      <th>2022-12-06 07:00:00</th>\n",
       "      <td>17004.41</td>\n",
       "      <td>17003.74</td>\n",
       "      <td>17019.45</td>\n",
       "      <td>16993.75</td>\n",
       "      <td>924.54</td>\n",
       "      <td>15723047.47</td>\n",
       "    </tr>\n",
       "  </tbody>\n",
       "</table>\n",
       "</div>"
      ],
      "text/plain": [
       "                         open     close      high       low  volumefrom  \\\n",
       "datetime                                                                  \n",
       "2022-12-06 03:00:00  17034.55  17004.26  17057.69  16999.44     1448.69   \n",
       "2022-12-06 04:00:00  17004.26  17004.52  17013.21  16972.56     1706.89   \n",
       "2022-12-06 05:00:00  17004.52  16978.42  17008.07  16968.47     1011.79   \n",
       "2022-12-06 06:00:00  16978.42  17004.41  17020.30  16965.02     1173.96   \n",
       "2022-12-06 07:00:00  17004.41  17003.74  17019.45  16993.75      924.54   \n",
       "\n",
       "                        volumeto  \n",
       "datetime                          \n",
       "2022-12-06 03:00:00  24669527.28  \n",
       "2022-12-06 04:00:00  29008979.31  \n",
       "2022-12-06 05:00:00  17188532.28  \n",
       "2022-12-06 06:00:00  19956857.03  \n",
       "2022-12-06 07:00:00  15723047.47  "
      ]
     },
     "execution_count": 20,
     "metadata": {},
     "output_type": "execute_result"
    }
   ],
   "source": [
    "df = CCA.query_hourlypair(fsym=\"BTC\", tsym=\"USD\")\n",
    "df.head()"
   ]
  },
  {
   "cell_type": "markdown",
   "id": "a34a99ff",
   "metadata": {},
   "source": [
    "### minutely"
   ]
  },
  {
   "cell_type": "code",
   "execution_count": 21,
   "id": "b291c56b",
   "metadata": {},
   "outputs": [
    {
     "name": "stdout",
     "output_type": "stream",
     "text": [
      "[query] https://min-api.cryptocompare.com/data/v2/histominute {'fsym': 'BTC', 'tsym': 'USD', 'limit': 2000} [0000]\n"
     ]
    },
    {
     "data": {
      "text/html": [
       "<div>\n",
       "<style scoped>\n",
       "    .dataframe tbody tr th:only-of-type {\n",
       "        vertical-align: middle;\n",
       "    }\n",
       "\n",
       "    .dataframe tbody tr th {\n",
       "        vertical-align: top;\n",
       "    }\n",
       "\n",
       "    .dataframe thead th {\n",
       "        text-align: right;\n",
       "    }\n",
       "</style>\n",
       "<table border=\"1\" class=\"dataframe\">\n",
       "  <thead>\n",
       "    <tr style=\"text-align: right;\">\n",
       "      <th></th>\n",
       "      <th>open</th>\n",
       "      <th>close</th>\n",
       "      <th>high</th>\n",
       "      <th>low</th>\n",
       "      <th>volumefrom</th>\n",
       "      <th>volumeto</th>\n",
       "    </tr>\n",
       "    <tr>\n",
       "      <th>datetime</th>\n",
       "      <th></th>\n",
       "      <th></th>\n",
       "      <th></th>\n",
       "      <th></th>\n",
       "      <th></th>\n",
       "      <th></th>\n",
       "    </tr>\n",
       "  </thead>\n",
       "  <tbody>\n",
       "    <tr>\n",
       "      <th>2023-02-26 02:02:00</th>\n",
       "      <td>23113.78</td>\n",
       "      <td>23112.50</td>\n",
       "      <td>23114.67</td>\n",
       "      <td>23112.34</td>\n",
       "      <td>1.263</td>\n",
       "      <td>29186.26</td>\n",
       "    </tr>\n",
       "    <tr>\n",
       "      <th>2023-02-26 02:03:00</th>\n",
       "      <td>23112.50</td>\n",
       "      <td>23114.21</td>\n",
       "      <td>23114.24</td>\n",
       "      <td>23112.50</td>\n",
       "      <td>3.870</td>\n",
       "      <td>89452.28</td>\n",
       "    </tr>\n",
       "    <tr>\n",
       "      <th>2023-02-26 02:04:00</th>\n",
       "      <td>23114.21</td>\n",
       "      <td>23113.72</td>\n",
       "      <td>23114.49</td>\n",
       "      <td>23113.09</td>\n",
       "      <td>1.134</td>\n",
       "      <td>26218.46</td>\n",
       "    </tr>\n",
       "    <tr>\n",
       "      <th>2023-02-26 02:05:00</th>\n",
       "      <td>23113.72</td>\n",
       "      <td>23110.66</td>\n",
       "      <td>23114.23</td>\n",
       "      <td>23110.66</td>\n",
       "      <td>5.503</td>\n",
       "      <td>127161.57</td>\n",
       "    </tr>\n",
       "    <tr>\n",
       "      <th>2023-02-26 02:06:00</th>\n",
       "      <td>23110.66</td>\n",
       "      <td>23100.52</td>\n",
       "      <td>23110.66</td>\n",
       "      <td>23100.42</td>\n",
       "      <td>11.990</td>\n",
       "      <td>276913.56</td>\n",
       "    </tr>\n",
       "  </tbody>\n",
       "</table>\n",
       "</div>"
      ],
      "text/plain": [
       "                         open     close      high       low  volumefrom  \\\n",
       "datetime                                                                  \n",
       "2023-02-26 02:02:00  23113.78  23112.50  23114.67  23112.34       1.263   \n",
       "2023-02-26 02:03:00  23112.50  23114.21  23114.24  23112.50       3.870   \n",
       "2023-02-26 02:04:00  23114.21  23113.72  23114.49  23113.09       1.134   \n",
       "2023-02-26 02:05:00  23113.72  23110.66  23114.23  23110.66       5.503   \n",
       "2023-02-26 02:06:00  23110.66  23100.52  23110.66  23100.42      11.990   \n",
       "\n",
       "                      volumeto  \n",
       "datetime                        \n",
       "2023-02-26 02:02:00   29186.26  \n",
       "2023-02-26 02:03:00   89452.28  \n",
       "2023-02-26 02:04:00   26218.46  \n",
       "2023-02-26 02:05:00  127161.57  \n",
       "2023-02-26 02:06:00  276913.56  "
      ]
     },
     "execution_count": 21,
     "metadata": {},
     "output_type": "execute_result"
    }
   ],
   "source": [
    "df = CCA.query_freqlypair(freq=CCA.FREQ_MINUTELY, fsym=\"BTC\", tsym=\"USD\")\n",
    "df.head()"
   ]
  },
  {
   "cell_type": "code",
   "execution_count": 22,
   "id": "616b06c4",
   "metadata": {},
   "outputs": [
    {
     "name": "stdout",
     "output_type": "stream",
     "text": [
      "[query] https://min-api.cryptocompare.com/data/v2/histominute {'fsym': 'BTC', 'tsym': 'USD', 'limit': 2000} [0000]\n"
     ]
    },
    {
     "data": {
      "text/html": [
       "<div>\n",
       "<style scoped>\n",
       "    .dataframe tbody tr th:only-of-type {\n",
       "        vertical-align: middle;\n",
       "    }\n",
       "\n",
       "    .dataframe tbody tr th {\n",
       "        vertical-align: top;\n",
       "    }\n",
       "\n",
       "    .dataframe thead th {\n",
       "        text-align: right;\n",
       "    }\n",
       "</style>\n",
       "<table border=\"1\" class=\"dataframe\">\n",
       "  <thead>\n",
       "    <tr style=\"text-align: right;\">\n",
       "      <th></th>\n",
       "      <th>open</th>\n",
       "      <th>close</th>\n",
       "      <th>high</th>\n",
       "      <th>low</th>\n",
       "      <th>volumefrom</th>\n",
       "      <th>volumeto</th>\n",
       "    </tr>\n",
       "    <tr>\n",
       "      <th>datetime</th>\n",
       "      <th></th>\n",
       "      <th></th>\n",
       "      <th></th>\n",
       "      <th></th>\n",
       "      <th></th>\n",
       "      <th></th>\n",
       "    </tr>\n",
       "  </thead>\n",
       "  <tbody>\n",
       "    <tr>\n",
       "      <th>2023-02-26 02:02:00</th>\n",
       "      <td>23113.78</td>\n",
       "      <td>23112.50</td>\n",
       "      <td>23114.67</td>\n",
       "      <td>23112.34</td>\n",
       "      <td>1.263</td>\n",
       "      <td>29186.26</td>\n",
       "    </tr>\n",
       "    <tr>\n",
       "      <th>2023-02-26 02:03:00</th>\n",
       "      <td>23112.50</td>\n",
       "      <td>23114.21</td>\n",
       "      <td>23114.24</td>\n",
       "      <td>23112.50</td>\n",
       "      <td>3.870</td>\n",
       "      <td>89452.28</td>\n",
       "    </tr>\n",
       "    <tr>\n",
       "      <th>2023-02-26 02:04:00</th>\n",
       "      <td>23114.21</td>\n",
       "      <td>23113.72</td>\n",
       "      <td>23114.49</td>\n",
       "      <td>23113.09</td>\n",
       "      <td>1.134</td>\n",
       "      <td>26218.46</td>\n",
       "    </tr>\n",
       "    <tr>\n",
       "      <th>2023-02-26 02:05:00</th>\n",
       "      <td>23113.72</td>\n",
       "      <td>23110.66</td>\n",
       "      <td>23114.23</td>\n",
       "      <td>23110.66</td>\n",
       "      <td>5.503</td>\n",
       "      <td>127161.57</td>\n",
       "    </tr>\n",
       "    <tr>\n",
       "      <th>2023-02-26 02:06:00</th>\n",
       "      <td>23110.66</td>\n",
       "      <td>23100.52</td>\n",
       "      <td>23110.66</td>\n",
       "      <td>23100.42</td>\n",
       "      <td>11.990</td>\n",
       "      <td>276913.56</td>\n",
       "    </tr>\n",
       "  </tbody>\n",
       "</table>\n",
       "</div>"
      ],
      "text/plain": [
       "                         open     close      high       low  volumefrom  \\\n",
       "datetime                                                                  \n",
       "2023-02-26 02:02:00  23113.78  23112.50  23114.67  23112.34       1.263   \n",
       "2023-02-26 02:03:00  23112.50  23114.21  23114.24  23112.50       3.870   \n",
       "2023-02-26 02:04:00  23114.21  23113.72  23114.49  23113.09       1.134   \n",
       "2023-02-26 02:05:00  23113.72  23110.66  23114.23  23110.66       5.503   \n",
       "2023-02-26 02:06:00  23110.66  23100.52  23110.66  23100.42      11.990   \n",
       "\n",
       "                      volumeto  \n",
       "datetime                        \n",
       "2023-02-26 02:02:00   29186.26  \n",
       "2023-02-26 02:03:00   89452.28  \n",
       "2023-02-26 02:04:00   26218.46  \n",
       "2023-02-26 02:05:00  127161.57  \n",
       "2023-02-26 02:06:00  276913.56  "
      ]
     },
     "execution_count": 22,
     "metadata": {},
     "output_type": "execute_result"
    }
   ],
   "source": [
    "df = CCA.query_minutelypair(fsym=\"BTC\", tsym=\"USD\")\n",
    "df.head()"
   ]
  },
  {
   "cell_type": "markdown",
   "id": "6a059ec4",
   "metadata": {},
   "source": [
    "### docs"
   ]
  },
  {
   "cell_type": "code",
   "execution_count": 23,
   "id": "1aaa8588",
   "metadata": {},
   "outputs": [
    {
     "name": "stdout",
     "output_type": "stream",
     "text": [
      "Help on method query_freqlypair in module carbon.helpers.cryptocompare:\n",
      "\n",
      "query_freqlypair(freq, fsym=None, tsym=None, e=None, limit=False, toTs=None, aspandas=True) method of carbon.helpers.cryptocompare.CryptoCompare instance\n",
      "    endpoints = /data/v2/histoday, /data/v2/histohour, /data/v2/histominute\n",
      "    \n",
      "    :freq:     FREQ_DAILY/FD, FREQ_HOURLY/FH, or FREQ_MINUTELY/FM\n",
      "    :fsym:     cryptocurrency symbol of interest\n",
      "    :tsym:     currency symbol to convert into\n",
      "    :e:        exchange to obtain data from\n",
      "    :limit:    number of data points to return (max: 2000; False defaults to that number)\n",
      "    :toTs:     returns historical data BEFORE that timestamp\n",
      "               timestamp format either 1452680400 or pd.Timestamp compatible string \n",
      "    \n",
      "    https://min-api.cryptocompare.com/documentation?key=Historical&cat=dataHistoday\n",
      "    https://min-api.cryptocompare.com/documentation?key=Historical&cat=dataHistohour\n",
      "    https://min-api.cryptocompare.com/documentation?key=Historical&cat=dataHistominute\n",
      "\n"
     ]
    }
   ],
   "source": [
    "help(CCA.query_freqlypair)"
   ]
  },
  {
   "cell_type": "code",
   "execution_count": 24,
   "id": "f7b6e5e2",
   "metadata": {},
   "outputs": [
    {
     "name": "stdout",
     "output_type": "stream",
     "text": [
      "Help on method query_minutelypair in module carbon.helpers.cryptocompare:\n",
      "\n",
      "query_minutelypair(*args, **kwargs) method of carbon.helpers.cryptocompare.CryptoCompare instance\n",
      "    alias for query_freqlypair(FREQ_MINUTELY, ...)\n",
      "\n"
     ]
    }
   ],
   "source": [
    "help(CCA.query_minutelypair)"
   ]
  },
  {
   "cell_type": "markdown",
   "id": "e8884b36-17d2-4faa-a80e-ec0bc9221837",
   "metadata": {
    "lines_to_next_cell": 2
   },
   "source": [
    "## Aggregate query"
   ]
  },
  {
   "cell_type": "code",
   "execution_count": 25,
   "id": "655d7284-2d47-4a14-9e15-73d9e9f3eee7",
   "metadata": {},
   "outputs": [
    {
     "name": "stdout",
     "output_type": "stream",
     "text": [
      "[aggr_query] fields ['open', 'close']\n",
      "[aggr_query] pairs (pair(tknb='ETC', tknq='USD'), pair(tknb='BTC', tknq='USD'))\n",
      "[aggr_query] Querying for raw table 2\n",
      "[query] https://min-api.cryptocompare.com/data/v2/histohour {'fsym': 'ETC', 'tsym': 'USD', 'limit': 2000} [0000]\n",
      "[query] https://min-api.cryptocompare.com/data/v2/histohour {'fsym': 'BTC', 'tsym': 'USD', 'limit': 2000} [0000]\n",
      "[aggr_query] Creating aggregate table\n"
     ]
    },
    {
     "data": {
      "text/plain": [
       "dict_keys(['gaggr', 'aggr', 'rawaggr', 'raw'])"
      ]
     },
     "execution_count": 25,
     "metadata": {},
     "output_type": "execute_result"
    }
   ],
   "source": [
    "r = CCA.aggr_query(\n",
    "    \"ETC/USD, BTC/USD\", \n",
    "    fields=[CCA.FIELD_OPEN, CCA.FIELD_CLOSE], \n",
    "    freq=CCA.FREQ_HOURLY)\n",
    "r.keys()"
   ]
  },
  {
   "cell_type": "code",
   "execution_count": 26,
   "id": "e024549d-7385-4a56-94e6-3143b672fcb0",
   "metadata": {},
   "outputs": [
    {
     "data": {
      "text/html": [
       "<div>\n",
       "<style scoped>\n",
       "    .dataframe tbody tr th:only-of-type {\n",
       "        vertical-align: middle;\n",
       "    }\n",
       "\n",
       "    .dataframe tbody tr th {\n",
       "        vertical-align: top;\n",
       "    }\n",
       "\n",
       "    .dataframe thead tr th {\n",
       "        text-align: left;\n",
       "    }\n",
       "\n",
       "    .dataframe thead tr:last-of-type th {\n",
       "        text-align: right;\n",
       "    }\n",
       "</style>\n",
       "<table border=\"1\" class=\"dataframe\">\n",
       "  <thead>\n",
       "    <tr>\n",
       "      <th></th>\n",
       "      <th colspan=\"6\" halign=\"left\">ETC/USD</th>\n",
       "      <th colspan=\"6\" halign=\"left\">BTC/USD</th>\n",
       "    </tr>\n",
       "    <tr>\n",
       "      <th></th>\n",
       "      <th>open</th>\n",
       "      <th>close</th>\n",
       "      <th>high</th>\n",
       "      <th>low</th>\n",
       "      <th>volumefrom</th>\n",
       "      <th>volumeto</th>\n",
       "      <th>open</th>\n",
       "      <th>close</th>\n",
       "      <th>high</th>\n",
       "      <th>low</th>\n",
       "      <th>volumefrom</th>\n",
       "      <th>volumeto</th>\n",
       "    </tr>\n",
       "    <tr>\n",
       "      <th>datetime</th>\n",
       "      <th></th>\n",
       "      <th></th>\n",
       "      <th></th>\n",
       "      <th></th>\n",
       "      <th></th>\n",
       "      <th></th>\n",
       "      <th></th>\n",
       "      <th></th>\n",
       "      <th></th>\n",
       "      <th></th>\n",
       "      <th></th>\n",
       "      <th></th>\n",
       "    </tr>\n",
       "  </thead>\n",
       "  <tbody>\n",
       "    <tr>\n",
       "      <th>2022-12-06 03:00:00</th>\n",
       "      <td>19.46</td>\n",
       "      <td>19.44</td>\n",
       "      <td>19.51</td>\n",
       "      <td>19.44</td>\n",
       "      <td>1774.54</td>\n",
       "      <td>34564.36</td>\n",
       "      <td>17034.55</td>\n",
       "      <td>17004.26</td>\n",
       "      <td>17057.69</td>\n",
       "      <td>16999.44</td>\n",
       "      <td>1448.69</td>\n",
       "      <td>24669527.28</td>\n",
       "    </tr>\n",
       "    <tr>\n",
       "      <th>2022-12-06 04:00:00</th>\n",
       "      <td>19.44</td>\n",
       "      <td>19.38</td>\n",
       "      <td>19.45</td>\n",
       "      <td>19.26</td>\n",
       "      <td>7724.63</td>\n",
       "      <td>149387.04</td>\n",
       "      <td>17004.26</td>\n",
       "      <td>17004.52</td>\n",
       "      <td>17013.21</td>\n",
       "      <td>16972.56</td>\n",
       "      <td>1706.89</td>\n",
       "      <td>29008979.31</td>\n",
       "    </tr>\n",
       "    <tr>\n",
       "      <th>2022-12-06 05:00:00</th>\n",
       "      <td>19.38</td>\n",
       "      <td>19.32</td>\n",
       "      <td>19.38</td>\n",
       "      <td>19.30</td>\n",
       "      <td>2274.94</td>\n",
       "      <td>43990.71</td>\n",
       "      <td>17004.52</td>\n",
       "      <td>16978.42</td>\n",
       "      <td>17008.07</td>\n",
       "      <td>16968.47</td>\n",
       "      <td>1011.79</td>\n",
       "      <td>17188532.28</td>\n",
       "    </tr>\n",
       "    <tr>\n",
       "      <th>2022-12-06 06:00:00</th>\n",
       "      <td>19.32</td>\n",
       "      <td>19.37</td>\n",
       "      <td>19.39</td>\n",
       "      <td>19.30</td>\n",
       "      <td>1609.11</td>\n",
       "      <td>31107.76</td>\n",
       "      <td>16978.42</td>\n",
       "      <td>17004.41</td>\n",
       "      <td>17020.30</td>\n",
       "      <td>16965.02</td>\n",
       "      <td>1173.96</td>\n",
       "      <td>19956857.03</td>\n",
       "    </tr>\n",
       "    <tr>\n",
       "      <th>2022-12-06 07:00:00</th>\n",
       "      <td>19.37</td>\n",
       "      <td>19.41</td>\n",
       "      <td>19.42</td>\n",
       "      <td>19.36</td>\n",
       "      <td>1252.18</td>\n",
       "      <td>24308.95</td>\n",
       "      <td>17004.41</td>\n",
       "      <td>17003.74</td>\n",
       "      <td>17019.45</td>\n",
       "      <td>16993.75</td>\n",
       "      <td>924.54</td>\n",
       "      <td>15723047.47</td>\n",
       "    </tr>\n",
       "    <tr>\n",
       "      <th>...</th>\n",
       "      <td>...</td>\n",
       "      <td>...</td>\n",
       "      <td>...</td>\n",
       "      <td>...</td>\n",
       "      <td>...</td>\n",
       "      <td>...</td>\n",
       "      <td>...</td>\n",
       "      <td>...</td>\n",
       "      <td>...</td>\n",
       "      <td>...</td>\n",
       "      <td>...</td>\n",
       "      <td>...</td>\n",
       "    </tr>\n",
       "    <tr>\n",
       "      <th>2023-02-27 07:00:00</th>\n",
       "      <td>21.16</td>\n",
       "      <td>21.17</td>\n",
       "      <td>21.25</td>\n",
       "      <td>21.16</td>\n",
       "      <td>3086.49</td>\n",
       "      <td>65481.76</td>\n",
       "      <td>23410.03</td>\n",
       "      <td>23426.99</td>\n",
       "      <td>23451.39</td>\n",
       "      <td>23407.66</td>\n",
       "      <td>678.43</td>\n",
       "      <td>15899813.44</td>\n",
       "    </tr>\n",
       "    <tr>\n",
       "      <th>2023-02-27 08:00:00</th>\n",
       "      <td>21.17</td>\n",
       "      <td>21.13</td>\n",
       "      <td>21.21</td>\n",
       "      <td>21.08</td>\n",
       "      <td>690.58</td>\n",
       "      <td>14609.29</td>\n",
       "      <td>23426.99</td>\n",
       "      <td>23360.29</td>\n",
       "      <td>23452.36</td>\n",
       "      <td>23350.13</td>\n",
       "      <td>963.99</td>\n",
       "      <td>22553666.91</td>\n",
       "    </tr>\n",
       "    <tr>\n",
       "      <th>2023-02-27 09:00:00</th>\n",
       "      <td>21.13</td>\n",
       "      <td>21.15</td>\n",
       "      <td>21.20</td>\n",
       "      <td>21.08</td>\n",
       "      <td>613.59</td>\n",
       "      <td>12988.81</td>\n",
       "      <td>23360.29</td>\n",
       "      <td>23393.24</td>\n",
       "      <td>23433.65</td>\n",
       "      <td>23344.35</td>\n",
       "      <td>701.08</td>\n",
       "      <td>16395968.31</td>\n",
       "    </tr>\n",
       "    <tr>\n",
       "      <th>2023-02-27 10:00:00</th>\n",
       "      <td>21.17</td>\n",
       "      <td>21.09</td>\n",
       "      <td>21.16</td>\n",
       "      <td>21.05</td>\n",
       "      <td>2409.46</td>\n",
       "      <td>50817.04</td>\n",
       "      <td>23393.24</td>\n",
       "      <td>23382.08</td>\n",
       "      <td>23412.94</td>\n",
       "      <td>23355.60</td>\n",
       "      <td>513.68</td>\n",
       "      <td>12012568.36</td>\n",
       "    </tr>\n",
       "    <tr>\n",
       "      <th>2023-02-27 11:00:00</th>\n",
       "      <td>21.11</td>\n",
       "      <td>21.18</td>\n",
       "      <td>21.18</td>\n",
       "      <td>21.09</td>\n",
       "      <td>493.63</td>\n",
       "      <td>10439.28</td>\n",
       "      <td>23382.08</td>\n",
       "      <td>23417.23</td>\n",
       "      <td>23417.23</td>\n",
       "      <td>23375.52</td>\n",
       "      <td>165.69</td>\n",
       "      <td>3877276.34</td>\n",
       "    </tr>\n",
       "  </tbody>\n",
       "</table>\n",
       "<p>2001 rows × 12 columns</p>\n",
       "</div>"
      ],
      "text/plain": [
       "                    ETC/USD                                             \\\n",
       "                       open  close   high    low volumefrom   volumeto   \n",
       "datetime                                                                 \n",
       "2022-12-06 03:00:00   19.46  19.44  19.51  19.44    1774.54   34564.36   \n",
       "2022-12-06 04:00:00   19.44  19.38  19.45  19.26    7724.63  149387.04   \n",
       "2022-12-06 05:00:00   19.38  19.32  19.38  19.30    2274.94   43990.71   \n",
       "2022-12-06 06:00:00   19.32  19.37  19.39  19.30    1609.11   31107.76   \n",
       "2022-12-06 07:00:00   19.37  19.41  19.42  19.36    1252.18   24308.95   \n",
       "...                     ...    ...    ...    ...        ...        ...   \n",
       "2023-02-27 07:00:00   21.16  21.17  21.25  21.16    3086.49   65481.76   \n",
       "2023-02-27 08:00:00   21.17  21.13  21.21  21.08     690.58   14609.29   \n",
       "2023-02-27 09:00:00   21.13  21.15  21.20  21.08     613.59   12988.81   \n",
       "2023-02-27 10:00:00   21.17  21.09  21.16  21.05    2409.46   50817.04   \n",
       "2023-02-27 11:00:00   21.11  21.18  21.18  21.09     493.63   10439.28   \n",
       "\n",
       "                      BTC/USD                                           \\\n",
       "                         open     close      high       low volumefrom   \n",
       "datetime                                                                 \n",
       "2022-12-06 03:00:00  17034.55  17004.26  17057.69  16999.44    1448.69   \n",
       "2022-12-06 04:00:00  17004.26  17004.52  17013.21  16972.56    1706.89   \n",
       "2022-12-06 05:00:00  17004.52  16978.42  17008.07  16968.47    1011.79   \n",
       "2022-12-06 06:00:00  16978.42  17004.41  17020.30  16965.02    1173.96   \n",
       "2022-12-06 07:00:00  17004.41  17003.74  17019.45  16993.75     924.54   \n",
       "...                       ...       ...       ...       ...        ...   \n",
       "2023-02-27 07:00:00  23410.03  23426.99  23451.39  23407.66     678.43   \n",
       "2023-02-27 08:00:00  23426.99  23360.29  23452.36  23350.13     963.99   \n",
       "2023-02-27 09:00:00  23360.29  23393.24  23433.65  23344.35     701.08   \n",
       "2023-02-27 10:00:00  23393.24  23382.08  23412.94  23355.60     513.68   \n",
       "2023-02-27 11:00:00  23382.08  23417.23  23417.23  23375.52     165.69   \n",
       "\n",
       "                                  \n",
       "                        volumeto  \n",
       "datetime                          \n",
       "2022-12-06 03:00:00  24669527.28  \n",
       "2022-12-06 04:00:00  29008979.31  \n",
       "2022-12-06 05:00:00  17188532.28  \n",
       "2022-12-06 06:00:00  19956857.03  \n",
       "2022-12-06 07:00:00  15723047.47  \n",
       "...                          ...  \n",
       "2023-02-27 07:00:00  15899813.44  \n",
       "2023-02-27 08:00:00  22553666.91  \n",
       "2023-02-27 09:00:00  16395968.31  \n",
       "2023-02-27 10:00:00  12012568.36  \n",
       "2023-02-27 11:00:00   3877276.34  \n",
       "\n",
       "[2001 rows x 12 columns]"
      ]
     },
     "execution_count": 26,
     "metadata": {},
     "output_type": "execute_result"
    }
   ],
   "source": [
    "r[\"rawaggr\"]"
   ]
  },
  {
   "cell_type": "code",
   "execution_count": 27,
   "id": "992865db-fd7e-4f5c-b8c7-6e1450641899",
   "metadata": {},
   "outputs": [
    {
     "data": {
      "text/html": [
       "<div>\n",
       "<style scoped>\n",
       "    .dataframe tbody tr th:only-of-type {\n",
       "        vertical-align: middle;\n",
       "    }\n",
       "\n",
       "    .dataframe tbody tr th {\n",
       "        vertical-align: top;\n",
       "    }\n",
       "\n",
       "    .dataframe thead th {\n",
       "        text-align: right;\n",
       "    }\n",
       "</style>\n",
       "<table border=\"1\" class=\"dataframe\">\n",
       "  <thead>\n",
       "    <tr style=\"text-align: right;\">\n",
       "      <th></th>\n",
       "      <th>open</th>\n",
       "      <th>close</th>\n",
       "      <th>high</th>\n",
       "      <th>low</th>\n",
       "      <th>volumefrom</th>\n",
       "      <th>volumeto</th>\n",
       "    </tr>\n",
       "    <tr>\n",
       "      <th>datetime</th>\n",
       "      <th></th>\n",
       "      <th></th>\n",
       "      <th></th>\n",
       "      <th></th>\n",
       "      <th></th>\n",
       "      <th></th>\n",
       "    </tr>\n",
       "  </thead>\n",
       "  <tbody>\n",
       "    <tr>\n",
       "      <th>2022-12-06 03:00:00</th>\n",
       "      <td>19.46</td>\n",
       "      <td>19.44</td>\n",
       "      <td>19.51</td>\n",
       "      <td>19.44</td>\n",
       "      <td>1774.54</td>\n",
       "      <td>34564.36</td>\n",
       "    </tr>\n",
       "    <tr>\n",
       "      <th>2022-12-06 04:00:00</th>\n",
       "      <td>19.44</td>\n",
       "      <td>19.38</td>\n",
       "      <td>19.45</td>\n",
       "      <td>19.26</td>\n",
       "      <td>7724.63</td>\n",
       "      <td>149387.04</td>\n",
       "    </tr>\n",
       "    <tr>\n",
       "      <th>2022-12-06 05:00:00</th>\n",
       "      <td>19.38</td>\n",
       "      <td>19.32</td>\n",
       "      <td>19.38</td>\n",
       "      <td>19.30</td>\n",
       "      <td>2274.94</td>\n",
       "      <td>43990.71</td>\n",
       "    </tr>\n",
       "    <tr>\n",
       "      <th>2022-12-06 06:00:00</th>\n",
       "      <td>19.32</td>\n",
       "      <td>19.37</td>\n",
       "      <td>19.39</td>\n",
       "      <td>19.30</td>\n",
       "      <td>1609.11</td>\n",
       "      <td>31107.76</td>\n",
       "    </tr>\n",
       "    <tr>\n",
       "      <th>2022-12-06 07:00:00</th>\n",
       "      <td>19.37</td>\n",
       "      <td>19.41</td>\n",
       "      <td>19.42</td>\n",
       "      <td>19.36</td>\n",
       "      <td>1252.18</td>\n",
       "      <td>24308.95</td>\n",
       "    </tr>\n",
       "    <tr>\n",
       "      <th>...</th>\n",
       "      <td>...</td>\n",
       "      <td>...</td>\n",
       "      <td>...</td>\n",
       "      <td>...</td>\n",
       "      <td>...</td>\n",
       "      <td>...</td>\n",
       "    </tr>\n",
       "    <tr>\n",
       "      <th>2023-02-27 07:00:00</th>\n",
       "      <td>21.16</td>\n",
       "      <td>21.17</td>\n",
       "      <td>21.25</td>\n",
       "      <td>21.16</td>\n",
       "      <td>3086.49</td>\n",
       "      <td>65481.76</td>\n",
       "    </tr>\n",
       "    <tr>\n",
       "      <th>2023-02-27 08:00:00</th>\n",
       "      <td>21.17</td>\n",
       "      <td>21.13</td>\n",
       "      <td>21.21</td>\n",
       "      <td>21.08</td>\n",
       "      <td>690.58</td>\n",
       "      <td>14609.29</td>\n",
       "    </tr>\n",
       "    <tr>\n",
       "      <th>2023-02-27 09:00:00</th>\n",
       "      <td>21.13</td>\n",
       "      <td>21.15</td>\n",
       "      <td>21.20</td>\n",
       "      <td>21.08</td>\n",
       "      <td>613.59</td>\n",
       "      <td>12988.81</td>\n",
       "    </tr>\n",
       "    <tr>\n",
       "      <th>2023-02-27 10:00:00</th>\n",
       "      <td>21.17</td>\n",
       "      <td>21.09</td>\n",
       "      <td>21.16</td>\n",
       "      <td>21.05</td>\n",
       "      <td>2409.46</td>\n",
       "      <td>50817.04</td>\n",
       "    </tr>\n",
       "    <tr>\n",
       "      <th>2023-02-27 11:00:00</th>\n",
       "      <td>21.11</td>\n",
       "      <td>21.18</td>\n",
       "      <td>21.18</td>\n",
       "      <td>21.09</td>\n",
       "      <td>493.63</td>\n",
       "      <td>10439.28</td>\n",
       "    </tr>\n",
       "  </tbody>\n",
       "</table>\n",
       "<p>2001 rows × 6 columns</p>\n",
       "</div>"
      ],
      "text/plain": [
       "                      open  close   high    low  volumefrom   volumeto\n",
       "datetime                                                              \n",
       "2022-12-06 03:00:00  19.46  19.44  19.51  19.44     1774.54   34564.36\n",
       "2022-12-06 04:00:00  19.44  19.38  19.45  19.26     7724.63  149387.04\n",
       "2022-12-06 05:00:00  19.38  19.32  19.38  19.30     2274.94   43990.71\n",
       "2022-12-06 06:00:00  19.32  19.37  19.39  19.30     1609.11   31107.76\n",
       "2022-12-06 07:00:00  19.37  19.41  19.42  19.36     1252.18   24308.95\n",
       "...                    ...    ...    ...    ...         ...        ...\n",
       "2023-02-27 07:00:00  21.16  21.17  21.25  21.16     3086.49   65481.76\n",
       "2023-02-27 08:00:00  21.17  21.13  21.21  21.08      690.58   14609.29\n",
       "2023-02-27 09:00:00  21.13  21.15  21.20  21.08      613.59   12988.81\n",
       "2023-02-27 10:00:00  21.17  21.09  21.16  21.05     2409.46   50817.04\n",
       "2023-02-27 11:00:00  21.11  21.18  21.18  21.09      493.63   10439.28\n",
       "\n",
       "[2001 rows x 6 columns]"
      ]
     },
     "execution_count": 27,
     "metadata": {},
     "output_type": "execute_result"
    }
   ],
   "source": [
    "r[\"raw\"][\"ETC/USD\"]"
   ]
  },
  {
   "cell_type": "code",
   "execution_count": 28,
   "id": "ee97dc16-6cdc-44f2-912a-5cd8853b6102",
   "metadata": {},
   "outputs": [
    {
     "data": {
      "text/html": [
       "<div>\n",
       "<style scoped>\n",
       "    .dataframe tbody tr th:only-of-type {\n",
       "        vertical-align: middle;\n",
       "    }\n",
       "\n",
       "    .dataframe tbody tr th {\n",
       "        vertical-align: top;\n",
       "    }\n",
       "\n",
       "    .dataframe thead tr th {\n",
       "        text-align: left;\n",
       "    }\n",
       "\n",
       "    .dataframe thead tr:last-of-type th {\n",
       "        text-align: right;\n",
       "    }\n",
       "</style>\n",
       "<table border=\"1\" class=\"dataframe\">\n",
       "  <thead>\n",
       "    <tr>\n",
       "      <th></th>\n",
       "      <th colspan=\"2\" halign=\"left\">close</th>\n",
       "    </tr>\n",
       "    <tr>\n",
       "      <th></th>\n",
       "      <th>ETC/USD</th>\n",
       "      <th>BTC/USD</th>\n",
       "    </tr>\n",
       "    <tr>\n",
       "      <th>datetime</th>\n",
       "      <th></th>\n",
       "      <th></th>\n",
       "    </tr>\n",
       "  </thead>\n",
       "  <tbody>\n",
       "    <tr>\n",
       "      <th>2022-12-06 03:00:00</th>\n",
       "      <td>19.44</td>\n",
       "      <td>17004.26</td>\n",
       "    </tr>\n",
       "    <tr>\n",
       "      <th>2022-12-06 04:00:00</th>\n",
       "      <td>19.38</td>\n",
       "      <td>17004.52</td>\n",
       "    </tr>\n",
       "    <tr>\n",
       "      <th>2022-12-06 05:00:00</th>\n",
       "      <td>19.32</td>\n",
       "      <td>16978.42</td>\n",
       "    </tr>\n",
       "    <tr>\n",
       "      <th>2022-12-06 06:00:00</th>\n",
       "      <td>19.37</td>\n",
       "      <td>17004.41</td>\n",
       "    </tr>\n",
       "    <tr>\n",
       "      <th>2022-12-06 07:00:00</th>\n",
       "      <td>19.41</td>\n",
       "      <td>17003.74</td>\n",
       "    </tr>\n",
       "    <tr>\n",
       "      <th>...</th>\n",
       "      <td>...</td>\n",
       "      <td>...</td>\n",
       "    </tr>\n",
       "    <tr>\n",
       "      <th>2023-02-27 07:00:00</th>\n",
       "      <td>21.17</td>\n",
       "      <td>23426.99</td>\n",
       "    </tr>\n",
       "    <tr>\n",
       "      <th>2023-02-27 08:00:00</th>\n",
       "      <td>21.13</td>\n",
       "      <td>23360.29</td>\n",
       "    </tr>\n",
       "    <tr>\n",
       "      <th>2023-02-27 09:00:00</th>\n",
       "      <td>21.15</td>\n",
       "      <td>23393.24</td>\n",
       "    </tr>\n",
       "    <tr>\n",
       "      <th>2023-02-27 10:00:00</th>\n",
       "      <td>21.09</td>\n",
       "      <td>23382.08</td>\n",
       "    </tr>\n",
       "    <tr>\n",
       "      <th>2023-02-27 11:00:00</th>\n",
       "      <td>21.18</td>\n",
       "      <td>23417.23</td>\n",
       "    </tr>\n",
       "  </tbody>\n",
       "</table>\n",
       "<p>2001 rows × 2 columns</p>\n",
       "</div>"
      ],
      "text/plain": [
       "                      close          \n",
       "                    ETC/USD   BTC/USD\n",
       "datetime                             \n",
       "2022-12-06 03:00:00   19.44  17004.26\n",
       "2022-12-06 04:00:00   19.38  17004.52\n",
       "2022-12-06 05:00:00   19.32  16978.42\n",
       "2022-12-06 06:00:00   19.37  17004.41\n",
       "2022-12-06 07:00:00   19.41  17003.74\n",
       "...                     ...       ...\n",
       "2023-02-27 07:00:00   21.17  23426.99\n",
       "2023-02-27 08:00:00   21.13  23360.29\n",
       "2023-02-27 09:00:00   21.15  23393.24\n",
       "2023-02-27 10:00:00   21.09  23382.08\n",
       "2023-02-27 11:00:00   21.18  23417.23\n",
       "\n",
       "[2001 rows x 2 columns]"
      ]
     },
     "execution_count": 28,
     "metadata": {},
     "output_type": "execute_result"
    }
   ],
   "source": [
    "r[\"aggr\"][\"close\"]"
   ]
  },
  {
   "cell_type": "code",
   "execution_count": 29,
   "id": "f8fecdc0-c014-4ddc-8f95-4dfc973a6fbb",
   "metadata": {},
   "outputs": [
    {
     "data": {
      "text/html": [
       "<div>\n",
       "<style scoped>\n",
       "    .dataframe tbody tr th:only-of-type {\n",
       "        vertical-align: middle;\n",
       "    }\n",
       "\n",
       "    .dataframe tbody tr th {\n",
       "        vertical-align: top;\n",
       "    }\n",
       "\n",
       "    .dataframe thead tr th {\n",
       "        text-align: left;\n",
       "    }\n",
       "\n",
       "    .dataframe thead tr:last-of-type th {\n",
       "        text-align: right;\n",
       "    }\n",
       "</style>\n",
       "<table border=\"1\" class=\"dataframe\">\n",
       "  <thead>\n",
       "    <tr>\n",
       "      <th></th>\n",
       "      <th colspan=\"2\" halign=\"left\">open</th>\n",
       "      <th colspan=\"2\" halign=\"left\">close</th>\n",
       "    </tr>\n",
       "    <tr>\n",
       "      <th></th>\n",
       "      <th>ETC/USD</th>\n",
       "      <th>BTC/USD</th>\n",
       "      <th>ETC/USD</th>\n",
       "      <th>BTC/USD</th>\n",
       "    </tr>\n",
       "    <tr>\n",
       "      <th>datetime</th>\n",
       "      <th></th>\n",
       "      <th></th>\n",
       "      <th></th>\n",
       "      <th></th>\n",
       "    </tr>\n",
       "  </thead>\n",
       "  <tbody>\n",
       "    <tr>\n",
       "      <th>2022-12-06 03:00:00</th>\n",
       "      <td>19.46</td>\n",
       "      <td>17034.55</td>\n",
       "      <td>19.44</td>\n",
       "      <td>17004.26</td>\n",
       "    </tr>\n",
       "    <tr>\n",
       "      <th>2022-12-06 04:00:00</th>\n",
       "      <td>19.44</td>\n",
       "      <td>17004.26</td>\n",
       "      <td>19.38</td>\n",
       "      <td>17004.52</td>\n",
       "    </tr>\n",
       "    <tr>\n",
       "      <th>2022-12-06 05:00:00</th>\n",
       "      <td>19.38</td>\n",
       "      <td>17004.52</td>\n",
       "      <td>19.32</td>\n",
       "      <td>16978.42</td>\n",
       "    </tr>\n",
       "    <tr>\n",
       "      <th>2022-12-06 06:00:00</th>\n",
       "      <td>19.32</td>\n",
       "      <td>16978.42</td>\n",
       "      <td>19.37</td>\n",
       "      <td>17004.41</td>\n",
       "    </tr>\n",
       "    <tr>\n",
       "      <th>2022-12-06 07:00:00</th>\n",
       "      <td>19.37</td>\n",
       "      <td>17004.41</td>\n",
       "      <td>19.41</td>\n",
       "      <td>17003.74</td>\n",
       "    </tr>\n",
       "    <tr>\n",
       "      <th>...</th>\n",
       "      <td>...</td>\n",
       "      <td>...</td>\n",
       "      <td>...</td>\n",
       "      <td>...</td>\n",
       "    </tr>\n",
       "    <tr>\n",
       "      <th>2023-02-27 07:00:00</th>\n",
       "      <td>21.16</td>\n",
       "      <td>23410.03</td>\n",
       "      <td>21.17</td>\n",
       "      <td>23426.99</td>\n",
       "    </tr>\n",
       "    <tr>\n",
       "      <th>2023-02-27 08:00:00</th>\n",
       "      <td>21.17</td>\n",
       "      <td>23426.99</td>\n",
       "      <td>21.13</td>\n",
       "      <td>23360.29</td>\n",
       "    </tr>\n",
       "    <tr>\n",
       "      <th>2023-02-27 09:00:00</th>\n",
       "      <td>21.13</td>\n",
       "      <td>23360.29</td>\n",
       "      <td>21.15</td>\n",
       "      <td>23393.24</td>\n",
       "    </tr>\n",
       "    <tr>\n",
       "      <th>2023-02-27 10:00:00</th>\n",
       "      <td>21.17</td>\n",
       "      <td>23393.24</td>\n",
       "      <td>21.09</td>\n",
       "      <td>23382.08</td>\n",
       "    </tr>\n",
       "    <tr>\n",
       "      <th>2023-02-27 11:00:00</th>\n",
       "      <td>21.11</td>\n",
       "      <td>23382.08</td>\n",
       "      <td>21.18</td>\n",
       "      <td>23417.23</td>\n",
       "    </tr>\n",
       "  </tbody>\n",
       "</table>\n",
       "<p>2001 rows × 4 columns</p>\n",
       "</div>"
      ],
      "text/plain": [
       "                       open             close          \n",
       "                    ETC/USD   BTC/USD ETC/USD   BTC/USD\n",
       "datetime                                               \n",
       "2022-12-06 03:00:00   19.46  17034.55   19.44  17004.26\n",
       "2022-12-06 04:00:00   19.44  17004.26   19.38  17004.52\n",
       "2022-12-06 05:00:00   19.38  17004.52   19.32  16978.42\n",
       "2022-12-06 06:00:00   19.32  16978.42   19.37  17004.41\n",
       "2022-12-06 07:00:00   19.37  17004.41   19.41  17003.74\n",
       "...                     ...       ...     ...       ...\n",
       "2023-02-27 07:00:00   21.16  23410.03   21.17  23426.99\n",
       "2023-02-27 08:00:00   21.17  23426.99   21.13  23360.29\n",
       "2023-02-27 09:00:00   21.13  23360.29   21.15  23393.24\n",
       "2023-02-27 10:00:00   21.17  23393.24   21.09  23382.08\n",
       "2023-02-27 11:00:00   21.11  23382.08   21.18  23417.23\n",
       "\n",
       "[2001 rows x 4 columns]"
      ]
     },
     "execution_count": 29,
     "metadata": {},
     "output_type": "execute_result"
    }
   ],
   "source": [
    "r[\"gaggr\"]"
   ]
  },
  {
   "cell_type": "code",
   "execution_count": 30,
   "id": "fb0acf9a-09fc-4ee8-81d1-c437aedfad31",
   "metadata": {},
   "outputs": [
    {
     "name": "stdout",
     "output_type": "stream",
     "text": [
      "Help on method aggr_query in module carbon.helpers.cryptocompare:\n",
      "\n",
      "aggr_query(pairs, fields=None, incl_raw=True, incl_raw_aggr=True, incl_grand_aggr=True, freq=None, **kwargs) method of carbon.helpers.cryptocompare.CryptoCompare instance\n",
      "    gets the data for pairs from the API and converts it into tables \n",
      "    \n",
      "    :pairs:             the pairs to download, either comma separeted \"ETH/USD, BTC/GBP, ...\" \n",
      "                        or as tuple of tuples ((\"ETH\", \"USD\"), ...)\n",
      "    :fields:            the fields for which to create aggredate data frames, either comma separated\n",
      "                        or as tuple/list; use FREQ_CLOSE and other FIELD_XXX constants here\n",
      "    :incl_raw:          whether to include the individual raw data frames\n",
      "    :incl_raw_aggr:     whether to include the aggregate raw data frame\n",
      "    :incl_grand_aggr:   whether to include a grand aggregate (with double col name)\n",
      "    :freq:              the data frequency [FREQ_DAILY (default), FREQ_HOURLY, FREQ_MINUTELY] \n",
      "    :kwargs:            passed through to `query_freqlypair` (eg `e`, `limit`, `toTs`)\n",
      "    :returns:           dict with the results\n",
      "    \n",
      "    dict structure\n",
      "    \n",
      "    -gaggr\n",
      "        - [data]\n",
      "    -aggr\n",
      "        -open\n",
      "            - [data]\n",
      "        -close\n",
      "            - [data]\n",
      "        ...\n",
      "    -rawaggr\n",
      "        - [data]\n",
      "    -raw\n",
      "        - \"ETH/USD\"\n",
      "            - [data]\n",
      "        ...\n",
      "\n"
     ]
    }
   ],
   "source": [
    "help(CCA.aggr_query)"
   ]
  },
  {
   "cell_type": "markdown",
   "id": "94f19f07-11b3-4766-a02c-72fc0cfebc02",
   "metadata": {},
   "source": [
    "## Staked ETH"
   ]
  },
  {
   "cell_type": "code",
   "execution_count": 34,
   "id": "369d91f7-a784-416b-9e4d-7e49768704f4",
   "metadata": {},
   "outputs": [
    {
     "data": {
      "text/plain": [
       "True"
      ]
     },
     "execution_count": 34,
     "metadata": {},
     "output_type": "execute_result"
    }
   ],
   "source": [
    "\"STETH\" in data_keys"
   ]
  },
  {
   "cell_type": "code",
   "execution_count": 36,
   "id": "55c008d8-79da-4f49-9247-a7256c4677e9",
   "metadata": {},
   "outputs": [
    {
     "name": "stdout",
     "output_type": "stream",
     "text": [
      "[aggr_query] fields ['close']\n",
      "[aggr_query] pairs (pair(tknb='STETH', tknq='ETH'),)\n",
      "[aggr_query] Querying for raw table 1\n",
      "[query] https://min-api.cryptocompare.com/data/v2/histoday {'fsym': 'STETH', 'tsym': 'ETH', 'limit': 2000} [0000]\n",
      "[aggr_query] Creating aggregate table\n"
     ]
    },
    {
     "data": {
      "text/plain": [
       "dict_keys(['gaggr', 'aggr', 'rawaggr', 'raw'])"
      ]
     },
     "execution_count": 36,
     "metadata": {},
     "output_type": "execute_result"
    }
   ],
   "source": [
    "r = CCA.aggr_query(\n",
    "    \"STETH/ETH\", \n",
    "    fields=[CCA.FIELD_CLOSE], \n",
    "    freq=CCA.FREQ_DAILY)\n",
    "r.keys()"
   ]
  },
  {
   "cell_type": "code",
   "execution_count": 42,
   "id": "9b2a7e8c-64ae-495e-a1af-0d4e57eb8129",
   "metadata": {},
   "outputs": [
    {
     "data": {
      "text/html": [
       "<div>\n",
       "<style scoped>\n",
       "    .dataframe tbody tr th:only-of-type {\n",
       "        vertical-align: middle;\n",
       "    }\n",
       "\n",
       "    .dataframe tbody tr th {\n",
       "        vertical-align: top;\n",
       "    }\n",
       "\n",
       "    .dataframe thead tr th {\n",
       "        text-align: left;\n",
       "    }\n",
       "\n",
       "    .dataframe thead tr:last-of-type th {\n",
       "        text-align: right;\n",
       "    }\n",
       "</style>\n",
       "<table border=\"1\" class=\"dataframe\">\n",
       "  <thead>\n",
       "    <tr>\n",
       "      <th></th>\n",
       "      <th>close</th>\n",
       "    </tr>\n",
       "    <tr>\n",
       "      <th></th>\n",
       "      <th>STETH/ETH</th>\n",
       "    </tr>\n",
       "    <tr>\n",
       "      <th>datetime</th>\n",
       "      <th></th>\n",
       "    </tr>\n",
       "  </thead>\n",
       "  <tbody>\n",
       "    <tr>\n",
       "      <th>2017-09-06</th>\n",
       "      <td>0.0000</td>\n",
       "    </tr>\n",
       "    <tr>\n",
       "      <th>2017-09-07</th>\n",
       "      <td>0.0000</td>\n",
       "    </tr>\n",
       "    <tr>\n",
       "      <th>2017-09-08</th>\n",
       "      <td>0.0000</td>\n",
       "    </tr>\n",
       "    <tr>\n",
       "      <th>2017-09-09</th>\n",
       "      <td>0.0000</td>\n",
       "    </tr>\n",
       "    <tr>\n",
       "      <th>2017-09-10</th>\n",
       "      <td>0.0000</td>\n",
       "    </tr>\n",
       "    <tr>\n",
       "      <th>...</th>\n",
       "      <td>...</td>\n",
       "    </tr>\n",
       "    <tr>\n",
       "      <th>2023-02-23</th>\n",
       "      <td>0.9936</td>\n",
       "    </tr>\n",
       "    <tr>\n",
       "      <th>2023-02-24</th>\n",
       "      <td>0.9928</td>\n",
       "    </tr>\n",
       "    <tr>\n",
       "      <th>2023-02-25</th>\n",
       "      <td>0.9959</td>\n",
       "    </tr>\n",
       "    <tr>\n",
       "      <th>2023-02-26</th>\n",
       "      <td>0.9984</td>\n",
       "    </tr>\n",
       "    <tr>\n",
       "      <th>2023-02-27</th>\n",
       "      <td>0.9998</td>\n",
       "    </tr>\n",
       "  </tbody>\n",
       "</table>\n",
       "<p>2001 rows × 1 columns</p>\n",
       "</div>"
      ],
      "text/plain": [
       "               close\n",
       "           STETH/ETH\n",
       "datetime            \n",
       "2017-09-06    0.0000\n",
       "2017-09-07    0.0000\n",
       "2017-09-08    0.0000\n",
       "2017-09-09    0.0000\n",
       "2017-09-10    0.0000\n",
       "...              ...\n",
       "2023-02-23    0.9936\n",
       "2023-02-24    0.9928\n",
       "2023-02-25    0.9959\n",
       "2023-02-26    0.9984\n",
       "2023-02-27    0.9998\n",
       "\n",
       "[2001 rows x 1 columns]"
      ]
     },
     "execution_count": 42,
     "metadata": {},
     "output_type": "execute_result"
    },
    {
     "data": {
      "image/png": "[encoded data removed]",
      "text/plain": [
       "<Figure size 432x288 with 1 Axes>"
      ]
     },
     "metadata": {
      "needs_background": "light"
     },
     "output_type": "display_data"
    }
   ],
   "source": [
    "r[\"aggr\"][\"close\"].plot()\n",
    "r[\"aggr\"][\"close\"]"
   ]
  },
  {
   "cell_type": "code",
   "execution_count": 45,
   "id": "a7aa21a4-11d8-4e1d-a136-e02a8d94df8c",
   "metadata": {},
   "outputs": [
    {
     "name": "stdout",
     "output_type": "stream",
     "text": [
      "[aggr_query] fields ['close']\n",
      "[aggr_query] pairs (pair(tknb='STETH', tknq='ETH'),)\n",
      "[aggr_query] Querying for raw table 1\n",
      "[query] https://min-api.cryptocompare.com/data/v2/histohour {'fsym': 'STETH', 'tsym': 'ETH', 'limit': 2000} [0000]\n",
      "[aggr_query] Creating aggregate table\n"
     ]
    },
    {
     "data": {
      "text/plain": [
       "dict_keys(['gaggr', 'aggr', 'rawaggr', 'raw'])"
      ]
     },
     "execution_count": 45,
     "metadata": {},
     "output_type": "execute_result"
    }
   ],
   "source": [
    "rh = CCA.aggr_query(\n",
    "    \"STETH/ETH\", \n",
    "    fields=[CCA.FIELD_CLOSE], \n",
    "    freq=CCA.FREQ_HOURLY)\n",
    "rh.keys()"
   ]
  },
  {
   "cell_type": "code",
   "execution_count": 46,
   "id": "3a023f1d-9beb-49b6-bc90-3d2274e01e7b",
   "metadata": {},
   "outputs": [
    {
     "data": {
      "text/html": [
       "<div>\n",
       "<style scoped>\n",
       "    .dataframe tbody tr th:only-of-type {\n",
       "        vertical-align: middle;\n",
       "    }\n",
       "\n",
       "    .dataframe tbody tr th {\n",
       "        vertical-align: top;\n",
       "    }\n",
       "\n",
       "    .dataframe thead tr th {\n",
       "        text-align: left;\n",
       "    }\n",
       "\n",
       "    .dataframe thead tr:last-of-type th {\n",
       "        text-align: right;\n",
       "    }\n",
       "</style>\n",
       "<table border=\"1\" class=\"dataframe\">\n",
       "  <thead>\n",
       "    <tr>\n",
       "      <th></th>\n",
       "      <th>close</th>\n",
       "    </tr>\n",
       "    <tr>\n",
       "      <th></th>\n",
       "      <th>STETH/ETH</th>\n",
       "    </tr>\n",
       "    <tr>\n",
       "      <th>datetime</th>\n",
       "      <th></th>\n",
       "    </tr>\n",
       "  </thead>\n",
       "  <tbody>\n",
       "    <tr>\n",
       "      <th>2022-12-06 03:00:00</th>\n",
       "      <td>0.9887</td>\n",
       "    </tr>\n",
       "    <tr>\n",
       "      <th>2022-12-06 04:00:00</th>\n",
       "      <td>0.9896</td>\n",
       "    </tr>\n",
       "    <tr>\n",
       "      <th>2022-12-06 05:00:00</th>\n",
       "      <td>0.9889</td>\n",
       "    </tr>\n",
       "    <tr>\n",
       "      <th>2022-12-06 06:00:00</th>\n",
       "      <td>0.9928</td>\n",
       "    </tr>\n",
       "    <tr>\n",
       "      <th>2022-12-06 07:00:00</th>\n",
       "      <td>0.9866</td>\n",
       "    </tr>\n",
       "    <tr>\n",
       "      <th>...</th>\n",
       "      <td>...</td>\n",
       "    </tr>\n",
       "    <tr>\n",
       "      <th>2023-02-27 07:00:00</th>\n",
       "      <td>0.9998</td>\n",
       "    </tr>\n",
       "    <tr>\n",
       "      <th>2023-02-27 08:00:00</th>\n",
       "      <td>0.9998</td>\n",
       "    </tr>\n",
       "    <tr>\n",
       "      <th>2023-02-27 09:00:00</th>\n",
       "      <td>0.9984</td>\n",
       "    </tr>\n",
       "    <tr>\n",
       "      <th>2023-02-27 10:00:00</th>\n",
       "      <td>0.9998</td>\n",
       "    </tr>\n",
       "    <tr>\n",
       "      <th>2023-02-27 11:00:00</th>\n",
       "      <td>0.9998</td>\n",
       "    </tr>\n",
       "  </tbody>\n",
       "</table>\n",
       "<p>2001 rows × 1 columns</p>\n",
       "</div>"
      ],
      "text/plain": [
       "                        close\n",
       "                    STETH/ETH\n",
       "datetime                     \n",
       "2022-12-06 03:00:00    0.9887\n",
       "2022-12-06 04:00:00    0.9896\n",
       "2022-12-06 05:00:00    0.9889\n",
       "2022-12-06 06:00:00    0.9928\n",
       "2022-12-06 07:00:00    0.9866\n",
       "...                       ...\n",
       "2023-02-27 07:00:00    0.9998\n",
       "2023-02-27 08:00:00    0.9998\n",
       "2023-02-27 09:00:00    0.9984\n",
       "2023-02-27 10:00:00    0.9998\n",
       "2023-02-27 11:00:00    0.9998\n",
       "\n",
       "[2001 rows x 1 columns]"
      ]
     },
     "execution_count": 46,
     "metadata": {},
     "output_type": "execute_result"
    },
    {
     "data": {
      "image/png": "[encoded data removed]",
      "text/plain": [
       "<Figure size 432x288 with 1 Axes>"
      ]
     },
     "metadata": {
      "needs_background": "light"
     },
     "output_type": "display_data"
    }
   ],
   "source": [
    "rh[\"aggr\"][\"close\"].plot()\n",
    "rh[\"aggr\"][\"close\"]"
   ]
  },
  {
   "cell_type": "code",
   "execution_count": null,
   "id": "3a89a9cd-1342-4b01-8e2d-48135e5b8fd6",
   "metadata": {},
   "outputs": [],
   "source": []
  }
 ],
 "metadata": {
  "jupytext": {
   "encoding": "# -*- coding: utf-8 -*-",
   "formats": "ipynb,py:light"
  },
  "kernelspec": {
   "display_name": "Python 3",
   "language": "python",
   "name": "python3"
  },
  "language_info": {
   "codemirror_mode": {
    "name": "ipython",
    "version": 3
   },
   "file_extension": ".py",
   "mimetype": "text/x-python",
   "name": "python",
   "nbconvert_exporter": "python",
   "pygments_lexer": "ipython3",
   "version": "3.8.8"
  }
 },
 "nbformat": 4,
 "nbformat_minor": 5
}
