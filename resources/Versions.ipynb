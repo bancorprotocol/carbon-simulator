{
 "cells": [
  {
   "cell_type": "markdown",
   "id": "7ac97a08",
   "metadata": {},
   "source": [
    "# Versions"
   ]
  },
  {
   "cell_type": "markdown",
   "id": "11971f92",
   "metadata": {},
   "source": [
    "## Python and Jupyter"
   ]
  },
  {
   "cell_type": "code",
   "execution_count": 18,
   "id": "8fdbef80",
   "metadata": {},
   "outputs": [
    {
     "name": "stdout",
     "output_type": "stream",
     "text": [
      "Python 3.8.8\r\n"
     ]
    }
   ],
   "source": [
    "!python --version"
   ]
  },
  {
   "cell_type": "code",
   "execution_count": 19,
   "id": "69facd20",
   "metadata": {},
   "outputs": [
    {
     "name": "stdout",
     "output_type": "stream",
     "text": [
      "6.3.0\r\n"
     ]
    }
   ],
   "source": [
    "!jupyter notebook --version"
   ]
  },
  {
   "cell_type": "code",
   "execution_count": 20,
   "id": "545e4f04",
   "metadata": {},
   "outputs": [
    {
     "name": "stdout",
     "output_type": "stream",
     "text": [
      "Version: 1.13.1\r\n"
     ]
    }
   ],
   "source": [
    "!pip show jupytext  | grep Version"
   ]
  },
  {
   "cell_type": "markdown",
   "id": "c61b7059",
   "metadata": {},
   "source": [
    "## Analytics packages"
   ]
  },
  {
   "cell_type": "code",
   "execution_count": 21,
   "id": "f7a2b9b2",
   "metadata": {},
   "outputs": [
    {
     "name": "stdout",
     "output_type": "stream",
     "text": [
      "Version: 1.20.1\r\n"
     ]
    }
   ],
   "source": [
    "!pip show numpy | grep Version"
   ]
  },
  {
   "cell_type": "code",
   "execution_count": 22,
   "id": "1dcef7be",
   "metadata": {},
   "outputs": [
    {
     "name": "stdout",
     "output_type": "stream",
     "text": [
      "Version: 3.3.4\r\n"
     ]
    }
   ],
   "source": [
    "!pip show matplotlib  | grep Version"
   ]
  },
  {
   "cell_type": "code",
   "execution_count": 25,
   "id": "abc4cd3e",
   "metadata": {},
   "outputs": [
    {
     "name": "stdout",
     "output_type": "stream",
     "text": [
      "Version: 1.2.4\r\n"
     ]
    }
   ],
   "source": [
    "!pip show pandas | grep Version"
   ]
  },
  {
   "cell_type": "code",
   "execution_count": 23,
   "id": "c559d5f9",
   "metadata": {},
   "outputs": [
    {
     "name": "stdout",
     "output_type": "stream",
     "text": [
      "Version: 1.8\r\n"
     ]
    }
   ],
   "source": [
    "!pip show sympy | grep Version"
   ]
  },
  {
   "cell_type": "code",
   "execution_count": 24,
   "id": "6680e82c",
   "metadata": {},
   "outputs": [
    {
     "name": "stdout",
     "output_type": "stream",
     "text": [
      "Version: 1.6.2\r\n"
     ]
    }
   ],
   "source": [
    "!pip show scipy  | grep Version"
   ]
  },
  {
   "cell_type": "code",
   "execution_count": null,
   "id": "df3fbe62",
   "metadata": {},
   "outputs": [],
   "source": []
  }
 ],
 "metadata": {
  "kernelspec": {
   "display_name": "Python 3",
   "language": "python",
   "name": "python3"
  },
  "language_info": {
   "codemirror_mode": {
    "name": "ipython",
    "version": 3
   },
   "file_extension": ".py",
   "mimetype": "text/x-python",
   "name": "python",
   "nbconvert_exporter": "python",
   "pygments_lexer": "ipython3",
   "version": "3.8.8"
  }
 },
 "nbformat": 4,
 "nbformat_minor": 5
}
