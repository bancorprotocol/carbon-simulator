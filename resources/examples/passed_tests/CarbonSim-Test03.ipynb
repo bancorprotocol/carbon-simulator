{
 "cells": [
  {
   "cell_type": "code",
   "execution_count": 16,
   "id": "257e7d5a",
   "metadata": {},
   "outputs": [],
   "source": [
    "from carbon import CarbonSimulatorUI\n",
    "from carbon.simulators.carbon_simulator import (\n",
    "    __version__ as uiversion,\n",
    "    __date__ as uidate,\n",
    ")\n",
    "from jupyformat import *"
   ]
  },
  {
   "cell_type": "code",
   "execution_count": 30,
   "id": "bed55c2b",
   "metadata": {},
   "outputs": [
    {
     "name": "stdout",
     "output_type": "stream",
     "text": [
      "[carbon.ui] version 0.9.4 7/Nov/2022\n"
     ]
    },
    {
     "data": {
      "text/html": [
       "<div style='color:green; font-size: 120%'><p><strong>This notebook passed verification.</strong></p></div>"
      ],
      "text/plain": [
       "<IPython.core.display.HTML object>"
      ]
     },
     "execution_count": 30,
     "metadata": {},
     "output_type": "execute_result"
    }
   ],
   "source": [
    "print(\"[carbon.ui] version\", uiversion, uidate)\n",
    "jp()"
   ]
  },
  {
   "cell_type": "markdown",
   "id": "d1c1e4bc",
   "metadata": {},
   "source": [
    "# Carbon Simulation - Test 3\n",
    "\n",
    "Here we check that linked curves fail when the trade size is bigger than liquidity"
   ]
  },
  {
   "cell_type": "code",
   "execution_count": 18,
   "id": "533a1c13",
   "metadata": {},
   "outputs": [
    {
     "name": "stdout",
     "output_type": "stream",
     "text": [
      "[__init__] pair=USDCETH, verbose=True, raiseonerror=False\n"
     ]
    },
    {
     "data": {
      "text/plain": [
       "CarbonSimulatorUI(<0 positions, 0 trades>, pair='USDCETH')"
      ]
     },
     "execution_count": 18,
     "metadata": {},
     "output_type": "execute_result"
    }
   ],
   "source": [
    "Sim = CarbonSimulatorUI(pair=\"USDCETH\", verbose=True)\n",
    "Sim"
   ]
  },
  {
   "cell_type": "markdown",
   "id": "b7244342",
   "metadata": {},
   "source": [
    "The AMM has 100 ETH for sale at 2000. It buys it back at 1000, but has no USDC at the beginning."
   ]
  },
  {
   "cell_type": "code",
   "execution_count": 19,
   "id": "2c8a6e02",
   "metadata": {},
   "outputs": [
    {
     "name": "stdout",
     "output_type": "stream",
     "text": [
      "[add_linked_pos] added\n",
      "tkn=ETH, amt=100, psell1=2000, psell2=2000, amtr=0, pbuy1=1000, pbuy2=1000, pair=USDCETH\n"
     ]
    },
    {
     "data": {
      "text/plain": [
       "{'success': True,\n",
       " 'orders':    id     pair tkn_name       y_int           y       p_high        p_low  \\\n",
       " 0   0  USDCETH      ETH  100.000000  100.000000  2000.000000  2000.000000   \n",
       " 1   1  USDCETH     USDC    0.000000    0.000000  1000.000000  1000.000000   \n",
       " \n",
       "    linked_to_id  \n",
       " 0             1  \n",
       " 1             0  }"
      ]
     },
     "execution_count": 19,
     "metadata": {},
     "output_type": "execute_result"
    }
   ],
   "source": [
    "Sim.add_linked_pos(\"ETH\", 100, 2000, 2000, 0, 1000, 1000)"
   ]
  },
  {
   "cell_type": "code",
   "execution_count": 20,
   "id": "f5a9fb2f",
   "metadata": {},
   "outputs": [
    {
     "name": "stdout",
     "output_type": "stream",
     "text": [
      "[state.orders]\n",
      "+---+----+---------+----------+------------+------------+-------------+-------------+--------------+\n",
      "|   | id |  pair   | tkn_name |   y_int    |     y      |   p_high    |    p_low    | linked_to_id |\n",
      "+---+----+---------+----------+------------+------------+-------------+-------------+--------------+\n",
      "| 0 | 0  | USDCETH |   ETH    | 100.000000 | 100.000000 | 2000.000000 | 2000.000000 |      1       |\n",
      "| 1 | 1  | USDCETH |   USDC   |  0.000000  |  0.000000  | 1000.000000 | 1000.000000 |      0       |\n",
      "+---+----+---------+----------+------------+------------+-------------+-------------+--------------+\n",
      "\n",
      "\n",
      "[state.trades]\n",
      "\n"
     ]
    },
    {
     "data": {
      "text/plain": [
       "{'orders':    id     pair tkn_name       y_int           y       p_high        p_low  \\\n",
       " 0   0  USDCETH      ETH  100.000000  100.000000  2000.000000  2000.000000   \n",
       " 1   1  USDCETH     USDC    0.000000    0.000000  1000.000000  1000.000000   \n",
       " \n",
       "    linked_to_id  \n",
       " 0             1  \n",
       " 1             0  ,\n",
       " 'trades': Empty DataFrame\n",
       " Columns: []\n",
       " Index: []}"
      ]
     },
     "execution_count": 20,
     "metadata": {},
     "output_type": "execute_result"
    }
   ],
   "source": [
    "Sim.state()"
   ]
  },
  {
   "cell_type": "markdown",
   "id": "7f5274d8",
   "metadata": {},
   "source": [
    "The AMM only has 100 ETH, so it can not sell 200"
   ]
  },
  {
   "cell_type": "code",
   "execution_count": 21,
   "id": "6a51ca66",
   "metadata": {},
   "outputs": [
    {
     "name": "stdout",
     "output_type": "stream",
     "text": [
      "Insufficient liquidity across all user positions to support this trade.\n"
     ]
    },
    {
     "data": {
      "text/plain": [
       "{'success': False,\n",
       " 'error': 'Insufficient liquidity across all user positions to support this trade.',\n",
       " 'exception': AssertionError('Insufficient liquidity across all user positions to support this trade.')}"
      ]
     },
     "execution_count": 21,
     "metadata": {},
     "output_type": "execute_result"
    }
   ],
   "source": [
    "Sim.amm_sells(\"ETH\", 200)"
   ]
  },
  {
   "cell_type": "code",
   "execution_count": 22,
   "id": "4c96514a",
   "metadata": {},
   "outputs": [
    {
     "name": "stdout",
     "output_type": "stream",
     "text": [
      "[state.orders]\n",
      "+---+----+---------+----------+------------+------------+-------------+-------------+--------------+\n",
      "|   | id |  pair   | tkn_name |   y_int    |     y      |   p_high    |    p_low    | linked_to_id |\n",
      "+---+----+---------+----------+------------+------------+-------------+-------------+--------------+\n",
      "| 0 | 0  | USDCETH |   ETH    | 100.000000 | 100.000000 | 2000.000000 | 2000.000000 |      1       |\n",
      "| 1 | 1  | USDCETH |   USDC   |  0.000000  |  0.000000  | 1000.000000 | 1000.000000 |      0       |\n",
      "+---+----+---------+----------+------------+------------+-------------+-------------+--------------+\n",
      "\n",
      "\n",
      "[state.trades]\n",
      "\n"
     ]
    },
    {
     "data": {
      "text/plain": [
       "{'orders':    id     pair tkn_name       y_int           y       p_high        p_low  \\\n",
       " 0   0  USDCETH      ETH  100.000000  100.000000  2000.000000  2000.000000   \n",
       " 1   1  USDCETH     USDC    0.000000    0.000000  1000.000000  1000.000000   \n",
       " \n",
       "    linked_to_id  \n",
       " 0             1  \n",
       " 1             0  ,\n",
       " 'trades': Empty DataFrame\n",
       " Columns: []\n",
       " Index: []}"
      ]
     },
     "execution_count": 22,
     "metadata": {},
     "output_type": "execute_result"
    }
   ],
   "source": [
    "Sim.state()"
   ]
  },
  {
   "cell_type": "markdown",
   "id": "74ef9bf4",
   "metadata": {},
   "source": [
    "Now the AMM sells 10 of its ETH. This succeeds"
   ]
  },
  {
   "cell_type": "code",
   "execution_count": 23,
   "id": "aa8c922e",
   "metadata": {},
   "outputs": [
    {
     "name": "stdout",
     "output_type": "stream",
     "text": [
      "trader buys 10.0 ETH for 20000.0 USDC amm sells 10.0 ETH for 20000.0 USDC via order 0\n",
      "10.0 ETH \n",
      " traded for \n",
      "20000.0 USDC \n",
      "\n",
      "num trade routes=1\n"
     ]
    },
    {
     "data": {
      "text/plain": [
       "{'success': True,\n",
       " 'trades':     id                                   summary  amt1     amt2 tkn1  tkn2  \\\n",
       " 0  0.1                             route thru #0  10.0  20000.0  ETH  USDC   \n",
       " 0    0  10.0 ETH \\n traded for \\n20000.0 USDC \\n  10.0  20000.0  ETH  USDC   \n",
       " \n",
       "       pair route_indexes  num_trades            price_avg  \n",
       " 0  USDCETH             0           1               2000.0  \n",
       " 0  USDCETH           [0]           1  2000.0 USDC per ETH  ,\n",
       " 'orders':    id     pair tkn_name       y_int          y       p_high        p_low  \\\n",
       " 0   0  USDCETH      ETH  100.000000  90.000000  2000.000000  2000.000000   \n",
       " \n",
       "    linked_to_id  \n",
       " 0             1  }"
      ]
     },
     "execution_count": 23,
     "metadata": {},
     "output_type": "execute_result"
    }
   ],
   "source": [
    "Sim.amm_sells(\"ETH\", 10)"
   ]
  },
  {
   "cell_type": "code",
   "execution_count": 24,
   "id": "d881ce03",
   "metadata": {},
   "outputs": [
    {
     "name": "stdout",
     "output_type": "stream",
     "text": [
      "[state.orders]\n",
      "+---+----+---------+----------+--------------+--------------+-------------+-------------+--------------+\n",
      "|   | id |  pair   | tkn_name |    y_int     |      y       |   p_high    |    p_low    | linked_to_id |\n",
      "+---+----+---------+----------+--------------+--------------+-------------+-------------+--------------+\n",
      "| 0 | 0  | USDCETH |   ETH    |  100.000000  |  90.000000   | 2000.000000 | 2000.000000 |      1       |\n",
      "| 1 | 1  | USDCETH |   USDC   | 20000.000000 | 20000.000000 | 1000.000000 | 1000.000000 |      0       |\n",
      "+---+----+---------+----------+--------------+--------------+-------------+-------------+--------------+\n",
      "\n",
      "\n",
      "[state.trades]\n",
      "+---+-----+---------------+------+---------+------+------+---------+---------------+------------+---------------------+\n",
      "|   | id  |    summary    | amt1 |  amt2   | tkn1 | tkn2 |  pair   | route_indexes | num_trades |      price_avg      |\n",
      "+---+-----+---------------+------+---------+------+------+---------+---------------+------------+---------------------+\n",
      "| 0 | 0.1 | route thru #0 | 10.0 | 20000.0 | ETH  | USDC | USDCETH |       0       |     1      |       2000.0        |\n",
      "| 0 |  0  |   10.0 ETH    | 10.0 | 20000.0 | ETH  | USDC | USDCETH |      [0]      |     1      | 2000.0 USDC per ETH |\n",
      "|   |     |  traded for   |      |         |      |      |         |               |            |                     |\n",
      "|   |     | 20000.0 USDC  |      |         |      |      |         |               |            |                     |\n",
      "+---+-----+---------------+------+---------+------+------+---------+---------------+------------+---------------------+\n"
     ]
    },
    {
     "data": {
      "text/plain": [
       "{'orders':    id     pair tkn_name         y_int             y       p_high        p_low  \\\n",
       " 0   0  USDCETH      ETH    100.000000     90.000000  2000.000000  2000.000000   \n",
       " 1   1  USDCETH     USDC  20000.000000  20000.000000  1000.000000  1000.000000   \n",
       " \n",
       "    linked_to_id  \n",
       " 0             1  \n",
       " 1             0  ,\n",
       " 'trades':     id                                   summary  amt1     amt2 tkn1  tkn2  \\\n",
       " 0  0.1                             route thru #0  10.0  20000.0  ETH  USDC   \n",
       " 0    0  10.0 ETH \\n traded for \\n20000.0 USDC \\n  10.0  20000.0  ETH  USDC   \n",
       " \n",
       "       pair route_indexes  num_trades            price_avg  \n",
       " 0  USDCETH             0           1               2000.0  \n",
       " 0  USDCETH           [0]           1  2000.0 USDC per ETH  }"
      ]
     },
     "execution_count": 24,
     "metadata": {},
     "output_type": "execute_result"
    }
   ],
   "source": [
    "Sim.state()"
   ]
  },
  {
   "cell_type": "markdown",
   "id": "ca2e47ff",
   "metadata": {},
   "source": [
    "Having sold 10 ETH already, it can now not sell another 100"
   ]
  },
  {
   "cell_type": "code",
   "execution_count": 25,
   "id": "2e78a3d2",
   "metadata": {},
   "outputs": [
    {
     "name": "stdout",
     "output_type": "stream",
     "text": [
      "Insufficient liquidity across all user positions to support this trade.\n"
     ]
    },
    {
     "data": {
      "text/plain": [
       "{'success': False,\n",
       " 'error': 'Insufficient liquidity across all user positions to support this trade.',\n",
       " 'exception': AssertionError('Insufficient liquidity across all user positions to support this trade.')}"
      ]
     },
     "execution_count": 25,
     "metadata": {},
     "output_type": "execute_result"
    }
   ],
   "source": [
    "Sim.amm_sells(\"ETH\", 100)"
   ]
  },
  {
   "cell_type": "markdown",
   "id": "f5029fc9",
   "metadata": {},
   "source": [
    "It can't even sell 90+epsilon"
   ]
  },
  {
   "cell_type": "code",
   "execution_count": 26,
   "id": "766c45c1",
   "metadata": {},
   "outputs": [
    {
     "name": "stdout",
     "output_type": "stream",
     "text": [
      "Insufficient liquidity across all user positions to support this trade.\n"
     ]
    },
    {
     "data": {
      "text/plain": [
       "{'success': False,\n",
       " 'error': 'Insufficient liquidity across all user positions to support this trade.',\n",
       " 'exception': AssertionError('Insufficient liquidity across all user positions to support this trade.')}"
      ]
     },
     "execution_count": 26,
     "metadata": {},
     "output_type": "execute_result"
    }
   ],
   "source": [
    "Sim.amm_sells(\"ETH\", 90.00001)"
   ]
  },
  {
   "cell_type": "markdown",
   "id": "05d32528",
   "metadata": {},
   "source": [
    "It can however sell 90"
   ]
  },
  {
   "cell_type": "code",
   "execution_count": 27,
   "id": "2fd3e82d",
   "metadata": {},
   "outputs": [
    {
     "name": "stdout",
     "output_type": "stream",
     "text": [
      "trader buys 90.0 ETH for 180000.0 USDC amm sells 90.0 ETH for 180000.0 USDC via order 0\n",
      "90.0 ETH \n",
      " traded for \n",
      "180000.0 USDC \n",
      "\n",
      "num trade routes=1\n"
     ]
    },
    {
     "data": {
      "text/plain": [
       "{'success': True,\n",
       " 'trades':     id                                    summary  amt1      amt2 tkn1  tkn2  \\\n",
       " 0  1.1                              route thru #0  90.0  180000.0  ETH  USDC   \n",
       " 0    1  90.0 ETH \\n traded for \\n180000.0 USDC \\n  90.0  180000.0  ETH  USDC   \n",
       " \n",
       "       pair route_indexes  num_trades            price_avg  \n",
       " 0  USDCETH             0           1               2000.0  \n",
       " 0  USDCETH           [0]           1  2000.0 USDC per ETH  ,\n",
       " 'orders':    id     pair tkn_name       y_int         y       p_high        p_low  \\\n",
       " 0   0  USDCETH      ETH  100.000000  0.000000  2000.000000  2000.000000   \n",
       " \n",
       "    linked_to_id  \n",
       " 0             1  }"
      ]
     },
     "execution_count": 27,
     "metadata": {},
     "output_type": "execute_result"
    }
   ],
   "source": [
    "Sim.amm_sells(\"ETH\", 90)"
   ]
  },
  {
   "cell_type": "code",
   "execution_count": 29,
   "id": "7a15d5d9",
   "metadata": {},
   "outputs": [
    {
     "data": {
      "text/plain": [
       "{'success': False,\n",
       " 'error': 'token ETH has no valid liquidity positions',\n",
       " 'exception': Exception('token ETH has no valid liquidity positions')}"
      ]
     },
     "execution_count": 29,
     "metadata": {},
     "output_type": "execute_result"
    }
   ],
   "source": [
    "Sim.amm_sells(\"ETH\", 0.001)"
   ]
  },
  {
   "cell_type": "code",
   "execution_count": null,
   "id": "718e038b",
   "metadata": {},
   "outputs": [],
   "source": []
  }
 ],
 "metadata": {
  "jupytext": {
   "formats": "ipynb,py:light"
  },
  "kernelspec": {
   "display_name": "Python 3",
   "language": "python",
   "name": "python3"
  },
  "language_info": {
   "codemirror_mode": {
    "name": "ipython",
    "version": 3
   },
   "file_extension": ".py",
   "mimetype": "text/x-python",
   "name": "python",
   "nbconvert_exporter": "python",
   "pygments_lexer": "ipython3",
   "version": "3.8.8"
  }
 },
 "nbformat": 4,
 "nbformat_minor": 5
}
