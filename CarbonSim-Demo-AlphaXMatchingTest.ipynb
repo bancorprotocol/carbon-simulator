{
 "cells": [
  {
   "cell_type": "code",
   "execution_count": 1,
   "id": "81b04bbc",
   "metadata": {},
   "outputs": [
    {
     "name": "stdout",
     "output_type": "stream",
     "text": [
      "Carbon Version v2.3.1-BETA2 (29/Jan/2022)\n"
     ]
    }
   ],
   "source": [
    "from carbon import CarbonSimulatorUI, __version__, __date__\n",
    "print(f\"Carbon Version v{__version__} ({__date__})\", )\n",
    "import json\n",
    "import requests\n",
    "import pandas as pd\n",
    "from decimal import Decimal"
   ]
  },
  {
   "attachments": {},
   "cell_type": "markdown",
   "id": "834ae17a",
   "metadata": {},
   "source": [
    "# Carbon Simulation - Demo AlphaX Matching Test\n",
    "This book is for testing new AlphaX implementations"
   ]
  },
  {
   "attachments": {},
   "cell_type": "markdown",
   "id": "62dab5a9",
   "metadata": {},
   "source": [
    "## Enter tkn0 and tkn1"
   ]
  },
  {
   "cell_type": "code",
   "execution_count": 2,
   "id": "1924c15b",
   "metadata": {},
   "outputs": [],
   "source": [
    "tkn0 = \"ETH\"  #base token\n",
    "tkn1 = \"USDC\" #quote token"
   ]
  },
  {
   "attachments": {},
   "cell_type": "markdown",
   "id": "627a65ea",
   "metadata": {},
   "source": [
    "## Initialize Simulator instance"
   ]
  },
  {
   "cell_type": "code",
   "execution_count": 26,
   "id": "eebc356d",
   "metadata": {},
   "outputs": [],
   "source": [
    "Sim =   CarbonSimulatorUI(pair=f\"{tkn0}/{tkn1}\", verbose=False, matching_method='exact')  \n",
    "# Sim =   CarbonSimulatorUI(pair=f\"{tkn0}/{tkn1}\", verbose=False, matching_method='fast')  \n",
    "# ASim =  CarbonSimulatorUI(pair=f\"{tkn0}/{tkn1}\", verbose=False, matching_method='alpha')\n",
    "# A2Sim = CarbonSimulatorUI(pair=f\"{tkn0}/{tkn1}\", verbose=False, matching_method='alpha_x2')\n",
    "# A3Sim = CarbonSimulatorUI(pair=f\"{tkn0}/{tkn1}\", verbose=False, matching_method='alpha_x3')"
   ]
  },
  {
   "cell_type": "code",
   "execution_count": 27,
   "id": "4d4be1a9",
   "metadata": {},
   "outputs": [
    {
     "data": {
      "text/html": [
       "<div>\n",
       "<style scoped>\n",
       "    .dataframe tbody tr th:only-of-type {\n",
       "        vertical-align: middle;\n",
       "    }\n",
       "\n",
       "    .dataframe tbody tr th {\n",
       "        vertical-align: top;\n",
       "    }\n",
       "\n",
       "    .dataframe thead th {\n",
       "        text-align: right;\n",
       "    }\n",
       "</style>\n",
       "<table border=\"1\" class=\"dataframe\">\n",
       "  <thead>\n",
       "    <tr style=\"text-align: right;\">\n",
       "      <th></th>\n",
       "      <th>id</th>\n",
       "      <th>pair</th>\n",
       "      <th>tkn</th>\n",
       "      <th>y_int</th>\n",
       "      <th>y</th>\n",
       "      <th>y_unit</th>\n",
       "      <th>disabled</th>\n",
       "      <th>p_start</th>\n",
       "      <th>p_end</th>\n",
       "      <th>p_marg</th>\n",
       "      <th>p_unit</th>\n",
       "      <th>lid</th>\n",
       "    </tr>\n",
       "  </thead>\n",
       "  <tbody>\n",
       "    <tr>\n",
       "      <th>2</th>\n",
       "      <td>2</td>\n",
       "      <td>ETHUSDC</td>\n",
       "      <td>ETH</td>\n",
       "      <td>0.0</td>\n",
       "      <td>0.0</td>\n",
       "      <td>ETH</td>\n",
       "      <td>True</td>\n",
       "      <td>None</td>\n",
       "      <td>None</td>\n",
       "      <td>None</td>\n",
       "      <td>USDC per ETH</td>\n",
       "      <td>3</td>\n",
       "    </tr>\n",
       "    <tr>\n",
       "      <th>3</th>\n",
       "      <td>3</td>\n",
       "      <td>ETHUSDC</td>\n",
       "      <td>USDC</td>\n",
       "      <td>15000.0</td>\n",
       "      <td>15000.0</td>\n",
       "      <td>USDC</td>\n",
       "      <td>False</td>\n",
       "      <td>2000.0</td>\n",
       "      <td>1666.0</td>\n",
       "      <td>2000.0</td>\n",
       "      <td>USDC per ETH</td>\n",
       "      <td>2</td>\n",
       "    </tr>\n",
       "  </tbody>\n",
       "</table>\n",
       "</div>"
      ],
      "text/plain": [
       "   id     pair   tkn    y_int        y y_unit  disabled p_start   p_end  \\\n",
       "2   2  ETHUSDC   ETH      0.0      0.0    ETH      True    None    None   \n",
       "3   3  ETHUSDC  USDC  15000.0  15000.0   USDC     False  2000.0  1666.0   \n",
       "\n",
       "   p_marg        p_unit  lid  \n",
       "2    None  USDC per ETH    3  \n",
       "3  2000.0  USDC per ETH    2  "
      ]
     },
     "execution_count": 27,
     "metadata": {},
     "output_type": "execute_result"
    }
   ],
   "source": [
    "Sim.add_strategy(tkn=f'{tkn0}', amt_sell=None, psell_start=None, psell_end=None, amt_buy=20000, pbuy_start=2500, pbuy_end=2000, pair=f\"{tkn0}/{tkn1}\")['orders']\n",
    "Sim.add_strategy(tkn=f'{tkn0}', amt_sell=None, psell_start=None, psell_end=None, amt_buy=15000, pbuy_start=2000, pbuy_end=1666, pair=f\"{tkn0}/{tkn1}\")['orders']"
   ]
  },
  {
   "cell_type": "code",
   "execution_count": 28,
   "id": "1a928af1",
   "metadata": {},
   "outputs": [],
   "source": [
    "amount = 30000"
   ]
  },
  {
   "cell_type": "code",
   "execution_count": 29,
   "id": "e87f08ad",
   "metadata": {},
   "outputs": [
    {
     "data": {
      "text/html": [
       "<div>\n",
       "<style scoped>\n",
       "    .dataframe tbody tr th:only-of-type {\n",
       "        vertical-align: middle;\n",
       "    }\n",
       "\n",
       "    .dataframe tbody tr th {\n",
       "        vertical-align: top;\n",
       "    }\n",
       "\n",
       "    .dataframe thead th {\n",
       "        text-align: right;\n",
       "    }\n",
       "</style>\n",
       "<table border=\"1\" class=\"dataframe\">\n",
       "  <thead>\n",
       "    <tr style=\"text-align: right;\">\n",
       "      <th></th>\n",
       "      <th>uid</th>\n",
       "      <th>id</th>\n",
       "      <th>subid</th>\n",
       "      <th>note</th>\n",
       "      <th>aggr</th>\n",
       "      <th>exec</th>\n",
       "      <th>partial</th>\n",
       "      <th>limitfail</th>\n",
       "      <th>amt1</th>\n",
       "      <th>tkn1</th>\n",
       "      <th>amt2</th>\n",
       "      <th>tkn2</th>\n",
       "      <th>pair</th>\n",
       "      <th>routeix</th>\n",
       "      <th>nroutes</th>\n",
       "      <th>price</th>\n",
       "      <th>p_unit</th>\n",
       "    </tr>\n",
       "  </thead>\n",
       "  <tbody>\n",
       "    <tr>\n",
       "      <th>0</th>\n",
       "      <td>0.0</td>\n",
       "      <td>0</td>\n",
       "      <td>0</td>\n",
       "      <td>route #1</td>\n",
       "      <td>False</td>\n",
       "      <td>False</td>\n",
       "      <td>False</td>\n",
       "      <td>None</td>\n",
       "      <td>20000.0</td>\n",
       "      <td>USDC</td>\n",
       "      <td>8.944272</td>\n",
       "      <td>ETH</td>\n",
       "      <td>ETHUSDC</td>\n",
       "      <td>1</td>\n",
       "      <td>1</td>\n",
       "      <td>2104.775952</td>\n",
       "      <td>USDC per ETH</td>\n",
       "    </tr>\n",
       "    <tr>\n",
       "      <th>0</th>\n",
       "      <td>0.1</td>\n",
       "      <td>0</td>\n",
       "      <td>1</td>\n",
       "      <td>route #3</td>\n",
       "      <td>False</td>\n",
       "      <td>False</td>\n",
       "      <td>False</td>\n",
       "      <td>None</td>\n",
       "      <td>10000.0</td>\n",
       "      <td>USDC</td>\n",
       "      <td>5.309027</td>\n",
       "      <td>ETH</td>\n",
       "      <td>ETHUSDC</td>\n",
       "      <td>3</td>\n",
       "      <td>1</td>\n",
       "      <td>2104.775952</td>\n",
       "      <td>USDC per ETH</td>\n",
       "    </tr>\n",
       "    <tr>\n",
       "      <th>0</th>\n",
       "      <td>0</td>\n",
       "      <td>0</td>\n",
       "      <td>A</td>\n",
       "      <td>AMM sells 30000USDC buys 14ETH</td>\n",
       "      <td>True</td>\n",
       "      <td>False</td>\n",
       "      <td>True</td>\n",
       "      <td>None</td>\n",
       "      <td>30000.0</td>\n",
       "      <td>USDC</td>\n",
       "      <td>14.253299</td>\n",
       "      <td>ETH</td>\n",
       "      <td>ETHUSDC</td>\n",
       "      <td>[1, 3]</td>\n",
       "      <td>2</td>\n",
       "      <td>2104.775952</td>\n",
       "      <td>USDC per ETH</td>\n",
       "    </tr>\n",
       "  </tbody>\n",
       "</table>\n",
       "</div>"
      ],
      "text/plain": [
       "   uid  id subid                            note   aggr   exec  partial  \\\n",
       "0  0.0   0     0                        route #1  False  False    False   \n",
       "0  0.1   0     1                        route #3  False  False    False   \n",
       "0    0   0     A  AMM sells 30000USDC buys 14ETH   True  False     True   \n",
       "\n",
       "  limitfail     amt1  tkn1       amt2 tkn2     pair routeix  nroutes  \\\n",
       "0      None  20000.0  USDC   8.944272  ETH  ETHUSDC       1        1   \n",
       "0      None  10000.0  USDC   5.309027  ETH  ETHUSDC       3        1   \n",
       "0      None  30000.0  USDC  14.253299  ETH  ETHUSDC  [1, 3]        2   \n",
       "\n",
       "         price        p_unit  \n",
       "0  2104.775952  USDC per ETH  \n",
       "0  2104.775952  USDC per ETH  \n",
       "0  2104.775952  USDC per ETH  "
      ]
     },
     "execution_count": 29,
     "metadata": {},
     "output_type": "execute_result"
    }
   ],
   "source": [
    "# Enter 1 USDC into the \"SELL ETH for USDC\" box\n",
    "tbTar01 = Sim.amm_sells(f\"{tkn1}\", amount, execute=False, support_partial=True) # route_trade_by_target\n",
    "tbTar01['trades']"
   ]
  },
  {
   "cell_type": "code",
   "execution_count": 30,
   "id": "e061ffa9",
   "metadata": {},
   "outputs": [],
   "source": [
    "amount = 5"
   ]
  },
  {
   "cell_type": "code",
   "execution_count": 31,
   "id": "55daa3c9",
   "metadata": {},
   "outputs": [
    {
     "data": {
      "text/html": [
       "<div>\n",
       "<style scoped>\n",
       "    .dataframe tbody tr th:only-of-type {\n",
       "        vertical-align: middle;\n",
       "    }\n",
       "\n",
       "    .dataframe tbody tr th {\n",
       "        vertical-align: top;\n",
       "    }\n",
       "\n",
       "    .dataframe thead th {\n",
       "        text-align: right;\n",
       "    }\n",
       "</style>\n",
       "<table border=\"1\" class=\"dataframe\">\n",
       "  <thead>\n",
       "    <tr style=\"text-align: right;\">\n",
       "      <th></th>\n",
       "      <th>uid</th>\n",
       "      <th>id</th>\n",
       "      <th>subid</th>\n",
       "      <th>note</th>\n",
       "      <th>aggr</th>\n",
       "      <th>exec</th>\n",
       "      <th>partial</th>\n",
       "      <th>limitfail</th>\n",
       "      <th>amt1</th>\n",
       "      <th>tkn1</th>\n",
       "      <th>amt2</th>\n",
       "      <th>tkn2</th>\n",
       "      <th>pair</th>\n",
       "      <th>routeix</th>\n",
       "      <th>nroutes</th>\n",
       "      <th>price</th>\n",
       "      <th>p_unit</th>\n",
       "    </tr>\n",
       "  </thead>\n",
       "  <tbody>\n",
       "    <tr>\n",
       "      <th>0</th>\n",
       "      <td>1.0</td>\n",
       "      <td>1</td>\n",
       "      <td>0</td>\n",
       "      <td>route #1</td>\n",
       "      <td>False</td>\n",
       "      <td>False</td>\n",
       "      <td>False</td>\n",
       "      <td>None</td>\n",
       "      <td>11726.265742</td>\n",
       "      <td>USDC</td>\n",
       "      <td>5.0</td>\n",
       "      <td>ETH</td>\n",
       "      <td>ETHUSDC</td>\n",
       "      <td>1</td>\n",
       "      <td>1</td>\n",
       "      <td>2345.253148</td>\n",
       "      <td>USDC per ETH</td>\n",
       "    </tr>\n",
       "    <tr>\n",
       "      <th>0</th>\n",
       "      <td>1</td>\n",
       "      <td>1</td>\n",
       "      <td>A</td>\n",
       "      <td>AMM sells 11726USDC buys 5ETH</td>\n",
       "      <td>True</td>\n",
       "      <td>False</td>\n",
       "      <td>False</td>\n",
       "      <td>None</td>\n",
       "      <td>11726.265742</td>\n",
       "      <td>USDC</td>\n",
       "      <td>5.0</td>\n",
       "      <td>ETH</td>\n",
       "      <td>ETHUSDC</td>\n",
       "      <td>[1]</td>\n",
       "      <td>1</td>\n",
       "      <td>2345.253148</td>\n",
       "      <td>USDC per ETH</td>\n",
       "    </tr>\n",
       "  </tbody>\n",
       "</table>\n",
       "</div>"
      ],
      "text/plain": [
       "   uid  id subid                           note   aggr   exec  partial  \\\n",
       "0  1.0   1     0                       route #1  False  False    False   \n",
       "0    1   1     A  AMM sells 11726USDC buys 5ETH   True  False    False   \n",
       "\n",
       "  limitfail          amt1  tkn1  amt2 tkn2     pair routeix  nroutes  \\\n",
       "0      None  11726.265742  USDC   5.0  ETH  ETHUSDC       1        1   \n",
       "0      None  11726.265742  USDC   5.0  ETH  ETHUSDC     [1]        1   \n",
       "\n",
       "         price        p_unit  \n",
       "0  2345.253148  USDC per ETH  \n",
       "0  2345.253148  USDC per ETH  "
      ]
     },
     "execution_count": 31,
     "metadata": {},
     "output_type": "execute_result"
    }
   ],
   "source": [
    "# Enter 1 USDC into the \"BUY ETH for USDC\" box\n",
    "tbSou10 = Sim.amm_buys(f\"{tkn0}\", amount, execute=False, support_partial=False) # route_trade_by_source  #note the variable name \"tbSou10\" == {tradeBySource}{sourceToken}{targetToken}. e.g. in the TokensTraded event tkn1 should be the source token\n",
    "tbSou10['trades']"
   ]
  },
  {
   "attachments": {},
   "cell_type": "markdown",
   "id": "a18398d8",
   "metadata": {},
   "source": [
    "## Add strategies"
   ]
  },
  {
   "cell_type": "code",
   "execution_count": null,
   "id": "761009d3",
   "metadata": {},
   "outputs": [],
   "source": [
    "for SIM in [Sim, ASim, A2Sim, A3Sim]:\n",
    "    SIM.add_strategy(tkn=f'{tkn0}', amt_sell=715, psell_start=2000, psell_end=3000, amt_buy=715, pbuy_start=1700, pbuy_end=1000, pair=f\"{tkn0}/{tkn1}\")['orders']\n",
    "    SIM.add_strategy(tkn=f'{tkn0}', amt_sell=682, psell_start=2001, psell_end=3000, amt_buy=682, pbuy_start=1700, pbuy_end=1000, pair=f\"{tkn0}/{tkn1}\")['orders']\n",
    "    SIM.add_strategy(tkn=f'{tkn0}', amt_sell=8, psell_start=2002, psell_end=3000, amt_buy=8, pbuy_start=1700, pbuy_end=1000, pair=f\"{tkn0}/{tkn1}\")['orders']\n",
    "    SIM.add_strategy(tkn=f'{tkn0}', amt_sell=560, psell_start=2003, psell_end=3000, amt_buy=560, pbuy_start=1700, pbuy_end=1000, pair=f\"{tkn0}/{tkn1}\")['orders']\n",
    "    SIM.add_strategy(tkn=f'{tkn0}', amt_sell=406, psell_start=2004, psell_end=3000, amt_buy=406, pbuy_start=1700, pbuy_end=1000, pair=f\"{tkn0}/{tkn1}\")['orders']\n",
    "    SIM.add_strategy(tkn=f'{tkn0}', amt_sell=592, psell_start=2005, psell_end=3000, amt_buy=592, pbuy_start=1700, pbuy_end=1000, pair=f\"{tkn0}/{tkn1}\")['orders']\n",
    "    SIM.add_strategy(tkn=f'{tkn0}', amt_sell=370, psell_start=2006, psell_end=3000, amt_buy=370, pbuy_start=1700, pbuy_end=1000, pair=f\"{tkn0}/{tkn1}\")['orders']\n",
    "    SIM.add_strategy(tkn=f'{tkn0}', amt_sell=299, psell_start=2007, psell_end=3000, amt_buy=299, pbuy_start=1700, pbuy_end=1000, pair=f\"{tkn0}/{tkn1}\")['orders']\n",
    "    SIM.add_strategy(tkn=f'{tkn0}', amt_sell=629, psell_start=2008, psell_end=3000, amt_buy=629, pbuy_start=1700, pbuy_end=1000, pair=f\"{tkn0}/{tkn1}\")['orders']\n",
    "    SIM.add_strategy(tkn=f'{tkn0}', amt_sell=900, psell_start=2009, psell_end=3000, amt_buy=900, pbuy_start=1700, pbuy_end=1000, pair=f\"{tkn0}/{tkn1}\")['orders']"
   ]
  },
  {
   "cell_type": "code",
   "execution_count": null,
   "id": "e00ebe4b",
   "metadata": {},
   "outputs": [],
   "source": [
    "# for SIM in [Sim, ASim, A2Sim, A3Sim]:\n",
    "#     SIM.add_strategy(tkn=f'{tkn0}', amt_sell=139, psell_start=2000, psell_end=3000, amt_buy=715, pbuy_start=1700, pbuy_end=1000, pair=f\"{tkn0}/{tkn1}\")['orders']\n",
    "#     SIM.add_strategy(tkn=f'{tkn0}', amt_sell=643, psell_start=2001, psell_end=3000, amt_buy=682, pbuy_start=1700, pbuy_end=1000, pair=f\"{tkn0}/{tkn1}\")['orders']\n",
    "#     SIM.add_strategy(tkn=f'{tkn0}', amt_sell=566, psell_start=2002, psell_end=3000, amt_buy=8, pbuy_start=1700, pbuy_end=1000, pair=f\"{tkn0}/{tkn1}\")['orders']\n",
    "#     SIM.add_strategy(tkn=f'{tkn0}', amt_sell=976, psell_start=2003, psell_end=3000, amt_buy=560, pbuy_start=1700, pbuy_end=1000, pair=f\"{tkn0}/{tkn1}\")['orders']\n",
    "#     SIM.add_strategy(tkn=f'{tkn0}', amt_sell=220, psell_start=2004, psell_end=3000, amt_buy=406, pbuy_start=1700, pbuy_end=1000, pair=f\"{tkn0}/{tkn1}\")['orders']\n",
    "#     SIM.add_strategy(tkn=f'{tkn0}', amt_sell=110, psell_start=2005, psell_end=3000, amt_buy=592, pbuy_start=1700, pbuy_end=1000, pair=f\"{tkn0}/{tkn1}\")['orders']\n",
    "#     SIM.add_strategy(tkn=f'{tkn0}', amt_sell=816, psell_start=2006, psell_end=3000, amt_buy=370, pbuy_start=1700, pbuy_end=1000, pair=f\"{tkn0}/{tkn1}\")['orders']\n",
    "#     SIM.add_strategy(tkn=f'{tkn0}', amt_sell=814, psell_start=2007, psell_end=3000, amt_buy=299, pbuy_start=1700, pbuy_end=1000, pair=f\"{tkn0}/{tkn1}\")['orders']\n",
    "#     SIM.add_strategy(tkn=f'{tkn0}', amt_sell=566, psell_start=2008, psell_end=3000, amt_buy=629, pbuy_start=1700, pbuy_end=1000, pair=f\"{tkn0}/{tkn1}\")['orders']\n",
    "#     SIM.add_strategy(tkn=f'{tkn0}', amt_sell=732, psell_start=2009, psell_end=3000, amt_buy=900, pbuy_start=1700, pbuy_end=1000, pair=f\"{tkn0}/{tkn1}\")['orders']"
   ]
  },
  {
   "cell_type": "code",
   "execution_count": null,
   "id": "e10b826e",
   "metadata": {},
   "outputs": [],
   "source": [
    "threshold_orders = 5\n",
    "amount = 6350"
   ]
  },
  {
   "attachments": {},
   "cell_type": "markdown",
   "id": "e6153c68",
   "metadata": {},
   "source": [
    "## Enter an amount"
   ]
  },
  {
   "attachments": {},
   "cell_type": "markdown",
   "id": "a70ff6a4",
   "metadata": {},
   "source": [
    "## APP - \"Buy ETH with USDC\" box"
   ]
  },
  {
   "cell_type": "code",
   "execution_count": null,
   "id": "658a022b",
   "metadata": {},
   "outputs": [],
   "source": [
    "# # Enter 1 USDC into the \"BUY ETH for USDC\" box\n",
    "# tbSou10 = Sim.amm_buys(f\"{tkn1}\", amount, execute=False, support_partial=False) # route_trade_by_source  #note the variable name \"tbSou10\" == {tradeBySource}{sourceToken}{targetToken}. e.g. in the TokensTraded event tkn1 should be the source token\n",
    "# tbSou10['trades']"
   ]
  },
  {
   "cell_type": "code",
   "execution_count": null,
   "id": "f6936c36",
   "metadata": {},
   "outputs": [],
   "source": [
    "# # Enter 1 USDC into the \"BUY ETH for USDC\" box\n",
    "# AtbSou10 = ASim.amm_buys(f\"{tkn1}\", amount, execute=False, support_partial=False) # route_trade_by_source  #note the variable name \"tbSou10\" == {tradeBySource}{sourceToken}{targetToken}. e.g. in the TokensTraded event tkn1 should be the source token\n",
    "# AtbSou10['trades']"
   ]
  },
  {
   "cell_type": "code",
   "execution_count": null,
   "id": "a7f8723e",
   "metadata": {},
   "outputs": [],
   "source": [
    "# # Enter 1 USDC into the \"BUY ETH for USDC\" box\n",
    "# A2tbSou10 = A2Sim.amm_buys(f\"{tkn1}\", amount, execute=False, support_partial=False) # route_trade_by_source  #note the variable name \"tbSou10\" == {tradeBySource}{sourceToken}{targetToken}. e.g. in the TokensTraded event tkn1 should be the source token\n",
    "# A2tbSou10['trades']"
   ]
  },
  {
   "cell_type": "code",
   "execution_count": null,
   "id": "7b12250d",
   "metadata": {},
   "outputs": [],
   "source": [
    "# # Enter 1 USDC into the \"BUY ETH for USDC\" box\n",
    "# A3tbSou10 = A3Sim.amm_buys(f\"{tkn1}\", amount, execute=False, support_partial=False) # route_trade_by_source  #note the variable name \"tbSou10\" == {tradeBySource}{sourceToken}{targetToken}. e.g. in the TokensTraded event tkn1 should be the source token\n",
    "# A3tbSou10['trades']"
   ]
  },
  {
   "cell_type": "code",
   "execution_count": null,
   "id": "7f3d0328",
   "metadata": {},
   "outputs": [],
   "source": []
  },
  {
   "cell_type": "code",
   "execution_count": null,
   "id": "1468b62b",
   "metadata": {},
   "outputs": [],
   "source": [
    "# Enter 1 ETH into the \"BUY ETH for USDC\" box\n",
    "tbTar10 = Sim.amm_sells(f\"{tkn0}\", amount, execute=False, support_partial=True) # route_trade_by_target\n",
    "tbTar10['trades']"
   ]
  },
  {
   "cell_type": "code",
   "execution_count": null,
   "id": "28d33cb2",
   "metadata": {},
   "outputs": [],
   "source": [
    "# Enter 1 ETH into the \"BUY ETH for USDC\" box\n",
    "AtbTar10 = ASim.amm_sells(f\"{tkn0}\", amount, execute=False, support_partial=True, threshold_orders=threshold_orders) # route_trade_by_target\n",
    "AtbTar10['trades']"
   ]
  },
  {
   "cell_type": "code",
   "execution_count": null,
   "id": "f9b15a6c",
   "metadata": {},
   "outputs": [],
   "source": [
    "# Enter 1 ETH into the \"BUY ETH for USDC\" box\n",
    "A2tbTar10 = A2Sim.amm_sells(f\"{tkn0}\", amount, execute=False, support_partial=True, threshold_orders=threshold_orders) # route_trade_by_target\n",
    "A2tbTar10['trades']"
   ]
  },
  {
   "cell_type": "code",
   "execution_count": null,
   "id": "4a78794b",
   "metadata": {},
   "outputs": [],
   "source": [
    "# Enter 1 ETH into the \"BUY ETH for USDC\" box\n",
    "A3tbTar10 = A3Sim.amm_sells(f\"{tkn0}\", amount, execute=False, support_partial=True, threshold_orders=threshold_orders) # route_trade_by_target\n",
    "A3tbTar10['trades']"
   ]
  },
  {
   "attachments": {},
   "cell_type": "markdown",
   "id": "cba9f62d",
   "metadata": {},
   "source": [
    "## APP - \"Sell ETH with USDC\" box"
   ]
  },
  {
   "cell_type": "code",
   "execution_count": null,
   "id": "658a022b",
   "metadata": {},
   "outputs": [],
   "source": [
    "# Enter 1 USDC into the \"SELL ETH for USDC\" box\n",
    "tbTar01 = Sim.amm_sells(f\"{tkn1}\", amount, execute=False, support_partial=True) # route_trade_by_target\n",
    "tbTar01['trades']"
   ]
  },
  {
   "cell_type": "code",
   "execution_count": null,
   "id": "1b5c2336",
   "metadata": {},
   "outputs": [],
   "source": [
    "# Enter 1 USDC into the \"SELL ETH for USDC\" box\n",
    "AtbTar01 = ASim.amm_sells(f\"{tkn1}\", amount, execute=False, support_partial=True, threshold_orders=threshold_orders) # route_trade_by_target\n",
    "AtbTar01['trades']"
   ]
  },
  {
   "cell_type": "code",
   "execution_count": null,
   "id": "b82145eb",
   "metadata": {},
   "outputs": [],
   "source": [
    "# Enter 1 USDC into the \"SELL ETH for USDC\" box\n",
    "A2tbTar01 = A2Sim.amm_sells(f\"{tkn1}\", amount, execute=False, support_partial=True, threshold_orders=threshold_orders) # route_trade_by_target\n",
    "A2tbTar01['trades']"
   ]
  },
  {
   "cell_type": "code",
   "execution_count": null,
   "id": "34ac041b",
   "metadata": {},
   "outputs": [],
   "source": [
    "# Enter 1 USDC into the \"SELL ETH for USDC\" box\n",
    "A3tbTar01 = A3Sim.amm_sells(f\"{tkn1}\", amount, execute=False, support_partial=True, threshold_orders=threshold_orders) # route_trade_by_target\n",
    "A3tbTar01['trades']"
   ]
  },
  {
   "cell_type": "code",
   "execution_count": null,
   "id": "22e6ec09",
   "metadata": {},
   "outputs": [],
   "source": [
    "break"
   ]
  },
  {
   "cell_type": "code",
   "execution_count": null,
   "id": "dc07b5a6",
   "metadata": {},
   "outputs": [],
   "source": []
  },
  {
   "cell_type": "code",
   "execution_count": null,
   "id": "12d7cb84",
   "metadata": {},
   "outputs": [],
   "source": [
    "amount = 5"
   ]
  },
  {
   "cell_type": "code",
   "execution_count": null,
   "id": "658a022b",
   "metadata": {},
   "outputs": [],
   "source": [
    "# Enter 1 ETH into the \"SELL ETH for USDC\" box\n",
    "tbSou01 = Sim.amm_buys(f\"{tkn0}\", amount, execute=False, support_partial=False) # route_trade_by_source\n",
    "tbSou01['trades']"
   ]
  },
  {
   "cell_type": "code",
   "execution_count": null,
   "id": "ddba3621",
   "metadata": {},
   "outputs": [],
   "source": [
    "# Enter 1 ETH into the \"SELL ETH for USDC\" box\n",
    "AtbSou01 = ASim.amm_buys(f\"{tkn0}\", amount, execute=False, support_partial=False) # route_trade_by_source\n",
    "AtbSou01['trades']"
   ]
  },
  {
   "cell_type": "code",
   "execution_count": null,
   "id": "9b23e3b7",
   "metadata": {},
   "outputs": [],
   "source": [
    "# Enter 1 ETH into the \"SELL ETH for USDC\" box\n",
    "A2tbSou01 = A2Sim.amm_buys(f\"{tkn0}\", amount, execute=False, support_partial=False) # route_trade_by_source\n",
    "A2tbSou01['trades']"
   ]
  },
  {
   "cell_type": "code",
   "execution_count": null,
   "id": "48810fff",
   "metadata": {},
   "outputs": [],
   "source": [
    "# Enter 1 ETH into the \"SELL ETH for USDC\" box\n",
    "A3tbSou01 = A3Sim.amm_buys(f\"{tkn0}\", amount, execute=False, support_partial=False) # route_trade_by_source\n",
    "A3tbSou01['trades']"
   ]
  },
  {
   "attachments": {},
   "cell_type": "markdown",
   "id": "9336e134",
   "metadata": {},
   "source": [
    "## Summary of trades"
   ]
  },
  {
   "cell_type": "code",
   "execution_count": null,
   "id": "71f94206",
   "metadata": {},
   "outputs": [],
   "source": [
    "Sim.state()[\"trades\"].query(\"subid=='A'\")"
   ]
  }
 ],
 "metadata": {
  "kernelspec": {
   "display_name": "Python 3",
   "language": "python",
   "name": "python3"
  },
  "language_info": {
   "codemirror_mode": {
    "name": "ipython",
    "version": 3
   },
   "file_extension": ".py",
   "mimetype": "text/x-python",
   "name": "python",
   "nbconvert_exporter": "python",
   "pygments_lexer": "ipython3",
   "version": "3.10.8"
  },
  "vscode": {
   "interpreter": {
    "hash": "43f221103f953d3e0d93840edd77be981e5a5e0e42edc048e3de5278c46a3390"
   }
  }
 },
 "nbformat": 4,
 "nbformat_minor": 5
}
