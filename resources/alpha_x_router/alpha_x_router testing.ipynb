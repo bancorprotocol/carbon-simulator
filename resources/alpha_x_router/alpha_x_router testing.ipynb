{
 "cells": [
  {
   "cell_type": "code",
   "execution_count": null,
   "metadata": {},
   "outputs": [],
   "source": [
    "from alpha_x_router_old import mpr_matchBySource as ogSource\n",
    "from alpha_x_router_old import mpr_matchByTarget as ogTarget\n",
    "from alpha_x_router import mpr_matchBySource as newSource\n",
    "from alpha_x_router import mpr_matchByTarget as newTarget\n",
    "\n",
    "from decimal import Decimal\n",
    "from benchmark import alphaxutils\n",
    "\n",
    "Order = alphaxutils.Order"
   ]
  },
  {
   "cell_type": "code",
   "execution_count": null,
   "metadata": {},
   "outputs": [],
   "source": [
    "# threshold_orders = 6\n",
    "# support_partial = True\n",
    "\n",
    "# ETH side orders\n",
    "# # inputAmount = Decimal('10000') # by Target = USDC amount\n",
    "# inputAmount = Decimal('3') # by Source = ETH amount\n",
    "# order_params = {\n",
    "#     'liquidity':Decimal('5'),\n",
    "#     'highestRate':Decimal('0.0005'), # 2000\n",
    "#     'lowestRate':Decimal('0.0004'),  # 2500\n",
    "#     'marginalRate':Decimal('0.0005'),\n",
    "#     }\n",
    "# order_params2 = {\n",
    "#     'liquidity':Decimal('4'),\n",
    "#     'highestRate':Decimal('0.0006'), # 1666\n",
    "#     'lowestRate':Decimal('0.0005'),  # 2000\n",
    "#     'marginalRate':Decimal('0.0006'),\n",
    "#     }\n",
    "\n",
    "# USDC side orders (approx same)\n",
    "# # inputAmount = Decimal('5')  # by Target = ETH amount\n",
    "# inputAmount = Decimal('30000')  # by Source = USDC amount\n",
    "order_params = {\n",
    "    'liquidity':Decimal('5000'),\n",
    "    'highestRate':Decimal('2500'),\n",
    "    'lowestRate':Decimal('2000'),\n",
    "    'marginalRate':Decimal('2500'),\n",
    "    }\n",
    "order_params2 = {\n",
    "    'liquidity':Decimal('4000'),\n",
    "    'highestRate':Decimal('2000'),\n",
    "    'lowestRate':Decimal('1666'),\n",
    "    'marginalRate':Decimal('2000'),\n",
    "    }\n",
    "\n",
    "orders = []\n",
    "for i in range(5):\n",
    "    orders += [Order(order_params)]\n",
    "    orders += [Order(order_params2)]"
   ]
  },
  {
   "cell_type": "code",
   "execution_count": null,
   "metadata": {},
   "outputs": [],
   "source": [
    "support_partial = True\n",
    "for i in range(1,10000):\n",
    "# for i in range(1,50000,100):\n",
    "    for n in range(2,10): # n = 1 triggers the almost equal to assertion - may need to increase the sensitivity of the goal seek\n",
    "        threshold_orders = n\n",
    "        inputAmount = Decimal(f'{i}')\n",
    "        ogTargetActions = ogTarget(inputAmount, orders, threshold_orders, support_partial)\n",
    "        newTargetActions = newTarget(inputAmount, orders, threshold_orders, support_partial)\n",
    "        assert(ogTargetActions == newTargetActions)\n",
    "        ogSourceActions = ogSource(inputAmount, orders, threshold_orders, support_partial)\n",
    "        newSourceActions = newSource(inputAmount, orders, threshold_orders, support_partial)\n",
    "        assert(ogSourceActions == newSourceActions)\n"
   ]
  }
 ],
 "metadata": {
  "kernelspec": {
   "display_name": "Python 3",
   "language": "python",
   "name": "python3"
  },
  "language_info": {
   "codemirror_mode": {
    "name": "ipython",
    "version": 3
   },
   "file_extension": ".py",
   "mimetype": "text/x-python",
   "name": "python",
   "nbconvert_exporter": "python",
   "pygments_lexer": "ipython3",
   "version": "3.10.8"
  },
  "orig_nbformat": 4,
  "vscode": {
   "interpreter": {
    "hash": "43f221103f953d3e0d93840edd77be981e5a5e0e42edc048e3de5278c46a3390"
   }
  }
 },
 "nbformat": 4,
 "nbformat_minor": 2
}
