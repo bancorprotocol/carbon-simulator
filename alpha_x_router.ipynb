{
 "cells": [
  {
   "cell_type": "code",
   "execution_count": 1,
   "metadata": {},
   "outputs": [],
   "source": [
    "from benchmark import impl\n",
    "from benchmark import alphaxutils\n",
    "from decimal import Decimal\n",
    "import pandas as pd\n",
    "\n",
    "Order = alphaxutils.Order\n",
    "tradeBySourceAmount = alphaxutils.tradeBySourceAmount\n",
    "tradeByTargetAmount = alphaxutils.tradeByTargetAmount\n",
    "AlphaRouter = alphaxutils.AlphaRouter\n",
    "CarbonOrderUI = alphaxutils.CarbonOrderUI\n",
    "assertAlmostEqual = alphaxutils.assertAlmostEqual\n",
    "get_geoprice = AlphaRouter.get_geoprice"
   ]
  },
  {
   "cell_type": "code",
   "execution_count": 2,
   "metadata": {},
   "outputs": [],
   "source": [
    "threshold_orders = 6\n",
    "inputAmount = Decimal('10000') # by Target = USDC amount\n",
    "support_partial = True\n",
    "\n",
    "order_params = {\n",
    "    'liquidity':Decimal('5'),\n",
    "    'highestRate':Decimal('0.0005'), # 2000\n",
    "    'lowestRate':Decimal('0.0004'),  # 2500\n",
    "    'marginalRate':Decimal('0.0005'),\n",
    "    }\n",
    "order_params2 = {\n",
    "    'liquidity':Decimal('4'),\n",
    "    'highestRate':Decimal('0.0006'), # 1666\n",
    "    'lowestRate':Decimal('0.0005'),  # 2000\n",
    "    'marginalRate':Decimal('0.0006'),\n",
    "    }"
   ]
  },
  {
   "cell_type": "code",
   "execution_count": 3,
   "metadata": {},
   "outputs": [
    {
     "data": {
      "text/plain": [
       "Decimal('5')"
      ]
     },
     "execution_count": 3,
     "metadata": {},
     "output_type": "execute_result"
    }
   ],
   "source": [
    "orders = []\n",
    "for i in range(5):\n",
    "    orders += [Order(order_params)]\n",
    "    orders += [Order(order_params2)]\n",
    "\n",
    "indexes = list(range(len(orders)))   \n",
    "\n",
    "orders[0].z"
   ]
  },
  {
   "cell_type": "code",
   "execution_count": 4,
   "metadata": {},
   "outputs": [
    {
     "data": {
      "text/plain": [
       "Decimal('45')"
      ]
     },
     "execution_count": 4,
     "metadata": {},
     "output_type": "execute_result"
    }
   ],
   "source": [
    "total_liquidity = sum(o.y for o in orders)\n",
    "total_liquidity"
   ]
  },
  {
   "cell_type": "markdown",
   "metadata": {},
   "source": [
    "# Trade Functions\n",
    "- Note they use pure math so will exceed the liquidity of an order"
   ]
  },
  {
   "cell_type": "code",
   "execution_count": 5,
   "metadata": {},
   "outputs": [
    {
     "data": {
      "text/plain": [
       "(1, Decimal('0.00049999472141527749746388041246312117636319382087660'))"
      ]
     },
     "execution_count": 5,
     "metadata": {},
     "output_type": "execute_result"
    }
   ],
   "source": [
    "# trade 1 ETH into the first order \n",
    "tradeBySourceAmount(1, orders[0])"
   ]
  },
  {
   "cell_type": "code",
   "execution_count": 6,
   "metadata": {},
   "outputs": [
    {
     "data": {
      "text/plain": [
       "(Decimal('-96648.952539255305385209096450200859865898827170900'),\n",
       " Decimal('2374.6507262194609015632130899344576184001508194173'))"
      ]
     },
     "execution_count": 6,
     "metadata": {},
     "output_type": "execute_result"
    }
   ],
   "source": [
    "# trade out exactly 2374.6507262194609015632130899344576184001508194173... USDC\n",
    "tradeByTargetAmount(Decimal('2374.6507262194609015632130899344576184001508194173'), orders[0])"
   ]
  },
  {
   "attachments": {},
   "cell_type": "markdown",
   "metadata": {},
   "source": [
    "# Match by Target"
   ]
  },
  {
   "cell_type": "code",
   "execution_count": 7,
   "metadata": {},
   "outputs": [],
   "source": [
    "def matchByTarget_selector(inputAmount, orders):\n",
    "    hypothetical_output_amts = {i: tradeBySourceAmount(x=inputAmount, order=orders[i])[1] for i in indexes}   # WTF not sure why this is bySource but it works - for input USDC as target, orders defined in ETH per USDC\n",
    "    # max_output_amt = {i: tradeByTargetAmount(x=orders[i].y, order=orders[i])[1] for i in indexes}  \n",
    "    associated_liquidity = [orders[i].y for i in hypothetical_output_amts.keys()]\n",
    "\n",
    "    amounts = []\n",
    "    effective_prices = []\n",
    "    available_value = []\n",
    "    for k, v in hypothetical_output_amts.items():\n",
    "        if v > orders[k].y:\n",
    "            # print('1')\n",
    "            price = get_geoprice(k, orders)\n",
    "            amount = orders[k].y\n",
    "            amounts += [amount]\n",
    "            effective_prices += [price]\n",
    "            available_value += [amount / price]\n",
    "        else:\n",
    "            # print('2')\n",
    "            amounts += [v]\n",
    "            price = v / inputAmount\n",
    "            effective_prices += [price]\n",
    "            available_value += [v / price]\n",
    "\n",
    "    results = pd.DataFrame(\n",
    "        [\n",
    "            hypothetical_output_amts.keys(),\n",
    "            hypothetical_output_amts.values(),\n",
    "            associated_liquidity,\n",
    "            amounts,\n",
    "            effective_prices,\n",
    "            available_value,\n",
    "        ],\n",
    "        index=[\n",
    "            \"indexes\",\n",
    "            \"hypothetical_output_amts\",\n",
    "            \"associated_liquidity\",\n",
    "            \"amount\",\n",
    "            \"effective_prices\",\n",
    "            \"available_value\",\n",
    "        ],\n",
    "    )\n",
    "    results = results.T.copy()\n",
    "    results.sort_values(\n",
    "        by=[\"hypothetical_output_amts\", 'indexes'], ascending=[False, True], inplace=True\n",
    "    )\n",
    "\n",
    "    results.fillna(0, inplace=True)\n",
    "    results.reset_index(inplace=True, drop=True)\n",
    "    # results\n",
    "\n",
    "    if (not support_partial) & (results.available_value.sum() < abs(inputAmount)):\n",
    "        print('Insufficient Liquidity')\n",
    "        return(None)\n",
    "    else:\n",
    "        passed_indexes = AlphaRouter.gen_one_order_selector(results.available_value, abs(inputAmount), threshold_orders)\n",
    "        top_n_threshold_orders = [results.indexes[i] for i in passed_indexes]\n",
    "    order_subset = [orders[i] for i in top_n_threshold_orders]\n",
    "    total_subset_liquidity = results[results.indexes.isin(top_n_threshold_orders)].available_value.sum()\n",
    "    return(order_subset, total_subset_liquidity, top_n_threshold_orders)"
   ]
  },
  {
   "cell_type": "code",
   "execution_count": 8,
   "metadata": {},
   "outputs": [],
   "source": [
    "order_subset, total_subset_liquidity, top_n_threshold_orders = matchByTarget_selector(inputAmount, orders)"
   ]
  },
  {
   "cell_type": "code",
   "execution_count": 9,
   "metadata": {},
   "outputs": [
    {
     "name": "stdout",
     "output_type": "stream",
     "text": [
      "inputAmount 10000\n",
      "total_subset_liquidity 46514.837167011074230464652186720142263516312999865\n",
      "total_input 10000.000001030403082352972439714672115593227025472\n",
      "total_output 5.8471626461075785995833589625529708874172614497215\n",
      "effective_price 0.00058471626455050851582885989167364252311600903374859\n",
      "1/effective_price 1710.2312020835171419428757728486166928460220662765\n"
     ]
    },
    {
     "data": {
      "text/plain": [
       "{1: {'input': Decimal('2000.0000002060806164705944879429344231186454050944'),\n",
       "  'output': Decimal('1.1694325292215157199166717925105941774834522899443')},\n",
       " 3: {'input': Decimal('2000.0000002060806164705944879429344231186454050944'),\n",
       "  'output': Decimal('1.1694325292215157199166717925105941774834522899443')},\n",
       " 5: {'input': Decimal('2000.0000002060806164705944879429344231186454050944'),\n",
       "  'output': Decimal('1.1694325292215157199166717925105941774834522899443')},\n",
       " 7: {'input': Decimal('2000.0000002060806164705944879429344231186454050944'),\n",
       "  'output': Decimal('1.1694325292215157199166717925105941774834522899443')},\n",
       " 9: {'input': Decimal('2000.0000002060806164705944879429344231186454050944'),\n",
       "  'output': Decimal('1.1694325292215157199166717925105941774834522899443')},\n",
       " 0: {'input': Decimal('0E-46'), 'output': 0}}"
      ]
     },
     "execution_count": 9,
     "metadata": {},
     "output_type": "execute_result"
    }
   ],
   "source": [
    "def mpr_matchByTarget(inputAmount, order_subset, total_subset_liquidity, top_n_threshold_orders, support_partial):\n",
    "    print('inputAmount', inputAmount)\n",
    "    print('total_subset_liquidity', total_subset_liquidity)\n",
    "    if inputAmount == total_subset_liquidity:\n",
    "            rl1 = [o.y for o in order_subset]\n",
    "            rl2 = [o.dxfromdy_f(o.y) for o in order_subset]\n",
    "    elif inputAmount > total_subset_liquidity:\n",
    "        if support_partial:\n",
    "            print(f'** Partial Match ({total_subset_liquidity/inputAmount*100:0.5f}%) **')\n",
    "            inputAmount = total_subset_liquidity\n",
    "            rl1 = [o.y for o in order_subset]\n",
    "            rl2 = [o.dxfromdy_f(o.y) for o in order_subset]\n",
    "        else:\n",
    "            print('Insufficient Liquidity with threshold orders')\n",
    "            return(None)\n",
    "    else:\n",
    "        dy_f = lambda p: sum(o.dyfromp_f(p) for o in order_subset)\n",
    "        dx_f = lambda p: sum(o.dxfromdy_f(o.dyfromp_f(p)) for o in order_subset)\n",
    "        p_goal = CarbonOrderUI.goalseek(lambda p: dx_f(p)-inputAmount, Decimal('0.000000001'), Decimal('1000000000'))\n",
    "        rl1 = [o.dyfromp_f(p_goal) for o in order_subset]\n",
    "        rl2 = [o.dxfromdy_f(o.dyfromp_f(p_goal)) for o in order_subset]\n",
    "\n",
    "    actions = {top_n_threshold_orders[i]:{\"input\":rl2[i],\"output\":rl1[i]} for i in range(len(top_n_threshold_orders))}\n",
    "    assertAlmostEqual(inputAmount, sum(rl2), Decimal('1E-8'))\n",
    "    print('total_input',sum(rl2))\n",
    "    print('total_output', sum(rl1))\n",
    "    print('effective_price', sum(rl1) / sum(rl2))\n",
    "    print('1/effective_price', sum(rl2) / sum(rl1))\n",
    "    return(actions)\n",
    "\n",
    "mpr_matchByTarget(inputAmount, order_subset, total_subset_liquidity, top_n_threshold_orders, support_partial)"
   ]
  },
  {
   "cell_type": "markdown",
   "metadata": {},
   "source": [
    "# Match by Source"
   ]
  },
  {
   "cell_type": "code",
   "execution_count": 10,
   "metadata": {},
   "outputs": [],
   "source": [
    "def matchBySource_selector(inputAmount, orders):\n",
    "    hypothetical_output_amts = {i: tradeByTargetAmount(x=inputAmount, order=orders[i])[0] for i in indexes}   #WTF not sure why this is bySource\n",
    "    max_output_amt = {i: tradeByTargetAmount(x=orders[i].y, order=orders[i])[0] for i in indexes}  \n",
    "    ordered_associated_liquidity = {i:orders[i].y for i in hypothetical_output_amts.keys()}\n",
    "\n",
    "    results = pd.DataFrame(\n",
    "        [\n",
    "            hypothetical_output_amts.keys(),\n",
    "            hypothetical_output_amts.values(),\n",
    "            max_output_amt.keys(),\n",
    "            max_output_amt.values(),\n",
    "        ],\n",
    "        index=[\n",
    "            \"indexes\",\n",
    "            \"hypothetical_output_amts\",\n",
    "            \"indexes_b\",\n",
    "            \"max_output_amt\",\n",
    "        ],\n",
    "    )\n",
    "    results = results.T.copy()\n",
    "    assert(list(results.indexes) == list(results.indexes_b))\n",
    "\n",
    "    results.sort_values(\n",
    "        by=[\"hypothetical_output_amts\", 'indexes'], ascending=[True, True], inplace=True\n",
    "    )\n",
    "\n",
    "    results2 = pd.DataFrame(\n",
    "        [\n",
    "            ordered_associated_liquidity.keys(),\n",
    "            ordered_associated_liquidity.values(),\n",
    "        ],\n",
    "        index=[\n",
    "            \"ordered_associated_liquidity_keys\",\n",
    "            \"ordered_associated_liquidity\",\n",
    "        ],\n",
    "    )\n",
    "    results2 = results2.T.copy()\n",
    "\n",
    "    results = pd.merge(results, results2, how='left', left_on = 'indexes', right_on='ordered_associated_liquidity_keys')\n",
    "    assert(list(results.indexes) == list(results.ordered_associated_liquidity_keys))\n",
    "\n",
    "    results.fillna(0, inplace=True)\n",
    "    results.reset_index(inplace=True, drop=True)\n",
    "    # results\n",
    "\n",
    "    if (not support_partial) & (results.ordered_associated_liquidity.sum() < abs(inputAmount)):\n",
    "        print('Insufficient Liquidity')\n",
    "        return(None)\n",
    "    else:\n",
    "        passed_indexes = AlphaRouter.gen_one_order_selector(results.ordered_associated_liquidity, abs(inputAmount), threshold_orders)\n",
    "        top_n_threshold_orders = [results.indexes[i] for i in passed_indexes]\n",
    "    order_subset = [orders[i] for i in top_n_threshold_orders]\n",
    "    total_subset_liquidity = results[results.indexes.isin(top_n_threshold_orders)].ordered_associated_liquidity.sum()\n",
    "    return(order_subset, total_subset_liquidity, top_n_threshold_orders)"
   ]
  },
  {
   "cell_type": "code",
   "execution_count": 11,
   "metadata": {},
   "outputs": [],
   "source": [
    "order_subset, total_subset_liquidity, top_n_threshold_orders = matchBySource_selector(inputAmount, orders)"
   ]
  },
  {
   "cell_type": "code",
   "execution_count": 12,
   "metadata": {},
   "outputs": [
    {
     "name": "stdout",
     "output_type": "stream",
     "text": [
      "inputAmount 10000\n",
      "total_subset_liquidity 29\n",
      "** Partial Match (0.29000%) **\n",
      "total_input 29\n",
      "total_output 63204.666870896957256322272155625934338718721590268\n",
      "effective_price 0.00045882687838915354292782070335774230457929040542126\n",
      "1/effective_price 2179.4712714102399053904231777802046323696110893196\n"
     ]
    },
    {
     "data": {
      "text/plain": [
       "{0: {'input': Decimal('5'),\n",
       "  'output': Decimal('11180.339887498948482045868343656381177203091798059')},\n",
       " 2: {'input': Decimal('5'),\n",
       "  'output': Decimal('11180.339887498948482045868343656381177203091798059')},\n",
       " 4: {'input': Decimal('5'),\n",
       "  'output': Decimal('11180.339887498948482045868343656381177203091798059')},\n",
       " 6: {'input': Decimal('5'),\n",
       "  'output': Decimal('11180.339887498948482045868343656381177203091798059')},\n",
       " 8: {'input': Decimal('5'),\n",
       "  'output': Decimal('11180.339887498948482045868343656381177203091798059')},\n",
       " 1: {'input': Decimal('4'),\n",
       "  'output': Decimal('7302.9674334022148460929304373440284527032625999732')}}"
      ]
     },
     "execution_count": 12,
     "metadata": {},
     "output_type": "execute_result"
    }
   ],
   "source": [
    "def mpr_matchBySource(inputAmount, order_subset, total_subset_liquidity, top_n_threshold_orders, support_partial):    \n",
    "    print('inputAmount', inputAmount)\n",
    "    print('total_subset_liquidity', total_subset_liquidity)\n",
    "    if inputAmount == total_subset_liquidity:\n",
    "            rl1 = [o.y for o in order_subset]\n",
    "            rl2 = [o.dxfromdy_f(o.y) for o in order_subset]\n",
    "    elif inputAmount > total_subset_liquidity:\n",
    "        if support_partial:\n",
    "            print(f'** Partial Match ({total_subset_liquidity/inputAmount*100:0.5f}%) **')\n",
    "            inputAmount = total_subset_liquidity\n",
    "            rl1 = [o.y for o in order_subset]\n",
    "            rl2 = [o.dxfromdy_f(o.y) for o in order_subset]\n",
    "        else:\n",
    "            print('Insufficient Liquidity with threshold orders')\n",
    "            return(None)\n",
    "    else:\n",
    "        dy_f = lambda p: sum(o.dyfromp_f(p) for o in order_subset)\n",
    "        dx_f = lambda p: sum(o.dxfromdy_f(o.dyfromp_f(p)) for o in order_subset)\n",
    "        p_goal = CarbonOrderUI.goalseek(lambda p: dy_f(p)-inputAmount, Decimal('0.000000001'), Decimal('1000000000'))\n",
    "        rl1 = [o.dyfromp_f(p_goal) for o in order_subset]\n",
    "        rl2 = [o.dxfromdy_f(o.dyfromp_f(p_goal)) for o in order_subset]\n",
    "\n",
    "    actions = {top_n_threshold_orders[i]:{\"input\":rl1[i],\"output\":rl2[i]} for i in range(len(top_n_threshold_orders))}\n",
    "    assertAlmostEqual(inputAmount, sum(rl1), Decimal('1E-8'))\n",
    "    print('total_input',sum(rl1))\n",
    "    print('total_output', sum(rl2))\n",
    "    print('effective_price', sum(rl1) / sum(rl2))\n",
    "    print('1/effective_price', sum(rl2) / sum(rl1))\n",
    "    return(actions)\n",
    "    \n",
    "mpr_matchBySource(inputAmount, order_subset, total_subset_liquidity, top_n_threshold_orders, support_partial)"
   ]
  }
 ],
 "metadata": {
  "kernelspec": {
   "display_name": "Python 3",
   "language": "python",
   "name": "python3"
  },
  "language_info": {
   "codemirror_mode": {
    "name": "ipython",
    "version": 3
   },
   "file_extension": ".py",
   "mimetype": "text/x-python",
   "name": "python",
   "nbconvert_exporter": "python",
   "pygments_lexer": "ipython3",
   "version": "3.10.8"
  },
  "orig_nbformat": 4,
  "vscode": {
   "interpreter": {
    "hash": "43f221103f953d3e0d93840edd77be981e5a5e0e42edc048e3de5278c46a3390"
   }
  }
 },
 "nbformat": 4,
 "nbformat_minor": 2
}
