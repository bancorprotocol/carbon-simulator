{
 "cells": [
  {
   "cell_type": "markdown",
   "id": "fdd485eb",
   "metadata": {},
   "source": [
    "<p align=\"left\">\n",
    "<img width=\"50%\" src=\"https://drive.google.com/uc?export=view&id=10y3NKbbk7yt7cZDMszMt04g6NquTEa4p\" alt=\"Carbon Logo\" />\n",
    "</p>\n"
   ]
  },
  {
   "cell_type": "markdown",
   "id": "fa78c8d2",
   "metadata": {},
   "source": [
    "# Carbon Simulator - Example\n",
    "\n",
    "This is the example from the [`README`](https://github.com/bancorprotocol/carbon-simulator) file. "
   ]
  },
  {
   "cell_type": "code",
   "execution_count": 1,
   "id": "bf877949",
   "metadata": {},
   "outputs": [
    {
     "name": "stdout",
     "output_type": "stream",
     "text": [
      "Carbon Version v1.3 (30/Nov/2022)\n"
     ]
    }
   ],
   "source": [
    "from carbon import CarbonSimulatorUI, __version__, __date__\n",
    "print(f\"Carbon Version v{__version__} ({__date__})\", )"
   ]
  },
  {
   "cell_type": "markdown",
   "id": "522faf68",
   "metadata": {},
   "source": [
    "Set up a simulator instance, with default pair ETHUSDC"
   ]
  },
  {
   "cell_type": "code",
   "execution_count": 2,
   "id": "cd860b8a",
   "metadata": {},
   "outputs": [],
   "source": [
    "Sim = CarbonSimulatorUI(pair=\"ETHUSDC\")"
   ]
  },
  {
   "cell_type": "markdown",
   "id": "9bba23d5",
   "metadata": {},
   "source": [
    "Add a strategy. This strategy is initially seeded with 10 ETH\n",
    "and 10000 USDC. It will selling ETH between 2000-2500 USDC per ETH,\n",
    "making the received USDC available for sale. It will also be buying ETH \n",
    "between 1000-750 USDC per ETH."
   ]
  },
  {
   "cell_type": "code",
   "execution_count": 3,
   "id": "db5491e7",
   "metadata": {},
   "outputs": [
    {
     "data": {
      "text/plain": [
       "{'success': True,\n",
       " 'orders':    id     pair   tkn    y_int        y y_unit  p_start   p_end  p_marg  \\\n",
       " 0   0  ETHUSDC   ETH     10.0     10.0    ETH   2000.0  2500.0  2000.0   \n",
       " 1   1  ETHUSDC  USDC  10000.0  10000.0   USDC   1000.0   750.0  1000.0   \n",
       " \n",
       "          p_unit  lid  \n",
       " 0  USDC per ETH    1  \n",
       " 1  USDC per ETH    0  ,\n",
       " 'orderuis': {0: CarbonOrderUI(pair=CarbonPair(tknb='ETH', tknq='USDC'), tkn='ETH', B=0.02, S=0.0023606797749978967, yint=10.0, y=10.0),\n",
       "  1: CarbonOrderUI(pair=CarbonPair(tknb='ETH', tknq='USDC'), tkn='USDC', B=27.386127875258307, S=4.236648726425486, yint=10000.0, y=10000.0)}}"
      ]
     },
     "execution_count": 3,
     "metadata": {},
     "output_type": "execute_result"
    }
   ],
   "source": [
    "Sim.add_strategy(\"ETH\", 10, 2000, 2500, 10000, 1000, 750)"
   ]
  },
  {
   "cell_type": "markdown",
   "id": "02e7f278",
   "metadata": {},
   "source": [
    "We can look at this order by examining the simular state"
   ]
  },
  {
   "cell_type": "code",
   "execution_count": 4,
   "id": "48ef9da4",
   "metadata": {},
   "outputs": [
    {
     "data": {
      "text/html": [
       "<div>\n",
       "<style scoped>\n",
       "    .dataframe tbody tr th:only-of-type {\n",
       "        vertical-align: middle;\n",
       "    }\n",
       "\n",
       "    .dataframe tbody tr th {\n",
       "        vertical-align: top;\n",
       "    }\n",
       "\n",
       "    .dataframe thead th {\n",
       "        text-align: right;\n",
       "    }\n",
       "</style>\n",
       "<table border=\"1\" class=\"dataframe\">\n",
       "  <thead>\n",
       "    <tr style=\"text-align: right;\">\n",
       "      <th></th>\n",
       "      <th>id</th>\n",
       "      <th>pair</th>\n",
       "      <th>tkn</th>\n",
       "      <th>y_int</th>\n",
       "      <th>y</th>\n",
       "      <th>y_unit</th>\n",
       "      <th>p_start</th>\n",
       "      <th>p_end</th>\n",
       "      <th>p_marg</th>\n",
       "      <th>p_unit</th>\n",
       "      <th>lid</th>\n",
       "    </tr>\n",
       "  </thead>\n",
       "  <tbody>\n",
       "    <tr>\n",
       "      <th>0</th>\n",
       "      <td>0</td>\n",
       "      <td>ETHUSDC</td>\n",
       "      <td>ETH</td>\n",
       "      <td>10.0</td>\n",
       "      <td>10.0</td>\n",
       "      <td>ETH</td>\n",
       "      <td>2000.0</td>\n",
       "      <td>2500.0</td>\n",
       "      <td>2000.0</td>\n",
       "      <td>USDC per ETH</td>\n",
       "      <td>1</td>\n",
       "    </tr>\n",
       "    <tr>\n",
       "      <th>1</th>\n",
       "      <td>1</td>\n",
       "      <td>ETHUSDC</td>\n",
       "      <td>USDC</td>\n",
       "      <td>10000.0</td>\n",
       "      <td>10000.0</td>\n",
       "      <td>USDC</td>\n",
       "      <td>1000.0</td>\n",
       "      <td>750.0</td>\n",
       "      <td>1000.0</td>\n",
       "      <td>USDC per ETH</td>\n",
       "      <td>0</td>\n",
       "    </tr>\n",
       "  </tbody>\n",
       "</table>\n",
       "</div>"
      ],
      "text/plain": [
       "   id     pair   tkn    y_int        y y_unit  p_start   p_end  p_marg  \\\n",
       "0   0  ETHUSDC   ETH     10.0     10.0    ETH   2000.0  2500.0  2000.0   \n",
       "1   1  ETHUSDC  USDC  10000.0  10000.0   USDC   1000.0   750.0  1000.0   \n",
       "\n",
       "         p_unit  lid  \n",
       "0  USDC per ETH    1  \n",
       "1  USDC per ETH    0  "
      ]
     },
     "execution_count": 4,
     "metadata": {},
     "output_type": "execute_result"
    }
   ],
   "source": [
    "Sim.state()[\"orders\"]"
   ]
  },
  {
   "cell_type": "markdown",
   "id": "1708915a",
   "metadata": {},
   "source": [
    "Someone is now trading against the pool, BUYING 1 ETH.\n",
    "The price will be driven by the 2000-2500 range."
   ]
  },
  {
   "cell_type": "code",
   "execution_count": 5,
   "id": "d6cc5aed",
   "metadata": {},
   "outputs": [
    {
     "data": {
      "text/plain": [
       "{'success': True,\n",
       " 'trades':    uid  id subid                          note   aggr  exec limitfail  amt1  \\\n",
       " 0  0.0   0     0                      route #0  False  True      None   1.0   \n",
       " 0    0   0     A  AMM sells 1ETH buys 2021USDC   True  True      None   1.0   \n",
       " \n",
       "   tkn1         amt2  tkn2     pair routeix  nroutes        price  \\\n",
       " 0  ETH  2021.339853  USDC  ETHUSDC       0        1  2021.339853   \n",
       " 0  ETH  2021.339853  USDC  ETHUSDC     [0]        1  2021.339853   \n",
       " \n",
       "          p_unit threshold_orders  \n",
       " 0  USDC per ETH             None  \n",
       " 0  USDC per ETH             None  }"
      ]
     },
     "execution_count": 5,
     "metadata": {},
     "output_type": "execute_result"
    }
   ],
   "source": [
    "Sim.trader_buys(\"ETH\", 1)"
   ]
  },
  {
   "cell_type": "markdown",
   "id": "c763d840",
   "metadata": {},
   "source": [
    "We see that that 1 ETH disappeared from the ETH curve,\n",
    "and reappeared as USDC on the other curve"
   ]
  },
  {
   "cell_type": "code",
   "execution_count": 6,
   "id": "b68a44a5",
   "metadata": {},
   "outputs": [
    {
     "data": {
      "text/html": [
       "<div>\n",
       "<style scoped>\n",
       "    .dataframe tbody tr th:only-of-type {\n",
       "        vertical-align: middle;\n",
       "    }\n",
       "\n",
       "    .dataframe tbody tr th {\n",
       "        vertical-align: top;\n",
       "    }\n",
       "\n",
       "    .dataframe thead th {\n",
       "        text-align: right;\n",
       "    }\n",
       "</style>\n",
       "<table border=\"1\" class=\"dataframe\">\n",
       "  <thead>\n",
       "    <tr style=\"text-align: right;\">\n",
       "      <th></th>\n",
       "      <th>id</th>\n",
       "      <th>pair</th>\n",
       "      <th>tkn</th>\n",
       "      <th>y_int</th>\n",
       "      <th>y</th>\n",
       "      <th>y_unit</th>\n",
       "      <th>p_start</th>\n",
       "      <th>p_end</th>\n",
       "      <th>p_marg</th>\n",
       "      <th>p_unit</th>\n",
       "      <th>lid</th>\n",
       "    </tr>\n",
       "  </thead>\n",
       "  <tbody>\n",
       "    <tr>\n",
       "      <th>0</th>\n",
       "      <td>0</td>\n",
       "      <td>ETHUSDC</td>\n",
       "      <td>ETH</td>\n",
       "      <td>10.000000</td>\n",
       "      <td>9.000000</td>\n",
       "      <td>ETH</td>\n",
       "      <td>2000.0</td>\n",
       "      <td>2500.0</td>\n",
       "      <td>2042.9074</td>\n",
       "      <td>USDC per ETH</td>\n",
       "      <td>1</td>\n",
       "    </tr>\n",
       "    <tr>\n",
       "      <th>1</th>\n",
       "      <td>1</td>\n",
       "      <td>ETHUSDC</td>\n",
       "      <td>USDC</td>\n",
       "      <td>12021.339853</td>\n",
       "      <td>12021.339853</td>\n",
       "      <td>USDC</td>\n",
       "      <td>1000.0</td>\n",
       "      <td>750.0</td>\n",
       "      <td>1000.0000</td>\n",
       "      <td>USDC per ETH</td>\n",
       "      <td>0</td>\n",
       "    </tr>\n",
       "  </tbody>\n",
       "</table>\n",
       "</div>"
      ],
      "text/plain": [
       "   id     pair   tkn         y_int             y y_unit  p_start   p_end  \\\n",
       "0   0  ETHUSDC   ETH     10.000000      9.000000    ETH   2000.0  2500.0   \n",
       "1   1  ETHUSDC  USDC  12021.339853  12021.339853   USDC   1000.0   750.0   \n",
       "\n",
       "      p_marg        p_unit  lid  \n",
       "0  2042.9074  USDC per ETH    1  \n",
       "1  1000.0000  USDC per ETH    0  "
      ]
     },
     "execution_count": 6,
     "metadata": {},
     "output_type": "execute_result"
    }
   ],
   "source": [
    "Sim.state()[\"orders\"]"
   ]
  },
  {
   "cell_type": "markdown",
   "id": "9a2ed10e",
   "metadata": {},
   "source": [
    "Someone is trading against the pool, SELLING 1 ETH\n",
    "the price will be driven by the 1000-750 range"
   ]
  },
  {
   "cell_type": "code",
   "execution_count": 7,
   "id": "06b719f9",
   "metadata": {},
   "outputs": [
    {
     "data": {
      "text/plain": [
       "{'success': True,\n",
       " 'trades':    uid  id subid                         note   aggr  exec limitfail  \\\n",
       " 0  1.0   1     0                     route #1  False  True      None   \n",
       " 0    1   1     A  AMM sells 989USDC buys 1ETH   True  True      None   \n",
       " \n",
       "          amt1  tkn1  amt2 tkn2     pair routeix  nroutes       price  \\\n",
       " 0  988.978105  USDC   1.0  ETH  ETHUSDC       1        1  988.978105   \n",
       " 0  988.978105  USDC   1.0  ETH  ETHUSDC     [1]        1  988.978105   \n",
       " \n",
       "          p_unit threshold_orders  \n",
       " 0  USDC per ETH             None  \n",
       " 0  USDC per ETH             None  }"
      ]
     },
     "execution_count": 7,
     "metadata": {},
     "output_type": "execute_result"
    }
   ],
   "source": [
    "Sim.trader_sells(\"ETH\", 1)"
   ]
  },
  {
   "cell_type": "markdown",
   "id": "fc9bba4d",
   "metadata": {},
   "source": [
    "Now the ETH curve is where it was at 10 ETH, but we have taken\n",
    "profits of about USD 2021 on the USDC account."
   ]
  },
  {
   "cell_type": "code",
   "execution_count": 8,
   "id": "96d2cca9",
   "metadata": {},
   "outputs": [
    {
     "data": {
      "text/html": [
       "<div>\n",
       "<style scoped>\n",
       "    .dataframe tbody tr th:only-of-type {\n",
       "        vertical-align: middle;\n",
       "    }\n",
       "\n",
       "    .dataframe tbody tr th {\n",
       "        vertical-align: top;\n",
       "    }\n",
       "\n",
       "    .dataframe thead th {\n",
       "        text-align: right;\n",
       "    }\n",
       "</style>\n",
       "<table border=\"1\" class=\"dataframe\">\n",
       "  <thead>\n",
       "    <tr style=\"text-align: right;\">\n",
       "      <th></th>\n",
       "      <th>id</th>\n",
       "      <th>pair</th>\n",
       "      <th>tkn</th>\n",
       "      <th>y_int</th>\n",
       "      <th>y</th>\n",
       "      <th>y_unit</th>\n",
       "      <th>p_start</th>\n",
       "      <th>p_end</th>\n",
       "      <th>p_marg</th>\n",
       "      <th>p_unit</th>\n",
       "      <th>lid</th>\n",
       "    </tr>\n",
       "  </thead>\n",
       "  <tbody>\n",
       "    <tr>\n",
       "      <th>0</th>\n",
       "      <td>0</td>\n",
       "      <td>ETHUSDC</td>\n",
       "      <td>ETH</td>\n",
       "      <td>10.000000</td>\n",
       "      <td>10.000000</td>\n",
       "      <td>ETH</td>\n",
       "      <td>2000.0</td>\n",
       "      <td>2500.0</td>\n",
       "      <td>2000.000000</td>\n",
       "      <td>USDC per ETH</td>\n",
       "      <td>1</td>\n",
       "    </tr>\n",
       "    <tr>\n",
       "      <th>1</th>\n",
       "      <td>1</td>\n",
       "      <td>ETHUSDC</td>\n",
       "      <td>USDC</td>\n",
       "      <td>12021.339853</td>\n",
       "      <td>11032.361748</td>\n",
       "      <td>USDC</td>\n",
       "      <td>1000.0</td>\n",
       "      <td>750.0</td>\n",
       "      <td>978.077693</td>\n",
       "      <td>USDC per ETH</td>\n",
       "      <td>0</td>\n",
       "    </tr>\n",
       "  </tbody>\n",
       "</table>\n",
       "</div>"
      ],
      "text/plain": [
       "   id     pair   tkn         y_int             y y_unit  p_start   p_end  \\\n",
       "0   0  ETHUSDC   ETH     10.000000     10.000000    ETH   2000.0  2500.0   \n",
       "1   1  ETHUSDC  USDC  12021.339853  11032.361748   USDC   1000.0   750.0   \n",
       "\n",
       "        p_marg        p_unit  lid  \n",
       "0  2000.000000  USDC per ETH    1  \n",
       "1   978.077693  USDC per ETH    0  "
      ]
     },
     "execution_count": 8,
     "metadata": {},
     "output_type": "execute_result"
    }
   ],
   "source": [
    "Sim.state()[\"orders\"]"
   ]
  }
 ],
 "metadata": {
  "jupytext": {
   "cell_metadata_filter": "-all",
   "notebook_metadata_filter": "-all"
  },
  "kernelspec": {
   "display_name": "Python 3",
   "language": "python",
   "name": "python3"
  },
  "language_info": {
   "codemirror_mode": {
    "name": "ipython",
    "version": 3
   },
   "file_extension": ".py",
   "mimetype": "text/x-python",
   "name": "python",
   "nbconvert_exporter": "python",
   "pygments_lexer": "ipython3",
   "version": "3.8.8"
  }
 },
 "nbformat": 4,
 "nbformat_minor": 5
}
