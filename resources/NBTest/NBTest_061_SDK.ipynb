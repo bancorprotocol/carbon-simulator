{
 "cells": [
  {
   "cell_type": "code",
   "execution_count": 27,
   "id": "ce011baf",
   "metadata": {},
   "outputs": [
    {
     "name": "stdout",
     "output_type": "stream",
     "text": [
      "CarbonSDK v0.9 (8/Mar/2023)\n",
      "SDKToken v1.0 (8/Mar/2023)\n",
      "CarbonOrderUI v1.8 (8/Mar/2023)\n",
      "Carbon v2.3.3-BETA5 (10/Mar/2023)\n"
     ]
    }
   ],
   "source": [
    "from carbon.helpers.stdimports import *\n",
    "from carbon.sdk import CarbonSDK, SDKToken, Tokens, TokenContainer\n",
    "from carbon import CarbonOrderUI, CarbonSimulatorUI\n",
    "print(\"{0.__name__} v{0.__VERSION__} ({0.__DATE__})\".format(CarbonSDK))\n",
    "print(\"{0.__name__} v{0.__VERSION__} ({0.__DATE__})\".format(SDKToken))\n",
    "print(\"{0.__name__} v{0.__VERSION__} ({0.__DATE__})\".format(CarbonOrderUI))\n",
    "print_version(require=\"2.3.3\")"
   ]
  },
  {
   "cell_type": "markdown",
   "id": "edf6bdb6",
   "metadata": {},
   "source": [
    "# CarbonSDK (NBTest 061)"
   ]
  },
  {
   "cell_type": "markdown",
   "id": "83e372d8-1899-435d-aa75-3d459bd0974c",
   "metadata": {},
   "source": [
    "## SDKToken"
   ]
  },
  {
   "cell_type": "code",
   "execution_count": 28,
   "id": "7596dac2-05de-4606-bbd8-b946b6413a59",
   "metadata": {},
   "outputs": [],
   "source": [
    "tkn = SDKToken(\"TKN\", \"0x6b3595068778dd592e39a122f4f5a5cf09c90fe2\", 18, \"Token\")\n",
    "assert tkn.T == \"TKN\"\n",
    "assert tkn.token == \"TKN\"\n",
    "assert tkn.d == 18\n",
    "assert tkn.a == \"0x6b3595068778dd592e39a122f4f5a5cf09c90fe2\"\n",
    "assert tkn.address == \"0x6b3595068778dd592e39a122f4f5a5cf09c90fe2\"\n",
    "assert tkn.name == \"Token\"\n",
    "assert tuple(tkn) == ('TKN', '0x6b3595068778dd592e39a122f4f5a5cf09c90fe2', 18, 'Token')\n",
    "assert SDKToken(*tuple(tkn)) == tkn"
   ]
  },
  {
   "cell_type": "code",
   "execution_count": 29,
   "id": "9e3d1a0e-5ccd-4fa4-8e1d-d6c6a19b652c",
   "metadata": {},
   "outputs": [],
   "source": [
    "tkn = SDKToken(\"tkn\", \"0x6B3595068778DD592e39a122f4f5a5cf09c90fe2\", 18)\n",
    "assert tkn.T == \"TKN\"\n",
    "assert tkn.token == \"TKN\"\n",
    "assert tkn.d == 18\n",
    "assert tkn.a == \"0x6b3595068778dd592e39a122f4f5a5cf09c90fe2\"\n",
    "assert tkn.address == \"0x6b3595068778dd592e39a122f4f5a5cf09c90fe2\"\n",
    "assert tkn.name == \"TKN\"\n",
    "assert tuple(tkn) == ('TKN', '0x6b3595068778dd592e39a122f4f5a5cf09c90fe2', 18, 'TKN')\n",
    "assert SDKToken(*tuple(tkn)) == tkn"
   ]
  },
  {
   "cell_type": "markdown",
   "id": "220209f0-e26a-4064-90d8-2732d1b09541",
   "metadata": {},
   "source": [
    "Note: two tokens are equal if their address is equal"
   ]
  },
  {
   "cell_type": "code",
   "execution_count": 30,
   "id": "06cccee9-ec67-430e-b367-edc95ab5d250",
   "metadata": {},
   "outputs": [],
   "source": [
    "assert SDKToken(\"tkn\", \"0x6B3595068778DD592e39a122f4f5a5cf09c90fe2\", 18) == SDKToken(\"TKN\", \"0x6B3595068778DD592e39a122f4f5a5cf09c90fe2\", 18)"
   ]
  },
  {
   "cell_type": "markdown",
   "id": "c2db6fae-6064-4245-9adb-8d55f62a3642",
   "metadata": {},
   "source": [
    "## TokenContainer"
   ]
  },
  {
   "cell_type": "code",
   "execution_count": 31,
   "id": "b66a30a3-7f75-4cdd-bad9-ac0c11b6f656",
   "metadata": {},
   "outputs": [],
   "source": [
    "T = TokenContainer([\n",
    "    SDKToken(\"AAVE\", \"0x7fc66500c84a76ad7e9c93437bfc5ac33e2ddae9\"),\n",
    "    SDKToken(\"BAL\", \"0xba100000625a3754423978a60c9317c58a424e3d\"),\n",
    "])\n",
    "assert len(T) == 2\n",
    "assert T.AAVE.T == \"AAVE\"\n",
    "assert T.AAVE.a == \"0x7fc66500c84a76ad7e9c93437bfc5ac33e2ddae9\"\n",
    "assert T.AAVE.d is None\n",
    "assert T.byaddr(\"0x7fc66500c84a76ad7e9c93437bfc5ac33e2ddae9\").T == \"AAVE\"\n",
    "assert T.BAL.T == \"BAL\"\n",
    "assert T.BAL.a == \"0xba100000625a3754423978a60c9317c58a424e3d\"\n",
    "assert T.BAL.d is None\n",
    "assert T.byaddr(\"0xba100000625a3754423978a60c9317c58a424e3d\").T == \"BAL\"\n",
    "assert TokenContainer.fromlist(T._all).AAVE.T == \"AAVE\"\n",
    "assert len(TokenContainer.fromlist(T._all)) == len(T)"
   ]
  },
  {
   "cell_type": "code",
   "execution_count": 32,
   "id": "bf1d0b5a-1117-4e4e-a2ae-76fdce6bf359",
   "metadata": {},
   "outputs": [],
   "source": [
    "T = TokenContainer.fromcsv(\"\"\"\n",
    "\n",
    " aave  , 0x7fc66500c84a76ad7e9c93437bfc5AC33e2ddae9  , 18\n",
    "Aleph , 0x27702a26126e0b3702af63ee09ac4d1a084ef628  , 18\n",
    " ANT , 0x960b236a07cf122663c4303350609a66a7b288c0 , 18\n",
    "  bAl, 0xba100000625A3754423978a60c9317c58a424e3d   , 18\n",
    "  BAND  , 0xba11d00c5f74255f56a5e366F4f77f5a186d7f55   , 18\n",
    "\n",
    "\"\"\"\n",
    ")\n",
    "assert len(T)==5\n",
    "assert [t.T for t in T] == ['AAVE', 'ALEPH', 'ANT', 'BAL', 'BAND']\n",
    "assert [t.a for t in T] == [\n",
    "    '0x7fc66500c84a76ad7e9c93437bfc5ac33e2ddae9',\n",
    "    '0x27702a26126e0b3702af63ee09ac4d1a084ef628',\n",
    "    '0x960b236a07cf122663c4303350609a66a7b288c0',\n",
    "    '0xba100000625a3754423978a60c9317c58a424e3d',\n",
    "    '0xba11d00c5f74255f56a5e366f4f77f5a186d7f55'\n",
    "]\n",
    "assert [t.d for t in T] == [18]*len(T)\n",
    "assert [t for t in T] == [t for t in T._all]\n",
    "assert T.byaddr(\"0x7fc66500c84a76ad7e9c93437bfc5AC33e2ddae9\").a == \"0x7fc66500c84a76ad7e9c93437bfc5AC33e2ddae9\".lower()\n",
    "assert T.byaddr(\"0x7fc66500c84a76ad7e9c93437bfc5AC33e2ddae9\").a == \"0x7fc66500c84a76ad7e9c93437bfc5AC33e2ddae9\".lower()\n",
    "assert TokenContainer.fromlist(T._all).AAVE.T == \"AAVE\"\n",
    "assert len(TokenContainer.fromlist(T._all)) == len(T)"
   ]
  },
  {
   "cell_type": "markdown",
   "id": "9bbdecc4-2750-4656-aeb6-177550ce4509",
   "metadata": {},
   "source": [
    "## SDK helpers"
   ]
  },
  {
   "cell_type": "code",
   "execution_count": 33,
   "id": "8d1a7a04-fd71-49eb-ae4d-a454e1a1f330",
   "metadata": {},
   "outputs": [],
   "source": [
    "SDK = CarbonSDK"
   ]
  },
  {
   "cell_type": "code",
   "execution_count": 34,
   "id": "6400023d-7fd8-4be1-a690-908bbbf11480",
   "metadata": {},
   "outputs": [],
   "source": [
    "assert SDK.join(\"https://example.com\", \"url\") == 'https://example.com/url'\n",
    "assert SDK.join(\"https://example.com/\", \"url\") == 'https://example.com/url'\n",
    "assert SDK.join(\"https://example.com/\", \"/url\") == 'https://example.com/url'\n",
    "assert SDK.join(\"https://example.com\", \"/url\") == 'https://example.com/url'"
   ]
  },
  {
   "cell_type": "code",
   "execution_count": 35,
   "id": "222bac92-ff93-462b-827a-852119c0ab55",
   "metadata": {},
   "outputs": [],
   "source": [
    "assert SDK.c2s(\"thisIsACamelCaseString\")=='this_is_a_camel_case_string'\n",
    "assert SDK.c2s(\"thisIsACamel1CaseString\")=='this_is_a_camel1_case_string'\n",
    "assert SDK.c2s(\"123 ThisIsACamel1CaseString\")=='123 _this_is_a_camel1_case_string'"
   ]
  },
  {
   "cell_type": "code",
   "execution_count": 36,
   "id": "2613afac-727c-41e0-9be8-a9d5e7cc58c3",
   "metadata": {},
   "outputs": [],
   "source": [
    "assert SDK.s2c(\"this_is_a_snake_case_string\")==\"thisIsASnakeCaseString\"\n",
    "assert SDK.s2c(\"This_is_a_snake_case_string\")==\"ThisIsASnakeCaseString\""
   ]
  },
  {
   "cell_type": "code",
   "execution_count": 37,
   "id": "a2fb3000-d284-4c96-a40f-be65cd8022ae",
   "metadata": {},
   "outputs": [],
   "source": [
    "x=0.11111111111111111\n",
    "assert SDK.roundsd(x,0) == 0.0\n",
    "assert SDK.roundsd(x,1) == 0.1\n",
    "assert SDK.roundsd(x,2) == 0.11\n",
    "assert SDK.roundsd(x,5) == 0.11111\n",
    "assert SDK.roundsd(x*10000,0) == 1000.0\n",
    "assert SDK.roundsd(x*10000,1) == 1100.0\n",
    "assert SDK.roundsd(x*10000,2) == 1110.0\n",
    "assert SDK.roundsd(x*10000,5) == 1111.1"
   ]
  },
  {
   "cell_type": "code",
   "execution_count": 38,
   "id": "a9c529f7-e2a1-4f78-83b1-e2fe90197834",
   "metadata": {},
   "outputs": [],
   "source": [
    "x=0.9999\n",
    "assert SDK.roundsd(x,0) == 1\n",
    "assert SDK.roundsd(x,1) == 1\n",
    "assert SDK.roundsd(x,2) == 1\n",
    "assert SDK.roundsd(x,3) == 1\n",
    "assert SDK.roundsd(x,4) == 0.9999\n",
    "assert SDK.roundsd(x*1000,0) == 1000\n",
    "assert SDK.roundsd(x*1000,1) == 1000\n",
    "assert SDK.roundsd(x*1000,2) == 1000\n",
    "assert SDK.roundsd(x*1000,3) == 1000\n",
    "assert SDK.roundsd(x*1000,4) == 999.9"
   ]
  },
  {
   "cell_type": "code",
   "execution_count": 39,
   "id": "3707c0e6-6153-44cd-a2e2-98b2b3d2029b",
   "metadata": {},
   "outputs": [],
   "source": [
    "assert SDK.bn2int(1) == 1\n",
    "assert SDK.bn2int(\"1\") == \"1\"\n",
    "assert SDK.bn2int([1,2,3]) == [1,2,3]\n",
    "assert SDK.bn2int({1:2, 3:4}) == {1:2, 3:4}\n",
    "assert SDK.bn2int({\"type\": \"BigNumber\", \"hex\": \"0xff\"}) == 255\n",
    "assert SDK.bn2intd({1:1, 2:\"2\", 3:[1,2,3], 4:{1:2, 3:4}, 5:{\"type\": \"BigNumber\", \"hex\": \"0xff\"}}) == {1: 1, 2: '2', 3: [1, 2, 3], 4: {1: 2, 3: 4}, 5: 255}"
   ]
  },
  {
   "cell_type": "code",
   "execution_count": 40,
   "id": "7328751e-cb7e-4616-997d-4dcb3d5df11c",
   "metadata": {},
   "outputs": [],
   "source": [
    "assert SDK.int2str(1) == \"1\"\n",
    "assert SDK.int2str(\"1\") == \"1\"\n",
    "assert SDK.int2str(1.23) == 1.23\n",
    "assert SDK.int2strd({1:1, 2:\"2\", 3:2.34}) == {1: '1', 2: '2', 3: 2.34}"
   ]
  },
  {
   "cell_type": "code",
   "execution_count": 41,
   "id": "1d6ba153-0f3f-4083-97e2-b99fae5481a6",
   "metadata": {},
   "outputs": [],
   "source": [
    "assert SDK.int2bn(2**100) == {'type': 'BigNumber', 'hex': '0x10000000000000000000000000'}\n",
    "assert SDK.int2bn(10**40) == {'type': 'BigNumber', 'hex': '0x1d6329f1c35ca4bfabb9f5610000000000'}\n",
    "assert SDK.int2bn(1000000000000000.11) == SDK.int2bn(1000000000000000)\n",
    "assert SDK.bn2int(SDK.int2bn(10**27))==10**27"
   ]
  },
  {
   "cell_type": "markdown",
   "id": "73fcd8cb-30d1-436f-b8f0-42a9dfd06f20",
   "metadata": {},
   "source": [
    "## CarbonOrderUI helpers"
   ]
  },
  {
   "cell_type": "code",
   "execution_count": 42,
   "id": "7fa602f3-b723-41cd-99ac-c179cc2ca86f",
   "metadata": {},
   "outputs": [],
   "source": [
    "OUI = CarbonOrderUI"
   ]
  },
  {
   "cell_type": "code",
   "execution_count": 43,
   "id": "392fca04-172d-42fc-8e53-36bfb6ea6f51",
   "metadata": {},
   "outputs": [],
   "source": [
    "x=0.11111111111111111\n",
    "assert OUI.roundsd(x,None) == x\n",
    "assert OUI.roundsd(x,0) == 0.0\n",
    "assert OUI.roundsd(x,1) == 0.1\n",
    "assert OUI.roundsd(x,2) == 0.11\n",
    "assert OUI.roundsd(x,5) == 0.11111\n",
    "assert OUI.roundsd(x*10000,0) == 1000.0\n",
    "assert OUI.roundsd(x*10000,1) == 1100.0\n",
    "assert OUI.roundsd(x*10000,2) == 1110.0\n",
    "assert OUI.roundsd(x*10000,5) == 1111.1"
   ]
  },
  {
   "cell_type": "code",
   "execution_count": 44,
   "id": "08a2dd8e-88cf-4a9f-a769-c7ad2558acad",
   "metadata": {},
   "outputs": [],
   "source": [
    "x=0.9999\n",
    "assert OUI.roundsd(x,0) == 1\n",
    "assert OUI.roundsd(x,1) == 1\n",
    "assert OUI.roundsd(x,2) == 1\n",
    "assert OUI.roundsd(x,3) == 1\n",
    "assert OUI.roundsd(x,4) == 0.9999\n",
    "assert OUI.roundsd(x*1000,0) == 1000\n",
    "assert OUI.roundsd(x*1000,1) == 1000\n",
    "assert OUI.roundsd(x*1000,2) == 1000\n",
    "assert OUI.roundsd(x*1000,3) == 1000\n",
    "assert OUI.roundsd(x*1000,4) == 999.9"
   ]
  },
  {
   "cell_type": "code",
   "execution_count": 45,
   "id": "18097e2d-f92d-4bdb-9e8f-ebd6567796a2",
   "metadata": {},
   "outputs": [],
   "source": [
    "assert OUI.bn2int(1) == 1\n",
    "assert OUI.bn2int(\"1\") == \"1\"\n",
    "assert OUI.bn2int([1,2,3]) == [1,2,3]\n",
    "assert OUI.bn2int({1:2, 3:4}) == {1:2, 3:4}\n",
    "assert OUI.bn2int({\"type\": \"BigNumber\", \"hex\": \"0xff\"}) == 255\n",
    "assert OUI.bn2intd({1:1, 2:\"2\", 3:[1,2,3], 4:{1:2, 3:4}, 5:{\"type\": \"BigNumber\", \"hex\": \"0xff\"}}) == {1: 1, 2: '2', 3: [1, 2, 3], 4: {1: 2, 3: 4}, 5: 255}"
   ]
  },
  {
   "cell_type": "markdown",
   "id": "9bb472fa-5840-4365-a472-d121b8bf83f9",
   "metadata": {},
   "source": [
    "## CarbonOrderUI"
   ]
  },
  {
   "cell_type": "code",
   "execution_count": 46,
   "id": "f4b1f703-0988-4518-a08f-f8a8e0e339a4",
   "metadata": {},
   "outputs": [],
   "source": [
    "sdkstrategy = {'id': {'type': 'BigNumber', 'hex': '0x53'},\n",
    " 'baseToken': 'ETH',\n",
    " 'quoteToken': 'USDC',\n",
    " 'buyPriceLow': '1499.999999795006131230270249480266202369446401111707789510774091468192636966705322265625',\n",
    " 'buyPriceHigh': '1599.99999987885530572613908948335161402097039096137365277172648347914218902587890625',\n",
    " 'buyBudget': '500',\n",
    " 'sellPriceLow': '2500',\n",
    " 'sellPriceHigh': '2600.000000000011469981186957619896170942620083990429606213754278889677960415165669457991666380074129',\n",
    " 'sellBudget': '1',\n",
    " 'encoded': {'id': {'type': 'BigNumber', 'hex': '0x53'},\n",
    "  'token0': 'ETH',\n",
    "  'token1': 'USDC',\n",
    "  'order0': {'y': {'type': 'BigNumber', 'hex': '0x6f05b59d3b20000'},\n",
    "   'z': {'type': 'BigNumber', 'hex': '0x0de0b6b3a7640000'},\n",
    "   'A': {'type': 'BigNumber', 'hex': '0x09c23178611340'},\n",
    "   'B': {'type': 'BigNumber', 'hex': '0x0f99373a1e7bb3'}},\n",
    "  'order1': {'y': {'type': 'BigNumber', 'hex': '0x9ef21aa'},\n",
    "   'z': {'type': 'BigNumber', 'hex': '0x1dcd6500'},\n",
    "   'A': {'type': 'BigNumber', 'hex': '0x154f52e1'},\n",
    "   'B': {'type': 'BigNumber', 'hex': '0x0289c75e3b'}}}}"
   ]
  },
  {
   "cell_type": "code",
   "execution_count": 47,
   "id": "0acc84a0-c011-4769-9f2c-fe1327027641",
   "metadata": {},
   "outputs": [
    {
     "data": {
      "text/plain": [
       "(CarbonOrderUI(pair=P('ETH/USDC'), tkn=ETH, B=0.019611613513818404, S=0.00038838648618159596, yint=1.0, y=0.5, id=83-s, linked=<83-b>),\n",
       " CarbonOrderUI(pair=P('ETH/USDC'), tkn=USDC, B=38.72983346207417, S=1.2701665379258316, yint=500.0, y=166.666666, id=83-b, linked=<83-s>))"
      ]
     },
     "execution_count": 47,
     "metadata": {},
     "output_type": "execute_result"
    }
   ],
   "source": [
    "obuy, osell = CarbonOrderUI.from_SDK(sdkstrategy, 6)\n",
    "assert osell.linked == obuy\n",
    "assert obuy.linked == osell\n",
    "osell, obuy"
   ]
  },
  {
   "cell_type": "code",
   "execution_count": 48,
   "id": "9f184b7f-8866-4ab2-bbc9-7001dc9adef7",
   "metadata": {},
   "outputs": [],
   "source": [
    "assert osell.tkn==\"ETH\"\n",
    "assert osell.id==\"83-s\"\n",
    "assert abs(osell.pa/2500-1) < 1e-10\n",
    "assert abs(osell.pb/2600-1) < 1e-10\n",
    "assert abs(osell.yint/1-1) < 1e-10\n",
    "assert abs(osell.y/0.5-1) < 1e-10"
   ]
  },
  {
   "cell_type": "code",
   "execution_count": 49,
   "id": "d589e8a1-d7aa-4fd6-9cad-e960609c3c0c",
   "metadata": {},
   "outputs": [],
   "source": [
    "assert obuy.tkn==\"USDC\"\n",
    "assert obuy.id==\"83-b\"\n",
    "assert abs(obuy.pa/1600-1) < 1e-10\n",
    "assert abs(obuy.pb/1500-1) < 1e-10\n",
    "assert abs(obuy.yint/500-1) < 1e-10\n",
    "assert abs(obuy.y/166.666666-1) < 1e-10"
   ]
  },
  {
   "cell_type": "code",
   "execution_count": 50,
   "id": "fb8ee004-2b65-4a26-a61f-2686dbffdddc",
   "metadata": {},
   "outputs": [
    {
     "data": {
      "text/html": [
       "<div>\n",
       "<style scoped>\n",
       "    .dataframe tbody tr th:only-of-type {\n",
       "        vertical-align: middle;\n",
       "    }\n",
       "\n",
       "    .dataframe tbody tr th {\n",
       "        vertical-align: top;\n",
       "    }\n",
       "\n",
       "    .dataframe thead th {\n",
       "        text-align: right;\n",
       "    }\n",
       "</style>\n",
       "<table border=\"1\" class=\"dataframe\">\n",
       "  <thead>\n",
       "    <tr style=\"text-align: right;\">\n",
       "      <th></th>\n",
       "      <th>id</th>\n",
       "      <th>pair</th>\n",
       "      <th>tkn</th>\n",
       "      <th>y_int</th>\n",
       "      <th>y</th>\n",
       "      <th>y_unit</th>\n",
       "      <th>disabled</th>\n",
       "      <th>p_start</th>\n",
       "      <th>p_end</th>\n",
       "      <th>p_marg</th>\n",
       "      <th>p_unit</th>\n",
       "      <th>lid</th>\n",
       "      <th>cid</th>\n",
       "    </tr>\n",
       "  </thead>\n",
       "  <tbody>\n",
       "    <tr>\n",
       "      <th>0</th>\n",
       "      <td>0</td>\n",
       "      <td>ETHUSDC</td>\n",
       "      <td>ETH</td>\n",
       "      <td>1.0</td>\n",
       "      <td>0.500000</td>\n",
       "      <td>ETH</td>\n",
       "      <td>False</td>\n",
       "      <td>2500.0</td>\n",
       "      <td>2600.0</td>\n",
       "      <td>2549.264659</td>\n",
       "      <td>USDC per ETH</td>\n",
       "      <td>1</td>\n",
       "      <td>NaN</td>\n",
       "    </tr>\n",
       "    <tr>\n",
       "      <th>1</th>\n",
       "      <td>1</td>\n",
       "      <td>ETHUSDC</td>\n",
       "      <td>USDC</td>\n",
       "      <td>500.0</td>\n",
       "      <td>166.666666</td>\n",
       "      <td>USDC</td>\n",
       "      <td>False</td>\n",
       "      <td>1600.0</td>\n",
       "      <td>1500.0</td>\n",
       "      <td>1532.974817</td>\n",
       "      <td>USDC per ETH</td>\n",
       "      <td>0</td>\n",
       "      <td>NaN</td>\n",
       "    </tr>\n",
       "  </tbody>\n",
       "</table>\n",
       "</div>"
      ],
      "text/plain": [
       "   id     pair   tkn  y_int           y y_unit  disabled  p_start   p_end  \\\n",
       "0   0  ETHUSDC   ETH    1.0    0.500000    ETH     False   2500.0  2600.0   \n",
       "1   1  ETHUSDC  USDC  500.0  166.666666   USDC     False   1600.0  1500.0   \n",
       "\n",
       "        p_marg        p_unit  lid  cid  \n",
       "0  2549.264659  USDC per ETH    1  NaN  \n",
       "1  1532.974817  USDC per ETH    0  NaN  "
      ]
     },
     "execution_count": 50,
     "metadata": {},
     "output_type": "execute_result"
    }
   ],
   "source": [
    "Sim = CarbonSimulatorUI()\n",
    "o = Sim.add_fromsdk(sdkstrategy, 6)[\"orders\"]\n",
    "o"
   ]
  },
  {
   "cell_type": "code",
   "execution_count": 51,
   "id": "498cd8f3-5226-45f2-9648-0cb61c8eb08e",
   "metadata": {},
   "outputs": [],
   "source": [
    "assert o.iloc[0][\"pair\"] == \"ETHUSDC\"\n",
    "assert o.iloc[0][\"p_unit\"] == \"USDC per ETH\"\n",
    "assert o.iloc[0][\"tkn\"] == \"ETH\"\n",
    "assert abs(o.iloc[0][\"p_start\"]/2500-1) < 1e-10\n",
    "assert abs(o.iloc[0][\"p_end\"]/2600-1) < 1e-10\n",
    "assert abs(o.iloc[0][\"y_int\"]/1-1) < 1e-10\n",
    "assert abs(o.iloc[0][\"y\"]/0.5-1) < 1e-10"
   ]
  },
  {
   "cell_type": "code",
   "execution_count": 52,
   "id": "7ef06d93-c18d-4e6c-8e09-2fa0720b7f27",
   "metadata": {},
   "outputs": [],
   "source": [
    "assert o.iloc[1][\"pair\"] == \"ETHUSDC\"\n",
    "assert o.iloc[1][\"p_unit\"] == \"USDC per ETH\"\n",
    "assert o.iloc[1][\"tkn\"] == \"USDC\"\n",
    "assert abs(o.iloc[1][\"p_start\"]/1600-1) < 1e-10\n",
    "assert abs(o.iloc[1][\"p_end\"]/1500-1) < 1e-10\n",
    "assert abs(o.iloc[1][\"y_int\"]/500-1) < 1e-10\n",
    "assert abs(o.iloc[1][\"y\"]/166.666666-1) < 1e-10"
   ]
  },
  {
   "cell_type": "code",
   "execution_count": null,
   "id": "540245c8-1f61-4074-bebb-ef82be27a9bf",
   "metadata": {},
   "outputs": [],
   "source": []
  }
 ],
 "metadata": {
  "jupytext": {
   "formats": "ipynb,py:light"
  },
  "kernelspec": {
   "display_name": "Python 3",
   "language": "python",
   "name": "python3"
  },
  "language_info": {
   "codemirror_mode": {
    "name": "ipython",
    "version": 3
   },
   "file_extension": ".py",
   "mimetype": "text/x-python",
   "name": "python",
   "nbconvert_exporter": "python",
   "pygments_lexer": "ipython3",
   "version": "3.8.8"
  }
 },
 "nbformat": 4,
 "nbformat_minor": 5
}
