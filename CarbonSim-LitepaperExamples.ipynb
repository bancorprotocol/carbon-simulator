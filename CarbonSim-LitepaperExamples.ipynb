{
 "cells": [
  {
   "cell_type": "markdown",
   "id": "fdd485eb",
   "metadata": {},
   "source": [
    "<p align=\"left\">\n",
    "<img width=\"50%\" src=\"https://drive.google.com/uc?export=view&id=10y3NKbbk7yt7cZDMszMt04g6NquTEa4p\" alt=\"Carbon Logo\" />\n",
    "</p>\n"
   ]
  },
  {
   "cell_type": "markdown",
   "id": "fa78c8d2",
   "metadata": {},
   "source": [
    "# Carbon Simulator - Litepaper Examples\n",
    "\n",
    "Those are the examples from the [Litepaper][lp] \"Use Cases\" section, presented very concisely. Please see the book `CarbonSim-Examples.ipynb` for a longer discussion, more technical explanations, and additional examples.\n",
    "\n",
    "[lp]:https://carbondefi.xyz/r/litepaper"
   ]
  },
  {
   "cell_type": "code",
   "execution_count": 1,
   "id": "bf877949",
   "metadata": {},
   "outputs": [],
   "source": [
    "from carbon import CarbonSimulatorUI"
   ]
  },
  {
   "cell_type": "markdown",
   "id": "3bf24390",
   "metadata": {},
   "source": [
    "## LP Example: Limit Order"
   ]
  },
  {
   "cell_type": "markdown",
   "id": "256b37a7",
   "metadata": {},
   "source": [
    "**Bob creates a strategy where he buys ETH when the price goes to 1500 USDC. He is willing to spend 5000 USDC for this. He would like to buy at this specific price only.**"
   ]
  },
  {
   "cell_type": "code",
   "execution_count": 2,
   "id": "cd860b8a",
   "metadata": {},
   "outputs": [],
   "source": [
    "Sim = CarbonSimulatorUI(pair=\"ETHUSDC\")"
   ]
  },
  {
   "cell_type": "code",
   "execution_count": 3,
   "id": "db5491e7",
   "metadata": {},
   "outputs": [
    {
     "ename": "KeyError",
     "evalue": "'orders'",
     "output_type": "error",
     "traceback": [
      "\u001B[0;31m---------------------------------------------------------------------------\u001B[0m",
      "\u001B[0;31mKeyError\u001B[0m                                  Traceback (most recent call last)",
      "\u001B[0;32m/var/folders/rt/qnj8r6yd6131ccxkw_k9d9gc0000gn/T/ipykernel_48624/389552276.py\u001B[0m in \u001B[0;36m<cell line: 1>\u001B[0;34m()\u001B[0m\n\u001B[0;32m----> 1\u001B[0;31m \u001B[0mSim\u001B[0m\u001B[0;34m.\u001B[0m\u001B[0madd_strategy\u001B[0m\u001B[0;34m(\u001B[0m\u001B[0;34m\"ETH\"\u001B[0m\u001B[0;34m,\u001B[0m \u001B[0;36m0\u001B[0m\u001B[0;34m,\u001B[0m \u001B[0;36m10000000\u001B[0m\u001B[0;34m,\u001B[0m \u001B[0;36m10000000\u001B[0m\u001B[0;34m,\u001B[0m \u001B[0;36m10000\u001B[0m\u001B[0;34m,\u001B[0m \u001B[0;36m1500\u001B[0m\u001B[0;34m,\u001B[0m \u001B[0;36m1500\u001B[0m\u001B[0;34m)\u001B[0m\u001B[0;34m[\u001B[0m\u001B[0;34m\"orders\"\u001B[0m\u001B[0;34m]\u001B[0m\u001B[0;34m\u001B[0m\u001B[0;34m\u001B[0m\u001B[0m\n\u001B[0m",
      "\u001B[0;31mKeyError\u001B[0m: 'orders'"
     ]
    }
   ],
   "source": [
    "Sim.add_strategy(tkn=\"ETH\", amt_sell=0, psell_start=10000000, psell_end=10000000, amt_buy=10000, pbuy_start=1500, pbuy_end=1500)[\"orders\"]"
   ]
  },
  {
   "cell_type": "markdown",
   "id": "1dbda73c",
   "metadata": {},
   "source": [
    "The market is attempting to pass the following orders against it. The last one fails because there is not enough USDC left."
   ]
  },
  {
   "cell_type": "code",
   "execution_count": null,
   "id": "d6cc5aed",
   "metadata": {},
   "outputs": [],
   "source": [
    "for size in [2,1.4,3,0.5]:\n",
    "    result = Sim.trader_sells(\"ETH\", size)\n",
    "result"
   ]
  },
  {
   "cell_type": "code",
   "execution_count": null,
   "id": "5f7da177",
   "metadata": {},
   "outputs": [],
   "source": [
    "Sim.state()[\"trades\"].query(\"aggr==True\")"
   ]
  },
  {
   "cell_type": "markdown",
   "id": "7177b34b",
   "metadata": {},
   "source": [
    "After those trades, Bob purchased 6.4 ETH. This should have cost him USDC 9600"
   ]
  },
  {
   "cell_type": "code",
   "execution_count": null,
   "id": "2a961da5",
   "metadata": {},
   "outputs": [],
   "source": [
    "print(6.4*1500)\n",
    "Sim.state()[\"orders\"].query(\"y_unit=='ETH'\")[\"y\"]"
   ]
  },
  {
   "cell_type": "markdown",
   "id": "6ac59190",
   "metadata": {},
   "source": [
    "We confirm that: Bob as 400 USDC left from the initial 10000"
   ]
  },
  {
   "cell_type": "code",
   "execution_count": null,
   "id": "f5938f1b",
   "metadata": {
    "lines_to_next_cell": 2
   },
   "outputs": [],
   "source": [
    "print(10000-6.4*1500)\n",
    "Sim.state()[\"orders\"].query(\"y_unit=='USDC'\")[\"y\"]"
   ]
  },
  {
   "cell_type": "markdown",
   "id": "d4f02ca0",
   "metadata": {},
   "source": [
    "## LP Example: \"Buy-Low Sell-High\" Strategy"
   ]
  },
  {
   "cell_type": "markdown",
   "id": "70c01786",
   "metadata": {},
   "source": [
    "**Alice creates a strategy where she buys ETH as the price goes between 1500 and 1600 USDC. She is willing to spend 5000 USDC for this. She also wants to sell her acquired ETH when the price goes from 2000 to 2500 USDC.**"
   ]
  },
  {
   "cell_type": "code",
   "execution_count": null,
   "id": "6159c7c8",
   "metadata": {},
   "outputs": [],
   "source": [
    "Sim = CarbonSimulatorUI(pair=\"ETHUSDC\")"
   ]
  },
  {
   "cell_type": "code",
   "execution_count": null,
   "id": "242b206d",
   "metadata": {},
   "outputs": [],
   "source": [
    "Sim.add_strategy(tkn=\"ETH\", amt_sell=0, psell_start=2000, psell_end=2500, amt_buy=5000, pbuy_start=1600, pbuy_end=1500)[\"orders\"]"
   ]
  },
  {
   "cell_type": "markdown",
   "id": "b2276b95",
   "metadata": {},
   "source": [
    "The market is attempting to pass the following orders against it. The last one fails because there is not enough USDC left."
   ]
  },
  {
   "cell_type": "code",
   "execution_count": null,
   "id": "58d1ae07",
   "metadata": {},
   "outputs": [],
   "source": [
    "for size in [1,1,1,1]:\n",
    "    result = Sim.trader_sells(tkn=\"ETH\", amt=size, pair='ETHUSDC')\n",
    "result"
   ]
  },
  {
   "cell_type": "code",
   "execution_count": null,
   "id": "e516eb8e",
   "metadata": {},
   "outputs": [],
   "source": [
    "Sim.state()[\"trades\"].query(\"aggr==True\")"
   ]
  },
  {
   "cell_type": "markdown",
   "id": "56f4940e",
   "metadata": {},
   "source": [
    "After those trades, Alice has 3 ETH, and 341 USDC left."
   ]
  },
  {
   "cell_type": "code",
   "execution_count": null,
   "id": "f7b1a0c8",
   "metadata": {},
   "outputs": [],
   "source": [
    "Sim.state()[\"orders\"][['y', 'y_unit']]"
   ]
  },
  {
   "cell_type": "markdown",
   "id": "1d75d030",
   "metadata": {},
   "source": [
    "Then the marker turns, and it buys ETH at the price the Alice is willing to sell it"
   ]
  },
  {
   "cell_type": "code",
   "execution_count": null,
   "id": "894967fd",
   "metadata": {},
   "outputs": [],
   "source": [
    "for size in [1,1,1,1]:\n",
    "    result = Sim.trader_buys(tkn=\"ETH\", amt=size, pair='ETHUSDC')\n",
    "result"
   ]
  },
  {
   "cell_type": "code",
   "execution_count": null,
   "id": "911bc1d1",
   "metadata": {},
   "outputs": [],
   "source": [
    "Sim.state()[\"trades\"].query(\"aggr==True\").query(\"tkn1=='ETH'\")"
   ]
  },
  {
   "cell_type": "markdown",
   "id": "8cb30374",
   "metadata": {},
   "source": [
    "At the end, Alice has 7050 USDC, against a starting value of 5000."
   ]
  },
  {
   "cell_type": "code",
   "execution_count": null,
   "id": "36705b89",
   "metadata": {},
   "outputs": [],
   "source": [
    "Sim.state()[\"orders\"][['y', 'y_unit']]"
   ]
  },
  {
   "cell_type": "markdown",
   "id": "9acd707d",
   "metadata": {},
   "source": [
    "## LP Example: \"Average-In\" Order"
   ]
  },
  {
   "cell_type": "markdown",
   "id": "20092ded",
   "metadata": {},
   "source": [
    "**Jane creates a strategy to buy ETH between 1500 and 1600 USDC. She is willing to spend 5000 USDC for this.**\n",
    "\n",
    "Note: this is simply Alice's strategy without the sell part."
   ]
  },
  {
   "cell_type": "code",
   "execution_count": null,
   "id": "8b80384c",
   "metadata": {},
   "outputs": [],
   "source": [
    "Sim = CarbonSimulatorUI(pair=\"ETHUSDC\")"
   ]
  },
  {
   "cell_type": "code",
   "execution_count": null,
   "id": "7e06166a",
   "metadata": {},
   "outputs": [],
   "source": [
    "Sim.add_strategy(tkn=\"ETH\", amt_sell=0, psell_start=1000000, psell_end=1000000, amt_buy=5000, pbuy_start=1600, pbuy_end=1500)[\"orders\"]"
   ]
  },
  {
   "cell_type": "markdown",
   "id": "cc5329db",
   "metadata": {},
   "source": [
    "The market is attempting to pass the following orders against it. The last one fails because there is not enough USDC left."
   ]
  },
  {
   "cell_type": "code",
   "execution_count": null,
   "id": "33cebe77",
   "metadata": {},
   "outputs": [],
   "source": [
    "for size in [1,1,1,340/1500,1]:\n",
    "    result = Sim.trader_sells(tkn=\"ETH\", amt=size, pair=\"ETHUSDC\")\n",
    "result"
   ]
  },
  {
   "cell_type": "code",
   "execution_count": null,
   "id": "ff64ab6e",
   "metadata": {},
   "outputs": [],
   "source": [
    "Sim.state()[\"trades\"].query(\"aggr==True\")"
   ]
  },
  {
   "cell_type": "markdown",
   "id": "fd2edf41",
   "metadata": {},
   "source": [
    "After those trades, Jane has purchase 3.2 ETH, and she has 1.2 USDC left. She bought at an average price of 1549."
   ]
  },
  {
   "cell_type": "code",
   "execution_count": null,
   "id": "85abf0c7",
   "metadata": {},
   "outputs": [],
   "source": [
    "o = Sim.state()[\"orders\"][['y', 'y_unit']]\n",
    "print((5000 - o.iloc[0]['y'])/ o.iloc[0]['y'])\n",
    "o"
   ]
  },
  {
   "cell_type": "markdown",
   "id": "ad837049",
   "metadata": {},
   "source": [
    "## LP Example: Token Distribution Order"
   ]
  },
  {
   "cell_type": "markdown",
   "id": "e50808da",
   "metadata": {},
   "source": [
    "**Token project XYZ creates a strategy to sell 1 million units of its XYZ token in the price range of 0.50-2.00. The project would like to “back-load” the distribution process, such that half of the tokens are sold between 1.50-2.00. In total, the project wishes to receive a minimum of 1.37m in cash for its tokens.**"
   ]
  },
  {
   "cell_type": "code",
   "execution_count": null,
   "id": "7af91dc0",
   "metadata": {},
   "outputs": [],
   "source": [
    "Sim = CarbonSimulatorUI(pair=\"XYZUSDC\")"
   ]
  },
  {
   "cell_type": "code",
   "execution_count": null,
   "id": "108b67ee",
   "metadata": {},
   "outputs": [],
   "source": [
    "Sim.add_strategy(tkn=\"XYZ\", amt_sell=500000, psell_start=0.5, psell_end=2, amt_buy=0, pbuy_start=0.001, pbuy_end=0.001, pair='XYZUSDC')\n",
    "Sim.add_strategy(tkn=\"XYZ\", amt_sell=500000, psell_start=1.5, psell_end=2, amt_buy=0, pbuy_start=0.001, pbuy_end=0.001, pair='XYZUSDC')\n",
    "Sim.state()[\"orders\"]"
   ]
  },
  {
   "cell_type": "markdown",
   "id": "c9bffd55",
   "metadata": {},
   "source": [
    "The market is now buying"
   ]
  },
  {
   "cell_type": "code",
   "execution_count": null,
   "id": "c3acad32",
   "metadata": {},
   "outputs": [],
   "source": [
    "for size in [100]*11:\n",
    "    result = Sim.trader_buys(tkn=\"XYZ\", amt=size*999.999, pair='XYZUSDC')\n",
    "result"
   ]
  },
  {
   "cell_type": "markdown",
   "id": "99cdddc0",
   "metadata": {},
   "source": [
    "We see that initially the price is rising fast, but as soon as both positions yield tokens (above 1.50) there is more capacity in any given price range"
   ]
  },
  {
   "cell_type": "code",
   "execution_count": null,
   "id": "8412f117",
   "metadata": {},
   "outputs": [],
   "source": [
    "Sim.state()[\"trades\"].query(\"aggr==True\")[[\"amt1\", \"tkn1\", \"nroutes\", \"price\"]]"
   ]
  },
  {
   "cell_type": "markdown",
   "id": "39ac618c",
   "metadata": {},
   "source": [
    "After those trades, the token project has sold most of its tokens (just 1 left across both positions), and has received USD 1,366,023"
   ]
  },
  {
   "cell_type": "code",
   "execution_count": null,
   "id": "26e650ad",
   "metadata": {},
   "outputs": [],
   "source": [
    "o = Sim.state()[\"orders\"][['y', 'y_unit']]\n",
    "o.query(\"y_unit=='XYZ'\").sum()"
   ]
  },
  {
   "cell_type": "code",
   "execution_count": null,
   "id": "95ea770e",
   "metadata": {
    "lines_to_next_cell": 2
   },
   "outputs": [],
   "source": [
    "o.query(\"y_unit=='USDC'\").sum()"
   ]
  }
 ],
 "metadata": {
  "jupytext": {
   "cell_metadata_filter": "-all",
   "notebook_metadata_filter": "-all"
  },
  "kernelspec": {
   "display_name": "Python 3",
   "language": "python",
   "name": "python3"
  },
  "language_info": {
   "codemirror_mode": {
    "name": "ipython",
    "version": 3
   },
   "file_extension": ".py",
   "mimetype": "text/x-python",
   "name": "python",
   "nbconvert_exporter": "python",
   "pygments_lexer": "ipython3",
   "version": "3.8.8"
  }
 },
 "nbformat": 4,
 "nbformat_minor": 5
}
