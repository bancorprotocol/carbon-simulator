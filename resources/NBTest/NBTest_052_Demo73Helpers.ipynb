{
 "cells": [
  {
   "cell_type": "code",
   "execution_count": 1,
   "id": "ce011baf",
   "metadata": {},
   "outputs": [
    {
     "name": "stdout",
     "output_type": "stream",
     "text": [
      "[stdimports] imported np, pd, plt, os, sqrt, exp, log\n",
      "Carbon v2.3-BETA0 (23/Jan/2022)\n",
      "CarbonSimulatorUI v2.4 (12/Jan/2023)\n",
      "CarbonOrderUI v1.6.1 (21/Jan/2023)\n"
     ]
    }
   ],
   "source": [
    "from carbon.helpers.stdimports import *\n",
    "\n",
    "# those are not available at the helpers level\n",
    "from carbon.helpers.version import VersionRequirementNotMetError\n",
    "from carbon.helpers.simulation import run_sim, plot_sim\n",
    "from carbon.helpers.widgets import CheckboxManager, DropdownManager, PcSliderManager\n",
    "\n",
    "# that's part of the test, that all those import from the helpers level\n",
    "from carbon.helpers import fload, fsave\n",
    "from carbon.helpers import Params\n",
    "from carbon.helpers import dfread, pdread, pathtime, pathtime_yrs, pathtime_days, pdcols, j\n",
    "from carbon.helpers import strategy\n",
    "from carbon.helpers import require_version\n",
    "from carbon.helpers import print_version\n",
    "\n",
    "plt.style.use('seaborn-dark')\n",
    "plt.rcParams['figure.figsize'] = [12,6]\n",
    "print_version(require=\"2.3\")"
   ]
  },
  {
   "cell_type": "markdown",
   "id": "edf6bdb6",
   "metadata": {},
   "source": [
    "# Carbon Helpers (NBTest 052)"
   ]
  },
  {
   "cell_type": "markdown",
   "id": "ac73283b",
   "metadata": {},
   "source": [
    "## params"
   ]
  },
  {
   "cell_type": "code",
   "execution_count": 2,
   "id": "86c2eb50",
   "metadata": {},
   "outputs": [
    {
     "name": "stdout",
     "output_type": "stream",
     "text": [
      "Params.construct({'a': 1, 'b': 2})\n",
      "'z'\n"
     ]
    }
   ],
   "source": [
    "p = Params(a=1, b=2)\n",
    "assert p[\"a\"] == 1\n",
    "assert p.a == 1\n",
    "assert p[\"c\"] is None\n",
    "print(p)\n",
    "assert str(p) == \"Params.construct({'a': 1, 'b': 2})\"\n",
    "assert p.params == {'a': 1, 'b': 2}\n",
    "p[\"c\"] = 5\n",
    "assert p[\"c\"] == 5\n",
    "assert p.c == 5\n",
    "result = p.add(d=10, e=11)\n",
    "assert result is p\n",
    "assert p[\"d\"] == 10\n",
    "assert p.e == 11\n",
    "try:\n",
    "    p.z\n",
    "    raise RuntimeError(\"should raise\")\n",
    "except KeyError as e:\n",
    "    print(e)"
   ]
  },
  {
   "cell_type": "code",
   "execution_count": 3,
   "id": "5394b2ac",
   "metadata": {},
   "outputs": [],
   "source": [
    "p = Params(a=1, b=2)\n",
    "assert p.defaults == {}\n",
    "p.set_default(b=20, c=3)\n",
    "assert str(p) == \"Params.construct({'a': 1, 'b': 2}, defaults={'b': 20, 'c': 3})\"\n",
    "assert p.b == 2\n",
    "assert p.get_default(\"b\") == 20\n",
    "assert p.c == 3\n",
    "\n",
    "p = Params(a=1, b=2)\n",
    "assert p.get_default(\"c\") is None\n",
    "result = p.set_default()\n",
    "assert result is p\n",
    "p.set_default(c=10, d=11)\n",
    "assert p.c == 10\n",
    "assert p.d == 11\n",
    "assert p.defaults == {'c': 10, 'd': 11}\n",
    "assert p[\"e\"] is None\n",
    "try:\n",
    "    p.e\n",
    "    raise RuntimeError(\"should raise\")\n",
    "except KeyError as e:\n",
    "    pass"
   ]
  },
  {
   "cell_type": "code",
   "execution_count": 4,
   "id": "4e36a8e5",
   "metadata": {},
   "outputs": [
    {
     "name": "stdout",
     "output_type": "stream",
     "text": [
      "('Must not provide default in both constructor and dct', Params.construct({'a': 1, 'b': 2}, defaults={'b': 20, 'c': 3}), {'e': 100})\n"
     ]
    }
   ],
   "source": [
    "p = Params.construct({'a': 1, 'b': 2}, defaults={'b': 20, 'c': 3})\n",
    "assert p.a == 1\n",
    "assert p.b == 2\n",
    "assert p.c == 3\n",
    "assert p.get_default(\"b\") == 20\n",
    "pp = Params.construct(p)\n",
    "assert not pp is p\n",
    "assert p.params == pp.params\n",
    "try:\n",
    "    ppp = Params.construct(p, defaults={\"e\":100})\n",
    "except ValueError as e:\n",
    "    print(e)"
   ]
  },
  {
   "cell_type": "code",
   "execution_count": 5,
   "id": "63eb33aa",
   "metadata": {},
   "outputs": [],
   "source": [
    "p  = Params.construct({'a': 1, 'b': 2})\n",
    "defaults = {'b': 20, 'c': 3}\n",
    "pp = Params.construct(p, defaults=defaults)\n",
    "assert not pp is p\n",
    "assert p.params == pp.params\n",
    "assert pp.defaults == defaults\n",
    "assert not pp.defaults is defaults\n",
    "assert not pp._defaults is defaults"
   ]
  },
  {
   "cell_type": "code",
   "execution_count": 6,
   "id": "7f969db3",
   "metadata": {},
   "outputs": [],
   "source": [
    "p = Params.construct()\n",
    "assert p.params == {}\n",
    "p = Params.construct(None)\n",
    "assert p.params == {}"
   ]
  },
  {
   "cell_type": "markdown",
   "id": "a38851dc",
   "metadata": {},
   "source": [
    "## widgets [NOTEST]\n",
    "\n",
    "https://ipywidgets.readthedocs.io/en/7.6.3/examples/Widget%20Styling.html#The-Flexbox-layout"
   ]
  },
  {
   "cell_type": "code",
   "execution_count": 7,
   "id": "5775698e",
   "metadata": {},
   "outputs": [
    {
     "data": {
      "application/vnd.jupyter.widget-view+json": {
       "model_id": "8dae87a7683344278377bb9a507815f6",
       "version_major": 2,
       "version_minor": 0
      },
      "text/plain": [
       "HBox(children=(Checkbox(value=False, description='0'), Checkbox(value=False, description='1'), Checkbox(value=…"
      ]
     },
     "metadata": {},
     "output_type": "display_data"
    }
   ],
   "source": [
    "CM1 = CheckboxManager([i for i in range(10)])\n",
    "CM1(vertical=False)"
   ]
  },
  {
   "cell_type": "code",
   "execution_count": 8,
   "id": "37b2b319",
   "metadata": {},
   "outputs": [
    {
     "data": {
      "application/vnd.jupyter.widget-view+json": {
       "model_id": "47e74df8e0a743c5bc9f410c31520cdc",
       "version_major": 2,
       "version_minor": 0
      },
      "text/plain": [
       "VBox(children=(Checkbox(value=False, description='6789754370'), Checkbox(value=False, description='7468729807'…"
      ]
     },
     "metadata": {},
     "output_type": "display_data"
    }
   ],
   "source": [
    "CM2 = CheckboxManager({i:678975437*(i+10) for i in range(5)}, objects=(\"a\", \"b\", \"c\", \"d\", \"e\"))\n",
    "CM2()"
   ]
  },
  {
   "cell_type": "code",
   "execution_count": 9,
   "id": "ec7b1ccd",
   "metadata": {},
   "outputs": [
    {
     "data": {
      "text/plain": [
       "((), ('a', 'b', 'c', 'd', 'e'))"
      ]
     },
     "execution_count": 9,
     "metadata": {},
     "output_type": "execute_result"
    }
   ],
   "source": [
    "CM2.objects(), CM2.objects(checked=False)"
   ]
  },
  {
   "cell_type": "code",
   "execution_count": 10,
   "id": "11c022bd",
   "metadata": {},
   "outputs": [
    {
     "data": {
      "application/vnd.jupyter.widget-view+json": {
       "model_id": "15f23e69aea442718042272ef7d6468c",
       "version_major": 2,
       "version_minor": 0
      },
      "text/plain": [
       "VBox(children=(FloatSlider(value=0.0, continuous_update=False, description='Slider #1', readout_format='.1f'),…"
      ]
     },
     "metadata": {},
     "output_type": "display_data"
    }
   ],
   "source": [
    "SM = PcSliderManager([f\"Slider #{i+1}\" for i in range(5)])\n",
    "SM()"
   ]
  },
  {
   "cell_type": "code",
   "execution_count": 11,
   "id": "ddace68a",
   "metadata": {},
   "outputs": [
    {
     "data": {
      "text/plain": [
       "(0.0, 0.0, 0.0, 0.0, 0.0)"
      ]
     },
     "execution_count": 11,
     "metadata": {},
     "output_type": "execute_result"
    }
   ],
   "source": [
    "SM.values"
   ]
  },
  {
   "cell_type": "code",
   "execution_count": 12,
   "id": "78c29725",
   "metadata": {},
   "outputs": [
    {
     "data": {
      "application/vnd.jupyter.widget-view+json": {
       "model_id": "e4e2513201274ca6ab40737a68b6a172",
       "version_major": 2,
       "version_minor": 0
      },
      "text/plain": [
       "Dropdown(options=(('6789754370', '6789754370'), ('7468729807', '7468729807'), ('8147705244', '8147705244'), ('…"
      ]
     },
     "metadata": {},
     "output_type": "display_data"
    }
   ],
   "source": [
    "DD = DropdownManager([678975437*(i+10) for i in range(5)])\n",
    "DD()"
   ]
  },
  {
   "cell_type": "code",
   "execution_count": 13,
   "id": "485a0635",
   "metadata": {},
   "outputs": [
    {
     "name": "stdout",
     "output_type": "stream",
     "text": [
      "(False, False, False, False, False, False, False, False, False, False) (False, False, False, False, False) 6789754370\n"
     ]
    }
   ],
   "source": [
    "print(CM1.values, CM2.values, DD.value)"
   ]
  },
  {
   "cell_type": "markdown",
   "id": "ed7a7ce4",
   "metadata": {},
   "source": [
    "## widgets"
   ]
  },
  {
   "cell_type": "code",
   "execution_count": 14,
   "id": "11a0421c",
   "metadata": {},
   "outputs": [
    {
     "name": "stdout",
     "output_type": "stream",
     "text": [
      "('len(values) [2] must be len(choices) [3]', [10, 0], [1, 2, 3])\n",
      "('len(disabled) [2] must be len(choices) [3]', [10, 0], [1, 2, 3])\n"
     ]
    }
   ],
   "source": [
    "CM = CheckboxManager([1,2,3], None)\n",
    "assert CM.choice_ids == ('1', '2', '3')\n",
    "assert CM.choice_descr == ('1', '2', '3')\n",
    "assert CM.values == (False, False, False)\n",
    "assert CheckboxManager({1:11, 2:12}).choice_ids == ('1', '2')\n",
    "assert CheckboxManager({1:11, 2:12}).choice_descr == ('11', '12')\n",
    "assert CheckboxManager([1,2,3], False).values == (False, False, False)\n",
    "assert CheckboxManager([1,2,3], True).values == (True, True, True)\n",
    "assert CheckboxManager([1,2,3], [10,0,1]).values == (True, False, True)\n",
    "assert CheckboxManager([1,2,3], disabled=[10,0,1]).disabled == (True, False, True)\n",
    "assert CheckboxManager.from_idvdct({10:10,12:0}).choice_ids == ('10', '12')\n",
    "assert CheckboxManager.from_idvdct({10:10,12:0}).choice_descr == ('10', '12')\n",
    "assert CheckboxManager.from_idvdct({10:10,12:0}).values == (True, False)\n",
    "try:\n",
    "    CheckboxManager([1,2,3], [10,0])\n",
    "    raise\n",
    "except ValueError as e:\n",
    "    print(e)\n",
    "try:\n",
    "    CheckboxManager([1,2,3], disabled=[10,0])\n",
    "    raise\n",
    "except ValueError as e:\n",
    "    print(e)"
   ]
  },
  {
   "cell_type": "code",
   "execution_count": 15,
   "id": "0048c035",
   "metadata": {},
   "outputs": [
    {
     "name": "stdout",
     "output_type": "stream",
     "text": [
      "('len(values) [2] must be len(choices) [3]', [10, 0], [1, 2, 3])\n",
      "('len(disabled) [2] must be len(choices) [3]', [10, 0], [1, 2, 3])\n"
     ]
    }
   ],
   "source": [
    "assert PcSliderManager({1:11, 2:12}).choice_ids == ('1', '2')\n",
    "assert PcSliderManager({1:11, 2:12}).choice_descr == ('11', '12')\n",
    "assert PcSliderManager([1,2,3], None).values == (0.,)*3\n",
    "assert PcSliderManager([1,2,3], 0.3).values == (0.3, 0.3, 0.3)\n",
    "assert PcSliderManager([1,2,3], [2,0.5,-1]).values == (1, 0.5, 0)\n",
    "assert PcSliderManager([1,2,3], disabled=[10,0,1]).disabled == (True, False, True)\n",
    "try:\n",
    "    PcSliderManager([1,2,3], [10,0])\n",
    "    raise\n",
    "except ValueError as e:\n",
    "    print(e)\n",
    "try:\n",
    "    PcSliderManager([1,2,3], disabled=[10,0])\n",
    "    raise\n",
    "except ValueError as e:\n",
    "    print(e)"
   ]
  },
  {
   "cell_type": "code",
   "execution_count": 16,
   "id": "a03fc618",
   "metadata": {},
   "outputs": [],
   "source": [
    "assert DropdownManager([1,2,3]).options == ('1', '2', '3')\n",
    "assert DropdownManager([1,2,3]).labels == ('1', '2', '3')\n",
    "assert DropdownManager([1,2,3], labels=[10,20,30]).options == ('1', '2', '3')\n",
    "assert DropdownManager([1,2,3], labels=[10,20,30]).labels == ('10', '20', '30')\n",
    "assert DropdownManager({1:10, 2:20, 3:30}).options == ('1', '2', '3')\n",
    "assert DropdownManager({1:10, 2:20, 3:30}).labels == ('10', '20', '30')\n",
    "assert DropdownManager({1:10, 2:20, 3:30}).value == \"1\"\n",
    "assert DropdownManager({1:10, 2:20, 3:30}).label == \"10\"\n",
    "assert DropdownManager({1:10, 2:20, 3:30}).result == (\"1\", \"10\")"
   ]
  },
  {
   "cell_type": "markdown",
   "id": "e97b14b6",
   "metadata": {},
   "source": [
    "## helpers stdimport"
   ]
  },
  {
   "cell_type": "markdown",
   "id": "526cbe0f",
   "metadata": {},
   "source": [
    "check that the following objects have been imported"
   ]
  },
  {
   "cell_type": "code",
   "execution_count": 17,
   "id": "4f358572",
   "metadata": {},
   "outputs": [
    {
     "data": {
      "text/plain": [
       "carbon.pair.CarbonPair"
      ]
     },
     "execution_count": 17,
     "metadata": {},
     "output_type": "execute_result"
    }
   ],
   "source": [
    "np\n",
    "plt\n",
    "pd\n",
    "CarbonSimulatorUI\n",
    "CarbonOrderUI\n",
    "P"
   ]
  },
  {
   "cell_type": "code",
   "execution_count": 18,
   "id": "fd7ac22e",
   "metadata": {},
   "outputs": [
    {
     "data": {
      "text/plain": [
       "<function math.log>"
      ]
     },
     "execution_count": 18,
     "metadata": {},
     "output_type": "execute_result"
    }
   ],
   "source": [
    "sqrt\n",
    "exp\n",
    "log"
   ]
  },
  {
   "cell_type": "markdown",
   "id": "a718e9cf",
   "metadata": {},
   "source": [
    "## helpers version"
   ]
  },
  {
   "cell_type": "code",
   "execution_count": 19,
   "id": "dac6ee5d",
   "metadata": {},
   "outputs": [],
   "source": [
    "assert require_version(\"1.0\", \"1.0\", raiseonfail=False) == True\n",
    "assert require_version(\"2.0\", \"1.0\", raiseonfail=False) == False\n",
    "assert require_version(\"1.0\", \"2.0\", raiseonfail=False) == True\n",
    "assert require_version(\"1.0.1\", \"1.0\", raiseonfail=False) == False\n",
    "assert require_version(\"1.0\", \"1.0.1\", raiseonfail=False) == True\n",
    "assert require_version(\"1.0\", \"11.0\", raiseonfail=False) == True\n",
    "assert require_version(\"11.0\", \"1.0\", raiseonfail=False) == False\n",
    "assert require_version(\"1.3beta1\", \"1.3\", raiseonfail=False) == True\n",
    "assert require_version(\"1.3beta1\", \"1.3beta1\", raiseonfail=False) == True\n",
    "assert require_version(\"1.3-1\", \"1.3-2\", raiseonfail=False) == True\n",
    "assert require_version(\"1.3-2\", \"1.3-1\", raiseonfail=False) == True\n",
    "assert require_version(\"1.0\", \"1.0\", raiseonfail=False) == True\n",
    "assert require_version(\"1.0\", \"1.0\", raiseonfail=False) == True"
   ]
  },
  {
   "cell_type": "markdown",
   "id": "f860f9f3",
   "metadata": {},
   "source": [
    "obviously must be tested with version >= 2.0"
   ]
  },
  {
   "cell_type": "code",
   "execution_count": 20,
   "id": "90eb4f02",
   "metadata": {},
   "outputs": [],
   "source": [
    "require_version(\"2.0\")"
   ]
  },
  {
   "cell_type": "code",
   "execution_count": 21,
   "id": "7c3fc54e",
   "metadata": {},
   "outputs": [],
   "source": [
    "require_version(\"1.0\", \"1.0\")"
   ]
  },
  {
   "cell_type": "code",
   "execution_count": 22,
   "id": "85859a6b",
   "metadata": {},
   "outputs": [
    {
     "name": "stdout",
     "output_type": "stream",
     "text": [
      "('Version requirements not met (required = [2, 0], actual = [1, 0])', '2.0', '1.0')\n"
     ]
    }
   ],
   "source": [
    "try:\n",
    "    require_version(\"2.0\", \"1.0\")\n",
    "    run(\"must raise error\")\n",
    "except VersionRequirementNotMetError as e:\n",
    "    print(e)"
   ]
  },
  {
   "cell_type": "markdown",
   "id": "4eef2211",
   "metadata": {},
   "source": [
    "## helpers strategy"
   ]
  },
  {
   "cell_type": "code",
   "execution_count": 23,
   "id": "c9d0a3e6",
   "metadata": {},
   "outputs": [],
   "source": [
    "# from carbon.helpers import strategy as _strategy\n",
    "# help(_strategy)"
   ]
  },
  {
   "cell_type": "code",
   "execution_count": 24,
   "id": "1c7574c2",
   "metadata": {},
   "outputs": [],
   "source": [
    "assert strategy.from_mgw(m=100) == strategy.from_mgw()\n",
    "assert strategy.from_mgw(g=0) == strategy.from_mgw()\n",
    "assert strategy.from_mgw(w=0) == strategy.from_mgw()"
   ]
  },
  {
   "cell_type": "code",
   "execution_count": 25,
   "id": "f7debb17",
   "metadata": {},
   "outputs": [],
   "source": [
    "assert strategy.from_mgw(g=0.1).p_buy_a == 100/(1.05)\n",
    "assert strategy.from_mgw(g=0.1).p_sell_a == 100*(1.05)"
   ]
  },
  {
   "cell_type": "code",
   "execution_count": 26,
   "id": "48e433b5",
   "metadata": {},
   "outputs": [],
   "source": [
    "assert strategy.from_mgw(g=0.1, w=0.1).p_buy_b == 100/1.05/1.1\n",
    "assert strategy.from_mgw(g=0.1, w=0.1).p_sell_b == 100*1.05*1.1"
   ]
  },
  {
   "cell_type": "code",
   "execution_count": 27,
   "id": "952b0271",
   "metadata": {},
   "outputs": [],
   "source": [
    "assert strategy.from_mgw().slashpair == \"RSK/CSH\"\n",
    "assert strategy.from_mgw(rsk=\"ETH\", csh=\"USD\").slashpair == \"ETH/USD\""
   ]
  },
  {
   "cell_type": "markdown",
   "id": "9cb8d1fd",
   "metadata": {},
   "source": [
    "## helpers pdread"
   ]
  },
  {
   "cell_type": "code",
   "execution_count": 28,
   "id": "5265901e",
   "metadata": {},
   "outputs": [],
   "source": [
    "# from carbon.helpers import pdread as _pdread\n",
    "# help(_pdread)"
   ]
  },
  {
   "cell_type": "code",
   "execution_count": 29,
   "id": "994841fe",
   "metadata": {},
   "outputs": [],
   "source": [
    "DATAFN = \"resources/data/RAN-050-00.pickle\"\n",
    "#DATAFN = \"../data/RAN-050-00.pickle\""
   ]
  },
  {
   "cell_type": "code",
   "execution_count": 30,
   "id": "f5869ab4",
   "metadata": {},
   "outputs": [],
   "source": [
    "assert len(pdread(DATAFN))==101\n",
    "assert pdread(DATAFN).iloc[0].index[5] == \"p0005\"\n",
    "assert str(pdread(DATAFN).index[0]) == '2020-01-01 00:00:00'\n",
    "assert len(pdread(DATAFN)[\"p0000\"]) == len(pdread(DATAFN))\n",
    "assert list(pdread(DATAFN)[\"p0000\"]) == list(pdread(DATAFN, \"p0000\"))"
   ]
  },
  {
   "cell_type": "code",
   "execution_count": 31,
   "id": "d3eec4df",
   "metadata": {},
   "outputs": [],
   "source": [
    "# those assertions should be (mostly) independent from the test data used\n",
    "ONEDAY = pd.Timedelta(days=1)\n",
    "FDAY, LDAY = pdread(DATAFN).index[0], pdread(DATAFN).index[-1]\n",
    "NDAY = LDAY - FDAY\n",
    "assert pdread(DATAFN, from_ts=FDAY - 100*ONEDAY).index[-1] == LDAY\n",
    "assert pdread(DATAFN, from_ts=LDAY - 100*ONEDAY).index[-1] == LDAY\n",
    "assert pdread(DATAFN, from_ts=FDAY + 100*ONEDAY).index[-1] == LDAY\n",
    "assert len(pdread(DATAFN, from_ts=LDAY + 1*ONEDAY))==0\n",
    "assert pdread(DATAFN, from_ts=FDAY+20*ONEDAY).index[0] >= FDAY\n",
    "assert pdread(DATAFN, period_days=NDAY/ONEDAY+10).index[-1] == LDAY\n",
    "assert pdread(DATAFN, period_days=NDAY/ONEDAY-10).index[-1] <= LDAY\n",
    "assert len(pdread(DATAFN, period_days=0))==1"
   ]
  },
  {
   "cell_type": "code",
   "execution_count": 32,
   "id": "d9e608db",
   "metadata": {},
   "outputs": [],
   "source": [
    "# those assertions depend on the exact test data used\n",
    "assert str(pdread(DATAFN                ).index[-1]) == '2020-12-31 06:00:00'\n",
    "assert str(pdread(DATAFN, period_days=20).index[-1]) == '2020-01-19 06:18:00'\n",
    "assert str(pdread(DATAFN, period_days=50).index[-1]) == '2020-02-17 11:34:48'"
   ]
  },
  {
   "cell_type": "code",
   "execution_count": 33,
   "id": "b406a964",
   "metadata": {},
   "outputs": [],
   "source": [
    "# those assertions depend on the exact test data used\n",
    "assert str(pdread(DATAFN, from_ts=\"2000-01-01\").index[0])  == '2020-01-01 00:00:00'\n",
    "assert str(pdread(DATAFN, from_ts=\"2020-01-02\").index[0])  == '2020-01-04 15:39:36'\n",
    "assert str(pdread(DATAFN, from_ts=\"2020-01-02\").index[-1]) == '2020-12-31 06:00:00'\n",
    "assert str(pdread(DATAFN, from_ts=\"2020-05-02\").index[-1]) == '2020-12-31 06:00:00'"
   ]
  },
  {
   "cell_type": "code",
   "execution_count": 34,
   "id": "d46da822",
   "metadata": {},
   "outputs": [],
   "source": [
    "# those assertions depend on the exact test data used\n",
    "assert str(pdread(DATAFN, from_ts=\"2000-01-01\", period_days=30).index[0])   == '2020-01-01 00:00:00'\n",
    "assert str(pdread(DATAFN, from_ts=\"2000-01-01\", period_days=30).index[-1])  == '2020-01-30 05:16:48'\n",
    "assert str(pdread(DATAFN, from_ts=\"2020-03-01\", period_days=30).index[0])   == '2020-03-03 02:13:12'\n",
    "assert str(pdread(DATAFN, from_ts=\"2020-03-01\", period_days=30).index[-1])  == '2020-03-28 15:50:24'"
   ]
  },
  {
   "cell_type": "code",
   "execution_count": 35,
   "id": "24136e93",
   "metadata": {},
   "outputs": [],
   "source": [
    "assert pathtime(pdread(DATAFN, \"p0000\")) == 1       # DEPRECATED\n",
    "assert pathtime_yrs(pdread(DATAFN, \"p0000\")) == 1\n",
    "assert pathtime_days(pdread(DATAFN, \"p0000\")) == 365.25"
   ]
  },
  {
   "cell_type": "code",
   "execution_count": 36,
   "id": "aff79a37",
   "metadata": {},
   "outputs": [],
   "source": [
    "assert len(pdcols(DATAFN)) == 1000\n",
    "assert (pdcols(DATAFN) == pdread(DATAFN).columns).all() == True\n",
    "assert len(pdread(DATAFN, period_days=10)) == 3\n",
    "assert len(pdread(DATAFN, period_pc=0.1)) == 11\n",
    "assert len(pdread(DATAFN, from_ts=\"2020-07-01\")) == 51\n",
    "assert len(pdread(DATAFN, from_pc=0.5)) == 51"
   ]
  }
 ],
 "metadata": {
  "jupytext": {
   "formats": "ipynb,py:light"
  },
  "kernelspec": {
   "display_name": "Python 3",
   "language": "python",
   "name": "python3"
  },
  "language_info": {
   "codemirror_mode": {
    "name": "ipython",
    "version": 3
   },
   "file_extension": ".py",
   "mimetype": "text/x-python",
   "name": "python",
   "nbconvert_exporter": "python",
   "pygments_lexer": "ipython3",
   "version": "3.8.8"
  }
 },
 "nbformat": 4,
 "nbformat_minor": 5
}
