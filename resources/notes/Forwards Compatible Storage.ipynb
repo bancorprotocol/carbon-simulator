{
 "cells": [
  {
   "cell_type": "code",
   "execution_count": 2,
   "id": "98bd6272-8372-4367-8930-86fc24cc7957",
   "metadata": {},
   "outputs": [],
   "source": [
    "from math import *\n",
    "import numpy as np\n",
    "from matplotlib import pyplot as plt\n",
    "from collections import namedtuple as nt"
   ]
  },
  {
   "cell_type": "markdown",
   "id": "8dc16fc3-8286-46cb-bda1-b8d89ef15412",
   "metadata": {},
   "source": [
    "# Forwards compatible storage"
   ]
  },
  {
   "cell_type": "markdown",
   "id": "ba3d9a56-28ac-460e-b6a8-0b23d301462a",
   "metadata": {},
   "source": [
    "The issue is that \n",
    "\n",
    "1. we have a fixed and limited amount of storage to store our curve data\n",
    "2. our current precision is not sufficient and needs to be increased,\n",
    "3. we do not want to rush what is an important and complex issue, and\n",
    "4. we want storage to be forwards compatible*\n",
    "\n",
    "*forwards compatible in this context means that any storage records currently created, when fed into the new system, must be understood as is, without any additional information like a versioning record\n",
    "\n",
    "Caveat: this is based on my understanding of languages like C; if Solidity behave massively different then this may not be apply; also Python is not the perfect way of demonstrating this as Python has unlimited-size integers, but the principle should be clear"
   ]
  },
  {
   "cell_type": "markdown",
   "id": "a8f9bc49-992b-44c1-90f9-18a0eeb06b04",
   "metadata": {},
   "source": [
    "## Variable decomposition\n",
    "\n",
    "Here we first consider how we can combine at 112 bit variable and a 16 bit variable into a 128 bit variable. We also decompose an 80 bit variable into a 16 bit variable and a 64 bit variable. Note that those are the same operations, they are just named differently because the purpose is different. "
   ]
  },
  {
   "cell_type": "code",
   "execution_count": 23,
   "id": "de2e2eb4-b4c0-4804-83dc-bcb057c1f345",
   "metadata": {},
   "outputs": [],
   "source": [
    "nt_112_16 = nt(\"r\", \"i112, i16\")\n",
    "nt_16_64 = nt(\"r\", \"i16, i64\")\n",
    "def combine_112_16(i112, i16):\n",
    "    \"\"\"\n",
    "    combines a 112 bit uint and a 16 bit uint into a 128 bit unsigned int\n",
    "    \"\"\"\n",
    "    assert i112 >= 0\n",
    "    assert i16 >= 0\n",
    "    assert i112 < (1<<112)\n",
    "    assert i16 < (1<<16)\n",
    "    result = i112 + (1<<112) * i16\n",
    "    assert result < (1<<128)\n",
    "    return result\n",
    "    #return result, log2(result) if result > 0 else None\n",
    "\n",
    "def extract_112_16(i128):\n",
    "    \"\"\"extracts a 112 bit uint and a 16 bit uint from a 128 bit uint\"\"\"\n",
    "    assert i128 >= 0\n",
    "    assert i128 < (1<<129)\n",
    "    i112 = i128 & ((1<<112)-1)\n",
    "    i16 = (i128>>112) & ((1<<16)-1)\n",
    "    return nt_112_16(i112,i16)\n",
    "\n",
    "def decompose_i80(i80):\n",
    "    \"\"\"decomposes uint i80 from uint i16, i64 (no checks)\"\"\"\n",
    "    i16 = i80 & ((1<<16)-1)\n",
    "    i64 = (i80>>16) & ((1<<64)-1)\n",
    "    return nt_16_64(i16, i64)\n",
    "    \n",
    "def reconstitute_i80(i16, i64):\n",
    "    \"\"\"reconstitutes 80 bit uint from 16 and 64 bit uint (no checks)\"\"\"\n",
    "    return i16 + (i64<<16)"
   ]
  },
  {
   "cell_type": "code",
   "execution_count": 4,
   "id": "e84403f9-db63-486b-ac87-cf40c56d3412",
   "metadata": {},
   "outputs": [
    {
     "data": {
      "text/plain": [
       "(r(i112=1, i16=60000), 311537811512089657711829779753205760001)"
      ]
     },
     "execution_count": 4,
     "metadata": {},
     "output_type": "execute_result"
    }
   ],
   "source": [
    "c = combine_112_16(1,60000)\n",
    "extract_112_16(c), c"
   ]
  },
  {
   "cell_type": "code",
   "execution_count": 5,
   "id": "f6c26484-094a-415d-8dc6-e36f1535e206",
   "metadata": {},
   "outputs": [
    {
     "data": {
      "text/plain": [
       "(r(i112=1, i16=0), 1)"
      ]
     },
     "execution_count": 5,
     "metadata": {},
     "output_type": "execute_result"
    }
   ],
   "source": [
    "c = combine_112_16(1,0)\n",
    "extract_112_16(c), c"
   ]
  },
  {
   "cell_type": "code",
   "execution_count": 6,
   "id": "aadd5cf8-eb34-46db-b94b-23d52154fded",
   "metadata": {},
   "outputs": [
    {
     "data": {
      "text/plain": [
       "(r(i112=1, i16=1), 5192296858534827628530496329220097)"
      ]
     },
     "execution_count": 6,
     "metadata": {},
     "output_type": "execute_result"
    }
   ],
   "source": [
    "c = combine_112_16(1,1)\n",
    "extract_112_16(c), c"
   ]
  },
  {
   "cell_type": "code",
   "execution_count": 24,
   "id": "738dcaa4-8c51-461f-9872-0650e7c33751",
   "metadata": {},
   "outputs": [
    {
     "data": {
      "text/plain": [
       "(r(i16=52501, i64=1883), 123456789)"
      ]
     },
     "execution_count": 24,
     "metadata": {},
     "output_type": "execute_result"
    }
   ],
   "source": [
    "c = decompose_i80(123456789)\n",
    "c, reconstitute_i80(*c)"
   ]
  },
  {
   "cell_type": "markdown",
   "id": "b0fb344c-28a5-4546-b90e-617f263505b6",
   "metadata": {},
   "source": [
    "## Application to curve storage"
   ]
  },
  {
   "cell_type": "markdown",
   "id": "eeb7b65f-b5ec-4a10-b643-b1110143aadf",
   "metadata": {},
   "source": [
    "For simplicity we only consider one half of the problem, so let's say we have one variable `z` (112 bit) and one variable `A` (80 bit) and we have two memory slots of 128 bit and 64 respectively. \n",
    "\n",
    "**The purpose here is to show how we can abstract the storage layout (128+64bit) from the variable layout (112+80bit)**"
   ]
  },
  {
   "cell_type": "code",
   "execution_count": 8,
   "id": "3b81f155-cb8f-4981-97df-52c7552ebfb2",
   "metadata": {},
   "outputs": [],
   "source": [
    "nt_128_64 = nt(\"r\", \"i128, i64\")\n",
    "nt_z_A = nt(\"r\", \"z,A\")\n",
    "def to_storage(z, A):\n",
    "    \"\"\"saves z (112 bit) and A (80 bit) into a storage of i128, i64 of 128 and 64 bits respectively\"\"\"\n",
    "    assert z >= 0\n",
    "    assert A >= 0\n",
    "    assert z <  1<<112\n",
    "    assert A <  1<<80\n",
    "    A_16, A_64 = decompose_i80(A)\n",
    "    return nt_128_64(combine_112_16(z, A_16), A_64)\n",
    "\n",
    "def from_storage(i128, i64):\n",
    "    \"\"\"reverts the to_storage function\"\"\"\n",
    "    z, A_16 = extract_112_16(i128)\n",
    "    A = reconstitute_i80(A_16, i64)\n",
    "    return nt_z_A(z,A)"
   ]
  },
  {
   "cell_type": "code",
   "execution_count": 9,
   "id": "37c97d06-f37e-4628-a9d8-aa20198c2aea",
   "metadata": {},
   "outputs": [
    {
     "data": {
      "text/plain": [
       "(r(z=123456, A=51707904), r(i128=4096722221383978998910561603754779200, i64=0))"
      ]
     },
     "execution_count": 9,
     "metadata": {},
     "output_type": "execute_result"
    }
   ],
   "source": [
    "c = to_storage(123456,789)\n",
    "from_storage(*c), c"
   ]
  },
  {
   "cell_type": "code",
   "execution_count": 10,
   "id": "aa811423-6e0b-4651-8da9-3b2645c70c80",
   "metadata": {},
   "outputs": [
    {
     "data": {
      "text/plain": [
       "(r(z=12, A=1179844608), r(i128=93450958859909827658291872933303287820, i64=5))"
      ]
     },
     "execution_count": 10,
     "metadata": {},
     "output_type": "execute_result"
    }
   ],
   "source": [
    "c = to_storage(12,345678)\n",
    "from_storage(*c), c"
   ]
  },
  {
   "cell_type": "code",
   "execution_count": 11,
   "id": "58be77d1-49a0-48de-bec7-84ca79233065",
   "metadata": {},
   "outputs": [
    {
     "data": {
      "text/plain": [
       "(r(z=2596148429267413814265248164610171, A=809041920),\n",
       " r(i128=64101500867041714488023242432386695291, i64=0),\n",
       " 2596148429267413814265248164610171,\n",
       " 12345)"
      ]
     },
     "execution_count": 11,
     "metadata": {},
     "output_type": "execute_result"
    }
   ],
   "source": [
    "c0,c1 = 2**111+123, 12345\n",
    "c = to_storage(c0,c1)\n",
    "from_storage(*c), c, c0, c1"
   ]
  },
  {
   "cell_type": "markdown",
   "id": "148c1031-ba1f-4c8b-af3d-b3a9fdf824a2",
   "metadata": {},
   "source": [
    "## Future compatible curve storage\n",
    "\n",
    "Here our logical storage is separated into 3 variables\n",
    "\n",
    "- `z` as before\n",
    "- `A` the value of A under the current implementation\n",
    "- `A_incr` the incremental information for A under the future implementation\n",
    "\n",
    "**The future implementation will interpret `(A, 0)` in excactly the same way the current implementation interprets `A`.**"
   ]
  },
  {
   "cell_type": "code",
   "execution_count": 12,
   "id": "ccd49a32-f85a-46b8-a18b-f2903f820215",
   "metadata": {},
   "outputs": [],
   "source": [
    "nt_z_A_A = nt(\"r\", \"z,A,A_incr\")\n",
    "def to_storage_fc(z, A, A_incr=0):\n",
    "    \"\"\"packs z (112 bit), A (64 bit) and A_incr (16bit, optional) into storage\"\"\"\n",
    "    return nt_128_64(combine_112_16(z, A_incr), A)\n",
    "\n",
    "def from_storage_fc(i128, i64):\n",
    "    \"\"\"reverts the to_storage_fc function\"\"\"\n",
    "    z, A_incr = extract_112_16(i128)\n",
    "    A = i64\n",
    "    return nt_z_A_A(z, A, A_incr)"
   ]
  },
  {
   "cell_type": "code",
   "execution_count": 13,
   "id": "d8ee6dd6-329d-4e87-b3f2-0f4bf70e436d",
   "metadata": {},
   "outputs": [
    {
     "data": {
      "text/plain": [
       "(r(z=123, A=456, A_incr=0), r(i128=123, i64=456))"
      ]
     },
     "execution_count": 13,
     "metadata": {},
     "output_type": "execute_result"
    }
   ],
   "source": [
    "c=to_storage_fc(123,456)\n",
    "from_storage_fc(*c), c"
   ]
  },
  {
   "cell_type": "code",
   "execution_count": 14,
   "id": "89c05984-6bbc-4295-b033-33dd3d941272",
   "metadata": {},
   "outputs": [
    {
     "data": {
      "text/plain": [
       "(r(z=123, A=456, A_incr=78),\n",
       " r(i128=404999154965716555025378713679167611, i64=456))"
      ]
     },
     "execution_count": 14,
     "metadata": {},
     "output_type": "execute_result"
    }
   ],
   "source": [
    "c=to_storage_fc(123, 456, 78)\n",
    "from_storage_fc(*c), c"
   ]
  },
  {
   "cell_type": "markdown",
   "id": "b8893a85-53a2-4d4d-9385-33d39db7ccb9",
   "metadata": {},
   "source": [
    "## Floating point storage\n",
    "\n",
    "When storing A, B the issue is not that much the number of bits we need for any given curve: we have 64 bits which corresponds to 10^10 which is more than enough to cover all possible prices of a given pair. The problem arises when we want to cover _all possible pair_, especially in a crypto world where prices need to be scaled with 10^ddec where ddec is the difference in decimals between the two tokens. Decimal values can go from 0 to 24, with the core range being from 6 to 18, so this factor can be from 10^12 to 10^24 in the worst case.\n",
    "\n",
    "In order to store only the scaling factors we need at least 40 bit (18/6) and at worst 80 bit (24/0) case. On top of this we need at least 16 bit for the actual price (10^5), but better 25 bit (10^7). On the face of it this means that we need at least 56-65 bit [which is why we are borderline right now, with 64 bit], but in order to be safe for all edge cases we need 96-115 bit.\n",
    "\n",
    "However, in reality this is not the case. The reason for this is **that it is not optimal to store the scaling factor as a standard int; instead the exponent should be stored.** As a reminder our scaling factor had to cover 2^0 to 2^80 in the worst case scenario, so 6 bit is a bit tight, but 7 or 8 bit is ample to cover all possible scaling factors and more.\n"
   ]
  },
  {
   "cell_type": "code",
   "execution_count": 15,
   "id": "2f6d559e-8381-4199-af4a-7994fbfd1fd9",
   "metadata": {},
   "outputs": [
    {
     "data": {
      "text/plain": [
       "(18446744073709551616, 19.265919722494797)"
      ]
     },
     "execution_count": 15,
     "metadata": {},
     "output_type": "execute_result"
    }
   ],
   "source": [
    "2**64, log10(2**64)"
   ]
  },
  {
   "cell_type": "code",
   "execution_count": 16,
   "id": "010e10b2-57fd-473f-ada4-3f1e9fc5cf0a",
   "metadata": {},
   "outputs": [
    {
     "data": {
      "text/plain": [
       "(39.86313713864835,\n",
       " 79.7262742772967,\n",
       " 16.609640474436812,\n",
       " 23.253496664211536,\n",
       " 6.321928094887363)"
      ]
     },
     "execution_count": 16,
     "metadata": {},
     "output_type": "execute_result"
    }
   ],
   "source": [
    "log2(10**12), log2(10**24), log2(10**5), log2(10**7), log2(80)"
   ]
  },
  {
   "cell_type": "code",
   "execution_count": 25,
   "id": "36fb58e9-5f87-44ec-8311-a6ae9f740419",
   "metadata": {},
   "outputs": [],
   "source": [
    "def scaling_factor_from_store(a, aexp):\n",
    "    \"\"\"returns scaling factor based on a and exponent aexp\"\"\"\n",
    "    return a << aexp"
   ]
  },
  {
   "cell_type": "code",
   "execution_count": 26,
   "id": "95af685b-9a6a-4d4f-a58f-baf7b75aa36d",
   "metadata": {},
   "outputs": [
    {
     "data": {
      "text/plain": [
       "505675776"
      ]
     },
     "execution_count": 26,
     "metadata": {},
     "output_type": "execute_result"
    }
   ],
   "source": [
    "scaling_factor_from_store(123456, 12)"
   ]
  },
  {
   "cell_type": "code",
   "execution_count": null,
   "id": "6ccc4522-c24d-44cd-8338-4ff434116ba5",
   "metadata": {},
   "outputs": [],
   "source": []
  }
 ],
 "metadata": {
  "kernelspec": {
   "display_name": "Python 3",
   "language": "python",
   "name": "python3"
  },
  "language_info": {
   "codemirror_mode": {
    "name": "ipython",
    "version": 3
   },
   "file_extension": ".py",
   "mimetype": "text/x-python",
   "name": "python",
   "nbconvert_exporter": "python",
   "pygments_lexer": "ipython3",
   "version": "3.8.8"
  }
 },
 "nbformat": 4,
 "nbformat_minor": 5
}
