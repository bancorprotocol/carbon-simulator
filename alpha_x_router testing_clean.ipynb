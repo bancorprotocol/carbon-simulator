{
 "cells": [
  {
   "cell_type": "code",
   "execution_count": 1,
   "metadata": {},
   "outputs": [],
   "source": [
    "from alpha_x_router_GenII import mpr_matchBySource\n",
    "from alpha_x_router_GenII import mpr_matchByTarget\n",
    "\n",
    "from decimal import Decimal\n",
    "from benchmark.alphaxutils import *\n",
    "\n",
    "import requests\n",
    "import pandas as pd"
   ]
  },
  {
   "cell_type": "code",
   "execution_count": 2,
   "metadata": {},
   "outputs": [],
   "source": [
    "r = requests.get('https://tokens.coingecko.com/uniswap/all.json')\n",
    "cgtokens = pd.DataFrame(eval(r.text)['tokens'])\n",
    "\n",
    "tokenDecimals = {}\n",
    "tokenDecimals['ETH'] = '18'\n",
    "for i in cgtokens.index:\n",
    "    tokenDecimals[cgtokens.symbol[i]] = str(cgtokens.decimals[i])"
   ]
  },
  {
   "cell_type": "code",
   "execution_count": 3,
   "metadata": {},
   "outputs": [],
   "source": [
    "threshold_orders = 6\n",
    "support_partial = True\n",
    "\n",
    "# # ETH side orders\n",
    "# tkn_y = 'ETH'\n",
    "# tkn_x = 'USDC'\n",
    "\n",
    "# realisticByTarget_inputAmount = 10 * 10** int(tokenDecimals[tkn_y])  # by Target = USDC amount\n",
    "# realisticBySource_inputAmount = 30000 * 10** int(tokenDecimals[tkn_x])  # by Source = ETH amount\n",
    "\n",
    "# order_params = {\n",
    "#     'liquidity':'5',\n",
    "#     'highestRate':'0.0005', # 2000\n",
    "#     'lowestRate':'0.0004',  # 2500\n",
    "#     'marginalRate':'0.0005',\n",
    "#     'dec_y': tokenDecimals[tkn_y],\n",
    "#     'dec_x': tokenDecimals[tkn_x],\n",
    "#     }\n",
    "# order_params2 = {\n",
    "#     'liquidity':'4',\n",
    "#     'highestRate':'0.0006', # 1666\n",
    "#     'lowestRate':'0.0005',  # 2000\n",
    "#     'marginalRate':'0.0006',\n",
    "#     'dec_y': tokenDecimals[tkn_y],\n",
    "#     'dec_x': tokenDecimals[tkn_x],\n",
    "#     }\n",
    "# order_params3 = {\n",
    "#     'liquidity':Decimal('10'),\n",
    "#     'highestRate':Decimal('0.0006'), # 1666\n",
    "#     'lowestRate':Decimal('0.0005'),  # 2000\n",
    "#     'marginalRate':Decimal('0.0006'),\n",
    "#     'dec_y': tokenDecimals[tkn_y],\n",
    "#     'dec_x': tokenDecimals[tkn_x],\n",
    "#     }\n",
    "\n",
    "\n",
    "# USDC side orders\n",
    "tkn_y = 'USDC'\n",
    "tkn_x = 'ETH'\n",
    "\n",
    "realisticByTarget_inputAmount = 30000 * 10** int(tokenDecimals[tkn_y])  # by Target = USDC amount\n",
    "realisticBySource_inputAmount = 10 * 10** int(tokenDecimals[tkn_x])  # by Source = ETH amount\n",
    "\n",
    "order_params = {\n",
    "    'liquidity':'20000',\n",
    "    'highestRate':'2500',\n",
    "    'lowestRate':'2000',\n",
    "    'marginalRate':'2500',\n",
    "    'dec_y': tokenDecimals[tkn_y],\n",
    "    'dec_x': tokenDecimals[tkn_x],\n",
    "    }\n",
    "order_params2 = {\n",
    "    'liquidity':'17000',\n",
    "    'highestRate':'3500',\n",
    "    'lowestRate':'3000',\n",
    "    'marginalRate':'3500',\n",
    "    'dec_y': tokenDecimals[tkn_y],\n",
    "    'dec_x': tokenDecimals[tkn_x],\n",
    "    }\n",
    "order_params3 = {\n",
    "    'liquidity':'15000',\n",
    "    'highestRate':'3500',\n",
    "    'lowestRate':'2000',\n",
    "    'marginalRate':'3500',\n",
    "    'dec_y': tokenDecimals[tkn_y],\n",
    "    'dec_x': tokenDecimals[tkn_x],\n",
    "    }\n",
    "\n",
    "orders = []\n",
    "for i in range(1):\n",
    "    orders += [Order(order_params)]\n",
    "    orders += [Order(order_params2)]\n",
    "    orders += [Order(order_params3)]"
   ]
  },
  {
   "cell_type": "code",
   "execution_count": 4,
   "metadata": {},
   "outputs": [
    {
     "name": "stdout",
     "output_type": "stream",
     "text": [
      "inputAmount 30000000000\n",
      "Input Amount Real: 29999.999999\n",
      "Total Return Real: 9.877286043821534098\n",
      "Rate Real: 3037.271560821677202884192232184135009572082317288518156108707059630571251222815926492444147272226122\n"
     ]
    },
    {
     "data": {
      "text/plain": [
       "{0: {'dy_specified': 2733970306, 'dx': 1109601499190347106},\n",
       " 1: {'dy_specified': 17000000000, 'dx': 5246313899181075013},\n",
       " 2: {'dy_specified': 10266029693, 'dx': 3521370645450111979}}"
      ]
     },
     "execution_count": 4,
     "metadata": {},
     "output_type": "execute_result"
    }
   ],
   "source": [
    "print(\"inputAmount\",realisticByTarget_inputAmount)\n",
    "TargetActions2 = mpr_matchByTarget(realisticByTarget_inputAmount, orders, threshold_orders, support_partial)\n",
    "total_output_Target2 = sum([TargetActions2[k]['dx'] for k in TargetActions2.keys()]) / Decimal('10')**Decimal(tokenDecimals[tkn_x])\n",
    "total_input_Target2 = sum([TargetActions2[k]['dy_specified'] for k in TargetActions2.keys()]) / Decimal('10')**Decimal(tokenDecimals[tkn_y])\n",
    "print(\"Input Amount Real:\", total_input_Target2)\n",
    "print(\"Total Return Real:\", total_output_Target2)\n",
    "print(\"Rate Real:\",(total_input_Target2/total_output_Target2))\n",
    "TargetActions2"
   ]
  },
  {
   "cell_type": "code",
   "execution_count": 5,
   "metadata": {},
   "outputs": [
    {
     "name": "stdout",
     "output_type": "stream",
     "text": [
      "inputAmount 10000000000000000000\n",
      "Input Amount Real: 9.999999999999999999\n",
      "Total Return: 30297.621162\n",
      "Rate: 3029.762116200000000302976211620000000030297621162000000003029762116200000000302976211620000000030298\n"
     ]
    },
    {
     "data": {
      "text/plain": [
       "{0: {'dx_specified': 1205909808787015248, 'dy': 2967549208},\n",
       " 1: {'dx_specified': 5246313899181075013, 'dy': 17000000000},\n",
       " 2: {'dx_specified': 3547776292031909738, 'dy': 10330071954}}"
      ]
     },
     "execution_count": 5,
     "metadata": {},
     "output_type": "execute_result"
    }
   ],
   "source": [
    "print(\"inputAmount\",realisticBySource_inputAmount)\n",
    "SourceActions2 = mpr_matchBySource(realisticBySource_inputAmount, orders, threshold_orders, support_partial)\n",
    "total_input_Source2 = sum([SourceActions2[k]['dx_specified'] for k in SourceActions2.keys()])  / Decimal('10')**Decimal(tokenDecimals[tkn_x])\n",
    "total_output_Source2 = sum([SourceActions2[k]['dy'] for k in SourceActions2.keys()]) / Decimal('10')**Decimal(tokenDecimals[tkn_y])\n",
    "print(\"Input Amount Real:\", total_input_Source2)\n",
    "print(\"Total Return:\", total_output_Source2)\n",
    "print(\"Rate:\",total_output_Source2/total_input_Source2)\n",
    "SourceActions2"
   ]
  },
  {
   "cell_type": "code",
   "execution_count": 3,
   "metadata": {},
   "outputs": [
    {
     "ename": "NameError",
     "evalue": "name 'Decimal' is not defined",
     "output_type": "error",
     "traceback": [
      "\u001b[0;31m---------------------------------------------------------------------------\u001b[0m",
      "\u001b[0;31mNameError\u001b[0m                                 Traceback (most recent call last)",
      "\u001b[0;32m/var/folders/xk/cpswwsfn6916ftpp0zsd23j40000gn/T/ipykernel_60030/294854578.py\u001b[0m in \u001b[0;36m<cell line: 7>\u001b[0;34m()\u001b[0m\n\u001b[1;32m      8\u001b[0m     \u001b[0;32mfor\u001b[0m \u001b[0mtest\u001b[0m \u001b[0;32min\u001b[0m \u001b[0mutil\u001b[0m\u001b[0;34m.\u001b[0m\u001b[0mread\u001b[0m\u001b[0;34m(\u001b[0m\u001b[0;34m''\u001b[0m\u001b[0;34m,\u001b[0m \u001b[0;34mf'benchmark/resources/match/{fileName}'\u001b[0m\u001b[0;34m)\u001b[0m\u001b[0;34m:\u001b[0m\u001b[0;34m\u001b[0m\u001b[0;34m\u001b[0m\u001b[0m\n\u001b[1;32m      9\u001b[0m         \u001b[0mmethod\u001b[0m \u001b[0;34m=\u001b[0m \u001b[0mglobals\u001b[0m\u001b[0;34m(\u001b[0m\u001b[0;34m)\u001b[0m\u001b[0;34m[\u001b[0m\u001b[0;34m'mpr_'\u001b[0m \u001b[0;34m+\u001b[0m \u001b[0mtest\u001b[0m\u001b[0;34m[\u001b[0m\u001b[0;34m'method'\u001b[0m\u001b[0;34m]\u001b[0m\u001b[0;34m.\u001b[0m\u001b[0msplit\u001b[0m\u001b[0;34m(\u001b[0m\u001b[0;34m'Amount'\u001b[0m\u001b[0;34m)\u001b[0m\u001b[0;34m[\u001b[0m\u001b[0;36m0\u001b[0m\u001b[0;34m]\u001b[0m\u001b[0;34m]\u001b[0m\u001b[0;34m\u001b[0m\u001b[0;34m\u001b[0m\u001b[0m\n\u001b[0;32m---> 10\u001b[0;31m         \u001b[0mamount\u001b[0m \u001b[0;34m=\u001b[0m \u001b[0mDecimal\u001b[0m\u001b[0;34m(\u001b[0m\u001b[0mtest\u001b[0m\u001b[0;34m[\u001b[0m\u001b[0;34m'amount'\u001b[0m\u001b[0;34m]\u001b[0m\u001b[0;34m)\u001b[0m\u001b[0;34m\u001b[0m\u001b[0;34m\u001b[0m\u001b[0m\n\u001b[0m\u001b[1;32m     11\u001b[0m         \u001b[0morders\u001b[0m \u001b[0;34m=\u001b[0m \u001b[0;34m[\u001b[0m\u001b[0mOrder\u001b[0m\u001b[0;34m(\u001b[0m\u001b[0morder_params\u001b[0m\u001b[0;34m)\u001b[0m \u001b[0;32mfor\u001b[0m \u001b[0morder_params\u001b[0m \u001b[0;32min\u001b[0m \u001b[0mtest\u001b[0m\u001b[0;34m[\u001b[0m\u001b[0;34m'orders'\u001b[0m\u001b[0;34m]\u001b[0m\u001b[0;34m]\u001b[0m\u001b[0;34m\u001b[0m\u001b[0;34m\u001b[0m\u001b[0m\n\u001b[1;32m     12\u001b[0m         \u001b[0moldActions\u001b[0m \u001b[0;34m=\u001b[0m \u001b[0mtest\u001b[0m\u001b[0;34m[\u001b[0m\u001b[0;34m'actions'\u001b[0m\u001b[0;34m]\u001b[0m\u001b[0;34m\u001b[0m\u001b[0;34m\u001b[0m\u001b[0m\n",
      "\u001b[0;31mNameError\u001b[0m: name 'Decimal' is not defined"
     ]
    }
   ],
   "source": [
    "from benchmark import util\n",
    "from alpha_x_router_GenII import mpr_matchBySource\n",
    "from alpha_x_router_GenII import mpr_matchByTarget\n",
    "\n",
    "from benchmark.alphaxutils import Order\n",
    "\n",
    "for fileName in ['ArbitraryMatch', 'BigPoolMatch', 'EthUsdcMatch']:\n",
    "    for test in util.read('', f'benchmark/resources/match/{fileName}'):\n",
    "        method = globals()['mpr_' + test['method'].split('Amount')[0]]\n",
    "        amount = int(test['amount'])\n",
    "        orders = [Order(order_params) for order_params in test['orders']]\n",
    "        oldActions = test['actions']\n",
    "        newActions = method(amount, orders, len(oldActions), True)\n",
    "        oldInputSum  = sum(int(action['input' ]) for action in oldActions)\n",
    "        newInputSum  = sum(int(action['input' ]) for action in newActions.values())\n",
    "        oldOutputSum = sum(int(action['output']) for action in oldActions)\n",
    "        newOutputSum = sum(int(action['output']) for action in newActions.values())\n",
    "        if test['method'] == 'matchBySourceAmount':\n",
    "            if not (newInputSum <= oldInputSum+1 and newOutputSum+1 >= oldOutputSum):\n",
    "                print(util.dumps(test, indent = 4))\n",
    "                for key in newActions:\n",
    "                    obj = {\n",
    "                        'id': key,\n",
    "                        'input': str(newActions[key]['input']),\n",
    "                        'output': str(newActions[key]['output']),\n",
    "                    }\n",
    "                    print(util.dumps(obj, indent = 4))\n",
    "                print('oldInputSum  =', oldInputSum )\n",
    "                print('newInputSum  =', newInputSum )\n",
    "                print('oldOutputSum =', oldOutputSum)\n",
    "                print('newOutputSum =', newOutputSum)\n",
    "                assert False\n",
    "        if test['method'] == 'matchByTargetAmount':\n",
    "            if not (newInputSum+1 >= oldInputSum and newOutputSum <= oldOutputSum+1):\n",
    "                print(util.dumps(test, indent = 4))\n",
    "                for key in newActions:\n",
    "                    obj = {\n",
    "                        'id': key,\n",
    "                        'input': str(newActions[key]['input']),\n",
    "                        'output': str(newActions[key]['output']),\n",
    "                    }\n",
    "                    print(util.dumps(obj, indent = 4))\n",
    "                print('oldInputSum  =', oldInputSum )\n",
    "                print('newInputSum  =', newInputSum )\n",
    "                print('oldOutputSum =', oldOutputSum)\n",
    "                print('newOutputSum =', newOutputSum)\n",
    "                assert False\n"
   ]
  }
 ],
 "metadata": {
  "kernelspec": {
   "display_name": "Python 3",
   "language": "python",
   "name": "python3"
  },
  "language_info": {
   "codemirror_mode": {
    "name": "ipython",
    "version": 3
   },
   "file_extension": ".py",
   "mimetype": "text/x-python",
   "name": "python",
   "nbconvert_exporter": "python",
   "pygments_lexer": "ipython3",
   "version": "3.10.8"
  },
  "orig_nbformat": 4,
  "vscode": {
   "interpreter": {
    "hash": "43f221103f953d3e0d93840edd77be981e5a5e0e42edc048e3de5278c46a3390"
   }
  }
 },
 "nbformat": 4,
 "nbformat_minor": 2
}
