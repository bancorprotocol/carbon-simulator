{
 "cells": [
  {
   "cell_type": "code",
   "execution_count": 1,
   "id": "cc40bc23-abde-4094-abec-419f0a7fa81e",
   "metadata": {},
   "outputs": [
    {
     "name": "stdout",
     "output_type": "stream",
     "text": [
      "[stdimports] imported np, pd, plt, os, sqrt, exp, log\n",
      "ConstantProductCurve v1.0 (15/Mar/2023)\n",
      "CarbonOrderUI v1.9.1 (15/Mar/2023)\n",
      "Carbon v2.3.3-BETA7 (14/Mar/2023)\n"
     ]
    }
   ],
   "source": [
    "from carbon.helpers.stdimports import *\n",
    "from carbon import ConstantProductCurve as CPC, CarbonOrderUI\n",
    "plt.style.use('seaborn-dark')\n",
    "plt.rcParams['figure.figsize'] = [12,6]\n",
    "print(\"{0.__name__} v{0.__VERSION__} ({0.__DATE__})\".format(CPC))\n",
    "print(\"{0.__name__} v{0.__VERSION__} ({0.__DATE__})\".format(CarbonOrderUI))\n",
    "print_version(require=\"2.3.3\")"
   ]
  },
  {
   "cell_type": "markdown",
   "id": "b3f59f14-b91b-4dba-94b0-3d513aaf41c7",
   "metadata": {},
   "source": [
    "# Constant product curve [NBTest063]"
   ]
  },
  {
   "cell_type": "markdown",
   "id": "8a3ad132-3561-478a-8a0f-359456129157",
   "metadata": {},
   "source": [
    "## Assertions and testing"
   ]
  },
  {
   "cell_type": "code",
   "execution_count": 2,
   "id": "62e862d3-c3a9-4be1-9417-4c0ba5a747a2",
   "metadata": {},
   "outputs": [
    {
     "name": "stdout",
     "output_type": "stream",
     "text": [
      "tknx = 10 [virtual: 10] ETH\n",
      "tkny = 20000.0 [virtual: 20000.0] USDC\n",
      "p    = 2000.0 [min=None, max=None] USDC per ETH\n"
     ]
    }
   ],
   "source": [
    "c = CPC.from_px(p=2000,x=10, pair=\"eth/usdc\")\n",
    "assert c.pair == \"ETH/USDC\"\n",
    "assert c.tknb == c.pair.split(\"/\")[0]\n",
    "assert c.tknx == c.tknb\n",
    "assert c.tknq == c.pair.split(\"/\")[1]\n",
    "assert c.tkny == c.tknq\n",
    "assert f\"{c.tknb}/{c.tknq}\" == c.pair\n",
    "print (c.descr)"
   ]
  },
  {
   "cell_type": "code",
   "execution_count": 3,
   "id": "995f92a6-234b-4c3c-a19b-e08b81911e42",
   "metadata": {},
   "outputs": [],
   "source": [
    "c = CPC.from_xy(10,20)\n",
    "assert c == CPC.from_kx(c.k, c.x)\n",
    "assert c == CPC.from_ky(c.k, c.y)\n",
    "assert c == CPC.from_xy(c.x, c.y)\n",
    "assert c == CPC.from_pk(c.p, c.k)\n",
    "assert c == CPC.from_px(c.p, c.x)\n",
    "assert c == CPC.from_py(c.p, c.y)"
   ]
  },
  {
   "cell_type": "code",
   "execution_count": 4,
   "id": "c43fcf25-1ece-4781-9a74-6c33e5401663",
   "metadata": {},
   "outputs": [],
   "source": [
    "c = CPC.from_px(p=2, x=100, x_act=10, y_act=20)\n",
    "assert c.y_max*c.x_min == c.k\n",
    "assert c.x_max*c.y_min == c.k\n",
    "assert c.p_min == c.y_min / c.x_max\n",
    "assert c.p_max == c.y_max / c.x_min\n",
    "assert c.p_max >= c.p_min"
   ]
  },
  {
   "cell_type": "code",
   "execution_count": 5,
   "id": "98e31562-6fdc-4ab3-864e-215360b4793e",
   "metadata": {},
   "outputs": [],
   "source": [
    "c = CPC.from_px(p=2, x=100, x_act=10, y_act=20)\n",
    "e = 1e-5\n",
    "assert 95*c.yfromx_f(x=95) == c.k\n",
    "assert 105*c.yfromx_f(x=105) == c.k\n",
    "assert 190*c.xfromy_f(y=190) == c.k\n",
    "assert 210*c.xfromy_f(y=210) == c.k\n",
    "assert not c.yfromx_f(x=90) is None\n",
    "assert c.yfromx_f(x=90-e) is None\n",
    "assert not c.xfromy_f(y=180) is None\n",
    "assert c.xfromy_f(y=180-e) is None\n",
    "assert c.dyfromdx_f(dx=-5)\n",
    "assert (c.y+c.dyfromdx_f(dx=-5))*(c.x-5) == c.k\n",
    "assert (c.y+c.dyfromdx_f(dx=+5))*(c.x+5) == c.k\n",
    "assert (c.x+c.dxfromdy_f(dy=-5))*(c.y-5) == c.k\n",
    "assert (c.x+c.dxfromdy_f(dy=+5))*(c.y+5) == c.k"
   ]
  },
  {
   "cell_type": "code",
   "execution_count": 6,
   "id": "203a97ff-9590-4d4c-b2fe-fa6d32a50e74",
   "metadata": {},
   "outputs": [],
   "source": [
    "c = CPC.from_pkpp(p=100, k=100)\n",
    "assert c.p_min == 100\n",
    "assert c.p_max == 100\n",
    "assert c.p == 100\n",
    "assert c.k == 100"
   ]
  },
  {
   "cell_type": "code",
   "execution_count": 7,
   "id": "1aef1862",
   "metadata": {},
   "outputs": [],
   "source": [
    "c = CPC.from_pkpp(p=100, k=100, p_min=80, p_max=120)\n",
    "assert c.p_min == 80\n",
    "assert iseq(c.p_max, 120)\n",
    "assert c.p == 100\n",
    "assert c.k == 100"
   ]
  },
  {
   "cell_type": "markdown",
   "id": "144c35ee-a90c-4e84-908f-80bb40f8646b",
   "metadata": {},
   "source": [
    "## iseq"
   ]
  },
  {
   "cell_type": "code",
   "execution_count": 8,
   "id": "296f2f37-f1c9-4ecf-82d7-fb86d9871c94",
   "metadata": {},
   "outputs": [],
   "source": [
    "assert iseq(\"a\", \"a\", \"ab\") == False\n",
    "assert iseq(\"a\", \"a\", \"a\")\n",
    "assert iseq(1.0, 1, 1.0)\n",
    "assert iseq(0,0)\n",
    "assert iseq(0,1e-10)\n",
    "assert iseq(0,1e-5) == False\n",
    "assert iseq(1, 1.00001) == False\n",
    "assert iseq(1, 1.000001)\n",
    "assert iseq(1, 1.000001, eps=1e-7) == False\n",
    "assert iseq(\"1\", 1) == False"
   ]
  },
  {
   "cell_type": "markdown",
   "id": "b7909e99-0634-4e44-ba98-58211e29d44a",
   "metadata": {},
   "source": [
    "## CarbonOrderUI integration"
   ]
  },
  {
   "cell_type": "code",
   "execution_count": 16,
   "id": "35320166-5a3c-4acf-97ed-a1de4c5f7852",
   "metadata": {},
   "outputs": [],
   "source": [
    "o = CarbonOrderUI.from_prices(\"ETH/USDC\", \"ETH\", 2500, 3000, 10, 10)\n",
    "c = o.as_cpc\n",
    "assert o.pair.slashpair == \"ETH/USDC\"\n",
    "assert o.tkn == \"ETH\"\n",
    "assert o.p_start == 2500\n",
    "assert o.p_end == 3000\n",
    "assert o.p_marg == 2500\n",
    "assert o.y == 10\n",
    "assert o.yint == 10\n",
    "assert c.pair == o.pair.slashpair\n",
    "assert c.tknb == o.pair.tknb\n",
    "assert c.tknq == o.pair.tknq\n",
    "assert c.x_act == o.y\n",
    "assert c.y_act == 0\n",
    "assert iseq(o.p_start, c.p, c.p_min)\n",
    "assert iseq(o.p_end, c.p_max)"
   ]
  },
  {
   "cell_type": "code",
   "execution_count": 21,
   "id": "38296d00-a691-486a-a44c-62e49d478f40",
   "metadata": {},
   "outputs": [],
   "source": [
    "o = CarbonOrderUI.from_prices(\"ETH/USDC\", \"USDC\", 1500, 1000, 1000, 1000)\n",
    "c = o.as_cpc\n",
    "assert o.pair.slashpair == \"ETH/USDC\"\n",
    "assert o.tkn == \"USDC\"\n",
    "assert o.p_start == 1500\n",
    "assert o.p_end == 1000\n",
    "assert o.p_marg == 1500\n",
    "assert o.y == 1000\n",
    "assert o.yint == 1000\n",
    "assert c.pair == o.pair.slashpair\n",
    "assert c.tknb == o.pair.tknb\n",
    "assert c.tknq == o.pair.tknq\n",
    "assert c.x_act == 0\n",
    "assert c.y_act == o.y\n",
    "assert iseq(o.p_start, c.p, c.p_max)\n",
    "assert iseq(o.p_end, c.p_min)"
   ]
  },
  {
   "cell_type": "code",
   "execution_count": 30,
   "id": "8a507163-2d5a-4eef-8614-9482c898fa48",
   "metadata": {},
   "outputs": [],
   "source": [
    "o = CarbonOrderUI.from_prices(\"ETH/USDC\", \"ETH\", 2500, 3000, 10, 7)\n",
    "c = o.as_cpc\n",
    "assert o.y == 7\n",
    "assert iseq(c.x_act, o.y)\n",
    "assert iseq(c.y_act, 0)\n",
    "assert iseq(o.p_marg, c.p, c.p_min)\n",
    "assert iseq(o.p_end, c.p_max)"
   ]
  },
  {
   "cell_type": "code",
   "execution_count": 33,
   "id": "8c7098b7-a78d-4401-b2c3-2901ee481b24",
   "metadata": {},
   "outputs": [],
   "source": [
    "o = CarbonOrderUI.from_prices(\"ETH/USDC\", \"USDC\", 1500, 1000, 1000, 700)\n",
    "c = o.as_cpc\n",
    "assert o.y == 700\n",
    "assert iseq(c.x_act, 0)\n",
    "assert iseq(c.y_act, o.y)\n",
    "assert iseq(o.p_marg, c.p, c.p_max)\n",
    "assert iseq(o.p_end, c.p_min)"
   ]
  },
  {
   "cell_type": "markdown",
   "id": "c941ee63-4ac1-448b-a078-1e1ad6212d2c",
   "metadata": {},
   "source": [
    "## Charts [NOTEST]"
   ]
  },
  {
   "cell_type": "markdown",
   "id": "e1b90540-ec88-4771-ab77-ef20d8c02fe2",
   "metadata": {},
   "source": [
    "### Chars (x,y)"
   ]
  },
  {
   "cell_type": "code",
   "execution_count": null,
   "id": "85ccbd93-8821-40e6-94e3-85391676861a",
   "metadata": {},
   "outputs": [],
   "source": [
    "xr = np.linspace(1,300,200)"
   ]
  },
  {
   "cell_type": "code",
   "execution_count": null,
   "id": "d3179497-4340-41ff-859b-ff11936a081b",
   "metadata": {},
   "outputs": [],
   "source": [
    "defaults = dict(p=2)\n",
    "curves = [\n",
    "    CPC.from_px(x=100, **defaults),\n",
    "    CPC.from_px(x=50, **defaults),\n",
    "    CPC.from_px(x=150, **defaults),\n",
    "]\n",
    "for c in curves:\n",
    "    plt.plot(xr, [c.yfromx_f(x) for x in xr])\n",
    "\n",
    "plt.ylim((0,1000))\n",
    "plt.xlim((0,300))\n",
    "plt.grid()"
   ]
  },
  {
   "cell_type": "code",
   "execution_count": null,
   "id": "5b1ed2c5-6bb7-44b0-a07e-f4b6a124cdd1",
   "metadata": {},
   "outputs": [],
   "source": [
    "defaults = dict(p=2, x_act=10)\n",
    "curves = [\n",
    "    CPC.from_px(x=100, **defaults),\n",
    "    CPC.from_px(x=50, **defaults),\n",
    "    CPC.from_px(x=150, **defaults),\n",
    "]\n",
    "for c in curves:\n",
    "    plt.plot(xr, [c.yfromx_f(x) for x in xr])\n",
    "\n",
    "plt.ylim((0,1000))\n",
    "plt.xlim((0,300))\n",
    "plt.grid()"
   ]
  },
  {
   "cell_type": "code",
   "execution_count": null,
   "id": "21513447-aacf-4fcc-8d71-94924ae44845",
   "metadata": {},
   "outputs": [],
   "source": [
    "defaults = dict(p=2, y_act=20)\n",
    "curves = [\n",
    "    CPC.from_px(x=100, **defaults),\n",
    "    CPC.from_px(x=50, **defaults),\n",
    "    CPC.from_px(x=150, **defaults),\n",
    "]\n",
    "for c in curves:\n",
    "    plt.plot(xr, [c.yfromx_f(x) for x in xr])\n",
    "\n",
    "plt.ylim((0,1000))\n",
    "plt.xlim((0,300))\n",
    "plt.grid()"
   ]
  },
  {
   "cell_type": "code",
   "execution_count": null,
   "id": "8a5df413-de9f-485a-951a-bb046fd9687c",
   "metadata": {
    "lines_to_next_cell": 0
   },
   "outputs": [],
   "source": [
    "defaults = dict(p=2, x_act=10, y_act=20)\n",
    "curves = [\n",
    "    CPC.from_px(x=100, **defaults),\n",
    "    CPC.from_px(x=50, **defaults),\n",
    "    CPC.from_px(x=150, **defaults),\n",
    "]\n",
    "for c in curves:\n",
    "    plt.plot(xr, [c.yfromx_f(x) for x in xr])\n",
    "\n",
    "plt.ylim((0,1000))\n",
    "plt.xlim((0,300))\n",
    "plt.grid()"
   ]
  },
  {
   "cell_type": "markdown",
   "id": "ac7e6dc1-992b-448d-a8fe-cff6c0e24d59",
   "metadata": {
    "lines_to_next_cell": 2
   },
   "source": [
    "### Charts (dx, dy)"
   ]
  },
  {
   "cell_type": "code",
   "execution_count": null,
   "id": "f7127e10-e463-4ae2-ba78-2c10483cdae0",
   "metadata": {},
   "outputs": [],
   "source": [
    "e=1e-5\n",
    "dxr = np.linspace(-50+e,50-e,100)"
   ]
  },
  {
   "cell_type": "code",
   "execution_count": null,
   "id": "d1051e52-d073-4656-b43e-d6c7404fe2e6",
   "metadata": {},
   "outputs": [],
   "source": [
    "defaults = dict(p=2)\n",
    "curves = [\n",
    "    CPC.from_px(x=100, **defaults),\n",
    "    CPC.from_px(x=50, **defaults),\n",
    "    CPC.from_px(x=150, **defaults),\n",
    "]\n",
    "for c in curves:\n",
    "    plt.plot(dxr, [c.dyfromdx_f(dx) for dx in dxr])\n",
    "\n",
    "plt.ylim((-100,200))\n",
    "plt.xlim((-50,50))\n",
    "plt.grid()"
   ]
  },
  {
   "cell_type": "code",
   "execution_count": null,
   "id": "f6ae5188-ded5-49c4-b106-88cb2d7eddbe",
   "metadata": {},
   "outputs": [],
   "source": [
    "defaults = dict(p=2, x_act=10)\n",
    "curves = [\n",
    "    CPC.from_px(x=100, **defaults),\n",
    "    CPC.from_px(x=50, **defaults),\n",
    "    CPC.from_px(x=150, **defaults),\n",
    "]\n",
    "for c in curves:\n",
    "    plt.plot(dxr, [c.dyfromdx_f(dx) for dx in dxr])\n",
    "\n",
    "plt.ylim((-100,200))\n",
    "plt.xlim((-50,50))\n",
    "plt.grid()"
   ]
  },
  {
   "cell_type": "code",
   "execution_count": null,
   "id": "f1650f4a-56c7-4aec-a5e6-196f5a5e77aa",
   "metadata": {},
   "outputs": [],
   "source": [
    "defaults = dict(p=2, y_act=20)\n",
    "curves = [\n",
    "    CPC.from_px(x=100, **defaults),\n",
    "    CPC.from_px(x=50, **defaults),\n",
    "    CPC.from_px(x=150, **defaults),\n",
    "]\n",
    "for c in curves:\n",
    "    plt.plot(dxr, [c.dyfromdx_f(dx) for dx in dxr])\n",
    "\n",
    "plt.ylim((-100,200))\n",
    "plt.xlim((-50,50))\n",
    "plt.grid()"
   ]
  },
  {
   "cell_type": "code",
   "execution_count": null,
   "id": "b0cfdea8-ae01-406a-9f7e-5871d9e5d140",
   "metadata": {},
   "outputs": [],
   "source": [
    "defaults = dict(p=2, x_act=10, y_act=20)\n",
    "curves = [\n",
    "    CPC.from_px(x=100, **defaults),\n",
    "    CPC.from_px(x=50, **defaults),\n",
    "    CPC.from_px(x=150, **defaults),\n",
    "]\n",
    "for c in curves:\n",
    "    plt.plot(dxr, [c.dyfromdx_f(dx) for dx in dxr])\n",
    "\n",
    "plt.ylim((-100,200))\n",
    "plt.xlim((-50,50))\n",
    "plt.grid()"
   ]
  },
  {
   "cell_type": "code",
   "execution_count": null,
   "id": "669bcaca-0d61-44be-bda1-8a271719064d",
   "metadata": {
    "lines_to_next_cell": 0
   },
   "outputs": [],
   "source": [
    "defaults = dict(p=2, x_act=10, y_act=20)\n",
    "curves = [\n",
    "    CPC.from_px(x=100, **defaults),\n",
    "    CPC.from_px(x=50, **defaults),\n",
    "    CPC.from_px(x=150, **defaults),\n",
    "]\n",
    "for c in curves:\n",
    "    plt.plot(dxr, [c.dyfromdx_f(dx) for dx in dxr])\n",
    "\n",
    "# plt.ylim((-100,200))\n",
    "# plt.xlim((-50,50))\n",
    "plt.grid()"
   ]
  },
  {
   "cell_type": "code",
   "execution_count": null,
   "id": "61076a28-62f0-492f-9800-5abfb326c25b",
   "metadata": {
    "lines_to_next_cell": 2
   },
   "outputs": [],
   "source": []
  }
 ],
 "metadata": {
  "jupytext": {
   "encoding": "# -*- coding: utf-8 -*-",
   "formats": "ipynb,py:light"
  },
  "kernelspec": {
   "display_name": "Python 3",
   "language": "python",
   "name": "python3"
  },
  "language_info": {
   "codemirror_mode": {
    "name": "ipython",
    "version": 3
   },
   "file_extension": ".py",
   "mimetype": "text/x-python",
   "name": "python",
   "nbconvert_exporter": "python",
   "pygments_lexer": "ipython3",
   "version": "3.8.8"
  }
 },
 "nbformat": 4,
 "nbformat_minor": 5
}
