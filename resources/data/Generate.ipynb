{
 "cells": [
  {
   "cell_type": "code",
   "execution_count": 31,
   "id": "0417c011",
   "metadata": {},
   "outputs": [],
   "source": [
    "from carbon.helpers import PathGenerator\n",
    "from carbon.helpers.pdread import *\n",
    "from math import sin, cos, pi\n",
    "import os\n",
    "from math import sqrt, exp, log\n",
    "from datetime import timedelta as _timedelta, datetime as _datetime\n",
    "import numpy as np\n",
    "import pandas as pd\n",
    "from matplotlib import pyplot as plt\n",
    "plt.style.use('seaborn-dark')\n",
    "plt.rcParams['figure.figsize'] = [8,4]"
   ]
  },
  {
   "cell_type": "markdown",
   "id": "ac15adf5",
   "metadata": {},
   "source": [
    "# Generate Data\n",
    "## Generate big random path samples"
   ]
  },
  {
   "cell_type": "code",
   "execution_count": 32,
   "id": "7437d941",
   "metadata": {},
   "outputs": [
    {
     "data": {
      "text/plain": [
       "'RAN-00020-0000-NEW'"
      ]
     },
     "execution_count": 32,
     "metadata": {},
     "output_type": "execute_result"
    }
   ],
   "source": [
    "FILENAME = lambda sig, mu: f\"RAN-{int(sig*100):05d}-{int(mu*100):04d}-NEW\"\n",
    "FILENAME(sig=0.2, mu=0)"
   ]
  },
  {
   "cell_type": "code",
   "execution_count": 33,
   "id": "56692d09",
   "metadata": {},
   "outputs": [],
   "source": [
    "FILENAME = None    # comment out to generate paths"
   ]
  },
  {
   "cell_type": "code",
   "execution_count": 34,
   "id": "7925ec52",
   "metadata": {},
   "outputs": [
    {
     "name": "stdout",
     "output_type": "stream",
     "text": [
      "Not generating paths\n"
     ]
    }
   ],
   "source": [
    "if not FILENAME is None:\n",
    "    print(\"Generating paths\")\n",
    "    for sig in (0.05, 0.1, 0.2, 0.5, 0.75, 1):\n",
    "        df = PathGenerator(sig=sig).pathdf(1000)\n",
    "        df.to_csv(FILENAME(sig=sig, mu=0)+\".csv.gz\", index=False, compression=\"gzip\")\n",
    "        #df.to_csv(FILENAME(sig=sig, mu=0)+\".csv\", index=False)\n",
    "        df.to_pickle(FILENAME(sig=sig, mu=0)+\".pickle\")\n",
    "else:\n",
    "    print(\"Not generating paths\")"
   ]
  },
  {
   "cell_type": "code",
   "execution_count": 35,
   "id": "cebab17a",
   "metadata": {},
   "outputs": [
    {
     "name": "stdout",
     "output_type": "stream",
     "text": [
      "COS.pickle        RAN-010-00.pickle RAN-050-00.pickle RAN-100-00.pickle\r\n",
      "RAN-005-00.pickle RAN-020-00.pickle RAN-075-00.pickle RAN-SIGMU.pickle\r\n"
     ]
    }
   ],
   "source": [
    "!ls *.pickle"
   ]
  },
  {
   "cell_type": "code",
   "execution_count": 36,
   "id": "53ab8a47",
   "metadata": {},
   "outputs": [
    {
     "name": "stdout",
     "output_type": "stream",
     "text": [
      "zsh:1: no matches found: *.csv.gz\r\n"
     ]
    }
   ],
   "source": [
    "!ls *.csv.gz"
   ]
  },
  {
   "cell_type": "code",
   "execution_count": 37,
   "id": "31c01af6",
   "metadata": {},
   "outputs": [
    {
     "name": "stdout",
     "output_type": "stream",
     "text": [
      "zsh:1: no matches found: *.csv\r\n"
     ]
    }
   ],
   "source": [
    "!ls *.csv"
   ]
  },
  {
   "cell_type": "markdown",
   "id": "c23c0b0a",
   "metadata": {},
   "source": [
    "## Generate single random path repo"
   ]
  },
  {
   "cell_type": "code",
   "execution_count": 38,
   "id": "ee7643d6",
   "metadata": {},
   "outputs": [],
   "source": [
    "FILENAME2 = lambda mu: f\"RAN-SIGMU\"\n",
    "FILENAME2 = None"
   ]
  },
  {
   "cell_type": "code",
   "execution_count": 39,
   "id": "e8435ab3",
   "metadata": {},
   "outputs": [
    {
     "data": {
      "text/html": [
       "<div>\n",
       "<style scoped>\n",
       "    .dataframe tbody tr th:only-of-type {\n",
       "        vertical-align: middle;\n",
       "    }\n",
       "\n",
       "    .dataframe tbody tr th {\n",
       "        vertical-align: top;\n",
       "    }\n",
       "\n",
       "    .dataframe thead th {\n",
       "        text-align: right;\n",
       "    }\n",
       "</style>\n",
       "<table border=\"1\" class=\"dataframe\">\n",
       "  <thead>\n",
       "    <tr style=\"text-align: right;\">\n",
       "      <th></th>\n",
       "      <th>p001-00-000</th>\n",
       "      <th>p001-00-001</th>\n",
       "      <th>p001-00-002</th>\n",
       "      <th>p001-00-003</th>\n",
       "      <th>p001-00-004</th>\n",
       "      <th>p001-00-005</th>\n",
       "      <th>p001-00-006</th>\n",
       "      <th>p001-00-007</th>\n",
       "      <th>p001-00-008</th>\n",
       "      <th>p001-00-009</th>\n",
       "      <th>...</th>\n",
       "      <th>p100-20-000</th>\n",
       "      <th>p100-20-001</th>\n",
       "      <th>p100-20-002</th>\n",
       "      <th>p100-20-003</th>\n",
       "      <th>p100-20-004</th>\n",
       "      <th>p100-20-005</th>\n",
       "      <th>p100-20-006</th>\n",
       "      <th>p100-20-007</th>\n",
       "      <th>p100-20-008</th>\n",
       "      <th>p100-20-009</th>\n",
       "    </tr>\n",
       "    <tr>\n",
       "      <th>datetime</th>\n",
       "      <th></th>\n",
       "      <th></th>\n",
       "      <th></th>\n",
       "      <th></th>\n",
       "      <th></th>\n",
       "      <th></th>\n",
       "      <th></th>\n",
       "      <th></th>\n",
       "      <th></th>\n",
       "      <th></th>\n",
       "      <th></th>\n",
       "      <th></th>\n",
       "      <th></th>\n",
       "      <th></th>\n",
       "      <th></th>\n",
       "      <th></th>\n",
       "      <th></th>\n",
       "      <th></th>\n",
       "      <th></th>\n",
       "      <th></th>\n",
       "      <th></th>\n",
       "    </tr>\n",
       "  </thead>\n",
       "  <tbody>\n",
       "    <tr>\n",
       "      <th>2020-01-01 00:00:00</th>\n",
       "      <td>100.000000</td>\n",
       "      <td>100.000000</td>\n",
       "      <td>100.000000</td>\n",
       "      <td>100.000000</td>\n",
       "      <td>100.000000</td>\n",
       "      <td>100.000000</td>\n",
       "      <td>100.000000</td>\n",
       "      <td>100.000000</td>\n",
       "      <td>100.000000</td>\n",
       "      <td>100.000000</td>\n",
       "      <td>...</td>\n",
       "      <td>100.000000</td>\n",
       "      <td>100.000000</td>\n",
       "      <td>100.000000</td>\n",
       "      <td>100.000000</td>\n",
       "      <td>100.000000</td>\n",
       "      <td>100.000000</td>\n",
       "      <td>100.000000</td>\n",
       "      <td>100.000000</td>\n",
       "      <td>100.000000</td>\n",
       "      <td>100.000000</td>\n",
       "    </tr>\n",
       "    <tr>\n",
       "      <th>2020-01-02 19:49:48</th>\n",
       "      <td>99.932297</td>\n",
       "      <td>99.936489</td>\n",
       "      <td>100.074309</td>\n",
       "      <td>100.061088</td>\n",
       "      <td>100.006151</td>\n",
       "      <td>100.029559</td>\n",
       "      <td>100.018310</td>\n",
       "      <td>99.985905</td>\n",
       "      <td>100.048389</td>\n",
       "      <td>99.787840</td>\n",
       "      <td>...</td>\n",
       "      <td>94.136612</td>\n",
       "      <td>99.881200</td>\n",
       "      <td>108.008239</td>\n",
       "      <td>94.038795</td>\n",
       "      <td>99.478731</td>\n",
       "      <td>101.173489</td>\n",
       "      <td>106.272111</td>\n",
       "      <td>101.367865</td>\n",
       "      <td>107.394251</td>\n",
       "      <td>97.899522</td>\n",
       "    </tr>\n",
       "    <tr>\n",
       "      <th>2020-01-04 15:39:36</th>\n",
       "      <td>99.910670</td>\n",
       "      <td>99.870933</td>\n",
       "      <td>100.051238</td>\n",
       "      <td>100.113299</td>\n",
       "      <td>100.138271</td>\n",
       "      <td>100.058138</td>\n",
       "      <td>100.017737</td>\n",
       "      <td>99.953788</td>\n",
       "      <td>99.965360</td>\n",
       "      <td>99.726716</td>\n",
       "      <td>...</td>\n",
       "      <td>88.023590</td>\n",
       "      <td>86.306996</td>\n",
       "      <td>95.114025</td>\n",
       "      <td>99.462508</td>\n",
       "      <td>102.103271</td>\n",
       "      <td>97.594594</td>\n",
       "      <td>102.248092</td>\n",
       "      <td>96.012813</td>\n",
       "      <td>110.372975</td>\n",
       "      <td>98.369176</td>\n",
       "    </tr>\n",
       "    <tr>\n",
       "      <th>2020-01-06 11:29:24</th>\n",
       "      <td>100.020490</td>\n",
       "      <td>99.850556</td>\n",
       "      <td>100.106580</td>\n",
       "      <td>100.041985</td>\n",
       "      <td>100.017202</td>\n",
       "      <td>100.115459</td>\n",
       "      <td>100.167998</td>\n",
       "      <td>100.025189</td>\n",
       "      <td>99.992513</td>\n",
       "      <td>99.729573</td>\n",
       "      <td>...</td>\n",
       "      <td>90.518794</td>\n",
       "      <td>82.039280</td>\n",
       "      <td>93.412836</td>\n",
       "      <td>96.261317</td>\n",
       "      <td>93.590661</td>\n",
       "      <td>102.863808</td>\n",
       "      <td>110.827150</td>\n",
       "      <td>96.546852</td>\n",
       "      <td>111.253415</td>\n",
       "      <td>103.684902</td>\n",
       "    </tr>\n",
       "    <tr>\n",
       "      <th>2020-01-08 07:19:12</th>\n",
       "      <td>99.874744</td>\n",
       "      <td>99.897949</td>\n",
       "      <td>99.931754</td>\n",
       "      <td>100.012234</td>\n",
       "      <td>100.096490</td>\n",
       "      <td>100.086932</td>\n",
       "      <td>100.123585</td>\n",
       "      <td>99.945363</td>\n",
       "      <td>100.036044</td>\n",
       "      <td>99.665835</td>\n",
       "      <td>...</td>\n",
       "      <td>102.822400</td>\n",
       "      <td>77.390372</td>\n",
       "      <td>87.801198</td>\n",
       "      <td>91.288091</td>\n",
       "      <td>91.608284</td>\n",
       "      <td>107.303052</td>\n",
       "      <td>120.064391</td>\n",
       "      <td>88.844512</td>\n",
       "      <td>111.161560</td>\n",
       "      <td>92.657119</td>\n",
       "    </tr>\n",
       "    <tr>\n",
       "      <th>...</th>\n",
       "      <td>...</td>\n",
       "      <td>...</td>\n",
       "      <td>...</td>\n",
       "      <td>...</td>\n",
       "      <td>...</td>\n",
       "      <td>...</td>\n",
       "      <td>...</td>\n",
       "      <td>...</td>\n",
       "      <td>...</td>\n",
       "      <td>...</td>\n",
       "      <td>...</td>\n",
       "      <td>...</td>\n",
       "      <td>...</td>\n",
       "      <td>...</td>\n",
       "      <td>...</td>\n",
       "      <td>...</td>\n",
       "      <td>...</td>\n",
       "      <td>...</td>\n",
       "      <td>...</td>\n",
       "      <td>...</td>\n",
       "      <td>...</td>\n",
       "    </tr>\n",
       "    <tr>\n",
       "      <th>2020-12-23 22:40:48</th>\n",
       "      <td>100.117956</td>\n",
       "      <td>100.451269</td>\n",
       "      <td>100.357436</td>\n",
       "      <td>100.670108</td>\n",
       "      <td>99.898803</td>\n",
       "      <td>101.378961</td>\n",
       "      <td>99.618962</td>\n",
       "      <td>98.374442</td>\n",
       "      <td>100.277170</td>\n",
       "      <td>99.901029</td>\n",
       "      <td>...</td>\n",
       "      <td>31.275080</td>\n",
       "      <td>9.892411</td>\n",
       "      <td>25.941822</td>\n",
       "      <td>272.149224</td>\n",
       "      <td>742.018842</td>\n",
       "      <td>115.431015</td>\n",
       "      <td>226.700479</td>\n",
       "      <td>113.249253</td>\n",
       "      <td>89.241185</td>\n",
       "      <td>78.057702</td>\n",
       "    </tr>\n",
       "    <tr>\n",
       "      <th>2020-12-25 18:30:36</th>\n",
       "      <td>100.197634</td>\n",
       "      <td>100.486696</td>\n",
       "      <td>100.260779</td>\n",
       "      <td>100.650530</td>\n",
       "      <td>99.912323</td>\n",
       "      <td>101.485658</td>\n",
       "      <td>99.717224</td>\n",
       "      <td>98.400026</td>\n",
       "      <td>100.175578</td>\n",
       "      <td>99.835317</td>\n",
       "      <td>...</td>\n",
       "      <td>35.436803</td>\n",
       "      <td>10.323024</td>\n",
       "      <td>23.987687</td>\n",
       "      <td>251.173802</td>\n",
       "      <td>758.673449</td>\n",
       "      <td>127.555373</td>\n",
       "      <td>217.082632</td>\n",
       "      <td>105.314641</td>\n",
       "      <td>81.979074</td>\n",
       "      <td>80.688363</td>\n",
       "    </tr>\n",
       "    <tr>\n",
       "      <th>2020-12-27 14:20:24</th>\n",
       "      <td>100.064757</td>\n",
       "      <td>100.433349</td>\n",
       "      <td>100.248041</td>\n",
       "      <td>100.636589</td>\n",
       "      <td>99.957246</td>\n",
       "      <td>101.550366</td>\n",
       "      <td>99.681928</td>\n",
       "      <td>98.384960</td>\n",
       "      <td>100.260060</td>\n",
       "      <td>99.783951</td>\n",
       "      <td>...</td>\n",
       "      <td>34.332283</td>\n",
       "      <td>10.597010</td>\n",
       "      <td>25.767203</td>\n",
       "      <td>240.808918</td>\n",
       "      <td>761.039967</td>\n",
       "      <td>124.411994</td>\n",
       "      <td>205.948420</td>\n",
       "      <td>101.282776</td>\n",
       "      <td>85.236454</td>\n",
       "      <td>73.825936</td>\n",
       "    </tr>\n",
       "    <tr>\n",
       "      <th>2020-12-29 10:10:12</th>\n",
       "      <td>99.999813</td>\n",
       "      <td>100.402888</td>\n",
       "      <td>100.342667</td>\n",
       "      <td>100.498395</td>\n",
       "      <td>100.016176</td>\n",
       "      <td>101.543733</td>\n",
       "      <td>99.702448</td>\n",
       "      <td>98.420855</td>\n",
       "      <td>100.293445</td>\n",
       "      <td>99.805697</td>\n",
       "      <td>...</td>\n",
       "      <td>39.077306</td>\n",
       "      <td>9.928306</td>\n",
       "      <td>25.817877</td>\n",
       "      <td>231.134727</td>\n",
       "      <td>808.401057</td>\n",
       "      <td>124.095690</td>\n",
       "      <td>203.524917</td>\n",
       "      <td>95.098656</td>\n",
       "      <td>80.070143</td>\n",
       "      <td>69.410252</td>\n",
       "    </tr>\n",
       "    <tr>\n",
       "      <th>2020-12-31 06:00:00</th>\n",
       "      <td>99.971660</td>\n",
       "      <td>100.433572</td>\n",
       "      <td>100.301423</td>\n",
       "      <td>100.595394</td>\n",
       "      <td>100.053369</td>\n",
       "      <td>101.522543</td>\n",
       "      <td>99.787261</td>\n",
       "      <td>98.392820</td>\n",
       "      <td>100.297264</td>\n",
       "      <td>99.880262</td>\n",
       "      <td>...</td>\n",
       "      <td>34.171767</td>\n",
       "      <td>10.255108</td>\n",
       "      <td>27.372238</td>\n",
       "      <td>234.427725</td>\n",
       "      <td>846.740836</td>\n",
       "      <td>127.658552</td>\n",
       "      <td>205.982960</td>\n",
       "      <td>100.379735</td>\n",
       "      <td>65.308494</td>\n",
       "      <td>58.978854</td>\n",
       "    </tr>\n",
       "  </tbody>\n",
       "</table>\n",
       "<p>201 rows × 180 columns</p>\n",
       "</div>"
      ],
      "text/plain": [
       "                     p001-00-000  p001-00-001  p001-00-002  p001-00-003  \\\n",
       "datetime                                                                  \n",
       "2020-01-01 00:00:00   100.000000   100.000000   100.000000   100.000000   \n",
       "2020-01-02 19:49:48    99.932297    99.936489   100.074309   100.061088   \n",
       "2020-01-04 15:39:36    99.910670    99.870933   100.051238   100.113299   \n",
       "2020-01-06 11:29:24   100.020490    99.850556   100.106580   100.041985   \n",
       "2020-01-08 07:19:12    99.874744    99.897949    99.931754   100.012234   \n",
       "...                          ...          ...          ...          ...   \n",
       "2020-12-23 22:40:48   100.117956   100.451269   100.357436   100.670108   \n",
       "2020-12-25 18:30:36   100.197634   100.486696   100.260779   100.650530   \n",
       "2020-12-27 14:20:24   100.064757   100.433349   100.248041   100.636589   \n",
       "2020-12-29 10:10:12    99.999813   100.402888   100.342667   100.498395   \n",
       "2020-12-31 06:00:00    99.971660   100.433572   100.301423   100.595394   \n",
       "\n",
       "                     p001-00-004  p001-00-005  p001-00-006  p001-00-007  \\\n",
       "datetime                                                                  \n",
       "2020-01-01 00:00:00   100.000000   100.000000   100.000000   100.000000   \n",
       "2020-01-02 19:49:48   100.006151   100.029559   100.018310    99.985905   \n",
       "2020-01-04 15:39:36   100.138271   100.058138   100.017737    99.953788   \n",
       "2020-01-06 11:29:24   100.017202   100.115459   100.167998   100.025189   \n",
       "2020-01-08 07:19:12   100.096490   100.086932   100.123585    99.945363   \n",
       "...                          ...          ...          ...          ...   \n",
       "2020-12-23 22:40:48    99.898803   101.378961    99.618962    98.374442   \n",
       "2020-12-25 18:30:36    99.912323   101.485658    99.717224    98.400026   \n",
       "2020-12-27 14:20:24    99.957246   101.550366    99.681928    98.384960   \n",
       "2020-12-29 10:10:12   100.016176   101.543733    99.702448    98.420855   \n",
       "2020-12-31 06:00:00   100.053369   101.522543    99.787261    98.392820   \n",
       "\n",
       "                     p001-00-008  p001-00-009  ...  p100-20-000  p100-20-001  \\\n",
       "datetime                                       ...                             \n",
       "2020-01-01 00:00:00   100.000000   100.000000  ...   100.000000   100.000000   \n",
       "2020-01-02 19:49:48   100.048389    99.787840  ...    94.136612    99.881200   \n",
       "2020-01-04 15:39:36    99.965360    99.726716  ...    88.023590    86.306996   \n",
       "2020-01-06 11:29:24    99.992513    99.729573  ...    90.518794    82.039280   \n",
       "2020-01-08 07:19:12   100.036044    99.665835  ...   102.822400    77.390372   \n",
       "...                          ...          ...  ...          ...          ...   \n",
       "2020-12-23 22:40:48   100.277170    99.901029  ...    31.275080     9.892411   \n",
       "2020-12-25 18:30:36   100.175578    99.835317  ...    35.436803    10.323024   \n",
       "2020-12-27 14:20:24   100.260060    99.783951  ...    34.332283    10.597010   \n",
       "2020-12-29 10:10:12   100.293445    99.805697  ...    39.077306     9.928306   \n",
       "2020-12-31 06:00:00   100.297264    99.880262  ...    34.171767    10.255108   \n",
       "\n",
       "                     p100-20-002  p100-20-003  p100-20-004  p100-20-005  \\\n",
       "datetime                                                                  \n",
       "2020-01-01 00:00:00   100.000000   100.000000   100.000000   100.000000   \n",
       "2020-01-02 19:49:48   108.008239    94.038795    99.478731   101.173489   \n",
       "2020-01-04 15:39:36    95.114025    99.462508   102.103271    97.594594   \n",
       "2020-01-06 11:29:24    93.412836    96.261317    93.590661   102.863808   \n",
       "2020-01-08 07:19:12    87.801198    91.288091    91.608284   107.303052   \n",
       "...                          ...          ...          ...          ...   \n",
       "2020-12-23 22:40:48    25.941822   272.149224   742.018842   115.431015   \n",
       "2020-12-25 18:30:36    23.987687   251.173802   758.673449   127.555373   \n",
       "2020-12-27 14:20:24    25.767203   240.808918   761.039967   124.411994   \n",
       "2020-12-29 10:10:12    25.817877   231.134727   808.401057   124.095690   \n",
       "2020-12-31 06:00:00    27.372238   234.427725   846.740836   127.658552   \n",
       "\n",
       "                     p100-20-006  p100-20-007  p100-20-008  p100-20-009  \n",
       "datetime                                                                 \n",
       "2020-01-01 00:00:00   100.000000   100.000000   100.000000   100.000000  \n",
       "2020-01-02 19:49:48   106.272111   101.367865   107.394251    97.899522  \n",
       "2020-01-04 15:39:36   102.248092    96.012813   110.372975    98.369176  \n",
       "2020-01-06 11:29:24   110.827150    96.546852   111.253415   103.684902  \n",
       "2020-01-08 07:19:12   120.064391    88.844512   111.161560    92.657119  \n",
       "...                          ...          ...          ...          ...  \n",
       "2020-12-23 22:40:48   226.700479   113.249253    89.241185    78.057702  \n",
       "2020-12-25 18:30:36   217.082632   105.314641    81.979074    80.688363  \n",
       "2020-12-27 14:20:24   205.948420   101.282776    85.236454    73.825936  \n",
       "2020-12-29 10:10:12   203.524917    95.098656    80.070143    69.410252  \n",
       "2020-12-31 06:00:00   205.982960   100.379735    65.308494    58.978854  \n",
       "\n",
       "[201 rows x 180 columns]"
      ]
     },
     "execution_count": 39,
     "metadata": {},
     "output_type": "execute_result"
    }
   ],
   "source": [
    "dfs = {\n",
    "    (sig,mu): PathGenerator(sig=sig, mu=mu).pathdf(10)\n",
    "    for mu in [0,0.05,0.2]\n",
    "    for sig in (0.01, 0.05, 0.25, 0.5, 0.75, 1)\n",
    "}\n",
    "df_aggr = pd.concat(dfs.values(), axis=1)\n",
    "#df.to_csv(FILENAME(sig=sig, mu=0)+\".csv.gz\", index=False, compression=\"gzip\")\n",
    "#df.to_csv(FILENAME(sig=sig, mu=0)+\".csv\", index=False)\n",
    "if not FILENAME2 is None:\n",
    "    df_aggr.to_pickle(FILENAME2()+\".pickle\")\n",
    "df_aggr"
   ]
  },
  {
   "cell_type": "code",
   "execution_count": 40,
   "id": "af79cdca",
   "metadata": {},
   "outputs": [
    {
     "data": {
      "text/plain": [
       "['p001-00-000',\n",
       " 'p005-00-000',\n",
       " 'p025-00-000',\n",
       " 'p050-00-000',\n",
       " 'p075-00-000',\n",
       " 'p100-00-000']"
      ]
     },
     "execution_count": 40,
     "metadata": {},
     "output_type": "execute_result"
    }
   ],
   "source": [
    "[ df_aggr.columns[i*10] for i in range(6) ]"
   ]
  },
  {
   "cell_type": "code",
   "execution_count": 41,
   "id": "bdb8c037",
   "metadata": {},
   "outputs": [
    {
     "data": {
      "text/plain": [
       "['p001-05-000',\n",
       " 'p005-05-000',\n",
       " 'p025-05-000',\n",
       " 'p050-05-000',\n",
       " 'p075-05-000',\n",
       " 'p100-05-000']"
      ]
     },
     "execution_count": 41,
     "metadata": {},
     "output_type": "execute_result"
    }
   ],
   "source": [
    "[ df_aggr.columns[i*10+60] for i in range(6) ]"
   ]
  },
  {
   "cell_type": "code",
   "execution_count": 42,
   "id": "c4c9ea81",
   "metadata": {},
   "outputs": [
    {
     "data": {
      "text/plain": [
       "['p001-05-001',\n",
       " 'p005-05-001',\n",
       " 'p025-05-001',\n",
       " 'p050-05-001',\n",
       " 'p075-05-001',\n",
       " 'p100-05-001']"
      ]
     },
     "execution_count": 42,
     "metadata": {},
     "output_type": "execute_result"
    }
   ],
   "source": [
    "[ df_aggr.columns[i*10+61] for i in range(6) ]"
   ]
  },
  {
   "cell_type": "code",
   "execution_count": 43,
   "id": "9b835a40",
   "metadata": {},
   "outputs": [
    {
     "name": "stdout",
     "output_type": "stream",
     "text": [
      "COS.pickle        RAN-005-00.pickle RAN-100-00.pickle \u001b[34mdownload\u001b[m\u001b[m\r\n",
      "Display.ipynb     RAN-010-00.pickle RAN-SIGMU.pickle  fls.py\r\n",
      "Display.py        RAN-020-00.pickle \u001b[34m__pycache__\u001b[m\u001b[m\r\n",
      "Generate.ipynb    RAN-050-00.pickle \u001b[35mcarbon\u001b[m\u001b[m\r\n",
      "Generate.py       RAN-075-00.pickle \u001b[34mcharts\u001b[m\u001b[m\r\n"
     ]
    }
   ],
   "source": [
    "!ls"
   ]
  },
  {
   "cell_type": "code",
   "execution_count": 44,
   "id": "53c6d212",
   "metadata": {},
   "outputs": [],
   "source": [
    "#!rm RAN-AGGR.pickle"
   ]
  },
  {
   "cell_type": "code",
   "execution_count": 45,
   "id": "cfb8c410",
   "metadata": {},
   "outputs": [],
   "source": [
    "# fns = [fn for fn in os.listdir() if fn[:3]==\"RAN\"]\n",
    "# fns = ['RAN-005-00.pickle',\n",
    "#  'RAN-010-00.pickle',\n",
    "#  'RAN-100-00.pickle',\n",
    "#  'RAN-075-00.pickle',\n",
    "#  'RAN-020-00.pickle',\n",
    "#  'RAN-050-00.pickle']\n",
    "# # for fn in fns:\n",
    "# #     df = pd.read_pickle(fn)\n",
    "# #     del df[\"time\"]\n",
    "# #     df = df.set_index(\"datetime\")\n",
    "# #     df.to_pickle(fn)\n",
    "# pd.read_pickle(fns[2])"
   ]
  },
  {
   "cell_type": "markdown",
   "id": "03ac665b",
   "metadata": {},
   "source": [
    "## Generate Sin, Cos paths"
   ]
  },
  {
   "cell_type": "code",
   "execution_count": 46,
   "id": "5e0160d8",
   "metadata": {},
   "outputs": [
    {
     "data": {
      "text/plain": [
       "{'mu': 0,\n",
       " 'sig': 0.5,\n",
       " 's0': 100,\n",
       " 'time': 1,\n",
       " 'N': 200,\n",
       " 'startdt': (2020, 1, 1),\n",
       " 'numpaths': 100,\n",
       " 'colname': 'p{sig100:03d}-{mu100:02d}-{ix:03d}'}"
      ]
     },
     "execution_count": 46,
     "metadata": {},
     "output_type": "execute_result"
    }
   ],
   "source": [
    "PathGenerator.DEFAULTS"
   ]
  },
  {
   "cell_type": "code",
   "execution_count": 47,
   "id": "16811915",
   "metadata": {},
   "outputs": [
    {
     "data": {
      "text/plain": [
       "[<matplotlib.lines.Line2D at 0x7fcd51a28cd0>]"
      ]
     },
     "execution_count": 47,
     "metadata": {},
     "output_type": "execute_result"
    },
    {
     "data": {
      "image/png": "[encoded data removed]",
      "text/plain": [
       "<Figure size 576x288 with 1 Axes>"
      ]
     },
     "metadata": {},
     "output_type": "display_data"
    }
   ],
   "source": [
    "start_dt=pd.Timestamp(\"2020-01-01\")\n",
    "end_dt=pd.Timestamp(\"2021-01-01\")\n",
    "nsteps = 200\n",
    "delt = (end_dt-start_dt)/nsteps\n",
    "x = lambda n: 2*pi*n/nsteps\n",
    "t = lambda n: start_dt + delt*n\n",
    "p = lambda i, f: 75+50*cos((f+1)*x(i))\n",
    "assert x(nsteps) == 2*pi\n",
    "assert t(nsteps) == end_dt\n",
    "\n",
    "\n",
    "ix = 10\n",
    "time = np.array([t(i) for i in range(nsteps+1)])\n",
    "\n",
    "dfs = [\n",
    "    pd.DataFrame(\n",
    "        np.array([p(i,ix) for i in range(nsteps+1)]), \n",
    "        index=time, \n",
    "        columns=[f\"p-a-{ix:02d}\"]\n",
    "    )\n",
    "for ix in range(10)\n",
    "]\n",
    "df_aggr = pd.concat(dfs, axis=1)\n",
    "df_aggr.to_pickle(\"COS.pickle\")\n",
    "plt.plot(dfs[0])"
   ]
  },
  {
   "cell_type": "code",
   "execution_count": 48,
   "id": "db75dc80",
   "metadata": {},
   "outputs": [
    {
     "data": {
      "text/plain": [
       "125.0"
      ]
     },
     "execution_count": 48,
     "metadata": {},
     "output_type": "execute_result"
    }
   ],
   "source": [
    "p(100,5)"
   ]
  },
  {
   "cell_type": "code",
   "execution_count": 49,
   "id": "3aa02ecb",
   "metadata": {},
   "outputs": [
    {
     "name": "stdout",
     "output_type": "stream",
     "text": [
      "COS.pickle        RAN-005-00.pickle RAN-100-00.pickle \u001b[34mdownload\u001b[m\u001b[m\r\n",
      "Display.ipynb     RAN-010-00.pickle RAN-SIGMU.pickle  fls.py\r\n",
      "Display.py        RAN-020-00.pickle \u001b[34m__pycache__\u001b[m\u001b[m\r\n",
      "Generate.ipynb    RAN-050-00.pickle \u001b[35mcarbon\u001b[m\u001b[m\r\n",
      "Generate.py       RAN-075-00.pickle \u001b[34mcharts\u001b[m\u001b[m\r\n"
     ]
    }
   ],
   "source": [
    "!ls"
   ]
  },
  {
   "cell_type": "markdown",
   "id": "fba03b35",
   "metadata": {},
   "source": [
    "## Data retrieval examples"
   ]
  },
  {
   "cell_type": "code",
   "execution_count": 50,
   "id": "840d5b52",
   "metadata": {},
   "outputs": [],
   "source": [
    "fn = \"COS.pickle\""
   ]
  },
  {
   "cell_type": "code",
   "execution_count": 51,
   "id": "3c4c2638",
   "metadata": {},
   "outputs": [
    {
     "data": {
      "text/plain": [
       "Index(['p-a-00', 'p-a-01', 'p-a-02', 'p-a-03', 'p-a-04', 'p-a-05', 'p-a-06',\n",
       "       'p-a-07', 'p-a-08', 'p-a-09'],\n",
       "      dtype='object')"
      ]
     },
     "execution_count": 51,
     "metadata": {},
     "output_type": "execute_result"
    }
   ],
   "source": [
    "pdcols(fn)"
   ]
  },
  {
   "cell_type": "code",
   "execution_count": 52,
   "id": "b80b0cba",
   "metadata": {},
   "outputs": [
    {
     "data": {
      "text/plain": [
       "2020-01-01 00:00:00    125.000000\n",
       "2020-01-02 19:55:12    124.901336\n",
       "2020-01-04 15:50:24    124.605735\n",
       "2020-01-06 11:45:36    124.114363\n",
       "2020-01-08 07:40:48    123.429158\n",
       "                          ...    \n",
       "2020-12-24 16:19:12    123.429158\n",
       "2020-12-26 12:14:24    124.114363\n",
       "2020-12-28 08:09:36    124.605735\n",
       "2020-12-30 04:04:48    124.901336\n",
       "2021-01-01 00:00:00    125.000000\n",
       "Name: p-a-01, Length: 201, dtype: float64"
      ]
     },
     "execution_count": 52,
     "metadata": {},
     "output_type": "execute_result"
    }
   ],
   "source": [
    "ser=pdread(fn, \"p-a-01\")\n",
    "ser"
   ]
  },
  {
   "cell_type": "code",
   "execution_count": 53,
   "id": "808429c3",
   "metadata": {},
   "outputs": [
    {
     "data": {
      "text/plain": [
       "[<matplotlib.lines.Line2D at 0x7fcd51ba0be0>]"
      ]
     },
     "execution_count": 53,
     "metadata": {},
     "output_type": "execute_result"
    },
    {
     "data": {
      "image/png": "[encoded data removed]",
      "text/plain": [
       "<Figure size 576x288 with 1 Axes>"
      ]
     },
     "metadata": {},
     "output_type": "display_data"
    }
   ],
   "source": [
    "plt.plot(ser)"
   ]
  },
  {
   "cell_type": "code",
   "execution_count": 54,
   "id": "cd53e548",
   "metadata": {},
   "outputs": [
    {
     "data": {
      "text/plain": [
       "2020-01-01 00:00:00    125.000000\n",
       "2020-01-02 19:55:12    124.975328\n",
       "2020-01-04 15:50:24    124.901336\n",
       "2020-01-06 11:45:36    124.778098\n",
       "2020-01-08 07:40:48    124.605735\n",
       "                          ...    \n",
       "2020-12-24 16:19:12    124.605735\n",
       "2020-12-26 12:14:24    124.778098\n",
       "2020-12-28 08:09:36    124.901336\n",
       "2020-12-30 04:04:48    124.975328\n",
       "2021-01-01 00:00:00    125.000000\n",
       "Name: p-a-00, Length: 201, dtype: float64"
      ]
     },
     "execution_count": 54,
     "metadata": {},
     "output_type": "execute_result"
    }
   ],
   "source": [
    "ser = pdread(fn, 0)\n",
    "ser"
   ]
  },
  {
   "cell_type": "code",
   "execution_count": 55,
   "id": "55ffaf57",
   "metadata": {},
   "outputs": [
    {
     "data": {
      "text/plain": [
       "Timestamp('2020-01-01 00:00:00')"
      ]
     },
     "execution_count": 55,
     "metadata": {},
     "output_type": "execute_result"
    }
   ],
   "source": [
    "ser.index[0]"
   ]
  },
  {
   "cell_type": "code",
   "execution_count": 56,
   "id": "18f5ba3f",
   "metadata": {},
   "outputs": [
    {
     "data": {
      "text/plain": [
       "Timedelta('1 days 00:00:00')"
      ]
     },
     "execution_count": 56,
     "metadata": {},
     "output_type": "execute_result"
    }
   ],
   "source": [
    "pd.Timedelta(days=1)"
   ]
  },
  {
   "cell_type": "code",
   "execution_count": null,
   "id": "6c41ad72",
   "metadata": {},
   "outputs": [],
   "source": []
  }
 ],
 "metadata": {
  "jupytext": {
   "formats": "ipynb,py:light"
  },
  "kernelspec": {
   "display_name": "Python 3",
   "language": "python",
   "name": "python3"
  },
  "language_info": {
   "codemirror_mode": {
    "name": "ipython",
    "version": 3
   },
   "file_extension": ".py",
   "mimetype": "text/x-python",
   "name": "python",
   "nbconvert_exporter": "python",
   "pygments_lexer": "ipython3",
   "version": "3.8.8"
  }
 },
 "nbformat": 4,
 "nbformat_minor": 5
}
