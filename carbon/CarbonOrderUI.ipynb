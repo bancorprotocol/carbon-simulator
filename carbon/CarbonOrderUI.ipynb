{
 "cells": [
  {
   "cell_type": "code",
   "execution_count": 1,
   "id": "8531fd2d",
   "metadata": {
    "lines_to_next_cell": 2
   },
   "outputs": [
    {
     "name": "stdout",
     "output_type": "stream",
     "text": [
      "CarbonPairStatic version 1.2.1\n",
      "CarbonOrderUI version 1.0\n"
     ]
    }
   ],
   "source": [
    "from pair import CarbonPair, __version__ as pair_v\n",
    "from carbon_order_ui import CarbonOrderUI, __version__ as posn_v\n",
    "print(\"CarbonPairStatic version\", pair_v)\n",
    "print(\"CarbonOrderUI version\", posn_v)"
   ]
  },
  {
   "cell_type": "markdown",
   "id": "bd540f35",
   "metadata": {},
   "source": [
    "# Carbon Order UI"
   ]
  },
  {
   "cell_type": "code",
   "execution_count": 2,
   "id": "d36a657a",
   "metadata": {
    "lines_to_next_cell": 0
   },
   "outputs": [],
   "source": [
    "#help(CarbonPositionUI)"
   ]
  },
  {
   "cell_type": "code",
   "execution_count": 3,
   "id": "9834a658",
   "metadata": {},
   "outputs": [],
   "source": [
    "ETHUSDC = CarbonPair(\"ETH\", \"USDC\")"
   ]
  },
  {
   "cell_type": "code",
   "execution_count": 4,
   "id": "aef29453",
   "metadata": {
    "lines_to_next_cell": 2
   },
   "outputs": [
    {
     "data": {
      "text/plain": [
       "\"Sell ETH buy USDC from 2100.0000 to 2500.0000 <bound method CarbonOrderUI.price_convention of CarbonOrderUI(pair=CarbonPair(tknb='ETH', tknq='USDC'), tkn='ETH', B=0.02, S=0.0018217890235992379, yint=100, y=50)>\""
      ]
     },
     "execution_count": 4,
     "metadata": {},
     "output_type": "execute_result"
    }
   ],
   "source": [
    "ord1 = CarbonOrderUI.from_prices(ETHUSDC, \"ETH\", 2100, 2500, 100, 50)\n",
    "ord1.descr()"
   ]
  },
  {
   "cell_type": "code",
   "execution_count": 5,
   "id": "56e1361a",
   "metadata": {},
   "outputs": [
    {
     "data": {
      "text/plain": [
       "(0.02, 0.0018217890235992379, True)"
      ]
     },
     "execution_count": 5,
     "metadata": {},
     "output_type": "execute_result"
    }
   ],
   "source": [
    "ord1.B, ord1.S, ord1.reverseq"
   ]
  },
  {
   "cell_type": "code",
   "execution_count": 6,
   "id": "bf5a60e9",
   "metadata": {},
   "outputs": [
    {
     "data": {
      "text/plain": [
       "(1.1904761904761905, 0.1745743121887939)"
      ]
     },
     "execution_count": 6,
     "metadata": {},
     "output_type": "execute_result"
    }
   ],
   "source": [
    "ord1.widthr, ord1.widthpc"
   ]
  },
  {
   "cell_type": "code",
   "execution_count": 7,
   "id": "011d7db9",
   "metadata": {},
   "outputs": [
    {
     "data": {
      "text/plain": [
       "(2100.0, 2291.28784747792, 2500.0)"
      ]
     },
     "execution_count": 7,
     "metadata": {},
     "output_type": "execute_result"
    }
   ],
   "source": [
    "ord1.pa, ord1.p0, ord1.pb"
   ]
  },
  {
   "cell_type": "code",
   "execution_count": 8,
   "id": "7b0b4284",
   "metadata": {},
   "outputs": [
    {
     "data": {
      "text/plain": [
       "(2100.0, 2291.28784747792, 2500.0)"
      ]
     },
     "execution_count": 8,
     "metadata": {},
     "output_type": "execute_result"
    }
   ],
   "source": [
    "ord1.py, ord1.p0, ord1.px"
   ]
  },
  {
   "cell_type": "code",
   "execution_count": 9,
   "id": "0e10888e",
   "metadata": {},
   "outputs": [
    {
     "data": {
      "text/plain": [
       "(0.0004761904761904762, 0.0004364357804719848, 0.0004)"
      ]
     },
     "execution_count": 9,
     "metadata": {},
     "output_type": "execute_result"
    }
   ],
   "source": [
    "ord1.pa_raw, 1/ord1.p0, ord1.pb_raw"
   ]
  },
  {
   "cell_type": "code",
   "execution_count": 10,
   "id": "bce95c62",
   "metadata": {},
   "outputs": [
    {
     "data": {
      "text/plain": [
       "\"Sell USDC buy ETH from 1000.0000 to 500.0000 <bound method CarbonOrderUI.price_convention of CarbonOrderUI(pair=CarbonPair(tknb='ETH', tknq='USDC'), tkn='USDC', B=22.360679774997898, S=9.262096826685895, yint=1000, y=700)> (700 USDC on curve, 70% of capacity)\""
      ]
     },
     "execution_count": 10,
     "metadata": {},
     "output_type": "execute_result"
    }
   ],
   "source": [
    "ord2 = CarbonOrderUI.from_prices(ETHUSDC, \"USDC\", 1000, 500, 1000, 700)\n",
    "ord2.descr(True)"
   ]
  },
  {
   "cell_type": "code",
   "execution_count": 11,
   "id": "d0c9684d",
   "metadata": {},
   "outputs": [
    {
     "data": {
      "text/plain": [
       "(22.360679774997898, 9.262096826685895, False)"
      ]
     },
     "execution_count": 11,
     "metadata": {},
     "output_type": "execute_result"
    }
   ],
   "source": [
    "ord2.B, ord2.S, ord2.reverseq"
   ]
  },
  {
   "cell_type": "code",
   "execution_count": 12,
   "id": "a478524d",
   "metadata": {},
   "outputs": [
    {
     "data": {
      "text/plain": [
       "(1000.0, 707.1067811865476, 500.00000000000006)"
      ]
     },
     "execution_count": 12,
     "metadata": {},
     "output_type": "execute_result"
    }
   ],
   "source": [
    "ord2.pa, ord2.p0, ord2.pb"
   ]
  },
  {
   "cell_type": "code",
   "execution_count": 13,
   "id": "1b9f486d",
   "metadata": {},
   "outputs": [
    {
     "data": {
      "text/plain": [
       "(1000.0, 707.1067811865476, 500.00000000000006)"
      ]
     },
     "execution_count": 13,
     "metadata": {},
     "output_type": "execute_result"
    }
   ],
   "source": [
    "ord2.pa_raw, ord2.p0, ord2.pb_raw"
   ]
  },
  {
   "cell_type": "code",
   "execution_count": 14,
   "id": "b1e9d347",
   "metadata": {},
   "outputs": [
    {
     "data": {
      "text/plain": [
       "(1000.0, 707.1067811865476, 500.00000000000006)"
      ]
     },
     "execution_count": 14,
     "metadata": {},
     "output_type": "execute_result"
    }
   ],
   "source": [
    "ord2.py, ord2.p0, ord2.px"
   ]
  }
 ],
 "metadata": {
  "jupytext": {
   "formats": "ipynb,py:light"
  },
  "kernelspec": {
   "display_name": "Python 3",
   "language": "python",
   "name": "python3"
  },
  "language_info": {
   "codemirror_mode": {
    "name": "ipython",
    "version": 3
   },
   "file_extension": ".py",
   "mimetype": "text/x-python",
   "name": "python",
   "nbconvert_exporter": "python",
   "pygments_lexer": "ipython3",
   "version": "3.8.8"
  }
 },
 "nbformat": 4,
 "nbformat_minor": 5
}
