{
 "cells": [
  {
   "cell_type": "code",
   "execution_count": 1,
   "id": "ce011baf",
   "metadata": {},
   "outputs": [
    {
     "name": "stdout",
     "output_type": "stream",
     "text": [
      "[stdimports] Carbon v2.3-BETA0 (21/Jan/2022)\n",
      "[stdimports] CarbonSimulatorUI v2.4 (12/Jan/2023)\n",
      "[stdimports] CarbonOrderUI v1.6.1 (21/Jan/2023)\n"
     ]
    }
   ],
   "source": [
    "from carbon.helpers.stdimports import *\n",
    "from carbon.helpers.pdread import *\n",
    "from carbon.helpers.strategy import *\n",
    "from carbon.helpers.fls import *\n",
    "from carbon.helpers.version import VersionTooLowError\n",
    "\n",
    "from carbon.helpers.simulation import run_sim, plot_sim\n",
    "\n",
    "plt.style.use('seaborn-dark')\n",
    "plt.rcParams['figure.figsize'] = [12,6]\n"
   ]
  },
  {
   "cell_type": "markdown",
   "id": "edf6bdb6",
   "metadata": {},
   "source": [
    "# Carbon Helpers (NBTest 052)\n",
    "\n",
    "Based on the Demo 7-3 notebook"
   ]
  },
  {
   "cell_type": "markdown",
   "id": "e97b14b6",
   "metadata": {},
   "source": [
    "## helpers stdimport"
   ]
  },
  {
   "cell_type": "markdown",
   "id": "526cbe0f",
   "metadata": {},
   "source": [
    "check that the following objects have been imported"
   ]
  },
  {
   "cell_type": "code",
   "execution_count": 50,
   "id": "4f358572",
   "metadata": {},
   "outputs": [
    {
     "data": {
      "text/plain": [
       "carbon.pair.CarbonPair"
      ]
     },
     "execution_count": 50,
     "metadata": {},
     "output_type": "execute_result"
    }
   ],
   "source": [
    "np\n",
    "plt\n",
    "pd\n",
    "CarbonSimulatorUI\n",
    "CarbonOrderUI\n",
    "P"
   ]
  },
  {
   "cell_type": "code",
   "execution_count": 51,
   "id": "fd7ac22e",
   "metadata": {},
   "outputs": [
    {
     "data": {
      "text/plain": [
       "<function math.log>"
      ]
     },
     "execution_count": 51,
     "metadata": {},
     "output_type": "execute_result"
    }
   ],
   "source": [
    "sqrt\n",
    "exp\n",
    "log"
   ]
  },
  {
   "cell_type": "markdown",
   "id": "a718e9cf",
   "metadata": {},
   "source": [
    "## helpers version"
   ]
  },
  {
   "cell_type": "code",
   "execution_count": 2,
   "id": "dac6ee5d",
   "metadata": {},
   "outputs": [],
   "source": [
    "assert require_version(\"1.0\", \"1.0\", raiseonfail=False) == True\n",
    "assert require_version(\"2.0\", \"1.0\", raiseonfail=False) == False\n",
    "assert require_version(\"1.0\", \"2.0\", raiseonfail=False) == True\n",
    "assert require_version(\"1.0.1\", \"1.0\", raiseonfail=False) == False\n",
    "assert require_version(\"1.0\", \"1.0.1\", raiseonfail=False) == True\n",
    "assert require_version(\"1.0\", \"11.0\", raiseonfail=False) == True\n",
    "assert require_version(\"11.0\", \"1.0\", raiseonfail=False) == False\n",
    "assert require_version(\"1.3beta1\", \"1.3\", raiseonfail=False) == True\n",
    "assert require_version(\"1.3beta1\", \"1.3beta1\", raiseonfail=False) == True\n",
    "assert require_version(\"1.3-1\", \"1.3-2\", raiseonfail=False) == True\n",
    "assert require_version(\"1.3-2\", \"1.3-1\", raiseonfail=False) == True\n",
    "assert require_version(\"1.0\", \"1.0\", raiseonfail=False) == True\n",
    "assert require_version(\"1.0\", \"1.0\", raiseonfail=False) == True"
   ]
  },
  {
   "cell_type": "markdown",
   "id": "f860f9f3",
   "metadata": {},
   "source": [
    "obviously must be tested with version >= 2.0"
   ]
  },
  {
   "cell_type": "code",
   "execution_count": 3,
   "id": "90eb4f02",
   "metadata": {},
   "outputs": [],
   "source": [
    "require_version(\"2.0\")"
   ]
  },
  {
   "cell_type": "code",
   "execution_count": 4,
   "id": "7c3fc54e",
   "metadata": {},
   "outputs": [],
   "source": [
    "require_version(\"1.0\", \"1.0\")"
   ]
  },
  {
   "cell_type": "code",
   "execution_count": 5,
   "id": "85859a6b",
   "metadata": {},
   "outputs": [
    {
     "name": "stdout",
     "output_type": "stream",
     "text": [
      "('Version requirements not met (required = [2, 0], actual = [1, 0])', '2.0', '1.0')\n"
     ]
    }
   ],
   "source": [
    "try:\n",
    "    require_version(\"2.0\", \"1.0\")\n",
    "    run(\"must raise error\")\n",
    "except VersionTooLowError as e:\n",
    "    print(e)"
   ]
  },
  {
   "cell_type": "markdown",
   "id": "4eef2211",
   "metadata": {},
   "source": [
    "## helpers strategy"
   ]
  },
  {
   "cell_type": "code",
   "execution_count": 46,
   "id": "c9d0a3e6",
   "metadata": {},
   "outputs": [],
   "source": [
    "# from carbon.helpers import strategy as _strategy\n",
    "# help(_strategy)"
   ]
  },
  {
   "cell_type": "code",
   "execution_count": 8,
   "id": "53c0a6fd",
   "metadata": {},
   "outputs": [],
   "source": [
    "assert strategy.from_mgw() == strategy(p_buy_a=100.0, p_buy_b=100.0, p_sell_a=100, p_sell_b=100, \n",
    "                                       amt_rsk=0, amt_csh=0, rsk='RSK', csh='CSH')"
   ]
  },
  {
   "cell_type": "code",
   "execution_count": 9,
   "id": "357d13f4",
   "metadata": {},
   "outputs": [],
   "source": [
    "# DEPRECATED\n",
    "assert strategy.from_mgw() == strategy.from_mwh()"
   ]
  },
  {
   "cell_type": "code",
   "execution_count": 21,
   "id": "1c7574c2",
   "metadata": {},
   "outputs": [],
   "source": [
    "assert strategy.from_mgw(m=100) == strategy.from_mgw()\n",
    "assert strategy.from_mgw(g=0) == strategy.from_mgw()\n",
    "assert strategy.from_mgw(w=0) == strategy.from_mgw()"
   ]
  },
  {
   "cell_type": "code",
   "execution_count": 38,
   "id": "f7debb17",
   "metadata": {},
   "outputs": [],
   "source": [
    "assert strategy.from_mgw(g=0.1).p_buy_a == 100/(1.1)\n",
    "assert strategy.from_mgw(g=0.1).p_sell_a == 100*(1.1)\n",
    "assert strategy.from_mgw(g=0.1).p_buy_b == strategy.from_mgw(g=0.1).p_buy_a\n",
    "assert strategy.from_mgw(g=0.1).p_sell_b == strategy.from_mgw(g=0.1).p_sell_a"
   ]
  },
  {
   "cell_type": "code",
   "execution_count": 43,
   "id": "48e433b5",
   "metadata": {},
   "outputs": [],
   "source": [
    "assert strategy.from_mgw(w=0.1).p_buy_a == strategy.from_mgw(w=0.1).p_sell_a\n",
    "assert strategy.from_mgw(w=0.1).p_buy_b == 100/1.1\n",
    "assert strategy.from_mgw(w=0.1).p_sell_b == 100*1.1"
   ]
  },
  {
   "cell_type": "code",
   "execution_count": 45,
   "id": "952b0271",
   "metadata": {},
   "outputs": [],
   "source": [
    "assert strategy.from_mgw().slashpair == \"RSK/CSH\"\n",
    "assert strategy.from_mgw(rsk=\"ETH\", csh=\"USD\").slashpair == \"ETH/USD\""
   ]
  },
  {
   "cell_type": "markdown",
   "id": "9cb8d1fd",
   "metadata": {},
   "source": [
    "## helpers pdread"
   ]
  },
  {
   "cell_type": "code",
   "execution_count": 10,
   "id": "5265901e",
   "metadata": {},
   "outputs": [],
   "source": [
    "# from carbon.helpers import pdread as _pdread\n",
    "# help(_pdread)"
   ]
  },
  {
   "cell_type": "code",
   "execution_count": 11,
   "id": "994841fe",
   "metadata": {},
   "outputs": [],
   "source": [
    "DATAFN = \"resources/data/RANPTH-05000-0000.pickle\"\n",
    "#DATAFN = \"../data/RANPTH-05000-0000.pickle\""
   ]
  },
  {
   "cell_type": "code",
   "execution_count": 12,
   "id": "f5869ab4",
   "metadata": {},
   "outputs": [],
   "source": [
    "assert len(pdread(DATAFN))==101\n",
    "assert pdread(DATAFN).iloc[0].index[5] == \"p0005\"\n",
    "assert str(pdread(DATAFN).index[0]) == '2020-01-01 00:00:00'\n",
    "assert len(pdread(DATAFN)[\"p0000\"]) == len(pdread(DATAFN))\n",
    "assert list(pdread(DATAFN)[\"p0000\"]) == list(pdread(DATAFN, \"p0000\"))"
   ]
  },
  {
   "cell_type": "code",
   "execution_count": 13,
   "id": "24136e93",
   "metadata": {},
   "outputs": [],
   "source": [
    "assert pathtime(pdread(DATAFN, \"p0000\")) == 1"
   ]
  },
  {
   "cell_type": "code",
   "execution_count": 14,
   "id": "aff79a37",
   "metadata": {},
   "outputs": [],
   "source": [
    "assert len(pdcols(DATAFN)) == 1000\n",
    "assert (pdcols(DATAFN) == pdread(DATAFN).columns).all() == True"
   ]
  },
  {
   "cell_type": "markdown",
   "id": "632b246c",
   "metadata": {},
   "source": [
    "## demo 7 3"
   ]
  },
  {
   "cell_type": "code",
   "execution_count": 15,
   "id": "50f5a260",
   "metadata": {},
   "outputs": [
    {
     "name": "stdout",
     "output_type": "stream",
     "text": [
      "Chose data id RANPTH-05000-0000\n"
     ]
    }
   ],
   "source": [
    "DATAID = \"RANPTH-05000-0000\"\n",
    "\n",
    "DATAPATH = \"resources/data\"\n",
    "#DATAPATH = \"../data\"           # uncomment to run this as Jupyter notebook\n",
    "\n",
    "DATAFN = j(DATAPATH, f\"{DATAID}.pickle\")\n",
    "print(f\"Chose data id {DATAID}\")"
   ]
  },
  {
   "cell_type": "code",
   "execution_count": 16,
   "id": "82dbf021",
   "metadata": {},
   "outputs": [],
   "source": [
    "strats = (\n",
    "    strategy.from_mgw(m=100, g=0.10, w=0.05, amt_rsk=1, amt_csh=0),\n",
    ")"
   ]
  },
  {
   "cell_type": "code",
   "execution_count": 17,
   "id": "ec016edc",
   "metadata": {
    "lines_to_next_cell": 2
   },
   "outputs": [
    {
     "data": {
      "image/png": "[encoded data removed]",
      "text/plain": [
       "<Figure size 864x432 with 2 Axes>"
      ]
     },
     "metadata": {},
     "output_type": "display_data"
    }
   ],
   "source": [
    "for colnm in [\"p0000\"]:\n",
    "    for ix, strat in enumerate(strats):\n",
    "    \n",
    "        path = pdread(DATAFN, colnm)\n",
    "        simresults = run_sim(strat, path)\n",
    "        if DATAPATH == \"../data\":\n",
    "            plot_sim(strat, path, simresults, f\"{DATAID} [{colnm}]\")\n",
    "            plt.show()"
   ]
  },
  {
   "cell_type": "code",
   "execution_count": 18,
   "id": "c26e6def",
   "metadata": {},
   "outputs": [],
   "source": [
    "assert simresults.rskamt_r[0] == 1\n",
    "assert round(simresults.rskamt_r[35] - 0.57736478, 5) == 0\n",
    "assert simresults.cshamt_r[0] == 0\n",
    "assert round(simresults.cshamt_r[36] - 112.7164584255556, 5) == 0\n",
    "assert round(simresults.value_r[4] - 98.135103, 5) == 0\n",
    "assert round(simresults.value_r[-1] - 109.973544, 5) == 0\n",
    "assert str(simresults.value_r.index[0]) == '2020-01-01 00:00:00'\n",
    "assert str(simresults.value_r.index[-1]) == '2020-12-31 06:00:00'"
   ]
  }
 ],
 "metadata": {
  "jupytext": {
   "formats": "ipynb,py:light",
   "text_representation": {
    "extension": ".py",
    "format_name": "light",
    "format_version": "1.5",
    "jupytext_version": "1.13.1"
   }
  },
  "kernelspec": {
   "display_name": "Python 3",
   "language": "python",
   "name": "python3"
  },
  "language_info": {
   "codemirror_mode": {
    "name": "ipython",
    "version": 3
   },
   "file_extension": ".py",
   "mimetype": "text/x-python",
   "name": "python",
   "nbconvert_exporter": "python",
   "pygments_lexer": "ipython3",
   "version": "3.8.8"
  }
 },
 "nbformat": 4,
 "nbformat_minor": 5
}
